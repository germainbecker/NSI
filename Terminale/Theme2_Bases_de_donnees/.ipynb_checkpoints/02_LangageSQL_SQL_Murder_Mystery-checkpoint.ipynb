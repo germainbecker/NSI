{
 "cells": [
  {
   "cell_type": "markdown",
   "id": "95a9d944",
   "metadata": {},
   "source": [
    "# SQL Murder Mystery\n",
    "---\n",
    "\n",
    "<p style=\"font-size:1.4em; text-align:center;\"><em>Can you find out whodunnit ?</em></p>\n",
    "\n",
    "<img src=\"data/sql_murder_mystery.png\" width=\"600\">"
   ]
  },
  {
   "cell_type": "markdown",
   "id": "952548f5",
   "metadata": {},
   "source": [
    "> Le projet **SQL Murder Mystery** a été créé par [Joon Park](https://twitter.com/joonparkmusic) et [Cathy He](https://twitter.com/Cathy_MeiyingHe) lors de leurs travaux au Knight Lab de l'université américaine Northwerstern University. Il a été adapté et dévéloppé pour le Web par [Joe Germuska](https://twitter.com/joegermuska) pour en faire un exercice en ligne permettant de travailler la langage SQL.\n",
    ">\n",
    "> Vous trouverez plus d'informations sur le [dépôt GitHub](https://github.com/NUKnightLab/sql-mysteries) du projet.\n",
    ">\n",
    "> Pour résoudre le meurtre, vous pouvez :\n",
    "> * le faire directement en ligne à l'adresse : [http://mystery.knightlab.com/](http://mystery.knightlab.com/)\n",
    "> * le faire en local (avec _DB Browser for SQLite_ par exemple) en utilisant la base de données `sql-murder-mystery.db` disponible dans l'archive accompagnant ce notebook (ou en la téléchargeant en [cliquant ici](https://github.com/NUKnightLab/sql-mysteries/raw/master/sql-murder-mystery.db) )"
   ]
  },
  {
   "cell_type": "markdown",
   "id": "5ed8e47c",
   "metadata": {},
   "source": [
    "## À vous de trouver le coupable !\n",
    "\n",
    "Voici l'énoncé original :\n",
    "\n",
    "> *A crime has taken place and the detective needs your help. The detective gave you the crime scene report, but you somehow lost it. You vaguely remember that the crime was a **murder** that occurred sometime on **Jan.15, 2018** and that it took place in **SQL City**. Start by retrieving the corresponding crime scene report from the police department’s database*."
   ]
  },
  {
   "cell_type": "markdown",
   "id": "a6382be3",
   "metadata": {},
   "source": [
    "Le schéma de la base de données est le suivant :\n",
    "\n",
    "![](data/schema_sql_murder_mystery_db.png)"
   ]
  },
  {
   "cell_type": "markdown",
   "id": "32ebc1d2",
   "metadata": {},
   "source": [
    "## ✍️ Travail demandé\n",
    "\n",
    "Vous rédigerez un rapport avec un traitement de texte dans lequel vous détaillerez les différentes étapes de votre investigation qui mènera je l'espère à l'identification du coupable :\n",
    "\n",
    "* les différentes idées\n",
    "* les requêtes effectuées\n",
    "* les résultats renvoyés par les requêtes et ce que vous en avez déduit\n",
    "\n",
    "> Vous pourrez \"copier-coller\" les requêtes effectuées et faire des captures d'écran des résultats renvoyés par les requêtes et les intégrer au rapport.\n",
    "\n",
    "**Bonne investigation !**"
   ]
  },
  {
   "cell_type": "markdown",
   "id": "368b0f60",
   "metadata": {},
   "source": [
    "---\n",
    "Si vous utilisez Jupyter Notebook, vous pouvez également rédiger le compte-rendu directement à la suite de ce notebook. Pour cela, il faudra \n",
    "\n",
    "* placer le fichier `sql-murder-mystery.db` dans le même répertoire que ce notebook\n",
    "* et exécuter les cellules suivantes afin de lancer des requêtes SQL directement dans le notebook (grâce au module `ipython-sql`)\n",
    "\n",
    "> **Attention** : il faudra faire précéder chaque requête SQL par la commande magique `%%sql` : un exemple est donné en-dessous."
   ]
  },
  {
   "cell_type": "code",
   "execution_count": null,
   "id": "164032cd",
   "metadata": {},
   "outputs": [],
   "source": [
    "pip install ipython-sql  # pour installer le module ipython-sql (si ce n'est pas déjà fait)"
   ]
  },
  {
   "cell_type": "code",
   "execution_count": null,
   "id": "9a53f785",
   "metadata": {},
   "outputs": [],
   "source": [
    "# pour faire la connection avec la base de données (peut prendre quelques secondes)\n",
    "%load_ext sql\n",
    "%sql sqlite:///sql-murder-mystery.db"
   ]
  },
  {
   "cell_type": "code",
   "execution_count": null,
   "id": "8e3f9a0d",
   "metadata": {},
   "outputs": [],
   "source": [
    "%%sql\n",
    "SELECT * \n",
    "FROM crime_scene_report;"
   ]
  },
  {
   "cell_type": "markdown",
   "id": "3cdb1af0",
   "metadata": {},
   "source": [
    "---\n",
    "Références :\n",
    "\n",
    "* Projet GitHub : [https://github.com/NUKnightLab/sql-mysteries](https://github.com/NUKnightLab/sql-mysteries)\n",
    "* Version Web : [http://mystery.knightlab.com/](http://mystery.knightlab.com/)\n",
    "* Crédits de l'image du détective de départ : [Vectors by Vecteezy](https://www.vecteezy.com/)\n",
    "\n",
    "---\n",
    "\n",
    "Germain Becker, Lycée Emmanuel Mounier, ANGERS. Licence [CC BY-SA 4.0](https://creativecommons.org/licenses/by-sa/4.0/) \n",
    "\n",
    "![Licence Creative Commons](https://i.creativecommons.org/l/by-sa/4.0/88x31.png)"
   ]
  },
  {
   "cell_type": "code",
   "execution_count": null,
   "id": "bdbba886",
   "metadata": {},
   "outputs": [],
   "source": []
  }
 ],
 "metadata": {
  "kernelspec": {
   "display_name": "Python 3",
   "language": "python",
   "name": "python3"
  },
  "language_info": {
   "codemirror_mode": {
    "name": "ipython",
    "version": 3
   },
   "file_extension": ".py",
   "mimetype": "text/x-python",
   "name": "python",
   "nbconvert_exporter": "python",
   "pygments_lexer": "ipython3",
   "version": "3.7.10"
  }
 },
 "nbformat": 4,
 "nbformat_minor": 5
}
