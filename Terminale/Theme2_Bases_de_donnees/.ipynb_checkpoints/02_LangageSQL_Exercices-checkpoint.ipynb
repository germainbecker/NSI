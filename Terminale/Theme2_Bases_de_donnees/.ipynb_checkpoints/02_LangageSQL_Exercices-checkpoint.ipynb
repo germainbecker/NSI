{
 "cells": [
  {
   "cell_type": "markdown",
   "id": "774de36a",
   "metadata": {},
   "source": [
    "<h1 style=\"font-size: 30px; text-align: center\">Langage SQL - EXERCICES</h1>\n",
    "\n",
    "---"
   ]
  },
  {
   "cell_type": "markdown",
   "id": "9c948095",
   "metadata": {},
   "source": [
    "- [Exercice 1](#Exercice-1-:-BDD-du-disquaire---Requêtes-portant-sur-une-table) : BDD du disquaire - Requêtes portant sur une table\n",
    "- [Exercice 2](#Exercice-2-:-BDD-du-disquaire---Requêtes-croisées) : BDD du disquaire - Requêtes croisées\n",
    "- [Exercice 3](#Exercice-3---Questions-interactives-en-ligne-avec-SQLZOO) : Question interactives en ligne avec SQLZOO\n",
    "- [Exercice 4](#Exercice-4---Modifier-une-table) : Modifier une table\n",
    "- [Exercice 5](#Exercice-5---Modification-de-la-base-du-disquaire) : Modification de la base du disquaire\n",
    "- [Exercice 6](#Exercice-6-:-Base-de-données-d'un-hôpital) : Base de données d'un hôpital\n",
    "- [Exercice 7](#Exercice-7---S'entraîner-en-ligne) : S'entraîner en ligne"
   ]
  },
  {
   "cell_type": "markdown",
   "id": "4085ff78",
   "metadata": {},
   "source": [
    "# Exercice 1 : BDD du disquaire - Requêtes portant sur une table\n",
    "\n",
    "<img class=\"centre image-responsive\" src=\"data/vinyl.svg\" alt=\"diagramme\" width=\"200\">\n",
    "\n",
    "L'objectif de cet exercice est de passer en revue la plupart des requêtes SQL d'interrogation portant sur _une seule table_.\n",
    "\n",
    "> On travaillera avec la base de données `disquaire.db` que vous trouverez dans l'archive de ce chapitre. Vous utiliserez le logiciel _DB Browser for SQLite_ ou le logiciel en ligne [sqliteonline.com](https://sqliteonline.com/) dans lesquels vous aurez au préalable ouvert la base de données en question."
   ]
  },
  {
   "cell_type": "markdown",
   "id": "78796d6f",
   "metadata": {},
   "source": [
    "On rappelle que cette base de données possède le schéma relationnel suivant :\n",
    "\n",
    "<pre style=\"padding-bottom:10px;\">\n",
    "    <code><em>Album</em>(<span style=\"padding-bottom:3px; border-bottom: 1px solid black;\"><em>id_album</em></span> INT, <em>titre</em> TEXT, <em>annee</em> INT, <em>dispo</em> BOOL)</code>\n",
    "\n",
    "    <code><em>Artiste</em>(<span style=\"padding-bottom:3px; border-bottom: 1px solid black;\"><em>id_artiste</em></span> INT, <em>nom</em> TEXT, <em>prenom</em> TEXT)</code>\n",
    "\n",
    "    <code><em>Artiste_de</em>(<span style=\"padding-bottom:3px; border-bottom: 1px solid black;\"><em>#id_artiste</em></span> INT, <span style=\"padding-bottom:3px; border-bottom: 1px solid black;\"><em>#id_album</em></span> INT)</code>\n",
    "\n",
    "    <code><em>Client</em>(<span style=\"padding-bottom:3px; border-bottom: 1px solid black;\"><em>id_client</em></span> INT, <em>nom</em> TEXT, <em>prenom</em> TEXT, <em>email</em> TEXT)</code>\n",
    "\n",
    "    <code><em>Emprunt</em>(<em>#id_client</em> INT, <span style=\"padding-bottom:3px; border-bottom: 1px solid black;\"><em>#id_album</em></span> INT, <em>jour</em> DATE)</code>\n",
    "</pre>"
   ]
  },
  {
   "cell_type": "markdown",
   "id": "61d1ab02",
   "metadata": {},
   "source": [
    "On peut aussi représenter graphiquement ce schéma par le diagramme suivant :\n",
    "\n",
    "<img class=\"centre image-responsive\" src=\"data/diagramme_bdd.png\" alt=\"diagramme\">\n",
    "\n",
    "<span class=\"image-licence\" style=\"display: block;text-align: center;font-size: 0.9em;color: #aaa;\">Réalisé avec l'application <a href=\"https://app.quickdatabasediagrams.com/#/d/bbXJBD\" target=\"_blank\">quickdatabasediagrams.com</a>\n",
    "</span>"
   ]
  },
  {
   "cell_type": "markdown",
   "id": "959e1426",
   "metadata": {},
   "source": [
    "## Sélectionner des colonnes\n",
    "\n",
    "**Q1** : Traduisez par une phrase la requête suivante. *Vérifiez __ensuite__ votre réponse en l'exécutant*.\n",
    "\n",
    "```sql\n",
    "SELECT * FROM Album;\n",
    "```"
   ]
  },
  {
   "cell_type": "markdown",
   "id": "b07dfcb2",
   "metadata": {},
   "source": [
    "*Réponse* : "
   ]
  },
  {
   "cell_type": "markdown",
   "id": "43dc70a5",
   "metadata": {},
   "source": [
    "**Q2** : Traduisez par une phrase la requête suivante. *Vérifiez __ensuite__ votre réponse en l'exécutant*.\n",
    "\n",
    "```sql\n",
    "SELECT titre, dispo FROM Album;\n",
    "```"
   ]
  },
  {
   "cell_type": "markdown",
   "id": "df701941",
   "metadata": {},
   "source": [
    "*Réponse* :"
   ]
  },
  {
   "cell_type": "markdown",
   "id": "dcc5fdfe",
   "metadata": {},
   "source": [
    "**Q3** : Écrivez et testez une requête permettant de récupérer uniquement les titres et l'année de sortie de chaque album."
   ]
  },
  {
   "cell_type": "markdown",
   "id": "f6dd0b54",
   "metadata": {},
   "source": [
    "*Réponse* : "
   ]
  },
  {
   "cell_type": "markdown",
   "id": "8c33f5be",
   "metadata": {},
   "source": [
    "**Q4** : Écrivez et testez une requête permettant de récupérer tous les attributs des clients."
   ]
  },
  {
   "cell_type": "markdown",
   "id": "24fd2e10",
   "metadata": {},
   "source": [
    "*Réponse* : \n"
   ]
  },
  {
   "cell_type": "markdown",
   "id": "3f90648f",
   "metadata": {},
   "source": [
    "**Q5** : Écrivez et testez une requête permettant de récupérer uniquement l'id_client, le nom et le prénom de chaque client."
   ]
  },
  {
   "cell_type": "markdown",
   "id": "a8389624",
   "metadata": {},
   "source": [
    "*Réponse* :"
   ]
  },
  {
   "cell_type": "markdown",
   "id": "b3ccfec1",
   "metadata": {},
   "source": [
    "**Q6** : Écrivez et testez une requête permettant de récupérer uniquement le nom et le prénom de chaque artiste."
   ]
  },
  {
   "cell_type": "markdown",
   "id": "9160ed39",
   "metadata": {},
   "source": [
    "*Réponse* :"
   ]
  },
  {
   "cell_type": "markdown",
   "id": "ff003a6a",
   "metadata": {},
   "source": [
    "## Sélectionner des lignes\n",
    "\n",
    "En plus de sélectionner des colonnes, on peut sélectionner certaines lignes en utilisant la clause `WHERE` suivie de la condition de sélection."
   ]
  },
  {
   "cell_type": "markdown",
   "id": "5632cbaf",
   "metadata": {},
   "source": [
    "**Q7** : Traduisez par une phrase la requête suivante. *Vérifiez __ensuite__ votre réponse en l'exécutant*.\n",
    "\n",
    "```sql\n",
    "SELECT titre FROM Album WHERE dispo=0;\n",
    "```"
   ]
  },
  {
   "cell_type": "markdown",
   "id": "2d92529f",
   "metadata": {},
   "source": [
    "*Réponse* :"
   ]
  },
  {
   "cell_type": "markdown",
   "id": "4f9cf540",
   "metadata": {},
   "source": [
    "**Q8** : Écrivez et testez une requête permettant de récupérer les titres de tous les albums sortis en 2000 ou après.<br>*Résultat attendu : 12 enregistrements*."
   ]
  },
  {
   "cell_type": "markdown",
   "id": "d28cdcde",
   "metadata": {},
   "source": [
    "*Réponse* : "
   ]
  },
  {
   "cell_type": "markdown",
   "id": "ac00f17a",
   "metadata": {},
   "source": [
    "**Q9** Écrivez et testez une requête permettant de récupérer tous les albums sortis en 1970.<br>*Résultat attendu : 3 enregistrements*."
   ]
  },
  {
   "cell_type": "markdown",
   "id": "33cb3011",
   "metadata": {},
   "source": [
    "*Réponse* :"
   ]
  },
  {
   "cell_type": "markdown",
   "id": "daede8c6",
   "metadata": {},
   "source": [
    "**Q10** : Écrivez et testez une requête permettant de récupérer les titres de tous les albums sortis avant 1950 ou après 2010.\n",
    "<br>*Résultat attendu : 6 enregistrements*."
   ]
  },
  {
   "cell_type": "markdown",
   "id": "7ec9756c",
   "metadata": {},
   "source": [
    "*Réponse* :"
   ]
  },
  {
   "cell_type": "markdown",
   "id": "7e20238b",
   "metadata": {},
   "source": [
    "**Q11** : Écrivez et testez une requête permettant de récupérer tous les albums disponibles et sortis avant 1990.\n",
    "<br>*Résultat attendu : 13 enregistrements*."
   ]
  },
  {
   "cell_type": "markdown",
   "id": "9863ec92",
   "metadata": {},
   "source": [
    "*Réponse* :"
   ]
  },
  {
   "cell_type": "markdown",
   "id": "b1da0bf3",
   "metadata": {},
   "source": [
    "**Q12** : Écrivez et testez une requête permettant de récupérer tous les clients dont le nom de famille est \"Petit\".\n",
    "<br>*Résultat attendu : 2 enregistrements*."
   ]
  },
  {
   "cell_type": "markdown",
   "id": "f69bc239",
   "metadata": {},
   "source": [
    "*Réponse*:"
   ]
  },
  {
   "cell_type": "markdown",
   "id": "7e30ec12",
   "metadata": {},
   "source": [
    "**Q13** : Écrivez et testez une requête permettant de récupérer tous les clients dont le nom de famille est \"Sakkal\".\n",
    "<br>*Résultat attendu : 0 enregistrements*."
   ]
  },
  {
   "cell_type": "markdown",
   "id": "ce66c402",
   "metadata": {},
   "source": [
    "*Réponse*:"
   ]
  },
  {
   "cell_type": "markdown",
   "id": "c72a4fdd",
   "metadata": {},
   "source": [
    "**Q14** : Écrivez et testez une requête permettant de récupérer les noms des artistes ne possédant pas de prénom.\n",
    "<br>*Résultat attendu : 6 enregistrements*.\n",
    "\n",
    "> <span style=\"font-size:1.6em\">🆘</span> Lisez cette page pour savoir comment tester si une valeur est absente avec SQLite : [https://sql.sh/cours/where/is)"
   ]
  },
  {
   "cell_type": "markdown",
   "id": "7ef4ef3d",
   "metadata": {},
   "source": [
    "*Réponse* :"
   ]
  },
  {
   "cell_type": "markdown",
   "id": "b16cff9e",
   "metadata": {},
   "source": [
    "## Trier des données\n",
    "\n",
    "On peut trier des données en utilisant `ORDER BY` à la fin d'une requête, suivi de l'attribut à trier et de `ASC` (pour un tri croissant) ou `DESC` (pour un tri décroissant)."
   ]
  },
  {
   "cell_type": "markdown",
   "id": "02eb2890",
   "metadata": {},
   "source": [
    "**Q15** : Traduisez par une phrase la requête suivante. *Vérifiez __ensuite__ votre réponse en l'exécutant*.\n",
    "\n",
    "```sql\n",
    "SELECT * FROM Artiste ORDER BY nom ASC;\n",
    "```"
   ]
  },
  {
   "cell_type": "markdown",
   "id": "2c6fdb53",
   "metadata": {},
   "source": [
    "*Réponse* :"
   ]
  },
  {
   "cell_type": "markdown",
   "id": "e8d019e9",
   "metadata": {},
   "source": [
    "**Q16** : Écrivez et testez une requête permettant de récupérer les albums triés dans l'ordre décroissant de leur année de sortie."
   ]
  },
  {
   "cell_type": "markdown",
   "id": "83650258",
   "metadata": {},
   "source": [
    "*Réponse* :"
   ]
  },
  {
   "cell_type": "markdown",
   "id": "52a8de64",
   "metadata": {},
   "source": [
    "**Q17** : Écrivez et testez une requête permettant de récupérer les titres par ordre alphabétique des albums sortis entre 1980 et 2010.\n",
    "<br>*Résultat attendu : 10 enregistrements*."
   ]
  },
  {
   "cell_type": "markdown",
   "id": "2c827b58",
   "metadata": {},
   "source": [
    "*Réponse* :\n",
    "\n",
    "<br><br><br><br><br>"
   ]
  },
  {
   "cell_type": "markdown",
   "id": "d664952f",
   "metadata": {},
   "source": [
    "**Q18** : Écrivez et testez une requête permettant de récupérer les noms et prénoms de tous les clients, triés par ordre alphabétique des noms."
   ]
  },
  {
   "cell_type": "markdown",
   "id": "9757b2cf",
   "metadata": {},
   "source": [
    "*Réponse* :\n",
    "\n",
    "<br><br><br><br><br>"
   ]
  },
  {
   "cell_type": "markdown",
   "id": "6d5aaf94",
   "metadata": {},
   "source": [
    "**Q19** : Écrivez et testez une requête permettant de récupérer les noms et prénoms de tous les clients, triés par ordre alphabétique des noms, puis des prénoms en cas de noms identiques.\n",
    "<br>*Vous vérifierez bien que les clients portant le même nom sont bien triés alphabétiquement selon leur prénom (ce qui n'était pas le cas de la précédente requête).*\n",
    "\n",
    "> <span style=\"font-size:1.6em\">🆘</span> On peut trier des données selon plusieurs attributs en les écrivant après `ORDER BY` dans l'ordre souhaité et en les séparant par des virgules."
   ]
  },
  {
   "cell_type": "markdown",
   "id": "c7b8bb69",
   "metadata": {},
   "source": [
    "*Réponse* :\n",
    "\n",
    "<br><br><br><br><br>"
   ]
  },
  {
   "cell_type": "markdown",
   "id": "b5cbc604",
   "metadata": {},
   "source": [
    "## Supprimer les doublons grâce à `DISTINCT`\n",
    "\n",
    "On peut supprimer les doublons grâce à `DISTINCT`."
   ]
  },
  {
   "cell_type": "markdown",
   "id": "ef6af447",
   "metadata": {},
   "source": [
    "**Q20** : Traduisez par une phrase la requête suivante. *Vérifiez __ensuite__ votre réponse en l'exécutant*.\n",
    "\n",
    "```sql\n",
    "SELECT DISTINCT id_client FROM Emprunt;\n",
    "```"
   ]
  },
  {
   "cell_type": "markdown",
   "id": "6933bb37",
   "metadata": {},
   "source": [
    "*Réponse* :"
   ]
  },
  {
   "cell_type": "markdown",
   "id": "36f05bdb",
   "metadata": {},
   "source": [
    "**Q21** : Écrivez et testez une requête permettant de récupérer les titres distincts des albums.\n",
    "<br>*Résultat attendu : 29 enregistrements (car un album était en double).*"
   ]
  },
  {
   "cell_type": "markdown",
   "id": "1867fff6",
   "metadata": {},
   "source": [
    "*Réponse* :\n",
    "\n",
    "<br><br><br>"
   ]
  },
  {
   "cell_type": "markdown",
   "id": "04a41cba",
   "metadata": {},
   "source": [
    "## Compter les enregistrements\n",
    "\n",
    "On peut compter le nombre d'enregistrements (ou tuples) en utilisant la fonction `COUNT()`."
   ]
  },
  {
   "cell_type": "markdown",
   "id": "1d24d2eb",
   "metadata": {},
   "source": [
    "**Q22** : Traduisez par une phrase la requête suivante. *Vérifiez __ensuite__ votre réponse en l'exécutant*.\n",
    "\n",
    "```sql\n",
    "SELECT COUNT(*) AS nbClients FROM Client;\n",
    "```\n",
    "\n",
    "> On rappelle que `AS` permet de nommer le résultat de la requête, ici on le nomme `nbClients`. Essayez d'enlever le `AS nbClients` et observez le résultat de la requête."
   ]
  },
  {
   "cell_type": "markdown",
   "id": "7be6bb0e",
   "metadata": {},
   "source": [
    "*Réponse* :"
   ]
  },
  {
   "cell_type": "markdown",
   "id": "388cf57d",
   "metadata": {},
   "source": [
    "**Q23** : Écrivez et testez une requête permettant de récupérer le nombre d'emprunts en cours, que l'on notera `nbEmprunts`.\n",
    "<br>*Résultat attendu : 11*."
   ]
  },
  {
   "cell_type": "markdown",
   "id": "6c2a47ec",
   "metadata": {},
   "source": [
    "*Réponse* :"
   ]
  },
  {
   "cell_type": "markdown",
   "id": "c6eb6356",
   "metadata": {},
   "source": [
    "**Q24** : Écrivez et testez une requête permettant de récupérer le nombre de clients ayant le nom \"Petit\", que l'on notera `nbPetit`.\n",
    "<br>*Résultat attendu : 2*."
   ]
  },
  {
   "cell_type": "markdown",
   "id": "8ab4f804",
   "metadata": {},
   "source": [
    "*Réponse* :"
   ]
  },
  {
   "cell_type": "markdown",
   "id": "357a6ef4",
   "metadata": {},
   "source": [
    "**Q25** : Écrivez et testez une requête permettant de récupérer le nombre de titres différents d'albums, que l'on notera `nbAlbumsDistincts`.\n",
    "<br>*Résultat attendu : 29*.\n",
    "\n",
    "> <span style=\"font-size:1.6em\">🆘</span> Vous lirez la page suivant pour savoir comment faire : [https://sql.sh/fonctions/agregation/count](https://sql.sh/fonctions/agregation/count)."
   ]
  },
  {
   "cell_type": "markdown",
   "id": "fb2ea426",
   "metadata": {},
   "source": [
    "*Réponse* :"
   ]
  },
  {
   "cell_type": "markdown",
   "id": "92335046",
   "metadata": {},
   "source": [
    "## Recherche par motif\n",
    "\n",
    "On peut effectuer des requêtes effectuant des recherches de certains motifs.\n",
    "\n",
    "Par exemple, on peut chercher tous les clients dont l'adresse email contient le domaine \"domaine.net\". La requête s'écrirait :\n",
    "\n",
    "```sql\n",
    "SELECT * FROM Client WHERE email LIKE \"%domaine.net%\";\n",
    "```\n",
    "\n",
    "**Analyse** :\n",
    "\n",
    "* On a remplacé le `=` qui fait une recherche exacte par `LIKE`. Ainsi, `email LIKE \"%domaine.net%\"` est évaluée à vrai si et seulement si l'attribut `email` correspond au motif `\"%domaine.net%\"`.\n",
    "* Dans un motif le symbole `%` est un _joker_ et peut être substitué par n'importe quelle chaîne de caractères."
   ]
  },
  {
   "cell_type": "markdown",
   "id": "1f49632d",
   "metadata": {},
   "source": [
    "**Q26** : Écrivez et testez une requête permettant de récupérer les titres de tous les albums contenant le mot `\"Love\"`.\n",
    "<br>*Résultat attendu : 2 enregistrements*."
   ]
  },
  {
   "cell_type": "markdown",
   "id": "6e0f5dd5",
   "metadata": {},
   "source": [
    "*Réponse* :\n",
    "\n",
    "<br><br><br>"
   ]
  },
  {
   "cell_type": "markdown",
   "id": "530bdcad",
   "metadata": {},
   "source": [
    "**Q27** : Écrivez et testez une requête permettant de récupérer le nombre d'albums dont le titre contient la lettre `\"a\"`.\n",
    "<br>*Résultat attendu : 11 enregistrements*."
   ]
  },
  {
   "cell_type": "markdown",
   "id": "30a7ac9a",
   "metadata": {},
   "source": [
    "*Réponse* :\n",
    "\n",
    "<br><br><br>"
   ]
  },
  {
   "cell_type": "markdown",
   "id": "c2c3d6f5",
   "metadata": {},
   "source": [
    "**Q28** : Écrivez et testez une requête permettant de récupérer les noms et prénoms de tous les artistes _commençant_ par la lettre `\"M\"`.\n",
    "<br>*Résultat attendu : 3 enregistrements*."
   ]
  },
  {
   "cell_type": "markdown",
   "id": "ae9bf5c9",
   "metadata": {},
   "source": [
    "*Réponse* :\n",
    "\n",
    "<br><br><br>"
   ]
  },
  {
   "cell_type": "markdown",
   "id": "a7512905",
   "metadata": {},
   "source": [
    "# Exercice 2 : BDD du disquaire - Requêtes croisées\n",
    "\n",
    "<img class=\"centre image-responsive\" src=\"data/vinyl.svg\" alt=\"diagramme\" width=\"200\">\n",
    "\n",
    "> On travaillera toujours avec la base de données `disquaire.db` que vous trouverez dans l'archive de ce chapitre. Vous utiliserez le logiciel _DB Browser for SQLite_ ou le logiciel en ligne [sqliteonline.com](https://sqliteonline.com/) dans lesquels vous aurez au préalable ouvert la base de données en question.\n",
    "\n",
    "L'exercice précédent portait sur des requêtes ne portant à chaque fois que sur une seule table. C'est malheureusement insuffisant pour chercher certaines informations qui nécessitent de croiser plusieurs tables."
   ]
  },
  {
   "cell_type": "markdown",
   "id": "c3857926",
   "metadata": {},
   "source": [
    "## Introduction\n",
    "\n",
    "> On présente dans cette introdution la notion de **jointure** qui permet de croiser plusieurs tables. Prenez le temps de lire attentivement cette partie, de tester les requêtes proposées, de les modifier, etc. pour bien comprendre cette notion fondamentale des bases de données relationnelles.\n",
    "\n",
    "Imaginons que l'on veuille connaître les clients ayant des emprunts en cours. Ces derniers sont ceux présents dans la table `Emprunt` et on peut les obtenir avec la requête\n",
    "\n",
    "```sql\n",
    "SELECT * FROM Emprunt;\n",
    "```\n",
    "\n",
    "qui produit la réponse suivante :"
   ]
  },
  {
   "cell_type": "markdown",
   "id": "40c6db38",
   "metadata": {},
   "source": [
    "<table>\n",
    "    <tbody><tr>\n",
    "        <th>id_client</th>\n",
    "        <th>id_album</th>\n",
    "        <th>jour</th>\n",
    "    </tr>\n",
    "    <tr>\n",
    "        <td>1</td>\n",
    "        <td>5</td>\n",
    "        <td>2021-09-10</td>\n",
    "    </tr>\n",
    "    <tr>\n",
    "        <td>3</td>\n",
    "        <td>8</td>\n",
    "        <td>2021-08-18</td>\n",
    "    </tr>\n",
    "    <tr>\n",
    "        <td>3</td>\n",
    "        <td>24</td>\n",
    "        <td>2021-08-18</td>\n",
    "    </tr>\n",
    "    <tr>\n",
    "        <td>5</td>\n",
    "        <td>25</td>\n",
    "        <td>2021-09-12</td>\n",
    "    </tr>\n",
    "    <tr>\n",
    "        <td>5</td>\n",
    "        <td>6</td>\n",
    "        <td>2021-10-10</td>\n",
    "    </tr>\n",
    "    <tr>\n",
    "        <td>9</td>\n",
    "        <td>20</td>\n",
    "        <td>2021-09-28</td>\n",
    "    </tr>\n",
    "    <tr>\n",
    "        <td>11</td>\n",
    "        <td>14</td>\n",
    "        <td>2021-10-08</td>\n",
    "    </tr>\n",
    "    <tr>\n",
    "        <td>7</td>\n",
    "        <td>15</td>\n",
    "        <td>2021-10-08</td>\n",
    "    </tr>\n",
    "    <tr>\n",
    "        <td>7</td>\n",
    "        <td>19</td>\n",
    "        <td>2021-10-08</td>\n",
    "    </tr>\n",
    "    <tr>\n",
    "        <td>7</td>\n",
    "        <td>16</td>\n",
    "        <td>2021-10-15</td>\n",
    "    </tr>\n",
    "    <tr>\n",
    "        <td>16</td>\n",
    "        <td>29</td>\n",
    "        <td>2021-10-01</td>\n",
    "    </tr>\n",
    "</tbody></table>"
   ]
  },
  {
   "cell_type": "markdown",
   "id": "bc90da9c",
   "metadata": {},
   "source": [
    "Mais ce n'est pas très satisfaisant car on aimerait plutôt afficher les noms, prénoms et adresse email de ces clients plutot que `id_client`.\n",
    "\n",
    "Le problème est que les noms, prénoms, adresses email sont uniquement présents dans la table `Client`. Il est nécessaire de faire **une jointure** entre les deux tables `Emprunt` et `Client`.\n",
    "\n",
    "### Première jointure\n",
    "\n",
    "Une jointure consiste à créer toutes les combinaisons de lignes des deux tables ayant un attribut de même valeur (l'attribut `id_client` dans notre exemple). Pour effectuer une jointure, on utilise `JOIN` !"
   ]
  },
  {
   "cell_type": "markdown",
   "id": "6c40bc02",
   "metadata": {},
   "source": [
    "Ainsi, la requête\n",
    "\n",
    "```sql\n",
    "SELECT *\n",
    "FROM Emprunt\n",
    "JOIN Client ON Emprunt.id_client = Client.id_client;\n",
    "```\n",
    "\n",
    "crée la jointure des deux tables `Emprunt` et `Client`, représentée ci-dessous."
   ]
  },
  {
   "cell_type": "markdown",
   "id": "ab735e9a",
   "metadata": {},
   "source": [
    "<table>\n",
    "    <tbody><tr>\n",
    "        <th>id_client</th>\n",
    "        <th>id_album</th>\n",
    "        <th>jour</th>\n",
    "        <th>id_client_1</th>\n",
    "        <th>nom</th>\n",
    "        <th>prenom</th>\n",
    "        <th>email</th>\n",
    "    </tr>\n",
    "    <tr>\n",
    "        <td>1</td>\n",
    "        <td>5</td>\n",
    "        <td>2021-09-10</td>\n",
    "        <td>1</td>\n",
    "        <td>Dupont</td>\n",
    "        <td>Florine</td>\n",
    "        <td>dupont.florine@domaine.net</td>\n",
    "    </tr>\n",
    "    <tr>\n",
    "        <td>3</td>\n",
    "        <td>8</td>\n",
    "        <td>2021-08-18</td>\n",
    "        <td>3</td>\n",
    "        <td>Marchand</td>\n",
    "        <td>Grégoire</td>\n",
    "        <td>greg.marchand49@music.com</td>\n",
    "    </tr>\n",
    "    <tr>\n",
    "        <td>3</td>\n",
    "        <td>24</td>\n",
    "        <td>2021-08-18</td>\n",
    "        <td>3</td>\n",
    "        <td>Marchand</td>\n",
    "        <td>Grégoire</td>\n",
    "        <td>greg.marchand49@music.com</td>\n",
    "    </tr>\n",
    "    <tr>\n",
    "        <td>5</td>\n",
    "        <td>25</td>\n",
    "        <td>2021-09-12</td>\n",
    "        <td>5</td>\n",
    "        <td>Pacot</td>\n",
    "        <td>Jean</td>\n",
    "        <td>jpacot@music.com</td>\n",
    "    </tr>\n",
    "    <tr>\n",
    "        <td>5</td>\n",
    "        <td>6</td>\n",
    "        <td>2021-10-10</td>\n",
    "        <td>5</td>\n",
    "        <td>Pacot</td>\n",
    "        <td>Jean</td>\n",
    "        <td>jpacot@music.com</td>\n",
    "    </tr>\n",
    "    <tr>\n",
    "        <td>9</td>\n",
    "        <td>20</td>\n",
    "        <td>2021-09-28</td>\n",
    "        <td>9</td>\n",
    "        <td>Dubois</td>\n",
    "        <td>Philippe</td>\n",
    "        <td>pdubois5@chezmoi.net</td>\n",
    "    </tr>\n",
    "    <tr>\n",
    "        <td>11</td>\n",
    "        <td>14</td>\n",
    "        <td>2021-10-08</td>\n",
    "        <td>11</td>\n",
    "        <td>Fournier</td>\n",
    "        <td>Marie</td>\n",
    "        <td>mfournier@abc.de</td>\n",
    "    </tr>\n",
    "    <tr>\n",
    "        <td>7</td>\n",
    "        <td>15</td>\n",
    "        <td>2021-10-08</td>\n",
    "        <td>7</td>\n",
    "        <td>Moreau</td>\n",
    "        <td>Alain</td>\n",
    "        <td>amoreau1@abc.de</td>\n",
    "    </tr>\n",
    "    <tr>\n",
    "        <td>7</td>\n",
    "        <td>19</td>\n",
    "        <td>2021-10-08</td>\n",
    "        <td>7</td>\n",
    "        <td>Moreau</td>\n",
    "        <td>Alain</td>\n",
    "        <td>amoreau1@abc.de</td>\n",
    "    </tr>\n",
    "    <tr>\n",
    "        <td>7</td>\n",
    "        <td>16</td>\n",
    "        <td>2021-10-15</td>\n",
    "        <td>7</td>\n",
    "        <td>Moreau</td>\n",
    "        <td>Alain</td>\n",
    "        <td>amoreau1@abc.de</td>\n",
    "    </tr>\n",
    "    <tr>\n",
    "        <td>16</td>\n",
    "        <td>29</td>\n",
    "        <td>2021-10-01</td>\n",
    "        <td>16</td>\n",
    "        <td>Bernardin</td>\n",
    "        <td>Stéphanie</td>\n",
    "        <td>sbernard1@chezmoi.net</td>\n",
    "    </tr>\n",
    "</tbody></table>"
   ]
  },
  {
   "cell_type": "markdown",
   "id": "d3fb85fa",
   "metadata": {},
   "source": [
    "**Analyse** :\n",
    "\n",
    "* La jointure (`SELECT * FROM Emprunt JOIN Client`) a permis de recopier toutes les colonnes des deux tables.\n",
    "* Le choix des lignes à conserver, appelée _condition de jointure_, suit le mot clé `ON`. Cela permet de fusionner uniquement les lignes vérifiant la condition `Emprunt.id_client = Client.id_client`, autrement dit les lignes pour lesquelle l'attribut `id_client` est identique donc celles concernant un même client.\n",
    "> Essayez d'enlever le `ON ...`, vous constaterez que toutes les lignes sont fusionnées, ce qui est absurde car une même ligne peut alors correspondre à deux clients distincts.\n",
    "* Vous avez constaté que l'on a préfixé chaque attribut par le nom de la table auquel il appartient. Cela permet de faire la différence entre deux attributs portant le même nom dans deux tables différentes, et c'est une bonne pratique de toujours le faire même lorsqu'il n'y a pas d'ambiguïté.\n"
   ]
  },
  {
   "cell_type": "markdown",
   "id": "61c3ae43",
   "metadata": {},
   "source": [
    "<blockquote class=\"information\">\n",
    "    <p>Ce sont les clés étrangères qui permettent de faire le lien entre les tables, il est donc normal que la condition de jointure fasse intervenir <code>id_client</code> (puisque c'est une clé étrangère de la table <code>Emprunt</code> qui la lie à la table <code>Client</code>).</p>\n",
    "</blockquote>"
   ]
  },
  {
   "cell_type": "markdown",
   "id": "111e6a80",
   "metadata": {},
   "source": [
    "On peut combiner une jointure avec la clause `SELECT` pour n'afficher que ce qui nous intéresse. Par exemple, si on ne veut que les noms, prénoms et adresses email des clients ayant des emprunts en cours ainsi que les albums empruntés, on peut faire la requête\n",
    "\n",
    "```sql\n",
    "SELECT Emprunt.id_album, Client.nom, Client.prenom, Client.email\n",
    "FROM Emprunt\n",
    "JOIN Client ON Emprunt.id_client = Client.id_client;\n",
    "```\n",
    "\n",
    "qui produit le résultat"
   ]
  },
  {
   "cell_type": "markdown",
   "id": "929f0e8a",
   "metadata": {},
   "source": [
    "<table>\n",
    "    <tbody><tr>\n",
    "        <th>id_album</th>\n",
    "        <th>jour</th>\n",
    "        <th>nom</th>\n",
    "        <th>prenom</th>\n",
    "        <th>email</th>\n",
    "    </tr>\n",
    "    <tr>\n",
    "        <td>5</td>\n",
    "        <td>2021-09-10</td>\n",
    "        <td>Dupont</td>\n",
    "        <td>Florine</td>\n",
    "        <td>dupont.florine@domaine.net</td>\n",
    "    </tr>\n",
    "    <tr>\n",
    "        <td>8</td>\n",
    "        <td>2021-08-18</td>\n",
    "        <td>Marchand</td>\n",
    "        <td>Grégoire</td>\n",
    "        <td>greg.marchand49@music.com</td>\n",
    "    </tr>\n",
    "    <tr>\n",
    "        <td>24</td>\n",
    "        <td>2021-08-18</td>\n",
    "        <td>Marchand</td>\n",
    "        <td>Grégoire</td>\n",
    "        <td>greg.marchand49@music.com</td>\n",
    "    </tr>\n",
    "    <tr>\n",
    "        <td>25</td>\n",
    "        <td>2021-09-12</td>\n",
    "        <td>Pacot</td>\n",
    "        <td>Jean</td>\n",
    "        <td>jpacot@music.com</td>\n",
    "    </tr>\n",
    "    <tr>\n",
    "        <td>6</td>\n",
    "        <td>2021-10-10</td>\n",
    "        <td>Pacot</td>\n",
    "        <td>Jean</td>\n",
    "        <td>jpacot@music.com</td>\n",
    "    </tr>\n",
    "    <tr>\n",
    "        <td>20</td>\n",
    "        <td>2021-09-28</td>\n",
    "        <td>Dubois</td>\n",
    "        <td>Philippe</td>\n",
    "        <td>pdubois5@chezmoi.net</td>\n",
    "    </tr>\n",
    "    <tr>\n",
    "        <td>14</td>\n",
    "        <td>2021-10-08</td>\n",
    "        <td>Fournier</td>\n",
    "        <td>Marie</td>\n",
    "        <td>mfournier@abc.de</td>\n",
    "    </tr>\n",
    "    <tr>\n",
    "        <td>15</td>\n",
    "        <td>2021-10-08</td>\n",
    "        <td>Moreau</td>\n",
    "        <td>Alain</td>\n",
    "        <td>amoreau1@abc.de</td>\n",
    "    </tr>\n",
    "    <tr>\n",
    "        <td>19</td>\n",
    "        <td>2021-10-08</td>\n",
    "        <td>Moreau</td>\n",
    "        <td>Alain</td>\n",
    "        <td>amoreau1@abc.de</td>\n",
    "    </tr>\n",
    "    <tr>\n",
    "        <td>16</td>\n",
    "        <td>2021-10-15</td>\n",
    "        <td>Moreau</td>\n",
    "        <td>Alain</td>\n",
    "        <td>amoreau1@abc.de</td>\n",
    "    </tr>\n",
    "    <tr>\n",
    "        <td>29</td>\n",
    "        <td>2021-10-01</td>\n",
    "        <td>Bernardin</td>\n",
    "        <td>Stéphanie</td>\n",
    "        <td>sbernard1@chezmoi.net</td>\n",
    "    </tr>\n",
    "</tbody></table>"
   ]
  },
  {
   "cell_type": "markdown",
   "id": "058175a6",
   "metadata": {},
   "source": [
    "### Combiner les jointures\n",
    "\n",
    "Plutôt que d'affichier l'`id_album`, qui est peu lisible, on peut préférer afficher le titre de l'album. Pour cela, on peut faire une nouvelle jointure :\n",
    "\n",
    "```sql\n",
    "SELECT Album.titre, Emprunt.jour, Client.nom, Client.prenom, Client.email\n",
    "FROM Emprunt\n",
    "JOIN Client ON Emprunt.id_client = Client.id_client\n",
    "JOIN Album ON Emprunt.id_album = Album.id_album;\n",
    "```\n",
    "\n",
    "**Analyse** : On a ajouté la dernière ligne qui permet de faire une jointure sur l'attribut `id_album` entre la table produite par la requête précédente et la table `Album`. Et on a remplacé la première colonne `Emprunt.id_album` par `Album.titre` pour faire apparaître les titres des albums comme souhaité :"
   ]
  },
  {
   "cell_type": "markdown",
   "id": "48289200",
   "metadata": {},
   "source": [
    "<table>\n",
    "    <tbody><tr>\n",
    "        <th>titre</th>\n",
    "        <th>jour</th>\n",
    "        <th>nom</th>\n",
    "        <th>prenom</th>\n",
    "        <th>email</th>\n",
    "    </tr>\n",
    "    <tr>\n",
    "        <td>Axis : Bold As Love</td>\n",
    "        <td>2021-09-10</td>\n",
    "        <td>Dupont</td>\n",
    "        <td>Florine</td>\n",
    "        <td>dupont.florine@domaine.net</td>\n",
    "    </tr>\n",
    "    <tr>\n",
    "        <td>Riding With The King</td>\n",
    "        <td>2021-08-18</td>\n",
    "        <td>Marchand</td>\n",
    "        <td>Grégoire</td>\n",
    "        <td>greg.marchand49@music.com</td>\n",
    "    </tr>\n",
    "    <tr>\n",
    "        <td>Continuum</td>\n",
    "        <td>2021-08-18</td>\n",
    "        <td>Marchand</td>\n",
    "        <td>Grégoire</td>\n",
    "        <td>greg.marchand49@music.com</td>\n",
    "    </tr>\n",
    "    <tr>\n",
    "        <td>Continuum</td>\n",
    "        <td>2021-09-12</td>\n",
    "        <td>Pacot</td>\n",
    "        <td>Jean</td>\n",
    "        <td>jpacot@music.com</td>\n",
    "    </tr>\n",
    "    <tr>\n",
    "        <td>Thriller</td>\n",
    "        <td>2021-10-10</td>\n",
    "        <td>Pacot</td>\n",
    "        <td>Jean</td>\n",
    "        <td>jpacot@music.com</td>\n",
    "    </tr>\n",
    "    <tr>\n",
    "        <td>Power Up</td>\n",
    "        <td>2021-09-28</td>\n",
    "        <td>Dubois</td>\n",
    "        <td>Philippe</td>\n",
    "        <td>pdubois5@chezmoi.net</td>\n",
    "    </tr>\n",
    "    <tr>\n",
    "        <td>Let It Be</td>\n",
    "        <td>2021-10-08</td>\n",
    "        <td>Fournier</td>\n",
    "        <td>Marie</td>\n",
    "        <td>mfournier@abc.de</td>\n",
    "    </tr>\n",
    "    <tr>\n",
    "        <td>44/876</td>\n",
    "        <td>2021-10-08</td>\n",
    "        <td>Moreau</td>\n",
    "        <td>Alain</td>\n",
    "        <td>amoreau1@abc.de</td>\n",
    "    </tr>\n",
    "    <tr>\n",
    "        <td>Songs in the Key of Life</td>\n",
    "        <td>2021-10-08</td>\n",
    "        <td>Moreau</td>\n",
    "        <td>Alain</td>\n",
    "        <td>amoreau1@abc.de</td>\n",
    "    </tr>\n",
    "    <tr>\n",
    "        <td>Lady Soul</td>\n",
    "        <td>2021-10-15</td>\n",
    "        <td>Moreau</td>\n",
    "        <td>Alain</td>\n",
    "        <td>amoreau1@abc.de</td>\n",
    "    </tr>\n",
    "    <tr>\n",
    "        <td>Leave the Light On</td>\n",
    "        <td>2021-10-01</td>\n",
    "        <td>Bernardin</td>\n",
    "        <td>Stéphanie</td>\n",
    "        <td>sbernard1@chezmoi.net</td>\n",
    "    </tr>\n",
    "</tbody></table>"
   ]
  },
  {
   "cell_type": "markdown",
   "id": "a13eda50",
   "metadata": {},
   "source": [
    "On peut combiner tout ce qui a été vu précédemment (dans l'exercice 1 par exemple) avec les jointures, on peut par exemple ajouter des conditions. La requête\n",
    "\n",
    "```sql\n",
    "SELECT Album.titre, Client.nom, Client.prenom, Client.email\n",
    "FROM Emprunt\n",
    "JOIN Client ON Emprunt.id_client = Client.id_client\n",
    "JOIN Album ON Emprunt.id_album = Album.id_album\n",
    "WHERE Client.nom = \"Moreau\";\n",
    "```\n",
    "\n",
    "produit le résultat"
   ]
  },
  {
   "cell_type": "markdown",
   "id": "87f4c6b8",
   "metadata": {},
   "source": [
    "<table>\n",
    "    <tbody><tr>\n",
    "        <th>titre</th>\n",
    "        <th>nom</th>\n",
    "        <th>prenom</th>\n",
    "        <th>email</th>\n",
    "    </tr>\n",
    "    <tr>\n",
    "        <td>44/876</td>\n",
    "        <td>Moreau</td>\n",
    "        <td>Alain</td>\n",
    "        <td>amoreau1@abc.de</td>\n",
    "    </tr>\n",
    "    <tr>\n",
    "        <td>Lady Soul</td>\n",
    "        <td>Moreau</td>\n",
    "        <td>Alain</td>\n",
    "        <td>amoreau1@abc.de</td>\n",
    "    </tr>\n",
    "    <tr>\n",
    "        <td>Songs in the Key of Life</td>\n",
    "        <td>Moreau</td>\n",
    "        <td>Alain</td>\n",
    "        <td>amoreau1@abc.de</td>\n",
    "    </tr>\n",
    "</tbody></table>"
   ]
  },
  {
   "cell_type": "markdown",
   "id": "fac65b0f",
   "metadata": {},
   "source": [
    "### Utiliser des alias\n",
    "\n",
    "Certaines requêtes peuvent commencer à être assez longues à écrire. Pour réduire leur longueur on peut utiliser des *alias* pour les noms de table grâce au mot clé `AS`.\n",
    "\n",
    "Ainsi, la requête précédente peut aussi s'écrire\n",
    "\n",
    "```sql\n",
    "SELECT a.titre, c.nom, c.prenom, c.email\n",
    "FROM Emprunt AS e\n",
    "JOIN Client AS c ON e.id_client = c.id_client\n",
    "JOIN Album AS a ON e.id_album = a.id_album\n",
    "WHERE c.nom = \"Moreau\";\n",
    "```\n",
    "\n",
    "**Analyse** : `Emprunt AS e` permet de renommer la table `Emprunt` par `e`, ce qui permet de raccourcir les écritures du type `Emprunt.id_client` en `e.id_client`. Idem pour `c` et `a` qui sont les alias respectifs des tables `Client` et `Album`."
   ]
  },
  {
   "cell_type": "markdown",
   "id": "a3214107",
   "metadata": {},
   "source": [
    "## À vous de jouer !\n",
    "\n",
    "**Q1** : Écrivez et testez une requête permettant de récupérer l'adresse email de chaque client ayant un emprunt en cours.\n",
    "<br>*Résultat attendu : 11 enregistrements (comme un peu au-dessus).*"
   ]
  },
  {
   "cell_type": "markdown",
   "id": "63c18a3b",
   "metadata": {},
   "source": [
    "*Réponse* :\n",
    "\n",
    "<br><br><br><br><br><br><br>"
   ]
  },
  {
   "cell_type": "markdown",
   "id": "14c03ee4",
   "metadata": {},
   "source": [
    "**Q2** : Écrivez et testez une requête permettant de récupérer les noms, prénoms et adresses email des clients ayant un emprunt en cours et dont la date d'emprunt est postérieure au 2 octobre 2021.\n",
    "<br>*Résultat attendu : 5 enregistrements.*"
   ]
  },
  {
   "cell_type": "markdown",
   "id": "1fdf4a0d",
   "metadata": {},
   "source": [
    "*Réponse* :\n",
    "\n",
    "<br><br><br><br><br><br><br>"
   ]
  },
  {
   "cell_type": "markdown",
   "id": "ab97d003",
   "metadata": {},
   "source": [
    "**Q3** : En réalité, l'attribut `dispo` (de la table `Album`) n'est pas utile car on peut retrouver tous les albums empruntés avec une jointure. **En supposant que l'attribut `dispo` n'existe pas**, écrivez et testez une requête permettant de récupérer le titre de tous les albums empruntés.\n",
    "<br>*Résultat attendu : 11 enregistrements.*"
   ]
  },
  {
   "cell_type": "markdown",
   "id": "c3117fa4",
   "metadata": {},
   "source": [
    "*Réponse* :\n",
    "\n",
    "<br><br><br><br><br><br><br>"
   ]
  },
  {
   "cell_type": "markdown",
   "id": "638aa076",
   "metadata": {},
   "source": [
    "**Q4** : Toujours sans utiliser l'attribut `dispo`, écrivez et testez une requête permettant de récupérer le titre de tous les albums empruntés par le client dont l'attribut `id_client` vaut 7. \n",
    "<br>*Résultat attendu : 3 enregistrements.*"
   ]
  },
  {
   "cell_type": "markdown",
   "id": "30d61b9e",
   "metadata": {},
   "source": [
    "*Réponse* :\n",
    "\n",
    "<br><br><br><br><br><br><br>"
   ]
  },
  {
   "cell_type": "markdown",
   "id": "572ef4dc",
   "metadata": {},
   "source": [
    "**Q5** : Toujours sans utiliser l'attribut `dispo`, écrivez et testez une requête permettant de récupérer le nom, le prénom et le titre de tous les albums empruntés par le client dont l'attribut `id_client` vaut 7. \n",
    "<br>*Résultat attendu : 3 enregistrements (comme à la question précédenet, le client en question est Alain Moreau).*"
   ]
  },
  {
   "cell_type": "markdown",
   "id": "6eb8d258",
   "metadata": {},
   "source": [
    "*Réponse* : \n",
    "\n",
    "<br><br><br><br><br><br><br><br><br>"
   ]
  },
  {
   "cell_type": "markdown",
   "id": "65c37222",
   "metadata": {},
   "source": [
    "**Q6** : Écrivez et testez une requête permettant de récupérer les titres ainsi que les noms et prénoms des artistes de chaque album.\n",
    "<br>*Résultat attendu : 34 enregistrements*."
   ]
  },
  {
   "cell_type": "markdown",
   "id": "29d5ec81",
   "metadata": {},
   "source": [
    "*Réponse* :\n",
    "\n",
    "<br><br><br><br><br><br><br><br>"
   ]
  },
  {
   "cell_type": "markdown",
   "id": "64fa602b",
   "metadata": {},
   "source": [
    "**Q7** : Écrivez et testez une requête permettant de récupérer les titres et l'année de sortie de tous les albums de Michael Jackson.\n",
    "<br>*Résultat attendu : 3 enregistrements*."
   ]
  },
  {
   "cell_type": "markdown",
   "id": "f6c043f9",
   "metadata": {},
   "source": [
    "*Réponse* :\n",
    "\n",
    "<br><br><br><br><br><br><br><br>"
   ]
  },
  {
   "cell_type": "markdown",
   "id": "8add9dd1",
   "metadata": {},
   "source": [
    "**Q8** : Écrivez et testez une requête permettant de récupérer les titres et l'année de sortie de tous les albums de Sting, rangés par ordre croissant d'année de sortie.\n",
    "<br>*Résultat attendu : 3 enregistrements*."
   ]
  },
  {
   "cell_type": "markdown",
   "id": "d57f30a8",
   "metadata": {},
   "source": [
    "*Réponse* :\n",
    "\n",
    "<br><br><br><br><br><br><br><br>"
   ]
  },
  {
   "cell_type": "markdown",
   "id": "b6d80118",
   "metadata": {},
   "source": [
    "**Q9** : Écrivez et testez une requête permettant de récupérer les noms et prénoms des artistes de l'album initulé `\"Don't Explain\"`.\n",
    "<br>*Résultat attendu : 2 enregistrements*."
   ]
  },
  {
   "cell_type": "markdown",
   "id": "f71eb0ca",
   "metadata": {},
   "source": [
    "*Réponse* : \n",
    "\n",
    "<br><br><br><br><br><br><br><br>"
   ]
  },
  {
   "cell_type": "markdown",
   "id": "81f9ed1e",
   "metadata": {},
   "source": [
    "# Exercice 3 - Questions interactives en ligne avec SQLZOO\n",
    "\n",
    "![](https://bigdata-world.net/wp-content/uploads/2020/11/sql-zoo.png)\n",
    "\n",
    "## 1. Travail sur SELECT...\n",
    "\n",
    "... sur une base de données des prix Nobel.\n",
    "\n",
    "Lien vers l'activité : [https://sqlzoo.net/wiki/SELECT_from_Nobel_Tutorial](https://sqlzoo.net/wiki/SELECT_from_Nobel_Tutorial)\n",
    "\n",
    "*Correction disponible ici : [https://github.com/jisaw/sqlzoo-solutions/blob/master/select-from-nobel.sql](https://github.com/jisaw/sqlzoo-solutions/blob/master/select-from-nobel.sql)*"
   ]
  },
  {
   "cell_type": "markdown",
   "id": "3ef99565",
   "metadata": {},
   "source": [
    "## 2. Travail sur SUM et COUNT ...\n",
    "\n",
    "... sur une base de données sur les pays du monde.\n",
    "\n",
    "Lien vers l'activité : [https://sqlzoo.net/wiki/SUM_and_COUNT](https://sqlzoo.net/wiki/SUM_and_COUNT)\n",
    "\n",
    "*Correction disponible ici : [https://github.com/jisaw/sqlzoo-solutions/blob/master/sum-and-count.sql](https://github.com/jisaw/sqlzoo-solutions/blob/master/sum-and-count.sql)*"
   ]
  },
  {
   "cell_type": "markdown",
   "id": "2adb4743",
   "metadata": {},
   "source": [
    "## 3. Travail sur JOIN ...\n",
    "\n",
    "... sur une base de données sur l'Euro 2012.\n",
    "\n",
    "Lien vers l'activité : [https://sqlzoo.net/wiki/The_JOIN_operation](https://sqlzoo.net/wiki/The_JOIN_operation)\n",
    "\n",
    "> **Attention : Vous pouvez vous arrêter à la question 8**. En effet, à partir de la question 9, il s'agit d'utiliser la clause `GROUP BY` qui n'est pas au programme de Terminale NSI (mais libre à vous de vous y intéresser ou pas).\n",
    "\n",
    "*Correction disponible ici : [https://github.com/jisaw/sqlzoo-solutions/blob/master/join.sql](https://github.com/jisaw/sqlzoo-solutions/blob/master/join.sql)*"
   ]
  },
  {
   "cell_type": "markdown",
   "id": "a6154712",
   "metadata": {},
   "source": [
    "# Exercice 4 - Modifier une table\n",
    "\n",
    "Les données stockées dans une base de données n'ont pas vocation à être figées, elles peuvent être modifiées au cours du temps grâce à des **requêtes de mise à jour** de la base de donnnées.\n",
    "\n",
    "Nous allons voir les requêtes permettant d'ajouter des données à une table, de modifier les données d'une table et de supprimer les données d'une table.\n",
    "\n",
    "Avant cela, faisons une petite digression sur la création de tables dans une base de données.\n",
    "\n",
    "## Création d'une table avec `CREATE TABLE`\n",
    "\n",
    "<blockquote class=\"information\">\n",
    "    <p>La création d'une base de données n'est pas au programme de Terminale NSI. Néanmoins, connaître les requêtes permettant de créer une table permet de mieux appréhender les requêtes de mise à jour que l'on verra ensuite.</p>\n",
    "</blockquote>\n",
    "\n",
    "Créer une base de données consiste à créer les tables de la base. Pour créer une table, on utilise `CREATE TABLE`."
   ]
  },
  {
   "cell_type": "markdown",
   "id": "4a875afc",
   "metadata": {},
   "source": [
    "### Exemple\n",
    "\n",
    "Pour créer la table `Artiste` correspondant à la relation suivante :\n",
    "\n",
    "<pre style=\"padding-bottom:10px;\">\n",
    "    <code><em>Artiste</em>(<span style=\"padding-bottom:3px; border-bottom: 1px solid black;\"><em>id_artiste</em></span> INT, <em>nom</em> TEXT, <em>prenom</em> TEXT)</code>\n",
    "</pre>\n",
    "\n",
    "on peut exécuter cette commande SQL :\n",
    "\n",
    "```sql\n",
    "CREATE TABLE Artiste (\n",
    "    id_artiste INTEGER PRIMARY KEY,\n",
    "    nom TEXT,\n",
    "    prenom TEXT\n",
    ");\n",
    "```\n",
    "\n",
    "**Remarque** : On a bien précisé le nom et le type de chaque attribut, et indiqué avec `PRIMARY KEY` quelle était notre clé primaire."
   ]
  },
  {
   "cell_type": "markdown",
   "id": "067315ca",
   "metadata": {},
   "source": [
    "### À vous de jouer !"
   ]
  },
  {
   "cell_type": "markdown",
   "id": "3726a7ce",
   "metadata": {},
   "source": [
    "**Q1** : Ouvrez *DB Browser for SQLite* ou [sqliteonline.com](https://sqliteonline.com/) :\n",
    "\n",
    "* si vous utilisez *DB Browser for SQLite*, cliquez sur \"Nouvelle Base de Données\" puis appelez-la `bac.db` et validez. Fermez ensuite la fenêtre de l'assistant de création de table. Vous êtes désormais prêt pour la suite !\n",
    "\n",
    "* si vous utilisez *sqliteonline.com*, remplacez la requête dans la fenêtre SQL par `DROP TABLE demo;` pour effacer la table `demo` présente au départ. Vous êtes désormais prêt pour la suite !"
   ]
  },
  {
   "cell_type": "markdown",
   "id": "af228b86",
   "metadata": {},
   "source": [
    "**Q2** : Écrivez la requête permettant de créer une table `Note` correspondant à la relation suivante. *Vous vérifierez ensuite dans la structure de la base de données que la table a bien été créée avec les bons attributs et les bons types.*\n",
    "\n",
    "<pre style=\"padding-bottom:10px;\">\n",
    "    <code><em>Note</em>(<span style=\"padding-bottom:3px; border-bottom: 1px solid black;\"><em>id_eleve</em></span> INT, <em>nom</em> TEXT, <em>prenom</em> TEXT, <em>maths</em> INT, <em>anglais</em> INT, <em>info</em> INT)</code>\n",
    "</pre>"
   ]
  },
  {
   "cell_type": "markdown",
   "id": "c801974c",
   "metadata": {},
   "source": [
    "*Réponse* :\n",
    "\n",
    "<br><br><br><br><br><br><br><br><br><br>"
   ]
  },
  {
   "cell_type": "markdown",
   "id": "d46daf40",
   "metadata": {},
   "source": [
    "## Insertion de valeurs dans la table avec `INSERT INTO ... VALUES`\n",
    "\n",
    "Pour insérer des enregistrements (= des lignes) dans une table, on utilise la commande `INSERT INTO ... VALUES`\n",
    "\n",
    "### Exemple\n",
    "\n",
    "Pour insérer les 3 enregistrements suivants dans la table `Artiste`.\n",
    "\n",
    "| id_artiste | nom | prenom |\n",
    "| --- | --- | --- |\n",
    "| 1 | Clapton | Éric |\n",
    "| 2 | Mayall | John |\n",
    "| 3 | Hendrix | Jimi |\n",
    "\n",
    "on écrit la requête \n",
    "\n",
    "```sql\n",
    "INSERT INTO Artiste VALUES (1, 'Clapton', 'Éric'),\n",
    "                           (2, 'Mayall', 'John'),\n",
    "                           (3, 'Hendrix', 'Jimi');\n",
    "```"
   ]
  },
  {
   "cell_type": "markdown",
   "id": "cbe01390",
   "metadata": {},
   "source": [
    "**Analyse** : \n",
    "\n",
    "* Après `INSERT INTO` (que l'on traduit par \"insérer dans\") on indique le nom de la table (ici `Note`) dans laquelle on veut insérer des données ;\n",
    "* Puis on indique grâce au mot clé `VALUES` les enregistrements que l'on veut insérer, ces derniers étant séparés par des virgules s'il y en a plusieurs (on n'oublie pas le `;` pour terminer) ;\n",
    "* Avec cette requête, les valeurs des différents enregistrements (ou $n$-uplets) doivent être données dans le même ordre que lors du `CREATE TABLE`. Néanmoins, il est possible de les passer dans un ordre différent comme on l'explique juste en-dessous.\n",
    "\n",
    "Si on désire passer les valeurs des enregistrements dans un ordre différent de celui de la création de la table, il suffit de préciser l'ordre juste après le nom de la table :\n",
    "\n",
    "```sql\n",
    "INSERT INTO Artiste (prenom, nom, id_artiste) VALUES ('John', 'Mayer', 4);\n",
    "```\n"
   ]
  },
  {
   "cell_type": "markdown",
   "id": "b02882e3",
   "metadata": {},
   "source": [
    "<blockquote class=\"information\">\n",
    "    <p>Pour voir le code SQL qui a permi de créer la base de données du disquaire, vous pouvez suivre <a href=\"https://github.com/germainbecker/NSI/blob/master/Terminale/Theme2_Bases_de_donnees/disquaire.sql\" target=\"_blank\">ce lien</a>. Regardez notamment comment on a lié les tables avec les clés étrangères en utilisant <code>REFERENCES</code> et comment on définit la réunion de plusieurs attributs comme clé primaire. Vous constaterez également que l'on n'a pas utilisé le type <code>TEXT</code> pour le domaine des attributs de type \"texte\". Enfin, vous trouverez dans ce fichier .sql les ordres d'insertions des différents enregistrements de chaque table.</p>\n",
    "</blockquote>"
   ]
  },
  {
   "cell_type": "markdown",
   "id": "17f44854",
   "metadata": {},
   "source": [
    "### À vous de jouer !\n",
    "\n",
    "**Q3** : Écrivez la requête permettant d'insérer les trois enregistrements suivants dans la table `Note`.\n",
    "\n",
    "| id_eleve | nom | prenom | maths | anglais | info |\n",
    "| --- | --- | --- | --- | --- | --- |\n",
    "| 1 | Marchand | Alice | 14 | 13 | 11 |\n",
    "| 2 | Muller | Marie | 10 | 18 | 17 |\n",
    "| 3 | Prenel | Laura | 13 | 14 | 15 |"
   ]
  },
  {
   "cell_type": "markdown",
   "id": "784d345b",
   "metadata": {},
   "source": [
    "*Réponse* :\n",
    "\n",
    "<br><br><br><br><br><br><br><br>"
   ]
  },
  {
   "cell_type": "markdown",
   "id": "85cc78a5",
   "metadata": {},
   "source": [
    "**Q4** : Écrivez et testez une requête permettant d'afficher tous les enregistrements de la table `Note` afin de vérifier que les données ont bien été ajoutées."
   ]
  },
  {
   "cell_type": "markdown",
   "id": "a83a268e",
   "metadata": {},
   "source": [
    "*Réponse* : \n",
    "\n",
    "<br><br><br>"
   ]
  },
  {
   "cell_type": "markdown",
   "id": "7327a659",
   "metadata": {},
   "source": [
    "**Q5** : Écrivez et testez la requête permettant d'ajouter l'enregistrement `(3, 'Dupont', 'Arthur', 18, 14, 13)` à la table `Note`. Quelle est l'erreur provoquée ? Expliquez-la (voir Chapitre 1 si nécessaire)."
   ]
  },
  {
   "cell_type": "markdown",
   "id": "43e14a8f",
   "metadata": {},
   "source": [
    "*Réponse* : \n",
    "\n",
    "<br><br><br><br><br><br><br><br><br><br><br><br><br><br><br><br>"
   ]
  },
  {
   "cell_type": "markdown",
   "id": "27906ac7",
   "metadata": {},
   "source": [
    "**Q6** : Écrivez et testez une requête permettant d'ajouter l'enregistrement concernant Laura mais avec la clé primaire `id_eleve` égale à 4. *Vous vérifierez que l'enregistrement a bien été ajouté !*"
   ]
  },
  {
   "cell_type": "markdown",
   "id": "5a85a6d6",
   "metadata": {},
   "source": [
    "*Réponse* :\n",
    "\n",
    "<br><br><br><br><br><br><br><br><br><br>"
   ]
  },
  {
   "cell_type": "markdown",
   "id": "f72b244e",
   "metadata": {},
   "source": [
    "À ce stade, vous devriez obtenir la table `Note` suivante :\n",
    "\n",
    "<table>\n",
    "    <tbody><tr>\n",
    "        <th>id_eleve</th>\n",
    "        <th>nom</th>\n",
    "        <th>prenom</th>\n",
    "        <th>maths</th>\n",
    "        <th>anglais</th>\n",
    "        <th>info</th>\n",
    "    </tr>\n",
    "    <tr>\n",
    "        <td>1</td>\n",
    "        <td>Marchand</td>\n",
    "        <td>Alice</td>\n",
    "        <td>14</td>\n",
    "        <td>13</td>\n",
    "        <td>11</td>\n",
    "    </tr>\n",
    "    <tr>\n",
    "        <td>2</td>\n",
    "        <td>Muller</td>\n",
    "        <td>Marie</td>\n",
    "        <td>10</td>\n",
    "        <td>18</td>\n",
    "        <td>17</td>\n",
    "    </tr>\n",
    "    <tr>\n",
    "        <td>3</td>\n",
    "        <td>Prenel</td>\n",
    "        <td>Laura</td>\n",
    "        <td>13</td>\n",
    "        <td>14</td>\n",
    "        <td>15</td>\n",
    "    </tr>\n",
    "    <tr>\n",
    "        <td>4</td>\n",
    "        <td>Dupont</td>\n",
    "        <td>Arthur</td>\n",
    "        <td>18</td>\n",
    "        <td>14</td>\n",
    "        <td>13</td>\n",
    "    </tr>\n",
    "</tbody></table>"
   ]
  },
  {
   "cell_type": "markdown",
   "id": "12f91f85",
   "metadata": {},
   "source": [
    "## Modification de valeurs avec `UPDATE ... SET`\n",
    "\n",
    "Il est possible de modifier des valeurs existantes dans une table, avec `UPDATE`.\n",
    "\n",
    "### Exemple\n",
    "\n",
    "Dans la table `Client`, le client \n",
    "\n",
    "<table>\n",
    "    <tbody><tr>\n",
    "        <th>id_client</th>\n",
    "        <th>nom</th>\n",
    "        <th>prenom</th>\n",
    "        <th>email</th>\n",
    "    </tr>\n",
    "    <tr>\n",
    "        <td>4</td>\n",
    "        <td>Michel</td>\n",
    "        <td>Valérie</td>\n",
    "        <td>vmichel5@monmail.com</td>\n",
    "    </tr>\n",
    "</tbody></table>\n",
    "\n",
    "a changé d'adresse email. Pour modifier cette adresse dans la table `Client`, on peut écrire :\n",
    "\n",
    "```sql\n",
    "UPDATE Client SET email = 'valerie.michel@email.fr'\n",
    "WHERE id_client = 4;\n",
    "```"
   ]
  },
  {
   "cell_type": "markdown",
   "id": "c79b7b77",
   "metadata": {},
   "source": [
    "**Analyse** : \n",
    "\n",
    "* Après `UPDATE` on indique le nom de la table dans laquelle on veut modifier une valeur (ici `Client`) ;\n",
    "* Ensuite, on écrit `SET` puis une expression de la forme `attribut = valeur` qui permet de définir une nouvel valeur `valeur` pour l'attribut `attribut` (ici `'valerie.michel@email.fr'` est la nouvelle valeur de l'attribut `email`) ;\n",
    "* Enfin, on précise avec `WHERE` la condition permettant de sélectionner les enregistrements sur lesquels la modification doit être apportée (ici une seule ligne car la condition `id_client = 4` ne correspond qu'à un seul enregistrement)."
   ]
  },
  {
   "cell_type": "markdown",
   "id": "93d71933",
   "metadata": {},
   "source": [
    "### À vous de jouer !\n",
    "\n",
    "**Q7** : Il y a eu une erreur dans la saisie de l'élève numéro 3 : son prénom n'est pas Laur**a** mais Laur**e**. Écrivez et testez une requête permettant d'effectuer la correction.\n",
    "*Vous vérifierez que la modification a bien été effectuée !*."
   ]
  },
  {
   "cell_type": "markdown",
   "id": "61df3902",
   "metadata": {},
   "source": [
    "*Réponse* :\n",
    "\n",
    "<br><br><br><br><br><br><br><br><br><br><br><br>"
   ]
  },
  {
   "cell_type": "markdown",
   "id": "dba59bdb",
   "metadata": {},
   "source": [
    "**Q8** : Un autre erreur a été détectée : les notes de Mathématiques et d'Anglais de Marchand Alice ont été inversées. Écrivez et testez **une** requête permettant d'effectuer la correction.\n",
    "*Vous vérifierez que la modification a bien été effectuée !*.\n",
    "\n",
    "> <span style=\"font-size:1.6em\">🆘</span> Vous lirez la page suivant pour savoir comment modifier plusieurs valeurs simultanément avec `UPDATE ... SET`: [https://sql.sh/cours/update](https://sql.sh/cours/update)."
   ]
  },
  {
   "cell_type": "markdown",
   "id": "18a9251c",
   "metadata": {},
   "source": [
    "*Réponse* :\n",
    "\n",
    "<br><br><br><br><br><br><br><br><br><br><br><br>"
   ]
  },
  {
   "cell_type": "markdown",
   "id": "6c5389ac",
   "metadata": {},
   "source": [
    "**Q9** : Pour des raisons d'équité entre établissement, il a été décidé que les notes de mathématiques de tous les élèves devaient augmenter d'un point. Écrivez et testez une requête permettant d'effectuer la correction. *Vous vérifierez que la modification a bien été effectuée !*.\n",
    "\n",
    "> <span style=\"font-size:1.6em\">🆘</span> Pour ajouter un nombre à une valeur, on peut procéder comme en Python pour ajouter un nombre à une variable."
   ]
  },
  {
   "cell_type": "markdown",
   "id": "393f5cd1",
   "metadata": {},
   "source": [
    "*Réponse* :\n",
    "\n",
    "<br><br><br><br><br><br><br><br><br><br><br><br>"
   ]
  },
  {
   "cell_type": "markdown",
   "id": "c6a44e8a",
   "metadata": {},
   "source": [
    "À ce stade, vous devriez obtenir la table `Note` suivante :\n",
    "\n",
    "<table>\n",
    "    <tbody><tr>\n",
    "        <th>id_eleve</th>\n",
    "        <th>nom</th>\n",
    "        <th>prenom</th>\n",
    "        <th>maths</th>\n",
    "        <th>anglais</th>\n",
    "        <th>info</th>\n",
    "    </tr>\n",
    "    <tr>\n",
    "        <td>1</td>\n",
    "        <td>Marchand</td>\n",
    "        <td>Alice</td>\n",
    "        <td>14</td>\n",
    "        <td>14</td>\n",
    "        <td>11</td>\n",
    "    </tr>\n",
    "    <tr>\n",
    "        <td>2</td>\n",
    "        <td>Muller</td>\n",
    "        <td>Marie</td>\n",
    "        <td>11</td>\n",
    "        <td>18</td>\n",
    "        <td>17</td>\n",
    "    </tr>\n",
    "    <tr>\n",
    "        <td>3</td>\n",
    "        <td>Prenel</td>\n",
    "        <td>Laure</td>\n",
    "        <td>14</td>\n",
    "        <td>14</td>\n",
    "        <td>15</td>\n",
    "    </tr>\n",
    "    <tr>\n",
    "        <td>4</td>\n",
    "        <td>Dupont</td>\n",
    "        <td>Arthur</td>\n",
    "        <td>19</td>\n",
    "        <td>14</td>\n",
    "        <td>13</td>\n",
    "    </tr>\n",
    "</tbody></table>"
   ]
  },
  {
   "cell_type": "markdown",
   "id": "ee2f45ef",
   "metadata": {},
   "source": [
    "## Suppression de valeurs\n",
    "\n",
    "Il est possible de supprimer une ligne d'une table en utilisant `DELETE`.\n",
    "\n",
    "### Exemple\n",
    "\n",
    "Le client Marchand Grégoire a rendu l'album `Continuum` (dont l'attribut `id_album` vaut 25) qu'il avait emprunté. Il faut supprimer la ligne correspondante dans la table `Emprunt` :"
   ]
  },
  {
   "cell_type": "markdown",
   "id": "59365ac2",
   "metadata": {},
   "source": [
    "<table>\n",
    "    <tbody><tr>\n",
    "        <th>id_client</th>\n",
    "        <th>id_album</th>\n",
    "        <th>jour</th>\n",
    "    </tr>\n",
    "    <tr>\n",
    "        <td>1</td>\n",
    "        <td>5</td>\n",
    "        <td>2021-09-10</td>\n",
    "    </tr>\n",
    "    <tr>\n",
    "        <td>3</td>\n",
    "        <td>8</td>\n",
    "        <td>2021-08-18</td>\n",
    "    </tr>\n",
    "    <tr>\n",
    "        <td>3</td>\n",
    "        <td>24</td>\n",
    "        <td>2021-08-18</td>\n",
    "    </tr>\n",
    "    <tr>\n",
    "        <td>5</td>\n",
    "        <td>25</td>\n",
    "        <td>2021-09-12</td>\n",
    "    </tr>\n",
    "    <tr>\n",
    "        <td>5</td>\n",
    "        <td>6</td>\n",
    "        <td>2021-10-10</td>\n",
    "    </tr>\n",
    "    <tr>\n",
    "        <td>9</td>\n",
    "        <td>20</td>\n",
    "        <td>2021-09-28</td>\n",
    "    </tr>\n",
    "    <tr>\n",
    "        <td>11</td>\n",
    "        <td>14</td>\n",
    "        <td>2021-10-08</td>\n",
    "    </tr>\n",
    "    <tr>\n",
    "        <td>7</td>\n",
    "        <td>15</td>\n",
    "        <td>2021-10-08</td>\n",
    "    </tr>\n",
    "    <tr>\n",
    "        <td>7</td>\n",
    "        <td>19</td>\n",
    "        <td>2021-10-08</td>\n",
    "    </tr>\n",
    "    <tr>\n",
    "        <td>7</td>\n",
    "        <td>16</td>\n",
    "        <td>2021-10-15</td>\n",
    "    </tr>\n",
    "    <tr>\n",
    "        <td>16</td>\n",
    "        <td>29</td>\n",
    "        <td>2021-10-01</td>\n",
    "    </tr>\n",
    "</tbody></table>"
   ]
  },
  {
   "cell_type": "markdown",
   "id": "f016109c",
   "metadata": {},
   "source": [
    "Pour cela, on peut écrire l'ordre suivant :\n",
    "\n",
    "```sql\n",
    "DELETE FROM Emprunt\n",
    "WHERE id_album = 25;\n",
    "```\n"
   ]
  },
  {
   "cell_type": "markdown",
   "id": "8a739709",
   "metadata": {},
   "source": [
    "**Analyse** : \n",
    "\n",
    "* Après `DELETE` on indique dans quelle table on veut supprimer une ligne avec `FROM [nom_table]` ;\n",
    "* Ensuite on précise avec `WHERE` la condition permettant de sélectionner les enregistrements à supprimer (ici une seule ligne est supprimée car la condition `id_album = 25` ne correspond qu'à un seul enregistrement).\n",
    "\n",
    "On peut vérifier que la ligne correspondante a bien été supprimée de la table `Emprunt` :\n",
    "\n",
    "```sql\n",
    "SELECT * FROM Emprunt;\n",
    "```"
   ]
  },
  {
   "cell_type": "markdown",
   "id": "1d2a7de0",
   "metadata": {},
   "source": [
    "<table>\n",
    "    <tbody><tr>\n",
    "        <th>id_client</th>\n",
    "        <th>id_album</th>\n",
    "        <th>jour</th>\n",
    "    </tr>\n",
    "    <tr>\n",
    "        <td>1</td>\n",
    "        <td>5</td>\n",
    "        <td>2021-09-10</td>\n",
    "    </tr>\n",
    "    <tr>\n",
    "        <td>3</td>\n",
    "        <td>8</td>\n",
    "        <td>2021-08-18</td>\n",
    "    </tr>\n",
    "    <tr>\n",
    "        <td>3</td>\n",
    "        <td>24</td>\n",
    "        <td>2021-08-18</td>\n",
    "    </tr>\n",
    "    <tr>\n",
    "        <td>5</td>\n",
    "        <td>6</td>\n",
    "        <td>2021-10-10</td>\n",
    "    </tr>\n",
    "    <tr>\n",
    "        <td>9</td>\n",
    "        <td>20</td>\n",
    "        <td>2021-09-28</td>\n",
    "    </tr>\n",
    "    <tr>\n",
    "        <td>11</td>\n",
    "        <td>14</td>\n",
    "        <td>2021-10-08</td>\n",
    "    </tr>\n",
    "    <tr>\n",
    "        <td>7</td>\n",
    "        <td>15</td>\n",
    "        <td>2021-10-08</td>\n",
    "    </tr>\n",
    "    <tr>\n",
    "        <td>7</td>\n",
    "        <td>19</td>\n",
    "        <td>2021-10-08</td>\n",
    "    </tr>\n",
    "    <tr>\n",
    "        <td>7</td>\n",
    "        <td>16</td>\n",
    "        <td>2021-10-15</td>\n",
    "    </tr>\n",
    "    <tr>\n",
    "        <td>16</td>\n",
    "        <td>29</td>\n",
    "        <td>2021-10-01</td>\n",
    "    </tr>\n",
    "</tbody></table>"
   ]
  },
  {
   "cell_type": "markdown",
   "id": "46eb060b",
   "metadata": {},
   "source": [
    "**Remarque** : Avec le schéma de la base de données il faut aussi mettre à jour la table `Album` puisque l'album en question est à nouveau disponible. La requête de mise à jour suivante permet de faire cela :\n",
    "\n",
    "```sql\n",
    "UPDATE Album\n",
    "SET dispo = 1\n",
    "WHERE id_album = 25;\n",
    "```"
   ]
  },
  {
   "cell_type": "markdown",
   "id": "3bc2d412",
   "metadata": {},
   "source": [
    "### À vous de jouer !\n",
    "\n",
    "**Q10** : L'élève Muller Marie ne devrait pas faire partie de la table `Note` car elle ne fait pas partie du même lycée que les autres élèves. Écrivez et testez une requête permettant de supprimer la ligne correspondante. *Vous vérifierez que la suppression a bien été effectuée !*"
   ]
  },
  {
   "cell_type": "markdown",
   "id": "e354415c",
   "metadata": {},
   "source": [
    "*Réponse* :\n",
    "\n",
    "<br><br><br><br><br><br><br><br><br><br>"
   ]
  },
  {
   "cell_type": "markdown",
   "id": "57250483",
   "metadata": {},
   "source": [
    "# Exercice 5 - Modification de la base du disquaire\n",
    "\n",
    "<img class=\"centre image-responsive\" src=\"data/vinyl.svg\" alt=\"diagramme\" width=\"200\">\n",
    "\n",
    "> On travaillera à nouveau avec la base de données `disquaire.db` que vous trouverez dans l'archive de ce chapitre. Vous utiliserez le logiciel _DB Browser for SQLite_ ou le logiciel en ligne [sqliteonline.com](https://sqliteonline.com/) dans lesquels vous aurez au préalable ouvert la base de données en question.\n"
   ]
  },
  {
   "cell_type": "markdown",
   "id": "3243d623",
   "metadata": {},
   "source": [
    "**Q1** : Le prénom du client \"Robert Pascal\" a mal été saisi dans la base de données. En effet, son prénom n'est pas *Pascal* mais *Pascale*. Écrivez et testez une requête permettant corriger cette erreur. *Vous vérifierez que la correction a bien été effectuée !*"
   ]
  },
  {
   "cell_type": "markdown",
   "id": "e89c682c",
   "metadata": {},
   "source": [
    "*Réponse* : \n",
    "\n",
    "<br><br><br><br><br><br><br><br>"
   ]
  },
  {
   "cell_type": "markdown",
   "id": "ad30261a",
   "metadata": {},
   "source": [
    "**Q2** : Un titre d'album a mal été saisi dans la base de données. Il faut remplacer *Riding With The King* par *Riding with the King*. Écrivez et testez une requête permettant corriger cette erreur. *Vous vérifierez que la correction a bien été effectuée !*"
   ]
  },
  {
   "cell_type": "markdown",
   "id": "7cfb0921",
   "metadata": {},
   "source": [
    "*Réponse* : \n",
    "\n",
    "<br><br><br><br><br><br><br><br>\n"
   ]
  },
  {
   "cell_type": "markdown",
   "id": "fad3da61",
   "metadata": {},
   "source": [
    "**Q3** : Le client \"Durand Julien\" souhaite que les informations personnelles le concernant soient supprimées de la base de données (c'est son droit avec le RGPD). Écrivez et testez la requête permettant d'effectuer ces suppressions. *Vous vérifierez que la suppression a bien été effectuée !*"
   ]
  },
  {
   "cell_type": "markdown",
   "id": "39d3eebf",
   "metadata": {},
   "source": [
    "*Réponse* :\n",
    "\n",
    "<br><br><br><br><br><br><br><br><br><br>\n"
   ]
  },
  {
   "cell_type": "markdown",
   "id": "0cfe76a0",
   "metadata": {},
   "source": [
    "**Q4** : Essayez de supprimer le client \"Dupont Florine\". Quelle est l'erreur provoquée ? Expliquez-la (voir Chapitre 1 si nécessaire)."
   ]
  },
  {
   "cell_type": "markdown",
   "id": "d25d302c",
   "metadata": {},
   "source": [
    "*Réponse* :\n",
    "\n",
    "<br><br><br><br><br><br><br><br><br><br><br><br><br><br><br><br>\n"
   ]
  },
  {
   "cell_type": "markdown",
   "id": "08f9b63e",
   "metadata": {},
   "source": [
    "# Exercice 6\n",
    "\n",
    "On veut créer une base de données ```baseHopital.db```  qui contiendra les trois tables suivantes (les clés primaires sont en gras) :\n",
    "\n",
    "<img alt=\"diagramme de la base\" src=\"data/base_hopital.png\">\n"
   ]
  },
  {
   "cell_type": "markdown",
   "id": "6e2a9e4f",
   "metadata": {},
   "source": [
    "On suppose que les dates sont données sous la forme `jj-mm-aaaa`.\n",
    "\n",
    "**Q1** : Donner les commandes SQLite permettant de créer ces tables."
   ]
  },
  {
   "cell_type": "markdown",
   "id": "57c3825d",
   "metadata": {},
   "source": [
    "*Réponse* :\n",
    "\n",
    "<br><br><br><br><br><br><br><br><br><br><br><br><br><br><br><br><br><br><br><br><br><br><br><br><br><br>"
   ]
  },
  {
   "cell_type": "markdown",
   "id": "ad54ac79",
   "metadata": {},
   "source": [
    "**Q2** : On a oublié une colonne pour noter les codes postaux des patients. Donner la commande SQLite permettant cet ajout.\n",
    "\n",
    "> <span style=\"font-size:1.6em\">🆘</span> Vous lirez la page suivant pour savoir comment ajouter une colonne à une table avec `ALTER TABLE`: [https://sql.sh/cours/alter-table](https://sql.sh/cours/alter-table). *Cette commande n'est a priori pas au exigible en Terminale NSI !*"
   ]
  },
  {
   "cell_type": "markdown",
   "id": "ff7985c1",
   "metadata": {},
   "source": [
    "*Réponse* : \n",
    "\n",
    "<br><br><br><br><br><br>"
   ]
  },
  {
   "cell_type": "markdown",
   "id": "4a468aaa",
   "metadata": {},
   "source": [
    "**Q3** : Mme Anne Wizeunid, née en 2000 et demeurant 3 rue des Pignons Verts 12345 Avonelit doit être enregistrée comme patiente. Donner la commande SQLite correspondante."
   ]
  },
  {
   "cell_type": "markdown",
   "id": "8709fdf6",
   "metadata": {},
   "source": [
    "*Réponse* :\n",
    "\n",
    "<br><br><br><br><br><br>\n"
   ]
  },
  {
   "cell_type": "markdown",
   "id": "430edfd3",
   "metadata": {},
   "source": [
    "**Q4** : Le patient numéro 100 a changé de genre et est maintenant une femme. Donner la commande SQLite modifiant en conséquence ses données.\n"
   ]
  },
  {
   "cell_type": "markdown",
   "id": "da6644e4",
   "metadata": {},
   "source": [
    "*Réponse* :\n",
    "\n",
    "<br><br><br><br><br><br><br><br>\n"
   ]
  },
  {
   "cell_type": "markdown",
   "id": "af7b4a90",
   "metadata": {},
   "source": [
    "**Q5** : Par souci d'économie, la direction décide de se passer des médecins spécialisés en épidémiologie. Donner la commande permettant de supprimer leurs fiches."
   ]
  },
  {
   "cell_type": "markdown",
   "id": "568f83ef",
   "metadata": {},
   "source": [
    "*Réponse* :\n",
    "\n",
    "<br><br><br><br>"
   ]
  },
  {
   "cell_type": "markdown",
   "id": "be685256",
   "metadata": {},
   "source": [
    "**Q6** : Donner la requête permettant d'obtenir la liste des prénoms et noms des patientes habitant le Finistère triées dans l'ordre croissant des âges."
   ]
  },
  {
   "cell_type": "markdown",
   "id": "132c1ca8",
   "metadata": {},
   "source": [
    "*Réponse* : \n",
    "\n",
    "<br><br><br><br><br><br><br><br>"
   ]
  },
  {
   "cell_type": "markdown",
   "id": "91b3a79d",
   "metadata": {},
   "source": [
    "**Q7** : Donner la liste des patient(e)s ayant été examiné(e)s par un(e) psychiatre en avril 2020."
   ]
  },
  {
   "cell_type": "markdown",
   "id": "cd3429b5",
   "metadata": {},
   "source": [
    "*Réponse* : \n",
    "\n",
    "<br><br><br><br><br><br><br><br><br><br><br><br>"
   ]
  },
  {
   "cell_type": "markdown",
   "id": "3a10bb75",
   "metadata": {},
   "source": [
    "# Exercice 7 - S'entraîner en ligne\n",
    "\n",
    "> Vous utiliserez le site réalisé par Jean Le Coupannec, un grand merci à lui pour cette ressource !\n",
    "\n",
    "Rendez-vous sur la page [http://colbert.bzh/nsi/sql/](http://colbert.bzh/nsi/sql/) et suivez les deux TP directement en ligne pour réviser la plupart des notions du chapitre.\n",
    "\n",
    "## TP1 : Gestion d'un réseau d'agences de location de voitures\n",
    "\n",
    "![diagramme de la bdd](data/locations.png)"
   ]
  },
  {
   "cell_type": "markdown",
   "id": "75be8fa1",
   "metadata": {},
   "source": [
    "## TP2 : Le championnat de France 2015-2016\n",
    "\n",
    "![diagramme de la bdd](data/soccer.png)"
   ]
  },
  {
   "cell_type": "markdown",
   "id": "541eb47b",
   "metadata": {},
   "source": [
    "---\n",
    "\n",
    "**Références :**\n",
    "\n",
    "- [Exercices sur le langage SQL](https://glassus.github.io/terminale_nsi/T4_Bases_de_donnees/4.2_Langage_SQL/02_exercices/#exercice-1) proposés par Gilles Lassus pour la découverte des sites [sqlzoo.net](https://sqlzoo.net/wiki/SQL_Tutorial) (Exercice 3) et [http://colbert.bzh/nsi/sql/](http://colbert.bzh/nsi/sql/) de Jean Le Coupannec (Exercice 7).\n",
    "- Livre *Prepabac NSI, Tle*, G. Connan, V. Petrov, G. Rozsavolgyi, L. Signac, éditions HATIER, pour l'idée de l'exercice 4 ainsi que l'exercice 6.\n"
   ]
  },
  {
   "cell_type": "markdown",
   "id": "b4777d19",
   "metadata": {},
   "source": [
    "---\n",
    "Germain BECKER, Lycée Mounier, ANGERS\n",
    "\n",
    "Ressource éducative libre distribuée sous [Licence Creative Commons Attribution - Pas d’Utilisation Commerciale - Partage dans les Mêmes Conditions 4.0 International](http://creativecommons.org/licenses/by-nc-sa/4.0/) \n",
    "\n",
    "![Licence Creative Commons](https://i.creativecommons.org/l/by-nc-sa/4.0/88x31.png)"
   ]
  }
 ],
 "metadata": {
  "kernelspec": {
   "display_name": "Python 3",
   "language": "python",
   "name": "python3"
  },
  "language_info": {
   "codemirror_mode": {
    "name": "ipython",
    "version": 3
   },
   "file_extension": ".py",
   "mimetype": "text/x-python",
   "name": "python",
   "nbconvert_exporter": "python",
   "pygments_lexer": "ipython3",
   "version": "3.7.10"
  }
 },
 "nbformat": 4,
 "nbformat_minor": 5
}
