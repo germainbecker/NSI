{
 "cells": [
  {
   "cell_type": "markdown",
   "id": "dc3871fb",
   "metadata": {},
   "source": [
    "<h1 style=\"font-size: 30px; text-align: center\">Langage SQL - Activité d'introduction</h1>\n",
    "\n",
    "---"
   ]
  },
  {
   "cell_type": "markdown",
   "id": "07f5020c",
   "metadata": {},
   "source": [
    "Dans cette activité, vous allez découvrir comment effectuer des requêtes sur une table d'une base de données, en utilisant le langage SQL (pour *Structured Query Language*). \n",
    "\n",
    "Pour cela, nous allons travailler avec une table déjà étudiée l'année dernière en classe de Première, ce sera l'occasion de faire le lien avec ce qui a été vu l'an dernier."
   ]
  },
  {
   "cell_type": "markdown",
   "id": "bc76e5cd",
   "metadata": {},
   "source": [
    "Voici un extrait de la table utilisée l'année dernière :\n",
    "\n",
    "| **prénom** | **jour** | **mois** | **année** | **sexe** | **projet** |\n",
    "| --- | --- | --- | --- | --- | --- |\n",
    "| Fathi | 3 | 2 | 2003 | G | être heureux |\n",
    "| Evan | 19 | 8 | 2004 | G | manger une glace |\n",
    "| Aline |29 | 10 | 2004 |F | gagner au loto |\n",
    "| Baptiste | 6 | 12 | 2002 | G | devenir quelqu’un de célèbre|\n",
    "| Corentin | 8 | 4 | 2004 | G | avoir une bonne note au prochain devoir |\n",
    "| Estelle | 29 | 3 | 2004 | F | devenir astronaute |\n",
    "| Elisa | 7 | 1 | 2004 | F | marcher sur la lune |\n",
    "| Yanis | 17 | 11 | 2004 | G | dormir plus longtemps le matin |\n",
    "| Leonie | 28 | 10 | 2004 | F | aider les autres |\n",
    "| Lilian | 26 | 10 | 2004 | G | apprendre à piloter une Formule 1 |\n",
    "| ... | ... | ... | ... | ... | ... |"
   ]
  },
  {
   "cell_type": "markdown",
   "id": "74947ff5",
   "metadata": {},
   "source": [
    "Cette dernière était stockée dans un fichier `eleves.csv` que l'on pouvait importer en Python pour mémoriser son contenu dans un tableau de dictionnaires `eleves` :"
   ]
  },
  {
   "cell_type": "code",
   "execution_count": 1,
   "id": "de41a75b",
   "metadata": {},
   "outputs": [
    {
     "name": "stdout",
     "output_type": "stream",
     "text": [
      "[{'prenom': 'Fathi', 'jour': '3', 'mois': '2', 'annee': '2003', 'sexe': 'G', 'projet': 'être heureux'}, {'prenom': 'Evan', 'jour': '19', 'mois': '8', 'annee': '2004', 'sexe': 'G', 'projet': 'manger une glace'}, {'prenom': 'Aline', 'jour': '29', 'mois': '10', 'annee': '2004', 'sexe': 'F', 'projet': 'gagner au loto'}, {'prenom': 'Baptiste', 'jour': '6', 'mois': '12', 'annee': '2002', 'sexe': 'G', 'projet': 'devenir quelqu’un de célèbre'}, {'prenom': 'Corentin', 'jour': '8', 'mois': '4', 'annee': '2004', 'sexe': 'G', 'projet': 'avoir une bonne note au prochain devoir'}, {'prenom': 'Estelle', 'jour': '29', 'mois': '3', 'annee': '2004', 'sexe': 'F', 'projet': 'devenir astronaute'}, {'prenom': 'Elisa', 'jour': '7', 'mois': '1', 'annee': '2004', 'sexe': 'F', 'projet': 'marcher sur la lune'}, {'prenom': 'Yanis', 'jour': '17', 'mois': '11', 'annee': '2004', 'sexe': 'G', 'projet': 'dormir plus longtemps le matin'}, {'prenom': 'Leonie', 'jour': '28', 'mois': '10', 'annee': '2004', 'sexe': 'F', 'projet': 'aider les autres'}, {'prenom': 'Lilian', 'jour': '26', 'mois': '10', 'annee': '2004', 'sexe': 'G', 'projet': 'apprendre à piloter une Formule 1'}, {'prenom': 'Justine', 'jour': '10', 'mois': '2', 'annee': '2004', 'sexe': 'F', 'projet': 'devenir présidente'}, {'prenom': 'Jules', 'jour': '28', 'mois': '6', 'annee': '2004', 'sexe': 'G', 'projet': 'créer un jeu vidéo'}, {'prenom': 'Baptiste', 'jour': '12', 'mois': '10', 'annee': '2004', 'sexe': 'G', 'projet': 'gérer sa propre entreprise'}, {'prenom': 'Thibault', 'jour': '23', 'mois': '10', 'annee': '2004', 'sexe': 'G', 'projet': 'gagner le Tour de France'}, {'prenom': 'Hugo', 'jour': '28', 'mois': '4', 'annee': '2004', 'sexe': 'G', 'projet': 'jouer dans le prochain James Bond'}, {'prenom': 'Amaury', 'jour': '12', 'mois': '7', 'annee': '2004', 'sexe': 'G', 'projet': 'devenir champion du monde de bras de fer'}, {'prenom': 'Esteban', 'jour': '7', 'mois': '5', 'annee': '2004', 'sexe': 'G', 'projet': 'devenir youtuber'}, {'prenom': 'Abdel-Waheb', 'jour': '13', 'mois': '10', 'annee': '2004', 'sexe': 'G', 'projet': 'avoir son émission de TV'}, {'prenom': 'Wesley', 'jour': '7', 'mois': '4', 'annee': '2004', 'sexe': 'G', 'projet': 'écrire un livre'}, {'prenom': 'Lubin', 'jour': '4', 'mois': '12', 'annee': '2004', 'sexe': 'G', 'projet': 'inventer la machine à voyager dans le temps'}, {'prenom': 'Teddy', 'jour': '1', 'mois': '12', 'annee': '2004', 'sexe': 'G', 'projet': 'devenir une rockstar'}]\n"
     ]
    }
   ],
   "source": [
    "import csv\n",
    "fichier = open('eleves.csv', 'r', encoding = 'UTF-8')  # ouverture du fichier\n",
    "# Lecture de son contenu avec la méthode DictReader qui renvoie une valeur spéciale représentant le fichier CSV\n",
    "table = csv.DictReader(fichier, delimiter=',')  # caractère de séparation : la virgule\n",
    "eleves = [dict(ligne) for ligne in table]  # chaque élément est un dictionnaire\n",
    "fichier.close()  # fermeture du fichier\n",
    "print(eleves) # pour afficher le contenu du tableau 'eleves'"
   ]
  },
  {
   "cell_type": "markdown",
   "id": "7f6e3a11",
   "metadata": {},
   "source": [
    "Par défaut, toutes les valeurs sont mémorisées comme des chaînes de caractères, y compris le jour, le mois et l'année. On peut effectuer un prétraitement pour convertir en type `int` chaque valeur associée aux clés `'jour'`, `'mois'` et `'annee'` : "
   ]
  },
  {
   "cell_type": "code",
   "execution_count": 2,
   "id": "069b5268",
   "metadata": {},
   "outputs": [
    {
     "name": "stdout",
     "output_type": "stream",
     "text": [
      "[{'prenom': 'Fathi', 'jour': 3, 'mois': 2, 'annee': 2003, 'sexe': 'G', 'projet': 'être heureux'}, {'prenom': 'Evan', 'jour': 19, 'mois': 8, 'annee': 2004, 'sexe': 'G', 'projet': 'manger une glace'}, {'prenom': 'Aline', 'jour': 29, 'mois': 10, 'annee': 2004, 'sexe': 'F', 'projet': 'gagner au loto'}, {'prenom': 'Baptiste', 'jour': 6, 'mois': 12, 'annee': 2002, 'sexe': 'G', 'projet': 'devenir quelqu’un de célèbre'}, {'prenom': 'Corentin', 'jour': 8, 'mois': 4, 'annee': 2004, 'sexe': 'G', 'projet': 'avoir une bonne note au prochain devoir'}, {'prenom': 'Estelle', 'jour': 29, 'mois': 3, 'annee': 2004, 'sexe': 'F', 'projet': 'devenir astronaute'}, {'prenom': 'Elisa', 'jour': 7, 'mois': 1, 'annee': 2004, 'sexe': 'F', 'projet': 'marcher sur la lune'}, {'prenom': 'Yanis', 'jour': 17, 'mois': 11, 'annee': 2004, 'sexe': 'G', 'projet': 'dormir plus longtemps le matin'}, {'prenom': 'Leonie', 'jour': 28, 'mois': 10, 'annee': 2004, 'sexe': 'F', 'projet': 'aider les autres'}, {'prenom': 'Lilian', 'jour': 26, 'mois': 10, 'annee': 2004, 'sexe': 'G', 'projet': 'apprendre à piloter une Formule 1'}, {'prenom': 'Justine', 'jour': 10, 'mois': 2, 'annee': 2004, 'sexe': 'F', 'projet': 'devenir présidente'}, {'prenom': 'Jules', 'jour': 28, 'mois': 6, 'annee': 2004, 'sexe': 'G', 'projet': 'créer un jeu vidéo'}, {'prenom': 'Baptiste', 'jour': 12, 'mois': 10, 'annee': 2004, 'sexe': 'G', 'projet': 'gérer sa propre entreprise'}, {'prenom': 'Thibault', 'jour': 23, 'mois': 10, 'annee': 2004, 'sexe': 'G', 'projet': 'gagner le Tour de France'}, {'prenom': 'Hugo', 'jour': 28, 'mois': 4, 'annee': 2004, 'sexe': 'G', 'projet': 'jouer dans le prochain James Bond'}, {'prenom': 'Amaury', 'jour': 12, 'mois': 7, 'annee': 2004, 'sexe': 'G', 'projet': 'devenir champion du monde de bras de fer'}, {'prenom': 'Esteban', 'jour': 7, 'mois': 5, 'annee': 2004, 'sexe': 'G', 'projet': 'devenir youtuber'}, {'prenom': 'Abdel-Waheb', 'jour': 13, 'mois': 10, 'annee': 2004, 'sexe': 'G', 'projet': 'avoir son émission de TV'}, {'prenom': 'Wesley', 'jour': 7, 'mois': 4, 'annee': 2004, 'sexe': 'G', 'projet': 'écrire un livre'}, {'prenom': 'Lubin', 'jour': 4, 'mois': 12, 'annee': 2004, 'sexe': 'G', 'projet': 'inventer la machine à voyager dans le temps'}, {'prenom': 'Teddy', 'jour': 1, 'mois': 12, 'annee': 2004, 'sexe': 'G', 'projet': 'devenir une rockstar'}]\n"
     ]
    }
   ],
   "source": [
    "eleves = [\n",
    "    {'prenom': e['prenom'],\n",
    "     'jour': int(e['jour']),\n",
    "     'mois': int(e['mois']),\n",
    "     'annee': int(e['annee']),\n",
    "     'sexe': e['sexe'],\n",
    "     'projet': e['projet']} for e in eleves\n",
    "]\n",
    "print(eleves)"
   ]
  },
  {
   "cell_type": "markdown",
   "id": "db1f41e8",
   "metadata": {},
   "source": [
    "On a créé une base de données `eleves.db` qui ne contient que la *relation* `Eleve` suivante :\n",
    "\n",
    "<pre style=\"padding-bottom:10px;\">\n",
    "    <code><em>Eleve</em>(<span style=\"padding-bottom:3px; border-bottom: 1px solid black;\"><em>id_eleve</em></span> INT, <em>prenom</em> TEXT, <em>jour</em> INT, <em>mois</em> INT, <em>annee</em> INT, <em>sexe</em> TEXT, <em>projet</em> TEXT)</code>\n",
    "</pre>\n",
    "\n",
    "> On a ajouté un attribut `id_eleve`, pourquoi ?\n",
    "\n",
    "**Remarque** : Le fichier `eleves.db` que nous utiliserons est accessible dans l'archive de ce chapitre."
   ]
  },
  {
   "cell_type": "markdown",
   "id": "69ef5143",
   "metadata": {},
   "source": [
    "# Utilisation d'un SGBD\n",
    "\n",
    "Seul un logiciel de type SGBD (Système de Gestion de Bases de Données) peut manipuler les données présentes dans une base de données. \n",
    "\n",
    "Vous pouvez utiliser :\n",
    "\n",
    "* **DB Browser for SQLite** qui est installé sur vos ordinateurs :\n",
    "    * (ce logiciel est téléchargeable à l'adresse : [https://sqlitebrowser.org/](https://sqlitebrowser.org/))\n",
    "    * Lancez le logiciel\n",
    "    * Ouvrez le fichier `eleves.db` en le sélectionnant après avoir cliqué sur \"Ouvrir une base de données\"\n",
    "\n",
    "* **sqliteonline** accessible en ligne à l'adresse [https://sqliteonline.com/](https://sqliteonline.com/).\n",
    "    * Rendez-vous à l'adresse [https://sqliteonline.com/](https://sqliteonline.com/)\n",
    "    * Cliquez sur _File_ puis sur _Open DB_ et sélectionnez le fichier `eleves.db`"
   ]
  },
  {
   "cell_type": "markdown",
   "id": "06ba631b",
   "metadata": {},
   "source": [
    "# Première requête SQL\n",
    "\n",
    "Commençons par une requête permettant d’afficher tout le contenu de la table `Eleve`.\n",
    "\n",
    "```sql\n",
    "SELECT * FROM Eleve;\n",
    "```\n",
    "\n",
    "**Analyse** :\n",
    "\n",
    "* En SQL, chaque requête contient au moins les clauses `SELECT` et `FROM` et **se termine par un point-virgule**.\n",
    "* Le mot-clé `SELECT` demande au SGBD d’afficher ce que contient une table.\n",
    "* Après `SELECT`, il faut indiquer quels champs de la table, le SGBD doit récupérer dans celle-ci. Ici le caractère « `*` » indique qu’il faut récupérer **tous** les champs de la table.\n",
    "* Après le `FROM` (de l’anglais « de ») on indique la table dans laquelle on veut récupérer des informations (ici `Eleve`)\n",
    "* Bilan : cette requête se traduit par « prend tout ce qu’il y a dans la table `Eleve`, sous-entendu prend tous les champs de cette table.\n"
   ]
  },
  {
   "cell_type": "markdown",
   "id": "70373772",
   "metadata": {},
   "source": [
    "**Q1** : Écrivez cette requête dans le SGBD puis exécutez-la. Vous devriez voir apparaître la table `Eleve` complète comme ci-dessous."
   ]
  },
  {
   "cell_type": "markdown",
   "id": "ad5e0a5d",
   "metadata": {},
   "source": [
    "<table>\n",
    "    <tbody><tr>\n",
    "        <th>id_eleve</th>\n",
    "        <th>prenom</th>\n",
    "        <th>jour</th>\n",
    "        <th>mois</th>\n",
    "        <th>annee</th>\n",
    "        <th>sexe</th>\n",
    "        <th>projet</th>\n",
    "    </tr>\n",
    "    <tr>\n",
    "        <td>1</td>\n",
    "        <td>Fathi</td>\n",
    "        <td>3</td>\n",
    "        <td>2</td>\n",
    "        <td>2003</td>\n",
    "        <td>G</td>\n",
    "        <td>être heureux</td>\n",
    "    </tr>\n",
    "    <tr>\n",
    "        <td>2</td>\n",
    "        <td>Evan</td>\n",
    "        <td>19</td>\n",
    "        <td>8</td>\n",
    "        <td>2004</td>\n",
    "        <td>G</td>\n",
    "        <td>manger une glace</td>\n",
    "    </tr>\n",
    "    <tr>\n",
    "        <td>3</td>\n",
    "        <td>Aline</td>\n",
    "        <td>29</td>\n",
    "        <td>10</td>\n",
    "        <td>2004</td>\n",
    "        <td>F</td>\n",
    "        <td>gagner au loto</td>\n",
    "    </tr>\n",
    "    <tr>\n",
    "        <td>4</td>\n",
    "        <td>Baptiste</td>\n",
    "        <td>6</td>\n",
    "        <td>12</td>\n",
    "        <td>2002</td>\n",
    "        <td>G</td>\n",
    "        <td>devenir quelqu’un de célèbre</td>\n",
    "    </tr>\n",
    "    <tr>\n",
    "        <td>5</td>\n",
    "        <td>Corentin</td>\n",
    "        <td>8</td>\n",
    "        <td>4</td>\n",
    "        <td>2004</td>\n",
    "        <td>G</td>\n",
    "        <td>avoir une bonne note au prochain devoir</td>\n",
    "    </tr>\n",
    "    <tr>\n",
    "        <td>6</td>\n",
    "        <td>Estelle</td>\n",
    "        <td>29</td>\n",
    "        <td>3</td>\n",
    "        <td>2004</td>\n",
    "        <td>F</td>\n",
    "        <td>devenir astronaute</td>\n",
    "    </tr>\n",
    "    <tr>\n",
    "        <td>7</td>\n",
    "        <td>Elisa</td>\n",
    "        <td>7</td>\n",
    "        <td>1</td>\n",
    "        <td>2004</td>\n",
    "        <td>F</td>\n",
    "        <td>marcher sur la lune</td>\n",
    "    </tr>\n",
    "    <tr>\n",
    "        <td>8</td>\n",
    "        <td>Yanis</td>\n",
    "        <td>17</td>\n",
    "        <td>11</td>\n",
    "        <td>2004</td>\n",
    "        <td>G</td>\n",
    "        <td>dormir plus longtemps le matin</td>\n",
    "    </tr>\n",
    "    <tr>\n",
    "        <td>9</td>\n",
    "        <td>Leonie</td>\n",
    "        <td>28</td>\n",
    "        <td>10</td>\n",
    "        <td>2004</td>\n",
    "        <td>F</td>\n",
    "        <td>aider les autres</td>\n",
    "    </tr>\n",
    "    <tr>\n",
    "        <td>10</td>\n",
    "        <td>Lilian</td>\n",
    "        <td>26</td>\n",
    "        <td>10</td>\n",
    "        <td>2004</td>\n",
    "        <td>G</td>\n",
    "        <td>apprendre à piloter une Formule 1</td>\n",
    "    </tr>\n",
    "    <tr>\n",
    "        <td>11</td>\n",
    "        <td>Justine</td>\n",
    "        <td>10</td>\n",
    "        <td>2</td>\n",
    "        <td>2004</td>\n",
    "        <td>F</td>\n",
    "        <td>devenir présidente</td>\n",
    "    </tr>\n",
    "    <tr>\n",
    "        <td>12</td>\n",
    "        <td>Jules</td>\n",
    "        <td>28</td>\n",
    "        <td>6</td>\n",
    "        <td>2004</td>\n",
    "        <td>G</td>\n",
    "        <td>créer un jeu vidéo</td>\n",
    "    </tr>\n",
    "    <tr>\n",
    "        <td>13</td>\n",
    "        <td>Baptiste</td>\n",
    "        <td>12</td>\n",
    "        <td>10</td>\n",
    "        <td>2004</td>\n",
    "        <td>G</td>\n",
    "        <td>gérer sa propre entreprise</td>\n",
    "    </tr>\n",
    "    <tr>\n",
    "        <td>14</td>\n",
    "        <td>Thibault</td>\n",
    "        <td>23</td>\n",
    "        <td>10</td>\n",
    "        <td>2004</td>\n",
    "        <td>G</td>\n",
    "        <td>gagner le Tour de France</td>\n",
    "    </tr>\n",
    "    <tr>\n",
    "        <td>15</td>\n",
    "        <td>Hugo</td>\n",
    "        <td>28</td>\n",
    "        <td>4</td>\n",
    "        <td>2004</td>\n",
    "        <td>G</td>\n",
    "        <td>jouer dans le prochain James Bond</td>\n",
    "    </tr>\n",
    "    <tr>\n",
    "        <td>16</td>\n",
    "        <td>Amaury</td>\n",
    "        <td>12</td>\n",
    "        <td>7</td>\n",
    "        <td>2004</td>\n",
    "        <td>G</td>\n",
    "        <td>devenir champion du monde de bras de fer</td>\n",
    "    </tr>\n",
    "    <tr>\n",
    "        <td>17</td>\n",
    "        <td>Esteban</td>\n",
    "        <td>7</td>\n",
    "        <td>5</td>\n",
    "        <td>2004</td>\n",
    "        <td>G</td>\n",
    "        <td>devenir youtuber</td>\n",
    "    </tr>\n",
    "    <tr>\n",
    "        <td>18</td>\n",
    "        <td>Abdel-Waheb</td>\n",
    "        <td>13</td>\n",
    "        <td>10</td>\n",
    "        <td>2004</td>\n",
    "        <td>G</td>\n",
    "        <td>avoir son émission de TV</td>\n",
    "    </tr>\n",
    "    <tr>\n",
    "        <td>19</td>\n",
    "        <td>Wesley</td>\n",
    "        <td>7</td>\n",
    "        <td>4</td>\n",
    "        <td>2004</td>\n",
    "        <td>G</td>\n",
    "        <td>écrire un livre</td>\n",
    "    </tr>\n",
    "    <tr>\n",
    "        <td>20</td>\n",
    "        <td>Lubin</td>\n",
    "        <td>4</td>\n",
    "        <td>12</td>\n",
    "        <td>2004</td>\n",
    "        <td>G</td>\n",
    "        <td>inventer la machine à voyager dans le temps</td>\n",
    "    </tr>\n",
    "    <tr>\n",
    "        <td>21</td>\n",
    "        <td>Teddy</td>\n",
    "        <td>1</td>\n",
    "        <td>12</td>\n",
    "        <td>2004</td>\n",
    "        <td>G</td>\n",
    "        <td>devenir une rockstar</td>\n",
    "    </tr>\n",
    "</tbody></table>"
   ]
  },
  {
   "cell_type": "markdown",
   "id": "7608c53b",
   "metadata": {},
   "source": [
    "# Sélection de colonnes en SQL\n",
    "\n",
    "**Rappel** : en classe de Première, on a effectué des projections sur les colonnes de la table. L’instruction suivante permet de créer une table `t` contenant les attributs `prenom` et `annee` de la table `eleves`. On dit que l'on fait ainsi une projection sur ces deux colonnes."
   ]
  },
  {
   "cell_type": "code",
   "execution_count": 3,
   "id": "6e251282",
   "metadata": {},
   "outputs": [
    {
     "data": {
      "text/plain": [
       "[{'prenom': 'Fathi', 'annee': 2003},\n",
       " {'prenom': 'Evan', 'annee': 2004},\n",
       " {'prenom': 'Aline', 'annee': 2004},\n",
       " {'prenom': 'Baptiste', 'annee': 2002},\n",
       " {'prenom': 'Corentin', 'annee': 2004},\n",
       " {'prenom': 'Estelle', 'annee': 2004},\n",
       " {'prenom': 'Elisa', 'annee': 2004},\n",
       " {'prenom': 'Yanis', 'annee': 2004},\n",
       " {'prenom': 'Leonie', 'annee': 2004},\n",
       " {'prenom': 'Lilian', 'annee': 2004},\n",
       " {'prenom': 'Justine', 'annee': 2004},\n",
       " {'prenom': 'Jules', 'annee': 2004},\n",
       " {'prenom': 'Baptiste', 'annee': 2004},\n",
       " {'prenom': 'Thibault', 'annee': 2004},\n",
       " {'prenom': 'Hugo', 'annee': 2004},\n",
       " {'prenom': 'Amaury', 'annee': 2004},\n",
       " {'prenom': 'Esteban', 'annee': 2004},\n",
       " {'prenom': 'Abdel-Waheb', 'annee': 2004},\n",
       " {'prenom': 'Wesley', 'annee': 2004},\n",
       " {'prenom': 'Lubin', 'annee': 2004},\n",
       " {'prenom': 'Teddy', 'annee': 2004}]"
      ]
     },
     "execution_count": 3,
     "metadata": {},
     "output_type": "execute_result"
    }
   ],
   "source": [
    "t = [{'prenom': e['prenom'], 'annee': e['annee']} for e in eleves]\n",
    "t"
   ]
  },
  {
   "cell_type": "markdown",
   "id": "303d3176",
   "metadata": {},
   "source": [
    "En SQL, il est possible de sélectionner certaines colonnes de la table simplement en indiquant après le `SELECT`, les noms des attributs à conserver.\n",
    "\n",
    "Par exemple, la requête\n",
    "\n",
    "```sql\n",
    "SELECT prenom, annee FROM Eleve;\n",
    "```\n",
    "\n",
    "permet de ne sélectionner que les attributs `prenom` et `annee` de la table `Eleve` (on fait une projection sur ces deux attributs). Elle produit le résultat :"
   ]
  },
  {
   "cell_type": "markdown",
   "id": "54be03b5",
   "metadata": {},
   "source": [
    "<table>\n",
    "    <tbody><tr>\n",
    "        <th>prenom</th>\n",
    "        <th>annee</th>\n",
    "    </tr>\n",
    "    <tr>\n",
    "        <td>Fathi</td>\n",
    "        <td>2003</td>\n",
    "    </tr>\n",
    "    <tr>\n",
    "        <td>Evan</td>\n",
    "        <td>2004</td>\n",
    "    </tr>\n",
    "    <tr>\n",
    "        <td>Aline</td>\n",
    "        <td>2004</td>\n",
    "    </tr>\n",
    "    <tr>\n",
    "        <td>Baptiste</td>\n",
    "        <td>2002</td>\n",
    "    </tr>\n",
    "    <tr>\n",
    "        <td>Corentin</td>\n",
    "        <td>2004</td>\n",
    "    </tr>\n",
    "    <tr>\n",
    "        <td>Estelle</td>\n",
    "        <td>2004</td>\n",
    "    </tr>\n",
    "    <tr>\n",
    "        <td>Elisa</td>\n",
    "        <td>2004</td>\n",
    "    </tr>\n",
    "    <tr>\n",
    "        <td>Yanis</td>\n",
    "        <td>2004</td>\n",
    "    </tr>\n",
    "    <tr>\n",
    "        <td>Leonie</td>\n",
    "        <td>2004</td>\n",
    "    </tr>\n",
    "    <tr>\n",
    "        <td>Lilian</td>\n",
    "        <td>2004</td>\n",
    "    </tr>\n",
    "    <tr>\n",
    "        <td>Justine</td>\n",
    "        <td>2004</td>\n",
    "    </tr>\n",
    "    <tr>\n",
    "        <td>Jules</td>\n",
    "        <td>2004</td>\n",
    "    </tr>\n",
    "    <tr>\n",
    "        <td>Baptiste</td>\n",
    "        <td>2004</td>\n",
    "    </tr>\n",
    "    <tr>\n",
    "        <td>Thibault</td>\n",
    "        <td>2004</td>\n",
    "    </tr>\n",
    "    <tr>\n",
    "        <td>Hugo</td>\n",
    "        <td>2004</td>\n",
    "    </tr>\n",
    "    <tr>\n",
    "        <td>Amaury</td>\n",
    "        <td>2004</td>\n",
    "    </tr>\n",
    "    <tr>\n",
    "        <td>Esteban</td>\n",
    "        <td>2004</td>\n",
    "    </tr>\n",
    "    <tr>\n",
    "        <td>Abdel-Waheb</td>\n",
    "        <td>2004</td>\n",
    "    </tr>\n",
    "    <tr>\n",
    "        <td>Wesley</td>\n",
    "        <td>2004</td>\n",
    "    </tr>\n",
    "    <tr>\n",
    "        <td>Lubin</td>\n",
    "        <td>2004</td>\n",
    "    </tr>\n",
    "    <tr>\n",
    "        <td>Teddy</td>\n",
    "        <td>2004</td>\n",
    "    </tr>\n",
    "</tbody></table>"
   ]
  },
  {
   "cell_type": "markdown",
   "id": "f8ed08db",
   "metadata": {},
   "source": [
    "**Q2** : Écrivez et testez une requête SQL permettant de sélectionner uniquement les attributs `prenom`, `sexe` et `projet`."
   ]
  },
  {
   "cell_type": "markdown",
   "id": "f22db14f",
   "metadata": {},
   "source": [
    "*Réponse* :\n",
    "\n",
    "```sql\n",
    "\n",
    "\n",
    "```"
   ]
  },
  {
   "cell_type": "markdown",
   "id": "936826db",
   "metadata": {},
   "source": [
    "# Sélectionner de lignes en SQL\n",
    "\n",
    "**Rappel** : en classe de Première, on a sélectionné des lignes de la table vérifiant une certaine condition. L’instruction suivante permettait de créer une table `eleves_nes_fevrier` contenant les lignes des élèves nés en février."
   ]
  },
  {
   "cell_type": "code",
   "execution_count": 4,
   "id": "3eb7dbf2",
   "metadata": {},
   "outputs": [
    {
     "data": {
      "text/plain": [
       "[{'prenom': 'Fathi',\n",
       "  'jour': 3,\n",
       "  'mois': 2,\n",
       "  'annee': 2003,\n",
       "  'sexe': 'G',\n",
       "  'projet': 'être heureux'},\n",
       " {'prenom': 'Justine',\n",
       "  'jour': 10,\n",
       "  'mois': 2,\n",
       "  'annee': 2004,\n",
       "  'sexe': 'F',\n",
       "  'projet': 'devenir présidente'}]"
      ]
     },
     "execution_count": 4,
     "metadata": {},
     "output_type": "execute_result"
    }
   ],
   "source": [
    "eleves_nes_fevrier = [e for e in eleves if e['mois'] == 2]\n",
    "eleves_nes_fevrier"
   ]
  },
  {
   "cell_type": "markdown",
   "id": "77345531",
   "metadata": {},
   "source": [
    "En SQL, il est possible de préciser la condition de sélection en l’écrivant juste après le mot clé `WHERE` comme ci-dessous.\n",
    "\n",
    "```sql\n",
    "SELECT * FROM Eleve WHERE mois = 2;\n",
    "```\n",
    "\n",
    "<table>\n",
    "    <tbody><tr>\n",
    "        <th>id_eleve</th>\n",
    "        <th>prenom</th>\n",
    "        <th>jour</th>\n",
    "        <th>mois</th>\n",
    "        <th>annee</th>\n",
    "        <th>sexe</th>\n",
    "        <th>projet</th>\n",
    "    </tr>\n",
    "    <tr>\n",
    "        <td>1</td>\n",
    "        <td>Fathi</td>\n",
    "        <td>3</td>\n",
    "        <td>2</td>\n",
    "        <td>2003</td>\n",
    "        <td>G</td>\n",
    "        <td>être heureux</td>\n",
    "    </tr>\n",
    "    <tr>\n",
    "        <td>11</td>\n",
    "        <td>Justine</td>\n",
    "        <td>10</td>\n",
    "        <td>2</td>\n",
    "        <td>2004</td>\n",
    "        <td>F</td>\n",
    "        <td>devenir présidente</td>\n",
    "    </tr>\n",
    "</tbody></table>"
   ]
  },
  {
   "cell_type": "markdown",
   "id": "a56ee5a3",
   "metadata": {},
   "source": [
    "**Q3** : Écrivez et testez une requête SQL permettant d’afficher les élèves nés en 2004."
   ]
  },
  {
   "cell_type": "markdown",
   "id": "4ba5d83c",
   "metadata": {},
   "source": [
    "*Réponse* :\n",
    "\n",
    "```sql\n",
    "\n",
    "\n",
    "```"
   ]
  },
  {
   "cell_type": "markdown",
   "id": "efc299c4",
   "metadata": {},
   "source": [
    "**Q4** : Écrivez et testez une requête SQL permettant d’afficher les filles nées en octobre 2004.\n",
    "\n",
    "> On peut utiliser les opérateurs `AND` ou `OR` pour combiner les conditions de sélection."
   ]
  },
  {
   "cell_type": "markdown",
   "id": "64f18cf3",
   "metadata": {},
   "source": [
    "*Réponse* :\n",
    "\n",
    "```sql\n",
    "\n",
    "\n",
    "\n",
    "```"
   ]
  },
  {
   "cell_type": "markdown",
   "id": "cc709cfc",
   "metadata": {},
   "source": [
    "# Sélectionner des lignes et des colonnes\n",
    "\n",
    "**Rappel** : L’instruction suivante permettait de créer une table `prenoms_projets_des_filles` contenant les prénoms et les projets des filles de la classe."
   ]
  },
  {
   "cell_type": "code",
   "execution_count": 5,
   "id": "2a56b0e1",
   "metadata": {},
   "outputs": [
    {
     "data": {
      "text/plain": [
       "[{'prenom': 'Aline', 'projet': 'gagner au loto'},\n",
       " {'prenom': 'Estelle', 'projet': 'devenir astronaute'},\n",
       " {'prenom': 'Elisa', 'projet': 'marcher sur la lune'},\n",
       " {'prenom': 'Leonie', 'projet': 'aider les autres'},\n",
       " {'prenom': 'Justine', 'projet': 'devenir présidente'}]"
      ]
     },
     "execution_count": 5,
     "metadata": {},
     "output_type": "execute_result"
    }
   ],
   "source": [
    "prenoms_projets_des_filles = [{'prenom': e['prenom'], 'projet': e['projet']} for e in eleves if e['sexe'] == 'F']\n",
    "prenoms_projets_des_filles"
   ]
  },
  {
   "cell_type": "markdown",
   "id": "6e926544",
   "metadata": {},
   "source": [
    "En SQL, pour combiner les les sélections sur les lignes et les projections sur les colonnes, il suffit de préciser les attributs de projection après le `SELECT` et préciser la condition de sélection après le `WHERE`.\n",
    "\n",
    "Par exemple, la requête\n",
    "\n",
    "```sql\n",
    "SELECT prenom, projet FROM Eleve WHERE sexe=\"F\";\n",
    "```\n",
    "\n",
    "permet d'afficher une table contenant les prénoms et les projets des filles de la classe :"
   ]
  },
  {
   "cell_type": "markdown",
   "id": "216a8f24",
   "metadata": {},
   "source": [
    "<table>\n",
    "    <tbody><tr>\n",
    "        <th>prenom</th>\n",
    "        <th>projet</th>\n",
    "    </tr>\n",
    "    <tr>\n",
    "        <td>Aline</td>\n",
    "        <td>gagner au loto</td>\n",
    "    </tr>\n",
    "    <tr>\n",
    "        <td>Estelle</td>\n",
    "        <td>devenir astronaute</td>\n",
    "    </tr>\n",
    "    <tr>\n",
    "        <td>Elisa</td>\n",
    "        <td>marcher sur la lune</td>\n",
    "    </tr>\n",
    "    <tr>\n",
    "        <td>Leonie</td>\n",
    "        <td>aider les autres</td>\n",
    "    </tr>\n",
    "    <tr>\n",
    "        <td>Justine</td>\n",
    "        <td>devenir présidente</td>\n",
    "    </tr>\n",
    "</tbody></table>"
   ]
  },
  {
   "cell_type": "markdown",
   "id": "38194670",
   "metadata": {},
   "source": [
    "**Q5** : Écrivez et testez une requête SQL permettant d’afficher les prénoms des élèves nés en avril 2004."
   ]
  },
  {
   "cell_type": "markdown",
   "id": "ab0119bc",
   "metadata": {},
   "source": [
    "*Réponse* :\n",
    "\n",
    "```sql\n",
    "\n",
    "\n",
    "\n",
    "```"
   ]
  },
  {
   "cell_type": "markdown",
   "id": "27c1decf",
   "metadata": {},
   "source": [
    "**Q6**: Écrivez et testez une requête SQL permettant d’afficher les id, prénoms et projets des élèves nés les six derniers mois de l’année 2004."
   ]
  },
  {
   "cell_type": "markdown",
   "id": "ce0397cd",
   "metadata": {},
   "source": [
    "*Réponse* :\n",
    "\n",
    "```sql\n",
    "\n",
    "\n",
    "\n",
    "```"
   ]
  },
  {
   "cell_type": "markdown",
   "id": "296b6e5c",
   "metadata": {},
   "source": [
    "# Trier les résultats avec ORDER BY\n",
    "\n",
    "La commande `ORDER BY` permet de trier les résultats d’une requête en précisant juste après sur quel attribut le tri doit se faire.\n",
    "\n",
    "Par exemple, la requête\n",
    "\n",
    "```sql\n",
    "SELECT prenom, annee FROM Eleves ORDER BY prenom ASC;\n",
    "```\n",
    "\n",
    "permet de trier le résultat de la requête `SELECT prenom, annee FROM Eleves` selon les prénoms des élèves, ici selon l’ordre alphabétique grâce à `ASC` (« ascendant », du plus petit au plus grand). \n",
    "\n",
    ">Il suffirait de remplacer `ASC` par `DESC` (« descendant ») pour que le tri se fasse dans le sens inverse.\n",
    "\n"
   ]
  },
  {
   "cell_type": "markdown",
   "id": "71c25be5",
   "metadata": {},
   "source": [
    "**Q7** Écrivez et testez une requête SQL permettant d’afficher les prénoms et l’année de naissance des élèves, le résultat étant trié par ordre croissant d’année de naissance."
   ]
  },
  {
   "cell_type": "markdown",
   "id": "1129a2e0",
   "metadata": {},
   "source": [
    "*Réponse* :\n",
    "\n",
    "```sql\n",
    "\n",
    "\n",
    "```"
   ]
  },
  {
   "cell_type": "markdown",
   "id": "315a8a70",
   "metadata": {},
   "source": [
    "**Q8** : Écrivez et testez une requête SQL permettant d’afficher, du plus jeune au moins jeune, les prénoms des élèves nés en octobre 2004.\n",
    "\n",
    "> On peut combiner les clauses `WHERE` et `ORDER BY`"
   ]
  },
  {
   "cell_type": "markdown",
   "id": "5679ad83",
   "metadata": {},
   "source": [
    "*Réponse* :\n",
    "\n",
    "```sql\n",
    "\n",
    "\n",
    "\n",
    "```"
   ]
  },
  {
   "cell_type": "markdown",
   "id": "1ff7cc39",
   "metadata": {},
   "source": [
    "# Quelques fonctions de calculs\n",
    "\n",
    "Il est possible d'utiliser des fonctions de calculs en SQL. En voici quelques unes.\n",
    "\n",
    "## Compter le nombre de tuples : `COUNT(*)`\n",
    "\n",
    "Donnons tout de suite deux exemples.\n",
    "\n",
    "La requête SQL suivante permet de compter le nombre d’élèves de la classe.\n",
    "\n",
    "```sql\n",
    "SELECT COUNT(*) AS nbEleves FROM Eleve;\n",
    "```\n"
   ]
  },
  {
   "cell_type": "markdown",
   "id": "1e417754",
   "metadata": {},
   "source": [
    "<table>\n",
    "    <tbody><tr>\n",
    "        <th>nbEleves</th>\n",
    "    </tr>\n",
    "    <tr>\n",
    "        <td>21</td>\n",
    "    </tr>\n",
    "</tbody></table>"
   ]
  },
  {
   "cell_type": "markdown",
   "id": "6a728730",
   "metadata": {},
   "source": [
    "La requête SQL suivante permet de compter le nombre de garçons de la classe.\n",
    "\n",
    "```sql\n",
    "SELECT COUNT(*) AS nbGarcons FROM Eleve WHERE sexe = \"G\";\n",
    "```"
   ]
  },
  {
   "cell_type": "markdown",
   "id": "46fda6f4",
   "metadata": {},
   "source": [
    "<table>\n",
    "    <tbody><tr>\n",
    "        <th>nbGarcons</th>\n",
    "    </tr>\n",
    "    <tr>\n",
    "        <td>16</td>\n",
    "    </tr>\n",
    "</tbody></table>"
   ]
  },
  {
   "cell_type": "markdown",
   "id": "f89b566e",
   "metadata": {},
   "source": [
    "**Analyse de la deuxième requête** :\n",
    "\n",
    "* On sélectionne les tuples de la table `Eleve` correspondant à des garçons grâce à l’instruction `FROM Eleves WHERE sexe=\"G\"`\n",
    "* L’instruction `COUNT(*)` permet de compter *tous* les tuples sélectionnés \n",
    "* L’ajout de `AS nbGarcons` permet de nommer le résultat. Cette astuce est optionnelle mais est particulièrement utile pour faciliter la lecture des requêtes.\n"
   ]
  },
  {
   "cell_type": "markdown",
   "id": "266c2780",
   "metadata": {},
   "source": [
    "**Q9** : Écrivez une requête SQL permettant de compter le nombre d’élèves nés en 2004."
   ]
  },
  {
   "cell_type": "markdown",
   "id": "6fff9d5f",
   "metadata": {},
   "source": [
    "*Réponse* :\n",
    "\n",
    "```sql\n",
    "\n",
    "\n",
    "\n",
    "```"
   ]
  },
  {
   "cell_type": "markdown",
   "id": "f077f50c",
   "metadata": {},
   "source": [
    "**Q10** : Écrivez une requête SQL permettant de compter le nombre d’élèves nés en février."
   ]
  },
  {
   "cell_type": "markdown",
   "id": "c3dfdba4",
   "metadata": {},
   "source": [
    "*Réponse* :\n",
    "\n",
    "```sql\n",
    "\n",
    "\n",
    "\n",
    "```"
   ]
  },
  {
   "cell_type": "markdown",
   "id": "485e5cbe",
   "metadata": {},
   "source": [
    "## Compter le nombre de valeurs distinctes d'un attribut\n",
    "\n",
    "La requête \n",
    "\n",
    "```sql\n",
    "SELECT annee FROM Eleve;\n",
    "```\n",
    "\n",
    "va afficher les années de naissance de chacun des 16 élèves (à savoir 2003, 2003, 2003, …, 2002, 2004, 2003)\n",
    "\n",
    "L’utilisation d’un `DISTINCT` permet d’éviter les redondances dans les résultats affichées. Ainsi, l’instruction\n",
    "\n",
    "```sql\n",
    "SELECT DISTINCT annee FROM Eleve;\n",
    "```\n",
    "\n",
    "ne va afficher que les années de naissance distinctes des élèves (à savoir 2003, 2002, 2004). N’hésitez pas à tester ces deux requêtes.\n",
    "\n",
    "Pour compter le nombre d’années de naissance distinctes des élèves de la classe, il suffit d’ajouter un `COUNT` comme suit :\n",
    "\n",
    "```sql\n",
    "SELECT COUNT(DISTINCT annee) AS nbAnneesDistinctes FROM Eleve;\n",
    "```"
   ]
  },
  {
   "cell_type": "markdown",
   "id": "18c70c7a",
   "metadata": {},
   "source": [
    "**Q11** : Écrivez une requête SQL permettant de compter le nombre de mois de naissances différents des élèves de la classe."
   ]
  },
  {
   "cell_type": "markdown",
   "id": "5f7dba8a",
   "metadata": {},
   "source": [
    "*Réponse* :\n",
    "\n",
    "```sql\n",
    "\n",
    "\n",
    "\n",
    "```"
   ]
  },
  {
   "cell_type": "markdown",
   "id": "81d62f0b",
   "metadata": {},
   "source": [
    "## La fonction `AVG()`\n",
    "\n",
    "La fonction d'agrégation `AVG()` (de l'anglais, _average_ signifiant \"moyenne\") dans le langage SQL permet de calcule une valeur moyenne d'un ensemble de valeurs numériques.\n",
    "\n",
    "Par exemple, la requête\n",
    "\n",
    "```sql\n",
    "SELECT AVG(annee) AS anneeMoyenne FROM Eleve;\n",
    "```\n",
    "\n",
    "permet de calculer l’année moyenne de naissance des élèves de la classe. "
   ]
  },
  {
   "cell_type": "markdown",
   "id": "189baff9",
   "metadata": {},
   "source": [
    "<table>\n",
    "    <tbody><tr>\n",
    "        <th>anneeMoyenne</th>\n",
    "    </tr>\n",
    "    <tr>\n",
    "        <td>2003.857142857143</td>\n",
    "    </tr>\n",
    "</tbody></table>"
   ]
  },
  {
   "cell_type": "markdown",
   "id": "1e3ff8ce",
   "metadata": {},
   "source": [
    "**Q12** : Écrivez une requête SQL permettant de calculer l’âge moyen des élèves de la classe (en 2021). Ce résultat sera nommé `ageMoyen`."
   ]
  },
  {
   "cell_type": "markdown",
   "id": "e436108c",
   "metadata": {},
   "source": [
    "*Réponse* :\n",
    "\n",
    "```sql\n",
    "\n",
    "\n",
    "\n",
    "```"
   ]
  },
  {
   "cell_type": "markdown",
   "id": "d3fef266",
   "metadata": {},
   "source": [
    "# Bilan\n",
    "\n",
    "* Pour interroger une base de données, on doit écrire des requêtes dans le langage SQL via un logiciel de type SGBD.\n",
    "* Nous avions ici une base de données formée d'une seule table, ce qui n'est pas souvent le cas. Ainsi, vous découvrirez d'autres fonctionnalités du langage SQL dans la suite de ce chapitre où nous travaillerons aussi sur des bases de données formées de plusieurs tables."
   ]
  },
  {
   "cell_type": "markdown",
   "id": "4316d64a",
   "metadata": {},
   "source": [
    "---\n",
    "Germain BECKER, Sébastien Point, Lycée Mounier, ANGERS\n",
    "\n",
    "Ressource éducative libre distribuée sous [Licence Creative Commons Attribution - Pas d’Utilisation Commerciale - Partage dans les Mêmes Conditions 4.0 International](http://creativecommons.org/licenses/by-nc-sa/4.0/) \n",
    "\n",
    "![Licence Creative Commons](https://i.creativecommons.org/l/by-nc-sa/4.0/88x31.png)"
   ]
  }
 ],
 "metadata": {
  "kernelspec": {
   "display_name": "Python 3",
   "language": "python",
   "name": "python3"
  },
  "language_info": {
   "codemirror_mode": {
    "name": "ipython",
    "version": 3
   },
   "file_extension": ".py",
   "mimetype": "text/x-python",
   "name": "python",
   "nbconvert_exporter": "python",
   "pygments_lexer": "ipython3",
   "version": "3.7.10"
  }
 },
 "nbformat": 4,
 "nbformat_minor": 5
}
