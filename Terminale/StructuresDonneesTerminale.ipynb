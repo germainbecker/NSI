{
 "cells": [
  {
   "cell_type": "markdown",
   "metadata": {},
   "source": [
    "<h1 style=\"text-align: center; font-size: 35px\">Programme de Terminale - Structures de données</h1>"
   ]
  },
  {
   "cell_type": "markdown",
   "metadata": {},
   "source": [
    "Voici des implémentations possibles des structures de données au programme :\n",
    "\n",
    "- [Implémentations d'une liste](#Les-listes)\n",
    "- [Implémentations d'une pile](#Les-piles)\n",
    "- [Implémentations d'une file](#Les-files)\n",
    "- [Implémentations d'un arbre binaire](#Les-arbres-binaires-(et-ABR)) (ou d'un arbre binaire de recherche)\n",
    "- [Implémentations d'un graphe](#Les-graphes)"
   ]
  },
  {
   "cell_type": "markdown",
   "metadata": {},
   "source": [
    "# Les listes\n",
    "\n",
    "## Type abstrait `Liste`\n",
    "\n",
    "Le type abstrait `Liste` peut alors être défini par l'*interface* suivante contenant 5 opérations primitives :\n",
    "\n",
    "- Des constructeurs :\n",
    "    - `listevide()` pour construire une liste vide\n",
    "    - `construit(e, L)` pour construire une nouvelle liste contenant un premier élément `e` (sa tête) et une suite `L` (sa queue, qui est une liste). Cet opérateur est aussi souvent noté `cons`.\n",
    "- Des sélecteurs :\n",
    "    - `premier(L)` pour accéder au premier élément de la liste `L`, sa tête. Cet opérateur est aussi souvent noté `car`. \n",
    "    - `reste(L)` pour accéder au reste de la liste `L` c'est-à-dire sa queue. Cet opérateur est aussi souvent noté `cdr`.\n",
    "- Un prédicat : \n",
    "    - `estvide(L)` pour tester si une liste est vide.\n",
    "\n",
    "Ainsi, pour construire une liste formée par les nombres 5, 3, 8 (dans cet ordre) on fait :\n",
    "\n",
    "```python\n",
    "maliste1 = construit(5, construit(3, construit(8, listevide())))\n",
    "```"
   ]
  },
  {
   "cell_type": "markdown",
   "metadata": {},
   "source": [
    "## Implémentation avec des couples"
   ]
  },
  {
   "cell_type": "code",
   "execution_count": 1,
   "metadata": {},
   "outputs": [
    {
     "name": "stdout",
     "output_type": "stream",
     "text": [
      "(5, (3, (8, None)))\n",
      "5\n",
      "(3, (8, None))\n"
     ]
    }
   ],
   "source": [
    "def listevide():\n",
    "    return None  # on utilise None pour une liste vide\n",
    "\n",
    "def construit(e, L):\n",
    "    return (e, L) # renvoie un tuple de deux éléments\n",
    "\n",
    "def premier(L):\n",
    "    return L[0] # accès au premier élément du couple (la tête de L)\n",
    "\n",
    "def reste(L):\n",
    "    return L[1] # accès au deuxième élément du couple (la queue de L)\n",
    "\n",
    "def estvide(L):\n",
    "    return L is None  # L est égal à None ?\n",
    "\n",
    "maliste1 = construit(5, construit(3, construit(8, listevide())))\n",
    "print(maliste1)\n",
    "print(premier(maliste1))\n",
    "print(reste(maliste1))"
   ]
  },
  {
   "cell_type": "markdown",
   "metadata": {},
   "source": [
    "## Implémentation avec le type `list` de Python"
   ]
  },
  {
   "cell_type": "code",
   "execution_count": 2,
   "metadata": {},
   "outputs": [
    {
     "name": "stdout",
     "output_type": "stream",
     "text": [
      "[5, 3, 8]\n",
      "5\n",
      "[3, 8]\n"
     ]
    }
   ],
   "source": [
    "def listevide():\n",
    "    return [] # renvoie une liste vide\n",
    "\n",
    "def construit(e, L):\n",
    "    return [e] + L  # renvoie une liste qui est la concaténation d'une liste contenant e avec la liste L\n",
    "\n",
    "def premier(L):\n",
    "    return L[0]  # renvoie le premier élément de L\n",
    "\n",
    "def reste(L):\n",
    "    return L[1:]   # renvoie une liste contenant les éléments de L à partir de la position 1\n",
    "\n",
    "def estvide(L):\n",
    "    return L == []  # renvoie True si L est vide, False sinon\n",
    "\n",
    "maliste1 = construit(5, construit(3, construit(8, listevide())))\n",
    "print(maliste1)\n",
    "print(premier(maliste1))\n",
    "print(reste(maliste1))"
   ]
  },
  {
   "cell_type": "markdown",
   "metadata": {},
   "source": [
    "## Opérations dérivées"
   ]
  },
  {
   "cell_type": "code",
   "execution_count": 3,
   "metadata": {},
   "outputs": [
    {
     "name": "stdout",
     "output_type": "stream",
     "text": [
      "0\n",
      "4\n",
      "-2\n"
     ]
    }
   ],
   "source": [
    "# ---- DERNIER -----\n",
    "\n",
    "# Version itérative\n",
    "def dernier(L):\n",
    "    \"\"\"Liste --> Element\n",
    "    Précondition : L n'est pas vide.\"\"\"\n",
    "    while reste(L) != listevide(): # tant que le reste de la liste n'est pas vide\n",
    "        L = reste(L) # on passe au reste\n",
    "    return premier(L) # on renvoie le premier élément de la dernière paire\n",
    "\n",
    "# Version récursive\n",
    "def dernier(L):\n",
    "    while reste(L) != listevide(): # tant que le reste de la liste n'est pas vide\n",
    "        L = reste(L) # on passe au reste\n",
    "    return premier(L) # on renvoie le premier élément de la dernière paire\n",
    "\n",
    "# ---- TAILLE -----\n",
    "\n",
    "# Version itérative\n",
    "def taille(L):\n",
    "    \"\"\"Liste --> Entier\n",
    "    Précondition : aucune.\"\"\"\n",
    "    cpt = 0\n",
    "    while L != listevide(): # ou while not estvide(L):\n",
    "        cpt = cpt + 1\n",
    "        L = reste(L)\n",
    "    return cpt\n",
    "\n",
    "# Version récursive\n",
    "def taille(L):\n",
    "    if estvide(L):\n",
    "        return 0\n",
    "    else:\n",
    "        return 1 + taille(reste(L))\n",
    "\n",
    "# ---- LIRE -----\n",
    "\n",
    "# Version itérative\n",
    "def lire(L, i):\n",
    "    \"\"\"Liste x Entier --> Element\n",
    "    Préconditions : L n'est pas vide ; i est dans 0..taille(L)-1\"\"\"\n",
    "    assert L != listevide() and 0 <= i <= taille(L)-1, \"précondition(s) non respectée(s)\"\n",
    "    cpt = 0\n",
    "    while cpt < i:\n",
    "        L = reste(L)\n",
    "        cpt = cpt + 1\n",
    "    return premier(L)\n",
    "\n",
    "# Version récursive\n",
    "def lire(L, i):\n",
    "    if i == 0:\n",
    "        return premier(L)  # si i vaut 0 on renvoit le premier élément de la paire\n",
    "    else:\n",
    "        return lire(reste(L), i-1) # sinon la réponse est le (i-1)-ème élément du reste \n",
    "\n",
    "L1 = construit(1, construit(3, construit(-2, construit(0, listevide()))))\n",
    "print(dernier(L1))\n",
    "print(taille(L1))\n",
    "print(lire(L1, 2))"
   ]
  },
  {
   "cell_type": "markdown",
   "metadata": {},
   "source": [
    "## Implémentation par une liste chaînée\n",
    "\n",
    "Une *liste chaînée* est une représentation non contigue des listes, avec des **cellules** (ou **maillons**) comportant chacun un élément (de la liste) et une référence au suivant. Ainsi, les éléments sont chaînés entre eux (d'où le nom) et on peut représenter une liste chaînée de la façon suivante :\n",
    "\n",
    "![insertion](Theme1_structures_de_donnees/data/liste_chainee.png)\n",
    "\n",
    "Commençons par créer une cellule en utilisant la programmation objet. On doit donc créer une classe `Cellule` possédant deux attributs : \n",
    "- *valeur* qui est la valeur de la cellule\n",
    "- *suivante* qui est une référence vers la cellule suivante."
   ]
  },
  {
   "cell_type": "code",
   "execution_count": 4,
   "metadata": {},
   "outputs": [],
   "source": [
    "class Cellule:\n",
    "    def __init__(self, valeur, suivante):\n",
    "        self.valeur = valeur\n",
    "        self.suivante = suivante"
   ]
  },
  {
   "cell_type": "markdown",
   "metadata": {},
   "source": [
    "La classe `Cellule` ne permet pas d'implémenter à elle seule le type abstrait *liste* car rien n'est prévu pour représenter une liste vide. On va utiliser cette classe pour créer une classe `ListeChainee` qui implémente ce type abstrait. Il suffira de faire pointer la liste vers le premier élément de la chaîne (de cellules) ou vers `None` pour la liste vide.\n",
    "\n",
    "Les opérations à implémenter dans la classe `ListeChainee` sont :\n",
    "\n",
    "- création d'une liste vide\n",
    "- ajout d'un élément en tête de liste : `ajouter_en_tete(self, element)`\n",
    "- test d'une liste vide : `est_vide(self)`\n",
    "- accès à la tête de la liste : `premier(self)`\n",
    "- accès à la queue de la liste : `reste(self)`\n",
    "\n",
    "On choisit de définir un seul attribut `tete`, qui peut être soit une référence vers la première `Cellule` d'une chaîne (de cellules), soit la valeur particulière `None` pour représenter une liste vide. On définit ainsi une *liste chaînée*."
   ]
  },
  {
   "cell_type": "code",
   "execution_count": 5,
   "metadata": {},
   "outputs": [],
   "source": [
    "class ListeChainee:\n",
    "    \"\"\"Manipulation de listes chaînées\"\"\"\n",
    "    \n",
    "    # --- OPERATIONS PRIMITIVES ---\n",
    "    \n",
    "    def __init__(self):\n",
    "        \"\"\"Initialise une liste vide.\"\"\"\n",
    "        self.tete = None\n",
    "        \n",
    "    def ajouter_en_tete(self, e):\n",
    "        \"\"\"Insère e en tête de liste en créant une nouvelle cellule\"\"\"\n",
    "        nouvelle_cellule = Cellule(e, self.tete)\n",
    "        self.tete = nouvelle_cellule\n",
    "    \n",
    "    def est_vide(self):\n",
    "        \"\"\"Renvoie True si la liste est vide, False sinon\"\"\"\n",
    "        return self.tete is None\n",
    "    \n",
    "    def premier(self):\n",
    "        \"\"\"Renvoie le premier élément de la liste (sa tête) si cette dernière est non vide\"\"\"\n",
    "        assert self.premier is not None, \"une liste vide n'a pas de tête\"\n",
    "        return self.tete.valeur\n",
    "    \n",
    "    def reste(self):\n",
    "        \"\"\"Renvoie le reste de la liste (sa queue) si cette dernière est non vide.\"\"\"\n",
    "        assert self.tete is not None, \"une liste vide n'a pas de queue\"\n",
    "        r = ListeChainee()\n",
    "        r.tete = self.tete.suivante\n",
    "        return r\n",
    "    \n",
    "    # --- OPERATIONS DERIVEES ---\n",
    "    \n",
    "    def taille(self):\n",
    "        return longueur(self.tete)\n",
    "    \n",
    "    def lire(self, i):\n",
    "        return ieme_element(self.tete, i)\n",
    "    \n",
    "    def dernier(self):\n",
    "        return ieme_element(self.tete, self.taille()-1)\n",
    "    \n",
    "    # Une représentation possible\n",
    "    def __repr__(self):\n",
    "        ch = \"\"\n",
    "        courante = self.tete\n",
    "        for k in range(self.taille()):\n",
    "            ch = ch + \" -> \" + str(courante.valeur)\n",
    "            courante = courante.suivante\n",
    "        return ch[4:] # pour enlever les 4 caractères \" -> \" du début\n",
    "    \n",
    "    def supprimer_en_tete(self):\n",
    "        \"\"\"Supprime l'élément en tête de liste, celle-ci étant non vide\"\"\"\n",
    "        assert self.tete is not None, \"on ne peut pas supprimer d'élément d'une liste vide\"\n",
    "        self.tete = self.tete.suivante\n",
    "        \n",
    "    def ajouter_en_queue(self, e):\n",
    "        \"\"\"Ajoute l'élément e en queue de liste\"\"\"\n",
    "        \n",
    "        courante = self.tete\n",
    "        if courante is None:  # si la liste est vide\n",
    "            self.ajouter_en_tete(e)  # on ajoute e en tête\n",
    "        else:\n",
    "            while courante.suivante is not None: # sinon on parcourt la liste jusqu'au dernier élément\n",
    "                courante = courante.suivante\n",
    "            derniere_cellule = Cellule(e, None)\n",
    "            courante.suivante = derniere_cellule\n",
    "\n",
    "\n",
    "\n",
    "# Longueur d'une chaîne (de cellules)\n",
    "def longueur(chaine):\n",
    "    n = 0\n",
    "    courante = chaine  # la cellule courante pointe vers chaine qui pointe vers la première cellule ou None\n",
    "    while courante is not None:  # tant que la cellule courante ne pointe par vers None\n",
    "        courante = courante.suivante # on passe à la cellule suivante\n",
    "        n = n + 1  # la longueur augmente d'une unité\n",
    "    return n\n",
    "\n",
    "# version récursive\n",
    "def longueur(chaine):\n",
    "    if chaine is None:\n",
    "        return 0\n",
    "    else:\n",
    "        return 1 + longueur(chaine.suivante)\n",
    "    \n",
    "# Accès au i-eme élément d'une chaine (de cellules)\n",
    "def ieme_element(chaine, i):\n",
    "    assert chaine is not None and 0 <= i < longueur(chaine), \"précondition(s) non respectée(s)\"\n",
    "    for k in range(i):\n",
    "        chaine = chaine.suivante        \n",
    "    return chaine.valeur\n",
    "\n",
    "# version récursive\n",
    "def ieme_element(chaine, i):\n",
    "    assert chaine is not None and 0 <= i < longueur(chaine), \"précondition(s) non respectée(s)\"\n",
    "    if i == 0:\n",
    "        return chaine.valeur\n",
    "    else:\n",
    "        return ieme_element(chaine.suivante, i - 1)\n"
   ]
  },
  {
   "cell_type": "code",
   "execution_count": 6,
   "metadata": {},
   "outputs": [
    {
     "name": "stdout",
     "output_type": "stream",
     "text": [
      "5 -> 3 -> 8\n",
      "le premier élément est : 5\n",
      "le reste est : 3 -> 8\n",
      "le dernier élément est : 8\n"
     ]
    }
   ],
   "source": [
    "L = ListeChainee()\n",
    "L.ajouter_en_tete(8)\n",
    "L.ajouter_en_tete(3)\n",
    "L.ajouter_en_tete(5)\n",
    "print(L)\n",
    "print(\"le premier élément est :\", L.premier())\n",
    "print(\"le reste est :\", L.reste())\n",
    "print(\"le dernier élément est :\", L.dernier())"
   ]
  },
  {
   "cell_type": "markdown",
   "metadata": {},
   "source": [
    "# Les piles\n",
    "\n",
    "Le jeu d'opérations disponibles pour une pile est :\n",
    "\n",
    "- `construire_pile()` : crée une pile vide\n",
    "- `taille(P)` : accès au nombre d'éléments dans la pile `P`\n",
    "- `empiler(P, e)` : ajoute l'élément `e` au sommet de la pile `P`.\n",
    "- `depiler(P)` : retire l'élément au sommet de la pile `P`. **Précondition** : `P` n'est pas vide.\n",
    "- `sommet(P)` : pour accéder (en lecture) au sommet de la pile `P` (sans le retirer de la pile). **Précondition** : `P` n'est pas vide.\n",
    "\n",
    "**Remarque** : Certaines signatures algorithmiques peuvent légèrement varier. Par exemple, on peut parfois voir l'opération `est_vide` (qui teste si une pile est vide) à la place de `taille` (une pile est vide si et seulement si sa taille vaut 0) ou encore l'opération `depiler` qui renvoie également le sommet (donc l'opération `sommet` n'est plus nécessaire). C'est un choix libre qui ne change pas la nature de la structure de données abstraite mais la façon d'écrire des algorithmes."
   ]
  },
  {
   "cell_type": "markdown",
   "metadata": {},
   "source": [
    "## Implémentation avec le type `list` de Python\n",
    "\n",
    "On présente ici une implémentation objet avec une classe `Pile` (on peut facilement adapter cela en une implémentation impérative). "
   ]
  },
  {
   "cell_type": "code",
   "execution_count": 7,
   "metadata": {},
   "outputs": [],
   "source": [
    "class Pile:\n",
    "    \"\"\"Pour manipuler des piles.\"\"\"\n",
    "    \n",
    "    def __init__(self):\n",
    "        self.contenu = []\n",
    "            \n",
    "    def empiler(self, e):\n",
    "        self.contenu.append(e)\n",
    "                    \n",
    "    def depiler(self):\n",
    "        assert self.taille() != 0, \"on ne peut pas dépiler une pile vide\"\n",
    "        self.contenu.pop()\n",
    "            \n",
    "    def sommet(self):\n",
    "        assert self.taille() != 0, \"une pile vide n'a pas de sommet\"\n",
    "        return self.contenu[-1]\n",
    "    \n",
    "    def taille(self):\n",
    "        return len(self.contenu)\n",
    "    \n",
    "    __len__ = taille # pour pouvoir également utiliser len pour obtenir la taille de la pile\n",
    "    \n",
    "    # pour représenter la Pile\n",
    "    def __repr__(self):\n",
    "        ch = \"\"\n",
    "        for e in self.contenu:\n",
    "            ch = str(e) + \",\" + ch  # ne pas oublier de convertir les éléments en chaine de caractères\n",
    "        ch = ch[:-1] # pour enlever la dernière virgule\n",
    "        ch = \">\" + ch + \"]\"\n",
    "        return ch"
   ]
  },
  {
   "cell_type": "code",
   "execution_count": 8,
   "metadata": {},
   "outputs": [
    {
     "name": "stdout",
     "output_type": "stream",
     "text": [
      ">]\n",
      ">a]\n",
      ">c,a]\n",
      ">b,c,a]\n",
      ">c,a]\n",
      ">z,c,a]\n",
      "z\n"
     ]
    }
   ],
   "source": [
    "P = Pile()\n",
    "print(P)\n",
    "P.empiler('a')\n",
    "print(P)\n",
    "P.empiler('c')\n",
    "print(P)\n",
    "P.empiler('b')\n",
    "print(P)\n",
    "P.depiler()\n",
    "print(P)\n",
    "P.empiler('z')\n",
    "print(P)\n",
    "print(P.sommet())"
   ]
  },
  {
   "cell_type": "markdown",
   "metadata": {},
   "source": [
    "## Implémentation avec une liste chaînée"
   ]
  },
  {
   "cell_type": "code",
   "execution_count": 9,
   "metadata": {},
   "outputs": [],
   "source": [
    "class Pile:\n",
    "    \"\"\"Pour manipuler des piles.\"\"\"\n",
    "    \n",
    "    def __init__(self):\n",
    "        self.contenu = ListeChainee()\n",
    "            \n",
    "    def empiler(self, e):\n",
    "        self.contenu.ajouter_en_tete(e)\n",
    "                    \n",
    "    def depiler(self):\n",
    "        assert self.taille() != 0, \"on ne peut pas dépiler une pile vide\"\n",
    "        self.contenu.supprimer_en_tete()\n",
    "            \n",
    "    def sommet(self):\n",
    "        assert self.taille() != 0, \"une pile vide n'a pas de sommet\"\n",
    "        return self.contenu.tete.valeur\n",
    "    \n",
    "    def taille(self):\n",
    "        return self.contenu.taille()\n",
    "    \n",
    "    # pour représenter la Pile\n",
    "    def __repr__(self):\n",
    "        #return repr(self.contenu) pour voir que le sommet de la pile est le début de la liste chaînée\n",
    "        ch = \"\"\n",
    "        for i in range(self.contenu.taille()):\n",
    "            ch = ch + str(self.contenu.lire(i)) + \",\"\n",
    "        ch = ch[:-1] # pour enlever la dernière virgule\n",
    "        ch = \">\" + ch + \"]\"\n",
    "        return ch"
   ]
  },
  {
   "cell_type": "code",
   "execution_count": 10,
   "metadata": {},
   "outputs": [
    {
     "name": "stdout",
     "output_type": "stream",
     "text": [
      ">]\n",
      ">a]\n",
      ">c,a]\n",
      ">b,c,a]\n",
      ">c,a]\n",
      ">z,c,a]\n",
      "z\n"
     ]
    }
   ],
   "source": [
    "P = Pile()\n",
    "print(P)\n",
    "P.empiler('a')\n",
    "print(P)\n",
    "P.empiler('c')\n",
    "print(P)\n",
    "P.empiler('b')\n",
    "print(P)\n",
    "P.depiler()\n",
    "print(P)\n",
    "P.empiler('z')\n",
    "print(P)\n",
    "print(P.sommet())"
   ]
  },
  {
   "cell_type": "markdown",
   "metadata": {},
   "source": [
    "# Les files\n",
    "\n",
    "Le jeu d'opérations disponibles pour une file est :\n",
    "\n",
    "- `construire_file()` : crée une file vide\n",
    "- `taille(F)` : accès au nombre d'éléments dans la file `F`\n",
    "- `enfiler(F, e)` : ajoute l'élément `e` en dernier dans la file `F`.\n",
    "- `defiler(F)` : retire le premier élément de la file `F`. **Précondition** : `F` n'est pas vide.\n",
    "- `premier(F)` : pour accéder (en lecture) au premier élément de la file `F` (sans le retirer de la file). **Précondition** : `F` n'est pas vide.\n",
    "\n",
    "> En anglais, l'opération `enfiler` est souvent notée `push`, l'opération `depiler` est souvent notée `pop` et l'opération `taille` est souvent notée `top`.\n",
    "\n",
    "**Remarque** : Comme pour les piles, on pourrait remplacer l'opération `taille` par l'opération `est_vide` et choisir que `defiler` renvoie également le premier élément pour s'économiser l'opération `premier`."
   ]
  },
  {
   "cell_type": "markdown",
   "metadata": {},
   "source": [
    "## Implémentation avec le type `list` de Python\n",
    "\n",
    "On présente ici une implémentation objet avec une classe `File` (on peut facilement adapter cela en une implémentation impérative)."
   ]
  },
  {
   "cell_type": "code",
   "execution_count": 11,
   "metadata": {},
   "outputs": [],
   "source": [
    "class File:\n",
    "    def __init__(self):\n",
    "        self.contenu = []\n",
    "        \n",
    "    def enfiler(self, element):\n",
    "        self.contenu.append(element)\n",
    "        \n",
    "    def defiler(self):\n",
    "        assert self.taille() != 0, \"on ne peut pas défiler une file vide\"\n",
    "        self.contenu.pop(0) # ou return self.contenu.pop(0) si l'opération défiler doit aussi renvoyer le sommet\n",
    "    \n",
    "    def premier(self):\n",
    "        assert self.taille() != 0, \"une file vide n'a pas de premier élément\"\n",
    "        return self.contenu[0]\n",
    "    \n",
    "    def taille(self):\n",
    "        return len(self.contenu)\n",
    "    \n",
    "    __len__ = taille # pour pouvoir également utiliser len pour obtenir la longueur d'une file\n",
    "    \n",
    "    # pour représenter une file\n",
    "    def __repr__(self):\n",
    "        ch = \"\"\n",
    "        for e in self.contenu:\n",
    "            ch = ch + str(e) + \",\"\n",
    "        ch = ch[:-1] # pour enlever la dernière virgule\n",
    "        ch = \"<\" + ch + \"<\"\n",
    "        return ch"
   ]
  },
  {
   "cell_type": "code",
   "execution_count": 12,
   "metadata": {},
   "outputs": [
    {
     "name": "stdout",
     "output_type": "stream",
     "text": [
      "<<\n",
      "<1<\n",
      "<1,2<\n",
      "<1,2,3<\n",
      "1\n",
      "<2,3<\n",
      "<3<\n",
      "<3,1<\n"
     ]
    }
   ],
   "source": [
    "F = File()\n",
    "print(F)\n",
    "F.enfiler(1)\n",
    "print(F)\n",
    "F.enfiler(2)\n",
    "print(F)\n",
    "F.enfiler(3)\n",
    "print(F)\n",
    "s = F.premier()\n",
    "print(s)\n",
    "F.defiler()\n",
    "print(F)\n",
    "F.defiler()\n",
    "print(F)\n",
    "F.enfiler(s)\n",
    "print(F)"
   ]
  },
  {
   "cell_type": "markdown",
   "metadata": {},
   "source": [
    "## Implémentation avec deux piles\n",
    "\n",
    "Pour simplifier, l'opération `defiler` renverra également le premier élément (en plus de le retirer de la file). L'opération `premier` n'est alors plus nécessaire. Vous devez donc implémenter une classe `File` permettant les opérations suivantes : \n",
    "\n",
    "- création d'une file vide\n",
    "- `enfiler` : ajout en queue de file\n",
    "- `defiler` : renvoie le premier élement de la file et retire cet élément de la file\n",
    "- `__len__` : accès au nombre d'éléments\n",
    "\n",
    "**Aide** : \n",
    "- Opération `enfiler` (simple) : C'est toujours dans l'une des deux piles (par exemple `pA`) que l'on empile un nouvel élément à enfiler. \n",
    "- Opération `defiler` (compliquée) : \n",
    "    - Si l'autre pile (`pB`) n'est pas vide, son sommet est le premier élément de la file (celui à défiler)\n",
    "    - Sinon (si `pB` est vide), le premier élément de la file (celui à défiler) est au fond de `pA`. On peut alors \"retourner\" `pA` sur `pB` pour le premier élément de la file arrive au sommet de `pB`.\n",
    "- Opération `__len__` (simple) : il suffit d'utiliser la méthode `taille` définie dans la classe `Pile`."
   ]
  },
  {
   "cell_type": "code",
   "execution_count": 13,
   "metadata": {},
   "outputs": [
    {
     "name": "stdout",
     "output_type": "stream",
     "text": [
      "<<\n",
      "<1<\n",
      "<1,2<\n",
      "<1,2,3<\n",
      "1\n",
      "<3,1<\n",
      "<1<\n",
      "<1,1<\n"
     ]
    }
   ],
   "source": [
    "## ATTENTION : IL FAUT UTILISER L'IMPLEMENTATION D'UNE PILE AVEC LES LIST PYTHON \n",
    "\n",
    "class Pile:\n",
    "    \"\"\"Pour manipuler des piles.\"\"\"\n",
    "    \n",
    "    def __init__(self):\n",
    "        self.contenu = []\n",
    "            \n",
    "    def empiler(self, e):\n",
    "        self.contenu.append(e)\n",
    "                    \n",
    "    def depiler(self):\n",
    "        assert self.taille() != 0, \"on ne peut pas dépiler une pile vide\"\n",
    "        self.contenu.pop()\n",
    "            \n",
    "    def sommet(self):\n",
    "        assert self.taille() != 0, \"une pile vide n'a pas de sommet\"\n",
    "        return self.contenu[-1]\n",
    "    \n",
    "    def taille(self):\n",
    "        return len(self.contenu)\n",
    "    \n",
    "    __len__ = taille # pour pouvoir également utiliser len pour obtenir la taille de la pile\n",
    "    \n",
    "    # pour représenter la Pile\n",
    "    def __repr__(self):\n",
    "        ch = \"\"\n",
    "        for e in self.contenu:\n",
    "            ch = str(e) + \",\" + ch  # ne pas oublier de convertir les éléments en chaine de caractères\n",
    "        ch = ch[:-1] # pour enlever la dernière virgule\n",
    "        ch = \">\" + ch + \"]\"\n",
    "        return ch\n",
    "\n",
    "    \n",
    "# IMPLEMENTATION D'UNE FILE AVEC DEUX PILES\n",
    "\n",
    "class File:\n",
    "    \"\"\"File avec deux piles\"\"\"\n",
    "    \n",
    "    def __init__(self):\n",
    "        self.pA = Pile() # pA et pB sont les deux attributs de nos objets de la classe File\n",
    "        self.pB = Pile()\n",
    "    \n",
    "    def enfiler(self, e):\n",
    "        self.pA.empiler(e)\n",
    "    \n",
    "    def taille(self):\n",
    "        # à compléter\n",
    "        return self.pA.taille() + self.pB.taille()\n",
    "    \n",
    "    __len__ = taille\n",
    "    \n",
    "    def defiler(self):\n",
    "        if self.pA.taille() == 0 and self.pB.taille() == 0:\n",
    "            raise ValueError(\"on ne peut pas défiler une file vide\")\n",
    "        # à compléter\n",
    "        if self.pB.taille() == 0:\n",
    "            while self.pA.taille() != 0:\n",
    "                self.pB.empiler(self.pA.sommet())\n",
    "                self.pA.depiler()\n",
    "        premier_element = self.pB.sommet()\n",
    "        self.pB.depiler()\n",
    "        return premier_element\n",
    "    \n",
    "    \n",
    "    # pour accéder au premier élément\n",
    "    \n",
    "    def premier(self):\n",
    "        p = self.defiler() # on dépile pour le récupérer\n",
    "        self.enfiler(p)    # on le renfile pour garder la file intacte\n",
    "        return p\n",
    "\n",
    "    \n",
    "    # La méthode __repr__ est définie pour que vous puissiez voir l'état d'une file\n",
    "    \n",
    "    def __repr__(self):\n",
    "        import copy\n",
    "        #print(\"pile A : \", repr(self.pA)) # pour voir le contenu des deux piles\n",
    "        #print(\"pile B : \", repr(self.pB))\n",
    "        \n",
    "        lstA = copy.copy(self.pA.contenu) # copie des list Python représentant nos deux piles\n",
    "        lstB = copy.copy(self.pB.contenu) # pour ne pas les modifier\n",
    "        lstB.reverse()  # on a besoin de renverser lstB pour avoir nos éléments dans l'ordre d'entrée\n",
    "        lst = lstB + lstA # et de concaténer lstB et lstA dans cet ordre\n",
    "                \n",
    "        # on construit ensuite la chaine \"<...<\" qui représente nos files\n",
    "        ch = \"\"\n",
    "        for e in lst:\n",
    "            ch = ch + str(e) + \",\"\n",
    "        ch = ch[:-1] # pour enlever la dernière virgule\n",
    "        ch = \"<\" + ch + \"<\"\n",
    "        return ch\n",
    "        \n",
    "            \n",
    "        \n",
    "\n",
    "# ESSAIS\n",
    "\n",
    "F = File()\n",
    "print(F)\n",
    "F.enfiler(1)\n",
    "print(F)\n",
    "F.enfiler(2)\n",
    "print(F)\n",
    "F.enfiler(3)\n",
    "print(F)\n",
    "s = F.premier()\n",
    "print(s)\n",
    "F.defiler()\n",
    "print(F)\n",
    "F.defiler()\n",
    "print(F)\n",
    "F.enfiler(s)\n",
    "print(F)"
   ]
  },
  {
   "cell_type": "markdown",
   "metadata": {},
   "source": [
    "# Les arbres binaires (et ABR)\n",
    "\n",
    "On peut construire un arbre binaire non vide comme un noeud composé de deux sous-arbres. Pour annoter la structure de l'arbre avec des informations, on utilise des étiquettes pouvant être enregistrées à chaque noeud. On peut ensuite parcourir un arbre par l'accès à son étiquette et à ses sous-arbres droit et gauche. Un prédicat permet de distinguer les feuilles des noeuds.\n",
    "\n",
    "On peut ainsi spécifier un arbre binaire par le type abstrait suivant :\n",
    "\n",
    "- Constructeur : `noeud : Etiquette x Arbre binaire x Arbre binaire -> Arbre binaire`\n",
    "- Sélecteurs : \n",
    "    - `droit : Arbre binaire -> Arbre binaire`\n",
    "    - `gauche : Arbre binaire -> Arbre binaire`\n",
    "    - `etiquette : Arbre binaire -> Etiquette`\n",
    "- Prédicat : `est_feuille : Arbre binaire -> Booléen`\n"
   ]
  },
  {
   "cell_type": "markdown",
   "metadata": {},
   "source": [
    "## Implémentation avec le type `list` de Python\n",
    "\n",
    "On choisit ici de représenter un arbre binaire par une liste de trois éléments `[etiquette, arbre_gauche, arbre_droit]` où `arbre_gauche` et `arbre_droit` désignent les sous-arbres gauche et droit du noeud `etiquette`. L'arbre vide est représenté par une liste vide."
   ]
  },
  {
   "cell_type": "code",
   "execution_count": 14,
   "metadata": {},
   "outputs": [],
   "source": [
    "def noeud(etiquette, arbre_gauche, arbre_droit): # arbres gauche et droit vide par défaut\n",
    "    \"\"\"Crée et renvoie l'arbre binaire\"\"\"\n",
    "    return [etiquette, arbre_gauche, arbre_droit]\n",
    "\n",
    "def etiquette(arbre):\n",
    "    \"\"\"Renvoie l'étiquette de l'arbre binaire arbre\"\"\"\n",
    "    return arbre[0]\n",
    "\n",
    "def gauche(arbre):\n",
    "    \"\"\"Renvoie le sous-arbre gauche de l'arbre binaire arbre\"\"\"\n",
    "    return arbre[1]\n",
    "\n",
    "def droit(arbre):\n",
    "    \"\"\"Renvoie le sous-arbre droit de l'arbre binaire arbre\"\"\"\n",
    "    return arbre[2]\n",
    "\n",
    "def est_feuille(arbre):\n",
    "    \"\"\"Renvoie True si et seulement si l'arbre binaire arbre est une feuille \"\"\"\n",
    "    return arbre[1] == [] and arbre[2] == []"
   ]
  },
  {
   "cell_type": "code",
   "execution_count": 15,
   "metadata": {},
   "outputs": [
    {
     "name": "stdout",
     "output_type": "stream",
     "text": [
      "[4, [2, [5, [], []], [1, [], []]], [3, [], [6, [], []]]]\n",
      "sous-arbre gauche : [2, [5, [], []], [1, [], []]]\n",
      "étiquette de la racine du sous-arbre droit : 3\n",
      "[1, [], []]\n"
     ]
    }
   ],
   "source": [
    "a1 = noeud(4, noeud(2, noeud(5, [], []), noeud(1, [], [])), noeud(3, [], noeud(6, [], [])))\n",
    "print(a1)\n",
    "\n",
    "print(\"sous-arbre gauche :\", gauche(a1))\n",
    "print(\"étiquette de la racine du sous-arbre droit :\", etiquette(droit(a1)))\n",
    "print(droit(gauche(a1)))"
   ]
  },
  {
   "cell_type": "markdown",
   "metadata": {},
   "source": [
    ">**Remarque** : on peut aussi utiliser des tupes (à la place des listes) mais on ne peut alors pas modifier en place l'AB."
   ]
  },
  {
   "cell_type": "markdown",
   "metadata": {},
   "source": [
    "## Implémentation par une classe `Noeud`\n",
    "\n",
    "Une façon classique de représenter le type abstrait `Arbre binaire` est de représenter chaque noeud par un objet d'une classe `Noeud`. Un objet de cette classe contient trois attributs, donnés dans l'ordre suivant :\n",
    "- `etiquette` pour la valeur de l'étiquette contenue dans le noeud\n",
    "- `gauche` pour le sous-arbre gauche\n",
    "- `droit` pour le sous-arbre droit\n",
    "\n",
    "L'arbre vide est représenté par la valeur `None` et on peut définir une méthode `est_feuille` pour tester si un noeud est une feuille."
   ]
  },
  {
   "cell_type": "code",
   "execution_count": 16,
   "metadata": {},
   "outputs": [],
   "source": [
    "class Noeud:\n",
    "    def __init__(self, e, g=None, d=None):\n",
    "        self.etiquette = e\n",
    "        self.gauche = g\n",
    "        self.droit = d\n",
    "\n",
    "    def est_feuille(self):\n",
    "        return not self.gauche and not self.droit\n",
    "    \n",
    "    # Une représentation possible de l'arbre\n",
    "    def __repr__(self):\n",
    "        ch = str(self.etiquette)\n",
    "        if self.gauche or self.droit:\n",
    "            ch = ch + '-(' + str(self.gauche) + ',' + str(self.droit) + ')'\n",
    "        return ch"
   ]
  },
  {
   "cell_type": "markdown",
   "metadata": {},
   "source": [
    "La construction d'un arbre s'effectue alors avec des noeuds ayant soit un seul argument (cas des feuilles), soit trois (cas général)."
   ]
  },
  {
   "cell_type": "code",
   "execution_count": 17,
   "metadata": {},
   "outputs": [
    {
     "name": "stdout",
     "output_type": "stream",
     "text": [
      "4-(2-(5,1),3-(None,6))\n",
      "sous-arbre gauche : 2-(5,1)\n",
      "étiquette de la racine du sous-arbre droit : 3\n",
      "1\n"
     ]
    }
   ],
   "source": [
    "a2 = Noeud(4, Noeud(2, Noeud(5), Noeud(1)), Noeud(3, None, Noeud(6)))\n",
    "print(a2)\n",
    "\n",
    "print(\"sous-arbre gauche :\", a2.gauche)\n",
    "print(\"étiquette de la racine du sous-arbre droit :\", a2.droit.etiquette)\n",
    "print(a2.gauche.droit)"
   ]
  },
  {
   "cell_type": "markdown",
   "metadata": {},
   "source": [
    "## Arbre binaires de recherche\n",
    "\n",
    "Pour mettre en oeuvre des arbres binaires de recherche, il suffit d'ajouter à la structure d'AB des fonctions (ou méthodes) permettant de modifier le sous-arbre droite ou sous-arbre gauche d'un arbre en ajoutant (ou en enlevant un noeud : la suppression est hors programme).\n",
    "\n",
    "On donne ci-dessous deux fonctions qui implémentent la recherche d'une clé et l'insertion d'un clé dans un ABR. On pourrait aussi écrire cela comme des méthodes de la classe `Noeud` (voire définir une classe `ABR` qui ne manipule que des arbres binaires de recherche)."
   ]
  },
  {
   "cell_type": "code",
   "execution_count": 18,
   "metadata": {},
   "outputs": [],
   "source": [
    "# RECHERCHER UNE CLE\n",
    "\n",
    "def etq_presente(A, e):\n",
    "    \"\"\"Renvoie True si l'étiquette e est présente dans l'ABR A, et False sinon.\"\"\"\n",
    "    if A is None:\n",
    "        return False\n",
    "    if e == A.etiquette:\n",
    "        return True\n",
    "    elif e < A.etiquette:\n",
    "        return etq_presente(A.gauche, e)\n",
    "    else:\n",
    "        return etq_presente(A.droit, e)\n",
    "    \n",
    "# INSERER UNE CLE\n",
    "\n",
    "def ajouter(A, e):\n",
    "    if A is None:\n",
    "        return Noeud(e, None, None)\n",
    "    elif e <= A.etiquette:\n",
    "        return Noeud(A.etiquette, ajouter(A.gauche, e), A.droit)\n",
    "    else:\n",
    "        return Noeud(A.etiquette, A.gauche, ajouter(A.droit, e))"
   ]
  },
  {
   "cell_type": "markdown",
   "metadata": {},
   "source": [
    "On peut alors vérifier si une étiquette est présente :"
   ]
  },
  {
   "cell_type": "code",
   "execution_count": 19,
   "metadata": {},
   "outputs": [
    {
     "name": "stdout",
     "output_type": "stream",
     "text": [
      "2-(1,6-(4-(3,5),None))\n"
     ]
    },
    {
     "data": {
      "text/plain": [
       "(True, False)"
      ]
     },
     "execution_count": 19,
     "metadata": {},
     "output_type": "execute_result"
    }
   ],
   "source": [
    "a3 = Noeud(2, Noeud(1), Noeud(6, Noeud(4, Noeud(3), Noeud(5)), None))\n",
    "print(a3)\n",
    "etq_presente(a3, 3), etq_presente(a3, 7)"
   ]
  },
  {
   "cell_type": "markdown",
   "metadata": {},
   "source": [
    "On peut créer une ABR en insérant tour à tour des clés :"
   ]
  },
  {
   "cell_type": "code",
   "execution_count": 20,
   "metadata": {},
   "outputs": [
    {
     "name": "stdout",
     "output_type": "stream",
     "text": [
      "2\n",
      "2-(1,None)\n",
      "2-(1,5)\n",
      "2-(1,5-(3,None))\n"
     ]
    }
   ],
   "source": [
    "a4 = ajouter(None, 2)\n",
    "print(a4)\n",
    "a4 =  ajouter(a4, 1)\n",
    "print(a4)\n",
    "a4 = ajouter(a4, 5)\n",
    "print(a4)\n",
    "a4 = ajouter(a4, 3)\n",
    "print(a4)"
   ]
  },
  {
   "cell_type": "markdown",
   "metadata": {},
   "source": [
    "Et on peut ajouter des clés à un ABR existant :"
   ]
  },
  {
   "cell_type": "code",
   "execution_count": 21,
   "metadata": {
    "scrolled": false
   },
   "outputs": [
    {
     "name": "stdout",
     "output_type": "stream",
     "text": [
      "2-(1,6-(4-(3,5),None))\n",
      "2-(1-(0,None),6-(4-(3,5),None))\n",
      "2-(1-(0,2),6-(4-(3,5),None))\n"
     ]
    }
   ],
   "source": [
    "a3 = Noeud(2, Noeud(1), Noeud(6, Noeud(4, Noeud(3), Noeud(5)), None))\n",
    "print(a3)\n",
    "a3 = ajouter(a3, 0)\n",
    "print(a3)\n",
    "a3 = ajouter(a3, 2)\n",
    "print(a3)"
   ]
  },
  {
   "cell_type": "markdown",
   "metadata": {},
   "source": [
    "# Les graphes\n",
    "\n",
    "On peut représenter en machine un graphe par une *matrice d'adjacence* ou par un dictionnaire contenant les *listes de successeurs* (de chaque sommet).\n",
    "\n",
    "Par exemple, le graphe \n",
    "\n",
    "<img class=\"centre image-responsive\" alt=\"graphe non orienté\" src=\"Theme1_structures_de_donnees/data/graphe_non_oriente.png\" width=\"400\">\n",
    "\n",
    "peut être représenté par la matrice"
   ]
  },
  {
   "cell_type": "code",
   "execution_count": 22,
   "metadata": {},
   "outputs": [],
   "source": [
    "matrice = [\n",
    "    [0, 1, 0, 0, 0, 1, 1],\n",
    "    [1, 0, 1, 0, 0, 1, 0],\n",
    "    [0, 1, 0, 1, 0, 1, 0],\n",
    "    [0, 0, 1, 0, 1, 0, 0],\n",
    "    [0, 0, 0, 1, 1, 1, 0],\n",
    "    [1, 1, 1, 0, 1, 0, 1],\n",
    "    [1, 0, 0, 0, 0, 1, 0]\n",
    "]"
   ]
  },
  {
   "cell_type": "markdown",
   "metadata": {},
   "source": [
    "ou par le dictionnaire de listes de successeurs "
   ]
  },
  {
   "cell_type": "code",
   "execution_count": 23,
   "metadata": {},
   "outputs": [],
   "source": [
    "dico = {\n",
    "    \"A\": [\"B\", \"F\", \"G\"],\n",
    "    \"B\": [\"A\", \"C\", \"F\"],\n",
    "    \"C\": [\"B\", \"D\", \"F\"],\n",
    "    \"D\": [\"C\", \"E\"],\n",
    "    \"E\": [\"D\", \"E\", \"F\"],\n",
    "    \"F\": [\"A\", \"B\", \"C\", \"E\", \"G\"],\n",
    "    \"G\": [\"A\", \"F\"]\n",
    "}"
   ]
  },
  {
   "cell_type": "markdown",
   "metadata": {},
   "source": [
    "On peut définir le type abstrait `GrapheNonOriente` (ou `GrapheOriente`) défini par l'interface suivante :\n",
    "\n",
    "* `faire_graphe(sommets)` pour construire un graphe (sans les arêtes) à partir de la liste `sommets` de ses sommets.\n",
    "* `ajouter_arete(G, x, y)` pour ajouter une arête entre les sommets `x` et `y` du graphe `G`.\n",
    "* `sommets(G)` pour accéder à la liste des sommets du graphe `G`.\n",
    "* `voisins(G, x)` pour accéder à la liste des voisins du sommet `x` du graphe `G`.\n",
    "\n",
    "On peut implémenter ce type en s'appuyant sur la représentation par une matrice d'adjacence ou en s'appuyant sur les listes de successeurs (qui sont les voisins dans le cas d'un graphe non orienté)."
   ]
  },
  {
   "cell_type": "markdown",
   "metadata": {},
   "source": [
    "## Implémentations par matrice d'adjacence"
   ]
  },
  {
   "cell_type": "code",
   "execution_count": 24,
   "metadata": {},
   "outputs": [],
   "source": [
    "# Par matrice d'adjacence\n",
    "\n",
    "class GrapheNoMa:\n",
    "    def __init__ (self, sommets):\n",
    "        self.som = sommets\n",
    "        self.dimension = len(sommets)\n",
    "        self.adjacence = [[0 for i in range(self.dimension)] for j in range(self.dimension)]\n",
    "    \n",
    "    def ajouter_arete(self, x, y):\n",
    "        i = self.som.index(x)\n",
    "        j = self.som.index(y)\n",
    "        self.adjacence[i][j] = 1\n",
    "        self.adjacence[j][i] = 1\n",
    "    \n",
    "    def sommets(self):\n",
    "        return self.som\n",
    "    \n",
    "    def voisins(self, x):\n",
    "        i = self.som.index(x)\n",
    "        return [self.som[j] for j in range(self.dimension) if self.adjacence[i][j] == 1]"
   ]
  },
  {
   "cell_type": "code",
   "execution_count": 25,
   "metadata": {},
   "outputs": [
    {
     "name": "stdout",
     "output_type": "stream",
     "text": [
      "['a', 'b', 'c', 'd']\n",
      "['a', 'd']\n"
     ]
    }
   ],
   "source": [
    "# graphe g1 représenté par une matrice d'adjacence\n",
    "g1 = GrapheNoMa([\"a\", \"b\", \"c\", \"d\"])\n",
    "g1.ajouter_arete(\"a\", \"b\")\n",
    "g1.ajouter_arete(\"a\", \"c\")\n",
    "g1.ajouter_arete(\"c\", \"d\")\n",
    "\n",
    "print(g1.sommets())\n",
    "print(g1.voisins(\"c\"))"
   ]
  },
  {
   "cell_type": "markdown",
   "metadata": {},
   "source": [
    "## Implémentation par liste de successeurs"
   ]
  },
  {
   "cell_type": "code",
   "execution_count": 26,
   "metadata": {},
   "outputs": [],
   "source": [
    "# Par liste de successeurs\n",
    "\n",
    "class GrapheNoLs:\n",
    "    def __init__ (self, sommets):\n",
    "        self.som = sommets\n",
    "        self.dic = {sommet: [] for sommet in self.som} # création par compréhension\n",
    "    \n",
    "    def ajouter_arete(self, x, y):\n",
    "        if y not in self.dic[x]:\n",
    "            self.dic[x].append(y)\n",
    "        if x not in self.dic[y]:\n",
    "            self.dic[y].append(x)\n",
    "    \n",
    "    def sommets(self):\n",
    "        return self.som\n",
    "    \n",
    "    def voisins(self, x):\n",
    "        return self.dic[x]"
   ]
  },
  {
   "cell_type": "code",
   "execution_count": 27,
   "metadata": {},
   "outputs": [
    {
     "name": "stdout",
     "output_type": "stream",
     "text": [
      "['a', 'b', 'c', 'd']\n",
      "['a', 'd']\n"
     ]
    }
   ],
   "source": [
    "# graphe g2 représenté par liste de successeurs\n",
    "g2 = GrapheNoLs([\"a\", \"b\", \"c\", \"d\"])\n",
    "g2.ajouter_arete(\"a\", \"b\")\n",
    "g2.ajouter_arete(\"a\", \"c\")\n",
    "g2.ajouter_arete(\"c\", \"d\")\n",
    "\n",
    "print(g2.sommets())\n",
    "print(g2.voisins(\"c\"))"
   ]
  },
  {
   "cell_type": "markdown",
   "metadata": {},
   "source": [
    "On constate que l'on peut créer des graphes comme objets de ces deux classes, leur ajouter des arrêtes et accéder aux graphes à travers les fonctions de l'interface du type abstrait de manière totalement identique.\n",
    "\n",
    "En Python, un utilisateur malin pourra néanmoins observer la façon dont sont mémorisées les graphes dans les deux cas :"
   ]
  },
  {
   "cell_type": "code",
   "execution_count": 28,
   "metadata": {},
   "outputs": [
    {
     "data": {
      "text/plain": [
       "[[0, 1, 1, 0], [1, 0, 0, 0], [1, 0, 0, 1], [0, 0, 1, 0]]"
      ]
     },
     "execution_count": 28,
     "metadata": {},
     "output_type": "execute_result"
    }
   ],
   "source": [
    "g1.adjacence"
   ]
  },
  {
   "cell_type": "code",
   "execution_count": 29,
   "metadata": {},
   "outputs": [
    {
     "data": {
      "text/plain": [
       "{'a': ['b', 'c'], 'b': ['a'], 'c': ['a', 'd'], 'd': ['c']}"
      ]
     },
     "execution_count": 29,
     "metadata": {},
     "output_type": "execute_result"
    }
   ],
   "source": [
    "g2.dic"
   ]
  },
  {
   "cell_type": "markdown",
   "metadata": {},
   "source": [
    "## Passage d'une représentation à l'autre\n",
    "\n",
    "Les deux implémentations sont totalement équivalentes et on peut passer de l'une à l'autre simplement en énumérant les sommets et les voisins depuis une représentation tout en construisant l'autre représentation.\n",
    "\n",
    "Par exemple, la fonction suivante permet de passer d'une matrice d'adjacence à une liste de successeurs."
   ]
  },
  {
   "cell_type": "code",
   "execution_count": 30,
   "metadata": {},
   "outputs": [],
   "source": [
    "def ma_to_ls(gma):\n",
    "    \"\"\"Pour passer d'une représentation par matrice d'adjacence à une représentation par liste de successeurs\"\"\"\n",
    "    gls = GrapheNoLs(gma.sommets())\n",
    "    for x in gma.sommets():\n",
    "        for y in gma.voisins(x):\n",
    "            gls.ajouter_arete(x,y)\n",
    "    return gls"
   ]
  },
  {
   "cell_type": "code",
   "execution_count": 31,
   "metadata": {},
   "outputs": [
    {
     "name": "stdout",
     "output_type": "stream",
     "text": [
      "représentation de départ : [[0, 1, 1, 0], [1, 0, 0, 0], [1, 0, 0, 1], [0, 0, 1, 0]]\n",
      "traduction : {'a': ['b', 'c'], 'b': ['a'], 'c': ['a', 'd'], 'd': ['c']}\n"
     ]
    }
   ],
   "source": [
    "# g3 est identique à g1 mais représenté par liste de successeurs\n",
    "g3 = ma_to_ls(g1)\n",
    "print(\"représentation de départ :\", g1.adjacence)\n",
    "print(\"traduction :\", g3.dic)"
   ]
  },
  {
   "cell_type": "markdown",
   "metadata": {},
   "source": [
    "La fonction réciproque est quasiment identique."
   ]
  },
  {
   "cell_type": "code",
   "execution_count": 32,
   "metadata": {},
   "outputs": [],
   "source": [
    "def ls_to_ma(gls):\n",
    "    \"\"\"Pour passer d'une représentation par liste de successeurs à une représentation par matrice d'adjacence\"\"\"\n",
    "    gma = GrapheNoMa(gls.sommets())\n",
    "    for x in gls.sommets():\n",
    "        for y in gls.voisins(x):\n",
    "            gma.ajouter_arete(x,y)\n",
    "    return gma"
   ]
  },
  {
   "cell_type": "code",
   "execution_count": 33,
   "metadata": {},
   "outputs": [
    {
     "name": "stdout",
     "output_type": "stream",
     "text": [
      "représentation de départ : {'a': ['b', 'c'], 'b': ['a'], 'c': ['a', 'd'], 'd': ['c']}\n",
      "traduction : [[0, 1, 1, 0], [1, 0, 0, 0], [1, 0, 0, 1], [0, 0, 1, 0]]\n"
     ]
    }
   ],
   "source": [
    "g4 = ls_to_ma(g2)\n",
    "print(\"représentation de départ :\", g2.dic)\n",
    "print(\"traduction :\", g4.adjacence)"
   ]
  },
  {
   "cell_type": "markdown",
   "metadata": {},
   "source": [
    "---\n",
    "Germain BECKER & Sébastien POINT, Lycée Mounier, ANGERS \n",
    "\n",
    "![Licence Creative Commons](https://i.creativecommons.org/l/by-nc-sa/4.0/88x31.png)"
   ]
  }
 ],
 "metadata": {
  "kernelspec": {
   "display_name": "Python 3",
   "language": "python",
   "name": "python3"
  },
  "language_info": {
   "codemirror_mode": {
    "name": "ipython",
    "version": 3
   },
   "file_extension": ".py",
   "mimetype": "text/x-python",
   "name": "python",
   "nbconvert_exporter": "python",
   "pygments_lexer": "ipython3",
   "version": "3.7.3"
  }
 },
 "nbformat": 4,
 "nbformat_minor": 2
}
