{
 "cells": [
  {
   "cell_type": "markdown",
   "metadata": {},
   "source": [
    "<h1 style=\"font-size: 30px; text-align: center;\">Utiliser une API</h1>\n",
    "\n",
    "---"
   ]
  },
  {
   "cell_type": "markdown",
   "metadata": {},
   "source": [
    "# Introduction\n",
    "\n",
    "L'acronyme **API** signifie *Application Programming Interface*, ou *interface de programmation pour application*. Il s'agit d'une interface (ensemble de classes, méthodes, fonctions, constantes) utilisée par des programmes pour intéragir avec une application. La pluplart de ces API fournissent des services pouvant être utilisés par des programmes.\n",
    "\n",
    "Ces interfaces, généralement offertes par des services Web, sont le plus souvent accompagnées d'une documentation complète décrivant comment les programmes *consommateurs* peuvent se servir des fonctionnalités du programme *fournisseur*.\n",
    "\n",
    "De plus en plus de services en ligne disposent d'API permettant aux utilisateurs d'écrire des programmes se servant des fonctionnalités desdits services. Par exemple :\n",
    "\n",
    "- une API d'application météorologique permet à des programmes de récupérer des informations sur le temps, la température pour des villes données ;\n",
    "- l'API Twitter permet à des programmes de récupérer des tweets et de les intégrer à un autre site ;\n",
    "- l'API Instagram permet à des programmes de récupérer des images selon certains critères et de les intégrer dans un autre site ;\n",
    "- l'API d'un site de données ouvertes permet à des programmes de récupérer ces données et de les exploiter pour créer des applications web ou smartphone par exemple (c'est ce que vous allez faire !).\n",
    "- etc.\n",
    "\n",
    "> A regarder en temps voulu : vidéo du Wagon (pour débutants) qui présente les API et donne des exemples d'utilisation : [Les APIs pour débutants](https://www.youtube.com/watch?v=0FQ6w4CO5Nw&t=37s&ab_channel=LeWagon)."
   ]
  },
  {
   "cell_type": "markdown",
   "metadata": {},
   "source": [
    "# Données échangées au format JSON\n",
    "\n",
    "![logo format JSON](data/JSON_vector_logo.svg)\n",
    "\n",
    "Lorsqu'un programme (consommateur) utilise une API pour intéragir avec un programme (fournisseur), ces deux programmes échangent des données selon le modèle client/serveur. Ces données sont la plupart du temps au format `JSON` (JavaScript Objet Notation) qui est un format de données structurées (structure arborescente) utilisant la syntaxe des objets dans le langage JavaScript.\n",
    "\n",
    "Le format JSON est un *fichier texte* facilement manipulable par d'autres langages (que JavaScript) car il est basé sur des paires clé/valeur et est donc très proche d'un point de vue syntaxique des dictionnaires de Python, des tableaux associatifs de PHP, etc.\n",
    "\n",
    "Voici le contenu du fichier `fruitsLegumes.json` :\n",
    "\n",
    "```json\n",
    "{\n",
    "    \"name\":  \"Bob\",\n",
    "    \"favoriteNumber\" : 3,\n",
    "    \"isProgrammer\": false,\n",
    "    \"defaults\": null,\n",
    "    \"hobbies\": {\n",
    "        \"music\": [\"guitar\", \"piano\", \"trompet\"],\n",
    "        \"sport\": [\"football\", \"table tennis\"]\n",
    "        },\n",
    "    \"friends\": [{\n",
    "        \"name\":  \"Mary\",\n",
    "        \"favoriteNumber\" : 100,\n",
    "        \"isProgrammer\": true,\n",
    "        \"defaults\": null,\n",
    "        \"hobbies\": {\n",
    "            \"cinema\": [\"action movies\", \"romantic movies\"],\n",
    "            \"sport\": [\"baseball\"]\n",
    "            }\n",
    "        },\n",
    "        {\n",
    "        \"name\":  \"John\",\n",
    "        \"favoriteNumber\" : 0,\n",
    "        \"isProgrammer\": true,\n",
    "        \"defaults\": [\"sore loser\", \"impatient\"],\n",
    "        \"hobbies\": {\n",
    "            \"music\": [\"saxophone\", \"flute\"],\n",
    "            \"cinema\": [\"horror movies\", \"romantic movies\"]\n",
    "            }\n",
    "        }]\n",
    "}\n",
    "```\n",
    "\n",
    "**Remarques importantes** :\n",
    "- Les clés doivent absolument êtres écrites entre des guillemets doubles (\"\") et non entre apostrophes ('') ;\n",
    "- Les valeurs peuvent être :\n",
    "    - des booléens : `true` ou `false` (en minuscule) ;\n",
    "    - `null` : constante spéciale indiquant une absence de valeur ;\n",
    "    - des nombres entiers ou flottants ;\n",
    "    - des chaînes de caractères ;\n",
    "    - des tableaux délimités par des crochets (comme en Python) ;\n",
    "    - des objets JSON délimités par des accolades (comme les dictionnaires de Python).\n",
    "    "
   ]
  },
  {
   "cell_type": "markdown",
   "metadata": {},
   "source": [
    "Pour importer dans Python le contenu d'un fichier JSON, on peut utiliser la méthode `loads` du module `json` à partir d'un fichier ouvert."
   ]
  },
  {
   "cell_type": "code",
   "execution_count": null,
   "metadata": {},
   "outputs": [],
   "source": [
    "import json\n",
    "\n",
    "fichier = open(\"data/fruitsLegumes.json\") # ouverture du flux de lecture\n",
    "contenu = json.load(fichier) # mémorisation du fichier json dans la variable contenu\n",
    "fichier.close() # on ferme le flux de lecture\n",
    "contenu"
   ]
  },
  {
   "cell_type": "markdown",
   "metadata": {},
   "source": [
    ">**Remarque** : Vous constaterez que la fonction `json.load` a transformé le mot `null` du fichier JSON en la constante `None` de Python et a transformé `true` et `false` en les booléens `True` et `False` de Python."
   ]
  },
  {
   "cell_type": "markdown",
   "metadata": {},
   "source": [
    "Ici, la variable `contenu` est un dictionnaire Python (présence des accolades)."
   ]
  },
  {
   "cell_type": "code",
   "execution_count": null,
   "metadata": {},
   "outputs": [],
   "source": [
    "type(contenu)"
   ]
  },
  {
   "cell_type": "markdown",
   "metadata": {},
   "source": [
    "On peut alors accéder à tous les éléments du fichier JSON de départ en utilisant la notation avec les crochets et en utilisant les clés ou les indices selon le type d'objet."
   ]
  },
  {
   "cell_type": "code",
   "execution_count": null,
   "metadata": {},
   "outputs": [],
   "source": [
    "print(contenu[\"favoriteNumber\"])\n",
    "print(contenu[\"hobbies\"])"
   ]
  },
  {
   "cell_type": "code",
   "execution_count": null,
   "metadata": {},
   "outputs": [],
   "source": [
    "print(contenu[\"hobbies\"][\"music\"][1])\n",
    "print(contenu[\"friends\"][0])"
   ]
  },
  {
   "cell_type": "markdown",
   "metadata": {},
   "source": [
    "**Question 1** : Ecrivez les instructions permettant d'accéder :\n",
    "1. Aux défauts de Bob.\n",
    "2. Au deuxième ami de Bob.\n",
    "3. Au booléen indiquant si Mary est une programmeur.\n",
    "4. A la première catégorie de films qu'apprécie John."
   ]
  },
  {
   "cell_type": "code",
   "execution_count": null,
   "metadata": {},
   "outputs": [],
   "source": [
    "# à compléter"
   ]
  },
  {
   "cell_type": "markdown",
   "metadata": {},
   "source": [
    "# Première requête vers une API\n",
    "\n",
    "Lorsque qu'un programme consommateur souhaite utiliser l'API d'un programme fournisseur, il peut lui envoyer une requête HTTP de type GET ou POST (généralement).\n",
    "\n",
    "Nous allons utiliser l'API du site de données ouvertes de la ville d'Angers : [data.angers.fr](https://data.angers.fr/pages/home/). On trouve sur ce site un lien vers la documentation de l'API que voici également : [documentation API](https://help.opendatasoft.com/apis/ods-search-v1/#dataset-records-apis).\n",
    "\n",
    "**Question 2** : \n",
    "\n",
    "1. Cherchez le jeu de données s'intitulant \"Angers Stationnement\" et cliquez dessus.\n",
    "2. Vous pouvez observez le contenu du jeu de données en cliquant sur l'onglet \"Tableau\". Il est possible de télécharger ce tableau au format CSV ou JSON via l'onglet \"Export\" mais ce n'est pas ce qui nous intéresse ici.\n",
    "3. Cliquez sur l'onglet \"API\". Quel est le nom du jeu de données (*dataset*) ?\n",
    "4. On voit dans la fenêtre de droite le jeu de données au format JSON. La première clé indique le nombre d'enregistrements (donc ici le nombre de parkings). Combien y en a-t-il ?\n",
    "5. Déselectionnez toutes les *facets*. On trouve alors l'URL permettant d'accéder à ce jeu de données via l'API en bas de page. Quelle est-elle ?\n",
    "6. Par défaut, le nombre d'enregistrements renvoyés est égal à 10. Augmentez ce chiffre pour avoir tous les enregistrements de ce jeu de données. Regardez à nouveau l'URL de la requête, qu'est-ce qui a changé ?\n",
    "7. Cliquez sur cette URL qui lance la requête à l'API et ouvre la réponse (le fichier JSON) dans un nouvel onglet. Par défaut, Firefox parvient à interpréter le contenu du fichier JSON renvoyé et l'affiche de manière structurée. Cliquez sur l'onglet \"Données brutes\" pour visualiser le contenu du texte au format JSON renvoyé par l'API.\n",
    "8. Lancez les outils de développement Web (F12 sur Firefox) et ouvrez l'onglet \"Réseau\". Actualisez la page pour renvoyer la requête et observez le type de requête (GET ou POST ou autre ?), les en-têtes et les paramètres de la requête ainsi que les en-têtes et le corps de la réponse (au format JSON)."
   ]
  },
  {
   "cell_type": "markdown",
   "metadata": {},
   "source": [
    "L'objectif est d'écrire un programme pour lancer la requête et ensuite pouvoir exploiter les données récupérées. Nous présentons dans la suite une façon de procéder en utilisant le langage Python. Il est bien sûr possible de le faire avec n'importe quel autre langage de programmation permettant d'effectuer des requêtes (PHP, JavaScript, etc.)."
   ]
  },
  {
   "cell_type": "markdown",
   "metadata": {},
   "source": [
    "# Requête en Python\n",
    "\n",
    "## Avec le module `requests` \n",
    "\n",
    "Pour exécuter des requêtes en Python on peut utiliser la bibliothèque `requests` ([documentation](https://fr.python-requests.org/en/latest/user/quickstart.html)).\n",
    "\n"
   ]
  },
  {
   "cell_type": "code",
   "execution_count": null,
   "metadata": {
    "scrolled": true
   },
   "outputs": [],
   "source": [
    "import requests\n",
    "\n",
    "# url de la requête obtenue grâce à l'interface de l'API : https://data.angers.fr/api/v1/console/records/1.0/search/?dataset=pv_equip_parking\n",
    "url = \"https://data.angers.fr/api/records/1.0/search/?dataset=angers_stationnement&q=&rows=18\"\n",
    "\n",
    "# la méthode GET doit être utilisée pour la requête d'après l'interface de l'API\n",
    "# on utilise la méthode get de la bibliothèque requests qui envoie une telle requête\n",
    "# et qui renvoie la réponse\n",
    "response = requests.get(url)\n",
    "\n",
    "# on peut afficher le code et le statut de la requête\n",
    "print(\"statut =>\", response.status_code, response.reason)\n",
    "# on peut aussi afficher l'en-tête et le corps de la réponse sous forme d'une chaîne de caractères\n",
    "print(\"\\nen-tête =>\", response.headers)\n",
    "print(\"\\ncorps =>\", response.text)"
   ]
  },
  {
   "cell_type": "markdown",
   "metadata": {},
   "source": [
    "> **Remarque** : Pour obtenir de l'aide sur la méthode `get` de la bibliothèque `requests` il suffit d'utiliser la fonction `help` en écrivant `help(requests.get)`. On se rend compte que cette méthode renvoie un objet de la classe `requests.models.Response` dont on peut afficher l'aide avec `help(requests.models.Response)`."
   ]
  },
  {
   "cell_type": "code",
   "execution_count": null,
   "metadata": {},
   "outputs": [],
   "source": [
    "help(requests.get)"
   ]
  },
  {
   "cell_type": "code",
   "execution_count": null,
   "metadata": {
    "scrolled": true
   },
   "outputs": [],
   "source": [
    "# response est un objet du type requests.models.Response\n",
    "help(requests.models.Response)"
   ]
  },
  {
   "cell_type": "markdown",
   "metadata": {},
   "source": [
    "## Conversion du format JSON en un dictionnaire Python\n",
    "\n",
    "Pour pouvoir utiliser le contenu au format JSON renvoyé il suffit d'utiliser la méthode `json` du module `requests` renvoie  le contenu de la réponse (le texte JSON) sous la forme d'un dictionnaire Python."
   ]
  },
  {
   "cell_type": "code",
   "execution_count": null,
   "metadata": {},
   "outputs": [],
   "source": [
    "response_json = response.json()\n",
    "response_json"
   ]
  },
  {
   "cell_type": "markdown",
   "metadata": {},
   "source": [
    "## Accès aux différents enregistrements\n",
    "\n",
    "Pour accéder aux enregistrements sur les différents parkings, il suffit de repérér qu'ils se trouvent dans le tableau associé à la clé `records` du dictionnaire `response_json`. On peut mémoriser ces enregistrements dans un tableau `parkings`."
   ]
  },
  {
   "cell_type": "code",
   "execution_count": null,
   "metadata": {},
   "outputs": [],
   "source": [
    "parkings = response_json['records']\n",
    "parkings"
   ]
  },
  {
   "cell_type": "markdown",
   "metadata": {},
   "source": [
    "On accède au premier enregistrement (premier parking) par son index."
   ]
  },
  {
   "cell_type": "code",
   "execution_count": null,
   "metadata": {
    "scrolled": false
   },
   "outputs": [],
   "source": [
    "parkings[0]"
   ]
  },
  {
   "cell_type": "markdown",
   "metadata": {},
   "source": [
    "Si on veut accéder aux noms des différents parkings, il suffit de repérer comment y accéder : clé `fields` puis clé `nom`."
   ]
  },
  {
   "cell_type": "code",
   "execution_count": null,
   "metadata": {},
   "outputs": [],
   "source": [
    "parkings[0]['fields']['nom'] # nom du premier parking enregistré"
   ]
  },
  {
   "cell_type": "code",
   "execution_count": null,
   "metadata": {},
   "outputs": [],
   "source": [
    "noms_parkings = [parkings[i]['fields']['nom'] for i in range(len(parkings))]\n",
    "noms_parkings"
   ]
  },
  {
   "cell_type": "markdown",
   "metadata": {},
   "source": [
    "On peut de même accéder aux coordonnées GPS avec la clé `'coordonnees_'`."
   ]
  },
  {
   "cell_type": "code",
   "execution_count": null,
   "metadata": {},
   "outputs": [],
   "source": [
    "coord_parking_st_serge_cine = parkings[0]['fields']['coordonnees_']\n",
    "coord_parking_st_serge_cine"
   ]
  },
  {
   "cell_type": "markdown",
   "metadata": {},
   "source": [
    "## Exploitation des données\n",
    "\n",
    "On a vu comment accéder aux données souhaitées et on peut dès lors les exploiter comme bon nous semble. On se propose de positionner un marqueur pour chacun de ces parkings sur une carte OpenStreetMap.\n",
    "\n",
    "Pour cela on va utiliser la bibliothèque `folium` qui nécessite d'être installée. Pour cela, exécutez la cellule suivante qui installe le module en question."
   ]
  },
  {
   "cell_type": "code",
   "execution_count": null,
   "metadata": {},
   "outputs": [],
   "source": [
    "pip install folium"
   ]
  },
  {
   "cell_type": "markdown",
   "metadata": {},
   "source": [
    "**Question 2** : \n",
    "\n",
    "1. Connectez-vous sur le site [OSM](https://www.openstreetmap.org/) puis recherchez la ville d'Angers.\n",
    "2. Positionnez-vous de telle sorte que l'on puisse voir toute la ville d'Angers.\n",
    "3. Cliquez à droite sur le bouton \"Partager\". Vous devriez voir apparaître dans la zone URI Geo un lien du type \"geo:longitude,latitude?z=nombre\". Les flottants *longitude* et *latitude* correspondent aux coordonnées du centre de la fenêtre et l'entier *nombre* correspond à la valeur du zoom.\n",
    "4. Complétez le programme suivant avec les valeurs que vous avez obtenues."
   ]
  },
  {
   "cell_type": "code",
   "execution_count": null,
   "metadata": {},
   "outputs": [],
   "source": [
    "import folium\n",
    "\n",
    "coord_angers =      # à compléter par latitude et longitude d'Angers sous la forme [longitude, latitude]\n",
    "nb_zoom =           # à compléter par la valeur du zoom\n",
    "\n",
    "# création de la carte centrée sur Angers\n",
    "folium_map = folium.Map(\n",
    "    location=coord_angers,\n",
    "    zoom_start=nb_zoom\n",
    ")"
   ]
  },
  {
   "cell_type": "markdown",
   "metadata": {},
   "source": [
    "On peut désormais créer un marqueur pour le \"Parking St-Serge Cinéma\" grâce à la méthode `Marker` de la bibliothèque `folium` puis l'ajouter sur notre carte grâce à la méthode `add_to` de la classe `Marker`."
   ]
  },
  {
   "cell_type": "code",
   "execution_count": null,
   "metadata": {},
   "outputs": [],
   "source": [
    "# Ajout d'un marqueur pour notre parking\n",
    "folium.Marker(\n",
    "    coord_parking_st_serge_cine, \n",
    "    popup=\"Parking St-Serge\"\n",
    ").add_to(folium_map)\n",
    "\n",
    "# On sauvegarde la carte dans un fichier html\n",
    "folium_map.save('parking_angers.html')"
   ]
  },
  {
   "cell_type": "markdown",
   "metadata": {},
   "source": [
    ">Le fichier HTML ainsi créé a été enregistré dans le répertoire courant : pour le visualiser, il suffit de cliquer (en haut à gauche) sur Fichier (ou File) puis sur Ouvrir (ou Open) et enfin sur le fichier html."
   ]
  },
  {
   "cell_type": "code",
   "execution_count": null,
   "metadata": {
    "scrolled": false
   },
   "outputs": [],
   "source": [
    "help(folium.Marker)"
   ]
  },
  {
   "cell_type": "markdown",
   "metadata": {},
   "source": [
    "**Question 3** : Ecrivez un programme qui  attribue à l'argument `popup` de l'objet `Marker` précédent, le nom du parking récupéré dans le fichier JSON."
   ]
  },
  {
   "cell_type": "code",
   "execution_count": null,
   "metadata": {},
   "outputs": [],
   "source": []
  },
  {
   "cell_type": "markdown",
   "metadata": {},
   "source": [
    "**Question 4** : Ecrivez un programme qui permet de créer un marqueur pour chacun des parkings récupérés via l'API."
   ]
  },
  {
   "cell_type": "code",
   "execution_count": null,
   "metadata": {},
   "outputs": [],
   "source": []
  },
  {
   "cell_type": "markdown",
   "metadata": {},
   "source": [
    "# Défi : places disponibles en temps réel\n",
    "\n",
    "Ecrivez un programme Python qui utilise l'API du site (data.angers.fr)[data.angers.fr] et le bon jeu de données pour afficher le nombre de places restantes en temps réel de chacun des parkings angevins. L'affichage ressemblera à ceci :\n",
    "\n",
    "```\n",
    "Parking Mail : il reste 177 places\n",
    "Parking Bressigny : il reste 73 places\n",
    "Parking Larrey : il reste 23 places\n",
    "Parking Confluences : il reste 15 places\n",
    "Parking Saint Serge Patinoire : il reste 170 places\n",
    "Parking Leclerc : il reste 106 places\n",
    "Parking Mitterrand Maine : il reste 85 places\n",
    "Parking Quai : il reste 61 places\n",
    "Parking Ralliement : il reste 153 places\n",
    "Parking Republique : il reste 161 places\n",
    "Parking Moliere : il reste 89 places\n",
    "Parking Berges De Maine : il reste 119 places\n",
    "Parking Marengo : il reste 242 places\n",
    "Parking Saint Laud 2 : il reste 331 places\n",
    "Parking Saint Laud : il reste 31 places\n",
    "Parking Haras Public : il reste 68 places\n",
    "Parking Maternite : il reste 44 places\n",
    "Parking Mitterrand Rennes : il reste 56 places\n",
    "```\n",
    "\n",
    "\n",
    "*Prolongements* : \n",
    "- On pourrait ajouter des marqueurs contenant le nombre de places restantes (via un popup) sur une carte.\n",
    "- On pourrait aussi ajouter l'heure en temps réel qui est aussi renvoyée dans la réponse au format JSON.\n",
    "- On peut imaginer créer une application web qui affiche en temps réel ces données (ou d'autres) dans une jolie page Web. Votre imagination et la seule limite ! **Voir les vidéos qui suivent, ce genre d'activité constituerait un excellent projet de fin d'année**."
   ]
  },
  {
   "cell_type": "code",
   "execution_count": null,
   "metadata": {},
   "outputs": [],
   "source": [
    "# à vous de jouer"
   ]
  },
  {
   "cell_type": "markdown",
   "metadata": {},
   "source": [
    "---\n",
    "\n",
    "# Pour aller plus loin\n",
    "\n",
    "## API avec authentification\n",
    "\n",
    "Les sites de données ouvertes disposent en général d'API pouvant être utilisées sans authentification, c'est ce que vous avez fait dans le TP précédent. \n",
    "\n",
    "Cependant, la plupart des API nécessitent d'être authentifié pour accéder aux services proposés par l'API. Pour cela, il s'inscrire (gratuitement la plupart du temps) sur la plateforme fournissant l'API afin de générer une *clé d'authentification*, appelée *API key* en anglais. C'est par exemple le cas des API de Google Maps, YouTube, Instagram, Tweeter, des API de services météorologiques, etc.\n",
    "\n",
    "### Exemple : OpenWeather \n",
    "\n",
    "Cette plateforme possède une API permettant de connaître les données météorologiques en temps réel d'une ville : [API current weather](https://openweathermap.org/current).\n",
    "\n",
    "Les requêtes à envoyer à l'API requête doivent contenir une clé d'authentification (API key). La requête la plus simple doit avoir cette forme :\n",
    "\n",
    "```\n",
    "api.openweathermap.org/data/2.5/weather?q={city name}&appid={API key}\n",
    "```\n",
    "\n",
    "Vous pouvez tester cette requête dans un navigateur en remplaçant :\n",
    "- `{city name}` par le nom d'une ville (par exemple Angers),\n",
    "- `{API key}` par la clé suivante: 9842742b3b9b73226172a688ec0c17d9 (créée par votre professeur).\n",
    "\n",
    "### Défi \n",
    "\n",
    "Trouvez dans la documentation comment obtenir la réponse en français (c'est en anglais par défaut) et lancez la requête dans le navigateur pour vérifier."
   ]
  },
  {
   "cell_type": "markdown",
   "metadata": {},
   "source": [
    "## Exemples plus avancés\n",
    "\n",
    "Vous pouvez regarder les vidéos qui suivent pour voir des exemples plus complets dans différents langages.\n",
    "\n",
    "### En Python\n",
    "\n",
    "Création d'un programme Python qui crée une playlist Spotify et y ajoute automatiquement les titres correspondants aux morceaux \"likés\" sur YouTube : [Automate Spotify With Python](https://www.youtube.com/watch?v=7J_qcttfnJA&ab_channel=TheComeUp)\n",
    "\n",
    "*Durée : 10 minutes, Langue : anglais*.\n",
    "\n",
    "\n",
    "### En PHP\n",
    "\n",
    "Création d'une application Web en PHP qui permet de saisir une ville puis qui interroge les API de Google Maps et d'Instagram et permet d'afficher photos postées sur Instagram qui ont été prises dans la ville saisie : [Using REST APIs in a web application | Quick PHP Tutorial](https://www.youtube.com/watch?v=RTjd1nwvlj4&ab_channel=WebConcepts).\n",
    "\n",
    "*Durée : 9 minutes, Langue : anglais*.\n",
    "\n",
    "### En JavaScript\n",
    "\n",
    "Création d'une application Web en JavaScript qui affiche la météo, la température et le nom d'une ville en temps réel : [Comment créer une application météo (openweathermap)](https://www.youtube.com/watch?v=nop5geuxP3s&t=648s&ab_channel=HardcodersbyAnthoWelc). Il n'y a plus qu'à stocker les valeurs souhaitées dans des variables et écrire leurs valeurs dans des balises HTML créées.\n",
    "\n",
    "*Durée : 14 minutes, Langue : français*."
   ]
  },
  {
   "cell_type": "markdown",
   "metadata": {},
   "source": [
    "---\n",
    "Germain BECKER, Lycée Mounier, ANGERS\n",
    "\n",
    "Ressource éducative libre distribuée sous [Licence Creative Commons Attribution - Pas d’Utilisation Commerciale - Partage dans les Mêmes Conditions 4.0 International](http://creativecommons.org/licenses/by-nc-sa/4.0/) \n",
    "\n",
    "![Licence Creative Commons](https://i.creativecommons.org/l/by-nc-sa/4.0/88x31.png)"
   ]
  }
 ],
 "metadata": {
  "kernelspec": {
   "display_name": "Python 3",
   "language": "python",
   "name": "python3"
  },
  "language_info": {
   "codemirror_mode": {
    "name": "ipython",
    "version": 3
   },
   "file_extension": ".py",
   "mimetype": "text/x-python",
   "name": "python",
   "nbconvert_exporter": "python",
   "pygments_lexer": "ipython3",
   "version": "3.7.3"
  }
 },
 "nbformat": 4,
 "nbformat_minor": 2
}
