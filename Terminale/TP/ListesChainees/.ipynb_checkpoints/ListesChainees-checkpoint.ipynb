{
 "cells": [
  {
   "cell_type": "markdown",
   "metadata": {},
   "source": [
    "Implémentation d'une *liste* par une liste chaînée\n",
    "===\n",
    "\n",
    "On propose dans cette activité d'implémenter le type abstrait *liste* par ce qu'on appelle une liste chaînée. Nous utiliserons le paradigme objet.\n",
    "\n",
    "On rappelle que ce type abstrait est définie par les opérations\n",
    "\n",
    "- création d'une liste vide\n",
    "- ajout d'un élément en tête de liste\n",
    "- accès à la tête de la liste\n",
    "- accès à la queue de la liste\n",
    "- test d'une liste vide\n",
    "\n",
    "On rappelle aussi qu'une *liste chaînée* est une représentation non contigue des listes, avec des **cellules** (ou **maillons**) comportant chacun un élément (de la liste) et une référence au suivant. Ainsi, les éléments sont chaînés entre eux (d'où le nom) et on peut représenter une liste chaînée de la façon suivante :\n",
    "\n",
    "![insertion](data/liste_chainee.png)"
   ]
  },
  {
   "cell_type": "markdown",
   "metadata": {},
   "source": [
    "Chaque cellule contient deux informations :\n",
    "- la *valeur* d'un élément de la liste\n",
    "- un lien vers la cellule *suivante* (son adresse mémoire)\n",
    "\n",
    "Dans l'exemple proposé, le premier élément est 12, le second est 14, ..., le dernier est 22 car le lien vers la cellule suivante pointe vers `None` qui marque la fin de la liste."
   ]
  },
  {
   "cell_type": "markdown",
   "metadata": {},
   "source": [
    "# La classe `Cellule`\n",
    "\n",
    "Commençons par créer une cellule en utilisant la programmation objet. On doit donc créer une classe `Cellule` possédant deux attributs : \n",
    "- *valeur* qui est la valeur de la cellule\n",
    "- *suivante* qui est une référence vers la cellule suivante."
   ]
  },
  {
   "cell_type": "code",
   "execution_count": null,
   "metadata": {},
   "outputs": [],
   "source": [
    "class Cellule:\n",
    "    def __init__(self, valeur, suivante):\n",
    "        self.valeur = valeur\n",
    "        self.suivante = suivante"
   ]
  },
  {
   "cell_type": "markdown",
   "metadata": {},
   "source": [
    "On peut alors créer une chaîne et accéder à ses éléments en consultant la valeur d'une cellule, ou la valeur de la suivante, etc."
   ]
  },
  {
   "cell_type": "code",
   "execution_count": null,
   "metadata": {},
   "outputs": [],
   "source": [
    "chaine1 = Cellule(1, Cellule(2, Cellule(3, None)))\n",
    "print(\"premier élément :\", chaine1.valeur)\n",
    "print(\"deuxième élément :\", chaine1.suivante.valeur)\n",
    "print(\"troisième élément :\", chaine1.suivante.suivante.valeur)\n",
    "print(\"quatrième élément ? :\", chaine1.suivante.suivante.suivante)"
   ]
  },
  {
   "cell_type": "markdown",
   "metadata": {},
   "source": [
    "On peut visualiser la construction de la chaîne avec [Python tutor](http://www.pythontutor.com/visualize.html#code=class%20Cellule%3A%0A%20%20%20%20def%20__init__%28self,%20valeur,%20suivante%29%3A%0A%20%20%20%20%20%20%20%20self.valeur%20%3D%20valeur%0A%20%20%20%20%20%20%20%20self.suivante%20%3D%20suivante%0Achaine%20%3D%20Cellule%281,%20Cellule%282,%20Cellule%283,%20None%29%29%29&cumulative=true&curInstr=0&heapPrimitives=false&mode=display&origin=opt-frontend.js&py=3&rawInputLstJSON=%5B%5D&textReferences=false). Il est important de remarquer que :\n",
    "- chaque élément de la chaîne est une instance (un objet) de la classe `Cellule` ;\n",
    "- la variable `chaine` pointe vers la première cellule de la chaîne."
   ]
  },
  {
   "cell_type": "markdown",
   "metadata": {},
   "source": [
    "**Question 1** : Construisez une liste appelée `chaine` correspondant au schéma donné dans l'introduction."
   ]
  },
  {
   "cell_type": "code",
   "execution_count": null,
   "metadata": {},
   "outputs": [],
   "source": [
    "# à compléter\n"
   ]
  },
  {
   "cell_type": "markdown",
   "metadata": {},
   "source": [
    ">**Remarque** : Pour le moment on a utilisé le terme *chaine* et non le terme *liste* car la classe `Cellule` ne permet pas de représenter une liste vide, qui serait une liste sans aucune cellule... On peut voir une *chaine* comme une liste non vide, c'est-à-dire comportant au moins une cellule."
   ]
  },
  {
   "cell_type": "markdown",
   "metadata": {},
   "source": [
    "# Eciture de quelques fonctions\n",
    "\n",
    "## Longueur d'une chaine\n",
    "\n",
    "Pour déterminer la longueur d'une chaine, il suffit de parcourir chaque cellule, jusqu'à trouver une cellule dont l'attribut `suivante` pointe vers `None`. Si la chaine vaut `None` au départ, elle représente une liste vide qui a pour longueur 0.\n",
    "\n",
    "On peut définir la fonction `longueur` qui calcule la longueur d'une chaine :"
   ]
  },
  {
   "cell_type": "code",
   "execution_count": null,
   "metadata": {},
   "outputs": [],
   "source": [
    "def longueur(chaine):\n",
    "    n = 0\n",
    "    courante = chaine  # la cellule courante pointe vers chaine qui pointe vers la première cellule ou None\n",
    "    while courante is not None:  # tant que la cellule courante ne pointe par vers None\n",
    "        courante = courante.suivante # on passe à la cellule suivante\n",
    "        n = n + 1  # la longueur augmente d'une unité\n",
    "    return n\n",
    "        \n",
    "chaine1 = Cellule(1, Cellule(2, Cellule(3, None)))\n",
    "print(\"longueur :\", longueur(chaine1))\n",
    "print(\"longueur d'une liste vide :\", longueur(None))"
   ]
  },
  {
   "cell_type": "markdown",
   "metadata": {},
   "source": [
    "**Question 2** : Vérifiez la longueur renvoyée pour la chaîne `chaine` (question 1)."
   ]
  },
  {
   "cell_type": "code",
   "execution_count": null,
   "metadata": {},
   "outputs": [],
   "source": [
    "# à compléter\n"
   ]
  },
  {
   "cell_type": "markdown",
   "metadata": {},
   "source": [
    "**Question 3** : Proposez une version récursive de la fonction `longueur` (*puis vérifiez*)"
   ]
  },
  {
   "cell_type": "code",
   "execution_count": null,
   "metadata": {},
   "outputs": [],
   "source": [
    "# VERSION RECURSIVE\n",
    "# à compléter\n"
   ]
  },
  {
   "cell_type": "markdown",
   "metadata": {},
   "source": [
    "## Eléments d'une chaine\n",
    "\n",
    "Il peut être intéressant de pouvoir afficher ou renvoyer tous les éléments d'une chaine. Cela permet notamment de vérifier des choses.\n",
    "\n",
    "**Question 4** : Ecrivez une fonction `affiche(chaine)` qui affiche tous les éléments d'une chaine (non vide)."
   ]
  },
  {
   "cell_type": "code",
   "execution_count": null,
   "metadata": {},
   "outputs": [],
   "source": [
    "# à compléter\n"
   ]
  },
  {
   "cell_type": "code",
   "execution_count": null,
   "metadata": {},
   "outputs": [],
   "source": []
  },
  {
   "cell_type": "markdown",
   "metadata": {},
   "source": [
    "**Question 5** : Ecrivez une fonction `liste_elements(chaine)` qui renvoie la liste (au sens `list` de Python) des éléments d'une chaîne."
   ]
  },
  {
   "cell_type": "code",
   "execution_count": null,
   "metadata": {},
   "outputs": [],
   "source": [
    "def liste_elements(chaine):\n",
    "    \"\"\"Renvoie une list Python contenant tous les éléments de la liste chaînée L\n",
    "    \n",
    "    >>> liste_elements(Cellule(1, Cellule(2, Cellule(3, None))))\n",
    "    [1, 2, 3]\n",
    "    \n",
    "    >>> liste_elements(Cellule(12, Cellule(14, Cellule(8, Cellule(7, Cellule(19, Cellule(22, None)))))))\n",
    "    [12, 14, 8, 7, 19, 22]\n",
    "    \n",
    "    \"\"\"\n",
    "    \n",
    "    # à compléter\n",
    "    "
   ]
  },
  {
   "cell_type": "code",
   "execution_count": null,
   "metadata": {},
   "outputs": [],
   "source": [
    "import doctest\n",
    "doctest.testmod() # verbose = True pour plus de détails"
   ]
  },
  {
   "cell_type": "markdown",
   "metadata": {},
   "source": [
    "## Accès au i-ème élément d'une chaine\n",
    "\n",
    "On souhaite maintenant écrire une fonction `ieme_element(chaine, i)` permettant de renvoyer le `i`-ème élément de la `chaine`. **Préconditions** : `chaine` est non vide (au moins une cellule) et `i` est compris entre 0 et `longueur(chaine)-1`.\n",
    "\n",
    "**Question 6** : Proposez une fonction qui convient. *On peut trouver le i-ème élément avec une boucle ou par récursivité. Voir si besoin les anciens chapitres.*"
   ]
  },
  {
   "cell_type": "code",
   "execution_count": null,
   "metadata": {},
   "outputs": [],
   "source": [
    "# à compléter\n"
   ]
  },
  {
   "cell_type": "code",
   "execution_count": null,
   "metadata": {},
   "outputs": [],
   "source": [
    "# VERSION ITERATIVE AVEC UNE BOUCLE WHILE\n"
   ]
  },
  {
   "cell_type": "markdown",
   "metadata": {},
   "source": [
    "# La classe `ListeChainee`\n",
    "\n",
    "La classe `Cellule` ne permet pas d'implémenter à elle seule le type abstrait *liste* car rien n'est prévu pour représenter une liste vide. On va utiliser cette classe pour créer une classe `ListeChainee` qui implémente ce type abstrait. Il suffira de faire pointer la liste vers le premier élément de la chaîne (de cellules) ou vers `None` pour la liste vide.\n",
    "\n",
    "Les opérations à implémenter dans la classe `ListeChainee` sont :\n",
    "\n",
    "- création d'une liste vide\n",
    "- ajout d'un élément en tête de liste : `ajouter_en_tete(self, element)`\n",
    "- test d'une liste vide : `est_vide(self)`\n",
    "- accès à la tête de la liste : `premier(self)`\n",
    "- accès à la queue de la liste : `reste(self)`\n",
    "\n",
    "\n",
    "## Attributs\n",
    "\n",
    "On choisit de définir un seul attribut `tete`, qui peut être soit une référence vers la première `Cellule` d'une chaîne (de cellules), soit la valeur particulière `None` pour représenter une liste vide. On définit ainsi une *liste chaînée*.\n",
    "\n",
    "## Méthodes\n",
    "\n",
    "On veut implémenter les 5 opérations primitives d'une liste (données en début de document).\n",
    "\n",
    "## Implémentation\n",
    "\n",
    "- La méthode d'initialisation `__init__` crée une liste vide en initialisant l'attribut `tete` à `None`.\n",
    "- La méthode `ajouter_en_tete` permet d'ajouter un élement en première position.\n",
    "- La méthode `est_vide` permet de tester si une liste est vide ou non\n",
    "- La méthode `premier` permet d'accéder au premier élément d'une liste non vide (sa tête). *On peut aussi l'attribut `tete`.*\n",
    "- La méthode `reste` permet d'accéder au reste des éléments d'une liste non vide (sa queue), qui est aussi une liste."
   ]
  },
  {
   "cell_type": "markdown",
   "metadata": {},
   "source": [
    "**Question 6** : Etudiez attentivement l'implémentation proposée."
   ]
  },
  {
   "cell_type": "code",
   "execution_count": null,
   "metadata": {},
   "outputs": [],
   "source": [
    "class ListeChainee:\n",
    "    \"\"\"Manipulation de listes chaînées\"\"\"\n",
    "    \n",
    "    def __init__(self):\n",
    "        \"\"\"Initialise une liste vide.\"\"\"\n",
    "        self.tete = None\n",
    "        \n",
    "    def ajouter_en_tete(self, e):\n",
    "        \"\"\"Insère e en tête de liste en créant une nouvelle cellule\"\"\"\n",
    "        nouvelle_cellule = Cellule(e, self.tete)\n",
    "        self.tete = nouvelle_cellule\n",
    "    \n",
    "    def est_vide(self):\n",
    "        \"\"\"Renvoie True si la liste est vide, False sinon\"\"\"\n",
    "        return self.tete is None\n",
    "    \n",
    "    def premier(self):\n",
    "        \"\"\"Renvoie le premier élément de la liste (sa tête) si cette dernière est non vide\"\"\"\n",
    "        assert self.premier is not None, \"une liste vide n'a pas de tête\"\n",
    "        return self.tete.valeur\n",
    "    \n",
    "    def reste(self):\n",
    "        \"\"\"Renvoie le reste de la liste (sa queue) si cette dernière est non vide.\"\"\"\n",
    "        assert self.tete is not None, \"une liste vide n'a pas de queue\"\n",
    "        r = ListeChainee()\n",
    "        r.tete = self.tete.suivante\n",
    "        return r"
   ]
  },
  {
   "cell_type": "markdown",
   "metadata": {},
   "source": [
    "**Explications** : On s'attarde sur les méthodes `ajouter_en_tete` et `reste` qui sont plus subtiles qu'il n'y paraît.\n",
    "- Méthode `ajouter_en_tete` :\n",
    "    - ligne 1 : on commence par créer une nouvelle cellule dont l'attribut `valeur` vaut l'élément `e` à ajouter à la liste et dont l'attribut `suivante` vaut `self.tete` c'est-à-dire la référence vers la première cellule de la liste. On construit ainsi une cellule avec la valeur à ajouté et qui pointe vers l'ancienne première cellule de notre liste.\n",
    "    - ligne 2: il ne faut pas oublier de mettre à jour l'attribut `tete` pour qu'il désigne notre nouvelle première cellule.\n",
    "- Méthode `reste`:\n",
    "    - ligne 1 : on programme de manière plus sûre en commençant pas tester au moyen d'`assert` que la liste n'est pas vide.\n",
    "    - ligne 2, 3 et 4 : il ne suffit pas de renvoyer la deuxième cellule de notre liste (`self.tete.suivante`) car on renverrait alors un objet `Cellule` et non une `ListeChainee` comme souhaité. On commence donc par créer une liste vide `r` dont l'attribut `tete` désigne la deuxième cellule (celle qui suit la tête) et on renvoie cette liste `r` qui pointe bien vers la deuxième cellule de départ."
   ]
  },
  {
   "cell_type": "markdown",
   "metadata": {},
   "source": [
    "On peut créer une liste vide, puis lui ajouter des éléments en tête. On accède aux différents éléments grâce aux méthodes `premier` et `reste`."
   ]
  },
  {
   "cell_type": "code",
   "execution_count": null,
   "metadata": {},
   "outputs": [],
   "source": [
    "L = ListeChainee()\n",
    "print(L.est_vide())\n",
    "L.ajouter_en_tete(22)\n",
    "print(L.est_vide())\n",
    "L.ajouter_en_tete(19)\n",
    "L.ajouter_en_tete(7)\n",
    "L.ajouter_en_tete(8)\n",
    "L.ajouter_en_tete(14)\n",
    "L.ajouter_en_tete(12)\n",
    "print(\"le premier élément est :\", L.premier())\n",
    "print(\"le deuxième élément est :\", L.reste().premier()) # le 2ème est le premier du reste\n",
    "print(\"le troisième élément est :\", L.reste().reste().premier()) # le 3ème est le premier du reste du reste"
   ]
  },
  {
   "cell_type": "markdown",
   "metadata": {},
   "source": [
    "## Ajout de quelques méthodes\n",
    "\n",
    "On souhaite maintenant utiliser les fonctions `longueur`, `liste_elements` et `ieme_element` pour définir trois nouvelles méthodes à notre classe `ListeChainee`.\n",
    "\n",
    "Pour ajouter une *méthode* `taille` à la classe, il suffit d'appeler notre *fonction* `longueur` écrite précédemment :\n",
    "\n",
    "```python\n",
    "def taille(self):\n",
    "    return longueur(self.tete)\n",
    "```\n",
    "\n",
    "> Il ne faut pas oublier que la fonction `longueur` déjà écrite s'applique à une chaîne désignée par sa première cellule et non à un objet de la classe `ListeChainee`. Ainsi, il ne faut pas renvoyer `longueur(self)` mais bien `longueur(self.tete)`, où `self.tete` désigne bien la première cellule de la liste chaînée."
   ]
  },
  {
   "cell_type": "markdown",
   "metadata": {},
   "source": [
    "**Question 7** : En utilisant les fonctions `ieme_element` et `liste_elements` et en vous inspirant de la méthode `taille(self)`, écrivez les méthodes `lire(self, i)` et `__repr__(self)` qui permettent respectivement de renvoyer le `i`-ème élément d'un objet `ListeChainee` et de représenter un objet `ListeChainee` comme une `list` Python. \n",
    "\n",
    "**Attention** : la méthode spéciale `__repr__` doit renvoyer une chaîne de caractères, il faut penser à utiliser la fonction `str` pour convertir la `list` Python."
   ]
  },
  {
   "cell_type": "code",
   "execution_count": null,
   "metadata": {},
   "outputs": [],
   "source": [
    "class ListeChainee:\n",
    "    \"\"\"Manipulation de listes chaînées\"\"\"\n",
    "    \n",
    "    def __init__(self):\n",
    "        \"\"\"Initialise une liste vide.\"\"\"\n",
    "        self.tete = None\n",
    "        \n",
    "    def ajouter_en_tete(self, e):\n",
    "        \"\"\"Insère e en tête de liste en créant une nouvelle cellule\"\"\"\n",
    "        nouvelle_cellule = Cellule(e, self.tete)\n",
    "        self.tete = nouvelle_cellule\n",
    "    \n",
    "    def est_vide(self):\n",
    "        \"\"\"Renvoie True si la liste est vide, False sinon\"\"\"\n",
    "        return self.tete is None\n",
    "    \n",
    "    def premier(self):\n",
    "        \"\"\"Renvoie le premier élément de la liste (sa tête) si cette dernière est non vide\"\"\"\n",
    "        assert self.premier is not None, \"une liste vide n'a pas de tête\"\n",
    "        return self.tete.valeur\n",
    "    \n",
    "    def reste(self):\n",
    "        \"\"\"Renvoie le reste de la liste (sa queue) si cette dernière est non vide.\"\"\"\n",
    "        assert self.tete is not None, \"une liste vide n'a pas de queue\"\n",
    "        r = ListeChainee()\n",
    "        r.tete = self.tete.suivante\n",
    "        return r\n",
    "    \n",
    "    def longueur(self):\n",
    "        return longueur(self.tete)\n",
    "    \n",
    "    def lire(self, i):\n",
    "        # à compléter\n",
    "        \n",
    "    \n",
    "    def __repr__(self):\n",
    "        # compléter\n",
    "        "
   ]
  },
  {
   "cell_type": "code",
   "execution_count": null,
   "metadata": {},
   "outputs": [],
   "source": [
    "# ESSAIS\n",
    "L = ListeChainee()\n",
    "L.ajouter_en_tete(22)\n",
    "L.ajouter_en_tete(19)\n",
    "L.ajouter_en_tete(7)\n",
    "L.ajouter_en_tete(8)\n",
    "L.ajouter_en_tete(14)\n",
    "L.ajouter_en_tete(12)\n",
    "print(L)\n",
    "print(\"longueur :\", L.longueur())\n",
    "print(\"premier élément :\", L.lire(0))\n",
    "print(\"troisième élément :\", L.lire(2))"
   ]
  },
  {
   "cell_type": "markdown",
   "metadata": {},
   "source": [
    "## Utilisation de méthodes spéciales\n",
    "\n",
    "On peut utiliser les méthodes spéciales `__len__` et `__getitem__` à la place des méthodes `taille` et `lire` afin d'utiliser la syntaxe habituelle de Python en écrivant :\n",
    "- `len(L)` pour obtenir la longueur d'une liste `L` au lieu de `L.taille()`\n",
    "- `L[i]` pour accéder au `i`-ème élément d'une liste `L` au lieu de `L.lire(i)`.\n",
    "\n",
    "**Question 8** : Remplacez les méthodes `taille` et `lire` par les méthodes `__len__` et `__getitem__`. Vérifiez ensuite si tout fonctionne comme avec des `list` Python.\n",
    "\n"
   ]
  },
  {
   "cell_type": "code",
   "execution_count": null,
   "metadata": {},
   "outputs": [],
   "source": [
    "# à compléter\n"
   ]
  },
  {
   "cell_type": "markdown",
   "metadata": {},
   "source": [
    "## Supprimer en tête et ajouter en queue\n",
    "\n",
    "Nous terminons par l'écriture de deux méthodes qui peuvent se révéler utiles (pour la suite de l'année). Il s'agit des méthodes :\n",
    "\n",
    "- `supprimer_en_tete(self)` qui permet de supprimer l'élément de tête d'une liste\n",
    "- `ajouter_en_queue(self, e)` qui permet d'ajouter l'élément `e` en queue de liste\n",
    "\n",
    "**Question 9** : Expliquez, par des phrases et/ou un schéma, ce qu'il faut faire pour supprimer l'élément de tête (la cellule de tête) d'une liste `L`."
   ]
  },
  {
   "cell_type": "markdown",
   "metadata": {},
   "source": [
    "*Réponse* : On doit faire pointer la tête de liste vers la deuxième cellule dont la référence se trouve dans l'attribut `suivante` de la première cellule c'est-à-dire `L.premier.suivante`."
   ]
  },
  {
   "cell_type": "markdown",
   "metadata": {},
   "source": [
    "**Question 10** : Expliquez, par des phrases et/ou un schéma, ce qu'il faut faire pour ajouter l'élément `e` en queue d'une liste `L`."
   ]
  },
  {
   "cell_type": "markdown",
   "metadata": {},
   "source": [
    "*Réponse* : Il faut parcourir toutes les cellules jusqu'à la dernière, celle qui pointe vers `None`. On crée une nouvelle cellule . Il suffit de faire pointer cette dernière cellule (en modifiant son attribut `suivante` vers une nouvelle cellule que l'on crée avec l'attribut `valeur` égal à `e` et l'attribut `suivante` qui pointe vers `None`."
   ]
  },
  {
   "cell_type": "markdown",
   "metadata": {},
   "source": [
    "**Question 11** :  Ajoutez ces deux méthodes dans la classe `Liste` (l'ajout en queue est beaucoup plus difficile)."
   ]
  },
  {
   "cell_type": "code",
   "execution_count": null,
   "metadata": {},
   "outputs": [],
   "source": [
    "# à compléter\n",
    "\n",
    "class ListeChainee:\n",
    "    \"\"\"Manipulation de listes chaînées\"\"\"\n",
    "    \n",
    "    # ---------- OPERATIONS PRIMITIVES ------------------\n",
    "    \n",
    "    def __init__(self):\n",
    "        \"\"\"Initialise une liste vide.\"\"\"\n",
    "        self.tete = None\n",
    "        \n",
    "    def ajouter_en_tete(self, e):\n",
    "        \"\"\"Insère e en tête de liste en créant une nouvelle cellule\"\"\"\n",
    "        nouvelle_cellule = Cellule(e, self.tete)\n",
    "        self.tete = nouvelle_cellule\n",
    "    \n",
    "    def est_vide(self):\n",
    "        \"\"\"Renvoie True si la liste est vide, False sinon\"\"\"\n",
    "        return self.tete is None\n",
    "    \n",
    "    def premier(self):\n",
    "        \"\"\"Renvoie le premier élément de la liste (sa tête) si cette dernière est non vide\"\"\"\n",
    "        assert self.premier is not None, \"une liste vide n'a pas de tête\"\n",
    "        return self.tete.valeur\n",
    "    \n",
    "    def reste(self):\n",
    "        \"\"\"Renvoie le reste de la liste (sa queue) si cette dernière est non vide.\"\"\"\n",
    "        assert self.tete is not None, \"une liste vide n'a pas de queue\"\n",
    "        r = ListeChainee()\n",
    "        r.tete = self.tete.suivante\n",
    "        return r\n",
    "    \n",
    "    # ---------- AUTRES OPERATIONS ------------------\n",
    "    \n",
    "   "
   ]
  },
  {
   "cell_type": "code",
   "execution_count": null,
   "metadata": {},
   "outputs": [],
   "source": [
    "# ESSAIS\n",
    "\n",
    "L = ListeChainee()\n",
    "L.ajouter_en_tete(22)\n",
    "L.ajouter_en_tete(19)\n",
    "L.ajouter_en_tete(7)\n",
    "L.ajouter_en_tete(8)\n",
    "L.ajouter_en_tete(14)\n",
    "L.ajouter_en_tete(12)\n",
    "print(L)\n",
    "\n",
    "L.supprimer_en_tete()\n",
    "print(L)\n",
    "L.ajouter_en_queue(5)\n",
    "print(L)\n",
    "L.supprimer_en_tete()\n",
    "print(L)"
   ]
  },
  {
   "cell_type": "markdown",
   "metadata": {},
   "source": [
    "# Création d'un module `listechainee`\n",
    "\n",
    "Créez un module *listechainee.py* qui peut être importé dans un autre programme Python et qui permet de manipuler la classe `ListeChainee` ainsi créée (avec toutes les méthodes). *Attention à ne rien oublier, la classe `ListeChainee` fait appel à des fonctions et classe externes.* "
   ]
  },
  {
   "cell_type": "markdown",
   "metadata": {},
   "source": [
    "# Bilan\n",
    "\n",
    "- On a implémenté une classe `ListeChainee` qui implémente le type abstrait *liste* avec des listes chaînées qui sont des chaînes de plusieurs cellules de la classe `Cellule`. Chaque cellule possède une valeur et une référence vers la cellule suivante. Les objets de la classe `ListeChainee` pointent vers la première cellule d'une chaîne, ou vers `None` pour désigner une liste vide.\n",
    "- L'intérêt d'une liste chaînée, par rapport à une implémentation avec un tableau dynamique (`list` Python), se trouve dans les opérations d'ajout et suppression en début de liste (ajout, suppression) qui sont moins coûteuses car ne nécessitent pas de décaler tous les éléments qui suivent.\n",
    "- La création du module `listechainee` permet de manipuler des listes (implémentées par des listes chaînées) en important la classe `ListeChainee` du module. Une fois importée, cette classe masque totalement l'implémentation avec des cellules formant des listes chaînées. Néanmoins, le savoir permet de privilégier certaines opérations moins coûteuses qu'avec une implémentation avec des tableaux redimensionnables (`list` Python).\n",
    "\n",
    "# Pour aller plus loin\n",
    "\n",
    "On pourrait programmer pour notre classe `ListeChainee`, les autres opérations disponibles pour le type prédéfini `list` de Python. Par exemple :\n",
    "\n",
    "- la suppression en queue\n",
    "- l'ajout/la suppression en position i\n",
    "- la concaténation\n",
    "- l'inversion \n",
    "- etc.\n",
    "\n",
    "On se rapprocherait ainsi du type `list` de Python mais il faut garder en tête que le coût de certaines opérations n'est pas forcément le même : rapide en fin de liste mais coûteux en début pour les `list` Python, alors que c'est le contraire pour les listes chaînées de notre classe `ListeChainee`."
   ]
  },
  {
   "cell_type": "markdown",
   "metadata": {},
   "source": [
    "---\n",
    "\n",
    "**Références :**\n",
    "- Documents ressources de l'équipe éducative du DIU EIL, Université de Nantes, Christophe DECLERCQ.\n",
    "\n",
    "---\n",
    "Germain BECKER, Lycée Mounier, ANGERS\n",
    "\n",
    "Ressource éducative libre distribuée sous [Licence Creative Commons Attribution - Pas d’Utilisation Commerciale - Partage dans les Mêmes Conditions 4.0 International](http://creativecommons.org/licenses/by-nc-sa/4.0/) \n",
    "\n",
    "![Licence Creative Commons](https://i.creativecommons.org/l/by-nc-sa/4.0/88x31.png)"
   ]
  }
 ],
 "metadata": {
  "kernelspec": {
   "display_name": "Python 3",
   "language": "python",
   "name": "python3"
  },
  "language_info": {
   "codemirror_mode": {
    "name": "ipython",
    "version": 3
   },
   "file_extension": ".py",
   "mimetype": "text/x-python",
   "name": "python",
   "nbconvert_exporter": "python",
   "pygments_lexer": "ipython3",
   "version": "3.7.3"
  }
 },
 "nbformat": 4,
 "nbformat_minor": 2
}
