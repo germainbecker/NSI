{
 "cells": [
  {
   "cell_type": "markdown",
   "id": "a9248e9a",
   "metadata": {},
   "source": [
    "<h1 style=\"font-size: 30px; text-align: center\">Protocoles de routage - EXERCICES</h1>\n",
    "\n",
    "---"
   ]
  },
  {
   "cell_type": "markdown",
   "id": "804e01c9",
   "metadata": {},
   "source": [
    "# Exercice 1 : Le protocole RIP en mode débranché\n",
    "\n",
    "Par groupe de 2 ou 3 élèves, vous allez incarner un routeur et disposerez donc d'une **table de routage** qu'il faudra mettre à jour selon le protocole RIP.\n",
    "\n",
    "> On supposera ici que tous les routeurs \"arrivent\" dans le réseau au même moment, et ont tous des tables de routage vide. Cette situation n'est pas vraiment réaliste puisqu'en général, les nouveaux routeurs arrivent dans un réseau existants, tous les autres ayant déjà des tables de routages complètes.\n",
    "\n",
    "**Initialisation : tour 0**\n",
    "\n",
    "Au démarrage, chaque routeur ne connaît que ses voisins et le nombre de saut pour les atteindre est égal à 1.\n",
    "\n",
    "**Tours suivants**\n",
    "\n",
    "Chaque routeur va prendre en photo la table de routage des **ses voisins** et met à jour la sienne en conséquence. On rappelle que la mise à jour des tables dans le protocole RIP se fait de la façon suivante :\n",
    "\n",
    "* si une route reçue comprend un chemin plus court que celui qu'il connait : il modifie sa table avec ce plus court chemin\n",
    "* si une route n'est pas connue, il l'ajoute à sa table en ajoutant 1 au nombre de sauts du voisin qui lui a transmis la route\n",
    "* sinon, il n'y a pas de changement\n",
    "\n",
    "> Pour simplifier, on ne demandera que d'indiquer les noms des routeurs voisins, en réalité il faudrait indiquer leur adresse IP dans le sous-réseau commun ! De même, pour le moment, on se préoccupe pas des interfaces (elles ne sont pas données).\n",
    "\n",
    "**Après convergence des tables, dessinez une représentation possible du réseau tout entier.**"
   ]
  },
  {
   "cell_type": "markdown",
   "id": "c2046c1f",
   "metadata": {},
   "source": [
    "# Exercice 2 : Tables plus complètes\n",
    "\n",
    "Voici le schéma du réseau de l'exercice 1. \n",
    "\n",
    "![schéma complet du réseau](data/reseau_parts.svg)\n",
    "\n",
    "Utilisez ce schéma par compléter la table de chaque routeur obtenue dans l'exercice 1, en indiquant les adresses IP des passerelles et en ajoutant la colonne *Interface*."
   ]
  },
  {
   "cell_type": "markdown",
   "id": "20b5ba32",
   "metadata": {},
   "source": [
    "# Exercice 3 :\n",
    "\n",
    "Considérons le réseau suivant dans lequel le protocole de routage est **RIP**.\n",
    "\n",
    "![](data/reseau_ex3_initial.png)"
   ]
  },
  {
   "cell_type": "markdown",
   "id": "98b3ec8e",
   "metadata": {},
   "source": [
    "**Q1** : On suppose que les tables ont eu le temps de converger et qu'il n'y a pas de pannes. Donnez le contenu de la table de routage des routeurs R1 et R4.\n",
    "\n",
    "**Q2** : On rajoute un routeur **R5** dans le réseau comme ci-dessous. \n",
    "\n",
    "![](data/reseau_ex3.png)\n",
    "\n",
    "- R5 envoie alors une *requête RIP* à ses voisins : R1 et R4.\n",
    "- R1 et R4 lui envoient une réponse contenant leurs tables de routage\n",
    "\n",
    "Actualisez la table de routage de R5 en fonction des réponses de R1 et R4.\n",
    "\n",
    "**Q3** : R5 envoie ensuite sa table de routage à ses voisins pour qu'ils actualisent les leurs. Donnez les tables actualisées des routeurs R1 et R4.\n",
    "\n",
    "**Q4** : Les routeurs R1 et R4 ont modifié leur tables de routage et doivent propager l'information. À qui envoient-ils leur nouvelle table ? Les autres routeurs doivent-ils actualiser leurs tables ? Expliquer."
   ]
  },
  {
   "cell_type": "markdown",
   "id": "e77f1373",
   "metadata": {},
   "source": [
    "# Exercice 4 - Protocole OSPF\n",
    "\n",
    "Voici un réseau contenant 7 routeurs R1, R2, ..., R7 et dans lequel le protocole de routage utilisé est OSPF.\n",
    "\n",
    "![graphe](data/ex4.png)\n"
   ]
  },
  {
   "cell_type": "markdown",
   "id": "2fe007a1",
   "metadata": {},
   "source": [
    "1. Donnez le graphe correspondant pondéré par les coûts de chaque liaison.\n",
    "2. Après différents échanges, les routeurs ont la connaissance complète de la topologie du réseau. Donnez cette topologie sous forme d'un tableau.\n",
    "\n",
    "| Lien | Coût |\n",
    "| --- | --- |\n",
    "| R1-R2 | ... |\n",
    "| ... | ... |\n",
    "\n",
    "3. Recopier et compléter la table de routage du routeur R1 (en déterminant *de tête* les meilleurs chemins). Pour simplifier, vous indiquerez les noms des routeurs dans les deux premières colonnes (ce sont normalement des @IP). \n",
    "\n",
    "| Destination | En passant par | Coût |\n",
    "| --- | --- | --- |\n",
    "| R2 | | ... |\n",
    "| ... | | |"
   ]
  },
  {
   "cell_type": "markdown",
   "id": "9885ede4",
   "metadata": {},
   "source": [
    "# Exercice 5 - Plus court chemin dans un graphe (Dijkstra)\n",
    "\n",
    "**Question 1**\n",
    "\n",
    "1. Appliquez l'algorithme de Dijsktra pour trouver le meilleur chemin entre les routeurs R1 et R7 du réseau de l'exercice précédent.\n",
    "2. Quel serait le meilleur chemin si le protocole utilisé est RIP ?\n",
    "\n",
    "**Question 2**\n",
    "\n",
    "Appliquez l'algorithme de Dijkstra pour trouver le chemin le plus court pour aller de E à F.\n",
    "\n",
    "![graphe](data/ex5.png)\n",
    "\n",
    "**Question 3**\n",
    "\n",
    "Appliquez l'algorithme de Dijkstra pour trouver le chemin le plus court pour aller de A à H.\n",
    "\n",
    "![graphe](data/ex5_2.png)\n",
    "\n",
    "> Correction en vidéo : [https://www.youtube.com/watch?v=rI-Rc7eF4iw&ab_channel=glassus](https://www.youtube.com/watch?v=rI-Rc7eF4iw&ab_channel=glassus)"
   ]
  },
  {
   "cell_type": "markdown",
   "id": "8e4b1bc1",
   "metadata": {},
   "source": [
    "# Exercice 6\n",
    "\n",
    "Le réseau schématisé ci-dessous est constitué de 4 réseaux locaux (switch+ordinateurs) : R1, R2, R3 et R4, et de 4 routeurs A, B, C et D.\n",
    "\n",
    "![](data/ex6.png)\n",
    "\n",
    "On donne les débits (bandes passantes) de la connexion entre chaque routeur :\n",
    "A-B : 100 Mbps\n",
    "A-D : 1000 Mbps\n",
    "B-C : 10 Mbps\n",
    "C-D : 10 Mbps\n",
    "On propose ci-dessous une table de routage pour le routeur A :\n",
    "\n",
    "![](data/ex6_2.png)\n",
    "\n",
    "**1.** Complétez la colonne “métrique RIP” du tableau ci-dessus.\n",
    "\n",
    "**2.** Complétez la colonne “métrique OSPF” du tableau ci-dessus. \n",
    "\n",
    "**3.** Un ordinateur appartenant au réseau local R1 envoie un paquet de données à un ordinateur appartenant au réseau local R2.\n",
    "    \n",
    "- Donnez le chemin suivi par ce paquet de données si le routeur A utilise le protocole de routage RIP. Justifiez votre réponse.\n",
    "- Donnez le chemin suivi par ce paquet de données si le routeur A utilise le protocole de routage OSPF. Justifiez votre réponse.\n",
    "    \n",
    "**4.** Le routeur D est en panne. Un ordinateur appartenant au réseau local R1 envoie un paquet de données à un ordinateur appartenant au réseau local R3. Donnez le chemin suivi par ce paquet de données si le routeur A utilise le protocole de routage OSPF. Justifiez votre réponse.\n",
    "\n",
    "**5.** La liaison entre 2 routeurs a un coût de 0,2, calculez le débit de cette liaison en bps puis en Mbps."
   ]
  },
  {
   "cell_type": "markdown",
   "id": "2e29767c",
   "metadata": {},
   "source": [
    "# Exercice 7 - Sujet 0 NSI\n",
    "\n",
    "> Cet exercice est tiré du sujet 0 du bac NSI.\n",
    "\n",
    "On considère un réseau composé de plusieurs routeurs reliés de la façon suivante :\n",
    "\n",
    "![schéma du réseau](data/ex7_1.png)\n",
    "\n",
    "## Le protocole RIP\n",
    "\n",
    "Le protocole RIP permet de construire les tables de routage des différents routeurs, en indiquant pour chaque\n",
    "routeur la distance, en nombre de sauts, qui le sépare d’un autre routeur. Pour le réseau ci-dessus, on dispose\n",
    "des tables de routage suivantes :\n"
   ]
  },
  {
   "cell_type": "markdown",
   "id": "31dd0c17",
   "metadata": {},
   "source": [
    "![tables](data/ex7_tables.png)"
   ]
  },
  {
   "cell_type": "markdown",
   "id": "905c42b9",
   "metadata": {},
   "source": [
    "**Question 1**\n",
    "\n",
    "1) Le routeur A doit transmettre un message au routeur G, en effectuant un nombre minimal de\n",
    "sauts. Déterminer le trajet parcouru.\n",
    "\n",
    "2) Déterminer une table de routage possible pour le routeur G obtenu à l’aide du protocole RIP.\n",
    "\n",
    "**Question 2**\n",
    "\n",
    "Le routeur C tombe en panne. Reconstruire la table de routage du routeur A en suivant le\n",
    "protocole RIP.\n",
    "\n",
    "## Le protocole OSPF\n",
    "\n",
    "Contrairement au protocole RIP, l’objectif n’est plus de minimiser le nombre de routeurs traversés par un\n",
    "paquet. La notion de distance utilisée dans le protocole OSPF est uniquement liée aux coûts des liaisons.\n",
    "L’objectif est alors de minimiser la somme des coûts des liaisons traversées.\n",
    "\n",
    "On a rajouté sur le graphe représentant le réseau précédent les différents débits des liaisons.\n",
    "On rappelle que 1 Gb/s = 1 000 Mb/s = 10 9 bits/s.\n",
    "\n",
    "![schéma avec débits](data/ex7_2.png)\n",
    "\n",
    "**Question 3**\n",
    "\n",
    "1) Vérifier que le coût de la liaison entre les routeurs A et B est 0,01.\n",
    "\n",
    "2) La liaison entre le routeur B et D a un coût de 5. Quel est le débit de cette liaison ?\n",
    "\n",
    "**Question 4** \n",
    "\n",
    "Le routeur A doit transmettre un message au routeur G, en empruntant le chemin dont la somme\n",
    "des coûts sera la plus petite possible. Déterminer le chemin parcouru. On indiquera le raisonnement\n",
    "utilisé."
   ]
  },
  {
   "cell_type": "markdown",
   "id": "84899964",
   "metadata": {},
   "source": [
    "# Exercice 8 \n",
    "\n",
    "> Cet exercice est tiré du sujet NSI Métropole 2021 J2 (épreuve annulée)"
   ]
  },
  {
   "cell_type": "markdown",
   "id": "092c5d37",
   "metadata": {},
   "source": [
    "![figure](data/ex8_fig1.png)\n",
    "\n",
    "<p style=\"text-align:center; font-size:0.9em\"><em>Figure 1 : Réseau d'entreprise</em></p>\n",
    "\n",
    "La figure 1 ci-dessus représente le schéma d’un réseau d’entreprise. Il y figure deux réseaux locaux L1 et L2. Ces deux réseaux locaux sont interconnectés par les routeurs R2, R3, R4 et R5. Le réseau local L1 est constitué des PC portables P1 et P2 connectés à la passerelle R1 par le switch Sw1. Les serveurs S1 et S2 sont connectés à la passerelle R6 par le switch Sw2.\n",
    "\n",
    " Le tableau 1 suivant indique les adresses IPv4 des machines constituants le réseau de l’entreprise.\n",
    "\n",
    "![](data/ex8_tab1.png) \n",
    "\n",
    "<p style=\"text-align:center; font-size:0.9em\"><em>Tableau 1 : adresses IPv4 des machines</em></p>\n",
    "\n",
    "**Rappels et notations**\n",
    "\n",
    "Rappelons qu’une adresse IP est composée de 4 octets, soit 32 bits. Elle est notée\n",
    "X1.X2.X3.X4, où X1, X2, X3 et X4 sont les valeurs des 4 octets. Dans le tableau 1, les valeurs des 4 octets ont été converties en notation décimale.\n",
    "\n",
    "La notation X1.X2.X3.X4/n signifie que les n premiers bits de poids forts de l’adresse IP représentent la partie « réseau », les bits suivants de poids faibles représentent la partie « machine ».\n",
    "\n",
    "Toutes les adresses des machines connectées à un réseau local ont la même partie réseau.\n",
    "L’adresse IP dont tous les bits de la partie « machine » sont à 0 est appelée « adresse du réseau ».\n",
    "L’adresse IP dont tous les bits de la partie « machine » sont à 1 est appelée « adresse de diffusion ».\n",
    "\n",
    "**1.a.** Quelles sont les adresses des réseaux locaux L1 et L2 ?\n",
    "\n",
    "**1.b.** Donner la plus petite et la plus grande adresse IP valides pouvant être attribuées à un ordinateur portable ou un serveur sur chacun des réseaux L1 et L2 sachant que l’adresse du réseau et l’adresse de diffusion ne peuvent pas être attribuées à une machine.\n",
    "\n",
    "**1.c.** Combien de machines peut-on connecter au maximum à chacun des réseaux locaux L1 et L2 ? On donne ci-dessous les valeurs de quelques puissances de 2.\n",
    "\n",
    "| $$2^6$$ | $2^7$ | $2^8$ | $2^9$ | $2^{10}$ | $2^{11}$ | $2^{12}$ | $2^{13}$ | $2^{14}$ | $2^{15}$ | $2^{16}$ | $2^{17}$ |\n",
    "| --- | --- | --- | --- | --- | --- | --- | --- | --- | --- | --- | --- |\n",
    "| 64 | 128 | 256 | 512 | 1024 | 2048 | 4096 | 8192 | 16384 | 32768 | 65536 | 131072 |\n",
    "\n",
    "**2.a.** Expliquer l’utilité d’avoir plusieurs chemins possibles reliant les réseaux L1 et L2.\n",
    "\n",
    "**2.b.** Quel est le chemin le plus court en nombre de sauts pour relier R1 et R6 ? Donner le nombre de sauts de ce chemin et préciser les routeurs utilisés.\n",
    "\n",
    "**2.c.** La bande passante d’une liaison Ether (quantité d’information qui peut être transmise en bits/s) est de 10\\^7 bits/s et celle d’une liaison FastEther est de 10\\^8 bits/s. Le coût d’une liaison est défini par $10^8 / d$ , où $d$ est sa bande passante en bits/s.\n",
    "\n",
    "| Liaison | R1-R2 | R2-R5 | R5-R6 | R2-R3 | R3-R4 | R4-R5 | R3-R5 |\n",
    "| --- | --- | --- |  --- | --- | --- |  --- | --- |\n",
    "| Type | Ether | Ether | Ether | FastEther | FastEther | FastEther | Ether |\n",
    "\n",
    "<p style=\"text-align:center; font-size:0.9em\"><em>Tableau 2 : type des liaisons entre les routeurs</em></p>\n",
    "\n",
    "Quel est le chemin reliant R1 et R6 qui a le plus petit coût ? Donner le coût de ce chemin et préciser les routeurs utilisés.\n",
    "\n",
    "**3.** Dans l’annexe A figurent les tables de routages des routeurs R1, R2, R5 et R6 au démarrage du réseau. Indiquer sur votre copie ce qui doit figurer dans les lignes laissées vides des tables de routage des routeurs R5 et R6 pour que les échanges entre les ordinateurs des réseaux L1 et L2 se fassent en empruntant le chemin le plus court en nombre de sauts.\n",
    "\n",
    "![annexe](data/ex8_annexe.png)"
   ]
  },
  {
   "cell_type": "markdown",
   "id": "42dcb6d3",
   "metadata": {},
   "source": [
    "---\n",
    "\n",
    "**Ressources**\n",
    "\n",
    "- Exercices 1, 2 et 5 : d'après un [TP](https://github.com/glassus/terminale_nsi/tree/main/docs/T5_Architecture_materielle/5.3_Protocoles_de_routage/TP_protocole_RIP) et un [cours](https://github.com/glassus/terminale_nsi/blob/main/docs/T5_Architecture_materielle/5.3_Protocoles_de_routage/cours.md) de Gilles Lassus. \n",
    "- Exercice 3 : d'après un [cours sur les réseaux](http://sco.ljbrel93.ac-creteil.fr/eleyaouanc/1NSI/DOCUMENTS/reseau[CAMILLE_COTI].pdf) du DIU EIL Bloc 3 de Camille Coti (page 131/193, slide 86/136)\n",
    "- Exercice 4 : d'après le [cours sur le protocole OSPF](https://www.lecluse.fr/nsi/NSI_T/archi/routage/OSPF/#exemple) d'Olivier Lécluse.\n",
    "- Exercice 6 : d'après [un exercice](https://pixees.fr/informatiquelycee/term/c11e.html) proposé par David Roche.\n",
    "- Exercices 7 et 8 : extraits de sujet de bac"
   ]
  },
  {
   "cell_type": "markdown",
   "id": "91ecae3f",
   "metadata": {},
   "source": [
    "---\n",
    "Germain BECKER, Lycée Mounier, ANGERS\n",
    "\n",
    "Ressource éducative libre distribuée sous [Licence Creative Commons Attribution - Partage dans les Mêmes Conditions 4.0 International](http://creativecommons.org/licenses/by-sa/4.0/) \n",
    "\n",
    "![Licence Creative Commons](https://i.creativecommons.org/l/by-sa/4.0/88x31.png)"
   ]
  }
 ],
 "metadata": {
  "kernelspec": {
   "display_name": "Python 3",
   "language": "python",
   "name": "python3"
  },
  "language_info": {
   "codemirror_mode": {
    "name": "ipython",
    "version": 3
   },
   "file_extension": ".py",
   "mimetype": "text/x-python",
   "name": "python",
   "nbconvert_exporter": "python",
   "pygments_lexer": "ipython3",
   "version": "3.7.10"
  }
 },
 "nbformat": 4,
 "nbformat_minor": 5
}
