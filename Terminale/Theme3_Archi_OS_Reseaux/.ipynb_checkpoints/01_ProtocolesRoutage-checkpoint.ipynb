{
 "cells": [
  {
   "cell_type": "markdown",
   "id": "6b71a972",
   "metadata": {},
   "source": [
    "<h1 style=\"font-size: 30px; text-align: center\">Protocoles de routage</h1>\n",
    "\n",
    "---"
   ]
  },
  {
   "cell_type": "markdown",
   "id": "1556c431",
   "metadata": {},
   "source": [
    "# Introduction\n",
    "\n",
    "Un réseau informatique permet de relier les différentes machines afin qu'elles puissent communiquer.\n",
    "\n",
    "Un message échangé entre deux machines est découpée en paquets, et chacun de ces paquets transite indépendamment des autres sur le réseau de la machine émettrice à la machine destinataire qui reconstitue le message à partir des différents paquets. \n",
    "\n",
    "Un réseau est en réalité un ensemble de sous-réseaux interconnectés par des machines particulières appelées **routeurs**. Les interconnexions peuvent être de natures diverses : Ethernet, Wi-Fi, fibre optique, câble téléphonique, liaison par satellite, etc.\n"
   ]
  },
  {
   "cell_type": "markdown",
   "id": "9db7fd10",
   "metadata": {},
   "source": [
    "<img class=\"image-responsive centre\" src=\"data/Cisco7600seriesrouter.jpg\">\n",
    "\n",
    "<p style=\"text-align:center;color:#888;font-size:0.9em\">Un routeur CISCO (Crédits : Cisco Systems, <a href=\"http://creativecommons.org/licenses/by-sa/3.0/\" target=\"_blank\">CC BY-SA 3.0</a>, via <a href=\"https://commons.wikimedia.org/wiki/File:Cisco7600seriesrouter.jpg\" target=\"_blank\">Wikimedia Commons</a>).</p>\n",
    "\n",
    "<img class=\"image-responsive centre\" src=\"data/Routeur-wifi.jpg\" width=\"600\">\n",
    "\n",
    "<p style=\"text-align:center;color:#888;font-size:0.9em\">Un routeur Wi-Fi (Crédits : Vascer, licence <a href=\"http://artlibre.org/licence/lal/en/\" target=\"_blank\">FAL</a>, via <a href=\"https://commons.wikimedia.org/wiki/File:Routeur-wifi.jpg\" target=\"_blank\">Wikimedia Commons</a>).</p>\n"
   ]
  },
  {
   "cell_type": "markdown",
   "id": "b9154e50",
   "metadata": {},
   "source": [
    "Ce sont ces routeurs qui jouent un rôle essentiel dans la transmission des paquets sur Internet puisque ce sont eux qui déterminent la *meilleure* route que doit emprunter un paquet pour aller jusqu'à destination. Pour cela, chaque routeur dispose d'une **table de routage** qui peut être définie manuellement (par un administrateur, souvent pour des petits réseaux comme celui d'une entreprise, d'une école, etc.) ou dynamiquement grâce à des **algorithmes de routage** spécifiques. Nous étudierons dans ce chapitre deux protocoles de routage dynamique : RIP et OSPF."
   ]
  },
  {
   "cell_type": "markdown",
   "id": "781f2bd3",
   "metadata": {},
   "source": [
    "# *Topologie* d'un réseau\n",
    "\n",
    "L'interconnexion des routeurs forme ce que l'on appelle la *topologie* d'un réseau.\n",
    "\n",
    "Dans la suite, on considérera le réseau suivant (adapté du cours de Gilles Lassus, lien dans les références à la fin) :\n",
    "\n",
    "<img class=\"centre image-responsive\" src=\"data/reseau_cours.svg\" alt=\"topologie d'un réseau\" width=\"800\">"
   ]
  },
  {
   "cell_type": "markdown",
   "id": "8d4c4d4b",
   "metadata": {},
   "source": [
    "Dans ce réseau, il y a :\n",
    "\n",
    "* 4 routeurs : R1, R2, R3 et R4 ;\n",
    "* 6 sous-réseaux : A, B, C, D, E et F.\n",
    "\n",
    "Chaque routeur possède au moins deux cartes réseaux qui lui permet de relier au moins deux sous-réseaux (sinon, il ne sert à rien). Ainsi, un routeur appartient à chacun des sous-réseaux qu'il relie et possède donc plusieurs adresses IP : une par sous-réseaux auquel il appartient. \n",
    "\n",
    "Par exemple, le routeur R1 :\n",
    "* interconnecte trois réseaux : `192.168.0.0/24` (F), `10.0.5.0/24` (A) et `172.17.1.0/24` (E) \n",
    "* possède trois adresses : `192.168.0.1` (son adresse dans le sous-réseau F), `10.0.5.1` (son adresse dans le sous-réseau A) et `172.17.1.1` (son adresse dans le sous-réseau E).\n",
    "\n",
    "Par soucis de simplification, on a donné des noms (A, B, ...) à chaque sous-réseau mais il faut savoir qu'en réalité c'est l'adresse IP de chaque sous-réseau qui est utilisée. Par exemple, le sous-réseau A possède l'adresse IP `10.0.5.0` et le masque de ce sous-réseau est `24`.\n",
    "\n",
    "> <span style=\"font-size:1.5em\">✍️</span> Faites l'activité d'introduction sur l'adressage IP, les réseaux et les masques."
   ]
  },
  {
   "cell_type": "markdown",
   "id": "444877d8",
   "metadata": {},
   "source": [
    "# Tables de routage\n",
    "\n",
    "Imaginons que l'ordinateur (client) d'adresse `192.168.0.5` veut interroger le serveur `10.4.8.5`.\n",
    "\n",
    "Comme l'adresse IP du serveur n'est pas dans le sous-réseau F, alors l'ordinateur transmet le message au routeur R1 de son réseau local. Ce dernier regarde alors dans sa table de routage pour déterminer vers quel routeur voisin il doit transmettre le message. Chaque routeur réceptionnant le message procède ensuite de la même manière jusqu'à atteindre le dernier routeur appartenant au réseau local de l'adresse recherchée."
   ]
  },
  {
   "cell_type": "markdown",
   "id": "4fa0dd45",
   "metadata": {},
   "source": [
    "La table de routage d'un routeur contient plusieurs colonnes : \n",
    "\n",
    "* une *destination* sous la forme d'une adresse sous-réseaux/masque ;\n",
    "* une *passerelle* qui donne l'adresse IP du prochain routeur voisin pour atteindre cette destination ;\n",
    "* une *interface* qui indique la carte réseau (ou interface réseau) à utiliser pour atteindre la passerelle ;\n",
    "* une *métrique* indiquant le \"coût\" pour atteindre la destination.\n",
    "\n",
    "Par exemple, la table de routage de R1 pourrait être :\n",
    "\n",
    "| Destination (@IP ss-rés) | Passerelle (@IP routeur) | Interface | Métrique |\n",
    "| --- | --- | --- | --- |\n",
    "| 192.168.0.0 /24 (F) | | wlan0 |  |\n",
    "| 172.17.1.0 /24 (E) | | fasteth0 |  |\n",
    "| 10.0.5.0 /24 (A) | | eth0 |  |\n",
    "| 10.5.2.0 /24 (B) | 172.17.1.2 (R2) | fasteth0 |  |\n",
    "| 10.7.3.0 /24 (C) | 10.0.5.2 (R3) | eth0 |  |\n",
    "| 10.4.8.0 /24 (D) | 10.0.5.2 (R3) | eth0 |  |"
   ]
  },
  {
   "cell_type": "markdown",
   "id": "fde2e046",
   "metadata": {},
   "source": [
    "<blockquote class=\"information\">\n",
    "    <p>L'interface wlan0 indique que le routeur R1 est connecté au réseau <code>192.168.0.0 /24</code> via une interface sans fil (wlan pour <em>Wireless Local Area Network</em>). Les interfaces fasteth0 et eth0 indiquent que le routeur R1 est connecté respectivement à chacun des réseaux <code>172.17.1.0 /24</code> et <code>10.0.5.0 /24</code> par une carte FastEthernet (fasteth) et Ethernet (eth), celles de numéro 0.</p>\n",
    "    <p>On a laissé la colonne <em>Métrique</em> vide car cela va dépendre du protocole utilisé, comme on le verra par la suite.</p>\n",
    "</blockquote>"
   ]
  },
  {
   "cell_type": "markdown",
   "id": "f223d5c4",
   "metadata": {},
   "source": [
    "## Routage statique vs routage dynamique\n",
    "\n",
    "Les tables de routage peuvent être construites de manière *statique* ou de manière *dynamique*.\n",
    "\n",
    "Dans le cas d'un routage statique, les tables sont définies manuellement par l'administrateur. C'est simple à mettre en oeuvre et le contrôle est facile ce qui amène de la sécurité. En revanche, ce n'est adapté qu'à de petits réseaux (routage interne) comme le réseau d'une (petite) entreprise ou d'une école car il faut mettre à jour (manuellement) les tables de routage à chaque nouvel équipement installé, à chaque panne ou équipement défectueux. \n",
    "\n",
    "Dans le cas d'un routage dynamique, les routeurs diffusent et partagent des informations pour indiquer quels réseaux sont atteignables par eux. En fonction des informations reçues chaque routeur peut alors mettre à jour dynamiquement sa table de routage grâce à des algorithmes de routage spécifiques. Ce sont des algorithmes de meilleur chemin qui sont utilisés, et qui permettent de définir les différentes métriques.\n",
    "\n",
    "Nous allons maintenant voir deux routages dynamiques très connus mis en oeuvre par les **protocoles RIP et OSPF**."
   ]
  },
  {
   "cell_type": "markdown",
   "id": "18994d06",
   "metadata": {},
   "source": [
    "# Le protocole RIP\n",
    "\n",
    "Le **protocole RIP**, pour *Routing Information Protocol* (ou \"protocole d'information de routage\" en français), a été conçu dès l'origine d'Internet pour fonctionner sur des réseaux de taille modérée.\n",
    "\n",
    "Il utilise l'algorithme de Bellman-Ford qui prévoit que chaque routeur diffuse régulièrement (toutes les 30 secondes) à ses voisins les routes qu'il connaît, c'est-à-dire la liste des réseaux qu'il peut atteindre et la distance, en **nombre de sauts**, pour les atteindre.\n",
    "\n",
    "Ainsi, chaque routeur du réseau reçoit périodiquement (30 sec.) les routes des routeurs voisins. Il les utilise pour effectuer les traitements suivants :\n",
    "\n",
    "* il met alors à jour sa propre table de routage :\n",
    "    * si une route reçue comprend un chemin plus court que celui qu'il connait : il modifie sa table avec ce plus court chemin\n",
    "    * si une route n'est pas connue, il l'ajoute à sa table en ajoutant 1 au nombre de sauts du voisin qui lui a transmis la route\n",
    "    * sinon, il n'y a pas de changement\n",
    "* il émet sa table de routage à tous ses routeurs voisins\n",
    "\n",
    "> <span style=\"font-size:1.5em\">✍️</span> Faites l'exercice 1 sur le protocole RIP\n",
    "\n",
    "Si un routeur n'a aucune nouvelle d'un voisin pendant 3 minutes (180 sec., c'est le *premier timeout*), il considère que ce voisin est en panne, toutes les routes passant par lui sont affectées dans la distance infinie (égale à 16, voir en-dessous) et l'information est diffusée à tous ses voisins qui diffuseront aussi l'information à leurs voisins, etc. Au bout d'un certain temps supplémentaire (*deuxième timeout*), si un routeur n'a pas de nouvelle d'un voisin à distance 16, la route est complètement supprimée de sa table."
   ]
  },
  {
   "cell_type": "markdown",
   "id": "c119126d",
   "metadata": {},
   "source": [
    "L'émission périodique des tables permet ainsi de prendre en compte :\n",
    "\n",
    "* les évolutions du réseaux (apparition/disparition d'un routeur) ;\n",
    "* la coupure des liaisons ;\n",
    "* la panne d'un ou plusieurs routeurs.\n",
    "\n",
    "Si tout se passe bien sur le réseau, les tables de routages *convergent* rapidement. La convergence est plus lente si des pannes ont lieu ou si de nouveaux routeurs apparaissent."
   ]
  },
  {
   "cell_type": "markdown",
   "id": "a2f30269",
   "metadata": {},
   "source": [
    "Par exemple, la table de routage du routeur R1 du réseau précédent peut être la suivante (après convergence !) :\n",
    "\n",
    "| Destination (@IP ss-rés) | Passerelle (@IP routeur) | Interface | Nombre de sauts (métrique) |\n",
    "| --- | --- | --- | --- |\n",
    "| 192.168.0.0 /24 (F) | | wlan0 | 1 |\n",
    "| 172.17.1.0 /24 (E) | | fasteth0 | 1 |\n",
    "| 10.0.5.0 /24 (A) | | eth0 | 1 |\n",
    "| 10.5.2.0 /24 (B) | 172.17.1.2 (R2) | fasteth0 | 2  |\n",
    "| 10.7.3.0 /24 (C) | 10.0.5.2 (R3) | eth0 | 2 |\n",
    "| 10.4.8.0 /24 (D) | 10.0.5.2 (R3) | eth0 | 2 |"
   ]
  },
  {
   "cell_type": "markdown",
   "id": "4dcb86da",
   "metadata": {},
   "source": [
    "Ainsi, avec le protocole RIP, si l'ordinateur d'adresse `192.168.0.5` veut interroger le serveur `10.4.8.5`, le chemin utilisé sera R1-R3, pour un coût égal à 2 (qui est meilleur que le chemin R1-R2-R4-R3 de coût égal à 4)."
   ]
  },
  {
   "cell_type": "markdown",
   "id": "e0af4918",
   "metadata": {},
   "source": [
    "**Remarques et inconvénients**\n",
    "\n",
    "* La *métrique* utilisée par le protocole RIP est donc la distance en *nombre de sauts*, autrement dit le nombre de routeurs traversés pour atteindre la destination (en comptant le routeur de départ).\n",
    "\n",
    "👉 *Inconvénient* : le protocole RIP ne tient alors pas compte de la qualité des liaisons entre les routeurs : pourtant, il se peut très bien qu'une route plus *longue* (qui traverse davantage de routeurs) soit en réalité plus *rapide*\n",
    "\n",
    "* La distance maximale autorisée par le protocole RIP est égale à 15, et ainsi 16 correspond à la distance infinie.\n",
    "\n",
    "👉 *Inconvénient* : cela limite l'utilisation du protocole RIP à des réseaux de petite taille\n",
    "\n",
    "* Les informations ne sont échangées qu'entre voisins directs\n",
    "\n",
    "👉 *Inconvénient* : Un routeur n'a pas de vision au-delà de ses propres voisins et n'a donc jamais connaissance de la topologie du réseau tout entier."
   ]
  },
  {
   "cell_type": "markdown",
   "id": "ee866c3d",
   "metadata": {},
   "source": [
    "Les inconvénients évoqués ci-dessus (et ce ne sont pas les seuls), et en particulier la non-prise en compte de la bande passante reliant les routeurs (donc la qualité des liaisons) font que d'autres protocoles ont vu le jour. En particulier, le protocole OSPF a vu le jour dans l'idée de remplacer le protocole RIP.\n",
    "\n",
    "> <span style=\"font-size:1.5em\">✍️</span> Faites les exercices 2 et 3 sur le protocole RIP"
   ]
  },
  {
   "cell_type": "markdown",
   "id": "4b39643f",
   "metadata": {},
   "source": [
    "# Le protocole OSPF\n",
    "\n",
    "Le **protocole OSPF**, pour *Open Shortest Path First*, a été dévéloppé à partir de 1997 avec l'objectif de remplacer le protocole RIP dont on vient de citer quelques inconvénients.\n",
    "\n",
    "Dans le protocole OSPF, et cela constitue deux différences fondamentales avec RIP, chaque routeur :\n",
    "\n",
    "* possède une **vision globale** de la topologie du réseau\n",
    "* possède une table de routage qui tient compte de la **vitesse de communication** entre les routeurs, c'est-à-dire de la qualité des liaisons (bande passante)\n",
    "\n",
    "> En particulier, le tables de routages du protocole OSPF sont identiques pour tous les routeurs."
   ]
  },
  {
   "cell_type": "markdown",
   "id": "de064b4a",
   "metadata": {},
   "source": [
    "Le protocole OSPF se décompose en deux phases importantes : \n",
    "\n",
    "- 1ère phase : les routeurs s'échangent des messages afin de **connaître la topologie *complète* du réseau** (= toutes les liaisons ainsi que leurs débits)\n",
    "- 2ème phase : chaque routeur applique ensuite un **algorithme afin de calculer les chemins les plus rapides** vers les différents réseaux\n",
    "\n",
    "Plus précisément, chaque routeur :\n",
    "\n",
    "- maintient une carte complète du réseau (topologie)\n",
    "- calcule les meilleurs chemins localement\n",
    "- teste périodiquement l'état des liaisons qui le relie à ses voisins et diffuse cet état à tous les routeurs du domaine.\n",
    "- à la réception d'un message :\n",
    "    - met à jour la carte des liaisons\n",
    "    - recalcule, pour chaque liaison modifiée, la nouvelle meilleure route"
   ]
  },
  {
   "cell_type": "markdown",
   "id": "48ed66c6",
   "metadata": {},
   "source": [
    "## Les coûts des liaisons selon leur type\n",
    "\n",
    "Voici un tableau regroupant les différents types de liaison ainsi que leurs débits théoriques :\n",
    "\n",
    "| Technologie | BP descendante | BP montante |\n",
    "|-|-|-|\n",
    "| Modem | 56 kbit/s | 48 kbit/s |\n",
    "| Bluetooth | 3 Mbit/s | 3 Mbit/s |\n",
    "| Ethernet | 10 Mbit/s | 10 Mbit/s |\n",
    "| Wi-Fi |  10 Mbit/s ~ 10 Gbits/s | 10 Mbit/s ~ 10 Gbits/s |\n",
    "| ADSL | 13 Mbit/s | 1 Mbit/s |\n",
    "| 4G | 100 Mbit/s | 50 Mbit/s |\n",
    "| Satellite | 50 Mbit/s | 1 Mbit/s |\n",
    "| Fast Ethernet | 100 Mbit/s | 100 Mbit/s |\n",
    "| FFTH (fibre) | 10 Gbit/s | 10 Gbit/s |\n",
    "| 5G | 20 Gbit/s | 10 Gbit/s |"
   ]
  },
  {
   "cell_type": "markdown",
   "id": "590744f5",
   "metadata": {},
   "source": [
    "Le protocole OSPF associe un **coût** à chaque type de liaison. Ce coût est inversement proportionnel au débit de transfert et s'obtient généralement par la formule :\n",
    "\n",
    "$$\\text{coût} = \\dfrac{10^8}{\\text{débit}}$$\n",
    "\n",
    "où $\\text{débit}$ est exprimé en bit/s.\n",
    "\n",
    "Ainsi, plus le débit d'une liaison est important, plus le coût associé est faible. Les liaisons les plus rapides sont donc celles qui auront le coût le plus faible et donc celles privilégiées dans la recherche du meilleur chemin.\n",
    "\n",
    "> Cette formule peut varier suivant les exercices, celle à utiliser sera indiquée dans l'énoncé (c'est le numérateur qui peut varier).\n",
    "\n",
    "Avec cette formule :\n",
    "\n",
    "- une liaison *Fast Ethernet* de débit 100 Mbits/s, c'est-à-dire $100 \\times 10^6 = 10^8$ bit/s, aura un coût égal à $\\dfrac{10^8}{10^8}=1$.\n",
    "- une liaison *Ethernet* de débit 10 Mbits/s, c'est-à-dire $10\\times 10^6=10^7$ bits/s, aura un coût égal à $\\dfrac{10^8}{10^7}=10$.\n",
    "- etc."
   ]
  },
  {
   "cell_type": "markdown",
   "id": "9f191ca3",
   "metadata": {},
   "source": [
    "## Exemple\n",
    "\n",
    "Reprenons le réseau initial, en indiquant les débits entre les différents routeurs.\n",
    "\n",
    "<img class=\"centre image-responsive\" src=\"data/reseau_cours.svg\" alt=\"topologie d'un réseau\" width=\"800\">"
   ]
  },
  {
   "cell_type": "markdown",
   "id": "bac22c08",
   "metadata": {},
   "source": [
    "On simplifie sa représentation en dessinant uniquement les réseaux ainsi que les routeurs et les *débits* entre eux.\n",
    "\n",
    "<img class=\"centre image-responsive\" src=\"data/ospf1_v3.png\" alt=\"schéma du réseau\" width=\"800\">"
   ]
  },
  {
   "cell_type": "markdown",
   "id": "8f7bc9ee",
   "metadata": {},
   "source": [
    "On peut alors calculer le coût de chaque liaison pour obtenir le *graphe pondéré* suivant : \n",
    "\n",
    "<img class=\"centre image-responsive\" src=\"data/ospf2_v3.png\" alt=\"schéma du réseau\" width=\"800\">"
   ]
  },
  {
   "cell_type": "markdown",
   "id": "9cf820a4",
   "metadata": {},
   "source": [
    "### Construction de la topologie du réseau\n",
    "\n",
    "En pratique, avec OSPF les routeurs communiquent entre eux pour déterminer la topologie complète du réseau : \n",
    "\n",
    "- au démarrage, un routeur envoie des messages (que l'on appellent *messages HELLO*) à tous les routeurs auxquels il est connecté.\n",
    "- Ces derniers lui répondent et permettent ainsi au routeur de départ de prendre connaissance de ses voisins. Comme il connaît les bandes passantes vers chacun de ces voisins, il peut initialiser sa vision de la topologie du réseau dans sa table de routage avec les liaisons vers ses voisins.\n",
    "- Après la phase d'initialisation, les routeurs s'échangent des paquets (que l'on appellent *paquets LSA*, pour *Link State Advertisement*) contenant leurs connaissances du réseau. Ainsi, au bout d'un certain nombre d'échanges, tous les routeurs du réseau ont la même vision du réseau (celui correspondant à leur zone)."
   ]
  },
  {
   "cell_type": "markdown",
   "id": "cfd0a19f",
   "metadata": {},
   "source": [
    "Dans le cas du réseau précédent, lorsque les échanges sont terminés, la topologie du réseau vue par R1 (ou tout autre routeur de la zone) est la suivante :\n",
    "\n",
    "| Lien | Sous-réseau | Coût |\n",
    "| --- | --- | --- |\n",
    "| R1-R2 | 172.17.1.0 /24 | 1 |\n",
    "| R1-R3 | 10.0.5.0 /24 | 10 |\n",
    "| R2-R4 | 10.5.2.0 /24 | 1 |\n",
    "| R3-R4 | 10.7.3.0 /24 | 2 |"
   ]
  },
  {
   "cell_type": "markdown",
   "id": "febc4ccc",
   "metadata": {},
   "source": [
    "### Calculs des plus courts chemins\n",
    "\n",
    "La topologie du réseau étant connue, on peut passer à la dernière phase du protocole OSPF : chaque routeur applique un algorithme pour déterminer les plus courts chemins vers chaque sous-réseau et construit sa table de routage avec les meilleures routes.\n",
    "\n",
    "| Destination (@IP ss-rés) | Passerelle (@IP routeur) | Interface | Coût (métrique) |\n",
    "| --- | --- | --- | --- |\n",
    "| 192.168.0.0 /24 (F) | | wlan0 | 0 |\n",
    "| 172.17.1.0 /24 (E) | | fasteth0 | 1 |\n",
    "| 10.0.5.0 /24 (A) | | eth0 | 10 |\n",
    "| 10.5.2.0 /24 (B) | 172.17.1.2 (R2) | fasteth0 | 2  |\n",
    "| 10.7.3.0 /24 (C) | 172.17.1.2 (R2) | fasteth0 | 4 |\n",
    "| 10.4.8.0 /24 (D) | 172.17.1.2 (R2) | fasteth0 | 2 |"
   ]
  },
  {
   "cell_type": "markdown",
   "id": "191968d2",
   "metadata": {},
   "source": [
    "Dans notre exemple, on se rend compte que pour aller de l'ordinateur au serveur, le chemin le plus rapide n'est plus R1-R3 (avec le protocole RIP), mais R1-R2-R4-R3 avec un coût de 4 (contre 10 pour R1-R3).\n",
    "\n",
    "> **Remarque** : Dans l'exemple précédent les coûts d'accès aux différents réseaux n'ont pas été indiqués. Ils sont généralement communs aux différentes routes potentielles et n'entrent pas en compte pour calculer les meilleures routes. Par contre, si un réseau est accessible via deux routeurs avec des débits différents, il faudrait en tenir compte."
   ]
  },
  {
   "cell_type": "markdown",
   "id": "2d53a274",
   "metadata": {},
   "source": [
    "> <span style=\"font-size:1.5em\">✍️</span> Faites l'exercice 4 sur le protocole OSPF.\n",
    "\n",
    "Ici, le réseau est *petit* pour l'exemple, et un humain peut rapidement déterminer le chemin le plus court en un coup d'oeil. En réalité, c'est un algorithme qui calcule le chemin le plus court dans le graphe pondéré obtenu, qui peut être bien plus complexe."
   ]
  },
  {
   "cell_type": "markdown",
   "id": "49c1a8af",
   "metadata": {},
   "source": [
    "## Algorithme de Dijkstra\n",
    "\n",
    "Le protocole OSPF est basé sur l'**algorithme de Dijkstra** pour trouver le chemin le plus court (= le plus rapide !). C'est un algorithme découvert en 1959 par le mathématicien et informaticien néerlandais [Edsger Dijkstra](https://fr.wikipedia.org/wiki/Edsger_Dijkstra).\n",
    "\n",
    "Cet algorithme n'est *a priori* pas au programme de Terminale NSI, mais son principe est très simple à comprendre et à appliquer. Voici une [vidéo](https://www.youtube.com/watch?v=rHylCtXtdNs&ab_channel=YvanMonka) présentant son fonctionnement :"
   ]
  },
  {
   "cell_type": "markdown",
   "id": "b6ff7429",
   "metadata": {},
   "source": [
    "<div class=\"video-reponsive\">\n",
    "    <iframe class=\"centre\" width=\"683\" height=\"384\" src=\"https://www.youtube.com/embed/rHylCtXtdNs\" title=\"YouTube video player\" frameborder=\"0\" allow=\"accelerometer; autoplay; clipboard-write; encrypted-media; gyroscope; picture-in-picture\" allowfullscreen></iframe>\n",
    "</div>"
   ]
  },
  {
   "cell_type": "markdown",
   "id": "522bbcc3",
   "metadata": {},
   "source": [
    "> <span style=\"font-size:1.5em\">✍️</span> Faites l'exercice 5 sur l'algorithme de Dijkstra et les exercices bilan 6, 7 et 8."
   ]
  },
  {
   "cell_type": "markdown",
   "id": "b419ac7e",
   "metadata": {},
   "source": [
    "# Routage mondial\n",
    "\n",
    "Le monde IP est divisé en *domaines administratifs* (ou *Admnistrative System* en anglais) qui sont des zones dans lesquelles n'exerce qu'une seule autorité (ex: FAI ou ISP en anglais, pour *Internet Service Provider*) ayant différentes tâches comme l'administration des adresses, la facturation des coûts, la sécurisation et l'organisation des domaines de routage.\n",
    "\n",
    "Chaque domaine administratif est lui-même divisé en différents **Systèmes Autonomes** (ou *Autonomous System* en anglais, souvent abrégé **AS**). Un Système Autonome est :\n",
    "\n",
    "- un ensemble de réseaux interconnectés partageant la même stratégie de routage (ex : entreprise, campus, coeur d'un réseau national, FAI, ...)\n",
    "- identifié par un numéro unique (ASN, pour *Autonomous System Number*)\n",
    "- dans lequel tous les routeurs internes à ce système obéissent au même protocole de routage (comme RIP et OSPF, mais il en existe d'autres : IGRP, EIGPR, IS-IS).\n",
    "\n",
    "Les AS sont reliés entre eux par des routeurs externes chargés de transférer les informations de routage entre les différents AS (ces routeurs externes utilisent d'autres protocoles comme BGP pour *Border Gateway Protocol*, mais ce n'est pas le seul).\n",
    "\n",
    "> Ce que nous avons raconté dans ce cours sur RIP et OSPF s'applique donc à des réseaux qui sont des AS."
   ]
  },
  {
   "cell_type": "markdown",
   "id": "3a815ef1",
   "metadata": {},
   "source": [
    "<img class=\"image-responsive centre\" src=\"data/routage_mondial.jpg\">\n",
    "\n",
    "<p style=\"text-align:center;color:#888;font-size:0.9em\">Le routage mondial. Source : <a href=\"https://www.ciscopress.com/articles/article.asp?p=2832406&seqNum=8\" target=\"_blank\">ciscopress.com</a></p>\n"
   ]
  },
  {
   "cell_type": "markdown",
   "id": "87c69dd3",
   "metadata": {},
   "source": [
    "<blockquote class=\"information\">\n",
    "    <p>En 2019, il y avait plus de 91 000 AS contre 35 000 en 2010 et 5 000 en 1999. Pour plus d'informations, voir cet article Wikipédia : <a href=\"https://fr.wikipedia.org/wiki/Autonomous_System\" target=\"_blank\">Autonomous System</a>.</p>\n",
    "</blockquote>"
   ]
  },
  {
   "cell_type": "markdown",
   "id": "e0e888b1",
   "metadata": {},
   "source": [
    "# Bilan\n",
    "\n",
    "- Les machines communiquement entre elles grâces à des **routeurs**.\n",
    "- Les routeurs utilisent leur **table de routage** pour déterminer la *meilleure* route pour acheminer les paquets jusqu'à destination. Ces tables peuvent être définies manuellement, ce qui reste adapté sur un domaine restreint (routage interne) mais qui est inadapté pour le réseau mondial où les tables doivent évoluer dynamiquement.\n",
    "- **RIP** et **OSPF** sont deux protocoles de *routage dynamique* dans lesquels les routeurs s'échangent périodiquement des messages pour indiquer quels réseaux on peut atteindre par eux, permettant de mettre à jour dynamiquement les tables de routage grâce à des **algorithmes de routage** spécifiques. Ces algorithmes utilisent une **métrique** pour mesurer la *distance* entre un routeur et le réseau de destination, et permettent notamment une reconfiguration rapide en cas de **changement de topologie** du réseau.\n",
    "- Dans le protocole RIP, les routeurs connaissent seulement leurs voisins et n'ont pas connaissance de la topologie complète du réseau. L'algorithme utilisé (Bellman-Ford) tient compte du **nombre de sauts** (= métrique) pour trouver la meilleure route : celle dont le nombre de sauts est minimum, autrement dit la plus *courte*. C'est l'algorithme de routage dynamique le plus ancien, le plus simple et il est encore très utilisé. En revanche, il ne tient pas compte de la qualité des liens entre les routeurs (débit ou bande passante) et n'est pas très adapté pour des réseaux de grande taille.\n",
    "- Dans le protocole OSPF, créé pour remplacer RIP, la qualité des liens est prise en compte et les routeurs ont une vision complète de la topologie du réseau. L'algorithme utilisé (Dijkstra) tient compte du **coût** (= métrique), qui dépend de la bande passante des liens franchis, pour trouver la meilleure route : celle dont le coût est minimal, autrement dit la plus *rapide*. OSPF est très complet, très performant mais plus compliqué et consommateur de ressources dans les routeurs, on le réserve généralement à de grands réseaux."
   ]
  },
  {
   "cell_type": "markdown",
   "id": "60154c64",
   "metadata": {},
   "source": [
    "---\n",
    "\n",
    "**Références :**\n",
    "- Equipe éducative DIU EIL, cours d'Introduction aux réseaux de P. PASSARD et S. HAMMA, Université de Nantes.\n",
    "- Cours de Gilles Lassus sur les [protocoles de routage](https://github.com/glassus/terminale_nsi/blob/main/docs/T5_Architecture_materielle/5.3_Protocoles_de_routage/cours.md) notamment pour les schémas\n",
    "- Livre *Numérique et Sciences Informatiques, 24 leçons, Terminale*, T. BALABONSKI, S. CONCHON, J.-C. FILLIATRE, K. NGUYEN, éditions ELLIPSES.\n",
    "- Cours de Denis Quenton sur les [réseaux](https://angellier.gitlab.io/nsi/terminale/ProtocoleRoutage/partie_3/)\n",
    "- Cours d'Olivier Lecluse sur les [protocoles de routage](https://www.lecluse.fr/nsi/NSI_T/archi/routage/)\n"
   ]
  },
  {
   "cell_type": "markdown",
   "id": "bb240201",
   "metadata": {},
   "source": [
    "---\n",
    "Germain BECKER, Lycée Mounier, ANGERS\n",
    "\n",
    "Ressource éducative libre distribuée sous [Licence Creative Commons Attribution - Pas d’Utilisation Commerciale - Partage dans les Mêmes Conditions 4.0 International](http://creativecommons.org/licenses/by-nc-sa/4.0/) \n",
    "\n",
    "![Licence Creative Commons](https://i.creativecommons.org/l/by-nc-sa/4.0/88x31.png)"
   ]
  }
 ],
 "metadata": {
  "kernelspec": {
   "display_name": "Python 3",
   "language": "python",
   "name": "python3"
  },
  "language_info": {
   "codemirror_mode": {
    "name": "ipython",
    "version": 3
   },
   "file_extension": ".py",
   "mimetype": "text/x-python",
   "name": "python",
   "nbconvert_exporter": "python",
   "pygments_lexer": "ipython3",
   "version": "3.7.10"
  }
 },
 "nbformat": 4,
 "nbformat_minor": 5
}
