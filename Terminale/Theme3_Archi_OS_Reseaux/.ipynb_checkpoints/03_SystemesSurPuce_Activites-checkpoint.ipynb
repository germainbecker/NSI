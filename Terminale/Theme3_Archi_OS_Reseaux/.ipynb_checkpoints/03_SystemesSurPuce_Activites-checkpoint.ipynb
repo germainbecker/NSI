{
 "cells": [
  {
   "cell_type": "markdown",
   "id": "45844a13",
   "metadata": {},
   "source": [
    "<h1 style=\"font-size: 30px; text-align: center\">Systèmes sur puce (SoC) - EXERCICES</h1>"
   ]
  },
  {
   "cell_type": "markdown",
   "id": "95eb01f8",
   "metadata": {},
   "source": [
    "# Exercice 1\n",
    "\n",
    "*d'après Polynésie 2021*\n",
    "\n",
    "Un constructeur automobile intègre à ses véhicules des systèmes embarqués, comme par exemple un système de guidage par satellites (GPS), un système de freinage antiblocage (ABS)...\n",
    "\n",
    "Ces dispositifs utilisent des systèmes sur puces (SoC : System on a Chip).\n",
    "\n",
    "Citer deux avantages à utiliser ces systèmes sur puces plutôt qu'une architecture classique d'ordinateur."
   ]
  },
  {
   "cell_type": "markdown",
   "id": "a99e8017",
   "metadata": {},
   "source": [
    "# Exercice 2\n",
    "\n",
    "1. On a vu dans le cours que l'iPhone 4S est équipé de la puce *Apple A5*. Cherchez les fonctionnalités et caractéristiques de ce SoC. Vous chercherez notamment la finesse de gravure du circuit imprimé.\n",
    "2. Quel est le nom du SoC équipant l'iPhone 13 ? Cherchez ses caractéristiques et comparez-les à celles de l'Apple A5. À quoi sert le moteur neuronal intégré ?\n",
    "\n",
    "<img src=\"data/apple_A15.webp\" alt=\"apple A15\" width=\"600\">"
   ]
  },
  {
   "cell_type": "markdown",
   "id": "b82614dc",
   "metadata": {},
   "source": [
    "# Exercice 3\n",
    "\n",
    "Voici l'architecture du SoC Exynos 990 qui équipe les Galaxy S20. https://youtu.be/13RgDxD83vI\n",
    "\n",
    "<img src=\"data/exynos_990.png\" alt=\"Exynos 990\">\n",
    "\n"
   ]
  },
  {
   "cell_type": "markdown",
   "id": "207fd57e",
   "metadata": {},
   "source": [
    "Cherchez la siginification des différents éléments du SoC Exynos 990.\n",
    "\n",
    "*Aide* : Security --> SPU"
   ]
  },
  {
   "cell_type": "markdown",
   "id": "29eb1aec",
   "metadata": {},
   "source": [
    "# Exercice 4\n",
    "\n",
    "1. Quel est le nom du SoC de votre smartphone ?\n",
    "2. Quelles sont ses fonctionnalités ?"
   ]
  },
  {
   "cell_type": "markdown",
   "id": "c2bb6e75",
   "metadata": {},
   "source": [
    "# Exercice 5\n",
    "\n",
    "Voici un schéma présentant les performances de consommation d'énergie de différents coeurs ARM (Cortex A72, A57, A72) :\n",
    "\n",
    "<img src=\"data/arm_cortexA72.png\" alt=\"conso énergie coeurs ARM\" width=\"700\">\n",
    "\n",
    "Expliquez pourquoi la progression de la finesse de gravure permet de diminuer la consommation d'énergie.\n",
    "\n"
   ]
  },
  {
   "cell_type": "markdown",
   "id": "d6acffbb",
   "metadata": {},
   "source": [
    "# Exercice 6\n",
    "\n",
    "Le Raspberry Pi, modèle 4, est un nano-ordinateur. Il s'agit d'une carte unique plus petite qu'un smartphone classique. Cette carte est assez puissante pour faire fonctionner le système d'exploitation Linux et être utilisée comme un ordinateur de bureau.\n",
    "\n",
    "![raspberry pi 4](data/raspberry-pi-4.jpg)\n",
    "\n",
    "Le Raspberry Pi 4 est équipé du SoC Broadcom BCM2711. Cherchez les caractéristiques de cette puce."
   ]
  },
  {
   "cell_type": "markdown",
   "id": "c7bc1309",
   "metadata": {},
   "source": [
    "---\n",
    "**Références** :\n",
    "- Images des exercices 3 et 5 récupérées dans le cours [Système sur puce](http://www.monlyceenumerique.fr/nsi_terminale/arse/a1_systeme_%20sur%20_puce.php) du site [https://monlyceenumerique.fr/index.html](https://monlyceenumerique.fr/index.html)\n",
    "- Image de l'exercice 2 récupérée dans le cours [Systèmes sur puce](https://glassus.github.io/terminale_nsi/T5_Architecture_materielle/5.1_Systemes_sur_puce/cours/) de Gilles Lassus."
   ]
  },
  {
   "cell_type": "markdown",
   "id": "2190e420",
   "metadata": {},
   "source": [
    "---\n",
    "Germain BECKER, Lycée Mounier, ANGERS\n",
    "\n",
    "Ressource éducative libre distribuée sous [Licence Creative Commons Attribution - Pas d’Utilisation Commerciale - Partage dans les Mêmes Conditions 4.0 International](http://creativecommons.org/licenses/by-nc-sa/4.0/) \n",
    "\n",
    "![Licence Creative Commons](https://i.creativecommons.org/l/by-nc-sa/4.0/88x31.png)"
   ]
  }
 ],
 "metadata": {
  "kernelspec": {
   "display_name": "Python 3",
   "language": "python",
   "name": "python3"
  },
  "language_info": {
   "codemirror_mode": {
    "name": "ipython",
    "version": 3
   },
   "file_extension": ".py",
   "mimetype": "text/x-python",
   "name": "python",
   "nbconvert_exporter": "python",
   "pygments_lexer": "ipython3",
   "version": "3.7.10"
  }
 },
 "nbformat": 4,
 "nbformat_minor": 5
}
