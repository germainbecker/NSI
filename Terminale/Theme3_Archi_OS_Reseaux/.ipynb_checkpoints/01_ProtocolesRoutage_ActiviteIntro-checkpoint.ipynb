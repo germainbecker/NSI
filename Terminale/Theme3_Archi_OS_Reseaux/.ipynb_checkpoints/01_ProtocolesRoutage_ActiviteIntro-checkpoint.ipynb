{
 "cells": [
  {
   "cell_type": "markdown",
   "id": "60b2c3b7",
   "metadata": {},
   "source": [
    "<h1 style=\"font-size: 30px; text-align: center\">Adressage IP, réseaux, masques</h1>\n",
    "\n",
    "---"
   ]
  },
  {
   "cell_type": "markdown",
   "id": "a441c6e0",
   "metadata": {},
   "source": [
    "> Cette activité permet de (re)définir quelques notions facilitant la compréhension du chapitre sur les protocoles de routage."
   ]
  },
  {
   "cell_type": "markdown",
   "id": "3ea64a6d",
   "metadata": {},
   "source": [
    "# Adresse IP\n",
    "\n",
    "La plupart du temps lorsque l'on parle de *réseau*, il s'agit en réalité d'un **sous-réseau** d'un réseau plus grand (par exemple un sous-réseau du réseau mondial IP).\n",
    "\n",
    "Chacun de ses (sous-)réseaux possède une adresse IP, appelée **adresse du (sous-)réseau**. Dans un (sous-)réseau, il y a plusieurs machines que l'on appellent **hôtes**, possédant elles aussi une adresse IP dépendant de celle du (sous-)réseau.\n",
    "\n",
    "Une adresse IP (IPv4) est une suite de 32 bits (4 octets) exprimée en décimales à point, en séparant chacun des octets par un point : `X1.X2.X3.X4` où X1, X2, X3 et X4 sont les valeurs des 4 octets.\n",
    "\n",
    "**Exemple** :\n",
    "\n",
    "- Représentation binaire : `11000001 00110111 11011101 00111110`\n",
    "- Représentation décimale pointée : `193.55.221.62` (où `193` est la valeur décimale de `11000001`, `55` celle de `00110111`, etc.)\n",
    "\n",
    "\n",
    "\n",
    "        "
   ]
  },
  {
   "cell_type": "markdown",
   "id": "33e2a3a4",
   "metadata": {},
   "source": [
    "# Structure d'une adresse IP : parties *réseau* et *hôte*\n",
    "\n",
    "Pour chaque adresse, une partie des bits (les bits de poids fort, à gauche) représente la partie « réseau », et l'autre partie (les bits de poids faible, à droite) représente la partie « hôte » c'est-à-dire la machine du réseau.\n",
    "\n",
    "Par exemple, si les 3 premiers octets représentent la partie *réseau* et le dernier la partie *hôte*, on obtient le découpage suivant :\n",
    "\n",
    "| Réseau | . | Hôte |\n",
    "| --- | --- | --- |\n",
    "| 11000001 00110111 11011101 | . | 00111110 |\n",
    "| 193.55.221 | . | 62 |\n"
   ]
  },
  {
   "cell_type": "markdown",
   "id": "3ecbef42",
   "metadata": {},
   "source": [
    "✍️ **Q1** : Si la partie réseau occupe les 3 premiers octets, quel est le nombre d'hôtes possibles pour le réseau en question ?"
   ]
  },
  {
   "cell_type": "markdown",
   "id": "b5ad8f9a",
   "metadata": {},
   "source": [
    "✍️ **Q2** : Et si la partie réseau occupe les 28 premiers bits ?"
   ]
  },
  {
   "cell_type": "markdown",
   "id": "d5855e5e",
   "metadata": {},
   "source": [
    "# Masque de sous-réseau\n",
    "\n",
    "Le mécanisme permettant de situer la limite en la partie *réseau* et la partie *hôte* s'appelle le **masque de sous-réseau** (en anglais : *subnet mask*). C'est aussi une suite de 32 bits :\n",
    "\n",
    "- une série continue de `1` qui fixe la partie *réseau* (celle de gauche)\n",
    "- une série continue de `0` qui correspond à la partie *hôte*\n",
    "\n",
    "**Exemple** : Dans le cas où les 3 premiers octets représentent la partie *réseau*, alors le masque de sous-réseau est `11111111.11111111.11111111.00000000` ou `255.255.255.0` en décimal.\n"
   ]
  },
  {
   "cell_type": "markdown",
   "id": "30094db6",
   "metadata": {},
   "source": [
    "✍️ **Q3** : Si la partie *réseau* d'un sous-réseau occupe les 28 permiers bits, donner le masque de sous-réseau en notations binaire et décimale."
   ]
  },
  {
   "cell_type": "markdown",
   "id": "af47175a",
   "metadata": {},
   "source": [
    "## Notation CIDR\n",
    "\n",
    "Lorsque l'on donne l'adresse IP d'un (sous-)réseau, il faut donc également donner le masque associé. On pourrait le donner en notation binaire ou décimale mais pour simplifier on donne généralement juste le nombre de bits correspondant à la partie *réseau* : `X1.X2.X3.X4 /n` signifie que les n premiers bits de poids forts de l’adresse IP représentent la partie *réseau*, les bits suivants de poids faibles représentent la partie *hôte*.\n",
    "\n",
    "> Cette notation simplifiée s'appelle notation CIDR (*Classless Inter-Domain Routing*).\n",
    "\n",
    "**Exemple** : le masque de sous-réseau `11111111.11111111.11111111.00000000` (ou `255.255.255.0`) s'écrit donc plus simplement `/24` car il y a 24 bits pour la partie *réseau*."
   ]
  },
  {
   "cell_type": "markdown",
   "id": "faa2a1ad",
   "metadata": {},
   "source": [
    "✍️ **Q4** : Déterminer la notation CIDR pour un sous-réseau dont le masque est 255.255.255.240."
   ]
  },
  {
   "cell_type": "markdown",
   "id": "09a0ae03",
   "metadata": {},
   "source": [
    "# Adresse réseau\n",
    "\n",
    "L'**adresse réseau** permet de savoir si 2 machines peuvent communiquer entre elles (directement). Si ces 2 machines ont une adresse réseau identique, alors elles appartiennent au même réseau et elles peuvent communiquer.\n",
    "\n",
    "Cette adresse réseau est celle dont tous les bits de la partie *hôte* sont à 0, autrement dit l'adresse IP la plus \"basse\" du réseau.\n",
    "\n",
    "**Exemple** : si `193.55.221.62` est une machine d'un réseau dont le masque est `/24`, alors l'adresse du réseau en question est :\n",
    "\n",
    "- `11000001 00110111 11011101 00000000` les 8 derniers bits pour l'hôte ont été mis à zéro\n",
    "- en décimal cela donne `193.55.221.0`.\n",
    "\n",
    "Ainsi, le réseau en question se note `193.55.221.0 /24`.\n",
    "\n",
    "# Adresse de diffusion\n",
    "\n",
    "L'**adresse de diffusion** ou **broadcast** est celle utilisée pour envoyer des paquets à *toutes* les machines du réseau.\n",
    "\n",
    "Cette adresse de diffusion est celle dont les bits de la partie *hôte* sont à 1, autrement dit l'adresse IP la plus \"haute\" du réseau.\n",
    "\n",
    "**Exemple** : Le réseau `193.55.221.0 /24` a donc pour adresse de diffusion `11000001 00110111 11011101 11111111` ou `193.55.221.255` en décimal.\n",
    "\n",
    "# Plage d'adresses machines\n",
    "\n",
    "La plage d'adresses machines est l'ensemble des adresses que peut prendre une machine sur le réseau. Comme l'adresse réseau et l'adresse de diffusion sont déjà prises, il restent toutes les adresses entre les deux pour les *machines* du réseau :\n",
    "\n",
    "- la première adresse possible pour une machine est donc celle qui suit l'adresse réseau\n",
    "- la dernière adresse possible pour une machine est donc celle qui précède l'adresse de diffusion\n",
    "\n",
    "**Exemple** : Les machines sur le réseau `193.55.221.0 /24` ont des adresses IP variant de `193.55.221.1` (la première) à `193.55.221.254` (la dernière).\n"
   ]
  },
  {
   "cell_type": "markdown",
   "id": "45e635ff",
   "metadata": {},
   "source": [
    "✍️ **Q5** : Une machine d'adresse IP `112.133.102.41` appartient à un réseau dont le masque est `/24` (c'est-à-dire `255.255.255.0`). \n",
    "1. Donner en notation binaire et en notation décimale, l'adresse réseau et l'adresse de diffusion du réseau.\n",
    "2. Combien de machines peut-on connecter dans ce réseau ? Quelle est leur plage d'adresses ?"
   ]
  },
  {
   "cell_type": "markdown",
   "id": "e32fc5a8",
   "metadata": {},
   "source": [
    "✍️ **Q6** : Combien de machines peut-on connecter sur un réseau dont le masque est `255.255.240.0` ?"
   ]
  },
  {
   "cell_type": "markdown",
   "id": "3e32ab27",
   "metadata": {},
   "source": [
    "✍️ **Q7** : On installe 10 machines sur un réseau local. L'adresse IP `172.16.29.35` avec le masque `255.255.255.240` (soit `/28`) est attribuée à une de ces machines.\n",
    "\n",
    "1. Combien d'hôtes peut-on placer dans le réseau où est située cette machine ?\n",
    "2. Dans quel réseau (préciser l'adresse) sont situées ces machines ?\n",
    "3. Pour ce réseau, donnez la première et la dernière adresse IP valide pour ces machines.\n",
    "4. Quelle est l'adresse de diffusion (*broadcast*) pour ce réseau ?"
   ]
  },
  {
   "cell_type": "markdown",
   "id": "8015f7b8",
   "metadata": {},
   "source": [
    "# Appartenance à un même réseau\n",
    "\n",
    "On a dit précédemment que si 2 machines ont une adresse réseau identique, alors elles appartiennent au même réseau et elles peuvent communiquer.\n",
    "\n",
    "Pour déterminer l'adresse réseau d'une adresse IP, il suffit d'appliquer l'opérateur logique ET (ou AND en anglais) bit à bit entre l'adresse IP et le masque de sous-réseau.\n",
    "\n",
    "On rappelle l'opérateur ET a pour table de vérité :\n",
    "\n",
    "| x | y | x ET y |\n",
    "| --- | --- | --- |\n",
    "| 0 | 0 | 0 |\n",
    "| 1 | 0 | 0 |\n",
    "| 0 | 1 | 0 |\n",
    "| 1 | 1 | 1 |\n"
   ]
  },
  {
   "cell_type": "markdown",
   "id": "da2300cc",
   "metadata": {},
   "source": [
    "**Exemple** : Pour déterminer l'adresse réseau de la machine d'adresse IP `193.55.221.62` avec le masque `255.255.255.0` :\n",
    "\n",
    "<table>\n",
    "    <tr>\n",
    "        <td>Adresse IP (d'une machine)</td>\n",
    "        <td><code>11000001.00110111.11011101.00111110</code></td>\n",
    "        <td>193.55.221.62</td>\n",
    "    </tr>\n",
    "    <tr>\n",
    "        <td>Masque</td>\n",
    "        <td><code>11111111.11111111.11111111.00000000</code></td>\n",
    "        <td>255.255.255.0</td>\n",
    "    </tr>\n",
    "    <tr>\n",
    "        <td>Adresse réseau</td>\n",
    "        <td><code>11000001.00110111.11011101.00000000</code></td>\n",
    "        <td>193.55.221.0</td>\n",
    "    </tr>\n",
    "</table>"
   ]
  },
  {
   "cell_type": "markdown",
   "id": "9bf74ea5",
   "metadata": {},
   "source": [
    "✍️ **Q8** : Un réseau local contient une machine d'adresse IP `192.168.0.1` avec le masque `/20`. La machine d'adresse IP `192.168.1.3` appartient-elle au même réseau ? *Vous comparerez les adresses réseaux de ces deux machines pour répondre*."
   ]
  },
  {
   "cell_type": "markdown",
   "id": "e5eb2e95",
   "metadata": {},
   "source": [
    "# 💻 Partie programmation\n",
    "\n",
    "L'objectif de cette partie est d'écrire une fonction `meme_sous_reseau(ip_a, ip_b, masque)` qui renvoie un booléen indiquant si les machines A et B font partie du même sous-réseau.\n",
    "\n",
    "On rappelle quelques instructions qui pourront s'avérer utiles :\n",
    "\n",
    "```python\n",
    ">>> bin(45)\n",
    "'0b101101'\n",
    ">>> chaine = \"bonjour à tous !\"\n",
    ">>> chaine.split(' ')  # on sépare la chaîne selon le caractère espace\n",
    "['bonjour', 'à', 'tous', '!']\n",
    "```\n",
    "\n",
    "Vous utiliserez la méthode [Test Driven Development](https://fr.wikipedia.org/wiki/Test_driven_development) (ou *développement piloté par des tests*) à partir du squelette de code ci-dessous, en testant chaque fonction après sa réalisation, jusqu'à la fonction finale."
   ]
  },
  {
   "cell_type": "code",
   "execution_count": null,
   "id": "927ae568",
   "metadata": {},
   "outputs": [],
   "source": [
    "def et_logique(bit1, bit2):\n",
    "    \"\"\"\n",
    "    Renvoie le résultat de l'opération logique bit1 ET bit2.\n",
    "    \n",
    "    Entrées : deux string d'1 caractère ('0' ou '1')\n",
    "    Sortie : string \n",
    "    \"\"\"\n",
    "    # à vous de jouer !\n",
    "    pass\n",
    "\n",
    "def test_et_logique():\n",
    "    assert et_logique('0', '0') == '0'\n",
    "    assert et_logique('0', '1') == '0'\n",
    "    assert et_logique('1', '0') == '0'\n",
    "    assert et_logique('1', '1') == '1'\n",
    "    \n",
    "\n",
    "def entier_en_mot_binaire(entier, longueur_mot_binaire):\n",
    "    \"\"\"\n",
    "    Renvoie un mot binaire correspondant à l'entier.\n",
    "    \n",
    "    Entrées :\n",
    "        entier : int\n",
    "        longueur_mot_binaire : int de longueur supérieure ou égale au nombre de bits de nécessaires\n",
    "    pour convertir entier en base 2\n",
    "    \n",
    "    Sortie : string de longueur longueur_mot_binaire            \n",
    "    \"\"\"\n",
    "    # à vous de jouer !\n",
    "    pass\n",
    "\n",
    "def test_entier_en_mot_binaire():\n",
    "    assert entier_en_mot_binaire(1, 8) == '00000001'\n",
    "    assert entier_en_mot_binaire(192, 8) == '11000000'\n",
    "    assert entier_en_mot_binaire(168, 8) == '10101000'\n",
    "\n",
    "\n",
    "def masque_en_mot_binaire(masque):\n",
    "    \"\"\"\n",
    "    Renvoie la conversion du masque en un mot binaire.\n",
    "    \n",
    "    Entrée : masque (int)\n",
    "    Sortie : string de 32 caractères\n",
    "    \"\"\"\n",
    "    # à vous de jouer !\n",
    "    pass\n",
    "\n",
    "def test_masque_en_mot_binaire():\n",
    "    assert masque_en_mot_binaire(24) == '11111111111111111111111100000000'\n",
    "    \n",
    "\n",
    "\n",
    "def ip_en_liste(ip):\n",
    "    \"\"\"\n",
    "    Renvoie une liste dont les éléments sont les 4 octets de l'adresse ip.\n",
    "    \n",
    "    Entrée : ip (string) \n",
    "    Sortie : liste d'entiers\n",
    "    \"\"\"\n",
    "    # à vous de jouer !\n",
    "    pass\n",
    "\n",
    "def test_ip_en_liste():\n",
    "    assert ip_en_liste('192.168.0.1') == [192, 168, 0, 1]\n",
    "    \n",
    "    \n",
    "\n",
    "def ip_en_mot_binaire(ip):\n",
    "    \"\"\"\n",
    "    Renvoie la conversion d'une ip en un mot binaire.\n",
    "    \n",
    "    Entrée : string contenant une IP (ex \"192.168.0.1\")\n",
    "    Sortie : string de 32 caractères\n",
    "    \"\"\"\n",
    "    # à vous de jouer !\n",
    "    pass\n",
    "    \n",
    "def test_ip_en_mot_binaire():\n",
    "    assert ip_en_mot_binaire(\"192.168.0.1\") == '11000000101010000000000000000001'\n",
    "    \n",
    "\n",
    "\n",
    "def adresse_reseau_ip(ip, masque):\n",
    "    \"\"\"\n",
    "    Renvoie l'adresse réseau de l'adresse ip avec le masque masque.\n",
    "    \n",
    "    Entrées :\n",
    "        ip : string contenant une IP (ex \"192.168.0.1\")\n",
    "        masque : entier du masque en notation CIDR (ex : 24)\n",
    "    Sortie : string de 32 caractères    \n",
    "    \"\"\"\n",
    "    # à vous de jouer !\n",
    "    pass\n",
    "\n",
    "       \n",
    "def test_adresse_reseau_ip():\n",
    "    assert adresse_reseau_ip(\"192.168.0.1\", 24) == '11000000101010000000000000000000'\n",
    "    assert adresse_reseau_ip(\"192.168.1.3\", 24) == '11000000101010000000000100000000'\n",
    "    assert adresse_reseau_ip(\"192.168.0.1\", 20) == '11000000101010000000000000000000'\n",
    "    assert adresse_reseau_ip(\"192.168.1.3\", 20) == '11000000101010000000000000000000'\n",
    "    \n",
    "\n",
    "\n",
    "def meme_sous_reseau(ip_a, ip_b, masque):\n",
    "    \"\"\"\n",
    "    Renvoie un booléen indiquant si ip_a et ip_b sont dans un même réseau de masque masque.\n",
    "    \n",
    "    Entrées :\n",
    "    ip_a:  string contenant une IP (ex \"192.168.0.1\")\n",
    "    ip_b : string contenant une IP\n",
    "    masque : entier du masque en notation CIDR (ex : 24)\n",
    "    \"\"\"\n",
    "    # à vous de jouer !\n",
    "    pass\n",
    "\n",
    "def test_meme_sous_reseau():\n",
    "    assert meme_sous_reseau(\"192.168.0.1\", \"192.168.1.3\", 24) == False\n",
    "    assert meme_sous_reseau(\"192.168.0.1\", \"192.168.1.3\", 20) == True\n",
    "    assert meme_sous_reseau(\"192.168.0.1\", \"192.168.0.3\", 30) == True"
   ]
  },
  {
   "cell_type": "markdown",
   "id": "cd0bf7da",
   "metadata": {},
   "source": [
    "---\n",
    "**Références**\n",
    "- Equipe éducative DIU EIL (cours d'Introduction aux réseaux de P. PASSARD et S. HAMMA), Université de Nantes.\n",
    "- L'idée de départ de la partie \"programmation\" vient d'un [exercice](https://github.com/glassus/terminale_nsi/blob/main/docs/T5_Architecture_materielle/5.3_Protocoles_de_routage/02_Exercices.md#exercice-1) proposé par Gilles Lassus\n",
    "\n",
    "---\n",
    "Germain BECKER, Lycée Mounier, ANGERS\n",
    "\n",
    "Ressource éducative libre distribuée sous [Licence Creative Commons Attribution - Partage dans les Mêmes Conditions 4.0 International](http://creativecommons.org/licenses/by-sa/4.0/) \n",
    "\n",
    "![Licence Creative Commons](https://i.creativecommons.org/l/by-sa/4.0/88x31.png)"
   ]
  }
 ],
 "metadata": {
  "kernelspec": {
   "display_name": "Python 3",
   "language": "python",
   "name": "python3"
  },
  "language_info": {
   "codemirror_mode": {
    "name": "ipython",
    "version": 3
   },
   "file_extension": ".py",
   "mimetype": "text/x-python",
   "name": "python",
   "nbconvert_exporter": "python",
   "pygments_lexer": "ipython3",
   "version": "3.7.10"
  }
 },
 "nbformat": 4,
 "nbformat_minor": 5
}
