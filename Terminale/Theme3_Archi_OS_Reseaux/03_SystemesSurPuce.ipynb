{
 "cells": [
  {
   "cell_type": "markdown",
   "id": "670d8d53",
   "metadata": {},
   "source": [
    "<h1 style=\"font-size: 30px; text-align: center\">Systèmes sur puce (SoC)</h1>\n"
   ]
  },
  {
   "cell_type": "markdown",
   "id": "b1a3ab6e",
   "metadata": {},
   "source": [
    "# Introduction\n",
    "\n",
    "<blockquote class=\"citation\">\n",
    "    <p>« Les circuits, c’est le grand moteur de l’électronique, de l’informatique. Sans les circuits il n’y en aurait pas ! C’est la progression des circuits qui permet le monde numérique. »\n",
    "        <br><strong>G. Berry, Collège de France, avril 2008</strong>.</p>\n",
    "</blockquote>\n",
    "\n",
    "En guise d'introduction, regardons les 10 premières minutes du cours *Des circuits aux systèmes sur puces* de **Gérard Berry** au Collège de France : [https://www.college-de-france.fr/site/gerard-berry/course-2008-02-01-10h30.htm](https://www.college-de-france.fr/site/gerard-berry/course-2008-02-01-10h30.htm)\n",
    "\n",
    "<a href=\"https://www.college-de-france.fr/site/gerard-berry/course-2008-02-01-10h30.htm\" target=\"_blank\"><img class=\"centre image-responsive\" src=\"data/cours_Gerard_Berry.png\" width=\"600\"></a>\n",
    "\n",
    "Avant de parler des systèmes sur puce, un petit détour s'impose pour bien comprendre l'évolution des circuits, et donc des ordinateurs, au cours du temps."
   ]
  },
  {
   "cell_type": "markdown",
   "id": "502ebea2",
   "metadata": {},
   "source": [
    "# Du premier ordinateur aux smartphones\n",
    "\n",
    "## L'ENIAC\n",
    "\n",
    "L'[ENIAC](https://fr.wikipedia.org/wiki/ENIAC), créé en 1945, est le premier ordinateur entièrement électronique pouvant être programmé pour résoudre, en principe, tous les problèmes calculatoires.\n",
    "\n",
    "<img class=\"centre image-responsive\" src=\"data/eniac.jpg\" alt=\"photo de l'eniac\" width=\"600\">\n",
    "\n"
   ]
  },
  {
   "cell_type": "markdown",
   "id": "59ba13b5",
   "metadata": {},
   "source": [
    "<blockquote class=\"information\">\n",
    "    <p>C'est l'armée américaine qui a financé ce projet pour les besoins de son laboratoire de recherche en balistique. Ce sont <a href=\"https://fr.wikipedia.org/wiki/ENIAC#Programmeuses\" target=\"_blank\">six femmes</a> qui sont les premières programmeuses de l'ENIAC, pour un calcul balistique.</p>\n",
    "</blockquote>"
   ]
  },
  {
   "cell_type": "markdown",
   "id": "e58c75fd",
   "metadata": {},
   "source": [
    "Cet ordinateur était capable de réaliser 100 000 additions par seconde, mais ne pouvait gérer que 357 multiplications ou 38 divisions par seconde. Cette \"puissance\" de calcul lui a permi en 1949 de calculer 2000 décimales de $\\pi$ en 70 heures.\n",
    "\n",
    "Son poids est de 30 tonnes et il occupe la taille d'une maison individuelle. Sa consommation est de 150 kW : il faudrait la puissance électrique d'une vingtaine de maisons individuelles pour l'alimenter."
   ]
  },
  {
   "cell_type": "markdown",
   "id": "dee56cfc",
   "metadata": {},
   "source": [
    "## Le calculateur AGC des missions Apollo\n",
    "\n",
    "Le programme Apollo a contribué à l’essor de l’informatique : l'envoi d'hommes sur la lune a imposé une puissance de calcul importante dans un espace restreint. Cela a conduit à la conception de l'ordinateur AGC (pour *Apollo Guidance Computer*) que l'on retrouvait à la fois dans le module de commande et dans le module lunaire Apollo.\n",
    "\n",
    "<img class=\"centre image-responsive\" src=\"data/agc_modules.png\" alt=\"les deux modules AGC\" width=\"700\">\n",
    "\n",
    "<span class=\"image-licence\" style=\"display: block;text-align: center;font-size: 0.9em;color: #aaa;\">Source : Ressource Eduscol sur \n",
    "    <a href=\"https://eduscol.education.fr/document/7283/download\" target=\"_blank\">les circuits</a>\n",
    "</span>\n",
    "\n",
    "Cet ordinateur effectue des traitements en temps réel, ce qui est révolutionnaire pour l'époque : il a été utilisé (en temps réel donc) par l'astronaute-pilote pour recueillir et fournir des informations de vol, et pour le contrôle automatique de toutes les fonctions de navigation du vaisseau spatial.\n",
    "\n",
    "<img class=\"centre image-responsive\" src=\"data/agc.jpg\" alt=\"photo de l'eniac\">\n",
    "\n",
    "<span class=\"image-licence\" style=\"display: block;text-align: center;font-size: 0.9em;color: #aaa;\">L'AGC à gauche et l'interface utilisateur à droite. Source :\n",
    "    <a href=\"https://en.wikipedia.org/wiki/Apollo_Guidance_Computer#/media/File:Agc_view.jpg\" target=\"_blank\">Wikimedia Commons</a>\n",
    "</span>"
   ]
  },
  {
   "cell_type": "markdown",
   "id": "33542f2b",
   "metadata": {},
   "source": [
    "Cet ordinateur ne pèse que 32 kg et sa consommation électrique est suffisamment faible pour être embarqué dans une capsule spatiale fonctionnant sur batteries. Tout cela a été rendu possible grâce à l'utilisation de **circuits intégrés**, qui ont fait leur apparition en 1961.\n",
    "\n",
    "<blockquote class=\"information\">\n",
    "    <p>La NASA a d'ailleurs acheté au début du programme 60 % de la production mondiale des circuits imprimés pour les besoins des ordinateurs des vaisseaux Apollo.</p>\n",
    "</blockquote>\n",
    "\n",
    "Le processeur est constitué de plus de 5000 portes [NOR](https://fr.wikipedia.org/wiki/Fonction_NON-OU) (on dit *NON-OU* en français) réalisées à l'aide de **circuits intégrés**. Voici une photo de l'une des portes NOR de l'AGC :\n",
    "\n",
    "<img class=\"centre image-responsive\" src=\"data/agc_nor.jpg\" alt=\"une porte NOR de l'AGC\" width=\"300\">\n",
    "\n",
    "On voit bien sur l'une des pages du schéma (1/16) de l'AGC l'omniprésence des circuits NOR :\n",
    "\n",
    "<img class=\"centre image-responsive\" src=\"data/agc_schema.png\" alt=\"une page du schéma de l'AGC\">\n",
    "\n",
    "Sa mémoire de stockage (mémoire morte) est de 72 ko (soit 36 864 mots de 16 bits) et contenait à la fois les programmes et le système d'exploitation. Sa mémoire de travail (mémoire vive) est de seulement 4 ko. Le système d’exploitation pouvait exécuter six tâches simultanément et gérer l’éjection de tâches moins prioritaires s’il était surchargé. \n",
    "\n",
    "L’AGC a été élaboré sous la supervision de l’équipe de Margaret Hamilton, qui se tient ci-dessous auprès du code du logiciel de navigation produit pour le programme Apollo en 1969.\n",
    "\n",
    "<img class=\"centre image-responsive\" src=\"data/Margaret_Hamilton.jpg\" alt=\"Margaret Hamilton à côté du code du logiciel de navigation\" width=\"300\">"
   ]
  },
  {
   "cell_type": "markdown",
   "id": "f26f051f",
   "metadata": {},
   "source": [
    "## Le \"premier\" microprocesseur : le 4004 d'Intel\n",
    "\n",
    "En 1971, la société Intel crée et commercialise le premier microprocesseur : le **4004**.\n",
    "\n",
    "<img class=\"centre image-responsive\" src=\"data/intel_4004.jpg\" alt=\"l'intel 4004\" width=\"300\">\n",
    "\n",
    "<span class=\"image-licence\" style=\"display: block;text-align: center;font-size: 0.9em;color: #aaa;\">L'Intel 4004. Crédits : Thomas Nguyen, licence CC BY-SA 4.0, source :\n",
    "    <a href=\"https://fr.wikipedia.org/wiki/Intel_4004#/media/Fichier:Intel_C4004.jpg\" target=\"_blank\">Wikimedia Commons</a>\n",
    "</span>\n",
    "\n",
    "On parle de **microprocesseur** car c'est la première intégration de toutes les fonctionnalités d'un processeur sur un **unique** circuit intégré. On y retrouve les principaux constituants des processeurs (voir cours de Première sur [Le modèle d'architecture d'un ordinateur](https://info-mounier.fr/premiere_nsi/archi_os/modele_archi.php#Principe-de-l'architecture) si nécessaire) :\n",
    "\n",
    "- <span style=\"color:red\">un décodeur d'instruction</span>\n",
    "- <span style=\"color:LimeGreen\">une UAL (Unité Arithmétique et Logique)</span>\n",
    "- <span style=\"color:DeepSkyBlue\">des registres de mémoires vives</span>\n",
    "- <span style=\"color:darkviolet\">un compteur de programme (PC pour *Program Counter*)</span>\n",
    "- <span style=\"color:brown\">le contrôle du séquencement des opérations</span>\n",
    "\n",
    "<img class=\"centre image-responsive\" src=\"data/schema_4004.png\" alt=\"schéma de l'Intel 4004\">\n",
    "\n",
    "<span class=\"image-licence\" style=\"display: block;text-align: center;font-size: 0.9em;color: #aaa;\">Schéma du microprocesseur Intel 4004. Source : Ressource Eduscol sur \n",
    "    <a href=\"https://eduscol.education.fr/document/7283/download\" target=\"_blank\">les circuits</a>\n",
    "</span>\n",
    "\n",
    "Les dimensions du circuit intégré sont de 3,81 mm de long sur 2.79 mm de large, soit seulement 10,62 mm². Il comporte 2300 transistors et possède une puissance d'exécution de 92 600 opérations par seconde à une fréquence maximale de 740 kHz, soit une puissance comparable à celle de l'ENIAC.  \n",
    "\n",
    "<blockquote class=\"information\">\n",
    "    <p>Le 4004 d'Intel offre ainsi des performances équivalentes aux 66 m3 de l'ENIAC concentrées sur seulement 10 mm² !</p>\n",
    "</blockquote>\n"
   ]
  },
  {
   "cell_type": "markdown",
   "id": "00c87a99",
   "metadata": {},
   "source": [
    "Malgré une intégration plus grande, le microprocesseur 4004, comme tous les autres microprocesseurs, ne peut fonctionner seul : il doit être associé à des mémoires vives (pour les données non permanentes), des mémoires mortes (pour le(s) programme(s)), des gestionnaires d'entrées sorties, des horloges, etc. Le microprocesseur contrôle l'ensemble du fonctionnement et des échanges d'information en utilisant des liaisons appelées BUS. On obtient ainsi un *système minimum* pour obtenir un ordinateur :\n",
    "\n",
    "<img class=\"centre image-responsive\" src=\"data/systeme_minimum.png\" alt=\"schéma d'un système minimum\">"
   ]
  },
  {
   "cell_type": "markdown",
   "id": "e2c9b29c",
   "metadata": {},
   "source": [
    "## Début de la course à l'intégration\n",
    "\n",
    "Après la création du prmier micropocesseur en 1971, commence une course à l'intégration : concevoir et fabriquer des circuits de plus en plus petits contenant de plus en plus de transistors. Cette course est toujours d'actualité aujourd'hui !\n",
    "\n",
    "Ainsi, en 1975 est apparu le premier microprocesseur bon marché permettant l'essor des ordinateurs personnels : le 6502 de MOS. C'est celui qui a équipé le tout premier ordinateur APPLE (l'APPLE 1).\n",
    "\n",
    "<blockquote class=\"information\">\n",
    "    <p>Le site <a href=\"http://visual6502.org/JSSim/index.html\" target=\"_blank\">Visual 6502</a> permet de visualiser le fonctionnement interne de ce processeur lors de l'exécution d'un programme.</p>\n",
    "</blockquote>\n",
    "\n",
    "\n",
    "Ce système minimum, comme nous l’avons vu avec le processeur 4004, peut être réalisé en interconnectant plusieurs circuits sur une même carte. Les progrès de l’intégration permettront, un peu plus tard, d’intégrer l’ensemble de ce système minimum sur **une seule puce**, on parle alors de **système sur puce**, ou *System on Chip* soit **SoC** en anglais. "
   ]
  },
  {
   "cell_type": "markdown",
   "id": "5a9c6bdf",
   "metadata": {},
   "source": [
    "## La loi de Moore\n",
    "\n",
    "En 1975, Gordon Moore, l'un des trois fondateurs d'Intel, prédit que le nombre de transistors des microprocesseurs sur une puce de *silicium* allait doubler tous les deux ans. Cette extrapolation empirique se révèle finalement vraie puisqu'entre 1971 et 2001, la densité des transistors a doublé toutes les 1,96 années.\n",
    "\n",
    "<img class=\"centre image-responsive\" src=\"data/Loi_de_Moore.png\" alt=\"loi de Moore\">\n",
    "\n",
    "<span class=\"image-licence\" style=\"display: block;text-align: center;font-size: 0.9em;color: #aaa;\">Croissance du nombre de transistors dans les microprocesseurs Intel. <br>Crédits : QcRef87, licence CC BY-SA 3.0, source : \n",
    "    <a href=\"https://fr.wikipedia.org/wiki/Loi_de_Moore#/media/Fichier:Loi_de_Moore.png\" target=\"_blank\">Wikimedia Commons</a>\n",
    "</span>\n"
   ]
  },
  {
   "cell_type": "markdown",
   "id": "019dcff1",
   "metadata": {},
   "source": [
    "Ainsi, de 2300 transistors pour l'Intel 4004 on est passé à des milliards de transistors désormais. Tout cela a été rendu possible grâce à la miniaturisation de la gravure sur les puces. Ces gravures étant maintenant gérées par des logiciels de CAO (conception assistée par ordinateur), on utilise des ordinateurs pour en fabriquer de nouveaux encore plus puissants. Cela fait dire à Gérard Berry que :\n",
    "\n",
    "<blockquote class=\"information\">\n",
    "    <p>« L'informatique est une science qui s'invente elle-même. », G. Berry, Collège de France.</p>\n",
    "</blockquote>\n",
    "\n",
    "Cette augmentation exponentielle du nombre de transistors a pour conséquence que les machines électroniques sont devenues de plus en plus petites et de moins en moins coûteuses tout en devenant de plus en plus rapides et de plus en plus puissantes (nous allons y revenir !).\n",
    "\n",
    "## Et les PC ?\n",
    "\n",
    "<img class=\"centre image-responsive\" src=\"data/interieur_pc.png\" alt=\"intérieur d'un pc\" width=\"400\">\n",
    "\n",
    "\n",
    "Les ordinateurs \"de bureau\" (PC) disposent d'une carte mère accueillant le microprocesseur (= CPU, caché sous un système de refroidissement), relié à de nombreux composant additionnels commes des disques durs, des cartes graphiques, des extentions mémoire, des cartes réseaux. Dans les cartes mères modernes, en particulier celles des ordinateurs portables, l'intégration est beaucoup plus poussée encore.\n",
    "\n",
    "L'aboutissement de toute cette miniaturisation est l'intégration de ces composants sur une seule puce, comme c'est le cas de nos smartphones actuels !\n"
   ]
  },
  {
   "cell_type": "markdown",
   "id": "97966840",
   "metadata": {},
   "source": [
    "# Les systèmes sur puce (SoC en anglais)\n",
    "\n",
    "Un **SoC**, pour *System on Chip*, accueille donc sur une même puce un microprocesseur (CPU), de la mémoire vive (RAM), un circuit graphique (GPU) et des composants WiFi, Bluetooth, etc. dans une taille très réduite.\n",
    "\n",
    "<img class=\"centre image-responsive\" src=\"data/puce.png\" alt=\"une puce\">\n",
    "\n",
    "\n",
    "## L'exemple ultime du smartphone\n",
    "\n",
    "Un smartphone intègre les mêmes composants qu'un PC (CPU, RAM, carte graphique, interfaces réseaux, etc.) mais sur une seule puce d'une centaine de mm² seulement !\n",
    "\n",
    "On trouve sur cette puce les circuits suivants :\n",
    "\n",
    "- **Microprocesseurs** : calculs généraux\n",
    "- **Digital Signal Processor (DSP)** : calculs numériques généraux, spécialités : addition / multiplication, matrices\n",
    "- **Accélérateurs graphiques** : calculs parallèles sur images\n",
    "- **Accélérateurs divers** : compression image / son, cryptographie, ...\n",
    "- **Contrôleurs de périphériques** : mémoires, disques, réseau, ...\n",
    "- **Gestionnaires internes** : horloges, puissance, ...\n",
    "\n",
    "<img class=\"centre image-responsive\" src=\"data/soc.png\" alt=\"Les sous-circuits d'un SoC\" width=\"500\">\n",
    "\n",
    "<span class=\"image-licence\" style=\"display: block;text-align: center;font-size: 0.9em;color: #aaa;\">Un SoC. Source : <a href=\"https://www.college-de-france.fr/media/gerard-berry/UPL6555088133665514575_20080201.pdf\" target=\"_blank\">support</a> de la présentation de Gérard Berry.\n",
    "</span>\n",
    "\n",
    "Les smartphones sont donc des **systèmes sur puce** (= **SoC**) qui intègrent tout ce que la technologie peut nous apporter : un microprocesseur puissant, de la mémoire, des interfaces de communication rapides (4G, 5G, Wifi...), un contrôleur graphique (GPU) digne d'une console de jeu, tout cela fonctionnant sur batterie avec une durée de fonctionnement de plusieurs heures."
   ]
  },
  {
   "cell_type": "markdown",
   "id": "79dbae43",
   "metadata": {},
   "source": [
    "Voici des photos d'un iPhone 4S démonté. Comme vous le voyez, le nombre de composants est très réduit au regard des fonctionnalités. La puce principale SoC est la puce A5.\n",
    "\n",
    "<img class=\"centre image-responsive\" src=\"data/iphone4s_1.png\" alt=\"iphone démonté\" width=\"700\">\n",
    "<img class=\"centre image-responsive\" src=\"data/iphone4s_3.png\" alt=\"iphone démonté\" width=\"700\">\n",
    "<img class=\"centre image-responsive\" src=\"data/iphone4s_2.png\" alt=\"iphone démonté\" width=\"700\">\n",
    "\n",
    "<span class=\"image-licence\" style=\"display: block;text-align: center;font-size: 0.9em;color: #aaa;\">Un iPhone 4S démonté. Crédits : <a href=\"https://www.lecluse.fr/nsi/NSI_T/archi/soc/\" target=\"_blank\">Cours</a> de Olivier Lécluse sur les SoC.\n",
    "</span>\n",
    "\n"
   ]
  },
  {
   "cell_type": "markdown",
   "id": "e9e368c5",
   "metadata": {},
   "source": [
    "## Autres exemples de SoC\n",
    "\n",
    "D'autres exemples de SoC sont abordés dans les exercices.\n"
   ]
  },
  {
   "cell_type": "markdown",
   "id": "43dc2dda",
   "metadata": {},
   "source": [
    "# Avantages et inconvénients\n",
    "\n",
    "Le premier avantage évident des SoC est leur **taille réduite**. Mais cette réduction de la taille s'accompagne d'autres avantages très intéressants :\n",
    "\n",
    "- le **coût est réduit** : en effet, le coût de construction d'une puce est essentiellement lié à sa surface : comme ils sont petits, les SoC demandent moins de matière et dans le même temps on en produit davantage.\n",
    "- la **consommation d'énergie est réduite** : en effet, une part importante part dans le câblage, qui est réduit dans un SoC\n",
    "- un SoC est **silencieux** : la consommation d'énergie étant beaucoup faible, il n'est plus nécessaire d'intégrer des systèmes de refroidissement lourds, volumineux et sonores. \n",
    "- la **performances sont meilleures** : on peut augmenter la fréquence puisque les signaux se propagent sur de plus courtes distances, on gagne ainsi en performance\n",
    "\n",
    "\n",
    "<blockquote class=\"information\">\n",
    "    <p>Tous ces avantages font que désormais des grands constructeurs, comme Apple, souhaite en équiper toute leur gamme d'ordinateurs.</p>\n",
    "</blockquote>\n",
    "\n",
    "\n",
    "Les SoC sont pour le moment moins performants que les ordinateurs de bureau \"haut de gamme\" et **ne peuvent pas être personnalisés**, mais le principal inconvénient des SoC est qu'une défaillance quelconque d'un composant nécessite le **remplacement complet du SoC**."
   ]
  },
  {
   "cell_type": "markdown",
   "id": "c0f29d90",
   "metadata": {},
   "source": [
    "# Conclusion\n",
    "\n",
    "- « Les circuits, c’est le grand moteur de l’électronique, de l’informatique. Sans les circuits il n’y en aurait pas ! C’est la progression des circuits qui permet le monde numérique. » **G. Berry, Collège de France, avril 2008.**\n",
    "- En particulier, ce sont les progrès dans la miniaturisation de gravure des circuits sur les puces de silicium qui a permis tous ces progrès depuis une cinquantaine d'années. La loi de Moore, qui prévoyait que le nombre de transistors gravés sur une puce allait doubler tous les 2 ans, s'est révélée très fidèle à la réalité.\n",
    "- Les ordinateurs sont de plus en plus miniatures et on parvient à créer des ordinateurs complets qui tiennent désormais sur une seule puce de quelques dizaines de mm² : ce sont les **SoC** (*System on Chip*) ou **systèmes sur puce**. Ces SoC équipent les smartphones actuels mais aussi différents microntroleurs, des objets connectés, et même certains ordinateurs portables.\n",
    "- Une puce d'un SoC peut désormais intégrer les circuits suivants : microprocesseurs, DSP (*Digital Signal Processor*, qui sont spécialisés dans les calculs numériques), GPU (*Graphics Processing Unit* = processeur graphique spécialisé dans les calculs sur les images), des contrôleurs de périphériques, des accélérateurs divers : de traitement des images ou du son, de cryptographie (pour la sécurité), de réseaux de neurones (NPU = *Neural Processing Unit*, pour l'IA)...\n",
    "- Les SoC ont des tailles très réduites et leur coût de fabrication est faible. Mais ils sont aussi moins consommateurs d'énergie, puisqu'on se passe de cablâges coûteux en énergie, et donc plus silencieux car il n'est plus nécessaire d'utiliser des systèmes de refroidissements sonores. Enfin, les performances sont meilleures puisque les signaux se propagent sur des plus courtes distances et on peut donc augmenter la fréquence des processeurs.\n",
    "- En revanche, les SoC ne peuvent pas être personnalisés et une défaillance d'un composant quelconque impose le remplacement complet du SoC."
   ]
  },
  {
   "cell_type": "markdown",
   "id": "85b5a270",
   "metadata": {},
   "source": [
    "---\n",
    "**Références** :\n",
    "- Ressource Eduscol sur [les circuits](https://eduscol.education.fr/document/7283/download)\n",
    "- Cours d'Olivier Lécluse sur les [systèmes sur puce](https://www.lecluse.fr/nsi/NSI_T/archi/soc/)\n",
    "- Articles Wikipédia : [ENIAC](https://fr.wikipedia.org/wiki/ENIAC), [Apollo Guidance Computer](https://fr.wikipedia.org/wiki/Apollo_Guidance_Computer), [Intel 4004](https://fr.wikipedia.org/wiki/Intel_4004), [Loi de Moore](https://fr.wikipedia.org/wiki/Loi_de_Moore)\n",
    "- Cours de Gérard Berry au collège de France : [Des circuits aux systèmes sur puces](https://www.college-de-france.fr/site/gerard-berry/course-2008-02-01-10h30.htm) ainsi que le [document de présentation](https://www.college-de-france.fr/media/gerard-berry/UPL6555088133665514575_20080201.pdf).\n",
    "- Cours de David Roche sur les [systèmes sur puce](https://dav74.github.io/site_nsi_term/c18c/)\n"
   ]
  },
  {
   "cell_type": "markdown",
   "id": "dd814bcc",
   "metadata": {},
   "source": [
    "---\n",
    "Germain BECKER, Lycée Mounier, ANGERS\n",
    "\n",
    "Ressource éducative libre distribuée sous [Licence Creative Commons Attribution - Pas d’Utilisation Commerciale - Partage dans les Mêmes Conditions 4.0 International](http://creativecommons.org/licenses/by-nc-sa/4.0/) \n",
    "\n",
    "![Licence Creative Commons](https://i.creativecommons.org/l/by-nc-sa/4.0/88x31.png)"
   ]
  }
 ],
 "metadata": {
  "kernelspec": {
   "display_name": "Python 3",
   "language": "python",
   "name": "python3"
  },
  "language_info": {
   "codemirror_mode": {
    "name": "ipython",
    "version": 3
   },
   "file_extension": ".py",
   "mimetype": "text/x-python",
   "name": "python",
   "nbconvert_exporter": "python",
   "pygments_lexer": "ipython3",
   "version": "3.7.10"
  }
 },
 "nbformat": 4,
 "nbformat_minor": 5
}
