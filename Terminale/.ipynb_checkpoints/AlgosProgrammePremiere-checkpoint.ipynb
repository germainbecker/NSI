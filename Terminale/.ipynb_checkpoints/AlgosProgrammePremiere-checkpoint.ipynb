{
 "cells": [
  {
   "cell_type": "markdown",
   "metadata": {},
   "source": [
    "<h1 style=\"text-align: center; font-size: 35px\">Programme de Première - Algorithmes à connaître</h1>"
   ]
  },
  {
   "cell_type": "markdown",
   "metadata": {},
   "source": [
    "Voici la liste des algorithmes du programme de Première à connaître :\n",
    "\n",
    "* [Les algorithmes de parcours séquentiel d'un tablau](#Algorithmes-de-parcours-s%C3%A9quentiel-d'un-tableau) :\n",
    "    * [Recherche d'un élément](#Recherche-d'un-élément)\n",
    "    * [Nombre d'occurrences d'un élément](#Nombre-d'occurrences)\n",
    "    * [Recherche d'un extremum](#Recherche-d'un-extremum) (minimum ou maximum)\n",
    "    * [Calcul d'une moyenne](#Calcul-d'une-moyenne)\n",
    "* [Les algorithmes de tri](#Algorithmes-de-tri) :\n",
    "    * [Tri par sélection](#Tri-par-sélection)\n",
    "    * [Tri par insertion](#Tri-par-insertion)\n",
    "* [Algorithme de recherche dichotomique](#Algorithme-de-recherche-dichotomique)\n",
    "* [Algorithme des $k$ plus proches voisins](#Algorithme-des-$k$-plus-proches-voisins)\n",
    "* [Algorithmes gloutons](#Algorithmes-gloutons) :\n",
    "    * [Rendu de monnaie](#Problème-du-rendu-de-monnaie)\n",
    "    * [Sac à dos](#Problème-du-sac-à-dos)"
   ]
  },
  {
   "cell_type": "markdown",
   "metadata": {},
   "source": [
    "# Algorithmes de parcours séquentiel d'un tableau\n",
    "\n",
    "## Recherche d'un élément\n",
    "\n",
    "On avait donné l'algorithme suivant qui utilisait un booléen `trouve` :\n",
    "\n",
    "```python\n",
    "def est_present(T, x):\n",
    "    \"\"\"Renvoie True si x est dans le tableau T et False sinon\"\"\"\n",
    "    trouve = False\n",
    "    for elt in T:\n",
    "        if elt == x:\n",
    "            trouve = True\n",
    "    return trouve\n",
    "```\n",
    "\n",
    "Voici une version plus courte qui n'utilise pas de booléen."
   ]
  },
  {
   "cell_type": "code",
   "execution_count": 1,
   "metadata": {},
   "outputs": [],
   "source": [
    "# --- Parcours par valeur ---\n",
    "def est_present(T, x):\n",
    "    \"\"\"Renvoie True si x est dans le tableau T et False sinon\"\"\"\n",
    "    for elt in T:\n",
    "        if elt == x:\n",
    "            return True\n",
    "    return False\n",
    "\n",
    "# --- Parcours par indice ---\n",
    "def est_present(T, x):\n",
    "    \"\"\"Renvoie True si x est dans le tableau T et False sinon\"\"\"\n",
    "    for i in range(len(T)):\n",
    "        if T[i] == x:\n",
    "            return True\n",
    "    return False\n",
    "\n",
    "# JEU DE TESTS\n",
    "\n",
    "assert est_present([1, 2, 3], 1) == True\n",
    "assert est_present([1, 2, 3], 4) == False\n",
    "assert est_present([1, 1, 1], 1) == True\n",
    "assert est_present([1, 1, 1], 2) == False\n",
    "assert est_present([1], 1) == True\n",
    "assert est_present([1], 2) == False\n",
    "assert est_present([], 1) == False"
   ]
  },
  {
   "cell_type": "markdown",
   "metadata": {},
   "source": [
    "## Nombre d'occurrences"
   ]
  },
  {
   "cell_type": "code",
   "execution_count": 2,
   "metadata": {},
   "outputs": [],
   "source": [
    "def nb_occurrences(T, x):\n",
    "    \"\"\"Renvoie le nombre d'occurrences de l'élément x dans le tableau T.\"\"\"\n",
    "    n = 0\n",
    "    for e in T:\n",
    "        if e == x:\n",
    "            n = n + 1\n",
    "    return n\n",
    "\n",
    "# JEU DE TESTS\n",
    "\n",
    "assert nb_occurrences([1, 2, 3], 1) == 1\n",
    "assert nb_occurrences([1, 2, 1], 1) == 2\n",
    "assert nb_occurrences([1, 2, 3], 4) == 0\n",
    "assert nb_occurrences([], 1) == 0"
   ]
  },
  {
   "cell_type": "markdown",
   "metadata": {},
   "source": [
    "## Recherche d'un extremum"
   ]
  },
  {
   "cell_type": "code",
   "execution_count": 3,
   "metadata": {},
   "outputs": [],
   "source": [
    "def maximum(T):\n",
    "    \"\"\"Renvoie la valeur maximale d'un tableau T d'entiers supposé non vide.\"\"\"\n",
    "    assert len(T) > 0, \"le tableau T doit être non vide\"\n",
    "    maxi = T[0]\n",
    "    for i in range(1, len(T)):\n",
    "        if T[i] > maxi:\n",
    "            maxi = T[i]\n",
    "    return maxi\n",
    "\n",
    "# JEU DE TESTS\n",
    "\n",
    "assert maximum([1, 2, 3]) == 3\n",
    "assert maximum([1, 3, 2]) == 3\n",
    "assert maximum([4, 1, 1]) == 4\n",
    "assert maximum([5, 5, 5, 5]) == 5\n",
    "assert maximum([-2, -1]) == -1\n",
    "assert maximum([4]) == 4"
   ]
  },
  {
   "cell_type": "markdown",
   "metadata": {},
   "source": [
    "La recherche du minimum est très similaire : on inverse juste le sens de l'inégalité dans la comparaison."
   ]
  },
  {
   "cell_type": "code",
   "execution_count": 4,
   "metadata": {},
   "outputs": [
    {
     "data": {
      "text/plain": [
       "1"
      ]
     },
     "execution_count": 4,
     "metadata": {},
     "output_type": "execute_result"
    }
   ],
   "source": [
    "def minimum(T):\n",
    "    \"\"\"Renvoie la valeur minimale d'un tableau T d'entiers supposé non vide.\"\"\"\n",
    "    assert len(T) > 0, \"le tableau T doit être non vide\"\n",
    "    mini = T[0]\n",
    "    for i in range(1, len(T)):\n",
    "        if T[i] < mini:\n",
    "            mini = T[i]\n",
    "    return mini\n",
    "\n",
    "minimum([2, 4, 5, 1, 3])"
   ]
  },
  {
   "cell_type": "markdown",
   "metadata": {},
   "source": [
    "La version avec le parcours par indice est facilement adaptable pour renvoyer la position de l'extremum si nécessaire.\n",
    "\n",
    "On peut aussi utiliser un parcours par valeur mais qui ne permet pas de renvoyer directement la position de l'extremum et parcoure la première valeur alors que ce n'est pas utile. :\n",
    "\n",
    "```python\n",
    "def maximum(T):\n",
    "    \"\"\"Renvoie la valeur maximale d'un tableau T d'entiers supposé non vide.\"\"\"\n",
    "    assert len(T) > 0, \"le tableau T doit être non vide\"\n",
    "    maxi = T[0]\n",
    "    for e in T\n",
    "        if e > maxi:\n",
    "            maxi = e\n",
    "    return maxi\n",
    "```"
   ]
  },
  {
   "cell_type": "markdown",
   "metadata": {},
   "source": [
    "## Calcul d'une moyenne\n",
    "\n",
    "On utilise une variable `s` pour sommer les différents éléments du tableau. Il n'y a qu'à diviser par le nombre d'éléments du tableau pour avoir la moyenne."
   ]
  },
  {
   "cell_type": "code",
   "execution_count": 5,
   "metadata": {},
   "outputs": [
    {
     "data": {
      "text/plain": [
       "11.0"
      ]
     },
     "execution_count": 5,
     "metadata": {},
     "output_type": "execute_result"
    }
   ],
   "source": [
    "def moyenne(T):\n",
    "    \"\"\"Renvoie la moyenne des valeurs du tableau T d'entiers supposé non vide.\"\"\"\n",
    "    assert len(T) > 0, \"le tableau doit être non vide\"\n",
    "    s = 0\n",
    "    for e in T:\n",
    "        s = s + e\n",
    "    return s / len(T)\n",
    "\n",
    "# ESSAI\n",
    "\n",
    "moyenne([8, 10, 12, 14])"
   ]
  },
  {
   "cell_type": "markdown",
   "metadata": {},
   "source": [
    "# Algorithmes de tri\n",
    "\n",
    "## Tri par sélection\n",
    "\n",
    "C'est celui que l'on utilise généralement pour trier un paquet de cartes.\n",
    "\n",
    "**Principe** : \n",
    "\n",
    "- Rechercher le plus petit élément du tableau, et l'échanger avec l'élément d'indice 0 ;\n",
    "- Rechercher le second plus petit élément du tableau, et l'échanger avec l'élément d'indice 1 ;\n",
    "- Continuer de cette façon jusqu'à ce que le tableau soit entièrement trié.\n",
    "\n",
    "Cela revient à faire à chaque étape une recherche de minimum. \n",
    "\n",
    "<a title=\"Joestape89, CC BY-SA 3.0 &lt;http://creativecommons.org/licenses/by-sa/3.0/&gt;, via Wikimedia Commons\" href=\"https://commons.wikimedia.org/wiki/File:Selection-Sort-Animation.gif\"><img width=\"64\" alt=\"Selection-Sort-Animation\" src=\"https://upload.wikimedia.org/wikipedia/commons/9/94/Selection-Sort-Animation.gif\"></a>\n",
    "\n",
    "\n",
    "La version proposée effectue un tri *en place* : le tableau passé en paramètre est trié (le tableau de départ est perdu)."
   ]
  },
  {
   "cell_type": "code",
   "execution_count": 6,
   "metadata": {},
   "outputs": [
    {
     "data": {
      "text/plain": [
       "[0, 1, 1, 2, 3, 4, 5, 7, 8, 10]"
      ]
     },
     "execution_count": 6,
     "metadata": {},
     "output_type": "execute_result"
    }
   ],
   "source": [
    "def echange(T, i, j):\n",
    "    \"\"\"Echange T[i] et T[j]\"\"\"\n",
    "    temp = T[i]\n",
    "    T[i] = T[j]\n",
    "    T[j] = temp\n",
    "\n",
    "def tri_par_selection(T):\n",
    "    \"\"\"Trie le tableau T dans l'ordre croissant.\"\"\"\n",
    "    for i in range(len(T)):        \n",
    "        # recherche de l'indice du minimum dans T[i:n-1]\n",
    "        ind_min = i\n",
    "        for j in range(i+1, len(T)):\n",
    "            if T[j] < T[ind_min]:\n",
    "                ind_min = j        \n",
    "        # échange avec l'élément d'indice i\n",
    "        echange(T, i, ind_min)\n",
    "        \n",
    "# ESSAI\n",
    "\n",
    "tab = [4, 1, 7, 8, 1, 0, 2, 3, 5, 10]\n",
    "tri_par_selection(tab)\n",
    "tab"
   ]
  },
  {
   "cell_type": "markdown",
   "metadata": {},
   "source": [
    "## Tri par insertion\n",
    "\n",
    "**Principe** : \n",
    "- Prendre le deuxième élément du tableau et l'insérer à sa place parmi les éléments qui le précède ;\n",
    "- Prendre le troisième élément du tableau et l'insérer à sa place parmi les éléments qui le précède ;\n",
    "- Continuer de cette façon jusqu'à ce que le tableau soit entièrement trié.\n",
    "\n",
    "Pour l'*insertion* on peut procéder en décalant les termes nécessaires pour \"insérer\" l'élément à sa bonne place dans la partie triée de gauche.\n",
    "\n",
    "<a title=\"Swfung8, CC BY-SA 3.0 &lt;https://creativecommons.org/licenses/by-sa/3.0&gt;, via Wikimedia Commons\" href=\"https://commons.wikimedia.org/wiki/File:Insertion-sort-example-300px.gif\"><img width=\"256\" alt=\"Insertion-sort-example-300px\" src=\"https://upload.wikimedia.org/wikipedia/commons/0/0f/Insertion-sort-example-300px.gif\"></a>"
   ]
  },
  {
   "cell_type": "code",
   "execution_count": 7,
   "metadata": {},
   "outputs": [
    {
     "data": {
      "text/plain": [
       "[0, 1, 1, 2, 3, 4, 5, 7, 8, 10]"
      ]
     },
     "execution_count": 7,
     "metadata": {},
     "output_type": "execute_result"
    }
   ],
   "source": [
    "def tri_par_insertion(T):\n",
    "    \"\"\"Trie le tableau T dans l'ordre croissant\"\"\"\n",
    "    for i in range(1,len(T)):\n",
    "        x = T[i]                    # pour stocker l'élément T[i] à insérer\n",
    "        j = i\n",
    "        while j > 0 and x < T[j-1]: # tant que l'élément à insérer est plus petit que ses précédents (et qu'on n'a pas atteint le premier)\n",
    "            T[j] = T[j-1]           # on décale le précédent vers la droite\n",
    "            j = j - 1               # et on passe à celui qui précède\n",
    "        T[j] = x                    # à la fin, on insère l'élément T[i] en position j\n",
    "        \n",
    "# ESSAI\n",
    "\n",
    "tab = [4, 1, 7, 8, 1, 0, 2, 3, 5, 10]\n",
    "tri_par_insertion(tab)\n",
    "tab"
   ]
  },
  {
   "cell_type": "markdown",
   "metadata": {},
   "source": [
    "**Rappels** : Ces deux algorithmes de tri ont un *coût quadratique*, c'est-à-dire de l'ordre de $n^2$ où $n$ est la taille du tableau à trier."
   ]
  },
  {
   "cell_type": "markdown",
   "metadata": {},
   "source": [
    "# Algorithme de recherche dichotomique\n",
    "\n",
    "C'est un algorithme très efficace pour chercher une valeur `v` dans un tableau `T` **déjà trié**.\n",
    "\n",
    "**Principe** : On prend l'élément médian et on le compare à la valeur cherchée :\n",
    "- si l'élément médian est égale à `v`, on a terminé\n",
    "- si l'élément médian est strictement supérieur à `v`, on élimine toute la partie de droite restante et on recommence\n",
    "- si l'élément médian est strictement inférieur à `v`, on élimine toute la partie de gauche restante et on recommence\n",
    "Si on arrive au bout sans avoir trouvé `v` on sait qu'il n'y ait pas.\n",
    "\n",
    "## Version *itérative* vue en Première\n",
    "\n",
    "La fonction qui suit est légèrement améliorée car elle permet de renvoyer une position `m` de l'élément `v` s'il se trouve dans le tableau `T`. Elle renvoie `None` sinon."
   ]
  },
  {
   "cell_type": "code",
   "execution_count": 8,
   "metadata": {},
   "outputs": [
    {
     "data": {
      "text/plain": [
       "(8, None)"
      ]
     },
     "execution_count": 8,
     "metadata": {},
     "output_type": "execute_result"
    }
   ],
   "source": [
    "def recherche_dichotomique(T, v):\n",
    "    \"\"\"renvoie une position de v dans le tableau T, supposé trié,\n",
    "    et None si v ne s'y trouve pas\"\"\"\n",
    "    g = 0\n",
    "    d = len(T) - 1\n",
    "    while g <= d:\n",
    "        m = (g + d) // 2\n",
    "        if v < T[m]:\n",
    "            d = m - 1\n",
    "        elif v > T[m]:\n",
    "            g = m + 1\n",
    "        else:\n",
    "            return m\n",
    "    return None\n",
    "\n",
    "# ESSAIS\n",
    "\n",
    "T = [1, 2, 2, 5, 6, 6, 7, 9, 9, 10, 10, 13, 13, 15]\n",
    "recherche_dichotomique(T, 9), recherche_dichotomique(T, 20)"
   ]
  },
  {
   "cell_type": "markdown",
   "metadata": {},
   "source": [
    "## Version *récursive* vue en Terminale\n",
    "\n",
    "On répète à chaque fois les mêmes instructions mais sur un tableau plus petit, on peut donc écrire récursivement cet algorithme."
   ]
  },
  {
   "cell_type": "code",
   "execution_count": 9,
   "metadata": {},
   "outputs": [
    {
     "data": {
      "text/plain": [
       "(8, None)"
      ]
     },
     "execution_count": 9,
     "metadata": {},
     "output_type": "execute_result"
    }
   ],
   "source": [
    "def recherche(T, v, g, d):\n",
    "    \"\"\"renvoie une position de v dans T[g..d], supposé trié,\n",
    "    ou None si v ne s'y trouve pas\"\"\"\n",
    "    # à compléter\n",
    "    if g > d:\n",
    "        return None\n",
    "    m = (g + d) // 2\n",
    "    if T[m] > v:\n",
    "        return recherche(T, v, g, m - 1)\n",
    "    elif T[m] < v :\n",
    "        return recherche(T, v, m + 1, d)\n",
    "    else:\n",
    "        return m\n",
    "    \n",
    "## pour lancer le premier appel sur tout le tableau\n",
    "def recherche_dichotomique(T, v):\n",
    "    \"\"\"Renvoie une position de v dans le tableau T, ou None si v ne s'y trouve pas\"\"\"\n",
    "    # à compléter\n",
    "    return recherche(T, v, 0, len(T) - 1)\n",
    "\n",
    "# ESSAIS\n",
    "\n",
    "T = [1, 2, 2, 5, 6, 6, 7, 9, 9, 10, 10, 13, 13, 15]\n",
    "recherche_dichotomique(T, 9), recherche_dichotomique(T, 20)"
   ]
  },
  {
   "cell_type": "markdown",
   "metadata": {},
   "source": [
    "# Algorithme des $k$ plus proches voisins\n",
    "\n",
    "L’algorithme des $k$ plus proches voisins appartient à la famille des algorithmes d’apprentissage automatique (machine learning) qui constituent le poumon de l'intelligence artificielle actuellement. Pour simplifier, l'apprentissage automatique part souvent de données (data) et essaye de dire quelque chose des données qui n'ont pas encore été vues : il s'agit de généraliser, de prédire.\n",
    "\n",
    "**Principe** : \n",
    "\n",
    "A partir d'un jeu de données et d'une donnée cible, l'algorithme des $k$ plus proches voisins détermine les $k$ données les plus proches de la cible.\n",
    "\n",
    "**Données et préconditions** :\n",
    "\n",
    "* une table `donnees` de taille $n$ contenant les données et leurs classes\n",
    "* une donnée cible : `cible`\n",
    "* un nombre $k$ inférieur à $n$\n",
    "* une règle permettant de calculer la distance entre deux données\n",
    "\n",
    "**Résultat** : un tableau contenant les *k* plus proches voisins de la donnée cible.\n",
    "\n",
    "**Algorithme** :\n",
    "\n",
    "1. Créer une table `distances_voisins` contenant les éléments de la table `donnees` et leurs distances avec la donnée `cible`.  \n",
    "2. Trier les données de la table `distances_voisins` selon la distance croissante avec la donnée `cible`\n",
    "3. Renvoyer les `k` premiers éléments de cette table triée.\n",
    "\n",
    "> **Remarques**:\n",
    ">- On peut ensuite prédire la classe de la donnée `cible` en prenant la classe majoritaire de ses $k$ plus proches voisins.\n",
    ">- La valeur de $k$ influe sur la qualité de la prédiction.\n",
    "\n",
    "Voici une implémentation dans laquelle la table `distances_voisins` contient des dictionnaires représentant toutes les données et dont la clé `distance` contient la distante entre chaque donnée et la cible."
   ]
  },
  {
   "cell_type": "code",
   "execution_count": 10,
   "metadata": {},
   "outputs": [],
   "source": [
    "def tri_distance(d):  # clé du tri (selon la clé 'distance' des dictionnaires)\n",
    "    return d['distance']\n",
    "\n",
    "def kppv(donnees, cible, k):\n",
    "    # étape 1 : création de la table avec les distances\n",
    "    \n",
    "    distances_voisins = [0]*len(donnees)\n",
    "    for i in range(len(donnees)):\n",
    "        distances_voisins[i] = donnees[i]                  # recopie des données dans la tableau distances_voisins\n",
    "        distance = distance_euclidienne(donnees[i], cible) # ici c'est la distance euclidienne qui a été choisie\n",
    "        distances_voisins[i]['distance'] = distance        # ajout de la distance entre les données et la cible\n",
    "\n",
    "    # étape 2 : tri par distance croissante\n",
    "    \n",
    "    distances_voisins_triee = sorted(distances_voisins, key=tri_distance)\n",
    "    \n",
    "    # étape 3 : récupération de k plus proches voisins\n",
    "    \n",
    "    k_plus_proches_voisins = [distances_voisins_triee[i] for i in range(k)]\n",
    "    \n",
    "    return k_plus_proches_voisins"
   ]
  },
  {
   "cell_type": "markdown",
   "metadata": {},
   "source": [
    "# Algorithmes gloutons\n",
    "\n",
    "Les *algorithmes gloutons* forment une catégorie d'algorithmes permettant de donner une solution à des problèmes d'optimisation qui visent à maximiser/minimiser une quantité (**plus court** chemin (GPS), **plus petit** temps d'exécution, **meilleure** organisation d'un emploi du temps, etc.)\n",
    "\n",
    "Le principe d'un algorithme glouton est le suivant :\n",
    "- résoudre un problème étape par étape\n",
    "- à chaque étape, faire le choix optimal de moindre coût (de meilleur gain)\n",
    "\n",
    "Le choix effectué à chaque étape n'est jamais remis en cause, ce qui fait que cette stratégie permet d'aboutir rapidement à une solution au problème de départ. C'est en ce sens que l'adjectif *greedy* (glouton/avare) caractérise ces algorithmes : il terminent rapidement (*glouton*) sans fournir beaucoup d'efforts (*avare*)."
   ]
  },
  {
   "cell_type": "markdown",
   "metadata": {},
   "source": [
    "## Problème du rendu de monnaie\n",
    "\n",
    "Il faut rendre de la monnaie en utilisant le moins de pièces (ou billets) possibles. On suppose que l'on dispose des pièces et billets en quantité illimitée.\n",
    "\n",
    "**Idée** : Rendre toujours la plus grande pièce (ou billet) possible.\n",
    "\n",
    "Voici une implémentation possible :"
   ]
  },
  {
   "cell_type": "code",
   "execution_count": 11,
   "metadata": {},
   "outputs": [
    {
     "data": {
      "text/plain": [
       "[100, 20, 20, 5, 2]"
      ]
     },
     "execution_count": 11,
     "metadata": {},
     "output_type": "execute_result"
    }
   ],
   "source": [
    "def rendu_monnaie_glouton(s, pieces):\n",
    "        \"\"\"Renvoie la solution gloutonne du rendu de monnaie d'une somme s entière et positive. \n",
    "        Le tableau pieces contient les valeurs des pièces à disposition dans l'ordre décroissant.\"\"\"\n",
    "        solution = []\n",
    "        i = 0 # position de la première pièce à tester (la plus grande)\n",
    "        while s > 0 and i < len(pieces): # tant qu'il reste de l'argent à rendre et que toutes les pièces n'ont pas été testées\n",
    "            valeur = pieces[i] # on prend la pièce d'indice i\n",
    "            if valeur <= s: # s'il est possible de rendre la pièce\n",
    "                solution.append(valeur) # on l'ajoute à solution\n",
    "                s = s - valeur # et on déduit sa valeur de la somme à rendre\n",
    "            else:\n",
    "                i = i + 1 # sinon on passe à la pièce immédiatement inférieure\n",
    "        return solution\n",
    "    \n",
    "# ESSAI\n",
    "\n",
    "euros = [500, 200, 100, 50, 20, 10, 5, 2, 1]\n",
    "rendu_monnaie_glouton(147, euros)"
   ]
  },
  {
   "cell_type": "markdown",
   "metadata": {},
   "source": [
    "L'algorithme glouton est toujours optimal si on raisonne avec des \"euros\". \n",
    "\n",
    "Avec d'autres systèmes monétaires, la solution n'est pas forcément optimale :"
   ]
  },
  {
   "cell_type": "code",
   "execution_count": 12,
   "metadata": {},
   "outputs": [
    {
     "data": {
      "text/plain": [
       "[6, 1, 1]"
      ]
     },
     "execution_count": 12,
     "metadata": {},
     "output_type": "execute_result"
    }
   ],
   "source": [
    "rendu_monnaie_glouton(8, [6, 4, 1])  # solution non optimale trouvée (on pouvait rendre 8 en deux pièces : 4 et 4)"
   ]
  },
  {
   "cell_type": "markdown",
   "metadata": {},
   "source": [
    "S'il manque la pièce unité, la solution n'est même pas forcément correcte :"
   ]
  },
  {
   "cell_type": "code",
   "execution_count": 13,
   "metadata": {},
   "outputs": [
    {
     "data": {
      "text/plain": [
       "[5, 2]"
      ]
     },
     "execution_count": 13,
     "metadata": {},
     "output_type": "execute_result"
    }
   ],
   "source": [
    "rendu_monnaie_glouton(8, [5, 2])  # solution incorrecte trouvée (on pouvait rendre 8 : 2 + 2 + 2 + 2)"
   ]
  },
  {
   "cell_type": "markdown",
   "metadata": {},
   "source": [
    "## Problème du sac à dos\n",
    "\n",
    "**Enoncé possible** :\n",
    "\n",
    "Vous êtes un voleur et souhaitez emporter les objets pour maximiser la valeur totale du butin. Cependant, votre sac ne peut supporter qu'une masse maximale de 10 kg.  Chaque objet possède une valeur et un poids. Il s’agit de choisir les objets à emporter dans le sac afin maximiser la valeur totale tout en respectant la contrainte du poids maximal. C’est un problème d’*optimisation avec contrainte*.\n",
    "\n",
    "Considérons les objets suivants et un sac de capacité maximale 10 kg. Quels objets faut-il prendre ?\n",
    "\n",
    "| objet       |  A  |  B  |  C  |  D  |  E  |  F  |\n",
    "|:------:     |:---:|:---:|:---:|:---:|:---:|:---:|\n",
    "| poids (masse en kg) |  7  |  6  |  4  |  3  |  2  |  1  |\n",
    "| valeur (€)  |9100 |7200 |4800 |2700 |2600 |200  |"
   ]
  },
  {
   "cell_type": "markdown",
   "metadata": {},
   "source": [
    "Il y a plusieurs choix possibles :\n",
    "- **Stratégie 1** : prendre toujours l'objet de plus grande valeur n'excédant pas la capacité restante (il faut trier préalablement par valeur décroissante)\n",
    "- **Stratégie 2** : prendre toujours l'objet de plus faible masse (il faut trier préalablement par masse croissante)\n",
    "- **Stratégie 3** : prendre toujours l'objet de plus grand rapport $\\frac{\\text{valeur}}{\\text{poids}}$ n'excédant pas la capacité restante (il faut trier préalablement par rapport $\\frac{\\text{valeur}}{\\text{poids}}$ décroissant)"
   ]
  },
  {
   "cell_type": "code",
   "execution_count": 14,
   "metadata": {},
   "outputs": [],
   "source": [
    "table_objets = [{'nom' : 'A', 'poids' : 7, 'valeur' : 9100},\n",
    "                {'nom' : 'B', 'poids' : 6, 'valeur' : 7200},\n",
    "                {'nom' : 'C', 'poids' : 4, 'valeur' : 4800},\n",
    "                {'nom' : 'D', 'poids' : 3, 'valeur' : 2700},\n",
    "                {'nom' : 'E', 'poids' : 2, 'valeur' : 2600},\n",
    "                {'nom' : 'F', 'poids' : 1, 'valeur' : 200}]"
   ]
  },
  {
   "cell_type": "code",
   "execution_count": 15,
   "metadata": {},
   "outputs": [],
   "source": [
    "def poids(objet):\n",
    "    return objet['poids']\n",
    "\n",
    "def valeur(objet):\n",
    "    return objet['valeur']\n",
    "\n",
    "def rapport_poids_valeur(objet):\n",
    "    return objet['valeur'] / objet['poids']\n",
    "\n",
    "def glouton(table_objets, poids_max):\n",
    "    # TRI DE LA TABLE\n",
    "    table_triee = sorted(table_objets, key = valeur, reverse=True) # STRATEGIE : CHOIX PAR VALEUR DECROISSANTE\n",
    "    # ALGORITHME GLOUTON\n",
    "    poids_total = 0\n",
    "    solution_gloutonne = []\n",
    "    i = 0\n",
    "    while i < len(table_triee) and poids_total < poids_max:  # tant qu'il reste des vidéos à ajouter et que le poids max n'est pas atteint\n",
    "        objet = table_triee[i]  # on prend la vidéo d'indice i\n",
    "        poids_objet = poids(objet) \n",
    "        if poids_total + poids_objet <= poids_max:  # si elle n'est pas trop lourde (capacité restante suffisante)\n",
    "            solution_gloutonne.append(objet)  # on ajoute la vidéo d'indice i à notre solution\n",
    "            poids_total = poids_total + poids_objet # on met à jour le poids total de notre solution\n",
    "        i = i + 1  # on passe à la vidéo suivante\n",
    "    return solution_gloutonne"
   ]
  },
  {
   "cell_type": "code",
   "execution_count": 16,
   "metadata": {},
   "outputs": [
    {
     "data": {
      "text/plain": [
       "[{'nom': 'A', 'poids': 7, 'valeur': 9100},\n",
       " {'nom': 'D', 'poids': 3, 'valeur': 2700}]"
      ]
     },
     "execution_count": 16,
     "metadata": {},
     "output_type": "execute_result"
    }
   ],
   "source": [
    "glouton(table_objets, 10)"
   ]
  },
  {
   "cell_type": "markdown",
   "metadata": {},
   "source": [
    "---\n",
    "Germain BECKER & Sébastien POINT, Lycée Mounier, ANGERS \n",
    "\n",
    "![Licence Creative Commons](https://i.creativecommons.org/l/by-nc-sa/4.0/88x31.png)"
   ]
  }
 ],
 "metadata": {
  "kernelspec": {
   "display_name": "Python 3",
   "language": "python",
   "name": "python3"
  },
  "language_info": {
   "codemirror_mode": {
    "name": "ipython",
    "version": 3
   },
   "file_extension": ".py",
   "mimetype": "text/x-python",
   "name": "python",
   "nbconvert_exporter": "python",
   "pygments_lexer": "ipython3",
   "version": "3.7.3"
  }
 },
 "nbformat": 4,
 "nbformat_minor": 2
}
