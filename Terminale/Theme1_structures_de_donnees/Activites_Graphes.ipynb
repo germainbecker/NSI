{
 "cells": [
  {
   "cell_type": "markdown",
   "metadata": {},
   "source": [
    "<h1 style=\"font-size: 30px; text-align: center\">Graphes - EXERCICES</h1>\n",
    "\n",
    "---"
   ]
  },
  {
   "cell_type": "markdown",
   "metadata": {},
   "source": [
    "# Exercice 1\n",
    "\n",
    "Voici deux graphes que l'on appelera respectivement `G1` et `G2`.\n",
    "\n",
    "![graphe G1](data/g3.png)\n",
    "\n",
    "![graphe G2](data/g4.png)"
   ]
  },
  {
   "cell_type": "markdown",
   "metadata": {},
   "source": [
    "1. Lequel est non orienté ?\n",
    "2. Pour le graphe non orienté :\n",
    "    - Donner deux sommets adjacents et deux sommets non adjacents.\n",
    "    - Donner les voisins de A ?\n",
    "    - Quels sont les degrés des sommets B, C et E ?\n",
    "    - S'il y en a, donner un cycle de ce graphe.\n",
    "    - Donner toutes les chaînes entre les sommets A et D.\n",
    "3. Pour le graphe orienté :\n",
    "    - Donner les successeurs et les prédecesseurs des sommets A et C.\n",
    "    - S'il y en a, donner un chemin entre G et B. Et entre B et D ?\n",
    "    - S'il y en a, donner un circuit de ce graphe.\n",
    "    - Quel est le sommet dont le degré est le plus grand ?"
   ]
  },
  {
   "cell_type": "markdown",
   "metadata": {},
   "source": [
    "# Exercice 2\n",
    "\n",
    "On reprend les deux graphes `G1` et `G2` de l'exercice 1.\n",
    "\n",
    "1. Donner la matrice d'adjacence de chacun de ces graphes (on prendra les indices des sommets dans l'ordre alphabétique).\n",
    "2. Donner la représentation de chacun de deux graphes sous la forme d'un dictionnaire de liste de successeurs.\n",
    "3. On considère les deux graphes `G3` et `G4` représentés comme ci-dessous. Dessiner ces deux graphes."
   ]
  },
  {
   "cell_type": "markdown",
   "metadata": {},
   "source": [
    "# Exercice 3 : Implémentation par matrice d'adjacence\n",
    "\n",
    "Cet exercice a pour objectif d'implémenter un graphe (non orienté puis orienté) par une matrice d'adjacence.\n",
    "\n",
    "##  Graphe non orienté\n",
    "\n",
    "### Type abstrait `GrapheNonOriente`\n",
    "\n",
    "On peut doter le type abstrait des constructeurs suivants :\n",
    "\n",
    "* `faire_graphe(sommets)` pour construire un graphe (sans arêtes) à partir de la liste `sommets` de ses sommets.\n",
    "* `ajouter_arete(G, x, y)` pour ajouter une arête entre les sommets `x` et `y` du graphe `G`.\n",
    "\n",
    "Pour pouvoir parcourir un graphe non orienté, on a besoin d'accéder à la liste des sommets et d'accéder aux sommets voisins d'un sommet donné.\n",
    "\n",
    "* `sommets(G)` pour accéder à la liste des sommets du graphe `G`.\n",
    "* `voisins(G, x)` pour accéder à la liste des voisins du sommet `x` du graphe `G`."
   ]
  },
  {
   "cell_type": "markdown",
   "metadata": {},
   "source": [
    "### Représentation par matrice d'adjacence\n",
    "\n",
    "On choisit de créer une classe `GrapheNoMa` pour implémenter un graphe non orienté par sa matrice d'adjacence à partir de la liste `sommets` de ses sommets (au sens `list` de Python). En voici une implémentation incomplète puisqu'il manque la méthode `voisins(self, x)`."
   ]
  },
  {
   "cell_type": "code",
   "execution_count": null,
   "metadata": {},
   "outputs": [],
   "source": [
    "class GrapheNoMa:\n",
    "    def __init__ (self, sommets):\n",
    "        self.som = sommets\n",
    "        self.dimension = len(sommets)\n",
    "        self.adjacence = [[0 for i in range(self.dimension)] for j in range(self.dimension)]\n",
    "    \n",
    "    def ajouter_arete(self, x, y):\n",
    "        i = self.som.index(x)\n",
    "        j = self.som.index(y)\n",
    "        self.adjacence[i][j] = 1\n",
    "        self.adjacence[j][i] = 1\n",
    "    \n",
    "    def sommets(self):\n",
    "        return self.som\n",
    "    \n",
    "    def voisins(self, x):\n",
    "        pass"
   ]
  },
  {
   "cell_type": "markdown",
   "metadata": {},
   "source": [
    "**Question 1** : Combien d'attributs possèdent les (objets) graphes de cette classe ? Quels sont leurs noms ? Lors de la création d'un objet `GrapheNonOriente` de cette classe, que contient la matrice d'adjacence ? Est-ce normal ?"
   ]
  },
  {
   "cell_type": "markdown",
   "metadata": {},
   "source": [
    "*Réponse* : "
   ]
  },
  {
   "cell_type": "markdown",
   "metadata": {},
   "source": [
    "**Question 2** : Quelle instruction permet de créer un objet `g1` de cette classe contenant les sommets `\"a\"`, `\"b\"`, `\"c\"`, et `\"d\"` ?"
   ]
  },
  {
   "cell_type": "code",
   "execution_count": null,
   "metadata": {},
   "outputs": [],
   "source": [
    "# à compléter\n"
   ]
  },
  {
   "cell_type": "markdown",
   "metadata": {},
   "source": [
    "**Question 3** : Quelles instructions permettent d'accéder aux attributs de du graphe `g1` ?"
   ]
  },
  {
   "cell_type": "code",
   "execution_count": null,
   "metadata": {},
   "outputs": [],
   "source": [
    "# à compléter\n"
   ]
  },
  {
   "cell_type": "markdown",
   "metadata": {},
   "source": [
    "**Question 4** : Expliquer le rôle de chaque ligne de la méthode `ajouter_arete` en commentant directement le code. *N'hésitez pas à consulter la [documentation de Python sur les listes](https://docs.python.org/fr/3/tutorial/datastructures.html)*."
   ]
  },
  {
   "cell_type": "markdown",
   "metadata": {},
   "source": [
    "**Question 5** : Ecrivez les instructions pour ajouter les arêtes (`\"a\"`,`\"b\"`), (`\"a\"`,`\"c\"`) et (`\"c\"`,`\"d\"`). Vous vérifiez ensuite que la matrice d'adjacence est cohérente."
   ]
  },
  {
   "cell_type": "code",
   "execution_count": null,
   "metadata": {},
   "outputs": [],
   "source": [
    "g1 = GrapheNoMa([\"a\", \"b\", \"c\", \"d\"])\n",
    "# à compléter\n"
   ]
  },
  {
   "cell_type": "markdown",
   "metadata": {},
   "source": [
    "**Question 6** : Ajoutez la méthode `voisins` à la classe pour qu'elle soit complète."
   ]
  },
  {
   "cell_type": "code",
   "execution_count": null,
   "metadata": {},
   "outputs": [],
   "source": [
    "class GrapheNoMa:\n",
    "    def __init__ (self, sommets):\n",
    "        self.som = sommets\n",
    "        self.dimension = len(sommets)\n",
    "        self.adjacence = [[0 for i in range(self.dimension)] for j in range(self.dimension)]\n",
    "    \n",
    "    def ajouter_arete(self, x, y):\n",
    "        i = self.som.index(x)\n",
    "        j = self.som.index(y)\n",
    "        self.adjacence[i][j] = 1\n",
    "        self.adjacence[j][i] = 1\n",
    "    \n",
    "    def sommets(self):\n",
    "        return self.som\n",
    "    \n",
    "    # complétez la méthode voisins\n",
    "    def voisins(self, x):\n",
    "        pass"
   ]
  },
  {
   "cell_type": "markdown",
   "metadata": {},
   "source": [
    "**Question 6** : Quelle instruction écrire pour afficher la liste des voisins du sommet `\"a\"` ? Et pour les autres sommets ?"
   ]
  },
  {
   "cell_type": "code",
   "execution_count": null,
   "metadata": {},
   "outputs": [],
   "source": [
    "# à compléter\n"
   ]
  },
  {
   "cell_type": "markdown",
   "metadata": {},
   "source": [
    "## Graphe orienté\n",
    "\n",
    "**Question 7** : En vous inspirant de ce qui vient d'être fait, proposez un nouveau type abstrait `GrapheOriente` (vous donnerez les opérations de base) et son implémentation par une matrice d'adjacence sous forme d'une classe `GrapheOMa`."
   ]
  },
  {
   "cell_type": "code",
   "execution_count": null,
   "metadata": {},
   "outputs": [],
   "source": [
    "# implémentation possible : à compléter !\n"
   ]
  },
  {
   "cell_type": "markdown",
   "metadata": {},
   "source": [
    "**Question 8** : Ecrivez ensuite les instructions permettant de construire le graphe orienté suivant. Vérifiez que le contenu de la matrice d'adjacence est cohérent."
   ]
  },
  {
   "cell_type": "code",
   "execution_count": null,
   "metadata": {},
   "outputs": [],
   "source": [
    "# à compléter\n"
   ]
  },
  {
   "cell_type": "markdown",
   "metadata": {},
   "source": [
    "# Exercice 4 : Implémentation par liste de successeurs\n",
    "\n",
    "Cet exercice a pour objectif d'implémenter les types abstraits `GrapheNonOriente` et `GrapheOriente` (définis dans l'exercice précédent) par un dictionnaire contenant les listes de voisins/successeurs de chaque sommet.\n",
    "\n",
    "##  Graphe non orienté\n",
    "\n",
    "### Type abstrait `GrapheNonOriente`\n",
    "\n",
    "On reprend le même type abstrait que celui de l'exercice précédent, il possède donc exactement la même interface que l'on rappelle ici.\n",
    "\n",
    "* `faire_graphe(sommets)` pour construire un graphe (sans arêtes) à partir de la liste `sommets` de ses sommets.\n",
    "* `ajouter_arete(G, x, y)` pour ajouter une arête entre les sommets `x` et `y` du graphe `G`.\n",
    "* `sommets(G)` pour accéder à la liste des sommets du graphe `G`.\n",
    "* `voisins(G, x)` pour accéder à la liste des voisins du sommet `x` du graphe `G`."
   ]
  },
  {
   "cell_type": "markdown",
   "metadata": {},
   "source": [
    "### Représentation par liste de successeurs\n",
    "\n",
    "On choisit de créer une classe `GrapheNoLs` pour implémenter un graphe non orienté par liste de successeurs.\n",
    "\n",
    ">**Remarque importante** : pour que l'utilisateur qui utilise le type `GrapheNonOriente` via l'interface fournie ne constate aucune différence (entre les deux implémentations), l'initialisation d'un objet de la classe `GrapheNoLs` se fera également par la donnée de la liste de successeurs (au sens list de Python) : c'est-à-dire que `g1 = GrapheNoLs([\"a\", \"b\", \"c\", \"d\"])` crée un graphe dont les sommets sont `\"a\"`, `\"b\"`, `\"c\"`, `\"d\"`.\n",
    "\n",
    "Voici le début de l'implémentation avec uniquement la méthode spéciale `__init__`."
   ]
  },
  {
   "cell_type": "code",
   "execution_count": null,
   "metadata": {},
   "outputs": [],
   "source": [
    "# classe avec uniquement la méthode __init__\n",
    "\n",
    "class GrapheNoLs:\n",
    "    def __init__ (self, sommets):\n",
    "        self.som = sommets\n",
    "        self.dic = {sommet: [] for sommet in self.som} # création par compréhension"
   ]
  },
  {
   "cell_type": "markdown",
   "metadata": {},
   "source": [
    "**Question 1** : Combien d'attributs possèdent les (objets) graphes de cette classe ? Quels sont leurs noms ? Lors de la création d'un objet `GrapheNonOriente` de cette classe, que contient le dictionnaire des successeurs ? Est-ce normal ?"
   ]
  },
  {
   "cell_type": "markdown",
   "metadata": {},
   "source": [
    "*Réponse* : "
   ]
  },
  {
   "cell_type": "markdown",
   "metadata": {},
   "source": [
    "**Question 2** : Quelle instruction permet de créer un objet `g1` de cette classe contenant les sommets `\"a\"`, `\"b\"`, `\"c\"`, et `\"d\"` ?"
   ]
  },
  {
   "cell_type": "code",
   "execution_count": null,
   "metadata": {},
   "outputs": [],
   "source": [
    "# à compléter\n"
   ]
  },
  {
   "cell_type": "markdown",
   "metadata": {},
   "source": [
    "**Question 3** : Quelles instructions permettent d'accéder aux attributs de du graphe `g1` ?"
   ]
  },
  {
   "cell_type": "code",
   "execution_count": null,
   "metadata": {},
   "outputs": [],
   "source": [
    "# à compléter\n"
   ]
  },
  {
   "cell_type": "markdown",
   "metadata": {},
   "source": [
    "**Question 4** : Complétez la classe `GrapheNoLs` avec les trois méthodes manquantes. *Attention : pour l'ajout d'une arête il faudra vérifier que ses sommets ne sont pas déjà dans la liste des successeurs/voisins correspondante, sous peine d'ajouter plusieurs fois le même successeur/voisin*."
   ]
  },
  {
   "cell_type": "code",
   "execution_count": null,
   "metadata": {},
   "outputs": [],
   "source": [
    "# classe à compléter par les 3 méthodes manquantes\n",
    "\n",
    "class GrapheNoLs:\n",
    "    def __init__ (self, sommets):\n",
    "        self.som = sommets\n",
    "        self.dic = {sommet: [] for sommet in self.som} # création par compréhension\n",
    "    \n",
    "    # à compléter"
   ]
  },
  {
   "cell_type": "markdown",
   "metadata": {},
   "source": [
    "**Question 5** : Ecrivez les instructions pour ajouter les arêtes (`\"a\"`,`\"b\"`), (`\"a\"`,`\"c\"`) et (`\"c\"`,`\"d\"`) au graphe `g1` défini plus haut. Vous vérifiez ensuite que le dictionnaire est cohérent et que si on ajoute une nouvelle fois une des arêtes existantes, les listes de successeurs ne contiennent pas plusieurs fois le même successeur."
   ]
  },
  {
   "cell_type": "code",
   "execution_count": null,
   "metadata": {},
   "outputs": [],
   "source": [
    "g1 = GrapheNoLs([\"a\", \"b\", \"c\", \"d\"])\n",
    "# à compléter :\n"
   ]
  },
  {
   "cell_type": "markdown",
   "metadata": {},
   "source": [
    "**Question 6** : Quelle instruction écrire pour afficher la liste des voisins du sommet `\"a\"` ? Et pour les autres sommets ?"
   ]
  },
  {
   "cell_type": "code",
   "execution_count": null,
   "metadata": {},
   "outputs": [],
   "source": [
    "# à compléter \n"
   ]
  },
  {
   "cell_type": "markdown",
   "metadata": {},
   "source": [
    "## Graphe orienté\n",
    "\n",
    "**Question 7** : En vous inspirant de ce qui vient d'être fait, proposez une implémentation du type abstrait `GrapheOriente` (voir exercice précédent) par liste de successeurs sous forme d'une classe `GrapheOLs`."
   ]
  },
  {
   "cell_type": "markdown",
   "metadata": {},
   "source": [
    "*Réponse* :"
   ]
  },
  {
   "cell_type": "code",
   "execution_count": null,
   "metadata": {},
   "outputs": [],
   "source": [
    "# implémentation possible : à compléter !\n",
    "\n",
    "class GrapheOLs:\n",
    "    def __init__ (self, sommets):\n",
    "        self.som = sommets\n",
    "        self.dic = {sommet: [] for sommet in self.som} # création par compréhension\n",
    "    \n",
    "    def ajouter_arete(self, x, y):\n",
    "        if y not in self.dic[x]:  # l'arc (x,y) est de x vers y donc y est un successeur de x\n",
    "            self.dic[x].append(y)        \n",
    "    \n",
    "    def sommets(self):\n",
    "        return self.som\n",
    "    \n",
    "    def voisins(self, x):\n",
    "        return self.dic[x]"
   ]
  },
  {
   "cell_type": "markdown",
   "metadata": {},
   "source": [
    "**Question 8** : Ecrivez ensuite les instructions permettant de construire le graphe orienté suivant. Vérifiez que le contenu de la matrice d'adjacence est cohérent."
   ]
  },
  {
   "cell_type": "code",
   "execution_count": null,
   "metadata": {},
   "outputs": [],
   "source": [
    "# à compléter\n"
   ]
  },
  {
   "cell_type": "markdown",
   "metadata": {},
   "source": [
    "# Exercice 5 : Passer d'une représentation à l'autre\n",
    "\n",
    "Avec le type abstrait défini et les représentations symboliques choisies, passer d'une représentation à l'autre consiste simplement à énumérer les sommets et les voisins depuis une représentation tout en construisant l'autre représentation.\n",
    "\n",
    "**Question 1** : Ecrivez une fonction `ma_to_ls(gma)` qui prend en argument un objet `gma` de la classe `GrapheNoMa` et qui renvoie un objet de la classe `GrapheNoLs` représentant le même graphe. Autrement dit une fonction qui permet de passer de la matrice d'adjacence à la liste de successeurs. *Relisez bien le paragraphe précédent pour la méthode.* "
   ]
  },
  {
   "cell_type": "code",
   "execution_count": null,
   "metadata": {},
   "outputs": [],
   "source": [
    "# à compléter\n",
    "def ma_to_ls(gma):\n",
    "    # créer un graphe représenté par liste de successeurs avec les mêmes sommets que gma\n",
    "    # parcourir tous les sommets x de gma\n",
    "    # et pour chaque sommet voisin de x, créer l'arête correspondante dans le graphe représenté par liste de successeurs\n",
    "    # renvoyer le graphe ainsi créé\n",
    "    pass"
   ]
  },
  {
   "cell_type": "markdown",
   "metadata": {},
   "source": [
    "**Question 2** : Vérifiez sur un exemple (ou plusieurs) que votre fonction fait bien le travail. *Vous pourrez vérifier le contenu de la matrice et du dictionnaire de listes de successeurs*."
   ]
  },
  {
   "cell_type": "code",
   "execution_count": null,
   "metadata": {},
   "outputs": [],
   "source": [
    "# à vous de jouer !\n"
   ]
  },
  {
   "cell_type": "markdown",
   "metadata": {},
   "source": [
    "**Question 3** : Ecrivez la fonction de traduction réciproque permettant de passer des listes de successeurs à une matrice d'adjacence."
   ]
  },
  {
   "cell_type": "code",
   "execution_count": null,
   "metadata": {},
   "outputs": [],
   "source": [
    "# à vous de jouer !\n"
   ]
  },
  {
   "cell_type": "markdown",
   "metadata": {},
   "source": [
    "# Exercice 6 : Ajout de quelques méthodes\n",
    "\n",
    "On propose dans cet exercice d'ajouter quelques méthodes aux classes `GrapheNoMa` et `GrapheNoLs` des deux exercices précédents."
   ]
  },
  {
   "cell_type": "markdown",
   "metadata": {},
   "source": [
    "## Méthode spéciale `__repr__`"
   ]
  },
  {
   "cell_type": "markdown",
   "metadata": {},
   "source": [
    "**Question 1** : Recopiez ci-dessous le code de la classe `GrapheNoMa` de l'exercice 3 et ajoutez-y la méthode spéciale `__repr__` pour afficher le graphe crée sous la forme suivante :\n",
    "\n",
    "```\n",
    "a -> b c\n",
    "b -> a\n",
    "c -> a d\n",
    "d -> c\n",
    "```\n",
    "c'est-à-dire une ligne par sommet, avec pour chacun la liste de ses voisins."
   ]
  },
  {
   "cell_type": "code",
   "execution_count": null,
   "metadata": {},
   "outputs": [],
   "source": [
    "# à compléter\n"
   ]
  },
  {
   "cell_type": "markdown",
   "metadata": {},
   "source": [
    "**Question 2** : Recopiez ci-dessous le code de la classe `GrapheNoLs` de l'exercice 4 et ajoutez-y la méthode spéciale `__repr__` pour afficher le graphe crée sous la forme suivante :\n",
    "\n",
    "```\n",
    "a -> b c\n",
    "b -> a\n",
    "c -> a d\n",
    "d -> c\n",
    "```\n",
    "c'est-à-dire une ligne par sommet, avec pour chacun la liste de ses voisins."
   ]
  },
  {
   "cell_type": "code",
   "execution_count": null,
   "metadata": {},
   "outputs": [],
   "source": [
    "# à compléter\n"
   ]
  },
  {
   "cell_type": "markdown",
   "metadata": {},
   "source": [
    "## Méthode `degre_sommet`\n",
    "\n",
    "**Question 3** : Ajoutez aux deux classes `GrapheNoMa` et `GrapheNoLs` une méthode `degre_sommet` qui permet de renvoyer le degré d'un sommet."
   ]
  },
  {
   "cell_type": "code",
   "execution_count": null,
   "metadata": {},
   "outputs": [],
   "source": [
    "# classe GrapheNoMa recopier et compléter par la méthode degre_sommet\n"
   ]
  },
  {
   "cell_type": "code",
   "execution_count": null,
   "metadata": {},
   "outputs": [],
   "source": [
    "# classe GrapheNoMa recopier et compléter par la méthode degre_sommet\n"
   ]
  },
  {
   "cell_type": "markdown",
   "metadata": {},
   "source": [
    "# Exercice 7 (BONUS) : Mémorisation des successeurs dans un ensemble\n",
    "\n",
    "Dans le cas de la représentation par liste de successeurs nous avons utilisé un dictionnaire dans lequel les successeurs de chaque sommet étaient mémorisés dans une `list` Python. Par exemple :"
   ]
  },
  {
   "cell_type": "code",
   "execution_count": null,
   "metadata": {},
   "outputs": [],
   "source": [
    "g1 = {\n",
    "    \"A\": [\"B\", \"F\", \"G\"],\n",
    "    \"B\": [\"A\", \"C\", \"F\"],\n",
    "    \"C\": [\"B\", \"D\", \"F\"],\n",
    "    \"D\": [\"C\", \"E\"],\n",
    "    \"E\": [\"D\", \"E\", \"F\"],\n",
    "    \"F\": [\"A\", \"B\", \"C\", \"E\", \"G\"],\n",
    "    \"G\": [\"A\", \"F\"]\n",
    "}"
   ]
  },
  {
   "cell_type": "markdown",
   "metadata": {},
   "source": [
    "A la place d'une liste, il est possible d'utiliser un ensemble pour mémoriser les successeurs. Le type prédéfini `set` de Python implémente la structure de données abstraite \"ensemble\". On peut voir les ensembles de Python comme des dictionnaires (on utilise aussi les accolades) dans lequel il n'y aurait que des clés (et non des paires (clé, valeur)). Le graphe précédent deviendrait :"
   ]
  },
  {
   "cell_type": "code",
   "execution_count": null,
   "metadata": {},
   "outputs": [],
   "source": [
    "g1 = {\n",
    "    \"A\": {\"B\", \"F\", \"G\"},\n",
    "    \"B\": {\"A\", \"C\", \"F\"},\n",
    "    \"C\": {\"B\", \"D\", \"F\"},\n",
    "    \"D\": {\"C\", \"E\"},\n",
    "    \"E\": {\"D\", \"E\", \"F\"},\n",
    "    \"F\": {\"A\", \"B\", \"C\", \"E\", \"G\"},\n",
    "    \"G\": {\"A\", \"F\"}\n",
    "}"
   ]
  },
  {
   "cell_type": "markdown",
   "metadata": {},
   "source": [
    ">**Quel intérêt ?** : le type `set` est implémenté par ce qu'on appelle une table de hachage (hors programme NSI) qui permet un accès en temps constant aux éléments qu'il contient, ce qui n'est pas le cas d'une liste où cet accès se fait en temps linéaire. Ainsi, tester si un sommet est un successeur d'un autre est beaucoup plus rapide si les successeurs sont mémorisés dans un ensemble que dans un tableau. Pour des graphes importants avec beaucoup de successeurs, le gain de temps est important."
   ]
  },
  {
   "cell_type": "markdown",
   "metadata": {},
   "source": [
    "**Documentation** :\n",
    "\n",
    "- Le tutoriel officiel Python sur [les ensembles](https://docs.python.org/fr/3/tutorial/datastructures.html#sets).\n",
    "- La documentation officielle sur [le type set](https://docs.python.org/fr/3/library/stdtypes.html#set-types-set-frozenset)"
   ]
  },
  {
   "cell_type": "markdown",
   "metadata": {},
   "source": [
    "Pour initialiser un ensemble vide, il suffit d'appeler le constructeur de classe :"
   ]
  },
  {
   "cell_type": "code",
   "execution_count": null,
   "metadata": {},
   "outputs": [],
   "source": [
    "s = set()\n",
    "type(s)"
   ]
  },
  {
   "cell_type": "markdown",
   "metadata": {},
   "source": [
    "**Question** : A partir de la classe `GrapheNoLs`, créez une classe `GrapheNoLS` qui permet de mémoriser les successeurs de chaque sommet dans un ensemble à la place d'une liste."
   ]
  },
  {
   "cell_type": "code",
   "execution_count": null,
   "metadata": {},
   "outputs": [],
   "source": [
    "# à compléter\n"
   ]
  },
  {
   "cell_type": "markdown",
   "metadata": {},
   "source": [
    "# Exercice 8 (BONUS) : Graphes valués\n",
    "\n",
    "**Question 1** : Proposez une implémentation en une classe `GrapheValueNoMa` d'un graphe valué non orienté par une matrice d'adjacence."
   ]
  },
  {
   "cell_type": "code",
   "execution_count": null,
   "metadata": {},
   "outputs": [],
   "source": [
    "# à compléter\n"
   ]
  },
  {
   "cell_type": "markdown",
   "metadata": {},
   "source": [
    "**Question 2** : Proposez une implémentation en une classe `GrapheValueNoLs` d'un graphe valué non orienté par une liste de successeurs."
   ]
  },
  {
   "cell_type": "code",
   "execution_count": null,
   "metadata": {},
   "outputs": [],
   "source": [
    "# à compléter\n"
   ]
  },
  {
   "cell_type": "markdown",
   "metadata": {},
   "source": [
    "---\n",
    "\n",
    "**Références :**\n",
    "- Equipe pédagoqique DIU EIL, Université de Nantes.\n",
    "\n",
    "---\n",
    "Germain BECKER, Lycée Mounier, ANGERS \n",
    "\n",
    "![Licence Creative Commons](https://i.creativecommons.org/l/by-nc-sa/4.0/88x31.png)"
   ]
  }
 ],
 "metadata": {
  "kernelspec": {
   "display_name": "Python 3",
   "language": "python",
   "name": "python3"
  },
  "language_info": {
   "codemirror_mode": {
    "name": "ipython",
    "version": 3
   },
   "file_extension": ".py",
   "mimetype": "text/x-python",
   "name": "python",
   "nbconvert_exporter": "python",
   "pygments_lexer": "ipython3",
   "version": "3.7.3"
  }
 },
 "nbformat": 4,
 "nbformat_minor": 2
}
