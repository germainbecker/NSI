{
 "cells": [
  {
   "cell_type": "markdown",
   "metadata": {},
   "source": [
    "Une **liste** est une structure de données permettant de regrouper des données. C'est une collection finie et ordonnée d'éléments, cela signifie que chaque élément d'une liste est repéré par son index (sa position). A la différence d'un tableau qui est de taille fixe, une liste est extensible : on peut lui ajouter, retirer des éléments ; sa taille n'est donc pas fixe.\n",
    "\n",
    "# Un peu d'histoire pour commencer\n",
    "\n",
    "\n",
    "<img class=\"centre image-responsive\" src=\"data/mccarthy.jpg\" alt=\"logo de LISP\" width=\"400\">\n",
    "\n",
    "<p class=\"image-licence\">\n",
    "Crédit image : — https://www.flickr.com/photos/null0/272015955/, CC BY-SA 2.0, https://commons.wikimedia.org/w/index.php?curid=1297606\n",
    "</p>\n",
    "\n",
    "Le langage LISP, inventé par John Mac Carthy (photo) en 1958, est un des premiers à utiliser la notion de *liste* (LISP vient de l'anglais *list processing* signifiant &laquo; traitement de listes &raquo;).\n",
    "\n",
    "Les listes du langage LISP sont composées de deux parties :\n",
    "\n",
    "- une **tête** correspondant au premier élément de la liste\n",
    "- une **queue** correspondant au reste de la liste\n",
    "\n",
    "On pouvait alors construire une liste à partir d'un premier élément (sa tête) et d'une liste (sa queue).\n",
    "\n",
    "# L' interface minimale du type abstrait `Liste`\n",
    "\n",
    "Le type abstrait `Liste` peut alors être défini par l'*interface* suivante contenant 5 opérations primitives :\n",
    "\n",
    "- Des constructeurs :\n",
    "    - `listevide()` pour construire une liste vide\n",
    "    - `construit(e, L)` pour construire une nouvelle liste contenant un premier élément `e` (sa tête) et une suite `L` (sa queue, qui est une liste). Cet opérateur est aussi souvent noté `cons`.\n",
    "- Des sélecteurs :\n",
    "    - `premier(L)` pour accéder au premier élément de la liste `L`, sa tête. Cet opérateur est aussi souvent noté `car`. \n",
    "    - `reste(L)` pour accéder au reste de la liste `L` c'est-à-dire sa queue. Cet opérateur est aussi souvent noté `cdr`.\n",
    "- Un prédicat : \n",
    "    - `estvide(L)` pour tester si une liste est vide.\n",
    "\n",
    "Ainsi, pour construire une liste formée par les nombres 5, 3, 8 (dans cet ordre) on fait :\n",
    "\n",
    "```python\n",
    "maliste1 = construit(5, construit(3, construit(8, listevide())))\n",
    "```\n",
    "\n",
    "Dans ce cas,\n",
    "\n",
    "- `premier(maliste1)` correspond à sa tête, c'est-à-dire `5`\n",
    "- `reste(maliste1)` correspondant à sa queue, c'est-à-dire la liste correspondant à `construit(3, construit(8, listevide()))` formée des nombres 3 et 8.\n",
    "\n",
    "> On sait depuis les travaux de Mac Carthy sur le langage LISP, qu'avec ces 5 opérations on peut reconstruire toutes les opérations sur les listes (accéder à un élément, modifier un élément, ajouter/supprimer un élément, calculer la longueur, tester l'appartenance, etc.)\n",
    "\n",
    "# Implémentations possibles\n",
    "\n",
    "## Une implémentation avec des couples en Python\n",
    "\n",
    "Cette première implémentation est basée sur des paires (couples) qui comportent chacune un élément et la suite de la liste, qui elle-même peut être une paire... Elle réutilise le type `tuple` de Python.\n",
    "\n",
    "> On définit ainsi notre structure de données de manière *récursive* pour respecter la philosophie du langage LISP. Nous étudierons cette notion de récursivité plus tard dans l'année."
   ]
  },
  {
   "cell_type": "code",
   "execution_count": 1,
   "metadata": {},
   "outputs": [],
   "source": [
    "def listevide():\n",
    "    return None  # on utilise None pour une liste vide\n",
    "\n",
    "def construit(e, L):\n",
    "    return (e, L) # renvoie un tuple de deux éléments\n",
    "\n",
    "def premier(L):\n",
    "    return L[0] # accès au premier élément du couple (la tête de L)\n",
    "\n",
    "def reste(L):\n",
    "    return L[1] # accès au deuxième élément du couple (la queue de L)\n",
    "\n",
    "def estvide(L):\n",
    "    return L is None  # L est égal à None ?"
   ]
  },
  {
   "cell_type": "markdown",
   "metadata": {},
   "source": [
    "On peut alors tester les instructions précédentes et en affichant le contenu de `maliste1`, on se rend compte de l'implémentation choisie avec des paires imbriquées."
   ]
  },
  {
   "cell_type": "code",
   "execution_count": 2,
   "metadata": {},
   "outputs": [
    {
     "data": {
      "text/plain": [
       "(5, (3, (8, None)))"
      ]
     },
     "execution_count": 2,
     "metadata": {},
     "output_type": "execute_result"
    }
   ],
   "source": [
    "maliste1 = construit(5, construit(3, construit(8, listevide())))\n",
    "maliste1"
   ]
  },
  {
   "cell_type": "markdown",
   "metadata": {},
   "source": [
    "On a donc logiquement :"
   ]
  },
  {
   "cell_type": "code",
   "execution_count": 3,
   "metadata": {},
   "outputs": [
    {
     "data": {
      "text/plain": [
       "5"
      ]
     },
     "execution_count": 3,
     "metadata": {},
     "output_type": "execute_result"
    }
   ],
   "source": [
    "premier(maliste1)"
   ]
  },
  {
   "cell_type": "code",
   "execution_count": 4,
   "metadata": {},
   "outputs": [
    {
     "data": {
      "text/plain": [
       "(3, (8, None))"
      ]
     },
     "execution_count": 4,
     "metadata": {},
     "output_type": "execute_result"
    }
   ],
   "source": [
    "reste(maliste1)"
   ]
  },
  {
   "cell_type": "markdown",
   "metadata": {},
   "source": [
    "> Avec cette implémentation, il est intéressant de noter que la contruction de `maliste1` avec l'instruction\n",
    ">```python\n",
    ">construit(5, construit(3, construit(8, listevide())))\n",
    ">```\n",
    "nécessite la construction 3 paires intermédiaires qui sont construites de la plus imbriquée (liste vide) à la moins imbriquée. On peut visualiser facilement cela avec Python tutor [ici](http://www.pythontutor.com/visualize.html#code=def%20listevide%20%28%29%3A%0A%20%20%20%20return%20None%20%20%23%20on%20utilise%20None%20pour%20une%20liste%20vide%0A%0Adef%20construit%28e,L%29%3A%0A%20%20%20%20return%20%28e,L%29%20%23%20renvoie%20un%20tuple%20de%20deux%20%C3%A9l%C3%A9ments%0A%0Adef%20premier%28L%29%3A%0A%20%20%20%20return%20L%5B0%5D%20%23%20acc%C3%A8s%20au%20premier%20%C3%A9l%C3%A9ment%20du%20couple%20%28la%20t%C3%AAte%20de%20L%29%0A%0Adef%20reste%28L%29%3A%0A%20%20%20%20return%20L%5B1%5D%20%23%20acc%C3%A8s%20au%20deuxi%C3%A8me%20%C3%A9l%C3%A9ment%20du%20couple%20%28la%20queue%20de%20L%29%0A%0Adef%20estvide%28L%29%3A%0A%20%20%20%20return%20L%20%3D%3D%20None%0A%20%20%20%20%0Amaliste1%20%3D%20construit%285,%20construit%283,%20construit%288,%20listevide%28%29%29%29%29&cumulative=true&curInstr=0&heapPrimitives=nevernest&mode=display&origin=opt-frontend.js&py=3&rawInputLstJSON=%5B%5D&textReferences=false).\n",
    "\n",
    "Comme dit précédemment, on peut construire les autres opérations sur les listes à partir des cinq opérations définies plus haut.\n",
    "\n",
    "Par exemple, pour obtenir le dernier élément d'une liste, on peut implémenter l'opération `dernier(L)` à partir des autres :"
   ]
  },
  {
   "cell_type": "code",
   "execution_count": 5,
   "metadata": {},
   "outputs": [],
   "source": [
    "def dernier(L):\n",
    "    \"\"\"\n",
    "    Liste --> Element\n",
    "    Précondition : L n'est pas vide.\n",
    "    \"\"\"\n",
    "    while reste(L) != listevide(): # tant que le reste de la liste n'est pas vide\n",
    "        L = reste(L) # on passe au reste\n",
    "    return premier(L) # on renvoie le premier élément de la dernière paire"
   ]
  },
  {
   "cell_type": "markdown",
   "metadata": {},
   "source": [
    "En partant de la liste `L`, il suffit de passer au reste jusqu'à ce que le reste soit la liste vide. On sait alors que l'on est arrivé à la dernière paire et il suffit de renvoyer le premier élément de cette dernière paire.\n",
    "\n",
    "En appelant la fonction sur `maliste1` on peut vérifier qu'elle renvoie bien 8."
   ]
  },
  {
   "cell_type": "code",
   "execution_count": 6,
   "metadata": {},
   "outputs": [
    {
     "data": {
      "text/plain": [
       "8"
      ]
     },
     "execution_count": 6,
     "metadata": {},
     "output_type": "execute_result"
    }
   ],
   "source": [
    "maliste1 = construit(5, construit(3, construit(8, listevide())))\n",
    "dernier(maliste1)"
   ]
  },
  {
   "cell_type": "markdown",
   "metadata": {},
   "source": [
    "> **A faire** : Activités 1 et 2"
   ]
  },
  {
   "cell_type": "markdown",
   "metadata": {},
   "source": [
    "## Une implémentation avec le type `list` de Python\n",
    "\n",
    "Il est possible d'implémenter les 5 opérations définissant le type abstrait `Liste` en utilisant le type prédéfini `list` de Python. Les fonctions sont très ressemblantes à celles utilisant les couples.  Cela fait l'objet des activités 3 et 4 qui proposent deux implémentations différentes : la première avec copie des listes intermédiaires (comme l'implémentation avec les couples) et la seconde avec modification de la liste en place.\n",
    "\n",
    "> **A faire** : Activités 3 et 4"
   ]
  },
  {
   "cell_type": "markdown",
   "metadata": {},
   "source": [
    "# Les listes en pratique\n",
    "\n",
    "## Créer des nouvelles listes ou les modifier en place ?\n",
    "\n",
    "Dans certaines implémentations, les opérations créent des nouvelles listes par copie des listes passées en paramètre (la liste passée en paramètre n'est donc pas modifiée) et dans d'autres, les listes sont modifiées *en place* par les opérations (c'est la liste passée en paramètre qui est modifiée).\n",
    "\n",
    "Sans entrer dans les détails des avantages et inconvénients de chaque méthode, il est important d'en tenir compte pour que l'interface et l'implémentation soient cohérentes.\n",
    "\n",
    "Le fait que les modifications s'effectuent en place sur une liste ou non, doit être spécifié dans l'interface du type abstrait `Liste` car cela a un impact sur la façon de l'implémenter. De plus, il faut essayer d'être cohérent dans le nommage des opérations : si l'opération `construit(e, L)` définie au départ sous-entend qu'une nouvelle liste est *construite* par l'appel à cette fonction, le verbe *csontruire* n'est pas adapté à des modification en place de la liste passée en paramètre, on lui préférera par exemple le nom `ajouter_en_tete(e, L)` pour davantage de clarté.\n",
    "\n",
    "> Ceci a été abordé dans les activités 3 et 4."
   ]
  },
  {
   "cell_type": "markdown",
   "metadata": {},
   "source": [
    "## Des interfaces plus complètes\n",
    "\n",
    "Il n'est pas rare de définir le type abstrait `Liste` par un jeu d'opérations différent et surtout plus complet. Par exemple, avec l'interface proposée au début, si l'utilisateur souhaite insérer un élément dans la liste, il doit programmer lui-même l'opération `inserer` à partir des 5 opérations de base.  C'est pourquoi certaines interfaces contiennent des opérations plus avancées, afin de faciliter le travail de l'utilisateur.\n",
    "\n",
    "### Exemple\n",
    "\n",
    "L'interface suivante, qui spécifie aussi 5 opérations, permet également de définir le type abstrait `Liste` :\n",
    "- `listevide()` : pour construire une liste vide.\n",
    "- `taille(L)` : renvoie le nombre d'éléments de la liste `L`.\n",
    "- `lire(L, i)` : renvoie l'élément en position `i` dans `L`. *Précondition : `i` est dans 0..taille(L)-1*.\n",
    "- `inserer(L, e, i)` : insère l'élément `e` dans `L` en position `i` en incrémentant la position de tous les éléments à partir de `i`. *Précondition : i est dans 0 taille(L)*.\n",
    "- `supprimer(L, i)` : supprime l'élément en position `i`  dans `L`, en décrémentant la position des tous les éléments à partir de `i` + 1.\n",
    "\n",
    "Avec ces 5 opérations on peut également construire toutes les autres sur les listes. Cette interface ne change pas la nature du type abstrait `Liste` mais modifie la façon d'écrire des algorithmes l'utilisant : par exemple, \n",
    "- pour accéder au premier élément, on ne va plus écrire `premier(L)` mais `lire(L, 0)`,\n",
    "- pour accéder au dernier élément, on n'écrira plus `dernier(L)` mais `lire(L, taille(L)-1)`, \n",
    "- etc.\n",
    "\n",
    "> **Remarque** : les termes utilisés pour spécifier les opérations sont importants : ici, il faut bien comprendre que les modifications (d'insertion, suppression) se font *en place* : c'est la liste `L` elle-même qui est modifiée."
   ]
  },
  {
   "cell_type": "markdown",
   "metadata": {},
   "source": [
    "## Les deux implémentations classiques\n",
    "\n",
    "En pratique, il y a classiquement deux manières pour implémenter efficacement des listes : \n",
    "\n",
    "- à l’aide de tableaux (dynamiques) ou \n",
    "- à l’aide de listes chaînées\n",
    "\n",
    "Chacune des deux implémentations rend plus ou moins efficaces (au sens de *coûteuses*) certaines des opérations.\n",
    "\n",
    "### Tableaux (dynamiques)\n",
    "\n",
    "Un tableau est une suite contiguë de cases mémoires (les adresses mémoires se suivent).\n",
    "\n",
    "<img class=\"centre image-responsive\" src=\"data/tableau.png\" alt=\"un tableau\">\n",
    "\n",
    "Dans le cas d'une implémentation par un tableau dynamique, les éléments de la liste sont stockées dans ces cases mémoires contuguës. Comme un tableau possède une taille fixe, leur utilisation ne permet d'implémenter que des listes dont la taille maximale est définie à l'avance.\n",
    "\n",
    "<img class=\"centre image-responsive\" src=\"data/liste_tableau.png\" alt=\"une liste\">\n",
    "\n",
    "Pour pallier à cette limitation, il existe ce qu'on appelle des **tableaux dynamiques** qui sont des tableaux dont la taille peut varier en fonction des besoins. Une taille est définie au départ, et si le nombre d'éléments de la liste vient à dépasser celle-ci, il faut alors créer un tableau plus grand (le double en général) et y recopier tous les éléments du premier ainsi que la donnée supplémentaire au bon endroit.\n",
    "\n",
    "> Le type `list` de Python correspond en fait à un tableau dynamique dans la majorité des implémentations Python. Malgré ce nom ambiguë, il s'agit donc d'un type abstrait beaucoup plus complet que le type `Liste`.\n",
    "\n",
    "\n",
    "**Coût de quelques opérations**\n",
    "\n",
    "Si une liste `L` (de $n$ éléments) est implémentée par un tableau, pour insérer un nouvel élément `e` en position `i` (opération `inserer(L, e, i)`) il faut commencer par déplacer tous les éléments à partir de `i` d'une case vers la droite. Cette opération est coûteuse car dans le *pire cas* (insertion en tête) il faut déplacer les $n$ éléments de `L` d'un \"cran\" vers la droite : le coût est proportionnel à $n$, on parle de complexité $O(n)$.\n",
    "\n",
    "<img class=\"centre image-responsive\" src=\"data/liste_tableau_insertion.png\" alt=\"insertion\">\n",
    "\n",
    "En revanche, l'accès à un élément en position `i` (opération `lire(L, i)`) se fait de manière directe donc est peu coûteuse : elle se fait en temps constant ($O(1)$) car on accède à la case mémoire du tableau contenant l'élément en position `i` en ajoutant la valeur $i$ à l'adresse mémoire de la première case (cela revient à faire une simple addition).\n",
    "\n",
    "### Listes chaînées\n",
    "\n",
    "L'autre manière classique d'implémenter des listes est d'utiliser ce qu'on appelle des **listes chaînées**. A la différence d'un tableau, il s'agit d'une représentation *non contiguë*. En effet, on utilise alors des *maillons* comportant chacun un élément et une référence au suivant (l'adresse mémoire du suivant), ces maillons pouvant être éloignés les uns des autres en mémoire. Le dernier maillon contient le dernier élément et une référence `None` vers le suivant puisqu'il n'y a pas.\n",
    "\n",
    "<img class=\"centre image-responsive\" src=\"data/liste_chainee.png\" alt=\"liste chainée\">\n",
    "\n",
    "> Il s'agit d'une implémentation récursive d'une liste, qui se rapproche de celle avec des couples.\n",
    "\n",
    "**Coût de quelques opérations**\n",
    "\n",
    "Si une liste `L` est implémentée par une liste chaînée, l'opération `inserer(L, e, i)` (et l'opération `supprimer(L, i)`) est beaucoup moins coûteuse quand l'insertion (la suppression) est proche du début de la liste : il faut atteindre la position `i` puis insérer un nouveau maillon en jouant sur les références au suivant.\n",
    "\n",
    "<img class=\"centre image-responsive\" src=\"data/liste_chainee_insertion.png\" alt=\"insertion liste chainée\">\n",
    "\n",
    "En revanche, comme la structure est récursive, pour accéder à un élément en position `i`, il faut parcourir la chaîne de maillon en maillon en commençant par le premier. L'opération `lire(L, i)` est donc coûteuse puisque dans le pire cas (accès au dernier élément), il faut parcourir les $n$ maillons de la liste de proche en proche : la complexité est donc $O(n)$.\n",
    "\n",
    "> **Moralité** : l'implémentation choisie entraîne des coûts différents pour les opérations sur la structure. Le choix est donc à faire selon le contexte et les besoins algorithmiques. \n"
   ]
  },
  {
   "cell_type": "markdown",
   "metadata": {},
   "source": [
    "# Bilan\n",
    "\n",
    "- Nous avons que la structure de données *liste* permet de regrouper des éléments de manière ordonnée puisque chacun d'eux est repéré par sa position dans la liste.\n",
    "- Il est possible de définir le type abstrait `Liste` en spécifiant son interface avec 5 *opérations primitives* qui permettent de reconstruire toutes les autres. Pour faciliter le travail des utilisateurs, on rencontre souvent des interfaces avec davantage d'opérations pour ne pas avoir besoin de les écrire soi-même.\n",
    "- Les implémentations sont nombreuses et permettent selon les cas, de créer des listes *non mutables* ou *mutables*. Pour des raisons de coût mémoire, les implémentations les plus classiques permettent de créer des listes *mutables* permettant des transformations *en place* de celles-ci. \n",
    "- Selon l'implémentation choisie, les opérations peuvent avoir des différences importantes en terme de complexité algorithmique des opérations. Il faut donc tenir compte du contexte pour privilégier ou limiter l'usage d'une implémentation.\n",
    "- Nous aurons l'occasion de reparler des listes à d'autres moments au cours de l'année. "
   ]
  },
  {
   "cell_type": "markdown",
   "metadata": {},
   "source": [
    "---\n",
    "\n",
    "**Références :**\n",
    "- Documents ressources de l'équipe éducative du DIU EIL, Université de Nantes, Christophe JERMANN et Christophe DECLERCQ.\n",
    "- Document de Frédéric Mouton sur l'implémentation du type `list` de Python et les complexités des opérations : [ici](http://mathemouton.free.fr/Info/Cours/C00-Listes.pdf).\n",
    "- Cours de David Roche pour les illustrations : [ici](https://pixees.fr/informatiquelycee/n_site/nsi_term_structDo_liste.html).\n",
    "\n",
    "---\n",
    "Germain BECKER, Lycée Mounier, ANGERS\n",
    "\n",
    "Ressource éducative libre distribuée sous [Licence Creative Commons Attribution - Pas d’Utilisation Commerciale - Partage dans les Mêmes Conditions 4.0 International](http://creativecommons.org/licenses/by-nc-sa/4.0/) \n",
    "\n",
    "![Licence Creative Commons](https://i.creativecommons.org/l/by-nc-sa/4.0/88x31.png)"
   ]
  }
 ],
 "metadata": {
  "kernelspec": {
   "display_name": "Python 3",
   "language": "python",
   "name": "python3"
  },
  "language_info": {
   "codemirror_mode": {
    "name": "ipython",
    "version": 3
   },
   "file_extension": ".py",
   "mimetype": "text/x-python",
   "name": "python",
   "nbconvert_exporter": "python",
   "pygments_lexer": "ipython3",
   "version": "3.7.10"
  }
 },
 "nbformat": 4,
 "nbformat_minor": 2
}
