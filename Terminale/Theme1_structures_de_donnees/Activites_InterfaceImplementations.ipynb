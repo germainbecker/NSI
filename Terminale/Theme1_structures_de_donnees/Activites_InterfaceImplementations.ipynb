{
 "cells": [
  {
   "cell_type": "markdown",
   "metadata": {},
   "source": [
    "# Activité 1 - Comprendre et utiliser une interface\n",
    "\n",
    "<img src=\"data/points.svg\" alt=\"illustration points\" width=\"300\">\n",
    "\n",
    "On dispose d'une structure de données appelée `Point` permettant de représenter des points à afficher dans un programme de dessin. Chaque point a une abscisse et une ordonnée et le repère est orthonormé. Voici les **opérations** que l'on souhaite effectuer sur le type abstrait `Point` :\n",
    "\n",
    "- Créer un point\n",
    "- Accéder à son abscisse et à son ordonnée\n",
    "- Modifier les coordonnées d'un point\n",
    "- Déterminer le milieu d'un segment\n",
    "- Calculer la longueur d'un segment\n",
    "- Translater un point\n",
    "- Vérifier si deux points sont égaux\n",
    "- Afficher un point sous forme d'une chaîne de caractères\n",
    "\n",
    "Voici la spécification (incomplète) des opérations sur cette structure de données :\n",
    "\n",
    "- `Point(x, y)` : crée un élément de type `Point` à partir de deux flottants `x` (abscisse) et `y` (ordonnée).\n",
    "- `abscisse(p)` : accès à l'abscisse du point `p` (renvoie un flottant).\n",
    "- `modifier(p, x, y)` : modifie les coordonnées d'un point `p` déjà créé en les remplaçant par `x` (nouvelle abscisse) et `y` (nouvelle ordonnée).\n",
    "- `milieu(p1, p2)` : renvoie un nouveau point correspondant au milieu du segment d'extrémités `p1` et `p2`.\n",
    "- `longueur(p1, p2)` : renvoie la longueur du segment d'extrémités `p1` et `p2`.\n",
    "- `translater(p, dx, dy)` : modifie les coordonnées d'un point `p` déjà créé pour qu'elles correspondent à la translation du vecteur de coordonnées (`dx`, `dy`).\n",
    "- `egal(p1, p2)` : renvoie Vrai si les deux points `p1` et `p2` sont égaux, Faux sinon."
   ]
  },
  {
   "cell_type": "markdown",
   "metadata": {},
   "source": [
    "1. Complétez l'interface de manière à spécifier les opérations manquantes.\n",
    "2. Quelle instruction permet de créer le point $M(-3, 1)$ ?\n",
    "3. Après avoir exécuté le programme suivant, quelle est la valeur renvoyée par `egal(C, D)` ?\n",
    "\n",
    "```python\n",
    "A = Point(1, 2)\n",
    "B = Point(-3, 5)\n",
    "C = Point(3, 1)\n",
    "D = Point(-abscisse(B), abscisse(A))\n",
    "```\n",
    "\n",
    "4. Quelle est la valeur renvoyée par `longueur(A, B)` ?\n",
    "5. On souhaite créer le point $I$ milieu du segment $[AC]$ puis lui appliquer une translation de vecteur $(3, -2)$ et enfin afficher ses coordonnées. Ecrivez les instructions nécessaires. Quelle chaîne de caractères doit s'afficher à l'écran ?"
   ]
  },
  {
   "cell_type": "markdown",
   "metadata": {},
   "source": [
    "# Activité 2 : La structure de données `Temps`\n",
    "\n",
    "<img src=\"data/chronometre.svg\" alt=\"illustration chronometre\" width=\"300\">\n",
    "\n",
    "On dispose d'une structure de données appelée `Temps` permettant de stocker des temps (données en heures, minutes, secondes). Voici les opérations que l'on souhaite effectuer sur le type abstrait `Temps` :\n",
    "\n",
    "- Créer un temps\n",
    "- Accéder aux heures, minutes, secondes d'un temps\n",
    "- Ajouter, soustraire deux temps\n",
    "- Vérifier si deux temps sont égaux ou non\n",
    "- Afficher un temps sous forme d'une chaîne de caractères\n",
    "\n",
    "\n",
    "## Partie A : Interface\n",
    "\n",
    "On peut spécifier les opérations de cette structure de données en proposant l'**interface** suivante :\n",
    "\n",
    "- `Temps(h, m, s)` : crée un élément de type `Temps` à partir de trois entiers `h` (heures), `m` (minutes) et `s` (secondes). \n",
    "- `heures(t)` : accès aux heures du temps `t` (renvoie un entier).\n",
    "- `minutes(t)` : accès aux minutes du temps `t` (renvoie un entier).\n",
    "- `secondes(t)` : accès aux secondes du temps `t` (renvoie un entier).\n",
    "- `ajouter(t1, t2)` : renvoie un nouveau temps correspondant à la somme des temps `t1` et `t2`.\n",
    "- `soustraire(t1, t2)` : renvoie un nouveau temps correspondant à la différence de `t1` et `t2` (`t1`-`t2`).\n",
    "- `egal(t1, t2)` : renvoie Vrai si les deux temps `t1` et `t2` sont égaux, Faux sinon.\n",
    "\n",
    "On complète ces opérations par une dernière permettant d'afficher un `Temps` sous forme d'une chaîne de caractères : \n",
    "- `afficher(t)` : affiche le temps `t` sous forme d'une chaîne de caractères `h:m:s`.\n",
    "\n",
    "> Par abus de notation, on a aussi noté `Temps` l'opération de construction du type abstrait `Temps`.\n",
    "\n",
    "\n"
   ]
  },
  {
   "cell_type": "markdown",
   "metadata": {},
   "source": [
    "**Question 1**: On crée deux temps. \n",
    "\n",
    "```python\n",
    "t1 = Temps(2, 18, 3)\n",
    "t2 = Temps(1, 50, 12)\n",
    "```\n",
    "Quelles sont les valeurs des instructions `heures(t1)`, `minutes(t2)` et `secondes(t1) + secondes(t2)` ?"
   ]
  },
  {
   "cell_type": "markdown",
   "metadata": {},
   "source": [
    "*Réponse* : \n"
   ]
  },
  {
   "cell_type": "markdown",
   "metadata": {},
   "source": [
    "**Question 2** : \n",
    "\n",
    "1. Quelle instruction faut-il écrire pour créer un nouveau temps `t` qui est la somme des temps `t1` et `t2` ? \n",
    "2. Que vaut alors le temps `t` ? \n",
    "3. Qu'affiche alors l'instruction `afficher(t)` ?"
   ]
  },
  {
   "cell_type": "markdown",
   "metadata": {},
   "source": [
    "*Réponses* :\n"
   ]
  },
  {
   "cell_type": "markdown",
   "metadata": {},
   "source": [
    "**Question 3** : Quelle est la valeur renvoyée par l'instruction suivante ?\n",
    "\n",
    "```python\n",
    "egal(t, Temps(4, 8, 15))\n",
    "```"
   ]
  },
  {
   "cell_type": "markdown",
   "metadata": {},
   "source": [
    "*Réponse* :"
   ]
  },
  {
   "cell_type": "markdown",
   "metadata": {},
   "source": [
    "**Question 4** : Lors d'une course de relais par équipe, les trois membres d'une équipe ont mis respectivement les temps suivants pour boucler leurs relais respectifs :\n",
    "- 0 h 51 min 14 sec\n",
    "- 1 h 02 min 53 sec\n",
    "- 0 h 56 min 31 sec\n",
    "\n",
    "Quelles instructions permettent d'afficher le temps total mis par l'équipe pour terminer la course ?"
   ]
  },
  {
   "cell_type": "markdown",
   "metadata": {},
   "source": [
    "*Réponse* :\n"
   ]
  },
  {
   "cell_type": "markdown",
   "metadata": {},
   "source": [
    "**Question 5** : Le dernier relayeur est arrivé précisément à 18 heures 15 minutes et 3 secondes. Quelles instructions permettent d'afficher l'heure de départ du premier relayeur ?"
   ]
  },
  {
   "cell_type": "markdown",
   "metadata": {},
   "source": [
    "*Réponse* :\n"
   ]
  },
  {
   "cell_type": "markdown",
   "metadata": {},
   "source": [
    "## Partie B : Faire abstraction de l'implémentation choisie\n",
    "\n",
    "Dans ce paragraphe, différentes implémentations de cette structure de données abstraite `Temps` sont proposées et *volontairement cachées*. L'objectif de cette partie est d'exécuter les instructions de la partie A avec les différentes implémentations proposées.\n",
    "\n",
    "### Première implémentation\n",
    "\n",
    "Exécutez la cellule suivante pour importer toutes les opérations programmées dans la première implémentation."
   ]
  },
  {
   "cell_type": "code",
   "execution_count": null,
   "metadata": {},
   "outputs": [],
   "source": [
    "from implementation1 import *"
   ]
  },
  {
   "cell_type": "markdown",
   "metadata": {},
   "source": [
    "**Question 6** : Complétez le code qui suit, éventuellement sur plusieurs cellules, pour écrire les instructions de la partie A (vérifiez également vos réponses)."
   ]
  },
  {
   "cell_type": "code",
   "execution_count": null,
   "metadata": {},
   "outputs": [],
   "source": [
    "t1 = Temps(2, 18, 3)\n",
    "t2 = Temps(1, 50, 12)\n",
    "\n",
    "# Question A1 :\n"
   ]
  },
  {
   "cell_type": "code",
   "execution_count": null,
   "metadata": {},
   "outputs": [],
   "source": [
    "# Question A2 :\n"
   ]
  },
  {
   "cell_type": "code",
   "execution_count": null,
   "metadata": {},
   "outputs": [],
   "source": [
    "# Question A3 :\n"
   ]
  },
  {
   "cell_type": "code",
   "execution_count": null,
   "metadata": {},
   "outputs": [],
   "source": [
    "# Question A4 :\n"
   ]
  },
  {
   "cell_type": "code",
   "execution_count": null,
   "metadata": {},
   "outputs": [],
   "source": [
    "# Question A5 :\n"
   ]
  },
  {
   "cell_type": "markdown",
   "metadata": {},
   "source": [
    "### Deuxième implémentation\n",
    "\n",
    "Exécutez la cellule suivante pour importer toutes les opérations programmées dans la deuxième implémentation."
   ]
  },
  {
   "cell_type": "code",
   "execution_count": null,
   "metadata": {},
   "outputs": [],
   "source": [
    "from implementation2 import *"
   ]
  },
  {
   "cell_type": "markdown",
   "metadata": {},
   "source": [
    "**Question 6** : Recopiez et exécutez ci-dessous les instructions des questions de la partie A."
   ]
  },
  {
   "cell_type": "code",
   "execution_count": null,
   "metadata": {},
   "outputs": [],
   "source": [
    "t1 = Temps(2, 18, 3)\n",
    "t2 = Temps(1, 50, 12)\n",
    "\n",
    "# Question A1 :"
   ]
  },
  {
   "cell_type": "code",
   "execution_count": null,
   "metadata": {},
   "outputs": [],
   "source": [
    "# Question A2 :"
   ]
  },
  {
   "cell_type": "code",
   "execution_count": null,
   "metadata": {},
   "outputs": [],
   "source": [
    "# Question A3 :"
   ]
  },
  {
   "cell_type": "code",
   "execution_count": null,
   "metadata": {},
   "outputs": [],
   "source": [
    "# Question A4 :"
   ]
  },
  {
   "cell_type": "code",
   "execution_count": null,
   "metadata": {},
   "outputs": [],
   "source": [
    "# Question A5 :"
   ]
  },
  {
   "cell_type": "markdown",
   "metadata": {},
   "source": [
    "**Question 7** : Constatez-vous des différences avec la première implémentation ? "
   ]
  },
  {
   "cell_type": "markdown",
   "metadata": {},
   "source": [
    "*Réponse* :"
   ]
  },
  {
   "cell_type": "markdown",
   "metadata": {},
   "source": [
    "### Troisième implémentation\n",
    "\n",
    "Exécutez la cellule suivante pour importer toutes les opérations programmées dans la deuxième implémentation."
   ]
  },
  {
   "cell_type": "code",
   "execution_count": null,
   "metadata": {},
   "outputs": [],
   "source": [
    "from implementation3 import *"
   ]
  },
  {
   "cell_type": "markdown",
   "metadata": {},
   "source": [
    "**Question 8** : Recopiez et exécutez ci-dessous les instructions des questions de la partie A."
   ]
  },
  {
   "cell_type": "code",
   "execution_count": null,
   "metadata": {},
   "outputs": [],
   "source": [
    "t1 = Temps(2, 18, 3)\n",
    "t2 = Temps(1, 50, 12)\n",
    "\n",
    "# Question A1 :"
   ]
  },
  {
   "cell_type": "code",
   "execution_count": null,
   "metadata": {},
   "outputs": [],
   "source": [
    "# Question A2 :"
   ]
  },
  {
   "cell_type": "code",
   "execution_count": null,
   "metadata": {},
   "outputs": [],
   "source": [
    "# Question A3 :"
   ]
  },
  {
   "cell_type": "code",
   "execution_count": null,
   "metadata": {},
   "outputs": [],
   "source": [
    "# Question A4 :"
   ]
  },
  {
   "cell_type": "code",
   "execution_count": null,
   "metadata": {},
   "outputs": [],
   "source": [
    "# Question A5 :"
   ]
  },
  {
   "cell_type": "markdown",
   "metadata": {},
   "source": [
    "**Question 9** : Constatez-vous des différences avec les autres implémentations ? "
   ]
  },
  {
   "cell_type": "markdown",
   "metadata": {},
   "source": [
    "*Réponse* :"
   ]
  },
  {
   "cell_type": "markdown",
   "metadata": {},
   "source": [
    "## Partie C - Comparaison des implémentations\n",
    "\n",
    "Les trois implémentations utilisées sont programmées dans les fichiers intitulés `implementation1.py`, `implementation2.py` et `implementation3.py`.\n",
    "\n",
    "**Question 10** : Ouvrez ces trois fichiers pour en visualiser le contenu. (Si vous utilisez le notebook en ligne via *mybinder*, cliquez sur `File` puis `Open...` pour voir l'arborescence des fichiers. Vous n'avez plus qu'à cliquer sur les noms des fichiers pour les ouvrir).\n",
    "\n",
    "1. Repérez dans chaque implémentation, la structure de données existante utilisée.\n",
    "2. Une des trois implémentations utilise une façon différente de calculer la somme et la différence de deux temps. Laquelle ? Expliquez la façon de procéder.\n",
    "3. L'implémentation utilisée a-t-elle eu de l'importance dans l'utilisation de la structure de données (partie B) ?"
   ]
  },
  {
   "cell_type": "markdown",
   "metadata": {},
   "source": [
    "*Réponses* :\n"
   ]
  },
  {
   "cell_type": "markdown",
   "metadata": {},
   "source": [
    "> **Pour les plus curieux** : deux autres implémentations sont également disponibles et utilisent deux autres paradigmes (manière de voir) de programmation que nous étudierons en cours d'année : le paradigme *fonctionnel* (numéro 4) et le paradigme *objet* (numéro 5). Vous pouvez vérifier qu'elles n'ont pas d'influence sur la façon d'utiliser la structure de données."
   ]
  },
  {
   "cell_type": "markdown",
   "metadata": {},
   "source": [
    "# Activité 3 - Implémenter une structure de données abstraite\n",
    "\n",
    "L'objectif est d'écrire deux implémentations de la structure de données `Point` définie dans l'activité 1. On utilisera un dictionnaire dans la première et un tableau dans la seconde.\n",
    "\n",
    "## Implémentation avec un dictionnaire\n",
    "\n",
    "On choisit ici d'utiliser un dictionnaire pour représenter le type de données abstrait `Point`.\n",
    "\n",
    "**Question 1** : Complétez l'implémentation qui suit pour programmer toutes les opérations définies sur la structure de données `Point`. *Vous préciserez dans la docstring des différentes fonctions, les types des arguments et des éventuelles valeurs renvoyées.*\n",
    "\n",
    "> N'hésitez pas à prendre exemple sur la troisième implémentation du type `Temps` de l'activité 2."
   ]
  },
  {
   "cell_type": "code",
   "execution_count": null,
   "metadata": {},
   "outputs": [],
   "source": [
    "# IMPLEMENTATION AVEC UN DICTIONNAIRE\n",
    "\n",
    "def Point(x, y):\n",
    "    \"\"\"Flottant x Flottant --> Point\"\"\"\n",
    "    return {\"abs\": x, \"ord\": y}\n",
    "\n",
    "def abscisse(p):\n",
    "    \"\"\"Point --> float\"\"\"\n",
    "    # à compléter\n",
    "    \n",
    "\n",
    "def ordonnee(p):\n",
    "    # à compléter\n",
    "    \n",
    "\n",
    "def modifier(p, x, y):\n",
    "    \"\"\"Point x Flottant x Flottant --> Rien\"\"\"\n",
    "    p[\"abs\"] = x\n",
    "    p[\"ord\"] = y\n",
    "    \n",
    "def milieu(p1, p2):\n",
    "    # à compléter\n",
    "    \n",
    "\n",
    "def longueur(p1, p2):\n",
    "    \"\"\"Point x Point --> Flottant\"\"\"\n",
    "    from math import sqrt\n",
    "    return sqrt((abscisse(p2)-abscisse(p1))**2 + (ordonnee(p2)-ordonnee(p1))**2)\n",
    "\n",
    "def translater(p, dx, dy):\n",
    "    # à compléter\n",
    "    \n",
    "\n",
    "def egal(p1, p2):\n",
    "    # à compléter\n",
    "    \n",
    "\n",
    "def afficher(p):\n",
    "    \"\"\"Point --> Rien\n",
    "    Affiche les coordonnées de p sous forme d'une chaîne de caractères.\"\"\"\n",
    "    print(\"(\" + str(p[\"abs\"]) + \";\" + str(p[\"ord\"]) + \")\")"
   ]
  },
  {
   "cell_type": "markdown",
   "metadata": {},
   "source": [
    "**Question 2** : Vérifiez que l'implémentation est correcte en testant différentes instructions (par exemple, celles de l'activité 1)"
   ]
  },
  {
   "cell_type": "code",
   "execution_count": null,
   "metadata": {},
   "outputs": [],
   "source": [
    "# testez l'implémentation :\n",
    "\n",
    "# Question 3 activité 1:\n"
   ]
  },
  {
   "cell_type": "code",
   "execution_count": null,
   "metadata": {},
   "outputs": [],
   "source": [
    "# Question 4 :"
   ]
  },
  {
   "cell_type": "code",
   "execution_count": null,
   "metadata": {},
   "outputs": [],
   "source": [
    "#Question 5 :"
   ]
  },
  {
   "cell_type": "markdown",
   "metadata": {},
   "source": [
    "## Implémentation avec un tableau\n",
    "\n",
    "Dans cette seconde implémentation, vous allez représenter un point par un tableau de taille 2.\n",
    "\n",
    "**Question 3** : Au regard des opérations sur la structure de données `Point`, expliquez pourquoi il n'était pas possible de représenter les points par des tuples (de taille 2)."
   ]
  },
  {
   "cell_type": "markdown",
   "metadata": {},
   "source": [
    "*Réponse* : Un tuple est un objet qui n'est pas mutable, autrement dit on ne peut modifier ses valeurs. Ainsi, il aurait été impossible d'utiliser un tuple pour programmer les opérations `modifier` et `translater` qui nécessitent de modifier les coordonnées d'un point existant. "
   ]
  },
  {
   "cell_type": "markdown",
   "metadata": {},
   "source": [
    "> **Important** : le programmeur qui implémente une structure de données abstraite doit représenter le type abstrait avec des types *existants* dans le langage et qui sont **compatibles avec l'interface communiquée**. Le choix de la représentation est donc *guidé par l'interface* de la structure de données."
   ]
  },
  {
   "cell_type": "markdown",
   "metadata": {},
   "source": [
    "**Question 4** : Proposez une implémentation de la structure de données abstraite `Point` en utilisant un tableau."
   ]
  },
  {
   "cell_type": "code",
   "execution_count": null,
   "metadata": {},
   "outputs": [],
   "source": [
    "# IMPLEMENTATION AVEC UN TABLEAU\n",
    "\n",
    "# à vous de jouer :-)\n"
   ]
  },
  {
   "cell_type": "markdown",
   "metadata": {},
   "source": [
    "**Question 5** : Vérifiez que l'implémentation est correcte en testant différentes instructions. Comparez les deux implémentations."
   ]
  },
  {
   "cell_type": "code",
   "execution_count": null,
   "metadata": {},
   "outputs": [],
   "source": [
    "# testez l'implémentation :\n",
    "\n",
    "# Question 3 :"
   ]
  },
  {
   "cell_type": "code",
   "execution_count": null,
   "metadata": {},
   "outputs": [],
   "source": [
    "# Question 4 :"
   ]
  },
  {
   "cell_type": "code",
   "execution_count": null,
   "metadata": {},
   "outputs": [],
   "source": [
    "#Question 5 :"
   ]
  },
  {
   "cell_type": "markdown",
   "metadata": {},
   "source": [
    "# Activité 4 - Pour aller plus loin (sur le vocabulaire)\n",
    "\n",
    "Parmi les opérations sur un type de données abstrait, on distingue usuellement :\n",
    "- les **constructeurs**, qui permettent de créer des données,\n",
    "- les **sélecteurs**, qui permettent d'accéder à tout ou partie de l'information contenue dans une donnée,\n",
    "- les **opérateurs**, qui permettent d'opérer entre données du type (opération internes) ou avec d'autres types de données (opérations externes),\n",
    "- les **prédicats**, qui permettent de tester une propriété.\n",
    "\n",
    "**Question** : Reprenez les deux types abstraits `Point` et `Temps` et classez les opérations sur chacun d'eux dans les catégories définies ci-dessus."
   ]
  },
  {
   "cell_type": "markdown",
   "metadata": {},
   "source": [
    "---\n",
    "\n",
    "**Références :**\n",
    "- Documents ressources de l'équipe éducative du DIU EIL, Université de Nantes, Christophe DECLERCQ.\n",
    "\n",
    "---\n",
    "Germain BECKER, Lycée Mounier, ANGERS\n",
    "\n",
    "Ressource éducative libre distribuée sous [Licence Creative Commons Attribution - Pas d’Utilisation Commerciale - Partage dans les Mêmes Conditions 4.0 International](http://creativecommons.org/licenses/by-nc-sa/4.0/) \n",
    "\n",
    "![Licence Creative Commons](https://i.creativecommons.org/l/by-nc-sa/4.0/88x31.png)"
   ]
  }
 ],
 "metadata": {
  "kernelspec": {
   "display_name": "Python 3",
   "language": "python",
   "name": "python3"
  },
  "language_info": {
   "codemirror_mode": {
    "name": "ipython",
    "version": 3
   },
   "file_extension": ".py",
   "mimetype": "text/x-python",
   "name": "python",
   "nbconvert_exporter": "python",
   "pygments_lexer": "ipython3",
   "version": "3.7.3"
  }
 },
 "nbformat": 4,
 "nbformat_minor": 2
}
