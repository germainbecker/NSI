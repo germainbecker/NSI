{
 "cells": [
  {
   "cell_type": "markdown",
   "metadata": {},
   "source": [
    "Activités sur les piles et files\n",
    "==="
   ]
  },
  {
   "cell_type": "markdown",
   "metadata": {},
   "source": [
    "# Activité 1 : Manipulation des piles\n",
    "\n",
    "1. On considère la séquence d'instructions suivantes. Indiquez le résultat à chaque étape.\n",
    "    ```\n",
    "    P = construire_pile()\n",
    "    empiler(P, 1)\n",
    "    empiler(P, 2)\n",
    "    empiler(P, 3)\n",
    "    s = sommet(P)\n",
    "    depiler(P)\n",
    "    depiler(P)\n",
    "    empiler(P, s)\n",
    "    ```\n",
    "2. Ecrivez la séquence d'instructions permettant d'obtenir l'évolution suivante pour une pile `P`.\n",
    "\n",
    "| Etat de la pile P | Instructions (*à compléter*)|\n",
    "| ---- | ---- |\n",
    "|$\\text{>]}$ | |\n",
    "|$\\text{>3]}$ | |\n",
    "|$\\text{>1, 3]}$ | |\n",
    "|$\\text{>4, 1, 3]}$ | |\n",
    "|$\\text{>1, 3]}$ | |\n",
    "|$\\text{>3]}$ | |\n",
    "|$\\text{>]}$ | |\n",
    "\n",
    "\n",
    "    \n",
    "\n"
   ]
  },
  {
   "cell_type": "markdown",
   "metadata": {},
   "source": [
    "*Réponse* :"
   ]
  },
  {
   "cell_type": "markdown",
   "metadata": {},
   "source": [
    "# Activité 2 : Première implémentation d'une pile (avec le type `list` de Python)\n",
    "\n",
    "On définit le type abstrait `Pile` par ses opérations :\n",
    "\n",
    "- création de pile vide\n",
    "- `empiler` : ajout au sommet\n",
    "- `depiler` : retrait du sommet\n",
    "- `sommet` : accès (en lecture) au sommet\n",
    "- `taille` : accès au nombre d'éléments\n",
    "\n",
    "L'objectif est d'implémenter ce type abstrait en utilisant le type prédéfini `list` de Python (tableau dynamique = redimensionnable). Les éléments sont ajouter/retirer à la fin pour des raisons d'efficacité. Vous utiliserez le paradigme objet.\n",
    "\n",
    "**Question 1** : Créez une classe `Pile` implémentant ce type abstrait. Les objets de cette classe auront un attribut appelé `contenu` qui est le contenu de la pile stocké un objet `list` de Python. *Indication* : il faudra utiliser les méthodes `append` et `pop` du type `list`."
   ]
  },
  {
   "cell_type": "code",
   "execution_count": null,
   "metadata": {},
   "outputs": [],
   "source": [
    "# à compléter \n"
   ]
  },
  {
   "cell_type": "markdown",
   "metadata": {},
   "source": [
    "**Question 2** : Définissez la méthode spéciale `__repr__` pour afficher le contenu d'une pile comme une `list` Python. \n",
    "\n",
    "**Attention** : la méthode `__repr__` doit renvoyer une chaîne de caractères (conversion avec la fonction `str`)."
   ]
  },
  {
   "cell_type": "code",
   "execution_count": null,
   "metadata": {},
   "outputs": [],
   "source": [
    "# à compléter par la méthode __repr__"
   ]
  },
  {
   "cell_type": "markdown",
   "metadata": {},
   "source": [
    "**Question 3** : Modifiez la méthode `__repr__` pour afficher les piles avec la notation du cours : $\\text{>...]}$. *Attention à l'odre des éléments, dans cette représentation le sommet de la pile est à gauche*."
   ]
  },
  {
   "cell_type": "code",
   "execution_count": null,
   "metadata": {},
   "outputs": [],
   "source": [
    "# modification de la méthode __repr__\n"
   ]
  },
  {
   "cell_type": "markdown",
   "metadata": {},
   "source": [
    "*Exemple* : on souhaite que le code\n",
    "\n",
    "```python\n",
    "P = Pile()\n",
    "print(P)\n",
    "P.empiler('a')\n",
    "print(P)\n",
    "P.empiler('c')\n",
    "print(P)\n",
    "P.empiler('b')\n",
    "print(P)\n",
    "P.depiler()\n",
    "print(P)\n",
    "P.empiler('z')\n",
    "print(P)\n",
    "```\n",
    "\n",
    "produise l'affichage\n",
    "\n",
    "```\n",
    ">]\n",
    ">a]\n",
    ">c,a]\n",
    ">b,c,a]\n",
    ">c,a]\n",
    ">z,c,a]\n",
    "```"
   ]
  },
  {
   "cell_type": "markdown",
   "metadata": {},
   "source": [
    "# Activité 3 : Renverser un objet\n",
    "\n",
    "On souhaite renverser une liste en utilisant une pile. Renverser la liste `[1, 2, 3]` donne une nouvelle liste `[3, 2, 1]`.\n",
    "\n",
    "**Question 1** : Proposez l'algorithme d'une fonction `renverser` permettant de renverser une liste en utilisant une pile."
   ]
  },
  {
   "cell_type": "markdown",
   "metadata": {},
   "source": [
    "*Réponse* :\n"
   ]
  },
  {
   "cell_type": "markdown",
   "metadata": {},
   "source": [
    "**Question 2** : Ecrivez une fonction `renverse(L)` qui permet de renverser une liste `L`."
   ]
  },
  {
   "cell_type": "code",
   "execution_count": null,
   "metadata": {},
   "outputs": [],
   "source": [
    "# à vous de jouer"
   ]
  },
  {
   "cell_type": "markdown",
   "metadata": {},
   "source": [
    "# Activité 4 : Vérifier le bon parenthésage d'une expression\n",
    "\n",
    "Voici deux expressions mal parenthésées : $2(x-1)(4(x+3)$ et $2(x-1))(4(x+3)$\n",
    "\n",
    "En voici une bien parenthésée : $3(x-1)(4(x+3)-2)$.\n",
    "\n",
    "On souhaite écrire une fonction `verif_parenthesage(expression)` qui renvoie Vrai si l'expression passée en argument est bien parenthésée et Faux sinon. On suppose que l'expression est une chaîne de caractères\n",
    "\n",
    "**Spécification** :\n",
    "- Entrée : une chaîne de caractères `expression`\n",
    "- Sortie : un booléen `OK`\n",
    "- Rôle : `OK = Vrai` si et seulement si le parenthésage dans `expression` est correct\n",
    "- Précondition : les caractères à tester sont `(` et `)`.\n",
    "\n",
    "**Idée de l'algorithme** :\n",
    "- On consulte les caractères un à un dans l'ordre de la chaîne\n",
    "- Si on voit une parenthèse ouvrante, il faut attendre pour trouver la fermante correspondante. On peut ajouter cette parenthèse ouvrante à une pile en attendant de trouver la fermante correspondante.\n",
    "- Si on voit une fermante, la **dernière** ouvrante *qui n'a pas encore été associée*, celle au sommet de la pile, doit normalement lui correspondre.\n",
    "\n",
    "**Question 1** : Proposez un jeu de tests de qualité pour cette fonction avec des `assert`."
   ]
  },
  {
   "cell_type": "code",
   "execution_count": null,
   "metadata": {},
   "outputs": [],
   "source": [
    "# jeu de tests à écrire\n"
   ]
  },
  {
   "cell_type": "markdown",
   "metadata": {},
   "source": [
    "**Question 2** : Ecrivez une fonction `verif_parenthesage(expression)` qui convient. *Elle doit passer tous les tests avec succès bien sûr.*"
   ]
  },
  {
   "cell_type": "code",
   "execution_count": null,
   "metadata": {},
   "outputs": [],
   "source": [
    "def verif_parenthesage(expression):\n",
    "    OK = True\n",
    "    P = Pile() # création pile vide\n",
    "    # à compléter\n",
    "\n",
    "    \n",
    "    \n",
    "# jeu de tests à recopier ici"
   ]
  },
  {
   "cell_type": "markdown",
   "metadata": {},
   "source": [
    "# Activité 5 : Deuxième implémentation d'une pile (avec des listes chaînées)\n",
    "\n",
    "Importez la classe `ListeChainee` du module *listechainee.py* qui a été créé dans l'activité sur les listes chaînées puis implémentez une classe `Pile` par une liste chaînée. On rappelle que les opérations d'ajout/retrait pour une liste chaînée sont efficaces au tête de liste."
   ]
  },
  {
   "cell_type": "code",
   "execution_count": null,
   "metadata": {},
   "outputs": [],
   "source": [
    "# à vous de jouer\n"
   ]
  },
  {
   "cell_type": "markdown",
   "metadata": {},
   "source": [
    "# Activité 6 : Manipulation des files\n",
    "\n",
    "1. On considère la séquence d'instructions suivantes. Indiquez le résultat à chaque étape.\n",
    "    ```\n",
    "    F = construire_file()\n",
    "    enfiler(F, 1)\n",
    "    enfiler(F, 2)\n",
    "    enfiler(F, 3)\n",
    "    s = premier(F)\n",
    "    defiler(F)\n",
    "    defiler(F)\n",
    "    enfiler(F, s)\n",
    "    ```\n",
    "2. Ecrivez la séquence d'instructions permettant d'obtenir l'évolution suivante pour une file `F`.\n",
    "\n",
    "| Etat de la file F | Instructions (*à compléter*)|\n",
    "| ---- | ---- |\n",
    "|$\\text{<<}$ | |\n",
    "|$\\text{<3<}$ | |\n",
    "|$\\text{<1, 3<}$ | |\n",
    "|$\\text{<4, 1, 3<}$ | |\n",
    "|$\\text{<1, 3<}$ | |\n",
    "|$\\text{<3<}$ | |\n",
    "|$\\text{<<}$ | |\n",
    "\n",
    "\n",
    "    \n",
    "\n"
   ]
  },
  {
   "cell_type": "markdown",
   "metadata": {},
   "source": [
    "# Activité 7 : Première implémentation d'une file (avec le type `list` de Python)\n",
    "\n",
    "On définit le type abstrait `File` par les opérations :\n",
    "\n",
    "- création d'une file vide\n",
    "- `enfiler` : ajout en queue de file\n",
    "- `defiler` : retrait du premier élement de la file\n",
    "- `premier` : accès (en lecture) au premier élément de la file\n",
    "- `taille` : accès au nombre d'éléments\n",
    "\n",
    "L'objectif est d'implémenter ce type abstrait en utilisant le type prédéfini `list` de Python (tableau dynamique = redimensionnable). \n",
    "\n",
    "On choisira d'enfiler en fin de `list` (efficace) et de défiler en début de `list` (coûteux). On aurait très bien pu faire l'inverse, mais l'une des deux opérations (enfiler ou défiler) ne peut pas être en temps constant avec le type `list`. Pour une évaluation de la complexité des opérations élémentaires de Python voir le site : [Python.org - Time complexity](https://wiki.python.org/moin/TimeComplexity).\n",
    "\n",
    "**Question 1** : Consultez les méthodes disponibles sur [le type list](https://docs.python.org/fr/3/tutorial/datastructures.html#more-on-lists) de Python pour trouver comment retirer un élément en tête de liste (vous devriez savoir comment ajouter en fin de liste !). Quelle est la méthode à utiliser ?"
   ]
  },
  {
   "cell_type": "markdown",
   "metadata": {},
   "source": [
    "*Réponse* :"
   ]
  },
  {
   "cell_type": "markdown",
   "metadata": {},
   "source": [
    "**Question 2** : Ecrivez une classe `File` implémentant les opérations du type abstrait *file* avec les `list` de Python. Vous utiliserez la méthode `__len__` pour renvoyer la longueur d'une file."
   ]
  },
  {
   "cell_type": "code",
   "execution_count": null,
   "metadata": {},
   "outputs": [],
   "source": [
    "# à vous de jouer\n",
    "        "
   ]
  },
  {
   "cell_type": "markdown",
   "metadata": {},
   "source": [
    "**Question 2** : Définissez la méthode spéciale `__repr__` pour afficher le contenu d'une file comme une `list` de Python. \n",
    "\n",
    "**Attention** : la méthode `__repr__` doit renvoyer une chaîne de caractères (conversion avec la fonction `str`)."
   ]
  },
  {
   "cell_type": "code",
   "execution_count": null,
   "metadata": {},
   "outputs": [],
   "source": [
    "# ajout de la méthode __repr__\n"
   ]
  },
  {
   "cell_type": "markdown",
   "metadata": {},
   "source": [
    "*Exemple* : on veut que le code\n",
    "\n",
    "```python\n",
    "F = File()\n",
    "print(F)\n",
    "F.enfiler(1)\n",
    "print(F)\n",
    "F.enfiler(2)\n",
    "print(F)\n",
    "F.enfiler(3)\n",
    "print(F)\n",
    "s = F.premier()\n",
    "print(s)\n",
    "F.defiler()\n",
    "print(F)\n",
    "F.defiler()\n",
    "print(F)\n",
    "F.enfiler(s)\n",
    "print(F)\n",
    "```\n",
    "produise l'affichage\n",
    "```\n",
    "[]\n",
    "[1]\n",
    "[1, 2]\n",
    "[1, 2, 3]\n",
    "1\n",
    "[2, 3]\n",
    "[3]\n",
    "[3, 1]\n",
    "```"
   ]
  },
  {
   "cell_type": "markdown",
   "metadata": {},
   "source": [
    "**Question 4** : Modifiez la méthode `__repr__` pour afficher les files avec la notation du cours : $\\text{<...<}$."
   ]
  },
  {
   "cell_type": "code",
   "execution_count": null,
   "metadata": {},
   "outputs": [],
   "source": [
    "# modification de la méthode __repr__\n"
   ]
  },
  {
   "cell_type": "markdown",
   "metadata": {},
   "source": [
    "*Exemple* : on veut que le code\n",
    "\n",
    "```python\n",
    "F = File()\n",
    "print(F)\n",
    "F.enfiler(1)\n",
    "print(F)\n",
    "F.enfiler(2)\n",
    "print(F)\n",
    "F.enfiler(3)\n",
    "print(F)\n",
    "s = F.premier()\n",
    "print(s)\n",
    "F.defiler()\n",
    "print(F)\n",
    "F.defiler()\n",
    "print(F)\n",
    "F.enfiler(s)\n",
    "print(F)\n",
    "```\n",
    "produise l'affichage\n",
    "```\n",
    "<<\n",
    "<1<\n",
    "<1,2<\n",
    "<1,2,3<\n",
    "1\n",
    "<2,3<\n",
    "<3<\n",
    "<3,1<\n",
    "```"
   ]
  },
  {
   "cell_type": "markdown",
   "metadata": {},
   "source": [
    "# Activité 8 : Suppression d'une tâche d'impression\n",
    "\n",
    "Les tâches d'impression sont gérées par une file : \n",
    "- chaque nouvelle tâche est ajoutée (enfilée) dans la file.\n",
    "- les tâches sont traitées dans l'ordre d'arrivée : première arrivée, première traitée.\n",
    "- dès qu'une tâche est traitée, elle est retirée (défilée) de la file.\n",
    "\n",
    "On souhaite écrire un algorithme permettant de supprimer une tâche d'impression (qui est déjà dans la file).\n",
    "\n",
    "**Décontextualisation** : les tâches d'impression sont repérées par un identifiant qui peut être vu comme un numéro unique : la file d'attente des impressions est une file d'entiers tous distincts.\n",
    "\n",
    "Par exemple, si la file d'attente des tâches d'impression est $\\text{< 3, 17, 5, 10 <}$ et que l'on souhaite annuler la tâche d'impression $\\text{5}$, l'algorithme doit retirer l'entier $\\text{5}$ de la file qui devient alors $\\text{< 3, 17, 10 <}$.\n",
    "\n",
    "**Question 1** : Donnez la **spécification** de la fonction `annuler_impression` permettant d'annuler une tâche d'impression de la file d'attente des impressions."
   ]
  },
  {
   "cell_type": "markdown",
   "metadata": {},
   "source": [
    "*Réponse* :\n"
   ]
  },
  {
   "cell_type": "markdown",
   "metadata": {},
   "source": [
    "**Question 2** : Proposez un **algorithme** pour cette fonction."
   ]
  },
  {
   "cell_type": "markdown",
   "metadata": {},
   "source": [
    "*Réponse* : \n"
   ]
  },
  {
   "cell_type": "markdown",
   "metadata": {},
   "source": [
    "**Question 3** : Programmez cette fonction en Python. *Vous testerez sa correction*."
   ]
  },
  {
   "cell_type": "code",
   "execution_count": null,
   "metadata": {},
   "outputs": [],
   "source": [
    "# à vous de jouer\n"
   ]
  },
  {
   "cell_type": "markdown",
   "metadata": {},
   "source": [
    "# Activité 9 : Deuxième implémentation d'une file (avec deux piles)\n",
    "\n",
    "On veut réaliser une implémentation objet d'une *file* en utilisant deux piles. \n",
    "\n",
    "Vous utiliserez l'implémentation suivante d'une pile pour travailler (celle de l'activité 2)"
   ]
  },
  {
   "cell_type": "code",
   "execution_count": null,
   "metadata": {},
   "outputs": [],
   "source": [
    "class Pile:    \n",
    "    def __init__(self):\n",
    "        self.contenu = []\n",
    "            \n",
    "    def empiler(self, e):\n",
    "        self.contenu.append(e)\n",
    "                    \n",
    "    def depiler(self):\n",
    "        assert self.taille != 0, \"on ne peut pas dépiler une pile vide\"\n",
    "        self.contenu.pop()\n",
    "            \n",
    "    def sommet(self):\n",
    "        assert self.taille != 0, \"une pile vide n'a pas de sommet\"\n",
    "        return self.contenu[-1]\n",
    "    \n",
    "    def taille(self):\n",
    "        return len(self.contenu)\n",
    "    \n",
    "    # pour représenter la Pile\n",
    "    def __repr__(self):\n",
    "        ch = \"\"\n",
    "        for e in self.contenu:\n",
    "            ch = str(e) + \",\" + ch  # ne pas oublier de convertir les éléments en chaine de caractères\n",
    "        ch = ch[:-1] # pour enlever la dernière virgule\n",
    "        ch = \">\" + ch + \"]\"\n",
    "        return ch"
   ]
  },
  {
   "cell_type": "markdown",
   "metadata": {},
   "source": [
    "Pour simplifier, l'opération `defiler` renverra également le premier élément (en plus de le retirer de la file). L'opération `premier` n'est alors plus nécessaire. Vous devez donc implémenter une classe `File` permettant les opérations suivantes :\n",
    "\n",
    "- création d'une file vide\n",
    "- `enfiler` : ajout en queue de file\n",
    "- `defiler` : renvoie le premier élement de la file et retire cet élément de la file\n",
    "- `__len__` : accès au nombre d'éléments\n",
    "\n",
    "**Aide** : \n",
    "- Opération `enfiler` (simple) : C'est toujours dans l'une des deux piles (par exemple `pA`) que l'on empile un nouvel élément à enfiler. \n",
    "- Opération `defiler` (compliquée) : \n",
    "    - Si l'autre pile (`pB`) n'est pas vide, son sommet est le premier élément de la file (celui à défiler)\n",
    "    - Sinon (si `pB` est vide), le premier élément de la file (celui à défiler) est au fond de `pA`. On peut alors \"retourner\" `pA` sur `pB` pour le premier élément de la file arrive au sommet de `pB`.\n",
    "- Opération `__len__` (simple) : il suffit d'utiliser la méthode `taille` définie dans la classe `Pile`.\n",
    "\n",
    "**Question** : Complétez les méthodes `enfiler`, `__len__` et `defiler` de la classe `File` suivante qui implémente une *file* avec deux piles."
   ]
  },
  {
   "cell_type": "code",
   "execution_count": null,
   "metadata": {},
   "outputs": [],
   "source": [
    "class File:\n",
    "    \"\"\"File avec deux piles\"\"\"\n",
    "    \n",
    "    def __init__(self):\n",
    "        self.pA = Pile() # pA et pB sont les deux attributs de nos objets de la classe File\n",
    "        self.pB = Pile()\n",
    "    \n",
    "    def enfiler(self, e):\n",
    "        # à compléter\n",
    "        \n",
    "    \n",
    "    def __len__(self):\n",
    "        # à compléter\n",
    "        \n",
    "    \n",
    "    def defiler(self):\n",
    "        if self.pA.taille() == 0 and self.pB.taille() == 0:\n",
    "            raise ValueError(\"on ne peut pas défiler une file vide\")\n",
    "        # à compléter\n",
    "        \n",
    "\n",
    "    \n",
    "    # La méthode __repr__ est définie pour que vous puissiez voir l'état d'une file\n",
    "    \n",
    "    def __repr__(self):\n",
    "        import copy\n",
    "        #print(\"pile A : \", repr(self.pA)) # pour voir le contenu des deux piles\n",
    "        #print(\"pile B : \", repr(self.pB))\n",
    "        \n",
    "        lstA = copy.copy(self.pA.contenu) # copie des list Python représentant nos deux piles\n",
    "        lstB = copy.copy(self.pB.contenu) # pour ne pas les modifier\n",
    "        lstB.reverse()  # on a besoin de renverser lstB pour avoir nos éléments dans l'ordre d'entrée\n",
    "        lst = lstB + lstA # et de concaténer lstB et lstA dans cet ordre\n",
    "                \n",
    "        # on construit ensuite la chaine \"<...<\" qui représente nos files\n",
    "        ch = \"\"\n",
    "        for e in lst:\n",
    "            ch = ch + str(e) + \",\"\n",
    "        ch = ch[:-1] # pour enlever la dernière virgule\n",
    "        ch = \"<\" + ch + \"<\"\n",
    "        return ch"
   ]
  },
  {
   "cell_type": "markdown",
   "metadata": {},
   "source": [
    "*Exemple* : le code\n",
    "```python\n",
    "F = File()\n",
    "print(\"file :\", F, \"\\t taille :\", len(F))\n",
    "F.enfiler(1)\n",
    "print(\"file :\", F, \"\\t taille :\", len(F))\n",
    "F.enfiler(2)\n",
    "print(\"file :\", F, \"\\t taille :\", len(F))\n",
    "F.enfiler(3)\n",
    "print(\"file :\", F, \"\\t taille :\", len(F))\n",
    "F.defiler()\n",
    "print(\"file :\", F, \"\\t taille :\", len(F))\n",
    "F.enfiler(4)\n",
    "print(\"file :\", F, \"\\t taille :\", len(F))\n",
    "```\n",
    "doit produire l'affichage\n",
    "```\n",
    "file : << \t taille : 0\n",
    "file : <1< \t taille : 1\n",
    "file : <1,2< \t taille : 2\n",
    "file : <1,2,3< \t taille : 3\n",
    "file : <2,3< \t taille : 2\n",
    "file : <2,3,4< \t taille : 3\n",
    "```"
   ]
  },
  {
   "cell_type": "markdown",
   "metadata": {},
   "source": [
    "---\n",
    "\n",
    "**Références :**\n",
    "- Documents ressources de l'équipe éducative du DIU EIL, Université de Nantes, Christophe DECLERCQ et Christophe JERMANN.\n",
    "\n",
    "---\n",
    "Germain BECKER, Lycée Mounier, ANGERS\n",
    "\n",
    "Ressource éducative libre distribuée sous [Licence Creative Commons Attribution - Pas d’Utilisation Commerciale - Partage dans les Mêmes Conditions 4.0 International](http://creativecommons.org/licenses/by-nc-sa/4.0/) \n",
    "\n",
    "![Licence Creative Commons](https://i.creativecommons.org/l/by-nc-sa/4.0/88x31.png)"
   ]
  }
 ],
 "metadata": {
  "kernelspec": {
   "display_name": "Python 3",
   "language": "python",
   "name": "python3"
  },
  "language_info": {
   "codemirror_mode": {
    "name": "ipython",
    "version": 3
   },
   "file_extension": ".py",
   "mimetype": "text/x-python",
   "name": "python",
   "nbconvert_exporter": "python",
   "pygments_lexer": "ipython3",
   "version": "3.7.3"
  }
 },
 "nbformat": 4,
 "nbformat_minor": 2
}
