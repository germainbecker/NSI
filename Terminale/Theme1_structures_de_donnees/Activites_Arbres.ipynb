{
 "cells": [
  {
   "cell_type": "markdown",
   "metadata": {},
   "source": [
    "<h1 style=\"font-size: 30px; text-align: center\">Arbres - EXERCICES</h1>\n",
    "\n",
    "---"
   ]
  },
  {
   "cell_type": "markdown",
   "metadata": {},
   "source": [
    "# Exercice 1 : Représentation d'un tournoi\n",
    "\n",
    "Un tournoi de football est organisé entre 8 équipes. Le tournoi démarre au stade des quarts de finale.\n",
    "\n",
    "L'organisateur affiche les informations ci-dessous le jour du tournoi\n",
    "\n",
    "En quarts de finale :\n",
    "\n",
    "```\n",
    "quart de finale 1 => Eq1 contre Eq5\n",
    "quart de finale 2 => Eq2 contre Eq6\n",
    "quart de finale 3 => Eq3 contre Eq7\n",
    "quart de finale 4 => Eq4 contre Eq8\n",
    "```\n",
    "\n",
    "En demi-finales :\n",
    "\n",
    "```\n",
    "demi-finale 1 => vainqueur quart de finale 1 contre vainqueur quart de finale 3\n",
    "demi-finale 2 => vainqueur quart de finale 2 contre vainqueur quart de finale 4\n",
    "```\n",
    "\n",
    "En finale :\n",
    "\n",
    "```\n",
    "finale => vainqueur demi-finale 1 contre vainqueur demi-finale 2\n",
    "```\n",
    "\n",
    "Proposez une représentation graphique permettant de mieux visualiser ces informations."
   ]
  },
  {
   "cell_type": "markdown",
   "metadata": {},
   "source": [
    "# Exercice 2 : Un arbre de jeu\n",
    "\n",
    "Voici un jeu (famille des jeux de Nim) : on dispose de 5 allumettes. Chacun son tour, chaque joueur peut en prendre une ou deux. Celui qui prend la dernière gagne.\n",
    "\n",
    "L'état du jeu est complètement déterminé par le nombre d'allumettes restantes et le nom du prochain joueur à jouer.\n",
    "\n",
    "On peut utiliser un arbre pour représenter toutes les parties possibles en considérant que\n",
    "\n",
    "- l'étiquette d'un noeud est le nombre d'allumettes restantes\n",
    "- la couleur de chaque arête correspond au joueur qui doit jouer (rouge ou bleu, c'est le rouge qui commence)\n",
    "\n",
    "Voici le début de l'arbre :\n",
    "\n",
    "![jeu du nim](data/nim.png)\n",
    "\n",
    "1. Recopier et compléter cet arbre.\n",
    "2. Pourquoi est-ce un arbre binaire ?\n",
    "3. Combien de possibilités de gagner ont chacun des deux joueurs ? Expliquez.\n",
    "4. Trouvez une stratégie assurant la victoire au premier joueur (rouge) dans tous les cas ? Expliquez."
   ]
  },
  {
   "cell_type": "markdown",
   "metadata": {},
   "source": [
    "# Exercice 3 : Vocabulaire\n",
    "\n",
    "Voici un arbre :\n",
    "\n",
    "![un arbre binaire](data/ab1.png)"
   ]
  },
  {
   "cell_type": "markdown",
   "metadata": {},
   "source": [
    "1. Quelle est la taille de cet arbre ?\n",
    "2. Listez les noeuds internes puis les feuilles.\n",
    "3. Quelle est la hauteur de cet arbre ?\n",
    "4. Quels sont les fils du noeud B ?\n",
    "5. Quel est le sous-abre gauche du noeud B ?\n",
    "6. Quel est le sous-abre gauche du noeud C ?"
   ]
  },
  {
   "cell_type": "markdown",
   "metadata": {},
   "source": [
    "# Exercice 4 : Réflexion et dénombrement\n",
    "\n",
    "1. Dessinez et dénombrez tous les arbres binaires à 1 noeud, à 2 noeuds et à 3 noeuds. *On dessinera des étiquettes vides*.\n",
    "2. Déduisez-en le nombre d'arbres binaires à 4 noeuds."
   ]
  },
  {
   "cell_type": "markdown",
   "metadata": {},
   "source": [
    "# Exercice 5 : Représenter un arbre par des enregistrements\n",
    "\n",
    "Avec des enregistrements et la possibilité d'imbriquer les enregistrements les uns dans les autres, on peut créer des arbres.\n",
    "\n",
    "On représente un personnage soit par son nom seul, soit par un enregistrement contenant son nom et des références à son père et à sa mère."
   ]
  },
  {
   "cell_type": "code",
   "execution_count": null,
   "metadata": {},
   "outputs": [],
   "source": [
    "LouisXVI = {'nom':'LouisXVI',\n",
    "            'pere':{'nom':'Louis de France', 'pere':'Louis XV', 'mere':'Marie Leszczyńska'},\n",
    "            'mere':{'nom':'Marie-Josèphe de Saxe', 'pere':'Auguste III', 'mere':\"Marie-Josèphe d'Autriche\"}}\n",
    "LouisXVI"
   ]
  },
  {
   "cell_type": "markdown",
   "metadata": {},
   "source": [
    "1. Dessinez l'arbre ainsi créé.\n",
    "2. Quelle instruction permet d'accéder à la mère du père de Louis XVI ?"
   ]
  },
  {
   "cell_type": "markdown",
   "metadata": {},
   "source": [
    "# Exercice 6 : Implémentation avec des listes Python\n",
    "\n",
    "On peut construire un arbre binaire non vide comme un noeud composé de deux sous-arbres. Pour annoter la structure de l'arbre avec des informations, on utilise des étiquettes pouvant être enregistrées à chaque noeud. On peut ensuite parcourir un arbre par l'accès à son étiquette et à ses sous-arbres droit et gauche. Un prédicat permet de distinguer les feuilles des noeuds.\n",
    "\n",
    "On peut ainsi spécifier un arbre binaire par le type abstrait suivant :\n",
    "\n",
    "- Constructeur : `noeud : Etiquette x Arbre binaire x Arbre binaire -> Arbre binaire`\n",
    "- Sélecteurs : \n",
    "    - `droit : Arbre binaire -> Arbre binaire`\n",
    "    - `gauche : Arbre binaire -> Arbre binaire`\n",
    "    - `etiquette : Arbre binaire -> Etiquette`\n",
    "- Prédicat : `est_feuille : Arbre binaire -> Booléen`"
   ]
  },
  {
   "cell_type": "markdown",
   "metadata": {},
   "source": [
    "On choisit ici de représenter un arbre binaire par une liste de trois éléments `[etiquette, arbre_gauche, arbre_droit]` où `arbre_gauche` et `arbre_droit` désignent les sous-arbres gauche et droit du noeud `etiquette`. L'arbre vide est représenté par une liste vide.\n",
    "\n",
    "**Question 1** : Dessinez l'arbre représenté par la liste suivante.\n",
    "\n",
    "```python\n",
    "[4, [2, [5, [], []], [1, [], []]], [3, [], [6, [], []]]]\n",
    "```\n",
    "\n",
    "**Question 2** : Complétez les 5 fonctions suivantes qui implémentent le type abstrait `Arbre binaire` avec cette représentation par des listes Python."
   ]
  },
  {
   "cell_type": "code",
   "execution_count": null,
   "metadata": {},
   "outputs": [],
   "source": [
    "# à vous de jouer !\n",
    "\n",
    "def noeud(etiquette, arbre_gauche, arbre_droit):\n",
    "    \"\"\"Crée et renvoie l'arbre binaire\"\"\"\n",
    "    pass\n",
    "\n",
    "def etiquette(arbre):\n",
    "    \"\"\"Renvoie l'étiquette de l'arbre binaire arbre\"\"\"\n",
    "    pass\n",
    "\n",
    "def gauche(arbre):\n",
    "    \"\"\"Renvoie le sous-arbre gauche de l'arbre binaire arbre\"\"\"\n",
    "    pass\n",
    "\n",
    "def droit(arbre):\n",
    "    \"\"\"Renvoie le sous-arbre droit de l'arbre binaire arbre\"\"\"\n",
    "    pass\n",
    "\n",
    "def est_feuille(arbre):\n",
    "    \"\"\"Renvoie True si et seulement si l'arbre binaire arbre est une feuille \"\"\"\n",
    "    pass\n"
   ]
  },
  {
   "cell_type": "markdown",
   "metadata": {},
   "source": [
    "**Question 3** :\n",
    "\n",
    "1. Créez l'arbre, noté `a1`, de la question 1 en utilisant la fonction `noeud`. Vérifiez que la représentation est bien celle donnée dans la question 1.\n",
    "2. Ecrivez les instructions permettant :\n",
    "    - d'afficher le sous-arbre gauche de `a1`,\n",
    "    - d'afficher l'étiquette de la racine du sous-arbre droit de `a1`,\n",
    "    - d'accéder au sous-arbre droit du sous-arbre gauche de `a1."
   ]
  },
  {
   "cell_type": "code",
   "execution_count": null,
   "metadata": {},
   "outputs": [],
   "source": [
    "# à vous de jouer !\n",
    "# question 3.1\n",
    "\n",
    "# question 3.2\n"
   ]
  },
  {
   "cell_type": "markdown",
   "metadata": {},
   "source": [
    ">**Remarque**: Si on suppose que l'arbre n'est pas modifiable en place, on pourrait écrire la même implémentation avec des tableaux ou avec des tuples plutôt que des listes Python."
   ]
  },
  {
   "cell_type": "markdown",
   "metadata": {},
   "source": [
    "# Exercice 7 : Implémentation par une classe `Noeud`\n",
    "\n",
    "Une façon classique de représenter le type abstrait `Arbre binaire` (voir exercice précédent) est de représenter chaque noeud par un objet d'une classe `Noeud`. Un objet de cette classe contient trois attributs, donnés dans l'ordre suivant :\n",
    "- `valeur` pour la valeur de l'étiquette contenue dans le noeud\n",
    "- `arbre_gauche` pour le sous-arbre gauche\n",
    "- `arbre_droit` pour le sous-arbre droit\n",
    "\n",
    "L'arbre vide est représenté par la valeur `None`."
   ]
  },
  {
   "cell_type": "markdown",
   "metadata": {},
   "source": [
    "On peut alors créer un arbre binaire en appelant autant de fois que nécessaire le constructeur de la classe `Noeud`.\n",
    "\n",
    "**Question 1** : Dessinez l'arbre `A1` construit par l'instruction suivante.\n",
    "\n",
    "```python\n",
    "A1 = Noeud(2, Noeud(8, Noeud(4, None, None), Noeud(5, None, None)), Noeud(9, None, Noeud(3, None, None)))\n",
    "```\n",
    "\n",
    "  "
   ]
  },
  {
   "cell_type": "markdown",
   "metadata": {},
   "source": [
    "**Question 2** : Ecrivez la classe `Noeud` permettant de créer des noeuds avec leurs trois attributs."
   ]
  },
  {
   "cell_type": "code",
   "execution_count": null,
   "metadata": {},
   "outputs": [],
   "source": [
    "# à vous de jouer !\n"
   ]
  },
  {
   "cell_type": "markdown",
   "metadata": {},
   "source": [
    "**Question 3** : Complétez cette classe `Noeud` avec la méthode `est_feuille` pour implémenter complètement le type abstrait `Arbre binaire`."
   ]
  },
  {
   "cell_type": "code",
   "execution_count": 5,
   "metadata": {},
   "outputs": [],
   "source": [
    "# à vous de jouer !\n",
    " "
   ]
  },
  {
   "cell_type": "markdown",
   "metadata": {},
   "source": [
    "**Question 4** : \n",
    "\n",
    "1. Créez l'arbre, noté `A1`, de la question 1. Vérifiez que la représentation correspond bien à votre réponse à la question 1.\n",
    "2. Ecrivez les instructions permettant :\n",
    "    - d'afficher le sous-arbre gauche de `A1`,\n",
    "    - d'afficher l'étiquette de la racine du sous-arbre droit de `A1`,\n",
    "    - d'accéder au sous-arbre droit du sous-arbre gauche de `A1`.\n",
    "3. Créez un arbre `A2` réduit à une feuille portant l'étiquette `5`.\n",
    "4. Utilisez la méthode `est_feuille` pour vérifier que `A2` est une feuille mais que `A1` n'en est pas une."
   ]
  },
  {
   "cell_type": "code",
   "execution_count": 3,
   "metadata": {},
   "outputs": [],
   "source": [
    "# à vous de jouer !\n",
    "\n",
    "# question 3.1\n",
    "\n",
    "# question 3.2\n",
    "\n",
    "# question 3.3\n",
    "\n",
    "# question 3.4"
   ]
  },
  {
   "cell_type": "markdown",
   "metadata": {},
   "source": [
    "**Question 5** : Construisez un arbre `A3` correspondant à l'arbre binaire suivant :\n",
    "\n",
    "![arbre binaire](data/ab3.png)\n"
   ]
  },
  {
   "cell_type": "code",
   "execution_count": 2,
   "metadata": {},
   "outputs": [],
   "source": [
    "# à vous de jouer\n"
   ]
  },
  {
   "cell_type": "markdown",
   "metadata": {},
   "source": [
    "## Arguments optionnels pour aller plus vite\n",
    "\n",
    "Avec l'implémentation actuelle, la construction d'une feuille se fait de la manière suivante : \n",
    "```python\n",
    "Noeud(etiquette, None, None)\n",
    "```\n",
    "Cela conduit à écrire beaucoup de fois la valeur `None`. On peut modifier l'écriture de la méthode `__init__` de manière à ne pas avoir à renseigner les deux arguments `None` pour créer une feuille. Autrement dit, on veut pouvoir écrire \n",
    "```python\n",
    "Noeud(etiquette)\n",
    "```\n",
    "pour créer une feuille.\n",
    "\n",
    "Les deux attributs `arbre_gauche` et `arbre_droit` doivent tout de même être égaux à `None`. Pour cela, il suffit définir une valeur par défaut, égale à `None`, aux arguments `g` et `d` de la méthode `__init__`.\n",
    "\n",
    "**Question 6** : Consultez la [documentation sur les valeurs par défaut des arguments](https://docs.python.org/fr/3/tutorial/controlflow.html#default-argument-values) d'une fonction, puis modifiez ce qu'il faut pour donner la valeur `None` par défaut aux arguments `g` et `d`."
   ]
  },
  {
   "cell_type": "code",
   "execution_count": 11,
   "metadata": {},
   "outputs": [],
   "source": [
    "# à vous de jouer !\n"
   ]
  },
  {
   "cell_type": "markdown",
   "metadata": {},
   "source": [
    "**Question 7** : Créez à nouveau l'abre `A3` en utilisant cette construction plus rapide des feuilles."
   ]
  },
  {
   "cell_type": "code",
   "execution_count": 1,
   "metadata": {},
   "outputs": [],
   "source": [
    "# à vous de jouer !\n"
   ]
  },
  {
   "cell_type": "markdown",
   "metadata": {},
   "source": [
    "# Exercice 8 : Taille, hauteur et nombre de feuilles d'un arbre binaire\n",
    "\n",
    "La définition d'un arbre binaire étant récursive, on peut parcourir l'arbre de manière récursive pour effectuer des traitements et des calculs. En particulier, vous allez écrire des fonctions récursives qui parcourent l'arbre afin de calculer sa hauteur, sa taille et son nombre de feuilles.\n",
    "\n",
    "Pour cela, on utilise l'implémentation de l'exercice 7 avec la classe `Noeud`. L'abre vide est toujours représenté par `None`. Le parcours de l'arbre pourra se faire à l'aide des méthodes `gauche` et `droit`."
   ]
  },
  {
   "cell_type": "markdown",
   "metadata": {},
   "source": [
    "## Nombre de feuilles\n",
    "\n",
    "On veut écrire une fonction **récursive** `compte_feuilles(A)` qui renvoie le nombre de feuille de l'arbre binaire `A`.\n",
    "\n",
    "Le principe est simple : le nombre de feuilles d'un arbre binaire est la somme du nombre de feuilles de ses sous-arbres gauche et droit, sauf si l'arbre binaire est vide ou réduit à une feuille.\n",
    "\n",
    "**Question 1** : Donnez les deux cas de base.\n",
    "\n",
    "**Question 2** : Recopiez et complétez la définition suivante.\n",
    "\n",
    "$$\\text{compte_feuilles(A)} = \\left\\{\n",
    "\\begin{array}{l}\n",
    "  0 \\hspace{3.3cm} \\textrm{ si } \\ldots \\\\\n",
    "  \\ldots \\hspace{3cm} \\textrm{ si } \\ldots \\\\\n",
    "  \\ldots \\hspace{3cm} \\textrm{ si } \\ldots \n",
    "\\end{array}\n",
    "\\right.$$"
   ]
  },
  {
   "cell_type": "markdown",
   "metadata": {},
   "source": [
    "**Question 3** : Ecrivez la fonction `compte_feuilles(A)`. Testez-la sur les arbres `A1`, `A2` et `A3` de l'exercice précédent ainsi que l'arbre vide."
   ]
  },
  {
   "cell_type": "code",
   "execution_count": 4,
   "metadata": {},
   "outputs": [],
   "source": [
    "# à vous de jouer !\n"
   ]
  },
  {
   "cell_type": "markdown",
   "metadata": {},
   "source": [
    "## Taille\n",
    "\n",
    "On rappelle que la taille d'un arbre est son nombre de noeuds.\n",
    "\n",
    "On veut écrire une fonction récursive `taille(A)` qui renvoie le nombre de noeuds de l'arbre binaire `A`.\n",
    "\n",
    "**Question 4** : Ecrivez un bon jeu de test pour cette fonction."
   ]
  },
  {
   "cell_type": "code",
   "execution_count": 23,
   "metadata": {},
   "outputs": [],
   "source": [
    "# à vous de jouer !\n"
   ]
  },
  {
   "cell_type": "markdown",
   "metadata": {},
   "source": [
    "**Question 5** : Le principe de l'algorithme est simple : le nombre de noeuds dans un arbre non-vide vaut 1 + nombre de noeuds dans ses sous-arbres gauche et droit.\n",
    "\n",
    "Recopiez et complétez l'algorithme de la fonction `taille`.\n",
    "\n",
    "```\n",
    "fonction taille(ArbreBinaire A) -> Entier\n",
    "    si ... alors\n",
    "        renvoyer 0\n",
    "    sinon\n",
    "        renvoyer ...\n",
    "    fin si\n",
    "```"
   ]
  },
  {
   "cell_type": "markdown",
   "metadata": {},
   "source": [
    "**Question 6** : Ecrivez la fonction `taille(A)`. Vérifiez qu'elle passe avec succès tous les tests du jeu de tests de la question 1."
   ]
  },
  {
   "cell_type": "code",
   "execution_count": 5,
   "metadata": {},
   "outputs": [],
   "source": [
    "# à vous de jouer !\n"
   ]
  },
  {
   "cell_type": "markdown",
   "metadata": {},
   "source": [
    "## Hauteur d'un arbre\n",
    "\n",
    "On rappelle que la hauteur d'un arbre est la profondeur maximale de ses noeuds. Par convention, on suppose que la hauteur de l'arbre réduit à une feuille est égal à 0 et que l'arbre vide a une hauteur égale à $−1$.\n",
    "\n",
    ">**Remarque** : la hauteur d'un arbre peut varier selon les définitions : on trouve parfois que la hauteur de l'arbre vide est égale à 0 et que celle de l'arbre réduit à une feuille vaut 1 (car la définition de la profondeur n'est plus le nombre d'arêtes jusqu'à la racine mais le nombre de noeuds jusqu'à la racine). **Il faudra donc toujours être bien vigilant sur la définition choisie dans un exercice**.\n",
    "\n",
    "**Question 7** : Dessinez les arbres `A1`, `A2` et `A3` suivants (ce sont ceux de l'exercice précédent). Donnez la hauteur de chacun d'eux."
   ]
  },
  {
   "cell_type": "code",
   "execution_count": 26,
   "metadata": {},
   "outputs": [],
   "source": [
    "A1 = Noeud(2, Noeud(8, Noeud(4), Noeud(5)), Noeud(9, None, Noeud(3)))\n",
    "A2 = Noeud(5)\n",
    "A3 = Noeud(\"A\", Noeud(\"B\", Noeud(\"D\", Noeud(\"E\"), Noeud(\"H\")), Noeud(\"F\", Noeud(\"I\"), None)), Noeud(\"C\", None, Noeud(\"G\")))"
   ]
  },
  {
   "cell_type": "markdown",
   "metadata": {},
   "source": [
    "**Question 8** : Ecrivez l'algorithme d'une fonction récursive `hauteur(A)` qui renvoie la hauteur d'un arbre binaire `A`."
   ]
  },
  {
   "cell_type": "markdown",
   "metadata": {},
   "source": [
    "**Question 9** : Ecrivez la fonction récursive `hauteur(A)`. Testez-la !"
   ]
  },
  {
   "cell_type": "code",
   "execution_count": 25,
   "metadata": {},
   "outputs": [],
   "source": [
    "# à vous de jouer\n"
   ]
  },
  {
   "cell_type": "markdown",
   "metadata": {},
   "source": [
    "# Exercice 9 : Encadrement de la hauteur d'un arbre binaire\n",
    "\n",
    "> On veut ici déterminer un encadrement de la hauteur $H$ d'un arbre binaire en fonction de sa taille $N$.\n",
    "\n",
    "## Premières questions\n",
    "\n",
    "**Question 1** : Dessinez un arbre binaire à 5 noeuds (= de taille 5)\n",
    "- dont la hauteur est la plus grande possible\n",
    "- puis un autre dont la hauteur est la plus petite possible.\n",
    "\n",
    "**Question 2** : En déduire la hauteur maximale d'un arbre à $N$ noeuds. Un tel arbre binaire est dit *filiforme* ou *dégénéré*.\n",
    "\n",
    ">**VOCABULAIRE**\n",
    ">\n",
    ">- Un arbre binaire est dit *parfait* si tous ses noeuds ont exactement deux fils, sauf ses feuilles évidemment.\n",
    ">- Un arbre binaire est dit *complet* (à gauche) si tous les niveaux sont remplis à l'exception éventuelle du dernier, dans lequel les feuilles sont alignées à gauche.\n",
    "\n",
    "**Question 3** : \n",
    "1. Dessinez un arbre parfait de hauteur 3. \n",
    "2. Dessinez un arbre complet de hauteur 3 mais qui n'est pas parfait.\n",
    "\n",
    "**Question 4** : \n",
    "1. Quelle est la taille minimale d'un arbre complet de hauteur 4 ? \n",
    "2. Quelle est la taille maximale d'un arbre complet de hauteur 4 ? \n",
    "3. Dessinez les deux arbres en question.\n",
    "\n",
    "**Question 5** : De quelle nature sont les arbres binaires à $N$ noeuds de hauteur minimale ?"
   ]
  },
  {
   "cell_type": "markdown",
   "metadata": {},
   "source": [
    "## Un étiquetage intéressant\n",
    "\n",
    "On peut étiqueter les noeuds d'un arbre de la façon suivante :\n",
    "\n",
    "- la racine porte l'étiquette 1 ;\n",
    "- l'étiquette du fils gauche d'un noeud est celle de son père à laquelle on a ajouté un 0 ;\n",
    "- l'étiquette du fils droit d'un noeud est celle de son père à laquelle on a ajouté 1.\n",
    "\n",
    "**Question 6** : \n",
    "1. Etiquettez les noeuds d'un arbre binaire *complet* de taille 7 de la façon indiquée.\n",
    "2. Même question avec un arbre binaire *complet* de taille 9.\n",
    "3. Convertissez en décimal les étiquettes des noeuds de ces deux arbres. Quelle est la valeur décimale du dernier noeud ?\n",
    "4. Combien de bits sont nécessaires pour étiqueter le dernier noeud (et tous ceux de profondeur maximale) ? Quelle est la relation avec la hauteur de l'arbre ?\n",
    "\n",
    "**Question 7** : \n",
    "1. Quelle est la relation entre le nombre de bits nécessaires pour étiqueter le dernier noeud (et tous ceux de profondeur maximale) d'un arbre binaire *complet* et la hauteur $H$ de cet arbre ?\n",
    "\n",
    ">**Définition** : On note $\\left \\lfloor \\log_2(n) \\right \\rfloor$ la partie entière du logarithme en base deux de l'entier $n$. Elle est égale au nombre de bits nécessaires à l'écriture de $n$ en base 2 diminué d'une unité.\n",
    "\n",
    "2. En déduire que la hauteur minimale d'un arbre binaire à $N$ noeuds est égale à $\\left \\lfloor \\log_2(N) \\right \\rfloor$.\n",
    "\n",
    "**Conclusion** : Donnez un encadrement de la hauteur $H$ d'un arbre binaire en fonction de son nombre $N$ de noeuds."
   ]
  },
  {
   "cell_type": "markdown",
   "metadata": {},
   "source": [
    "---\n",
    "\n",
    "**Références :**\n",
    "- Equipe éducative DIU EIL, Université de Nantes.\n",
    "- [Cours](https://pixees.fr/informatiquelycee/n_site/nsi_term_structDo_arbre.html) de David Roche pour l'idée de l'exercice 1.\n",
    "- Livre *Prepabac NSI, Tle*, G. Connan, V. Petrov, G. Rozsavolgyi, L. Signac, éditeur HATIER, pour l'idée de l'exercice 2 sur l'arbre du jeu de Nim.\n",
    "- Ressource d'accompagnement Eduscol sur les [structures de données](https://cache.media.eduscol.education.fr/file/NSI/63/8/RA20_NSI_G_T_structures-donnees_1298638.pdf) pour l'idée de l'exercice 9.\n",
    "\n",
    "---\n",
    "Germain BECKER, Lycée Mounier, ANGERS\n",
    "\n",
    "Ressource éducative libre distribuée sous [Licence Creative Commons Attribution - Pas d’Utilisation Commerciale - Partage dans les Mêmes Conditions 4.0 International](http://creativecommons.org/licenses/by-nc-sa/4.0/) \n",
    "\n",
    "![Licence Creative Commons](https://i.creativecommons.org/l/by-nc-sa/4.0/88x31.png)"
   ]
  }
 ],
 "metadata": {
  "kernelspec": {
   "display_name": "Python 3",
   "language": "python",
   "name": "python3"
  },
  "language_info": {
   "codemirror_mode": {
    "name": "ipython",
    "version": 3
   },
   "file_extension": ".py",
   "mimetype": "text/x-python",
   "name": "python",
   "nbconvert_exporter": "python",
   "pygments_lexer": "ipython3",
   "version": "3.7.3"
  }
 },
 "nbformat": 4,
 "nbformat_minor": 2
}
