{
 "cells": [
  {
   "cell_type": "markdown",
   "id": "86d46df0",
   "metadata": {},
   "source": [
    "<h1 style=\"font-size:2.5em; text-align:center\">Les dictionnaires</h1>\n",
    "\n",
    "---"
   ]
  },
  {
   "cell_type": "markdown",
   "id": "68ef8f47",
   "metadata": {},
   "source": [
    "<blockquote class=\"information\">\n",
    "\n",
    "**Crédits** : Une grande partie de ce cours est reprise du cours de Gilles Lassus sur les [dictionnaires](https://glassus.github.io/terminale_nsi/T1_Structures_de_donnees/1.2_Dictionnaires/cours/), diffusé sous licence CC BY-SA.\n",
    "    \n",
    "</blockquote>"
   ]
  },
  {
   "cell_type": "markdown",
   "id": "1cbde551",
   "metadata": {},
   "source": [
    "**Préambule**\n",
    "\n",
    "Les dictionnaires Python ont déjà été utilisés et manipulés en classe de Première. En Python, un **dictionnaire** est une structure native de **tableau associatif**. Ici, nous allons définir le type abstrait `Tableau associatif` et surtout voir que la recherche d'une valeur dans un dictionnaire est beaucoup (beaucoup !) plus rapide que la recherche dans une liste."
   ]
  },
  {
   "cell_type": "markdown",
   "id": "77e68ca4",
   "metadata": {},
   "source": [
    "# Le type abstrait `Tableau associatif`\n",
    "\n",
    "Un **tableau associatif** est un type abstrait de données (commes les piles, les files, les listes, les arbres, etc.). \n",
    "\n",
    "Ce type abstrait n'est pas linéaire car il associe des **valeurs** à des **clés**.\n",
    "\n",
    "Voici les opérations usuelles du type `Tableau associatif` :\n",
    "\n",
    "- création d'un dictionnaire vide\n",
    "- ajout d'une nouvelle valeur associée à une nouvelle clé (on parlera de nouveau couple clé-valeur)\n",
    "- modification d'une valeur associée à une clé existante\n",
    "- suppression d'un couple clé-valeur\n",
    "- récupération de la valeur associée à une clé donnée\n",
    "\n",
    "**Exemple** : un répertoire téléphonique est un exemple de tableau associatif.\n",
    "\n",
    "Les dictionnaires Python possèden ces 5 opérations (et d'autres évidemment) :"
   ]
  },
  {
   "cell_type": "code",
   "execution_count": 1,
   "id": "15191fb1",
   "metadata": {},
   "outputs": [
    {
     "name": "stdout",
     "output_type": "stream",
     "text": [
      "{'a': 2}\n",
      "{'a': 2, 'b': 5, 'c': 3}\n",
      "{'a': 1, 'b': 5, 'c': 3}\n",
      "{'a': 1, 'c': 3}\n",
      "3\n"
     ]
    }
   ],
   "source": [
    "# création d'un dictionnaire vide\n",
    "d = {}\n",
    "\n",
    "# ajout de nouveaux couples clé-valeur\n",
    "d['a'] = 2\n",
    "print(d)\n",
    "d['b'] = 5\n",
    "d['c'] = 3\n",
    "print(d)\n",
    "\n",
    "# modification d'une valeur associée à une clé\n",
    "d['a'] = 1\n",
    "print(d)\n",
    "\n",
    "# suppression d'un couple clé-valeur\n",
    "del d['b']\n",
    "print(d)\n",
    "\n",
    "# récupération de la valeur associée à une clé donnée\n",
    "valeur = d['c']\n",
    "print(valeur)"
   ]
  },
  {
   "cell_type": "markdown",
   "id": "209e4c22",
   "metadata": {},
   "source": [
    "# Mesure du temps d'accès à une valeur dans un dictionnaire\n",
    "\n",
    "Pour tester si une valeur est présente dans un dictionnaire, on peut utiliser le mot clé `in` :"
   ]
  },
  {
   "cell_type": "code",
   "execution_count": 2,
   "id": "0270cdd0",
   "metadata": {},
   "outputs": [
    {
     "data": {
      "text/plain": [
       "True"
      ]
     },
     "execution_count": 2,
     "metadata": {},
     "output_type": "execute_result"
    }
   ],
   "source": [
    "d = {'a': 1, 'b': 5, 'c': 3}\n",
    "'a' in d"
   ]
  },
  {
   "cell_type": "code",
   "execution_count": 3,
   "id": "7f5c5bb8",
   "metadata": {},
   "outputs": [
    {
     "data": {
      "text/plain": [
       "False"
      ]
     },
     "execution_count": 3,
     "metadata": {},
     "output_type": "execute_result"
    }
   ],
   "source": [
    "'e' in d"
   ]
  },
  {
   "cell_type": "markdown",
   "id": "f9eb449d",
   "metadata": {},
   "source": [
    "## Protocole\n",
    "\n",
    "On veut mesurer le temps d'accès à une valeur dans un dictionnaire, et le comparer à celui permettant d'accéder à un élément dans une liste. Pour cela, on va se placer dans le pire cas : chercher une valeur absente (du dictionnaire et de la liste).\n",
    "\n",
    "Voici le protocole mis en place que vous pouvez analyser :"
   ]
  },
  {
   "cell_type": "code",
   "execution_count": 4,
   "id": "d0cd9c71",
   "metadata": {},
   "outputs": [],
   "source": [
    "import time\n",
    "\n",
    "def fabrique_liste(nb):\n",
    "    lst = [k for k in range(nb)]\n",
    "    return lst\n",
    "\n",
    "def fabrique_dict(nb):\n",
    "    dct = {k: k for k in range(nb)}\n",
    "    return dct\n",
    "\n",
    "def mesures(nb):\n",
    "    lst = fabrique_liste(nb)\n",
    "    d = fabrique_dict(nb)\n",
    "\n",
    "    tps_total = 0\n",
    "    for _ in range(10):\n",
    "        t0 = time.time()\n",
    "        test = 'a' in lst # on cherche une donnée inexistante\n",
    "        delta_t = time.time() - t0\n",
    "        tps_total += delta_t\n",
    "    tps_moyen_lst = tps_total / 10\n",
    "\n",
    "    tps_total = 0\n",
    "    for _ in range(10):\n",
    "        t0 = time.time()\n",
    "        test = 'a' in d # on cherche une donnée inexistante\n",
    "        delta_t = time.time() - t0\n",
    "        tps_total += delta_t\n",
    "    tps_moyen_d = tps_total / 10\n",
    "\n",
    "    print(f\"temps pour une liste de taille {nb}       : {tps_moyen_lst}\")\n",
    "    print(f\"temps pour un dictionnaire de taille {nb} : {tps_moyen_d}\")"
   ]
  },
  {
   "cell_type": "markdown",
   "id": "f78201d9",
   "metadata": {},
   "source": [
    "**Analyse** :\n",
    "\n",
    "- La fonction `mesures` prend en paramètre un nombre `nb` qui sera la taille de la liste ou du dictionnaire. Dans le corps de cette fonction, la liste `lst` et le dictionnaire `d` sont fabriqués *avant le commencement de la mesure du temps*. \n",
    "- La liste `lst` contient des nombres (de `1` à `nb`), et le dictionnaire `d` associe à un nombre (de `1` à `nb`) sa propre valeur.\n",
    "- Dans ces deux structures, nous allons partir à la recherche d'une valeur qui n'a aucune chance de s'y trouver : la chaine de caractères `'a'`.\n",
    "- On effectue la recherche 10 fois de suite (pour avoir un temps moyen le plus juste possible), on va donc mesurer le temps mis pour chercher la chaine `'a'`, qui n'est présente ni dans la liste `lst` ni dans le dictionnaire `d`. On mesure donc une recherche dans **le pire des cas**."
   ]
  },
  {
   "cell_type": "markdown",
   "id": "153f01c1",
   "metadata": {},
   "source": [
    "## Mesures\n",
    "\n",
    "On effectue 4 mesures, les tailles des listes et dictionnaires étant égales et augmentant d'un facteur 10 à chaque fois :"
   ]
  },
  {
   "cell_type": "code",
   "execution_count": 5,
   "id": "5d0c0d04",
   "metadata": {},
   "outputs": [
    {
     "name": "stdout",
     "output_type": "stream",
     "text": [
      "temps pour une liste de taille 10000       : 0.000372314453125\n",
      "temps pour un dictionnaire de taille 10000 : 0.0\n"
     ]
    }
   ],
   "source": [
    "mesures(10**4)"
   ]
  },
  {
   "cell_type": "code",
   "execution_count": 6,
   "id": "03f5ec43",
   "metadata": {},
   "outputs": [
    {
     "name": "stdout",
     "output_type": "stream",
     "text": [
      "temps pour une liste de taille 100000       : 0.0020259618759155273\n",
      "temps pour un dictionnaire de taille 100000 : 0.0\n"
     ]
    }
   ],
   "source": [
    "mesures(10**5)"
   ]
  },
  {
   "cell_type": "code",
   "execution_count": 7,
   "id": "61c917cb",
   "metadata": {},
   "outputs": [
    {
     "name": "stdout",
     "output_type": "stream",
     "text": [
      "temps pour une liste de taille 1000000       : 0.028008055686950684\n",
      "temps pour un dictionnaire de taille 1000000 : 0.0\n"
     ]
    }
   ],
   "source": [
    "mesures(10**6)"
   ]
  },
  {
   "cell_type": "code",
   "execution_count": 8,
   "id": "2b100f9a",
   "metadata": {},
   "outputs": [
    {
     "name": "stdout",
     "output_type": "stream",
     "text": [
      "temps pour une liste de taille 10000000       : 0.2826454401016235\n",
      "temps pour un dictionnaire de taille 10000000 : 0.0\n"
     ]
    }
   ],
   "source": [
    "mesures(10**7)"
   ]
  },
  {
   "cell_type": "markdown",
   "id": "69d88495",
   "metadata": {},
   "source": [
    "On constate que :\n",
    "- le temps de recherche dans une liste augmente d'un facteur 10 lorsque la taille de la liste augmente d'un facteur 10\n",
    "- le temps de recherche dans un dictionnaire reste dans le même ordre de grandeur, proche de 0 seconde, et ce quelle que soit la taille du dictionnaire."
   ]
  },
  {
   "cell_type": "markdown",
   "id": "162c12b7",
   "metadata": {},
   "source": [
    "## Conclusion"
   ]
  },
  {
   "cell_type": "markdown",
   "id": "c7249470",
   "metadata": {},
   "source": [
    "<div class=\"important\">\n",
    "    <p>Il y a donc une différence fondamentale entre les temps de recherche d'un élément dans une liste et dans un dictionnaire :</p>\n",
    "    <ul>\n",
    "        <li>dans une liste, le coût en temps est <strong>linéaire</strong>, c'est-à-dire qu'il est proportionnel à la taille $n$ de la liste : on écrit que la recherche dans une liste est en $O(n)$.</li>\n",
    "        <li>dans un dictionnaire, le coût en temps est <strong>constant</strong>, c'est-à-dire qu'il ne dépend pas de la taille du dictionnaire : on écrit que la recherche dans un dictionnaire est en $O(1)$.</li>\n",
    "    </ul>\n",
    "</div>\n",
    "\n",
    "Ainsi, si on sait à l'avance que l'on va devoir chercher régulièrement des valeurs dans une structure de données, l'utilisation d'un dictionnaire sera beaucoup plus efficace en temps que pour une liste (à condition que ces structures soient adaptées au stockage de nos données bien sûr).\n",
    "\n",
    "\n",
    "**Remarque** : En Python, le **temps d'accès** à un élément d'une liste ou d'un dictionnaire se fait en temps constant dans les deux cas, car les listes de Python sont implémentées par des tableaux dynamiques (voir le cours sur [Les listes](https://info-mounier.fr/terminale_nsi/structures_donnees/listes.php))."
   ]
  },
  {
   "cell_type": "markdown",
   "id": "c77bcd80",
   "metadata": {},
   "source": [
    "> Comment est-ce possible que la recherche dans un dictionnaire soit en temps constant ? On explique l'idée ci-dessous, mais cela reste hors programme."
   ]
  },
  {
   "cell_type": "markdown",
   "id": "0837f4d4",
   "metadata": {},
   "source": [
    "# Fonctions de hachage (*hors programme*)\n",
    "\n",
    "Il est important de se rappeler qu'un dictionnaire n'est pas **ordonné** (contrairement à l'objet « dictionnaire » de la vie courante, où chaque mot est classé suivant l'ordre alphabétique). \n",
    "\n",
    "On n'accède pas à une valeur suivant sa position, mais suivant sa clé.\n",
    "\n",
    "Dans une liste, lorsqu'on veut savoir si un élément appartient à une liste (problème de la *recherche d'élément*), il n'y a pas (dans le cas général) de meilleure méthode que le parcours exhaustif de tous les éléments de la liste jusqu'à (éventuellement) trouver la valeur cherchée.\n",
    "\n",
    "Dans un dictionnaire, on pourrait s'imaginer qu'il va falloir parcourir toutes les clés et regarder les valeurs correspondantes. Il n'en est rien.  \n",
    "Pour comprendre cela nous allons faire un petit détour par les **fonctions de hachage.**\n",
    "\n",
    "## Qu'est-ce qu'une fonction de hachage ?\n",
    "\n",
    "Une **fonction de hachage** est une fonction qui va calculer une empreinte unique à partir de la donnée fournie en entrée. Elle doit respecter les règles suivantes :\n",
    "\n",
    "- la longueur de l'empreinte (valeur retournée par la fonction de hachage) doit être toujours la même, indépendamment de la donnée fournie en entrée.\n",
    "- connaissant l'empreinte, il ne doit pas être possible de reconstituer la donnée d'origine\n",
    "- des données différentes doivent donner dans la mesure du possible des empreintes différentes.\n",
    "- des données identiques doivent donner des empreintes identiques.\n",
    "\n",
    "**Exemple** : la fonction de hachage `md5` permet de convertir un mot binaire (une chaîne, un fichier, ...) de taille quelconque en un mot de 128 bits représenté par une chaîne hexadécimale de 32 caractères (il y a donc $2^128 \\simeq 10^39$ empreintes MD5 différentes).\n",
    "\n",
    "![exemple md5](data/hachage_md5.svg)\n",
    "\n",
    "<p style=\"text-align:center;font-size:0.9em;color:#333\">Crédits : <a href=\"https://commons.wikimedia.org/wiki/File:Hachage.svg\">Unique Nitrogen</a>, <a href=\"https://creativecommons.org/licenses/by-sa/4.0\">CC BY-SA 4.0</a>, via Wikimedia Commons</p>"
   ]
  },
  {
   "cell_type": "markdown",
   "id": "16b2711e",
   "metadata": {},
   "source": [
    "**Remarques** : \n",
    "- Le mécanisme de calcul de la fonction MD5 est complexe, pour en savoir plus allez voir [cette page](https://www.bibmath.net/crypto/index.php?action=affiche&quoi=moderne/md5). \n",
    "- Il est évidemment **impossible** de revenir en arrière, sinon on serait capable de compresser sans perte n'importe quel fichier en une chaîne de 128 bits. Cette impossibilité de trouver une fonction réciproque à la fonction de hachage est très important en cryptographie.\n",
    "- La fonction MD5 n'est plus utilisée depuis 2005 pour des applications sensibles car des chercheurs ont prouvé qu'il était possible de créer facilement deux messages ayant la même empreinte, ce qui contredit la troisième règle donnée au-dessus.\n",
    "- Aujourd'hui, on utilise principalement la fonction de hachage SHA-256 (voir [ici](https://fr.wikipedia.org/wiki/Secure_Hash_Algorithm))"
   ]
  },
  {
   "cell_type": "markdown",
   "id": "ec5efa15",
   "metadata": {},
   "source": [
    "## Utilisations concrètes de fonctions de hachage\n",
    "\n",
    "### Vérifier l'intégrité d'un fichier\n",
    "\n",
    "Lorsque vous téléchargez un fichier important et que vous souhaitez vérifier qu'il n'a pas été corrompu lors du téléchargement (ou avant), vous avez parfois la possibilité de vérifier l'intégrité de votre fichier téléchargé, en calculant une «empreinte» de votre fichier et en la comparant avec celle que vous êtes censée obtenir :\n",
    "\n",
    "Voilà par exemple ce qui apparaît sur la page de téléchargement de l'image de Linux Mint 21.1 \"Vera\" (voir [ici](https://www.linuxmint.com/edition.php?id=303)) :\n",
    "\n",
    "![capture d'écran site Linux Mint](data/linux_mint_integrity.png)"
   ]
  },
  {
   "cell_type": "markdown",
   "id": "f979fa6f",
   "metadata": {},
   "source": [
    "En cliquant sur le bouton `sha256sum.txt` on peut voir l'empreinte hachée de l'image de Linux :\n",
    "\n",
    "```\n",
    "2df322f030d8ff4633360930a92d78829d10e515d2f6975b9bdfd1c0de769aca *linuxmint-21.1-cinnamon-64bit.iso\n",
    "f7fb9c0500e583c46587402578547ea56125e0a054097f9f464a2500830c8b25 *linuxmint-21.1-mate-64bit.iso\n",
    "6fea221b5b0272d55de57f3d31498cdf76682f414e60d28131dc428e719efa8b *linuxmint-21.1-xfce-64bit.iso\n",
    "```\n",
    "\n",
    "Il est alors possible de vérifier que le fichier iso téléchargé n'est pas corrompu, en calculant son empreinte avec la fonction de hachage SHA-256 et en vérifiant qu'elle est bien égale à celle indiqué au-dessus. On peut appliquer la fonction de hachage directement dans un terminal comme suit :\n",
    "\n",
    "```bash\n",
    "sha256sum -b yourfile.iso\n",
    "```"
   ]
  },
  {
   "cell_type": "markdown",
   "id": "a330506d",
   "metadata": {},
   "source": [
    "### Stockage des mots de passe\n",
    "\n",
    "L'utilisation la plus courante est le stockage des mots de passe dans un système informatique un peu sécurisé. En effet, lorsqu'on crée un compte sur un service en ligne, le mot de passe **ne doit pas être stocké en clair**, une empreinte est générée (le hash du mot de passe) et c'est ce hash du mot de passe qui est stocké sur le serveur. Cela permet d'éviter, en cas de piratage, de protéger les comptes car il n'est pas possible de reconstituer les mots de passe à partir et des empreintes.\n",
    "\n",
    "**Remarque** : Des hackers possèdent des tables avec des empreintes des mots de passe les plus courants (rainbow table) ce qui leur permet de chercher par force brute le mot de passe correspondant à une empreinte dérobée. En particulier, la fonction de hachage MD5 ne résiste pas longtemps à ce type d'attaque : voyez que le mot de passe correspond à l'empreinte `bdc87b9c894da5168059e00ebffb9077` ne résiste pas longtemps sur ce site : [https://md5.gromweb.com/](https://md5.gromweb.com/). C'est pourquoi, cette fonction de hachage ne doit plus être utilisée ! "
   ]
  },
  {
   "cell_type": "markdown",
   "id": "36982ca6",
   "metadata": {},
   "source": [
    "## Retour aux dictionnaires Python\n",
    "\n",
    "> Quel est le lien entre les fonctions de hachage et les  dictionnaires ?\n",
    "\n",
    "L'idée essentielle est que chaque clé est hachée pour donner une empreinte unique, qui est ensuite transformée en un indice de positionnement dans un tableau.\n",
    "\n",
    "Le dictionnaire :\n",
    "\n",
    "```python\n",
    "d = {\"pommes\": 3, \"poires\": 0, \"bananes\": 5}\n",
    "```\n",
    "\n",
    "serait donc par exemple implémenté dans un tableau comme celui-ci :\n",
    "\n",
    "![](data/hashdico.png)"
   ]
  },
  {
   "cell_type": "markdown",
   "id": "17981f0c",
   "metadata": {},
   "source": [
    "On peut remarquer que ce tableau laisse beaucoup de cases vides.\n",
    "\n",
    "Si je souhaite ensuite accéder à l'élément ```d[\"kiwis\"]``` :\n",
    "\n",
    "- le hash de la chaîne ```\"kiwis\"``` est calculé. Par exemple, ```4512d2202```.\n",
    "- l'indice de la position (éventuelle) de la clé ```\"kiwis\"``` dans mon dictionnaire est calculé à partir de ce hash ```4512d2202```. Dans notre exemple, cela pourrait donner l'indice 3.\n",
    "- Python accède **directement** à cet indice du tableau :\n",
    "    - si la valeur de la clé sur cette ligne du tableau est None, cela signifie que ```\"kiwis\"``` n'est pas une clé existante du tableau. C'est notre cas ici car il n'y a rien à la ligne 3.\n",
    "    - si la valeur de la clé sur cette ligne du tableau est bien ```\"kiwis\"```, la valeur correspondante est renvoyée.\n",
    "\n",
    "En résumé, Python sait toujours où aller chercher un élément de son dictionnaire : soit il le trouve à l'endroit calculé, soit il n'y a rien à cet endroit calculé, ce qui veut dire que l'élément ne fait pas partie du dictionnaire. \n",
    "\n",
    "Par ce mécanisme, l'accès à un élément du dictionnaire se fait toujours en temps **constant**.\n",
    "\n",
    "Il existe une manière de « voir » que Python utilise une fonction de hachage pour implémenter un dictionnaire :"
   ]
  },
  {
   "cell_type": "code",
   "execution_count": 9,
   "id": "e174c80e",
   "metadata": {},
   "outputs": [
    {
     "ename": "TypeError",
     "evalue": "unhashable type: 'list'",
     "output_type": "error",
     "traceback": [
      "\u001b[1;31m---------------------------------------------------------------------------\u001b[0m",
      "\u001b[1;31mTypeError\u001b[0m                                 Traceback (most recent call last)",
      "\u001b[1;32m<ipython-input-9-e3c61f37c6b5>\u001b[0m in \u001b[0;36m<module>\u001b[1;34m\u001b[0m\n\u001b[0;32m      8\u001b[0m \u001b[1;33m\u001b[0m\u001b[0m\n\u001b[0;32m      9\u001b[0m \u001b[1;31m# une liste peut-elle être une clé ? --> NON\u001b[0m\u001b[1;33m\u001b[0m\u001b[1;33m\u001b[0m\u001b[1;33m\u001b[0m\u001b[0m\n\u001b[1;32m---> 10\u001b[1;33m \u001b[0mmondico\u001b[0m\u001b[1;33m[\u001b[0m\u001b[1;33m[\u001b[0m\u001b[1;36m2\u001b[0m\u001b[1;33m,\u001b[0m\u001b[1;36m5\u001b[0m\u001b[1;33m]\u001b[0m\u001b[1;33m]\u001b[0m \u001b[1;33m=\u001b[0m \u001b[1;34m\"loulou\"\u001b[0m\u001b[1;33m\u001b[0m\u001b[1;33m\u001b[0m\u001b[0m\n\u001b[0m",
      "\u001b[1;31mTypeError\u001b[0m: unhashable type: 'list'"
     ]
    }
   ],
   "source": [
    "mondico = {}\n",
    "\n",
    "# un nombre peut-il être une clé ? --> OUI\n",
    "mondico[4] = \"foo\"\n",
    "\n",
    "# une chaîne de caractères peut-elle être une clé ? --> OUI\n",
    "mondico[\"riri\"] = \"fifi\"\n",
    "\n",
    "# une liste peut-elle être une clé ? --> NON\n",
    "mondico[[2,5]] = \"loulou\""
   ]
  },
  {
   "cell_type": "markdown",
   "id": "2945ef3d",
   "metadata": {},
   "source": [
    "Le message d'erreur est explicite : le type ```list``` que nous avons voulu utiliser comme clé n'est pas hachable, car c'est un type d'objet pouvant être modifié a posteriori tout en gardant la même référence (on dit que c'est un objet **mutable**) :"
   ]
  },
  {
   "cell_type": "code",
   "execution_count": 10,
   "id": "ebb0fac7",
   "metadata": {},
   "outputs": [
    {
     "name": "stdout",
     "output_type": "stream",
     "text": [
      "2819681505736\n",
      "2819681505736\n"
     ]
    }
   ],
   "source": [
    "a = [3, 6, 8]\n",
    "print(id(a))\n",
    "a.append(12)\n",
    "print(id(a))"
   ]
  },
  {
   "cell_type": "markdown",
   "id": "ffd9b3ff",
   "metadata": {},
   "source": [
    "Ce changement de valeur tout en gardant la même référence détruirait le principe associant à une clé unique une position unique dans le tableau implémentant le dictionnaire.\n",
    "\n",
    "Ce problème ne se pose pas si la variable désigne une chaîne de caractères, ou un nombre :"
   ]
  },
  {
   "cell_type": "code",
   "execution_count": 11,
   "id": "a7fc68cc",
   "metadata": {},
   "outputs": [
    {
     "name": "stdout",
     "output_type": "stream",
     "text": [
      "2819682534256\n",
      "2819682534480\n"
     ]
    }
   ],
   "source": [
    "a = 2023\n",
    "print(id(a))\n",
    "a = a + 1\n",
    "print(id(a))"
   ]
  },
  {
   "cell_type": "markdown",
   "id": "acfd81a2",
   "metadata": {},
   "source": [
    "Un variable contenant un entier est donc un objet **immuable** car si on modifie la valeur de l'entier, la référence de la variable changera aussi. Comme un dictionnaire a besoin d'avoir des clés dont les références soient définitives, seuls les objets **immuables** peuvent donc servir de clés dans les dictionnaires."
   ]
  },
  {
   "cell_type": "markdown",
   "id": "a8a94705",
   "metadata": {},
   "source": [
    "## Utilisation de quelques fonctions de hachage\n",
    "\n",
    "### En Python\n",
    "\n",
    "En Python, la fonction `hash()` est accessible nativement, mais n'est pas à utiliser pour des applications sensibles :"
   ]
  },
  {
   "cell_type": "code",
   "execution_count": 12,
   "id": "adb47ffb",
   "metadata": {},
   "outputs": [
    {
     "data": {
      "text/plain": [
       "-2945528429037095996"
      ]
     },
     "execution_count": 12,
     "metadata": {},
     "output_type": "execute_result"
    }
   ],
   "source": [
    "hash(\"Vive la NSI\")"
   ]
  },
  {
   "cell_type": "code",
   "execution_count": 13,
   "id": "cb1c6ad0",
   "metadata": {},
   "outputs": [
    {
     "data": {
      "text/plain": [
       "-1612067756032566050"
      ]
     },
     "execution_count": 13,
     "metadata": {},
     "output_type": "execute_result"
    }
   ],
   "source": [
    "hash(\"vive la NSI\")  # un seul caractère différent --> hash totalement différent"
   ]
  },
  {
   "cell_type": "markdown",
   "id": "b0461ee9",
   "metadata": {},
   "source": [
    "Pour utiliser la fonction SHA-256, on peut utiliser le module `hashlib` (voir [documentation officielle](https://docs.python.org/fr/3/library/hashlib.html)). Par exemple, pour hacher un mot de passe (destiné à être écrit en base de données) :"
   ]
  },
  {
   "cell_type": "code",
   "execution_count": 14,
   "id": "8cefe3a8",
   "metadata": {},
   "outputs": [
    {
     "data": {
      "text/plain": [
       "'b9c950640e1b3740e98acb93e669c65766f6670dd1609ba91ff41052ba48c6f3'"
      ]
     },
     "execution_count": 14,
     "metadata": {},
     "output_type": "execute_result"
    }
   ],
   "source": [
    "import hashlib\n",
    "\n",
    "def hash_mdp(mdp):\n",
    "    mdp_utf8 = str(mdp).encode('utf-8')\n",
    "    return hashlib.sha256(mdp_utf8).hexdigest()\n",
    "\n",
    "hash_mdp(\"password1234\")"
   ]
  },
  {
   "cell_type": "markdown",
   "id": "b8ffd3d9",
   "metadata": {},
   "source": [
    "### Dans le terminal\n",
    "\n",
    "On peut utiliser la fonction `md5sum` sous Linux de la façon suivante dans un **terminal** :\n",
    "\n",
    "```bash\n",
    "$ echo \"Vive la NSI\" | md5sum\n",
    "0578f6f1845600d4eeea883d610fccfe  -\n",
    "$ echo \"vive la NSI\" | md5sum\n",
    "b3596079dc6c389c62a62f62e83d8aee  -\n",
    "$ echo Vive la NSI | md5sum\n",
    "0578f6f1845600d4eeea883d610fccfe  -\n",
    "```\n",
    "\n",
    "On peut également utiliser cette fonction pour calculer l'empreinte d'un fichier :\n",
    "\n",
    "```bash\n",
    "$ md5sum mon_fichier.txt\n",
    "```\n",
    "\n",
    "Il est aussi possible d'utiliser la fonction `sha256sum` pour appliquer la fonction de hachage SHA-256 :\n",
    "\n",
    "```bash\n",
    "$ sha256sum -b mon_fichier.txt\n",
    "```\n",
    "\n",
    "**À tester !**\n",
    "\n",
    "1. Créez une fichier `mon_fichier.txt` avec plusieurs paragraphes (vous pouvez utiliser [https://fr.lipsum.com/](https://fr.lipsum.com/) puis calculer son empreinte avec les fonctions `md5sum` et `sha256sum`.\n",
    "2. Modifiez légèrement le contenu du fichier (ajoutez un espace par exemple) et recalculez les deux empreintes. Vous devriez constater qu'elles sont totalement différentes que celles précédentes (pour un seul caractère qui diffère).\n"
   ]
  },
  {
   "cell_type": "markdown",
   "id": "58f517dc",
   "metadata": {},
   "source": [
    "# Conclusion\n",
    "\n",
    "- Les dictionnaires sont des structures de données de type *tableau associatif* qui permettent d'associer des valeurs à des clés.\n",
    "- La recherche d'un élément dans un dictionnaire est très rapide : elle se fait en **temps constant**. En particulier, elle est beaucoup plus rapide que la recherche dans un liste, qui elle se fait en temps linéaire.\n",
    "- Cette rapidité de recherche dans un dictionnaire Python est possible car ces derniers sont implémentés par des *tables de hachages* (hors programme).\n",
    "- Les tables de hachage utilisent des *fonctions de hachage* qui permettent de créer une empreinte de taille fixe à partir d'un objet de départ. Il est impossible de retrouver l'objet de départ à partir de l'empreinte, et deux objets différents donnent deux empreintes différentes.\n",
    "- Dans le cas des dictionnaires, pour chercher une valeur à partir d'une clé, Python calcule l'empreinte de la clé (rapide), puis déduit de cette empreinte (rapide) l'indice du tableau dans lequel est stocké la valeur. Il peut ensuite accéder *directement* à cette valeur. Il n'est donc pas nécessaire de parcourir chaque paire clé-valeur pour chercher une valeur dans un dictionnaire, d'où la rapidité de recherche.\n",
    "- Les fonctions de hachage sont très utilisés en informatique : ce sont les valeurs hashées des mots de passe qui sont stockées en base de données, on peut vérifier l'intégrité et l'authenticité d'un fichier avec une fonction de hachage. Les fonctions de hachage sont à la base de la technologie de la blockchain sur laquelle s'appuient les cryptomonnaies.\n",
    "- Pour voir un résumé sur les tables de hachage, cette vidéo est très bien faite : [https://youtu.be/IhJo8sXLfVw](https://youtu.be/IhJo8sXLfVw)."
   ]
  },
  {
   "cell_type": "markdown",
   "id": "554e096c",
   "metadata": {},
   "source": [
    "---\n",
    "\n",
    "**Références** :\n",
    "\n",
    "- Cours de Gilles Lassus sur les dictionnaires : [https://glassus.github.io/terminale_nsi/T1_Structures_de_donnees/1.2_Dictionnaires/cours/](https://glassus.github.io/terminale_nsi/T1_Structures_de_donnees/1.2_Dictionnaires/cours/)\n",
    "- Cours d'Olivier Lécluse sur les dictionnaires : [https://www.lecluse.fr/nsi/NSI_T/donnees/dico/](https://www.lecluse.fr/nsi/NSI_T/donnees/dico/)\n",
    "- Vidéo de la chaîne *Cours Python* sur les dictionnaires : [https://youtu.be/VnhBoQAgIVs](https://youtu.be/VnhBoQAgIVs)\n",
    "\n",
    "---\n",
    "Germain BECKER, Lycée Mounier, ANGERS\n",
    "\n",
    "Ressource éducative libre distribuée sous [Licence Creative Commons Attribution - Partage dans les Mêmes Conditions 4.0 International](http://creativecommons.org/licenses/by-sa/4.0/) \n",
    "\n",
    "![Licence Creative Commons](https://i.creativecommons.org/l/by-sa/4.0/88x31.png)"
   ]
  }
 ],
 "metadata": {
  "kernelspec": {
   "display_name": "Python 3",
   "language": "python",
   "name": "python3"
  },
  "language_info": {
   "codemirror_mode": {
    "name": "ipython",
    "version": 3
   },
   "file_extension": ".py",
   "mimetype": "text/x-python",
   "name": "python",
   "nbconvert_exporter": "python",
   "pygments_lexer": "ipython3",
   "version": "3.7.10"
  }
 },
 "nbformat": 4,
 "nbformat_minor": 5
}
