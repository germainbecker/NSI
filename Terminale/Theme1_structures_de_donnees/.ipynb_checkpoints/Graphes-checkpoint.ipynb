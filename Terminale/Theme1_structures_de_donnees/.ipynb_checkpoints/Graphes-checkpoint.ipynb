{
 "cells": [
  {
   "cell_type": "markdown",
   "metadata": {},
   "source": [
    "Les graphes sont une structure de données très riche permettant de modéliser des situations variées de relations entre un ensemble d'entités :\n",
    "\n",
    "- entre les ordinateurs du réseau internet ;\n",
    "\n",
    "<img class=\"centre image-responsive\" alt=\"réseau Internet\" src=\"data/internet.svg\" width=\"400\">\n",
    "\n",
    "<p style=\"text-align: center; color: #888\"><em>Source : <a href=\"https://fr.wikipedia.org/wiki/Internet#/media/Fichier:Internet-transit.svg\" target=\"_blank\">Wikipedia</a>, Mro, licence CC BY-SA 3.0</em></p>\n",
    "\n",
    "- entre des personnes sur un réseau social ;\n",
    "\n",
    "<img class=\"centre image-responsive\" alt=\"réseau Internet\" src=\"data/rs.svg\" width=\"400\">\n",
    "\n",
    "<p style=\"text-align: center; color: #888\"><em>Source : <a href=\"https://pixabay.com/fr/vectors/connexions-communications-social-2099068/\" target=\"_blank\">Pixabay</a></em></p>\n",
    "\n",
    "\n",
    "\n",
    "- entre les villes dans un réseau routier ou de distribution ;\n",
    "\n",
    "<img class=\"centre image-responsive\" alt=\"réseau Internet\" src=\"data/dijkstra.svg\" width=\"400\">\n",
    "\n",
    "<p style=\"text-align: center; color: #888\"><em>Source : <a href=\"https://fr.wikipedia.org/wiki/Algorithme_de_Dijkstra#/media/Fichier:DijkstraBis01.svg\" target=\"_blank\">Wikipedia</a>, HB, licence CC BY-SA 3.0</em></p>\n",
    "\n",
    "- entre les atomes d'une molécule ;\n",
    "\n",
    "<img class=\"centre image-responsive\" alt=\"réseau Internet\" src=\"data/molecule.svg\" width=\"400\">\n",
    "\n",
    "<p style=\"text-align: center; color: #888\"><em>Source : <a href=\"https://fr.wikipedia.org/wiki/Mol%C3%A9cule#/media/Fichier:Sucrose_molecule.svg\" target=\"_blank\">Wikipedia</a>, William Crochot, licence CC BY-SA 4.0</em></p>\n",
    "\n",
    "- entre les ressources du Web (les relations sont les liens hypertextes) ;\n",
    "- entre deux situations dans un jeu ;\n",
    "- etc.\n",
    "\n",
    "Les relations peuvent être orientées ou non.\n",
    "\n",
    "\n",
    "# Définitions et vocabulaire"
   ]
  },
  {
   "cell_type": "markdown",
   "metadata": {},
   "source": [
    "<p class=\"important\">Un graphe est constitué d'un ensemble de <strong>sommets</strong> et dans le cas orienté d'un ensemble d'<strong>arcs</strong> reliant chacun un sommet à un autre, dans le cas non orienté d'un ensemble d'<strong>arêtes</strong> entre deux sommets.</p>\n",
    "\n",
    "Mathématiquement, un graphe $G$ est donc un couple formé de deux ensembles : $X = \\{ x_1, x_2, \\ldots, x_n \\}$ dont les éléments sont appelés les sommets et un ensemble $A = \\{a_1, a_2, \\ldots, a_m\\}$ dont les éléments sont appelés les arêtes dans le cas non orienté ou les arcs dans le cas orienté. Une arête (ou un arc) $a_i$ est un couple de deux sommets, par exemple : $a_i = (x_2, x_5)$ symbolise le lien (arête ou arc) entre les sommets $x_2$ et $x_5$. On peut noter $G = (X, A)$."
   ]
  },
  {
   "cell_type": "markdown",
   "metadata": {},
   "source": [
    "## Vocabulaire des graphes *non orientés*"
   ]
  },
  {
   "cell_type": "markdown",
   "metadata": {},
   "source": [
    "<div class=\"important\">\n",
    "    <p>Dans le cas des graphes non orientés, les relations entre deux sommets se font dans les deux sens. On appelle ses relations des <strong>arêtes</strong> (<em>edges</em> en anglais), et on a les définitions suivantes.</p>\n",
    "    <ul>\n",
    "        <li><strong>Sommets adjacents</strong> : deux sommets sont adjacents s'ils sont reliés entre eux par une arête. On dit que l'arête est incidente aux deux sommets.</li>\n",
    "        <li><strong>Voisins d'un sommet $x$</strong> : ce sont tous les sommets reliés à $x$ par une arête.</li>\n",
    "        <li><strong>Degré d'un sommet $x$</strong> : nombre d’arêtes incidentes au sommet, on le note $d(x)$.</li>\n",
    "        <li><strong>Chaîne</strong> : séquence ordonnée d'arêtes telle que chaque arête a une extrémité en commun avec l'arête suivante.</li>\n",
    "        <li><strong>Cycle</strong> : dans un graphe non orienté, un cycle est une suite d'arêtes consécutives (chaîne) dont les deux sommets extrémités sont identiques.</li>\n",
    "        <li><strong>Boucle</strong> : il peut exister des arêtes entre un sommet $x$ et lui-même. Elles sont appelés <em>boucles</em>. </li>\n",
    "    </ul>\n",
    "</div>"
   ]
  },
  {
   "cell_type": "markdown",
   "metadata": {},
   "source": [
    "### Exemple\n",
    "\n",
    "<img class=\"centre image-responsive\" alt=\"graphe non orienté\" src=\"data/graphe_non_oriente.png\" width=\"400\">"
   ]
  },
  {
   "cell_type": "markdown",
   "metadata": {},
   "source": [
    "* Ce graphe *non orienté* est donné par :\n",
    "    * un ensemble de sommets : $\\{A, B, C, D, E, F, G\\}$,\n",
    "    * un ensemble d'arêtes : $\\{(A,B), (A,F), (A,G), (B,C), (B, F), \\ldots \\}$.\n",
    "* Les sommets $A$ et $B$ sont adjacents mais $B$ et $D$ ne le sont pas.\n",
    "* Les voisins du sommet $A$ sont $B$, $F$ et $G$.\n",
    "* Le degré du sommet $A$ est égal à 3 ($d(A)=3$).\n",
    "* $A,B,C,D$ est une chaîne, $A,B,F$ aussi.\n",
    "* $A,F, G,A$ est un cycle.\n",
    "* Il y a une boucle $(E, E)$. Le degré de $E$ est égal à 4."
   ]
  },
  {
   "cell_type": "markdown",
   "metadata": {},
   "source": [
    "## Vocabulaire des graphes *orientés*"
   ]
  },
  {
   "cell_type": "markdown",
   "metadata": {},
   "source": [
    "<div class=\"important\">\n",
    "    <p>Dans le cas des graphes orientés, les arêtes ont un sens et elles sont appelées <strong>arcs</strong>. Par exemple, l'arête $a = (x, y)$ indique qu'il y a un arc d'origine $x$ et d'extrémité finale $y$. De plus, on a les définitions suivantes.</p>\n",
    "    <ul>\n",
    "        <li><strong>Successeurs et prédécesseurs d'un sommet $x$</strong> : dans un graphe orienté on ne parle plus de <em>voisins</em> d'un sommet mais de ses successeurs et de ses prédécesseurs : le successeurs de $x$ sont tous les sommets $y$ tels qu'il existe un arc $(x, y)$ (de $x$ vers $y$) et les prédécesseurs de $x$ sont tous les sommets $w$ tels qu'il existe un arc $(w, x)$ (de $w$ vers $x$).</li>\n",
    "        <li><strong>Chemin</strong> : séquence ordonnée d'arcs consécutifs (on parlait de <em>chaîne</em> dans un graphe non orienté).</li>\n",
    "        <li><strong>Circuit</strong> : dans un graphe orienté, un circuit est une suite d'arcs consécutifs (chemin) dont les deux sommets extrémités sont identiques.</li>\n",
    "        <li><strong>Degré d'un sommet $x$</strong> : cette notion existe aussi dans le cas des graphes orientés. On distingue le degré entrant d'un sommet $x$ (noté $d_-(x)$ = nombre de prédécesseurs de $x$) et le degré sortant d'un sommet $x$ (noté $d_+(x)$ = nombre de sucesseurs de $x$). Le degré d'un sommet $x$ vaut $d(x) = d_+(x) + d_-(x)$.</li>\n",
    "        <li><strong>Boucle</strong> : ce sont les arcs entre un sommet et lui-même.</li>\n",
    "    </ul>\n",
    "</div>"
   ]
  },
  {
   "cell_type": "markdown",
   "metadata": {},
   "source": [
    "### Exemple\n",
    "\n",
    "<img class=\"centre image-responsive\" alt=\"graphe non orienté\" src=\"data/graphe_oriente.png\" width=\"400\">"
   ]
  },
  {
   "cell_type": "markdown",
   "metadata": {},
   "source": [
    "* Ce graphe *orienté* est donné par :\n",
    "    * un ensemble de sommets : $\\{A, B, C, D, E, F, G\\}$,\n",
    "    * un ensemble d'arcs : $\\{(A,B), (A,F), (B,C), (C,F), (C, D), \\ldots \\}$.\n",
    "* Les successeurs de $A$ sont les sommets $B$ et $F$, le seul prédécesseur de $A$ est $G$.\n",
    "* Le degré du sommet $A$ est égal à 3 ($d(A)= d_+(A) + d_-(A) = 2 + 1 = 3$).\n",
    "* $A,B,C,D$ est un chemin mais $A,B,F$ n'en est pas un car il n'y a pas d'arc $(B,F)$ (de $B$ vers $F$).\n",
    "* $A,F,G,A$ est un circuit.\n",
    "* Il n'y a pas de boucle ici."
   ]
  },
  {
   "cell_type": "markdown",
   "metadata": {},
   "source": [
    "## Graphes valués\n",
    "\n",
    "Certains graphes (orientés ou non) sont dits *valués* : on ajoute un coût (ou valuation, ou poids) à chaque arête/arc. Dans le cas d'un graphe représentant un réseau routier, le coût sur chaque arête pourrait, par exemple, être la distance entre deux villes.\n",
    "\n",
    "<img class=\"centre image-responsive\" alt=\"graphe non orienté\" src=\"data/graphe_value.png\" width=\"400\">"
   ]
  },
  {
   "cell_type": "markdown",
   "metadata": {},
   "source": [
    "# Représentations d'un graphe\n",
    "\n",
    "## Représentation par matrice d'adjacence\n",
    "\n",
    "Une **matrice** $M$ est un tableau de nombres, qui peut être représenté en machine par un tableau de tableaux (ou une liste de listes) noté `matrice`. Chaque nombre de cette matrice est repéré par son numéro de ligne $i$ et son numéro de colonne $j$. On note ce nombre $M_{i,j}$ et on peut y accéder par l'instruction `matrice[i][j]`.\n",
    "\n",
    "Un graphe à $n$ sommets peut être représentée par une **matrice d'adjacence** de taille $n\\times n$, où la valeur du coefficient d'indice $i,j$ dépend de l'existence d'une arête ou d'un arc reliant les sommets $i$ et $j$.\n",
    "\n",
    "**Exemple (graphe orienté)** : Si les sommets $A, B, C, \\ldots$ du graphe\n",
    "\n",
    "<img class=\"centre image-responsive\" alt=\"graphe non orienté\" src=\"data/graphe_non_oriente.png\" width=\"400\">\n",
    "\n",
    "sont respectivement numérotés $0$, $1$, $2$, etc. alors sa matrice d'adjacence est\n",
    "\n",
    "$$M = \\left (\\begin{array}{ccccccc} \n",
    "0& 1& 0& 0& 0& 1& 1 \\\\\n",
    "1& 0& 1& 0& 0& 1& 0 \\\\\n",
    "0& 1& 0& 1& 0& 1& 0 \\\\\n",
    "0& 0& 1& 0& 1& 0& 0 \\\\\n",
    "0& 0& 0& 1& 1& 1& 0 \\\\\n",
    "1& 1& 1& 0& 1& 0& 1 \\\\\n",
    "1& 0& 0& 0& 0& 1& 0\n",
    "\\end{array}\\right)$$\n",
    "\n",
    "Par exemple, le sommet $C$ correspond à la troisième ligne. Celle-ci contient dans cet ordre les nombres 0, 1, 0, 1, 0, 1, 0 donc cela signifie qu'il y a des **arêtes** $(C,B)$, $(C, D)$ et $(C,F)$ (les 1) mais pas entre $C$ et les sommets $A$, $C$, $E$ et $G$ (les 0).\n",
    "\n",
    "Cette matrice peut être mémorisée en machine par le tableau de tableaux suivant."
   ]
  },
  {
   "cell_type": "code",
   "execution_count": 1,
   "metadata": {},
   "outputs": [],
   "source": [
    "matrice = [\n",
    "    [0, 1, 0, 0, 0, 1, 1],\n",
    "    [1, 0, 1, 0, 0, 1, 0],\n",
    "    [0, 1, 0, 1, 0, 1, 0],\n",
    "    [0, 0, 1, 0, 1, 0, 0],\n",
    "    [0, 0, 0, 1, 1, 1, 0],\n",
    "    [1, 1, 1, 0, 1, 0, 1],\n",
    "    [1, 0, 0, 0, 0, 1, 0]\n",
    "]"
   ]
  },
  {
   "cell_type": "markdown",
   "metadata": {},
   "source": [
    "> Dans le cas d'un graphe non orienté, la matrice d'adjacence est nécessairement *symétrique* par rapport à sa diagonale : on a $M_{i,j} = M_{j,i}$."
   ]
  },
  {
   "cell_type": "markdown",
   "metadata": {},
   "source": [
    "**Exemple (graphe non orienté)** :\n",
    "\n",
    "C'est le même principe en faisant attention au sens des arcs : $M_{i,j} = 1$ s'il y a un arc d'origine $i$ et d'extrémité $j$ et $M_{i,j} = 0$ sinon. Ainsi, le graphe\n",
    "\n",
    "<img class=\"centre image-responsive\" alt=\"graphe non orienté\" src=\"data/graphe_oriente.png\" width=\"400\">\n",
    "\n",
    "a pour matrice d'adjacence\n",
    "\n"
   ]
  },
  {
   "cell_type": "markdown",
   "metadata": {},
   "source": [
    "$$M = \\left (\\begin{array}{ccccccc} \n",
    "0& 1& 0& 0& 0& 1& 0 \\\\\n",
    "0& 0& 1& 0& 0& 0& 0 \\\\\n",
    "0& 0& 0& 1& 0& 1& 0 \\\\\n",
    "0& 0& 1& 0& 0& 0& 0 \\\\\n",
    "0& 0& 0& 1& 0& 0& 0 \\\\\n",
    "0& 1& 0& 0& 1& 0& 1 \\\\\n",
    "1& 0& 0& 0& 0& 0& 0\n",
    "\\end{array}\\right)$$\n",
    "\n",
    "Par exemple, le sommet $C$ correspond à la troisième ligne. Celle-ci contient dans cet ordre les nombres 0, 0, 0, 1, 0, 1, 0 donc cela signifie qu'il y a des **arcs** $(C,D)$ et $(C,F)$ (les 1) mais pas entre $C$ et les autres sommets (les 0).\n",
    "\n",
    "> Comme les arcs ont un sens, la matrice d'adjacence d'un graphe orienté n'est générallement pas symétrique."
   ]
  },
  {
   "cell_type": "markdown",
   "metadata": {},
   "source": [
    "## Représentation par listes des successeurs\n",
    "\n",
    "Une autre façon de représenter un graphe est d'associer à chaque sommet la liste des sommets auxquels il est relié. Dans le cas d'un graphe orienté, on parle de **liste de successeurs**, alors que dans le cas d'un graphe non orienté on parle de **liste de voisins**.\n",
    "\n",
    "Une façon simple et efficace est d'utiliser un *dictionnaire* où chaque sommet est associé à la liste de ses successeurs/voisins.\n",
    "\n",
    "**Exemples** : \n",
    "\n",
    "- Le graphe non orienté\n",
    "<img class=\"centre image-responsive\" alt=\"graphe non orienté\" src=\"data/graphe_non_oriente.png\" width=\"400\">\n",
    "peut être représenté par le dictionnaire suivant, où les clés sont les sommets et les valeurs sont les listes de voisins."
   ]
  },
  {
   "cell_type": "code",
   "execution_count": 2,
   "metadata": {},
   "outputs": [],
   "source": [
    "dico1 = {\n",
    "    \"A\": [\"B\", \"F\", \"G\"],\n",
    "    \"B\": [\"A\", \"C\", \"F\"],\n",
    "    \"C\": [\"B\", \"D\", \"F\"],\n",
    "    \"D\": [\"C\", \"E\"],\n",
    "    \"E\": [\"D\", \"E\", \"F\"],\n",
    "    \"F\": [\"A\", \"B\", \"C\", \"E\", \"G\"],\n",
    "    \"G\": [\"A\", \"F\"]\n",
    "}"
   ]
  },
  {
   "cell_type": "markdown",
   "metadata": {},
   "source": [
    "- Le graphe orienté\n",
    "<img class=\"centre image-responsive\" alt=\"graphe non orienté\" src=\"data/graphe_oriente.png\" width=\"400\">\n",
    "peut être représenté par le dictionnaire suivant, où les clés sont les sommets et les valeurs sont les listes de successeurs."
   ]
  },
  {
   "cell_type": "code",
   "execution_count": 3,
   "metadata": {},
   "outputs": [],
   "source": [
    "dico2 = {\n",
    "    \"A\": [\"B\", \"F\"],\n",
    "    \"B\": [\"C\"],\n",
    "    \"C\": [\"D\", \"F\"],\n",
    "    \"D\": [\"C\"],\n",
    "    \"E\": [\"D\"],\n",
    "    \"F\": [\"B\", \"E\", \"G\"],\n",
    "    \"G\": [\"A\"]\n",
    "}"
   ]
  },
  {
   "cell_type": "markdown",
   "metadata": {},
   "source": [
    "## Efficacité des représentations\n",
    "\n",
    "La matrice d'adjacence est simple à mettre en oeuvre mais nécessite un espace mémoire proportionnel à $n \\times n$ (où $n$ est le nombre de sommets). Ainsi, un graphe de 1000 sommets nécessitent une matrice d'un million de nombres même si le graphe contient peu d'arêtes/arcs. Pour le même graphe contenant peu d'arêtes/arcs, le dictionnaire ne mémoriserait pour chaque sommet que les voisins/successeurs (les 1) sans avoir à mémoriser les autres (les 0). En revanche, pour un graphe contenant beaucoup d'arêtes/arcs, la dictionnaire occuperait plus d'espace mémoire que la matrice d'adjacence.\n",
    "\n",
    "Cela implique en outre que l'accès aux voisins/sucesseurs d'un sommet est plus rapide avec le dictionnaire car il n'est pas nécessaire de parcourir toute la ligne de la matrice ($n$ valeurs) alors même que celle-ci peut ne contenir que très peu de 1. \n",
    "\n",
    "De plus, l'utilisation d'un dictionnaire permet de nommer les sommets sans ambiguité et ne les limite pas à des entiers comme c'est le cas pour la matrice d'adjacence (même si on peut associer chacun de ces entiers au sommet correspondant, ce que nous avons fait précédemment). \n",
    "\n",
    "Enfin, au lieu d'utiliser le type liste (`list` de Python ici) pour mémoriser les voisins/successeurs, on peut avantageusement utiliser le type ensemble (type prédéfini `set` de Python) qui est une structure de données permettant un accès plus efficace aux éléments (l'implémentation se fait par des *tables de hachage*, hors programme de NSI).\n",
    "\n",
    "> **A faire** : tous les exercices du notebook d'activités !"
   ]
  },
  {
   "cell_type": "markdown",
   "metadata": {},
   "source": [
    "# Implémentations\n",
    "\n",
    "La fin de ce cours résume une partie de ce qui a été fait en exercices, notamment deux implémentations du type `GrapheNonOriente` défini par l'interface suivante :\n",
    "\n",
    "* `faire_graphe(sommets)` pour construire un graphe (sans les arêtes) à partir de la liste `sommets` de ses sommets.\n",
    "* `ajouter_arete(G, x, y)` pour ajouter une arête entre les sommets `x` et `y` du graphe `G`.\n",
    "* `sommets(G)` pour accéder à la liste des sommets du graphe `G`.\n",
    "* `voisins(G, x)` pour accéder à la liste des voisins du sommet `x` du graphe `G`.\n",
    "\n",
    "La première implémentation se fait par une classe `GrapheNoMa` s'appuyant sur la représentation par une matrice d'adjacence et la seconde par une classe `GrapheNoLs` s'appuyant sur les listes de successeurs (qui sont les voisins dans le cas d'un graphe non orienté).\n",
    "\n",
    "On termine en présentant comment passer d'une représentation à l'autre."
   ]
  },
  {
   "cell_type": "markdown",
   "metadata": {},
   "source": [
    "## Par une matrice d'adjacence\n",
    "\n",
    "Voici la classe `GrapheNoMa` s'appuyant sur une matrice d'adjacence."
   ]
  },
  {
   "cell_type": "code",
   "execution_count": 4,
   "metadata": {},
   "outputs": [],
   "source": [
    "class GrapheNoMa:\n",
    "    def __init__ (self, sommets):\n",
    "        self.som = sommets\n",
    "        self.dimension = len(sommets)\n",
    "        self.adjacence = [[0 for i in range(self.dimension)] for j in range(self.dimension)]\n",
    "    \n",
    "    def ajouter_arete(self, x, y):\n",
    "        i = self.som.index(x)\n",
    "        j = self.som.index(y)\n",
    "        self.adjacence[i][j] = 1\n",
    "        self.adjacence[j][i] = 1\n",
    "    \n",
    "    def sommets(self):\n",
    "        return self.som\n",
    "    \n",
    "    def voisins(self, x):\n",
    "        i = self.som.index(x)\n",
    "        return [self.som[j] for j in range(self.dimension) if self.adjacence[i][j] == 1]"
   ]
  },
  {
   "cell_type": "markdown",
   "metadata": {},
   "source": [
    "## Par une liste de successeurs\n",
    "\n",
    "Voici la classe `GrapheNoLs` s'appuyant sur un dictionnaire contenant les listes de successeurs de chaque sommet."
   ]
  },
  {
   "cell_type": "code",
   "execution_count": 5,
   "metadata": {},
   "outputs": [],
   "source": [
    "class GrapheNoLs:\n",
    "    def __init__ (self, sommets):\n",
    "        self.som = sommets\n",
    "        self.dic = {sommet: [] for sommet in self.som} # création par compréhension\n",
    "    \n",
    "    def ajouter_arete(self, x, y):\n",
    "        if y not in self.dic[x]:\n",
    "            self.dic[x].append(y)\n",
    "        if x not in self.dic[y]:\n",
    "            self.dic[y].append(x)\n",
    "    \n",
    "    def sommets(self):\n",
    "        return self.som\n",
    "    \n",
    "    def voisins(self, x):\n",
    "        return self.dic[x]"
   ]
  },
  {
   "cell_type": "markdown",
   "metadata": {},
   "source": [
    "On peut alors créer des graphes comme objets de ces deux classes et leur ajouter des arrêtes."
   ]
  },
  {
   "cell_type": "code",
   "execution_count": 6,
   "metadata": {},
   "outputs": [],
   "source": [
    "# graphe g1 représenté par une matrice d'adjacence\n",
    "g1 = GrapheNoMa([\"a\", \"b\", \"c\", \"d\"])\n",
    "g1.ajouter_arete(\"a\", \"b\")\n",
    "g1.ajouter_arete(\"a\", \"c\")\n",
    "g1.ajouter_arete(\"c\", \"d\")\n",
    "\n",
    "# graphe g2 représenté par liste de successeurs\n",
    "g2 = GrapheNoLs([\"a\", \"b\", \"c\", \"d\"])\n",
    "g2.ajouter_arete(\"a\", \"b\")\n",
    "g2.ajouter_arete(\"a\", \"c\")\n",
    "g2.ajouter_arete(\"c\", \"d\")"
   ]
  },
  {
   "cell_type": "markdown",
   "metadata": {},
   "source": [
    "On peut accéder aux graphes à travers les fonctions de l'interface du type abstrait de manière totalement identique."
   ]
  },
  {
   "cell_type": "code",
   "execution_count": 7,
   "metadata": {},
   "outputs": [
    {
     "name": "stdout",
     "output_type": "stream",
     "text": [
      "['a', 'b', 'c', 'd']\n",
      "['a', 'd']\n"
     ]
    }
   ],
   "source": [
    "print(g1.sommets())\n",
    "print(g1.voisins(\"c\"))"
   ]
  },
  {
   "cell_type": "code",
   "execution_count": 8,
   "metadata": {},
   "outputs": [
    {
     "name": "stdout",
     "output_type": "stream",
     "text": [
      "['a', 'b', 'c', 'd']\n",
      "['a', 'd']\n"
     ]
    }
   ],
   "source": [
    "print(g2.sommets())\n",
    "print(g2.voisins(\"c\"))"
   ]
  },
  {
   "cell_type": "markdown",
   "metadata": {},
   "source": [
    "En Python, un utilisateur malin pourra observer la façon dont sont mémorisées les graphes dans les deux cas :"
   ]
  },
  {
   "cell_type": "code",
   "execution_count": 9,
   "metadata": {},
   "outputs": [
    {
     "data": {
      "text/plain": [
       "[[0, 1, 1, 0], [1, 0, 0, 0], [1, 0, 0, 1], [0, 0, 1, 0]]"
      ]
     },
     "execution_count": 9,
     "metadata": {},
     "output_type": "execute_result"
    }
   ],
   "source": [
    "g1.adjacence"
   ]
  },
  {
   "cell_type": "code",
   "execution_count": 10,
   "metadata": {},
   "outputs": [
    {
     "data": {
      "text/plain": [
       "{'a': ['b', 'c'], 'b': ['a'], 'c': ['a', 'd'], 'd': ['c']}"
      ]
     },
     "execution_count": 10,
     "metadata": {},
     "output_type": "execute_result"
    }
   ],
   "source": [
    "g2.dic"
   ]
  },
  {
   "cell_type": "markdown",
   "metadata": {},
   "source": [
    "Mais nous avons vu qu'il est possible de palier à ce problème en définissant une méthode de représentation identique dans chacune des deux classes pour *masquer* cette différence d'implémentation, qui importe peu à l'utilisateur de la classe."
   ]
  },
  {
   "cell_type": "markdown",
   "metadata": {},
   "source": [
    "## Passage d'une représentation à l'autre\n",
    "\n",
    "Les deux implémentations sont totalement équivalentes et on peut passer de l'une à l'autre simplement en énumérant les sommets et les voisins depuis une représentation tout en construisant l'autre représentation.\n",
    "\n",
    "Par exemple, la fonction suivante permet de passer d'une matrice d'adjacence à une liste de successeurs (la fonction de traduction réciproque est similaire)."
   ]
  },
  {
   "cell_type": "code",
   "execution_count": 11,
   "metadata": {},
   "outputs": [],
   "source": [
    "def ma_to_ls(gma):\n",
    "    gls = GrapheNoLs(gma.sommets())\n",
    "    for x in gma.sommets():\n",
    "        for y in gma.voisins(x):\n",
    "            gls.ajouter_arete(x,y)\n",
    "    return gls"
   ]
  },
  {
   "cell_type": "code",
   "execution_count": 12,
   "metadata": {},
   "outputs": [
    {
     "name": "stdout",
     "output_type": "stream",
     "text": [
      "représentation de départ : [[0, 1, 1, 0], [1, 0, 0, 0], [1, 0, 0, 1], [0, 0, 1, 0]]\n",
      "traduction : {'a': ['b', 'c'], 'b': ['a'], 'c': ['a', 'd'], 'd': ['c']}\n"
     ]
    }
   ],
   "source": [
    "g3 = ma_to_ls(g1)\n",
    "print(\"représentation de départ :\", g1.adjacence)\n",
    "print(\"traduction :\", g3.dic)"
   ]
  },
  {
   "cell_type": "markdown",
   "metadata": {},
   "source": [
    "> On peut implémenter le type abstrait `GrapheOriente` de façon quasiment similaire (fait en exercices)."
   ]
  },
  {
   "cell_type": "markdown",
   "metadata": {},
   "source": [
    "# Bilan\n",
    "\n",
    "- Le **graphe** est une structure de données permettant de modéliser de nombreuses situations de la vie courante. \n",
    "- Il est définit par un ensemble de *sommets* et de *liaisons*. Ces liaisons peuvent être orientées ou non et on les appelle alors respectivement des **arcs** ou des **arêtes**.\n",
    "- On peut représenter en machine un graphe par une *matrice d'adjacence* ou par un dictionnaire contenant les *listes de successeurs* (de chaque sommet).\n",
    "- La programmation par des classes de deux implémentations d'un graphe non orienté (resp. orienté) a prouvé que celles-ci étaient indépendantes de l'interface du type abstrait `GrapheNonOriente` (resp. `GrapheOriente`) et qu'elles sont équivalentes, on peut notamment passer de l'une à l'autre facilement.\n",
    "- Nous verrons dans un prochaine chapitre différents algorithmes sur les graphes (parcours en profondeur d'abord, en largeur d'abord, repérer des cycles, recherche de chemin dans un graphe)."
   ]
  },
  {
   "cell_type": "markdown",
   "metadata": {},
   "source": [
    "---\n",
    "\n",
    "**Références :**\n",
    "- Equipe pédagoqique DIU EIL, Université de Nantes.\n",
    "\n",
    "---\n",
    "Germain BECKER, Lycée Mounier, ANGERS \n",
    "\n",
    "![Licence Creative Commons](https://i.creativecommons.org/l/by-nc-sa/4.0/88x31.png)"
   ]
  }
 ],
 "metadata": {
  "kernelspec": {
   "display_name": "Python 3",
   "language": "python",
   "name": "python3"
  },
  "language_info": {
   "codemirror_mode": {
    "name": "ipython",
    "version": 3
   },
   "file_extension": ".py",
   "mimetype": "text/x-python",
   "name": "python",
   "nbconvert_exporter": "python",
   "pygments_lexer": "ipython3",
   "version": "3.7.3"
  }
 },
 "nbformat": 4,
 "nbformat_minor": 2
}
