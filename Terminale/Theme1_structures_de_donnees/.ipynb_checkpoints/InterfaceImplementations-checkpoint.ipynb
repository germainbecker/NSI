{
 "cells": [
  {
   "cell_type": "markdown",
   "metadata": {},
   "source": [
    "<p style=\"font-size: 2.6em; font-weight: bold width:600px\">Interface et implémentations d'une structure de données</style>\n",
    "\n",
    "\n",
    "# Définitions\n",
    "\n",
    "\n",
    "**Structure de données** : Organisation d'une collection de données en vue de leur exploitation efficace (accès, modification, ...). Elle regroupe des données à gérer et un ensemble d'opérations qu'on peut leur appliquer.\n",
    "\n",
    "**Interface** (ou *Type abstrait de données*) : Vue &laquo; logique &raquo; de la structure de données. Elle spécifie la nature des données ainsi que l'ensemble des opérations permises sur la structure.\n",
    "\n",
    "**Implémentation** : Vue &laquo; physique &raquo; de la structure de données. Il s'agit de la programmation effective des opérations définies dans l'interface, en utilisant des types de données existants.\n",
    "\n",
    ">**Remarque importante** : L'*interface* est la partie visible pour qui veut utiliser ce type de données. Elle précise comment utiliser la structure de données sans se préoccuper de la façon dont les choses ont été programmées (son *implémentation*)."
   ]
  },
  {
   "cell_type": "markdown",
   "metadata": {},
   "source": [
    "# Exemple : la structure `Rationnel`\n",
    "\n",
    "## Interface de la structure de données\n",
    "\n",
    "On aimerait définir une **structure de données** appelée `Rationnel` correspondant à l'ensemble des nombres rationnels (noté $\\mathbb Q$). Voici les opérations que l'on souhaite effectuer sur les rationnels :\n",
    "\n",
    "- Créer un rationnel\n",
    "- Accéder au numérateur et au dénominateur d'un rationnel\n",
    "- Ajouter, soustraire, multiplier, diviser deux rationnels\n",
    "- Vérifier si deux rationnels sont égaux ou non\n",
    "\n",
    "On spécifie l'ensemble des opérations souhaitées en proposant l'**interface** suivante :\n",
    "\n",
    "- `creerRationnel(n, d)` : crée un élément de type `Rationnel` à partir de deux entiers `n` (numérateur) et `d` (dénominateur). *Précondition* : $d\\neq 0$. \n",
    "- `numerateur(r)` : accès au numérateur du rationnel `r` (renvoie un entier)\n",
    "- `denominateur(r)` : accès au dénominateur du rationnel `r` (renvoie un entier non nul)\n",
    "- `ajouter(r1, r2)` : renvoie un nouveau rationnel correspondant à la somme des rationnels `r1` et `r2`\n",
    "- `soustraire(r1, r2)` : renvoie un nouveau rationnel correspondant à la différence des rationnels `r1` et `r2` (`r1` -`r2`)\n",
    "- `multiplier(r1, r2)` : renvoie un nouveau rationnel correspondant au produit des rationnels `r1` et `r2`\n",
    "- `egal(r1, r2)` : renvoie Vrai si les deux rationnels `r1` et `r2` sont égaux, Faux sinon.\n",
    "\n",
    "On ajoute à cela une opération permettant d'afficher un rationnel sous la forme d'une chaîne de caractères :\n",
    "\n",
    "- `afficher(r)` : affiche le rationnel `r` sous la forme d'une chaîne de caractères `'n/d'` où `n` et `d` sont respectivement le numérateur et le dénominateur de `r`."
   ]
  },
  {
   "cell_type": "markdown",
   "metadata": {},
   "source": [
    "## Exemple d'utilisation de la structure\n",
    "\n",
    "L'interface apporte toutes les informations nécessaires pour utiliser le type de données. Ainsi, le programmeur qui l'utilise n'a pas à se soucier de la façon dont les données sont représentées ni de la manière dont les opérations sont programmées. L'interface (uniquement) lui permet d'écrire toutes les instructions qu'il souhaite et obtenir des résultats corrects. Par exemple, il sait qu'il peut écrire le programme suivant pour manipuler le type `Rationnel` (écrit ici en Python mais on pourrait le faire dans un autre langage)\n",
    "\n",
    "```Python\n",
    "r1 = creerRationnel(1, 2)\n",
    "den = denominateur(r1)  # den vaut donc 2\n",
    "r2 = creerRationnel(1, 3*den)  # r2 représente le rationnel 1/6\n",
    "r = ajouter(r1, r2)  # r est le résultat de 1/2 + 1/6\n",
    "egal(r, creerRationnel(2, 3)) # doit renvoyer True puisque 1/2 + 1/6 = 2/3\n",
    "```\n",
    "\n",
    ">**A faire** : Activités 1 et 2 (partie A)"
   ]
  },
  {
   "cell_type": "markdown",
   "metadata": {},
   "source": [
    "## Implémentations\n",
    "\n",
    "Pour implémenter une structure de données, c'est-à-dire programmer les opérations sur la structure, il est nécessaire d'utiliser les structures de données déjà définies dans le langage utilisé. En Python, on peut avantageusement utiliser les types `int`, `float`, `boolean` ainsi que les tuples (avec le type `tuple`), les tableaux (avec le type `list`), les dictionnaires (avec le type `dict`), les ensembles (avec le type `set`).\n",
    "\n",
    "Nous allons proposer deux implémentations : l'une avec un tuple (on aurait pu utiliser un tableau de manière identique) et l'autre avec un dictionnaire.\n",
    "\n",
    "### Une implémentation possible\n",
    "\n",
    "On peut par exemple implémenter (= *programmer* concrètement) le type abstrait `Rationnel` en utilisant des couples (le type `tuple` de Python). Voici ce que pourrait alors être l'implémentation de certaines des opérations du type `Rationnel`.\n",
    "\n",
    ">**Remarque** : on n'a écrit ci-dessous que les opérations permettant d'illustrer le propos."
   ]
  },
  {
   "cell_type": "code",
   "execution_count": 1,
   "metadata": {},
   "outputs": [],
   "source": [
    "# IMPLEMENTATION AVEC UN COUPLE\n",
    "\n",
    "def creerRationnel(n, d):\n",
    "    \"\"\"Entier x Entier --> Rationnel\"\"\"\n",
    "    return (n, d)\n",
    "\n",
    "def denominateur(r):\n",
    "    \"\"\"Rationnel --> Entier\"\"\"\n",
    "    return r[1]\n",
    "    \n",
    "def ajouter(r1, r2):\n",
    "    \"\"\"Rationnel x Rationnel --> Rationnel\"\"\"\n",
    "    # calculs du numérateur et du dénominateurs en procédant à une réduction au même dénominateur\n",
    "    num = r1[0] * r2[1] + r2[0] * r1[1]\n",
    "    den = r1[1] * r2[1]\n",
    "    # simplification du rationnel en divisant le numérateur et le dénominateur par leur pgcd\n",
    "    d = pgcd(num, den)\n",
    "    return (num // d, den // d)\n",
    "\n",
    "def egal(r1, r2):\n",
    "    \"\"\"Rationnel x Rationnel --> Booléen\"\"\"\n",
    "    return r1 == r2\n",
    "\n",
    "def afficher(r):\n",
    "    \"\"\"Rationnel --> str\"\"\"\n",
    "    print(str(r[0]) + \"/\" + str(r[1]))\n",
    "\n",
    "# Une fonction ne faisant pas partie de l'interface de la structure de données \\\n",
    "# mais utilisée dans la fonction ajouter\n",
    "def pgcd(a, b):\n",
    "    \"\"\"Renvoie le pgcd des entiers positifs a et b\"\"\"\n",
    "    return a if b == 0 else pgcd (b,a) if b > a else pgcd (a-b, b)"
   ]
  },
  {
   "cell_type": "markdown",
   "metadata": {},
   "source": [
    "On peut alors vérifier, même si on le savait déjà grâce à l'interface, que les instructions précédentes donnent des résultats corrects (on a pris le soin d'afficher certains résultats pour illustrer)."
   ]
  },
  {
   "cell_type": "code",
   "execution_count": 2,
   "metadata": {},
   "outputs": [
    {
     "name": "stdout",
     "output_type": "stream",
     "text": [
      "1/2\n",
      "2\n",
      "1/6\n",
      "2/3\n"
     ]
    },
    {
     "data": {
      "text/plain": [
       "True"
      ]
     },
     "execution_count": 2,
     "metadata": {},
     "output_type": "execute_result"
    }
   ],
   "source": [
    "r1 = creerRationnel(1, 2)\n",
    "afficher(r1)                    # pour vérifier\n",
    "den = denominateur(r1)\n",
    "print(den)                      # pour vérifier\n",
    "r2 = creerRationnel(1, 3*den)\n",
    "afficher(r2)                    # pour vérifier\n",
    "r = ajouter(r1, r2)\n",
    "afficher(r)                     # pour vérifier\n",
    "egal(r, creerRationnel(2, 3))"
   ]
  },
  {
   "cell_type": "markdown",
   "metadata": {},
   "source": [
    "### Une autre implémentation possible\n",
    "\n",
    "Imaginons que le programmeur qui a implémenté le type abstrait `Rationnel` ait fait des choix différents :\n",
    "- il a utilisé des dictionnaires pour représenter les rationnels\n",
    "- il a choisi de ne pas simplifier les fractions au fur et à mesure des calculs, ce qui implique une autre écriture du test d'égalité"
   ]
  },
  {
   "cell_type": "code",
   "execution_count": 3,
   "metadata": {},
   "outputs": [],
   "source": [
    "# IMPLEMENTATION AVEC UN DICTIONNAIRE ET PAS DE SIMPLIFICATIONS INTERMEDIAIRES\n",
    "\n",
    "def creerRationnel(n, d):\n",
    "    \"\"\"Entier x Entier --> Rationnel\"\"\"\n",
    "    return {\"num\": n, \"den\": d}\n",
    "\n",
    "def denominateur(r):\n",
    "    \"\"\"Rationnel --> Entier\"\"\"\n",
    "    return r[\"den\"]\n",
    "    \n",
    "def ajouter(r1, r2):\n",
    "    \"\"\"Rationnel x Rationnel --> Rationnel\"\"\"\n",
    "    # calculs du numérateur et du dénominateurs en procédant à une réduction au même dénominateur\n",
    "    num = r1[\"num\"] * r2[\"den\"] + r2[\"num\"] * r1[\"den\"]\n",
    "    den = r1[\"den\"] * r2[\"den\"]\n",
    "    # pas de simplification !\n",
    "    return {\"num\": num, \"den\": den}\n",
    "\n",
    "def egal(r1, r2):\n",
    "    \"\"\"Rationnel x Rationnel --> Booléen\"\"\"\n",
    "    # test d'égalité à modifier\n",
    "    return r1[\"num\"] * r2[\"den\"] == r2[\"num\"] * r1[\"den\"] # produit en croix\n",
    "\n",
    "def afficher(r):\n",
    "    \"\"\"Rationnel --> str\"\"\"\n",
    "    print(str(r[\"num\"]) + \"/\" + str(r[\"den\"]))"
   ]
  },
  {
   "cell_type": "markdown",
   "metadata": {},
   "source": [
    "On peut vérifier que l'on peut écrire exactement les mêmes instructions que précédemment et obtenir exactement les mêmes résultats, alors même que l'implémentation est totalement différente."
   ]
  },
  {
   "cell_type": "code",
   "execution_count": 4,
   "metadata": {},
   "outputs": [
    {
     "name": "stdout",
     "output_type": "stream",
     "text": [
      "1/2\n",
      "2\n",
      "1/6\n",
      "8/12\n"
     ]
    },
    {
     "data": {
      "text/plain": [
       "True"
      ]
     },
     "execution_count": 4,
     "metadata": {},
     "output_type": "execute_result"
    }
   ],
   "source": [
    "r1 = creerRationnel(1, 2)\n",
    "afficher(r1)                    # pour vérifier\n",
    "den = denominateur(r1)\n",
    "print(den)                      # pour vérifier\n",
    "r2 = creerRationnel(1, 3*den)\n",
    "afficher(r2)                    # pour vérifier\n",
    "r = ajouter(r1, r2)\n",
    "afficher(r)                     # pour vérifier\n",
    "egal(r, creerRationnel(2, 3))"
   ]
  },
  {
   "cell_type": "markdown",
   "metadata": {},
   "source": [
    ">**Moralité** : Le programmeur qui utilise une structure de données fait *abstraction* à la fois :\n",
    "- de la manière dont les données sont représentées (ex. : l'écriture des instructions et les résultats sont les mêmes, que les données soient représentées par des couples ou des dictionnaires, ou autre chose...)\n",
    "- de la manière dont les opérations sont programmées (ex. : le test d'égalité ne suit pas la même logique selon les deux implémentations mais le résultat est le même).\n",
    "\n",
    ">**A faire** : Activités 2 (partie B), 3 et 4"
   ]
  },
  {
   "cell_type": "markdown",
   "metadata": {},
   "source": [
    "# Structures de données *abstraites* (SDA)\n",
    "\n",
    "On parle de structure de données *abstraites* ou de type *abstrait* de données car au niveau de l'interface les données, leurs liens et les opérations permises sont caractérisées mais on ne sait pas (*et on ne veut pas savoir*) comment c'est fait concrètement (*implémentation*).\n",
    "\n",
    "> **Pourquoi avoir recours à cette notion de type abstrait ?**\n",
    ">\n",
    "> Tout simplement pour définir des types de données non *primitifs*, c'est-à-dire non disponibles dans les langages de programmation courants. Les types primitifs sont par exemple les entiers, les flottants, les booléens.\n",
    "\n",
    "## Quelques structures de données abstraites\n",
    "\n",
    "Les structures de données abstraites que nous étudierons cette année peuvent être classées selon la nature de l'organisation de la collection de données :\n",
    "\n",
    "- **structures linéaires** (ou **séquentielles**) : il y a un *premier* élément et un *dernier* ; chaque élément a un *prédécesseur* (sauf le premier) et un *successeur* (sauf le dernier). Exemples : **liste**, **file**, **pile**.\n",
    "- **structures associatives** : les éléments sont repérés par une *clé* ; ils n'ont pas de lien entre eux. Exemples : **dictionnaires**, ensembles.\n",
    "- **structures hiérarchiques** : il y a un (parfois plusieurs) élément racine ; chaque élément dépend d'un *antécédent* (sauf la/les racine/s) et a des *descendants* (sauf les feuilles). Exemple : **arbre**.\n",
    "- **structures relationnelles** : chaque élément est en relation directe avec des *voisins*, ou bien a des *prédécesseurs* et des *successeurs*. Exemple : **graphe**.\n",
    "\n",
    "> Ces structures de données sont parfois implémentées *nativement* dans les langages de programmation comme type de données mais ce n'est pas toujours le cas. En Python, les listes (type `list`), les dictionnaires (type `dict`) et les ensembles (type `set`) le sont mais pas les autres.\n",
    "\n",
    "## Opérations des SDA\n",
    "\n",
    "Les opérations usuelles d'une SDA sont :\n",
    "\n",
    "- **Créer une donnée** éventuellement vide, en utilisant ce qu'on appelle un *constructeur*.\n",
    "- **Accéder à un élément**\n",
    "    - soit ceux directement repérables par la structure (le premier d'une séquence, ou associé à une clé donnée, ...)\n",
    "    - soit à partir d'un élément préalablement repéré (successeur d'un élément donné, ...)\n",
    "- **Ajouter un élément**, en précisant comment il s'intègre dans l'organisation globale de la collection.\n",
    "- **Retirer un élément**, en précisant comment ceux qui lui étaient liésse réorganisent.\n",
    "- Eventuellement, des **opérations plus avancées** (rechercher un élément, trier la collection, fusionner deux collections, ...)\n",
    "\n",
    "Chaque opération doit être bien spécifiée (entrée, sorties, précondition) : c'est ce que l'on fait dans l'**interface**.\n",
    "\n",
    "## Efficacité des SDA\n",
    "\n",
    "Pour réaliser un traitement algorithmique, les structures de données doivent être choisies :\n",
    "\n",
    "- sur le plan &laquo; logique &raquo;  &rArr; choix d'une SDA \n",
    "    - Comment les données doivent-elles être organisées ? Quels sont leurs liens ?\n",
    "    - Quelles opérations sont nécessaires pour le traitement ?\n",
    "\n",
    "- sur le plan &laquo; logique &raquo;  &rArr; choix d'une implémentation de la SDA retenue\n",
    "    - Quelle est l'implémentation la plus efficace, en temps et en espace, pour le traitement considéré ?\n",
    "    \n",
    "Nous reviendrons sur ces choix au fur et à mesure des structures étudiées au cours de l'année. "
   ]
  },
  {
   "cell_type": "markdown",
   "metadata": {},
   "source": [
    "Bilan\n",
    "=======\n",
    "- Nous avons vu qu'une **structure de données** est une méthode de stockage et d'organisation des données destinée à en faciliter l'accès et la modification. Elle regroupe des *données* à gérer et un *ensemble d'opérations* qu'on peut leur appliquer.\n",
    "- Les structures de données s'envisagent à deux niveaux : l'interface (abstrait) et l'implémentation (concret).\n",
    "    - L'**interface** est la spécification de l'ensemble des opérations de la structure de données. C'est la partie visible pour qui veut utiliser ce type abstrait de données. Elle est suffisante pour utiliser la structure de données.\n",
    "    - L'**implémentation** consiste à *concrétiser* - réaliser effectivement - un type de données en définissant la représentation des données avec des types de données existants, et en écrivant les programmes des opérations. L'utilisateur doit pouvoir écrire les mêmes instructions et obtenir les mêmes résultats quelle que soit l'implémentation de la structure de données.\n",
    "- On peut écrire plusieurs implémentations d'une même structure de données (d'une même interface). Le choix de l'implémentation est en général guidé par les opérations de la structure et leurs coûts pour un traitement algorithmique donné. Nous y reviendrons lorsque nous étudierons quelques structures de données classiques.\n",
    "- Cette dissociation entre interface et implémentation est présente lorsque nous utilisons une bilbiothèque (ou plus tard dans l'année, une API) : nous n'avons pas besoin de connaître son implémentation pour l'utiliser, son interface suffit. Par exemple, la [documentation officielle](https://docs.python.org/fr/3.9/library/random.html) de la bibliothèque `random` présente la spécification des opérations disponibles (son interface) et nous suffit pour l'utiliser. Il est néanmoins possible de voir l'implémentation en cliquant en haut de la page sur le lien vers le code source."
   ]
  },
  {
   "cell_type": "markdown",
   "metadata": {},
   "source": [
    "---\n",
    "\n",
    "**Références :**\n",
    "- Documents ressources de l'équipe éducative du DIU EIL, Université de Nantes, Christophe JERMANN et Christophe DECLERCQ."
   ]
  },
  {
   "cell_type": "markdown",
   "metadata": {},
   "source": [
    "---\n",
    "Germain BECKER, Lycée Mounier, ANGERS\n",
    "\n",
    "Ressource éducative libre distribuée sous [Licence Creative Commons Attribution - Pas d’Utilisation Commerciale - Partage dans les Mêmes Conditions 4.0 International](http://creativecommons.org/licenses/by-nc-sa/4.0/) \n",
    "\n",
    "![Licence Creative Commons](https://i.creativecommons.org/l/by-nc-sa/4.0/88x31.png)"
   ]
  }
 ],
 "metadata": {
  "kernelspec": {
   "display_name": "Python 3",
   "language": "python",
   "name": "python3"
  },
  "language_info": {
   "codemirror_mode": {
    "name": "ipython",
    "version": 3
   },
   "file_extension": ".py",
   "mimetype": "text/x-python",
   "name": "python",
   "nbconvert_exporter": "python",
   "pygments_lexer": "ipython3",
   "version": "3.7.3"
  }
 },
 "nbformat": 4,
 "nbformat_minor": 2
}
