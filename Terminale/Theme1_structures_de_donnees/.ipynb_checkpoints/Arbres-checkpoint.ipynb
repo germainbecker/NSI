{
 "cells": [
  {
   "cell_type": "markdown",
   "metadata": {},
   "source": [
    "<img class=\"image-responsive center\" src=\"data/tree.svg\" alt=\"un arbre\" width=\"400\">"
   ]
  },
  {
   "cell_type": "markdown",
   "metadata": {},
   "source": [
    "# Introduction"
   ]
  },
  {
   "cell_type": "markdown",
   "metadata": {},
   "source": [
    "<div class=\"important\">\n",
    "    <p>Un <strong>arbre</strong> est une structure <em>hiérarchique</em> permettant de représenter de manière symbolique des informations structurées.</p>\n",
    "</div>"
   ]
  },
  {
   "cell_type": "markdown",
   "metadata": {},
   "source": [
    "Par exemple :\n",
    "\n",
    "* Un dossier, contenant des dossiers et des fichiers, chaque dossier pouvant contenir des dossiers et des fichiers\n",
    "\n",
    "<img class=\"image-responsive center\" src=\"data/arborescence.png\" alt=\"arborescence de fichiers\">\n",
    "\n",
    "\n",
    "<p style=\"text-align: center;\"><em>Source : <a href=\"https://commons.wikimedia.org/wiki/File:Unix-fs.png\">Jimbotyson</a>, <a href=\"https://creativecommons.org/licenses/by-sa/3.0\">CC BY-SA 3.0</a>, via Wikimedia Commons</em></p>\n",
    "\n",
    "\n",
    "* Un arbre généalogique des descendants ou des ascendants (arbre binaire)\n",
    "\n",
    "<img class=\"image-responsive center\" src=\"data/arbre_genealogique.svg\" alt=\"arbre généalogique\">\n",
    "\n",
    "<p style=\"text-align: center;\"><em>Source : <a href=\"https://commons.wikimedia.org/wiki/File:Arbre_g%C3%A9n%C3%A9alogique_d%27Ernest-Auguste_Ier_de_Hanovre.svg\">Ælfgar</a>, <a href=\"https://creativecommons.org/licenses/by-sa/3.0\">CC BY-SA 3.0</a>, via Wikimedia Commons</em></p>\n",
    "\n",
    "* Un organigramme\n",
    "\n",
    "<img class=\"image-responsive center\" src=\"data/organigramme.jpg\" alt=\"organigramme\">\n",
    "\n",
    "<p style=\"text-align: center;\"><em>Source : <a href=\"https://commons.wikimedia.org/wiki/File:Organigramme_de_la_Direction_g%C3%A9n%C3%A9rale_op%C3%A9rationnelle_de_l%E2%80%99Am%C3%A9nagement_du_territoire,_du_Logement,_du_Patrimoine_et_de_l%E2%80%99Energie.jpg\">Adriencld</a>, <a href=\"https://creativecommons.org/licenses/by-sa/4.0\">CC BY-SA 4.0</a>, via Wikimedia Commons</em></p>\n",
    "\n",
    "* Une tâche complexe décomposée en tâches élémentaires et en tâches complexes\n",
    "\n",
    "<img class=\"image-responsive center\" src=\"data/taches.png\" alt=\"taches\">\n",
    "\n",
    "<p style=\"text-align: center;\"><em>Source : <a href=\"https://commons.wikimedia.org/wiki/File:Exemple_d%27Organigramme_des_T%C3%A2ches_du_Projet_(OTP).png\">Cth027</a>, <a href=\"https://creativecommons.org/licenses/by-sa/4.0\">CC BY-SA 4.0</a>, via Wikimedia Commons</em></p>\n",
    "\n",
    ">On a déjà étudié une structure *arborescentes* cette année : le format JSON. De même, l'an dernier on a vu que la structure d'une page Web pouvait être représentée par un arbre, permettant à l'aide du DOM ([Document Object Model](https://fr.wikipedia.org/wiki/Document_Object_Model)) de modifier une page Web en modifiant, en ajoutant ou en supprimant des noeuds de l'arbre.\n",
    "\n",
    "<img class=\"image-responsive center\" src=\"data/dom.svg\" alt=\"document object model\">\n",
    "\n",
    "<p style=\"text-align: center;\"><em>Source :\n",
    "<a href=\"https://commons.wikimedia.org/wiki/File:DOM-model.svg\">Birger Eriksson</a>, <a href=\"https://creativecommons.org/licenses/by-sa/3.0\">CC BY-SA 3.0</a>, via Wikimedia Commons</em></p>"
   ]
  },
  {
   "cell_type": "markdown",
   "metadata": {},
   "source": [
    "# Arbres quelconques\n",
    "\n",
    "Dans tous ces exemples, on a défini un cas où l'information est élémentaire (fichier, tâche élémentaire), et un cas général où l'information structurée contient deux ou plusieurs informations de même structure.\n",
    "\n",
    "Dans la terminologie informatique, on utilise les termes de \n",
    "\n",
    "- **feuille** pour les informations élémentaires, \n",
    "- **noeud** pour chaque embranchement de l'arbre,\n",
    "- **racine** pour le(s) noeud(s) principal(aux).\n",
    "\n",
    "> **Attention** : l'analogie avec les arbres réels peut s'avérer trompeuse. Les arbres - en informatique - sont le plus souvent représentés avec la racine en haut, puis les noeuds, et les feuilles en bas.\n",
    "\n",
    "Il s'agit d'une structure de données absraite permettant de représenter une collection de données par des noeuds organisés de manière hiérarchique : il y a un (parfois plusieurs) noeud racine et chaque noeud dépend d'un *antécédent* (sauf la racine) et a des *descendants* (sauf les feuilles).\n",
    "\n",
    "Dans le vocabulaire des arbres on utilise les termes *père* et *fils* pour désigner respectivement un antécédent et les descendants.\n",
    "\n",
    "- **Père** : chaque noeud possède exactement un seul noeud *père*, celui dont il est issu, à l'exception de la racine qui n'en a pas.\n",
    "- **Fils** : chaque noeud peut avoir un nombre arbitraire de noeuds *fils*, dont il est le père.\n",
    "\n",
    "Ainsi, avec ces définitions :\n",
    "\n",
    "- les **feuilles** sont les noeuds qui n'ont pas de fils,\n",
    "- un noeud qui n'a pas de père s'appelle une **racine**.\n",
    "\n",
    "Tous les noeuds qui ne sont pas des feuilles sont appelés des **noeuds internes** (et le feuilles parfois appelées des *noeuds externes*).\n",
    "\n",
    "L'intérêt des arbres est d'y stocker de l'information. Pour cela, chaque noeud peut contenir une ou plusieurs valeurs. L'information portée par un noeud s'appelle l'**étiquette** du noeud (ou la *valeur*, ou la *clé*).\n",
    "\n",
    "## Exemple\n",
    "\n",
    "![un arbre](data/arbre.png)"
   ]
  },
  {
   "cell_type": "markdown",
   "metadata": {},
   "source": [
    "Dans cet arbre :\n",
    "\n",
    "- La racine est le noeud A.\n",
    "- Le noeud B possède 3 fils (les noeuds D, E et F), le noeud C possède un fils (le noeud G), le noeud F ne possède aucun fils.\n",
    "- Le noeud B a pour père le noeud A.\n",
    "- Les feuilles sont les noeuds D, H, I, F et G (ceux qui n'ont pas de fils).\n",
    "\n",
    "\n",
    "## Caractéristiques d'un arbre\n",
    "\n",
    "- La **taille** d'un arbre est le nombre de noeuds qu'il possède.\n",
    "- La **profondeur** d'un noeud est la longueur du chemin le plus court entre ce noeud et la racine (la racine a donc une profondeur égale à 0).\n",
    "- La **hauteur** d'un arbre est la profondeur maximale de ses noeuds (elle vaut 0 pour l'arbre réduit à sa racine et $-1$ par convention pour un arbre vide).\n",
    "\n",
    "> **Attention** : On trouve aussi dans la littérature, que la profondeur de la racine est égale à 1, ce qui modifie la hauteur de l'arbre également puisqu'alors l'arbre réduit à la racine a pour hauteur 1 et l'arbre vide a pour hauteur 0. Les deux définitions se valent, il faut donc bien lire celle qui est donnée.\n",
    "\n",
    "## Exemple\n",
    "\n",
    "![un arbre](data/arbre.png)\n",
    "\n",
    "- La taille de l'arbre est égale à 9 (il possède 9 noeuds : 4 noeuds internes et 5 feuilles).\n",
    "- Le noeud E a une profondeur égale à 2 (le chemin A-B-E a une longueur égale à 2).\n",
    "- La hauteur de l'arbre est égale à 3 (la prodondeur maximale est égale à 3, c'est celle des noeuds les plus profonds : H et I).\n",
    "\n",
    "\n",
    "*Dans la suite, on ne s'intéressera qu'aux arbres dont les noeuds ont au plus deux fils.*\n",
    "\n",
    "# Arbres binaires\n",
    "\n",
    "> Seuls les arbres binaires sont au programme de Terminale NSI.\n",
    "\n",
    "## Définition et vocabulaire spécifique"
   ]
  },
  {
   "cell_type": "markdown",
   "metadata": {},
   "source": [
    "<div class=\"important\">\n",
    "    <p>Un <strong>arbre binaire</strong> est un arbre dont tous les noeuds ont au plus deux fils.</p>\n",
    "</div>"
   ]
  },
  {
   "cell_type": "markdown",
   "metadata": {},
   "source": [
    "L'arbre vu dans le paragraphe précédent n'est pas binaire car le noeud B possède 3 fils. \n",
    "En revanche, l'arbre suivant est binaire.\n",
    "\n",
    "![arbre binaire](data/ab1.png)\n",
    "\n",
    "Les définitions vues précédemment pour des arbres quelconques restent bien évidemment valables pour les arbres binaires. Dans le cas d'un arbre binaire, chaque noeud possède deux sous-arbres, éventuellement vides, que l'on appelle **sous-arbre gauche** et **sous-arbre droit**.\n",
    "\n",
    "Par exemple, dans le cas de l'arbre binaire précédent, le noeud A possède un sous-arbre gauche et un sous-arbre droit comme la figure suivante le montre.\n",
    "\n",
    "![sous arbres gauche et droit](data/ss_arbres.png)\n",
    "\n",
    "Les sous-arbres gauche et droit de A sont eux-mêmes des arbres dont les racines sont respectivement B et C. Ces noeuds possèdent eux-même des sous-arbres gauche et droit. Par exemple, le noeud C possède un sous-arbre gauche, qui est vide, et un sous-arbre droit qui est l'arbre dont la racine est G. Ainsi de suite..."
   ]
  },
  {
   "cell_type": "markdown",
   "metadata": {},
   "source": [
    "> Faites tous les exercices proposés dans le notebook d'activités."
   ]
  },
  {
   "cell_type": "markdown",
   "metadata": {},
   "source": [
    "## Type abstrait `Arbre binaire`\n",
    "\n",
    "De manière générale, on peut construire un arbre binaire comme un noeud composé de deux sous-arbres. L'arbre vide est représentée par la valeur `None`. Ainsi, une feuille est un noeud avec les sous-arbres gauche et droit à `None`. Pour annoter la structure de l'arbre avec des informations, on utilise des étiquettes pouvant être enregistrées à chaque noeud.\n",
    "\n",
    "On peut ensuite parcourir un arbre par l'accès à son étiquette et à ses sous-arbres droit et gauche. Un prédicat permet de distinguer les feuilles des noeuds.\n",
    "\n",
    "On peut ainsi spécifier un arbre binaire par le type abstrait suivant :\n",
    "\n",
    "- Constructeur : `noeud : Etiquette x Arbre binaire x Arbre binaire -> Arbre binaire`\n",
    "- Sélecteurs : \n",
    "    - `droit : Arbre binaire -> Arbre binaire`\n",
    "    - `gauche : Arbre binaire -> Arbre binaire`\n",
    "    - `etiquette : Arbre binaire -> Etiquette`\n",
    "- Prédicat : `est_feuille : Arbre binaire -> Booléen`"
   ]
  },
  {
   "cell_type": "markdown",
   "metadata": {},
   "source": [
    "## Implémentation\n",
    "\n",
    "Il existe, comme toujours, plusieurs implémentations possibles d'un arbre binaire. Une implémentation classique consiste à représenter chaque noeud comme un objet d'une classe `Noeud`."
   ]
  },
  {
   "cell_type": "code",
   "execution_count": 1,
   "metadata": {},
   "outputs": [],
   "source": [
    "class Noeud:\n",
    "    def __init__(self, e, g=None, d=None):\n",
    "        self.etiquette = e\n",
    "        self.gauche = g\n",
    "        self.droit = d\n",
    "\n",
    "    def est_feuille(self):\n",
    "        return not self.gauche and not self.droit\n",
    "    \n",
    "    # Une représentation possible de l'arbre\n",
    "    def __repr__(self):\n",
    "        ch = str(self.etiquette)\n",
    "        if self.gauche or self.droit:\n",
    "            ch = ch + '-(' + str(self.gauche) + ',' + str(self.droit) + ')'\n",
    "        return ch "
   ]
  },
  {
   "cell_type": "markdown",
   "metadata": {},
   "source": [
    ">**Remarque**\n",
    ">\n",
    ">Il y a une petite subtilité à bien comprendre pour la méthode `__init__` : on a choisi de définir la valeur `None` par défaut aux arguments `gauche` et `droit`. Cela permet de construire une feuille (d'étiquette `'a'`) en écrivant \n",
    ">```python\n",
    ">Noeud('a')\n",
    ">```\n",
    ">au lieu de \n",
    ">```python\n",
    ">Noeud('a', None, None).\n",
    ">```\n",
    "\n",
    "La construction d'un arbre s'effectue alors avec des noeuds ayant soit un seul argument (cas des feuilles), soit trois (cas général). "
   ]
  },
  {
   "cell_type": "code",
   "execution_count": 2,
   "metadata": {
    "scrolled": true
   },
   "outputs": [],
   "source": [
    "A1 = Noeud(2, Noeud(8, Noeud(4), Noeud(5)), Noeud(9, None, Noeud(3)))\n",
    "A1"
   ]
  },
  {
   "cell_type": "markdown",
   "metadata": {},
   "source": [
    "L'arbre `A1` ainsi construit représente l'arbre binaire ci-dessous.\n",
    "\n",
    "![un arbre binaire](data/ab2.png)"
   ]
  },
  {
   "cell_type": "markdown",
   "metadata": {},
   "source": [
    "## Calcul de la taille et de la hauteur d'un arbre binaire\n",
    "\n",
    "La définition d'un arbre binaire étant récursive, il est naturel d'écrire des algorithmes récursifs pour effectuer des opérations sur les arbres binaires.\n",
    "\n",
    "En particulier, on peut écrire assez facilement deux fonctions récursives `taille` et `hauteur` qui calculent respectivement la taille et la hauteur d'un arbre binaire. Il suffit de parcourir récursivement l'arbre avec les méthodes `gauche` et `droit`."
   ]
  },
  {
   "cell_type": "code",
   "execution_count": 3,
   "metadata": {},
   "outputs": [],
   "source": [
    "def taille(A):\n",
    "    \"\"\"Renvoie la taille d'un arbre binaire A.\"\"\"\n",
    "    if A is None:\n",
    "        return 0\n",
    "    else:\n",
    "        return 1 + taille(A.gauche) + taille(A.droit)"
   ]
  },
  {
   "cell_type": "code",
   "execution_count": 4,
   "metadata": {},
   "outputs": [
    {
     "data": {
      "text/plain": [
       "6"
      ]
     },
     "execution_count": 4,
     "metadata": {},
     "output_type": "execute_result"
    }
   ],
   "source": [
    "taille(A1)"
   ]
  },
  {
   "cell_type": "code",
   "execution_count": 5,
   "metadata": {},
   "outputs": [],
   "source": [
    "def hauteur(A):\n",
    "    \"\"\"Renvoie la hauteur d'un arbre binaire A\"\"\"\n",
    "    if A is None:\n",
    "        return -1\n",
    "    else:\n",
    "        return 1 + max(hauteur(A.gauche), hauteur(A.droit))"
   ]
  },
  {
   "cell_type": "code",
   "execution_count": 6,
   "metadata": {},
   "outputs": [
    {
     "data": {
      "text/plain": [
       "2"
      ]
     },
     "execution_count": 6,
     "metadata": {},
     "output_type": "execute_result"
    }
   ],
   "source": [
    "hauteur(A1)"
   ]
  },
  {
   "cell_type": "markdown",
   "metadata": {},
   "source": [
    "## Encadrement de la hauteur d'un arbre binaire\n",
    "\n",
    "La hauteur d'un arbre binaire est la profondeur maximale de ses noeuds. Cependant un arbre binaire d'une taille donnée peut avoir un aspect totalement différent. En effet, les deux arbres binaires suivants sont de même taille (égale à 7) mais ont des \"formes\" très différentes.\n",
    "\n",
    "![deux arbres binaires](data/ab.png)"
   ]
  },
  {
   "cell_type": "markdown",
   "metadata": {},
   "source": [
    "Le premier est dit *filiforme* ou *dégénéré* tandis que le second est dit *parfait* (un arbre est dit *parfait* si tous les niveaux sont remplis c'est-à-dire si chaque noeud interne a exactement deux fils).\n",
    "\n",
    "Si on cherche à encadrer la *hauteur* d'un arbre binaire, ces deux exemples fournissent les deux cas de figure extrêmes :\n",
    "\n",
    "- Le premier arbre est l'arbre binaire de taille 7 dont la hauteur est maximale, elle vaut 6 (le noeud le plus profond 2 a une profondeur égale à 6).\n",
    "- Le second arbre un arbre binaire de taille 7 dont la hauteur est minimale, elle vaut 2 (les 4 feuilles sont toutes à une profondeur égale à 2).\n",
    "\n",
    "De manière générale, on a l'encadrement suivant."
   ]
  },
  {
   "cell_type": "markdown",
   "metadata": {},
   "source": [
    "<div class=\"important\">\n",
    "    <p>Si on note $H$ la hauteur d'un arbre binaire à $N$ noeuds, alors :</p>\n",
    "    <p>$$ \\left \\lfloor \\log_2(N) \\right \\rfloor \\leq H \\leq N - 1,$$</p>\n",
    "    <p>où $\\left \\lfloor \\log_2(N) \\right \\rfloor$ est la partie entière du logarithme en base 2 de $N$, c'est-à-dire le nombre de bits nécessaire à son écriture en base 2 diminué d'une unité (c'est la définition des informaticiens).</p>\n",
    "</div>"
   ]
  },
  {
   "cell_type": "markdown",
   "metadata": {},
   "source": [
    ">Cette propriété est expliquée dans un exercice.\n",
    "\n",
    "On peut vérifier cela avec les arbres précédents de taille $N = 7$. \n",
    "\n",
    "- D'une part, $N-1 = 6$ qui correspond bien à la taille de l'arbre filiforme (arbre 1). \n",
    "- D'autre part, $7=(111)_2$ donc il faut 3 bits pour écrire 7 en base deux. On en déduit que $\\left \\lfloor \\log_2(7) \\right \\rfloor = 3 - 1 = 2$ qui est bien la hauteur de l'arbre parfait (arbre 2).\n",
    "\n",
    "Ces deux arbres étant les cas extrêmes, un arbre binaire à 7 noeuds a une hauteur comprise entre 2 et 6."
   ]
  },
  {
   "cell_type": "markdown",
   "metadata": {},
   "source": [
    "# Utilisation des arbres\n",
    "\n",
    "Les applications des arbres sont nombreuses en informatique. Citons par exemple :\n",
    "\n",
    "- les arbres de jeu qui permettent de représenter toutes les positions et tous les coups possibles d'un jeu (voir exercice 2)\n",
    "- les [arbres syntaxiques](https://fr.wikipedia.org/wiki/Arbre_syntaxique) permettant de représenter la structure syntaxique d'une phrase ou d'un code source (lorsque l'interpréteur Python lit du code source, il construit d'abord l'arbre syntaxique du code)\n",
    "- les *arbres binaires de recherche* qui permettent de rechercher ou d'insérer efficacement un élément dans un arbre (voir Thème 5, Chapitre 2)\n",
    "- l'arbre de Huffmann sur lequel repose la méthode de [compression de Huffmann](https://fr.wikipedia.org/wiki/Codage_de_Huffman), très utilisée pour compresser des données (textes, images, vidéos; sons, etc.) et que l'on retrouve dans les compressions JPEG, MPEG, MP3, ZIP, etc."
   ]
  },
  {
   "cell_type": "markdown",
   "metadata": {},
   "source": [
    "# Bilan\n",
    "\n",
    "- Un arbre est une structure de données abstraites permettant de représenter de manière hierarchique des données. \n",
    "- Un arbre est formé de *noeuds* reliés entre eux par des branches : on distingue le noeud *racine*, les noeuds internes et les noeuds externes que l'on appelle les *feuilles*. On utilise les termes *fils* et *pères* pour symboliser la hiérarchie entre les noeuds.\n",
    "- Un *arbre binaire* est un arbre dont tous les noeuds ont au plus deux fils. Cela permet de définir un arbre binaire non vide comme un noeud possédant un *sous-arbre gauche* et un *sous-arbre droit*, éventuellement vides. Ces sous-arbres étant également des arbres binaires (ou des arbres vides), on a définit ainsi les abres binaires de manière récursive, ce qui explique qu'il est naturel d'écrire des algorithmes récursifs pour effectuer des opérations sur les arbres binaires (calcul de la taille, de la hauteur) et pour les parcourir (voir Thème 5, Chapitre 2).\n",
    "- On a vu dans les activités plusieurs implémentations d'un arbre binaire, mais il en existe d'autres."
   ]
  },
  {
   "cell_type": "markdown",
   "metadata": {},
   "source": [
    "---\n",
    "\n",
    "**Références :**\n",
    "- Equipe éducative DIU EIL, Université de Nantes.\n",
    "- Ressource d'accompagnement Eduscol sur les [structures de données](https://cache.media.eduscol.education.fr/file/NSI/63/8/RA20_NSI_G_T_structures-donnees_1298638.pdf).\n",
    "\n",
    "---\n",
    "Germain BECKER, Lycée Mounier, ANGERS\n",
    "\n",
    "Ressource éducative libre distribuée sous [Licence Creative Commons Attribution - Pas d’Utilisation Commerciale - Partage dans les Mêmes Conditions 4.0 International](http://creativecommons.org/licenses/by-nc-sa/4.0/) \n",
    "\n",
    "![Licence Creative Commons](https://i.creativecommons.org/l/by-nc-sa/4.0/88x31.png)"
   ]
  }
 ],
 "metadata": {
  "kernelspec": {
   "display_name": "Python 3",
   "language": "python",
   "name": "python3"
  },
  "language_info": {
   "codemirror_mode": {
    "name": "ipython",
    "version": 3
   },
   "file_extension": ".py",
   "mimetype": "text/x-python",
   "name": "python",
   "nbconvert_exporter": "python",
   "pygments_lexer": "ipython3",
   "version": "3.7.3"
  }
 },
 "nbformat": 4,
 "nbformat_minor": 2
}
