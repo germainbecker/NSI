{
 "cells": [
  {
   "cell_type": "markdown",
   "metadata": {},
   "source": [
    "Activités sur les listes\n",
    "====\n",
    "\n",
    "# Activité 1 : Utiliser une interface\n",
    "\n",
    "On rappelle que le type abstrait `Liste` peut être défini par l'*interface* suivante contenant 5 opérations primitives :\n",
    "\n",
    "- Des constructeurs :\n",
    "    - `listevide()` pour construire une liste vide\n",
    "    - `construit(e, L)` pour construire une nouvelle liste contenant un premier élément `e` (sa tête) et une suite `L` (sa queue, qui est une liste). Cet opérateur est aussi souvent noté `cons`.\n",
    "- Des sélecteurs :\n",
    "    - `premier(L)` pour accéder au premier élément de la liste `L`, sa tête. Cet opérateur est aussi souvent noté `car`. \n",
    "    - `reste(L)` pour accéder au reste de la liste `L` c'est-à-dire sa queue. Cet opérateur est aussi souvent noté `cdr`.\n",
    "- Un prédicat : \n",
    "    - `estvide(L)` pour tester si une liste est vide.\n",
    "\n",
    "**Question 1** : On considère la liste `L1` suivante :\n",
    "```python\n",
    "L1 = construit(1, construit(3, construit(-2, construit(0, listevide()))))\n",
    "```\n",
    "\n",
    "1. Quelle est la liste ainsi construite ?\n",
    "2. Que vaut chacune des variables suivantes ?\n",
    "```python\n",
    "e1 = premier(L1)\n",
    "L2 = reste(L1)\n",
    "L3 = reste(reste(L1))\n",
    "e2 = premier(reste(reste(L1)))\n",
    "L4 = construit(5, L3)\n",
    "```\n",
    "\n",
    "**Question 2** : Ecrivez les instructions permettant de :\n",
    "- construire une liste `maliste1` contenant les nombres 5, 2, 4, 7 dans cet ordre\n",
    "- stocker dans une variable `e1` le premier élément de `maliste1`\n",
    "- stocker dans une variable `e2` le deuxième élément de `maliste1`\n",
    "- stocker dans une variable `e3` le dernier élément de `maliste1`\n",
    "- construire une liste vide appelée `maliste2`\n",
    "- construire, à partir de `maliste1`, une liste `maliste3` contenant uniquement les nombres 4 et 7.\n",
    "- construire, uniquement à partir des listes et variables précédentes, une liste `maliste4` contenant les nombres 5, 2, 1, 4, 7 (on veut insérer 1 entre 2 et 4 dans liste de départ)."
   ]
  },
  {
   "cell_type": "markdown",
   "metadata": {},
   "source": [
    "# Activité 2 : Ecriture de quelques opérations dérivées\n",
    "\n",
    "On considère toujours la même interface (que dans l'activité 1) pour le type abstrait de données `Liste`. Voici une implémentation utilisant des couples."
   ]
  },
  {
   "cell_type": "code",
   "execution_count": 1,
   "metadata": {},
   "outputs": [],
   "source": [
    "def listevide ():\n",
    "    return None  # on utilise None pour une liste vide\n",
    "\n",
    "def construit(e,L):\n",
    "    return (e,L) # renvoie un tuple de deux éléments\n",
    "\n",
    "def premier(L):\n",
    "    return L[0] # accès au premier élément du couple (la tête de L)\n",
    "\n",
    "def reste(L):\n",
    "    return L[1] # accès au deuxième élément du couple (la queue de L)\n",
    "\n",
    "def estvide(L):\n",
    "    return L is None"
   ]
  },
  {
   "cell_type": "markdown",
   "metadata": {},
   "source": [
    "## Partie A : Utilisation des opérations\n",
    "\n",
    "**Question 1** : Utilisez cette implémentation pour vérifier vos réponses à l'activité 1."
   ]
  },
  {
   "cell_type": "code",
   "execution_count": null,
   "metadata": {},
   "outputs": [],
   "source": [
    "# à vous de jouer !\n"
   ]
  },
  {
   "cell_type": "markdown",
   "metadata": {},
   "source": [
    "## Partie B : Ecriture d'opérations dérivées\n",
    "\n",
    "On a vu dans le cours qu'il est possible de construire toutes les opérations à partir des 5 opérations primivites données ci-dessus.\n",
    "\n",
    "Par exemple, pour obtenir le dernier élément d'une liste, on peut implémenter l'opération `dernier(L)` à partir des autres :"
   ]
  },
  {
   "cell_type": "code",
   "execution_count": 2,
   "metadata": {},
   "outputs": [
    {
     "data": {
      "text/plain": [
       "0"
      ]
     },
     "execution_count": 2,
     "metadata": {},
     "output_type": "execute_result"
    }
   ],
   "source": [
    "def dernier(L):\n",
    "    \"\"\"Liste --> Element\n",
    "    Précondition : L n'est pas vide.\"\"\"\n",
    "    while reste(L) != listevide(): # tant que le reste de la liste n'est pas vide\n",
    "        L = reste(L) # on passe au reste\n",
    "    return premier(L) # on renvoie le premier élément de la dernière paire\n",
    "\n",
    "L1 = construit(1, construit(3, construit(-2, construit(0, listevide()))))\n",
    "dernier(L1)"
   ]
  },
  {
   "cell_type": "markdown",
   "metadata": {},
   "source": [
    "On rappelle que l'on peut écrire un jeu de tests en utilisant la construction `assert` (programme de 1ère)."
   ]
  },
  {
   "cell_type": "code",
   "execution_count": null,
   "metadata": {},
   "outputs": [],
   "source": [
    "liste1 = construit(2, listevide())\n",
    "liste2 = construit(1, construit(2, construit(5, listevide())))\n",
    "assert dernier(liste1) == 2\n",
    "assert dernier(liste2) == 5"
   ]
  },
  {
   "cell_type": "markdown",
   "metadata": {},
   "source": [
    "**Question 2** : On souhaite implémenter en une fonction l'opération `taille(L)` qui renvoie le nombre d'éléments contenus dans la liste `L`. \n",
    "\n",
    "1. Ecrivez la docstring de la fonction.\n",
    "2. Ecrivez un jeu de tests de qualité pour cette fonction.\n",
    "3. Proposez enfin le code de cette fonction (qui doit passer les tests avec succès)."
   ]
  },
  {
   "cell_type": "code",
   "execution_count": null,
   "metadata": {},
   "outputs": [],
   "source": [
    "# à vous de jouer !\n"
   ]
  },
  {
   "cell_type": "markdown",
   "metadata": {},
   "source": [
    "**Question 3** : Mêmes questions avec l'opération `lire(L, i)` renvoie le i-ème élément de la liste `L`.  *Réfléchissez bien aux préconditions sur la liste `L` et l'entier `i`*."
   ]
  },
  {
   "cell_type": "code",
   "execution_count": null,
   "metadata": {},
   "outputs": [],
   "source": [
    "# à vous de jouer !\n"
   ]
  },
  {
   "cell_type": "markdown",
   "metadata": {},
   "source": [
    "# Activité 3 : Une implémentation avec le type `list` de Python\n",
    "\n",
    "On veut maintenant implémenter le type abstrait `Liste` en utilisant le type `list` de Python.\n",
    "\n",
    "**Question 1** : Utilisez la [documentation officielle](https://docs.python.org/fr/3/tutorial/introduction.html#lists) pour compléter l'implémentation du type `Liste` avec les possibilités offertes par le type `list` de Python."
   ]
  },
  {
   "cell_type": "code",
   "execution_count": null,
   "metadata": {},
   "outputs": [],
   "source": [
    "def listevide():\n",
    "    # renvoie une liste vide\n",
    "    \n",
    "    \n",
    "def construit(e, L):\n",
    "    # renvoie une liste qui est la concaténation d'une liste contenant e avec la liste L\n",
    "    \n",
    "    \n",
    "def premier(L):\n",
    "    # renvoie le premier élément de L\n",
    "    \n",
    "\n",
    "def reste(L):\n",
    "    # renvoie une liste contenant les éléments de L à partir de la position 1\n",
    "    \n",
    "\n",
    "def estvide(L):\n",
    "    # renvoie True si L est vide, False sinon\n",
    "    "
   ]
  },
  {
   "cell_type": "markdown",
   "metadata": {},
   "source": [
    "**Question 2** : Vérifiez qu'en exécutant le code suivant, on obtient exactement le même résultat qu'avec la première implémentation. L'utilisateur curieux pourra cependant observer la structure des informations mémorisées en affichant les listes `L1` (implémentée par des couples) et `L2` (implémentée par le type `list` de Python)."
   ]
  },
  {
   "cell_type": "code",
   "execution_count": null,
   "metadata": {},
   "outputs": [],
   "source": [
    "L2 = construit(1, construit(3, construit(-2, construit(0, listevide()))))  # construction avec la nouvelle implémentation\n",
    "dernier(L2) # renvoie le dernier élément de la liste construite"
   ]
  },
  {
   "cell_type": "markdown",
   "metadata": {},
   "source": [
    "**Question 3** : Utilisez [Python Tutor](http://www.pythontutor.com/visualize.html#code=def%20listevide%28%29%3A%0A%20%20%20%20return%20%5B%5D%0A%0Adef%20construit%28e,%20L%29%3A%0A%20%20%20%20return%20%5Be%5D%20%2B%20L%0A%0Adef%20premier%28L%29%3A%0A%20%20%20%20return%20L%5B0%5D%0A%0Adef%20reste%28L%29%3A%0A%20%20%20%20return%20L%5B1%3A%5D%0A%0Adef%20estvide%28L%29%3A%0A%20%20%20%20return%20L%20%3D%3D%20%5B%5D%0A%20%20%20%20%0AL2%20%3D%20construit%281,%20construit%283,%20construit%28-2,%20construit%280,%20listevide%28%29%29%29%29%29&cumulative=true&curInstr=0&heapPrimitives=nevernest&mode=display&origin=opt-frontend.js&py=3&rawInputLstJSON=%5B%5D&textReferences=false) pour observer pas à pas la construction de la liste `L2` précédente. Combien de listes intermédiaires sont créées pour construire la liste `L2` avec cette implémentation ?"
   ]
  },
  {
   "cell_type": "markdown",
   "metadata": {},
   "source": [
    "*Réponse :*"
   ]
  },
  {
   "cell_type": "markdown",
   "metadata": {},
   "source": [
    "# Activité 4 : Implémentation avec modification *en place* des listes\n",
    "\n",
    "Les deux premières implémentations proposent des fonctions effectuant des copies des listes passées en paramètre pour en créer de nouvelles, ce qui est coûteux en mémoire.\n",
    "\n",
    "On souhaite maintenant écrire une implémentation (utilisant le type `list`) qui modifie directement les listes passées en paramètres : on parle de *modification en place* des listes.\n",
    "\n",
    "En réalité, il suffit juste d'écrire différemment la fonction `construit(e, L)` pour qu'elle modifie en place la liste `L` passée en paramètre : qu'elle lui ajoute l'élément `e` en tête. Il est alors plus cohérent de renommer cette fonction `ajouter_en_tete(e, L)`, le verbe *ajouter* symbolisant le fait que la liste renvoyée est toujours la (même) liste `L`.\n",
    "\n",
    "**Question 1** : Utilisez la [documentation officielle](https://docs.python.org/fr/3/tutorial/datastructures.html) pour trouver la méthode à utiliser pour ajouter un élément en tête d'une liste."
   ]
  },
  {
   "cell_type": "markdown",
   "metadata": {},
   "source": [
    "*Réponse* :"
   ]
  },
  {
   "cell_type": "markdown",
   "metadata": {},
   "source": [
    "**Question 2** : Complétez alors la nouvelle implémentation qui suit afin que la fonction `ajouter_en_tete(e, L)` effectue une modification en place de `L`."
   ]
  },
  {
   "cell_type": "code",
   "execution_count": null,
   "metadata": {},
   "outputs": [],
   "source": [
    "def listevide():\n",
    "    return []\n",
    "\n",
    "def ajouter_en_tete(e, L):\n",
    "    # à modifier\n",
    "    \n",
    "    \n",
    "def premier(L):\n",
    "    return L[0]\n",
    "\n",
    "def reste(L):\n",
    "    return L[1:]\n",
    "\n",
    "def estvide(L):\n",
    "    return L == []"
   ]
  },
  {
   "cell_type": "markdown",
   "metadata": {},
   "source": [
    "**Question 3** : Utilisez alors [Python Tutor](http://www.pythontutor.com/visualize.html#mode=edit) pour visualiser la construction de la liste `L2` en utilisant cette nouvelle implémentation. Il suffit de copier-coller les 5 fonctions précédentes et l'instruction définissant la liste `L2` puis cliquer sur le bouton `Visualize Execution`. *On veillera à renommer la fonction `construit` par `ajouter_en_tete` pour la création de la liste `L2`.*"
   ]
  },
  {
   "cell_type": "markdown",
   "metadata": {},
   "source": [
    "Comme les listes passées en paramètres sont directement directement modifiées il est possible d'écrire les instructions dans un *style procédural*. Ainsi, pour construire la liste `L2` on peut aussi procéder ainsi :\n",
    "\n",
    "- créer une liste vide `L2`\n",
    "- ajouter la valeur 0 en tête de `L2`\n",
    "- ajouter la valeur -2 en tête de `L2`\n",
    "- etc."
   ]
  },
  {
   "cell_type": "markdown",
   "metadata": {},
   "source": [
    "**Question 4** : Proposez les instructions permettant de construire la liste `L2` dans un style procédural. Vérifiez à la fin que la liste `L2` contient bien les éléments souhaités (1, 3, -2, 0 dans cet ordre)."
   ]
  },
  {
   "cell_type": "code",
   "execution_count": null,
   "metadata": {},
   "outputs": [],
   "source": [
    "# réponse :\n"
   ]
  },
  {
   "cell_type": "markdown",
   "metadata": {},
   "source": [
    "# Activité 5 : Implémentation avec un tableau\n",
    "\n",
    "Dans cette activité on suppose que l'on utilise un tableau de taille 11 pour implémenter des listes de taille maximale égale à 10. Les tableaux sont construits de la façon suivante :\n",
    "\n",
    "- la première case du tableau (d'indice 0) contient le nombre d'éléments présents dans la liste (sa taille).\n",
    "- les cases suivantes du tableau (d'indice 1 à 10), contiennent les éléments de la liste ou sont vides\n",
    "\n",
    "Par exemple, la liste formée par les nombres 2, 5, 1 est mémorisée dans le tableau\n",
    "\n",
    "```python\n",
    "[3, 2, 5, 1, None, None, None, None, None, None, None]\n",
    "```\n",
    "\n",
    "**Explication** : \n",
    "\n",
    "- le premier élément du **tableau** est 3 car il y a trois éléments dans la liste.\n",
    "- les éléments suivants sont ceux de la liste et la valeur `None` pour les cases vides.\n",
    "\n",
    "## Partie A : implémentations des opérations primitives simples\n",
    "\n",
    "**Question 1** : Complétez les fonctions ci-dessous implémentant certaines opérations primitives. "
   ]
  },
  {
   "cell_type": "code",
   "execution_count": null,
   "metadata": {},
   "outputs": [],
   "source": [
    "def listevide():\n",
    "    return [0] + [None]*10\n",
    "\n",
    "def premier(L): # pour renvoyer la tête de la liste L\n",
    "    # à compléter\n",
    "    \n",
    "\n",
    "def reste(L): # pour renvoyer la queue de la liste L\n",
    "    # à compléter\n",
    "    \n",
    "\n",
    "def estvide(L): # pour tester si L est une liste vide\n",
    "    # à compléter\n",
    "    \n",
    "    "
   ]
  },
  {
   "cell_type": "markdown",
   "metadata": {},
   "source": [
    "## Partie B : implémentation d'autres opérations\n",
    "\n",
    "### L'opération `ajouter_en_queue`\n",
    "\n",
    "On définit l'opération `ajouter_en_queue(L, e)` qui ajoute l'élément `e` en queue de la liste `L` s'il reste de la place dans `L`, et affiche un message d'erreur sinon.\n",
    "\n",
    "**Question 2** : Indiquez le contenu du *tableau* mémorisant la liste `maliste3` après chacune des opérations suivantes.\n",
    "\n",
    "```python\n",
    "maliste3 = listevide()\n",
    "ajouter_en_queue(maliste3, 1)\n",
    "ajouter_en_queue(maliste3, 5)\n",
    "ajouter_en_queue(maliste3, 2)\n",
    "```\n",
    "\n",
    "**Question 3** : Programmez une fonction qui implémente cette opération."
   ]
  },
  {
   "cell_type": "code",
   "execution_count": null,
   "metadata": {},
   "outputs": [],
   "source": [
    "# à vous de jouer !\n"
   ]
  },
  {
   "cell_type": "markdown",
   "metadata": {},
   "source": [
    "## L'opération `ajouter_en_tete`\n",
    "\n",
    "On définit l'opération `ajouter_en_tete(L, e)` qui ajoute l'élément `e` en tête de la liste `L` s'il reste de la place dans L, et affiche un message d'erreur sinon.\n",
    "\n",
    "**Question 4** : Indiquez le contenu du *tableau* mémorisant la liste `maliste4` après chacune des opérations suivantes. A chaque ajout en tête, combien de valeurs doivent être déplacées ?\n",
    "\n",
    "```python\n",
    "maliste4 = listevide()\n",
    "ajouter_en_tete(maliste4, 1)\n",
    "ajouter_en_tete(maliste4, 5)\n",
    "ajouter_en_tete(maliste4, 2)\n",
    "```\n",
    "\n",
    "**Question 5** : Programmez une fonction qui implémente cette opération."
   ]
  },
  {
   "cell_type": "code",
   "execution_count": null,
   "metadata": {},
   "outputs": [],
   "source": [
    "# à vous de jouer !\n"
   ]
  },
  {
   "cell_type": "markdown",
   "metadata": {},
   "source": [
    "> **Remarque** : On constate qu'avec cette implémentation avec des tableaux, l'ajout en tête est très coûteuse (en temps et en mémoire) car il faut déplacer au préalable tous les autres éléments d'une case. En revanche, l'ajout en queue est rapide puisqu'il suffit d'accéder à la première case disponible et d'y écrire la nouvelle valeur.\n",
    ">\n",
    "> Avec la première implémentation avec les couples (activité 2), ce serait exactement le contraire car l'ajout en tête (par l'opération `construit`) se fait très rapidement car elle consiste juste la création d'un couple. Mais l'ajout en queue nécessite de parcourir au préalable tous les couples du dernier au premier pour construire récursivement la nouvelle liste. Ce serait un excellent exercice de programmation que de programmer cette opération avec la première implémentation."
   ]
  },
  {
   "cell_type": "markdown",
   "metadata": {},
   "source": [
    "---\n",
    "\n",
    "**Références :**\n",
    "- Documents ressources de l'équipe éducative du DIU EIL, Université de Nantes, Christophe DECLERCQ.\n",
    "- Livre *Spécialité NSI Tle*, Jean Christophe BONNEFOY & Bertrand PETIT, éditions ELLIPSES, pour l'idée de la dernière activité.\n",
    "---\n",
    "Germain BECKER, Lycée Mounier, ANGERS\n",
    "\n",
    "Ressource éducative libre distribuée sous [Licence Creative Commons Attribution - Pas d’Utilisation Commerciale - Partage dans les Mêmes Conditions 4.0 International](http://creativecommons.org/licenses/by-nc-sa/4.0/) \n",
    "\n",
    "![Licence Creative Commons](https://i.creativecommons.org/l/by-nc-sa/4.0/88x31.png)"
   ]
  }
 ],
 "metadata": {
  "kernelspec": {
   "display_name": "Python 3",
   "language": "python",
   "name": "python3"
  },
  "language_info": {
   "codemirror_mode": {
    "name": "ipython",
    "version": 3
   },
   "file_extension": ".py",
   "mimetype": "text/x-python",
   "name": "python",
   "nbconvert_exporter": "python",
   "pygments_lexer": "ipython3",
   "version": "3.7.10"
  }
 },
 "nbformat": 4,
 "nbformat_minor": 2
}
