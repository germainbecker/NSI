{
 "cells": [
  {
   "cell_type": "markdown",
   "id": "f1f67d9a",
   "metadata": {},
   "source": [
    "# Introduction\n",
    "\n",
    "La **programmation fonctionnelle** est née avec le langage LISP (List Processing) créé par John Mac Carthy en 1958. C'est une mise en oeuvre de ce qu'on appelle le *lambda-calcul*, une théorie inventée par Alonzo Church dans les années 1930 dont l'idée majeure est que tout programme informatique ou tout calcul peut s'écrire ou s'exprimer uniquement avec des *fonctions*.\n",
    "\n",
    "Le langage LISP a eu ensuite de nombreux descendants dont Common Lisp, Scheme, Haskell, Caml puis son extension objet OcamL (qui est un langage enseigné actuellement en classe préparatoire MP2I).\n",
    "\n",
    "Les idées introduites par ces langages ont été reprises dans la plupart des langages modernes qui offrent la possibilité, entre autres, de programmer en suivant un **paradigme fonctionnel**. En particulier, on verra qu'il est possible d'écrire en Python dans un style fonctionnel."
   ]
  },
  {
   "cell_type": "markdown",
   "id": "891f196d",
   "metadata": {},
   "source": [
    "## Exemple introduction : traitement de listes\n",
    "\n",
    "En Lisp, les listes se notent avec des parenthèses et le traitement de listes repose sur 2 primitives `car` et `cdr` pour accéder au 1er élément et au reste d'une liste. On remarque la notation préfixée des opérateurs et l'usage abondant des parenthèses qui servent à la fois à structurer les données et les programmes.\n",
    "\n",
    "```lisp\n",
    "(de dernier (l)\n",
    "  (cond ((null (cdr l)) (car l))\n",
    "        (t (dernier (cdr l)))\n",
    "  )\n",
    ")\n",
    "(dernier '(2 4 3 9))\n",
    "```\n",
    "\n",
    "À condition de définir au préalable les fonctions primitives, on peut, en Python, définir la fonction `dernier`, selon le paradigme fonctionnel."
   ]
  },
  {
   "cell_type": "code",
   "execution_count": 1,
   "id": "b43cc288",
   "metadata": {},
   "outputs": [],
   "source": [
    "# Fonctions primitives\n",
    "\n",
    "def listevide():\n",
    "    return []\n",
    "\n",
    "def premier(L):\n",
    "    return L[0]\n",
    "\n",
    "def reste(L):\n",
    "    return L[1:]"
   ]
  },
  {
   "cell_type": "markdown",
   "id": "7efce450",
   "metadata": {},
   "source": [
    "On a déjà écrit une version impérative de la fonction `dernier` :\n",
    "\n",
    "```python\n",
    "def dernier(L):\n",
    "    \"\"\"Version impérative.\"\"\"\n",
    "    while reste(L) != listevide(): # tant que le reste de la liste n'est pas vide\n",
    "        L = reste(L) # on passe au reste\n",
    "    return premier(L) # on renvoie le premier élément de la dernière paire\n",
    "```\n",
    "\n",
    "Une version fonctionnelle de cette fonction peut s'écrire ainsi :"
   ]
  },
  {
   "cell_type": "code",
   "execution_count": 2,
   "id": "543a4523",
   "metadata": {},
   "outputs": [
    {
     "data": {
      "text/plain": [
       "9"
      ]
     },
     "execution_count": 2,
     "metadata": {},
     "output_type": "execute_result"
    }
   ],
   "source": [
    "def dernier(L):\n",
    "    \"\"\"Version fonctionnelle.\"\"\"\n",
    "    return premier(L) if reste(L) == listevide() else dernier(reste(L))\n",
    "\n",
    "dernier([2, 4, 3, 9])"
   ]
  },
  {
   "cell_type": "markdown",
   "id": "bf436d24",
   "metadata": {},
   "source": [
    "## Exemple introduction : calcul du pgcd\n",
    "\n",
    "Pour calculer le pgcd de deux nombres entiers positifs donnés, on peut, dans un style *impératif*, écrire une boucle qui soustrait alternativement le plus petit du plus grand jusqu'à ce qu'on obtienne 0."
   ]
  },
  {
   "cell_type": "code",
   "execution_count": 3,
   "id": "52d480b2",
   "metadata": {},
   "outputs": [
    {
     "data": {
      "text/plain": [
       "8"
      ]
     },
     "execution_count": 3,
     "metadata": {},
     "output_type": "execute_result"
    }
   ],
   "source": [
    "def pgcd(a, b):\n",
    "    \"\"\"Version impérative.\"\"\"\n",
    "    while a != b:\n",
    "        if a > b:\n",
    "            a = a - b\n",
    "        else:\n",
    "            b = b - a\n",
    "    return a\n",
    "\n",
    "pgcd(56, 184)"
   ]
  },
  {
   "cell_type": "markdown",
   "id": "36ccf953",
   "metadata": {},
   "source": [
    "Dans un style fonctionnel, on écrit une fonction qui renvoie le résultat en précisant la valeur dans les cas simples et en se ramenant, le cas échéant, par appel récursif, à des cas plus simples."
   ]
  },
  {
   "cell_type": "code",
   "execution_count": 4,
   "id": "3fe68741",
   "metadata": {},
   "outputs": [
    {
     "data": {
      "text/plain": [
       "8"
      ]
     },
     "execution_count": 4,
     "metadata": {},
     "output_type": "execute_result"
    }
   ],
   "source": [
    "def pgcd(a, b):\n",
    "    \"\"\"Version fonctionnelle.\"\"\"\n",
    "    return a if b == 0 else pgcd(b, a) if b > a else pgcd(a-b, b)\n",
    "\n",
    "pgcd(56, 184)"
   ]
  },
  {
   "cell_type": "markdown",
   "id": "e27de2bb",
   "metadata": {},
   "source": [
    "# Le paradigme fonctionnel\n",
    "\n",
    "L'usage de toutes ou une partie de quatre notions suivantes est caractéristique de la programmation fonctionnelle :\n",
    "\n",
    "* la notion de **fonction** qui est évidemment centrale,\n",
    "* la **composition** de fonctions, qui permet de faire deux calculs successifs (par exemple `dernier(reste(L))` applique la fonction `dernier` au résultat de l'application de la fonction `reste` à la liste `L`),\n",
    "* la possibilité d'écrire des **expressions conditionnelles**, en Python sous la forme : `exp1 if cond else exp2`,\n",
    "* la **récursion** qui permet de réduire un calcul complexe à un cas plus simple.\n",
    "\n",
    "\n",
    "Par contre, on n'a pas utilisé :\n",
    "* de variable,\n",
    "* d'instruction élémentaire : affichage ou affectation,\n",
    "* de boucle pour répéter des instructions\n",
    "* de séquence pour enchaîner des instructions \n",
    "* d'instruction conditionnelle.\n",
    "\n",
    "Ces notions sont, quant à elles, les briques de base de la programmation impérative.\n",
    "\n",
    "**Correspondances** :\n",
    "\n",
    "* En programmation fonctionnelle, la **composition** remplace la **séquence**.\n",
    "* L'écriture d'**expressions** - en particulier conditionnelles - remplace l'écriture d'**instructions**.\n",
    "* La **récursion** remplace l'**itération**.\n",
    "\n"
   ]
  },
  {
   "cell_type": "markdown",
   "id": "4818559c",
   "metadata": {},
   "source": [
    "# Les fonctions d'ordre supérieur\n",
    "\n",
    "Dans un langage fonctionnel, une fonction est une expression comme une autre, qui peut donc être passée en paramètre à une autre fonction, ou être renvoyée comme résultat.\n",
    "\n",
    "Une **fonction d'ordre supérieur** est une fonction qui prend une ou plusieurs fonctions en paramètre, ou qui renvoie une fonction (ou les deux).\n",
    "\n",
    "> Fondamentalement, cela permet de considérer un programme comme une donnée et donc de fabriquer des programmes qui fabriquent ou testent ou vérifient d'autres programmes. \n",
    "\n",
    "On a déjà vu une tel usage, avec la fonction `sorted` qui peut prendre un paramètre - nommé `key` - une fonction calculant la clé sur laquelle effectuer le tri. Pour comparer deux éléments, ce sont leurs clés qui sont comparées."
   ]
  },
  {
   "cell_type": "code",
   "execution_count": 5,
   "id": "08e3b306",
   "metadata": {},
   "outputs": [
    {
     "name": "stdout",
     "output_type": "stream",
     "text": [
      "Help on built-in function sorted in module builtins:\n",
      "\n",
      "sorted(iterable, /, *, key=None, reverse=False)\n",
      "    Return a new list containing all items from the iterable in ascending order.\n",
      "    \n",
      "    A custom key function can be supplied to customize the sort order, and the\n",
      "    reverse flag can be set to request the result in descending order.\n",
      "\n"
     ]
    }
   ],
   "source": [
    "help(sorted)"
   ]
  },
  {
   "cell_type": "code",
   "execution_count": 6,
   "id": "51343986",
   "metadata": {},
   "outputs": [
    {
     "data": {
      "text/plain": [
       "['anaconda',\n",
       " 'chat',\n",
       " 'chien',\n",
       " 'cochon',\n",
       " 'poule',\n",
       " 'souris',\n",
       " 'vache',\n",
       " 'veau',\n",
       " 'ver']"
      ]
     },
     "execution_count": 6,
     "metadata": {},
     "output_type": "execute_result"
    }
   ],
   "source": [
    "animaux = ['veau', 'vache', 'cochon', 'anaconda', 'chat', 'chien', 'ver', 'poule', 'souris']\n",
    "sorted(animaux)"
   ]
  },
  {
   "cell_type": "markdown",
   "id": "210c8267",
   "metadata": {},
   "source": [
    "On peut utiliser la fonction `len` pour trier les chaines selon leur longueur."
   ]
  },
  {
   "cell_type": "code",
   "execution_count": 7,
   "id": "eae19afa",
   "metadata": {},
   "outputs": [
    {
     "data": {
      "text/plain": [
       "['ver',\n",
       " 'veau',\n",
       " 'chat',\n",
       " 'vache',\n",
       " 'chien',\n",
       " 'poule',\n",
       " 'cochon',\n",
       " 'souris',\n",
       " 'anaconda']"
      ]
     },
     "execution_count": 7,
     "metadata": {},
     "output_type": "execute_result"
    }
   ],
   "source": [
    "sorted(animaux, key=len)"
   ]
  },
  {
   "cell_type": "markdown",
   "id": "d7cf991e",
   "metadata": {},
   "source": [
    "> Dans ce dernier exemple, la fonction `len` est passée en paramètre à la fonction `sorted`."
   ]
  },
  {
   "cell_type": "markdown",
   "id": "37ab4fb2",
   "metadata": {},
   "source": [
    "Si on souhaite, on peut trier la liste selon la deuxième lettre de chaque mot."
   ]
  },
  {
   "cell_type": "code",
   "execution_count": 8,
   "id": "0383e5b1",
   "metadata": {},
   "outputs": [
    {
     "data": {
      "text/plain": [
       "['vache',\n",
       " 'veau',\n",
       " 'ver',\n",
       " 'chat',\n",
       " 'chien',\n",
       " 'anaconda',\n",
       " 'cochon',\n",
       " 'poule',\n",
       " 'souris']"
      ]
     },
     "execution_count": 8,
     "metadata": {},
     "output_type": "execute_result"
    }
   ],
   "source": [
    "def deuxieme_lettre(mot):\n",
    "    return mot[1]\n",
    "\n",
    "sorted(animaux, key=deuxieme_lettre)"
   ]
  },
  {
   "cell_type": "markdown",
   "id": "e9ecb2d2",
   "metadata": {},
   "source": [
    "## La notation `lambda`\n",
    "\n",
    "La notation `lambda` permet de définir une fonction, puis être nommée - ou pas. On utilise pour cela la syntaxe suivante :\n",
    "\n",
    "```python\n",
    "lambda x: 2*x\n",
    "```\n",
    "\n",
    "qui désigne une fonction prenant en paramètre un nombre `x` et renvoyant le double de `x`."
   ]
  },
  {
   "cell_type": "code",
   "execution_count": 9,
   "id": "901c08b5",
   "metadata": {},
   "outputs": [
    {
     "name": "stdout",
     "output_type": "stream",
     "text": [
      "<class 'function'>\n"
     ]
    }
   ],
   "source": [
    "print(type(lambda x: 2*x))"
   ]
  },
  {
   "cell_type": "markdown",
   "id": "92e70d84",
   "metadata": {},
   "source": [
    "On peut la nommer si nécessaire, puis l'utiliser, de la façon suivante :"
   ]
  },
  {
   "cell_type": "code",
   "execution_count": 10,
   "id": "8fa0f9fd",
   "metadata": {},
   "outputs": [
    {
     "data": {
      "text/plain": [
       "32"
      ]
     },
     "execution_count": 10,
     "metadata": {},
     "output_type": "execute_result"
    }
   ],
   "source": [
    "double = lambda x: 2*x\n",
    "double(16)"
   ]
  },
  {
   "cell_type": "code",
   "execution_count": 11,
   "id": "ac5a9e42",
   "metadata": {},
   "outputs": [
    {
     "data": {
      "text/plain": [
       "5"
      ]
     },
     "execution_count": 11,
     "metadata": {},
     "output_type": "execute_result"
    }
   ],
   "source": [
    "addition = lambda x, y: x + y\n",
    "addition(2, 3)"
   ]
  },
  {
   "cell_type": "markdown",
   "id": "1c63c2c1",
   "metadata": {},
   "source": [
    "Souvent, on va utiliser la notation `lambda` pour définir une fonction *anonyme*, c'est-à-dire sans avoir besoin de la nommer. Par exemple, une telle fonction anonyme peut aussi être fournie comme clé à la fonction `sorted` (ou toute autre fonction ayant pour paramètre une fonction). \n",
    "\n",
    "Dans cet exemple, on trie des points selon leur distance de Manhattan au point (0,0) :"
   ]
  },
  {
   "cell_type": "code",
   "execution_count": 12,
   "id": "50613afc",
   "metadata": {},
   "outputs": [
    {
     "data": {
      "text/plain": [
       "[(1, 1), (3, 1), (5, 0), (2, 4), (3, 5), (7, 5)]"
      ]
     },
     "execution_count": 12,
     "metadata": {},
     "output_type": "execute_result"
    }
   ],
   "source": [
    "points = [(2, 4), (3, 5), (1, 1), (7,5), (3,1), (5,0)]\n",
    "\n",
    "sorted(points, key = lambda p: p[0] + p[1])"
   ]
  },
  {
   "cell_type": "markdown",
   "id": "328de63e",
   "metadata": {},
   "source": [
    "## Les fonctions `map`, `filter` et `reduce`\n",
    "\n",
    "Les fonctions `map`, `filter` et `reduce` sont des fonctions d'ordre supérieur communes en programmation fonctionnelle. Elle sont aussi présentes en Python, via la distribution standard ou des modules classiques."
   ]
  },
  {
   "cell_type": "code",
   "execution_count": 13,
   "id": "12ee2fac",
   "metadata": {},
   "outputs": [
    {
     "data": {
      "text/plain": [
       "<map at 0x23ec3a54a48>"
      ]
     },
     "execution_count": 13,
     "metadata": {},
     "output_type": "execute_result"
    }
   ],
   "source": [
    "map(lambda x: 2*x, [1, 2, 3, 4, 5])"
   ]
  },
  {
   "cell_type": "code",
   "execution_count": 14,
   "id": "898a41db",
   "metadata": {},
   "outputs": [
    {
     "data": {
      "text/plain": [
       "[2, 4, 6, 8, 10]"
      ]
     },
     "execution_count": 14,
     "metadata": {},
     "output_type": "execute_result"
    }
   ],
   "source": [
    "list(map(lambda x: 2*x, [1, 2, 3, 4, 5]))"
   ]
  },
  {
   "cell_type": "markdown",
   "id": "87651bf0",
   "metadata": {},
   "source": [
    "### La fonction `map`\n",
    "\n",
    "La fonction `map` permet d'appliquer la même fonction à tous les éléments d'une liste et de construire la liste des résultats. C'est une fonction qui prend donc en paramètres :\n",
    "- une fonction (celle à appliquer aux différents éléments)\n",
    "- une liste contenant les éléments auxquels on va appliquer la fonction "
   ]
  },
  {
   "cell_type": "code",
   "execution_count": 15,
   "id": "cba28c84",
   "metadata": {},
   "outputs": [
    {
     "data": {
      "text/plain": [
       "<map at 0x23ec3a48dc8>"
      ]
     },
     "execution_count": 15,
     "metadata": {},
     "output_type": "execute_result"
    }
   ],
   "source": [
    "map(lambda x: 2*x, [0, 1, 2, 3, 4, 5])"
   ]
  },
  {
   "cell_type": "markdown",
   "id": "42b62550",
   "metadata": {},
   "source": [
    "Cette fonction renvoie un *itérateur* auquel on peut appliquer la fonction `list` pour calculer effectivement la liste des valeurs sucessives :"
   ]
  },
  {
   "cell_type": "code",
   "execution_count": 16,
   "id": "90ad2a0f",
   "metadata": {},
   "outputs": [
    {
     "data": {
      "text/plain": [
       "[0, 1, 4, 9, 16, 25]"
      ]
     },
     "execution_count": 16,
     "metadata": {},
     "output_type": "execute_result"
    }
   ],
   "source": [
    "list(map(lambda x: x**2, [0, 1, 2, 3, 4, 5]))"
   ]
  },
  {
   "cell_type": "code",
   "execution_count": 17,
   "id": "5379e9fb",
   "metadata": {},
   "outputs": [
    {
     "data": {
      "text/plain": [
       "[1, 2, 4, 8, 16, 32, 64, 128, 256, 512]"
      ]
     },
     "execution_count": 17,
     "metadata": {},
     "output_type": "execute_result"
    }
   ],
   "source": [
    "list(map(lambda x: 2**x, range(10)))"
   ]
  },
  {
   "cell_type": "code",
   "execution_count": 18,
   "id": "98bc3e60",
   "metadata": {},
   "outputs": [
    {
     "data": {
      "text/plain": [
       "[4, 5, 6, 8, 3]"
      ]
     },
     "execution_count": 18,
     "metadata": {},
     "output_type": "execute_result"
    }
   ],
   "source": [
    "list(map(len, ['veau', 'vache', 'cochon', 'anaconda', 'ver']))"
   ]
  },
  {
   "cell_type": "markdown",
   "id": "7d7a4211",
   "metadata": {},
   "source": [
    "### La fonction `filter`\n",
    "\n",
    "La fonction `filter` permet de tester un prédicat sur tous les éléments d'une liste et de construire la liste des éléments le vérifiant. C'est une fonction qui prend donc en paramètres :\n",
    "- une fonction renvoyant un prédicat\n",
    "- une liste d'éléments sur lesquels le prédicat est testé\n",
    "\n",
    "On peut construire la liste des éléments pour lesquels le prédicat est vrai en appliquant la fonction `list` après `filter` : "
   ]
  },
  {
   "cell_type": "code",
   "execution_count": 35,
   "id": "92a3685b",
   "metadata": {},
   "outputs": [
    {
     "data": {
      "text/plain": [
       "[0, 2, 4, 6, 8, 10, 12, 14, 16, 18]"
      ]
     },
     "execution_count": 35,
     "metadata": {},
     "output_type": "execute_result"
    }
   ],
   "source": [
    "def est_pair(n):\n",
    "    return n % 2 == 0\n",
    "\n",
    "list(filter(est_pair, range(20)))"
   ]
  },
  {
   "cell_type": "code",
   "execution_count": 20,
   "id": "4a2b58c1",
   "metadata": {},
   "outputs": [
    {
     "data": {
      "text/plain": [
       "['veau', 'ver']"
      ]
     },
     "execution_count": 20,
     "metadata": {},
     "output_type": "execute_result"
    }
   ],
   "source": [
    "list(filter(lambda c: len(c) <= 4, ['veau', 'vache', 'cochon', 'anaconda', 'ver']))"
   ]
  },
  {
   "cell_type": "markdown",
   "id": "0adfa6bc",
   "metadata": {},
   "source": [
    "On peut bien sûr combiner les fonctions `map` et `filter` :"
   ]
  },
  {
   "cell_type": "code",
   "execution_count": 41,
   "id": "e9662318",
   "metadata": {},
   "outputs": [
    {
     "data": {
      "text/plain": [
       "[0, 4, 16]"
      ]
     },
     "execution_count": 41,
     "metadata": {},
     "output_type": "execute_result"
    }
   ],
   "source": [
    "# on construit la liste des carrés pairs des entiers compris entre 0 et 5\n",
    "list(filter(est_pair, map(lambda x: x**2, range(6))))"
   ]
  },
  {
   "cell_type": "markdown",
   "id": "c053cce2",
   "metadata": {},
   "source": [
    "Néanmoins, l'usage de `map` et de `filter` peut être évité en Python grâce à l'écriture par compréhension qui effectue le même calcul en construisant la liste des résultats :"
   ]
  },
  {
   "cell_type": "code",
   "execution_count": 38,
   "id": "fc2bf174",
   "metadata": {},
   "outputs": [
    {
     "data": {
      "text/plain": [
       "[0, 4, 16]"
      ]
     },
     "execution_count": 38,
     "metadata": {},
     "output_type": "execute_result"
    }
   ],
   "source": [
    "[x**2 for x in range(6) if est_pair(x)]"
   ]
  },
  {
   "cell_type": "markdown",
   "id": "34237171",
   "metadata": {},
   "source": [
    "### La fonction `reduce`\n",
    "\n",
    "Cette fonction est accessible via le module `functools` (documentation : [https://docs.python.org/fr/3/library/functools.html](https://docs.python.org/fr/3/library/functools.html))."
   ]
  },
  {
   "cell_type": "code",
   "execution_count": 21,
   "id": "4a4e3cde",
   "metadata": {},
   "outputs": [],
   "source": [
    "from functools import reduce"
   ]
  },
  {
   "cell_type": "markdown",
   "id": "caeeaa66",
   "metadata": {},
   "source": [
    "La fonction `reduce` permet de généraliser des opérateurs à tous les éléments d'une liste. \n",
    "\n",
    "Elle prend en paramètres :\n",
    "- une fonction `f` possédant **exactement deux** paramètres\n",
    "- une liste d'éléments\n",
    "- (et éventuellement un paramètre optionnel qui permet de préciser la valeur à renvoyer pour une liste vide (l'élément neutre).)\n",
    "\n",
    "La fonction `reduce` va alors appliquer la fonction `f` aux éléments de la liste, deux à deux et de façon cumulative jusqu'à ce que tous les éléments aient été visités.\n",
    "\n",
    "Concrètement, `reduce(f, [1, 2, 3, 4, 5]))` va calculer `f(f(f(f(1, 2), 3), 4), 5)`. C'est donc une fonction qui permet de généraliser la somme, le produit, etc."
   ]
  },
  {
   "cell_type": "code",
   "execution_count": 22,
   "id": "1afe03d0",
   "metadata": {},
   "outputs": [
    {
     "data": {
      "text/plain": [
       "55"
      ]
     },
     "execution_count": 22,
     "metadata": {},
     "output_type": "execute_result"
    }
   ],
   "source": [
    "reduce(lambda x, y: x + y, range(1, 11))  # somme des entiers de 1 à 10"
   ]
  },
  {
   "cell_type": "code",
   "execution_count": 23,
   "id": "af6af933",
   "metadata": {},
   "outputs": [
    {
     "data": {
      "text/plain": [
       "3628800"
      ]
     },
     "execution_count": 23,
     "metadata": {},
     "output_type": "execute_result"
    }
   ],
   "source": [
    "reduce(lambda x, y: x * y, range(1, 11))  # produit des entiers de 1 à 10"
   ]
  },
  {
   "cell_type": "markdown",
   "id": "63815b7c",
   "metadata": {},
   "source": [
    "### Un synthèse\n",
    "\n",
    "Voici un exemple de programme combinant toutes ces fonctions. L'exemple est inspiré du [problème 1 du projet Euler](https://projecteuler.net/problem=1) :\n",
    "\n",
    "> Si on liste tous les entiers naturels inférieurs à 10 qui sont multiples de 3 ou de 5, on obtient 3, 5, 6 and 9. La somme des carrés de ces multiples est 151.  \n",
    "\n",
    "Le programme ci-dessous donne la réponse en une seule ligne :"
   ]
  },
  {
   "cell_type": "code",
   "execution_count": 24,
   "id": "3c9e5728",
   "metadata": {},
   "outputs": [
    {
     "data": {
      "text/plain": [
       "151"
      ]
     },
     "execution_count": 24,
     "metadata": {},
     "output_type": "execute_result"
    }
   ],
   "source": [
    "reduce(lambda m, n: m+n, map(lambda n: n*n, filter(lambda n: n%3 == 0 or n%5 == 0, range(10))))"
   ]
  },
  {
   "cell_type": "markdown",
   "id": "b5be50ae",
   "metadata": {},
   "source": [
    "Analysez bien cette ligne pour la comprendre. Une version itérative pour trouver la réponse aurait été bien plus longue à écrire."
   ]
  },
  {
   "cell_type": "markdown",
   "id": "c5ce4c4d",
   "metadata": {},
   "source": [
    "# Transparence référentielle\n",
    "\n",
    "Une autre caractéristique importante de la programme fonctionnelle s'appelle la **transparence référentielle**. \n",
    "Il s'agit d'un principe qui prévoit que lorsqu'on applique plusieurs fois la même fonction aux mêmes arguments, alors on obtient à chaque fois le même résultat.\n",
    "\n",
    "Ce n'est pas toujours le cas, principalement lorsque notre fonction manipule des objets *mutables* :"
   ]
  },
  {
   "cell_type": "code",
   "execution_count": 25,
   "id": "422c202a",
   "metadata": {},
   "outputs": [],
   "source": [
    "def ajouter(liste, x):\n",
    "    \"Version impérative\"\n",
    "    liste.append(x)\n",
    "    return liste"
   ]
  },
  {
   "cell_type": "markdown",
   "id": "c687a89f",
   "metadata": {},
   "source": [
    "Si on applique cette fonction sur la liste"
   ]
  },
  {
   "cell_type": "code",
   "execution_count": 26,
   "id": "47bf1dda",
   "metadata": {},
   "outputs": [],
   "source": [
    "une_liste = [0, 1, 2, 3, 4]"
   ]
  },
  {
   "cell_type": "markdown",
   "id": "99608843",
   "metadata": {},
   "source": [
    "elle ne renvoie pas toujours le même résultat, même avec des expressions identiques :"
   ]
  },
  {
   "cell_type": "code",
   "execution_count": 27,
   "id": "2599a097",
   "metadata": {},
   "outputs": [
    {
     "data": {
      "text/plain": [
       "[0, 1, 2, 3, 4, 5]"
      ]
     },
     "execution_count": 27,
     "metadata": {},
     "output_type": "execute_result"
    }
   ],
   "source": [
    "ajouter(une_liste, 5)"
   ]
  },
  {
   "cell_type": "code",
   "execution_count": 28,
   "id": "c18d6be9",
   "metadata": {},
   "outputs": [
    {
     "data": {
      "text/plain": [
       "[0, 1, 2, 3, 4, 5, 5]"
      ]
     },
     "execution_count": 28,
     "metadata": {},
     "output_type": "execute_result"
    }
   ],
   "source": [
    "ajouter(une_liste, 5)"
   ]
  },
  {
   "cell_type": "markdown",
   "id": "ae6667ef",
   "metadata": {},
   "source": [
    "Comme on le peut le voir, notre fonction `ajouter` ne respecte pas la transparence référentielle. \n",
    "\n",
    "Par ailleurs, comme elle modifie un élément externe à la fonction (la liste `liste` passée en paramètre), on dit qu'elle possède un **effet de bord**."
   ]
  },
  {
   "cell_type": "code",
   "execution_count": 29,
   "id": "5bea3d2a",
   "metadata": {},
   "outputs": [
    {
     "data": {
      "text/plain": [
       "[0, 1, 2, 3, 4, 5]"
      ]
     },
     "execution_count": 29,
     "metadata": {},
     "output_type": "execute_result"
    }
   ],
   "source": [
    "une_liste = [0, 1, 2, 3, 4]\n",
    "ajouter(une_liste, 5)\n",
    "une_liste  # est modifiée par la fonction"
   ]
  },
  {
   "cell_type": "markdown",
   "id": "5b408635",
   "metadata": {},
   "source": [
    "La programmation fonctionnelle *pure* prévoit que les fonctions ne doivent pas avoir d'effets de bord, donc elle décourage l'utilisation de variables *mutables*. Cela n'empêche en rien d'écrire une fonction qui fait le même travail que précédemment. En effet, au lieu de modifier un objet, il suffit d'en créer un nouveau."
   ]
  },
  {
   "cell_type": "code",
   "execution_count": 30,
   "id": "88137b7c",
   "metadata": {},
   "outputs": [],
   "source": [
    "def ajouter(liste, x):\n",
    "    \"\"\"Version fonctionnelle.\"\"\"\n",
    "    return liste[:] + [x]  # liste[:] crée une copie la liste (équivalent à liste.copy())"
   ]
  },
  {
   "cell_type": "markdown",
   "id": "eef85fc4",
   "metadata": {},
   "source": [
    ">La concaténation de deux listes en Python (opération `+`) construit une nouvelle liste, caractéristique d'une approche fonctionnelle (contrairement à `.append()` caractéristique d'une approche impérative)."
   ]
  },
  {
   "cell_type": "markdown",
   "id": "595cd495",
   "metadata": {},
   "source": [
    "La nouvelle fonction ne modifie plus la liste passée en paramètre (elle n'a plus d'effet de bord) :"
   ]
  },
  {
   "cell_type": "code",
   "execution_count": 31,
   "id": "5ad677d9",
   "metadata": {},
   "outputs": [
    {
     "name": "stdout",
     "output_type": "stream",
     "text": [
      "[0, 1, 2, 3, 4]\n"
     ]
    }
   ],
   "source": [
    "une_liste = [0, 1, 2, 3, 4]\n",
    "ajouter(une_liste, 5)\n",
    "print(une_liste)  # la liste de départ n'est pas modifiée"
   ]
  },
  {
   "cell_type": "markdown",
   "id": "59ae5388",
   "metadata": {},
   "source": [
    "Et donc l'application de la fonction donne toujours le même résultat si on lui passe les mêmes arguments (elle respecte la transparence référentielle) : "
   ]
  },
  {
   "cell_type": "code",
   "execution_count": 32,
   "id": "7542c46f",
   "metadata": {},
   "outputs": [
    {
     "name": "stdout",
     "output_type": "stream",
     "text": [
      "[0, 1, 2, 3, 4, 5]\n",
      "[0, 1, 2, 3, 4, 5]\n"
     ]
    }
   ],
   "source": [
    "une_liste = [0, 1, 2, 3, 4]\n",
    "print(ajouter(une_liste, 5))\n",
    "print(ajouter(une_liste, 5))"
   ]
  },
  {
   "cell_type": "markdown",
   "id": "861c03c9",
   "metadata": {},
   "source": [
    "Avec cette version fonctionnelle, on peut écrire des programmes équivalents à ceux de la version impérative. Cela suppose simplement de modifier légèrement la façon dont on les écrit. Ainsi, pour ajouter 5 puis 6 à notre liste de départ, au lieu d'écrire\n",
    "\n",
    "```python\n",
    "# version impérative\n",
    "une_liste = [0, 1, 2, 3, 4]\n",
    "ajouter(une_liste, 5)\n",
    "ajouter(une_liste, 6)\n",
    "print(une_liste)  # Affiche [0, 1, 2, 3, 4, 5, 6]\n",
    "```\n",
    "\n",
    "on écrirait :"
   ]
  },
  {
   "cell_type": "code",
   "execution_count": 33,
   "id": "3718496a",
   "metadata": {},
   "outputs": [
    {
     "name": "stdout",
     "output_type": "stream",
     "text": [
      "[0, 1, 2, 3, 4, 5, 6]\n"
     ]
    }
   ],
   "source": [
    "# version \"fonctionnelle\"\n",
    "une_liste = [0, 1, 2, 3, 4]\n",
    "une_autre = ajouter(une_liste, 5)\n",
    "encore_une_autre = ajouter(une_autre, 6)\n",
    "print(encore_une_autre)  # Affiche [0, 1, 2, 3, 4, 5, 6]"
   ]
  },
  {
   "cell_type": "markdown",
   "id": "5bf3dd37",
   "metadata": {},
   "source": [
    "Encore mieux, pour ne pas utiliser d'affectations mais plutôt la *composition* de fonctions pour faire des calculs successifs (caractéristique d'une approche fonctionnelle), on écrirait : "
   ]
  },
  {
   "cell_type": "code",
   "execution_count": 34,
   "id": "efcc27a1",
   "metadata": {},
   "outputs": [
    {
     "data": {
      "text/plain": [
       "[0, 1, 2, 3, 4, 5, 6]"
      ]
     },
     "execution_count": 34,
     "metadata": {},
     "output_type": "execute_result"
    }
   ],
   "source": [
    "ajouter(ajouter([0, 1, 2, 3, 4], 5), 6)"
   ]
  },
  {
   "cell_type": "markdown",
   "id": "52de48d6",
   "metadata": {},
   "source": [
    "# Bilan\n",
    "\n",
    "- La programmation fonctionnelle est un paradigme de programmation qui considère le calcul en tant qu'**évaluation de fonctions** mathématiques.\n",
    "- En particulier, en programmation fonctionnelle, il n'y a pas :\n",
    "    - de boucles : les itérations sont remplacées par la **récursion**\n",
    "    - de séquences d'instructions : elles sont remplacées par la **composition** (de fonctions)\n",
    "- Dans un langage fonctionnel, **une fonction est une expression comme une autre**, qui peut donc être passée en paramètre à une autre fonction, ou être renvoyée comme résultat. Une fonction qui prend en paramètre d'autres fonctions ou qui en renvoie s'appelle une *fonction d'ordre supérieur*.\n",
    "- Les fonctions `map`, `filter` et `reduce` sont des fonctions d'ordre supérieur communes en programmation fonctionnelle. Elles permettent d'itérer, d'effectuer des tests et d'effectuer des calculs, donc d'écrire la plupart des programmes impératifs déjà écrits en NSI, par des évaluations de fonctions.\n",
    "- La programmation fonctionnelle respecte en outre le principe de **transparence référentielle** qui prévoit qu'un programme a les mêmes effets et les mêmes sorties si on lui donne les mêmes entrées. Cela impose de fait de ne pas modifier une variable existante, donc de ne pas utiliser de variables mutables. En fonctionnel, on ne modifie pas un objet on en crée un nouveau.\n",
    "- L'activité du programmeur peut sembler assez différente en programmation impérative ou fonctionnelle. Effectivement, l'ordre dans lequel on appréhende les problèmes à résoudre diffère :\n",
    "    * en impératif, on doit penser la suite des ordres à appliquer pour progresser des données vers le résultat,\n",
    "    * en fonctionnel, on commence par écrire l'expression du résultat à calculer."
   ]
  },
  {
   "cell_type": "markdown",
   "id": "d52ac164",
   "metadata": {},
   "source": [
    "---\n",
    "**Références**\n",
    "\n",
    "- Documents ressources de l'équipe éducative du DIU EIL, Université de Nantes, Christophe DECLERCQ (licence CC BY-NC-SA 4.0)\n",
    "- Document ressource sur Eduscol : [Le paradigme fonctionnel](https://eduscol.education.fr/document/7313/download)\n",
    "- Articles Wikipédia : [Programmation fonctionnelle](https://fr.wikipedia.org/wiki/Programmation_fonctionnelle), [Transparence référentielle](https://fr.wikipedia.org/wiki/Transparence_r%C3%A9f%C3%A9rentielle), [Fonction pure](https://fr.wikipedia.org/wiki/Fonction_pure)\n",
    "\n",
    "---\n",
    "Germain BECKER, Lycée Mounier, ANGERS\n",
    "\n",
    "Ressource éducative libre distribuée sous [Licence Creative Commons Attribution - Pas d’Utilisation Commerciale - Partage dans les Mêmes Conditions 4.0 International](http://creativecommons.org/licenses/by-nc-sa/4.0/) \n",
    "\n",
    "![Licence Creative Commons](https://i.creativecommons.org/l/by-nc-sa/4.0/88x31.png)"
   ]
  }
 ],
 "metadata": {
  "kernelspec": {
   "display_name": "Python 3",
   "language": "python",
   "name": "python3"
  },
  "language_info": {
   "codemirror_mode": {
    "name": "ipython",
    "version": 3
   },
   "file_extension": ".py",
   "mimetype": "text/x-python",
   "name": "python",
   "nbconvert_exporter": "python",
   "pygments_lexer": "ipython3",
   "version": "3.7.10"
  }
 },
 "nbformat": 4,
 "nbformat_minor": 5
}
