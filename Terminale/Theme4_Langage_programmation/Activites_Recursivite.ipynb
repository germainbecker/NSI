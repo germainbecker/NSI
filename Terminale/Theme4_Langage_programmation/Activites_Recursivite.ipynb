{
 "cells": [
  {
   "cell_type": "markdown",
   "metadata": {},
   "source": [
    "Activités sur la récursivité\n",
    "====\n",
    "\n",
    "# Activité 1 : Récursivité sur les listes\n",
    "\n",
    "Comme le type abstrait `Liste` est définie de façon récursive, il est facile d'implémenter certaines opérations de manière récursive.\n",
    "\n",
    "On rappelle ci-dessous une implémentation de cette structure de données avec des paires `(tête, queue)` où `queue` est elle-même une liste."
   ]
  },
  {
   "cell_type": "code",
   "execution_count": 1,
   "metadata": {},
   "outputs": [],
   "source": [
    "def listevide ():\n",
    "    return None  # on utilise None pour une liste vide\n",
    "\n",
    "def construit(e,L):\n",
    "    return (e,L) # renvoie un tuple de deux éléments\n",
    "\n",
    "def premier(L):\n",
    "    return L[0] # accès au premier élément du couple (la tête de L)\n",
    "\n",
    "def reste(L):\n",
    "    return L[1] # accès au deuxième élément du couple (la queue de L)\n",
    "\n",
    "def estvide(L):\n",
    "    return L == None"
   ]
  },
  {
   "cell_type": "markdown",
   "metadata": {},
   "source": [
    "## L'opération `taille`\n",
    "\n",
    "On rappelle que l'opération `taille(L)` renvoie le nombre d'éléments contenus dans la liste `L`. Vous aviez implémenté celle-ci par une fonction itérative, par exemple :"
   ]
  },
  {
   "cell_type": "code",
   "execution_count": 2,
   "metadata": {},
   "outputs": [
    {
     "data": {
      "text/plain": [
       "4"
      ]
     },
     "execution_count": 2,
     "metadata": {},
     "output_type": "execute_result"
    }
   ],
   "source": [
    "def taille(L):\n",
    "    \"\"\"Liste --> Entier\n",
    "    Précondition : aucune.\"\"\"\n",
    "    cpt = 0\n",
    "    while L != listevide(): # ou while not estvide(L):\n",
    "        cpt = cpt + 1\n",
    "        L = reste(L)\n",
    "    return cpt\n",
    "\n",
    "# essai\n",
    "L1 = construit(1, construit(3, construit(-2, construit(0, listevide()))))\n",
    "taille(L1)"
   ]
  },
  {
   "cell_type": "markdown",
   "metadata": {},
   "source": [
    "### Raisonner récursif\n",
    "\n",
    "Pour écrire une version récursive de cette fonction il est nécessaire de *raisonner récursif* c'est-à-dire :\n",
    "- Trouver un (ou plusieurs) **cas de base** pour le(s)quel(s) la réponse (ici la taille de la liste) est évidente\n",
    "- Déterminer la relation donnant le résultat (ici la taille) en fonction du résultat sur un objet plus petit (une liste plus petite), autrement dit déterminer l'appel récursif à faire.\n",
    "\n",
    "**Question 1 (cas de base)** : Quel cas de base peut-on choisir ? Quelle condition permet de tester si on se trouve dans le cas de base ?"
   ]
  },
  {
   "cell_type": "markdown",
   "metadata": {},
   "source": [
    "*Réponse* : "
   ]
  },
  {
   "cell_type": "markdown",
   "metadata": {},
   "source": [
    "**Question 2 (appel récursif)** : Si une liste `L` n'est pas vide, quelle est la relation entre la taille de `L` et la taille du reste de `L` ? "
   ]
  },
  {
   "cell_type": "markdown",
   "metadata": {},
   "source": [
    "*Réponse* : "
   ]
  },
  {
   "cell_type": "markdown",
   "metadata": {},
   "source": [
    "### Ecrire la fonction\n",
    "\n",
    "**Question 3** : (En vous inspirant de la version récursive de la fonction `dernier` écrite dans le cours), écrivez la version récursive de la fonction `taille`. Testez ensuite votre fonction."
   ]
  },
  {
   "cell_type": "code",
   "execution_count": null,
   "metadata": {},
   "outputs": [],
   "source": [
    "# VERSION RECURSIVE\n",
    "# à compléter\n"
   ]
  },
  {
   "cell_type": "markdown",
   "metadata": {},
   "source": [
    "## L'opération `lire`\n",
    "\n",
    "Vous aviez aussi implémenté une version itérative de l'opération `lire(L, i)` qui renvoie le i-ème élément de la liste `L` (*préconditions: L n'est pas vide ; i est dans 0..taille(L)-1*). Par exemple :"
   ]
  },
  {
   "cell_type": "code",
   "execution_count": 3,
   "metadata": {},
   "outputs": [
    {
     "data": {
      "text/plain": [
       "(1, 0, 3)"
      ]
     },
     "execution_count": 3,
     "metadata": {},
     "output_type": "execute_result"
    }
   ],
   "source": [
    "# VERSION ITERATIVE\n",
    "def lire(L, i):\n",
    "    \"\"\"Liste x Entier --> Element\n",
    "    Préconditions : L n'est pas vide ; i est dans 0..taille(L)-1\"\"\"\n",
    "    assert L != listevide() and 0 <= i <= taille(L)-1, \"précondition(s) non respectée(s)\"\n",
    "    cpt = 0\n",
    "    while cpt < i:\n",
    "        L = reste(L)\n",
    "        cpt = cpt + 1\n",
    "    return premier(L)\n",
    "\n",
    "L1 = construit(1, construit(3, construit(-2, construit(0, listevide()))))\n",
    "lire(L1, 0), lire(L1, 3), lire(L1, 1)"
   ]
  },
  {
   "cell_type": "markdown",
   "metadata": {},
   "source": [
    "**Question 4** : Procédez de même (réflexion puis écriture) pour écrire une version récursive de l'opération `lire(L, i)`."
   ]
  },
  {
   "cell_type": "code",
   "execution_count": null,
   "metadata": {},
   "outputs": [],
   "source": [
    "# VERSION RECURSIVE\n",
    "# à compléter\n",
    "\n",
    "# CAS DE BASE : i = 0 (on veut lire le premier élément) --> il suffit de le renvoyer\n",
    "# APPEL RECURSIF : le i-ème élément de L est le (i-1)-ème élément du reste de L\n"
   ]
  },
  {
   "cell_type": "markdown",
   "metadata": {},
   "source": [
    "# Activité 2 : La factorielle\n",
    "\n",
    "Il était inconcevable de ne pas aborder la factorielle car c'est l'*exemple classique* par excellence de fonction récursive.\n",
    "\n",
    "On peut trouver la définition suivante :\n",
    "\n",
    "> En mathématiques, la factorielle d'un entier naturel n est le produit des nombres entiers strictement positifs inférieurs ou égaux à n. *Source : Wikipédia*\n",
    "\n",
    "Ainsi, la factorielle de 3 est $3\\times 2 \\times 1 = 6$, la factorielle de 5 est $5\\times 4 \\times 3 \\times 2 \\times 1 = 120$, etc.\n",
    "\n",
    "La factorielle de $n$ étant notée $n!$ on remarque que :\n",
    "\n",
    "- $3! = 3 \\times \\underbrace{2 \\times 1}_{2!} = 3 \\times 2!$\n",
    "- $5! = 5 \\times \\underbrace{4 \\times 3 \\times 2 \\times 1}_{4!} = 5 \\times 4!$\n",
    "\n",
    "De manière générale on a donc :\n",
    "- $0! = 1$ par convention\n",
    "- $n! = n \\times (n-1)!$ si $n>0$. \\times \n",
    "\n",
    "**Question 1** : Complétez la définition suivante pour faire apparaître le cas de base et le cas récursif.\n",
    "\n",
    "$$\\text{factorielle}(n) = \\left\\{\n",
    "\\begin{array}{l}\n",
    "  \\ldots \\hspace{3cm} \\textrm{ si } n = 0 \\\\\n",
    "  \\ldots \\hspace{3cm} \\textrm{ si } n > 0\n",
    "\\end{array}\n",
    "\\right.$$"
   ]
  },
  {
   "cell_type": "markdown",
   "metadata": {},
   "source": [
    "**Question 2** : Ecrivez une version récursive de la fonction `factorielle(n)`."
   ]
  },
  {
   "cell_type": "code",
   "execution_count": null,
   "metadata": {},
   "outputs": [],
   "source": [
    "# à compléter\n"
   ]
  },
  {
   "cell_type": "markdown",
   "metadata": {},
   "source": [
    "**Question 3** : Déroulez l'exécution de `factorielle(4)` en utilisant l'une des présentations données dans le cours."
   ]
  },
  {
   "cell_type": "markdown",
   "metadata": {},
   "source": [
    "**Question 4** : Utilisez **Thonny** pour visualiser les phases de dépliage et d'évaluation. Vous vérifierez votre réponse à la question précédente."
   ]
  },
  {
   "cell_type": "markdown",
   "metadata": {},
   "source": [
    "**Question 5** : Ecrivez une version itérative de la fonction factorielle, que vous noterez `fact_iter(n)`."
   ]
  },
  {
   "cell_type": "code",
   "execution_count": null,
   "metadata": {},
   "outputs": [],
   "source": [
    "# à compléter\n"
   ]
  },
  {
   "cell_type": "markdown",
   "metadata": {},
   "source": [
    "**Question 6** : Calculez la factorielle de 3125 avec la fonction récursive. Que constatez-vous ? Comment l'expliquer ?"
   ]
  },
  {
   "cell_type": "code",
   "execution_count": null,
   "metadata": {
    "scrolled": true
   },
   "outputs": [],
   "source": [
    "# version récursive\n"
   ]
  },
  {
   "cell_type": "code",
   "execution_count": null,
   "metadata": {
    "scrolled": false
   },
   "outputs": [],
   "source": [
    "# version itérative\n"
   ]
  },
  {
   "cell_type": "markdown",
   "metadata": {},
   "source": [
    "# Activité 3 : Pair ou impair ?\n",
    "\n",
    "On se propose d'écrire une fonction récursive `est_pair(n)` qui renvoie Vrai si l'entier naturel `n` est paire et Faux sinon.\n",
    "\n",
    "**Question 1** : A partir du constat suivant, proposez le cas de base et le cas récursif de cette fonction.\n",
    "\n",
    "> L’entier 0 est pair. Un entier naturel $n$ plus grand que 1 est pair si et seulement si $n-1$ ne l'est pas."
   ]
  },
  {
   "cell_type": "markdown",
   "metadata": {},
   "source": [
    "*Réponse* :\n",
    "\n",
    "$$\\text{est_pair}(n) = \\left\\{\n",
    "\\begin{array}{l}\n",
    "  \\ldots \\hspace{3cm} \\textrm{ si } n = 0 \\\\\n",
    "  \\ldots \\hspace{3cm} \\textrm{ si } n > 0\n",
    "\\end{array}\n",
    "\\right.$$"
   ]
  },
  {
   "cell_type": "markdown",
   "metadata": {},
   "source": [
    "**Question 2** : Ecrivez alors une version récursive de cette fonction."
   ]
  },
  {
   "cell_type": "code",
   "execution_count": null,
   "metadata": {},
   "outputs": [],
   "source": [
    "# à compléter\n",
    "\n"
   ]
  },
  {
   "cell_type": "markdown",
   "metadata": {},
   "source": [
    "**Question 3** : Déroulez l'exécution de `est_pair(3)` en utilisant l'une des présentations données dans le cours."
   ]
  },
  {
   "cell_type": "markdown",
   "metadata": {},
   "source": [
    "# Activité 4 : Suite de Fibonacci\n",
    "\n",
    "La suite de Fibonnacci est une suite de nombres dont chacun est la somme des deux précédents. Le premier et le second nombres sont égaux à 1. On obtient la suite de nombres : 1 - 1 - 2 - 3 - 5 - 8 - 13 - 21 - ...\n",
    "\n",
    "Mathématiquement, cette suite notée $(F_n)$ est donc définie par :\n",
    "\n",
    "$$\\left\\{\n",
    "\\begin{array}{l}\n",
    "  F_0 = 1 \\\\\n",
    "  F_1 = 1 \\\\\n",
    "  F_{n} = F_{n-1} + F_{n-2} \\text{ pour tout entier } n \\geqslant 2\n",
    "\\end{array}\n",
    "\\right.$$\n",
    "\n",
    "**Question 1** : Ecrivez une fonction récursive `fibo(n)` qui renvoie le terme de rang $n$ de cette suite. *Attention : il y a deux cas de base*."
   ]
  },
  {
   "cell_type": "code",
   "execution_count": 1,
   "metadata": {},
   "outputs": [],
   "source": [
    "# à compléter\n"
   ]
  },
  {
   "cell_type": "markdown",
   "metadata": {},
   "source": [
    "> **Remarque** : On parle ici de récursivité multiple puisque chaque appel entraîne plusieurs appels récursifs (deux !).\n",
    "\n",
    "**Question 2** : Déroulez l'exécution de `fibo(4)` en utilisant l'une des présentations données dans le cours. *Soyez rigoureux car chaque appel récursif génère deux appels récursifs*."
   ]
  },
  {
   "cell_type": "markdown",
   "metadata": {},
   "source": [
    "# Activité 5 : Somme des éléments d'un tableau\n",
    "\n",
    "Ecrivez une fonction récursive `somme(T)` qui renvoie la somme des éléments du tableau d'entiers `T`.\n",
    "\n",
    "> **Aide** : Le cas de base est un cas particulier de tableau. Cas récursif : comment calculer la somme des éléments d'un tableau `T[0..n-1]` en fonction de la somme des éléments du tableau `T[1..n-1]` ?"
   ]
  },
  {
   "cell_type": "code",
   "execution_count": 5,
   "metadata": {},
   "outputs": [],
   "source": [
    "# à compléter :\n"
   ]
  },
  {
   "cell_type": "markdown",
   "metadata": {},
   "source": [
    "---\n",
    "\n",
    "**Références :**\n",
    "- Documents ressources de l'équipe éducative du DIU EIL, Université de Nantes, Christophe JERMANN et Christophe DECLERCQ.\n",
    "\n",
    "---\n",
    "Germain BECKER, Lycée Mounier, ANGERS\n",
    "\n",
    "Ressource éducative libre distribuée sous [Licence Creative Commons Attribution - Pas d’Utilisation Commerciale - Partage dans les Mêmes Conditions 4.0 International](http://creativecommons.org/licenses/by-nc-sa/4.0/) \n",
    "\n",
    "![Licence Creative Commons](https://i.creativecommons.org/l/by-nc-sa/4.0/88x31.png)"
   ]
  }
 ],
 "metadata": {
  "kernelspec": {
   "display_name": "Python 3",
   "language": "python",
   "name": "python3"
  },
  "language_info": {
   "codemirror_mode": {
    "name": "ipython",
    "version": 3
   },
   "file_extension": ".py",
   "mimetype": "text/x-python",
   "name": "python",
   "nbconvert_exporter": "python",
   "pygments_lexer": "ipython3",
   "version": "3.7.10"
  }
 },
 "nbformat": 4,
 "nbformat_minor": 2
}
