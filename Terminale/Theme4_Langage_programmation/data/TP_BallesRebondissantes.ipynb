{
 "cells": [
  {
   "cell_type": "markdown",
   "id": "19fa05da",
   "metadata": {},
   "source": [
    "<div style=\"text-align:center; font-size:30px; font-weight:bold;\">\n",
    "    TP : Balles rebondissantes\n",
    "</div>\n",
    "\n",
    "---\n",
    "\n",
    "_Ce TP est grandement inspiré du travail de Gilles Lassus, diffusé sous licence CC BY-SA_"
   ]
  },
  {
   "cell_type": "markdown",
   "id": "7e1b3caa",
   "metadata": {},
   "source": [
    "![](balles.png)"
   ]
  },
  {
   "cell_type": "markdown",
   "id": "d15055e6",
   "metadata": {},
   "source": [
    "# Prise en main de Pygame\n",
    "\n",
    "<img src=\"https://github.com/pygame/pygame/raw/main/docs/pygame_logo.svg\" width=\"300\">\n",
    "\n",
    "\n",
    "**Pygame** est une bibliothèque facilitant le développement de jeux vidéo en temps réel avec le langage Python :\n",
    "\n",
    "* Article Wikipédia : [https://fr.wikipedia.org/wiki/Pygame](https://fr.wikipedia.org/wiki/Pygame)\n",
    "* Site Web : [https://www.pygame.org/news](https://www.pygame.org/news)\n",
    "* Dépôt GitHub avec le code source : [https://github.com/pygame/pygame/](https://github.com/pygame/pygame/)\n",
    "\n",
    "> **Attention**, l'utilisation de Pygame au sein de Jupyter provoque des erreur. Vous utiliserez un autre IDE (comme Spyder) pour faire le TP. Vous pouvez aussi utiliser [replit.com](https://replit.com/) en choisissant le langage Pygame. **Néanmoins, vous copierez dans ce notebook le code correspondant à chaque question**."
   ]
  },
  {
   "cell_type": "markdown",
   "id": "4a81f96f",
   "metadata": {},
   "source": [
    "**Q1** : Voici le code minimal permettant de créer une fenêtre Pygame, la maintenir ouverte jusqu'au clic sur le bouton de fermeture de la fenêtre. Testez ce code."
   ]
  },
  {
   "cell_type": "code",
   "execution_count": null,
   "id": "d5b15900",
   "metadata": {},
   "outputs": [],
   "source": [
    "import pygame, sys\n",
    "import time\n",
    "\n",
    "# Initialisation de la fenêtre pygame\n",
    "\n",
    "LARGEUR = 640\n",
    "HAUTEUR = 480\n",
    "\n",
    "pygame.display.init()\n",
    "fenetre = pygame.display.set_mode((LARGEUR, HAUTEUR))  # pour définir les dimensions de la fenêtre\n",
    "fenetre.fill([0,0,0])  # pour colorier le fond avec une couleur\n",
    "\n",
    "\n",
    "# Boucle infinie pour afficher la fenêtre et son contenu\n",
    "\n",
    "continuer = True\n",
    "\n",
    "while continuer:\n",
    "    \n",
    "    # routine pour pouvoir quiter la boucle while\n",
    "    for event in pygame.event.get():\n",
    "        if event.type == pygame.QUIT:  # lorsqu'on clique sur la croix de la fenêtre       \n",
    "            continuer = False\n",
    "\n",
    "\n",
    "# Fermeture de la fenêtre (qui a donc lieu si on quitte la boucle while)\n",
    "\n",
    "pygame.display.quit()\n",
    "sys.exit()"
   ]
  },
  {
   "cell_type": "markdown",
   "id": "84dbd3a0",
   "metadata": {},
   "source": [
    "> **Attention**, dans Pygame, l'axe des ordonnées est orienté vers le bas. De ce fait, le pixel en haut à gauche a pour coordonnées (0, 0).\n",
    "\n",
    "![](https://miro.medium.com/max/225/1*c22fLCg26_D-Q4ns5AGdNQ.png)\n",
    "\n",
    "## Ajout d'une balle\n",
    "\n",
    "On va maintenant ajouter une balle dans notre fenêtre !\n",
    "\n",
    "**Q2** : Analysez et testez ce code. Modifiez-le de façon à créer une balle de rayon 20 (pixels) qui sera positionnée au centre de la fenêtre Pygame."
   ]
  },
  {
   "cell_type": "code",
   "execution_count": null,
   "id": "ce9bced7",
   "metadata": {},
   "outputs": [],
   "source": [
    "import pygame, sys\n",
    "import time\n",
    "\n",
    "# Initialisation de la fenêtre pygame\n",
    "\n",
    "LARGEUR = 640\n",
    "HAUTEUR = 480\n",
    "\n",
    "pygame.display.init()\n",
    "fenetre = pygame.display.set_mode((LARGEUR, HAUTEUR))\n",
    "fenetre.fill([0,0,0])\n",
    "\n",
    "\n",
    "# Création d'une balle\n",
    "\n",
    "rayon = 10  # son rayon\n",
    "x = 100  # abscisse du centre\n",
    "y = 50  # ordonnée du centre\n",
    "couleur = (45,170,250)  # couleur\n",
    "\n",
    "\n",
    "# Boucle infinie pour afficher la fenêtre et son contenu\n",
    "\n",
    "continuer = True\n",
    "\n",
    "while continuer :\n",
    "    \n",
    "    # construction de la balle dans la fenetre\n",
    "    pygame.draw.circle(fenetre,couleur,(x,y),rayon)\n",
    "\n",
    "    # mise à jour de la fenêtre\n",
    "    pygame.display.update()\n",
    "    \n",
    "    # routine pour pouvoir quiter la boucle while\n",
    "    for event in pygame.event.get():\n",
    "        if event.type == pygame.QUIT:     \n",
    "            continuer = False\n",
    "\n",
    "\n",
    "# Fermeture de la fenêtre (qui a donc lieu si on quitte la boucle while)\n",
    "\n",
    "pygame.display.quit()\n",
    "sys.exit()"
   ]
  },
  {
   "cell_type": "code",
   "execution_count": null,
   "id": "7f338161",
   "metadata": {},
   "outputs": [],
   "source": [
    "# copiez votre code ici\n"
   ]
  },
  {
   "cell_type": "markdown",
   "id": "fb3a6b10",
   "metadata": {},
   "source": [
    "## Faire bouger la balle\n",
    "\n",
    "C'est assez simple de faire bouger la balle dans la fenêtre à chaque tour de boucle `while`. \n",
    "\n",
    "Pour cela :\n",
    "\n",
    "* on va dessiner une nouvelle balle à chaque tour de boucle\n",
    "* cette nouvelle balle sera \"décalée\" par rapport à la position précédente : on utilise les variables `dx` et `dy` pour définir les valeurs de déplacement\n",
    "* il ne faut pas oublier de recolorer le fond au début de chaque tour de boucle, pour que les balles aux instants précédents n'aparaissent plus dans la fenêtre\n",
    "* on définit un temps de pause à la fin de chaque tour de boucle pour que le déplacement ne soit pas trop rapide\n",
    "\n",
    "**Q3** : Analysez le code suivant et déterminez les coordonnées du centre de la balle à l'issue du 3ème tour de boucle (papier-crayon !). Expliquez ! Testez le code pour bien comprendre le rôle des variables `dx` et `dy` que l'on appelera les *variables de vitesse* dans la suite."
   ]
  },
  {
   "cell_type": "code",
   "execution_count": null,
   "id": "eb8f02aa",
   "metadata": {},
   "outputs": [],
   "source": [
    "import pygame, sys\n",
    "import time\n",
    "\n",
    "# Initialisation de la fenêtre pygame\n",
    "\n",
    "LARGEUR = 640\n",
    "HAUTEUR = 480\n",
    "\n",
    "pygame.display.init()\n",
    "fenetre = pygame.display.set_mode((LARGEUR, HAUTEUR))\n",
    "fenetre.fill([0, 0, 0])\n",
    "\n",
    "\n",
    "# Création d'une balle\n",
    "\n",
    "rayon = 20\n",
    "x = LARGEUR // 2\n",
    "y = HAUTEUR // 2\n",
    "couleur = (45, 170, 250)\n",
    "dx = 4  # vitesse en abscisse\n",
    "dy = -3  # vitesse en ordonnée\n",
    "\n",
    "\n",
    "# Boucle infinie pour afficher la fenêtre et son contenu\n",
    "\n",
    "continuer = True\n",
    "\n",
    "while continuer :\n",
    "    # couleur du fond réinitialisée\n",
    "    fenetre.fill([0, 0, 0])\n",
    "    \n",
    "    # construction de la balle dans la fenetre\n",
    "    pygame.draw.circle(fenetre,couleur,(x,y),rayon)\n",
    "    \n",
    "    # déplacement de la balle\n",
    "    x = x + dx\n",
    "    y = y + dy\n",
    "    \n",
    "    # mise à jour de la fenêtre\n",
    "    pygame.display.update()\n",
    "    \n",
    "    # routine pour pouvoir quiter la boucle while\n",
    "    for event in pygame.event.get():\n",
    "        if event.type == pygame.QUIT:     \n",
    "            continuer = False\n",
    "\n",
    "    # temps de pause à ajuster\n",
    "    time.sleep(0.1)\n",
    "\n",
    "\n",
    "\n",
    "# Fermeture de la fenêtre (qui a donc lieu si on quitte la boucle while)\n",
    "\n",
    "pygame.display.quit()\n",
    "sys.exit()"
   ]
  },
  {
   "cell_type": "code",
   "execution_count": null,
   "id": "c6cbc8d2",
   "metadata": {},
   "outputs": [],
   "source": [
    "# copiez votre code ici\n"
   ]
  },
  {
   "cell_type": "markdown",
   "id": "002ca32f",
   "metadata": {},
   "source": [
    "## Ajout d'un rebond sur les parois\n",
    "\n",
    "**Q4** : Modifiez le code précédent pour que la balle rebondisse sur chaque paroi. _Pour cela, il faut modifier intelligemment les variables de vitesse `dx` et `dy`._"
   ]
  },
  {
   "cell_type": "code",
   "execution_count": null,
   "id": "485f8c28",
   "metadata": {},
   "outputs": [],
   "source": [
    "# copiez votre code\n"
   ]
  },
  {
   "cell_type": "markdown",
   "id": "72931ef7",
   "metadata": {},
   "source": [
    "## Ajout d'une deuxième balle\n",
    "\n",
    "**Q5** : Ajoutez une deuxième balle (qui devra également rebondir sur chaque paroi)."
   ]
  },
  {
   "cell_type": "code",
   "execution_count": null,
   "id": "c0c13342",
   "metadata": {},
   "outputs": [],
   "source": [
    "# copiez votre code ici\n"
   ]
  },
  {
   "cell_type": "markdown",
   "id": "453bf81f",
   "metadata": {},
   "source": [
    "## Gestion de la collision entre les deux balles\n",
    "\n",
    "**Q6** : On veut désormais gérer les collisions entre les deux balles\n",
    "\n",
    "1. À l'aide d'un schéma (papier-crayon !), mettez en évidence le test devant être réalisé pour détecter une collision.\n",
    "2. Implémentez ce test et affichez la chaîne `\"collision\"` en console lorsque les deux balles se touchent.\n",
    "3. Pour l'illusion du rebond, échangez les valeurs respectives de ```dx``` et ```dy``` pour les deux balles."
   ]
  },
  {
   "cell_type": "code",
   "execution_count": null,
   "id": "a00a5f9e",
   "metadata": {},
   "outputs": [],
   "source": [
    "# copiez votre code ici\n"
   ]
  },
  {
   "cell_type": "markdown",
   "id": "8d7fd38b",
   "metadata": {},
   "source": [
    "## Ajout d'une troisième balle et gestion du rebond avec les deux autres\n",
    "\n",
    "<span style=\"font-size:20px\">😈</span> À vous jouer ! Et vous irez jusqu'à 100 balles ! ... non c'est une blague <span style=\"font-size:20px\">😉</span> car cela devient vraiment long de procéder ainsi. \n",
    "\n",
    "En revanche, la POO va nous venir en aide pour générer 100 balles sans aucun problème !"
   ]
  },
  {
   "cell_type": "markdown",
   "id": "5ce96308",
   "metadata": {},
   "source": [
    "# La POO à la rescousse\n",
    "\n",
    "## Création d'une classe `Balle`\n",
    "\n",
    "**Q7** : Créez une classe `Balle` qui initialisera chaque balle avec des valeurs aléatoires pour l'abscisse, l'ordonnée, les vitesses, la couleur. On souhaite que toutes les balles aient le même rayon. De plus, cette classe devra posséder deux méthodes `dessiner` et `bouger` qui permettent respectivement de dessiner la balle et de la faire bouger dans la fenêtre."
   ]
  },
  {
   "cell_type": "code",
   "execution_count": null,
   "id": "e8082f86",
   "metadata": {},
   "outputs": [],
   "source": [
    "# copiez votre code ici\n"
   ]
  },
  {
   "cell_type": "markdown",
   "id": "382be910",
   "metadata": {},
   "source": [
    "**Q8** : Modifiez le code de la question 4 pour faire rebondir **une** balle dans la fenêtre, la balle étant une instance de la classe `Balle` créée à la question précédente."
   ]
  },
  {
   "cell_type": "code",
   "execution_count": null,
   "id": "78e8fee4",
   "metadata": {},
   "outputs": [],
   "source": [
    "# copiez votre code ici\n"
   ]
  },
  {
   "cell_type": "markdown",
   "id": "50568f34",
   "metadata": {},
   "source": [
    "## Création de plusieurs balles\n",
    "\n",
    "**Q8** : Créez une liste `mon_sac_de_balles` contenant 10 objets de la classe `Balle`."
   ]
  },
  {
   "cell_type": "code",
   "execution_count": null,
   "id": "5aad739d",
   "metadata": {},
   "outputs": [],
   "source": [
    "# copiez votre code ici\n"
   ]
  },
  {
   "cell_type": "markdown",
   "id": "6ba386b2",
   "metadata": {},
   "source": [
    "**Q9** : Modifiez le code de la question 8 pour afficher et animer toutes les balles de la liste `mon_sac_de_balles`."
   ]
  },
  {
   "cell_type": "code",
   "execution_count": null,
   "id": "6483d0e8",
   "metadata": {},
   "outputs": [],
   "source": [
    "# copiez votre code ici\n"
   ]
  },
  {
   "cell_type": "markdown",
   "id": "bd4ec8ab",
   "metadata": {},
   "source": [
    "**Q10** : Si ce n'est pas déjà fait, modifiez/complétez la méthode `bouger` afin qu'elle gère les collisions d'une balle (`self`) avec toutes les autres."
   ]
  },
  {
   "cell_type": "code",
   "execution_count": null,
   "id": "bedfbea5",
   "metadata": {},
   "outputs": [],
   "source": [
    "# copiez votre code ici\n"
   ]
  },
  {
   "cell_type": "markdown",
   "id": "3f8e6a53",
   "metadata": {},
   "source": [
    "> **Amélioration** : Au lieu de créer une _liste_ `mon_sac_de_balles`, créez une _classe_ `SacDeBalles` dont la méthode `__init__(self, nb_balles)` définit un attribut `contenu` qui est une liste de `nb_balles` balles.\n",
    ">\n",
    ">*Exemple* : L'instruction `mon_sac_de_balles = SacDeBalles(20)` doit créer un sac contenant 20 balles.\n",
    ">\n",
    "> Adaptez le reste du code en conséquence."
   ]
  },
  {
   "cell_type": "markdown",
   "id": "d41a8a05",
   "metadata": {},
   "source": [
    "# Mini-projet\n",
    "\n",
    "Utilisez ce qui vient d'être fait pour créer votre propre jeu. Vous utiliserez dans la mesure du possible la POO.\n",
    "\n",
    "_Idées_ : \n",
    "\n",
    "- on garde le principe des balles, on crée un personnage que l'on peut déplacer (avec le clavier) dans la fenêtre en évitant les balles, on peut imaginer plusieurs degrés de difficultés\n",
    "- on peut créer d'autres sortes de jeu d'évitement d'obstacles\n",
    "- on peut créer des jeux de type \"pong\", \"casse-brique\", etc.\n",
    "- et plein d'autres choses\n",
    "\n",
    "Voici une vidéo expliquant la gestion d'événements avec Pygame : [https://www.youtube.com/watch?v=Vic8v4MtBNM&ab_channel=FormationVid%C3%A9o](https://www.youtube.com/watch?v=Vic8v4MtBNM&ab_channel=FormationVid%C3%A9o)\n",
    "\n",
    "> **Attention**, on n'attend pas quelque chose de forcément beau, ni achevé pour ce **mini**-projet."
   ]
  },
  {
   "cell_type": "markdown",
   "id": "a0976829",
   "metadata": {},
   "source": [
    "---\n",
    "Germain BECKER, Lycée Mounier, ANGERS\n",
    "\n",
    "Ressource éducative libre distribuée sous [Licence Creative Commons Attribution - Partage dans les Mêmes Conditions 4.0 International](https://creativecommons.org/licenses/by-sa/4.0/) \n",
    "\n",
    "![Licence Creative Commons](https://i.creativecommons.org/l/by-sa/4.0/88x31.png)"
   ]
  }
 ],
 "metadata": {
  "kernelspec": {
   "display_name": "Python 3",
   "language": "python",
   "name": "python3"
  },
  "language_info": {
   "codemirror_mode": {
    "name": "ipython",
    "version": 3
   },
   "file_extension": ".py",
   "mimetype": "text/x-python",
   "name": "python",
   "nbconvert_exporter": "python",
   "pygments_lexer": "ipython3",
   "version": "3.7.10"
  }
 },
 "nbformat": 4,
 "nbformat_minor": 5
}
