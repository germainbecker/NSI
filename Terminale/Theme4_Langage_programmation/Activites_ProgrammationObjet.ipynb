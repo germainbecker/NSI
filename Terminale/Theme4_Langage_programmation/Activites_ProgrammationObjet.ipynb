{
 "cells": [
  {
   "cell_type": "markdown",
   "metadata": {},
   "source": [
    "Activités - Programmation objet\n",
    "==="
   ]
  },
  {
   "cell_type": "markdown",
   "metadata": {},
   "source": [
    "# Exercice 1\n",
    "\n",
    "**Question 1** :\n",
    "\n",
    "1. Écrire une classe `Eleve` dont les objets possèdent les attributs `prenom`, `classe`, `age`.\n",
    "2. Instancier trois élèves de cette classe.\n",
    "3. Ajouter à cette classe une méthode `est_majeur` qui renvoie `True` si l'élève est majeur et `False` sinon. Testez si tout fonctionne !\n"
   ]
  },
  {
   "cell_type": "code",
   "execution_count": null,
   "metadata": {},
   "outputs": [],
   "source": [
    "# à vous de jouer !"
   ]
  },
  {
   "cell_type": "markdown",
   "metadata": {},
   "source": [
    "**Question 2** : Écrire une fonction `compare(eleve1: Eleve, eleve2: Eleve) -> str:` qui renvoie le nom de l'élève le plus âgé."
   ]
  },
  {
   "cell_type": "code",
   "execution_count": null,
   "metadata": {},
   "outputs": [],
   "source": [
    "# à vous de jouer !"
   ]
  },
  {
   "cell_type": "markdown",
   "metadata": {},
   "source": [
    "**Question 3** : Écrire une fonction `eleves_de_la_classe(classe: str, liste_eleves: list) -> list:` qui renvoie une liste avec le nom de tous les élèves de `liste_eleves` qui sont dans la classe `classe`.\n",
    "\n",
    "*Vous testerez en créant quelques élèves supplémentaires*."
   ]
  },
  {
   "cell_type": "code",
   "execution_count": null,
   "metadata": {},
   "outputs": [],
   "source": [
    "# à vous de jouer !"
   ]
  },
  {
   "cell_type": "markdown",
   "metadata": {},
   "source": [
    "# Exercice 2 : La classe `Point`\n",
    "\n",
    "On souhaite créer une classe `Point` permettant de construire des objets de type `Point` définis par une abscisse et une ordonnée.\n",
    "\n",
    "## Création de la classe\n",
    "\n",
    "**Question 1** : Créez une telle classe en Python et définissez la méthode spéciale `__init__` pour déclarer les attributs `x` (abscisse) et `y` (ordonnée) d'un objet `Point`."
   ]
  },
  {
   "cell_type": "code",
   "execution_count": null,
   "metadata": {},
   "outputs": [],
   "source": [
    "# à vous de jouer !"
   ]
  },
  {
   "cell_type": "markdown",
   "metadata": {},
   "source": [
    "**Question 2** : Créez deux instances `p1` et `p2` de cette classe ayant pour coordonnées respectives (2; 3) et (-1; 4). "
   ]
  },
  {
   "cell_type": "code",
   "execution_count": null,
   "metadata": {},
   "outputs": [],
   "source": [
    "# à vous de jouer !"
   ]
  },
  {
   "cell_type": "markdown",
   "metadata": {},
   "source": [
    "**Question 3** : Quelles instructions permettent d'accéder aux attributs de l'objet `p1` ?"
   ]
  },
  {
   "cell_type": "code",
   "execution_count": null,
   "metadata": {},
   "outputs": [],
   "source": [
    "# à vous de jouer !"
   ]
  },
  {
   "cell_type": "markdown",
   "metadata": {},
   "source": [
    "**Question 4** : Le point `p1` a changé de coordonnées qui sont maintenant (3, 4). Modifiez les attributs du point `p1`, en utilsant la notation pointée, afin qu'elles correspondent à ce changement. "
   ]
  },
  {
   "cell_type": "code",
   "execution_count": null,
   "metadata": {},
   "outputs": [],
   "source": [
    "# à vous de jouer !"
   ]
  },
  {
   "cell_type": "markdown",
   "metadata": {},
   "source": [
    "On souhaite également pouvoir translater un point et vérifier si deux points sont égaux. Il est donc nécessaire d'ajouter des méthodes à notre classe.\n",
    "\n",
    "**Question 5** : Compléter les méthodes `translater` et `egal` dans la classe `Point`."
   ]
  },
  {
   "cell_type": "code",
   "execution_count": null,
   "metadata": {},
   "outputs": [],
   "source": [
    "class Point:\n",
    "    \"\"\"Manipulation de points\"\"\"\n",
    "    \n",
    "    def __init__(self, abscisse, ordonnee):\n",
    "        self.x = abscisse\n",
    "        self.y = ordonnee\n",
    "    \n",
    "    # à compléter\n",
    "    "
   ]
  },
  {
   "cell_type": "markdown",
   "metadata": {},
   "source": [
    "**Question 6** : Vérifiez que l'implémentation est correcte sur des exemples."
   ]
  },
  {
   "cell_type": "code",
   "execution_count": null,
   "metadata": {},
   "outputs": [],
   "source": [
    "# à vous de jouer !"
   ]
  },
  {
   "cell_type": "markdown",
   "metadata": {},
   "source": [
    "## Améliorations\n",
    "\n",
    "### Une représentation d'un point en chaîne de caractères\n",
    "\n",
    "On souhaiterait obtenir une représentation \"officielle\" de notre objet de type `Point` sous la forme d'une chaîne de caractères _évaluable_ de la forme `Point(x, y)`. On rappelle qu'il faut redéfinir la méthode `__repr__(self)` puisque c'est elle qui est appelée dans ce cas.\n",
    "\n",
    "**Question 7** : Définissez la méthode `__repr__(self)` afin d'obtenir la représentation demandée de nos points. Vous testerez ensuite si l'affichage est correct.\n",
    "\n",
    "*Exemple* :\n",
    "\n",
    "```python\n",
    ">>> p3 = Point(2, 3)\n",
    ">>> p3.translater(1, -1)\n",
    ">>> p3  # l'évaluation de p3 appelle la méthode __repr__\n",
    "Point(3, 2)\n",
    "```"
   ]
  },
  {
   "cell_type": "code",
   "execution_count": null,
   "metadata": {},
   "outputs": [],
   "source": [
    "class Point:\n",
    "    \"\"\"Manipulation de points\"\"\"\n",
    "    \n",
    "    def __init__(self, abscisse, ordonnee):\n",
    "        self.x = abscisse\n",
    "        self.y = ordonnee\n",
    "    \n",
    "    def translater(self, dx, dy):\n",
    "        self.x = self.x + dx\n",
    "        self.y = self.y + dy\n",
    "    \n",
    "    def egal(self, other):\n",
    "        return self.x == other.x and self.y == other.y\n",
    "    \n",
    "    # à compléter    \n",
    "    "
   ]
  },
  {
   "cell_type": "markdown",
   "metadata": {},
   "source": [
    "> **Remarque** : comme la méthode spéciale `__str__` n'est pas définie, la fonction `print` appelle également la méthode `__repr__`. Vous pouvez essayer !"
   ]
  },
  {
   "cell_type": "markdown",
   "metadata": {},
   "source": [
    "### Un test d'égalité avec `==`\n",
    "\n",
    "On rappelle que si on veut tester l'égalité entre deux objets d'une classe avec la notation habituelle (`objet1 == objet2`) il est nécessaire de définir la méthode spéciale `__eq__` de la classe car c'est elle qui est appelée dans ce cas.\n",
    "\n",
    "**Question 8** : Compléter l'implémentation de la classe par la méthode `__eq__`. Vous testerez ensuite si votre implémentation est correcte."
   ]
  },
  {
   "cell_type": "code",
   "execution_count": null,
   "metadata": {},
   "outputs": [],
   "source": [
    "# à vous de jouer !\n",
    "    "
   ]
  },
  {
   "cell_type": "markdown",
   "metadata": {},
   "source": [
    "### Accès en lecture/écriture aux attributs\n",
    "\n",
    "Ce n'est pas le cas en Python, mais dans beaucoup d'autres langages les attributs d'un objet sont privés, c'est-à-dire qu'il n'est pas possible d'y accéder ou de les modifier sans faire appel à des méthodes (publique) de la classe.\n",
    "\n",
    "Ainsi, dans d'autres langages, on ne pourrait plus écrire `p.x` pour accéder à la valeur de l'abscisse du point `p` ou écrire `p.x = 5` pour la modifier car l'attribut `x` n'est pas accessible directement.\n",
    "\n",
    "Pour accéder et modifier les valeurs des attributs on utilise alors des méthodes appelées :\n",
    "\n",
    "- des *accesseurs* (ou *getters*) qui fournissent des informations relatives à l’état d’un objet, c’est-à-dire aux valeurs de certains de ses attributs (généralement privés) sans les modifier ;\n",
    "- des *mutateurs* (ou *setters*) qui modifient l’état d’un objet, donc les valeurs de certains de ses attributs.\n",
    "\n",
    "Par exemple, pour accéder à l'attribut `x` (abscisse) d'un point il suffirait d'ajouter la méthode \n",
    "\n",
    "```python\n",
    "def lire_abscisse(self):\n",
    "    return self.x\n",
    "```"
   ]
  },
  {
   "cell_type": "markdown",
   "metadata": {},
   "source": [
    "**Question 9** : Implémentez les méthodes `lire_abscisse`, `lire_ordonnee`, `modifier_abscisse` et `modifier_ordonnee` de la classe `Point` pour lire et modifier les attributs d'un objet. Vérifiez ensuite sur des exemples."
   ]
  },
  {
   "cell_type": "code",
   "execution_count": null,
   "metadata": {},
   "outputs": [],
   "source": [
    "class Point:\n",
    "    \"\"\"Manipulation de points\"\"\"\n",
    "    \n",
    "    def __init__(self, abscisse, ordonnee):\n",
    "        self.x = abscisse\n",
    "        self.y = ordonnee\n",
    "    \n",
    "    def translater(self, dx, dy):\n",
    "        self.x = self.x + dx\n",
    "        self.y = self.y + dy\n",
    "    \n",
    "    def egal(self, other):\n",
    "        return self.x == other.x and self.y == other.y\n",
    "    \n",
    "    def __repr__(self):\n",
    "        return \"Point(\" + str(self.x) + \", \" + str(self.y) + \")\"\n",
    "    \n",
    "    __eq__ = egal  # pour aller plus vite, sinon, on remplace la méthode egal ci-dessus par __eq__\n",
    "    \n",
    "    # méthodes à compléter\n",
    "    "
   ]
  },
  {
   "cell_type": "markdown",
   "metadata": {},
   "source": [
    "# Exercice 3 : Une classe `Temps`\n",
    "\n",
    "On souhaite créer une classe `Temps` définissant des objets de type `Temps` définis par des heures, minutes, secondes. On souhaite également pouvoir :\n",
    "\n",
    "- obtenir une représentation officielle d'un temps sous la forme du chaîne de caractères évaluable de la forme `Temps(h, m, s)` (c'est la méthode `__repr__` qu'il faut définir correctement)\n",
    "- obtenir un affichage d'un temps sous la forme d'une chaîne de caractères de la forme `h:m:s` lorsque l'on utilise la fonction `print()` (c'est la méthode `__str__` qu'il faut définir correctement)\n",
    "- ajouter deux temps \n",
    "\n",
    "## Implémentation de la classe\n",
    "\n",
    "**Question 1** : Implémentez cette classe. Vous vérifierez ensuite si votre implémentation est correcte. "
   ]
  },
  {
   "cell_type": "code",
   "execution_count": null,
   "metadata": {},
   "outputs": [],
   "source": [
    "# à vous de jouer !"
   ]
  },
  {
   "cell_type": "markdown",
   "metadata": {},
   "source": [
    "## Amélioration\n",
    "\n",
    "On aimerait pouvoir ajouter deux instances `t1` et `t2` de notre classe `Temps` en utilisant le symbole usuel `+`.\n",
    "\n",
    "Concrètement, on veut pouvoir ajouter deux temps en écrivant \n",
    "\n",
    "```python\n",
    "t1 + t2\n",
    "```\n",
    "\n",
    "au lieu de \n",
    "\n",
    "```python\n",
    "t1.ajouter(t2)\n",
    "```\n",
    "\n",
    "**Question 2** : Lorsque l'on écrit `t1 + t2`, c'est la méthode spéciale `__add__` qui est invoquée. Définissez cette méthode dans la classe `Temps` et vérifiez si votre implémentation est correcte."
   ]
  },
  {
   "cell_type": "code",
   "execution_count": null,
   "metadata": {},
   "outputs": [],
   "source": [
    "# à vous de jouer !"
   ]
  },
  {
   "cell_type": "markdown",
   "metadata": {},
   "source": [
    "# Exercice 4\n",
    "\n",
    "Écrire une classe `Player` qui :\n",
    "\n",
    "- ne prendra aucun argument lors de son instanciation.\n",
    "- affectera à chaque objet créé un attribut `energie` valant 3 par défaut.\n",
    "- affectera à chaque objet créé un attribut `en_vie` valant True par défaut.\n",
    "- fournira à chaque objet une méthode `blessure()` qui diminue l'attribut `energie` de 1.\n",
    "- fournira à chaque objet une méthode `soin()` qui augmente l'attribut `energie` de 1.\n",
    "- si l'attribut `energie` passe à 0, l'attribut `en_vie` doit passer à `False` et ne doit plus pouvoir évoluer.\n",
    "\n",
    "*Exemple d'utilisation de la classe* :\n",
    "\n",
    "```python\n",
    ">>> mario = Player()\n",
    ">>> mario.energie\n",
    "3\n",
    ">>> mario.soin()\n",
    ">>> mario.energie\n",
    "4\n",
    ">>> mario.blessure()\n",
    ">>> mario.blessure()\n",
    ">>> mario.blessure()\n",
    ">>> mario.alive\n",
    "True\n",
    ">>> mario.blessure()\n",
    ">>> mario.alive\n",
    "False\n",
    ">>> mario.soin()\n",
    ">>> mario.alive\n",
    "False\n",
    ">>> mario.energie\n",
    "0\n",
    "```"
   ]
  },
  {
   "cell_type": "code",
   "execution_count": null,
   "metadata": {},
   "outputs": [],
   "source": [
    "# à vous de jouer !"
   ]
  },
  {
   "cell_type": "markdown",
   "metadata": {},
   "source": [
    "# Exercice 5 : Une classe `Liste`\n",
    "\n",
    "## Interface et implémentation\n",
    "\n",
    "L'objectif ici est de créer une classe `Liste` définissant des objets de type `Liste` à l'aide des 5 opérations primitives de cette structure de données.\n",
    "\n",
    "Dans toute la suite on désignera par *liste*, des objets de la classe `Liste` dont voici l'interface :\n",
    "\n",
    "- **`Liste()`** permet de créer une liste vide\n",
    "- `Liste`**`.ajouter_en_tete(e)`** ajoute l'élément `e` en tête d'une liste\n",
    "- `Liste`**`.premier()`** renvoie le premier élément d'une liste (sa tête)\n",
    "- `Liste`**`.reste()`** renvoie le reste d'une liste (sa queue)\n",
    "- `Liste`**`.est_vide()`** renvoie Vrai si la liste est vide et Faux sinon\n",
    "\n",
    "**Question 1** : Quelle suite d'instructions faut-il écrire pour créer une liste vide `L`, lui ajouter en tête successivement les valeurs 3, 1, 2 et enfin accéder à son premier élément et à son reste ?"
   ]
  },
  {
   "cell_type": "raw",
   "metadata": {},
   "source": [
    "Réponse :"
   ]
  },
  {
   "cell_type": "markdown",
   "metadata": {},
   "source": [
    "**Question 2** : Implémentez la classe `Liste` correspondante en utilisant le type prédéfini `list` de Python. *La méthode `__init__` créera une liste vide.*"
   ]
  },
  {
   "cell_type": "code",
   "execution_count": null,
   "metadata": {},
   "outputs": [],
   "source": [
    "# à vous de jouer !"
   ]
  },
  {
   "cell_type": "markdown",
   "metadata": {},
   "source": [
    "**Question 3** : Vérifiez que l'implémentation est correcte en testant par exemple votre réponse à la première question."
   ]
  },
  {
   "cell_type": "code",
   "execution_count": null,
   "metadata": {},
   "outputs": [],
   "source": [
    "# à vous de jouer !"
   ]
  },
  {
   "cell_type": "markdown",
   "metadata": {},
   "source": [
    "## Améliorations\n",
    "\n",
    "### Une représentation sous forme d'une chaîne de caractères\n",
    "\n",
    "On souhaite représenter nos objets de type `Liste` sous la forme d'une chaîne de caractères formée des éléments de la liste séparés par des virgules. Par exemple, la liste contenant les éléments 2, 1, 3 doit pouvoir être représentée par la chaîne `2, 1, 3`.\n",
    "\n",
    "**Question 4** : Définissez la méthode spéciale `__repr__` de la classe `Liste` pour obtenir cette représentation. "
   ]
  },
  {
   "cell_type": "code",
   "execution_count": null,
   "metadata": {},
   "outputs": [],
   "source": [
    "# à vous de jouer !"
   ]
  },
  {
   "cell_type": "markdown",
   "metadata": {},
   "source": [
    "### Concaténation\n",
    "\n",
    "On souhaite pouvoir concaténer deux instances de la classe `Liste`. Pour cela, on pourrait définir une nouvelle méthode `concatene` mais l'idée ici est de pouvoir concaténer deux listes en utilisant l'opérateur `+` usuel. Pour cela, il faut définir la méthode spéciale `__add__` de la classe `Liste` puisque c'est elle qui est appelée lorsque l'opérateur `+` est utilisé.\n",
    "\n",
    "**Question 5** : Implémentez cette méthode spéciale puis vérifiez que l'implémentation est correcte. **Attention** : cette méthode doit renvoyer un nouvel objet de type `Liste` (et pas un objet du type prédéfini `list` de Python !)."
   ]
  },
  {
   "cell_type": "code",
   "execution_count": null,
   "metadata": {},
   "outputs": [],
   "source": [
    "# à vous de jouer !"
   ]
  },
  {
   "cell_type": "markdown",
   "metadata": {},
   "source": [
    "---\n",
    "\n",
    "**Références :**\n",
    "- Documents ressources de l'équipe éducative du DIU EIL, Université de Nantes, Christophe DECLERCQ & Christophe JERMANN.\n",
    "- Documentation officielle de Python sur [les méthodes spéciales](https://docs.python.org/3/reference/datamodel.html#special-method-names).\n",
    "- Exercices 1 et 3 : exercices proposés par de Gilles Lassus : [ici](https://glassus.github.io/terminale_nsi/T2_Programmation/2.1_Programmation_Orientee_Objet/z_Exercices/)\n",
    "\n",
    "---\n",
    "Germain BECKER, Lycée Mounier, ANGERS\n",
    "\n",
    "Ressource éducative libre distribuée sous [Licence Creative Commons Attribution - Pas d’Utilisation Commerciale - Partage dans les Mêmes Conditions 4.0 International](http://creativecommons.org/licenses/by-nc-sa/4.0/) \n",
    "\n",
    "![Licence Creative Commons](https://i.creativecommons.org/l/by-nc-sa/4.0/88x31.png)"
   ]
  }
 ],
 "metadata": {
  "kernelspec": {
   "display_name": "Python 3",
   "language": "python",
   "name": "python3"
  },
  "language_info": {
   "codemirror_mode": {
    "name": "ipython",
    "version": 3
   },
   "file_extension": ".py",
   "mimetype": "text/x-python",
   "name": "python",
   "nbconvert_exporter": "python",
   "pygments_lexer": "ipython3",
   "version": "3.7.10"
  }
 },
 "nbformat": 4,
 "nbformat_minor": 2
}
