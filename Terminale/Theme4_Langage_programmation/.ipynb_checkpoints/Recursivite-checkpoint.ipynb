{
 "cells": [
  {
   "cell_type": "markdown",
   "metadata": {},
   "source": [
    "<img class=\"centre image-responsive\" src=\"data/album_pink_floyd.jpg\" alt=\"pochette album\">\n",
    "\n",
    "Commençons par quelques définitions trouvées sur Wikipédia :\n",
    "\n",
    "- **Récursivité** : démarche qui fait référence à l'objet même de la démarche à un moment du processus.\n",
    "- **Récursivité** (programmation informatique) : Fait pour un objet de s'appeler lui-même.\n",
    "- Un objet est dit **récursif** s'il se définit à partir de lui-même, *s'il apparait dans sa définition*.\n",
    "- Une construction est **récursive** si elle se définit à partir d’elle-même.\n",
    "\n",
    "Ainsi, les exemples suivants sont des cas concrets de récursivité :\n",
    "\n",
    "- décrire un processus dépendant de données en faisant appel à ce même processus sur d'autres données plus &laquo; simples &raquo; ;\n",
    "- montrer une image contenant des images similaires (comme la pochette de l'album *Ummagumma* de Pink Floyd ci-dessus) ;\n",
    "- faire pointer un article de Wikipédia vers lui-même ou vers un article qui, par une succession de pointeurs, pointe vers l'article dont on est parti."
   ]
  },
  {
   "cell_type": "markdown",
   "metadata": {},
   "source": [
    "# Retour sur les listes\n",
    "\n",
    "## Des constructions *récursives*\n",
    "\n",
    "Une des opérations primitives du type abstrait `Liste` est le constructeur `construit(e, L)` qui crée une liste dont la tête est l'élément `e` et la queue est la liste `L`. Pour construire la liste formée par les nombres 5, 3, 8 et 1 il fallait procéder ainsi :\n",
    "\n",
    "```python\n",
    "construit(5, construit(3, construit(8, construit(1, listevide()))))\n",
    "```\n",
    "\n",
    "Ceci est une construction *récursive* car l'opérateur `construit` s'appelle lui-même à plusieurs reprises. Dans le cas de notre implémentation avec des couples, cette construction mémorisait notre liste dans le `tuple` suivant :\n",
    "\n",
    "```python\n",
    "(5, (3, (8, (1, None))))\n",
    "```\n"
   ]
  },
  {
   "cell_type": "markdown",
   "metadata": {},
   "source": [
    "## Une première fonction récursive\n",
    "\n",
    "Nous avions également défini l'opération `dernier(L)` qui doit renvoyer le dernier élément d'une liste `L`. Cette opération était implémentée par la fonction suivante :\n",
    "\n",
    "```python\n",
    "def dernier(L):\n",
    "    while reste(L) != listevide(): # tant que le reste de la liste n'est pas vide\n",
    "        L = reste(L) # on passe au reste\n",
    "    return premier(L) # on renvoie le premier élément de la dernière paire\n",
    "```\n",
    "\n",
    "Il s'agit d'une fonction écrite de manière *itérative* car elle ne s'appelle pas elle-même. On se propose d'écrire une version *récursive* de cette fonction. Il faut commencer par réfléchir un peu...\n",
    "\n",
    "> Comment obtenir le dernier élément d'une liste ?\n",
    "\n",
    "C'est assez simple en fait :\n",
    "\n",
    "- si le reste est la liste vide, on a trouvé le dernier élément\n",
    "- sinon, le dernier élément de `L` est égal au dernier élément du reste de `L` : `dernier(L) = dernier(reste(L))`. En effet, si `L` est la liste de nombres 5, 2, 8, 1 alors :\n",
    "    - `dernier(L)` vaut 1\n",
    "    - `reste(L)` est la liste de nombres 2, 8, 1 qui a aussi pour dernier élément 1 donc `dernier(reste(L))` vaut aussi 1.\n",
    "\n",
    "On vient de voir que pour trouver le dernier élément d'une liste il suffit de calculer le dernier élément du reste de la liste, et répéter ce processus jusqu'à ce que le reste soit vide. \n",
    "\n",
    "On ramène ainsi le calcul du dernier élément d'une liste au calcul du dernier élément d'une liste plus petite (`reste(L)`) jusqu'à ce que cela devienne impossible.\n",
    "\n",
    "**Illustration sur un exemple** : pour calculer le dernier élément de la liste 5, 3, 8, 1 :\n",
    "\n",
    "- on veut trouver `dernier(5, 3, 8, 1)`\n",
    "- cela revient à calculer `dernier(reste(5, 3, 8, 1))` c'est-à-dire `dernier(3, 8, 1)`\n",
    "- qui est égal à `dernier(reste(3, 8, 1))` c'est-à-dire `dernier(8, 1)`\n",
    "- qui est égal à `dernier(reste(8, 1))` c'est-à-dire `dernier(1)`\n",
    "- qui est égal à `1` est on s'arrête ici puisque `1` n'a plus de reste. La réponse est donc 1 !\n",
    "\n",
    "**Bilan** : On peut récrire la fonction `dernier` de manière récursive de la façon suivante :\n",
    "\n",
    "```python\n",
    "def dernier(L):\n",
    "    if reste(L) == listevide(): # si le reste est vide, c'est terminé\n",
    "        return premier(L)       # et on affiche alors sa tête\n",
    "    else:\n",
    "        return dernier(reste(L)) # sinon la réponse est le dernier élément du reste\n",
    "```\n",
    "\n",
    "**Analyse** : Cette fonction est bien récursive puisqu'elle s'appelle elle-même. On trouve ici le schéma classique d'un algorithme récursif :\n",
    "- On définit le *cas de base* (ici lorsque le reste est vide) qui est un cas pour lequel on peut donner le résultat facilement. Il n'est alors plus nécessaire de faire un appel récursif donc cela constitue notre *condition d'arrêt* (sinon la fonction s'appellerait à l'infini) ;\n",
    "- Sinon, on fait un appel récursif à la fonction mais sur une donnée plus petite (ici une liste plus petite).\n",
    "\n",
    "> Comme les appels récursifs se font sur des données dont la taille diminue, on est sûr d'aboutir (au bout d'un certain nombre d'appels) au cas de base qui mettra fin aux appels récursifs, ce qui assure la terminaison de l'algorithme.\n",
    "\n",
    "La plupart des opérations sur les listes peuvent être implémentées par des fonctions récursives.\n",
    "\n",
    "> **A faire** : Activité 1"
   ]
  },
  {
   "cell_type": "markdown",
   "metadata": {},
   "source": [
    "# Dérouler l'exécution d'une fonction récursive\n",
    "\n",
    "Il est important de comprendre que chaque appel récursif met &laquo; en pause &raquo; l'exécution en cours, en attente d'obtenir le résultat qui est déterminé par l'appel suivant. Concrètement :\n",
    "\n",
    "- Les appels sont tour à tour mis &laquo; en pause &raquo; jusqu'au dernier appel qui fourni un résultat. On appelle cela le *dépliage* (ou la *descente*).\n",
    "- Ce résultat est ensuite transmis à l'appel précédent qui l'utilise pour calculer son propre résultat et le transmettre à l'appel précédent, et ainsi de suite jusqu'au premier appel qui peut alors calculer le résultat final. On appelle cela l'*évaluation* (ou la *remontée*).\n",
    "\n",
    "Voici deux exemples qui illustrent ces deux étapes.\n",
    "\n",
    "## Exemple de la fonction `dernier`\n",
    "\n",
    "Nous récrivons cette fonction pour l'avoir sous les yeux et déroulons l'exécution de l'appel `dernier((5, (3, (8, None)))`.\n",
    "\n",
    "```python\n",
    "  def dernier(L):\n",
    "1     if reste(L) == listevide(): # si le reste est vide, c'est terminé\n",
    "2          return premier(L)       # et on affiche alors sa tête\n",
    "3      else:\n",
    "4          return dernier(reste(L)) # sinon la réponse est le dernier élément du reste\n",
    "```\n",
    "\n",
    "**Phase de dépliage** :\n",
    "\n",
    "- **1er apppel** : `dernier((5, (3, (8, None)))`\n",
    "    - `reste(L) = (3, (8, None))`\n",
    "    - ligne 4 : doit renvoyer la valeur `dernier((3, (8, None)))` qui nécessite un deuxième appel pour être évaluée. Le premier appel est donc mis en pause pour attendre le résultat du deuxième.\n",
    "- **2ème appel** : `dernier((3, (8, None)))`\n",
    "    - `reste(L) = (8, None)`\n",
    "    - ligne 4 : doit renvoyer la valeur `dernier((8, None))` qui nécessite un troisième appel pour être évaluée. Le deuxième appel est donc mis en pause pour attendre le résultat du troisième.\n",
    "- **3ème appel** : `dernier((8, None))`\n",
    "    - `reste(L) = None`\n",
    "    - ligne 2 : renvoie le résultat 8 (puisque le reste est vide) qui est celui attendu par le deuxième appel.\n",
    " \n",
    "**Phase d'évaluation** :\n",
    "\n",
    "- **2ème appel (suite et fin)** : Le deuxième appel attendait la valeur de `dernier((8, None))` pour la renvoyer. Celle-ci a été évaluée à 8 par le troisième appel donc `dernier((3, (8, None)))` renvoie la valeur 8.\n",
    "- **1er appel (suite et fin)** : Le premier appel attendait la valeur de `dernier((3, (8, None)))` pour la renvoyer. Celle-ci a été évaluée à 8 par le second appel donc `dernier((5, (3, (8, None)))` renvoie la valeur 8 qui est le résultat final.\n",
    "\n",
    "On peut résumer ces étapes par le schéma ci-dessous :\n",
    "\n",
    "<img class=\"centre\" src=\"data/deroulement_execution.png\" alt=\"pochette album\">"
   ]
  },
  {
   "cell_type": "markdown",
   "metadata": {},
   "source": [
    "## Autre exemple : calcul de puissances\n",
    "\n",
    "On se propose d'écrire une fonction récursive (naïve) qui calcule les puissances de 2 c'est-à-dire une fonction `deux_puissance(n)` qui renvoie la valeur de $2^n$, où `n` est un entier positif.\n",
    "\n",
    "### Ecriture de la fonction récursive\n",
    "\n",
    "Commençons par réfléchir à la façon dont on peut calculer $2^n$.\n",
    "\n",
    "- Le *cas de base* correspond à $n=0$ et dans ce cas $2^n=2^0=1$.\n",
    "- Sinon, on peut calculer $2^n$ en faisant $2 \\times 2^{n-1}$. \n",
    "\n",
    "On a désormais tout ce qu'il faut car on sait comment passer du calcul de $2^n$ à celui de $2^{n-1}$ pour notre appel récursif et on connaît le cas de base qui sera notre condition d'arrêt de la récursion :\n",
    "\n",
    "$$\\text{deux_puissance}(n) = \\left\\{\n",
    "\\begin{array}{l}\n",
    "  1 \\textrm{ si } n = 0 \\\\\n",
    "  2 \\times \\text{deux_puissance}(n-1) \\textrm{ si } n > 0\n",
    "\\end{array}\n",
    "\\right.$$\n",
    "\n",
    "Voici la fonction récursive que l'on peut écrire :"
   ]
  },
  {
   "cell_type": "code",
   "execution_count": 1,
   "metadata": {},
   "outputs": [],
   "source": [
    "def deux_puissance(n):\n",
    "    if n == 0:    # cas de base\n",
    "        return 1\n",
    "    else:         # sinon appel récursif avec un argument plus petit\n",
    "        return 2 * deux_puissance(n-1)"
   ]
  },
  {
   "cell_type": "code",
   "execution_count": 2,
   "metadata": {},
   "outputs": [
    {
     "data": {
      "text/plain": [
       "8"
      ]
     },
     "execution_count": 2,
     "metadata": {},
     "output_type": "execute_result"
    }
   ],
   "source": [
    "deux_puissance(3)"
   ]
  },
  {
   "cell_type": "markdown",
   "metadata": {},
   "source": [
    "### Déroulement de son exécution\n",
    "\n",
    "Nous allons représenter de différentes (autres) manières l'exécution de `deux_puissance(3)`.\n",
    "\n",
    "**Arbre d'appel**\n",
    "```\n",
    "                        DEPLIAGE                                        |   EVALUTATION\n",
    "                                                                        |\n",
    "deux_puissance(3) = return 2 * deux_puissance(2)                        |   2 * 4 = 8\n",
    "                                     |                                  |     |\n",
    "                               return 2 * deux_puissance(1)             |   2 * 2 = 4\n",
    "                                                |                       |     |\n",
    "                                          return 2 * deux_puissance(0)  |   2 * 1 = 2 \n",
    "                                                           |            |     |\n",
    "                                                        return 1        |     1\n",
    "```\n",
    "\n",
    "**Autre représentation**\n",
    "\n",
    "```\n",
    "deux_puissance(3)                          \n",
    "-> 2 * deux_puissance(2)                -> DEPLIAGE\n",
    "-> -> 2 * 2 * deux_puissance(1)          \n",
    "-> -> -> 2 * 2 * 2 * deux_puissance(0)\n",
    ".......................................................\n",
    "<- <- <- 2 * 2 * 2 * 1                    \n",
    "<- <- 2 * 2 * 2                         <- EVALUATION\n",
    "<- 2 * 4                                 \n",
    "8                                        \n",
    "```\n",
    "\n",
    "**Autre représentation (bis)**\n",
    "\n",
    "```\n",
    "deux_puissance(3)\n",
    "    2 * deux_puissance(2) = ?\n",
    "    appel à deux_puissance(2)\n",
    "        2 * deux_puissance(1) = ?         DEPLIAGE\n",
    "        appel à deux_puissance(1)\n",
    "            2 * deux_puissance(0) = ?\n",
    "            appel à deux_puissance(0)\n",
    "......................................................\n",
    "            renvoie 1\n",
    "            2 * 1\n",
    "        renvoie 2\n",
    "        2 * 2                             EVALUATION\n",
    "    renvoie 4\n",
    "    2 * 4\n",
    "renvoie 8\n",
    "```\n",
    "\n",
    "**Empilement des appels**\n",
    "\n",
    "<img class=\"centre\" src=\"data/pile_execution.png\" alt=\"pile d'exécution\">\n",
    "\n",
    "**Utilisation d'outils**\n",
    "\n",
    "On peut visualiser avec **Python Tutor** le dépliage (descente) puis l'évaluation (remontée) : [lien vers pythontutor](http://www.pythontutor.com/visualize.html#code=def%20deux_puissance%28n%29%3A%0A%20%20%20%20if%20n%20%3D%3D%200%3A%0A%20%20%20%20%20%20%20%20return%201%0A%20%20%20%20else%3A%0A%20%20%20%20%20%20%20%20return%202%20*%20deux_puissance%28n-1%29%0A%0Adeux_puissance%283%29&cumulative=true&curInstr=0&heapPrimitives=nevernest&mode=display&origin=opt-frontend.js&py=3&rawInputLstJSON=%5B%5D&textReferences=false).\n",
    "\n",
    "<iframe width=\"800\" height=\"500\" frameborder=\"0\" src=\"http://pythontutor.com/iframe-embed.html#code=def%20deux_puissance%28n%29%3A%0A%20%20%20%20if%20n%20%3D%3D%200%3A%0A%20%20%20%20%20%20%20%20return%201%0A%20%20%20%20else%3A%0A%20%20%20%20%20%20%20%20return%202%20*%20deux_puissance%28n-1%29%0A%0Adeux_puissance%283%29&codeDivHeight=400&codeDivWidth=350&cumulative=true&curInstr=0&heapPrimitives=nevernest&origin=opt-frontend.js&py=3&rawInputLstJSON=%5B%5D&textReferences=false\"></iframe>"
   ]
  },
  {
   "cell_type": "markdown",
   "metadata": {},
   "source": [
    "Mais le mieux est d'exécuter le programme avec l'environnement **Thonny** qui permet de voir en mode pas à pas les appels récursifs par ouverture d'une nouvelle fenêtre à chaque appel d'une fonction.\n",
    "\n",
    "<img class=\"centre image-responsive\" src=\"data/Thonny_logo.png\" alt=\"logo Thonny\" width=\"150\">"
   ]
  },
  {
   "cell_type": "markdown",
   "metadata": {},
   "source": [
    "# Récursif *vs* itératif\n",
    "\n",
    "Il est prouvé que tout programme récursif peut être transformé en un programme impératif et réciproquement (même si ce n'est pas toujours évident). Quel choix doit-on faire pour écrire un programme ?\n",
    "\n",
    "**Puissances de deux - version *itérative***"
   ]
  },
  {
   "cell_type": "code",
   "execution_count": 3,
   "metadata": {},
   "outputs": [],
   "source": [
    "def deux_puissance_iter(n):\n",
    "    reponse = 1\n",
    "    for i in range(n):\n",
    "        reponse = reponse * 2\n",
    "    return reponse"
   ]
  },
  {
   "cell_type": "markdown",
   "metadata": {},
   "source": [
    "**Puissances de deux - version *récursive***"
   ]
  },
  {
   "cell_type": "code",
   "execution_count": 4,
   "metadata": {},
   "outputs": [],
   "source": [
    "def deux_puissance_rec(n):\n",
    "    if n == 0:\n",
    "        return 1\n",
    "    else:\n",
    "        return 2 * deux_puissance_rec(n-1)"
   ]
  },
  {
   "cell_type": "markdown",
   "metadata": {},
   "source": [
    "## Une manière de penser\n",
    "\n",
    "La façon de raisonner n'est pas la même selon la méthode :\n",
    "\n",
    "- en itératif, on doit penser à la suite des ordres à appliquer pour progresser des données vers le résultat,\n",
    "- en récursif, on commence par réfléchir à l'expression du résultat à calculer (dans le(s) cas de base et le cas récursif) \n",
    "\n",
    "Ces deux méthodes de raisonnement sont respectivement à la base de la *programmation impérative* (que nous avons utilisé jusqu'à présent) et de la *programmation fonctionnelle* que nous étudierons cette année. En particulier, vous verrez que les fonctions récursives se traduisent très facilement en des fonctions respectant le paradigme de programmation fonctionnelle.\n",
    "\n",
    "\n",
    "## Une question d'élégance ?\n",
    "\n",
    "Même si la méthode impérative nous est plus familière, il faut reconnaître que la méthode récursive est plus élégante, plus lisible et souvent plus courte à écrire car elle évite d'utiliser de nombreuses structures itératives.\n",
    "\n",
    "De plus, la méthode récursive est très utile pour écrire des algorithmes sur des structures de données abstraites comme les listes, les arbres et les graphes. Elle est également souvent utilisée pour écrire des algorithmes de la catégorie &laquo; diviser pour régner &raquo;. Nous étudierons tout cela cette année.\n",
    "\n",
    "\n",
    "\n",
    "## Une question d'efficacité ?\n",
    "\n",
    "### En temps\n",
    "\n",
    "Le modèle électronique d'un ordinateur est impératif, donc tout programme doit être complilé en itératif. Un programme récursif doit donc être dérécursivé (traduit en itératif) par le compilateur pour être exécuté. Cette phase de dérécursivation implique qu'un programme récursif s'exécute toujours (un peu) plus lentement qu'un programme itératif, mais l'ordre de grandeur est le même. \n",
    "\n",
    "\n",
    "### En espace\n",
    "\n",
    "Nous avons vu que l'exécution d'un programme récursif entraînait des appels récursifs qui sont successivement mis en attente du résultat de l'appel suivant. Il est donc nécessaire de stocker en mémoire le *contexte* dans lequel chaque appel de la fonction a lieu (la valeur de ses paramètres, l'adresse mémoire de retour). En pratique, lors de la descente (phase de dépliage), ces contextes sont empilés au fur et à mesure les uns au-dessus des autres et sont dépilés au fur et à mesure lors de la remontée (phase d'évalution) comme sur le dernier schéma d'exécution.\n",
    "\n",
    "> L'environnement **Thonny** permet de bien visualiser cet empilement/dépilement des différents contextes d'appels.\n",
    "\n",
    "Cet empilement (et dépilement) est assuré par une structure de données abstraite appelée **pile** que nous étudierons également cette année. Le dernier schéma proposé correspond à ce qu'on appelle la *pile d'exécution* de la fonction récursive. Cette pile est coûteuse en mémoire et rend les programmes récursifs plus coûteux en mémoire. De plus, cette pile n'a pas une taille infinie ce qui limite le nombre d'appels récursifs possibles : s'il y en a trop, la pile devient pleine et le programme terminera par une erreur.\n",
    "\n",
    "> Certains langages de programmation spécialisés dans l'écriture de programmes récursifs savent optimiser cela et ainsi éviter tout débordement de la pile. C'est le cas des langages fonctionnels (comme LISP) mais ce n'est le cas de Python.\n",
    "\n",
    "En Python, le nombre d'appels récursifs est limité. Si on le dépasse, une erreur de type `RecursionError` est levée. On peut le voir facilement :"
   ]
  },
  {
   "cell_type": "code",
   "execution_count": 5,
   "metadata": {},
   "outputs": [
    {
     "ename": "RecursionError",
     "evalue": "maximum recursion depth exceeded in comparison",
     "output_type": "error",
     "traceback": [
      "\u001b[1;31m---------------------------------------------------------------------------\u001b[0m",
      "\u001b[1;31mRecursionError\u001b[0m                            Traceback (most recent call last)",
      "\u001b[1;32m<ipython-input-5-c16e69cc0df9>\u001b[0m in \u001b[0;36m<module>\u001b[1;34m\u001b[0m\n\u001b[1;32m----> 1\u001b[1;33m \u001b[0mdeux_puissance_rec\u001b[0m\u001b[1;33m(\u001b[0m\u001b[1;36m3000\u001b[0m\u001b[1;33m)\u001b[0m\u001b[1;33m\u001b[0m\u001b[1;33m\u001b[0m\u001b[0m\n\u001b[0m",
      "\u001b[1;32m<ipython-input-4-d73a50cbefbe>\u001b[0m in \u001b[0;36mdeux_puissance_rec\u001b[1;34m(n)\u001b[0m\n\u001b[0;32m      3\u001b[0m         \u001b[1;32mreturn\u001b[0m \u001b[1;36m1\u001b[0m\u001b[1;33m\u001b[0m\u001b[1;33m\u001b[0m\u001b[0m\n\u001b[0;32m      4\u001b[0m     \u001b[1;32melse\u001b[0m\u001b[1;33m:\u001b[0m\u001b[1;33m\u001b[0m\u001b[1;33m\u001b[0m\u001b[0m\n\u001b[1;32m----> 5\u001b[1;33m         \u001b[1;32mreturn\u001b[0m \u001b[1;36m2\u001b[0m \u001b[1;33m*\u001b[0m \u001b[0mdeux_puissance_rec\u001b[0m\u001b[1;33m(\u001b[0m\u001b[0mn\u001b[0m\u001b[1;33m-\u001b[0m\u001b[1;36m1\u001b[0m\u001b[1;33m)\u001b[0m\u001b[1;33m\u001b[0m\u001b[1;33m\u001b[0m\u001b[0m\n\u001b[0m",
      "... last 1 frames repeated, from the frame below ...\n",
      "\u001b[1;32m<ipython-input-4-d73a50cbefbe>\u001b[0m in \u001b[0;36mdeux_puissance_rec\u001b[1;34m(n)\u001b[0m\n\u001b[0;32m      3\u001b[0m         \u001b[1;32mreturn\u001b[0m \u001b[1;36m1\u001b[0m\u001b[1;33m\u001b[0m\u001b[1;33m\u001b[0m\u001b[0m\n\u001b[0;32m      4\u001b[0m     \u001b[1;32melse\u001b[0m\u001b[1;33m:\u001b[0m\u001b[1;33m\u001b[0m\u001b[1;33m\u001b[0m\u001b[0m\n\u001b[1;32m----> 5\u001b[1;33m         \u001b[1;32mreturn\u001b[0m \u001b[1;36m2\u001b[0m \u001b[1;33m*\u001b[0m \u001b[0mdeux_puissance_rec\u001b[0m\u001b[1;33m(\u001b[0m\u001b[0mn\u001b[0m\u001b[1;33m-\u001b[0m\u001b[1;36m1\u001b[0m\u001b[1;33m)\u001b[0m\u001b[1;33m\u001b[0m\u001b[1;33m\u001b[0m\u001b[0m\n\u001b[0m",
      "\u001b[1;31mRecursionError\u001b[0m: maximum recursion depth exceeded in comparison"
     ]
    }
   ],
   "source": [
    "deux_puissance_rec(3000)"
   ]
  },
  {
   "cell_type": "markdown",
   "metadata": {},
   "source": [
    "La version itérative renvoie le résultat :"
   ]
  },
  {
   "cell_type": "code",
   "execution_count": 6,
   "metadata": {
    "scrolled": true
   },
   "outputs": [
    {
     "data": {
      "text/plain": [
       "1230231922161117176931558813276752514640713895736833715766118029160058800614672948775360067838593459582429649254051804908512884180898236823585082482065348331234959350355845017413023320111360666922624728239756880416434478315693675013413090757208690376793296658810662941824493488451726505303712916005346747908623702673480919353936813105736620402352744776903840477883651100322409301983488363802930540482487909763484098253940728685132044408863734754271212592471778643949486688511721051561970432780747454823776808464180697103083861812184348565522740195796682622205511845512080552010310050255801589349645928001133745474220715013683413907542779063759833876101354235184245096670042160720629411581502371248008430447184842098610320580417992206662247328722122088513643683907670360209162653670641130936997002170500675501374723998766005827579300723253474890612250135171889174899079911291512399773872178519018229989376"
      ]
     },
     "execution_count": 6,
     "metadata": {},
     "output_type": "execute_result"
    }
   ],
   "source": [
    "deux_puissance_iter(3000)"
   ]
  },
  {
   "cell_type": "markdown",
   "metadata": {},
   "source": [
    ">**A faire** : Activités 2, 3, 4 et 5"
   ]
  },
  {
   "cell_type": "markdown",
   "metadata": {},
   "source": [
    "# Bilan\n",
    "\n",
    "- Un programme (une fonction ici) est dit *récursif* lorsqu'il s'appelle lui-même.\n",
    "- La récursivité est avant tout un principe algorithmique de description de la solution d’un problème dont le principe consiste à ramener la résolution du problème à la résolution du même problème mais sur un objet plus petit. La méthode récursive est souvent plus élégante, concise et compréhensible que la méthode itérative. \n",
    "- Pour écrire une fonction récursive il est nécessaire de *penser récursif* : \n",
    "    - commencer par trouver le(s) *cas de base* dans le(s)quel(s) on peut donner une réponse au problème\n",
    "    - déterminer ensuite l'expression des *cas récursifs* qui visent à trouver la réponse en fonction de la réponse au même problème mais sur des données de plus petite taille.\n",
    "- L'exécution d'une fonction récursive se déroule en deux phases : la phase de dépliage (ou descente) et la phase d'évaluation (remontée). Dans la première, chaque appel récursif fait à son tour un appel récursif jusqu'au(x) cas de base qui termine(nt) cette cascade d'appels. Commence ensuite la deuxième phase où les évaluations (des résultats) remontent jusqu'à l'appel initial qui termine l'exécution.\n",
    "- Dans la phase de descente, comme l'exécution de chaque appel est &laquo; mis en pause &raquo; au moment de l'appel récursif suivant, on mémorise leurs états (*contextes*) en les empilant dans une *pile*. Ils sont ensuite dépilés successivement lors de la remontée. Cet empilement est coûteux en mémoire et, en Python, il faut veiller à ne pas dépasser la capacité maximale de la pile."
   ]
  },
  {
   "cell_type": "markdown",
   "metadata": {},
   "source": [
    "---\n",
    "\n",
    "**Références :**\n",
    "- Documents ressources de l'équipe éducative du DIU EIL, Université de Nantes, Christophe JERMANN et Christophe DECLERCQ.\n",
    "\n",
    "---\n",
    "Germain BECKER, Lycée Mounier, ANGERS\n",
    "\n",
    "Ressource éducative libre distribuée sous [Licence Creative Commons Attribution - Pas d’Utilisation Commerciale - Partage dans les Mêmes Conditions 4.0 International](http://creativecommons.org/licenses/by-nc-sa/4.0/) \n",
    "\n",
    "![Licence Creative Commons](https://i.creativecommons.org/l/by-nc-sa/4.0/88x31.png)"
   ]
  }
 ],
 "metadata": {
  "kernelspec": {
   "display_name": "Python 3",
   "language": "python",
   "name": "python3"
  },
  "language_info": {
   "codemirror_mode": {
    "name": "ipython",
    "version": 3
   },
   "file_extension": ".py",
   "mimetype": "text/x-python",
   "name": "python",
   "nbconvert_exporter": "python",
   "pygments_lexer": "ipython3",
   "version": "3.7.3"
  }
 },
 "nbformat": 4,
 "nbformat_minor": 2
}
