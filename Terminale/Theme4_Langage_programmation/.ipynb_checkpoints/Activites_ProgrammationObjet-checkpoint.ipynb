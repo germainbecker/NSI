{
 "cells": [
  {
   "cell_type": "markdown",
   "metadata": {},
   "source": [
    "Activités - Programmation objet\n",
    "==="
   ]
  },
  {
   "cell_type": "markdown",
   "metadata": {},
   "source": [
    "# Activité 1 : La classe `Point`\n",
    "\n",
    "On souhaite créer une classe `Point` permettant de construire des objets de type `Point` définis par une abscisse et une ordonnée.\n",
    "\n",
    "## Création de la classe\n",
    "\n",
    "**Question 1** : Créez une telle classe en Python et définissez la méthode spéciale `__init__` pour déclarer les attributs `x` (abscisse) et `y` (ordonnée) d'un objet `Point`."
   ]
  },
  {
   "cell_type": "code",
   "execution_count": null,
   "metadata": {},
   "outputs": [],
   "source": [
    "# à compléter\n"
   ]
  },
  {
   "cell_type": "markdown",
   "metadata": {},
   "source": [
    "**Question 2** : Créez deux instances `p1` et `p2` de cette classe ayant pour coordonnées respectives (2; 3) et (-1; 4). "
   ]
  },
  {
   "cell_type": "code",
   "execution_count": null,
   "metadata": {},
   "outputs": [],
   "source": [
    "# à compléter\n"
   ]
  },
  {
   "cell_type": "markdown",
   "metadata": {},
   "source": [
    "**Question 3** : Quelles instructions permettent d'accéder aux attributs de l'objet `p1` ?"
   ]
  },
  {
   "cell_type": "code",
   "execution_count": null,
   "metadata": {},
   "outputs": [],
   "source": [
    "# à compléter\n"
   ]
  },
  {
   "cell_type": "markdown",
   "metadata": {},
   "source": [
    "**Question 4** : Le point `p1` a changé de coordonnées qui sont maintenant (3, 4). Modifiez les attributs du point `p1`, en utilsant la notation pointée, afin qu'elles correspondent à ce changement. "
   ]
  },
  {
   "cell_type": "code",
   "execution_count": null,
   "metadata": {},
   "outputs": [],
   "source": [
    "# à compléter\n"
   ]
  },
  {
   "cell_type": "markdown",
   "metadata": {},
   "source": [
    "On souhaite également pouvoir translater un point et vérifier si deux points sont égaux. Il est donc nécessaire d'ajouter des méthodes à notre classe.\n",
    "\n",
    "**Question 5** : Compléter les méthodes `translater` et `egal` dans la classe `Point`."
   ]
  },
  {
   "cell_type": "code",
   "execution_count": null,
   "metadata": {},
   "outputs": [],
   "source": [
    "class Point:\n",
    "    \"\"\"Manipulation de points\"\"\"\n",
    "    \n",
    "    def __init__(self, abscisse, ordonnee):\n",
    "        self.x = abscisse\n",
    "        self.y = ordonnee\n",
    "    \n",
    "    # à compléter\n",
    "    "
   ]
  },
  {
   "cell_type": "markdown",
   "metadata": {},
   "source": [
    "**Question 6** : Vérifiez que l'implémentation est correcte sur des exemples."
   ]
  },
  {
   "cell_type": "code",
   "execution_count": null,
   "metadata": {},
   "outputs": [],
   "source": [
    "# à compléter :\n"
   ]
  },
  {
   "cell_type": "markdown",
   "metadata": {},
   "source": [
    "## Améliorations\n",
    "\n",
    "### Une représentation d'un point en chaîne de caractères\n",
    "\n",
    "On souhaiterait obtenir un affichage de notre objet de type `Point` sous la forme d'une chaîne de caractères \"évaluable\" de la forme `(x ; y)`. On rappelle qu'il faut redéfinir la méthode `__repr__(self)` puisque c'est elle qui est appelée dans ce cas.\n",
    "\n",
    "**Question 7** : Définissez la méthode `__repr__(self)` afin de pouvoir afficher nos points comme demandé. Vous testerez ensuite si l'affichage est correct."
   ]
  },
  {
   "cell_type": "code",
   "execution_count": null,
   "metadata": {},
   "outputs": [],
   "source": [
    "class Point:\n",
    "    \"\"\"Manipulation de points\"\"\"\n",
    "    \n",
    "    def __init__(self, abscisse, ordonnee):\n",
    "        self.x = abscisse\n",
    "        self.y = ordonnee\n",
    "    \n",
    "    def translater(self, dx, dy):\n",
    "        self.x = self.x + dx\n",
    "        self.y = self.y + dy\n",
    "    \n",
    "    def egal(self, other):\n",
    "        return self.x == other.x and self.y == other.y\n",
    "    \n",
    "    # à compléter\n",
    "    "
   ]
  },
  {
   "cell_type": "code",
   "execution_count": null,
   "metadata": {},
   "outputs": [],
   "source": [
    "# test affichage\n"
   ]
  },
  {
   "cell_type": "markdown",
   "metadata": {},
   "source": [
    "### Un test d'égalité avec `==`\n",
    "\n",
    "On rappelle que si on veut tester l'égalité entre deux objets d'une classe avec la notation habituelle (`objet1 == objet2`) il est nécessaire de définir la méthode spéciale `__eq__` de la classe car c'est elle qui est appelée dans ce cas.\n",
    "\n",
    "**Question 8** : Compléter l'implémentation de la classe par la méthode `__eq__`. Vous testerez ensuite si votre implémentation est correcte."
   ]
  },
  {
   "cell_type": "code",
   "execution_count": null,
   "metadata": {},
   "outputs": [],
   "source": [
    "class Point:\n",
    "    \"\"\"Manipulation de points\"\"\"\n",
    "    \n",
    "    def __init__(self, abscisse, ordonnee):\n",
    "        self.x = abscisse\n",
    "        self.y = ordonnee\n",
    "    \n",
    "    def translater(self, dx, dy):\n",
    "        self.x = self.x + dx\n",
    "        self.y = self.y + dy\n",
    "    \n",
    "    def egal(self, other):\n",
    "        return self.x == other.x and self.y == other.y\n",
    "    \n",
    "    def __repr__(self):\n",
    "        return \"(\" + str(self.x) + \" ; \" + str(self.y) + \")\"\n",
    "    \n",
    "    \n",
    "    "
   ]
  },
  {
   "cell_type": "code",
   "execution_count": null,
   "metadata": {},
   "outputs": [],
   "source": [
    "# test d'égalité\n"
   ]
  },
  {
   "cell_type": "markdown",
   "metadata": {},
   "source": [
    "### Accès en lecture/écriture aux attributs\n",
    "\n",
    "Ce n'est pas le cas en Python, mais dans beaucoup d'autres langages les attributs d'un objet sont privés, c'est-à-dire qu'il n'est pas possible d'y accéder ou de les modifier sans faire appel à des méthodes (publique) de la classe.\n",
    "\n",
    "Ainsi, dans d'autres langages, on ne pourrait plus écrire `p.x` pour accéder à la valeur de l'abscisse du point `p` ou écrire `p.x = 5` pour la modifier car l'attribut `x` n'est pas accessible directement.\n",
    "\n",
    "Pour accéder et modifier les valeurs des attributs on utilise alors des méthodes appelées :\n",
    "\n",
    "- des *accesseurs* (ou *getters*) qui fournissent des informations relatives à l’état d’un objet, c’est-à-dire aux valeurs de certains de ses attributs (généralement privés) sans les modifier ;\n",
    "- des *mutateurs* (ou *setters*) qui modifient l’état d’un objet, donc les valeurs de certains de ses attributs.\n",
    "\n",
    "Par exemple, pour accéder à l'attribut `x` (abscisse) d'un point il suffirait d'ajouter la méthode \n",
    "\n",
    "```python\n",
    "def lire_abscisse(self):\n",
    "    return self.x\n",
    "```"
   ]
  },
  {
   "cell_type": "markdown",
   "metadata": {},
   "source": [
    "**Question 9** : Implémentez les méthodes `lire_abscisse`, `lire_ordonnee`, `modifier_abscisse` et `modifier_ordonnee` de la classe `Point` pour lire et modifier les attributs d'un objet. Vérifiez ensuite sur des exemples."
   ]
  },
  {
   "cell_type": "code",
   "execution_count": null,
   "metadata": {},
   "outputs": [],
   "source": [
    "class Point:\n",
    "    \"\"\"Manipulation de points\"\"\"\n",
    "    \n",
    "    def __init__(self, abscisse, ordonnee):\n",
    "        self.x = abscisse\n",
    "        self.y = ordonnee\n",
    "    \n",
    "    def translater(self, dx, dy):\n",
    "        self.x = self.x + dx\n",
    "        self.y = self.y + dy\n",
    "    \n",
    "    def egal(self, other):\n",
    "        return self.x == other.x and self.y == other.y\n",
    "    \n",
    "    def __repr__(self):\n",
    "        return \"(\" + str(self.x) + \" ; \" + str(self.y) + \")\"\n",
    "    \n",
    "    __eq__ = egal  # pour aller plus vite, sinon, on remplace la méthode egal ci-dessus par __eq__\n",
    "    \n",
    "    # méthodes à compléter\n",
    "    "
   ]
  },
  {
   "cell_type": "code",
   "execution_count": null,
   "metadata": {},
   "outputs": [],
   "source": [
    "# tests des méthodes\n"
   ]
  },
  {
   "cell_type": "markdown",
   "metadata": {},
   "source": [
    "# Activité 2 : Une classe `Temps`\n",
    "\n",
    "On souhaite créer une classe `Temps` définissant des objets de type `Temps` définis par des heures, minutes, secondes. On souhaite également pouvoir :\n",
    "\n",
    "- afficher une représentation d'un temps sous la forme du chaîne de caractères évaluable de la forme `h:m:s`\n",
    "- ajouter deux temps \n",
    "\n",
    "## Implémentation de la classe\n",
    "\n",
    "**Question 1** : Implémentez cette classe. Vous vérifierez ensuite si votre implémentation est correcte. "
   ]
  },
  {
   "cell_type": "code",
   "execution_count": null,
   "metadata": {},
   "outputs": [],
   "source": [
    "# implémentation de la classe Temps\n"
   ]
  },
  {
   "cell_type": "code",
   "execution_count": null,
   "metadata": {},
   "outputs": [],
   "source": [
    "# essais\n"
   ]
  },
  {
   "cell_type": "markdown",
   "metadata": {},
   "source": [
    "## Amélioration\n",
    "\n",
    "On aimerait pouvoir ajouter deux instances `t1` et `t2` de notre classe `Temps` en utilisant le symbole usuel `+`. Lorsque l'on écrit `t1 + t2`, c'est la méthode spéciale `__add__` qui est invoquée.\n",
    "\n",
    "**Question 2** : Définissez cette méthode dans la classe `Temps` et vérifiez si votre implémentation est correcte."
   ]
  },
  {
   "cell_type": "code",
   "execution_count": null,
   "metadata": {},
   "outputs": [],
   "source": [
    "# à vous de jouer !\n",
    "\n",
    "class Temps:\n",
    "    \"\"\"Pour manipuler des temps\"\"\"\n",
    "    \n",
    "    def __init__(self, heures, minutes, secondes):\n",
    "        self.h = heures\n",
    "        self.m = minutes\n",
    "        self.s = secondes\n",
    "    \n",
    "    def ajouter(self, other):\n",
    "        \"\"\"Ajoute le temps other à self\"\"\"\n",
    "        h = self.h + other.h\n",
    "        m = self.m + other.m\n",
    "        s = self.s + other.s\n",
    "        if s >= 60:\n",
    "            s = s - 60\n",
    "            m = m + 1\n",
    "        if m >= 60:\n",
    "            h = h + 1\n",
    "            m = m - 60\n",
    "        return Temps(h, m, s)\n",
    "    \n",
    "    def __repr__(self):\n",
    "        return str(self.h) + \":\" + str(self.m) + \":\" + str(self.s)\n",
    "    \n",
    "    # méthodes __add__\n"
   ]
  },
  {
   "cell_type": "code",
   "execution_count": null,
   "metadata": {},
   "outputs": [],
   "source": []
  },
  {
   "cell_type": "markdown",
   "metadata": {},
   "source": [
    "# Activité 3 : Une classe `Liste`\n",
    "\n",
    "## Interface et implémentation\n",
    "\n",
    "L'objectif ici est de créer une classe `Liste` définissant des objets de type `Liste` à l'aide des 5 opérations primitives de cette structure de données.\n",
    "\n",
    "Dans toute la suite on désignera par *liste*, des objets de la classe `Liste` dont voici l'interface :\n",
    "\n",
    "- **`Liste()`** permet de créer une liste vide\n",
    "- `Liste`**`.ajouter_en_tete(e)`** ajoute l'élément `e` en tête d'une liste\n",
    "- `Liste`**`.premier()`** renvoie le premier élément d'une liste (sa tête)\n",
    "- `Liste`**`.reste()`** renvoie le reste d'une liste (sa queue)\n",
    "- `Liste`**`.est_vide()`** renvoie Vrai si la liste est vide et Faux sinon\n",
    "\n",
    "**Question 1** : Quelle suite d'instructions faut-il écrire pour créer une liste vide `L`, lui ajouter en tête successivement les valeurs 3, 1, 2 et enfin accéder à son premier élément et à son reste ?"
   ]
  },
  {
   "cell_type": "markdown",
   "metadata": {},
   "source": [
    "*Réponse* : \n",
    "```\n",
    "L = Liste()\n",
    "L.ajouter_en_tete(3)\n",
    "L.ajouter_en_tete(1)\n",
    "L.ajouter_en_tete(2)\n",
    "L.premier(), L.reste()\n",
    "```"
   ]
  },
  {
   "cell_type": "markdown",
   "metadata": {},
   "source": [
    "**Question 2** : Implémentez la classe `Liste` correspondante en utilisant le type prédéfini `list` de Python. *La méthode `__init__` créera une liste vide.*"
   ]
  },
  {
   "cell_type": "code",
   "execution_count": null,
   "metadata": {},
   "outputs": [],
   "source": [
    "# à vous de jouer\n"
   ]
  },
  {
   "cell_type": "markdown",
   "metadata": {},
   "source": [
    "**Question 3** : Vérifiez que l'implémentation est correcte en testant par exemple votre réponse à la première question."
   ]
  },
  {
   "cell_type": "code",
   "execution_count": null,
   "metadata": {},
   "outputs": [],
   "source": []
  },
  {
   "cell_type": "markdown",
   "metadata": {},
   "source": [
    "## Améliorations\n",
    "\n",
    "### Une représentation sous forme d'une chaîne de caractères\n",
    "\n",
    "On souhaite représenter nos objets de type `Liste` sous la forme d'une chaîne de caractères formée des éléments de la liste séparés par des virgules. Par exemple, la liste contenant les éléments 2, 1, 3 doit pouvoir être représentée par la chaîne `2, 1, 3`.\n",
    "\n",
    "**Question 4** : Définissez la méthode spéciale `__repr__` de la classe `Liste` pour obtenir cette représentation. "
   ]
  },
  {
   "cell_type": "code",
   "execution_count": null,
   "metadata": {},
   "outputs": [],
   "source": [
    "# à vous de jouer\n"
   ]
  },
  {
   "cell_type": "markdown",
   "metadata": {},
   "source": [
    "### Concaténation\n",
    "\n",
    "On souhaite pouvoir concaténer deux instances de la classe `Liste`. Pour cela, on pourrait définir une nouvelle méthode `concatene` mais l'idée ici est de pouvoir concaténer deux listes en utilisant l'opérateur `+` usuel. Pour cela, il faut définir la méthode spéciale `__add__` de la classe `Liste` puisque c'est elle qui est appelée lorsque l'opérateur `+` est utilisé.\n",
    "\n",
    "**Question 5** : Implémentez cette méthode spéciale puis vérifiez que l'implémentation est correcte. **Attention** : cette méthode doit renvoyer un nouvel objet de type `Liste` (et pas un objet du type prédéfini `list` de Python."
   ]
  },
  {
   "cell_type": "code",
   "execution_count": null,
   "metadata": {},
   "outputs": [],
   "source": [
    "# à vous de jouer\n"
   ]
  },
  {
   "cell_type": "markdown",
   "metadata": {},
   "source": [
    "# Activité 4 : Créer son propre module\n",
    "\n",
    "Vous avez déjà utilisé des modules (ou bilbiothèques) dans vos programmes Python. Je pense aux modules `math`, `random`, etc.\n",
    "\n",
    "> Mais qu'est-ce qu'un module ?\n",
    "\n",
    "Un module est tout simplement un morceau de code écrit dans un fichier. Ce code contient généralement des implémentations de fonctions, de classes. L'intérêt des modules est la réutilisation par d'autres programmeurs.\n",
    "\n",
    "Importer un module permet de donner accès aux classes et fonctions définies dans ce module, et ainsi pouvoir les utiliser. Vous allez maintenant créer votre propre module et tester son importation. Vous veillerez également à bien documenter celui-ci.\n",
    "\n",
    "# Création d'un module `point`\n",
    "\n",
    "**Question 1** : Recopiez dans la cellule ci-dessous votre implémentation de la classe `Point` écrite dans l'activité 1. Vous complèterez ce code par une fonction (en dehors de la classe) `milieu(p1, p2)` qui renvoie les coordonnées du milieu du segment d'extrémités `p1` et `p2` qui sont deux instances de la classe `Point`."
   ]
  },
  {
   "cell_type": "code",
   "execution_count": null,
   "metadata": {},
   "outputs": [],
   "source": [
    "# à vous de jouer\n"
   ]
  },
  {
   "cell_type": "markdown",
   "metadata": {},
   "source": [
    "**Question 2** : Après avoir vérifié la validité de votre nouvelle fonction, recopiez tout le code (la classe et cette fonction) dans un fichier que vous enregitrerez sous le nom *point.py* dans le répertoire de ce notebook. Vous venez de créer votre propre module appelé `point`."
   ]
  },
  {
   "cell_type": "markdown",
   "metadata": {},
   "source": [
    "## Importation et utilisation d'un module\n",
    "\n",
    "### La méthode `import` et accès à l'interface\n",
    "\n",
    "- Ouvrez un *autre notebook* dans le même répertoire et commencez par importer votre module *point.py* en écrivant :\n",
    "\n",
    "```python\n",
    "import point\n",
    "```\n",
    "\n",
    "> Vous constatez que l'on n'écrit pas l'extension *.py* lors de l'import.\n",
    "\n",
    "- Tapez l'instruction `help(point)`. Vous devez constater qu'elle donne accès à l'**interface** du module.\n",
    "- Si vous tapez `help(point.Point)` vous accédez à l'interface de la classe `Point` du module `point`. Vous remarquerez que les attributs d'instances n'apparaissent pas (`x` et `y`), c'est aussi une des raisons pour lesquelles on préfère créer des méthodes pour accéder (en lecture et écriture) aux attributs d'instances.\n",
    "\n",
    "**Question 3** : Que faut-il passer en paramètre à la fonction `help` pour afficher la documentation de la méthode `translater` de la classe `Point` (du module `point`) ? Et pour la fonction `milieu` ?"
   ]
  },
  {
   "cell_type": "markdown",
   "metadata": {},
   "source": [
    "*Réponse* : "
   ]
  },
  {
   "cell_type": "markdown",
   "metadata": {},
   "source": [
    "**Question 4** : Vérifiez que l'on peut utiliser la classe `Point` en écrivant par exemple :\n",
    "\n",
    "```python\n",
    "p1 = point.Point(0, 3)\n",
    "p1.translater(1, 0)\n",
    "print(p1.lire_abscisse(), p1.lire_ordonnee())\n",
    "p2 = point.Point(-1, 1)\n",
    "point.milieu(p1, p2)\n",
    "```\n",
    "\n",
    "- Vous constatez qu'il est nécessaire de préfixer la classe et la fonction par le nom du module pour que cela marche.\n",
    "\n",
    "> Il n'était pas utile de préfixer les méthodes de la classe `Point` car elles s'appliquent à `p1` qui est un objet de la classe `Point` créé par la ligne précédente.\n",
    "\n",
    "### Utiliser un autre nom\n",
    "\n",
    "Même si le nom de notre module n'est pas très long, on peut vouloir utilisé un nom plus court pour le module importé. On utilisera le mot `as` utiliser un autre nom pour accéder au module.\n",
    "\n",
    "```python\n",
    "import point as pt\n",
    "```\n",
    "\n",
    "Les instructions précédentes s'écriraient alors :\n",
    "\n",
    "```python\n",
    "p1 = pt.Point(0, 3)\n",
    "p1.translater(1, 0)\n",
    "print(p1.lire_abscisse(), p1.lire_ordonnee())\n",
    "p2 = pt.Point(-1, 1)\n",
    "pt.milieu(p1, p2)\n",
    "```\n",
    "\n",
    "**Question 5** : Vérifiez !\n",
    "\n",
    "### Une autre méthode d'importation : `from ... import ...`\n",
    "\n",
    "En réalité on peut se passer du préfixage par le nom du module, à condition d'utiliser une autre méthode d'importation qui rend les classes et fonctions d'un module directement accessibles à l'interpréteur Python. Il faut écrire :\n",
    "\n",
    "```python\n",
    "from point import Point, milieu\n",
    "```\n",
    "\n",
    "**Question 6** : Vérifiez que l'on peut alors écrire les instructions suivantes pour obtenir le même résultat que précédemment.\n",
    "\n",
    "```python\n",
    "p1 = Point(1, 3)\n",
    "p1.translater(1, 0)\n",
    "print(p1.lire_abscisse(), p1.lire_ordonnee())\n",
    "p2 = Point(-1, 1)\n",
    "milieu(p1, p2)\n",
    "```\n",
    "\n",
    "> Il faut se méfier lors des importations de fonctions d'un autre module car si on avait écrit nous-même une fonction `milieu` (ou une classe `Point`) dans notre notebook (ou si nous avions importé un autre module avec des fonctions de même nom), il y aurait alors deux fonctions (deux classes) portant le même nom, ce qui est problématique (l'interpréteur ne conservera que la dernière fonction appelée).\n",
    "\n",
    "**Bilan** : Cette seconde méthode a donc l'avantage de ne plus avoir à préfixer par le nom du module mais nécessite une vigilance particulière pour ne pas se retrouver avec des fonctions ou modules portant le même nom. "
   ]
  },
  {
   "cell_type": "markdown",
   "metadata": {},
   "source": [
    "---\n",
    "\n",
    "**Références :**\n",
    "- Documents ressources de l'équipe éducative du DIU EIL, Université de Nantes, Christophe DECLERCQ & Christophe JERMANN.\n",
    "- Documentation officielle de Python sur [les méthodes spéciales](https://docs.python.org/3/reference/datamodel.html#special-method-names).\n",
    "\n",
    "---\n",
    "Germain BECKER, Lycée Mounier, ANGERS\n",
    "\n",
    "Ressource éducative libre distribuée sous [Licence Creative Commons Attribution - Pas d’Utilisation Commerciale - Partage dans les Mêmes Conditions 4.0 International](http://creativecommons.org/licenses/by-nc-sa/4.0/) \n",
    "\n",
    "![Licence Creative Commons](https://i.creativecommons.org/l/by-nc-sa/4.0/88x31.png)"
   ]
  }
 ],
 "metadata": {
  "kernelspec": {
   "display_name": "Python 3",
   "language": "python",
   "name": "python3"
  },
  "language_info": {
   "codemirror_mode": {
    "name": "ipython",
    "version": 3
   },
   "file_extension": ".py",
   "mimetype": "text/x-python",
   "name": "python",
   "nbconvert_exporter": "python",
   "pygments_lexer": "ipython3",
   "version": "3.7.3"
  }
 },
 "nbformat": 4,
 "nbformat_minor": 2
}
