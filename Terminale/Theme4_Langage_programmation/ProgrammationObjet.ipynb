{
 "cells": [
  {
   "cell_type": "markdown",
   "metadata": {},
   "source": [
    "Le paradigme objet\n",
    "==="
   ]
  },
  {
   "cell_type": "markdown",
   "metadata": {},
   "source": [
    "<img class=\"centre image-responsive\" src=\"data/oop.jpg\" alt=\"illustration poo\">\n",
    "\n",
    "Nous avons vu qu'il existait différentes manières de voir la programmation, on parle de différents *paradigmes de programmation*. L'un d'eux est le **paradigme objet**. Lorsque l'on programme en utilisant ce paradigme on parle de **programmation objet** ou de **programmation orientée objet** (abrégé *POO*, ou *OOP* en anglais pour &laquo; Object-oriented programming &raquo;.\n",
    "\n",
    "> Nous nous limiterons cette année, comme le programme l'indique, à une brève introduction de la programmation objet."
   ]
  },
  {
   "cell_type": "markdown",
   "metadata": {},
   "source": [
    "# Vocabulaire de la programmation objet\n",
    "\n",
    "La programmation objet consiste à regrouper données et traitements dans une même structure appelée **objet**. Elle possède l'avantage de localiser en un même endroit toute l'implémentation d'une structure de données abstraite.\n",
    "\n",
    "## Objets, attributs, méthodes\n",
    "\n",
    "Concrètement, un objet est une structure de données abstraite regroupant :\n",
    "- des *données* associées à l'objet que l'on appelle des **attributs**.\n",
    "- des *fonctions* (ou procédures) s'appliquant sur l'objet que l'on appelle **méthodes**. \n",
    "\n",
    "*Exemple* : Prenons une voiture, on peut la considérer comme un objet. On peut lui associer des informations comme sa couleur, sa marque et sa catégorie : il s'agit des attributs de notre objet. On peut également définir des mécanismes concernant cet objet : démarrer, accélérer, freiner, klaxonner : il s'agit des méthodes s'appliquant sur notre objet. "
   ]
  },
  {
   "cell_type": "markdown",
   "metadata": {},
   "source": [
    "## Classe\n",
    "\n",
    "Ces attributs et méthodes sont réunis dans ce qu'on appelle une **classe** qui est donc un *modèle décrivant un objet*. Les objets sont ensuite créés à partir de cette classe (ce modèle) qui est donc aussi une *machine à fabriquer des objets*.\n",
    "\n",
    "*Exemple* : On peut définir une classe `Voiture` décrivant un modèle pour tous les objets \"voitures\". On peut la schématiser ainsi :\n",
    "\n",
    "<img class=\"centre image-responsive\" src=\"data/classe_Voiture.png\" alt=\"schéma de la classe Voiture\">\n",
    "\n",
    "On peut facilement créer des objets grâce à ce modèle. Il suffit de les construire en utilisant le nom de la classe (qui est aussi le nom du constructeur d'objets de cette classe). Chaque objet ainsi créé est une *instance* de la classe.\n",
    "\n",
    "*Exemple* : En Python, on peut créer deux objets `clio` et `c3` (deux instances) de la classe `Voiture` en écrivant simplement les deux instructions\n",
    "\n",
    "```python\n",
    "clio = Voiture()\n",
    "c3 = Voiture()\n",
    "```"
   ]
  },
  {
   "cell_type": "markdown",
   "metadata": {},
   "source": [
    "## Accès aux attributs et méthodes\n",
    "\n",
    "Pour accéder aux attributs et aux méthodes d'une classe on utilise la **notation pointée**. \n",
    "\n",
    "*Exemple* : L'instruction `clio.marque` renvoie la marque de l'objet (instance) `clio` et l'instruction `clio.klaxonner()` va faire klaxonner notre voiture (virtuelle). Nous reviendrons sur cela un peu plus loin.\n",
    "\n",
    "> Cette notation pointée ne vous dit rien ? Allons, vous l'avez déjà utilisée pourtant..."
   ]
  },
  {
   "cell_type": "markdown",
   "metadata": {},
   "source": [
    "# Classes et objets en Python\n",
    "\n",
    "## En Python, tout est objet !\n",
    "\n",
    "> Vous ne le saviez sans doute pas, mais les objets vous connaissez déjà (et oui !)\n",
    "\n",
    "Vous avez manipulé des objets depuis que vous programmez en Python, tout simplement car dans ce langage tout est objet. On peut le voir facilement."
   ]
  },
  {
   "cell_type": "code",
   "execution_count": 1,
   "metadata": {},
   "outputs": [
    {
     "name": "stdout",
     "output_type": "stream",
     "text": [
      "<class 'int'>\n",
      "<class 'float'>\n",
      "<class 'str'>\n",
      "<class 'tuple'>\n",
      "<class 'list'>\n",
      "<class 'dict'>\n"
     ]
    }
   ],
   "source": [
    "a = 5\n",
    "print(type(a))\n",
    "b = 2.1\n",
    "print(type(b))\n",
    "c = \"nsi\"\n",
    "print(type(c))\n",
    "d = (3, -4)\n",
    "print(type(d))\n",
    "e = [0, 1, 2, 3]\n",
    "print(type(e))\n",
    "f = {\"a\": 1, \"b\": 2}\n",
    "print(type(f))"
   ]
  },
  {
   "cell_type": "markdown",
   "metadata": {},
   "source": [
    "L'affichage montre que tous les types en Python sont des classes. Les entiers sont des objets de la classe `int`, les flottants sont des objets de la classe `float`, etc.\n",
    "\n",
    "Pour créer un entier ou une liste il suffit de les construire en utilisant le nom de leurs classes respectives."
   ]
  },
  {
   "cell_type": "code",
   "execution_count": 2,
   "metadata": {
    "scrolled": true
   },
   "outputs": [
    {
     "name": "stdout",
     "output_type": "stream",
     "text": [
      "<class 'int'> <class 'list'>\n"
     ]
    }
   ],
   "source": [
    "entier = int() # crée un entier (0 par défaut)\n",
    "liste = list() # crée une liste (vide par défaut), équivalent à liste = []\n",
    "print(type(entier), type(liste))"
   ]
  },
  {
   "cell_type": "markdown",
   "metadata": {},
   "source": [
    "## Interface d'une classe\n",
    "\n",
    "En définissant une classe on définit un type abstrait de données (cf. chapitre en question). Comme tout type abstrait, une classe possède donc une **interface** qui décrit l'ensemble des méthodes auxquels on a accès pour manipuler les objets de cette classe.\n",
    "\n",
    "On peut utiliser la fonction `dir` pour lister tous les attributs et méthodes d'un objet."
   ]
  },
  {
   "cell_type": "code",
   "execution_count": 3,
   "metadata": {
    "scrolled": false
   },
   "outputs": [
    {
     "data": {
      "text/plain": [
       "['__add__',\n",
       " '__class__',\n",
       " '__contains__',\n",
       " '__delattr__',\n",
       " '__delitem__',\n",
       " '__dir__',\n",
       " '__doc__',\n",
       " '__eq__',\n",
       " '__format__',\n",
       " '__ge__',\n",
       " '__getattribute__',\n",
       " '__getitem__',\n",
       " '__gt__',\n",
       " '__hash__',\n",
       " '__iadd__',\n",
       " '__imul__',\n",
       " '__init__',\n",
       " '__init_subclass__',\n",
       " '__iter__',\n",
       " '__le__',\n",
       " '__len__',\n",
       " '__lt__',\n",
       " '__mul__',\n",
       " '__ne__',\n",
       " '__new__',\n",
       " '__reduce__',\n",
       " '__reduce_ex__',\n",
       " '__repr__',\n",
       " '__reversed__',\n",
       " '__rmul__',\n",
       " '__setattr__',\n",
       " '__setitem__',\n",
       " '__sizeof__',\n",
       " '__str__',\n",
       " '__subclasshook__',\n",
       " 'append',\n",
       " 'clear',\n",
       " 'copy',\n",
       " 'count',\n",
       " 'extend',\n",
       " 'index',\n",
       " 'insert',\n",
       " 'pop',\n",
       " 'remove',\n",
       " 'reverse',\n",
       " 'sort']"
      ]
     },
     "execution_count": 3,
     "metadata": {},
     "output_type": "execute_result"
    }
   ],
   "source": [
    "L = [2, 3, 5]\n",
    "dir(L) # ou directement dir(list)"
   ]
  },
  {
   "cell_type": "markdown",
   "metadata": {},
   "source": [
    "On retrouve ici les méthodes applicables sur les objets du type prédéfini `list`. Son interface est disponible dans la [documentation officielle](https://docs.python.org/fr/3/tutorial/datastructures.html#more-on-lists). Vous noterez que l'interface ne précise pas la façon dont sont implémentées ces méthodes mais juste la façon de les utiliser, ce qui suffit largement généralement.\n",
    "\n",
    "> On constate aussi qu'il y a de nombreuses méthodes spéciales repérables par leur nom encadré d'un double **underscore** (`__`). Nous reviendrons sur quelques-unes d'entre elles un peu plus tard.\n",
    "\n",
    "Par exemple, vous saviez déjà que pour ajouter un élément à une liste Python (qui est un objet) on pouvait utiliser la méthode `append` avec la notation pointée :"
   ]
  },
  {
   "cell_type": "code",
   "execution_count": 4,
   "metadata": {},
   "outputs": [
    {
     "data": {
      "text/plain": [
       "[2, 3, 5, 8]"
      ]
     },
     "execution_count": 4,
     "metadata": {},
     "output_type": "execute_result"
    }
   ],
   "source": [
    "L = [2, 3, 5]\n",
    "L.append(8)\n",
    "L"
   ]
  },
  {
   "cell_type": "markdown",
   "metadata": {},
   "source": [
    "## Une première classe en Python\n",
    "\n",
    "Nous allons voir comment implémenter une classe en Python. \n",
    "\n",
    "Nous reprenons pour cela l'exemple du type abstrait `Rationnel` abordé dans un chapitre précédent. Pour rappel, on souhaitait pouvoir effectuer les opérations suivantes sur cette structure de données :\n",
    "\n",
    "- Créer un rationnel\n",
    "- Accéder au numérateur et au dénominateur d'un rationnel\n",
    "- Ajouter, soustraire, multiplier, diviser deux rationnels\n",
    "- Vérifier si deux rationnels sont égaux ou non\n",
    "\n",
    "Nous avions déjà implémenté ce type abstrait (de plusieurs manières) dans le chapitre en question. L'objectif ici est de créer une classe appelée `Rationnel` dont le but est de pouvoir construire des objets de type `Rationnel` et les manipuler.\n",
    "\n",
    "On déclare une classe en Python à l'aide du mot clé `class` :\n",
    "\n",
    "```python\n",
    "class Rationnel:\n",
    "    \"\"\"Manipulation de rationnels définis par leurs numérateur et dénominateur\"\"\"\n",
    "```\n",
    "\n",
    "> Par convention, les noms de classes en Python sont écrits en capitales (première lettre en majuscule). On a documenté notre classe avec une docstring qui sera accessible à quiconque souhaite utiliser notre classe."
   ]
  },
  {
   "cell_type": "markdown",
   "metadata": {},
   "source": [
    "### Création et initialisation d'un objet en Python\n",
    "\n",
    "La création standard d'un objet par la méthode de sa classe, crée des objets sans attributs. Pour que les méthodes puissent s'appliquer sans erreur, il faut cependant que tous les objets d'une classe possèdent certains attributs. C'est pour cette raison, qu'une méthode d'initialisation des objets créant des attributs est nécessaire. En Python, c'est la méthode spéciale `__init__`, si elle est définie dans la classe, qui est systématiquement appelée sur chaque nouvel objet juste après sa création.\n",
    "\n",
    "Dans l'exemple de la classe `Rationnel`, les méthodes d'addition, de test d'égalité, etc. ne peuvent s'appliquer qu'à des objets ayant des attributs égaux au numérateur et au dénominateur. Pour initialiser les attributs `num` et `den` de chaque objet à sa création on utilise la méthode `__init__` de la façon suivante :"
   ]
  },
  {
   "cell_type": "code",
   "execution_count": 5,
   "metadata": {},
   "outputs": [],
   "source": [
    "class Rationnel:\n",
    "    \"\"\"Manipulation de rationnels définis par leurs numérateur et dénominateur\"\"\"\n",
    "    \n",
    "    def __init__(self, numerateur, denominateur):\n",
    "        \"\"\"Initialise le rationnel avec les valeurs indiquées\"\"\"\n",
    "        self.num = numerateur\n",
    "        self.den = denominateur"
   ]
  },
  {
   "cell_type": "markdown",
   "metadata": {},
   "source": [
    "> **Remarques** : \n",
    "> 1. En Python, le mot `self` n'est pas un mot clé. C'est une simple convention d'usage de nommer ainsi le premier paramètre d'une méthode qui désigne toujours l'objet auquel s'appliquera la méthode (l'objet précédant le `.`)\n",
    "> 2. C'est par la notation `self.num` que l'attribut `num` est créé pour l'objet sur lequel est appelée la méthode.\n",
    "\n",
    "On peut désormais créer un objet `r` par appel du constructeur en fournissant les valeurs des paramètres prévus dans la méthode spéciale d'initialisation. On peut accéder aux attributs de l'objet en utilisant la notation pointée."
   ]
  },
  {
   "cell_type": "code",
   "execution_count": 6,
   "metadata": {},
   "outputs": [
    {
     "data": {
      "text/plain": [
       "(3, 4)"
      ]
     },
     "execution_count": 6,
     "metadata": {},
     "output_type": "execute_result"
    }
   ],
   "source": [
    "r = Rationnel(3, 4)\n",
    "r.num, r.den"
   ]
  },
  {
   "cell_type": "markdown",
   "metadata": {},
   "source": [
    "On peut modifier les attributs d'un objet en les redéfinissant."
   ]
  },
  {
   "cell_type": "code",
   "execution_count": 7,
   "metadata": {},
   "outputs": [
    {
     "data": {
      "text/plain": [
       "(2, 4)"
      ]
     },
     "execution_count": 7,
     "metadata": {},
     "output_type": "execute_result"
    }
   ],
   "source": [
    "r.num = 2  # modification de la valeur du numérateur\n",
    "r.num, r.den"
   ]
  },
  {
   "cell_type": "markdown",
   "metadata": {},
   "source": [
    "> Les attributs `num` et `den` sont propres à chaque objet. Dans la terminologie des langages à objet, on parle d'*attributs d'instance*."
   ]
  },
  {
   "cell_type": "markdown",
   "metadata": {},
   "source": [
    "Notre objet est bien du type abstrait de données `Rationnel` que l'on vient de créer en définissant notre classe."
   ]
  },
  {
   "cell_type": "code",
   "execution_count": 8,
   "metadata": {},
   "outputs": [
    {
     "data": {
      "text/plain": [
       "__main__.Rationnel"
      ]
     },
     "execution_count": 8,
     "metadata": {},
     "output_type": "execute_result"
    }
   ],
   "source": [
    "type(r)"
   ]
  },
  {
   "cell_type": "markdown",
   "metadata": {},
   "source": [
    "> On peut observer avec [python tutor](http://www.pythontutor.com/visualize.html#code=class%20Rationnel%3A%0A%20%20%20%20%22%22%22Manipulation%20de%20rationnels%20d%C3%A9finis%20par%20leurs%20num%C3%A9rateur%20et%20d%C3%A9nominateur%22%22%22%0A%20%20%20%20%0A%20%20%20%20def%20__init__%28self,%20numerateur,%20denominateur%29%3A%0A%20%20%20%20%20%20%20%20%22%22%22Initialise%20le%20rationnel%20avec%20les%20valeurs%20indiqu%C3%A9es%22%22%22%0A%20%20%20%20%20%20%20%20self.num%20%3D%20numerateur%0A%20%20%20%20%20%20%20%20self.den%20%3D%20denominateur%0A%20%20%20%20%0Ar1%20%3D%20Rationnel%281,%204%29%0Ar2%20%3D%20Rationnel%283,%202%29%0Ar1.num%20%3D%20-10&cumulative=true&curInstr=0&heapPrimitives=false&mode=display&origin=opt-frontend.js&py=3&rawInputLstJSON=%5B%5D&textReferences=false) la création des différentes instances d'une classe, l'initialisation de leurs attributs et les modifications d'attributs."
   ]
  },
  {
   "cell_type": "markdown",
   "metadata": {},
   "source": [
    "### Ecriture des méthodes dédiées\n",
    "\n",
    "Si on veut pouvoir manipuler nos objets, il faut ajouter à notre classe les méthodes souhaitées. Par exemple, on ajoute les méthodes `ajouter` et `egal` en définissant deux fonctions dans notre classe."
   ]
  },
  {
   "cell_type": "code",
   "execution_count": 9,
   "metadata": {},
   "outputs": [],
   "source": [
    "class Rationnel:\n",
    "    \"\"\"Manipulation de rationnels définis par leurs numérateur et dénominateur\"\"\"\n",
    "    \n",
    "    def __init__(self, numerateur, denominateur):\n",
    "        \"\"\"Initialise le rationnel avec les valeurs indiquées\"\"\"\n",
    "        self.num = numerateur\n",
    "        self.den = denominateur\n",
    "    \n",
    "    def ajouter(self, other):\n",
    "        \"\"\"Renvoie un nouveau rationnel égal à la somme\"\"\"\n",
    "        num = self.num * other.den + other.num * self.den   # calcul du numerateur\n",
    "        den = self.den * other.den                          # calcul du dénominateur\n",
    "        return Rationnel(num, den)   # on renvoie un nouvel objet 'Rationnel'\n",
    "    \n",
    "    def egal(self, other):\n",
    "        \"\"\"Renvoie Vrai si les deux rationnels sont égaux, Faux sinon.\"\"\"        \n",
    "        return self.num * other.den == other.num * self.den  # produit en croix"
   ]
  },
  {
   "cell_type": "markdown",
   "metadata": {},
   "source": [
    "On peut alors accéder à ces méthodes en utilisant également la notation pointée sur l'objet auquel s'applique la méthode."
   ]
  },
  {
   "cell_type": "code",
   "execution_count": 10,
   "metadata": {},
   "outputs": [
    {
     "data": {
      "text/plain": [
       "(6, 8)"
      ]
     },
     "execution_count": 10,
     "metadata": {},
     "output_type": "execute_result"
    }
   ],
   "source": [
    "r1 = Rationnel(1, 4)\n",
    "r2 = Rationnel(1, 2)\n",
    "r3 = r1.ajouter(r2)  # on ajoute r2 à r1\n",
    "r3.num, r3.den"
   ]
  },
  {
   "cell_type": "code",
   "execution_count": 11,
   "metadata": {},
   "outputs": [
    {
     "data": {
      "text/plain": [
       "True"
      ]
     },
     "execution_count": 11,
     "metadata": {},
     "output_type": "execute_result"
    }
   ],
   "source": [
    "r4 = Rationnel(3, 4)\n",
    "r3.egal(r4)  # pour vérifier si r3 = r4"
   ]
  },
  {
   "cell_type": "markdown",
   "metadata": {},
   "source": [
    "> **Remarque** : Vous noterez que l'on fournit toujours un paramètre de moins lors de l'appel à une méthode que dans la définition de la méthode. En effet, le paramètre `self` n'est pas utilisé car il désigne la référence à l'objet auquel s'applique la méthode."
   ]
  },
  {
   "cell_type": "markdown",
   "metadata": {},
   "source": [
    "On peut utiliser la fonction `dir` pour lister tous les attributs et méthodes d'un objet."
   ]
  },
  {
   "cell_type": "code",
   "execution_count": 12,
   "metadata": {
    "scrolled": true
   },
   "outputs": [
    {
     "data": {
      "text/plain": [
       "['__class__',\n",
       " '__delattr__',\n",
       " '__dict__',\n",
       " '__dir__',\n",
       " '__doc__',\n",
       " '__eq__',\n",
       " '__format__',\n",
       " '__ge__',\n",
       " '__getattribute__',\n",
       " '__gt__',\n",
       " '__hash__',\n",
       " '__init__',\n",
       " '__init_subclass__',\n",
       " '__le__',\n",
       " '__lt__',\n",
       " '__module__',\n",
       " '__ne__',\n",
       " '__new__',\n",
       " '__reduce__',\n",
       " '__reduce_ex__',\n",
       " '__repr__',\n",
       " '__setattr__',\n",
       " '__sizeof__',\n",
       " '__str__',\n",
       " '__subclasshook__',\n",
       " '__weakref__',\n",
       " 'ajouter',\n",
       " 'den',\n",
       " 'egal',\n",
       " 'num']"
      ]
     },
     "execution_count": 12,
     "metadata": {},
     "output_type": "execute_result"
    }
   ],
   "source": [
    "r= Rationnel(5, 3)\n",
    "dir(r)"
   ]
  },
  {
   "cell_type": "markdown",
   "metadata": {},
   "source": [
    "On constate qu'il y a de nombreuses méthodes spéciales repérables par leur nom encadré de `__`. Ces méthodes sont appelées dans des contextes particuliers et peuvent être redéfinies par le programmeur pour une classe particulière. \n",
    "\n",
    "L'usage de ces méthodes spéciales n'est pas un attendu du programme mais cela peut se révéler très utile. C'est pourquoi nous en présenterons quelques-unes."
   ]
  },
  {
   "cell_type": "markdown",
   "metadata": {},
   "source": [
    "### Méthodes spéciales en Python\n",
    "\n",
    "Nous nous contenterons ici de présenter deux méthodes spéciales (quelques autres seront évoquées dans les activités) :\n",
    "- la méthode `__repr__(self)` est appelée pour convertir en une chaîne \"évaluable\" un objet ;\n",
    "- la méthode `__eq__(self, other)` est appelée pour tester l'égalité entre deux objets.\n",
    "\n",
    "On pourrait être tenté d'afficher une instance ou de tester l'égalité entre deux instances d'une même classe. Par exemple, avec notre classe `Rationnel` on aimerait écrire."
   ]
  },
  {
   "cell_type": "code",
   "execution_count": 13,
   "metadata": {},
   "outputs": [
    {
     "data": {
      "text/plain": [
       "<__main__.Rationnel at 0x19f317586d8>"
      ]
     },
     "execution_count": 13,
     "metadata": {},
     "output_type": "execute_result"
    }
   ],
   "source": [
    "r1 = Rationnel(1, 2)\n",
    "r2 = Rationnel(1, 2)\n",
    "r1 # ou print(r1) "
   ]
  },
  {
   "cell_type": "code",
   "execution_count": 14,
   "metadata": {},
   "outputs": [
    {
     "data": {
      "text/plain": [
       "False"
      ]
     },
     "execution_count": 14,
     "metadata": {},
     "output_type": "execute_result"
    }
   ],
   "source": [
    "r1 == r2 # test d'égalité"
   ]
  },
  {
   "cell_type": "markdown",
   "metadata": {},
   "source": [
    "Nous ne pouvons nous satisfaire des résultats. L'évaluation d'un objet et le test d'égalité (avec les notations habituelles) font appel respectivement aux méthodes `__repr__` et `__eq__` que nous avons besoin de redéfinir pour obtenir des résultats cohérents."
   ]
  },
  {
   "cell_type": "code",
   "execution_count": 15,
   "metadata": {},
   "outputs": [],
   "source": [
    "class Rationnel:\n",
    "    \"\"\"Manipulation de rationnels définis par leurs numérateur et dénominateur\"\"\"\n",
    "    \n",
    "    def __init__(self, numerateur, denominateur):\n",
    "        \"\"\"Initialise le rationnel avec les valeurs indiquées\"\"\"\n",
    "        self.num = numerateur\n",
    "        self.den = denominateur\n",
    "    \n",
    "    def ajouter(self, other):\n",
    "        \"\"\"Renvoie un nouveau rationnel égal à la somme\"\"\"\n",
    "        num = self.num * other.den + other.num * self.den   # calcul du numerateur\n",
    "        den = self.den * other.den                          # calcul du dénominateur\n",
    "        return Rationnel(num, den)   # on renvoie un nouvel objet 'Rationnel'\n",
    "    \n",
    "    def egal(self, other):\n",
    "        \"\"\"Renvoie Vrai si les deux rationnels sont égaux, Faux sinon.\"\"\"        \n",
    "        return self.num * other.den == other.num * self.den  # produit en croix\n",
    "    \n",
    "    def __repr__(self):\n",
    "        return str(self.num) + \"/\" + str(self.den)\n",
    "    \n",
    "    def __eq__(self, other):  # on pourrait aussi écrire simplement __eq__ = egal\n",
    "        return self.num * other.den == other.num * self.den"
   ]
  },
  {
   "cell_type": "markdown",
   "metadata": {},
   "source": [
    "On peut désormais utiliser les instructions classiques d'évaluation (ou d'affichage) et de test d'égalité avec les objets de notre classe."
   ]
  },
  {
   "cell_type": "code",
   "execution_count": 16,
   "metadata": {},
   "outputs": [
    {
     "data": {
      "text/plain": [
       "1/2"
      ]
     },
     "execution_count": 16,
     "metadata": {},
     "output_type": "execute_result"
    }
   ],
   "source": [
    "r1 = Rationnel(1, 2)\n",
    "r2 = Rationnel(1, 2)\n",
    "r1 # ou print(r1)"
   ]
  },
  {
   "cell_type": "code",
   "execution_count": 17,
   "metadata": {},
   "outputs": [
    {
     "data": {
      "text/plain": [
       "True"
      ]
     },
     "execution_count": 17,
     "metadata": {},
     "output_type": "execute_result"
    }
   ],
   "source": [
    "r1 == r2"
   ]
  },
  {
   "cell_type": "markdown",
   "metadata": {},
   "source": [
    "> **Que se passe-t-il pour la dernière instruction ?** Python reconnaît qu'il doit tester l'égalité entre deux instances de la classe `Rationnel`. Ce test (`==`) invoque la méthode spéciale `__eq__` de la classe `Rationnel`. Plus précisément, `r1 == r2` appelle `r1.__eq__(r2)` et comme nous venons de définir cette méthode, le résultat est cohérent. On peut désormais tester l'égalité de deux rationnels sans utiliser l'instruction un peu plus lourde `r1.egal(r2)`."
   ]
  },
  {
   "cell_type": "markdown",
   "metadata": {},
   "source": [
    "# Bilan\n",
    "\n",
    "La *paradigme objet* est une autre façon de voir la programmation qui consiste à utiliser un structure de donnée appelée *objet* qui réunit des données et des fonctionnalités. Les données sont appelées **atributs** et les fonctionnalités sont appelées **méthodes**.\n",
    "\n",
    "Une **classe** permet de définir un modèle d'objet en spécifiant des attributs et des méthodes. On peut ensuite utiliser cette classe pour fabriquer des objets selon ce modèle.\n",
    "\n",
    "En Python, on utilise le mot clé `class` pour définir une classe qui devient alors un nouveau type abstrait de données. On peut alors créer de nouveaux objets en appelant le constructeur qui porte le nom de la classe. Les objets ainsi créés s'appellent des *instances* de la classe. \n",
    "\n",
    "En Python, la méthode spéciale `__init__` est appelée à la construction d'un nouvel objet. C'est dans cette méthode que l'on définit les attributs de nos objets.\n",
    "\n",
    "Les attributs et méthodes d'une instance de classe sont accessibles en utilisant la notation pointée : `objet.attribut` et `objet.methode(arguments)`."
   ]
  },
  {
   "cell_type": "markdown",
   "metadata": {},
   "source": [
    "---\n",
    "\n",
    "**Références :**\n",
    "- Documents ressources de l'équipe éducative du DIU EIL, Université de Nantes, Christophe DECLERCQ.\n",
    "- Documentation officielle de Python sur [les classes](https://docs.python.org/fr/3/tutorial/classes.html).\n",
    "- Documentation officielle de Python sur [les méthodes spéciales](https://docs.python.org/3/reference/datamodel.html#special-method-names).\n",
    "---\n",
    "Germain BECKER, Lycée Mounier, ANGERS\n",
    "\n",
    "Ressource éducative libre distribuée sous [Licence Creative Commons Attribution - Pas d’Utilisation Commerciale - Partage dans les Mêmes Conditions 4.0 International](http://creativecommons.org/licenses/by-nc-sa/4.0/) \n",
    "\n",
    "![Licence Creative Commons](https://i.creativecommons.org/l/by-nc-sa/4.0/88x31.png)"
   ]
  },
  {
   "cell_type": "markdown",
   "metadata": {},
   "source": [
    "**Notes**\n",
    "\n",
    "- faire un lien vers python tutor pour observer les différents objets\n",
    "- aborder les méthodes de classe dans les activités (utile pour des opérations comme milieu, longueur, etc.)\n",
    "- parler des accesseurs et mutateurs dans les activités\n",
    "- faire créer un module à partir d'une classe pour l'utiliser ailleurs\n",
    "- en devoir : classe Voiture avec attribut vitesse et méthodes accélérer, freiner, s'arrêter, klaxonner"
   ]
  },
  {
   "cell_type": "code",
   "execution_count": null,
   "metadata": {},
   "outputs": [],
   "source": []
  }
 ],
 "metadata": {
  "celltoolbar": "Format de la Cellule Texte Brut",
  "kernelspec": {
   "display_name": "Python 3",
   "language": "python",
   "name": "python3"
  },
  "language_info": {
   "codemirror_mode": {
    "name": "ipython",
    "version": 3
   },
   "file_extension": ".py",
   "mimetype": "text/x-python",
   "name": "python",
   "nbconvert_exporter": "python",
   "pygments_lexer": "ipython3",
   "version": "3.7.3"
  }
 },
 "nbformat": 4,
 "nbformat_minor": 2
}
