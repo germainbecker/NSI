{
 "cells": [
  {
   "cell_type": "markdown",
   "metadata": {},
   "source": [
    "# Défi des vacances de Noël\n",
    "\n",
    "> Vous pouvez tenter de résoudre ce défi directement dans le notebook ou utiliser un éditeur de code de votre choix en écrivant le script dans un fichier `.py` classique. Vous enverrez le notebook (format .ipynb) ou le fichier Python (.py) avec votre code et vos explications. \n",
    "\n",
    "<img src=\"https://raw.githubusercontent.com/germainbecker/NSI/8aba20f3a0bbe38a15dbc684b50bc6e5e15efbde/Terminale/D%C3%A9fis/Personnalite_cachee/data/santa-claus.svg\" alt=\"père noël\" width=\"200\">\n",
    "\n",
    "Une photo d'une personnalité importante de l'informatique a été chiffrée par un individu malveillant.\n",
    "\n",
    "Le fichier image récupéré s'appelle `personnalite_importante.png`. Voici l'image correspondante :\n",
    "\n",
    "![image chiffrée](https://github.com/germainbecker/NSI/blob/master/Terminale/D%C3%A9fis/Personnalite_cachee/personnalite_importante.png?raw=true)\n",
    "\n",
    "> Cette image est chargée et accessible dans le répertoire courant de ce notebook. Elle est aussi téléchargeable si besoin en cliquant <a href=\"https://github.com/germainbecker/NSI/blob/master/Terminale/D%C3%A9fis/Personnalite_cachee/personnalite_importante.png?raw=true\" download target=\"_blank\">ici</a>.\n",
    "\n",
    "Dans cette image, chaque octet (un octet correspond à une composante couleur d'un pixel), a été mis à l'envers.\n",
    "\n",
    "Par exemple, l'octet 59 (`00111011` en binaire) a été remplacé par 220 (`11011100` en binaire, c'est-à-dire `00111011` lu à l'envers)."
   ]
  },
  {
   "cell_type": "markdown",
   "metadata": {},
   "source": [
    "<p style=\"font-size: 25px\"><strong>Quelle est l'identité de la personnalité ?</strong></p>"
   ]
  },
  {
   "cell_type": "markdown",
   "metadata": {},
   "source": [
    "- Vous utiliserez le module `Image` de la bibliothèque `PIL` (`Pillow` : [documentation officielle](https://pillow.readthedocs.io/en/stable/))\n",
    "- Vous découperez le problème en plusieurs tâches importantes, chacune étant codée par une fonction.\n",
    "\n",
    "--- \n",
    "\n",
    "Voici quelques rappels qui pourront éventuellement vous servir.\n",
    "\n",
    "### Convertir un nombre de l'écriture décimale en écriture binaire"
   ]
  },
  {
   "cell_type": "code",
   "execution_count": null,
   "metadata": {},
   "outputs": [],
   "source": [
    "bin(52)"
   ]
  },
  {
   "cell_type": "markdown",
   "metadata": {},
   "source": [
    "L'écriture binaire de l'entier 52 est donc `110100`.\n",
    "\n",
    "> Vous pouvez aussi utiliser la fonction de conversion `int2bin` écrite dans les activités du chapitre 1 du thème 1 de Première. "
   ]
  },
  {
   "cell_type": "markdown",
   "metadata": {},
   "source": [
    "### Convertir un nombre de l'écriture binaire en écriture décimale"
   ]
  },
  {
   "cell_type": "code",
   "execution_count": null,
   "metadata": {},
   "outputs": [],
   "source": [
    "int(\"10011\",2)"
   ]
  },
  {
   "cell_type": "markdown",
   "metadata": {},
   "source": [
    "L'écriture décimale du nombre binaire `10011` est donc 19.\n",
    "\n",
    "> Vous pouvez aussi utiliser la fonction de conversion `bin2int` écrite dans les activités du chapitre 1 du thème 1 de Première. "
   ]
  },
  {
   "cell_type": "markdown",
   "metadata": {},
   "source": [
    "### Utilisation de la bibliothèque `PIL` \n",
    "\n",
    "#### Pour importer le module et ouvrir l'image"
   ]
  },
  {
   "cell_type": "code",
   "execution_count": null,
   "metadata": {},
   "outputs": [],
   "source": [
    "from PIL import Image  # importation du module Image de la bibliothèque PIL\n",
    "img_chiffree = Image.open(\"personnalite_importante.png\")  # ouverture de l'image\n",
    "img_chiffree.show()  # pour afficher l'image"
   ]
  },
  {
   "cell_type": "markdown",
   "metadata": {},
   "source": [
    "> **Remarque** : si vous utilisez Jupyter Notebook pour travailler, vous pouvez aussi remplacer la dernière instruction par `display(img_chiffree)` afin d'afficher l'image directement *dans* le notebook."
   ]
  },
  {
   "cell_type": "markdown",
   "metadata": {},
   "source": [
    "#### Pour manipuler les pixels d'une image\n",
    "\n",
    "Voir l'activité sur la rotation d'un quart de tour d'une image !\n",
    "\n",
    "On peut aussi utiliser la méthode `getdata` pour récupérer un tableau avec les composantes RVB de chaque pixel."
   ]
  },
  {
   "cell_type": "code",
   "execution_count": null,
   "metadata": {},
   "outputs": [],
   "source": [
    "t = list(img_chiffree.getdata())\n",
    "t "
   ]
  },
  {
   "cell_type": "markdown",
   "metadata": {},
   "source": [
    "Et la méthode `putdata` pour définir les pixels d'une image à partir d'un tableau de tuples."
   ]
  },
  {
   "cell_type": "code",
   "execution_count": null,
   "metadata": {},
   "outputs": [],
   "source": [
    "im = Image.new(\"RGB\", (3, 3)) # création d'une image de taille 3*3 pixels\n",
    "pixels = [(255, 255, 255), (255, 255, 0), (0, 255, 255),\n",
    "          (0, 0, 0), (255, 0, 0), (0, 255, 0),\n",
    "          (0, 0, 255), (74, 84, 175), (51, 31, 4)]\n",
    "im.putdata(pixels)  # pour remplacer les pixels de l'image im par ceux du tableau pixels\n",
    "im.show()  # l'image affichée est minuscule (3*3 pixels)"
   ]
  },
  {
   "cell_type": "markdown",
   "metadata": {},
   "source": [
    "> **Remarque** : si vous utilisez Jupyter Notebook pour travailler, vous pouvez aussi remplacer la dernière instruction par `display(im)` afin d'afficher l'image directement *dans* le notebook."
   ]
  },
  {
   "cell_type": "markdown",
   "metadata": {},
   "source": [
    "À vous de jouer !"
   ]
  },
  {
   "cell_type": "code",
   "execution_count": null,
   "metadata": {},
   "outputs": [],
   "source": []
  },
  {
   "cell_type": "markdown",
   "metadata": {},
   "source": [
    "---\n",
    "\n",
    "**Références** :\n",
    "- Gilles Lassus, pour l'idée de l'activité : [ici](https://nbviewer.jupyter.org/github/glassus/nsi/blob/master/Premiere/DM/DM1/DM1.ipynb)\n",
    "- Le défi original est issue du site pydefis : [portrait coloré](https://pydefis.callicode.fr/defis/LePortraitColore/txt)\n",
    "\n",
    "---\n",
    "Auteur : Germain Becker, Licence : CC0."
   ]
  }
 ],
 "metadata": {
  "kernelspec": {
   "display_name": "Python 3",
   "language": "python",
   "name": "python3"
  },
  "language_info": {
   "codemirror_mode": {
    "name": "ipython",
    "version": 3
   },
   "file_extension": ".py",
   "mimetype": "text/x-python",
   "name": "python",
   "nbconvert_exporter": "python",
   "pygments_lexer": "ipython3",
   "version": "3.7.10"
  }
 },
 "nbformat": 4,
 "nbformat_minor": 2
}
