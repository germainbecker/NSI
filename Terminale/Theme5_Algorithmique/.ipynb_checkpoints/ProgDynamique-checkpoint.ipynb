{
 "cells": [
  {
   "cell_type": "markdown",
   "metadata": {},
   "source": [
    "# Introduction\n",
    "\n",
    "On dispose de la grille $2 \\times 3$ ci-dessous.\n",
    "\n",
    "<img class=\"centre image-responsive\" alt=\"une grille\" src=\"data/prog_dyn_intro.png\">\n",
    "\n",
    "**Question** : Combien de chemins mènent du coin supérieur gauche au coin inférieur droit, en se déplaçant uniquement le long des traits horizontaux vers la droite et le long des traits verticaux vers le bas ? Et pour une grille $10 \\times 10$ ?"
   ]
  },
  {
   "cell_type": "markdown",
   "metadata": {},
   "source": [
    "# Principe de la programmation dynamique"
   ]
  },
  {
   "cell_type": "markdown",
   "metadata": {},
   "source": [
    "<div class=\"important\">\n",
    "    <p>La <strong>programmation dynamique</strong> est une technique dûe à <a href=\"https://fr.wikipedia.org/wiki/Richard_Bellman\" target=\"_blank\">Richard Bellman</a> dans les années 1950. À l'origine, cette méthode algorithmique était utilisée pour résoudre des problèmes d'optimisation. L'idée générale est de déterminer un résultat sur la base de calculs précédents.</p>\n",
    "    <p>Plus précisément, la programmation dynamique consiste à résoudre un problème en le décomposant en sous-problèmes, puis à résoudre les sous-problèmes, des plus petits au plus grands <strong>en stockant les résultats intermédiaires</strong>.\n",
    "</div>"
   ]
  },
  {
   "cell_type": "markdown",
   "metadata": {},
   "source": [
    ">Le terme *programmation* désigne la *planification*, et n'a pas de rapport avec les langages de programmation.\n",
    "\n",
    "Nous allons illustrer le principe de la programmation dynamique sur le calcul du $n$-ième terme de la suite de Fibonacci."
   ]
  },
  {
   "cell_type": "markdown",
   "metadata": {},
   "source": [
    "# La suite de Fibonacci\n",
    "\n",
    "## Rappels sur la suite de Fibonacci\n",
    "\n",
    "On a déjà abordé cette suite lorsque nous avons parlé de la programmation récursive ([Thème 4, Chapitre 1](https://nbviewer.jupyter.org/github/germainbecker/NSI/blob/master/Terminale/Theme4_Langage_programmation/Activites_Recursivite.ipynb#Activit%C3%A9-4-:-Suite-de-Fibonacci)). Mais voilà quelques rappels :\n",
    "\n",
    "La suite de Fibonnacci est une suite de nombres dont chacun est la somme des deux précédents. Le premier et le second nombres sont égaux à 0 et 1 respectivement. On obtient la suite de nombres : 0 - 1 - 1 - 2 - 3 - 5 - 8 - 13 - 21 - ...\n",
    "\n",
    "Mathématiquement, cette suite notée $(F_n)$ est donc définie par :\n",
    "\n",
    "$$\\left\\{\n",
    "\\begin{array}{l}\n",
    "  F_0 = 0 \\\\\n",
    "  F_1 = 1 \\\\\n",
    "  F_{n} = F_{n-1} + F_{n-2} \\text{ pour tout entier } n \\geqslant 2\n",
    "\\end{array}\n",
    "\\right.$$"
   ]
  },
  {
   "cell_type": "markdown",
   "metadata": {},
   "source": [
    "## Version récursive naïve (et inefficace)\n",
    "\n",
    "Vous avez déjà programmé une version récursive qui renvoie le terme de rang $n$ de cette suite."
   ]
  },
  {
   "cell_type": "code",
   "execution_count": 1,
   "metadata": {},
   "outputs": [],
   "source": [
    "def fibo(n):\n",
    "    \"\"\"Version récursive naïve\"\"\"\n",
    "    if n <= 1:\n",
    "        return n\n",
    "    else:\n",
    "        return fibo(n-1) + fibo(n-2)"
   ]
  },
  {
   "cell_type": "markdown",
   "metadata": {},
   "source": [
    "Par exemple, voici l'arbre des appels récursifs si on lance `fibo(5)`.\n",
    "\n",
    "```\n",
    "                           fib(5)   \n",
    "                     /                \\\n",
    "               fib(4)                fib(3)   \n",
    "             /        \\              /       \\ \n",
    "         fib(3)      fib(2)         fib(2)   fib(1)\n",
    "        /    \\       /    \\        /      \\\n",
    "  fib(2)   fib(1)  fib(1) fib(0) fib(1) fib(0)\n",
    "  /     \\\n",
    "fib(1) fib(0)\n",
    "```"
   ]
  },
  {
   "cell_type": "markdown",
   "metadata": {},
   "source": [
    "On se rend compte qu'il y a beaucoup d'appels redondants : `fib(1)` a été lancé 5 fois, `fib(2)` a été lancé 3 fois, etc.\n",
    "\n",
    "Ces redondances entraînent un nombre d'appels récursifs qui explose rapidement dès que $n$ est élevé. Par conséquent, les temps de calcul deviennent vite très élevés. Pire, dès que $n$ est trop grand, l'algorithme ne donnera jamais la réponse."
   ]
  },
  {
   "cell_type": "code",
   "execution_count": 2,
   "metadata": {},
   "outputs": [
    {
     "name": "stdout",
     "output_type": "stream",
     "text": [
      "Wall time: 0 ns\n"
     ]
    },
    {
     "data": {
      "text/plain": [
       "5"
      ]
     },
     "execution_count": 2,
     "metadata": {},
     "output_type": "execute_result"
    }
   ],
   "source": [
    "%time fibo(5)"
   ]
  },
  {
   "cell_type": "code",
   "execution_count": 3,
   "metadata": {},
   "outputs": [
    {
     "name": "stdout",
     "output_type": "stream",
     "text": [
      "Wall time: 367 ms\n"
     ]
    },
    {
     "data": {
      "text/plain": [
       "832040"
      ]
     },
     "execution_count": 3,
     "metadata": {},
     "output_type": "execute_result"
    }
   ],
   "source": [
    "%time fibo(30)"
   ]
  },
  {
   "cell_type": "code",
   "execution_count": 4,
   "metadata": {},
   "outputs": [
    {
     "name": "stdout",
     "output_type": "stream",
     "text": [
      "Wall time: 12.9 s\n"
     ]
    },
    {
     "data": {
      "text/plain": [
       "24157817"
      ]
     },
     "execution_count": 4,
     "metadata": {},
     "output_type": "execute_result"
    }
   ],
   "source": [
    "%time fibo(37)"
   ]
  },
  {
   "cell_type": "markdown",
   "metadata": {},
   "source": [
    "> Il est possible de faire mieux, en évitant de refaire les calculs déjà effectués. Pour cela, il faut **stocker les résultats intermédiaires** !"
   ]
  },
  {
   "cell_type": "markdown",
   "metadata": {},
   "source": [
    "## Version récursive avec *mémoïsation*\n",
    "\n",
    "Une première approche est d'adapter l'algorithme récursif en stockant les résultats calculés dans un tableau ou un dictionnaire. Lors d'un appel, on commence par vérifier si on ne connaît pas déjà la réponse, auquel cas on la renvoie directement, ce qui évite d'effectuer des calculs redondants.\n",
    "\n",
    "Cela donne la fonction `fibo_memo` suivante qui prend en paramètres un entier `n` et un dictionnaire `memo` que l'on met à jour en stockant les résultats intermédiaires au fur et à mesure."
   ]
  },
  {
   "cell_type": "code",
   "execution_count": 5,
   "metadata": {},
   "outputs": [],
   "source": [
    "def fibo_memo(n, memo):\n",
    "    if n in memo:      # si calcul déjà effectué\n",
    "        return memo[n] # on renvoie directement sa valeur\n",
    "    elif n <= 1:\n",
    "        memo[n] = n\n",
    "        return memo[n]\n",
    "    else:\n",
    "        memo[n] = fibo_memo(n-1, memo) + fibo_memo(n-2, memo)\n",
    "        return memo[n]"
   ]
  },
  {
   "cell_type": "markdown",
   "metadata": {},
   "source": [
    "**Explications** : \n",
    "\n",
    "- Lignes 2 et 3 : si la valeur `n` est déjà dans le dictionnaire, c'est qu'on a déjà calculé $F_n$ et il suffit alors de renvoyer sa valeur `mem[n]` (la valeur associée à `n`).\n",
    "- Lignes 4 à 9 : quasiment identiques à la version récursive naïve à ceci près que l'on mémorise la valeur dans le dictionnaire `memo` avant de la renvoyer\n",
    "- De cette façon, dès qu'une valeur $F_n$ a été calculée, elle est ajoutée dans le dictionnaire comme la valeur associée à $n$, ce qui permet de la réutiliser directement dès qu'on en a besoin.\n",
    "\n",
    "Il n'y a plus qu'à lancer le premier appel avec un dictionnaire vide, c'est ce que fait la fonction `fibo` suivante."
   ]
  },
  {
   "cell_type": "code",
   "execution_count": 6,
   "metadata": {},
   "outputs": [],
   "source": [
    "def fibo(n):\n",
    "    \"\"\"Version récursive avec mémoïsation\"\"\"\n",
    "    F = {}\n",
    "    return fibo_memo(n, F)"
   ]
  },
  {
   "cell_type": "markdown",
   "metadata": {},
   "source": [
    "Avec ce procédé de mémoïsation, l'arbre des appels est considérablement réduit puisqu'il n'y a plus aucun appel redondant. Par exemple, l'arbre des appels récursifs en lançant `fibo(5)` se réduit à :\n",
    "\n",
    "```\n",
    "                           fib(5)   \n",
    "                     /                \\\n",
    "               fib(4)                fib(3)   \n",
    "             /        \\ \n",
    "         fib(3)      fib(2)         \n",
    "        /    \\       \n",
    "  fib(2)   fib(1)  \n",
    "  /     \\\n",
    "fib(1) fib(0)\n",
    "```"
   ]
  },
  {
   "cell_type": "markdown",
   "metadata": {},
   "source": [
    "On constate alors qu'avec cette version, les valeurs $F_n$ sont calculées quasiment instantanément et que l'on peut obtenir les valeurs $F_n$ pour des grandes valeurs de $n$. "
   ]
  },
  {
   "cell_type": "code",
   "execution_count": 7,
   "metadata": {},
   "outputs": [
    {
     "name": "stdout",
     "output_type": "stream",
     "text": [
      "Wall time: 0 ns\n"
     ]
    },
    {
     "data": {
      "text/plain": [
       "5"
      ]
     },
     "execution_count": 7,
     "metadata": {},
     "output_type": "execute_result"
    }
   ],
   "source": [
    "%time fibo(5)"
   ]
  },
  {
   "cell_type": "code",
   "execution_count": 8,
   "metadata": {},
   "outputs": [
    {
     "name": "stdout",
     "output_type": "stream",
     "text": [
      "Wall time: 0 ns\n"
     ]
    },
    {
     "data": {
      "text/plain": [
       "832040"
      ]
     },
     "execution_count": 8,
     "metadata": {},
     "output_type": "execute_result"
    }
   ],
   "source": [
    "%time fibo(30)"
   ]
  },
  {
   "cell_type": "code",
   "execution_count": 9,
   "metadata": {},
   "outputs": [
    {
     "name": "stdout",
     "output_type": "stream",
     "text": [
      "Wall time: 0 ns\n"
     ]
    },
    {
     "data": {
      "text/plain": [
       "24157817"
      ]
     },
     "execution_count": 9,
     "metadata": {},
     "output_type": "execute_result"
    }
   ],
   "source": [
    "%time fibo(37)"
   ]
  },
  {
   "cell_type": "code",
   "execution_count": 10,
   "metadata": {},
   "outputs": [
    {
     "name": "stdout",
     "output_type": "stream",
     "text": [
      "Wall time: 2.04 ms\n"
     ]
    },
    {
     "data": {
      "text/plain": [
       "1949885951587339044875793733356219760673772926586260591210358470405525665390243100575540781157408285819450131557173898143210104351541330710230926558457389046268596497514105167175"
      ]
     },
     "execution_count": 10,
     "metadata": {},
     "output_type": "execute_result"
    }
   ],
   "source": [
    "%time fibo(850)"
   ]
  },
  {
   "cell_type": "markdown",
   "metadata": {},
   "source": [
    "### Méthode *descendante*\n",
    "\n",
    "La version récursive avec mémoïsation correspond à une approche *descendante*, aussi appelée *haut-bas* (ou *top-down* en anglais). En effet, pour connaître $F_n$ on lance l'appel `fibo(n)` qui déclenche la descente d'appels récursifs jusqu'aux cas de base pour lesquels on mémorise les résultats. Dans un second temps, on remonte les appels tout en mémorisant leurs résultats pour ne pas résoudre plusieurs fois le même problème.\n",
    "\n",
    "Finalement, avec cette méthode, c'est lors de la remontée des appels que leurs résultats sont mémorisés puis réutilisés sur les problèmes plus grands. On peut alors se demander si on ne peut pas procéder directement du plus petit sous-problème au plus grand (celui que l'on veut résoudre). La réponse est oui ! Et on explique cela de suite."
   ]
  },
  {
   "cell_type": "markdown",
   "metadata": {},
   "source": [
    "## Version itérative *ascendante*\n",
    "\n",
    ">On parle aussi de méthode *bas-haut*, ou *bottom-up* en anglais.\n",
    "\n",
    "Une autre manière de résoudre le problème est d'utiliser une approche *ascendante*. \n",
    "\n",
    "Il s'agit d'une méthode **itérative** dans laquelle on commence par calculer des solutions pour les sous-problèmes les plus petis puis, de proche en proche, on arrivera à la taille voulue. Comme précédemment, on utilise le principe de la mémoïsation pour stocker les résultats partiels.\n",
    "\n",
    "Le calcul du terme $F_n$ de la suite de la Fibonacci n'est pas un problème d'optimisation, ainsi le calcul d'une solution d'un problème à partir des solutions connues des sous-problèmes est simple puisqu'il n'y a aucun choix à faire.\n",
    "\n",
    "De manière générale, on utilise un tableau pour stocker les résultats au fur et à mesure. Voici les étapes habituelles :\n",
    "\n",
    "1. **Création et initialisation du tableau** : \n",
    "    - On a besoin d'un tableau `F` de taille $n+1$ qui va contenir les valeurs $F_0$, $F_1$, ..., $F_n$ dans cet ordre\n",
    "    - Pour cela on crée le tableau `F` avec $n+1$ zéros initialement\n",
    "    - On peut stocker les valeurs déjà connues ($F_0$ et $F_1$ dans notre cas)\n",
    "2. **Utilisation de la formule de récurrence pour remplir le reste du tableau** :\n",
    "    - La formule de récurrence donne la solution d'un sous-problème à partir de celles de sous-problèmes plus petits et donc déjà traités ! Ici on a pour $2\\leq i \\leq n$ : $F_i =  F_{i-1} + F_{i-2}$\n",
    "    - On peut donc remplir le tableau `F` en parcourant les indices **par ordre croissant** : on va mettre dans `F[i]` la valeur `F[i-1] + F[i-2]` que l'on connaît puisque ces deux valeurs ont été calculés précédemment.\n",
    "3. **Le résultat est dans la dernier case du tableau** : on la renvoie !\n",
    "\n",
    "Cela donne la fonction suivante."
   ]
  },
  {
   "cell_type": "code",
   "execution_count": 11,
   "metadata": {},
   "outputs": [],
   "source": [
    "def fibo(n):\n",
    "    \"\"\"Version itérative ascendante\"\"\"\n",
    "    F = [0] * (n+1)\n",
    "    F[0] = 0  # pas indispensable car déjà initialisé à 0\n",
    "    F[1] = 1\n",
    "    for i in range(2, n + 1):\n",
    "        F[i] = F[i-1] + F[i-2]\n",
    "    return F[n]"
   ]
  },
  {
   "cell_type": "markdown",
   "metadata": {},
   "source": [
    "Les performances sont semblables à la version récursive avec mémoïsation"
   ]
  },
  {
   "cell_type": "code",
   "execution_count": 12,
   "metadata": {},
   "outputs": [
    {
     "name": "stdout",
     "output_type": "stream",
     "text": [
      "Wall time: 0 ns\n"
     ]
    },
    {
     "data": {
      "text/plain": [
       "1949885951587339044875793733356219760673772926586260591210358470405525665390243100575540781157408285819450131557173898143210104351541330710230926558457389046268596497514105167175"
      ]
     },
     "execution_count": 12,
     "metadata": {},
     "output_type": "execute_result"
    }
   ],
   "source": [
    "%time fibo(850)"
   ]
  },
  {
   "cell_type": "markdown",
   "metadata": {},
   "source": [
    "# Autres problèmes\n",
    "\n",
    "Il existe de nombreux problèmes pouvant être résolus avec le paradigme de la programmation dynamique, dont beaucoup de problèmes d'optimisation :\n",
    "\n",
    "- Problème du rendu de monnaie (traité en exercice)\n",
    "- Problème du sac-à-dos (version gloutonne abordée en classe de Première)\n",
    "- Alignement de séquences (traité en exercice)\n",
    "- Problème du plus court chemin ([Algorithme de Bellman-Ford](https://fr.wikipedia.org/wiki/Algorithme_de_Bellman-Ford) utilisé par le protocole RIP)\n",
    "- Problèmes d'ordonnancement d'intervalles pondérés ([voir ici](http://www-desir.lip6.fr/~spanjaard/pmwiki/uploads/ProgrammationDynamique.pdf))\n",
    "- Toutes sortes de problème d'affectation des ressources\n",
    "- etc.\n",
    "\n",
    ">Passez aux exercices !"
   ]
  },
  {
   "cell_type": "markdown",
   "metadata": {},
   "source": [
    "Le programme officiel cite les exemples du rendu de monnaie et de l'alignement de séquences comme des exemples pouvant être présentés. Il sont détaillés en exercices mais voici tout de même un résumé condensé qui pourra servir de révisions.\n",
    "\n",
    "## Rendu de monnaie\n",
    "\n",
    "On a vu en Première que l'on peut résoudre ce problème avec un algorithme glouton mais que ce dernier ne fournit pas nécessairement une solution optimale (et parfois fausse selon le système monétaire utilisé).\n",
    "\n",
    "Une autre approche est d'utiliser la force brute en testant toutes les combinaisons possibles. On peut le faire de manière récursive mais le nombre de combinaisons à tester devient vite trop important pour que cette solution soit satisfaisante.\n",
    "\n",
    "### Relation de récurrence\n",
    "\n",
    "On peut chercher à exprimer le problème (rendre une somme $n$) à partir de sous-problèmes plus petits (rendre une somme plus petite que $n$). On aboutit à la relation de récurrence suivante sur le nombre de pièces optimal pour rendre une somme $n$ : \n",
    "\n",
    "$$\\text{nb_pieces}(n) = \\left\\{\n",
    "\\begin{array}{l}\n",
    "  0 \\hspace{5cm} \\textrm{ si } n = 0\\\\\n",
    "  1 + \\displaystyle\\min_{p\\leq n}(\\text{nb_pieces}(n-p)) \\hspace{0.5cm} \\textrm{ sinon }\n",
    "\\end{array}\n",
    "\\right.$$"
   ]
  },
  {
   "cell_type": "markdown",
   "metadata": {},
   "source": [
    "En effet, l'idée est la suivante : pour rendre la somme $n$ de façon optimale il faut rendre une pièce $p$ est la somme $n-p$ de façon optimale. Pour cela, il faut tester toutes les pièces $p$ possibles et prendre celle qui minimise le nombre de pièces pour rendre pour la somme $n-p$ (d'où la recherche du minimum) \n"
   ]
  },
  {
   "cell_type": "markdown",
   "metadata": {},
   "source": [
    "### Version récursive avec mémoïsation\n",
    "\n",
    "L'algorithme récursif classique a une efficacité catastrophique car le nombre d'appels explose car il y a beaucoup de redondances. On peut améliorer cette version récursive en utilisant la programmation dynamique : pour cela on stocke les résultats connus dans un tableau `memo` et on renvoie directement les résultats connus pour éviter les appels récursifs redondants."
   ]
  },
  {
   "cell_type": "code",
   "execution_count": 13,
   "metadata": {},
   "outputs": [
    {
     "data": {
      "text/plain": [
       "50"
      ]
     },
     "execution_count": 13,
     "metadata": {},
     "output_type": "execute_result"
    }
   ],
   "source": [
    "def rendu_monnaie(s, pieces):\n",
    "    \"\"\"Version récursive avec mémoïsation\"\"\"\n",
    "    memo = [None] * (s + 1) # intialisation du tableau avec des None \n",
    "    return rendu_monnaie_memo(s, pieces, memo)\n",
    "\n",
    "def rendu_monnaie_memo(s, pieces, memo):\n",
    "    if memo[s] is not None: # si on a déjà calculé le nombre optimal de pièces pour rendre la somme s\n",
    "        return memo[s]      # on le renvoie directement\n",
    "    elif s == 0:\n",
    "        memo[s] = 0\n",
    "        return 0\n",
    "    else:\n",
    "        nb_pieces = s     # nb_pieces = 1 + 1 + ... + 1 dans le pire des cas\n",
    "        for p in pieces:\n",
    "            if p <= s:   # inutile de tester une pièce dont la valeur dépasse la somme s à rendre\n",
    "                nb_pieces_bis = 1 + rendu_monnaie_memo(s - p, pieces, memo)\n",
    "                nb_pieces = min(nb_pieces, nb_pieces_bis)\n",
    "        memo[s] = nb_pieces\n",
    "        return nb_pieces\n",
    "\n",
    "# ESSAI\n",
    "rendu_monnaie(100, [1, 2])"
   ]
  },
  {
   "cell_type": "markdown",
   "metadata": {},
   "source": [
    "### Version itérative ascendante\n",
    "\n",
    "On procède classiquement : \n",
    "\n",
    "1. **Création et initialisation du tableau** : \n",
    "    - On a besoin d'un tableau `nb` de taille $s+1$ qui va permettre de stocker les valeurs $\\text{nb_pieces}(0)$, $\\text{nb_pieces}(1)$, ..., $\\text{nb_pieces}(s)$ dans cet ordre.\n",
    "    - Pour cela on crée le tableau `nb` avec $n+1$ zéros initialement\n",
    "    - La valeur connue `nb[0]` est alors déjà correctement initialisée\n",
    "2. **Utilisation de la formule de récurrence pour remplir le reste du tableau** :\n",
    "    - Formule de récurrence :  $$\\text{nb}[n] = 1 + \\min_{p \\leq n} \\left(\\text{nb}[n-p] \\right)$$\n",
    "    - On peut donc remplir le tableau `nb` en parcourant les indices **par ordre croissant** (on fait varier `n` de `1` à `s`) en utilisant la formule de récurrence\n",
    "3. **Le résultat est dans la dernier case du tableau** : on la renvoie !\n",
    "\n",
    "Cela donne la fonction suivante."
   ]
  },
  {
   "cell_type": "code",
   "execution_count": 14,
   "metadata": {},
   "outputs": [
    {
     "data": {
      "text/plain": [
       "50"
      ]
     },
     "execution_count": 14,
     "metadata": {},
     "output_type": "execute_result"
    }
   ],
   "source": [
    "def rendu_monnaie(s, pieces):\n",
    "    \"\"\"Version itérative ascendante\"\"\"\n",
    "    \n",
    "    # ÉTAPE 1 : création et initialisation du tableau\n",
    "    nb = [0] * (s+1)    # nb[0] est ainsi bien initialisé\n",
    "    \n",
    "    # ÉTAPE 2 : remplissage du reste du tableau par indice croissant\n",
    "    for n in range(1, s + 1):    \n",
    "        nb[n] = n       # nb[n] = 1 + 1 + ... + dans le pire des cas\n",
    "        for p in pieces:\n",
    "            if p <= n:\n",
    "                nb_bis = 1 + nb[n-p]\n",
    "                nb[n] = min(nb[n], nb_bis)\n",
    "    \n",
    "    # ÉTAPE 3 : le résultat est dans la dernière case\n",
    "    return nb[n]\n",
    "\n",
    "# ESSAI\n",
    "rendu_monnaie(100, [1, 2])"
   ]
  },
  {
   "cell_type": "markdown",
   "metadata": {},
   "source": [
    "## Alignement de séquences\n",
    "\n",
    "**Décontextualisation** : On peut représenter deux séquences comme deux chaînes de caractères $T_1$ et $T_2$ et l'objectif est d'étudier leur degré de similarité (ou dissimilarité). Pour cela on peut chercher à *minimiser* la *distance* $d(T_1, T_2)$ entre les deux chaînes.\n",
    "\n",
    "Pour passer d'une chaîne à l'autre on dispose de 3 opérations chacune ayant un coût égal à 1 :\n",
    "- insertion (d'un caractère $c$ dans $T_1$)\n",
    "- suppression (d'un caractère $c$ dans $T_1$)\n",
    "- substitution (d'un caractère $c$ par un autre caractère $c'$ dans $T_1$)\n",
    "\n",
    "On appelle **distance d'édition**, notée $\\text{dE}$, le nombre minimal de caractères qu'il faut insérer, supprimer, ou substituer pour passer d'une chaîne à l'autre, c'est-à-dire celle qui minimise le coût des alignements possibles. La distance d'édition permet donc d'obtenir un aligment optimal.\n",
    "\n",
    "**Exemple** : Un alignement optimal des chaînes SUCCES et ECHECS est\n",
    "\n",
    "```\n",
    "S U C C E - S\n",
    "- E C H E C S\n",
    "```\n",
    "dont le coût est égal à 4, donc $\\text{dE(SUCCES, ECHECS) = 4}$\n",
    "\n",
    "### Relation de récurrence\n",
    "\n",
    "On peut dégager une relation de récurrence car le calcul de la distance d'édition entre deux chaînes peut se faire à partir de celles de chaînes plus petites.\n",
    "\n",
    "On a la relation suivante :\n",
    "\n",
    "$$\\text{dE}(T_1[1..i], T_2[1..j]) = \\min \\left\\{\n",
    "\\begin{array}{l}\n",
    "  \\text{dE}(T_1[1..i-1], T_2[1..j]) + 1\\\\\n",
    "  \\text{dE}(T_1[1..i], T_2[1..j-1]) + 1\\\\\n",
    "  \\text{dE}(T_1[1..i-1], T_2[1..j-1]) + \\text{sub}(T_1[i], T_2[j])\n",
    "\\end{array}\n",
    "\\right.$$\n",
    "\n",
    "où $\\text{sub}(a, b) = \\left\\{\n",
    "\\begin{array}{l}\n",
    "  0 \\text{ si } a = b \\text{ (correspondance)}\\\\\n",
    "  1 \\text{ si } a \\neq b \\text{ (substitution)}\n",
    "\\end{array}\n",
    "\\right.\n",
    "$"
   ]
  },
  {
   "cell_type": "markdown",
   "metadata": {},
   "source": [
    "En effet, pour aligner de manière optimale $T_1[1..i]$ et $T_2[1..j]$, il y a trois cas de figure :\n",
    "\n",
    "- $T_1[i]$ s'aligne sur &laquo; - &raquo;. Cela demande à avoir aligné $T_1[1..i-1]$ et $T_2[1..j]$ de manière optimale et supprimé $T_1[i]$. \n",
    "- &laquo; - &raquo; s'aligne sur $T_2[j]$. Cela demande à avoir aligné $T_1[1..i]$ et $T_2[1..j-1]$ de manière optimale et inséré $T_2[j]$.\n",
    "- $T_1[i]$ s'aligne sur $T_2[j]$ :\n",
    "    - si $T_1[i] \\neq T_2[j]$, cela demande à avoir aligné $T_1[1..i-1]$ et $T_2[1..j-1]$ de manière optimale et substitué $T_1[i]$ par $T_2[j]$. \n",
    "    - si $T_1[i] = T_2[j]$. Cela demande d'avoir aligné $T_1[1..i-1]$ et $T_2[1..j-1]$ de manière optimale et c'est tout (sans surcoût) "
   ]
  },
  {
   "cell_type": "markdown",
   "metadata": {},
   "source": [
    ">La version récursive naïve permettant de calculer la distance d'édition a un coût en temps catastrophique car les appels sont redondants. On peut améliorer cela à l'aide de la technique de mémoïsation comme pour les autres exemples mais on ne présente dans la suite que la version itérative ascendante."
   ]
  },
  {
   "cell_type": "markdown",
   "metadata": {},
   "source": [
    "### Version itérative ascendante\n",
    "\n",
    "On note $n_1$ et $n_2$ les longueurs respectives de $T_1$ et $T_2$.\n",
    "\n",
    "On procède classiquement : \n",
    "\n",
    "1. **Création et initialisation du tableau** : \n",
    "    - On a besoin d'un tableau `D` à deux dimensions de taille $(n1 + 1)\\times(n2 + 1)$ qui va permettre de stocker en position $(i, j)$ la distance d'édition entre les $i$ premiers caractères de $T_1$ et les $j$ premiers caractères $T_2$ (`D[i][j]` $= \\text{dE}(T_1[1..i], T_2[1..j])$).\n",
    "    - Pour cela on crée le tableau `D` avec uniquement des zéros\n",
    "    - On peut remplir la première ligne et la première colonne facilement\n",
    "    - À ce stade on obtient le tableau suivant dans lequel on n'a pas représenté les 0 dans les cases vides puisqu'ils seront écrasés au fur et à mesure du remplissage\n",
    "    \n",
    "    ![tableau](data/tableau_align_seq2.png)\n",
    "    \n",
    "2. **Utilisation de la formule de récurrence pour remplir le reste du tableau** :\n",
    "    - Formule de récurrence :  $$\\text{nb[i][j]} = \\min \\left\\{\n",
    "\\begin{array}{l}\n",
    "  \\text{nb[i-1][j]} + 1 \\text{ (suppression)}\\\\\n",
    "  \\text{nb[i][j-1]} + 1 \\text{ (insertion)}\\\\\n",
    "  \\text{nb[i-1][j-1]} + \\left\\{\n",
    "\\begin{array}{l}\n",
    "  0 \\text{ si } T_1[i] = T_2[j] \\text{ (correspondance)}\\\\\n",
    "  1 \\text{ si } T_1[i] \\neq T_2[j]  \\text{ (substitution)}\n",
    "\\end{array}\n",
    "\\right.\n",
    "\\end{array}\n",
    "\\right.$$\n",
    "    - On peut donc remplir le tableau `nb` avec deux boucles imbriquées qui parcourent les indices **par ordre croissant** (on fait varier $i$ de $1$ à $n_1$ et $j$ de $1$ à $n_2$ ) en utilisant la formule de récurrence.\n",
    "3. **Le résultat est dans la dernier case du tableau** : on la renvoie !\n",
    "\n",
    "Cela donne la fonction suivante."
   ]
  },
  {
   "cell_type": "code",
   "execution_count": 15,
   "metadata": {},
   "outputs": [
    {
     "data": {
      "text/plain": [
       "(4,\n",
       " [[0, 1, 2, 3, 4, 5, 6],\n",
       "  [1, 1, 2, 3, 4, 5, 5],\n",
       "  [2, 2, 2, 3, 4, 5, 6],\n",
       "  [3, 3, 2, 3, 4, 4, 5],\n",
       "  [4, 4, 3, 3, 4, 4, 5],\n",
       "  [5, 4, 4, 4, 3, 4, 5],\n",
       "  [6, 5, 5, 5, 4, 4, 4]])"
      ]
     },
     "execution_count": 15,
     "metadata": {},
     "output_type": "execute_result"
    }
   ],
   "source": [
    "def dE(t1, t2):\n",
    "    \"\"\"Version itérative ascendante\"\"\"\n",
    "    \n",
    "    # ÉTAPE 1 : création et initialisation du tableau\n",
    "    n1 = len(t1)\n",
    "    n2 = len(t2)\n",
    "    D = [[0] * (n2 + 1) for i in range(n1 + 1)]\n",
    "    for i in range(n1 + 1):  # remplissage première colonne\n",
    "        D[i][0] = i\n",
    "    for j in range(n2 + 1):  # remplissage première ligne\n",
    "        D[0][j] = j\n",
    "    \n",
    "    # ÉTAPE 2 : remplissage du reste du tableau par indice croissant\n",
    "    for i in range(1, n1 + 1):\n",
    "        for j in range(1, n2 + 1):\n",
    "            if t1[i-1] == t2[j-1]:  # attention ! le k-ième caractère d'une chaîne est en position k-1\n",
    "                cout_sub = 0  # correspondance\n",
    "            else:  \n",
    "                cout_sub = 1  # substitution\n",
    "            D[i][j] = min(D[i-1][j] + 1, D[i][j-1] + 1, D[i-1][j-1] + cout_sub)        \n",
    "    \n",
    "    # ÉTAPE 3 : le résultat est dans la dernière case\n",
    "    return D[n1][n2], D   # on renvoie aussi le tableau D pour l'observer\n",
    "\n",
    "# ESSAI\n",
    "dE('SUCCES', 'ECHECS')"
   ]
  },
  {
   "cell_type": "markdown",
   "metadata": {},
   "source": [
    "Contrairement à la version récursive naïve, on peut obtenir les distances entre deux chaînes assez longues."
   ]
  },
  {
   "cell_type": "code",
   "execution_count": 16,
   "metadata": {},
   "outputs": [
    {
     "data": {
      "text/plain": [
       "(2,\n",
       " [[0, 1, 2, 3, 4, 5, 6, 7, 8, 9, 10],\n",
       "  [1, 0, 1, 2, 3, 4, 5, 6, 7, 8, 9],\n",
       "  [2, 1, 0, 1, 2, 3, 4, 5, 6, 7, 8],\n",
       "  [3, 2, 1, 0, 1, 2, 3, 4, 5, 6, 7],\n",
       "  [4, 3, 2, 1, 0, 1, 2, 3, 4, 5, 6],\n",
       "  [5, 4, 3, 2, 1, 0, 1, 2, 3, 4, 5],\n",
       "  [6, 5, 4, 3, 2, 1, 0, 1, 2, 3, 4],\n",
       "  [7, 6, 5, 4, 3, 2, 1, 1, 1, 2, 3],\n",
       "  [8, 7, 6, 5, 4, 3, 2, 1, 2, 2, 3],\n",
       "  [9, 8, 7, 6, 5, 4, 3, 2, 2, 2, 3],\n",
       "  [10, 9, 8, 7, 6, 5, 4, 3, 3, 3, 2]])"
      ]
     },
     "execution_count": 16,
     "metadata": {},
     "output_type": "execute_result"
    }
   ],
   "source": [
    "dE('ALGORITHME', 'ALGORIHTME')"
   ]
  },
  {
   "cell_type": "markdown",
   "metadata": {},
   "source": [
    "### Alignement optimal\n",
    "\n",
    "Pour trouver un alignement optimal entre $T_1$ et $T_2$ il suffit de *remonter* depuis `D[n1][n2]` vers `D[0][0]` (de la case en bas à droite à celle en haut à gauche) en considérant à chaque fois le \"meilleur\" des 3 voisins, c'est-à-dire celui par lequel on a pu arriver ! (il peut parfois y en avoir plusieurs).\n",
    "\n",
    "- Si on monte, il s'agit d'une suppression\n",
    "- Si on va à gauche, il s'agit d'une insertion\n",
    "- Si on va en diagonale, il s'agit d'une substitution ou d'une correspondance\n",
    "\n",
    "Par exemple, le tableau `D` correspondant à l'alignement entre SUCCES et ECHECS est :\n",
    "\n",
    "![alignement optimal](data/tableau_align_seq3.png)\n",
    "\n",
    "On peut alors construire un alignement optimal (en partant de la fin ou du début) :\n",
    "\n",
    "```\n",
    "S U C C E - S \n",
    "- E C H E C S\n",
    "```"
   ]
  },
  {
   "cell_type": "markdown",
   "metadata": {},
   "source": [
    "# Conclusion\n",
    "\n",
    "- La **programmation dynamique** est une technique permettant d'améliorer l'efficacité d'un algorithme en *évitant les calculs redondants*.\n",
    "- Pour cela, on utilise un tableau (ou un dictionnaire) pour stocker les résultats intermédiaires et pouvoir les réutiliser sans les recalculer.\n",
    "- Comme la méthode &laquo; diviser pour régner &raquo;, la programmation dynamique permet résoudre un problème à partir des solutions de sous-problèmes. Si ces derniers se &laquo; chevauchent &raquo; (s'ils sont non indépendants) alors la programmation dynamique permettra d'éviter que les appels récursifs ne soient effectués plusieurs fois. Ainsi, la programmation dynamique permet souvent d'améliorer des algorithmes récursifs.\n",
    "- Pour utiliser la programmation dynamique, on procède généralement ainsi :\n",
    "    1. définition des sous-problèmes\n",
    "    2. identification d'une relation de récurrence les solutions des sous-problèmes\n",
    "    3. mise en place d'un algorithme récursif avec mémoïsation ou d'un algorithme itératif ascendant\n",
    "    4. résolution du problème original à partir des solutions des sous-problèmes\n",
    "- La programmation dynamique permet de résoudre de manière efficace de nombreux problèmes d'optimisation, comme le rendu de monnaie ou l'alignement de séquences, pour lesquels une solution récursive classique est inefficace."
   ]
  },
  {
   "cell_type": "markdown",
   "metadata": {},
   "source": [
    "---\n",
    "\n",
    "**Références :**\n",
    "- Equipe pédagogique DIU EIL, Université de Nantes.\n",
    "- Articles Wikipédia sur la [Programmation dynamique](https://fr.wikipedia.org/wiki/Programmation_dynamique) et sur la [Distance de Levensthein](https://fr.wikipedia.org/wiki/Distance_de_Levenshtein) \n",
    "- Livre *Spécialité Numérique et sciences informatiques : 24 leçons avec exercices corrigés - Terminale*, éditions Ellipses, T. Balabonski, S. Conchon, J.-C. Filliâtre, K. Nguyen. Site du livre : [http://www.nsi-terminale.fr/](http://www.nsi-terminale.fr/) pour l'idée de l'exercice 2 notamment.\n",
    "- Cours de David Roche sur le Pixees : [Programmation dynamique](https://pixees.fr/informatiquelycee/n_site/nsi_term_algo_progdyn.html)\n",
    "- Un cours sur la programmation dynamique : [http://www-desir.lip6.fr/~spanjaard/pmwiki/uploads/ProgrammationDynamique.pdf](http://www-desir.lip6.fr/~spanjaard/pmwiki/uploads/ProgrammationDynamique.pdf)\n",
    "\n",
    "---\n",
    "Germain BECKER, Lycée Mounier, ANGERS \n",
    "\n",
    "![Licence Creative Commons](https://i.creativecommons.org/l/by-nc-sa/4.0/88x31.png)"
   ]
  }
 ],
 "metadata": {
  "kernelspec": {
   "display_name": "Python 3",
   "language": "python",
   "name": "python3"
  },
  "language_info": {
   "codemirror_mode": {
    "name": "ipython",
    "version": 3
   },
   "file_extension": ".py",
   "mimetype": "text/x-python",
   "name": "python",
   "nbconvert_exporter": "python",
   "pygments_lexer": "ipython3",
   "version": "3.7.3"
  }
 },
 "nbformat": 4,
 "nbformat_minor": 2
}
