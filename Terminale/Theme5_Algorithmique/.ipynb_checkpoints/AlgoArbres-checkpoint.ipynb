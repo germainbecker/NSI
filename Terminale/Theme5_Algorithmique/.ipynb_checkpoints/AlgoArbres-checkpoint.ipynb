{
 "cells": [
  {
   "cell_type": "markdown",
   "metadata": {},
   "source": [
    "# Introduction\n",
    "\n",
    "Un arbre binaire (abrégé AB dans la suite) est un arbre dont les noeuds possèdent au plus deux fils. Ainsi, un arbre binaire non vide peut être définit comme un noeud, appelé *racine* possédant un *sous-arbre gauche* et un *sous-arbre droit* (éventuellement vides) qui sont eux-mêmes des arbres binaires. \n",
    "\n",
    "Cette définition étant récursive, la plupart des traitements sur les AB sont naturellement récursifs : on traite un noeud courant et on demande à traiter les noeuds fils. On a déjà écrit de tels algorithmes pour calculer la taille ou la hauteur d'un AB (voir [Thème 1 / Chapitre 4 : Les arbres](http://info-mounier.fr/terminale_nsi/structures_donnees/arbres.php#Impl%C3%A9mentation)). On ne s'était alors pas soucié de l'ordre dans lequel tous les noeuds étaient visités.\n",
    "\n",
    "Dans ce chapitre, nous allons notamment voir des algorithmes permettant d'explorer, récursivement ou non, tous les noeuds d'un AB mais dans un ordre prédéfini. Nous verrons dans un second temps une structure de données appelée **arbre binaire de recherche**, qui est un AB particulier permettant de stocker des éléments de façon à rendre leur recherche très efficace par la suite."
   ]
  },
  {
   "cell_type": "markdown",
   "metadata": {},
   "source": [
    "# Parcours d'un arbre binaire\n",
    "\n",
    "Parcourir un arbre, c'est visiter tous ses noeuds, afin de pouvoir opérer une action tour à tour sur eux. Un *parcours d'arbre* définit dans quel ordre les noeuds sont visités.\n",
    "\n",
    "## Parcours en largeur d'abord"
   ]
  },
  {
   "cell_type": "markdown",
   "metadata": {},
   "source": [
    "<div class=\"important\">\n",
    "    <p>Dans le cas où un arbre est parcouru niveau par niveau (en commençant par la racine est en lisant de gauche à droite) on parle d'un <strong>parcours en largeur d'abord</strong>. On utilise le terme <em>largeur</em> car dans ce cas on explore les noeuds en balayant en largeur chaque niveau de l'arbre.</p>\n",
    "</div>    "
   ]
  },
  {
   "cell_type": "markdown",
   "metadata": {},
   "source": [
    "### Exemple\n",
    "\n",
    "![un arbre binaire](data/ab2.png)\n",
    "\n",
    "Dans le cas d'un parcours de cet AB en largeur d'abord, les noeuds sont visités dans l'ordre : 2 - 8 - 9 - 4 - 5 - 3."
   ]
  },
  {
   "cell_type": "markdown",
   "metadata": {},
   "source": [
    "> Un parcours en largeur d'abord n'est pas récursif.\n",
    "\n",
    "### Algorithme de parcours en largeur"
   ]
  },
  {
   "cell_type": "markdown",
   "metadata": {},
   "source": [
    "<div class=\"important\">\n",
    "    <p>L'utilisation d'une <strong>file</strong> permet d'écrire facilement l'algorithme de parcours en largeur d'abord. Le principe est le suivant :</p>\n",
    "    <ul>\n",
    "        <li>On enfile l'arbre de départ</li>\n",
    "        <li>Tant que la file n'est pas vide :</li>\n",
    "        <ul>\n",
    "            <li>on défile un élément</li>\n",
    "            <li>si celui-ci n'est pas un arbre vide :</li>\n",
    "            <ul>\n",
    "                <li>on affiche son étiquette</li>\n",
    "                <li>on enfile ses fils gauche et droit (dont les racines sont les noeuds du niveau suivant)</li>\n",
    "            </ul>\n",
    "        </ul>\n",
    "    </ul>\n",
    "</div>"
   ]
  },
  {
   "cell_type": "markdown",
   "metadata": {},
   "source": [
    "On utilise ainsi la file pour y insérer et donc traiter (en défilant) tour à tour les noeuds, niveau par niveau.\n",
    "\n",
    "Voici une implémentation qui utilise une classe `File` pour représenter une file et la classe `Noeud` (cf. [Thème 1 / Chapitre 4 : Les arbres](http://info-mounier.fr/terminale_nsi/structures_donnees/arbres.php#Impl%C3%A9mentation)) pour représenter un AB :"
   ]
  },
  {
   "cell_type": "code",
   "execution_count": 1,
   "metadata": {},
   "outputs": [],
   "source": [
    "def parcours_en_largeur(A):\n",
    "    \"\"\"Affiche les étiquettes de l'arbre binaire A selon un parcours en largeur.\"\"\"\n",
    "    F = File()\n",
    "    F.enfiler(A)\n",
    "    while F.taille() != 0:\n",
    "        a = F.defiler() # renvoie le sommet\n",
    "        if a is not None:\n",
    "            print(a.etiquette)\n",
    "            F.enfiler(a.gauche)\n",
    "            F.enfiler(a.droit)"
   ]
  },
  {
   "cell_type": "markdown",
   "metadata": {},
   "source": [
    "## Parcours en profondeur"
   ]
  },
  {
   "cell_type": "markdown",
   "metadata": {},
   "source": [
    "<div class=\"important\">\n",
    "    <p>Dans le cas où on explore complètement l'un des deux sous-arbres avant le second on parle d'un <strong>parcours en profondeur</strong>. On utilise le terme <em>profondeur</em> car dans ce cas on tente toujours de visiter le noeud le plus éloigné de la racine à condition qu'il soit le fils d'un noeud déjà visité.</p>\n",
    "    <p>On distingue trois ordres particuliers pour explorer en profondeur les sous-arbres gauche, droit et la racine du noeud courant :</p>\n",
    "    <ul>\n",
    "        <li><strong>ordre préfixe</strong> : le noeud courant est traité, puis son sous-arbre gauche et son sous-arbre droit.</li>\n",
    "        <li><strong>ordre infixe</strong> : le noeud courant est traité entre son sous-arbre gauche et son sous-arbre droit.</li>\n",
    "        <li><strong>ordre suffixe</strong> : le noeud courant est traité après son sous-arbre gauche et son sous-arbre droit.</li>\n",
    "    </ul>\n",
    "</div>    "
   ]
  },
  {
   "cell_type": "markdown",
   "metadata": {},
   "source": [
    "### Exemple\n",
    "\n",
    "![un arbre binaire](data/ab2.png)\n",
    "\n",
    "Voici l'ordre des noeuds visités dans les 3 ordres de parcours en profondeur :\n",
    "\n",
    "- Parcours préfixe : 2 - 8 - 4 - 5 - 9 - 3\n",
    "- Parcours infixe : 4 - 8 - 5 - 2 - 9 - 3\n",
    "- Parcours suffixe : 4 - 5 - 8 - 3 - 9 - 2"
   ]
  },
  {
   "cell_type": "markdown",
   "metadata": {},
   "source": [
    "### Algorithmes de parcours en profondeur"
   ]
  },
  {
   "cell_type": "markdown",
   "metadata": {},
   "source": [
    "<div class=\"important\">\n",
    "    <p>Les algorithmes de parcours en profondeur s'écrivent facilement de manière récursive. Pour l'algorithme de parcours suivant l'ordre <strong>préfixe</strong> on procède ainsi :</p>\n",
    "    <ul>\n",
    "        <li>si l'arbre n'est pas vide :</li>\n",
    "        <ul>\n",
    "            <li>on affiche l'étiquette de sa racine</li>\n",
    "            <li>on parcourt récursivement son sous-arbre gauche</li>\n",
    "            <li>puis son sous-arbre droit</li>\n",
    "            <li>(sinon on ne fait rien)</li>\n",
    "        </ul>\n",
    "    </ul>\n",
    "</div>"
   ]
  },
  {
   "cell_type": "markdown",
   "metadata": {},
   "source": [
    "Voici une fonction récursive qui implémente le parcours préfixe :"
   ]
  },
  {
   "cell_type": "code",
   "execution_count": null,
   "metadata": {},
   "outputs": [],
   "source": [
    "def parcours_prefixe(A):\n",
    "    \"\"\"Affiche les étiquettes de l'arbre binaire A selon un parcours par ordre préfixe.\"\"\"\n",
    "    if A is not None:\n",
    "        print(A.etiquette)\n",
    "        parcours_prefixe(A.gauche)\n",
    "        parcours_prefixe(A.droit)"
   ]
  },
  {
   "cell_type": "markdown",
   "metadata": {},
   "source": [
    ">**Remarque** : Il suffit de changer l'ordre des lignes 4, 5 et  dans le `if` pour retrouver les ordres *infixe* et *suffixe* de parcours des noeuds."
   ]
  },
  {
   "cell_type": "markdown",
   "metadata": {},
   "source": [
    "## Recherche dans un AB\n",
    "\n",
    "Pour vérifier sur une étiquette `e` est présente dans un noeud d'un arbre binaire `A`, il faut le parcourir (en largeur ou en profondeur). Dans le pire cas, c'est-à-dire si l'étiquette est absente, il faut bien regarder tous les noeuds pour conclure. Ainsi, pour un arbre binaire de $N$ noeuds, l'algorithme de recherche a un coût en temps de l'ordre de $N$ (noté $O(N)$).\n",
    "\n",
    ">**Morale** : \n",
    ">- La recherche dans un arbre binaire prend un temps similaire à la recherche dans un tableau ou dans une liste. \n",
    ">- Mais dans un tableau, on a vu que sous hypothèse de tri, on pouvait faire mieux : une recherche dichotomique ! (voir programme de Première NSI).\n",
    ">- Peut-on faire de même dans un arbre binaire ? Autrement dit, quelle hypothèse d'ordre faire pour permettre une recherche plus efficace ? &#x21E8; les arbres binaires de recherche"
   ]
  },
  {
   "cell_type": "markdown",
   "metadata": {},
   "source": [
    "# Arbre binaire de recherche"
   ]
  },
  {
   "cell_type": "markdown",
   "metadata": {},
   "source": [
    "<div class=\"important\">\n",
    "    <p>Un <strong>arbre binaire de recherche</strong>, abrégé ABR, est un arbre binaire dans lequel tout noeud a une <strong>clé</strong> (= étiquette) :</p>\n",
    "    <ul>\n",
    "        <li>plus grande ou égale à celles de son sous-arbre gauche</li>\n",
    "        <li>plus petite strictement que celles de son sous-arbre droit</li>\n",
    "    </ul>\n",
    "</div>"
   ]
  },
  {
   "cell_type": "markdown",
   "metadata": {},
   "source": [
    "Le schéma suivant permet de retenir ce qu'est un ABR :\n",
    "\n",
    "![schéma d'un ABR](data/schema_abr.png)"
   ]
  },
  {
   "cell_type": "markdown",
   "metadata": {},
   "source": [
    "**Exemples** : Voici quelques exemples d'ABR :\n",
    "\n",
    "![3 ABR](data/abr.png)"
   ]
  },
  {
   "cell_type": "markdown",
   "metadata": {},
   "source": [
    "## Rechercher une clé dans un ABR\n",
    "\n",
    "La propriété d'ordre en chaque noeud d'un ABR assure qu'il existe un unique chemin pour toute clé stockée : la comparaison en chaque noeud indique si la recherche doit être poursuivie à gauche ou à droite. La recherche est fructueuse si la clé est trouvée en un noeud; infructueuse s'il est aboutit à un sous-arbre vide.\n",
    "\n",
    "Cela permet d'écrire facilement l'algorithme récursif de recherche d'une clé dans un ABR :"
   ]
  },
  {
   "cell_type": "code",
   "execution_count": null,
   "metadata": {},
   "outputs": [],
   "source": [
    "def etq_presente(A, e):\n",
    "    \"\"\"Renvoie True si l'étiquette e est présente dans l'ABR A, et False sinon.\"\"\"\n",
    "    if A is None:\n",
    "        return False\n",
    "    if e == A.etiquette:\n",
    "        return True\n",
    "    elif e < A.etiquette:\n",
    "        return etq_presente(A.gauche, e)\n",
    "    else:\n",
    "        return etq_presente(A.droit, e)"
   ]
  },
  {
   "cell_type": "markdown",
   "metadata": {},
   "source": [
    "**Exemples** : \n",
    "- `etq_presente(A, 5)` renvoie Vrai\n",
    "![recherche n°1](data/abr_recherche.png)\n",
    "- `etq_presente(A, 0)` renvoie Faux\n",
    "![recherche n°2](data/abr_recherche2.png)"
   ]
  },
  {
   "cell_type": "markdown",
   "metadata": {},
   "source": [
    "**Remarques** : La propriété d'ordre sur les clés d'un ABR implique :\n",
    "- que l'on trouve le *minimum* en se déplaçant systématiquement à gauche : le dernier noeud atteint avant un sous-arbre gauche vide est le minimum ;\n",
    "- que l'on trouve le *maximum* en se déplaçant systématiquement à droite : le dernier noeud atteint avant un sous-arbre droit vide est le maximum ;\n",
    "- que le parcours par *ordre infixe* d'un ABR donne les clés dans l'ordre croissant. "
   ]
  },
  {
   "cell_type": "markdown",
   "metadata": {},
   "source": [
    "## Insérer une clé dans un ABR\n",
    "\n",
    "Le principe de l'ajout d'une clé est simple : pour que l'élément qu'on va ajouter soit retrouvé lors d'une future recherche, il faut l'insérer à l'endroit où conduira cette recherche. Cela conduit à suivre un chemin unique dans l'ABR et on insère le nouveau noeud avec la clé dès qu'on aboutit à un sous-arbre vide.\n",
    "\n",
    "On présente ici une version qui renvoie un nouvel arbre à chaque insertion car elle est simple à écrire et permet de gérer facilement le cas de l'insertion dans un arbre vide représenté par `None`.\n",
    "\n",
    ">On peut écrire des versions avec *modification en place* de l'arbre passé en argument mais cela rend l'algorithme plus long à écrire et on doit réserver un cas particulier pour l'insertion dans un arbre vide (voir activités).\n",
    "\n",
    "Insérer une clé `e` dans un ABR `A` revient à construire un ABR qui contient `e` et toutes les clés de `A`. Le principe est relativement simple :\n",
    "- si l'ABR est vide, on construit un ABR possédant un unique noeud de clé `e`.\n",
    "- si `e` est inférieure ou égale à l'étiquette de `A` il faut insérer la clé dans le sous-arbre gauche de `A` ce qui revient à créer un *nouvel* ABR dont :\n",
    "    - l'étiquette est celle de `A` (inchangée) ;\n",
    "    - le sous-arbre gauche est le sous-arbre gauche de `A` dans lequel on insère la clé `e` ⇒ appel récursif\n",
    "    - le sous-arbre droit est celui de `A` (inchangé).\n",
    "- si `e` est strictement supérieure à l'étiquette de `A` il faut insérer la clé dans le sous-arbre droit de `A` en procédédant de manière similaire.\n",
    "\n",
    "On aboutit à la fonction `ajouter` suivante :"
   ]
  },
  {
   "cell_type": "code",
   "execution_count": null,
   "metadata": {},
   "outputs": [],
   "source": [
    "def ajouter(A, e):\n",
    "    \"\"\"Renvoie un nouvel ABR contenant les clés de l'ABR A ainsi que la clé e.\"\"\"\n",
    "    if A is None:\n",
    "        return Noeud(e, None, None)\n",
    "    elif e <= A.etiquette:\n",
    "        return Noeud(A.etiquette, ajouter(A.gauche, e), A.droit)\n",
    "    else:\n",
    "        return Noeud(A.etiquette, A.gauche, ajouter(A.droit, e))"
   ]
  },
  {
   "cell_type": "markdown",
   "metadata": {},
   "source": [
    "**Remarques et exemples** : \n",
    "\n",
    "- L'insertion revient à créer une feuille. \n",
    "    \n",
    "    Par exemple, `ajouter(A, 0)` :\n",
    "![insertion n°1](data/abr_insertion1.png)\n",
    "\n",
    "- Même en cas d'égalité, on descend toujours jusqu'à un sous-arbre vide. \n",
    "\n",
    "    Par exemple, `ajouter(A, 2)` :\n",
    "![insertion n°2](data/abr_insertion2.png)\n",
    "\n"
   ]
  },
  {
   "cell_type": "markdown",
   "metadata": {},
   "source": [
    "## Complexités (temporelles)\n",
    "\n",
    "### Coût de la recherche\n",
    "\n",
    "La recherche d'une clé dans un ABR conduit, dans le pire cas, à parcourir un chemin de la racine jusqu'à une feuille. Le coût de cet algorithme est donc de l'ordre de la hauteur $H$ de l'arbre (= profondeur maximale des feuilles).\n",
    "\n",
    ">**Rappel** : On a vu (voir [Thème 1 / Chapitre 4 : Les arbres](http://info-mounier.fr/terminale_nsi/structures_donnees/arbres.php#Impl%C3%A9mentation)) que la hauteur $H$ d'un arbre binaire à $N$ noeuds vérifie :\n",
    ">\n",
    ">$$ \\left \\lfloor \\log_2(N) \\right \\rfloor \\leq H \\leq N - 1,$$\n",
    "> \n",
    ">où $\\left \\lfloor \\log_2(N) \\right \\rfloor$ est la partie entière du logarithme en base 2 de $N$ , c'est-à-dire le nombre de bits nécessaires à son écriture en base 2 diminué d'une unité (c'est la définition des informaticiens).\n",
    ">\n",
    ">Plus précisément, si l'arbre est *parfait* (tous les niveaux sont remplis) on a $H = \\left \\lfloor \\log_2(N) \\right \\rfloor$ et si l'arbre est *filiforme* alors $H = N - 1$.\n",
    "\n"
   ]
  },
  {
   "cell_type": "markdown",
   "metadata": {},
   "source": [
    "Ainsi, le coût de la recherche est de l'ordre de :\n",
    "- $N$ si l'arbre est *filiforme*, soit comme la recherche dans un tableau ou dans une liste ;\n",
    "- $\\log_2(N)$ si l'arbre est *parfait*, soit le même coût que la recherche dichotomique dans un tableau trié."
   ]
  },
  {
   "cell_type": "markdown",
   "metadata": {},
   "source": [
    "**Moralité** : Dans le cas où l'AB est bien *équilibré*, la recherche est donc efficace, comme une recherche dichotomique dans un tableau trié. En effet, la structure de l'ABR est similaire à l'organisation d'un tableau (ou liste) trié(e).\n",
    "\n",
    "![parallèle entre recherche dans un ABR et recherche dichotomique](data/abr_dicho.png)\n",
    "\n",
    "Faire une recherche dans un ABR, c'est faire une recherche dans un tableau trié en sautant aux indices correspondant : ABR équilibré <=> recherche dichotomique."
   ]
  },
  {
   "cell_type": "markdown",
   "metadata": {},
   "source": [
    "### Coût de l'insertion\n",
    "\n",
    "L'insertion d'une clé se fait au niveau d'une feuille, ce qui conduit toujours à parcourir un chemin de la racine jusqu'à une feuille. On en déduit que le pire cas est égal au meilleur cas et que le coût de l'insertion est donc le même que celui de la recherche : de l'ordre de $\\log_2(N)$ dans le cas d'un AB bien *équilibré*."
   ]
  },
  {
   "cell_type": "markdown",
   "metadata": {},
   "source": [
    "# Bilan\n",
    "\n",
    "- On peut parcourir un AB pour visiter tous ses noeuds. Il existe plusieurs parcours possibles : le *parcours en largeur* d'abord ou les parcours en profondeur selon l'*ordre préfixe*, *infixe* ou *suffixe*.\n",
    "- Les **arbres binaires de recherche** sont des arbres binaires dans lesquels les étiquettes des noeuds, appelées **clés**, respectent une relation d'odre : *chaque* noeud possède une étiquette de valeur supérieure ou égale à toutes celles de son sous-arbre gauche et strictement supérieure à toutes celles de son sous-arbre droit. \n",
    "- Les algorithmes de recherche ou d'insertion dans un ABR se rapprochent de la recherche dichotomique : en partant à droite ou à gauche à chaque étape, on élimine à chaque fois toute une partie de l'arbre.\n",
    "- Le coût de la recherche ou de l'insertion dans un ABR à $N$ noeuds dépend de sa structure car celui-ci est de l'ordre de sa hauteur $H$. Si l'arbre est filiforme on ne gagne rien par rapport à la recherche ou l'insertion dans un tableau ou dans une liste car $H$ est de l'ordre de $N$. En revanche, si l'arbre est bien équilibré, la recherche et l'insertion deviennent efficaces car on élimine à chaque fois la moitié des noeuds environ et donc $H$ est de l'ordre de $\\log_2(N)$.\n",
    "- Il existe des techniques (hors programme NSI) qui permettent de maintenir l'arbre équilibré lors des insertions. Cela fait des ABR des structures de données efficaces pour rechercher et insérer des données.\n"
   ]
  },
  {
   "cell_type": "markdown",
   "metadata": {},
   "source": [
    "---\n",
    "\n",
    "**Références :**\n",
    "- Equipe éducative DIU EIL, Université de Nantes.\n",
    "- Livre *Spécialité Numérique et sciences informatiques : 24 leçons avec exercices corrigés - Terminale*, éditions Ellipses, T. Balabonski, S. Conchon, J.-C. Filliâtre, K. Nguyen. Site du livre : [http://www.nsi-terminale.fr/](http://www.nsi-terminale.fr/).\n",
    "\n",
    "---\n",
    "Germain BECKER, Lycée Mounier, ANGERS\n",
    "\n",
    "Ressource éducative libre distribuée sous [Licence Creative Commons Attribution - Pas d’Utilisation Commerciale - Partage dans les Mêmes Conditions 4.0 International](http://creativecommons.org/licenses/by-nc-sa/4.0/) \n",
    "\n",
    "![Licence Creative Commons](https://i.creativecommons.org/l/by-nc-sa/4.0/88x31.png)"
   ]
  }
 ],
 "metadata": {
  "kernelspec": {
   "display_name": "Python 3",
   "language": "python",
   "name": "python3"
  },
  "language_info": {
   "codemirror_mode": {
    "name": "ipython",
    "version": 3
   },
   "file_extension": ".py",
   "mimetype": "text/x-python",
   "name": "python",
   "nbconvert_exporter": "python",
   "pygments_lexer": "ipython3",
   "version": "3.7.3"
  }
 },
 "nbformat": 4,
 "nbformat_minor": 2
}
