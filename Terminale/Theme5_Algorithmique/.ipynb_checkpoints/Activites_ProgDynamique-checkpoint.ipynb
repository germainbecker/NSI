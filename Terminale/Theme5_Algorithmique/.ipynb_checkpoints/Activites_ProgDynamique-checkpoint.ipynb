{
 "cells": [
  {
   "cell_type": "markdown",
   "metadata": {},
   "source": [
    "<h1 style=\"font-size: 30px; text-align: center\">Programmation dynamique - EXERCICES</h1>\n",
    "\n",
    "---"
   ]
  },
  {
   "cell_type": "markdown",
   "metadata": {},
   "source": [
    "# Exercice 1 : Rendu de monnaie\n",
    "\n",
    "## Version gloutonne (rappel)\n",
    "\n",
    "Vous avez étudié ce problème du rendu de monnaie en classe de Première : il faut rendre une somme `s` avec le moins de pièces possibles. Nous avions résolu ce problème grâce à un **algorithme glouton** qui consistait à :\n",
    "\n",
    "1. Prendre la pièce de plus grande valeur inférieure ou égale à la somme restant à rendre\n",
    "2. Recommencer l'opération 1 jusqu'au moment où la somme à rendre est égale à 0.\n",
    "\n",
    "Pour rappel, voilà une fonction réalisant cet algorithme glouton :"
   ]
  },
  {
   "cell_type": "code",
   "execution_count": null,
   "metadata": {},
   "outputs": [],
   "source": [
    "def rendu_monnaie_glouton(s, pieces):\n",
    "        \"\"\"Renvoie la solution gloutonne du rendu de monnaie d'une somme s entière et positive. \n",
    "        Le tableau pieces contient les valeurs des pièces à disposition dans l'ordre croissant.\"\"\"\n",
    "        solution = []\n",
    "        i = len(pieces) - 1 # position de la première pièce à tester (la plus grande est à la fin)\n",
    "        while s > 0 and i >= 0: # tant qu'il reste de l'argent à rendre et que toutes les pièces n'ont pas été testées\n",
    "            valeur = pieces[i] # on prend la pièce d'indice i\n",
    "            if valeur <= s: # s'il est possible de rendre la pièce\n",
    "                solution.append(valeur) # on l'ajoute à solution\n",
    "                s = s - valeur # et on déduit sa valeur de la somme à rendre\n",
    "            else:\n",
    "                i = i - 1 # sinon on passe à la pièce immédiatement inférieure\n",
    "        return solution\n",
    "    \n",
    "# ESSAI\n",
    "\n",
    "euros = [1, 2, 5, 10, 20, 50, 100, 200, 500]\n",
    "rendu_monnaie_glouton(147, euros)"
   ]
  },
  {
   "cell_type": "markdown",
   "metadata": {},
   "source": [
    "**Question 1** : Appliquez l'algorithme glouton dans les différents cas suivants :\n",
    "1. s = 27 et pieces = [1, 2, 5, 10, 20, 50, 100, 200, 500]\n",
    "2. s = 8 et pieces = [1, 4, 6]\n",
    "3. s = 8 et pieces = [5, 2]"
   ]
  },
  {
   "cell_type": "markdown",
   "metadata": {},
   "source": [
    "**Question 2** : Quelle analyse pouvez-vous faire de ces solutions gloutonnes ?"
   ]
  },
  {
   "cell_type": "markdown",
   "metadata": {},
   "source": [
    "**Question 3** : Modifiez la fonction précédente pour qu'elle renvoie le nombre de pièces à utiliser avec une résolution gloutonne (et non plus une liste des pièces)."
   ]
  },
  {
   "cell_type": "code",
   "execution_count": null,
   "metadata": {},
   "outputs": [],
   "source": [
    "# à vous de jouer !\n"
   ]
  },
  {
   "cell_type": "markdown",
   "metadata": {},
   "source": [
    "## Version récursive naïve\n",
    "\n",
    "Dans cette partie, on veut écrire un autre algorithme de rendu de monnaie qui donne toujours la solution optimale, quelles que soient les pièces à disposition (que l'on suppose en quantité illimité).\n",
    "\n",
    ">**Important** : on supposera que l'on dispose toujours de la pièce unité, de sorte de pouvoir rendre n'importe quelle somme, dans le pire des cas avec $1 + 1 + \\ldots + 1$."
   ]
  },
  {
   "cell_type": "markdown",
   "metadata": {},
   "source": [
    "L'algorithme proposé dans ce qui suit consiste à chercher *toutes* les façons possibles de rendre la somme `s`. On va procéder de manière *récursive* en exploitant l'idée suivante : pour rendre une somme `s` de façon optimale, il faut rendre une pièce `p` et la somme `s-p` de façon optimale. L'objectif est donc de trouver la pièce `p` idéale, autrement dit la valeur `p` qui minimise le nombre de pièces pour faire la somme `s-p`. Pour cela, on teste toutes les pièces `p` possibles et on calcule récursivement le nombre minimal de pièces pour faire la somme `s-p`."
   ]
  },
  {
   "cell_type": "markdown",
   "metadata": {},
   "source": [
    "### Exemple\n",
    "\n",
    "**Dans la suite, on note $\\text{nb_pieces}(s)$ le nombre minimal de pièces pour rendre la somme $s$.** \n",
    "\n",
    "Imaginons que l'on veuille rendre la somme 100 avec des pièces de 1 et 2. On cherche donc $\\text{nb_pieces}(100)$. Il y a deux cas de figure :\n",
    "\n",
    "* Soit on rend une pièce de 1 et il faut encore rendre (de façon optimale) 100 - 1 = 99.\n",
    "* Soit on rend une pièce de 2 et il faut encore rendre (de façon optimale) 100 - 2 = 98.\n",
    "\n",
    "Pour savoir quelle pièce rendre, il faut déterminer le nombre minimal de pièces pour rendre 99 (c'est-à-dire $\\text{nb_pieces}(99)$) et pour rendre 98 (c'est-à-dire $\\text{nb_pieces}(98)$) et choisir le minimum de deux possibilités. Il suffira d'ajouter 1 à ce nombre puisqu'on rend une pièce de plus (la pièce 1 ou la pièce 2).\n",
    "\n",
    "Mais pour connaître $\\text{nb_pieces}(99)$, il faut procéder de la même façon : soit on rend 1 et il faut trouver $\\text{nb_pieces}(98)$, soit on rend 2 et il faut trouver $\\text{nb_pieces}(97)$, puis ajouter 1 et prendre le minimum des deux cas de figure.\n",
    "\n",
    "Puis pour trouver $\\text{nb_pieces}(98)$, il faut faire deux appels récursifs à $\\text{nb_pieces}(97)$ et $\\text{nb_pieces}(96)$. Et ainsi de suite...\n",
    "\n",
    "**Question 4** : Dessinez les 4 premiers niveaux de l'arbre d'appels si on lance $\\text{nb_pieces}(100)$ puis comptez le nombre d'appels pour chaque valeur de $s$. Souhaitez-vous construire l'abre d'appels complet ?"
   ]
  },
  {
   "cell_type": "markdown",
   "metadata": {},
   "source": [
    "### Implémentation\n",
    "\n",
    "**Question 5** : Complétez la définition suivante de la fonction $\\text{nb_pieces}$ pour faire apparaître le cas de base et le cas récursif.\n",
    "\n",
    "$$\\text{nb_pieces}(s) = \\left\\{\n",
    "\\begin{array}{l}\n",
    "  \\ldots \\hspace{3cm} \\textrm{ si } s = 0\\\\\n",
    "  \\ldots \\hspace{3cm} \\textrm{ si } \\ldots\n",
    "\\end{array}\n",
    "\\right.$$"
   ]
  },
  {
   "cell_type": "markdown",
   "metadata": {},
   "source": [
    "**Question 6** : Complétez les `???` pour que la fonction récursive `rendu_monnaie_naif` qui suit réalise l'algorithme naïf du rendu de monnaie."
   ]
  },
  {
   "cell_type": "code",
   "execution_count": null,
   "metadata": {},
   "outputs": [],
   "source": [
    "# à vous de jouer !\n",
    "def rendu_monnaie_naif(s, pieces):\n",
    "    \"\"\"Renvoie le nombre minimal de pièces pour rendre la somme s avec les pièces stockées dans le tableau pieces.\"\"\"\n",
    "    if s == 0:\n",
    "        return ???\n",
    "    nb_pieces = s     # nb_pieces = 1 + 1 + ... + 1 dans le pire des cas\n",
    "    for p in pieces:\n",
    "        if p <= s:   # inutile de tester une pièce dont la valeur dépasse la somme s à rendre\n",
    "            nb_pieces_bis = 1 + rendu_monnaie_naif(???, ???)\n",
    "            nb_pieces = min(???, ???)\n",
    "    return nb_pieces"
   ]
  },
  {
   "cell_type": "markdown",
   "metadata": {},
   "source": [
    "**Question 7** : L'algorithme glouton ne donnait pas la solution optimale dans le cas où s = 8 et pieces = [1, 4, 6]. Vérifiez que l'on obtient désormais la solution optimale avec la version récursive naïve."
   ]
  },
  {
   "cell_type": "code",
   "execution_count": null,
   "metadata": {},
   "outputs": [],
   "source": [
    "# à vous de jouer !\n"
   ]
  },
  {
   "cell_type": "markdown",
   "metadata": {},
   "source": [
    "### Efficacité"
   ]
  },
  {
   "cell_type": "markdown",
   "metadata": {},
   "source": [
    "**Question 8** : Vérifiez que si on essaye de calculer `rendu_monnaie_naif(100, [1, 2])`, le programme ne termine pas !"
   ]
  },
  {
   "cell_type": "code",
   "execution_count": null,
   "metadata": {},
   "outputs": [],
   "source": [
    "# à vous de jouer !\n"
   ]
  },
  {
   "cell_type": "markdown",
   "metadata": {},
   "source": [
    "> L'appel en question génère plus de 1500 milliards de milliards d'appels récursifs 😲, ce qui montre que cette solution récursive naïve est beaucoup trop coûteuse."
   ]
  },
  {
   "cell_type": "markdown",
   "metadata": {},
   "source": [
    "**Question 9** : Utilisez la commande magique `%time` pour évaluer le temps d'exécution du calcul `rendu_monnaie_naif(35, [1, 2])`."
   ]
  },
  {
   "cell_type": "code",
   "execution_count": null,
   "metadata": {},
   "outputs": [],
   "source": [
    "# à vous de jouer !\n"
   ]
  },
  {
   "cell_type": "markdown",
   "metadata": {},
   "source": [
    "Pour terminer cette partie, on va chercher à évaluer le nombre d'appels à la fonction `rendu_monnaie_naif` pour chaque valeur de `s` possible lorsque l'on lance un appel sur une somme `s` à rendre.\n",
    "\n",
    "Pour cela, on peut utiliser un dictionnaire, que l'on complète et met à jour au fur et à mesure des appels récursifs. \n",
    "\n",
    "**Question 10** : On a écrit une fonction `nombre_appels(s, pieces)` ci-dessous. Complétez la fonction `rendu_monnaie_naif_bis(s, pieces, dico)` qui renvoie toujours le nombre minimal de pièces pour rendre la somme `s` mais qui complète et met à jour également le dictionnaire `dico` avec le nombre d'appels intermédiaires pour chaque valeur de `s-p`. *Indication : il suffit d'ajouter quelques instructions à la fonction de la question 6*."
   ]
  },
  {
   "cell_type": "code",
   "execution_count": null,
   "metadata": {},
   "outputs": [],
   "source": [
    "def nombre_appels(s, pieces):\n",
    "    '''Renvoie un dictionnaire qui associe à chaque argument son nombre d'appels récursifs\n",
    "    pour rendre la somme s avec le système pieces.\n",
    "    \n",
    "    >>> nombre_appels(8, [1, 4, 6])\n",
    "    {8: 1, 7: 1, 6: 1, 5: 1, 4: 2, 3: 3, 2: 5, 1: 7, 0: 10}\n",
    "    \n",
    "    Interprétation : la fonction est appelée 1 fois avec l'argument 8, 1 fois avec l'argument 7,\n",
    "    ..., 10 fois avec l'argument 0.\n",
    "    '''\n",
    "    N = {s: 1}  # on appelle une fois la fonction pour la somme s de départ\n",
    "    rendu_monnaie_naif_bis(s, pieces, N)\n",
    "    return N\n",
    "\n",
    "def rendu_monnaie_naif_bis(s, pieces, dico):\n",
    "    # à compléter\n",
    "    "
   ]
  },
  {
   "cell_type": "markdown",
   "metadata": {},
   "source": [
    "**Question 11** : \n",
    "1. Vérifiez que l'appel `nombre_appels(8, [1, 4, 6])` renvoie le bon dictionnaire.\n",
    "2. Observez le nombre d'appels nécessaires à la fonction `rendu_monnaie_naif` pendant le calcul de `rendu_monnaie_naif(35, [1, 2])` ?"
   ]
  },
  {
   "cell_type": "code",
   "execution_count": null,
   "metadata": {},
   "outputs": [],
   "source": [
    "# à vous de jouer !\n"
   ]
  },
  {
   "cell_type": "code",
   "execution_count": null,
   "metadata": {},
   "outputs": [],
   "source": [
    "# à vous de jouer !\n"
   ]
  },
  {
   "cell_type": "markdown",
   "metadata": {},
   "source": [
    "> On comprend aisément avec ces exemples, l'intérêt de ne pas calculer plusieurs fois la même chose. La suite est consacrée à l'amélioration de l'algorithme en utilisant la programmation dynamique selon une approche récursive avec mémoisation puis selon une approche itérative ascendante."
   ]
  },
  {
   "cell_type": "markdown",
   "metadata": {},
   "source": [
    "## Version récursive avec *mémoisation*\n",
    "\n",
    "### Mémorisation dans un dictionnaire\n",
    "\n",
    "**Question 12** : En vous inspirant de ce qui a été vu en cours sur le calcul du terme de rang $n$ de la suite de Fibonacci, proposez une fonction `rendu_monnaie_memo(s, pieces, memo)` qui renvoie le nombre minimal de pièces pour rendre la somme `s` et qui utilise un dictionnaire `memo` pour stocker les résultats déjà connus afin de ne pas les calculer plusieurs fois.  "
   ]
  },
  {
   "cell_type": "code",
   "execution_count": null,
   "metadata": {},
   "outputs": [],
   "source": [
    "# à vous de jouer !\n"
   ]
  },
  {
   "cell_type": "markdown",
   "metadata": {},
   "source": [
    "**Question 13** : Ecrivez une fonction d'interface `rendu_monnaie_memoisation(s, pieces)` qui renvoie le nombre minimal de pièces pour rendre la somme `s` avec le sytèmes `pieces`, en utilisant la fonction `rendu_monnaie_memo`. *Voir ce qui a été fait avec la suite de Fibonacci si besoin.*"
   ]
  },
  {
   "cell_type": "code",
   "execution_count": null,
   "metadata": {},
   "outputs": [],
   "source": [
    "# à vous de jouer !\n"
   ]
  },
  {
   "cell_type": "markdown",
   "metadata": {},
   "source": [
    "**Question 14** : Vérifiez que l'on obtient beaucoup plus rapidement le résultat pour rendre la somme 35 avec les pièces `[1, 2]` et que l'algorithme renvoie une réponse (très rapide également) pour rendre la somme 100 avec les mêmes pièces"
   ]
  },
  {
   "cell_type": "code",
   "execution_count": null,
   "metadata": {},
   "outputs": [],
   "source": [
    "# à vous de jouer !\n"
   ]
  },
  {
   "cell_type": "markdown",
   "metadata": {},
   "source": [
    "### Mémorisation dans un tableau\n",
    "\n",
    "**Question 15** : Modifiez les deux fonctions précédentes pour utiliser cette fois-ci un **tableau** `memo` pour stocker les valeurs déjà calculées. Dans ce tableau, l'élément en position $i$ sera le nombre optimal de pièces pour rendre la somme $i$. On pourra par exemple initialiser le tableau avec toutes les valeurs à `None`."
   ]
  },
  {
   "cell_type": "code",
   "execution_count": null,
   "metadata": {},
   "outputs": [],
   "source": [
    "# à vous de jouer !\n"
   ]
  },
  {
   "cell_type": "markdown",
   "metadata": {},
   "source": [
    "### Efficacité\n",
    "\n",
    "**Question 16** : On lance l'appel `rendu_monnaie_memoisation(100, [1, 2])`.\n",
    "1. Dénombrez le nombre d'appels récursifs *non mémoïsés* engendrés par cet appel.\n",
    "2. Dans le cas d'un appel récursif non mémoïsé, combien de passage y a-t-il dans la boucle `for` ?"
   ]
  },
  {
   "cell_type": "markdown",
   "metadata": {},
   "source": [
    "**Question 17** : On considère que `memo[n]` est accessible en temps constant ($O(1)$). Dans le cas général, évaluez le coût en temps de l'algorithme avec mémoïsation. Et le coût en espace ?"
   ]
  },
  {
   "cell_type": "markdown",
   "metadata": {},
   "source": [
    "## Version itérative *ascendante*\n",
    "\n",
    "\n",
    "### Algorithme\n",
    "\n",
    "On va utiliser un tableau `nb` dans lequel on va stocker successivement les différents nombres de pièces à rendre pour $n=0$, $n=1$, ... jusqu'à $n=s$.\n",
    "\n",
    "Le tableau `nb` a donc pour taille $s+1$ au départ, que l'on peut créer en le complétant avec des zéros pour commencer. \n",
    "\n",
    "A la fin de l'algorithme, `nb[n]` (pour `n` de $0$ à $s$) doit contenir le nombre de pièces optimal pour rendre la somme `n`. \n",
    "\n",
    "La première case du tableau est correctement initialisée, dont il suffira de remplir le tableau pour toutes les sommes de $1$ à $s$. Pour cela, on peut utiliser une boucle `for` qui parcoure les différentes sommes possibles par ordre croissant des indices (de $1$ à $s$) en utilisant la même formule que pour la version récursive :\n",
    "\n",
    "$$\\text{nb}[n] = 1 + \\min_{p \\leq n} \\left(\\text{nb}[n-p] \\right)$$"
   ]
  },
  {
   "cell_type": "markdown",
   "metadata": {},
   "source": [
    "### Exemple\n",
    "\n",
    "On souhaite faire tourner cet algorithme sur l'exemple $s=8$ et $pieces = [1, 2, 5]$.\n",
    "\n",
    "Le tableau `nb` est initialisé à `[0, 0, 0, 0, 0, 0, 0, 0, 0]` et on va le remplir indice par indice.\n",
    "\n",
    "- Pour $n=1$ :\n",
    "    - on initialise `nb[1]` à `1` puisque dans le pire des cas, on peut rendre la somme 1 avec une pièce ($1 = 1$)\n",
    "    - on regarde ensuite si on peut faire mieux en analysant tous les cas possibles :\n",
    "        - si on rend la pièce 1, il faut encore rendre 0 et on sait que `nb[0] = 0` donc cela ferait $1+0=1$ pièce &#9989;\n",
    "        - on ne peut pas rendre la pièce 2 &#10060;\n",
    "        - on ne peut pas rendre la pièce 5 &#10060;\n",
    "    - à la fin de l'itération, on a donc `nb[1] = 1` et donc `nb = [0, 1, 0, 0, 0, 0, 0, 0, 0]`\n",
    "- Pour $n=2$ :\n",
    "    - on initialise `nb[2]` à `2` puisque dans le pire des cas, on peut rendre la somme 1 avec 2 pièces de 1 ($2 = 1+1$)\n",
    "    - on regarde ensuite si on peut faire mieux en analysant tous les cas possibles :\n",
    "        - si on rend la pièce 1, il faut encore rendre 1 et on sait que `nb[1] = 1` donc cela ferait $1+1=2$ pièces &#10060;\n",
    "        - si on rend la pièce 2, il faut encore rendre 0 et on sait que `nb[0] = 0` donc cela ferait $1+0=1$ pièce &#9989;\n",
    "        - on ne peut pas rendre la pièce 5 &#10060;\n",
    "    - à la fin de l'itération, on trouve que `nb[2] = 1` et donc `nb = [0, 1, 1, 0, 0, 0, 0, 0, 0]`\n",
    "- Ainsi de suite, jusqu'à $n=8$.\n",
    "\n",
    "**Question 18** : Poursuivez cette méthode en précisant toutes les étapes. Dans quelle case du tableau se trouve la réponse au problème ?"
   ]
  },
  {
   "cell_type": "markdown",
   "metadata": {},
   "source": [
    "### Implémentation\n",
    "\n",
    "**Question 19** : Ecrivez une fonction `rendu_monnaie_ascendante(s, pieces)` qui renvoie le nombre minimal de pièces pour rendre la somme `s` avec le système `pieces` en utilisant la méthode ascendante décrite juste au-dessus. *La recherche du minimum suit le même principe que dans les versions récursives précédentes.*"
   ]
  },
  {
   "cell_type": "code",
   "execution_count": null,
   "metadata": {},
   "outputs": [],
   "source": [
    "# à vous de jouer !\n"
   ]
  },
  {
   "cell_type": "markdown",
   "metadata": {},
   "source": [
    "**Question 20** : Vérifiez que cette fonction renvoie la même réponse que ce que vous avez trouvé à la question précédente. Lancez quelques appels pour vérifier l'efficacité de cet algorithme de programmation dynamique."
   ]
  },
  {
   "cell_type": "code",
   "execution_count": null,
   "metadata": {},
   "outputs": [],
   "source": [
    "# à vous de jouer !\n"
   ]
  },
  {
   "cell_type": "markdown",
   "metadata": {},
   "source": [
    "### Construction d'une solution\n",
    "\n",
    "Le programme précédent renvoie le nombre de pièces minimales mais on ne sait pas lesquelles pour autant. L'objectif est de modifier ce dernier pour qu'il renvoie une solution possible du problème.\n",
    "\n",
    "Pour cela, il suffit de créer un deuxième tableau `sol` qui contient, pour chaque somme entre $0$ et $s$, une solution minimale pour cette somme. Il suffira alors de remplir ce tableau à chaque fois que l'on remplit le tableau `nb` en ajoutant la nouvelle pièce `p` retenue à celles de la solution pour rendre `s-p`.\n",
    "\n",
    "On peut initialiser `sol` par un tableau vide dans chaque case.\n",
    "\n",
    "**Question 21** : Ecrivez une fonction `rendu_monnaie_ascendante_solution(s, pieces)` qui renvoie une liste minimale de pièces permettant de rendre la somme `s` avec le système `pieces`. **Attention** : il faudra veiller à copier, avec la méthode `copy`, les listes solution avant d'ajouter la nouvelle pièce"
   ]
  },
  {
   "cell_type": "code",
   "execution_count": null,
   "metadata": {},
   "outputs": [],
   "source": [
    "# à vous de jouer !\n"
   ]
  },
  {
   "cell_type": "markdown",
   "metadata": {},
   "source": [
    "# Exercice 2 : Retour sur l'exemple d'introduction du cours\n",
    "\n",
    "On souhaite écrire une fonction `chemins(n, m)` qui calcule le nombre de chemins sur une grille $n \\times m$, qui mènent du coin supérieur gauche, au coin inférieur droit, en se déplaçant uniquement horizontalement vers la droite et verticalement vers le bas."
   ]
  },
  {
   "cell_type": "markdown",
   "metadata": {},
   "source": [
    "\n",
    "## Relation de récurrence\n",
    "\n",
    "![une grille](data/prog_dyn_intro_2.png)\n",
    "\n",
    "On rappelle que chaque nombre est la somme du nombre situé à droite et du nombre situé en-dessous. Autrement dit, on a la relation de récurrence suivante :\n",
    "\n",
    "$$\\text{chemins}(n, m) = \\left\\{\n",
    "\\begin{array}{l}\n",
    "  1 \\textrm{ si } n = 0 \\text{ ou } m = 0\\\\\n",
    "  \\text{chemins}(n-1, m) + \\text{chemins}(n, m-1) \\textrm{ sinon }\n",
    "\\end{array}\n",
    "\\right.$$"
   ]
  },
  {
   "cell_type": "markdown",
   "metadata": {},
   "source": [
    "## Version récursive naïve\n",
    "\n",
    "La relation de récurrence permet d'écrire la fonction récursive naïve suivante :"
   ]
  },
  {
   "cell_type": "code",
   "execution_count": null,
   "metadata": {},
   "outputs": [],
   "source": [
    "def chemins(n, m):\n",
    "    if n == 0 or m == 0:\n",
    "        return 1\n",
    "    else:\n",
    "        return chemins(n - 1, m) + chemins(n, m - 1)\n",
    "\n",
    "chemins(3, 2), chemins(10, 10)"
   ]
  },
  {
   "cell_type": "markdown",
   "metadata": {},
   "source": [
    "Vous pouvez constater que pour des valeurs un peu plus élevée, le calcul prend plusieurs secondes et si on augmente encore les valeurs de `n` et `m`, le calcul ne termine pas en un temps raisonnable voire jamais."
   ]
  },
  {
   "cell_type": "code",
   "execution_count": null,
   "metadata": {},
   "outputs": [],
   "source": [
    "%time chemins(13, 13)"
   ]
  },
  {
   "cell_type": "markdown",
   "metadata": {},
   "source": [
    "**Objectif** : Utiliser la programmation dynamique pour améliorer l'efficacité de l'algorithme. Vous écrirez une version récursive avec mémoïsation (approche descendante) puis une version itérative avec mémoïsation (approche ascendante)."
   ]
  },
  {
   "cell_type": "markdown",
   "metadata": {},
   "source": [
    "## Version récursive avec mémoïsation (approche descendante)\n",
    "\n",
    "On va utiliser un tableau `memo` pour mémoriser les résultats des calculs afin de ne pas les effectuer deux fois. \n",
    "\n",
    "Le tableau `memo` est de taille $(n+1) \\times (m+1)$ et l'élément `memo[i][j]` représente le nombre de chemins sur une grille $i \\times j$.\n",
    "\n",
    "On peut créer le tableau `memo` avec uniquement des 1 au départ, puisque c'est la valeur minimale des `memo[i][j]`.\n",
    "\n",
    "**Question 1** : Ecrivez une fonction `chemins_memo(n, m, memo)` qui renvoie le nombre de chemins sur une grille de taille $n \\times m$ en utilisant le tableau `memo` pour stocker les résultats calculés afin de ne pas les calculer plusieurs fois."
   ]
  },
  {
   "cell_type": "code",
   "execution_count": null,
   "metadata": {},
   "outputs": [],
   "source": [
    "# à vous de jouer !\n"
   ]
  },
  {
   "cell_type": "markdown",
   "metadata": {},
   "source": [
    "**Question 2** : Ecrivez une fonction `chemins_dyn_desc(n, m)` renvoie le nombre de chemins d'une grille $n \\times m$. Il suffit de lancer le premier appel de la fonction `chemins_memo` sur un tableau ne contenant que des 1."
   ]
  },
  {
   "cell_type": "code",
   "execution_count": null,
   "metadata": {},
   "outputs": [],
   "source": [
    "# à vous de jouer !\n"
   ]
  },
  {
   "cell_type": "markdown",
   "metadata": {},
   "source": [
    "## Version itérative (approche ascendante)\n",
    "\n",
    "On va utiliser un tableau `grille` de taille $(n+1) \\times (m+1)$ dans lequel `grille[i][j]` est le nombre de chemins sur une grille de taille $i \\times j$. \n",
    "\n",
    "On peut commencer par créer ce tableau `grille` avec uniquement des 1, ce qui permet d'initialiser correctement la première ligne et la première colonne. Ensuite, avec deux boucles `for` imbriquées on peut calculer les valeurs `grille[i][j]` en progressant dans le sens des indices croissants et en utilisant la relation de récurrence.\n",
    "\n",
    "**Question 3** : Ecrivez une fonction `chemin_dyn_asc(n, m)` qui renvoie le nombre de chemins d'une grille de taille $n \\times m$ en construisant et complétant le tableau `grille` au fur et à mesure."
   ]
  },
  {
   "cell_type": "code",
   "execution_count": null,
   "metadata": {},
   "outputs": [],
   "source": [
    "# à vous de jouer !\n"
   ]
  },
  {
   "cell_type": "markdown",
   "metadata": {},
   "source": [
    "# Exercice 3 : Alignement de séquences\n",
    "\n",
    "L'*alignement de séquences* est un problème algorithmique classique de bio-informatique visant typiquement à comparer deux séquences d'ADN dans l'idée que si deux séquences d'ADN représentant des gènes sont similaires, alors la fonction du gène est probablement la même.\n",
    "\n",
    "![alignement de séquences génétiques](data/Multalign.svg)\n",
    "\n",
    "<p style=\"text-align: center\">\n",
    "<a href=\"https://commons.wikimedia.org/wiki/File:Multalign.svg\">Fdardel</a>, <a href=\"https://creativecommons.org/licenses/by-sa/3.0\">CC BY-SA 3.0</a>, via Wikimedia Commons\n",
    "</p>"
   ]
  },
  {
   "cell_type": "markdown",
   "metadata": {},
   "source": [
    "**Décontextualisation** : On peut représenter deux séquences comme deux chaînes de caractères $T_1$ et $T_2$ et l'objectif est d'étudier leur degré de similarité (ou dissimilarité). Il y a deux approches possibles :\n",
    "- soit on étudie leur dissimilarité : on cherche donc à *minimiser* la *distance* $d(T_1, T_2)$ entre les deux chaînes ;\n",
    "- soit on étudie leur similarité : on cherche donc à *maximiser* un score de ressemblance $s(T_1, T_2)$ entre les deux chaînes.\n",
    "\n",
    "Dans cet exercice, on choisira la première option : *minimiser* la distance entre deux chaînes."
   ]
  },
  {
   "cell_type": "markdown",
   "metadata": {},
   "source": [
    "## Distance d'édition et alignement\n",
    "\n",
    "Pour mesurer la distance entre deux chaînes, on choisit d'utiliser la **distance d'édition**, aussi appelée [*distance de Levenshtein*](https://fr.wikipedia.org/wiki/Distance_de_Levenshtein).\n",
    "\n",
    "L'objectif est de passer d'une chaîne à l'autre au moyen de 3 opérations :\n",
    "- insertion (d'un caractère $c$ dans $T_1$)\n",
    "- suppression (d'un caractère $c$ dans $T_1$)\n",
    "- substitution (d'un caractère $c$ par un autre caractère $c'$ dans $T_1$)\n",
    "\n",
    "Chacune de ces opérations a un coût et la *distance d'édition*, notée $dE$, minimise la somme de ces coûts pour passer d'une chaîne à l'autre. Autrement dit, la distance d'édition est égale au nombre minimal de caractères qu'il faut insérer, supprimer, ou substituer pour passer d'une chaîne à l'autre.\n",
    "\n",
    "**Dans la suite, on supposera que les coûts des trois opérations sont tous égaux à 1 !!**"
   ]
  },
  {
   "cell_type": "markdown",
   "metadata": {},
   "source": [
    "**Exemple** : $T_1$ = SUCCES et $T_2$ = ECHECS. On peut considérer l'alignement suivant :\n",
    "\n",
    "```\n",
    "S U C C E - S\n",
    "- E C H E C S\n",
    "```\n",
    "Les tirets (-) sur le premier mot correspondent à une supression, et les tirets sur le deuxième mot correspondent à une insertion. Si deux caractères sont alignés : soit il s'agit d'une substitution s'ils sont différents, soit il s'agit d'une correspondance s'ils sont égaux (le coût est nul dans ce cas).\n",
    "\n",
    "Autrement dit, avec cet alignement, pour passer de SUCCES à ECHECS, on a effectué les opérations suivantes :\n",
    "- suppression de S : <span><strong>-</strong></span>UCCES (coût = 1)\n",
    "- substitution de U par E : <span><strong>E</strong></span>CCES (coût = 1)\n",
    "- correspondance de C : E<span><strong>C</strong></span>CES\n",
    "- substitution de C par H : EC<span><strong>H</strong></span>ES (coût = 1)\n",
    "- correspondance de E : ECH<span><strong>E</strong></span>S\n",
    "- insertion de C : ECHE<span><strong>C</strong></span>S (coût = 1)\n",
    "- correspondance de S : ECHEC<span><strong>S</strong></span>\n",
    "\n",
    "On obtient un coût total égal à 4 (en fait il s'agit d'un alignement optimal, donc $\\text{dE(SUCCES, ECHECS) = 4}$, comme on le verra plus tard)."
   ]
  },
  {
   "cell_type": "markdown",
   "metadata": {},
   "source": [
    "**Question 1** : $T_1$ = SUCCES et $T_2$ = ECHECS. On considère l'alignement suivant\n",
    "\n",
    "```\n",
    "S - U C C E - S \n",
    "- E - C H E C S\n",
    "```\n",
    "1. Ecrivez les opérations pour passer de SUCCES à ECHECS avec cet alignement.\n",
    "2. Quelle est le coût de cet alignement ? Cet alignement est-il meilleur que le précédent ?"
   ]
  },
  {
   "cell_type": "markdown",
   "metadata": {},
   "source": [
    "**Moralité** : Plusieurs alignements sont possibles et parmis ces alignements, certains ont un coût minimal : il s'agit d'alignements optimaux dont le coût est égal à la distance d'édition entre les deux chaîne. Ainsi, trouver un alignement optimal est équivalent à déterminer la distance d'édition."
   ]
  },
  {
   "cell_type": "markdown",
   "metadata": {},
   "source": [
    "## Relation de récurrence\n",
    "\n",
    "Le calcul de la distance d'édition entre deux chaînes peut se faire à partir de celles de chaînes plus petites. Cela permet de dégager une relation de récurrence qui sera exploitée par les algorithmes calculant la distance d'édition.\n",
    "\n",
    "**Notations** : Dans la suite, on notera:\n",
    "- $n_1$ la longueur de $T_1$ ; $n_2$ la longueur de $T_2$\n",
    "- $T_1[i]$ le $i$-ème caractère de $T_1$ ; $T_2[j]$ le $j$-ème caractère de $T_2$ (avec $1\\leq i \\leq n_1$ et $1\\leq j \\leq n_2$)\n",
    "- $T_1[1..i]$ les $i$ premiers caractères de $T_1$ ; $T_2[1..j]$ les $j$ premiers caractères de la chaîne $T_2$, (avec $1\\leq i \\leq n_1$ et $1\\leq j \\leq n_2$)."
   ]
  },
  {
   "cell_type": "markdown",
   "metadata": {},
   "source": [
    "**Comment peut-on calculer $\\text{dE}(T_1[1..i], T_2[1..j])$ si on connait $\\text{dE}()$ pour des \"bouts de textes\" plus courts ?**\n",
    "\n",
    "Supposons avoir aligné $T_1[1..i]$ et $T_2[1..j]$ (les $i$ premiers caractères de $T_1$ et les $j$ premiers caractères de $T_2$) et cherchons le coût de cet alignement. On regarde l'alignement le plus à droite. Quatre cas se présentent :\n",
    "\n",
    "- Suppression : $T_1[i]$ s'aligne sur &laquo; - &raquo;. Cela demande à avoir aligné $T_1[1..i-1]$ et $T_2[1..j]$ et supprimé $T_1[i]$. On a donc dans ce cas : $$\\text{cout}(T_1[1..i], T_2[1..j]) = \\text{cout}(T_1[1..i-1], T_2[1..j]) + \\underbrace{1}_{\\text{coût suppression}}$$\n",
    "\n",
    "\n",
    "- Insertion : &laquo; - &raquo; s'aligne sur $T_2[j]$. Cela demande à avoir aligné $T_1[1..i]$ et $T_2[1..j-1]$ et inséré $T_2[j]$. On a donc dans ce cas : $$\\text{cout}(T_1[1..i], T_2[1..j]) = \\text{cout}(T_1[1..i], T_2[1..j-1]) + \\underbrace{1}_{\\text{coût insertion}}$$\n",
    "\n",
    "\n",
    "- Substitution : $T_1[i]$ s'aligne sur $T_2[j]$ avec $T_1[i] \\neq T_2[j]$. Cela demande d'avoir aligné $T_1[1..i-1]$ et $T_2[1..j-1]$ et substitué $T_1[i]$ par $T_2[j]$. On a donc dans ce cas : $$\\text{cout}(T_1[1..i], T_2[1..j]) = \\text{cout}(T_1[1..i-1], T_2[1..j-1]) + \\underbrace{1}_{\\text{coût substitution}}$$\n",
    "\n",
    "\n",
    "- Correspondance : $T_1[i]$ s'aligne sur $T_2[j]$ avec $T_1[i] = T_2[j]$. Cela demande d'avoir aligné $T_1[1..i-1]$ et $T_2[1..j-1]$ et c'est tout (on substitue le caractère par lui-même). On a donc dans ce cas : $$\\text{cout}(T_1[1..i], T_2[1..j]) = \\text{cout}(T_1[1..i-1], T_2[1..j-1]) + \\underbrace{0}_{\\text{sans surcoût}}$$"
   ]
  },
  {
   "cell_type": "markdown",
   "metadata": {},
   "source": [
    "Comme la distance d'édition cherche à minimiser le coût d'un alignement, il faut choisir la valeur minimale de coût à chaque fois (parmi les 4 possibilités). On en déduit la relation de récurrence suivante (on a regroupé les deux derniers cas ensemble en introduisant un coût de substitution qui vaut 1 ou 0 selon les cas) :\n",
    "\n",
    "$$\\text{dE}(T_1[1..i], T_2[1..j]) = \\min \\left\\{\n",
    "\\begin{array}{l}\n",
    "  \\text{dE}(T_1[1..i-1], T_2[1..j]) + 1\\\\\n",
    "  \\text{dE}(T_1[1..i], T_2[1..j-1]) + 1\\\\\n",
    "  \\text{dE}(T_1[1..i-1], T_2[1..j-1]) + \\text{sub}(T_1[i], T_2[j])\n",
    "\\end{array}\n",
    "\\right.$$\n",
    "\n",
    "où $\\text{sub}(a, b) = \\left\\{\n",
    "\\begin{array}{l}\n",
    "  0 \\text{ si } a = b \\text{ (correspondance)}\\\\\n",
    "  1 \\text{ si } a \\neq b \\text{ (substitution)}\n",
    "\\end{array}\n",
    "\\right.\n",
    "$\n"
   ]
  },
  {
   "cell_type": "markdown",
   "metadata": {},
   "source": [
    "## Version récursive naïve\n",
    "\n",
    "On peut utiliser cette relation de récurrence pour écrire l'algorithme récursif naïf correspondant. Voici une version avec des *slices* qui est plus rapide à écrire (mais dont le coût en espace est plus important)."
   ]
  },
  {
   "cell_type": "code",
   "execution_count": null,
   "metadata": {},
   "outputs": [],
   "source": [
    "# Version récursive naïve\n",
    "def dE(t1, t2):    \n",
    "    if len(t1) == 0:\n",
    "        return len(t2)\n",
    "    elif len(t2) == 0:\n",
    "        return len(t1)\n",
    "    else:\n",
    "        if t1[-1] == t2[-1]:\n",
    "            sub = 0\n",
    "        else:\n",
    "            sub = 1\n",
    "        return min(dE(t1[0:-1], t2) + 1, dE(t1, t2[0:-1]) + 1, dE(t1[0:-1], t2[0:-1]) + sub)"
   ]
  },
  {
   "cell_type": "markdown",
   "metadata": {},
   "source": [
    "On peut constater que cela marche pour des mots assez courts"
   ]
  },
  {
   "cell_type": "code",
   "execution_count": null,
   "metadata": {},
   "outputs": [],
   "source": [
    "%time dE('SUCCES', 'ECHECS')"
   ]
  },
  {
   "cell_type": "markdown",
   "metadata": {},
   "source": [
    "Que cela prend un peu plus de temps si on augmente un peu la longueur des mots."
   ]
  },
  {
   "cell_type": "code",
   "execution_count": null,
   "metadata": {},
   "outputs": [],
   "source": [
    "%time dE('DESTRUCTION', 'CREATION')"
   ]
  },
  {
   "cell_type": "markdown",
   "metadata": {},
   "source": [
    "Et que cela ne termine pas en un temps raisonnable (voire pas du tout) si les mots sont encore un peu plus longs (*Vous pourrez stopper l'exécution manuellement si besoin*)."
   ]
  },
  {
   "cell_type": "code",
   "execution_count": null,
   "metadata": {},
   "outputs": [],
   "source": [
    "%time dE('SOUSTRACTION', 'MULTIPLICATION')"
   ]
  },
  {
   "cell_type": "markdown",
   "metadata": {},
   "source": [
    "**Question 2** : Dessinez les 3 premiers niveaux de l'arbre d'appels récursifs si on lance `dE('SUCCES', 'ECHECS')`. *On pourra juste noter les deux chaînes en arguments pour gagner un peu de temps*. \n",
    "\n",
    ">Vous devez constater qu'il y a des appels redondants, et qu'ils deviennent vite beaucoup trop nombreux dès que la longueur des chaînes augmente un peu. L'efficacité est catastrophique !"
   ]
  },
  {
   "cell_type": "markdown",
   "metadata": {},
   "source": [
    "## Programmation dynamique\n",
    "\n",
    "Vous allez maintenant utiliser la programmation dynamique pour améliorer l'algorithme précédents. On ne traitera que la version itérative ascendante (la version récursive avec mémoïsation est laissée en exercice).\n",
    "\n",
    "### Tableau de mémorisation\n",
    "\n",
    "Comme pour les exemples précédents, l'idée est d'utiliser un tableau pour stocker les réponses déjà connues pour ne pas les calculer plusieurs fois."
   ]
  },
  {
   "cell_type": "markdown",
   "metadata": {},
   "source": [
    "Dans le cas de l'alignement de séquence : \n",
    "\n",
    "- on va utiliser un tableau `D` à deux dimensions de taille $(n1 + 1)\\times(n2 + 1)$.\n",
    "- Pour tous $1\\leq i \\leq n_1$ et pour tous $1 \\leq j \\leq n_2$, on a :  `D[i][j]` $= \\text{dE}(T_1[1..i], T_2[1..j])$ (l'élément en position $(i,j)$ est la distance d'édition entre les $i$ premiers caractères de $T_1$ et les $j$ premiers caractères $T_2$)\n",
    "- La solution $\\text{dE}(T_1, T_2)$ se trouve dans la case en bas à droite `D[n1][n2]`.  \n",
    "\n",
    "![le tableau](data/tableau_align_seq.png)"
   ]
  },
  {
   "cell_type": "markdown",
   "metadata": {},
   "source": [
    "**Remarques** : \n",
    "- On ajouté une première ligne et une première colonne qui permettront de simplifier le début du remplissage du tableau. Cette première ligne contient $\\varepsilon$ qui désigne un mot vide.\n",
    "- Dans cet exemple, la case en position $(2,4)$ c'est-à-dire `D[2][4]` contient la distance d'édition entre les deux premières caractères de `'SUCCES'` et les quatre premiers caractères de `'ECHECS'`, donc elle contient $\\text{dE('SU', 'ECHE')}$."
   ]
  },
  {
   "cell_type": "markdown",
   "metadata": {},
   "source": [
    "### Remplissage du tableau\n",
    "\n",
    "- On peut remplir facilement la première ligne et la première colonne car on cherche à chaque fois la distance avec un mot vide : il faut insérer ou supprimer le nombre de lettres du second mot. On obtient alors :\n",
    "\n",
    "![tableau](data/tableau_align_seq2.png)\n",
    "\n",
    "- Il suffit de remplir ensuite le tableau ligne par ligne et de haut en bas en utilisant la relation de récurrence."
   ]
  },
  {
   "cell_type": "markdown",
   "metadata": {},
   "source": [
    "**Question 3** : Exprimez `D[i][j]` en fonction de `D[i-1][j]`, `D[i][j-1]` et `D[i-1][j-1]` (avec `i` entre 1 et $n_1$, et `j` entre 1 et $n_2$) puis identifiez les 4 cases en question dans le tableau `D`."
   ]
  },
  {
   "cell_type": "markdown",
   "metadata": {},
   "source": [
    "**Question 4** : Pour compléter une case du tableau on utilise soit celle à sa gauche, soit celle au-dessus, soit celle au-dessus à gauche en diagonale. Selon le cas, indiquez s'il s'agit d'une substitution, d'une suppression, d'une insertion ou d'une correspondance."
   ]
  },
  {
   "cell_type": "markdown",
   "metadata": {},
   "source": [
    "**Question 5** : Vous devriez avoir tous les éléments pour compléter le tableau `D`. Faites-le et déduisez-en la distance d'édition entre les mots SUCCESS et ECHECS."
   ]
  },
  {
   "cell_type": "markdown",
   "metadata": {},
   "source": [
    "**Question 6** : Utilisez un tableau pour déterminer la distance d'édition entre les mots NICHE et CHIENS."
   ]
  },
  {
   "cell_type": "markdown",
   "metadata": {},
   "source": [
    "### Implémentation\n",
    "\n",
    "**Question 7** : Écrivez une fonction `dE(t1, t2)` qui renvoie la distance d'édition entre les chaînes `t1` et `t2` ainsi que le tableau `D` (permettra de vérifier!). Vous utiliserez la méthode itérative ascendante qui construit la table de programmation dynamique `D` comme évoqué dans les question précédentes. *On pourra créer le tableau `D` de départ avec des zéros puis initialiser la première ligne et la première colonne.* "
   ]
  },
  {
   "cell_type": "code",
   "execution_count": null,
   "metadata": {},
   "outputs": [],
   "source": [
    "# A vous de jouer !\n"
   ]
  },
  {
   "cell_type": "markdown",
   "metadata": {},
   "source": [
    "**Question 8** : Testez la fonction, en particulier pour vérifier vos réponses aux questions 5 et 6 (distances entre SUCCES et ECHECS, puis entre NICHE et CHIENS. Vous vérifierez également que l'on obtient des réponses rapides mêmes pour des mots plus longs."
   ]
  },
  {
   "cell_type": "code",
   "execution_count": null,
   "metadata": {},
   "outputs": [],
   "source": [
    "# à vous de jouer !\n"
   ]
  },
  {
   "cell_type": "markdown",
   "metadata": {},
   "source": [
    "### Construction d'un alignement optimal\n",
    "\n",
    "Pour trouver un alignement optimal entre $T_1$ et $T_2$ il suffit de *remonter* depuis `D[n1][n2]` vers `D[0][0]` (de la case en bas à droite à celle en haut à gauche) en considérant à chaque fois le \"meilleur\" des 3 voisins, c'est-à-dire celui par lequel on a pu arriver ! (il peut parfois y en avoir plusieurs). Il faut se rappeler (cf. question 4) que :\n",
    "\n",
    "- Si on monte, il s'agit d'une suppression\n",
    "- Si on va à gauche, il s'agit d'une insertion\n",
    "- Si on va en diagonale, il s'agit d'une substitution ou d'une correspondance"
   ]
  },
  {
   "cell_type": "markdown",
   "metadata": {},
   "source": [
    "Par exemple, le tableau `D` correspondant à l'alignement entre SUCCES et ECHECS est :\n",
    "\n",
    "![alignement optimal](data/tableau_align_seq3.png)"
   ]
  },
  {
   "cell_type": "markdown",
   "metadata": {},
   "source": [
    "On peut alors construire un alignement optimal (en partant de la fin ou du début) :\n",
    "\n",
    "```\n",
    "S U C C E - S \n",
    "- E C H E C S\n",
    "```\n",
    "\n",
    "**Question 9** : Déterminez un autre alignement optimal de ce deux chaînes."
   ]
  },
  {
   "cell_type": "markdown",
   "metadata": {},
   "source": [
    "**Question 10** : Utilisez le tableau de la question 6 pour trouver un alignement optimal entre NICHE et CHIENS. Y en a-t-il d'autres ?"
   ]
  },
  {
   "cell_type": "markdown",
   "metadata": {},
   "source": [
    "**Question 11 (exercice)** : Écrivez une fonction `alignement_optimal(t1, t2)` qiu renvoie un alignement optimal entre les deux chaînes `t1` et `t2`. On peut bien sûr s'appuyer sur la fonction `dE` de la question 7."
   ]
  },
  {
   "cell_type": "markdown",
   "metadata": {},
   "source": [
    "**Question 12 (exercice)** : Écrivez une fonction permettant de calculer la distance d'édition entre deux chaînes en utilisant une version récursive avec mémoïsation."
   ]
  },
  {
   "cell_type": "markdown",
   "metadata": {},
   "source": [
    "---\n",
    "\n",
    "**Références :**\n",
    "- Equipe pédagogique DIU EIL, Université de Nantes.\n",
    "- Articles Wikipédia sur la [Programmation dynamique](https://fr.wikipedia.org/wiki/Programmation_dynamique) et sur la [Distance de Levensthein](https://fr.wikipedia.org/wiki/Distance_de_Levenshtein) \n",
    "- Livre *Spécialité Numérique et sciences informatiques : 24 leçons avec exercices corrigés - Terminale*, éditions Ellipses, T. Balabonski, S. Conchon, J.-C. Filliâtre, K. Nguyen. Site du livre : [http://www.nsi-terminale.fr/](http://www.nsi-terminale.fr/) pour l'idée de l'exercice 2 notamment.\n",
    "- Livre *Spécialité Numérique et sciences informatiques : 30 leçons avec exercices corrigés - Première*, éditions Ellipses, T. Balabonski, S. Conchon, J.-C. Filliâtre, K. Nguyen. Site du livre : [http://www.nsi-premiere.fr/](http://www.nsi-premiere.fr/) pour la version gloutonne de l'exercice 1.\n",
    "- Cours de David Roche sur le Pixees : [Programmation dynamique](https://pixees.fr/informatiquelycee/n_site/nsi_term_algo_progdyn.html)\n",
    "- Un cours sur la programmation dynamique : [http://www-desir.lip6.fr/~spanjaard/pmwiki/uploads/ProgrammationDynamique.pdf](http://www-desir.lip6.fr/~spanjaard/pmwiki/uploads/ProgrammationDynamique.pdf)\n",
    "\n",
    "---\n",
    "Germain BECKER, Lycée Mounier, ANGERS \n",
    "\n",
    "![Licence Creative Commons](https://i.creativecommons.org/l/by-nc-sa/4.0/88x31.png)"
   ]
  }
 ],
 "metadata": {
  "kernelspec": {
   "display_name": "Python 3",
   "language": "python",
   "name": "python3"
  },
  "language_info": {
   "codemirror_mode": {
    "name": "ipython",
    "version": 3
   },
   "file_extension": ".py",
   "mimetype": "text/x-python",
   "name": "python",
   "nbconvert_exporter": "python",
   "pygments_lexer": "ipython3",
   "version": "3.7.3"
  }
 },
 "nbformat": 4,
 "nbformat_minor": 2
}
