{
 "cells": [
  {
   "cell_type": "markdown",
   "metadata": {},
   "source": [
    "<h1 style=\"font-size: 30px; text-align: center\">Diviser pour régner - EXERCICES</h1>\n",
    "\n",
    "---"
   ]
  },
  {
   "cell_type": "markdown",
   "metadata": {},
   "source": [
    "# Exercice 1 : Palindromes\n",
    "\n",
    "Une chaîne est un *palindrome* si elle peut se lire de la même manière dans les deux sens, de gauche à droite et de droite à gauche. Par exemple :\n",
    "\n",
    "- `\"ressasser`, `\"radar\"`, `\"12321\"` sont des palindromes ;\n",
    "- `\"nsi\"`, `\"toto\"` n'en sont pas.\n",
    "\n",
    "On se propose d'écrire une fonction récursive `est_palindrome(ch)` qui renvoie Vrai si la chaine `ch` passée en argument est un palindrome et Faux sinon.\n",
    "\n",
    "## Une première version utilisant le *slicing*\n",
    "\n",
    "On considère la chaîne suivante."
   ]
  },
  {
   "cell_type": "code",
   "execution_count": null,
   "metadata": {},
   "outputs": [],
   "source": [
    "ch = \"ressasser\""
   ]
  },
  {
   "cell_type": "markdown",
   "metadata": {},
   "source": [
    "**Question 1** : Quels *slices* permettent d'accéder :\n",
    "\n",
    "- au premier caractère de `ch` ?\n",
    "- au dernier caractère de `ch` ?\n",
    "- à une chaîne privée du premier et du dernier caractères de `ch`."
   ]
  },
  {
   "cell_type": "code",
   "execution_count": null,
   "metadata": {},
   "outputs": [],
   "source": [
    "# à compléter"
   ]
  },
  {
   "cell_type": "markdown",
   "metadata": {},
   "source": [
    "**Question 2** : En utilisant les *slices*, complétez la fonction suivante."
   ]
  },
  {
   "cell_type": "code",
   "execution_count": null,
   "metadata": {},
   "outputs": [],
   "source": [
    "def est_palindrome(ch):\n",
    "    if len(ch) <= 1:\n",
    "        return ...\n",
    "    else:\n",
    "        return ..."
   ]
  },
  {
   "cell_type": "markdown",
   "metadata": {},
   "source": [
    "**Question 3** : Au moyen du mot clé `assert`, écrivez un bon jeu de tests pour cette fonction. Vérifiez que les tests passent avec succès. "
   ]
  },
  {
   "cell_type": "code",
   "execution_count": null,
   "metadata": {},
   "outputs": [],
   "source": []
  },
  {
   "cell_type": "markdown",
   "metadata": {},
   "source": [
    "**Question 4** : Expliquez pourquoi cet algorithme est un exemple de la méthode *diviser pour régner*."
   ]
  },
  {
   "cell_type": "markdown",
   "metadata": {},
   "source": [
    "**Question 5** : Rendez-vous sur [Python tutor](http://www.pythontutor.com/visualize.html#code=def%20est_palindrome%28ch%29%3A%0A%20%20%20%20if%20len%28ch%29%20%3C%3D%201%3A%0A%20%20%20%20%20%20%20%20return%20True%0A%20%20%20%20else%3A%0A%20%20%20%20%20%20%20%20return%20ch%5B0%5D%20%3D%3D%20ch%5B-1%5D%20and%20est_palindrome%28ch%5B1%3A-1%5D%29%0A%0Aest_palindrome%28%22ressasser%22%29&cumulative=false&curInstr=0&heapPrimitives=nevernest&mode=display&origin=opt-frontend.js&py=3&rawInputLstJSON=%5B%5D&textReferences=false) et exécutez en mode pas à pas le déroulement des appels récursifs de cette fonction pour la chaîne `\"ressasser\"`.\n",
    "\n",
    "1. Expliquez pourquoi cet exemple constitue un *pire cas* dans l'étude du coût de l'algorithme ?\n",
    "2. Combien de comparaisons on été effectuées ?\n",
    "3. Si la chaîne de départ est un palindrome de longueur `n`, combien de comparaisons sont effectuées ?\n",
    "4. Quel est le coût en temps de cet algorithme ?"
   ]
  },
  {
   "cell_type": "markdown",
   "metadata": {},
   "source": [
    "**Question 6** : Le *slicing* a un coût en mémoire caché. En effet, chaque appel `ch[1:-1]` induit la création d'une nouvelle chaîne qu'il faut stocker en mémoire. On peut le voir facilement avec Python tutor. Dans le pire cas, pour une chaîne de longueur `n` au départ, combien de chaînes doivent être créées pour répondre au problème ? "
   ]
  },
  {
   "cell_type": "markdown",
   "metadata": {},
   "source": [
    "## Une deuxième version améliorée\n",
    "\n",
    "En réalité, on peut se passer de la création de toutes ces chaînes intermédiaires en utilisant et en faisant varier (comme pour la recherche dichotomique) les indices `g` (pour gauche) et `d` (pour droite) des caractères restants.\n",
    "\n",
    "**Question 7** : Ecrivez la fonction `palindrome(ch, g, d)` qui renvoie `True` si la chaine `ch[g..d]` (c'est-à-dire la chaîne `ch` limitée à ses caractères entre les positions `g` et `d`) est un palindrome et `False` sinon. Il suffit d'adapter la fonction de la première version."
   ]
  },
  {
   "cell_type": "code",
   "execution_count": null,
   "metadata": {},
   "outputs": [],
   "source": [
    "# à compléter\n"
   ]
  },
  {
   "cell_type": "markdown",
   "metadata": {},
   "source": [
    "**Question 8** : Quel appel à cette fonction faut-il faire pour tester si `mot` est un palindrome ?"
   ]
  },
  {
   "cell_type": "code",
   "execution_count": null,
   "metadata": {},
   "outputs": [],
   "source": [
    "mot = \"ressasser\"\n",
    "# à compléter par le bon appel :\n"
   ]
  },
  {
   "cell_type": "markdown",
   "metadata": {},
   "source": [
    "**Question 9** : Pour éviter cette écriture un peu lourde, il suffit de créer une autre fonction `est_palindrome2(ch)` qui est chargée de lancer le premier appel à la fonction récursive `palindrome`. Complétez le code de la fonction `est_palindrome2(ch)`."
   ]
  },
  {
   "cell_type": "code",
   "execution_count": null,
   "metadata": {},
   "outputs": [],
   "source": [
    "def est_palindrome2(ch):\n",
    "    # à compléter\n",
    "    pass"
   ]
  },
  {
   "cell_type": "markdown",
   "metadata": {},
   "source": [
    "> La fonction `est_palindrome2` est appelée une *fonction d'interface* qui permet d'ajouter des arguments à une fonction sans que l'utilisateur ait à s'en préoccuper."
   ]
  },
  {
   "cell_type": "markdown",
   "metadata": {},
   "source": [
    "**Question 10** : Vérifiez avec [Python tutor](http://www.pythontutor.com/visualize.html#code=def%20palindrome%28ch,%20g,%20d%29%3A%0A%20%20%20%20if%20d%20-%20g%20%3C%201%3A%0A%20%20%20%20%20%20%20%20return%20True%0A%20%20%20%20else%3A%0A%20%20%20%20%20%20%20%20return%20ch%5Bg%5D%20%3D%3D%20ch%5Bd%5D%20and%20palindrome%28ch,%20g%2B1,%20d-1%29%0A%0Adef%20est_palindrome2%28ch%29%3A%0A%20%20%20%20%23%20%C3%A0%20compl%C3%A9ter%0A%20%20%20%20return%20palindrome%28ch,%200,%20len%28ch%29-1%29%0A%0Aprint%28est_palindrome2%28%22ressasser%22%29%29&cumulative=false&curInstr=0&heapPrimitives=nevernest&mode=display&origin=opt-frontend.js&py=3&rawInputLstJSON=%5B%5D&textReferences=false) qu'avec cette version, il n'y a qu'une chaîne `ch` à mémoriser (celle de départ). On obtient un algorithme avec un coût mémoire inférieur à la première version."
   ]
  },
  {
   "cell_type": "markdown",
   "metadata": {},
   "source": [
    "# Exercice 2 : Calcul du minimum d'une liste\n",
    "\n",
    "On peut appliquer la méthode *diviser pour régner* afin de déterminer la valeur minimale d'une liste (ou tableau) non vide  d'entiers. Voici les trois étapes de la résolution du problème :\n",
    "\n",
    "1. DIVISER : on \"coupe\" la liste en deux sous-listes de même taille (à un élément prêt) ;\n",
    "2. REGNER : on cherche récursivement le minimum de chacune des deux sous-listes jusqu'à obtenir une liste d'un élément qui a pour minimum cet élément ;\n",
    "3. COMBINER : on peut calculer la réponse au problème en utilisant le fait que le minimum d'une liste est le minimum des deux minimums de ses deux sous-listes.\n",
    "\n",
    "> On peut écrire un algorithme utilisant le *slicing* mais, comme pour l'exercice précédent, cela induira un coût en mémoire supplémentaire (avec la création des toutes les listes intermédiaires). Pour éviter cela, on écrira uniquement une version \"améliorée\" qui utilise les indices `g` et `d` du premier et du dernier élément de chaque liste.\n",
    "\n",
    "**Question 1** : On note `m = (g + d) // 2` la position de l'élément central de la liste `L[g..d]`. On veut écrire une fonction récursive `mini(L, g, d)` qui renvoie la valeur minimale de `L[g..d]`.\n",
    "\n",
    "Complétez la définition de cette fonction. On pourra utiliser la fonction `min(a, b)` qui renvoie la valeur minimale de deux nombres `a` et `b`.\n",
    "\n",
    "$$\\text{mini(L, g, d)} = \\left\\{\n",
    "\\begin{array}{l}\n",
    "  \\text{L[...]} \\hspace{4.5cm} \\textrm{ si } \\text{g = d} \\\\\n",
    "  \\ldots \\hspace{4.9cm} \\textrm{ sinon } \n",
    "\\end{array}\n",
    "\\right.$$\n",
    "\n"
   ]
  },
  {
   "cell_type": "markdown",
   "metadata": {},
   "source": [
    "**Question 2**: Ecrivez la fonction Python correspondante."
   ]
  },
  {
   "cell_type": "code",
   "execution_count": null,
   "metadata": {},
   "outputs": [],
   "source": [
    "# à compléter"
   ]
  },
  {
   "cell_type": "markdown",
   "metadata": {},
   "source": [
    "**Question 3** : Ecrivez la fonction d'interface `minimum(L)` qui est chargée d'effectuer le premier appel à la fonction `mini`, et qui renvoie la réponse au problème, c'est-à-dire le minimum d'une liste `L` non vide)."
   ]
  },
  {
   "cell_type": "code",
   "execution_count": null,
   "metadata": {},
   "outputs": [],
   "source": [
    "# à compléter"
   ]
  },
  {
   "cell_type": "markdown",
   "metadata": {},
   "source": [
    "**Question 4** : Recopiez et complétez l'arbre des appels récursifs à la fonction `mini` si on effectue l'appel `minimum([5, 2, 4, 3, 5])`. Vous indiquerez par des numéros l'ordre des différents appels (1 pour le premier, 2 pour le deuxième,...). On pourra uniquement écrire la \"portion de liste\" sur laquelle porte chaque appel pour gagner du temps.\n",
    "\n",
    "<img src=\"data/arbre_appels_minimum_liste.png\" alt=\"arbre d'appels\">"
   ]
  },
  {
   "cell_type": "markdown",
   "metadata": {},
   "source": [
    "> On peut visualiser les appels successifs avec [Python tutor](http://www.pythontutor.com/visualize.html#code=def%20mini%28L,%20g,%20d%29%3A%0A%20%20%20%20if%20d%20%3D%3D%20g%3A%0A%20%20%20%20%20%20%20%20return%20L%5Bd%5D%0A%20%20%20%20else%3A%0A%20%20%20%20%20%20%20%20m%20%3D%20%28g%20%2B%20d%29%20//%202%0A%20%20%20%20%20%20%20%20minG%20%3D%20mini%28L,%20g,%20m%29%0A%20%20%20%20%20%20%20%20minD%20%3D%20mini%28L,%20m%2B1,%20d%29%0A%20%20%20%20%20%20%20%20return%20min%28minG,%20minD%29%0A%0Adef%20minimum%28L%29%3A%0A%20%20%20%20return%20mini%28L,%200,%20len%28L%29-1%29%0A%0Aprint%28minimum%28%5B5,%202,%204,%203,%205%5D%29%29&cumulative=false&curInstr=0&heapPrimitives=nevernest&mode=display&origin=opt-frontend.js&py=3&rawInputLstJSON=%5B%5D&textReferences=false). Dans le code présenté, on a pris soin de stocker les minimums des sous-listes gauche et droite dans deux variables pour plus de lisibilité et pour mieux suivre. Cela vous permettra de vérifier votre réponse à la question précédente."
   ]
  },
  {
   "cell_type": "markdown",
   "metadata": {},
   "source": [
    "# Exercice 3 : Le tri fusion\n",
    "\n",
    "> En anglais, *merge sort*.\n",
    "\n",
    "Vous avez découvert et implémenté en classe de Première deux algorithmes de tri : le tri par sélection et le tri par insertion. Nous avions vu que ces deux algorithmes ont un coût quadratique (de l'ordre de $n^2$, où $n$ est la taille du tableau/liste à trier).\n",
    "\n",
    "Il existe des algorithmes plus efficaces (de moindre coût) pour trier une liste. Le *tri fusion* en fait partie et c'est l'objet de cet exercice.\n",
    "\n",
    "## Principe du *tri fusion*\n",
    "\n",
    "L'idée du *tri fusion* est la suivante : on sépare les éléments de la liste en deux sous-listes de tailles égales à un élément prêt. Ensuite, on tri *récursivement* chacune des deux listes avec le tri fusion, jusqu'à obtenir des listes d'au plus un élément qui sont déjà triées. Ensuite, on fusionne les deux listes triées.\n",
    "\n",
    "**Exemple**\n",
    "\n",
    "![Tri fusion appliqué à un tableau de 7 éléments](data/Mergesort_algorithm_diagram.png)"
   ]
  },
  {
   "cell_type": "markdown",
   "metadata": {},
   "source": [
    "**Question 1** : Justifier pourquoi cet algorithme repose sur principe *diviser pour régner*. Vous identifierez clairement les trois étapes de ce principe algorithmique."
   ]
  },
  {
   "cell_type": "markdown",
   "metadata": {},
   "source": [
    "**Question 2** : Dans l'exemple précédent, identifiez la phase d'appels récursifs et la phase de fusions des listes. A quelle(s) étape(s) du principe *diviser pour régner* correspondent-elles ?"
   ]
  },
  {
   "cell_type": "markdown",
   "metadata": {},
   "source": [
    "## Ecriture de la fonction récursive `tri_fusion`\n",
    "\n",
    "**Question 3** : Si on appelle `fusion` la fonction qui fusionne deux listes, complétez la fonction récursive `tri_fusion(lst)` qui trie une liste `lst` d'entiers selon la méthode du tri fusion."
   ]
  },
  {
   "cell_type": "code",
   "execution_count": null,
   "metadata": {},
   "outputs": [],
   "source": [
    "def tri_fusion(lst):\n",
    "    \"\"\"Renvoie une nouvelle liste avec les éléments triés (dans l'ordre croissant) de la liste d'entiers lst. \"\"\"\n",
    "    # à compléter\n",
    "    if ... :   \n",
    "        return lst\n",
    "    else:\n",
    "        m =                   # m est la position médiane\n",
    "        l1 =                  # l1 est la sous-liste de gauche (lst[0...m-1]) triée par fusion\n",
    "        l2 =                  # l2 est la sous-liste de droite (lst[m..]) triée par fusion\n",
    "        return fusion(l1, l2)"
   ]
  },
  {
   "cell_type": "markdown",
   "metadata": {},
   "source": [
    "**Question 4** : Sur le schéma de l'exemple précédent (tri de la liste `[38, 27, 43, 3, 9, 82, 10]`), indiquez par des numéros l'ordre des différents appels à la fonction `tri_fusion` ainsi qu'à la fonction `fusion` (1 pour le premier appel, 2 pour le second, ...)."
   ]
  },
  {
   "cell_type": "markdown",
   "metadata": {},
   "source": [
    "## Ecriture de la fonction `fusion`\n",
    "\n",
    "Il reste à écrire la fonction `fusion(l1, l2)` qui doit créer une nouvelle liste triée en fusionnant les listes triées `l1` et \n",
    "`l2`.\n",
    "\n",
    "**Question 5** : Observez l'animation suivante pour en déduire l'algorithme de la fonction `fusion(l1, l2)` qui suit.\n",
    "\n",
    "![animation merge sort](data/Merge-sort-example-300px.gif)\n",
    "\n",
    "<p style=\"text-align: center\"><em>Source : <a href=\"https://fr.wikipedia.org/wiki/Tri_fusion#/media/Fichier:Merge-sort-example-300px.gif\" target=\"_blank\">Wikipedia</a>, Swfung8, CC-BY-SA 3.0.</em></p>"
   ]
  },
  {
   "cell_type": "code",
   "execution_count": null,
   "metadata": {},
   "outputs": [],
   "source": [
    "def fusion(l1, l2):\n",
    "    \"\"\"Renvoie une liste triée résultant de la fusion des listes triées l1 et l2.\"\"\"\n",
    "    L = []  # création de la liste à renvoyer\n",
    "    n1, n2 = len(l1), len(l2)  # tailles des deux listes\n",
    "    i1, i2 = 0, 0 # positions de départ dans les deux listes\n",
    "    # à compléter\n",
    "    while ... :\n",
    "        pass"
   ]
  },
  {
   "cell_type": "markdown",
   "metadata": {},
   "source": [
    "> **Aide n°1** : Il faut comparer les plus petits éléments respectifs des deux listes et ajouter le plus petit d'entre eux à la liste `L`, jusqu'à épuisement de l'une des deux listes. Il ne reste plus qu'à complèter la liste `L` avec tous les éléments restants. Si besoin, regardez l'aide n°2.\n",
    "\n",
    ">**Aide n°2** :\n",
    "```\n",
    "fonction fusion(l1, l2)\n",
    "    L ← liste vide\n",
    "    n1 ← taille(l1)\n",
    "    n2 ← taille(l2)\n",
    "    i ← 0\n",
    "    j ← 0\n",
    "    Tant que i1 < n1 et i2 < n2 faire\n",
    "        Si ... alors\n",
    "            Ajouter ... à la fin de L\n",
    "            i1 ← ...\n",
    "        sinon\n",
    "            Ajouter ... à la fin de L\n",
    "            i2 ← ...\n",
    "    Pour i allant de i1 à n1-1 faire  # s'il reste des éléments dans l1\n",
    "        Ajouter ... à la fin de L\n",
    "    Pour j allant de i2 à n2-1 faire  # s'il reste des éléments dans l2\n",
    "        Ajouter ... à la fin de L\n",
    "    Renvoyer ...\n",
    "```"
   ]
  },
  {
   "cell_type": "markdown",
   "metadata": {},
   "source": [
    "# Exercice 4 : Rotation d'un quart de tour d'une image\n",
    "\n",
    "Cette exercice est tiré du livre Prépabac NSI, Terminale, activité 14 page 52 (60 minutes). L'objectif de l'activité est d'implémenter un algorithme simple de rotation d'un quart de tour puis d'implémenter un algorithme basé sur la méthode *diviser pour régner* qui permet d'effectuer la rotation avec un coût en mémoire constant.\n",
    "\n",
    "![image joconde](data/joconde.jpg)\n",
    "\n",
    "![image joconde tournée](data/joconde_quart_de_tour.jpg)\n",
    "\n",
    "**Image à télécharger** : elle s'intitule `joconde.jpg` et est située dans le dossier `data` situé dans le répertoire de ce notebook.\n",
    "\n",
    "**Petite précision** : si vous utilisez un notebook pour coder vos réponses, il peut être intéressant de remplacer l'instruction \n",
    "\n",
    "```python\n",
    "img.show()\n",
    "```\n",
    "\n",
    "par\n",
    "\n",
    "```python\n",
    "display(img)\n",
    "```\n",
    "\n",
    "afin d'afficher directement l'image dans le notebook.\n",
    "\n",
    "\n",
    "\n",
    "\n",
    "\n",
    "\n",
    "\n"
   ]
  },
  {
   "cell_type": "code",
   "execution_count": null,
   "metadata": {},
   "outputs": [],
   "source": []
  },
  {
   "cell_type": "markdown",
   "metadata": {},
   "source": [
    "---\n",
    "\n",
    "**Références :**\n",
    "- Documents ressources de l'équipe éducative du DIU EIL, Université de Nantes, Christophe JERMANN.\n",
    "- Livre *Spécialité NSI, Tle*, S. BAYS, éditions ELLIPSES, pour l'idée de l'exercice 1.\n",
    "- Livre *Prépabac, Terminale NSI*, G. CONNAN, V. PETROV, G. ROZSAVOLGY, L. SIGNAC, éditions HATIER, pour l'exercice 4.\n",
    "\n",
    "\n",
    "---\n",
    "Germain BECKER, Lycée Mounier, ANGERS\n",
    "\n",
    "Ressource éducative libre distribuée sous [Licence Creative Commons Attribution - Pas d’Utilisation Commerciale - Partage dans les Mêmes Conditions 4.0 International](http://creativecommons.org/licenses/by-nc-sa/4.0/) \n",
    "\n",
    "![Licence Creative Commons](https://i.creativecommons.org/l/by-nc-sa/4.0/88x31.png)"
   ]
  }
 ],
 "metadata": {
  "kernelspec": {
   "display_name": "Python 3",
   "language": "python",
   "name": "python3"
  },
  "language_info": {
   "codemirror_mode": {
    "name": "ipython",
    "version": 3
   },
   "file_extension": ".py",
   "mimetype": "text/x-python",
   "name": "python",
   "nbconvert_exporter": "python",
   "pygments_lexer": "ipython3",
   "version": "3.7.3"
  }
 },
 "nbformat": 4,
 "nbformat_minor": 2
}
