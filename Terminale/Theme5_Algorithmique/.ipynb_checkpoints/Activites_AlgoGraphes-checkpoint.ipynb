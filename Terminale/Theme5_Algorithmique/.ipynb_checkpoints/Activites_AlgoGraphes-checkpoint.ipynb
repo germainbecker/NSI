{
 "cells": [
  {
   "cell_type": "markdown",
   "metadata": {},
   "source": [
    "<h1 style=\"font-size: 30px; text-align: center\">Algorithmes sur les graphes - EXERCICES</h1>\n",
    "\n",
    "---"
   ]
  },
  {
   "cell_type": "markdown",
   "metadata": {},
   "source": [
    "# Exercice 1 : Compréhension des algorithmes\n",
    "\n",
    "On considère les deux graphes suivants.\n",
    "\n",
    "<img class=\"centre image-responsive\" src=\"data/g12.png\" alt=\"deux graphes\">\n",
    "\n",
    "1. Pour chacun d'eux, proposez un ordre des sommets correspondant à un parcours en profondeur d'abord en **partant du sommet A**.\n",
    "2. Même question pour un parcours en largeur d'abord."
   ]
  },
  {
   "cell_type": "markdown",
   "metadata": {},
   "source": [
    "# Exercice 2 : Dérouler les algorithmes\n",
    "\n",
    "On considère les deux graphes suivants.\n",
    "\n",
    "- Graphe `g1` :\n",
    "\n",
    "![graphe 1](data/g1.png)\n",
    "\n",
    "- Graphe `g3` :\n",
    "\n",
    "![graphe 1](data/g3.png)\n",
    "\n",
    "**Question 1** : Lequel est orienté ?"
   ]
  },
  {
   "cell_type": "markdown",
   "metadata": {},
   "source": [
    "## Dérouler l'algorithme de parcours en profondeur\n",
    "\n",
    "**Rappel de l'algorithme de parcours en prodondeur** :\n",
    "\n",
    "- On choisit un sommet de départ\n",
    "- On l'empile\n",
    "- Tant que la pile n'est pas vide :\n",
    "    - On dépile son sommet\n",
    "    - S'il n'a pas encore été visité on le marque et on empile tous ses voisins non encore visités\n",
    "    - Sinon, on ne fait rien (on passe donc directement à l'itération suivante)\n",
    "    \n",
    "**Question 2** : Faites fonctionner l'algorithme de parcours en profondeur sur le **graphe `g1`**. Pour cela vous recopierez et complèterez le tableau suivant, où chaque ligne correspond à une itération de la boucle \"tant que\". **Attention** : on suppose que les sommets sont empilés <u>dans l'ordre inverse</u> de l'ordre alphabétique !\n",
    "\n",
    "| Num. itération |Sommet dépilé | Sommet marqué (?) | Etat de la pile à la fin de chaque itération |\n",
    "| --- | --- | --- | --- |\n",
    "| 1 | A | A | >B,D] |\n",
    "| ... | ... | ... | ... |"
   ]
  },
  {
   "cell_type": "markdown",
   "metadata": {},
   "source": [
    "**Question 3** : Même question pour le **graphe `g3`**. **Attention** : on suppose que les sommets sont empilés <u>dans l'ordre inverse</u> de l'ordre alphabétique !"
   ]
  },
  {
   "cell_type": "markdown",
   "metadata": {},
   "source": [
    "## Dérouler l'algorithme de parcours en largeur\n",
    "\n",
    "**Rappel de l'algorithme de parcours en prodondeur** :\n",
    "\n",
    "- On choisit un sommet de départ\n",
    "- On l'enfile\n",
    "- Tant que la file n'est pas vide :\n",
    "    - On défile son premier élément\n",
    "    - S'il n'a pas encore été visité on le marque et on enfile tous ses voisins non encore visités\n",
    "    - Sinon, on ne fait rien (on passe donc directement à l'itération suivante)\n",
    "    \n",
    "**Question 4** : Faites fonctionner l'algorithme de parcours en largeur sur le **graphe `g1`**. Pour cela vous complèterez le tableau suivant, où chaque ligne correspond à une itération de la boucle \"tant que\". **Attention** : les sommets sont enfilés <u>dans l'ordre alphabétique</u> !\n",
    "\n",
    "| Num. itération | Sommet défilé | Sommet marqué (?) | Etat de la file à la fin de chaque itération |\n",
    "| --- | --- | --- | --- |\n",
    "| 1 | A | A | <B, D< |\n",
    "| ... | ...| ... | ... |"
   ]
  },
  {
   "cell_type": "markdown",
   "metadata": {},
   "source": [
    "**Question 5** : Même question pour le **graphe `g3`**."
   ]
  },
  {
   "cell_type": "markdown",
   "metadata": {},
   "source": [
    "# Exercice 3 : Retour sur l'implémentation des algorithmes de parcours\n",
    "\n",
    "On considère le graphe suivant représenté par listes de successeurs/voisins."
   ]
  },
  {
   "cell_type": "code",
   "execution_count": null,
   "metadata": {},
   "outputs": [],
   "source": [
    "g4 = {\n",
    "    \"A\": [\"B\", \"C\"],\n",
    "    \"B\": [\"F\"],\n",
    "    \"C\": [\"A\", \"E\", \"D\"],\n",
    "    \"D\": [\"C\", \"F\"],\n",
    "    \"E\": [\"C\"],\n",
    "    \"F\": [\"D\", \"B\"]\n",
    "}"
   ]
  },
  {
   "cell_type": "markdown",
   "metadata": {},
   "source": [
    "**Question 1** : Dessinez le graphe."
   ]
  },
  {
   "cell_type": "markdown",
   "metadata": {},
   "source": [
    "On utilise les algorithmes suivants pour parcourir ce graphe.\n",
    "\n",
    "```python\n",
    "def parcours_prof(graphe, debut):\n",
    "    visites = {}\n",
    "    pile = [debut]\n",
    "    while len(pile) > 0:\n",
    "        s = pile.pop()\n",
    "        if s in visites:   # si s a déjà été visité\n",
    "            continue       # on passe à l'itération suivante\n",
    "        visites[s] = True  # sinon l'itération en cours se poursuit\n",
    "        for voisin in graphe[s]:\n",
    "            if voisin not in visites:\n",
    "                pile.append(voisin)\n",
    "    return visites\n",
    "\n",
    "def parcours_larg(graphe, debut):\n",
    "    visites = {}\n",
    "    file = [debut]\n",
    "    while len(file) > 0:\n",
    "        s = file.pop(0)\n",
    "        if s in visites:   # si s a déjà été visité\n",
    "            continue       # on passe à l'itération suivante\n",
    "        visites[s] = True  # sinon l'itération en cours se poursuit\n",
    "        for voisin in graphe[s]:\n",
    "            if voisin not in visites:\n",
    "                file.append(voisin)\n",
    "    return visites\n",
    "```"
   ]
  },
  {
   "cell_type": "markdown",
   "metadata": {},
   "source": [
    "**Question 2** : Dans chaque algorithme, indiquez la ligne qui montre que les sommets voisins sont ajoutés à la pile ou à la file dans leur ordre d'apparition dans la liste de successeurs/voisins."
   ]
  },
  {
   "cell_type": "markdown",
   "metadata": {},
   "source": [
    "**Question 3** : On part du sommet B. Indiquez l'ordre des sommets marqués dans le dictionnaire `visites` en faisant l'appel `parcours_prof(g4, \"B\")`. *Attention à l'ordre des successeurs dans le dictionnaire représentant le graphe*."
   ]
  },
  {
   "cell_type": "markdown",
   "metadata": {},
   "source": [
    "**Question 4** : Même question pour l'appel `parcours_larg(g4, \"B\")`."
   ]
  },
  {
   "cell_type": "markdown",
   "metadata": {},
   "source": [
    "# Exercice 4 : Version objet des algorithmes DFS et BFS\n",
    "\n",
    "L'objectif de cette exercice est d'implémenter les algorithmes de parcours en profondeur d'abord (DFS) et de parcours en largeur d'abord (BFS) en utilisant la programmation objet.\n",
    "\n",
    "Pour cela, on rappelle des implémentations sous formes de classes d'un graphe, d'une pile et d'une file."
   ]
  },
  {
   "cell_type": "code",
   "execution_count": null,
   "metadata": {},
   "outputs": [],
   "source": [
    "# UN GRAPHE NON ORIENTE\n",
    "\n",
    "class GrapheNoLs:\n",
    "    \"\"\"Manipuler des graphes non orientés\"\"\"\n",
    "    \n",
    "    def __init__ (self, sommets):\n",
    "        self.som = sommets\n",
    "        self.dic = {sommet: [] for sommet in self.som} # représentation par liste de successeurs\n",
    "    \n",
    "    def ajouter_arete(self, x, y):\n",
    "        if y not in self.dic[x]:\n",
    "            self.dic[x].append(y)\n",
    "        if x not in self.dic[y]:\n",
    "            self.dic[y].append(x)\n",
    "    \n",
    "    def sommets(self):\n",
    "        return self.som\n",
    "    \n",
    "    def voisins(self, x):\n",
    "        return self.dic[x]"
   ]
  },
  {
   "cell_type": "code",
   "execution_count": null,
   "metadata": {},
   "outputs": [],
   "source": [
    "# UNE PILE\n",
    "\n",
    "class Pile:\n",
    "    \"\"\"Manipuler des piles\"\"\"\n",
    "    \n",
    "    def __init__(self):\n",
    "        self.contenu = []\n",
    "            \n",
    "    def empiler(self, e):\n",
    "        self.contenu.append(e)\n",
    "                    \n",
    "    def depiler(self):\n",
    "        assert self.taille != 0, \"on ne peut pas dépiler une pile vide\"\n",
    "        self.contenu.pop()\n",
    "            \n",
    "    def sommet(self):\n",
    "        assert self.taille != 0, \"une pile vide n'a pas de sommet\"\n",
    "        return self.contenu[-1]\n",
    "    \n",
    "    def taille(self):\n",
    "        return len(self.contenu)\n",
    "    \n",
    "    __len__ = taille\n",
    "    \n",
    "    # pour représenter la Pile\n",
    "    def __repr__(self):\n",
    "        ch = \"\"\n",
    "        for e in self.contenu:\n",
    "            ch = str(e) + \",\" + ch  # ne pas oublier de convertir les éléments en chaine de caractères\n",
    "        ch = ch[:-1] # pour enlever la dernière virgule\n",
    "        ch = \">\" + ch + \"]\"\n",
    "        return ch"
   ]
  },
  {
   "cell_type": "code",
   "execution_count": null,
   "metadata": {},
   "outputs": [],
   "source": [
    "# UNE FILE\n",
    "\n",
    "class File:\n",
    "    \"\"\"Manipuler des files\"\"\"\n",
    "    \n",
    "    def __init__(self):\n",
    "        self.contenu = []\n",
    "        \n",
    "    def enfiler(self, element):\n",
    "        self.contenu.append(element)\n",
    "        \n",
    "    def defiler(self):\n",
    "        assert self.taille != 0, \"on ne peut pas défiler une file vide\"\n",
    "        self.contenu.pop(0)\n",
    "    \n",
    "    def premier(self):\n",
    "        assert self.taille != 0, \"une file vide n'a pas de premier élément\"\n",
    "        return self.contenu[0]\n",
    "    \n",
    "    def taille(self):\n",
    "        return len(self.contenu)\n",
    "    \n",
    "    __len__ = taille\n",
    "    \n",
    "    def __repr__(self):\n",
    "        ch = \"\"\n",
    "        for e in self.contenu:\n",
    "            ch = ch + str(e) + \",\"\n",
    "        ch = ch[:-1] # pour enlever la dernière virgule\n",
    "        ch = \"<\" + ch + \"<\"\n",
    "        return ch"
   ]
  },
  {
   "cell_type": "markdown",
   "metadata": {},
   "source": [
    "**Question 1** : Créez deux instances `g1` et `g2` de la classe `GrapheNoLs` permettant de représenter les graphes suivants.\n",
    "\n",
    "![deux graphes](data/g12.png)"
   ]
  },
  {
   "cell_type": "code",
   "execution_count": null,
   "metadata": {},
   "outputs": [],
   "source": [
    "# création de g1 : à compléter\n"
   ]
  },
  {
   "cell_type": "code",
   "execution_count": null,
   "metadata": {},
   "outputs": [],
   "source": [
    "# création de g2 : à compléter\n"
   ]
  },
  {
   "cell_type": "markdown",
   "metadata": {},
   "source": [
    "**Question 2** : Ecrivez une fonction `parcours_prof(graphe, debut)` qui renvoie l'ensemble `visites` des sommets visités par un parcours en profondeur du graphe `graphe` (objet de la classe `GrapheNoLs`) en partant du sommet `debut`. *Vous utiliserez le paradigme objet également pour la pile*."
   ]
  },
  {
   "cell_type": "code",
   "execution_count": null,
   "metadata": {},
   "outputs": [],
   "source": [
    "# à vous de jouer !\n"
   ]
  },
  {
   "cell_type": "markdown",
   "metadata": {},
   "source": [
    "**Question 3** : Ecrivez une fonction `parcours_larg(graphe, debut)` qui renvoie l'ensemble `visites` des sommets visités par un parcours en largeur du graphe `graphe` (objet de la classe `GrapheNoLs`) en partant du sommet `debut`. *Vous utiliserez le paradigme objet également pour la file*."
   ]
  },
  {
   "cell_type": "code",
   "execution_count": null,
   "metadata": {},
   "outputs": [],
   "source": [
    "# à vous de jouer !\n"
   ]
  },
  {
   "cell_type": "markdown",
   "metadata": {},
   "source": [
    "**Question 4** : Ajoutez ces deux fonctions comme méthodes de la classe `GrapheNoLs`. *Il faut peut-être redémarrer le noyau pour que ces nouvelles méthodes soient prises en compte*."
   ]
  },
  {
   "cell_type": "code",
   "execution_count": null,
   "metadata": {
    "scrolled": true
   },
   "outputs": [],
   "source": [
    "# à vous de jouer !\n",
    "\n",
    "class GrapheNoLs:\n",
    "    def __init__ (self, sommets):\n",
    "        self.som = sommets\n",
    "        self.dic = {sommet: [] for sommet in self.som} # création par compréhension\n",
    "    \n",
    "    def ajouter_arete(self, x, y):\n",
    "        if y not in self.dic[x]:\n",
    "            self.dic[x].append(y)\n",
    "        if x not in self.dic[y]:\n",
    "            self.dic[y].append(x)\n",
    "    \n",
    "    def sommets(self):\n",
    "        return self.som\n",
    "    \n",
    "    def voisins(self, x):\n",
    "        return self.dic[x]\n",
    "    \n",
    "    # à compléter par les deux méthodes\n",
    "    "
   ]
  },
  {
   "cell_type": "markdown",
   "metadata": {},
   "source": [
    "# Exercice 5 : Repérer la présence d'un cycle\n",
    "\n",
    "On rappelle que dans un **graphe *non* orienté**, un **cycle** est une suite d'arêtes consécutives (chaîne) dont les deux sommets extrémités sont identiques.\n",
    "\n",
    ">L'objectif de cet exercice est d'étudier et implémenter un algorithme détectant la présence d'un cycle dans un graphe non orienté.\n",
    "\n",
    "## Cas d'un graphe *connexe* (et non orienté)\n",
    "\n",
    "L'idée est de lancer un parcours (en profondeur ou en largeur à partir d'un sommet) et de regarder si on \"retombe\" deux fois sur un même sommet, autrement dit si on dépile/défile un sommet déjà visité (marqué). Si c'est le cas, on a trouvé un cycle ! En pratique, l'algorithme est donc quasiment similaire à celui d'un parcours.\n",
    "\n",
    "**Question 1** : Expliquez pourquoi le fait de \"retomber\" sur un sommet déjà marqué implique la présence d'un cycle dans le graphe."
   ]
  },
  {
   "cell_type": "markdown",
   "metadata": {},
   "source": [
    "### Principe de l'algorithme\n",
    "\n",
    "Voici l'algorithme de détection de cycle (vous remarquerez l'extrême similarité avec celui du parcours) :\n",
    "\n",
    "- On choisit un sommet de départ\n",
    "- On l'empile\n",
    "- Tant que la pile n'est pas vide :\n",
    "    - On dépile son sommet\n",
    "    - S'il n'a pas encore été visité on le marque et on empile tous ses voisins non encore visités\n",
    "    - Sinon, **on a trouvé un cycle et on renvoie Vrai**\n",
    "    \n",
    "Si le parcours se termine sans trouver de cycle, on renvoie Faux."
   ]
  },
  {
   "cell_type": "markdown",
   "metadata": {},
   "source": [
    "**Question 2** : Appliquez cet algorithme au deux graphes `g2` et `g4` ci-dessous en partant du sommet A. Vous complèterez un tableau comme dans l'exercice 2 pour suivre l'évolution des sommets visités et l'état de la pile.\n",
    "\n",
    "- Graphe `g2`:\n",
    "![graphe 2](data/g2.png)\n",
    "- Graphe `g4`: \n",
    "![graphe 4](data/g4.png)\n"
   ]
  },
  {
   "cell_type": "markdown",
   "metadata": {},
   "source": [
    "**Question 3** : Modifiez la fonction `parcours_prof(graphe, debut)` rappelée ci-dessous pour créer une fonction `parcours_prof_cycle(graphe, debut)` qui renvoie `True` si le graphe possède un cycle et `False` sinon."
   ]
  },
  {
   "cell_type": "code",
   "execution_count": null,
   "metadata": {},
   "outputs": [],
   "source": [
    "# Rappel : parcours en profondeur\n",
    "\n",
    "def parcours_prof(graphe, debut):\n",
    "    visites = {}\n",
    "    pile = [debut]\n",
    "    while len(pile) > 0:\n",
    "        s = pile.pop()\n",
    "        if s in visites:   # si s a déjà été visité\n",
    "            continue       # on passe à l'itération suivante\n",
    "        visites[s] = True  # sinon l'itération en cours se poursuit\n",
    "        for voisin in graphe[s]:\n",
    "            if voisin not in visites:\n",
    "                pile.append(voisin)\n",
    "    return visites\n",
    "\n",
    "# à adapter !\n"
   ]
  },
  {
   "cell_type": "markdown",
   "metadata": {},
   "source": [
    "**Question 4** : Vérifiez que cette fonction renvoie le bon booléen sur les graphes `g1`, `g2` et `g4` dont on redonne une représentation exploitable."
   ]
  },
  {
   "cell_type": "code",
   "execution_count": null,
   "metadata": {},
   "outputs": [],
   "source": [
    "# possède un cycle\n",
    "g1 = {\n",
    "    \"A\": [\"B\", \"D\"],\n",
    "    \"B\": [\"A\", \"C\", \"E\"],\n",
    "    \"C\": [\"B\", \"E\", \"F\", \"G\"],\n",
    "    \"D\": [\"A\", \"E\"],\n",
    "    \"E\": [\"B\", \"C\", \"D\"],\n",
    "    \"F\": [\"C\"],\n",
    "    \"G\": [\"C\"]    \n",
    "}\n",
    "\n",
    "# ne possède pas de cycle\n",
    "g2 = {\n",
    "    \"A\": [\"B\", \"E\"],\n",
    "    \"B\": [\"A\", \"C\", \"D\"],\n",
    "    \"C\": [\"B\"],\n",
    "    \"D\": [\"B\"],\n",
    "    \"E\": [\"A\", \"F\"],\n",
    "    \"F\": [\"E\"]\n",
    "}\n",
    "\n",
    "# possède un cycle\n",
    "g4 = {\n",
    "    \"A\": [\"B\", \"C\"],\n",
    "    \"B\": [\"F\"],\n",
    "    \"C\": [\"A\", \"E\", \"D\"],\n",
    "    \"D\": [\"C\", \"F\"],\n",
    "    \"E\": [\"C\"],\n",
    "    \"F\": [\"D\", \"B\"]\n",
    "}\n",
    "\n",
    "# à vous de jouer !\n"
   ]
  },
  {
   "cell_type": "markdown",
   "metadata": {},
   "source": [
    "## Cas d'un graphe *non connexe* (et non orienté)\n",
    "\n",
    "Dans un graphe non connexe, il faut s'assurer de parcourir tous les sommets pour détecter un cycle. Le plus simple est de lancer un parcours de détection de cycle à partir de chaque sommet du graphe.\n",
    "\n",
    "**Question 5** : Ecrivez une fonction `possede_cycle(graphe)` qui lance la détection de cycle à partir de chaque sommet du graphe `graphe` et qui renvoie `True` si le graphe possède un cycle, `False` sinon."
   ]
  },
  {
   "cell_type": "code",
   "execution_count": null,
   "metadata": {},
   "outputs": [],
   "source": [
    "# à vous de jouer\n"
   ]
  },
  {
   "cell_type": "markdown",
   "metadata": {},
   "source": [
    "**Question 6** : Proposez deux graphes **non connexes** `g5` et `g6` l'un possédant un cycle et l'autre non, en utilisant deux dictionnaires de listes de successeurs pour les représenter. Puis, testez la fonction `possede_cycle` sur les deux graphes."
   ]
  },
  {
   "cell_type": "code",
   "execution_count": null,
   "metadata": {},
   "outputs": [],
   "source": [
    "# à vous de jouer !\n"
   ]
  },
  {
   "cell_type": "markdown",
   "metadata": {},
   "source": [
    "# Exercice 6 : Existence d'un chemin entre deux sommets\n",
    "\n",
    "> L'objectif de l'exercice est d'écrire une fonction qui renvoie Vrai si, et seulement si, il existe un chemin (ou chaine) entre deux sommets `x` et `y` d'un graphe.\n",
    "\n",
    "L'idée est très simple, en effet, le parcours en profondeur (ou en largeur) permet de visiter tous les sommets atteignables à partir du sommet `x` de départ. Il suffit donc juste de vérifier si le deuxième sommet `y` a été atteint."
   ]
  },
  {
   "cell_type": "markdown",
   "metadata": {},
   "source": [
    "On rappelle que l'algorithme de parcours en profondeur d'un graphe peut s'écrire ainsi."
   ]
  },
  {
   "cell_type": "code",
   "execution_count": null,
   "metadata": {},
   "outputs": [],
   "source": [
    "def parcours_prof(graphe, debut):\n",
    "    visites = {}\n",
    "    pile = [debut]\n",
    "    while len(pile) > 0:\n",
    "        s = pile.pop()\n",
    "        if s in visites:   # si s a déjà été visité\n",
    "            continue       # on passe à l'itération suivante\n",
    "        visites[s] = True  # sinon l'itération en cours se poursuit\n",
    "        for voisin in graphe[s]:\n",
    "            if voisin not in visites:\n",
    "                pile.append(voisin)\n",
    "    return visites"
   ]
  },
  {
   "cell_type": "markdown",
   "metadata": {},
   "source": [
    "On considère les graphes `g1` et `g3` suivants.\n",
    "\n",
    "- Grahe `g1` :\n",
    "![graphe 1](data/g1.png)\n",
    "- Graphe `g3` :\n",
    "![graphe 3](data/g3.png)\n"
   ]
  },
  {
   "cell_type": "code",
   "execution_count": null,
   "metadata": {},
   "outputs": [],
   "source": [
    "g1 = {\n",
    "    \"A\": [\"B\", \"D\"],\n",
    "    \"B\": [\"A\", \"C\", \"E\"],\n",
    "    \"C\": [\"B\", \"E\", \"F\", \"G\"],\n",
    "    \"D\": [\"A\", \"E\"],\n",
    "    \"E\": [\"B\", \"C\", \"D\"],\n",
    "    \"F\": [\"C\"],\n",
    "    \"G\": [\"C\"]    \n",
    "}\n",
    "\n",
    "g3 = {\n",
    "    \"A\": [\"B\", \"D\"],\n",
    "    \"B\": [\"C\"],\n",
    "    \"C\": [\"E\", \"F\"],\n",
    "    \"D\": [\"E\"],\n",
    "    \"E\": [\"B\"],\n",
    "    \"F\": [],\n",
    "    \"G\": [\"C\"]    \n",
    "}"
   ]
  },
  {
   "cell_type": "markdown",
   "metadata": {},
   "source": [
    "**Question 1** : Ecrivez une fonction `existe_chemin(graphe, x, y)` qui renvoie `True` s'il existe un chemin entre les sommets `x` et `y` du graphe `graphe`, et `False` sinon. *Indication : utilisez à bon escient la fonction `parcours_prof`*."
   ]
  },
  {
   "cell_type": "code",
   "execution_count": null,
   "metadata": {},
   "outputs": [],
   "source": [
    "# à vous de jouer !\n"
   ]
  },
  {
   "cell_type": "markdown",
   "metadata": {},
   "source": [
    "**Question 2** : Vérifiez que cela fonctionne en utilisant les graphes `g1` et `g3` précédents."
   ]
  },
  {
   "cell_type": "code",
   "execution_count": null,
   "metadata": {},
   "outputs": [],
   "source": [
    "# à vous de jouer !\n"
   ]
  },
  {
   "cell_type": "markdown",
   "metadata": {},
   "source": [
    ">**Remarque** : cette fonction assure seulement l'existence d'un tel chemin. Si on veut construire le chemin, il faut travailler un peu plus, c'est l'objet de l'exercice suivant."
   ]
  },
  {
   "cell_type": "markdown",
   "metadata": {},
   "source": [
    "# Exercice 7 : Construire un chemin\n",
    "\n",
    "Vous avez déjà écrit, dans l'exercice précédent, une fonction qui détermine si un chemin existe entre deux sommets d'un graphe mais celle-ci ne permet pas d'expliciter ce chemin. L'objectif ici est d'écrire une fonction qui permet de donner un chemin entre deux sommets en utilisant les parcours en profondeur/largeur à partir de l'un d'eux.\n",
    "\n",
    "L'idée est simple, on va modifier la façon d'utiliser le dictionnaire `visites` qui ne sera plus utilisé pour marquer les sommets visités au cours du parcours mais pour associer à chaque sommet, le sommet par lequel on peut l'atteindre (pour la première fois dans le parcours).\n",
    "\n",
    "## A partir d'un parcours en profondeur\n",
    "\n",
    "En utilisant un parcours en profondeur, le principe de l'algorithme est le suivant :\n",
    "\n",
    "On choisit le sommet de départ que l'on associe à `None`\n",
    "- On l'empile\n",
    "- Tant que la pile n'est pas vide :\n",
    "    - On dépile son sommet `s`\n",
    "    - On ne le marque plus\n",
    "    - On empile tous ses voisins non encore visités et on les associe à la valeur `s` dans le dictionnaire `visites`\n",
    "\n",
    "Voici une implémentation de l'algorithme en une fonction `parcours_prof_ch` :"
   ]
  },
  {
   "cell_type": "code",
   "execution_count": null,
   "metadata": {},
   "outputs": [],
   "source": [
    "def parcours_prof_ch(graphe, debut):\n",
    "    visites = {debut: None} # on associe le sommet de départ à None\n",
    "    pile = [debut]\n",
    "    while len(pile) > 0:\n",
    "        s = pile.pop()\n",
    "        # (on ne marque plus les sommets non visités)\n",
    "        for voisin in graphe[s]:\n",
    "            if voisin not in visites:\n",
    "                pile.append(voisin)\n",
    "                visites[voisin] = s # on associe s à tous les voisins de s pas encore visités\n",
    "    return visites\n",
    "\n",
    "parcours_prof_ch(g1, \"A\")"
   ]
  },
  {
   "cell_type": "markdown",
   "metadata": {},
   "source": [
    "**Question 1** : Pourquoi le sommet `debut` est-il associé à `None` ?"
   ]
  },
  {
   "cell_type": "markdown",
   "metadata": {},
   "source": [
    "On rappelle que `g1` est le graphe\n",
    "\n",
    "![graphe 1](data/g1.png)\n",
    "\n",
    "représenté par \n",
    "\n",
    "```python\n",
    "g1 = {\n",
    "    \"A\": [\"B\", \"D\"],\n",
    "    \"B\": [\"A\", \"C\", \"E\"],\n",
    "    \"C\": [\"B\", \"E\", \"F\", \"G\"],\n",
    "    \"D\": [\"A\", \"E\"],\n",
    "    \"E\": [\"B\", \"C\", \"D\"],\n",
    "    \"F\": [\"C\"],\n",
    "    \"G\": [\"C\"]    \n",
    "}\n",
    "```\n",
    "**Question 2** : On fait l'appel `parcours_prof_ch(g1, \"A\")`. Détaillez pour cet appel, le contenu du dictionnaire `visites` **à la fin** de chaque itération (de la boucle `while`)."
   ]
  },
  {
   "cell_type": "markdown",
   "metadata": {},
   "source": [
    "**Question 3** : L'appel `parcours_prof_ch(g1, \"A\")` doit renvoyer le dictionnaire :\n",
    "\n",
    "```python\n",
    "{'A': None, 'B': 'A', 'D': 'A', 'E': 'D', 'C': 'E', 'F': 'C', 'G': 'C'}\n",
    "```\n",
    "\n",
    "En utilisant ce dictionnaire, répondez aux questions suivantes.\n",
    "\n",
    "1. Quel sommet a permis de découvrir le sommet `C` dans ce parcours ?\n",
    "1. Donnez un chemin entre les sommets `'A'` et `'E'` ? *Indication : il faut partir du sommet d'arrivée et \"remonter\" les sommets jusqu'au sommet de départ*.\n",
    "2. Donnez un chemin entre les sommets `'A'` et `'G'` ?\n",
    "3. Est-ce toujours le chemin le plus court qui est trouvé ?"
   ]
  },
  {
   "cell_type": "markdown",
   "metadata": {},
   "source": [
    "**Question 4** : Ecrivez une fonction `chemin_prof(graphe, debut, fin)` qui renvoie :\n",
    "- une liste avec tous les sommets (dans l'ordre) du chemin entre les sommets `debut` et `fin`\n",
    "- `None` sinon.\n",
    "\n",
    "*Il ne faut pas oublier de renverser la liste obtenue en remontant les sommets : on peut utiliser pour cela la méthode `reverse` des listes Python*."
   ]
  },
  {
   "cell_type": "code",
   "execution_count": null,
   "metadata": {},
   "outputs": [],
   "source": [
    "# à vous de jouer !\n"
   ]
  },
  {
   "cell_type": "markdown",
   "metadata": {},
   "source": [
    "## A partir d'un parcours en largeur\n",
    "\n",
    "En faisant la même recherche à partir d'un parcours en largeur, il suffit de remplacer la pile par une file.\n",
    "\n",
    "Avec un parcours en largeur on est certain de trouver un plus court chemin (en nombre d'arêtes/arcs) entre les deux sommets.\n",
    "En effet, l'algorithme de recherche en largeur explore d'abord les sommets à une distance 1 du sommet de départ, puis ceux à distance 2 du sommet de départ, etc. Ainsi, chacun des autres sommets est atteint en passant par un nombre minimal d'arêtes (ou arcs), ce qui assure de trouver un plus court chemin (en nombre d'arêtes/arcs) vers chacun des autres sommets.\n",
    "\n",
    "**Question 5** : Ecrivez les deux nouvelles fonctions `parcours_larg_ch(graphe, sommet)` et `chemin(graphe, debut, fin)` qui font le même travail mais en utilisant un parcours en largeur. *Adaptez les fonctions précédentes*."
   ]
  },
  {
   "cell_type": "code",
   "execution_count": null,
   "metadata": {},
   "outputs": [],
   "source": [
    "# à vous de jouer !\n",
    " "
   ]
  },
  {
   "cell_type": "markdown",
   "metadata": {},
   "source": [
    "**Question 6** : Constatez que les chemins donnés ne sont pas les mêmes qu'avec un parcours en profondeur et qu'ils sont les plus courts possibles."
   ]
  },
  {
   "cell_type": "code",
   "execution_count": null,
   "metadata": {},
   "outputs": [],
   "source": [
    "# à vous de jouer !\n"
   ]
  },
  {
   "cell_type": "markdown",
   "metadata": {},
   "source": [
    "# Exercice 8 : Distance entre deux sommets\n",
    "\n",
    "Vous avez découvert qu'un parcours en largeur permet de trouver la chemin de plus courte longueur (en nombre d'arêtes/arcs les séparant). En modifiant le rôle du dictionnaire `visites`, on peut écrire un algorithme qui renvoie la distance entre le sommet de départ et tous les autres.\n",
    "\n",
    "L'idée est simple : on utilise maintenant ce dictionnaire pour associer à chaque sommet la distance qui le sépare du sommet d'origine. Pour cela, il suffit d'initialiser le dictionnaire à `{debut: 0}` et d'utiliser le fait que la distance d'un voisin découvert est égale à celle du sommet duquel on vient, plus 1.\n",
    "\n",
    "**Question 1** : Ecrivez une fonction `parcours_larg_distance(graphe, debut)` qui permet de renvoyer un dictionnaire associant à chaque sommet rencontré, sa distance au sommet de départ `debut`. *Il n'y a que 2 lignes à modifier par rapport à la fonction `parcours_larg_ch` de l'exercice précédent*."
   ]
  },
  {
   "cell_type": "code",
   "execution_count": null,
   "metadata": {},
   "outputs": [],
   "source": [
    "# à vous de jouer !\n"
   ]
  },
  {
   "cell_type": "markdown",
   "metadata": {},
   "source": [
    "**Question 2** : Vérifiez que cette fonction renvoie bien les distances entre le sommet A et les autres sommets dans le graphe `g1`.\n",
    "\n",
    "![graphe 1](data/g1.png)"
   ]
  },
  {
   "cell_type": "code",
   "execution_count": null,
   "metadata": {},
   "outputs": [],
   "source": [
    "# à vous de jouer !\n"
   ]
  },
  {
   "cell_type": "markdown",
   "metadata": {},
   "source": [
    "---\n",
    "\n",
    "**Références :**\n",
    "- Equipe pédagogique DIU EIL, Université de Nantes.\n",
    "\n",
    "---\n",
    "Germain BECKER, Lycée Mounier, ANGERS \n",
    "\n",
    "![Licence Creative Commons](https://i.creativecommons.org/l/by-nc-sa/4.0/88x31.png)"
   ]
  }
 ],
 "metadata": {
  "kernelspec": {
   "display_name": "Python 3",
   "language": "python",
   "name": "python3"
  },
  "language_info": {
   "codemirror_mode": {
    "name": "ipython",
    "version": 3
   },
   "file_extension": ".py",
   "mimetype": "text/x-python",
   "name": "python",
   "nbconvert_exporter": "python",
   "pygments_lexer": "ipython3",
   "version": "3.7.3"
  }
 },
 "nbformat": 4,
 "nbformat_minor": 2
}
