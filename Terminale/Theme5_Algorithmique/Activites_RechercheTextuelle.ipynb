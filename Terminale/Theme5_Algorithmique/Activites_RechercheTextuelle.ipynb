{
 "cells": [
  {
   "cell_type": "markdown",
   "id": "recognized-black",
   "metadata": {},
   "source": [
    "<h1 style=\"font-size: 30px; text-align: center\">Recherche textuelle - EXERCICES</h1>\n",
    "\n",
    "---"
   ]
  },
  {
   "cell_type": "markdown",
   "id": "aging-french",
   "metadata": {},
   "source": [
    "# Exercice 1 : Recherche naïve\n",
    "\n",
    "## À la main\n",
    "\n",
    "On considère le motif M = <span style=\"font-family: Consolas; font-size: 17px;\">ar</span> à cherche dans le texte T = <span style=\"font-family: Consolas; font-size: 17px;\">barbara</span>.\n",
    "\n",
    "**Question 1** : Faites un schéma en faisant glisser le motif le long du texte suivant l'algorithme de recherche naïve. On attend l'état à chaque étape du glissement et pour chaque étape, le nombre de comparaisons nécessaires. Combien de comparaisons sont nécessaires en tout.\n",
    "\n",
    "**Question 2** : Quelles sont les positions en lesquelles le motif a été trouvé ?\n",
    "\n",
    "**Question 3** : Pour un texte de taille $n$ et motif de taille $m$, quelle est la dernière position à tester pour chercher le motif ? *Un schéma n'est pas inutile*."
   ]
  },
  {
   "cell_type": "markdown",
   "id": "molecular-malawi",
   "metadata": {},
   "source": [
    "## Coût de l'algorithme naïf\n",
    "\n",
    "**Question 4** : Pour le texte T = <span style=\"font-family: Consolas; font-size: 15px;\">AAAAAAAAAA</span> :\n",
    "- donnez un motif de taille 3 qui serait un *pire cas* (en nombre de comparaisons) ;\n",
    "- donnez un motif de taille 3 qui serait un *meilleur cas* (en nombre de comparaisons)\n",
    "\n",
    "**Question 5** : En déduire la complexité temporelle de la recherche naïve pour un texte T de taille $n$ et un motif M de taille $m$. "
   ]
  },
  {
   "cell_type": "markdown",
   "id": "narrative-transformation",
   "metadata": {},
   "source": [
    "## Implémentation de l'algorithme naïf\n",
    "\n",
    "L'objectif de cette dernière partie est d'implémenter une fonction `recherche_naive(M, T)` qui renvoie une liste contenant toutes les positions du motif `M` dans le texte `T`, obtenues en utilisant l'algorithme de recherche naïve.\n",
    "\n",
    "Cette fonction utilisera une fonction auxiliaire `correspond(M, T, i)` qui renvoie `True` si on trouve `M` dans `T` exactement en position `i`, et `False` sinon.\n",
    "\n",
    "💻 **Question 6 (version difficile)** : Écrivez les deux fonctions en question et vérifiez que les tests proposés soient validés. *Contrainte : en une position donnée, la recherche se fera avec une boucle `while`*.\n",
    "\n",
    ">On rappelle l'on notera toujours i la position dans T et j la position dans M."
   ]
  },
  {
   "cell_type": "code",
   "execution_count": null,
   "id": "c6f35286",
   "metadata": {},
   "outputs": [],
   "source": [
    "# à vous de jouer !\n",
    "\n",
    "\n",
    "\n",
    "\n",
    "\n",
    "# tests\n",
    "assert correspond('GCAG', 'GGCAGCCGAACCGCAGCAGCAC', 1) == True\n",
    "assert correspond('GCAG', 'GGCAGCCGAACCGCAGCAGCAC', 0) == False\n",
    "assert correspond('BRA', 'ABRACADABRA', 8) == True\n",
    "\n",
    "assert recherche_naive('GCAG', 'GGCAGCCGAACCGCAGCAGCAC') == [1, 12, 15]\n",
    "assert recherche_naive('TOTO', 'GGCAGCCGAACCGCAGCAGCAC') == []\n",
    "assert recherche_naive('ar', 'barbara') == [1, 4]"
   ]
  },
  {
   "cell_type": "markdown",
   "id": "1bf3e47e",
   "metadata": {},
   "source": [
    "💻 **Question 6 (version facile)** : Compléter le code Python ci-dessous. Des tests sont proposés pour vérifier votre code.\n",
    "\n",
    ">On rappelle l'on notera toujours i la position dans T et j la position dans M."
   ]
  },
  {
   "cell_type": "code",
   "execution_count": null,
   "id": "984985c3",
   "metadata": {},
   "outputs": [],
   "source": [
    "# À vous de jouer !\n",
    "\n",
    "def correspond(M, T, i):\n",
    "    j = ...\n",
    "    while j < len(M) and M[...] == T[i + ...]:\n",
    "        j = ...\n",
    "    return ...\n",
    "    \n",
    "    \n",
    "def recherche_naive(M, T):\n",
    "    n = len(T)\n",
    "    m = len(M)\n",
    "    positions = ...\n",
    "    for i in range(... - ... + 1):\n",
    "        if correspond(..., ..., ...):\n",
    "            ...\n",
    "    return ...\n",
    "\n",
    "# tests\n",
    "assert correspond('GCAG', 'GGCAGCCGAACCGCAGCAGCAC', 1) == True\n",
    "assert correspond('GCAG', 'GGCAGCCGAACCGCAGCAGCAC', 0) == False\n",
    "assert correspond('BRA', 'ABRACADABRA', 8) == True\n",
    "\n",
    "assert recherche_naive('GCAG', 'GGCAGCCGAACCGCAGCAGCAC') == [1, 12, 15]\n",
    "assert recherche_naive('TOTO', 'GGCAGCCGAACCGCAGCAGCAC') == []\n",
    "assert recherche_naive('ar', 'barbara') == [1, 4]\n"
   ]
  },
  {
   "cell_type": "markdown",
   "id": "oriental-standing",
   "metadata": {},
   "source": [
    "# Exercice 2 : Algorithme de Boyer-Moore-Horspool (BMH)\n"
   ]
  },
  {
   "cell_type": "markdown",
   "id": "2bb0bfe4",
   "metadata": {},
   "source": [
    "## À la main\n",
    "\n",
    "On considère le motif M = <span style=\"font-family: Consolas; font-size: 17px;\">abracadabra</span> à cherche dans le texte T = <span style=\"font-family: Consolas; font-size: 17px;\">bradacadabdabracadabratabracadabra</span>.\n",
    "\n",
    "**Question 1** : Complétez le schéma en faisant glisser le motif le long du texte suivant l'algorithme de Boyer-Moore-Horspool. On attend l'état à chaque étape du glissement et pour chaque étape, le nombre de comparaisons nécessaires. Combien de comparaisons sont nécessaires en tout. (*Ne vous en faites pas, il n'y a que 6 positions à tester*)\n",
    "\n",
    "<span style=\"font-family: Consolas; font-size: 25px;\">b r a d a c a d a b d a b r a c a d a b r a t a b r a c a d a b r a</span>\n",
    "\n",
    "<div style=\"height:500px\"></div>\n",
    "\n",
    "**Question 2** : Quelles sont les positions en lesquelles le motif a été trouvé ?\n",
    "\n",
    "> **Remarque** : comme pour l'algorithme naïf, pour un texte de taille $n$ et un motif de taille $m$, la dernière position à tester est $n-m$."
   ]
  },
  {
   "cell_type": "markdown",
   "id": "dd0ee6d3",
   "metadata": {},
   "source": [
    "## Efficacité de l'algorithme de BMH\n",
    "\n",
    "**Question 3** : Pour le texte T = <span style=\"font-family: Consolas; font-size: 15px;\">AAAAAAAAAA</span> :\n",
    "- donnez un motif de taille 3 qui serait un *pire cas* (en nombre de comparaisons) ;\n",
    "- donnez un motif de taille 3 qui serait un *meilleur cas* (en nombre de comparaisons)\n",
    "\n"
   ]
  },
  {
   "cell_type": "markdown",
   "id": "6994f9d2",
   "metadata": {},
   "source": [
    "## Prétraitement du motif : construction de la table du mauvais caractère\n",
    "\n",
    "✍️ **Question 4** : Donnez le dictionnaire correspondant à la règle du mauvais caractère pour le motif M = abracadabra (voir cours si nécessaire)\n",
    "\n",
    "💻 **Question 5 (version difficile)** : Écrivez une fonction `table_MC` qui prend en paramètre une chaîne de caractères `M` et qui renvoie le dictionnaire correspondant à la règle du mauvais caractère du motif `M`. "
   ]
  },
  {
   "cell_type": "code",
   "execution_count": null,
   "id": "b6a59915",
   "metadata": {},
   "outputs": [],
   "source": [
    "# à vous de jouer !\n"
   ]
  },
  {
   "cell_type": "markdown",
   "id": "8b3d07f9",
   "metadata": {},
   "source": [
    "✍️ **Question 5 (version facile)** : On considère la fonction `table_MC` suivante qui prend en paramètre une chaîne de caractère `M` et qui renvoie un dictionnaire.\n",
    "\n",
    "```python\n",
    "def table_MC(M):\n",
    "    MC = {}\n",
    "    for j in range(0, len(M)-1):\n",
    "        MC[M[j]] = len(M) - j - 1\n",
    "    return MC\n",
    "```\n",
    "\n",
    "Quel est le dictionnaire renvoyé par l'appel `table_MC(\"abracadabra\")` ?\n",
    "\n",
    "💻 **Question 6** : Vérifiez en faisant l'appel `table_MC(\"abracadabra\")`."
   ]
  },
  {
   "cell_type": "code",
   "execution_count": null,
   "id": "337ce241",
   "metadata": {},
   "outputs": [],
   "source": [
    "# à vous de jouer !\n"
   ]
  },
  {
   "cell_type": "markdown",
   "id": "tropical-federation",
   "metadata": {},
   "source": [
    "## Implémentation de l'algorithme de BHM\n",
    "\n",
    "💻 **Question 7** : Complétez la fonction `BHM` qui renvoie une liste des positions du motif `M` dans le texte `T` en appliquant l'algorithme de BMH."
   ]
  },
  {
   "cell_type": "code",
   "execution_count": null,
   "id": "18b9db23",
   "metadata": {},
   "outputs": [],
   "source": [
    "# À vous de jouer !\n",
    "\n",
    "def BMH(M, T):\n",
    "    # Prétraitement (règle du mauvais caractère)\n",
    "    MC = table_MC(M)\n",
    "    \n",
    "    # Recherche par fenêtre glissante\n",
    "    n = len(T)\n",
    "    m = len(M)\n",
    "    positions = []\n",
    "    i = 0\n",
    "    while i <= n - m:\n",
    "        j = ...  # comparaison à partir de la droite !\n",
    "        while j >= ... and M[...] == T[i + ...]:\n",
    "            j = ...\n",
    "        if ...:  # si motif trouvé\n",
    "            positions.append(i)\n",
    "            i = i + 1  # décalage de 1\n",
    "        else:  # si motif non trouvé --> caractère fautif : T[i+j]\n",
    "            if T[i+j] in MC:  # si le caractère fautif T[i+j] est dans le motif\n",
    "                i = i + ...  # on fait le décalage en fonction de MC (DIFFICILE)\n",
    "            else:  # si le caractère fautif T[i+j] n'est pas dans le motif\n",
    "                i = ...  # on place le motif juste après la position fautive\n",
    "    return positions\n",
    "\n",
    "# Tests\n",
    "assert BMH('GCAG', 'GGCAGCCGAACCGCAGCAGCAC') == [1, 12, 15]\n",
    "assert BMH('TOTO', 'GGCAGCCGAACCGCAGCAGCAC') == []\n",
    "assert BMH('ar', 'barbara') == [1, 4]"
   ]
  },
  {
   "cell_type": "markdown",
   "id": "6335e1ec",
   "metadata": {},
   "source": [
    "## Efficacité en pratique\n",
    "\n",
    "Le fichier `ltdme80j.txt` contient le texte de l'oeuvre *Le tour du monde en 80 jours* de Jules Verne. On peut le charger dans la chaîne de caractères `texte` (de longueur 428969) avec le code suivant :"
   ]
  },
  {
   "cell_type": "code",
   "execution_count": null,
   "id": "professional-provincial",
   "metadata": {},
   "outputs": [],
   "source": [
    "fichier = open(\"data/ltdme80j.txt\", mode = \"r\", encoding = \"utf-8\") \n",
    "texte = fichier.read()  # mémorisation dans une unique chaîne de caractères\n",
    "fichier.close() \n",
    "print(len(texte))\n",
    "print(texte)"
   ]
  },
  {
   "cell_type": "markdown",
   "id": "de677f78",
   "metadata": {},
   "source": [
    "💻 **Question 8** : Comparez le temps mis par la recherche naïve et la recherche selon l'algorithme de Boyer-Moore-Horspool si on cherche le mot `\"Phileas\"` (prénom du personnage principal de l'oeuvre). "
   ]
  },
  {
   "cell_type": "code",
   "execution_count": null,
   "id": "6763ce7d",
   "metadata": {},
   "outputs": [],
   "source": [
    "# à vous de jouer !\n"
   ]
  },
  {
   "cell_type": "markdown",
   "id": "81ad85ec",
   "metadata": {},
   "source": [
    "---\n",
    "**Références**\n",
    "- Documents ressources du DIU EIL, Université de Nantes."
   ]
  },
  {
   "cell_type": "markdown",
   "id": "3c82b596",
   "metadata": {},
   "source": [
    "---\n",
    "Germain BECKER, Lycée Mounier, ANGERS \n",
    "\n",
    "![Licence Creative Commons](https://i.creativecommons.org/l/by-nc-sa/4.0/88x31.png)"
   ]
  }
 ],
 "metadata": {
  "kernelspec": {
   "display_name": "Python 3",
   "language": "python",
   "name": "python3"
  },
  "language_info": {
   "codemirror_mode": {
    "name": "ipython",
    "version": 3
   },
   "file_extension": ".py",
   "mimetype": "text/x-python",
   "name": "python",
   "nbconvert_exporter": "python",
   "pygments_lexer": "ipython3",
   "version": "3.7.10"
  }
 },
 "nbformat": 4,
 "nbformat_minor": 5
}
