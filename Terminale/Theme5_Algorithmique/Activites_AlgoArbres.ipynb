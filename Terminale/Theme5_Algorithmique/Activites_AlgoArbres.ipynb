{
 "cells": [
  {
   "cell_type": "markdown",
   "metadata": {},
   "source": [
    "<h1 style=\"font-size: 30px; text-align: center\">Algorithmes sur les AB et les ABR - Exercices</h1>"
   ]
  },
  {
   "cell_type": "markdown",
   "metadata": {},
   "source": [
    "# Exercice 1 : Parcours en largeur d'un AB\n",
    "\n",
    "Dans le cas où un arbre est parcouru niveau par niveau (en commençant par la racine est en lisant de gauche à droite) on parle d'un **parcours en largeur d'abord**. On utilise le terme *largeur* car dans ce cas on explore les noeuds en balayant en largeur chaque niveau de l'arbre de la gauche vers la droite."
   ]
  },
  {
   "cell_type": "markdown",
   "metadata": {},
   "source": [
    "**Question 1** : Indiquez dans quel ordre les noeuds sont explorés dans le cas d'un parcours en largeur de l'arbre `A1` suivant.\n",
    "\n",
    "![un arbre binaire](data/ab2.png)"
   ]
  },
  {
   "cell_type": "markdown",
   "metadata": {},
   "source": [
    "*Réponse* : 2 - 8 - 9 - 4 - 5 - 3"
   ]
  },
  {
   "cell_type": "markdown",
   "metadata": {},
   "source": [
    "**Principe de l'algorithme** :\n",
    "\n",
    "L'algorithme de parcours en largeur d'un AB nécessite l'utilisation d'un *file* d'attente. Voici son principe :\n",
    "\n",
    "- On place l'arbre dans la file\n",
    "- Tant que la file n'est pas vide :\n",
    "    - On défile son premier élément\n",
    "    - Si l'arbre défilé n'est pas vide, on affiche son etiquette et ajoute ses deux sous-arbres dans la file\n",
    "    - (Sinon, on ne fait rien : on passe donc directement à l'itération suivante)\n",
    "    \n",
    ">Il s'agit donc d'une file d'arbres binaires !"
   ]
  },
  {
   "cell_type": "markdown",
   "metadata": {},
   "source": [
    "On utilisera les classes `Files` et `Noeud` rappelées ci-dessous pour implémenter les files et les arbres binaires. L'arbre binaire vide est représentée par la valeur `None`."
   ]
  },
  {
   "cell_type": "code",
   "execution_count": null,
   "metadata": {},
   "outputs": [],
   "source": [
    "class File:\n",
    "    \"\"\"Pour manipuler des files\"\"\"\n",
    "    def __init__(self):\n",
    "        self.contenu = []\n",
    "        \n",
    "    def enfiler(self, element):\n",
    "        self.contenu.append(element)\n",
    "        \n",
    "    def defiler(self):\n",
    "        self.contenu.pop(0)\n",
    "    \n",
    "    def premier(self):\n",
    "        return self.contenu[0]\n",
    "    \n",
    "    def taille(self):\n",
    "        return len(self.contenu)\n",
    "    \n",
    "    def __repr__(self):\n",
    "        ch = \"\"\n",
    "        for e in self.contenu:\n",
    "            ch = ch + str(e) + \",\"\n",
    "        ch = ch[:-1] # pour enlever la dernière virgule\n",
    "        ch = \"<\" + ch + \"<\"\n",
    "        return ch\n",
    "    \n",
    "class Noeud:\n",
    "    \"\"\"Pour manipuler des arbres binaires\"\"\"\n",
    "    def __init__(self, e, g=None, d=None):\n",
    "        self.etiquette = e\n",
    "        self.gauche = g\n",
    "        self.droit = d\n",
    "\n",
    "    def est_feuille(self):\n",
    "        return not self.gauche and not self.droit\n",
    "    \n",
    "    # Une représentation possible de l'arbre\n",
    "    def __repr__(self):\n",
    "        ch = str(self.etiquette)\n",
    "        if self.gauche or self.droit:\n",
    "            ch = ch + '-(' + str(self.gauche) + ',' + str(self.droit) + ')'\n",
    "        return ch"
   ]
  },
  {
   "cell_type": "markdown",
   "metadata": {},
   "source": [
    "**Question 2** : Utilisez la classe `Noeud` pour représenter l'arbre `A1` de la question 1."
   ]
  },
  {
   "cell_type": "code",
   "execution_count": null,
   "metadata": {},
   "outputs": [],
   "source": [
    "# à vous de jouer !\n",
    "A1 = Noeud(2, Noeud(8, Noeud(4), Noeud(5)), Noeud(9, None, Noeud(3)))\n",
    "A1"
   ]
  },
  {
   "cell_type": "markdown",
   "metadata": {},
   "source": [
    "**Question 3** : Ecrivez une fonction `parcours_largeur(A)` qui implémente l'algorithme de parcours en largeur d'un arbre binaire `A`. Testez-la sur l'arbre `A1` et vérifiez que l'ordre des sommets parcourus est le bon."
   ]
  },
  {
   "cell_type": "code",
   "execution_count": null,
   "metadata": {},
   "outputs": [],
   "source": [
    "# à vous de jouer !\n",
    "        "
   ]
  },
  {
   "cell_type": "markdown",
   "metadata": {},
   "source": [
    "**Question 4** : Modifiez la classe `File` pour la méthode `defiler` renvoie aussi le premier élément. Vous supprimerez la méthode `premier` qui devient inutile."
   ]
  },
  {
   "cell_type": "code",
   "execution_count": null,
   "metadata": {},
   "outputs": [],
   "source": [
    "# à vous de jouer !\n"
   ]
  },
  {
   "cell_type": "markdown",
   "metadata": {},
   "source": [
    "**Question 5** : Récrivez la fonction `parcours_en_largeur(A)` pour tenir compte de la modification de la classe `File`."
   ]
  },
  {
   "cell_type": "code",
   "execution_count": null,
   "metadata": {},
   "outputs": [],
   "source": [
    "# à vous de jouer !\n"
   ]
  },
  {
   "cell_type": "markdown",
   "metadata": {},
   "source": [
    "# Exercice 2 : Parcours en profondeur d'un AB\n",
    "\n",
    "On suppose que l'on dispose des opérations suivantes sur un AB :\n",
    "\n",
    "- `estVide(A)` : renvoie Vrai si et seulement si l'arbre binaire `A` ne contient aucun noeud.\n",
    "- `etiquette(A)` : renvoie l'étiquette de l'arbre binaire `A` (*précondition* : `A` est non vide).\n",
    "- `gauche(A)` : renvoie le sous-arbre gauche de l'arbre binaire `A` (*précondition* : `A` est non vide).\n",
    "- `droit(A)` : renvoie le sous-arbre droit de l'arbre binaire `A` (*précondition* : `A` est non vide).\n",
    "\n",
    "## Ordre préfixe\n",
    "\n",
    "On considère l'algorithme suivant qui a pour but d'afficher toutes les étiquettes des noeuds d'un arbre binaire `A`.\n",
    "\n",
    "<pre><code><u>fonction</u> parcours_prefixe(ArbreBinaire A)\n",
    "    <u>si</u> non estVide(A) <u>alors</u>\n",
    "        afficher à l'écran etiquette(A)\n",
    "        parcours_prefixe(gauche(A))\n",
    "        parcours_prefixe(droit(A))\n",
    "    <u>fin si</u>\n",
    "</code></pre>"
   ]
  },
  {
   "cell_type": "markdown",
   "metadata": {},
   "source": [
    "**Question 1** : Déroulez l'exécution de `parcours_prefixe(A1)` où `A1` est l'arbre binaire suivant. Vous indiquerez les étiquettes affichées dans l'ordre défini par l'algorithme.\n",
    "\n",
    "![un arbre binaire](data/ab2.png)\n",
    "\n",
    ">Ce parcours d'arbre traite l'étiquette du noeud courant puis traite son sous-arbre gauche puis son sous-arbre droit : cet ordre de traitement des noeuds s'appelle **ordre préfixe**. "
   ]
  },
  {
   "cell_type": "markdown",
   "metadata": {},
   "source": [
    "On dispose l'implémentation suivante d'un AB avec des tableaux. L'arbre vide est représenté par un tableau vide."
   ]
  },
  {
   "cell_type": "code",
   "execution_count": null,
   "metadata": {},
   "outputs": [],
   "source": [
    "def noeud(etiquette, arbre_gauche=[], arbre_droit=[]):\n",
    "    \"\"\"Crée et renvoie l'arbre binaire\"\"\"\n",
    "    return [etiquette, arbre_gauche, arbre_droit]\n",
    "\n",
    "def etiquette(arbre):\n",
    "    \"\"\"Renvoie l'étiquette de l'arbre binaire arbre\"\"\"\n",
    "    return arbre[0]\n",
    "\n",
    "def gauche(arbre):\n",
    "    \"\"\"Renvoie le sous-arbre gauche de l'arbre binaire arbre\"\"\"\n",
    "    return arbre[1]\n",
    "\n",
    "def droit(arbre):\n",
    "    \"\"\"Renvoie le sous-arbre droit de l'arbre binaire arbre\"\"\"\n",
    "    return arbre[2]\n",
    "\n",
    "def est_feuille(arbre):\n",
    "    \"\"\"Renvoie True si et seulement si l'arbre binaire arbre est une feuille \"\"\"\n",
    "    return arbre[1] == [] and arbre[2] == []"
   ]
  },
  {
   "cell_type": "markdown",
   "metadata": {},
   "source": [
    "On peut alors créer l'arbre binaire `A1` précédent comme suit."
   ]
  },
  {
   "cell_type": "code",
   "execution_count": null,
   "metadata": {},
   "outputs": [],
   "source": [
    "A1 = noeud(2, noeud(8, noeud(4), noeud(5)), noeud(9, [], noeud(3)))"
   ]
  },
  {
   "cell_type": "markdown",
   "metadata": {},
   "source": [
    "**Question 2** : Implémentez en Python la fonction `parcours_prefixe(A)` et vérifiez qu'en l'appliquant sur l'arbre binaire `A1` vous retrouvez bien l'ordre des sommets de la question 1."
   ]
  },
  {
   "cell_type": "code",
   "execution_count": null,
   "metadata": {},
   "outputs": [],
   "source": [
    "# à vous de jouer !\n"
   ]
  },
  {
   "cell_type": "markdown",
   "metadata": {},
   "source": [
    "## Ordre infixe\n",
    "\n",
    "Dans le cas d'un parcours des noeuds suivant un **ordre infixe**, le noeud au courant est traité entre son sous-arbre gauche et son sous-arbre droit.\n",
    "\n",
    "**Question 3** : Indiquez l'ordre des noeuds visités si on parcours l'arbre `A1` selon un ordre infixe."
   ]
  },
  {
   "cell_type": "markdown",
   "metadata": {},
   "source": [
    "*Réponse* :"
   ]
  },
  {
   "cell_type": "markdown",
   "metadata": {},
   "source": [
    "**Question 4** : Ecrivez une fonction `parcours_infixe(A)` qui affiche les étiquettes des noeuds de l'arbre binaire `A` visité selon l'ordre infixe. "
   ]
  },
  {
   "cell_type": "code",
   "execution_count": null,
   "metadata": {},
   "outputs": [],
   "source": [
    "# à vous de jouer !\n"
   ]
  },
  {
   "cell_type": "markdown",
   "metadata": {},
   "source": [
    "## Ordre suffixe\n",
    "\n",
    "Dans le cas d'un parcours des noeuds suivant un **ordre suffixe**, le noeud au courant est traité après son sous-arbre gauche et son sous-arbre droit.\n",
    "\n",
    "**Question 5** : Indiquez l'ordre des noeuds visités si on parcours l'arbre `A1` selon un ordre suffixe."
   ]
  },
  {
   "cell_type": "markdown",
   "metadata": {},
   "source": [
    "*Réponse* : "
   ]
  },
  {
   "cell_type": "markdown",
   "metadata": {},
   "source": [
    "**Question 6** : Ecrivez une fonction `parcours_suffixe(A)` qui affiche les étiquettes des noeuds de l'arbre binaire `A` visité selon l'ordre infixe. "
   ]
  },
  {
   "cell_type": "code",
   "execution_count": null,
   "metadata": {},
   "outputs": [],
   "source": [
    "# à vous de jouer !\n"
   ]
  },
  {
   "cell_type": "markdown",
   "metadata": {},
   "source": [
    "# Exercice 3 : Retour sur les ordres de parcours en profondeur\n",
    "\n",
    "Voici un arbre binaire `A2`. Donnez l'ordre des sommets visités lors d'un parcours :\n",
    "- en largeur d'abord\n",
    "- par ordre préfixe\n",
    "- par ordre infixe\n",
    "- par ordre suffixe\n",
    "\n",
    "![un arbre binaire](data/ab1.png)"
   ]
  },
  {
   "cell_type": "markdown",
   "metadata": {},
   "source": [
    "# Exercice 4 : Ordres préfixe, infixe, suffixe avec une version objet d'un AB\n",
    "\n",
    "On suppose que l'on dispose de la classe `Noeud` pour implémenter les arbres binaires."
   ]
  },
  {
   "cell_type": "code",
   "execution_count": null,
   "metadata": {},
   "outputs": [],
   "source": [
    "class Noeud:\n",
    "    \"\"\"Pour manipuler des arbres binaires\"\"\"\n",
    "    def __init__(self, e, g=None, d=None):\n",
    "        self.etiquette = e\n",
    "        self.gauche = g\n",
    "        self.droit = d\n",
    "\n",
    "    def est_feuille(self):\n",
    "        return not self.gauche and not self.droit\n",
    "    \n",
    "    # Une représentation possible de l'arbre\n",
    "    def __repr__(self):\n",
    "        ch = str(self.etiquette)\n",
    "        if self.gauche or self.droit:\n",
    "            ch = ch + '-(' + str(self.gauche) + ',' + str(self.droit) + ')'\n",
    "        return ch"
   ]
  },
  {
   "cell_type": "markdown",
   "metadata": {},
   "source": [
    "**Question 1** : On donne ci-dessous la façon de construire l'arbre `A1` de l'exercice 2 avec le constructeur de cette classe. Construisez l'arbre `A2` de l'exercice 3 qui est rappelé ci-dessous.\n",
    "\n",
    "![un arbre binaire](data/ab1.png)"
   ]
  },
  {
   "cell_type": "code",
   "execution_count": null,
   "metadata": {},
   "outputs": [],
   "source": [
    "A1 = Noeud(2, Noeud(8, Noeud(4), Noeud(5)), Noeud(9, None, Noeud(3)))\n",
    "# mémorisation de l'arbre A2 : à vous de jouer !\n"
   ]
  },
  {
   "cell_type": "markdown",
   "metadata": {},
   "source": [
    "**Question 2** : Réécrivez les fonctions `parcours_prefixe(A)`, `parcours_infixe(A)` et `parcours_suffixe(A)` en tenant compte de la représentation objet des arbres binaires avec la classe `Noeud`."
   ]
  },
  {
   "cell_type": "code",
   "execution_count": null,
   "metadata": {},
   "outputs": [],
   "source": [
    "# à vous de jouer !\n"
   ]
  },
  {
   "cell_type": "markdown",
   "metadata": {},
   "source": [
    "**Question 3** : Testez les 3 fonctions sur les arbres binaires `A1` et `A2`."
   ]
  },
  {
   "cell_type": "code",
   "execution_count": null,
   "metadata": {},
   "outputs": [],
   "source": [
    "# à vous de jouer !\n"
   ]
  },
  {
   "cell_type": "markdown",
   "metadata": {},
   "source": [
    "# Exercice 5 : Recherche dans un AB\n",
    "\n",
    "On veut écrire une fonction récursive `etq_presente(A, e)` qui renvoie Vrai si l'étiquette `e` est présente dans l'AB `A`; et Faux sinon.\n",
    "\n",
    "**Question 1** : Recopiez et complétez la phrase suivante présentant le principe de l'algorithme de la recherche :\n",
    "\n",
    "```\n",
    "Si l'arbre est ... alors on renvoie ..., sinon on regarde si l'étiquette est ... ou ... ou .... \n",
    "```"
   ]
  },
  {
   "cell_type": "markdown",
   "metadata": {},
   "source": [
    "*Réponse* :"
   ]
  },
  {
   "cell_type": "markdown",
   "metadata": {},
   "source": [
    "**Question 2** : Ecrivez la fonction récursive `etq_presente(A, e)`. *On suppose que les AB sont implémentés avec la classe `Noeud` (voir exercice précédent)*."
   ]
  },
  {
   "cell_type": "code",
   "execution_count": null,
   "metadata": {},
   "outputs": [],
   "source": [
    "# à vous de jouer !\n"
   ]
  },
  {
   "cell_type": "markdown",
   "metadata": {},
   "source": [
    "**Question 3** : Proposez un bon jeu de test à l'aide des arbres `A1` et `A2` des exercices précédents et vérifiez que votre fonction passe tous les tests avec succès."
   ]
  },
  {
   "cell_type": "code",
   "execution_count": null,
   "metadata": {},
   "outputs": [],
   "source": [
    "# à vous de jouer !\n"
   ]
  },
  {
   "cell_type": "markdown",
   "metadata": {},
   "source": [
    "**Question 4** : Quel est le coût en temps de cet algorithme (dans le pire cas) ?"
   ]
  },
  {
   "cell_type": "markdown",
   "metadata": {},
   "source": [
    "*Réponse* :"
   ]
  },
  {
   "cell_type": "markdown",
   "metadata": {},
   "source": [
    "# Exercice 6 : Arbres binaires de recherches (ABR)\n",
    "\n",
    ">**Définition** : Un **arbre binaire de recherche**, abrégé ABR, est un arbre binaire dans lequel *tout* noeud a une étiquette :\n",
    ">- plus grande ou égale à celles de son sous-arbre gauche\n",
    ">- plus petite strictement que celles de son sous-arbre droit\n"
   ]
  },
  {
   "cell_type": "markdown",
   "metadata": {},
   "source": [
    "**Question 1** : Les deux arbres suivants sont-ils des ABR ? Expliquez.\n",
    "\n",
    "![deux AB](data/ab_ex6.png)\n",
    "\n",
    "**Question 2** : Donnez tous les ABR formés de trois noeuds contenant les entiers 1, 2 et 3.\n",
    "\n",
    "**Question 3** : Construisez 3 arbres binaires de forme quelconque à 10 noeuds. Rangez-y les entiers de 1 à 10 à la façon d'un ABR. Que constatez-vous ?\n",
    "\n",
    "**Question 4** : Dans un ABR, où trouve-t-on la valeur minimale ? la valeur maximale ?"
   ]
  },
  {
   "cell_type": "markdown",
   "metadata": {},
   "source": [
    "# Exercice 7 : Recherche dans un ABR\n",
    "\n",
    "## Questions préléminaires\n",
    "\n",
    "Voici un AB :\n",
    "\n",
    "![un ABR](data/abr_ex7.png)"
   ]
  },
  {
   "cell_type": "markdown",
   "metadata": {},
   "source": [
    "**Question 1** : Expliquez pourquoi il s'agit d'un ABR.\n",
    "\n",
    "**Question 2** : On veut chercher l'étiquette \"6\". Expliquez comment procéder en partant de la racine.\n",
    "\n",
    "**Question 3** : Même question pour chercher l'étiquette \"7\".\n",
    "\n",
    "**Question 4** : Même question pour chercher l'étiquette \"12\"."
   ]
  },
  {
   "cell_type": "markdown",
   "metadata": {},
   "source": [
    "## Algorithme de recherche dans un ABR\n",
    "\n",
    "On veut écrire une fonction *récursive* `etq_presente(A, e)` qui renvoie Vrai si l'étiquette `e` est présente dans l'ABR `A`, et Faux sinon.\n",
    "\n",
    "**Question 5** : Recopiez et complétez l'algorithme de cette fonction.\n",
    "\n",
    "<pre><code><u>fonction</u> etq_presente(A, e) → Booléen\n",
    "    <u>si</u> est_vide(A) <u>alors</u>\n",
    "        ...\n",
    "    <u>sinon</u>\n",
    "        <u>si</u> ... <u>alors</u>\n",
    "            ...\n",
    "        <u>sinon</u>\n",
    "            <u>si</u> ... <u>alors</u>\n",
    "                ...\n",
    "            <u>sinon</u>\n",
    "                ...\n",
    "            <u>fin si</u>\n",
    "        <u>fin si</u>\n",
    "    <u>fin si</u>   \n",
    "</code></pre>"
   ]
  },
  {
   "cell_type": "markdown",
   "metadata": {},
   "source": [
    "**Question 6** : Implémentez cette fonction en Python. *Vous utiliserez une représentation objet des AB*."
   ]
  },
  {
   "cell_type": "code",
   "execution_count": null,
   "metadata": {},
   "outputs": [],
   "source": [
    "# à vous de jouer !\n"
   ]
  },
  {
   "cell_type": "markdown",
   "metadata": {},
   "source": [
    "**Question 7** : Testez la fonction en utilisant l'ABR `A3` donné en-dessous.\n",
    "\n",
    "![un ABR](data/abr_ex7.png)"
   ]
  },
  {
   "cell_type": "code",
   "execution_count": null,
   "metadata": {},
   "outputs": [],
   "source": [
    "A3 = Noeud(8, Noeud(3, Noeud(1), Noeud(6, Noeud(5), Noeud(7))), Noeud(10, None, Noeud(13, Noeud(11), None)))\n",
    "#print(A3)\n",
    "# à vous de jouer !\n"
   ]
  },
  {
   "cell_type": "markdown",
   "metadata": {},
   "source": [
    "# Exercice 8 : Caractérisitiques d'un ABR\n",
    "\n",
    "Dans cet exercice on considère l'ABR suivant :\n",
    "\n",
    "![un ABR](data/abr_ex7.png)\n",
    "\n",
    "## Ordre de parcours\n",
    "\n",
    "**Question 1** : Donnez l'ordre des sommets visités selon les parcours par ordre préfixe, infixe et suffixe.\n",
    "\n",
    "**Question 2** : Que remarquez-vous ?"
   ]
  },
  {
   "cell_type": "markdown",
   "metadata": {},
   "source": [
    "# Recherche du minimum\n",
    "\n",
    "**Question 3** : Rappelez comment trouver l'étiquette minimale d'un ABR."
   ]
  },
  {
   "cell_type": "markdown",
   "metadata": {},
   "source": [
    "*Réponse* :"
   ]
  },
  {
   "cell_type": "markdown",
   "metadata": {},
   "source": [
    "**Question 4** : Ecrivez une fonction *itérative* `etq_min(A)` qui renvoie l'étiquette minimale d'un ABR `A` non vide."
   ]
  },
  {
   "cell_type": "code",
   "execution_count": null,
   "metadata": {},
   "outputs": [],
   "source": [
    "# à vous de jouer !\n"
   ]
  },
  {
   "cell_type": "markdown",
   "metadata": {},
   "source": [
    "**Question 5** : Ecrivez une fonction *récursive* `etq_min_rec(A)` qui renvoie l'étiquette minimale d'un ABR `A` supposée non vide."
   ]
  },
  {
   "cell_type": "code",
   "execution_count": null,
   "metadata": {},
   "outputs": [],
   "source": [
    "# à vous de jouer !\n"
   ]
  },
  {
   "cell_type": "markdown",
   "metadata": {},
   "source": [
    "## Recherche du maximum\n",
    "\n",
    "**Question 6** : Proposez une fonction *itérative* `etq_max(A)` et une fonction *récursive* `etq_max_rec(A)` qui renvoient l'étiquette maximale d'un ABR `A` supposé non vide. "
   ]
  },
  {
   "cell_type": "code",
   "execution_count": null,
   "metadata": {},
   "outputs": [],
   "source": [
    "# à vous de jouer !\n"
   ]
  },
  {
   "cell_type": "markdown",
   "metadata": {},
   "source": [
    "# Exercice 9 : Insérer une clé dans un ABR\n",
    "\n",
    "Ce dernier exercice traite l'insertion d'une clé dans un ABR, un algorithme au programme. Dans un premier temps, vous écrirez un algorithme qui fait l'insertion avec modification en place de l'ABR, et dans un second temps vous écrirez une version plus simple mais qui renvoie un nouvel arbre à chaque insertion (et ne modifie donc pas les arbres passés en argument).\n",
    "\n",
    "## Version avec *modification en place*\n",
    "\n",
    "Voici un AB :\n",
    "\n",
    "![un ABR](data/abr_ex7.png)"
   ]
  },
  {
   "cell_type": "markdown",
   "metadata": {},
   "source": [
    "**Question 1** : On veut insérer l'étiquette \"4\" dans cet ABR. Expliquez comment procéder en partant de la racine.\n",
    "\n",
    "**Question 2** : Même question pour chercher l'étiquette \"2\".\n",
    "\n",
    "**Question 3** : Même question pour chercher l'étiquette \"9\"."
   ]
  },
  {
   "cell_type": "markdown",
   "metadata": {},
   "source": [
    "**Question 4** : Recopiez et complétez le principe de l'algorithme récursif suivant qui ajoute la clé `e` dans l'ABR non vide `A`.\n",
    "\n",
    "<pre><code><u>fonction</u> ajouter(A, e)\n",
    "    <u>si</u> e <= etiquette(A) <u>alors</u>\n",
    "        <u>si</u> est_vide(gauche(A)) <u>alors</u>\n",
    "            ...\n",
    "        <u>sinon</u>\n",
    "            ajouter(...)\n",
    "        <u>fin si</u>\n",
    "    <u>sinon</u> \n",
    "        ...\n",
    "</code></pre>"
   ]
  },
  {
   "cell_type": "markdown",
   "metadata": {},
   "source": [
    "**Question 5** : Implémentez cette fonction en Python. *Vous utiliserez la représentation d'un ABR par la classe `Noeud`*."
   ]
  },
  {
   "cell_type": "code",
   "execution_count": null,
   "metadata": {},
   "outputs": [],
   "source": [
    "# à vous de jouer !\n"
   ]
  },
  {
   "cell_type": "markdown",
   "metadata": {},
   "source": [
    "**Question 6** : On a représenté l'arbre `A3` de cet exercice ci-dessous. Ecrivez les instructions permettant d'insérer les clés 4, 2 puis 9. Vérifiez ensuite que les clés ont bien été insérées aux bons endroits."
   ]
  },
  {
   "cell_type": "code",
   "execution_count": null,
   "metadata": {},
   "outputs": [],
   "source": [
    "A3 = Noeud(8, Noeud(3, Noeud(1), Noeud(6, Noeud(5), Noeud(7))), Noeud(10, None, Noeud(13, Noeud(11), None)))\n",
    "# à vous de jouer !\n"
   ]
  },
  {
   "cell_type": "markdown",
   "metadata": {},
   "source": [
    "**Question 7** : Créez un ABR à un noeud. Ecrivez ensuite les instructions permettant d'y insérer 4 clés en affichant l'arbre modifié à chaque insertion pour vérifier."
   ]
  },
  {
   "cell_type": "code",
   "execution_count": null,
   "metadata": {},
   "outputs": [],
   "source": [
    "# à vous de jouer !\n"
   ]
  },
  {
   "cell_type": "markdown",
   "metadata": {},
   "source": [
    ">**Remarque** : L'algorithme d'insertion ainsi écrit doit se faire dans un ABR **non vide**. En effet, le cas de l'insertion dans un arbre vide (représenté par `None`) n'est pas pris en compte. On pourrait le faire mais cela compliquerait les choses. En revanche, si on écrit un algorithme qui ne modifie pas en place l'arbre passé en argument on peut écrire un algorithme d'insertion plus court et qui englobe le cas de l'insertion dans un arbre vide. "
   ]
  },
  {
   "cell_type": "markdown",
   "metadata": {},
   "source": [
    "## Version avec *construction de nouveaux arbres*\n",
    "\n",
    "Pour terminer, on va écrire une fonction `ajouter(A, e)` qui renvoie un *nouvel* arbre contenant `e` et tous les noeuds de l'arbre `A`. On va encore procéder récursivement.\n",
    "\n",
    "**Question 8** : Le cas de base concerne l'ajout dans un arbre vide. Que doit renvoyer la fonction dans ce cas ?"
   ]
  },
  {
   "cell_type": "markdown",
   "metadata": {},
   "source": [
    "**Question 9** : Si l'abre `A` n'est pas vide, il faut comparer `e` à l'étiquette de `A`. Selon le cas, il faut ajouter `e` au sous-arbre gauche ou au sous-arbre droit de `A`. Complétez avec des phrases ce que la fonction doit faire selon les cas :\n",
    "\n",
    "<pre><code><u>si</u> e <= etiquette(A) <u>alors</u>\n",
    "    <u>renvoyer</u> Noeud(...................., ...................., ....................)\n",
    "<u>sinon</u>\n",
    "    <u>renvoyer</u> Noeud(...................., ...................., ....................)\n",
    "</code></pre>"
   ]
  },
  {
   "cell_type": "markdown",
   "metadata": {},
   "source": [
    "**Question 10** : Ecrivez cette fonction récursive en Python. *N'oubliez pas le cas de base*."
   ]
  },
  {
   "cell_type": "code",
   "execution_count": null,
   "metadata": {},
   "outputs": [],
   "source": [
    "# à vous de jouer !\n"
   ]
  },
  {
   "cell_type": "markdown",
   "metadata": {},
   "source": [
    "**Question 11** : On a représenté l'arbre `A3` de cet exercice ci-dessous. Ecrivez les instructions permettant d'insérer les clés 4, 2 puis 9. **Attention** : la fonction renvoie un nouvel arbre. Vérifiez ensuite que les clés ont bien été insérées aux bons endroits."
   ]
  },
  {
   "cell_type": "code",
   "execution_count": null,
   "metadata": {},
   "outputs": [],
   "source": [
    "A3 = Noeud(8, Noeud(3, Noeud(1), Noeud(6, Noeud(5), Noeud(7))), Noeud(10, None, Noeud(13, Noeud(11), None)))\n",
    "# à vous de jouer !\n"
   ]
  },
  {
   "cell_type": "markdown",
   "metadata": {},
   "source": [
    "**Question 12** : Ecrivez ensuite les instructions permettant de construire le même ABR que dans la question 7 en procédant par insertion successives."
   ]
  },
  {
   "cell_type": "code",
   "execution_count": null,
   "metadata": {},
   "outputs": [],
   "source": [
    "# à vous de jouer !\n"
   ]
  },
  {
   "cell_type": "markdown",
   "metadata": {},
   "source": [
    "---\n",
    "\n",
    "**Références :**\n",
    "- Equipe pédagogique DIU EIL, Université de Nantes.\n",
    "- Livre *Spécialité Numérique et sciences informatiques : 24 leçons avec exercices corrigés - Terminale*, éditions Ellipses, T. Balabonski, S. Conchon, J.-C. Filliâtre, K. Nguyen pour la question 2 de l'exercice 6 et la deuxième partie de l'exercice 9 (ajout dans un ABR sans modification des arbres passés en paramètres). Site du livre : [http://www.nsi-terminale.fr/](http://www.nsi-terminale.fr/).\n",
    "\n",
    "---\n",
    "Germain BECKER, Lycée Mounier, ANGERS \n",
    "\n",
    "![Licence Creative Commons](https://i.creativecommons.org/l/by-nc-sa/4.0/88x31.png)"
   ]
  }
 ],
 "metadata": {
  "kernelspec": {
   "display_name": "Python 3",
   "language": "python",
   "name": "python3"
  },
  "language_info": {
   "codemirror_mode": {
    "name": "ipython",
    "version": 3
   },
   "file_extension": ".py",
   "mimetype": "text/x-python",
   "name": "python",
   "nbconvert_exporter": "python",
   "pygments_lexer": "ipython3",
   "version": "3.7.3"
  }
 },
 "nbformat": 4,
 "nbformat_minor": 2
}
