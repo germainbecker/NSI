{
 "cells": [
  {
   "cell_type": "markdown",
   "id": "described-series",
   "metadata": {},
   "source": [
    "<h1 style=\"font-size:30px; text-align:center\" class=\"titre-nb\">Recherche d'un motif dans un texte</h1>"
   ]
  },
  {
   "cell_type": "markdown",
   "id": "three-graphic",
   "metadata": {},
   "source": [
    "# Introduction\n",
    "\n",
    "En *algorithmique du texte*, l'un des grands problèmes est la **recherche de motif dans un texte**.\n",
    "\n",
    "Concrètement, rechercher le motif M dans un texte T consiste à rechercher toutes les occurrences de M dans T.\n",
    "\n",
    "**Exemple** : Si M = GCAG et T = GGCAGCCGAACCGCAGCAGCAC alors M apparaît 3 fois dans T, aux positions 1, 12 et 15 :\n",
    "\n",
    "<p style=\"text-align: center\">\n",
    "G<span style=\"text-decoration: underline; background-color: #D5F5E3;\">GCAG</span>CCGAACC<span style=\"text-decoration: underline; background-color: #D5F5E3;\">GCA</span><span style=\"text-decoration: underline overline; background-color: #D5F5E3;\">G</span><span style=\"text-decoration: overline; background-color: #D5F5E3;\">CAG</span>CAC\n",
    "</p>\n",
    "\n",
    "**Applications fréquentes** :\n",
    "\n",
    "- Recherche d'un mot dans un document (le célèbre CTRL+F)\n",
    "\n",
    "<img class=\"centre image-responsive\" alt=\"i love ctrl+f\" src=\"data/ctrl-f.jpg\" width=\"180\">\n",
    "\n",
    "<p style=\"text-align: center; color: #888\">Source : <a href=\"https://flic.kr/p/7Qb6aM\">Ahora estoy</a>, <a href=\"https://creativecommons.org/licenses/by-sa/2.0/\">CC BY-SA 2.0</a>, Flickr</p></p>\n",
    "\n",
    "- Recherche d'un mot sur le Web par les moteurs de recherche\n",
    "\n",
    "<img class=\"centre image-responsive\" alt=\"barre de recherche\" src=\"data/search-bar.jpg\" width=\"300\">\n",
    "\n",
    "- Recherche d'une sous-séquence d'intérêt dans une séquence biologique\n",
    "\n",
    "<img class=\"centre image-responsive\" alt=\"brin d'ADN\" src=\"data/ADN.svg\" width=\"300\">\n",
    "\n",
    "<p style=\"text-align: center; color: #888\">Source : <a href=\"https://commons.wikimedia.org/wiki/File:DNA_structure_and_bases_FR.svg\">derivative work: Dosto (talk)DNA_structure_and_bases_PL.svg: MesserWoland</a>, <a href=\"https://creativecommons.org/licenses/by-sa/2.5\">CC BY-SA 2.5</a>, via Wikimedia Commons</p>"
   ]
  },
  {
   "cell_type": "markdown",
   "id": "single-penny",
   "metadata": {},
   "source": [
    "**Notations** : Dans la suite on notera <span style=\"font-family: Consolas\">m</span> la taille du motif M et <span style=\"font-family: Consolas\">n</span> la taille du texte T. On considérera que le motif est de \"petite\" taille par rapport à celle du motif : <span style=\"font-family: Consolas\">m</span> est négligeable devant <span style=\"font-family: Consolas\">n</span>.\n",
    "\n",
    "**Exemples** : La taille du texte T peut être (très) grande !\n",
    "\n",
    "- chercher M = <span style=\"font-family: Consolas; background-color: #AED6F1;\">algorithme</span> dans le programme de NSI de Terminale :\n",
    "    - <span style=\"font-family: Consolas\">n</span> = 201 097\n",
    "    - <span style=\"font-family: Consolas\">m</span> = 10\n",
    "    - on trouve 9 occurrences\n",
    "- chercher M = <span style=\"font-family: Consolas; background-color: #AED6F1;\">TTGACA</span> (promoteur de gène) dans le chromosome 1 de l'humain :\n",
    "    - <span style=\"font-family: Consolas\">n</span> = 249 250 621\n",
    "    - <span style=\"font-family: Consolas\">m</span> = 6\n",
    "    - on trouve plus de 1000 occurrences\n",
    "\n",
    "En pratique il est donc nécessaire d'utiliser des algorithmes efficaces, qui donnent la réponse en un temps raisonnable. \n",
    "\n",
    "<blockquote class=\"information\">\n",
    "    <p>Nous verrons dans un premier temps un <em>algorithme de recherche naïf</em> qui permettra de comprendre le principe d'une recherche puis, dans un second temps, un algorithme plus efficace appelé <em>algorithme de Boyer-Moore</em> dans sa version simplifiée publiée par Nigel Horspool.</p>\n",
    "</blockquote>"
   ]
  },
  {
   "cell_type": "markdown",
   "id": "legitimate-stamp",
   "metadata": {},
   "source": [
    "# Recherche par fenêtre glissante\n",
    "\n",
    "Les différents algorithmes de recherche exacte de motif sont basés sur une recherche par *fenêtre glissante* dont l'idée est la suivante :\n",
    "\n",
    "- Positionner le motif M à différentes positions de T\n",
    "- Pour chaque position <span style=\"font-family: Consolas\">i</span> choisie, tester si M apparaît dans T (c'est-à-dire si <span style=\"font-family: Consolas\">M[0..m-1] = T[i..i+m-1]</span> ?)\n",
    "- Décaler M (changement de position dans T) et recommencer"
   ]
  },
  {
   "cell_type": "markdown",
   "id": "monetary-world",
   "metadata": {},
   "source": [
    "**Exemple** :\n",
    "\n",
    "<pre style=\"font-size: 15px; line-height: 20px;\">\n",
    "<span style=\"color: #aaa;\">i   0 1 2 3 4 5 6 7 8 9 ... </span>\n",
    "T = G <span style=\"background-color: #D5F5E3;\">G C A G</span> C C <span style=\"background-color: #F5B7B1;\">G A A C</span> C <span style=\"background-color: #D5F5E3;\">G C A </span><span style=\"background-color: #D5F5E3;\">G</span> C A G</span> C A C\n",
    "        &#10004;&#65039;          &#10060;        &#10004;&#65039;\n",
    "M     <span style=\"background-color: #AED6F1;\">G C A G</span>     \n",
    "            &xrarr;    <span style=\"background-color: #AED6F1;\">G C A G</span>\n",
    "                        &xrarr;  <span style=\"background-color: #AED6F1;\">G C A G</span>\n",
    "                                  &xrarr; ...\n",
    "</pre>"
   ]
  },
  {
   "cell_type": "markdown",
   "id": "possible-tissue",
   "metadata": {},
   "source": [
    "**Important : Dans la suite, on notera toujours <span style=\"font-family: Consolas\">i</span> la position dans T et <span style=\"font-family: Consolas\">j</span> la position dans M.**\n",
    "\n",
    "Pour une position <span style=\"font-family: Consolas\">i</span> choisie on est dans la situation suivante\n",
    "\n",
    "<img class=\"centre image-responsive\" alt=\"schéma comparaison en position i\" src=\"data/compa_pos_i.png\">\n",
    "\n",
    "et on peut comparer <span style=\"font-family: Consolas; font-size: 15px;\">M[0..m-1]</span> et <span style=\"font-family: Consolas; font-size: 15px;\">T[i..i+m-1]</span>\n",
    "\n",
    "C'est la façon de décaler le motif M et la façon de le comparer avec le texte T qui diffèrent d'un algorithme à l'autre."
   ]
  },
  {
   "cell_type": "markdown",
   "id": "alpha-uzbekistan",
   "metadata": {},
   "source": [
    "# Algorithme de recherche naïve\n",
    "\n",
    "L'idée est de tester si M apparaît dans T pour **chaque position** <span style=\"font-family: Consolas\">i</span> de T. Autrement dit, on va **décaler le motif M d'un cran à chaque fois**.\n",
    "\n",
    "<pre style=\"font-size: 15px; line-height: 20px;\">\n",
    "<span style=\"color: #aaa;\">i   0 1 2 3 4 5 6 7 8 9 ... </span>\n",
    "T   G G C A G C C G A A C C G C A G C A G C A C\n",
    "M   <span style=\"background-color: #AED6F1;\">G C A G</span>     \n",
    "      <span style=\"background-color: #AED6F1;\">G C A G</span>\n",
    "        <span style=\"background-color: #AED6F1;\">G C A G</span>\n",
    "          <span style=\"background-color: #AED6F1;\">etc.</span>\n",
    "</pre>\n",
    "\n",
    "On trouvera bien sûr que le motif M = <span style=\"font-family: Consolas;\">GCAG</span> apparaît aux positions 1, 12 et 15."
   ]
  },
  {
   "cell_type": "markdown",
   "id": "affected-technical",
   "metadata": {},
   "source": [
    "## Méthode de comparaison\n",
    "\n",
    "Une fois que le motif est dans une certaine position <span style=\"font-family: Consolas\">i</span>, on doit comparer <span style=\"font-family: Consolas\">M[0..m-1]</span> et <span style=\"font-family: Consolas\">T[i..i+m-1]</span>. Pour la recherche naïve, on peut effectuer cette comparaison de la gauche vers la droite du motif :\n",
    "\n",
    "- on fait donc varier <span style=\"font-family: Consolas\">j</span> de 0 à <span style=\"font-family: Consolas\">m-1</span>\n",
    "- on s'arrête dès qu'il n'y a pas correspondance et on décale le motif à la position suivante."
   ]
  },
  {
   "cell_type": "markdown",
   "id": "soviet-explanation",
   "metadata": {},
   "source": [
    "**Exemple** : On cherche le motif M = GCAG dans le texte T = GGCAGCCGAACCGCAGCAGCAC\n",
    "\n",
    "- Position <span style=\"font-family: Consolas\">i</span> = 0 :\n",
    "    - les premiers caractères (G) coïncident mais pas les suivants (G vs C) : **2 comparaisons nécessaires**\n",
    "    - on peut stopper la recherche à cette position : le motif n'est pas en position 0 et on décale le motif d'un cran vers la droite et on recommence\n",
    "\n",
    "<pre style=\"font-size: 15px; line-height: 20px;\">\n",
    "<span style=\"color: #aaa;\">i   0 1 2 3 4 5 6 7 8 9 ...</span>\n",
    "T   <span style=\"background-color: #FCEBAB;\">G</span> <span style=\"background-color: #F5B7B1;\">G</span> C A G C C G A A C C G C A G C A G C A C\n",
    "M   <span style=\"background-color: #FCEBAB;\">G</span> <span style=\"background-color: #F5B7B1;\">C</span> A G</span>     \n",
    "</pre>"
   ]
  },
  {
   "cell_type": "markdown",
   "id": "stunning-brooks",
   "metadata": {},
   "source": [
    "- Position <span style=\"font-family: Consolas\">i</span> = 1 :\n",
    "    - les G coïncident, puis les C, puis les A, puis les G : **4 comparaisons nécessaires**\n",
    "    - **on a trouvé le motif en position 1** et on décale le motif d'un cran vers la droite et on recommence\n",
    "\n",
    "<pre style=\"font-size: 15px; line-height: 20px;\">\n",
    "<span style=\"color: #aaa;\">i   0 1 2 3 4 5 6 7 8 9 ... </span>\n",
    "T   G <span style=\"background-color: #D5F5E3;\">G C A G</span> C C G A A C C G C A G C A G C A C\n",
    "M     <span style=\"background-color: #D5F5E3;\">G C A G</span>     \n",
    "</pre>\n",
    "\n",
    "- ..."
   ]
  },
  {
   "cell_type": "markdown",
   "id": "athletic-nicholas",
   "metadata": {},
   "source": [
    "- Position <span style=\"font-family: Consolas\">i</span> = 18 (valeur de <span style=\"font-family: Consolas\">n - m = 22 - 4</span>),  dernière position à tester car après le motif dépasse le texte :\n",
    "    - les G coïncident, puis les C, puis les A, mais pas les derniers caractères (C vs G) : **4 comparaisons nécessaires**\n",
    "    - la recherche est terminée\n",
    "\n",
    "<pre style=\"font-size: 15px; line-height: 20px;\">\n",
    "<span style=\"color: #aaa;\">i   0 1 2 3 4 5 6 7 8 9 ... </span>\n",
    "T   G G C A G C C G A A C C G C A G C A <span style=\"background-color: #FCEBAB;\">G</span> <span style=\"background-color: #FCEBAB;\">C</span> <span style=\"background-color: #FCEBAB;\">A</span> <span style=\"background-color: #F5B7B1;\">C</span>\n",
    "M                                       <span style=\"background-color: #FCEBAB;\">G</span> <span style=\"background-color: #FCEBAB;\">C</span> <span style=\"background-color: #FCEBAB;\">A</span> <span style=\"background-color: #F5B7B1;\">G</span>     \n",
    "</pre>\n",
    "\n",
    "\n",
    "**BILAN** : On trouve au final le motif aux positions 1, 12 et 15 et cela nécessite en tout 35 comparaisons."
   ]
  },
  {
   "cell_type": "markdown",
   "id": "explicit-utilization",
   "metadata": {},
   "source": [
    "## Animation\n",
    "\n",
    "On peut visualiser la recherche naïve, en suivant le lien [https://germainbecker.github.io/recherche-textuelle/?t=GGCAGCCGAACCGCAGCAGCAC&m=GCAG](https://germainbecker.github.io/recherche-textuelle/?t=GGCAGCCGAACCGCAGCAGCAC&m=GCAG) ou directement en-dessous.\n",
    "\n",
    "<iframe class=\"centre recherche-textuelle\" width=\"800\" height=\"260\" frameborder=\"0\" src=\"https://germainbecker.github.io/recherche-textuelle/iframe-embed.html?t=GGCAGCCGAACCGCAGCAGCAC&m=GCAG\"></iframe>"
   ]
  },
  {
   "cell_type": "markdown",
   "id": "cathedral-mistress",
   "metadata": {},
   "source": [
    "><span style=\"font-size:1.5em\">✏️</span> **À faire** : Exercice 1 (sur la recherche naïve)."
   ]
  },
  {
   "cell_type": "markdown",
   "id": "plain-valley",
   "metadata": {},
   "source": [
    "## Coût de l'algorithme naïf\n",
    "\n",
    "Pour évaluer le coût des algorithmes de recherche d'un motif dans un texte on se base sur le **nombre de comparaisons** nécessaires entre un caractère du motif et un caractère du texte.\n",
    "\n",
    "Des données de la forme T = <span style=\"font-family: Consolas; font-size: 15px;\">AAA..AAA</span> et M = <span style=\"font-family: Consolas; font-size: 15px;\">AA..A</span> constituent un **pire cas** pour l'algorithme de recherche naïve.\n",
    "\n",
    "En effet, comme M est présent à chaque position de T, cela engendre $m$ comparaisons pour chacune de $n-m$ positions testées. Donc il y a en tout $(n-m)\\times m$ comparaisons.\n",
    "\n",
    "**Le coût (dans le pire cas) de l'algorithme de recherche naïve est de l'ordre de $(n-m)\\times m$ (où $n$ et $m$ sont les tailles respectives du texte et du motif).**"
   ]
  },
  {
   "cell_type": "markdown",
   "id": "furnished-internship",
   "metadata": {},
   "source": [
    "## Peut-on accélérer la recherche ?\n",
    "\n",
    "Il n'est pas difficile de se rendre compte que parfois, il est possible de faire un saut plus important (que 1).\n",
    "\n",
    "Par exemple, si on considère la recherche du motif M = <span style=\"font-family: Consolas; font-size: 17px;\">rap</span> dans le texte T = <span style=\"font-family: Consolas; font-size: 17px;\">rattraper</span>, la première position à tester est la suivante :\n",
    "\n",
    "<pre style=\"font-size: 15px; line-height: 20px;\">\n",
    "<span style=\"color: #aaa;\">i   0 1 2 3 4 5 6 7 8 9 ...</span>\n",
    "T   <span style=\"background-color: #FCEBAB;\">r</span> <span style=\"background-color: #FCEBAB;\">a</span> <span style=\"background-color: #F5B7B1;\">t</span> t r a p e r\n",
    "M   <span style=\"background-color: #FCEBAB;\">r</span> <span style=\"background-color: #FCEBAB;\">a</span> <span style=\"background-color: #F5B7B1;\">p</span>     \n",
    "</pre>\n",
    "\n",
    "En faisant la comparaison à cette position, on remarque que les deux premiers caractères coïncident mais pas le troisième. De plus, le caractère à l'indice 2 dans T est un <span style=\"font-family: Consolas; font-size: 15px;\">\"t\"</span>, qui n'apparaît pas dans le motif M. On pourrait en déduire qu'il est inutile de tester les deux positions\n",
    "\n",
    "<pre style=\"font-size: 15px; line-height: 20px;\">\n",
    "<span style=\"color: #aaa;\">i   0 1 2 3 4 5 6 7 8 9 ...</span>\n",
    "T   r <span style=\"background-color: #F5B7B1;\">t</span> t t r a p e r\n",
    "M     <span style=\"background-color: #F5B7B1;\">r</span> a p     \n",
    "</pre>\n",
    "\n",
    "et\n",
    "\n",
    "<pre style=\"font-size: 15px; line-height: 20px;\">\n",
    "<span style=\"color: #aaa;\">i   0 1 2 3 4 5 6 7 8 9 ...</span>\n",
    "T   r a <span style=\"background-color: #F5B7B1;\">t</span> t r a p e r\n",
    "M       <span style=\"background-color: #F5B7B1;\">r</span> a p     \n",
    "</pre>\n",
    "\n",
    "puisque le motif n'a aucune chance de s'y trouver. On pourrait donc décaler le motif directement de 3 crans vers la droite.\n",
    "\n",
    "\n",
    "<blockquote class=\"information\">\n",
    "    <p>Ce type d'analyse va permettre de mettre au point des algorithmes se révélant plus efficaces, comme l'algorithme de <em>Boyer-Moore</em>.</p>\n",
    "</blockquote>    "
   ]
  },
  {
   "cell_type": "markdown",
   "id": "dangerous-proposition",
   "metadata": {},
   "source": [
    "# Algorithme de Boyer-Moore-Horspool\n",
    "\n",
    "L'algorithme de *Boyer-Moore* a été développé par Robert S. Boyer (en) et J. Strother Moore en 1977.\n",
    "\n",
    "C'est un algorithme souvent utilisé dans les éditeurs de texte, tel quel ou optimisé (le célèbre CTRL + F).\n",
    "\n",
    "<blockquote class=\"information\">\n",
    "    <p><strong>Remarque importante</strong> : On ne présente ici que la version simplifiée de l'algorithme de Boyer-Moore. Cette version simplifiée a été proposée par Nigel Horspool en 1980, d'où le nom d'algorithme de <em>Boyer-Moore-Horspool</em>.</p>\n",
    "</blockquote>"
   ]
  },
  {
   "cell_type": "markdown",
   "id": "constant-equation",
   "metadata": {},
   "source": [
    "<div class=\"important\">\n",
    "\n",
    "L'**algorithme de Boyer-Moore-Horspool** est toujours un algorithme de recherche par *fenetre glissante* :\n",
    "\n",
    "- M \"glisse\" de gauche à droite le long de T\n",
    "- **mais** la comparaison <span style=\"font-family: Consolas\">M[0..m-1]</span> vs <span style=\"font-family: Consolas\">T[i..i+m-1]</span> se fait **de droite à gauche**\n",
    "- le décalage de M se fait de la façon suivante :\n",
    "    - si le motif est trouvé, on décale le motif d'un cran\n",
    "    - sinon, le décalage se calcule en fonction de ce qu'on appelle la **règle du mauvais caractère** qui consiste :\n",
    "        - à aligner le premier caractère fautif du texte avec son occurrence la plus à droite dans <span style=\"font-family: Consolas\">M[0..<strong>m-2</strong>]</span> (on ne prend pas en compte le dernier caractère du motif), sauf si celle-ci est déjà \"passée\", auquel cas on décale le motif d'un cran. \n",
    "        - si le motif ne contient pas le caractère fautif du texte, on décale le motif pour le positionner juste après la position fautive"
   ]
  },
  {
   "cell_type": "markdown",
   "id": "overhead-cincinnati",
   "metadata": {},
   "source": [
    "## Règle du mauvais caractère : exemples\n",
    "\n",
    "Si le motif est trouvé à une position, il suffit de le décaler d'un cran vers la droite. Les autres cas de figure méritent davantage un exemple.\n",
    "\n",
    "### Si le premier caractère fautif du texte *se trouve* dans le motif\n",
    "\n",
    "**1er cas** : la première lettre du texte ne coïncide pas et *se trouve* dans le motif\n",
    "\n",
    "<pre style=\"font-size: 15px; line-height: 20px;\">\n",
    "<span style=\"color: #aaa;\">i   0 1 2 3 4 5 6 7 8 9 ...</span>\n",
    "T   A B G G R A <span style=\"background-color: #F5B7B1;\">T</span> L M T G ...\n",
    "M     T G <strong>T</strong> N A C\n",
    "<span style=\"color: #aaa;\">j     0 1 2 3 4 5</span>\n",
    "        &xrarr;  T G <strong>T</strong> N A C\n",
    "</pre>\n",
    "\n",
    "On décale le motif de manière à aligner le `\"T\"` fautif avec l'occurrence de `\"T\"` la plus à droite dans le motif, ce qui revient à faire un décalage de 3 crans (il faut remonter de 3 crans à partir de la droite du motif pour trouver un T)."
   ]
  },
  {
   "cell_type": "markdown",
   "id": "unavailable-doctrine",
   "metadata": {},
   "source": [
    "**2ème cas** : il y a une correspondance partielle et le premier caractère fautif du texte *se trouve* dans le motif\n",
    "\n",
    "<pre style=\"font-size: 15px; line-height: 20px;\">\n",
    "<span style=\"color: #aaa;\">i   0 1 2 3 4 5 6 7 8 9 ...</span>\n",
    "T   A B G G A <span style=\"background-color: #F5B7B1;\">G</span> <span style=\"background-color: #FCEBAB;\">C</span> <span style=\"background-color: #FCEBAB;\">L</span> M T G ...\n",
    "M     T A <strong>G</strong> N A <span style=\"background-color: #FCEBAB;\">C</span> <span style=\"background-color: #FCEBAB;\">L</span>\n",
    "<span style=\"color: #aaa;\">j     0 1 2 3 4 5</span>\n",
    "      &xrarr;  T A <strong>G</strong> N A C L\n",
    "</pre>\n",
    "\n",
    "On décale le motif de manière à aligner le `\"G\"` fautif avec l'occurrence de `\"G\"` la plus à droite dans le motif, ce qui revient à faire un décalage de 2 crans (il faut remonter de 4 crans à partir de la droite du motif pour trouver un G mais comme il y a 2 caractères qui coïncident, le décalage est égal à 4 - 2 = 2 crans)."
   ]
  },
  {
   "cell_type": "markdown",
   "id": "5746df6f",
   "metadata": {},
   "source": [
    "**3ème cas** : il y a une correspondance partielle et le premier caractère fautif du texte *se trouve* dans le motif mais son occurrence la plus à droite est déjà \"passée\"\n",
    "\n",
    "<pre style=\"font-size: 15px; line-height: 20px;\">\n",
    "<span style=\"color: #aaa;\">i   0 1 2 3 4 5 6 7 8 9 ...</span>\n",
    "T   A B G G A <span style=\"background-color: #F5B7B1;\">G</span> <span style=\"background-color: #FCEBAB;\">G</span> <span style=\"background-color: #FCEBAB;\">L</span> M T G ...\n",
    "M     T A G N A <span style=\"background-color: #FCEBAB;\"><strong>G</strong></span> <span style=\"background-color: #FCEBAB;\">L</span>\n",
    "<span style=\"color: #aaa;\">j     0 1 2 3 4 5</span>\n",
    "    &xrarr;  T A G N A G L\n",
    "</pre>\n",
    "\n",
    "On décale le motif d'un cran vers la droite.\n",
    "\n",
    "<blockquote class=\"information\">\n",
    "    <p>Si un caractère est présent plusieurs fois dans le motif, on pourrait optimiser en décalant le motif vers l'occurrence la plus à droite possible, mais ce n'est pas prévu par l'algorithme de Boyer-Moore-Horspool. Dans notre exemple, cela conduirait à décaler le motif de 2 crans directement pour aligner le <code>\"G\"</code> fautif avec le second <code>\"G\"</code> du motif.</p>\n",
    "</blockquote>    \n"
   ]
  },
  {
   "cell_type": "markdown",
   "id": "stock-romantic",
   "metadata": {},
   "source": [
    "### Si le premier caractère fautif du texte *ne se trouve pas* dans le motif\n",
    "\n",
    "**1er cas** : la première lettre du texte ne coïncide pas et _ne se trouve pas_ dans le motif\n",
    "\n",
    "<pre style=\"font-size: 15px; line-height: 20px;\">\n",
    "<span style=\"color: #aaa;\">i   0 1 2 3 4 5 6 7 8 9 ...</span>\n",
    "T   A B G G R A <span style=\"background-color: #F5B7B1;\">X</span> L M T G ...\n",
    "M     T G T N A C\n",
    "<span style=\"color: #aaa;\">j     0 1 2 3 4 5</span>\n",
    "              &xrarr;  T G T N A C  \n",
    "</pre>\n",
    "\n",
    "On décale le motif de manière à le positionner juste après le `\"X\"` fautif car cela ne sert à rien de tester toutes les positions intermédiaires. On fait donc un décalage égal à 6, soit la taille du motif."
   ]
  },
  {
   "cell_type": "markdown",
   "id": "f2aa227f",
   "metadata": {},
   "source": [
    "**2ème cas** : il y a une correspondance partielle et le premier caractère fautif du texte *ne se trouve pas* dans le motif\n",
    "\n",
    "<pre style=\"font-size: 15px; line-height: 20px;\">\n",
    "<span style=\"color: #aaa;\">i   0 1 2 3 4 5 6 7 8 9 ...</span>\n",
    "T   A B G G <span style=\"background-color: #F5B7B1;\">X</span> <span style=\"background-color: #FCEBAB;\">A</span> <span style=\"background-color: #FCEBAB;\">C</span> L M T G ...\n",
    "M     T G T N <span style=\"background-color: #FCEBAB;\">A</span> <span style=\"background-color: #FCEBAB;\">C</span>\n",
    "<span style=\"color: #aaa;\">j     0 1 2 3 4 5</span>\n",
    "          &xrarr;  T G T N A C  \n",
    "</pre>\n",
    "\n",
    "On décale le motif de manière à le positionner juste après le `\"X\"` fautif car cela ne sert à rien de tester toutes les positions intermédiaires. On fait un décalage de 4 crans (le X ne se trouve pas dans le motif donc il faudrait remonter de 6 crans le motif en partant de la droite, mais comme il y a 2 caractères qui coïncident, le décalage est égal à 6 - 2 = 4 crans)."
   ]
  },
  {
   "cell_type": "markdown",
   "id": "egyptian-earth",
   "metadata": {},
   "source": [
    "## Exemple\n",
    "\n",
    "On peut visualiser, comme précédemment, la recherche du motif M = GCAG dans le texte T = GGCAGCCGAACCGCAGCAGCAC, avec l'algorithme de Boyer-Moore-Horspool, en suivant le lien \n",
    "[https://germainbecker.github.io/recherche-textuelle/?r=bmh&t=GGCAGCCGAACCGCAGCAGCAC&m=GCAG](https://germainbecker.github.io/recherche-textuelle/?r=bmh&t=GGCAGCCGAACCGCAGCAGCAC&m=GCAG) ou directement en-dessous :\n",
    "\n",
    "<iframe class=\"centre recherche-textuelle\" width=\"800\" height=\"320\" frameborder=\"0\" src=\"https://germainbecker.github.io/recherche-textuelle/iframe-embed.html?r=bmh&t=GGCAGCCGAACCGCAGCAGCAC&m=GCAG\"></iframe>"
   ]
  },
  {
   "cell_type": "markdown",
   "id": "34d5a21d",
   "metadata": {},
   "source": [
    "**BILAN** : On trouve au final le motif aux positions 1, 12 et 15 et cela nécessite en tout 25 comparaisons, soit 10 de moins qu'avec l'algorithme naïf."
   ]
  },
  {
   "cell_type": "markdown",
   "id": "bc230292",
   "metadata": {},
   "source": [
    "## Prétraitement du motif M\n",
    "\n",
    "Pour mettre en oeuvre la règle du mauvais caractère, il est nécessaire de **prétraiter le motif**, c'est-à-dire de l'analyser au préalable (avant de lancer la recherche) pour déterminer le décalage maximum possible selon les cas.\n",
    "\n",
    "En pratique, on construit un tableau associatif `MC` (un dictionnaire) qui associe à chaque caractère <span style=\"font-family: Consolas;\">c</span> du motif M, le nombre de position à \"remonter\" dans M pour trouver <span style=\"font-family: Consolas;\">c</span>. Autrement dit, la distance entre l'occurrence la plus à droite de chaque caractère et le dernier caractère du motif.\n",
    "\n",
    "**Cas particulier** : si <span style=\"font-family: Consolas;\">c</span> est le caractère en dernière position du motif, on cherche son avant-dernière occurrence (en partant de la droite bien sûr)\n",
    "\n",
    "**Exemple** : Pour le motif M = GCAG, on obtient le tableau suivant\n",
    "\n",
    "| Caractère <span style=\"font-family: Consolas;\">c</span> | A | C | G |\n",
    "| --- | --- | --- | --- |\n",
    "| MC[c] | 1 | 2 | 3 |"
   ]
  },
  {
   "cell_type": "markdown",
   "id": "95db9c2d",
   "metadata": {},
   "source": [
    "En effet, on se positionne en dernière position du motif (sur le <span style=\"font-family: Consolas;\">\"G\"</span>). Il faut remonter :\n",
    "- 1 position pour trouver un <span style=\"font-family: Consolas;\">\"A\"</span>\n",
    "- 2 positions pour trouver un <span style=\"font-family: Consolas;\">\"C\"</span>\n",
    "- 3 positions pour trouver un <span style=\"font-family: Consolas;\">\"G\"</span>\n",
    "\n",
    "Pour tout caractère qui est absent dans le motif, on sait que le décalage maximum est égal à la longueur du motif, c'est-à-dire 4.\n",
    "\n",
    "<blockquote class=\"information\">\n",
    "    <p>En Python, on pourra facilement utiliser un dictionnaire pour implémenter ce tableau associatif..</p>\n",
    "</blockquote> \n"
   ]
  },
  {
   "cell_type": "markdown",
   "id": "408dfe8c",
   "metadata": {},
   "source": [
    "Ce tableau contient le *saut maximal* que l'on peut faire, lorsque la comparaison échoue dès la première lettre (celle la plus à droite). En revanche, si la correspondance est partielle il faut récupérer la valeur associée à la première lettre fautive du texte et lui retrancher le nombre de caractères qui correspondaient dans la comparaison.\n",
    "\n",
    "On peut retenir qu'en pratique le décalage à effectuer lorsque l'on rencontre un caractère <span style=\"font-family: Consolas;\">c</span> fautif dans le texte, est égale à :\n",
    "\n",
    "$$\\text{décalage} = \\text{MC[c]} - \\text{nb de caractères qui correspondent}$$\n"
   ]
  },
  {
   "cell_type": "markdown",
   "id": "fb43ed64",
   "metadata": {},
   "source": [
    "**Exemple** : Déterminons le décalage à appliquer dans la situation suivante :\n",
    "\n",
    "<pre style=\"font-size: 15px; line-height: 20px;\">\n",
    "<span style=\"color: #aaa;\">i   0 1 2 3 4 5 6 7 8 9 ...</span>\n",
    "T   G G C A G C <span style=\"background-color: #F5B7B1;\">C</span> <span style=\"background-color: #FCEBAB;\">G</span> A A C C G C A G C A G C A C\n",
    "M           G <strong>C</strong> A <span style=\"background-color: #FCEBAB;\">G</span></span>\n",
    "          &xrarr;  G <strong>C</strong> A G \n",
    "</pre>"
   ]
  },
  {
   "cell_type": "markdown",
   "id": "f1cd28fe",
   "metadata": {},
   "source": [
    "Les deux <span style=\"font-family: Consolas;\">\"G\"</span> coïncident et le premier caractère fautif est un <span style=\"font-family: Consolas;\">\"C\"</span>. On regarde dans le tableau `MC` : `MC[\"C\"] = 2`, cela veut dire qu'en partant de la droite, il faudrait décaler le motif de 2 crans pour trouver un <span style=\"font-family: Consolas;\">\"C\"</span>. Mais comme il y a 1 caractère qui coïncide dans la comparaison (le <span style=\"font-family: Consolas;\">\"G\"</span> tout droite), le décalage à faire n'est que de 2 - 1 = 1 cran, pour aligner le <span style=\"font-family: Consolas;\">\"C\"</span> fautif avec son occurrence la plus à droite dans le motif."
   ]
  },
  {
   "cell_type": "markdown",
   "id": "c7c667ff",
   "metadata": {},
   "source": [
    "><span style=\"font-size:1.5em\">✏️</span> **À faire** : Exercice 2 (sur l'algorithme de Boyer-Moore-Horspool)."
   ]
  },
  {
   "cell_type": "markdown",
   "id": "3d8b6718",
   "metadata": {},
   "source": [
    "## Performances de l'algorithme de Boyer-Moore-Horspool\n",
    "\n",
    "L'étude du coût de l'algorithme de Boyer-Moore-Horspool n'est pas du tout au programme.\n",
    "\n",
    "Dans le pire cas, il est égal à celui de la recherche naïve (si T = <span style=\"font-family: Consolas; font-size: 15px;\">AAA..AAA</span> et M = <span style=\"font-family: Consolas; font-size: 15px;\">AA..A</span> le décalage sera de 1 à chaque fois, comme pour la recherche naïve). \n",
    "\n",
    "Mais dans le cas moyen (et dans le meilleur cas), il se révèle très efficace car on peut obtenir de \"plus grands\" décalages assez souvent (il est *sous-linéaire* au mieux).\n",
    "\n",
    "Le prétraitement du motif (pour déterminer le tableau de la règle du mauvais caractère) est certes coûteux mais seulement de l'ordre de $m$ (où $m$ est la taille du motif), ce qui est finalement rentable car cela permet ensuite de faire souvent des \"grands\" décalages.\n",
    "\n",
    "L'algorithme de *Boyer-Moore* (sans *Horspool*) utilise une autre règle en plus de celle du mauvais caractère, appelée règle du *bon suffixe*, que nous n'aborderons pas ici, mais qui permet de faire des décalages plus intéressants encore. En pratique, cet algorithme se révèle extrêmement efficace par rapport à celui de la recherche naïve comme le montre le schéma suivant (dans lequel le motif M est noté P, pour *pattern*) :\n",
    "\n",
    "<img src=\"data/compa_bm_naive.png\" alt=\"comparaison efficacité Boyer-Moore vs recherche naïve\" width=\"700\">\n",
    "\n",
    "<p style=\"text-align:center; color:#888\">Réalisé par Ben Langmead (John Hopkins University, USA)</p>"
   ]
  },
  {
   "cell_type": "markdown",
   "id": "a660c071",
   "metadata": {},
   "source": [
    "# Bilan\n",
    "\n",
    "- Les algorithmes de recherche textuelle font partie des algorithmes classiques. Ils sont très importants et souvent utilisé : dans les logiciels avec le célèbre CTRL+F, en bio-informatique pour chercher une sous-séquence dans une séquence d'ADN,...\n",
    "- Ces algorithmes utilisent la technique de *fenêtre glissante* où on fait glisser le motif le long du texte pour tester la correspondance à diverses positions.\n",
    "- L'algorithme de **recherche naïve** teste la correspondance à chaque position en comparant les caractères de la gauche vers la droite. Mais des algorithmes plus efficaces existent.\n",
    "- L'algorithme de **Boyer-Moore(-Horspool)** teste quant à lui la correspondance à une position donnée à l'envers : de la droite vers la gauche. Il est plus efficace (en moyenne) car il est basé sur un **prétraitement du motif** qui permet de déterminer des décalages plus grands (que 1) et il n'est alors plus nécessaire de tester la correspondance à chaque position.\n",
    "- Ce gain en temps est d'autant plus important que l'on sait que la recherche se fait parfois dans des textes de plusieurs millions de caractères (en bio-informatique notamment). "
   ]
  },
  {
   "cell_type": "markdown",
   "id": "c1437344",
   "metadata": {},
   "source": [
    "---\n",
    "**Références** :\n",
    "- Documents ressources du DIU EIL, Université de Nantes.\n",
    "- Livre *Spécialité Numérique et sciences informatiques : 24 leçons avec exercices corrigés - Terminale*, éditions Ellipses, T. Balabonski, S. Conchon, J.-C. Filliâtre, K. Nguyen. Site du livre : [http://www.nsi-terminale.fr/]"
   ]
  },
  {
   "cell_type": "markdown",
   "id": "ac7d6ab4",
   "metadata": {},
   "source": [
    "---\n",
    "Germain BECKER, Lycée Mounier, ANGERS \n",
    "\n",
    "![Licence Creative Commons](https://i.creativecommons.org/l/by-nc-sa/4.0/88x31.png)"
   ]
  }
 ],
 "metadata": {
  "kernelspec": {
   "display_name": "Python 3",
   "language": "python",
   "name": "python3"
  },
  "language_info": {
   "codemirror_mode": {
    "name": "ipython",
    "version": 3
   },
   "file_extension": ".py",
   "mimetype": "text/x-python",
   "name": "python",
   "nbconvert_exporter": "python",
   "pygments_lexer": "ipython3",
   "version": "3.7.10"
  }
 },
 "nbformat": 4,
 "nbformat_minor": 5
}
