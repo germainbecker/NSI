{
 "cells": [
  {
   "cell_type": "markdown",
   "metadata": {},
   "source": [
    "<h1 style=\"font-size: 30px; text-align: center\">Diviser pour régner - Activités d'introduction</h1>\n",
    "\n",
    "---"
   ]
  },
  {
   "cell_type": "markdown",
   "metadata": {},
   "source": [
    "# Recherche dichotomique\n",
    "\n",
    "## Principe (rappels de Première)\n",
    "\n",
    "On rappelle que la recherche dichotomique permet de trouver efficacement une valeur `v` dans un tableau **trié** `T`.\n",
    "\n",
    "L'idée est de prendre l'élément central et de le comparer à la valeur `v`. Si cet élément central est :\n",
    "- égal à `v` alors on a trouvé `v` et c'est terminé ;\n",
    "- strictement supérieur à `v` alors on garde la première moitié et on recommence en prenant son élément central ;\n",
    "- strictement inférieur à `v` alors on garde la deuxième moitié et on recommence en prenant son élément central.\n",
    "\n",
    "Ce processus s'effectue jusqu'à rencontrer la valeur `v` ou après avoir parcouru tous les éléments du tableau sans trouver `v`. "
   ]
  },
  {
   "cell_type": "markdown",
   "metadata": {},
   "source": [
    "### Exercice 1\n",
    "\n",
    "On recherche la valeur 9 dans le tableau `T` suivant. Appliquez (à la main) l'algorithme de recherche dichotomique.\n",
    "\n",
    "```python\n",
    "T = [1, 2, 2, 5, 6, 6, 7, 9, 9, 10, 10, 13, 13, 15]\n",
    "```"
   ]
  },
  {
   "cell_type": "markdown",
   "metadata": {},
   "source": [
    "### Vers l'algorithme\n",
    "\n",
    "L'idée est d'utiliser deux variables `g` et `d` égale aux indices extrêmes de la zone de recherche. Au départ, on commence la recherche avec le tableau tout entier, on a donc `g = 0` et `d = len(T) - 1`.\n",
    "\n",
    "Après un certain nombre d'étapes, on se trouve dans la situation :\n",
    "\n",
    "<img class=\"centre image-responsive\" alt=\"illustration\" src=\"data/dicho1.png\" width=\"500\">\n",
    "\n",
    "Il faut répéter le processus jusqu'à ce que la zone de recherche soit vide ou que l'on a trouvé `v`."
   ]
  },
  {
   "cell_type": "markdown",
   "metadata": {},
   "source": [
    "### Exercice 2\n",
    "\n",
    "En pratique, on souhaite que notre algorithme renvoie une position de `v` dans le tableau `T`, supposé trié, et `None` si `v` ne s'y trouve pas. Ecrivez une fonction `recherche_dichotomique(T, v)` qui effectue cette tâche."
   ]
  },
  {
   "cell_type": "code",
   "execution_count": null,
   "metadata": {},
   "outputs": [],
   "source": [
    "# écriture de l'algorithme de recherche dichotomique\n",
    "def recherche_dichotomique(T, v):\n",
    "    \"\"\"renvoie une position de v dans le tableau T, supposé trié,\n",
    "    et None si v ne s'y trouve pas\"\"\"\n",
    "    # à compléter\n",
    "    pass"
   ]
  },
  {
   "cell_type": "markdown",
   "metadata": {},
   "source": [
    "## Version récursive\n",
    "\n",
    ">**Rappel** : La récursivité est un principe algorithmique de description de la solution d’un problème dont le principe consiste à ramener la résolution du problème à la résolution du même problème mais sur un objet plus petit.\n",
    "\n",
    "Le principe de l'algorithme de recherche dichotomique est fondamentalement récursif puisque la recherche sur dans le tableau complet se ramène à la recherche sur un tableau de taille plus petite à chaque étape. On peut donc écrire facilement une version récursive de la recherche dichotomique.\n",
    "\n",
    "Plus précisément on veut écrire une fonction récursive `recherche(T, v, g, d)` qui renvoie une position de `v` dans `T[g..d]`, ou `None` si `v` ne s'y trouve pas."
   ]
  },
  {
   "cell_type": "markdown",
   "metadata": {},
   "source": [
    "### Exercice 3\n",
    "\n",
    "**Question 1** : Quels sont les deux cas de base mettant fin aux appels récursifs ? Quelle valeur la fonction doit-elle renvoyer dans chaque cas ?\n",
    "\n",
    "**Question 2** : On note `m = (g + d) // 2` l'élément central.\n",
    "\n",
    "* Quel appel récursif faut-il faire si l'élément central est strictement supérieur à `v` ? \n",
    "* Quel appel récursif faut-il faire si l'élément central est strictement inférieur à `v` ?\n",
    "\n",
    "**Question 3** : On note toujours `m = (g + d) // 2` l'élément central. Complétez la définition suivante.\n",
    "\n",
    "$$\\text{recherche(T, v, g, d)} = \\left\\{\n",
    "\\begin{array}{l}\n",
    "  None \\hspace{2.5cm} \\textrm{ si } \\ldots \\\\\n",
    "  \\ldots \\hspace{3cm} \\textrm{ si } \\ldots \\\\\n",
    "  \\ldots \\hspace{3cm} \\textrm{ si } \\ldots \\\\\n",
    "  \\ldots \\hspace{3cm} \\textrm{ si } \\ldots\n",
    "\\end{array}\n",
    "\\right.$$\n",
    "\n",
    "**Question 4** : Ecrivez la fonction récursive `recherche(T, v, g, d)` qui renvoie une position de `v` dans `T[g..d]`, ou `None` si `v` ne s'y trouve pas."
   ]
  },
  {
   "cell_type": "code",
   "execution_count": 1,
   "metadata": {},
   "outputs": [],
   "source": [
    "def recherche(T, v, g, d):\n",
    "    \"\"\"renvoie une position de v dans T[g..d], supposé trié,\n",
    "    ou None si v ne s'y trouve pas\"\"\"\n",
    "    # à compléter\n",
    "    pass"
   ]
  },
  {
   "cell_type": "markdown",
   "metadata": {},
   "source": [
    "On peut maintenant écrire la fonction `recherche_dichotomique(T, v)` qui est chargée de lancer le premier appel à la fonction récursive `recherche`.\n",
    "\n",
    "**Question 5** : Complétez la fonction `recherche_dichotomique(T, v)`."
   ]
  },
  {
   "cell_type": "code",
   "execution_count": 2,
   "metadata": {},
   "outputs": [],
   "source": [
    "def recherche_dichotomique(T, v):\n",
    "    \"\"\"Renvoie une position de v dans le tableau T, ou None si v ne s'y trouve pas\"\"\"\n",
    "    # à compléter\n",
    "    pass"
   ]
  },
  {
   "cell_type": "markdown",
   "metadata": {},
   "source": [
    "## Bilan\n",
    "\n",
    "La version récursive de l'algorithme de recherche dichotomique est une application d'un principe appelé **diviser pour régner** qui consiste à décomposer un problème en sous-problèmes plus petits, à résoudre ces sous-problèmes puis à combiner leurs résultats pour en déduire le résultat du problème initial. \n",
    "\n",
    "---"
   ]
  },
  {
   "cell_type": "markdown",
   "metadata": {},
   "source": [
    "# Algorithmes de tri\n",
    "\n",
    "L'objectif ici est de rappeler les deux algorithmes de tri vus en classe de Première qui permettent de trier par ordre croissant un tableau `T` non vide.\n",
    "\n",
    "## Tri par sélection (rappels)\n",
    "\n",
    "Voici l’algorithme du *tri par sélection* écrit en français :\n",
    "- Rechercher le plus petit élément du tableau, et l'échanger avec l'élément d'indice 0 ;\n",
    "- Rechercher le second plus petit élément du tableau, et l'échanger avec l'élément d'indice 1 ;\n",
    "- Continuer de cette façon jusqu'à ce que le tableau soit entièrement trié\n",
    "\n",
    "Le tri par sélection parcourt ainsi le tableau de la gauche vers la droite, en maintenant sur la gauche une partie déjà triée et à sa place définitive."
   ]
  },
  {
   "cell_type": "markdown",
   "metadata": {},
   "source": [
    "### Exercice 4\n",
    "\n",
    "**Question 1** : Appliquez l'algorithme de tri par sélection sur le tableau suivant. Vous écrirez l'état du tableau à l'issue de chaque itération.\n",
    "\n",
    "```python\n",
    "T = [8, 3, 11, 7, 9, 2]\n",
    "```\n",
    "\n",
    "**Question 2** : Combien d'itérations sont nécessaires pour trier par sélection un tableau de taille $n$ ?\n",
    "\n",
    "**Question 3** : Combien de comparaisons sont nécessaires pour trier par sélection un tableau de taille $n$ dans le pire des cas ? dans le meilleur des cas ?"
   ]
  },
  {
   "cell_type": "markdown",
   "metadata": {},
   "source": [
    "### Exercice 5\n",
    "\n",
    "**Question 1** : Ecrivez une fonction `echange(T, i, j)` qui échange les éléments d'indices `T[i]` et `T[j]` dans le tableau `T`."
   ]
  },
  {
   "cell_type": "code",
   "execution_count": 20,
   "metadata": {},
   "outputs": [],
   "source": [
    "# à compléter\n"
   ]
  },
  {
   "cell_type": "markdown",
   "metadata": {},
   "source": [
    "**Question 2** : Ecrivez une fonction `tri_par_selection(T)` qui trie par sélection le tableau `T` dans l'ordre croissant."
   ]
  },
  {
   "cell_type": "code",
   "execution_count": 21,
   "metadata": {},
   "outputs": [],
   "source": [
    "# à compléter\n"
   ]
  },
  {
   "cell_type": "markdown",
   "metadata": {},
   "source": [
    "## Tri par insertion (rappels)\n",
    "\n",
    "Voici l’algorithme du **tri par insertion** écrit en français :\n",
    "\n",
    "- Prendre le deuxième élément du tableau et l'insérer à sa place parmi les éléments qui le précède\n",
    "- Prendre le troisième élément du tableau et l'insérer à sa place parmi les éléments qui le précède\n",
    "- Continuer de cette façon jusqu'à ce que le tableau soit entièrement trié.\n",
    "\n",
    "Le tri par sélection parcourt donc également le tableau de la gauche vers la droite, en maintenant une partie déjà triée sur la gauche. Au lieu de chercher la plus petite valeur dans la partie de droite, le tri par insertion va insérer la première valeur non encore triée au bon endroit dans la partie de gauche déjà triée."
   ]
  },
  {
   "cell_type": "markdown",
   "metadata": {},
   "source": [
    "### Exercice 6\n",
    "\n",
    "**Question 1** : Appliquez l'algorithme de tri par insertion sur le tableau suivant. Vous écrirez l'état du tableau à l'issue de chaque itération.\n",
    "\n",
    "```python\n",
    "T = [8, 3, 11, 7, 9, 2]\n",
    "```\n",
    "\n",
    "**Question 2** : Combien d'itérations sont nécessaires pour trier par insertion un tableau de taille $n$ ?\n",
    "\n",
    "**Question 3** : Combien de comparaisons et d'échanges sont nécessaires pour trier par insertion un tableau de taille $n$ dans le pire des cas ? dans le meilleur des cas ?"
   ]
  },
  {
   "cell_type": "markdown",
   "metadata": {},
   "source": [
    "### Exercice 7\n",
    "\n",
    "Pour faire \"remonter\" un élément au bon endroit dans la partie déjà triée, on procède par des échanges successifs de deux éléments consécutifs. Par exemple, si l'état du tableau est $T = [2, 3, 5, 7, 8, 4, 1]$ juste avant l'avant-dernière itération, il faut faire \"remonter\" l'élément d'indice `5` (le nombre 4) au bon endroit dans la partie $[2, 3, 5, 7, 8]$. Pour cela, \n",
    "\n",
    "- on stocke `T[5]` dans une variable `x` (qui vaut donc 4)\n",
    "- `T[4] < x` donc on remplace `T[5]` par `T[4]` : on obtient $[2, 3, 5, 7, 8, 8, 1]$ ;\n",
    "- `T[3] < x` donc on remplace `T[4]` par `T[3]` : on obtient $[2, 3, 5, 7, 7, 8, 1]$ ;\n",
    "- `T[2] < x` donc on remplace `T[3]` par `T[2]` : on obtient $[2, 3, 5, 5, 7, 8, 1]$ ;\n",
    "- `T[1] >= x` donc on a terminé : il faut insérer 4 en position 2. Il suffit de remplacer `T[2]` par `x` : on obtient $[2, 3, 4, 5, 7, 8, 1]$.\n",
    "\n",
    "**Question** : Ecrivez une fonction `tri_par_insertion(T)` qui trie par insertion le tableau `T` dans l'odre croissant."
   ]
  },
  {
   "cell_type": "code",
   "execution_count": 22,
   "metadata": {},
   "outputs": [],
   "source": [
    "# à compléter\n"
   ]
  },
  {
   "cell_type": "markdown",
   "metadata": {},
   "source": [
    "## Bilan\n",
    "\n",
    "Les deux algorithmes de tri vus en classe de Première prennent tous les deux un temps *quadratique* : leurs temps d'exécution est proportionnel à $n^2$, où $n$ est la taille du tableau à trier. Nous allons voir cette année un nouvel algorithme de tri, appelé **tri fusion**, qui est basé sur le principe *diviser pour régner* et qui prend un temps plus petit, proportionnel à $n\\log_2{n}$."
   ]
  },
  {
   "cell_type": "markdown",
   "metadata": {},
   "source": [
    "---\n",
    "\n",
    "**Références :**\n",
    "- Equipe pédagogique DIU EIL, Université de Nantes.\n",
    "- Livre *Spécialité Numérique et sciences informatiques : 30 leçons avec exercices corrigés - Première*, éditions Ellipses, T. Balabonski, S. Conchon, J.-C. Filliâtre, K. Nguyen pour l'algorithme de recherche dichotomique : [http://www.nsi-premiere.fr/](http://www.nsi-premiere.fr/).\n",
    "\n",
    "---\n",
    "Germain BECKER, Lycée Mounier, ANGERS \n",
    "\n",
    "![Licence Creative Commons](https://i.creativecommons.org/l/by-nc-sa/4.0/88x31.png)"
   ]
  }
 ],
 "metadata": {
  "kernelspec": {
   "display_name": "Python 3",
   "language": "python",
   "name": "python3"
  },
  "language_info": {
   "codemirror_mode": {
    "name": "ipython",
    "version": 3
   },
   "file_extension": ".py",
   "mimetype": "text/x-python",
   "name": "python",
   "nbconvert_exporter": "python",
   "pygments_lexer": "ipython3",
   "version": "3.7.3"
  }
 },
 "nbformat": 4,
 "nbformat_minor": 2
}
