{
 "cells": [
  {
   "cell_type": "markdown",
   "metadata": {},
   "source": [
    "<h1 style=\"font-size: 30px; text-align: center\">Algorithmes sur les graphes - Activité d'introduction : explorer/parcourir un graphe</h1>\n",
    "\n",
    ">On a un graphe et on veut l'explorer pour connaître la liste de tous les sommets.\n",
    "\n",
    "# Exemple introductif : voyage en Roumanie\n",
    "\n",
    "*d'après S. Russel et R. Norvig*\n",
    "\n",
    "![graphe Roumanie](data/roumanie.png)"
   ]
  },
  {
   "cell_type": "markdown",
   "metadata": {},
   "source": [
    "**Situation** : On part d'Arad et on souhaite explorer tout le graphe, c'est-à-dire passer par tous les sommets.\n",
    "\n",
    "> Comment ne pas tourner en rond ?\n",
    "\n",
    "Penser au petit poucet : marquer les sommets par lesquels on est passé (pour ne pas y repasser)\n",
    "\n",
    "> Comment ne pas oublier de sommets ? \n",
    "\n",
    "S'obliger à utiliser toutes les arêtes (ou arcs).\n",
    "\n",
    "## Comment procéder ?\n",
    "\n",
    "- On explore Arad (on marque Arad) et on a le choix entre Zerind, Sibiu et Timisoara.\n",
    "- Lequel choisit-on ensuite ? Par exemple Zerind.\n",
    "- La question est : \"après Zerind on va à Oreada ou à Sibiu ?\"\n",
    "\n",
    "On pourrait à chaque fois choisir au hasard parmi les villes que l'on sait atteignables, mais en pratique on va préférer établir une stratégie claire et simple :\n",
    "\n",
    "- Soit on choisit d'explorer la dernière ville trouvée (et encore à explorer) : on choisirait Oradea.\n",
    "- Soit on choisit d'explorer la première ville trouvée (et encore à explorer) : on choisirait Sibiu.\n",
    "\n",
    "C'est deux stratégies correspondent à ce qu'on appelle respectivement **parcours en profondeur d'abord** et **parcours en largeur d'abord**.\n",
    "\n",
    "Détaillons un peu le début de chaque parcours.\n",
    "\n",
    "## Parcours en profondeur d'abord\n",
    "\n",
    "<img src=\"data/roumanie.png\" alt=\"graphe Roumanie\" width=\"500\">\n",
    "\n",
    "1. On explore Arad (que l'on marque comme chaque sommet qui sera exploré) et on stocke ses voisins pas encore visités : Timisoara, Sibiu et Zerind.\n",
    "\n",
    "| Sommets visités (marqués) | Sommets stockés (à visiter) |\n",
    "| --- | --- |\n",
    "| Arad | Timisoara, Sibiu, Zerind |\n",
    "\n",
    "\n",
    "2. On explore le dernier, Zerind, et on stocke ses voisins pas encore visités : Oradea.\n",
    "\n",
    "| Sommets visités (marqués) | Sommets stockés (à visiter) |\n",
    "| --- | --- |\n",
    "| Arad, Zerind | Timisoara, Sibiu, Oradea|\n",
    "\n",
    "\n",
    "3. On explore le dernier, Oradea, et on stocke ses voisins pas encore visités : Sibiu (qui se retrouve deux fois puisqu'il n'a pas encore été marqué (visité), cela signifie qu'on peut atteindre Sibiu en venant de deux endroits différents : cela permet de détecter un cycle).\n",
    "\n",
    "| Sommets visités (marqués) | Sommets stockés (à visiter) |\n",
    "| --- | --- |\n",
    "| Arad, Zerind, Oradea | Timisoara, Sibiu, Sibiu |\n",
    "\n",
    "\n",
    "4. On explore le dernier, Sibiu, et on stocke ses voisins pas encore visités : Fagaras, Rimniu Vilcea.\n",
    "\n",
    "| Sommets visités (marqués) | Sommets stockés (à visiter) |\n",
    "| --- | --- |\n",
    "| Arad, Zerind, Oradea, Sibiu | Timisoara, Sibiu, Fagaras, Rimnicu Vilcea |\n",
    "\n",
    "\n",
    "5. Ainsi de suite...\n",
    "\n",
    "## Parcours en largeur d'abord\n",
    "\n",
    "<img src=\"data/roumanie.png\" alt=\"graphe Roumanie\" width=\"500\">\n",
    "\n",
    "1. On explore Arad (que l'on marque comme chaque sommet qui sera exploré) et on stocke ses voisins pas encore visités : Timisoara, Sibiu et Zerind.\n",
    "\n",
    "| Sommets visités (marqués) | Sommets stockés (à visiter) |\n",
    "| --- | --- |\n",
    "| Arad | Timisoara, Sibiu, Zerind |\n",
    "\n",
    "2. On explore le premier, Timisoara, et on stocke ses voisins pas encore visités : Lugoj.\n",
    "\n",
    "| Sommets visités (marqués) | Sommets stockés (à visiter) |\n",
    "| --- | --- |\n",
    "| Arad, Timisoara | Sibiu, Zerind, Lugoj |\n",
    "\n",
    "3. On explore le premier, Sibiu, et on stocke ses voisins pas encore visités : Oradea, Fagaras, Rimniu Vilcea.\n",
    "\n",
    "| Sommets visités (marqués) | Sommets stockés (à visiter) |\n",
    "| --- | --- |\n",
    "| Arad, Timisoara, Sibiu | Zerind, Lugoj, Oradea, Fagaras, Rimnicu Vilcea |\n",
    "\n",
    "4. On explore le premier, Zerind, et on stocke ses voisins pas encore visités : Oradea.\n",
    "\n",
    "| Sommets visités (marqués) | Sommets stockés (à visiter) |\n",
    "| --- | --- |\n",
    "| Arad, Timisoara, Sibiu, Zerind | Lugoj, Oradea, Fagaras, Rimnicu Vilcea, Oradea |\n",
    "\n",
    "5. Ainsi de suite..."
   ]
  },
  {
   "cell_type": "markdown",
   "metadata": {},
   "source": [
    "# Ecriture des algorithmes de parcours\n",
    "\n",
    "On souhaite écrire les algorithmes de parcours en profondeur d'abord et en largeur d'abord.\n",
    "\n",
    "Quelle que soit la stratégie, il est nécessaire de stocker les sommets (villes) à visiter. \n",
    "\n",
    "**Question 1** : Selon la stratégie, quelle structure de données vous paraît la plus adaptée pour stocker les sommets à visiter ? *Réfléchissez à celles étudiées cette année ;-)*."
   ]
  },
  {
   "cell_type": "markdown",
   "metadata": {},
   "source": [
    "On suppose qu'on utilise un *dictionnaire* `visites` pour stocker les sommets marqués (visités). Il suffira d'ajouter à ce dictionnaire les sommets marqués au fur et à mesure en leur donnant par exemple la valeur `True` (valeur qui n'a pas d'importance ici).\n",
    "\n",
    "**Quelques rappels sur la manipulation des dictionnaires Python**\n",
    "\n",
    "Pour ajouter un élément (une clé) à un dictionnaire Python, il suffit de lui associer une valeur."
   ]
  },
  {
   "cell_type": "code",
   "execution_count": null,
   "metadata": {},
   "outputs": [],
   "source": [
    "visites = {} # crée un ensemble vide\n",
    "visites[\"a\"] = True # ajoute la paire (\"a\", True) au dictionnaire\n",
    "print(visites)\n",
    "visites[\"b\"] = True\n",
    "print(visites)"
   ]
  },
  {
   "cell_type": "markdown",
   "metadata": {},
   "source": [
    "On peut vérifier qu'un élément (un clé) appartient à un dictionnaire en utilisant le mot clé `in` ou sa négation."
   ]
  },
  {
   "cell_type": "code",
   "execution_count": null,
   "metadata": {},
   "outputs": [],
   "source": [
    "\"a\" in visites # ou \"a\" in visites.keys()"
   ]
  },
  {
   "cell_type": "code",
   "execution_count": null,
   "metadata": {},
   "outputs": [],
   "source": [
    "\"c\" in visites"
   ]
  },
  {
   "cell_type": "code",
   "execution_count": null,
   "metadata": {},
   "outputs": [],
   "source": [
    "\"c\" not in visites"
   ]
  },
  {
   "cell_type": "markdown",
   "metadata": {},
   "source": [
    "## Algorithme de parcours en profondeur d'abord\n",
    "\n",
    "### Principe de l'algorithme\n",
    "\n",
    "> Vous pouvez passez ce paragraphe si vous pensez être capable de (ou si vous souhaitez) programmer l'algorithme sans indications.\n",
    "\n",
    "Pour effectuer le parcours d'un graphe en profondeur nous utilisons une pile qui contient initialement le sommet de départ. Tant que cette pile n'est pas vide, nous dépilons son sommet et regardons s'il a déjà été visité :\n",
    "- Si ce n'est pas le cas, on le rajoute au dictionnaire `visites` des sommets visités et on empile tous ses voisins pas encore visités.\n",
    "- Si c'est le cas, on ne fait rien (autrement dit, on passe à l'itération suivante avec le sommet suivant dans la pile).\n",
    "\n",
    "Lorsque la pile est vide, le dictionnaire `visites` contient tous les sommets atteints par le parcours en profondeur du graphe à partir du sommet de départ.\n",
    "\n",
    "### Ecriture de l'algorithme\n",
    "\n",
    "On suppose dans cette partie qu'un graphe est représenté par un dictionnaire contenant la liste de successeurs de chaque sommet. Par exemple, un graphe `g1` est mémorisé par"
   ]
  },
  {
   "cell_type": "code",
   "execution_count": null,
   "metadata": {},
   "outputs": [],
   "source": [
    "g1 = {'a': ['c', 'f'],\n",
    "      'b': ['c', 'e'],\n",
    "      'c': ['a', 'b', 'd', 'e'],\n",
    "      'd': ['c'],\n",
    "      'e': ['b', 'c'],\n",
    "      'f': ['g', 'a'],\n",
    "      'g': ['f']\n",
    "}"
   ]
  },
  {
   "cell_type": "markdown",
   "metadata": {},
   "source": [
    "On suppose de plus que l'on implémente une pile par une `list` Python. On empile et dépile à la fin de la liste pour que les opérations soient efficaces."
   ]
  },
  {
   "cell_type": "code",
   "execution_count": null,
   "metadata": {},
   "outputs": [],
   "source": [
    "pile = [\"e\"]\n",
    "pile.append(\"b\") # pour empiler un sommet\n",
    "pile.append(\"c\")\n",
    "print(pile)\n",
    "s = pile.pop() # pour dépiler (renvoie le sommet)\n",
    "print(s)\n",
    "print(pile)"
   ]
  },
  {
   "cell_type": "markdown",
   "metadata": {},
   "source": [
    "**Question 1** : Ecrivez une fonction `parcours_prof(graphe, debut)` qui renvoie le dictionnaire `visites` des sommets visités par un parcours en profondeur du graphe `graphe` en partant du sommet `debut`."
   ]
  },
  {
   "cell_type": "code",
   "execution_count": null,
   "metadata": {},
   "outputs": [],
   "source": [
    "# à vous de jouer !\n"
   ]
  },
  {
   "cell_type": "markdown",
   "metadata": {},
   "source": [
    "**Question 2** : Appliquez cette fonction au graphe `g` précédent en partant du sommet `\"a\"`, puis en partant du sommet `\"e\"`. Tous les sommets du graphe sont-ils visités ? Pourquoi ?\n",
    "\n",
    "> Si à partir d'un sommet le parcours en profondeur permet d'atteindre tous les autres sommets, on dit que le graphe (non orienté) est *connexe*."
   ]
  },
  {
   "cell_type": "code",
   "execution_count": null,
   "metadata": {},
   "outputs": [],
   "source": [
    "# à vous de jouer !\n"
   ]
  },
  {
   "cell_type": "markdown",
   "metadata": {},
   "source": [
    "> Comme on n'a pas vraiment besoin de la valeur (`True`) associée à chaque sommet (toute valeur aurait marché), on aurait pu utiliser une structure abstraite de données plus simple comme l'ensemble (type prédéfini `set` en Python)."
   ]
  },
  {
   "cell_type": "markdown",
   "metadata": {},
   "source": [
    "**Question 3** : Si on applique l'algorithme sur la Roumanie, ça marche. Si on l'applique sur la France (en partant d'Angers par exemple) ça ne marche pas. Pourquoi ?"
   ]
  },
  {
   "cell_type": "markdown",
   "metadata": {},
   "source": [
    "*Réponse* : "
   ]
  },
  {
   "cell_type": "markdown",
   "metadata": {},
   "source": [
    "**Question 4**: Proposez un dictionnaire `g2` représentant un graphe non orienté de 5 sommets dans lequel on ne peut pas atteindre tous les sommets à partir des autres, autrement dit un graphe *non connexe*."
   ]
  },
  {
   "cell_type": "code",
   "execution_count": null,
   "metadata": {},
   "outputs": [],
   "source": [
    "# à vous de jouer !\n"
   ]
  },
  {
   "cell_type": "markdown",
   "metadata": {},
   "source": [
    "**Question 5** : En utilisant le parcours en profondeur, vérifiez qu'en partant d'un sommet on ne peut pas atteindre tous les autres."
   ]
  },
  {
   "cell_type": "code",
   "execution_count": null,
   "metadata": {},
   "outputs": [],
   "source": [
    "# à vous de jouer !\n"
   ]
  },
  {
   "cell_type": "markdown",
   "metadata": {},
   "source": [
    "> Le parcours en profondeur permet de trouver tous les sommets accessibles à partir du sommet de départ, on appelle cela la *composante connexe* du sommet de départ. \n",
    "\n",
    "L'algorithme programmé ne liste que les sommets atteints par le parcours. Une façon de voir les sommets visités et ceux qui ne le sont pas est de supposer qu'on connaît tous les sommets (c'est souvent le cas comme ici) et d'initialiser le dictionnaire `visites` à `False` pour tous les sommets. Ainsi, les sommets visités prendront la valeur `True` au cours du parcours et les autres resteront à leur état initial `False`."
   ]
  },
  {
   "cell_type": "markdown",
   "metadata": {},
   "source": [
    "**Question 6** : Modifiez la fonction `parcours_prof` pour écrire une fonction `parcours_prof2` qui initialise le dictionnaire `visites` à `False` pour tous les sommets."
   ]
  },
  {
   "cell_type": "code",
   "execution_count": null,
   "metadata": {},
   "outputs": [],
   "source": [
    "def parcours_prof2(graphe, debut):\n",
    "    visites = {s: False for s in graphe} # initialisation de tous les sommets à False\n",
    "    # à vous de jouer !\n",
    "    "
   ]
  },
  {
   "cell_type": "markdown",
   "metadata": {},
   "source": [
    "**Question 7** : Appliquez cette fonction au graphe `g2` (non connexe) que vous avez défini à la question 5."
   ]
  },
  {
   "cell_type": "code",
   "execution_count": null,
   "metadata": {},
   "outputs": [],
   "source": [
    "# à vous de jouer !\n"
   ]
  },
  {
   "cell_type": "markdown",
   "metadata": {},
   "source": [
    "## Algorithme de parcours en largeur d'abord\n",
    "\n",
    "### Principe de l'algorithme\n",
    "\n",
    "On rappelle que l'algorithme est quasiment identique en veillant à remplacer une pile par une file pour stocker les villes à visiter.\n",
    "\n",
    "**Question 8** : Ecrivez le principe de l'algorithme (en vous inspirant de ce qui a été fait pour le parcours en profondeur d'abord)."
   ]
  },
  {
   "cell_type": "markdown",
   "metadata": {},
   "source": [
    "*Réponse* : "
   ]
  },
  {
   "cell_type": "markdown",
   "metadata": {},
   "source": [
    "### Ecriture de l'algorithme\n",
    "On suppose de plus que l'on implémente une file par une `list` Python. On suppose que l'élément à traiter en priorité dans la file est le premier élément de la liste. On défile donc en tête (avec la méthode `pop(0)`) et on enfile en queue de liste."
   ]
  },
  {
   "cell_type": "code",
   "execution_count": null,
   "metadata": {},
   "outputs": [],
   "source": [
    "file = [\"e\"]\n",
    "file.append(\"b\") # pour enfiler\n",
    "file.append(\"c\")\n",
    "print(file)\n",
    "s = file.pop(0) # pour défiler (renvoie l'élément défilé)\n",
    "print(s)\n",
    "print(file)"
   ]
  },
  {
   "cell_type": "markdown",
   "metadata": {},
   "source": [
    "**Question 9** : Ecrivez une fonction `parcours_larg(graphe, debut)` qui renvoie le dictionnaire `visites` des sommets visités par un parcours en largeur du graphe `graphe` en partant du sommet `debut`."
   ]
  },
  {
   "cell_type": "code",
   "execution_count": null,
   "metadata": {},
   "outputs": [],
   "source": [
    "# à vous de jouer !\n"
   ]
  },
  {
   "cell_type": "markdown",
   "metadata": {},
   "source": [
    "**Question 10** : Appliquez cette fonction aux deux graphes `g1` et `g2` définis précédemment."
   ]
  },
  {
   "cell_type": "code",
   "execution_count": null,
   "metadata": {},
   "outputs": [],
   "source": [
    "# à vous de jouer !\n"
   ]
  },
  {
   "cell_type": "markdown",
   "metadata": {},
   "source": [
    "## Ordre des sommets visités\n",
    "\n",
    "Les parcours en largeur et en profondeur d'abord donnent bien évidemment les mêmes sommets visités. Cependant, l'ordre n'est pas le même selon le parcours.\n",
    "\n",
    "Pour connaître l'ordre des sommets visités, une idée simple est de créer une liste `chemin` dans laquelle on va ajouter au fur et à mesure les sommets visités, *s'ils ne sont pas déjà dans la liste* `chemin` !"
   ]
  },
  {
   "cell_type": "markdown",
   "metadata": {},
   "source": [
    "**Question 11** : Ecrivez deux fonctions `chemin_parcours_prof(graphe, debut)` et `chemin_parcours_larg(graphe, debut)` qui renvoie la liste `chemin` contenant les sommets visités dans le bon ordre. *Il suffit d'ajouter trois lignes aux fonctions de parcours en profondeur et en largeur d'abord*.\n",
    "\n",
    ">**ATTENTION** : l'ordre des sommets empruntés dépend de l'ordre dans lequel sont mémorisés les successeurs dans le dictionnaire implémentant le graphe !!"
   ]
  },
  {
   "cell_type": "code",
   "execution_count": null,
   "metadata": {},
   "outputs": [],
   "source": [
    "# à vous de jouer !\n"
   ]
  },
  {
   "cell_type": "markdown",
   "metadata": {},
   "source": [
    "**Question 12** : Appliquez ces deux fonctions au graphe `g1` en partant du sommet `\"a\"`."
   ]
  },
  {
   "cell_type": "code",
   "execution_count": null,
   "metadata": {},
   "outputs": [],
   "source": [
    "# à vous de jouer\n"
   ]
  },
  {
   "cell_type": "markdown",
   "metadata": {},
   "source": [
    "**Question 13 (BONUS)** : Ecrivez une fonction `affiche(chemin)` qui renvoie une chaîne de caractères des sommets de la liste `chemin`."
   ]
  },
  {
   "cell_type": "code",
   "execution_count": null,
   "metadata": {},
   "outputs": [],
   "source": [
    "# à vous de jouer\n",
    "def affiche(chemin):\n",
    "    \"\"\"Renvoie une chaine de caractères représentant les sommets de la liste chemin.\n",
    "    Exemples :\n",
    "    \n",
    "    >>> affiche(['a', 'c', 'e'])\n",
    "    'a -> c -> e'\n",
    "    \n",
    "    >>> affiche([])\n",
    "    ''\n",
    "    \n",
    "    \"\"\"\n",
    "    # à compléter\n",
    "    pass"
   ]
  },
  {
   "cell_type": "markdown",
   "metadata": {},
   "source": [
    "# Remarque importante\n",
    "\n",
    "Dans les deux parcours, lorsqu'on traite un sommet (celui qui est dépilé/défilé), on n'effectue un traitement que si ce dernier n'a pas encore été visité (marqué dans le dictionnaire `visites`). On a écrit cela de la façon suivante :\n",
    "\n",
    "```python\n",
    "def parcours_prof(graphe, debut):\n",
    "    visites = {}\n",
    "    pile = [debut]\n",
    "    while len(pile) > 0:\n",
    "        s = pile.pop()\n",
    "        if s not in visites:  # TRAITEMENT SI SOMMET PAS ENCORE VISITE, RIEN SINON\n",
    "            visites[s] = True\n",
    "            for voisin in graphe[s]:\n",
    "                if voisin not in visites:\n",
    "                    pile.append(voisin)\n",
    "    return visites\n",
    "```"
   ]
  },
  {
   "cell_type": "markdown",
   "metadata": {},
   "source": [
    "On peut écrire un programme équivalent de manière plus élégante en utilisant le mot clé `continue` qui une fois rencontré passe directement à l'itération suivante de boucle. Ainsi, le parcours en profondeur peut s'écrire également comme suit, et c'est cette écriture que nous garderons pour la suite.\n",
    "\n",
    "```python\n",
    "def parcours_prof(graphe, debut):\n",
    "    visites = {}\n",
    "    pile = [debut]\n",
    "    while len(pile) > 0:\n",
    "        s = pile.pop()\n",
    "        if s in visites:   # si s a déjà été visité\n",
    "            continue       # on passe à l'itération suivante\n",
    "        visites[s] = True  # sinon l'itération en cours se poursuit\n",
    "        for voisin in graphe[s]:\n",
    "            if voisin not in visites:\n",
    "                pile.append(voisin)\n",
    "    return visites\n",
    "```"
   ]
  },
  {
   "cell_type": "markdown",
   "metadata": {},
   "source": [
    ">On peut bien sûr faire la même chose avec le parcours en largeur !"
   ]
  },
  {
   "cell_type": "markdown",
   "metadata": {},
   "source": [
    "---\n",
    "\n",
    "**Références :**\n",
    "- Equipe pédagoqique DIU EIL, Université de Nantes.\n",
    "\n",
    "---\n",
    "Germain BECKER, Lycée Mounier, ANGERS\n",
    "\n",
    "![Licence Creative Commons](https://i.creativecommons.org/l/by-nc-sa/4.0/88x31.png)"
   ]
  }
 ],
 "metadata": {
  "kernelspec": {
   "display_name": "Python 3",
   "language": "python",
   "name": "python3"
  },
  "language_info": {
   "codemirror_mode": {
    "name": "ipython",
    "version": 3
   },
   "file_extension": ".py",
   "mimetype": "text/x-python",
   "name": "python",
   "nbconvert_exporter": "python",
   "pygments_lexer": "ipython3",
   "version": "3.7.3"
  }
 },
 "nbformat": 4,
 "nbformat_minor": 2
}
