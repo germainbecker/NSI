{
 "cells": [
  {
   "cell_type": "markdown",
   "metadata": {},
   "source": [
    ">En anglais, *divide and conquer*.\n",
    "\n",
    "# Définition"
   ]
  },
  {
   "cell_type": "markdown",
   "metadata": {},
   "source": [
    "<div class=\"important\">\n",
    "<p>On appelle <strong>diviser pour régner</strong> une méthode algorithmique de résolution d'un problème consistant à :</p>\n",
    "<ol>\n",
    "    <li>DIVISER : découper le problème initial en sous-problèmes ;</li>\n",
    "    <li>REGNER : résoudre les sous-problèmes (récursivement ou directement s'ils sont assez petits) ;</li>\n",
    "    <li>COMBINER : calculer une solution au problème initial à partir des solutions des sous-problèmes.</li>\n",
    "</ol>\n",
    "</div>    "
   ]
  },
  {
   "cell_type": "markdown",
   "metadata": {},
   "source": [
    "# Exemples\n",
    "\n",
    "## Premier exemple\n",
    "\n",
    "On dispose d'une fonction efficace pour traduire une phrase et on veut traduire tout un texte : on décompose (phase \"Diviser\") alors le texte en phrases (terminées par certains signes de ponctuation) que l'on traduit avec la fonction connue (phase \"Régner\"), puis on juxtapose les phrases traduites (phase \"Combiner\").\n",
    "\n",
    "## La recherche dichotomique\n",
    "\n",
    "La recherche dichotomique dans un tableau trié est un autre exemple d'application de la méthode *diviser pour régner*. En effet, l'idée de la recherche dichotomique est de comparer la valeur `v` cherchée à l'élément central et, selon le cas, on a trouvé `v` ou on poursuit la recherche dans la moitié de gauche ou de droite. On réduit ainsi le problème initial (recherche dans le tableau tout entier) à un problème plus simple (recherche dans une portion du tableau dont la taille est divisée par deux), jusqu'à trouver un cas simple (en trouvant la valeur `v` ou en arrivant à la dernière valeur du tableau sans la trouver). \n",
    "\n",
    "En classe de Première, l'algorithme de recherche dichotomique a été écrit avec une boucle `while` mais il s'écrit également de manière récursive assez naturellement."
   ]
  },
  {
   "cell_type": "code",
   "execution_count": 1,
   "metadata": {},
   "outputs": [],
   "source": [
    "# Recherche récursive de v dans le tableau T[g..d]\n",
    "def recherche(T, v, g, d):\n",
    "    \"\"\"Renvoie une position de v dans T[g..d], ou None si v ne s'y trouve pas\"\"\"\n",
    "    if g > d:\n",
    "        return None\n",
    "    m = (g + d) // 2\n",
    "    if T[m] > v:\n",
    "        return recherche(T, v, g, m - 1)\n",
    "    elif T[m] < v :\n",
    "        return recherche(T, v, m + 1, d)\n",
    "    else:\n",
    "        return m\n",
    "\n",
    "# Recherche dichotomique en commençant la recherche sur le tableau entier\n",
    "def recherche_dichotomique(T, v):\n",
    "    \"\"\"Renvoie une position de v dans le tableau T, ou None si v ne s'y trouve pas\"\"\"\n",
    "    return recherche(T, v, 0, len(T) - 1)"
   ]
  },
  {
   "cell_type": "code",
   "execution_count": 2,
   "metadata": {},
   "outputs": [
    {
     "data": {
      "text/plain": [
       "(4, None)"
      ]
     },
     "execution_count": 2,
     "metadata": {},
     "output_type": "execute_result"
    }
   ],
   "source": [
    "tab = [1, 1, 2, 2, 3, 4, 4, 6, 7, 8, 8, 9, 10]\n",
    "recherche_dichotomique(tab, 3), recherche_dichotomique(tab, 5)"
   ]
  },
  {
   "cell_type": "markdown",
   "metadata": {},
   "source": [
    "## Autres exemples\n",
    "\n",
    "Les algorithmes mettant en jeu la méthode *diviser pour régner* sont assez nombreux, certains seront abordés dans les activités. Citons par exemple :\n",
    "\n",
    "- Recherche de la première occurrence d'un élément dans un tableau ;\n",
    "- Des algorithmes de tri comme le *tri fusion* et le *tri rapide* (hors programme) qui s'avèrent plus efficaces que ceux abordés en classe de Première (tri par sélection, tri par insertion) ;\n",
    "- Multiplication et exponentiation rapide ;\n",
    "- Rotation d'une image d'un quart de tour ;\n",
    "- etc.\n",
    "\n",
    "# Bilan\n",
    "\n"
   ]
  },
  {
   "cell_type": "markdown",
   "metadata": {},
   "source": [
    "- La méthode *diviser pour régner* consiste à décomposer un problème en plusieurs **sous-problèmes** de même nature mais plus petits (étape DIVISER), à résoudre ensuite chacun des sous-problèmes (étape REGNER) et enfin à combiner les résultats des sous-problèmes pour obtenir le résultat du problème initial (étape COMBINER).\n",
    "- La résolution des sous-problèmes se fait en général récursivement en les décomposant à leur tour en problèmes plus petits encore jusqu'à arriver au(x) cas de base.\n",
    "- Cette méthode permet d'écrire des algorithmes souvent plus efficaces mais elle reste parfois limitée par le nombre d'appels récursifs "
   ]
  },
  {
   "cell_type": "markdown",
   "metadata": {},
   "source": [
    "---\n",
    "\n",
    "**Références :**\n",
    "- Equipe pédagogique DIU EIL, Université de Nantes.\n",
    "\n",
    "---\n",
    "Germain BECKER, Lycée Mounier, ANGERS \n",
    "\n",
    "![Licence Creative Commons](https://i.creativecommons.org/l/by-nc-sa/4.0/88x31.png)"
   ]
  }
 ],
 "metadata": {
  "kernelspec": {
   "display_name": "Python 3",
   "language": "python",
   "name": "python3"
  },
  "language_info": {
   "codemirror_mode": {
    "name": "ipython",
    "version": 3
   },
   "file_extension": ".py",
   "mimetype": "text/x-python",
   "name": "python",
   "nbconvert_exporter": "python",
   "pygments_lexer": "ipython3",
   "version": "3.7.3"
  }
 },
 "nbformat": 4,
 "nbformat_minor": 2
}
