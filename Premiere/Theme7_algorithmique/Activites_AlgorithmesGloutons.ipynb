{
 "cells": [
  {
   "cell_type": "markdown",
   "metadata": {},
   "source": [
    "<h1 style=\"font-size: 30px; text-align: center;\">Algorithmes gloutons - EXERCICES</h1>\n",
    "\n",
    ">On dit *greedy algorithms* en anglais, l'adjectif \"greedy\" signifiant avare/glouton.\n",
    "\n",
    "<img class=\"centre image-responsive\" src=\"data/monsieurGlouton.jpg\" alt=\"monsieur glouton\" width=\"300\">\n",
    "\n",
    "Les **algorithmes gloutons** forment une catégorie d'algorithmes permettant de donner une solution à des *problèmes d'optimisation* qui visent à *maximiser/minimiser* une quantité (**plus court** chemin (GPS), **plus petit** temps d'exécution, **meilleure** organisation d'un emploi du temps, etc.)\n",
    "\n",
    "Le principe d'un algorithme glouton est le suivant :\n",
    "- résoudre un problème étape par étape\n",
    "- à chaque étape, faire le choix optimal de moindre coût (de meilleur gain)\n",
    "\n",
    "Le choix effectué à chaque étape n'est jamais remis en cause, ce qui fait que cette stratégie permet d'aboutir rapidement à une solution au problème de départ. C'est en ce sens que l'adjectif *greedy* (glouton/avare) caractérise ces algorithmes : ils terminent rapidement (*glouton*) sans fournir beaucoup d'efforts (*avare*)."
   ]
  },
  {
   "cell_type": "markdown",
   "metadata": {},
   "source": [
    "# Exercice 1 : le problème du rendu de monnaie\n",
    "\n",
    "<img class=\"centre image-responsive\" src=\"data/money.png\" alt=\"des pièces\" width=\"300\">\n",
    "\n",
    "## Énoncé\n",
    "\n",
    "Vous êtes commerçant et devez rendre de la monnaie à vos clients de façon optimale, c'est-à-dire avec le **nombre minimal** de pièces et de billets.\n",
    "\n",
    "On suppose que :\n",
    "- les clients ne vous donnent que des sommes entières en euros (pas de centimes pour simplifier).\n",
    "- les valeurs des pièces et billets à votre disposition sont : 1, 2, 5, 10, 20, 50, 100, 200 et 500. On suppose que vous avez autant d'exemplaires de chaque pièce et billet\n",
    "- dans la suite, afin de simplifier, nous désignerons par \"pièces\" à la fois les pièces et les billets.\n",
    "\n",
    "## Exemples et stratégie à adopter\n",
    "\n",
    "✍️ **Question 1** : Myriam vous achète un objet qui coûte 53 euros. Elle paye avec un billet de 200 euros. Que lui rendez-vous pour minimiser le nombre de pièces rendues ?\n",
    "\n",
    "✍️ **Question 2** : Même question : comment rendre la somme 39 de manière optimale ?\n",
    "\n",
    "✍️ **Question 3** : Écrivez en français l'algorithme (= la stratégie) à adopter pour minimiser le nombre de pièces rendues.\n",
    "\n",
    "✍️ **Question 4** : En vous appuyant sur la définition, expliquez pourquoi cet algorithme est à classer dans la catégorie des algorithmes gloutons.\n",
    "plus grande valeur). Cette stratégie entre donc bien dans la catégorie des *algorithmes gloutons*."
   ]
  },
  {
   "cell_type": "markdown",
   "metadata": {},
   "source": [
    "## Algorithme et implémentation\n",
    "\n",
    "L'algorithme du rendu de monnaie glouton possède la **spécification** suivante :\n",
    "\n",
    "- Entrées : un entier `s` (somme à rendre) et un tableau `pieces` contenant les valeurs des pièces disponibles (en quantité infinie).\n",
    "- Sortie : une liste `solution`\n",
    "- Rôle : renvoyer la liste `solution` contenant le minimum de pièces possibles telles que leur somme soit égale à `s`. \n",
    "- Précondition : `s` > 0 et les éléments du tableau `pieces` sont strictement positifs et rangés dans l'ordre décroissant.\n",
    "- Postcondition : la somme des valeurs de la liste `solution` est égale à `s` et il n'existe pas de liste `solution` de taille inférieure vérifiant cela."
   ]
  },
  {
   "cell_type": "markdown",
   "metadata": {},
   "source": [
    "On veut implémenter cet algorithme avec une fonction `rendu_monnaie_glouton` qui possède donc deux paramètres `s` et `pieces`. On ne sait pas à l'avance combien d'étapes seront nécessaires donc on va logiquement utiliser une boucle `while` qui s'arrêtera lorsque toute la somme sera rendue.\n",
    "\n",
    "💻 **Question 5** : Complétez la fonction `rendu_monnaire_glouton` ci-dessous."
   ]
  },
  {
   "cell_type": "code",
   "execution_count": null,
   "metadata": {},
   "outputs": [],
   "source": [
    "def rendu_monnaie_glouton(s, pieces):\n",
    "    \"\"\"Renvoie la solution gloutonne du rendu de monnaie d'une somme s entière et positive. \n",
    "    Le tableau pieces contient les valeurs des pièces à disposition dans l'ordre décroissant.\"\"\"\n",
    "    solution = []  # contiendra la liste des pièces à rendre\n",
    "    i = 0  # i est l'indice de la pièce à tester (on commence par la plus grande qui a pour indice 0)\n",
    "    # À COMPLÉTER :"
   ]
  },
  {
   "cell_type": "markdown",
   "metadata": {},
   "source": [
    "<details style=\"border: 1px solid #aaa;border-radius: 4px;padding: .5em .5em 0;cursor:pointer\">\n",
    "    <summary style=\"font-weight: bold;margin: -.5em -.5em 0;padding: .5em;cursor:pointer;\">Voir l'aide</summary>  \n",
    "    <div> L'algorithme à écrire est le suivant :\n",
    "\n",
    "```\n",
    "# tant qu'il reste de l'argent à rendre et que toutes les pièces n'ont pas été testées\n",
    "    # s'il est possible de rendre la pièce d'indice i\n",
    "        # on l'ajoute à solution et on met à jour la somme encore à rendre\n",
    "    # sinon on passe à la pièce suivante\n",
    "# on renvoie la solution gloutonne\n",
    "```\n",
    "</div>\n",
    "</details>"
   ]
  },
  {
   "cell_type": "markdown",
   "metadata": {},
   "source": [
    "💻 **Question 6** : Testez la fonction sur les situations des questions 1 et 2. (On donne le tableau `pieces` ci-dessous)"
   ]
  },
  {
   "cell_type": "code",
   "execution_count": null,
   "metadata": {},
   "outputs": [],
   "source": [
    "pieces = [500, 200, 100, 50, 20, 10, 5, 2, 1]\n",
    "# à vous de jouer !\n"
   ]
  },
  {
   "cell_type": "markdown",
   "metadata": {},
   "source": [
    "## Analyse de la solution gloutonne\n",
    "\n",
    "L'algorithme glouton précédent fournit une solution à notre problème de rendu de monnaie. Ce n'est pas évident à prouver (et complètement hors programme) mais la stratégie gloutonne donne une solution optimale au problème dans le cas où le système monétaire est l'euro ! Mais est-ce toujours le cas ? Y a-t-il des cas particuliers ?\n",
    "\n",
    "### Cas d'un autre système monétaire\n",
    "\n",
    "On suppose dans ce paragraphe que l'on veut rendre la somme s = 8 avec à notre disposition les pièces `[6, 4, 1]`.\n",
    "\n",
    "✍️ **Question 7** : Quelles pièces sont rendues en appliquant l'algorithme glouton ? Combien y a-t-il de pièces rendues ? Trouvez une meilleure solution pour optimiser le nombre de pièces rendues.\n",
    "\n",
    "> **Moralité** : l'algorithme glouton ne donne pas nécessairement une solution optimale dans le rendu de monnaie, cela dépend du système monétaire.\n",
    "\n",
    "### Et si on n'a pas de pièce unité ?\n",
    "\n",
    "On suppose dans ce paragraphe que l'on veut rendre la somme s = 8 avec à notre disposition les pièces `[5, 2]`.\n",
    "\n",
    "✍️ **Question 8** : Quelles pièces sont rendues en appliquant l'algorithme glouton ? Que constatez-vous ? Donner une solution exacte au problème.\n",
    "\n",
    "> **Moralité** : l'algorithme glouton ne donne pas toujours une solution exacte au problème (s'il n'y a pas de pièce unité en tout cas)."
   ]
  },
  {
   "cell_type": "markdown",
   "metadata": {},
   "source": [
    "# ✍️ Exercice 2\n",
    "\n",
    "On cherche à sélectionner cinq nombres de la liste suivante en cherchant à avoir leur somme la plus grande possible (maximiser une grandeur) et en s'interdisant de choisir deux nombres voisins (contrainte).\n",
    "\n",
    "$$15 - 4 - 20 - 17 - 11 - 8 - 11 - 16 - 7 - 14 - 2 - 7 - 5 - 17 - 19 - 18 - 4 - 5 - 13 - 8$$\n",
    "\n",
    "\n",
    "Comme on souhaite avoir le plus grand résultat final, la stratégie gloutonne consiste à choisir à chaque étape le plus grand nombre possible dans les choix restants.\n",
    "\n",
    "1. Appliquez cet algorithme glouton sur le tableau.\n",
    "2. Vérifiez que $\\{20, 18, 17, 16, 15\\}$ est une autre solution possible.\n",
    "3. Que dire de la solution gloutonne ?"
   ]
  },
  {
   "cell_type": "markdown",
   "metadata": {},
   "source": [
    "# ✍️ Exercice 3 : le problème du voyageur\n",
    "\n",
    "Un voyageur a ciblé plusieurs villes qu'il souhaite visiter. Il cherche un itinéraire passant par toutes ces villes et qui minimise la distance totale parcourue. Les villes peuvent être visitées dans n'importe quel ordre mais aucune ne doit être négligée, et le visiteur doit revenir à la fin à sa ville de départ.\n",
    "\n",
    "Le voyageur part de Nancy et souhaite visiter Metz, Paris, Reims et Troyes, avant de retourner à Nancy.\n",
    "\n",
    "Voici un tableau donnant les distances kilométriques entre chacune des ces villes.\n",
    "\n",
    "|       | Nancy | Metz | Paris | Reims | Troyes |\n",
    "| ---   | ---   | ---  | ---   | ---   | ---    |\n",
    "| Nancy |       | 55   | 303   | 188   | 183    |\n",
    "| Metz  | 55    |      | 306   | 176   | 203    |\n",
    "| Paris | 303   | 306  |       | 142   | 153    |\n",
    "| Reims | 188   | 176  | 142   |       | 123    |\n",
    "| Troyes| 183   | 203  | 153   | 123   |        |\n",
    "\n",
    "1. Quelle est la stratégie gloutonne à mettre en oeuvre ?\n",
    "2. Mettez en oeuvre cette stratégie et donnez la solution.\n",
    "3. Calculez la distance totale pour le parcours Metz - Reims - Paris - Troyes (départ et arrivée à Nancy sous-entendus)\n",
    "4. Que dire de la solution gloutonne ?"
   ]
  },
  {
   "cell_type": "markdown",
   "metadata": {},
   "source": [
    "# Exercice 4 : Le problème du sac à dos (version Lupin)\n",
    "\n",
    "<img class=\"centre image-responsive\" src=\"data/kp.svg\" alt=\"sa\" width=\"400\">\n",
    "\n",
    "## Énoncé \n",
    "\n",
    "Vous êtes un voleur et souhaitez emporter les objets pour maximiser la valeur totale du butin. Cependant, votre sac ne peut supporter qu'une masse maximale de 10 kg.  On dispose d’un sac pouvant supporter un poids maximal donné et de divers objets ayant chacun une valeur et un poids. Il s’agit de choisir les objets à emporter dans le sac afin maximiser la valeur totale tout en respectant la contrainte du poids maximal. C’est un problème d’*optimisation avec contrainte*.\n",
    "\n",
    "Considérons les objets suivants et un sac de capacité maximale 10 kg. Quels objets faut-il prendre ?\n",
    "\n",
    "| objet       |  A  |  B  |  C  |  D  |  E  |  F  |\n",
    "|:------:     |:---:|:---:|:---:|:---:|:---:|:---:|\n",
    "| masse (kg)  |  7  |  6  |  4  |  3  |  2  |  1  |\n",
    "| valeur (€)  |9100 |7200 |4800 |2700 |2600 |200  |\n",
    "\n",
    "## Exemple et stratégies gloutonnes possibles\n",
    "\n",
    "Il y a plusieurs choix possibles :\n",
    "- **Stratégie 1** : prendre toujours l'objet de plus grande valeur n'excédant pas la capacité restante (il faut trier préalablement par valeur décroissante)\n",
    "- **Stratégie 2** : prendre toujours l'objet de plus faible masse (il faut trier préalablement par masse croissante)\n",
    "- **Stratégie 3** : prendre toujours l'objet de plus grand rapport $\\frac{\\text{valeur}}{\\text{masse}}$ n'excédant pas la capacité restante (il faut trier préalablement par rapport $\\frac{\\text{valeur}}{\\text{masse}}$ décroissant)\n",
    "\n",
    "✍️ **Question 1** : Appliquez les trois stratégies gloutonnes à notre exemple. \n",
    "\n",
    "✍️**Question 2** : Pour cet exemple, y a-t-il une stratégie meilleure qu'une autre ? Ces stratégies donnent-elles une solution optimale au problème ? Expliquez.\n"
   ]
  },
  {
   "cell_type": "markdown",
   "metadata": {},
   "source": [
    "## Un deuxième exemple\n",
    "\n",
    "Considérons les objets suivants et un sac de capacité maximale 2 kg.\n",
    "\n",
    "| objet  |  A  |  B  |  C  |\n",
    "|:------:|:---:|:---:|:---:|\n",
    "|  masse (kg) |  1,5 |  2 |  0,3  |\n",
    "| valeur (€) | 200 | 500 | 400 |\n",
    "|  $\\frac{\\text{valeur}}{\\text{masse}}$ | 133,33... | 250 | 1333,33... |\n",
    "\n",
    "✍️ **Question 3** : Appliquez chacune des stratégies à ce problème.\n",
    "\n",
    "✍️ **Question 4** : Quelle est la meilleure stratégie dans ce cas ?\n",
    "\n",
    "✍️ **Question 5** : Listez toutes les combinaisons possibles, puis celles respectant la contrainte et déduisez-en la solution optimale au problème. Comparez-la aux stratégies gloutonnes.\n",
    "\n",
    "✍️ **Question 6** : Reprenez les questions 3, 4 et 5 mais avec un sac de capacité maximale 3,5 kg.\n",
    "\n",
    "> **Moralité** : Pour le problème du sac à dos, ce n'est pas toujours la même stratégie qui fournit la meilleure solution, et cette solution n'est pas forcément optimale !"
   ]
  },
  {
   "cell_type": "markdown",
   "metadata": {},
   "source": [
    "---\n",
    "\n",
    "**Références :**\n",
    "- Documents ressources du DIU EIL, Université de Nantes, C. JERMANN.\n",
    "- Cours/exercices de J. DE VILLELE sur les algorithmes gloutons : [lien vers son archive](https://www.pearltrees.com/private/id30674052/item301173198?paccess=1790e9d8f0b.11f389ce.3d1d33b1d809130b99b175f5f7068f0e) pour l'exercice 1\n",
    "- Numérique et Sciences Informatiques, 1re, T. BALABONSKI, S. CONCHON, J.-C. FILLIATRE, K. NGUYEN, éditions ELLIPSES : [Site du livre](https://www.nsi-premiere.fr/) pour l'idée de l'exercice 4\n"
   ]
  },
  {
   "cell_type": "markdown",
   "metadata": {},
   "source": [
    "---\n",
    "Germain BECKER & Sébastien POINT, Lycée Mounier, ANGERS ![Licence Creative Commons](https://i.creativecommons.org/l/by-nc-sa/4.0/88x31.png)"
   ]
  }
 ],
 "metadata": {
  "kernelspec": {
   "display_name": "Python 3",
   "language": "python",
   "name": "python3"
  },
  "language_info": {
   "codemirror_mode": {
    "name": "ipython",
    "version": 3
   },
   "file_extension": ".py",
   "mimetype": "text/x-python",
   "name": "python",
   "nbconvert_exporter": "python",
   "pygments_lexer": "ipython3",
   "version": "3.7.10"
  }
 },
 "nbformat": 4,
 "nbformat_minor": 2
}
