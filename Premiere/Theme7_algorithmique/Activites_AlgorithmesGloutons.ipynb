{
 "cells": [
  {
   "cell_type": "markdown",
   "metadata": {},
   "source": [
    "# Algorithmes gloutons - EXERCICES\n",
    "\n",
    "Un algorithme glouton permet d'apporter une solution à un problème d'optimisation (*maximiser* ou *minimiser* une grandeur) tout en respectant certaines *contraintes*.\n",
    "\n",
    "\n",
    "## Exercice 1\n",
    "\n",
    "On cherche à sélectionner cinq nombres de la liste suivante en cherchant à avoir leur somme la plus grande possible (maximiser une grandeur) et en s'interdisant de choisir deux nombres voisins (contrainte).\n",
    "\n",
    "$$15 - 4 - 20 - 17 - 11 - 8 - 11 - 16 - 7 - 14 - 2 - 7 - 5 - 17 - 19 - 18 - 4 - 5 - 13 - 8$$\n",
    "\n",
    "\n",
    "Comme on souhaite avoir le plus grand résultat final, la stratégie gloutonne consiste à choisir à chaque étape le plus grand nombre possible dans les choix restants.\n",
    "\n",
    "1. Appliquez cet algorithme glouton sur le tableau.\n",
    "2. Vérifiez que $\\{20, 18, 17, 16, 15\\}$ est une autre solution possible.\n",
    "3. Que dire de la solution gloutonne ?"
   ]
  },
  {
   "cell_type": "markdown",
   "metadata": {},
   "source": [
    "## Exercice 2 : le problème du voyageur\n",
    "\n",
    "Un voyageur a ciblé plusieurs villes qu'il souhaite visiter. Il cherche un itinéraire passant par toutes ces villes et qui minimise la distance totale parcourue. Les villes peuvent être visitées dans n'importe quel ordre mais aucune ne doit être négligée, et le visiteur doit revenir à la fin à sa ville de départ.\n",
    "\n",
    "Le voyageur part de Nancy et souhaite visiter Metz, Paris, Reims et Troyes, avant de retourner à Nancy.\n",
    "\n",
    "Voici un tableau donnant les distances kilométriques entre chacune des ces villes.\n",
    "\n",
    "|       | Nancy | Metz | Paris | Reims | Troyes |\n",
    "| ---   | ---   | ---  | ---   | ---   | ---    |\n",
    "| Nancy |       | 55   | 303   | 188   | 183    |\n",
    "| Metz  | 55    |      | 306   | 176   | 203    |\n",
    "| Paris | 303   | 306  |       | 142   | 153    |\n",
    "| Reims | 188   | 176  | 142   |       | 123    |\n",
    "| Troyes| 183   | 203  | 153   | 123   |        |\n",
    "\n",
    "1. Quelle est la stratégie gloutonne à mettre en oeuvre ?\n",
    "2. Mettez en oeuvre cette stratégie et donnez la solution.\n",
    "3. Calculez la distance totale pour le parcours Metz - Reims - Paris - Troyes (départ et arrivée à Nancy sous-entendus)\n",
    "4. Que dire de la solution gloutonne ?"
   ]
  },
  {
   "cell_type": "markdown",
   "metadata": {},
   "source": [
    "## Exercice 3 : le problème du sac à dos\n",
    "\n",
    "On rappelle qu'il y a plusieurs stratégies gloutonnes pour donner une solution à ce problème\n",
    "\n",
    "- **Stratégie 1** : prendre toujours l'objet de plus grande valeur n'excédant pas la capacité restante (il faut trier préalablement par valeur décroissante)\n",
    "- **Stratégie 2** : prendre toujours l'objet de plus faible masse (il faut trier préalablement par masse croissante)\n",
    "- **Stratégie 3** : prendre toujours l'objet de plus grand rapport $\\frac{\\text{valeur}}{\\text{masse}}$ n'excédant pas la capacité restante (il faut trier préalablement par rapport $\\frac{\\text{valeur}}{\\text{masse}}$ décroissant)\n",
    "\n",
    "### Exemple 1\n",
    "\n",
    "Considérons les objets suivants et un sac de capacité maximale 2 kg.\n",
    "\n",
    "| objet  |  A  |  B  |  C  |\n",
    "|:------:|:---:|:---:|:---:|\n",
    "|  masse (kg) |  1,5 |  2 |  0,3  |\n",
    "| valeur (€) | 200 | 500 | 400 |\n",
    "|  $\\frac{\\text{valeur}}{\\text{masse}}$ | 133,33... | 250 | 1333,33... |\n",
    "\n",
    "1. Appliquez chacune des stratégies à ce problème.\n",
    "2. Quelle est la meilleure stratégie dans ce cas ?\n",
    "3. Listez toutes les combinaisons possibles, puis celles respectant la contrainte et déduisez-en la solution optimale au problème. Comparez-la aux stratégies gloutonnes.\n",
    "\n",
    "### Exemple 2\n",
    "\n",
    "Même questions mais avec un sac de capacité maximale 3,5 kg.\n",
    "\n",
    "\n",
    "### Exemple 3\n",
    "\n",
    "On considère désormais les objets suivants et un sac de capacité maximale 5 kg.\n",
    "\n",
    "| Objet \t| Valeur (en milliers d'€) \t| Masse (en kg) |\n",
    "|:---------:\t|:-------:\t|:---------:\t|\n",
    "| A \t| 114   \t| 4.57 \t|\n",
    "| B \t| 32    \t| 0.63  |\n",
    "| C \t| 20    \t| 1.65 \t|\n",
    "| D \t| 4     \t| 0.085 |\n",
    "| E \t| 18    \t| 2.15 \t|\n",
    "| F \t| 80    \t| 2.71 \t|\n",
    "| G \t| 5     \t| 0.32  |\n",
    "\n",
    "1. Appliquez chacune des stratégies à ce problème.\n",
    "2. Quelle est la meilleure stratégie dans ce cas ?\n",
    "3. Le sac $\\{B, C, F\\}$ est-il une solution au problème ? Quelle est sa valeur ? Que dire des solutions gloutonnes ?"
   ]
  },
  {
   "cell_type": "markdown",
   "metadata": {},
   "source": [
    "## Exercice 4\n",
    "\n",
    "Vous visitez un parc d'attractions proposant des spectacles à différents horaires. Voici les horaires des différents spectacles : \n",
    "\n",
    "| spectacle  |  A  |  B  |  C  | D | E | F | G | H | I | J |\n",
    "|----|:---:|:---:|:---:|:---:|:---:|:---:|:---:|:---:|:---:|:---:|\n",
    "| horaire | 10h-11h | 10h30-11h30 | 11h-12h30 | 11h30-12h | 12h-13h | 13h-15h | 13h30-14h | 14h-15h30 | 15h-16h | 16h-17h30 |\n",
    "\n",
    "Vous avez remarqué qu'il n'est pas possible d'assister à tous les spectacles puisque certains ont lieu à des moments communs. Vous souhaitez assister à un maximum de spectacles sur la journée. Quels spectacles devez-vous choisir ?\n",
    "\n",
    "Voici deux stratégies gloutonnes possibles :\n",
    "\n",
    "- Stratégie n°1 : choisir le spectacle dont l'heure de début arrive le plus tôt (parmi les spectacles dont l'heure de début est postérieure aux créneaux des spectacles déjà choisis). Cette stratégie est basée sur l'idée que moins on attend entre deux spectacles, plus on en verra.\n",
    "- Stratégie n°2 : choisir le spectacle dont l'heure de fin arrive le plus tôt (parmi les spectacles dont l'heure de début est postérieure aux créneaux des spectacles déjà choisis). Cette stratégie est basée sur l'idée que plus un spectable finit tôt, plus il reste de temps pour en voir d'autres."
   ]
  },
  {
   "cell_type": "markdown",
   "metadata": {},
   "source": [
    "1. Appliquez ces deux stratégies au problème.\n",
    "2. Laquelle donne la meilleure solution ?\n",
    "\n",
    ">**Remarque** : la deuxième stratégie gloutonne donne toujours la solution optimale à ce type de problème."
   ]
  },
  {
   "cell_type": "markdown",
   "metadata": {},
   "source": [
    "## Exercice 5 : Plus beaucoup de place sur ta clé USB ?\n",
    "\n",
    ">**Objectifs** : \n",
    "- implémenter un algorithme glouton pour trouver une solution à un problème\n",
    "- implémenter l'algorithme de *force brute* pour déterminer la solution optimale et la comparer à la solution gloutonne\n",
    "\n",
    "### Introduction\n",
    "\n",
    "Nous disposons d’une clé USB qui est déjà bien remplie et sur laquelle il ne reste que 5 Go de libre. Nous souhaitons copier sur cette  clé  des  fichiers  vidéos  pour  l’emporter  en  voyage.  Chaque  fichier  a  un poids  et  chaque  vidéo  a  une  durée.  La  durée  n’est pas proportionnelle à la taille car les fichiers sont de format différents, certaines vidéos sont de grande qualité, d’autres sont très compressées. Le tableau qui suit présente les 7 fichiers disponibles avec les durées données en minutes.\n",
    "\n",
    "| Nom \t| Durée en min (valeur) \t| Poids |\n",
    "|---------\t|-------\t|---------\t|\n",
    "| Vidéo A \t| 114   \t| 4.57 Go \t|\n",
    "| Vidéo B \t| 32    \t| 630 Mo  \t|\n",
    "| Vidéo C \t| 20    \t| 1.65 Go \t|\n",
    "| Vidéo D \t| 4     \t| 85 Mo   \t|\n",
    "| Vidéo E \t| 18    \t| 2,15 Go \t|\n",
    "| Vidéo F \t| 80    \t| 2,71 Go \t|\n",
    "| Vidéo G \t| 5     \t| 320 Mo  \t|\n",
    "\n",
    ">**Problème** : Quelles vidéos copier sur la clé USB pour que la durée des vidéos soient la plus grande possible tout en ne dépassant pas 5 Go ?\n",
    "\n",
    "**Question 1** : Quelle est la valeur que l'on cherche à maximiser/minimiser ? Quelle est la contrainte ?"
   ]
  },
  {
   "cell_type": "markdown",
   "metadata": {},
   "source": [
    "Réponse : "
   ]
  },
  {
   "cell_type": "markdown",
   "metadata": {},
   "source": [
    "**Question 2** : Quel problème reconnaissez-vous ici ?"
   ]
  },
  {
   "cell_type": "markdown",
   "metadata": {},
   "source": [
    "Réponse : "
   ]
  },
  {
   "cell_type": "markdown",
   "metadata": {},
   "source": [
    "Vous allez implémenter (= programmer) une solution gloutonne pour résoudre ce problème, puis vous implémenterez l'algorithme de *force brute* qui donnera la solution optimale au problème. La **stratégie gloutonne retenue sera de toujours prendre la vidéo de plus grande durée** n'excédant pas la capacité restante de poids.\n",
    "\n",
    "### Représentation des données\n",
    "\n",
    "Dans la suite, on utilisera des dictionnaires de la forme suivante pour représenter chaque vidéo, la durée étant donnée minute et le poids étant donné en Go.\n",
    "\n",
    "```python\n",
    "{'nom': 'Vidéo A', 'duree': 114, 'poids': 4.57}\n",
    "```\n",
    "\n",
    "On peut alors mémoriser les 7 vidéos dans le tableau `table_videos` suivant."
   ]
  },
  {
   "cell_type": "code",
   "execution_count": null,
   "metadata": {},
   "outputs": [],
   "source": [
    "table_videos = [{'nom' : 'video A', 'duree' : 114, 'poids' : 4.57},\n",
    "                {'nom' : 'video B', 'duree' : 32, 'poids' : 0.63},\n",
    "                {'nom' : 'video C', 'duree' : 20, 'poids' : 1.65},\n",
    "                {'nom' : 'video D', 'duree' : 4, 'poids' : 0.085},\n",
    "                {'nom' : 'video E', 'duree' : 18, 'poids' : 2.15},\n",
    "                {'nom' : 'video F', 'duree' : 80, 'poids' : 2.71},\n",
    "                {'nom' : 'video G', 'duree' : 5, 'poids' : 0.32}]"
   ]
  },
  {
   "cell_type": "markdown",
   "metadata": {},
   "source": [
    "On peut alors accéder aux éléments de cette table."
   ]
  },
  {
   "cell_type": "code",
   "execution_count": null,
   "metadata": {},
   "outputs": [],
   "source": [
    "table_videos[0]['nom']"
   ]
  },
  {
   "cell_type": "code",
   "execution_count": null,
   "metadata": {},
   "outputs": [],
   "source": [
    "table_videos[3]['duree']"
   ]
  },
  {
   "cell_type": "code",
   "execution_count": null,
   "metadata": {},
   "outputs": [],
   "source": [
    "table_videos[6]['poids']"
   ]
  },
  {
   "cell_type": "markdown",
   "metadata": {},
   "source": [
    "### Ecriture des fonctions utiles\n",
    "\n",
    "#### Accès au poids d'une vidéo\n",
    "\n",
    "Pour résoudre le problème, on a besoin d'accéder au poids des vidéos pour vérifier la contrainte du poids maximal. La fonction suivante permet de renvoyer le poids d'une vidéo entrée en paramètre (sous la forme d'un dictionnaire comme vu précédemment). Quelques assertions devant être vérifiées par la fonction ont été écrites."
   ]
  },
  {
   "cell_type": "code",
   "execution_count": null,
   "metadata": {},
   "outputs": [],
   "source": [
    "def poids(video):\n",
    "    return video['poids']\n",
    "\n",
    "assert poids({'nom' : 'video A', 'duree' : 114, 'poids' : 4.57}) == 4.57\n",
    "assert poids({'nom' : 'video D', 'duree' : 4, 'poids' : 0.085}) == 0.085\n",
    "assert poids({'nom' : 'video G', 'duree' : 5, 'poids' : 0.32}) == 0.32"
   ]
  },
  {
   "cell_type": "markdown",
   "metadata": {},
   "source": [
    "#### Accès à la durée d'une vidéo\n",
    "\n",
    "De même, comme la stratégie gloutonne choisie prévoit de prendre la vidéo de plus grande durée (valeur) n'excédant pas la capacité restante de poids, il est nécessaire de pouvoir accéder aux durées de chacune des vidéos retenues.\n",
    "\n",
    "**Question 2** : Ecrivez une fonction `duree(video)` qui renvoie la durée (= valeur) d'une video entrée en paramètre (sous la forme d'un dictionnaire vu précédemment). Quelques assertions devant être vérifiées par votre fonction sont données ci-dessous."
   ]
  },
  {
   "cell_type": "code",
   "execution_count": null,
   "metadata": {},
   "outputs": [],
   "source": [
    "def duree(video):\n",
    "    # à compléter\n"
   ]
  },
  {
   "cell_type": "code",
   "execution_count": null,
   "metadata": {},
   "outputs": [],
   "source": [
    "assert duree({'nom' : 'video A', 'duree' : 114, 'poids' : 4.57}) == 114\n",
    "assert duree({'nom' : 'video D', 'duree' : 4, 'poids' : 0.085}) == 4\n",
    "assert duree({'nom' : 'video G', 'duree' : 5, 'poids' : 0.32}) == 5"
   ]
  },
  {
   "cell_type": "markdown",
   "metadata": {},
   "source": [
    "#### Calculer le poids total et la durée totale d'une table de vidéos\n",
    "\n",
    "Enfin, il sera nécessaire de pouvoir calculer le poids et la durée totale d'une table de vidéos pour savoir si la contrainte de capacité maximale est respectée d'une part, et pour connaître la durée totale qui est la valeur à maximiser.\n",
    "\n",
    "**Question 3** : Ecrivez une fonction `poids_total(table_videos)` qui renvoie le poids total `poids_t` des vidéos présentes dans `table_videos`. Quelques assertions devant être vérifiées par votre fonction sont données ci-dessous."
   ]
  },
  {
   "cell_type": "code",
   "execution_count": null,
   "metadata": {},
   "outputs": [],
   "source": [
    "def poids_total(table_videos):\n",
    "    poids_t = 0\n",
    "    # à compléter\n",
    "\n",
    "    \n",
    "    return poids_t"
   ]
  },
  {
   "cell_type": "code",
   "execution_count": null,
   "metadata": {},
   "outputs": [],
   "source": [
    "table1 = [{'nom' : 'video C', 'duree' : 20, 'poids' : 1.65}]\n",
    "table2 = [{'nom' : 'video A', 'duree' : 114, 'poids' : 4.57},\n",
    "           {'nom' : 'video B', 'duree' : 32, 'poids' : 0.63}]\n",
    "table3 = [{'nom' : 'video A', 'duree' : 114, 'poids' : 4.57},\n",
    "          {'nom' : 'video B', 'duree' : 32, 'poids' : 0.63},\n",
    "          {'nom' : 'video C', 'duree' : 20, 'poids' : 1.65}]\n",
    "\n",
    "assert poids_total(table1) == 1.65   # on compare des nombres réels mais on a pris soin de bien choisir les exemples\n",
    "assert poids_total(table2) == 5.2\n",
    "assert poids_total(table3) == 6.85\n",
    "assert poids_total([]) == 0   # table vide testée"
   ]
  },
  {
   "cell_type": "markdown",
   "metadata": {},
   "source": [
    "**Question 4** : Ecrivez une fonction `duree_totale(table_videos)` qui renvoie la durée totale `duree_t` des vidéos présentes dans `table_videos`. Quelques assertions devant être vérifiées par votre fonction sont données ci-dessous."
   ]
  },
  {
   "cell_type": "code",
   "execution_count": null,
   "metadata": {},
   "outputs": [],
   "source": [
    "def duree_totale(table_videos):\n",
    "    duree_t = 0\n",
    "    # à compléter\n",
    "\n",
    "    \n",
    "    return duree_t"
   ]
  },
  {
   "cell_type": "code",
   "execution_count": null,
   "metadata": {},
   "outputs": [],
   "source": [
    "table1 = [{'nom' : 'video C', 'duree' : 20, 'poids' : 1.65}]\n",
    "table2 = [{'nom' : 'video A', 'duree' : 114, 'poids' : 4.57},\n",
    "           {'nom' : 'video B', 'duree' : 32, 'poids' : 0.63}]\n",
    "table3 = [{'nom' : 'video A', 'duree' : 114, 'poids' : 4.57},\n",
    "          {'nom' : 'video B', 'duree' : 32, 'poids' : 0.63},\n",
    "          {'nom' : 'video C', 'duree' : 20, 'poids' : 1.65}]\n",
    "\n",
    "assert duree_totale(table1) == 20\n",
    "assert duree_totale(table2) == 146\n",
    "assert duree_totale(table3) == 166\n",
    "assert duree_totale([]) == 0   # table vide testée\n",
    "assert duree_totale(table_videos) == 273 # table avec toutes les vidéos"
   ]
  },
  {
   "cell_type": "markdown",
   "metadata": {},
   "source": [
    "### Implémentation de l'algorithme glouton\n",
    "\n",
    "#### Tri préalable\n",
    "\n",
    "Comme la stratégie gloutonne retenue prévoit de choisir les vidéos de plus grande durée n'excédant pas la capacité restante, il est judicieux de commencer par trier les vidéos de `table_videos` par durée décroissante.\n",
    "\n",
    "**Question 5** : Utilisez la fonction `sorted` de Python pour obtenir un *nouveau* tableau (appelé `table_triee`) contenant les vidéos de `table_videos` triées par durée décroissante. *Indication* : l'instruction `help(sorted)` permet d'afficher l'aide de la fonction `sorted` (vous pouvez aussi revoir le cours sur les tris de table si nécessaire)."
   ]
  },
  {
   "cell_type": "code",
   "execution_count": null,
   "metadata": {},
   "outputs": [],
   "source": [
    "# à compléter\n",
    "table_triee = ...\n",
    "table_triee # pour afficher le résultat"
   ]
  },
  {
   "cell_type": "markdown",
   "metadata": {},
   "source": [
    "#### Algorithme glouton\n",
    "\n",
    "**Question 6** : en vous inspirant de l'implémentation de l'algorithme glouton du rendu de monnaie (voir cours), écrivez une fonction `glouton(table_videos, poids_max)` qui prend en paramètre une table de vidéos `table_videos` et un poids maximal `poids_max` et renvoie une liste `solution_gloutonne` contenant les vidéos de la solution gloutonne au problème. La solution gloutonne à trouver est donnée dans l'assertion qui suit."
   ]
  },
  {
   "cell_type": "code",
   "execution_count": null,
   "metadata": {},
   "outputs": [],
   "source": [
    "def glouton(table_videos, poids_max):\n",
    "    # TRI DE LA TABLE\n",
    "    # à compléter par l'instruction de votre réponse précédente\n",
    "    table_triee = ...\n",
    "    # ALGORITHME GLOUTON\n",
    "    poids_total = 0\n",
    "    solution_gloutonne = []\n",
    "    # à compléter\n",
    "    # on se positionne sur la première vidéo (de la table triée)\n",
    "    # tant qu'il reste des vidéos à traiter et que le poids max n'est pas atteint \n",
    "        # on prend la premiere video restante\n",
    "        # si elle n'est pas trop lourde (capacité restante suffisante)\n",
    "            # on l'ajoute à solution_gloutonne et on met à jour le poids total de la solution gloutonne\n",
    "        # on passe à la vidéo suivante\n",
    "    \n",
    "    return solution_gloutonne"
   ]
  },
  {
   "cell_type": "code",
   "execution_count": null,
   "metadata": {},
   "outputs": [],
   "source": [
    "assert glouton(table_videos, 5) == [{'nom': 'video A', 'duree': 114, 'poids': 4.57},\n",
    "                                    {'nom': 'video G', 'duree': 5, 'poids': 0.32},\n",
    "                                    {'nom': 'video D', 'duree': 4, 'poids': 0.085}]"
   ]
  },
  {
   "cell_type": "markdown",
   "metadata": {},
   "source": [
    "**Question 7** : Utilisez la fonction `duree_totale` pour déterminer la durée totale de la solution gloutonne. Quelle est sa durée totale ?"
   ]
  },
  {
   "cell_type": "code",
   "execution_count": null,
   "metadata": {},
   "outputs": [],
   "source": [
    "# à compléter\n"
   ]
  },
  {
   "cell_type": "markdown",
   "metadata": {},
   "source": [
    "### Implémentation de la *force brute*\n",
    "\n",
    "Le principe est simple : il faut étudier tous les cas possibles. Ainsi, pour appliquer cette stratégie, il faut :\n",
    "1. d'abord *énumérer* toutes les combinaisons possibles de vidéos \n",
    "2. puis conserver celles dont la capacité maximale n'est pas dépassée\n",
    "3. enfin, trouver la meilleure solution parmi les combinaisons restantes\n",
    "\n",
    ">**Remarque** : Dans un souci de simplicité, il a été fait le choix de ne pas utiliser de fonctions pour implémenter la stratégie de force brute. Vous pourrez trouver un code plus propre (mais plus complexe) en suivant ce [lien](#)."
   ]
  },
  {
   "cell_type": "code",
   "execution_count": null,
   "metadata": {},
   "outputs": [],
   "source": [
    "table_videos = [{'nom' : 'video A', 'duree' : 114, 'poids' : 4.57},\n",
    "                {'nom' : 'video B', 'duree' : 32, 'poids' : 0.63},\n",
    "                {'nom' : 'video C', 'duree' : 20, 'poids' : 1.65},\n",
    "                {'nom' : 'video D', 'duree' : 4, 'poids' : 0.085},\n",
    "                {'nom' : 'video E', 'duree' : 18, 'poids' : 2.15},\n",
    "                {'nom' : 'video F', 'duree' : 80, 'poids' : 2.71},\n",
    "                {'nom' : 'video G', 'duree' : 5, 'poids' : 0.32}]"
   ]
  },
  {
   "cell_type": "markdown",
   "metadata": {},
   "source": [
    "#### Etape 1 : énumération de toutes les combinaisons\n",
    "\n",
    "Il s'agit de la difficulté majeure. Dans une combinaison de vidéos, chaque vidéo de départ est prise ou non, il s'agit d'une donnée binaire. Ainsi, une approche consiste à créer des mots binaires représentant chaque combinaison. Par exemple, le mot '1101001' signifie qu'on prend les vidéos A, B, D et G tandis que le mot '1111111' signifie que l'on prend toutes les vidéos.\n",
    "\n",
    "Dans notre exemple, nous avons 7 vidéos donc il y a $2^{7} = 128$ combinaisons possibles. De manière générale il y a donc $2^n$ combinaisons pour un ensemble de $n$ vidéos.\n",
    "\n",
    "On va construire un tableau `combinaisons` contenant toutes les combinaisons binaires. Pour cela, l'idée est de commencer par construire un tableau `tab_entiers` contenant tous les entiers compris entre $0$ et $2^n-1$."
   ]
  },
  {
   "cell_type": "code",
   "execution_count": null,
   "metadata": {},
   "outputs": [],
   "source": [
    "n = len(table_videos)  # nombre de vidéos\n",
    "tab_entiers = [i for i in range(2**n)]  # création d'un tableau avec tous les entiers entre 0 et 2**n-1\n",
    "print(tab_entiers)"
   ]
  },
  {
   "cell_type": "markdown",
   "metadata": {},
   "source": [
    "Ensuite, on construit un autre tableau `tab_binaire` avec les conversions binaires de chaque entier. \n",
    "\n",
    ">**Astuce** : la fonction `bin` prend un entier en paramètre et renvoie sa valeur binaire sous forme d'une chaîne de caractères. Par exemple, `bin(12)` renvoie la chaîne `'0b1101'`. Il suffira de supprimer les caractères `'0b'` en tête pour obtenir l'écriture binaire. On veillera également à compléter avec des zéros devant pour obtenir un mot de la longueur désirée."
   ]
  },
  {
   "cell_type": "code",
   "execution_count": null,
   "metadata": {},
   "outputs": [],
   "source": [
    "tab_binaire = [bin(i)[2:] for i in tab_entiers]  # conversion binaire des entiers du tableau précédent, le [2:] permet de supprimer les caractères de tête '0b' renvoyés par la fonction bin\n",
    "print(tab_binaire)"
   ]
  },
  {
   "cell_type": "markdown",
   "metadata": {},
   "source": [
    "Enfin, pour obtenir le tableau `combinaisons`, on prendra le soin de compléter avec autant de zéros que nécessaires les valeurs binaires précédentes pour obtenir des mots de longueur 7, représentant les combinaisons possibles de vidéos."
   ]
  },
  {
   "cell_type": "code",
   "execution_count": null,
   "metadata": {},
   "outputs": [],
   "source": [
    "combinaisons = ['0'*(n-len(k)) + k for k in tab_binaire]  # ajout des zéros pour obtenir des mots binaires de longueur n"
   ]
  },
  {
   "cell_type": "markdown",
   "metadata": {},
   "source": [
    "On peut vérifier que le tableau `combinaisons` contient bien tous les 128 mots binaires de longueur 7."
   ]
  },
  {
   "cell_type": "code",
   "execution_count": null,
   "metadata": {
    "scrolled": false
   },
   "outputs": [],
   "source": [
    "combinaisons"
   ]
  },
  {
   "cell_type": "markdown",
   "metadata": {},
   "source": [
    "#### Etape 2 : conservation des combinaisons valides\n",
    "\n",
    "On cherche maintenant à conserver uniquement les combinaisons valides, c'est-à-dire celles ne dépassant pas la capacité maximale de 5 Go. Par exemple : \n",
    "- `'0000001'` est à conserver puisqu'il s'agit uniquement de la vidéo G de 0.32 Go\n",
    "- `'1010000'` n'est pas à conserver car le poids total de cette combinaison (vidéos A et C) vaut 4.57 + 1.65 = 6.22 Go, ce qui dépasse la capacité maximale autorisée.\n",
    "\n",
    "Pour cela, on peut calculer le poids total de chaque combinaison. Si celui-ci est inférieur au poids maximal autorisé, alors la combinaison est valide et on la conserve. \n",
    "\n",
    "**Question 8** : Complétez le programme suivant pour qu'en fin d'exécution la liste `combinaisons_valides` contienne tous les couples `(combi, duree_combi)` des combinaisons valides et de leur durée. L'assertion qui suit indique le nombre de combinaisons valides."
   ]
  },
  {
   "cell_type": "code",
   "execution_count": null,
   "metadata": {},
   "outputs": [],
   "source": [
    "n = len(table_videos)\n",
    "poids_max = 5\n",
    "combinaisons_valides = []\n",
    "for combi in combinaisons: # on parcourt chaque combinaison du tableau combinaisons\n",
    "    poids_combi = 0\n",
    "    duree_combi = 0\n",
    "    for i in range(n):  # on parcourt la combinaison caractère par caractère\n",
    "        # à compléter\n",
    "        # si le caractère est '1', alors on met à jour la durée et le poids de la combinaison avec ceux de la vidéo\n",
    "    # si la combi est valide alors on ajoute le couple (combi, duree_combi)à notre liste de combinaisons valides \n",
    "    "
   ]
  },
  {
   "cell_type": "code",
   "execution_count": null,
   "metadata": {},
   "outputs": [],
   "source": [
    "assert len(combinaisons_valides) == 51 "
   ]
  },
  {
   "cell_type": "markdown",
   "metadata": {},
   "source": [
    "Si vous ne parvenez pas à trouver la liste souhaitée, la voici. Vous pourrez continuer en l'utilisant."
   ]
  },
  {
   "cell_type": "code",
   "execution_count": null,
   "metadata": {},
   "outputs": [],
   "source": [
    "combinaisons_valides = [('0000000', 0), \n",
    "                        ('0000001', 5), \n",
    "                        ('0000010', 80), \n",
    "                        ('0000011', 85),\n",
    "                        ('0000100', 18), \n",
    "                        ('0000101', 23),\n",
    "                        ('0000110', 98),\n",
    "                        ('0001000', 4),\n",
    "                        ('0001001', 9),\n",
    "                        ('0001010', 84),\n",
    "                        ('0001011', 89),\n",
    "                        ('0001100', 22),\n",
    "                        ('0001101', 27),\n",
    "                        ('0001110', 102),\n",
    "                        ('0010000', 20),\n",
    "                        ('0010001', 25),\n",
    "                        ('0010010', 100),\n",
    "                        ('0010011', 105),\n",
    "                        ('0010100', 38),\n",
    "                        ('0010101', 43),\n",
    "                        ('0011000', 24),\n",
    "                        ('0011001', 29),\n",
    "                        ('0011010', 104),\n",
    "                        ('0011011', 109),\n",
    "                        ('0011100', 42),\n",
    "                        ('0011101', 47),\n",
    "                        ('0100000', 32),\n",
    "                        ('0100001', 37),\n",
    "                        ('0100010', 112),\n",
    "                        ('0100011', 117),\n",
    "                        ('0100100', 50),\n",
    "                        ('0100101', 55),\n",
    "                        ('0101000', 36),\n",
    "                        ('0101001', 41),\n",
    "                        ('0101010', 116),\n",
    "                        ('0101011', 121),\n",
    "                        ('0101100', 54),\n",
    "                        ('0101101', 59),\n",
    "                        ('0110000', 52),\n",
    "                        ('0110001', 57),\n",
    "                        ('0110010', 132),\n",
    "                        ('0110100', 70),\n",
    "                        ('0110101', 75),\n",
    "                        ('0111000', 56),\n",
    "                        ('0111001', 61),\n",
    "                        ('0111100', 74),\n",
    "                        ('0111101', 79),\n",
    "                        ('1000000', 114),\n",
    "                        ('1000001', 119),\n",
    "                        ('1001000', 118),\n",
    "                        ('1001001', 123)]"
   ]
  },
  {
   "cell_type": "markdown",
   "metadata": {},
   "source": [
    "#### Etape 3 : trouver la meilleure solution\n",
    "\n",
    "C'est très simple puisqu'il suffit de déterminer la combinaison valide de durée maximale. Cela revient donc à une recherche de maximum.\n",
    "\n",
    "**Question 9** : Ecrivez un programme permettant de trouver la solution optimale et sa durée totale."
   ]
  },
  {
   "cell_type": "code",
   "execution_count": null,
   "metadata": {},
   "outputs": [],
   "source": [
    "# à compléter\n",
    "\n"
   ]
  },
  {
   "cell_type": "markdown",
   "metadata": {},
   "source": [
    "Vous devez trouver que la solution optimale est la combinaison `'0110010'` d'une durée de 132 min.\n",
    "\n",
    "**Question 10** : Comparez la solution optimale et la solution gloutonne trouvée précédemment."
   ]
  },
  {
   "cell_type": "markdown",
   "metadata": {},
   "source": [
    "Réponse : "
   ]
  },
  {
   "cell_type": "markdown",
   "metadata": {},
   "source": [
    "**Question 11** : Ecrivez un programme permettant d'afficher une liste `liste_optimale` contenant les noms des vidéos correspondant à la solution optimale."
   ]
  },
  {
   "cell_type": "code",
   "execution_count": null,
   "metadata": {},
   "outputs": [],
   "source": [
    "liste_optimale = []\n",
    "# à compléter\n",
    "\n",
    "        \n",
    "print(\"la meilleure solution est de choisir :\", liste_optimale)"
   ]
  },
  {
   "cell_type": "markdown",
   "metadata": {},
   "source": [
    "---\n",
    "\n",
    "**Références :**\n",
    "- Documents ressources du DIU EIL, Université de Nantes, C. JERMANN.\n",
    "- Cours/exercices de J. DE VILLELE sur les algorithmes gloutons : [lien vers son archive](https://www.pearltrees.com/private/id30674052/item301173198?paccess=1790e9d8f0b.11f389ce.3d1d33b1d809130b99b175f5f7068f0e) pour l'exercice 1\n",
    "- Ressources Eduscol : [Le problème du sac à dos](https://cache.media.eduscol.education.fr/file/NSI/76/5/RA_Lycee_G_NSI_algo-sac-a-dos_1170765.pdf) pour l'exercice 5\n",
    "- Numérique et Sciences Informatiques, 1re, T. BALABONSKI, S. CONCHON, J.-C. FILLIATRE, K. NGUYEN, éditions ELLIPSES : [Site du livre](https://www.nsi-premiere.fr/) pour l'idée de l'exercice 4\n"
   ]
  },
  {
   "cell_type": "markdown",
   "metadata": {},
   "source": [
    "---\n",
    "Germain BECKER, Lycée Mounier, ANGERS ![Licence Creative Commons](https://i.creativecommons.org/l/by-nc-sa/4.0/88x31.png)"
   ]
  }
 ],
 "metadata": {
  "kernelspec": {
   "display_name": "Python 3",
   "language": "python",
   "name": "python3"
  },
  "language_info": {
   "codemirror_mode": {
    "name": "ipython",
    "version": 3
   },
   "file_extension": ".py",
   "mimetype": "text/x-python",
   "name": "python",
   "nbconvert_exporter": "python",
   "pygments_lexer": "ipython3",
   "version": "3.7.9"
  }
 },
 "nbformat": 4,
 "nbformat_minor": 2
}
