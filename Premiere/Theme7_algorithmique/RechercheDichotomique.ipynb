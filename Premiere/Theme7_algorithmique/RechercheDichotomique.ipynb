{
 "cells": [
  {
   "cell_type": "markdown",
   "id": "cellular-shell",
   "metadata": {},
   "source": [
    "<h1 style=\"font-size: 30px; text-align: center\">Recherche dichotomique</h1>\n",
    "\n",
    "---"
   ]
  },
  {
   "cell_type": "markdown",
   "id": "different-expense",
   "metadata": {},
   "source": [
    "L'objectif premier de ce TP est d'implémenter l'algorithme de recherche dichotomique et de visualiser son efficacité. Dans un second temps, vous l'appliquerez à des données mémorisées sous forme de tables. Pour terminer, un défi vous est lancé 😎.\n",
    "\n",
    "On va commencer par un rappel sur l'algorithme de recherche séquentielle."
   ]
  },
  {
   "cell_type": "markdown",
   "id": "brazilian-worst",
   "metadata": {},
   "source": [
    "# Algorithme de *recherche séquentielle*\n",
    "\n",
    "**Question 1** : Écrivez une fonction `recherche_sequentielle(v, T)` qui implémente l'algorithme de recherche séquentielle de la valeur `v` dans le tableau `T`. Cette fonction renvoie renvoie `True` si `v` appartient à `T`, et `False` sinon."
   ]
  },
  {
   "cell_type": "code",
   "execution_count": null,
   "id": "dying-accreditation",
   "metadata": {},
   "outputs": [],
   "source": [
    "# à vous de jouer !\n"
   ]
  },
  {
   "cell_type": "markdown",
   "id": "russian-graph",
   "metadata": {},
   "source": [
    "**Question 2** : Voici un jeu de tests à faire passer à votre fonction. Ce jeu de tests est incomplet car il ne couvre pas certains cas de figure importants. Ajoutez des tests pertinents et vérifiez qu'ils sont tous passés avec succès."
   ]
  },
  {
   "cell_type": "code",
   "execution_count": null,
   "id": "civic-encyclopedia",
   "metadata": {},
   "outputs": [],
   "source": [
    "assert recherche_sequentielle(1, [2, 3, 5, 1])\n",
    "assert recherche_sequentielle(1, [1, 3, 5, 2])\n",
    "# à compléter\n"
   ]
  },
  {
   "cell_type": "markdown",
   "id": "velvet-money",
   "metadata": {},
   "source": [
    "**Question 3** : On se place dans le pire cas, à savoir un tableau `T` contenant uniquement des zéros dans lequel on cherche la valeur 1. Il est nécessaire de parcourir tout le tableau `T` pour constater l'absence de la valeur cherchée.\n",
    "\n",
    "Le code ci-dessous permet de créer un tableau de 100 000 zéros. "
   ]
  },
  {
   "cell_type": "code",
   "execution_count": null,
   "id": "textile-birthday",
   "metadata": {},
   "outputs": [],
   "source": [
    "T = [0]*100000"
   ]
  },
  {
   "cell_type": "markdown",
   "id": "separated-strengthening",
   "metadata": {},
   "source": [
    "On va maintenant chercher la valeur `1` dans ce tableau tout en mesurant le temps pris par la recherche séquentielle.\n",
    "\n",
    ">Pour cela, on va utiliser la fonction `time` de la bibliothèque `time` qui permet de relever un temps dès qu'on l'appelle. En pratique, on va relever le temps avant de lancer la recherche puis juste après. Le temps mis par la recherche est alors la différence de ces deux temps. Il est exprimé en secondes.\n",
    "\n",
    "Exécutez le code suivant plusieurs fois et notez le temps moyen de la recherche."
   ]
  },
  {
   "cell_type": "code",
   "execution_count": null,
   "id": "permanent-literacy",
   "metadata": {},
   "outputs": [],
   "source": [
    "from time import time\n",
    "\n",
    "t0 = time() # on stocke dans t0 le temps de départ, avant le début de la recherche\n",
    "recherche_sequentielle(1, T)\n",
    "t1 = time() # on stocke dans t1 le temps de fin, juste après la recherche\n",
    "\n",
    "t1 - t0 # la différence est le temps (en SECONDES) mis par la recherche"
   ]
  },
  {
   "cell_type": "markdown",
   "id": "piano-threshold",
   "metadata": {},
   "source": [
    "*Réponse* : le temps moyen est approximativement ................ (à compléter)"
   ]
  },
  {
   "cell_type": "markdown",
   "id": "white-relation",
   "metadata": {},
   "source": [
    ">**Remarque** : on a pris soin de séparer la création du tableau de celle de la recherche pour ne pas être trompé par le temps de création du tableau qui peut être long pour des tailles importantes (même si le temps renvoyé est uniquement celui de la recherche)"
   ]
  },
  {
   "cell_type": "markdown",
   "id": "material-cheat",
   "metadata": {},
   "source": [
    "**Question 4** : Vérifiez que si on double la taille du tableau de départ, le temps de la recherche est approximativement doublé (on sépare la création du tableau de la recherche, comme précédemment)"
   ]
  },
  {
   "cell_type": "code",
   "execution_count": null,
   "id": "french-examination",
   "metadata": {},
   "outputs": [],
   "source": [
    "# création du tableau :\n"
   ]
  },
  {
   "cell_type": "code",
   "execution_count": null,
   "id": "democratic-brass",
   "metadata": {},
   "outputs": [],
   "source": [
    "# temps de la recherche :\n"
   ]
  },
  {
   "cell_type": "markdown",
   "id": "incomplete-stranger",
   "metadata": {},
   "source": [
    "*Réponse* : le temps moyen est approximativement ................ (à compléter)"
   ]
  },
  {
   "cell_type": "markdown",
   "id": "deluxe-humidity",
   "metadata": {},
   "source": [
    "**Question 5** : Qu'en est-il si on passe d'un tableau de 100 000 à 1 million de valeurs (10 fois plus grand) ? et à 10 millions de valeurs ? et à 1 milliard de valeurs"
   ]
  },
  {
   "cell_type": "code",
   "execution_count": null,
   "id": "constant-covering",
   "metadata": {},
   "outputs": [],
   "source": [
    "# création du tableau :\n"
   ]
  },
  {
   "cell_type": "code",
   "execution_count": null,
   "id": "meaning-perry",
   "metadata": {},
   "outputs": [],
   "source": [
    "# temps de la recherche :\n"
   ]
  },
  {
   "cell_type": "markdown",
   "id": "applied-rendering",
   "metadata": {},
   "source": [
    "*Réponse* : \n",
    "- pour un tableau de 1 million de valeurs, le temps moyen est approximativement ................ (à compléter)\n",
    "- pour un tableau de 10 millions de valeurs, le temps moyen est approximativement ................ (à compléter)\n",
    "- pour un tableau de 1 milliards de valeurs, 💣️💣️💣️💣️................ (à compléter)"
   ]
  },
  {
   "cell_type": "markdown",
   "id": "solved-progressive",
   "metadata": {},
   "source": [
    "# Algorithme de *recherche dichotomique*\n",
    "\n",
    "## Implémentation de l'algorithme\n",
    "\n",
    "**Question 6** : Écrivez une fonction `recherche_dichotomique(v, T)` qui renvoie :\n",
    "- une position de la valeur `v` dans le tableau `T`,\n",
    "- `None` si `v` ne s'y trouve pas."
   ]
  },
  {
   "cell_type": "code",
   "execution_count": null,
   "id": "herbal-cradle",
   "metadata": {},
   "outputs": [],
   "source": [
    "# à vous de jouer !\n"
   ]
  },
  {
   "cell_type": "markdown",
   "id": "dirty-bouquet",
   "metadata": {},
   "source": [
    "**Question 7** : Vérifiez les réponses aux trois exemples/exercices faits à la main dans le cours."
   ]
  },
  {
   "cell_type": "code",
   "execution_count": null,
   "id": "plain-insulation",
   "metadata": {},
   "outputs": [],
   "source": [
    "# à vous de jouer !\n",
    "# Exemple du cours\n"
   ]
  },
  {
   "cell_type": "code",
   "execution_count": null,
   "id": "declared-heavy",
   "metadata": {},
   "outputs": [],
   "source": [
    "# Exercice 1 du cours\n"
   ]
  },
  {
   "cell_type": "code",
   "execution_count": null,
   "id": "solved-authority",
   "metadata": {},
   "outputs": [],
   "source": [
    "# Exercice 2 du cours\n"
   ]
  },
  {
   "cell_type": "markdown",
   "id": "musical-blood",
   "metadata": {},
   "source": [
    "## Efficacité de l'algorithme\n",
    "\n",
    ">**Attention** : on rappelle que la recherche dichotomique s'applique sur un tableau **trié** (par ordre croissant avec notre implémentation).\n",
    "\n",
    "Comme précédemment, on va prendre un tableau constitué uniquement de zéros, qui est donc trié, et y chercher la valeur 1."
   ]
  },
  {
   "cell_type": "code",
   "execution_count": null,
   "id": "shared-broadcast",
   "metadata": {},
   "outputs": [],
   "source": [
    "# création du tableau\n",
    "T = [0]*100000"
   ]
  },
  {
   "cell_type": "markdown",
   "id": "julian-incident",
   "metadata": {},
   "source": [
    "**Question 8** : Mesurez le temps d'exécution de la recherche dichotomique de la valeur 1 dans ce tableau (cf. question 3 si besoin)."
   ]
  },
  {
   "cell_type": "code",
   "execution_count": null,
   "id": "enormous-withdrawal",
   "metadata": {},
   "outputs": [],
   "source": [
    "# à vous de jouer !\n",
    "# temps de la recherche :\n"
   ]
  },
  {
   "cell_type": "markdown",
   "id": "black-acting",
   "metadata": {},
   "source": [
    "*Réponse* : le temps moyen est approximativement ................ (à compléter)"
   ]
  },
  {
   "cell_type": "markdown",
   "id": "fluid-conducting",
   "metadata": {},
   "source": [
    "**Question 9** : Vérifiez que pour un tableau de taille 1 million puis de taille 10 millions la recherche dichotomique est instantanée (on sépare la création du tableau de la recherche, comme précédemment car la création est beaucoup plus longue que la recherche et on ne veut pas être influencé par cela)"
   ]
  },
  {
   "cell_type": "code",
   "execution_count": null,
   "id": "electronic-presentation",
   "metadata": {},
   "outputs": [],
   "source": [
    "# à vous de jouer !\n",
    "# création du tableau de taille 1 million\n"
   ]
  },
  {
   "cell_type": "code",
   "execution_count": null,
   "id": "differential-library",
   "metadata": {},
   "outputs": [],
   "source": [
    "# à vous de jouer !\n",
    "# temps de la recherche :\n"
   ]
  },
  {
   "cell_type": "code",
   "execution_count": null,
   "id": "humanitarian-picnic",
   "metadata": {},
   "outputs": [],
   "source": [
    "# à vous de jouer !\n",
    "# création du tableau de taille 10 millions (PEUT PRENDRE UN PEUT DE TEMPS SELON LA MACHINE)\n"
   ]
  },
  {
   "cell_type": "code",
   "execution_count": null,
   "id": "surprising-placement",
   "metadata": {},
   "outputs": [],
   "source": [
    "# à vous de jouer !\n",
    "# temps de la recherche :\n"
   ]
  },
  {
   "cell_type": "markdown",
   "id": "killing-parking",
   "metadata": {},
   "source": [
    ">⚙️ Pour des tailles supérieures de tableau, on dépasse rapidement les capacités mémoire d'une machine classique. Par exemple, sur un système 64 bits, chaque élément d'un tableau Python est codé sur 8 octets. Donc un tableau de 1 milliard de valeurs nécessite 8 milliards d'octets pour être  mémorisé, soit 8 Go de RAM nécessaire. Beaucoup d'ordinateur n'ont pas cette capacité de mémoire."
   ]
  },
  {
   "cell_type": "markdown",
   "id": "running-solomon",
   "metadata": {},
   "source": [
    "# Application aux tables de données\n",
    "\n",
    "Dans cette dernière partie, vous allez utiliser un jeu de données sur les communes françaises, leurs codes postaux et leurs coordonnées géographiques.\n",
    "\n",
    "Ce jeu de données ouvertes, mis à disposition par La Poste, se trouve dans le fichier `laposte_hexasmal.csv` dans le répertoire de ce Notebook. Il comporte plusieurs dizaines de milliers de lignes, chacune représentant une commune française."
   ]
  },
  {
   "cell_type": "markdown",
   "id": "severe-annual",
   "metadata": {},
   "source": [
    "## Analyse du jeu de données\n",
    "\n",
    "**Question 1** : Ouvrez ce fichier avec un tableur comme Calc en vérifiant que le caractère de séparation choisi est bien le point-virgule. *Vous pouvez télécharger le fichier sur [http://info-mounier.fr/premiere_nsi/algorithmique/](http://info-mounier.fr/premiere_nsi/algorithmique/) également si nécessaire*.\n",
    "\n",
    "Combien d'objets possède cette table ? (c'est le nombre de lignes, sans compter la première avec les descripteurs)"
   ]
  },
  {
   "cell_type": "markdown",
   "id": "original-developer",
   "metadata": {},
   "source": [
    "*Réponse* : (à compléter)"
   ]
  },
  {
   "cell_type": "markdown",
   "id": "about-bicycle",
   "metadata": {},
   "source": [
    "**Question 2** : Ce jeu de données est disponible en ligne à l'adresse [https://datanova.legroupe.laposte.fr/explore/dataset/laposte_hexasmal/](https://datanova.legroupe.laposte.fr/explore/dataset/laposte_hexasmal/). Rendez-vous à cette URL et donnez la signification de chaque descripteur de cette table."
   ]
  },
  {
   "cell_type": "markdown",
   "id": "dominican-payroll",
   "metadata": {},
   "source": [
    "*Réponse* : (à compléter)"
   ]
  },
  {
   "cell_type": "markdown",
   "id": "advanced-stake",
   "metadata": {},
   "source": [
    "## Rechercher une ville par son nom\n",
    "\n",
    "Avant de faire des recherches, on commence par importer la table dans un tableau de dictionnaires appelés `communes`."
   ]
  },
  {
   "cell_type": "code",
   "execution_count": null,
   "id": "amino-opinion",
   "metadata": {},
   "outputs": [],
   "source": [
    "import csv\n",
    "\n",
    "fichier = open('laposte_hexasmal.csv', 'r', encoding = 'UTF-8')\n",
    "table = csv.DictReader(fichier, delimiter=';')  # délimiteur = point-virgule\n",
    "communes = [dict(ligne) for ligne in table]  # chaque élément est un dictionnaire\n",
    "fichier.close()\n",
    "communes"
   ]
  },
  {
   "cell_type": "markdown",
   "id": "direct-gossip",
   "metadata": {},
   "source": [
    "On rappelle que l'on peut sélectionner les données de certains colonnes (on parle de *projection* sur les colonnes en question). Par exemple, si on veut construire un nouveau tableau `cp` ne contenant que les codes postaux des villes, on procède ainsi :"
   ]
  },
  {
   "cell_type": "code",
   "execution_count": null,
   "id": "reasonable-oxford",
   "metadata": {},
   "outputs": [],
   "source": [
    "cp = [c[\"Code_postal\"] for c in communes] # il faudrait convertir les CP en entiers si on voulait les comparer\n",
    "cp"
   ]
  },
  {
   "cell_type": "markdown",
   "id": "fantastic-medium",
   "metadata": {},
   "source": [
    "**Question 10** : En prenant exemple sur ce qui vient d'être fait, créez un tableau `noms_communes` ne contenant que les données sur les communes (la deuxième colonne de la table)."
   ]
  },
  {
   "cell_type": "code",
   "execution_count": null,
   "id": "express-berkeley",
   "metadata": {
    "scrolled": true
   },
   "outputs": [],
   "source": [
    "# à vous de jouer !\n"
   ]
  },
  {
   "cell_type": "markdown",
   "id": "primary-breast",
   "metadata": {},
   "source": [
    "### Recherche séquentielle\n",
    "\n",
    "**Question 11** : Utilisez la fonction `recherche_sequentielle` du début du notebook pour chercher une ville dans le tableau `noms_communes`. Écrivez les instructions permettant de calculer le temps mis pas la recherche (voir la question 3 si besoin pour rappel).\n",
    "\n",
    ">Attention :\n",
    ">- les noms des communes sont écrits en majuscules, sans accent, sans tiret, et les noms sont complets\n",
    ">- le jeu de données utilise les nouveaux noms de communes, en particulier les communes nouvelles résultant de la fusion de plusieurs communes"
   ]
  },
  {
   "cell_type": "code",
   "execution_count": null,
   "id": "aerial-emperor",
   "metadata": {},
   "outputs": [],
   "source": [
    "# à vous de jouer !\n"
   ]
  },
  {
   "cell_type": "markdown",
   "id": "false-webmaster",
   "metadata": {},
   "source": [
    "**Question 12** : Cherchez plusieurs communes (entre 5 et 10) et calculez le temps moyen mis par la recherche séquentielle."
   ]
  },
  {
   "cell_type": "markdown",
   "id": "undefined-flood",
   "metadata": {},
   "source": [
    "*Réponse* : le temps moyen pour une recherche est de ..........  ( à compléter)"
   ]
  },
  {
   "cell_type": "markdown",
   "id": "defensive-helping",
   "metadata": {},
   "source": [
    "**Question 13** : En supposant que ce temps est le temps moyen d'une recherche, combien de temps faudrait-il pour chercher 10 000 communes avec la recherche séquentielle ?  "
   ]
  },
  {
   "cell_type": "markdown",
   "id": "large-terrace",
   "metadata": {},
   "source": [
    "*Réponse* : temps approximatif nécessaire pour 10 000 recherches : ........... (à compléter)"
   ]
  },
  {
   "cell_type": "markdown",
   "id": "other-armor",
   "metadata": {},
   "source": [
    "**Et si on les faisait, ces 10 000 recherches ?**\n",
    "\n",
    ">👉 On va maintenant faire les 10 000 recherches et mesurer le temps nécessaire pour cela. Pour une fois, vous n'avez rien à faire, juste à lire ce qui suit et comparer le temps avec votre réponse à la question précédente."
   ]
  },
  {
   "cell_type": "markdown",
   "id": "russian-leisure",
   "metadata": {},
   "source": [
    "On peut commencer par choisir au hasard 10 000 communes dans le tableau `noms_communes`. \n",
    "\n",
    "Pour cela on peut utiliser la fonction `choices` de la bibliothèque `random` comme ci-dessous. On stocke les 10 000 communes choisies dans le tableau `communes_a_chercher`."
   ]
  },
  {
   "cell_type": "code",
   "execution_count": null,
   "id": "growing-dependence",
   "metadata": {},
   "outputs": [],
   "source": [
    "from random import choices\n",
    "communes_a_chercher = choices(noms_communes, k = 10000) # la valeur de k est le nombre d'éléments choisis au hasard\n",
    "communes_a_chercher # pour voir les villes choisies"
   ]
  },
  {
   "cell_type": "markdown",
   "id": "invalid-eating",
   "metadata": {},
   "source": [
    "On peut maintenant lancer la recherche pour chacune des 10 000 villes choisies et mesurer le temps que cela prend (plusieurs secondes, ne vous inquiétez pas !)"
   ]
  },
  {
   "cell_type": "code",
   "execution_count": null,
   "id": "unsigned-theater",
   "metadata": {},
   "outputs": [],
   "source": [
    "from time import time  #inutile si la fonction time est déjà chargée\n",
    "t0 = time() # temps de départ\n",
    "for c in communes_a_chercher:\n",
    "    recherche_sequentielle(c, noms_communes)\n",
    "t1 = time() # temps de fin\n",
    "t1-t0 # temps total en SECONDES"
   ]
  },
  {
   "cell_type": "markdown",
   "id": "initial-change",
   "metadata": {},
   "source": [
    "### Recherche dichotomique\n",
    "\n",
    "On va maintenant comparer cela à une recherche dichotomique. Qui dit recherche dichotomique dit tableau trié ! Il faut donc commencer par trier le tableau."
   ]
  },
  {
   "cell_type": "markdown",
   "id": "accurate-alpha",
   "metadata": {},
   "source": [
    "**Question 14** : En utilisant la fonction `sorted` de Python, créer un **nouveau tableau** appelé `noms_alphabetique` qui contient les données du tableau `noms_communes` triées par ordre alphabétique.\n",
    "\n",
    ">👉 Si besoin, référez-vous à [ceci](https://nbviewer.jupyter.org/github/germainbecker/NSI/blob/master/Premiere/Theme7_algorithmique/Activite_AlgorithmesTri.ipynb#Fonctions-de-tris-offertes-par-Python) ou [ceci](https://nbviewer.jupyter.org/github/germainbecker/NSI/blob/master/Premiere/Theme3_traitement_donnees_tables/TriTable.ipynb) ou [cela](http://info-mounier.fr/premiere_nsi/algorithmique/data/T7_C2_Tri_insertion_selection.pdf). "
   ]
  },
  {
   "cell_type": "code",
   "execution_count": null,
   "id": "completed-deadline",
   "metadata": {},
   "outputs": [],
   "source": [
    "# à vous de jouer !\n"
   ]
  },
  {
   "cell_type": "markdown",
   "id": "adjustable-patrol",
   "metadata": {},
   "source": [
    "**Question 15** : Écrivez les instructions permettant de calculer le temps nécessaire pour le tri. Quel est ce temps ? (on pourra faire une moyenne sur quelques exécutions)."
   ]
  },
  {
   "cell_type": "markdown",
   "id": "sixth-parish",
   "metadata": {},
   "source": [
    "*Réponse* : temps pour trier le tableau par ordre alphabétique : ........... (à compléter)"
   ]
  },
  {
   "cell_type": "markdown",
   "id": "decreased-bearing",
   "metadata": {},
   "source": [
    "**Question 16** : Utilisez la fonction `recherche_dichotomique` pour chercher une ville dans le tableau `noms_alphabetique` (**attention, on utilise le tableau trié !**). Écrivez les instructions permettant de calculer le temps mis pas la recherche dichotomique (voir la question 3 si besoin pour rappel).\n",
    "\n",
    ">Attention :\n",
    ">- les noms des communes sont écrits en majuscules, sans accent, sans tiret, et les noms sont complets\n",
    ">- le jeu de données utilise les nouveaux noms de communes, en particulier les communes nouvelles résultant de la fusion de plusieurs communes"
   ]
  },
  {
   "cell_type": "code",
   "execution_count": null,
   "id": "forty-sperm",
   "metadata": {},
   "outputs": [],
   "source": [
    "# à vous de jouer !\n"
   ]
  },
  {
   "cell_type": "markdown",
   "id": "employed-share",
   "metadata": {},
   "source": [
    ">Vous devez constater que la recherche est immédiate (0 ns la plupart du temps). On peut s'amuser à chercher un nombre plus important de villes."
   ]
  },
  {
   "cell_type": "markdown",
   "id": "western-simple",
   "metadata": {},
   "source": [
    "**Question 17** : Procédez comme ce qui suit la question 13 pour choisir 10 000 communes et lancer les 10 000 recherches dichotomiques. Quel temps est nécessaire pour les 10 000 recherches dichotomiques ?"
   ]
  },
  {
   "cell_type": "code",
   "execution_count": null,
   "id": "phantom-excitement",
   "metadata": {},
   "outputs": [],
   "source": [
    "# à vous de jouer !\n"
   ]
  },
  {
   "cell_type": "markdown",
   "id": "chicken-career",
   "metadata": {},
   "source": [
    "**BILAN** : \n",
    "1. À partir du tableau `communes` de départ, on a du trier le tableau avant d'effectuer les 10 000 recherches dichotomiques. Quel temps total (tri + recherches) cela prend-il ? (voir vos réponses questions 15 et 17).\n",
    "2. Comparez avec le temps nécessaire pour chercher les 10 000 communes par recherche séquentielle."
   ]
  },
  {
   "cell_type": "markdown",
   "id": "lesbian-guide",
   "metadata": {},
   "source": [
    "_Réponses_ : "
   ]
  },
  {
   "cell_type": "markdown",
   "id": "standing-favor",
   "metadata": {},
   "source": [
    "**Morale** : Pour rechercher par dichotomie, on doit d'abord trier le tableau, ce qui peut prendre du temps. Mais une fois les données triées, les recherches dichotomiques sont tellement plus efficaces, que le temps perdu à trier est très vite rattrapé. Ainsi, si on sait que l'on a beaucoup de recherche à effectuer, il est donc judicieux de d'abord trier le tableau afin de pouvoir appliquer l'algorithme de recherche dichotomique."
   ]
  },
  {
   "cell_type": "markdown",
   "id": "billion-journalist",
   "metadata": {},
   "source": [
    "# Défi bonus : rechercher puis placer une commune sur une carte\n",
    "\n",
    "<span style=\"font-size: 30px;\">😎</span> Écrivez une fonction `situer(commune)` qui prend en paramètre une `commune` (sous forme de chaîne de caractères) et qui affiche sur une carte un marqueur de la commune grâce à ses coordonnées GPS. \n",
    "\n",
    ">On imagine que cette fonction implémente une recherche sur une application de cartographie numérique, et donc beaucoup de recherches peuvent être lancées par les nombreux utilisateurs. On prendra donc le soin d'effectuer la recherche de la commune (pour trouver ses coordonnées GPS) dans un tableau préalablement trié. \n",
    "\n",
    "On pourra utiliser la bibliothèque `folium` dont voici la [documentation](https://python-visualization.github.io/folium/quickstart.html). Un peu d'aide néanmoins ci-dessous."
   ]
  },
  {
   "cell_type": "code",
   "execution_count": null,
   "id": "external-signal",
   "metadata": {},
   "outputs": [],
   "source": [
    "pip install folium # pour installer la bibliothèque folium si elle n'est pas déjà installée"
   ]
  },
  {
   "cell_type": "markdown",
   "id": "celtic-round",
   "metadata": {},
   "source": [
    "On peut créer une carte `carte` avec l'instruction qui suit dans laquelle :\n",
    "\n",
    "- le paramètre `location` permet de centrer la carte car il est égal aux coordonnées `[latitude, longitude]` du centre souhaité\n",
    "- le paramètre `zoom_start` permet de définir un niveau de zoom de départ (jouez avec cette valeur pour comprendre)\n",
    "\n",
    "On peut alors afficher la carte directement dans Jupyter en évaluant directement l'objet `carte`."
   ]
  },
  {
   "cell_type": "code",
   "execution_count": null,
   "id": "coordinate-ottawa",
   "metadata": {},
   "outputs": [],
   "source": [
    "import folium\n",
    "carte = folium.Map(location=[51.165691, 10.451526], zoom_start=6) # ici la carte est centrée sur l'Allemagne\n",
    "carte # pour voir la carte"
   ]
  },
  {
   "cell_type": "markdown",
   "id": "numerous-venice",
   "metadata": {},
   "source": [
    "On peut placer un marqueur sur la carte avec l'instruction suivante."
   ]
  },
  {
   "cell_type": "code",
   "execution_count": null,
   "id": "theoretical-deployment",
   "metadata": {},
   "outputs": [],
   "source": [
    "folium.Marker([51.165691, 10.451526], popup=\"Allemagne\").add_to(carte) # ajout d'un marqueur\n",
    "carte # pour voir la carte (le marqueur a été ajouté)"
   ]
  },
  {
   "cell_type": "markdown",
   "id": "confirmed-charge",
   "metadata": {},
   "source": [
    "---\n",
    "Germain BECKER & Sébastien POINT, Lycée Mounier, ANGERS\n",
    "\n",
    "Ressource éducative libre distribuée sous [Licence Creative Commons Attribution - Pas d’Utilisation Commerciale - Partage dans les Mêmes Conditions 4.0 International](http://creativecommons.org/licenses/by-nc-sa/4.0/) \n",
    "\n",
    "![Licence Creative Commons](https://i.creativecommons.org/l/by-nc-sa/4.0/88x31.png)"
   ]
  }
 ],
 "metadata": {
  "kernelspec": {
   "display_name": "Python 3",
   "language": "python",
   "name": "python3"
  },
  "language_info": {
   "codemirror_mode": {
    "name": "ipython",
    "version": 3
   },
   "file_extension": ".py",
   "mimetype": "text/x-python",
   "name": "python",
   "nbconvert_exporter": "python",
   "pygments_lexer": "ipython3",
   "version": "3.7.9"
  }
 },
 "nbformat": 4,
 "nbformat_minor": 5
}
