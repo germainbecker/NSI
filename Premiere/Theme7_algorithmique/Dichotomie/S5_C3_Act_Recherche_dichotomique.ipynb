{
 "cells": [
  {
   "cell_type": "markdown",
   "metadata": {},
   "source": [
    "# Recherche dichotomique\n",
    "\n",
    "Voici l'algorithme de recherche dichotomique vu dans le cours"
   ]
  },
  {
   "cell_type": "code",
   "execution_count": 1,
   "metadata": {},
   "outputs": [],
   "source": [
    "def recherche_dichotomique(v, T):\n",
    "    \"\"\"renvoie une position de v dans le tableau T,\n",
    "    supposé trié, et None si v ne s'y trouve pas\"\"\"\n",
    "    g = 0\n",
    "    d = len(T) - 1\n",
    "    while g <= d:\n",
    "        m = (g + d) // 2\n",
    "        if v < T[m]:\n",
    "            d = m - 1\n",
    "        elif v > T[m]:\n",
    "            g = m + 1\n",
    "        else:\n",
    "            return m\n",
    "    return None"
   ]
  },
  {
   "cell_type": "markdown",
   "metadata": {},
   "source": [
    "**Exercice 1**\n",
    "\n",
    "Quelles sont les instructions à écrire pour vérifier vos réponses aux exercices 9 et 10 ?"
   ]
  },
  {
   "cell_type": "code",
   "execution_count": null,
   "metadata": {},
   "outputs": [],
   "source": []
  },
  {
   "cell_type": "markdown",
   "metadata": {},
   "source": [
    "**Exercice 2**\n",
    "1. Modifiez la fonction `recherche_dichotomique(v, T)` pour afficher le nombre total de tours de boucle effectués par l'algorithme."
   ]
  },
  {
   "cell_type": "code",
   "execution_count": null,
   "metadata": {},
   "outputs": [],
   "source": []
  },
  {
   "cell_type": "markdown",
   "metadata": {},
   "source": [
    "2. Lancez le programme sur des tableaux de taille différentes (par exemple, 100, 1000, etc.) et observez le nombre de tours affichés. On pourra par exemple chercher la valeur 1 dans un tableau ne contenant que des valeurs 0, ce qui correspond au pire cas."
   ]
  },
  {
   "cell_type": "code",
   "execution_count": null,
   "metadata": {},
   "outputs": [],
   "source": []
  },
  {
   "cell_type": "markdown",
   "metadata": {},
   "source": [
    "**Exercice 3**\n",
    "\n",
    "Ecrivez une fonction `nb_de_tours(n)` qui renvoie le plus petit entier `k` tel que `2^k > n`, c'est-à-dire le nombre maximal de valeurs examinées par la recherche dichotomique dans un tableau de taille `n`."
   ]
  },
  {
   "cell_type": "code",
   "execution_count": null,
   "metadata": {},
   "outputs": [],
   "source": []
  }
 ],
 "metadata": {
  "kernelspec": {
   "display_name": "Python 3",
   "language": "python",
   "name": "python3"
  },
  "language_info": {
   "codemirror_mode": {
    "name": "ipython",
    "version": 3
   },
   "file_extension": ".py",
   "mimetype": "text/x-python",
   "name": "python",
   "nbconvert_exporter": "python",
   "pygments_lexer": "ipython3",
   "version": "3.7.3"
  }
 },
 "nbformat": 4,
 "nbformat_minor": 2
}
