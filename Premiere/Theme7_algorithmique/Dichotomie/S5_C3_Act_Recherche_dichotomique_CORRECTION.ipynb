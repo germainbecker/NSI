{
 "cells": [
  {
   "cell_type": "markdown",
   "metadata": {},
   "source": [
    "# Recherche dichotomique\n",
    "\n",
    "Voici l'algorithme de recherche dichotomique vu dans le cours"
   ]
  },
  {
   "cell_type": "code",
   "execution_count": 1,
   "metadata": {},
   "outputs": [],
   "source": [
    "def recherche_dichotomique(v, T):\n",
    "    \"\"\"renvoie une position de v dans le tableau T,\n",
    "    supposé trié, et None si v ne s'y trouve pas\"\"\"\n",
    "    g = 0\n",
    "    d = len(T) - 1\n",
    "    while g <= d:\n",
    "        m = (g + d) // 2\n",
    "        if v < T[m]:\n",
    "            d = m - 1\n",
    "        elif v > T[m]:\n",
    "            g = m + 1\n",
    "        else:\n",
    "            return m\n",
    "    return None"
   ]
  },
  {
   "cell_type": "markdown",
   "metadata": {},
   "source": [
    "**Exercice 1**\n",
    "\n",
    "Quelles sont les instructions à écrire pour vérifier vos réponses aux exercices 9 et 10 ?"
   ]
  },
  {
   "cell_type": "code",
   "execution_count": 3,
   "metadata": {},
   "outputs": [
    {
     "data": {
      "text/plain": [
       "8"
      ]
     },
     "execution_count": 3,
     "metadata": {},
     "output_type": "execute_result"
    }
   ],
   "source": [
    "# EXERCICE 9\n",
    "recherche_dichotomique(9, [1, 2, 2, 5, 6, 6, 7, 9, 9, 10, 10, 13, 13, 15])"
   ]
  },
  {
   "cell_type": "code",
   "execution_count": 4,
   "metadata": {},
   "outputs": [],
   "source": [
    "# EXERCICE 10\n",
    "recherche_dichotomique(3, [1, 1, 2, 4, 5, 6, 6, 7, 9, 10, 10, 13])"
   ]
  },
  {
   "cell_type": "markdown",
   "metadata": {},
   "source": [
    "**Exercice 2**\n",
    "1. Modifiez la fonction `recherche_dichotomique(v, T)` pour afficher le nombre total de tours de boucle effectués par l'algorithme."
   ]
  },
  {
   "cell_type": "code",
   "execution_count": 24,
   "metadata": {},
   "outputs": [],
   "source": [
    "def recherche_dichotomique_nb_tours(v, T):\n",
    "    \"\"\"renvoie une position de v dans le tableau T,\n",
    "    supposé trié, et None si v ne s'y trouve pas\"\"\"\n",
    "    g = 0\n",
    "    d = len(T) - 1\n",
    "    nb_tours = 0  # AJOUT ICI\n",
    "    while g <= d:\n",
    "        nb_tours = nb_tours + 1 # ET ICI\n",
    "        m = (g + d) // 2\n",
    "        if v < T[m]:\n",
    "            d = m - 1\n",
    "        elif v > T[m]:\n",
    "            g = m + 1\n",
    "        else:\n",
    "            print(\"nombre de tours effectués : \", nb_tours) # on affiche le nombre de tours avant de renvoyer la valeur\n",
    "            return m\n",
    "    print(\"nombre de tours effectués : \", nb_tours) # on affiche le nombre de tours avant de renvoyer None\n",
    "    return None"
   ]
  },
  {
   "cell_type": "markdown",
   "metadata": {},
   "source": [
    "2. Lancez le programme sur des tableaux de taille différentes (par exemple, 100, 1000, etc.) et observez le nombre de tours affichés. On pourra par exemple chercher la valeur 1 dans un tableau ne contenant que des valeurs 0, ce qui correspond au pire cas."
   ]
  },
  {
   "cell_type": "code",
   "execution_count": 25,
   "metadata": {},
   "outputs": [
    {
     "name": "stdout",
     "output_type": "stream",
     "text": [
      "nombre de tours effectués :  7\n"
     ]
    }
   ],
   "source": [
    "# Pour un tableau de taille 100 (ON TROUVE LA REPONSE A l'EXERCICE 13)\n",
    "tab = [0]*100\n",
    "recherche_dichotomique_nb_tours(1, tab)"
   ]
  },
  {
   "cell_type": "code",
   "execution_count": 26,
   "metadata": {},
   "outputs": [
    {
     "name": "stdout",
     "output_type": "stream",
     "text": [
      "nombre de tours effectués :  10\n"
     ]
    }
   ],
   "source": [
    "# Pour un tableau de taille 1000\n",
    "tab = [0]*1000\n",
    "recherche_dichotomique_nb_tours(1, tab)"
   ]
  },
  {
   "cell_type": "code",
   "execution_count": 27,
   "metadata": {},
   "outputs": [
    {
     "name": "stdout",
     "output_type": "stream",
     "text": [
      "nombre de tours effectués :  14\n"
     ]
    }
   ],
   "source": [
    "# Pour un tableau de taille 10000\n",
    "tab = [0]*10000\n",
    "recherche_dichotomique_nb_tours(1, tab)"
   ]
  },
  {
   "cell_type": "code",
   "execution_count": 28,
   "metadata": {},
   "outputs": [
    {
     "name": "stdout",
     "output_type": "stream",
     "text": [
      "nombre de tours effectués :  20\n"
     ]
    }
   ],
   "source": [
    "# Pour un tableau de taille 1 000 000\n",
    "tab = [0]*1000000\n",
    "recherche_dichotomique_nb_tours(1, tab)"
   ]
  },
  {
   "cell_type": "code",
   "execution_count": 29,
   "metadata": {
    "scrolled": true
   },
   "outputs": [
    {
     "name": "stdout",
     "output_type": "stream",
     "text": [
      "nombre de tours effectués :  26\n"
     ]
    }
   ],
   "source": [
    "# Pour un tableau de taille 60 000 000  (ON TROUVE LA REPONSE A l'EXERCICE 14)\n",
    "tab = [0]*60000000\n",
    "recherche_dichotomique_nb_tours(1, tab)"
   ]
  },
  {
   "cell_type": "markdown",
   "metadata": {},
   "source": [
    "On peut aussi vérifier les réponses des exercices 11 et 12 :"
   ]
  },
  {
   "cell_type": "code",
   "execution_count": 30,
   "metadata": {},
   "outputs": [
    {
     "name": "stdout",
     "output_type": "stream",
     "text": [
      "nombre de tours effectués :  3\n"
     ]
    }
   ],
   "source": [
    "# Exercice 11\n",
    "recherche_dichotomique_nb_tours(7, [0,1,1,2,3,5,8,13,21]) "
   ]
  },
  {
   "cell_type": "code",
   "execution_count": 31,
   "metadata": {},
   "outputs": [
    {
     "name": "stdout",
     "output_type": "stream",
     "text": [
      "nombre de tours effectués :  5\n"
     ]
    }
   ],
   "source": [
    "# Exercice 12\n",
    "recherche_dichotomique_nb_tours(1, [0,0,0,0,0,0,0,0,0,0,0,0,0,0,0,0])"
   ]
  },
  {
   "cell_type": "code",
   "execution_count": 32,
   "metadata": {},
   "outputs": [
    {
     "name": "stdout",
     "output_type": "stream",
     "text": [
      "nombre de tours effectués :  5\n"
     ]
    },
    {
     "data": {
      "text/plain": [
       "15"
      ]
     },
     "execution_count": 32,
     "metadata": {},
     "output_type": "execute_result"
    }
   ],
   "source": [
    "# Exercice 12\n",
    "recherche_dichotomique_nb_tours(2, [1,1,1,1,1,1,1,1,1,1,1,1,1,1,1,2])"
   ]
  },
  {
   "cell_type": "markdown",
   "metadata": {},
   "source": [
    "**Exercice 3**\n",
    "\n",
    "Ecrivez une fonction `nb_de_tours(n)` qui renvoie le plus petit entier `k` tel que `2^k > n`, c'est-à-dire le nombre maximal de valeurs examinées par la recherche dichotomique dans un tableau de taille `n`."
   ]
  },
  {
   "cell_type": "code",
   "execution_count": 33,
   "metadata": {},
   "outputs": [],
   "source": [
    "def nb_de_tours(n):\n",
    "    k = 1\n",
    "    while 2**k <= n:\n",
    "        k = k + 1\n",
    "    return k"
   ]
  },
  {
   "cell_type": "code",
   "execution_count": 34,
   "metadata": {},
   "outputs": [
    {
     "data": {
      "text/plain": [
       "7"
      ]
     },
     "execution_count": 34,
     "metadata": {},
     "output_type": "execute_result"
    }
   ],
   "source": [
    "nb_de_tours(100)"
   ]
  },
  {
   "cell_type": "code",
   "execution_count": 35,
   "metadata": {},
   "outputs": [
    {
     "data": {
      "text/plain": [
       "26"
      ]
     },
     "execution_count": 35,
     "metadata": {},
     "output_type": "execute_result"
    }
   ],
   "source": [
    "nb_de_tours(60000000)"
   ]
  },
  {
   "cell_type": "code",
   "execution_count": null,
   "metadata": {},
   "outputs": [],
   "source": []
  }
 ],
 "metadata": {
  "kernelspec": {
   "display_name": "Python 3",
   "language": "python",
   "name": "python3"
  },
  "language_info": {
   "codemirror_mode": {
    "name": "ipython",
    "version": 3
   },
   "file_extension": ".py",
   "mimetype": "text/x-python",
   "name": "python",
   "nbconvert_exporter": "python",
   "pygments_lexer": "ipython3",
   "version": "3.7.3"
  }
 },
 "nbformat": 4,
 "nbformat_minor": 2
}
