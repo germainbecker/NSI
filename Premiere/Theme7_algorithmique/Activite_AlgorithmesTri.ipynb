{
 "cells": [
  {
   "cell_type": "markdown",
   "metadata": {},
   "source": [
    "<h1 style=\"font-size: 30px; text-align: center\">Les algorithmes de tri en pratique</h1>\n",
    "\n",
    "---"
   ]
  },
  {
   "cell_type": "markdown",
   "metadata": {},
   "source": [
    "**NOM / Prénom** : *écrivez ici votre nom et votre prénom*"
   ]
  },
  {
   "cell_type": "markdown",
   "metadata": {},
   "source": [
    "**Objectifs** :\n",
    "- Observer expérimentalement le coût quadratique des algorithmes de tri par insertion et par sélection\n",
    "- Constater l'inefficacité de ces deux algorithmes élémentaires dès que le tableau est trop grand\n",
    "- Découvrir les fonctions de tri (efficace) offertes par Python\n",
    "- (Optionnel : observer expérimentalement l'influence du tableau de départ (pire cas / meilleur cas) sur le temps d'exécution d'un tri par insertion/sélection)"
   ]
  },
  {
   "cell_type": "markdown",
   "metadata": {},
   "source": [
    "# Les tris par insertion et par sélection ont un coût quadratique\n",
    "\n",
    "## Implémentation des deux tris\n",
    "\n",
    "On commence par rappeler l'implémentation des deux algorithmes de tri par insertion et de tri par sélection."
   ]
  },
  {
   "cell_type": "code",
   "execution_count": 25,
   "metadata": {},
   "outputs": [],
   "source": [
    "# ------ TRI PAR INSERTION --------\n",
    "\n",
    "def tri_insertion(T):\n",
    "    \"\"\"\n",
    "    Trie le tableau T dans l'ordre croissant.\n",
    "    Paramètre : T est un tableau non vide\n",
    "    Sortie : aucune (car le tableau est T trié en place).\n",
    "    \"\"\"\n",
    "    for i in range(1,len(T)):\n",
    "        x = T[i]                    # x = T[i] est l'élément à insérer\n",
    "        # décalages nécessaires et recherche position d'insertion pour T[i]\n",
    "        j = i                       # j est la position d'insertion\n",
    "        while j > 0 and x < T[j-1]: # tant qu'on n'a pas atteint le premier  \n",
    "                                    # et T[i] est plus petit que ses précédents\n",
    "            T[j] = T[j-1]           # on décale vers la droite le précédent\n",
    "            j = j - 1               # on passe à la position précédente\n",
    "        # insertion de T[i] en position j\n",
    "        T[j] = x                    \n",
    "        \n",
    "# ------ TRI PAR SELECTION --------\n",
    "\n",
    "def echange(T, i, j):\n",
    "    \"\"\"Echange T[i] et T[j]\"\"\"\n",
    "    temp = T[i]\n",
    "    T[i] = T[j]\n",
    "    T[j] = temp\n",
    "\n",
    "def tri_selection(T):\n",
    "    \"\"\"\n",
    "    Trie le tableau T dans l'ordre croissant.\n",
    "    Paramètre : T est un tableau non vide\n",
    "    Sortie : aucune (car le tableau est T trié en place).\n",
    "    \"\"\"\n",
    "    for i in range(len(T)-1):        \n",
    "        # recherche de l'indice du minimum dans T[i:n-1]\n",
    "        ind_min = i\n",
    "        for j in range(i+1, len(T)):\n",
    "            if T[j] < T[ind_min]:\n",
    "                ind_min = j        \n",
    "        # échange avec l'élément d'indice i\n",
    "        echange(T, i, ind_min)"
   ]
  },
  {
   "cell_type": "markdown",
   "metadata": {},
   "source": [
    "On peut alors tester les deux fonctions."
   ]
  },
  {
   "cell_type": "code",
   "execution_count": 26,
   "metadata": {},
   "outputs": [
    {
     "data": {
      "text/plain": [
       "[0, 1, 1, 2, 3, 4, 5, 7, 8, 10]"
      ]
     },
     "execution_count": 26,
     "metadata": {},
     "output_type": "execute_result"
    }
   ],
   "source": [
    "tab = [4, 1, 7, 8, 1, 0, 2, 3, 5, 10]\n",
    "tri_insertion(tab)\n",
    "tab"
   ]
  },
  {
   "cell_type": "code",
   "execution_count": 27,
   "metadata": {},
   "outputs": [
    {
     "data": {
      "text/plain": [
       "[0, 1, 1, 2, 3, 4, 5, 7, 8, 10]"
      ]
     },
     "execution_count": 27,
     "metadata": {},
     "output_type": "execute_result"
    }
   ],
   "source": [
    "tab = [4, 1, 7, 8, 1, 0, 2, 3, 5, 10]\n",
    "tri_selection(tab)\n",
    "tab"
   ]
  },
  {
   "cell_type": "markdown",
   "metadata": {},
   "source": [
    "**Question 1** : Au moyen de `assert`, proposez un jeu de tests pour ces deux fonctions."
   ]
  },
  {
   "cell_type": "code",
   "execution_count": null,
   "metadata": {},
   "outputs": [],
   "source": [
    "# à vous de jouer !\n"
   ]
  },
  {
   "cell_type": "markdown",
   "metadata": {},
   "source": [
    "## Efficacité des tris\n",
    "\n",
    "Sans chercher pour commencer à se placer dans un pire cas, regardons d'abord l'efficacité des deux algorithmes en évaluant leur temps d'exécution sur des tableaux de plus en plus grand.\n",
    "\n",
    "### Tableaux de taille 100 pour démarrer\n",
    "\n",
    "On va générer des tableaux d'entiers aléatoirement choisis entre 0 et 100. On aura besoin pour cela de la fonction `randint` du module `random`."
   ]
  },
  {
   "cell_type": "code",
   "execution_count": 28,
   "metadata": {},
   "outputs": [],
   "source": [
    "from random import randint  # à exécuter pour importer la fonction randint"
   ]
  },
  {
   "cell_type": "markdown",
   "metadata": {},
   "source": [
    "Pour construire un tableau aléatoire de taille 100, on peut procéder par compréhension comme ci-dessous :"
   ]
  },
  {
   "cell_type": "code",
   "execution_count": 37,
   "metadata": {},
   "outputs": [
    {
     "name": "stdout",
     "output_type": "stream",
     "text": [
      "[4, 47, 45, 88, 30, 67, 56, 31, 7, 55, 9, 0, 70, 74, 2, 67, 15, 30, 95, 15, 64, 78, 94, 85, 46, 38, 90, 21, 5, 53, 21, 90, 46, 19, 78, 63, 69, 65, 63, 91, 32, 18, 36, 26, 3, 36, 32, 35, 70, 48, 47, 1, 11, 22, 0, 79, 99, 91, 68, 31, 87, 33, 9, 57, 8, 80, 50, 6, 28, 32, 26, 19, 63, 98, 15, 21, 62, 40, 58, 19, 64, 55, 16, 1, 0, 82, 61, 85, 52, 99, 68, 44, 28, 64, 99, 27, 60, 80, 28, 87]\n",
      "[0, 0, 0, 1, 1, 2, 3, 4, 5, 6, 7, 8, 9, 9, 11, 15, 15, 15, 16, 18, 19, 19, 19, 21, 21, 21, 22, 26, 26, 27, 28, 28, 28, 30, 30, 31, 31, 32, 32, 32, 33, 35, 36, 36, 38, 40, 44, 45, 46, 46, 47, 47, 48, 50, 52, 53, 55, 55, 56, 57, 58, 60, 61, 62, 63, 63, 63, 64, 64, 64, 65, 67, 67, 68, 68, 69, 70, 70, 74, 78, 78, 79, 80, 80, 82, 85, 85, 87, 87, 88, 90, 90, 91, 91, 94, 95, 98, 99, 99, 99]\n"
     ]
    }
   ],
   "source": [
    "t100 = [randint(0, 100) for i in range(100)] # création d'un tableau de taille 100 contenant des entiers de 0 à 100.\n",
    "print(t100) # tableau avant tri\n",
    "tri_insertion(t100)  # tri du tableau\n",
    "print(t100) # tableau après tri"
   ]
  },
  {
   "cell_type": "markdown",
   "metadata": {},
   "source": [
    "**Attention** : à chaque exécution, un nouveau tableau est généré. Exécutez à nouveau la cellule précédente pour vous en rendre compte."
   ]
  },
  {
   "cell_type": "markdown",
   "metadata": {},
   "source": [
    "Pour connaître le temps d'exécution pour trier ce tableau, on peut utiliser la commande magique `%time` qui permet de *chronométrer* le temps nécessaire pour exécuter l'instruction qui la suit directement (et qui est réellement exécutée !)\n",
    "\n",
    "> Écrire `%times instruction` exécute `instruction` et affiche son temps d'exécution dans la console."
   ]
  },
  {
   "cell_type": "code",
   "execution_count": 59,
   "metadata": {},
   "outputs": [
    {
     "name": "stdout",
     "output_type": "stream",
     "text": [
      "[54, 50, 23, 91, 14, 0, 19, 74, 65, 41, 42, 44, 46, 91, 40, 19, 71, 37, 51, 58, 24, 94, 33, 16, 68, 73, 68, 19, 64, 69, 15, 48, 43, 75, 25, 22, 31, 5, 78, 12, 19, 32, 7, 76, 19, 66, 27, 29, 30, 93, 58, 95, 49, 73, 24, 86, 82, 100, 48, 83, 4, 76, 57, 35, 22, 77, 48, 99, 93, 95, 61, 24, 38, 23, 12, 49, 74, 50, 59, 64, 21, 67, 6, 89, 82, 60, 81, 84, 2, 91, 100, 89, 51, 74, 98, 91, 0, 29, 12, 13]\n",
      "Wall time: 0 ns\n",
      "[0, 0, 2, 4, 5, 6, 7, 12, 12, 12, 13, 14, 15, 16, 19, 19, 19, 19, 19, 21, 22, 22, 23, 23, 24, 24, 24, 25, 27, 29, 29, 30, 31, 32, 33, 35, 37, 38, 40, 41, 42, 43, 44, 46, 48, 48, 48, 49, 49, 50, 50, 51, 51, 54, 57, 58, 58, 59, 60, 61, 64, 64, 65, 66, 67, 68, 68, 69, 71, 73, 73, 74, 74, 74, 75, 76, 76, 77, 78, 81, 82, 82, 83, 84, 86, 89, 89, 91, 91, 91, 91, 93, 93, 94, 95, 95, 98, 99, 100, 100]\n"
     ]
    }
   ],
   "source": [
    "t100 = [randint(0, 100) for i in range(100)]\n",
    "print(t100)\n",
    "%time tri_insertion(t100)  # exécute l'instruction et mesure son temps d'exécution\n",
    "print(t100)"
   ]
  },
  {
   "cell_type": "markdown",
   "metadata": {},
   "source": [
    "**Question 2** : Exécutez plusieurs fois la cellule ci-dessus pour vérifier que le tri se fait rapidement, en quelques nanosecondes (1 ns = $10^{-9}$ s), microsecondes (1 µs = $10^{-6}$ s) ou millisecondes (1 ms = $10^{-6}$ s). Pourquoi obtient-on des résultats légèrement différents d'un tableau à l'autre ?"
   ]
  },
  {
   "cell_type": "markdown",
   "metadata": {},
   "source": [
    "Votre réponse : (**à compléter**)"
   ]
  },
  {
   "cell_type": "markdown",
   "metadata": {},
   "source": [
    ">**Remarque** : Sans entrer dans les détails, sachez également que ces temps de calcul dépendent aussi de la puissance de la machine qui exécute le code. Cela donne toutefois une bonne indication."
   ]
  },
  {
   "cell_type": "markdown",
   "metadata": {},
   "source": [
    "**Question 3** : Procédez de même pour évaluer le temps d'un **tri par sélection** d'un tableau de taille 100. *Vous devez constater des temps du même ordre de grandeur*."
   ]
  },
  {
   "cell_type": "code",
   "execution_count": 257,
   "metadata": {},
   "outputs": [],
   "source": [
    "# à vous de jouer !\n"
   ]
  },
  {
   "cell_type": "markdown",
   "metadata": {},
   "source": [
    "### Tableaux de taille 1000\n",
    "\n",
    "On peut créer un tableau `t1000` de taille 1000 en modifiant uniquement la valeur du `range`. Et on peut voir le temps pour trier un tel tableau."
   ]
  },
  {
   "cell_type": "code",
   "execution_count": 172,
   "metadata": {
    "scrolled": true
   },
   "outputs": [
    {
     "name": "stdout",
     "output_type": "stream",
     "text": [
      "[81, 89, 99, 38, 35, 91, 3, 38, 79, 53, 39, 83, 81, 57, 96, 72, 34, 72, 72, 29, 35, 42, 96, 98, 4, 96, 89, 55, 94, 5, 86, 40, 94, 52, 88, 37, 9, 89, 31, 72, 11, 2, 92, 36, 22, 84, 76, 87, 97, 79, 87, 6, 82, 73, 32, 38, 23, 58, 78, 39, 61, 45, 76, 48, 29, 48, 63, 85, 94, 37, 68, 95, 24, 66, 15, 20, 20, 21, 93, 30, 9, 24, 63, 80, 64, 81, 37, 70, 41, 23, 87, 98, 45, 80, 21, 77, 83, 32, 48, 62, 78, 79, 98, 64, 49, 36, 54, 95, 42, 44, 88, 31, 79, 7, 49, 18, 11, 70, 100, 65, 48, 97, 38, 4, 88, 34, 97, 8, 91, 15, 79, 26, 100, 96, 15, 42, 83, 11, 78, 58, 31, 40, 41, 100, 99, 93, 17, 50, 32, 25, 75, 95, 79, 75, 94, 55, 88, 99, 99, 0, 38, 100, 97, 58, 43, 87, 93, 92, 62, 12, 54, 13, 32, 31, 41, 63, 71, 70, 73, 76, 5, 39, 81, 77, 48, 36, 61, 24, 23, 71, 78, 35, 62, 87, 95, 37, 37, 11, 77, 26, 78, 62, 37, 37, 12, 5, 97, 88, 55, 82, 69, 69, 21, 56, 57, 12, 77, 7, 8, 83, 47, 92, 46, 71, 58, 70, 40, 61, 9, 56, 18, 0, 39, 11, 38, 2, 36, 33, 18, 60, 80, 68, 57, 62, 91, 34, 56, 47, 11, 67, 4, 22, 87, 2, 77, 3, 91, 24, 26, 63, 97, 38, 39, 64, 60, 51, 23, 99, 79, 12, 9, 92, 22, 43, 26, 25, 59, 46, 3, 73, 70, 6, 40, 12, 68, 39, 67, 76, 83, 87, 10, 79, 41, 14, 53, 43, 7, 27, 77, 41, 52, 91, 8, 77, 93, 76, 88, 69, 90, 55, 23, 82, 41, 25, 2, 36, 58, 2, 43, 21, 53, 47, 6, 95, 16, 15, 50, 29, 10, 53, 26, 49, 64, 7, 40, 33, 11, 8, 54, 43, 97, 28, 15, 3, 43, 66, 61, 61, 89, 74, 32, 98, 8, 26, 74, 77, 13, 87, 51, 29, 58, 15, 58, 95, 63, 0, 37, 47, 34, 85, 75, 71, 87, 4, 51, 80, 0, 75, 87, 22, 35, 79, 61, 88, 30, 17, 30, 22, 38, 51, 65, 65, 21, 80, 79, 24, 95, 45, 100, 7, 86, 79, 99, 32, 42, 7, 92, 64, 85, 53, 60, 56, 60, 64, 25, 40, 89, 78, 0, 56, 42, 55, 14, 5, 17, 38, 67, 56, 97, 72, 73, 74, 44, 55, 90, 14, 86, 35, 89, 38, 90, 51, 17, 37, 52, 29, 3, 80, 35, 2, 45, 36, 26, 23, 78, 33, 9, 74, 67, 70, 65, 98, 72, 79, 44, 62, 56, 66, 11, 22, 84, 32, 74, 32, 56, 57, 14, 99, 37, 74, 3, 59, 29, 5, 86, 28, 52, 30, 53, 49, 97, 75, 4, 61, 6, 15, 83, 65, 36, 42, 7, 76, 63, 22, 82, 54, 78, 26, 57, 50, 89, 54, 89, 72, 69, 16, 44, 89, 24, 48, 6, 48, 41, 45, 95, 71, 46, 15, 56, 58, 63, 25, 60, 59, 97, 56, 5, 96, 38, 68, 55, 8, 40, 38, 7, 82, 89, 34, 52, 95, 21, 58, 74, 48, 41, 77, 60, 90, 53, 46, 25, 80, 85, 26, 5, 8, 89, 69, 89, 47, 93, 43, 100, 50, 47, 66, 63, 95, 77, 99, 19, 51, 100, 89, 0, 7, 5, 82, 37, 85, 56, 73, 88, 45, 87, 67, 52, 91, 42, 7, 69, 36, 32, 32, 63, 78, 63, 50, 41, 2, 59, 76, 90, 74, 17, 87, 78, 24, 94, 65, 87, 97, 22, 84, 4, 29, 96, 0, 17, 70, 100, 77, 16, 56, 97, 30, 88, 73, 58, 13, 9, 32, 0, 39, 85, 49, 37, 44, 67, 38, 5, 33, 64, 2, 6, 69, 3, 36, 44, 13, 34, 77, 75, 60, 55, 21, 57, 77, 5, 8, 38, 5, 88, 23, 34, 23, 4, 52, 24, 92, 2, 38, 93, 60, 32, 64, 25, 90, 30, 76, 21, 27, 3, 28, 37, 47, 23, 74, 6, 34, 80, 71, 40, 12, 68, 69, 64, 28, 54, 71, 34, 22, 49, 1, 33, 32, 13, 41, 60, 59, 84, 42, 39, 89, 100, 83, 9, 42, 52, 1, 64, 87, 20, 28, 99, 69, 27, 88, 65, 50, 31, 28, 66, 12, 82, 18, 32, 92, 56, 86, 93, 2, 54, 55, 10, 44, 47, 19, 99, 32, 12, 1, 40, 70, 89, 11, 51, 20, 14, 100, 84, 60, 59, 62, 81, 94, 4, 40, 96, 56, 48, 49, 22, 98, 85, 94, 24, 20, 35, 35, 100, 67, 65, 76, 49, 37, 83, 98, 4, 45, 41, 39, 32, 27, 95, 20, 66, 71, 13, 84, 43, 53, 7, 71, 26, 77, 78, 52, 7, 55, 6, 32, 39, 93, 5, 64, 91, 75, 71, 21, 39, 2, 14, 89, 29, 4, 74, 26, 5, 67, 19, 68, 59, 27, 7, 51, 15, 50, 3, 54, 31, 35, 78, 49, 23, 22, 94, 13, 77, 58, 90, 29, 6, 98, 95, 91, 49, 44, 69, 76, 96, 34, 48, 33, 58, 97, 99, 85, 63, 17, 75, 58, 67, 43, 71, 74, 83, 42, 37, 87, 59, 90, 3, 55, 93, 84, 57, 77, 65, 20, 82, 39, 19, 37, 13, 35, 55, 27, 2, 23, 57, 66, 30, 79, 98, 76, 16, 47, 38, 5, 53, 92, 43, 96, 14, 45, 11, 75, 80, 1, 67, 87, 31, 13, 36, 87, 48, 31, 86, 52, 97, 95, 82, 77, 89, 43, 44, 57, 58, 59, 29, 6, 0, 17, 46, 66, 57, 50, 57, 0, 48, 92, 22, 98, 47, 49, 36, 79, 59, 89, 86, 14, 59, 40, 87, 59, 56, 57, 69, 64, 9, 58, 11, 6, 17, 96, 41, 75, 59, 77, 93, 89, 87, 92, 78, 49, 72, 16, 89, 70]\n",
      "Wall time: 130 ms\n",
      "[0, 0, 0, 0, 0, 0, 0, 0, 0, 0, 1, 1, 1, 1, 2, 2, 2, 2, 2, 2, 2, 2, 2, 2, 2, 2, 3, 3, 3, 3, 3, 3, 3, 3, 3, 3, 4, 4, 4, 4, 4, 4, 4, 4, 4, 4, 5, 5, 5, 5, 5, 5, 5, 5, 5, 5, 5, 5, 5, 5, 6, 6, 6, 6, 6, 6, 6, 6, 6, 6, 6, 7, 7, 7, 7, 7, 7, 7, 7, 7, 7, 7, 7, 7, 8, 8, 8, 8, 8, 8, 8, 8, 9, 9, 9, 9, 9, 9, 9, 9, 10, 10, 10, 11, 11, 11, 11, 11, 11, 11, 11, 11, 11, 11, 12, 12, 12, 12, 12, 12, 12, 12, 13, 13, 13, 13, 13, 13, 13, 13, 13, 14, 14, 14, 14, 14, 14, 14, 14, 15, 15, 15, 15, 15, 15, 15, 15, 15, 16, 16, 16, 16, 16, 17, 17, 17, 17, 17, 17, 17, 17, 17, 18, 18, 18, 18, 19, 19, 19, 19, 20, 20, 20, 20, 20, 20, 20, 21, 21, 21, 21, 21, 21, 21, 21, 21, 22, 22, 22, 22, 22, 22, 22, 22, 22, 22, 22, 22, 23, 23, 23, 23, 23, 23, 23, 23, 23, 23, 23, 24, 24, 24, 24, 24, 24, 24, 24, 24, 25, 25, 25, 25, 25, 25, 25, 26, 26, 26, 26, 26, 26, 26, 26, 26, 26, 26, 27, 27, 27, 27, 27, 27, 28, 28, 28, 28, 28, 28, 29, 29, 29, 29, 29, 29, 29, 29, 29, 29, 30, 30, 30, 30, 30, 30, 30, 31, 31, 31, 31, 31, 31, 31, 31, 32, 32, 32, 32, 32, 32, 32, 32, 32, 32, 32, 32, 32, 32, 32, 32, 32, 33, 33, 33, 33, 33, 33, 34, 34, 34, 34, 34, 34, 34, 34, 34, 34, 35, 35, 35, 35, 35, 35, 35, 35, 35, 35, 36, 36, 36, 36, 36, 36, 36, 36, 36, 36, 36, 37, 37, 37, 37, 37, 37, 37, 37, 37, 37, 37, 37, 37, 37, 37, 37, 38, 38, 38, 38, 38, 38, 38, 38, 38, 38, 38, 38, 38, 38, 38, 38, 39, 39, 39, 39, 39, 39, 39, 39, 39, 39, 39, 39, 40, 40, 40, 40, 40, 40, 40, 40, 40, 40, 40, 41, 41, 41, 41, 41, 41, 41, 41, 41, 41, 41, 41, 42, 42, 42, 42, 42, 42, 42, 42, 42, 42, 43, 43, 43, 43, 43, 43, 43, 43, 43, 43, 43, 44, 44, 44, 44, 44, 44, 44, 44, 44, 45, 45, 45, 45, 45, 45, 45, 45, 46, 46, 46, 46, 46, 47, 47, 47, 47, 47, 47, 47, 47, 47, 47, 48, 48, 48, 48, 48, 48, 48, 48, 48, 48, 48, 48, 49, 49, 49, 49, 49, 49, 49, 49, 49, 49, 49, 49, 50, 50, 50, 50, 50, 50, 50, 50, 51, 51, 51, 51, 51, 51, 51, 51, 52, 52, 52, 52, 52, 52, 52, 52, 52, 52, 53, 53, 53, 53, 53, 53, 53, 53, 53, 54, 54, 54, 54, 54, 54, 54, 54, 55, 55, 55, 55, 55, 55, 55, 55, 55, 55, 55, 55, 56, 56, 56, 56, 56, 56, 56, 56, 56, 56, 56, 56, 56, 56, 56, 57, 57, 57, 57, 57, 57, 57, 57, 57, 57, 57, 57, 58, 58, 58, 58, 58, 58, 58, 58, 58, 58, 58, 58, 58, 58, 58, 59, 59, 59, 59, 59, 59, 59, 59, 59, 59, 59, 59, 59, 60, 60, 60, 60, 60, 60, 60, 60, 60, 60, 61, 61, 61, 61, 61, 61, 61, 62, 62, 62, 62, 62, 62, 62, 63, 63, 63, 63, 63, 63, 63, 63, 63, 63, 63, 64, 64, 64, 64, 64, 64, 64, 64, 64, 64, 64, 64, 65, 65, 65, 65, 65, 65, 65, 65, 65, 66, 66, 66, 66, 66, 66, 66, 66, 67, 67, 67, 67, 67, 67, 67, 67, 67, 67, 68, 68, 68, 68, 68, 68, 69, 69, 69, 69, 69, 69, 69, 69, 69, 69, 69, 70, 70, 70, 70, 70, 70, 70, 70, 70, 71, 71, 71, 71, 71, 71, 71, 71, 71, 71, 71, 72, 72, 72, 72, 72, 72, 72, 72, 73, 73, 73, 73, 73, 73, 74, 74, 74, 74, 74, 74, 74, 74, 74, 74, 74, 75, 75, 75, 75, 75, 75, 75, 75, 75, 75, 76, 76, 76, 76, 76, 76, 76, 76, 76, 76, 76, 77, 77, 77, 77, 77, 77, 77, 77, 77, 77, 77, 77, 77, 77, 77, 77, 77, 77, 78, 78, 78, 78, 78, 78, 78, 78, 78, 78, 78, 78, 78, 79, 79, 79, 79, 79, 79, 79, 79, 79, 79, 79, 79, 79, 79, 80, 80, 80, 80, 80, 80, 80, 80, 80, 81, 81, 81, 81, 81, 82, 82, 82, 82, 82, 82, 82, 82, 82, 83, 83, 83, 83, 83, 83, 83, 83, 83, 84, 84, 84, 84, 84, 84, 84, 85, 85, 85, 85, 85, 85, 85, 85, 86, 86, 86, 86, 86, 86, 86, 87, 87, 87, 87, 87, 87, 87, 87, 87, 87, 87, 87, 87, 87, 87, 87, 87, 87, 87, 88, 88, 88, 88, 88, 88, 88, 88, 88, 88, 88, 89, 89, 89, 89, 89, 89, 89, 89, 89, 89, 89, 89, 89, 89, 89, 89, 89, 89, 89, 89, 90, 90, 90, 90, 90, 90, 90, 90, 91, 91, 91, 91, 91, 91, 91, 91, 92, 92, 92, 92, 92, 92, 92, 92, 92, 92, 93, 93, 93, 93, 93, 93, 93, 93, 93, 93, 94, 94, 94, 94, 94, 94, 94, 94, 95, 95, 95, 95, 95, 95, 95, 95, 95, 95, 95, 95, 95, 96, 96, 96, 96, 96, 96, 96, 96, 96, 96, 97, 97, 97, 97, 97, 97, 97, 97, 97, 97, 97, 97, 97, 97, 98, 98, 98, 98, 98, 98, 98, 98, 98, 98, 99, 99, 99, 99, 99, 99, 99, 99, 99, 99, 99, 100, 100, 100, 100, 100, 100, 100, 100, 100, 100, 100]\n"
     ]
    }
   ],
   "source": [
    "t1000 = [randint(0, 100) for i in range(1000)]\n",
    "print(t1000)\n",
    "%time tri_insertion(t1000)  # exécute l'instruction et mesure son temps d'exécution\n",
    "print(t1000)"
   ]
  },
  {
   "cell_type": "markdown",
   "metadata": {},
   "source": [
    "**Question 4** : Exécutez 5 fois la cellule précédente pour voir le temps de tri. Notez chaque temps et faites une moyenne du temps."
   ]
  },
  {
   "cell_type": "markdown",
   "metadata": {},
   "source": [
    "*Votre réponse* : (**à compléter**)"
   ]
  },
  {
   "cell_type": "markdown",
   "metadata": {},
   "source": [
    "**Question 5** : Créez et triez maintenant un tableau `t2000` de taille 2000 (on a donc *doublé* la taille du tableau par rapport à la question 4). Exécutez 5 fois la cellule et faites la moyennes des temps de tri (par sélection) du tableau. *N'hésitez pas à enlever les `print` si cela devient trop long !*."
   ]
  },
  {
   "cell_type": "code",
   "execution_count": 258,
   "metadata": {},
   "outputs": [],
   "source": [
    "# à vous de jouer !\n"
   ]
  },
  {
   "cell_type": "markdown",
   "metadata": {},
   "source": [
    "*Votre réponse* : temps moyen pour trier tableau de taille 2000 : ...  (**à compléter**)"
   ]
  },
  {
   "cell_type": "markdown",
   "metadata": {},
   "source": [
    "**Question 6** : Par combien environ a été multiplié le temps du tri par sélection entre un tableau de taille 1000 et un tableau de taille 2000 (le double) ?"
   ]
  },
  {
   "cell_type": "markdown",
   "metadata": {},
   "source": [
    "*Votre réponse* : si la taille du tableau double, alors le temps du tri par sélection est environ multiplié par ... (**à compléter**)"
   ]
  },
  {
   "cell_type": "markdown",
   "metadata": {},
   "source": [
    "**Question 7** : Qu'en est-il si la taille est triplée (de 1000 à 3000 par exemple) ? Faites les essais avant de répondre."
   ]
  },
  {
   "cell_type": "code",
   "execution_count": null,
   "metadata": {},
   "outputs": [],
   "source": [
    "# à vous de jouer !\n"
   ]
  },
  {
   "cell_type": "markdown",
   "metadata": {},
   "source": [
    "*Votre réponse* : si la taille du tableau est multipliée par 3, alors le temps du tri par sélection est environ multiplié par ... (**à compléter**)"
   ]
  },
  {
   "cell_type": "markdown",
   "metadata": {},
   "source": [
    "**Question 8** : Vérifiez qu'il en est de même pour un **tri par insertion**."
   ]
  },
  {
   "cell_type": "code",
   "execution_count": 178,
   "metadata": {},
   "outputs": [],
   "source": [
    "# à vous de jouer !\n"
   ]
  },
  {
   "cell_type": "markdown",
   "metadata": {},
   "source": [
    "### Et pour des tailles beaucoup plus grandes ?\n",
    "\n",
    "**Question 9** : Testez le temps pour trier par insertion ou par sélection, un tableau `t10k` de taille 10 000. (Voire un tableau `t100k` de taille 100 000 si vous êtes patient 😅)."
   ]
  },
  {
   "cell_type": "code",
   "execution_count": 259,
   "metadata": {},
   "outputs": [],
   "source": [
    "# à vous de jouer !\n"
   ]
  },
  {
   "cell_type": "markdown",
   "metadata": {},
   "source": [
    "*Votre réponse* : pour trier par insertion/sélection un tableau de taille 10 000 il faut environ ... (**à compléter**)."
   ]
  },
  {
   "cell_type": "markdown",
   "metadata": {},
   "source": [
    "**Question 10** : Admettons qu'il faille 10 secondes pour trier par insertion un tableau de taille 10 000. \n",
    "\n",
    "- Quel temps faudrait-il environ pour trier un tableau de taille 100 000 (10 fois plus grand) ? \n",
    "- Et combien d'heures faudrait-il pour un tableau de 1 million de valeurs ?\n",
    "- Et combien de jours faudrait-il pour un tableau de 10 millions de valeurs ?  ⏲\n",
    "- Et combien de vies faudrait-il pour un tableau de 1 milliard de valeurs ? &#9760;"
   ]
  },
  {
   "cell_type": "markdown",
   "metadata": {},
   "source": [
    "*Votre réponse* : (**à compléter**).\n",
    "\n",
    "- pour un tableau de taille 100 000 : ...\n",
    "- pour un tableau de taille 1 000 000 : ...\n",
    "- pour un tableau de taille 10 000 000 : ...\n",
    "- pour un tableau de taille 1 000 000 000 : ..."
   ]
  },
  {
   "cell_type": "markdown",
   "metadata": {},
   "source": [
    ">Autant vous dire qu'il est inutile d'essayer de trier par insertion/sélection des tableaux de taille supérieure ou égale à 1 million, c'est très inefficace. Il existe cependant des algorithmes de tris plus efficaces. Python vous propose deux façons de trier un tableau avec un algorithme beaucoup plus efficace, c'est l'objet de la dernière partie !"
   ]
  },
  {
   "cell_type": "markdown",
   "metadata": {},
   "source": [
    "# Fonctions de tris offertes par Python\n",
    "\n",
    "Python fournit deux fonctions permettant de trier de manière plus efficace un tableau. Elles se présentent de deux façons différentes, selon que l’on veuille obtenir une copie triée du tableau, sans le modifier (`sorted`), ou au contraire modifier le tableau pour le trier (`sort`).\n",
    "\n",
    ">L'algorithme utilisé par ces fonctions est plus efficace : son coût est de l'ordre de $n \\log_2(n)$, nettement meilleur que $n^2$."
   ]
  },
  {
   "cell_type": "markdown",
   "metadata": {},
   "source": [
    "## La fonction `sorted`\n",
    "\n",
    "Celle-ci prend en argument un tableau et renvoie un **nouveau** tableau, trié, contenant les mêmes éléments."
   ]
  },
  {
   "cell_type": "code",
   "execution_count": 186,
   "metadata": {},
   "outputs": [
    {
     "data": {
      "text/plain": [
       "[3, 5, 6, 8, 10, 12]"
      ]
     },
     "execution_count": 186,
     "metadata": {},
     "output_type": "execute_result"
    }
   ],
   "source": [
    "t = [12, 5, 3, 6, 8, 10]\n",
    "sorted(t)"
   ]
  },
  {
   "cell_type": "markdown",
   "metadata": {},
   "source": [
    "On peut voir que le tableau de départ n'a pas été modifié :"
   ]
  },
  {
   "cell_type": "code",
   "execution_count": 187,
   "metadata": {},
   "outputs": [
    {
     "data": {
      "text/plain": [
       "[12, 5, 3, 6, 8, 10]"
      ]
     },
     "execution_count": 187,
     "metadata": {},
     "output_type": "execute_result"
    }
   ],
   "source": [
    "t"
   ]
  },
  {
   "cell_type": "markdown",
   "metadata": {},
   "source": [
    ">**Remarque** : Cette fonction permet aussi de trier des chaînes de caractères, en utilisant l'odre alphabétique."
   ]
  },
  {
   "cell_type": "code",
   "execution_count": 188,
   "metadata": {},
   "outputs": [
    {
     "data": {
      "text/plain": [
       "['cerise', 'kiwi', 'poire', 'pomme']"
      ]
     },
     "execution_count": 188,
     "metadata": {},
     "output_type": "execute_result"
    }
   ],
   "source": [
    "sorted([\"poire\", \"pomme\", \"cerise\", 'kiwi'])"
   ]
  },
  {
   "cell_type": "markdown",
   "metadata": {},
   "source": [
    "## La fonction `sort`\n",
    "\n",
    "Celle-ci s'applique à un tableau, ne renvoie rien, mais **modifie** le tableau d'origine."
   ]
  },
  {
   "cell_type": "code",
   "execution_count": 192,
   "metadata": {},
   "outputs": [],
   "source": [
    "t = [5, 1, 2, 17, 9, 1, 8]\n",
    "t.sort() # ne renvoie rien"
   ]
  },
  {
   "cell_type": "markdown",
   "metadata": {},
   "source": [
    "Rien n'est renvoyé mais le tableau `t` d'origine a été modifié :"
   ]
  },
  {
   "cell_type": "code",
   "execution_count": 193,
   "metadata": {},
   "outputs": [
    {
     "data": {
      "text/plain": [
       "[1, 1, 2, 5, 8, 9, 17]"
      ]
     },
     "execution_count": 193,
     "metadata": {},
     "output_type": "execute_result"
    }
   ],
   "source": [
    "t"
   ]
  },
  {
   "cell_type": "markdown",
   "metadata": {},
   "source": [
    ">On peut aussi trier directement un tableau de chaînes de caractères avec `sort`."
   ]
  },
  {
   "cell_type": "code",
   "execution_count": 194,
   "metadata": {},
   "outputs": [
    {
     "data": {
      "text/plain": [
       "['cerise', 'kiwi', 'poire', 'pomme']"
      ]
     },
     "execution_count": 194,
     "metadata": {},
     "output_type": "execute_result"
    }
   ],
   "source": [
    "fruits = [\"poire\", \"pomme\", \"cerise\", 'kiwi']\n",
    "fruits.sort()\n",
    "fruits"
   ]
  },
  {
   "cell_type": "markdown",
   "metadata": {},
   "source": [
    "**Question 11** : Vérifiez qu'en utilisant l'un de ces deux méthodes, le tri d'un tableau d'un million de valeurs est instantané (il faut utiliser `%time` pour mesurer uniquement le temps du tri, et non la construction du tableau qui est plus longue)."
   ]
  },
  {
   "cell_type": "code",
   "execution_count": 260,
   "metadata": {
    "scrolled": true
   },
   "outputs": [],
   "source": [
    "# à vous de jouer !\n"
   ]
  },
  {
   "cell_type": "markdown",
   "metadata": {},
   "source": [
    "# Pire cas du tri par insertion (OPTIONNEL)\n",
    "\n",
    "On a vu dans le cours qu'un tableau trié dans l'ordre décroissant était le pire cas pour le tri par insertion. L'objectif de cette partie est d'en mesurer concrètement l'impact sur le temps de tri.\n",
    "\n",
    "On peut construire un tableau de taille 1000 trié dans l'ordre décroissant de la façon suivante."
   ]
  },
  {
   "cell_type": "code",
   "execution_count": 213,
   "metadata": {},
   "outputs": [
    {
     "name": "stdout",
     "output_type": "stream",
     "text": [
      "[100, 99, 98, 97, 96, 95, 94, 93, 92, 91, 90, 89, 88, 87, 86, 85, 84, 83, 82, 81, 80, 79, 78, 77, 76, 75, 74, 73, 72, 71, 70, 69, 68, 67, 66, 65, 64, 63, 62, 61, 60, 59, 58, 57, 56, 55, 54, 53, 52, 51, 50, 49, 48, 47, 46, 45, 44, 43, 42, 41, 40, 39, 38, 37, 36, 35, 34, 33, 32, 31, 30, 29, 28, 27, 26, 25, 24, 23, 22, 21, 20, 19, 18, 17, 16, 15, 14, 13, 12, 11, 10, 9, 8, 7, 6, 5, 4, 3, 2, 1]\n"
     ]
    }
   ],
   "source": [
    "n = 1000 # taille du tableau\n",
    "t = [n-i for i in range(n)]\n",
    "print(t)"
   ]
  },
  {
   "cell_type": "markdown",
   "metadata": {},
   "source": [
    "**Question 12** : Évaluer le temps pour trier par insertion ce tableau."
   ]
  },
  {
   "cell_type": "code",
   "execution_count": 261,
   "metadata": {},
   "outputs": [],
   "source": [
    "# à vous de jouer !\n"
   ]
  },
  {
   "cell_type": "markdown",
   "metadata": {},
   "source": [
    "**Question 13** : Et pour un tableau de taille 10 000 ? \n",
    ">Cela doit prendre quelques secondes, voire dizaines de secondes et vous devez constater que le temps est supérieur à ceux obtenu à la question 9 (où le tableau est crée aléatoirement donc il y a peu de chances d'obtenir un pire cas)."
   ]
  },
  {
   "cell_type": "code",
   "execution_count": 262,
   "metadata": {},
   "outputs": [],
   "source": [
    "# à vous de jouer !\n"
   ]
  },
  {
   "cell_type": "markdown",
   "metadata": {},
   "source": [
    "**Question 14** : Le meilleur cas de l'algorithme de **tri par insertion** est celui où le tableau est déjà trié par ordre croissant au départ. Il suffit alors de faire une comparaison par tour de boucle (et constater que chaque élément est déjà au bon endroit). Créez un tableau de taille 10 000 trié par ordre croissant (par exemple, le tableau [1, 2, 3,...,10000] puis mesurez le temps pour le trier par insertion.\n",
    ">Le tri est normalement quasi instantané donc beaucoup plus rapide que pour le pire cas et que les cas générés aléatoirement."
   ]
  },
  {
   "cell_type": "code",
   "execution_count": 263,
   "metadata": {},
   "outputs": [],
   "source": [
    "# à vous de jouer !\n"
   ]
  },
  {
   "cell_type": "markdown",
   "metadata": {},
   "source": [
    ">**Explications** : Si le tableau est déjà trié, alors il n'y a qu'une comparaison par tour de boucle. Comme il y a $n-1$ tours de boucle, cela fait donc $n-1$ comparaisons donc on trouve un coût de l'ordre de $n$, qui est linéaire (comme les algorithmes de recherche du nombre d'occurrences, de min/max, de calcul de moyenne...). Cela signifie que si on multiplie par $k$ la taille du tableau (déjà trié) de départ, le temps de l'algo de tri est multiplié par $k$ également. \n",
    ">Ainsi, s'il ne faut que quelques ms, disons 5 ms, pour trier un tel tableau de taille 10 000, alors pour trier un tableau trié de taille 1 000 000 (multiplication par 100) il ne faudra que $5\\times 100=500$ ms = $0,5$ s (contre $5\\times100^2=50000$ s $\\simeq 13$ min si le coût était quadratique)."
   ]
  },
  {
   "cell_type": "markdown",
   "metadata": {},
   "source": [
    "**Question 15** : Constatez que quel que soit le tableau de départ (trié par ordre décroissant, par ordre croissant, ou créé aléatoirement) il n'y a pas (autant) de différences de temps pour le trier si on utilise le **tri par sélection**.\n",
    "\n",
    ">Cela prend dans tous les cas plusieurs secondes, comme à la question 9"
   ]
  },
  {
   "cell_type": "code",
   "execution_count": 264,
   "metadata": {},
   "outputs": [],
   "source": [
    "# à vous de jouer !\n"
   ]
  },
  {
   "cell_type": "markdown",
   "metadata": {},
   "source": [
    ">**Explication** : On a vu dans le cours que pour un tableau `T`, le nombre de comparaisons pour le trier par sélection est toujours égale à $\\dfrac{n(n-1)}{2}$, et ce quel que soit le tableau `T` de départ. Il est donc normal d'avoir des temps similaires."
   ]
  },
  {
   "cell_type": "markdown",
   "metadata": {},
   "source": [
    "---\n",
    "Germain BECKER & Sébastien POINT, Lycée Mounier, ANGERS\n",
    "\n",
    "Ressource éducative libre distribuée sous [Licence Creative Commons Attribution - Pas d’Utilisation Commerciale - Partage dans les Mêmes Conditions 4.0 International](http://creativecommons.org/licenses/by-nc-sa/4.0/) \n",
    "\n",
    "![Licence Creative Commons](https://i.creativecommons.org/l/by-nc-sa/4.0/88x31.png)"
   ]
  }
 ],
 "metadata": {
  "kernelspec": {
   "display_name": "Python 3",
   "language": "python",
   "name": "python3"
  },
  "language_info": {
   "codemirror_mode": {
    "name": "ipython",
    "version": 3
   },
   "file_extension": ".py",
   "mimetype": "text/x-python",
   "name": "python",
   "nbconvert_exporter": "python",
   "pygments_lexer": "ipython3",
   "version": "3.7.3"
  }
 },
 "nbformat": 4,
 "nbformat_minor": 2
}
