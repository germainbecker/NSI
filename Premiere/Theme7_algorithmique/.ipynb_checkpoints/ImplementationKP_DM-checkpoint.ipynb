{
 "cells": [
  {
   "cell_type": "markdown",
   "id": "642a915e",
   "metadata": {},
   "source": [
    "<h1 style=\"font-size: 30px; text-align: center;\">Plus beaucoup de place sur ta clé USB ?</h1>"
   ]
  },
  {
   "cell_type": "raw",
   "id": "9f3931f6",
   "metadata": {},
   "source": [
    "NOM / Prénom : (à compléter)"
   ]
  },
  {
   "cell_type": "markdown",
   "id": "c7188d2b",
   "metadata": {},
   "source": [
    "<div style=\"color: blue; font-weight:bold\">Note et appréciation :</div>"
   ]
  },
  {
   "cell_type": "markdown",
   "id": "5a4e8daf",
   "metadata": {},
   "source": [
    "<img src=\"https://cdn.pixabay.com/photo/2012/05/07/02/02/usb-47552_960_720.png\" alt=\"une clé USB\" width=\"200\">\n",
    "\n",
    "# Introduction\n",
    "\n",
    "## Présentation du problème\n",
    "\n",
    "Nous disposons d’une clé USB qui est déjà bien remplie et sur laquelle il ne reste que 5 Go de libre. Nous souhaitons copier sur cette clé des fichiers vidéos pour l'emporter en voyage. Chaque fichier a un poids et chaque vidéo a une durée.  La durée n'est pas proportionnelle à la taille car les fichiers sont de formats différents, certaines vidéos sont de grande qualité, d'autres sont très compressées. \n",
    "\n",
    "Le tableau qui suit présente les 7 fichiers disponibles avec les durées données en minutes.\n",
    "\n",
    "| Nom \t    | Durée en min  | Poids   |\n",
    "| --------- | ------------- | ------- |\n",
    "| Vidéo A \t| 114   \t    | 4.57 Go |\n",
    "| Vidéo B \t| 32    \t    | 630 Mo  |\n",
    "| Vidéo C \t| 20    \t    | 1.65 Go |\n",
    "| Vidéo D \t| 4     \t    | 85 Mo   |\n",
    "| Vidéo E \t| 18    \t    | 2,15 Go |\n",
    "| Vidéo F \t| 80    \t    | 2,71 Go |\n",
    "| Vidéo G \t| 5     \t    | 320 Mo  |\n",
    "\n",
    ">**Problème** : Quelles vidéos copier sur la clé USB pour que la durée des vidéos soient la plus grande possible tout en ne dépassant pas 5 Go ?\n",
    "\n",
    "✍️ **Question 1** : Quelle est la valeur que l'on cherche à maximiser/minimiser ? Quelle est la contrainte ?"
   ]
  },
  {
   "cell_type": "raw",
   "id": "5b130856",
   "metadata": {},
   "source": [
    "Votre réponse : "
   ]
  },
  {
   "cell_type": "markdown",
   "id": "ec96384d",
   "metadata": {},
   "source": [
    "<div style=\"color: blue; font-weight:bold\">Points :</div>"
   ]
  },
  {
   "cell_type": "markdown",
   "id": "8f92fe69",
   "metadata": {},
   "source": [
    "✍️ **Question 2** : Quel problème vu en classe et/ou en exercices reconnaissez-vous ?"
   ]
  },
  {
   "cell_type": "raw",
   "id": "37e95c7f",
   "metadata": {},
   "source": [
    "Votre réponse :"
   ]
  },
  {
   "cell_type": "markdown",
   "id": "3c49f5c7",
   "metadata": {},
   "source": [
    "<div style=\"color: blue; font-weight:bold\">Points :</div>"
   ]
  },
  {
   "cell_type": "markdown",
   "id": "e20c3a36",
   "metadata": {},
   "source": [
    "Dans la suite, vous allez implémenter (= programmer) une solution gloutonne pour résoudre ce problème, puis vous implémenterez l'algorithme de *force brute* qui donnera la solution optimale au problème. La **stratégie gloutonne retenue sera de toujours prendre la vidéo de plus grande durée** n'excédant pas la capacité restante de poids."
   ]
  },
  {
   "cell_type": "markdown",
   "id": "f6e0e054",
   "metadata": {},
   "source": [
    "✍️ **Question 3** : Appliquez (à la main) cette stratégie gloutonne sur la table de vidéos pour une capacité maximale de 5 Go. *Expliquez rapidement les étapes*."
   ]
  },
  {
   "cell_type": "raw",
   "id": "e50b990e",
   "metadata": {},
   "source": [
    "Votre réponse : "
   ]
  },
  {
   "cell_type": "markdown",
   "id": "0e169ab6",
   "metadata": {},
   "source": [
    "<div style=\"color: blue; font-weight:bold\">Points :</div>"
   ]
  },
  {
   "cell_type": "markdown",
   "id": "37b6e575",
   "metadata": {},
   "source": [
    "## Représentation des données\n",
    "\n",
    "Dans la suite, on utilisera des dictionnaires de la forme suivante pour représenter chaque vidéo, la durée étant donnée en minute et le poids étant donné en Go.\n",
    "\n",
    "```python\n",
    "{'nom' : 'video A', 'duree' : 114, 'poids' : 4.57}\n",
    "```\n",
    "\n",
    "On peut alors mémoriser les 7 vidéos dans le tableau `table_videos` suivant."
   ]
  },
  {
   "cell_type": "code",
   "execution_count": null,
   "id": "4e69c196",
   "metadata": {},
   "outputs": [],
   "source": [
    "table_videos = [{'nom' : 'video A', 'duree' : 114, 'poids' : 4.57},\n",
    "                {'nom' : 'video B', 'duree' : 32, 'poids' : 0.63},\n",
    "                {'nom' : 'video C', 'duree' : 20, 'poids' : 1.65},\n",
    "                {'nom' : 'video D', 'duree' : 4, 'poids' : 0.085},\n",
    "                {'nom' : 'video E', 'duree' : 18, 'poids' : 2.15},\n",
    "                {'nom' : 'video F', 'duree' : 80, 'poids' : 2.71},\n",
    "                {'nom' : 'video G', 'duree' : 5, 'poids' : 0.32}]"
   ]
  },
  {
   "cell_type": "markdown",
   "id": "45678a69",
   "metadata": {},
   "source": [
    "💻 **Question 4** : Écrivez les instructions permettant d'accéder :\n",
    "- au nom de la première vidéo\n",
    "- à la durée de la vidéo D\n",
    "- au poids de la vidéo G"
   ]
  },
  {
   "cell_type": "code",
   "execution_count": null,
   "id": "906f789c",
   "metadata": {},
   "outputs": [],
   "source": [
    "# à vous de jouer !\n"
   ]
  },
  {
   "cell_type": "code",
   "execution_count": null,
   "id": "02800158",
   "metadata": {},
   "outputs": [],
   "source": [
    "# à vous de jouer !\n"
   ]
  },
  {
   "cell_type": "code",
   "execution_count": null,
   "id": "deb7b1f8",
   "metadata": {},
   "outputs": [],
   "source": [
    "# à vous de jouer !\n"
   ]
  },
  {
   "cell_type": "markdown",
   "id": "cc8b45af",
   "metadata": {},
   "source": [
    "<div style=\"color: blue; font-weight:bold\">Points :</div>"
   ]
  },
  {
   "cell_type": "markdown",
   "id": "d30f5ce9",
   "metadata": {},
   "source": [
    "## Écriture des fonctions utiles\n",
    "\n",
    "Pour résoudre le problème on aura besoin d'accéder au poids et à la durée des vidéos. Les deux fonctions suivantes permettent de renvoyer respectivement le poids et la durée d'une vidéo représentée par un dictionnaire comme indiqué précédemment."
   ]
  },
  {
   "cell_type": "code",
   "execution_count": null,
   "id": "cfdf897b",
   "metadata": {},
   "outputs": [],
   "source": [
    "def duree(video):\n",
    "    return video['duree']\n",
    "\n",
    "def poids(video):\n",
    "    return video['poids']"
   ]
  },
  {
   "cell_type": "markdown",
   "id": "3709cfe4",
   "metadata": {},
   "source": [
    "On peut vérifier :"
   ]
  },
  {
   "cell_type": "code",
   "execution_count": null,
   "id": "dbdcf345",
   "metadata": {},
   "outputs": [],
   "source": [
    "duree({'nom' : 'video D', 'duree' : 4, 'poids' : 0.085})"
   ]
  },
  {
   "cell_type": "code",
   "execution_count": null,
   "id": "b72cf6e5",
   "metadata": {},
   "outputs": [],
   "source": [
    "poids({'nom' : 'video G', 'duree' : 5, 'poids' : 0.32})"
   ]
  },
  {
   "cell_type": "markdown",
   "id": "e501c855",
   "metadata": {},
   "source": [
    "💻 **Question 5** : Écrivez une fonction `poids_total(table_videos)` qui renvoie le poids total des vidéos présentes dans `table_videos`. Quelques assertions devant être vérifiées par votre fonction sont données ci-dessous."
   ]
  },
  {
   "cell_type": "code",
   "execution_count": null,
   "id": "1b155f6f",
   "metadata": {},
   "outputs": [],
   "source": [
    "def poids_total(table_videos):\n",
    "    # à compléter\n",
    "    "
   ]
  },
  {
   "cell_type": "code",
   "execution_count": null,
   "id": "decc7431",
   "metadata": {},
   "outputs": [],
   "source": [
    "table1 = [{'nom' : 'video C', 'duree' : 20, 'poids' : 1.65}]\n",
    "table2 = [{'nom' : 'video A', 'duree' : 114, 'poids' : 4.57},\n",
    "           {'nom' : 'video B', 'duree' : 32, 'poids' : 0.63}]\n",
    "table3 = [{'nom' : 'video A', 'duree' : 114, 'poids' : 4.57},\n",
    "          {'nom' : 'video B', 'duree' : 32, 'poids' : 0.63},\n",
    "          {'nom' : 'video C', 'duree' : 20, 'poids' : 1.65}]\n",
    "\n",
    "assert poids_total(table1) == 1.65   # on compare des nombres réels mais on a pris soin de bien choisir les exemples !!\n",
    "assert poids_total(table2) == 5.2\n",
    "assert poids_total(table3) == 6.85\n",
    "assert poids_total([]) == 0   # table vide testée"
   ]
  },
  {
   "cell_type": "markdown",
   "id": "dbb1cc15",
   "metadata": {},
   "source": [
    "<div style=\"color: blue; font-weight:bold\">Points :</div>"
   ]
  },
  {
   "cell_type": "markdown",
   "id": "2dce1c81",
   "metadata": {},
   "source": [
    "💻 **Question 6** : Écrivez une fonction `duree_totale(table_videos)` qui renvoie la durée totale des vidéos présentes dans `table_videos`. Quelques assertions devant être vérifiées par votre fonction sont données ci-dessous."
   ]
  },
  {
   "cell_type": "code",
   "execution_count": null,
   "id": "db6c62d0",
   "metadata": {},
   "outputs": [],
   "source": [
    "def duree_totale(table_videos):\n",
    "    # à compléter\n",
    "    "
   ]
  },
  {
   "cell_type": "code",
   "execution_count": null,
   "id": "d32d0335",
   "metadata": {},
   "outputs": [],
   "source": [
    "table1 = [{'nom' : 'video C', 'duree' : 20, 'poids' : 1.65}]\n",
    "table2 = [{'nom' : 'video A', 'duree' : 114, 'poids' : 4.57},\n",
    "           {'nom' : 'video B', 'duree' : 32, 'poids' : 0.63}]\n",
    "table3 = [{'nom' : 'video A', 'duree' : 114, 'poids' : 4.57},\n",
    "          {'nom' : 'video B', 'duree' : 32, 'poids' : 0.63},\n",
    "          {'nom' : 'video C', 'duree' : 20, 'poids' : 1.65}]\n",
    "\n",
    "assert duree_totale(table1) == 20\n",
    "assert duree_totale(table2) == 146\n",
    "assert duree_totale(table3) == 166\n",
    "assert duree_totale([]) == 0   # table vide testée\n",
    "assert duree_totale(table_videos) == 273  # table avec toutes les vidéos"
   ]
  },
  {
   "cell_type": "markdown",
   "id": "23b8c120",
   "metadata": {},
   "source": [
    "<div style=\"color: blue; font-weight:bold\">Points :</div>"
   ]
  },
  {
   "cell_type": "markdown",
   "id": "603722d5",
   "metadata": {},
   "source": [
    "# Implémentation de l'algorithme glouton\n",
    "\n",
    "On rappelle que la stratégie gloutonne retenue est de **toujours prendre la vidéo de plus grande durée** n'excédant pas la capacité restante de poids."
   ]
  },
  {
   "cell_type": "markdown",
   "id": "e5362eec",
   "metadata": {},
   "source": [
    "## Tri préalable\n",
    "\n",
    "Comme la stratégie gloutonne retenue prévoit de choisir les vidéos de plus grande durée n'excédant pas la capacité restante, il est judicieux de commencer par trier les vidéos de `table_videos` par durée décroissante.\n",
    "\n",
    "💻 **Question 7** : Utilisez la fonction `sorted` de Python pour obtenir un *nouveau* tableau (appelé `table_triee` contenant les vidéos de `table_videos` triées par durée décroissante. *Indication* : l'instruction `help(sorted)` permet d'afficher l'aide de la fonction `sorted` (vous pouvez aussi revoir le cours sur les tris de table si nécessaire)."
   ]
  },
  {
   "cell_type": "code",
   "execution_count": null,
   "id": "5f0ca6b8",
   "metadata": {},
   "outputs": [],
   "source": [
    "help(sorted)"
   ]
  },
  {
   "cell_type": "code",
   "execution_count": null,
   "id": "7cec0a15",
   "metadata": {},
   "outputs": [],
   "source": [
    "# à compléter\n",
    "table_triee = ...\n",
    "table_triee  # pour vérifier"
   ]
  },
  {
   "cell_type": "markdown",
   "id": "7ac96569",
   "metadata": {},
   "source": [
    "<div style=\"color: blue; font-weight:bold\">Points :</div>"
   ]
  },
  {
   "cell_type": "markdown",
   "id": "0e7a35d5",
   "metadata": {},
   "source": [
    "## Algorithme glouton\n",
    "\n",
    "💻 **Question 8** : En vous inspirant de l'implémentation de l'algorithme glouton du rendu de monnaie (voir cours ou exercices), écrivez une fonction `glouton(table_videos, poids_max)` qui prend en paramètre une table de vidéos `table_videos` et un poids maximal `poids_max` et renvoie une liste `solution_gloutonne` contenant les vidéos de la solution gloutonne au problème. La solution gloutonne à trouver est donnée dans l'assertion qui suit."
   ]
  },
  {
   "cell_type": "code",
   "execution_count": null,
   "id": "7c8e647a",
   "metadata": {},
   "outputs": [],
   "source": [
    "def glouton(table_videos, poids_max):\n",
    "    # TRI DE LA TABLE\n",
    "    # à compléter par l'instruction de votre réponse précédente\n",
    "    table_triee = ...\n",
    "    # ALGORITHME GLOUTON\n",
    "    poids_total = 0\n",
    "    solution_gloutonne = []\n",
    "    # à compléter\n",
    "    # on se positionne sur la première vidéo (de la table triée)\n",
    "    # tant qu'il reste des vidéos à traiter et que le poids max n'est pas atteint \n",
    "        # on prend la premiere video restante\n",
    "        # si elle n'est pas trop lourde (capacité restante suffisante)\n",
    "            # on l'ajoute à solution_gloutonne et on met à jour le poids total de la solution gloutonne\n",
    "        # on passe à la vidéo suivante\n",
    "    \n",
    "    return solution_gloutonne"
   ]
  },
  {
   "cell_type": "code",
   "execution_count": null,
   "id": "95ed6b87",
   "metadata": {},
   "outputs": [],
   "source": [
    "assert glouton(table_videos, 5) == [{'nom': 'video A', 'duree': 114, 'poids': 4.57},\n",
    "                                    {'nom': 'video G', 'duree': 5, 'poids': 0.32},\n",
    "                                    {'nom': 'video D', 'duree': 4, 'poids': 0.085}]"
   ]
  },
  {
   "cell_type": "markdown",
   "id": "8afc620f",
   "metadata": {},
   "source": [
    "<div style=\"color: blue; font-weight:bold\">Points :</div>"
   ]
  },
  {
   "cell_type": "markdown",
   "id": "f2faf74d",
   "metadata": {},
   "source": [
    "💻 **Question 9** : Utilisez la fonction `duree_totale` pour déterminer la durée totale de la solution gloutonne. Quelle est sa durée totale ?"
   ]
  },
  {
   "cell_type": "code",
   "execution_count": null,
   "id": "13c4a33d",
   "metadata": {},
   "outputs": [],
   "source": [
    "# à vous de jouer !\n"
   ]
  },
  {
   "cell_type": "markdown",
   "id": "e8a54b71",
   "metadata": {},
   "source": [
    "<div style=\"color: blue; font-weight:bold\">Points :</div>"
   ]
  },
  {
   "cell_type": "markdown",
   "id": "f13eb33b",
   "metadata": {},
   "source": [
    "# Implémentation de l'algorithme de *force brute*\n",
    "\n",
    "On a vu que la stratégie gloutonne ne fournit pas nécessairement la solution optimale à un problème. Il existe un moyen de trouver la solution optimale : il s'agit de la stratégie de **force brute** (ou *énumérative*) qui consiste à passer en revue **toutes** les options possibles et retenir la meilleure.\n",
    "\n",
    "> On peut utiliser la *force brute* pour notre exemple car il n'y a pas énormément de combinaisons à tester. Mais cette stratégie ne peut pas s'appliquer dès que le nombre de combinaisons est trop important. C'est l'objet de la dernière question.\n",
    "\n",
    "Le principe de la force brute est donc simple : il faut étudier tous les cas possibles. Ainsi, pour appliquer cette stratégie, il faut :\n",
    "\n",
    "1. d'abord *énumérer* toutes les combinaisons possibles de vidéos \n",
    "2. puis chercher parmi ces combinaisons la meilleure solution parmi celles respectant la contrainte (la combinaison de vidéos ne dépasse pas 5 Go max) : cela renviendra à faire une recherche de maximum"
   ]
  },
  {
   "cell_type": "code",
   "execution_count": null,
   "id": "d428ce08",
   "metadata": {},
   "outputs": [],
   "source": [
    "table_videos = [{'nom' : 'video A', 'duree' : 114, 'poids' : 4.57},\n",
    "                {'nom' : 'video B', 'duree' : 32, 'poids' : 0.63},\n",
    "                {'nom' : 'video C', 'duree' : 20, 'poids' : 1.65},\n",
    "                {'nom' : 'video D', 'duree' : 4, 'poids' : 0.085},\n",
    "                {'nom' : 'video E', 'duree' : 18, 'poids' : 2.15},\n",
    "                {'nom' : 'video F', 'duree' : 80, 'poids' : 2.71},\n",
    "                {'nom' : 'video G', 'duree' : 5, 'poids' : 0.32}]"
   ]
  },
  {
   "cell_type": "markdown",
   "id": "861be623",
   "metadata": {},
   "source": [
    "## Étape 1 : énumération de toutes les combinaisons\n",
    "\n",
    "Il s'agit de la difficulté majeure. Dans une combinaison de vidéos, chaque vidéo de départ est prise ou non, il s'agit d'une donnée binaire. Ainsi, une approche consiste à créer des mots binaires représentant chaque combinaison. Par exemple, le mot `'1101001'` signifie qu'on prend les vidéos A, B, D et G tandis que le mot `'1111111'` signifie que l'on prend toutes les vidéos.\n",
    "\n",
    "Dans notre exemple, nous avons 7 vidéos donc il y a $2^{7} = 128$ combinaisons possibles.\n",
    "\n",
    "On va construire un tableau `combinaisons` contenant toutes les combinaisons binaires. Pour cela, l'idée est de commencer par construire un tableau `tab_entiers` contenant tous les entiers compris entre $0$ et $2^7-1 = 127$."
   ]
  },
  {
   "cell_type": "code",
   "execution_count": null,
   "id": "3cd8b775",
   "metadata": {},
   "outputs": [],
   "source": [
    "n = len(table_videos)  # nombre de vidéos\n",
    "tab_entiers = [i for i in range(2**n)]  # création d'un tableau avec tous les entiers entre 0 et 2**n-1\n",
    "print(tab_entiers)"
   ]
  },
  {
   "cell_type": "markdown",
   "id": "a08556c0",
   "metadata": {},
   "source": [
    "Ensuite, on construit un autre tableau `tab_binaire` avec les conversions binaires de chaque entier. \n",
    "\n",
    ">**Astuce** : la fonction `bin` prend un entier en paramètre et renvoie sa valeur binaire sous forme d'une chaîne de caractères. Par exemple, `bin(12)` renvoie la chaîne `'0b1101'`. Il suffira de supprimer les caractères `'0b'` en tête pour obtenir l'écriture binaire. On veillera également à compléter avec des zéros devant pour obtenir un mot de la longueur désirée."
   ]
  },
  {
   "cell_type": "code",
   "execution_count": null,
   "id": "3230db61",
   "metadata": {},
   "outputs": [],
   "source": [
    "tab_binaire = [bin(i)[2:] for i in tab_entiers]  # conversion binaire des entiers du tableau précédent, le [2:] permet de supprimer les caractères de tête '0b' renvoyés par la fonction bin\n",
    "print(tab_binaire)"
   ]
  },
  {
   "cell_type": "markdown",
   "id": "1e3cfc6f",
   "metadata": {},
   "source": [
    "Enfin, pour obtenir le tableau `combinaisons_binaires`, on prendra le soin de compléter avec autant de zéros que nécessaires les valeurs binaires précédentes pour obtenir des mots de longueur 7, représentant les combinaisons possibles de vidéos. Le tableau `combinaisons_binaires` contient bien tous les 128 mots binaires de longueur 7."
   ]
  },
  {
   "cell_type": "code",
   "execution_count": null,
   "id": "39023735",
   "metadata": {},
   "outputs": [],
   "source": [
    "combinaisons_binaires = ['0'*(n-len(k)) + k for k in tab_binaire]  # ajout des zéros pour obtenir des mots binaires de longueur n\n",
    "print(combinaisons_binaires)"
   ]
  },
  {
   "cell_type": "markdown",
   "id": "52bd184d",
   "metadata": {},
   "source": [
    "On peut écrire une fonction `liste_combinaisons_binaires` qui reprend ces différentes étapes pour construire et renvoyer le tableau `combinaisons_binaires` précédent (cette fonction sera utilisée par la suite)."
   ]
  },
  {
   "cell_type": "code",
   "execution_count": null,
   "id": "c0de5d7c",
   "metadata": {},
   "outputs": [],
   "source": [
    "def liste_combinaisons_binaires(table_videos):\n",
    "    n = len(table_videos)  # nombre de vidéos\n",
    "    tab_entiers = [i for i in range(2**n)]  # création d'un tableau avec tous les entiers entre 0 et 2**n-1\n",
    "    tab_binaire = [bin(i)[2:] for i in tab_entiers]  # conversion binaire des entiers du tableau précédent, le [2:] permet de supprimer les caractères de tête '0b' renvoyés par la fonction bin\n",
    "    combinaisons_binaires = ['0'*(n-len(k)) + k for k in tab_binaire]  # ajout des zéros pour obtenir des mots binaires de longueur n\n",
    "    return combinaisons_binaires"
   ]
  },
  {
   "cell_type": "code",
   "execution_count": null,
   "id": "837c52d5",
   "metadata": {},
   "outputs": [],
   "source": [
    "liste_combinaisons_binaires(table_videos)"
   ]
  },
  {
   "cell_type": "markdown",
   "id": "d9e8c60a",
   "metadata": {},
   "source": [
    "## Étape 2 : recherche de la meilleure solution\n",
    "\n",
    "Pour chercher la meilleure solution il faut être capable de convertir un mot binaire en le tableau de vidéos correspondant. On pourra ainsi calculer la durée totale et le poids total de chaque combinaison.\n",
    "\n",
    "💻 **Question 10** : Écrivez une fonction `mot_binaire_en_liste_de_videos(mot_binaire, table_videos)` qui renvoie un tableau contenant les vidéos de `table_videos` correspondant au mot binaire `mot_binaire`.\n",
    "\n",
    "Exemples :\n",
    "\n",
    "```python\n",
    ">>> mot_binaire_en_liste_de_videos('0010000', table_videos)\n",
    "[{'nom': 'video C', 'duree': 20, 'poids': 1.65}]\n",
    ">>> mot_binaire_en_liste_de_videos('1100001', table_videos)\n",
    "[{'nom': 'video A', 'duree': 114, 'poids': 4.57},\n",
    " {'nom': 'video B', 'duree': 32, 'poids': 0.63},\n",
    " {'nom': 'video G', 'duree': 5, 'poids': 0.32}]\n",
    ">>> mot_binaire_en_liste_de_videos('0000000', table_videos)\n",
    "[]\n",
    "```"
   ]
  },
  {
   "cell_type": "code",
   "execution_count": null,
   "id": "3df4eb4d",
   "metadata": {},
   "outputs": [],
   "source": [
    "# à vous de jouer !\n"
   ]
  },
  {
   "cell_type": "markdown",
   "id": "e90f3281",
   "metadata": {},
   "source": [
    "<div style=\"color: blue; font-weight:bold\">Points :</div>"
   ]
  },
  {
   "cell_type": "markdown",
   "id": "772d1a15",
   "metadata": {},
   "source": [
    "Maintenant que l'on sait convertir chaque combinaison possible (mot binaire) en une liste de vidéos, on va pouvoir chercher la meilleure combinaison de vidéos.\n",
    "\n",
    "💻 **Question 11** : Écrivez une fonction `force_brute(table_videos, poids_max)` qui renvoie la solution optimale à notre problème.\n",
    "\n",
    "**Aide** : l'idée est de parcourir chaque combinaison (mot binaire), de la convertir en la liste de vidéos correspondante pour déterminer celle dont la durée est maximale mais dont le poids ne dépasse pas `poids_max`. C'est donc une recherche de maximum avec une contrainte de poids. Vous devez trouver :\n",
    "\n",
    "```python\n",
    ">>> force_brute(table_videos, 5)\n",
    "[{'nom': 'video B', 'duree': 32, 'poids': 0.63},\n",
    " {'nom': 'video C', 'duree': 20, 'poids': 1.65},\n",
    " {'nom': 'video F', 'duree': 80, 'poids': 2.71}]\n",
    "```"
   ]
  },
  {
   "cell_type": "code",
   "execution_count": null,
   "id": "8bb22e5a",
   "metadata": {},
   "outputs": [],
   "source": [
    "# à vous de jouer !\n"
   ]
  },
  {
   "cell_type": "markdown",
   "id": "1fae0cbf",
   "metadata": {},
   "source": [
    "<div style=\"color: blue; font-weight:bold\">Points :</div>"
   ]
  },
  {
   "cell_type": "markdown",
   "id": "8130bce3",
   "metadata": {},
   "source": [
    "✍️ **Question 12** : L'algorithme glouton a-t-il donné la solution optimale ? Expliquez."
   ]
  },
  {
   "cell_type": "raw",
   "id": "002a7280",
   "metadata": {},
   "source": [
    "Votre réponse :"
   ]
  },
  {
   "cell_type": "markdown",
   "id": "2c66c620",
   "metadata": {},
   "source": [
    "<div style=\"color: blue; font-weight:bold\">Points :</div>"
   ]
  },
  {
   "cell_type": "markdown",
   "id": "c7b51372",
   "metadata": {},
   "source": [
    "✍️ **Question 13** : Si on avait disposé au départ de 40 vidéos, la stratégie gloutonne aurait pu être appliquée mais pas celle de force brute. Expliquez pourquoi à votre avis, en étant le plus précis possible. "
   ]
  },
  {
   "cell_type": "raw",
   "id": "0c222d93",
   "metadata": {},
   "source": [
    "Votre réponse :"
   ]
  },
  {
   "cell_type": "markdown",
   "id": "74c807cd",
   "metadata": {},
   "source": [
    "<div style=\"color: blue; font-weight:bold\">Points :</div>"
   ]
  },
  {
   "cell_type": "markdown",
   "id": "003de3eb",
   "metadata": {},
   "source": [
    "---\n",
    "Germain BECKER & Sébastien POINT, Lycée Mounier, ANGERS ![Licence Creative Commons](https://i.creativecommons.org/l/by-nc-sa/4.0/88x31.png)"
   ]
  }
 ],
 "metadata": {
  "kernelspec": {
   "display_name": "Python 3",
   "language": "python",
   "name": "python3"
  },
  "language_info": {
   "codemirror_mode": {
    "name": "ipython",
    "version": 3
   },
   "file_extension": ".py",
   "mimetype": "text/x-python",
   "name": "python",
   "nbconvert_exporter": "python",
   "pygments_lexer": "ipython3",
   "version": "3.7.10"
  }
 },
 "nbformat": 4,
 "nbformat_minor": 5
}
