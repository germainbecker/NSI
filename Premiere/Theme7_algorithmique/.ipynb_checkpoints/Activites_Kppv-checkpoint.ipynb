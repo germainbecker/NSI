{
 "cells": [
  {
   "cell_type": "markdown",
   "metadata": {},
   "source": [
    "<h1 style=\"font-size: 30px; text-align: center\">Algorithme de k plus proches voisins - EXERCICES </h1>\n",
    "\n",
    "---"
   ]
  },
  {
   "cell_type": "markdown",
   "metadata": {},
   "source": [
    "# Exercice 1\n",
    "\n",
    "On donne des points dans un repère orthonormé. Chaque point possède une classe : Rouge ou Bleue. Dans cette exercice, on utilise la **distance euclidienne** (naturelle) pour l'algorithme des $k$ plus proches voisins.\n",
    "\n",
    "![figure](data:image/png;base64,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)\n",
    "\n",
    "1. On considère le point $M(1, 3)$. Appliquez l'algorithme des 3 plus proches voisins à ce point puis donnez une prédiction quant à sa classe.\n",
    "2. Même question avec le point $N(4, 4)$.\n",
    "3. Donnez une valeur de $k$ qui donnerait la prédiction \"Bleue\" pour le point $N$ après avoir appliqué l'algorithme des $k$ plus proches voisins."
   ]
  },
  {
   "cell_type": "markdown",
   "metadata": {},
   "source": [
    "# Exercice 2 : implémentation de plusieurs distances\n",
    "\n",
    "L'objectif de cet exercice est d'écrire trois distances possibles afin de pouvoir programmer implémenter l'algorithme de $k$ plus proches voisin dans l'exercice suivant. Les trois distances choisies sont : la distance euclidienne, la distance de Manhattan et la distance de Tchebychev dont les formules sont données ci-dessous.\n",
    "\n",
    "On considère deux données $d_1$ et $d_2$ de coordonnées respectives $(x_1, y_1)$ et $(x_2, y_2)$ dans un repère orthonormé. Voici les formules donnant les distances dans chaque cas :\n",
    "\n",
    "- Distance **euclidienne** : $\\text{distance}(d_1, d_2) = \\sqrt{(x_2-x_1)^2 + (y_2-y_1)^2}$. \n",
    "- Distance **de Manhattan** : $\\text{distance}(d_1, d_2) = |x_2-x_1| + |y_2-y_1|$.\n",
    "- Distance **de Tchebychev** : $\\text{distance}(d_1, d_2) = \\text{max}\\left(|x_2-x_1|, |y_2-y_1|\\right)$.\n",
    "\n",
    "## Représentation des données\n",
    "\n",
    "On considère ici que les données sont représentées par des dictionnaires. Par exemple, le point $D(2,3)$ de l'exercice précédent est représenté par le dictionnaire :\n",
    "\n",
    "```python\n",
    "{'nom': 'D', 'abs': 2, 'ord': 3, 'classe': 'Rouge'}\n",
    "```\n",
    "\n",
    "On peut ainsi représenter l'ensemble des points de l'exercice 1."
   ]
  },
  {
   "cell_type": "code",
   "execution_count": null,
   "metadata": {},
   "outputs": [],
   "source": [
    "A = {'nom': 'A', 'abs': 1, 'ord': 1, 'classe': 'Bleu'}\n",
    "B = {'nom': 'B', 'abs': 2, 'ord': 2, 'classe': 'Bleu'}\n",
    "C = {'nom': 'C', 'abs': 4, 'ord': 2, 'classe': 'Bleu'}\n",
    "D = {'nom': 'D', 'abs': 2, 'ord': 3, 'classe': 'Rouge'}\n",
    "E = {'nom': 'E', 'abs': 4, 'ord': 3, 'classe': 'Bleu'}\n",
    "F = {'nom': 'F', 'abs': 3, 'ord': 5, 'classe': 'Rouge'}\n",
    "G = {'nom': 'G', 'abs': 2, 'ord': 5, 'classe': 'Rouge'}\n",
    "H = {'nom': 'H', 'abs': 6, 'ord': 4, 'classe': 'Bleu'}\n",
    "I = {'nom': 'I', 'abs': 5, 'ord': 5, 'classe': 'Rouge'}"
   ]
  },
  {
   "cell_type": "markdown",
   "metadata": {},
   "source": [
    "## Distance euclidienne\n",
    "\n",
    "La fonction `distance_euclidienne(d1, d2)` suivante renvoie la distance euclidienne entre les données `d1` et `d2` (dictionnaires ayant des clés représentant une abscisse et une ordonnée)."
   ]
  },
  {
   "cell_type": "code",
   "execution_count": null,
   "metadata": {},
   "outputs": [],
   "source": [
    "from math import sqrt # pour utiliser la fonction racine carrée = sqrt\n",
    "\n",
    "def distance_euclidienne(d1, d2):\n",
    "    x1 = d1['abs']  # abscisse de la donnée 1\n",
    "    y1 = d1['ord']  # ordonnée de la donnée 1\n",
    "    x2 = d2['abs']  # abscisse de la donnée 2\n",
    "    y2 = d2['ord']  # ordonnée de la donnée 2\n",
    "    return sqrt((x2-x1)**2 + (y2-y1)**2)  # formule donnant la distance euclidienne\n",
    "\n",
    "assert distance_euclidienne(B, D) == 1  # la distance euclidienne entre les points (2,2) et (2,3) (B et D)\n",
    "assert distance_euclidienne(A, B) == sqrt(2)\n",
    "assert distance_euclidienne(D, D) == 0\n",
    "assert distance_euclidienne(B, F) == sqrt(10)"
   ]
  },
  {
   "cell_type": "markdown",
   "metadata": {},
   "source": [
    "## Distance de Manhattan\n",
    "\n",
    "**Question 1** Ecrivez une fonction `distance_manhattan(d1, d2)` qui renvoie la distance de Manhattan entre les données `d1` et `d2`. On rappelle que la fonction valeur absolue est notée `abs` en Python. Quelques assertions devant être vérifiées par la fonction sont données ci-dessous."
   ]
  },
  {
   "cell_type": "code",
   "execution_count": null,
   "metadata": {},
   "outputs": [],
   "source": [
    "# à compléter\n"
   ]
  },
  {
   "cell_type": "code",
   "execution_count": null,
   "metadata": {},
   "outputs": [],
   "source": [
    "assert distance_manhattan(A, B) == 2\n",
    "assert distance_manhattan(D, H) == 5\n",
    "assert distance_manhattan(E, F) == 3\n",
    "assert distance_manhattan(D, D) == 0"
   ]
  },
  {
   "cell_type": "markdown",
   "metadata": {},
   "source": [
    "## Distance de Tchebychev\n",
    "\n",
    "**Question 2** : Ecrivez une fonction `distance_tchebychev(m1, m2)` qui renvoie la distance de Tchebychev entre les données `d1` et `d2`. On rappelle que la fonction valeur absolue est notée `abs` en Python. Vous commencerez par écrire quelques assertions devant être vérifiées par la fonction."
   ]
  },
  {
   "cell_type": "code",
   "execution_count": null,
   "metadata": {},
   "outputs": [],
   "source": [
    "# à compléter\n",
    "\n",
    "\n",
    "# tests à écrire (assertions) :\n"
   ]
  },
  {
   "cell_type": "markdown",
   "metadata": {},
   "source": [
    "# Exercice 3 : implémentation de l'algo des kppv\n",
    "\n",
    "On va travailler avec les données de l'exercice 1 dont on redonne la figure.\n",
    "\n",
    "![figure](data:image/png;base64,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)\n",
    "\n",
    "## Représentation des données\n",
    "\n",
    "Comme dans l'exercice 2, chaque point est représente par un dictionnaire et on peut mémoriser dans une table `donnees` l'ensemble des points de la figure."
   ]
  },
  {
   "cell_type": "code",
   "execution_count": null,
   "metadata": {},
   "outputs": [],
   "source": [
    "A = {'nom': 'A', 'abs': 1, 'ord': 1, 'classe': 'Bleu'}\n",
    "B = {'nom': 'B', 'abs': 2, 'ord': 2, 'classe': 'Bleu'}\n",
    "C = {'nom': 'C', 'abs': 4, 'ord': 2, 'classe': 'Bleu'}\n",
    "D = {'nom': 'D', 'abs': 2, 'ord': 3, 'classe': 'Rouge'}\n",
    "E = {'nom': 'E', 'abs': 4, 'ord': 3, 'classe': 'Bleu'}\n",
    "F = {'nom': 'F', 'abs': 3, 'ord': 5, 'classe': 'Rouge'}\n",
    "G = {'nom': 'G', 'abs': 2, 'ord': 5, 'classe': 'Rouge'}\n",
    "H = {'nom': 'H', 'abs': 6, 'ord': 4, 'classe': 'Bleu'}\n",
    "I = {'nom': 'I', 'abs': 5, 'ord': 5, 'classe': 'Rouge'}\n",
    "\n",
    "donnees = [A, B, C, D, E, F, G, H, I]\n",
    "donnees"
   ]
  },
  {
   "cell_type": "markdown",
   "metadata": {},
   "source": [
    "## Algorithme des kppv avec la distance euclidienne\n",
    "\n",
    "On va maintenant implémenter l'algorithme des $k$ plus proches voisins (abrégé *kppv*) que l'on rappelle :\n",
    "\n",
    "1. Créer une table `distances_voisins` contenant les éléments de la table `donnees` et leurs distances avec la donnée `cible`.  \n",
    "2. Trier les données de la table `distances_voisins` selon la distance croissante avec la donnée `cible`\n",
    "3. Renvoyer les `k` premiers éléments de cette table triée."
   ]
  },
  {
   "cell_type": "markdown",
   "metadata": {},
   "source": [
    "### Première étape : création de la table avec les distances \n",
    "\n",
    "Il faut commencer par choisir comment représenter les éléments de la table `distances_voisins`. Ici, il a été décidé de reprendre les dictionnaires de la table `donnees` en leur **ajoutant une clé correspondant à la distance avec la cible**. \n",
    "\n",
    "Par exemple, le premier élément de `distances_voisins` sera le dictionnaire\n",
    "\n",
    "```python\n",
    "{'nom': 'A', 'abs': 1, 'ord': 1, 'classe': 'Bleu', 'distance' : dist}\n",
    "```\n",
    "\n",
    "qui est le premier dictionnaire des données auquel on a ajouté une clé `'distance'` dont la valeur `dist` est la distance à calculer entre le point `'A'` et la cible.\n",
    "\n",
    "> On aurait aussi pu choisir d'utiliser un tableau ou même de ne conserver que les distances en travaillant par la suite qu'avec les indices pour retrouver les plus proches voisins."
   ]
  },
  {
   "cell_type": "markdown",
   "metadata": {},
   "source": [
    "**Question 1** : Construire la table `distances_voisins` à partir de la table `donnees` en prenant le point $M(1,3)$ comme `cible` et la distance euclidienne comme distance."
   ]
  },
  {
   "cell_type": "code",
   "execution_count": null,
   "metadata": {},
   "outputs": [],
   "source": [
    "cible = {'nom': 'M', 'abs': 1, 'ord': 3} \n",
    "# à vous de jouer !\n"
   ]
  },
  {
   "cell_type": "markdown",
   "metadata": {},
   "source": [
    "**Question 2** : Comparez la table `distances_voisins` obtenue avec les réponses obtenues dans l'exercice 1."
   ]
  },
  {
   "cell_type": "code",
   "execution_count": null,
   "metadata": {
    "scrolled": true
   },
   "outputs": [],
   "source": [
    "# à vous de jouer !"
   ]
  },
  {
   "cell_type": "markdown",
   "metadata": {},
   "source": [
    "### Deuxième étape : tri de la table\n",
    "\n",
    "Il faut désormais trier la table obtenue par ordre croissant des distances. \n",
    "\n",
    "**Question 3** : Utilisez la fonction `sorted` pour créer une nouvelle table `distances_voisins_triee` qui contient les éléments de la table `distances_voisins` triés par ordre croissant selon la clé `'distance'`. _Il faudra au préalable définir la fonction de tri_.\n",
    "\n",
    ">Se référer si besoin au paragraphe \"Trier des données en fonction d'une clé\" du TP : [Tri d'une table](http://info-mounier.fr/notebook/?from=https://raw.githubusercontent.com/germainbecker/NSI/master/Premiere/Theme3_traitement_donnees_tables/TriTable.ipynb&aux=https://raw.githubusercontent.com/germainbecker/NSI/master/Premiere/Theme3_traitement_donnees_tables/eleves.csv&aux=https://raw.githubusercontent.com/germainbecker/NSI/master/Premiere/Theme3_traitement_donnees_tables/prenoms2020.csv&aux=https://raw.githubusercontent.com/germainbecker/NSI/master/Premiere/Theme3_traitement_donnees_tables/prenoms2019.csv#Trier-des-donn%C3%A9es-en-fonction-d'une-cl%C3%A9)"
   ]
  },
  {
   "cell_type": "code",
   "execution_count": null,
   "metadata": {},
   "outputs": [],
   "source": [
    "# à vous de jouer !\n"
   ]
  },
  {
   "cell_type": "markdown",
   "metadata": {},
   "source": [
    "**Question 4** : Vérifiez que les données ont bien été triées par ordre croissant des distances avec le point $M(1,3)$ : les points $D$, $B$, $A$, $G$, $F$, $E$, $C$, $I$ et $H$ dans cet ordre."
   ]
  },
  {
   "cell_type": "markdown",
   "metadata": {},
   "source": [
    "### Troisième étape : récupérer les $k$ plus proches voisins\n",
    "\n",
    "Pour récupérer les $k$ plus proches voisins il suffit de récupérer les $k$ premiers éléments de la table `distances_voisins_triee`. Avec une boucle `for` cela donnerait"
   ]
  },
  {
   "cell_type": "code",
   "execution_count": null,
   "metadata": {},
   "outputs": [],
   "source": [
    "k = 3\n",
    "k_plus_proches_voisins = [distances_voisins_triee[i] for i in range(k)]\n",
    "k_plus_proches_voisins"
   ]
  },
  {
   "cell_type": "markdown",
   "metadata": {},
   "source": [
    "On peut également utiliser un \"slice\" (ou _tranche_ en français, hors programme mais parfois très utile)"
   ]
  },
  {
   "cell_type": "code",
   "execution_count": null,
   "metadata": {},
   "outputs": [],
   "source": [
    "k = 3\n",
    "k_plus_proches_voisins = distances_voisins_triee[0:k]  # récupère les k premiers éléments de distances_voisins_triee\n",
    "k_plus_proches_voisins"
   ]
  },
  {
   "cell_type": "markdown",
   "metadata": {},
   "source": [
    "On trouve, ce que l'on peut facilement vérifier sur le graphique, que : \n",
    "- les trois points les plus proches de $M$ sont les points $D(2,3)$, $B(2,2)$ et $A(1,1)$ ;\n",
    "- la classe majoritaire parmi ces voisins est `'Bleu'` (2 contre 1) donc on peut prédire que le point cible $M$ est de classe \"Bleue\"."
   ]
  },
  {
   "cell_type": "markdown",
   "metadata": {},
   "source": [
    "### BILAN : écriture d'une fonction\n",
    "\n",
    "**Question 5** : Réunissez ces trois parties pour créer une fonction `kppv(donnees, cible, k)` qui prend en paramètres la table de données `donnees`, la donnée `cible` et le nombre `k` de voisins choisis.\n",
    "\n",
    "_Un test est proposée ci-dessous pour vérifier votre fonction_."
   ]
  },
  {
   "cell_type": "code",
   "execution_count": null,
   "metadata": {},
   "outputs": [],
   "source": [
    "# à vous de jouer !\n"
   ]
  },
  {
   "cell_type": "code",
   "execution_count": null,
   "metadata": {},
   "outputs": [],
   "source": [
    "# TEST\n",
    "donnees = [A, B, C, D, E, F, G, H, I]\n",
    "cible = {'nom': 'M', 'abs': 1, 'ord': 3}\n",
    "k = 3\n",
    "assert kppv(donnees, cible, k) == [{'nom': 'D', 'abs': 2, 'ord': 3, 'classe': 'Rouge', 'distance': 1.0},\n",
    "                                   {'nom': 'B', 'abs': 2, 'ord': 2, 'classe': 'Bleu', 'distance': 1.4142135623730951},\n",
    "                                   {'nom': 'A', 'abs': 1, 'ord': 1, 'classe': 'Bleu', 'distance': 2.0}]"
   ]
  },
  {
   "cell_type": "markdown",
   "metadata": {},
   "source": [
    "**Question 6** : Utilisez la fonction `kppv` pour vérifier la réponse à la question 2 de l'exercice 1."
   ]
  },
  {
   "cell_type": "code",
   "execution_count": null,
   "metadata": {},
   "outputs": [],
   "source": [
    "# à compléter (q°2 : trois plus proches voisins de N)\n"
   ]
  },
  {
   "cell_type": "markdown",
   "metadata": {},
   "source": [
    "**Question 7** : Utilisez la fonction `kppv` pour vérifier la réponse à la question 3 de l'exercice 1."
   ]
  },
  {
   "cell_type": "code",
   "execution_count": null,
   "metadata": {},
   "outputs": [],
   "source": [
    "# à compléter (q°3 : valeur de k pour que les k plus proches voisins de N soient majoritairement bleus)\n"
   ]
  },
  {
   "cell_type": "markdown",
   "metadata": {},
   "source": [
    "### Avec les distances de Manhattan et de Tchebychev\n",
    "\n",
    "**Question 8** : Adaptez la fonction `kppv(donnees, cible, k)` pour créer deux fonctions `kppv_man(donnees, cible, k)` et `kppv_tch(donnees, cible, k)` qui renvoie la liste des $k$ plus proches voisins avec les distances de Manhattan et de Tchebychev respectivement."
   ]
  },
  {
   "cell_type": "code",
   "execution_count": null,
   "metadata": {},
   "outputs": [],
   "source": [
    "# à compléter\n"
   ]
  },
  {
   "cell_type": "code",
   "execution_count": null,
   "metadata": {},
   "outputs": [],
   "source": [
    "# à compléter\n"
   ]
  },
  {
   "cell_type": "markdown",
   "metadata": {},
   "source": [
    "**Question 9** : Trouve-t-on les mêmes $k$ plus proches voisins du point $N(4,4)$ avec ces deux distances ?"
   ]
  },
  {
   "cell_type": "code",
   "execution_count": null,
   "metadata": {},
   "outputs": [],
   "source": [
    "# à compléter\n"
   ]
  },
  {
   "cell_type": "code",
   "execution_count": null,
   "metadata": {},
   "outputs": [],
   "source": [
    "# à compléter\n"
   ]
  },
  {
   "cell_type": "code",
   "execution_count": null,
   "metadata": {},
   "outputs": [],
   "source": [
    "# à compléter\n"
   ]
  },
  {
   "cell_type": "code",
   "execution_count": null,
   "metadata": {},
   "outputs": [],
   "source": [
    "# à compléter\n"
   ]
  },
  {
   "cell_type": "markdown",
   "metadata": {},
   "source": [
    "Réponse : "
   ]
  },
  {
   "cell_type": "markdown",
   "metadata": {},
   "source": [
    "# Exercice 4 : TOP 14\n",
    "\n",
    "## Présentation\n",
    "\n",
    "Vous allez travailler avec le fichier `top14.csv` qui contient des données sur tous les joueurs du top 14 de rugby. On peut représenter (une partie de) ces données de la façon suivante.\n",
    "\n",
    "![top14](data:image/png;base64,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)\n",
    "\n",
    "> L'objectif de l'exercice est de prédire le poste le plus adéquat pour un nouveau joueur en fonction de son poids et de sa taille.\n",
    "\n",
    "## Représentation des données\n",
    "\n",
    "On peut mémoriser les données du fichier `top14.csv` dans une table `joueurs` où chaque joueur est représenté par un dictionnaire."
   ]
  },
  {
   "cell_type": "code",
   "execution_count": null,
   "metadata": {},
   "outputs": [],
   "source": [
    "import csv\n",
    "fichier = open('top14.csv', 'r', encoding = 'UTF-8')\n",
    "t = csv.DictReader(fichier, delimiter=',')\n",
    "joueurs = [dict(ligne) for ligne in t] # création et construction du tableau par compréhension\n",
    "fichier.close()"
   ]
  },
  {
   "cell_type": "markdown",
   "metadata": {},
   "source": [
    "Voici le contenu de la table."
   ]
  },
  {
   "cell_type": "code",
   "execution_count": null,
   "metadata": {},
   "outputs": [],
   "source": [
    "joueurs"
   ]
  },
  {
   "cell_type": "markdown",
   "metadata": {},
   "source": [
    "**Question 1** : Quelles sont les données fournies dans cette table ?"
   ]
  },
  {
   "cell_type": "markdown",
   "metadata": {},
   "source": [
    "Réponse : "
   ]
  },
  {
   "cell_type": "markdown",
   "metadata": {},
   "source": [
    "**Question 2** : Quelle instruction permet d'accéder au poste du premier joueur de la table ?"
   ]
  },
  {
   "cell_type": "code",
   "execution_count": null,
   "metadata": {},
   "outputs": [],
   "source": [
    "# à compléter\n"
   ]
  },
  {
   "cell_type": "markdown",
   "metadata": {},
   "source": [
    "**Question 3** : Quelle instruction permet d'accéder au poids du deuxième joueur de la table ?"
   ]
  },
  {
   "cell_type": "code",
   "execution_count": null,
   "metadata": {},
   "outputs": [],
   "source": [
    "# à compléter\n"
   ]
  },
  {
   "cell_type": "markdown",
   "metadata": {},
   "source": [
    "**Question 4** : Quelle instruction permet d'accéder à la taille du troisième joueur de la table ?"
   ]
  },
  {
   "cell_type": "code",
   "execution_count": null,
   "metadata": {},
   "outputs": [],
   "source": [
    "# à compléter\n"
   ]
  },
  {
   "cell_type": "markdown",
   "metadata": {},
   "source": [
    "On peut facilement représenter les différents joueurs dans un repère en fonction de leur taille (en abscisse) et leurs poids (en ordonnée) grâce à la bibliothèque `matplotlib`."
   ]
  },
  {
   "cell_type": "code",
   "execution_count": null,
   "metadata": {},
   "outputs": [],
   "source": [
    "import matplotlib.pyplot as plt\n",
    "\n",
    "taille = [int(j['Taille']) for j in joueurs] # construction des abscisses avec la taille\n",
    "poids = [int(j['Poids']) for j in joueurs] # construction du tableau des valeurs d'attaque\n",
    "plt.plot(taille, poids, 'ro') # construction du graphique\n",
    "plt.title(\"Joueurs du Top 14\") # légende\n",
    "plt.xlabel('Taille (en cm)') \n",
    "plt.ylabel('Poids (en kg)')\n",
    "plt.show()  # affichage du graphique\n",
    "plt.close()  # pour que les constructions ultérieures se fassent dans un nouveau graphique"
   ]
  },
  {
   "cell_type": "markdown",
   "metadata": {},
   "source": [
    "On peut maintenant colorer ces points selon les postes des joueurs (Pilier, Talonneur, 2ème ligne, 3ème ligne, Mêlée, Ouverture, Centre, Ailier)."
   ]
  },
  {
   "cell_type": "code",
   "execution_count": null,
   "metadata": {},
   "outputs": [],
   "source": [
    "taille_piliers = [int(j['Taille']) for j in joueurs if j['Poste'] == 'Pilier']\n",
    "poids_piliers = [int(j['Poids']) for j in joueurs if j['Poste'] == 'Pilier']\n",
    "\n",
    "taille_talonneurs = [int(j['Taille']) for j in joueurs if j['Poste'] == 'Talonneur']\n",
    "poids_talonneurs = [int(j['Poids']) for j in joueurs if j['Poste'] == 'Talonneur']\n",
    "\n",
    "taille_2lignes = [int(j['Taille']) for j in joueurs if j['Poste'] == '2ème ligne']\n",
    "poids_2lignes = [int(j['Poids']) for j in joueurs if j['Poste'] == '2ème ligne']\n",
    "\n",
    "taille_3lignes = [int(j['Taille']) for j in joueurs if j['Poste'] == '3ème ligne']\n",
    "poids_3lignes = [int(j['Poids']) for j in joueurs if j['Poste'] == '3ème ligne']\n",
    "\n",
    "taille_melee = [int(j['Taille']) for j in joueurs if j['Poste'] == 'Mêlée']\n",
    "poids_melee = [int(j['Poids']) for j in joueurs if j['Poste'] == 'Mêlée']\n",
    "\n",
    "taille_ouvertures = [int(j['Taille']) for j in joueurs if j['Poste'] == 'Ouverture']\n",
    "poids_ouvertures = [int(j['Poids']) for j in joueurs if j['Poste'] == 'Ouverture']\n",
    "\n",
    "taille_centres = [int(j['Taille']) for j in joueurs if j['Poste'] == 'Centre']\n",
    "poids_centres = [int(j['Poids']) for j in joueurs if j['Poste'] == 'Centre']\n",
    "\n",
    "taille_ailiers = [int(j['Taille']) for j in joueurs if j['Poste'] == 'Ailier']\n",
    "poids_ailiers = [int(j['Poids']) for j in joueurs if j['Poste'] == 'Ailier']\n",
    "\n",
    "plt.plot(taille_piliers, poids_piliers, 'ro') # construction des piliers\n",
    "plt.plot(taille_talonneurs, poids_talonneurs, 'bo') # construction des talonneurs\n",
    "plt.plot(taille_2lignes, poids_2lignes, 'yo') # construction des 2èmes lignes\n",
    "plt.plot(taille_3lignes, poids_3lignes, 'go') # construction des 3èmes lignes\n",
    "plt.plot(taille_melee, poids_melee, 'ko') # construction des demis de mêlée\n",
    "plt.plot(taille_ouvertures, poids_ouvertures, 'co') # construction des demis d'ouverture\n",
    "plt.plot(taille_centres, poids_centres, 'mo') # construction des centres\n",
    "plt.plot(taille_ailiers, poids_ailiers, color='darkorange', linestyle='none', marker = 'o') # construction des ailiers\n",
    "\n",
    "plt.title(\"Joueurs du Top 14\")\n",
    "plt.xlabel('Taille (en cm)')\n",
    "plt.ylabel('Poids (en kg)')\n",
    "plt.legend(['Pilier', 'Talonneur', '2ème ligne', '3ème ligne', 'Mêlée', 'Ouverture', 'Centre', 'Ailier'], loc='upper center', bbox_to_anchor=(1.2, 0.8))\n",
    "plt.show()\n",
    "plt.close()"
   ]
  },
  {
   "cell_type": "markdown",
   "metadata": {},
   "source": [
    "## Prédire un poste\n",
    "\n",
    "Vous rencontrez une personne souhaitant jouer au rugby. Elle vous donne sa taille (180 cm) et son poids (100 kg). Vous allez utiliser l'algorithme des $k$ plus proches voisins pour lui indiquer quel poste est le plus proche de ses caractéristiques physiques.\n",
    "\n",
    "**Question 5** : Quelle est le dictionnaire `cible` de notre donnée cible ?"
   ]
  },
  {
   "cell_type": "code",
   "execution_count": null,
   "metadata": {},
   "outputs": [],
   "source": [
    "# à compléter\n"
   ]
  },
  {
   "cell_type": "markdown",
   "metadata": {},
   "source": [
    "**Question 6** : Adaptez la fonction `distance_euclidienne(d1, d2)` afin qu'elle renvoie la distance entre deux dictionnaires `d1` et `d2` par rapport à leurs clés `Taille` et `Poids`."
   ]
  },
  {
   "cell_type": "code",
   "execution_count": null,
   "metadata": {},
   "outputs": [],
   "source": [
    "def distance_euclidienne(d1, d2):\n",
    "    # à compléter"
   ]
  },
  {
   "cell_type": "markdown",
   "metadata": {},
   "source": [
    "**Question 7** : Utilisez la fonction `kppv` de l'exercice précédent pour répondre au problème. Essayez pour différentes valeurs de $k$ et pensez à vérifier la cohérence sur le graphique. *Vous devez un poste majoritaire qui est 'Talonneur' pour les premières valeurs de $k$*."
   ]
  },
  {
   "cell_type": "code",
   "execution_count": null,
   "metadata": {},
   "outputs": [],
   "source": [
    "# à compléter\n"
   ]
  },
  {
   "cell_type": "code",
   "execution_count": null,
   "metadata": {},
   "outputs": [],
   "source": [
    "# à compléter\n"
   ]
  },
  {
   "cell_type": "markdown",
   "metadata": {},
   "source": [
    "### BONUS\n",
    "\n",
    "**Questions ouvertes** :\n",
    "\n",
    "1. *Difficulté* &#9733;&#9733; : Ecrivez une fonction `prediction` qui permet d'afficher la classe majoritaire (la prédiction) du tableau de $k$ plus proches voisins.\n",
    "\n",
    "2. *Difficulté* &#9733;&#9733;&#9733; : Ecrivez un programme permettant de déterminer la meilleure valeur de $k$ possible pour l'algorithme de kppv (voir le paragraphe en question dans le cours qui explique une méthode : la *validation croisée*)."
   ]
  },
  {
   "cell_type": "markdown",
   "metadata": {},
   "source": [
    "---\n",
    "\n",
    "**Références :**\n",
    "- Documents ressources du DIU EIL, Université de Nantes, C. JERMANN.\n",
    "- Cours de G. LASSUS pour l'idée de l'exercice 4 sur les joueurs du Top 14 : [lien vers son Notebook sur Github](https://github.com/glassus/nsi/blob/master/Premiere/Theme05_Algorithmique/07_Algorithme_KNN.ipynb)"
   ]
  },
  {
   "cell_type": "markdown",
   "metadata": {},
   "source": [
    "---\n",
    "Germain BECKER, Lycée Mounier, ANGERS ![Licence Creative Commons](https://i.creativecommons.org/l/by-nc-sa/4.0/88x31.png)"
   ]
  }
 ],
 "metadata": {
  "kernelspec": {
   "display_name": "Python 3",
   "language": "python",
   "name": "python3"
  },
  "language_info": {
   "codemirror_mode": {
    "name": "ipython",
    "version": 3
   },
   "file_extension": ".py",
   "mimetype": "text/x-python",
   "name": "python",
   "nbconvert_exporter": "python",
   "pygments_lexer": "ipython3",
   "version": "3.7.9"
  }
 },
 "nbformat": 4,
 "nbformat_minor": 2
}
