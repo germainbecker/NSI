{
 "cells": [
  {
   "cell_type": "markdown",
   "metadata": {},
   "source": [
    "<h1 style=\"font-size: 30px; text-align: center\">Les algorithmes de tri en pratique</h1>\n",
    "\n",
    "---"
   ]
  },
  {
   "cell_type": "markdown",
   "metadata": {},
   "source": [
    "**NOM / Prénom** : *écrivez ici votre nom et votre prénom*"
   ]
  },
  {
   "cell_type": "markdown",
   "metadata": {},
   "source": [
    "**Objectifs** :\n",
    "- Observer expérimentalement le coût quadratique des algorithmes de tri par insertion et par sélection\n",
    "- Constater l'inefficacité de ces deux algorithmes élémentaires dès que le tableau est trop grand\n",
    "- Découvrir les fonctions de tri (efficace) offertes par Python\n",
    "- (Optionnel : observer expérimentalement l'influence du tableau de départ (pire cas / meilleur cas) sur le temps d'exécution d'un tri par insertion/sélection)"
   ]
  },
  {
   "cell_type": "markdown",
   "metadata": {},
   "source": [
    "# Les tris par insertion et par sélection ont un coût quadratique\n",
    "\n",
    "## Implémentation des deux tris\n",
    "\n",
    "On commence par rappeler l'implémentation des deux algorithmes de tri par insertion et de tri par sélection."
   ]
  },
  {
   "cell_type": "code",
   "execution_count": null,
   "metadata": {},
   "outputs": [],
   "source": [
    "# ------ TRI PAR INSERTION --------\n",
    "\n",
    "def tri_insertion(T):\n",
    "    \"\"\"\n",
    "    Trie le tableau T dans l'ordre croissant.\n",
    "    Paramètre : T est un tableau non vide\n",
    "    Sortie : aucune (car le tableau est T trié en place).\n",
    "    \"\"\"\n",
    "    for i in range(1,len(T)):\n",
    "        x = T[i]                    # x = T[i] est l'élément à insérer\n",
    "        # décalages nécessaires et recherche position d'insertion pour T[i]\n",
    "        j = i                       # j est la position d'insertion\n",
    "        while j > 0 and x < T[j-1]: # tant qu'on n'a pas atteint le premier  \n",
    "                                    # et T[i] est plus petit que ses précédents\n",
    "            T[j] = T[j-1]           # on décale vers la droite le précédent\n",
    "            j = j - 1               # on passe à la position précédente\n",
    "        # insertion de T[i] en position j\n",
    "        T[j] = x                    \n",
    "        \n",
    "# ------ TRI PAR SELECTION --------\n",
    "\n",
    "def echange(T, i, j):\n",
    "    \"\"\"Echange T[i] et T[j]\"\"\"\n",
    "    temp = T[i]\n",
    "    T[i] = T[j]\n",
    "    T[j] = temp\n",
    "\n",
    "def tri_selection(T):\n",
    "    \"\"\"\n",
    "    Trie le tableau T dans l'ordre croissant.\n",
    "    Paramètre : T est un tableau non vide\n",
    "    Sortie : aucune (car le tableau est T trié en place).\n",
    "    \"\"\"\n",
    "    for i in range(len(T)-1):        \n",
    "        # recherche de l'indice du minimum dans T[i:n-1]\n",
    "        ind_min = i\n",
    "        for j in range(i+1, len(T)):\n",
    "            if T[j] < T[ind_min]:\n",
    "                ind_min = j        \n",
    "        # échange avec l'élément d'indice i\n",
    "        echange(T, i, ind_min)"
   ]
  },
  {
   "cell_type": "markdown",
   "metadata": {},
   "source": [
    "On peut alors tester les deux fonctions."
   ]
  },
  {
   "cell_type": "code",
   "execution_count": null,
   "metadata": {},
   "outputs": [],
   "source": [
    "tab = [4, 1, 7, 8, 1, 0, 2, 3, 5, 10]\n",
    "tri_insertion(tab)\n",
    "tab"
   ]
  },
  {
   "cell_type": "code",
   "execution_count": null,
   "metadata": {},
   "outputs": [],
   "source": [
    "tab = [4, 1, 7, 8, 1, 0, 2, 3, 5, 10]\n",
    "tri_selection(tab)\n",
    "tab"
   ]
  },
  {
   "cell_type": "markdown",
   "metadata": {},
   "source": [
    "**Question 1** : Au moyen de `assert`, proposez un jeu de tests pour ces deux fonctions."
   ]
  },
  {
   "cell_type": "code",
   "execution_count": null,
   "metadata": {},
   "outputs": [],
   "source": [
    "# à vous de jouer !\n"
   ]
  },
  {
   "cell_type": "markdown",
   "metadata": {},
   "source": [
    "## Efficacité des tris\n",
    "\n",
    "Sans chercher pour commencer à se placer dans un pire cas, regardons d'abord l'efficacité des deux algorithmes en évaluant leur temps d'exécution sur des tableaux de plus en plus grand.\n",
    "\n",
    "### Tableaux de taille 100 pour démarrer\n",
    "\n",
    "On va générer des tableaux d'entiers aléatoirement choisis entre 0 et 100. On aura besoin pour cela de la fonction `randint` du module `random`."
   ]
  },
  {
   "cell_type": "code",
   "execution_count": null,
   "metadata": {},
   "outputs": [],
   "source": [
    "from random import randint  # à exécuter pour importer la fonction randint"
   ]
  },
  {
   "cell_type": "markdown",
   "metadata": {},
   "source": [
    "Pour construire un tableau aléatoire de taille 100, on peut procéder par compréhension comme ci-dessous :"
   ]
  },
  {
   "cell_type": "code",
   "execution_count": null,
   "metadata": {},
   "outputs": [],
   "source": [
    "t100 = [randint(0, 100) for i in range(100)] # création d'un tableau de taille 100 contenant des entiers de 0 à 100.\n",
    "print(t100) # tableau avant tri\n",
    "tri_insertion(t100)  # tri du tableau\n",
    "print(t100) # tableau après tri"
   ]
  },
  {
   "cell_type": "markdown",
   "metadata": {},
   "source": [
    "**Attention** : à chaque exécution, un nouveau tableau est généré. Exécutez à nouveau la cellule précédente pour vous en rendre compte."
   ]
  },
  {
   "cell_type": "markdown",
   "metadata": {},
   "source": [
    "Pour connaître le temps d'exécution pour trier ce tableau, on peut utiliser la commande magique `%time` qui permet de *chronométrer* le temps nécessaire pour exécuter l'instruction qui la suit directement (et qui est réellement exécutée !)\n",
    "\n",
    "> *Exemple* : si on écrit la ligne `%time instruction`, alors `instruction` est exécutée et son temps d'exécution s'affiche dans la console. **Le temps à observer est celui s'affichant après les mots \"Wall time:\".**"
   ]
  },
  {
   "cell_type": "code",
   "execution_count": null,
   "metadata": {},
   "outputs": [],
   "source": [
    "t100 = [randint(0, 100) for i in range(100)]\n",
    "print(t100)\n",
    "%time tri_insertion(t100)  # exécute l'instruction et mesure son temps d'exécution\n",
    "print(t100)"
   ]
  },
  {
   "cell_type": "markdown",
   "metadata": {},
   "source": [
    "**Question 2** : Exécutez plusieurs fois la cellule ci-dessus pour vérifier que le tri se fait rapidement, en quelques nanosecondes (1 ns = $10^{-9}$ s), microsecondes (1 µs = $10^{-6}$ s) ou millisecondes (1 ms = $10^{-6}$ s). Pourquoi obtient-on des résultats légèrement différents d'un tableau à l'autre ?"
   ]
  },
  {
   "cell_type": "markdown",
   "metadata": {},
   "source": [
    "Votre réponse : (**à compléter**)"
   ]
  },
  {
   "cell_type": "markdown",
   "metadata": {},
   "source": [
    ">**Remarque** : Sans entrer dans les détails, sachez également que ces temps de calcul dépendent aussi de la puissance de la machine qui exécute le code. Cela donne toutefois une bonne indication."
   ]
  },
  {
   "cell_type": "markdown",
   "metadata": {},
   "source": [
    "**Question 3** : Procédez de même pour évaluer le temps d'un **tri par sélection** d'un tableau de taille 100. *Vous devez constater des temps du même ordre de grandeur*."
   ]
  },
  {
   "cell_type": "code",
   "execution_count": null,
   "metadata": {},
   "outputs": [],
   "source": [
    "# à vous de jouer !\n"
   ]
  },
  {
   "cell_type": "markdown",
   "metadata": {},
   "source": [
    "### Tableaux de taille 1000\n",
    "\n",
    "On peut créer un tableau `t1000` de taille 1000 en modifiant uniquement la valeur du `range`. Et on peut voir le temps pour trier un tel tableau."
   ]
  },
  {
   "cell_type": "code",
   "execution_count": null,
   "metadata": {
    "scrolled": true
   },
   "outputs": [],
   "source": [
    "t1000 = [randint(0, 100) for i in range(1000)]\n",
    "print(t1000)\n",
    "%time tri_insertion(t1000)  # exécute l'instruction et mesure son temps d'exécution\n",
    "print(t1000)"
   ]
  },
  {
   "cell_type": "markdown",
   "metadata": {},
   "source": [
    "**Question 4** : Exécutez 5 fois la cellule précédente pour voir le temps de tri. Notez chaque temps et faites une moyenne du temps."
   ]
  },
  {
   "cell_type": "markdown",
   "metadata": {},
   "source": [
    "*Votre réponse* : (**à compléter**)"
   ]
  },
  {
   "cell_type": "markdown",
   "metadata": {},
   "source": [
    "**Question 5** : Créez et triez maintenant un tableau `t2000` de taille 2000 (on a donc *doublé* la taille du tableau par rapport à la question 4). Exécutez 5 fois la cellule et faites la moyennes des temps de tri (par sélection) du tableau. *N'hésitez pas à enlever les `print` si cela devient trop long !*."
   ]
  },
  {
   "cell_type": "code",
   "execution_count": null,
   "metadata": {},
   "outputs": [],
   "source": [
    "# à vous de jouer !\n"
   ]
  },
  {
   "cell_type": "markdown",
   "metadata": {},
   "source": [
    "*Votre réponse* : temps moyen pour trier tableau de taille 2000 : ...  (**à compléter**)"
   ]
  },
  {
   "cell_type": "markdown",
   "metadata": {},
   "source": [
    "**Question 6** : Par combien environ a été multiplié le temps du tri par sélection entre un tableau de taille 1000 et un tableau de taille 2000 (le double) ?"
   ]
  },
  {
   "cell_type": "markdown",
   "metadata": {},
   "source": [
    "*Votre réponse* : si la taille du tableau double, alors le temps du tri par sélection est environ multiplié par ... (**à compléter**)"
   ]
  },
  {
   "cell_type": "markdown",
   "metadata": {},
   "source": [
    "**Question 7** : Qu'en est-il si la taille est triplée (de 1000 à 3000 par exemple) ? Faites les essais avant de répondre."
   ]
  },
  {
   "cell_type": "code",
   "execution_count": null,
   "metadata": {},
   "outputs": [],
   "source": [
    "# à vous de jouer !\n"
   ]
  },
  {
   "cell_type": "markdown",
   "metadata": {},
   "source": [
    "*Votre réponse* : si la taille du tableau est multipliée par 3, alors le temps du tri par sélection est environ multiplié par ... (**à compléter**)"
   ]
  },
  {
   "cell_type": "markdown",
   "metadata": {},
   "source": [
    "**Question 8** : Vérifiez qu'il en est de même pour un **tri par insertion**."
   ]
  },
  {
   "cell_type": "code",
   "execution_count": null,
   "metadata": {},
   "outputs": [],
   "source": [
    "# à vous de jouer !\n"
   ]
  },
  {
   "cell_type": "markdown",
   "metadata": {},
   "source": [
    "### Et pour des tailles beaucoup plus grandes ?\n",
    "\n",
    "**Question 9** : Testez le temps pour trier par insertion ou par sélection, un tableau `t10k` de taille 10 000. (Voire un tableau `t100k` de taille 100 000 si vous êtes patient 😅)."
   ]
  },
  {
   "cell_type": "code",
   "execution_count": null,
   "metadata": {},
   "outputs": [],
   "source": [
    "# à vous de jouer !\n"
   ]
  },
  {
   "cell_type": "markdown",
   "metadata": {},
   "source": [
    "*Votre réponse* : pour trier par insertion/sélection un tableau de taille 10 000 il faut environ ... (**à compléter**)."
   ]
  },
  {
   "cell_type": "markdown",
   "metadata": {},
   "source": [
    "**Question 10** : Admettons qu'il faille 10 secondes pour trier par insertion un tableau de taille 10 000. \n",
    "\n",
    "- Quel temps faudrait-il environ pour trier un tableau de taille 100 000 (10 fois plus grand) ? \n",
    "- Et combien d'heures faudrait-il pour un tableau de 1 million de valeurs ?\n",
    "- Et combien de jours faudrait-il pour un tableau de 10 millions de valeurs ?  ⏲\n",
    "- Et combien de vies faudrait-il pour un tableau de 1 milliard de valeurs ? &#9760;"
   ]
  },
  {
   "cell_type": "markdown",
   "metadata": {},
   "source": [
    "*Votre réponse* : (**à compléter**).\n",
    "\n",
    "- pour un tableau de taille 100 000 : ...\n",
    "- pour un tableau de taille 1 000 000 : ...\n",
    "- pour un tableau de taille 10 000 000 : ...\n",
    "- pour un tableau de taille 1 000 000 000 : ..."
   ]
  },
  {
   "cell_type": "markdown",
   "metadata": {},
   "source": [
    ">Autant vous dire qu'il est inutile d'essayer de trier par insertion/sélection des tableaux de taille supérieure ou égale à 1 million, c'est très inefficace. Il existe cependant des algorithmes de tris plus efficaces. Python vous propose deux façons de trier un tableau avec un algorithme beaucoup plus efficace, c'est l'objet de la dernière partie !"
   ]
  },
  {
   "cell_type": "markdown",
   "metadata": {},
   "source": [
    "# Fonctions de tris offertes par Python\n",
    "\n",
    "Python fournit deux fonctions permettant de trier de manière plus efficace un tableau. Elles se présentent de deux façons différentes, selon que l’on veuille obtenir une copie triée du tableau, sans le modifier (`sorted`), ou au contraire modifier le tableau pour le trier (`sort`).\n",
    "\n",
    ">L'algorithme utilisé par ces fonctions est plus efficace : son coût est de l'ordre de $n \\log_2(n)$, nettement meilleur que $n^2$."
   ]
  },
  {
   "cell_type": "markdown",
   "metadata": {},
   "source": [
    "## La fonction `sorted`\n",
    "\n",
    "Celle-ci prend en argument un tableau et renvoie un **nouveau** tableau, trié, contenant les mêmes éléments."
   ]
  },
  {
   "cell_type": "code",
   "execution_count": null,
   "metadata": {},
   "outputs": [],
   "source": [
    "t = [12, 5, 3, 6, 8, 10]\n",
    "sorted(t)"
   ]
  },
  {
   "cell_type": "markdown",
   "metadata": {},
   "source": [
    "On peut voir que le tableau de départ n'a pas été modifié :"
   ]
  },
  {
   "cell_type": "code",
   "execution_count": null,
   "metadata": {},
   "outputs": [],
   "source": [
    "t"
   ]
  },
  {
   "cell_type": "markdown",
   "metadata": {},
   "source": [
    ">**Remarque** : Cette fonction permet aussi de trier des chaînes de caractères, en utilisant l'odre alphabétique."
   ]
  },
  {
   "cell_type": "code",
   "execution_count": null,
   "metadata": {},
   "outputs": [],
   "source": [
    "sorted([\"poire\", \"pomme\", \"cerise\", 'kiwi'])"
   ]
  },
  {
   "cell_type": "markdown",
   "metadata": {},
   "source": [
    "## La fonction `sort`\n",
    "\n",
    "Celle-ci s'applique à un tableau, ne renvoie rien, mais **modifie** le tableau d'origine."
   ]
  },
  {
   "cell_type": "code",
   "execution_count": null,
   "metadata": {},
   "outputs": [],
   "source": [
    "t = [5, 1, 2, 17, 9, 1, 8]\n",
    "t.sort() # ne renvoie rien"
   ]
  },
  {
   "cell_type": "markdown",
   "metadata": {},
   "source": [
    "Rien n'est renvoyé mais le tableau `t` d'origine a été modifié :"
   ]
  },
  {
   "cell_type": "code",
   "execution_count": null,
   "metadata": {},
   "outputs": [],
   "source": [
    "t"
   ]
  },
  {
   "cell_type": "markdown",
   "metadata": {},
   "source": [
    ">On peut aussi trier directement un tableau de chaînes de caractères avec `sort`."
   ]
  },
  {
   "cell_type": "code",
   "execution_count": null,
   "metadata": {},
   "outputs": [],
   "source": [
    "fruits = [\"poire\", \"pomme\", \"cerise\", 'kiwi']\n",
    "fruits.sort()\n",
    "fruits"
   ]
  },
  {
   "cell_type": "markdown",
   "metadata": {},
   "source": [
    "**Question 11** : Vérifiez qu'en utilisant l'une de ces deux méthodes, le tri d'un tableau d'un million de valeurs est instantané (il faut utiliser `%time` pour mesurer uniquement le temps du tri, et non la construction du tableau qui est plus longue)."
   ]
  },
  {
   "cell_type": "code",
   "execution_count": null,
   "metadata": {
    "scrolled": true
   },
   "outputs": [],
   "source": [
    "# à vous de jouer !\n"
   ]
  },
  {
   "cell_type": "markdown",
   "metadata": {},
   "source": [
    "# Pire/meilleur cas du tri par insertion (OPTIONNEL)\n",
    "\n",
    "On a vu dans le cours qu'un tableau trié dans l'ordre décroissant était le pire cas pour le tri par insertion. L'objectif de cette partie est d'en mesurer concrètement l'impact sur le temps de tri.\n",
    "\n",
    "On peut construire un tableau de taille 1000 trié dans l'ordre décroissant de la façon suivante."
   ]
  },
  {
   "cell_type": "code",
   "execution_count": null,
   "metadata": {},
   "outputs": [],
   "source": [
    "n = 1000 # taille du tableau\n",
    "t = [n-i for i in range(n)]\n",
    "print(t)"
   ]
  },
  {
   "cell_type": "markdown",
   "metadata": {},
   "source": [
    "**Question 12** : Évaluer le temps pour trier par insertion ce tableau."
   ]
  },
  {
   "cell_type": "code",
   "execution_count": null,
   "metadata": {},
   "outputs": [],
   "source": [
    "# à vous de jouer !\n"
   ]
  },
  {
   "cell_type": "markdown",
   "metadata": {},
   "source": [
    "**Question 13** : Et pour un tableau de taille 10 000 ? \n",
    ">Cela doit prendre quelques secondes, voire dizaines de secondes et vous devez constater que le temps est supérieur à ceux obtenu à la question 9 (où le tableau est crée aléatoirement donc il y a peu de chances d'obtenir un pire cas)."
   ]
  },
  {
   "cell_type": "code",
   "execution_count": null,
   "metadata": {},
   "outputs": [],
   "source": [
    "# à vous de jouer !\n"
   ]
  },
  {
   "cell_type": "markdown",
   "metadata": {},
   "source": [
    "**Question 14** : Le meilleur cas de l'algorithme de **tri par insertion** est celui où le tableau est déjà trié par ordre croissant au départ. Il suffit alors de faire une comparaison par tour de boucle (et constater que chaque élément est déjà au bon endroit). Créez un tableau de taille 10 000 trié par ordre croissant (par exemple, le tableau [1, 2, 3,...,10000] puis mesurez le temps pour le trier par insertion.\n",
    ">Le tri est normalement quasi instantané donc beaucoup plus rapide que pour le pire cas et que les cas générés aléatoirement."
   ]
  },
  {
   "cell_type": "code",
   "execution_count": null,
   "metadata": {},
   "outputs": [],
   "source": [
    "# à vous de jouer !\n"
   ]
  },
  {
   "cell_type": "markdown",
   "metadata": {},
   "source": [
    ">**Explications** : Si le tableau est déjà trié, alors il n'y a qu'une comparaison par tour de boucle. Comme il y a $n-1$ tours de boucle, cela fait donc $n-1$ comparaisons donc on trouve un coût de l'ordre de $n$, qui est linéaire (comme les algorithmes de recherche du nombre d'occurrences, de min/max, de calcul de moyenne...). Cela signifie que si on multiplie par $k$ la taille du tableau (déjà trié) de départ, le temps de l'algo de tri est multiplié par $k$ également. \n",
    ">Ainsi, s'il ne faut que quelques ms, disons 5 ms, pour trier un tel tableau de taille 10 000, alors pour trier un tableau trié de taille 1 000 000 (multiplication par 100) il ne faudra que $5\\times 100=500$ ms = $0,5$ s (contre $5\\times100^2=50000$ s $\\simeq 13$ min si le coût était quadratique)."
   ]
  },
  {
   "cell_type": "markdown",
   "metadata": {},
   "source": [
    "**Question 15** : Constatez que quel que soit le tableau de départ (trié par ordre décroissant, par ordre croissant, ou créé aléatoirement) il n'y a pas (autant) de différences de temps pour le trier si on utilise le **tri par sélection**.\n",
    "\n",
    ">Cela prend dans tous les cas plusieurs secondes, comme à la question 9"
   ]
  },
  {
   "cell_type": "code",
   "execution_count": null,
   "metadata": {},
   "outputs": [],
   "source": [
    "# à vous de jouer !\n"
   ]
  },
  {
   "cell_type": "markdown",
   "metadata": {},
   "source": [
    ">**Explication** : On a vu dans le cours que pour un tableau `T`, le nombre de comparaisons pour le trier par sélection est toujours égale à $\\dfrac{n(n-1)}{2}$, et ce quel que soit le tableau `T` de départ. Il est donc normal d'avoir des temps similaires."
   ]
  },
  {
   "cell_type": "markdown",
   "metadata": {},
   "source": [
    "---\n",
    "Germain BECKER & Sébastien POINT, Lycée Mounier, ANGERS\n",
    "\n",
    "Ressource éducative libre distribuée sous [Licence Creative Commons Attribution - Pas d’Utilisation Commerciale - Partage dans les Mêmes Conditions 4.0 International](http://creativecommons.org/licenses/by-nc-sa/4.0/) \n",
    "\n",
    "![Licence Creative Commons](https://i.creativecommons.org/l/by-nc-sa/4.0/88x31.png)"
   ]
  }
 ],
 "metadata": {
  "kernelspec": {
   "display_name": "Python 3",
   "language": "python",
   "name": "python3"
  },
  "language_info": {
   "codemirror_mode": {
    "name": "ipython",
    "version": 3
   },
   "file_extension": ".py",
   "mimetype": "text/x-python",
   "name": "python",
   "nbconvert_exporter": "python",
   "pygments_lexer": "ipython3",
   "version": "3.7.3"
  }
 },
 "nbformat": 4,
 "nbformat_minor": 2
}
