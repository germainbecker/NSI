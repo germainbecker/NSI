{
 "cells": [
  {
   "cell_type": "markdown",
   "id": "4a851e44",
   "metadata": {},
   "source": [
    "Les algorithmes de parcours séquentiel permettent de parcourir les éléments d'un tableau à l'aide d'une boucle.\n",
    "\n",
    "Ils font partie des algorithmes fondamentaux en informatique, leur parfaite maîtrise est donc indispensable car ils sont à la base de beaucoup d'autres algorithmes qui doivent passer en revue tous les éléments d'une collection (tableau, tuple, liste, dictionnaires, etc.).\n",
    "\n",
    "On détaille dans ce chapitre les trois algorithmes au programme :\n",
    "\n",
    "* l'algorithme de recherche d'un élément (ou d'une occurrence)\n",
    "* l'algorithme de recherche d'un extremum (maximum ou minimum)\n",
    "* l'algorithme de calcul d'une moyenne"
   ]
  },
  {
   "cell_type": "markdown",
   "id": "cef74c52",
   "metadata": {},
   "source": [
    "# Algorithme de recherche d'un élément\n",
    "\n",
    "On veut écrire un algorithme qui cherche si un élément est présent ou non dans un tableau.\n",
    "\n",
    "<img class=\"centre image-responsive\" src=\"data:image/svg+xml;base64,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\" alt=\"loupe\" width=\"180\">\n",
    "\n",
    "\n",
    "## Spécification de l'algorithme\n"
   ]
  },
  {
   "cell_type": "markdown",
   "id": "d6db43ce",
   "metadata": {},
   "source": [
    "<div class=\"important\">\n",
    "    <p>La <strong>spécification</strong> d’un algorithme précise de manière non ambigüe ce que doit faire un algorithme. En particulier, on y indique : le nom des données manipulées (entrées), le nom des données renvoyées (sorties), le rôle de l’algorithme ainsi que les hypothèses sur les entrées (précondition) et les sorties (postcondition). Un algorithme sera considéré comme <em>correct</em> s’il respecte cette spécification.</p>\n",
    "</div>"
   ]
  },
  {
   "cell_type": "markdown",
   "id": "d537406c",
   "metadata": {},
   "source": [
    "Voici la spécification de l'algorithme de recherche d'un élément :\n",
    "\n",
    "- **Entrée(s)** : un tableau `T` de taille $n$ et une valeur `v`\n",
    "- **Sortie(s)** : un booléen `trouvee`\n",
    "- **Rôle** : chercher si la valeur `v` est présente dans `T`\n",
    "- **Précondition(s)** : `v` est du même type que les éléments de `T`\n",
    "- **Postcondition(s)** : `trouvee` vaut Vrai si `v` appartient à `T`, et Faux sinon"
   ]
  },
  {
   "cell_type": "markdown",
   "id": "798b2581",
   "metadata": {},
   "source": [
    "## Algorithme\n",
    "\n",
    "L'idée est la suivante : \n",
    "\n",
    "- le booléen `trouvee` est initialisé à `Faux`\n",
    "- on parcourt une à une les valeurs du tableau `T` :\n",
    "    - si on en trouve une égale à `v`, le booléen `trouvee` prend la valeur `Vrai`\n",
    "    - sinon on ne fait rien\n",
    "\n",
    "Voici l'algorithme :\n",
    "\n",
    "```\n",
    "trouvee ← Faux\n",
    "pour i de 0 à n-1 faire :\n",
    "    si T[i] = v alors :\n",
    "        trouvee ← Vrai\n",
    "    fin si\n",
    "fin pour\n",
    "```"
   ]
  },
  {
   "cell_type": "markdown",
   "id": "37801487",
   "metadata": {},
   "source": [
    "## Coût de l'algorithme"
   ]
  },
  {
   "cell_type": "markdown",
   "id": "f4791043",
   "metadata": {},
   "source": [
    "<div class=\"important\">\n",
    "    <p>Le <strong>coût d'un algorithme</strong> est le nombre d’opérations élémentaires (arithmétiques ou logiques) ainsi que d’affectations nécessaires à son exécution <strong>dans le pire cas</strong>.\n",
    "<br>Le coût d’un algorithme dépend toujours de la taille des données d’entrée (ici la taille $n$ du tableau).\n",
    "</p>\n",
    "</div>"
   ]
  },
  {
   "cell_type": "markdown",
   "id": "9662998a",
   "metadata": {},
   "source": [
    "Dans tous les cas, notre algorithme va effectuer $n$ tours de boucle, donc dans le pire cas aussi. Ainsi, la comparaison `T[i] = v` sera effectuée $n$ fois. \n",
    "\n",
    "Si tous les éléments du tableau sont égaux à `v` alors l'affectation `trouvee ← Vrai` est effectuée à chaque tour de boucle, donc $n$ fois.\n",
    "\n",
    "On dénombre ainsi :\n",
    "\n",
    "| Comparaisons | Affectations | Opérations arithmétiques |\n",
    "| --- | --- | --- |\n",
    "| $n$ | $n+1$ | $0$ |"
   ]
  },
  {
   "cell_type": "markdown",
   "id": "c5e131e6",
   "metadata": {},
   "source": [
    "Le coût de l'algorithme (dans le pire cas) est donc $n + (n+1) + 0 = 2n + 1$. \n",
    "\n",
    "Comme ce coût est de l'ordre de $n$, on dit que le coût de l'algorithme de recherche d'un élément est **linéaire**. "
   ]
  },
  {
   "cell_type": "markdown",
   "id": "0d239814",
   "metadata": {},
   "source": [
    "## Écriture en une fonction Python\n",
    "\n",
    "On peut écrire une fonction `appartient()` possédant deux paramètres `v` et `T` qui implémente cet algorithme. Cette fonction renvoie `True` si `v` est dans `T` et `False` sinon."
   ]
  },
  {
   "cell_type": "code",
   "execution_count": 1,
   "id": "e484259e",
   "metadata": {},
   "outputs": [],
   "source": [
    "def appartient(v, T):\n",
    "    trouvee = False\n",
    "    for i in range(len(T)):\n",
    "        if T[i] == v:\n",
    "            trouvee = True\n",
    "    return trouvee"
   ]
  },
  {
   "cell_type": "markdown",
   "id": "e1661c71",
   "metadata": {},
   "source": [
    "On peut tester cette fonction :"
   ]
  },
  {
   "cell_type": "code",
   "execution_count": 2,
   "id": "0df5d970",
   "metadata": {},
   "outputs": [
    {
     "data": {
      "text/plain": [
       "True"
      ]
     },
     "execution_count": 2,
     "metadata": {},
     "output_type": "execute_result"
    }
   ],
   "source": [
    "appartient(5, [2, 3, 1, 5, 0])"
   ]
  },
  {
   "cell_type": "code",
   "execution_count": 3,
   "id": "4aa1b3fc",
   "metadata": {},
   "outputs": [
    {
     "data": {
      "text/plain": [
       "False"
      ]
     },
     "execution_count": 3,
     "metadata": {},
     "output_type": "execute_result"
    }
   ],
   "source": [
    "appartient(1, [0, 3, 0, 0])"
   ]
  },
  {
   "cell_type": "markdown",
   "id": "7b9b6691",
   "metadata": {},
   "source": [
    "### Parcours par valeur\n",
    "\n",
    "Il est aussi possible de parcourir le tableau *par valeur* et non *par indice* car on n'a pas besoin des indices d'après la spécification de l'algorithme. La fonction suivante implémente cette possibilité :"
   ]
  },
  {
   "cell_type": "code",
   "execution_count": 4,
   "id": "8ba7e418",
   "metadata": {},
   "outputs": [],
   "source": [
    "def appartient_v2(v, T):\n",
    "    trouvee = False\n",
    "    for e in T:\n",
    "        if e == v:\n",
    "            trouvee = True\n",
    "    return trouvee"
   ]
  },
  {
   "cell_type": "markdown",
   "id": "e76b7177",
   "metadata": {},
   "source": [
    "On peut tester :"
   ]
  },
  {
   "cell_type": "code",
   "execution_count": 5,
   "id": "1cfac2b6",
   "metadata": {},
   "outputs": [
    {
     "data": {
      "text/plain": [
       "True"
      ]
     },
     "execution_count": 5,
     "metadata": {},
     "output_type": "execute_result"
    }
   ],
   "source": [
    "appartient_v2(5, [2, 3, 1, 5, 0])"
   ]
  },
  {
   "cell_type": "code",
   "execution_count": 6,
   "id": "20d0b01e",
   "metadata": {},
   "outputs": [
    {
     "data": {
      "text/plain": [
       "False"
      ]
     },
     "execution_count": 6,
     "metadata": {},
     "output_type": "execute_result"
    }
   ],
   "source": [
    "appartient_v2(1, [0, 3, 0, 0])"
   ]
  },
  {
   "cell_type": "markdown",
   "id": "11456966",
   "metadata": {},
   "source": [
    "### Sortie anticipée\n",
    "\n",
    "L'algorithme ainsi écrit et implémenté par les deux fonctions précédentes peut sembler non optimal. En effet, si le premier élément du tableau `T` est la valeur `v` alors on sait de suite que la réponse est \"Vrai\" mais notre algorithme va quand même tester toutes les valeurs suivantes du tableau `T`.\n",
    "\n",
    "On peut utiliser le mot clé `return` pour stopper l'exécution de notre fonction dès que la valeur `v` est trouvée. Dans le cas, où la boucle `for` a atteint la fin du tableau sans trouver `v`, il faut renvoyer `False`."
   ]
  },
  {
   "cell_type": "code",
   "execution_count": 7,
   "id": "f75b2989",
   "metadata": {},
   "outputs": [],
   "source": [
    "def appartient_v3(v, T):\n",
    "    for e in T:\n",
    "        if e == v:\n",
    "            return True  # renvoie True dès qu'on trouve v (ce qui stoppe l'exécution de la fonction)\n",
    "    return False  # après la boucle (si v n'a pas été trouvé)"
   ]
  },
  {
   "cell_type": "code",
   "execution_count": 8,
   "id": "93fddd68",
   "metadata": {},
   "outputs": [
    {
     "data": {
      "text/plain": [
       "True"
      ]
     },
     "execution_count": 8,
     "metadata": {},
     "output_type": "execute_result"
    }
   ],
   "source": [
    "appartient_v3(5, [2, 3, 1, 5, 0])"
   ]
  },
  {
   "cell_type": "code",
   "execution_count": 9,
   "id": "2380a48b",
   "metadata": {},
   "outputs": [
    {
     "data": {
      "text/plain": [
       "False"
      ]
     },
     "execution_count": 9,
     "metadata": {},
     "output_type": "execute_result"
    }
   ],
   "source": [
    "appartient_v3(1, [0, 3, 0, 0])"
   ]
  },
  {
   "cell_type": "markdown",
   "id": "85584ff9",
   "metadata": {},
   "source": [
    "**Remarques** :\n",
    "\n",
    "1. C'est cette dernière version qui est la plus simple et la plus rapide à écrire. On pourra donc l'utiliser sans problème.\n",
    "2. Si notre algorithme ne devait plus renvoyer Vrai ou Faux mais l'indice de la valeur `v` cherchée, alors il aurait été obligatoire de parcourir le tableau par indice, pour garder trace des indices et renvoyer celui demandé. Le choix du parcours dépend donc de la spécification de l'algorithme à écrire !\n",
    "3. On aurait également pu écrire une version optimisée (avec arrêt dès que `v` est trouvée) sans utiliser une sortie anticipée (avec `return`) à condition d'utiliser une boucle `while`. Cependant l'écriture est plus longue et compliquée :\n",
    "\n",
    "```python\n",
    "def appartient_v4(v, T):\n",
    "    i = 0\n",
    "    trouvee = False\n",
    "    while i <= len(T) and trouvee == False:\n",
    "        if T[i] == v:\n",
    "            trouvee = True\n",
    "        i = i + 1\n",
    "    return trouvee\n",
    "```\n"
   ]
  },
  {
   "cell_type": "markdown",
   "id": "9d740b23",
   "metadata": {},
   "source": [
    "# Algorithme de recherche du maximum\n",
    "\n",
    "On veut écrire un algorithme qui recherche la valeur maximale dans un tableau.\n",
    "\n",
    "> La recherche du maximum est présentée ici, mais ce qui va être dit est vrai pour la recherche d'un extremum de manière générale, qu'il s'agisse d'un maximum ou d'un minimum).\n",
    "\n",
    "## Spécification de l'algorithme\n",
    "\n",
    "- **Entrée(s)** : un tableau `T` de taille $n$ et une valeur `v`\n",
    "- **Sortie(s)** : un entier `maxi`\n",
    "- **Rôle** : chercher l'élément maximal de `T`\n",
    "- **Précondition(s)** : `T` est un tableau *non vide* d'entiers\n",
    "- **Postcondition(s)** : `maxi` est un entier qui est l'élément maximal de `T`\n"
   ]
  },
  {
   "cell_type": "markdown",
   "id": "62ffee76",
   "metadata": {},
   "source": [
    "## Algorithme\n",
    "\n",
    "L'idée est la suivante : \n",
    "\n",
    "- on initialise la valeur maximale par le premier élément du tableau ;\n",
    "- on parcourt une à une les valeurs du tableau `T` (à partir de la deuxième) :\n",
    "    - si on en trouve une strictement supérieure au maximum provisoire, cette valeur devient notre nouveau maximum (provisoire).\n",
    "    - sinon, on ne fait rien\n",
    "\n",
    "Voici l'algorithme :\n",
    "\n",
    "```\n",
    "maxi ← T[0]\n",
    "pour i de 1 à n-1 faire :\n",
    "    si T[i] > maxi alors :\n",
    "        maxi ← T[i]\n",
    "    fin si\n",
    "fin pour\n",
    "```"
   ]
  },
  {
   "cell_type": "markdown",
   "id": "da3b42c3",
   "metadata": {},
   "source": [
    "## Coût de l'algorithme\n",
    "\n",
    "Dans tous les cas, notre algorithme va effectuer $n-1$ tours de boucle, donc dans le pire cas aussi. Ainsi, la comparaison `T[i] > maxi` sera effectuée $n-1$ fois. \n",
    "\n",
    "Si les éléments sont rangés dans l'ordre (strictement) croissant, alors la condition `T[i] > maxi` est vraie à chaque tour de boucle et l'affectation `maxi ← T[i]` est effectuée à chaque tour de boucle.\n",
    "\n",
    "Le *pire cas* est donc un tableau dans lequel chaque élément est strictement supérieur au précédent (par exemple `[1, 2, 3, 4, 5]` pour un tableau de $n=5$ éléments).\n",
    "\n",
    "On dénombre ainsi dans le pire cas :\n",
    "\n",
    "| Comparaisons | Affectations | Opérations arithmétiques |\n",
    "| --- | --- | --- |\n",
    "| $n-1$ | $n$ | $0$ |\n",
    "\n",
    "*Remarque* : on n'a pas compté la soustraction du `n-1` (cela ne change rien au coût)"
   ]
  },
  {
   "cell_type": "markdown",
   "id": "c400d989",
   "metadata": {},
   "source": [
    "Le coût de l'algorithme (dans le pire cas) est donc $n-1 + n + 0 = 2n - 1$. \n",
    "\n",
    "Comme ce coût est de l'ordre de $n$, on dit que le coût de l'algorithme de recherche d'un extremum est **linéaire**. "
   ]
  },
  {
   "cell_type": "markdown",
   "id": "75bb7ba2",
   "metadata": {},
   "source": [
    "## Écriture en une fonction Python\n",
    "\n",
    "On peut écrire une fonction `maximum()`, possédant en paramètre un tableau d'entiers `T` non vide, qui implémente cet algorithme. Cette fonction renvoie la valeur maximale présente dans `T`."
   ]
  },
  {
   "cell_type": "code",
   "execution_count": 10,
   "id": "a6d1334e",
   "metadata": {},
   "outputs": [],
   "source": [
    "def maximum(T):\n",
    "    maxi = T[0]\n",
    "    for i in range(1, len(T)):\n",
    "        if T[i] > maxi:\n",
    "            maxi = T[i]\n",
    "    return maxi"
   ]
  },
  {
   "cell_type": "markdown",
   "id": "f85110b8",
   "metadata": {},
   "source": [
    "On peut tester :"
   ]
  },
  {
   "cell_type": "code",
   "execution_count": 11,
   "id": "73799bcd",
   "metadata": {},
   "outputs": [
    {
     "data": {
      "text/plain": [
       "5"
      ]
     },
     "execution_count": 11,
     "metadata": {},
     "output_type": "execute_result"
    }
   ],
   "source": [
    "maximum([1, 2, 3, 4, 5])"
   ]
  },
  {
   "cell_type": "code",
   "execution_count": 12,
   "id": "f4ba1220",
   "metadata": {},
   "outputs": [
    {
     "data": {
      "text/plain": [
       "9"
      ]
     },
     "execution_count": 12,
     "metadata": {},
     "output_type": "execute_result"
    }
   ],
   "source": [
    "maximum([7, 9, 2])"
   ]
  },
  {
   "cell_type": "markdown",
   "id": "32d5b742",
   "metadata": {},
   "source": [
    "### Parcours par valeur\n",
    "\n",
    "Il est aussi possible de parcourir le tableau *par valeur* et non *par indice* car on n'a pas besoin des indices d'après la spécification de l'algorithme. La fonction suivante implémente cette possibilité :"
   ]
  },
  {
   "cell_type": "code",
   "execution_count": 13,
   "id": "5766df97",
   "metadata": {},
   "outputs": [],
   "source": [
    "def maximum_v2(T):\n",
    "    maxi = T[0]\n",
    "    for e in T:\n",
    "        if e > maxi:\n",
    "            maxi = e\n",
    "    return maxi"
   ]
  },
  {
   "cell_type": "markdown",
   "id": "84325983",
   "metadata": {},
   "source": [
    "**Remarques** :\n",
    "\n",
    "1. Cette version a le (petit) désavantage de parcourir le premier élément du tableau (au premier tour de boucle) alors que ce n'est pas utile, mais cela ne change rien au coût, qui reste linéaire, car cela n'ajoute qu'une comparaison et qu'une affectation (le coût est donc $2n+1$, donc toujours linéaire).\n",
    "2. Si notre algorithme ne devait plus renvoyer la valeur maximale mais une position de cette valeur maximale, alors il aurait été obligatoire de parcourir le tableau par indice, pour garder trace des indices et renvoyer celui demandé. Le choix du parcours dépend donc de la spécification de l'algorithme à écrire !"
   ]
  },
  {
   "cell_type": "markdown",
   "id": "84de4205",
   "metadata": {},
   "source": [
    "# Algorithme de calcul d'une moyenne\n",
    "\n",
    "On veut écrire un algorithme qui calcule la moyenne des nombres présents dans un tableau.\n",
    "\n",
    "<img class=\"centre image-responsive\" src=\"data:image/svg+xml;base64,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\" alt=\"calcul\" width=\"180\">\n",
    "\n",
    "\n",
    "\n",
    "\n",
    "## Spécification de l'algorithme\n",
    "\n",
    "- **Entrée(s)** : un tableau `T` de taille $n$\n",
    "- **Sortie(s)** : un réel `m`\n",
    "- **Rôle** : calculer la moyenne des éléments de `T`\n",
    "- **Précondition(s)** : `T` est un tableau *non vide* d'entiers\n",
    "- **Postcondition(s)** : `m` est la moyenne des éléments de `T`"
   ]
  },
  {
   "cell_type": "markdown",
   "id": "bb9d4619",
   "metadata": {},
   "source": [
    "## Algorithme\n",
    "\n",
    "L'idée est de calculer la somme des valeurs de `T` puis de calculer la moyenne en divisant la somme par le nombre d'éléments de `T` : \n",
    "\n",
    "- on initialise la somme des valeurs à 0 ;\n",
    "- on parcourt une à une les valeurs du tableau `T` :\n",
    "    - on ajoute chaque valeur à notre somme\n",
    "- la réponse est la somme divisée par `n` (le nombre d'éléments de `T`)\n",
    "\n",
    "Voici l'algorithme :\n",
    "\n",
    "```\n",
    "s ← 0\n",
    "pour i de 0 à n-1 faire :\n",
    "    s ← s + T[i]\n",
    "fin pour\n",
    "m ← s/n\n",
    "```"
   ]
  },
  {
   "cell_type": "markdown",
   "id": "7fe89168",
   "metadata": {},
   "source": [
    "## Coût de l'algorithme\n",
    "\n",
    "Dans tous les cas, notre algorithme va effectuer $n$ tours de boucle, donc dans le pire cas aussi. Ainsi, l'affectation `s ← s + T[i]` est effectuée à chaque tour de boucle.\n",
    "\n",
    "N'importe quel tableau est donc un *pire cas* pour notre algorithme.\n",
    "\n",
    "On dénombre ainsi :\n",
    "\n",
    "| Comparaisons | Affectations | Opérations arithmétiques |\n",
    "| --- | --- | --- |\n",
    "| $0$ | $n+2$ | $n+1$ |\n",
    "\n",
    "*Remarque* : il y a $n$ additions (`s ← s + T[i]`) et *une* division (`s/n`) donc $n+1$ opérations arithmétiques."
   ]
  },
  {
   "cell_type": "markdown",
   "id": "8b1a4c37",
   "metadata": {},
   "source": [
    "Le coût de l'algorithme (dans le pire cas) est donc $0 + (n+2) + (n+1) = 2n + 3$. \n",
    "\n",
    "Comme ce coût est de l'ordre de $n$, on dit que le coût de l'algorithme de calcul d'une moyenne est **linéaire**."
   ]
  },
  {
   "cell_type": "markdown",
   "id": "24acd7b4",
   "metadata": {},
   "source": [
    "## Écriture en une fonction Python\n",
    "\n",
    "On peut écrire une fonction `moyenne()`, possédant en paramètre un tableau d'entiers `T` non vide, qui implémente cet algorithme. Cette fonction renvoie la moyenne des valeurs présentes dans `T`."
   ]
  },
  {
   "cell_type": "code",
   "execution_count": 14,
   "id": "e7911439",
   "metadata": {},
   "outputs": [],
   "source": [
    "def moyenne(T):\n",
    "    s = 0\n",
    "    for i in range(len(T)):\n",
    "        s = s + T[i]\n",
    "    return s / len(T)"
   ]
  },
  {
   "cell_type": "markdown",
   "id": "7e9a374e",
   "metadata": {},
   "source": [
    "On peut tester :"
   ]
  },
  {
   "cell_type": "code",
   "execution_count": 15,
   "id": "fc267f92",
   "metadata": {},
   "outputs": [
    {
     "data": {
      "text/plain": [
       "10.0"
      ]
     },
     "execution_count": 15,
     "metadata": {},
     "output_type": "execute_result"
    }
   ],
   "source": [
    "moyenne([10, 14, 6])"
   ]
  },
  {
   "cell_type": "code",
   "execution_count": 16,
   "id": "031b2611",
   "metadata": {},
   "outputs": [
    {
     "data": {
      "text/plain": [
       "13.166666666666666"
      ]
     },
     "execution_count": 16,
     "metadata": {},
     "output_type": "execute_result"
    }
   ],
   "source": [
    "moyenne([8, 15, 12, 14, 19, 11])"
   ]
  },
  {
   "cell_type": "markdown",
   "id": "d918403f",
   "metadata": {},
   "source": [
    "### Parcours par valeur\n",
    "\n",
    "Il est aussi possible de parcourir le tableau *par valeur* et non *par indice* car on n'a pas besoin des indices. La fonction suivante implémente cette possibilité :"
   ]
  },
  {
   "cell_type": "code",
   "execution_count": 17,
   "id": "7d1c17c2",
   "metadata": {},
   "outputs": [],
   "source": [
    "def moyenne_v2(T):\n",
    "    s = 0\n",
    "    for e in T:\n",
    "        s = s + e\n",
    "    return s / len(T)"
   ]
  },
  {
   "cell_type": "markdown",
   "id": "94bb9117",
   "metadata": {},
   "source": [
    "**Remarque** : Cette fonction est légèrement plus simple à écrire et peut donc être privilégiée pour la calcul de la moyenne des éléments d'un tableau."
   ]
  },
  {
   "cell_type": "markdown",
   "id": "c2e79def",
   "metadata": {},
   "source": [
    "# Bilan\n",
    "\n",
    "* La **spécification** d'un algorithme définie de manière non ambigüe ce qu'un algorithme doit faire, les données avec lesquelles il travaille (les *entrées*) et les données qu'il renvoie (les *sorties*). \n",
    "* Un algorithme de **parcours séquentiel** d'un tableau parcoure les éléments du tableau à l'aide d'une boucle. Ces algorithmes sont à la base de beaucoup d'autres algorithmes.\n",
    "* Les trois algorithmes de parcours séquentiel étudiés ont tous un **coût linéaire**, c'est-à-dire un coût de l'ordre de la taille $n$ du tableau parcouru.\n",
    "* Le type de parcours, par indice ou par valeur, dépend de l'algorithme et de l'exercice.\n",
    "* Nous verrons d'autres algorithmes au cours de l'année, dont certain n'ont pas un coût linéaire.\n"
   ]
  },
  {
   "cell_type": "markdown",
   "id": "b5a0f17e",
   "metadata": {},
   "source": [
    "---\n",
    "**Références** :\n",
    "\n",
    "- Documents ressources de l'équipe éducative du DIU EIL, Université de Nantes, Christophe JERMANN et Christophe DECLERCQ."
   ]
  },
  {
   "cell_type": "markdown",
   "id": "f2407dee",
   "metadata": {},
   "source": [
    "---\n",
    "\n",
    "Germain BECKER & Sébastien POINT, Lycée Mounier, ANGERS ![Licence Creative Commons](https://i.creativecommons.org/l/by-nc-sa/4.0/88x31.png)"
   ]
  }
 ],
 "metadata": {
  "kernelspec": {
   "display_name": "Python 3",
   "language": "python",
   "name": "python3"
  },
  "language_info": {
   "codemirror_mode": {
    "name": "ipython",
    "version": 3
   },
   "file_extension": ".py",
   "mimetype": "text/x-python",
   "name": "python",
   "nbconvert_exporter": "python",
   "pygments_lexer": "ipython3",
   "version": "3.7.10"
  }
 },
 "nbformat": 4,
 "nbformat_minor": 5
}
