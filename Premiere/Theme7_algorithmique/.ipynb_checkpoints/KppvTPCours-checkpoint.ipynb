{
 "cells": [
  {
   "cell_type": "markdown",
   "metadata": {},
   "source": [
    "<h1 style=\"font-size: 30px; text-align: center;\">TP - Algorithme des k plus proches voisins</h1>"
   ]
  },
  {
   "cell_type": "markdown",
   "metadata": {},
   "source": [
    "> Abrégé *kppv* en français. En anglais, on dit *k nearest neighbors* souvent abrégé *knn*.\n",
    "\n",
    "L’**algorithme des k plus proches voisins** appartient à la famille des algorithmes d’*apprentissage automatique* (machine learning) qui constituent le poumon de l'intelligence artificielle actuellement.\n",
    "\n",
    "Pour simplifier, l'apprentissage automatique part souvent de données (data) et essaye de dire quelque chose des données qui n'ont pas encore été vues : il s'agit de *généraliser*, de *prédire*.\n",
    "\n",
    "On va utiliser l'algorithme des k plus proches voisins pour résoudre un *problème de classification* : prédire la classe d'une donnée *inconnue* à partir de la classe des données connues.\n",
    "\n",
    "Avant de décrire cet algorithme, introduisons la situation et le problème."
   ]
  },
  {
   "cell_type": "markdown",
   "metadata": {},
   "source": [
    "# Présentation d'un problème de classification\n",
    "\n",
    "## Le jeu de données sur les Pokémons\n",
    "\n",
    "<img src=\"https://cdn.pixabay.com/photo/2020/07/21/16/10/pokemon-5426712_960_720.png\" alt=\"pokeball\" width=\"200\">\n",
    "\n",
    "On dispose de données sur 34 Pokémons : leur type (Psy ou Eau), leur points de vie et la valeur de leurs attaques.\n",
    "\n",
    "Ces données sont stockées dans le fichier CSV `pokemons.csv` que l'on s'empresse d'importer dans un tableau de dictionnaires appelé `pokemons`:"
   ]
  },
  {
   "cell_type": "code",
   "execution_count": null,
   "metadata": {},
   "outputs": [],
   "source": [
    "import csv\n",
    "fichier = open('pokemons.csv', 'r', encoding = 'UTF-8')\n",
    "t = csv.DictReader(fichier, delimiter=';')\n",
    "pokemons = [dict(ligne) for ligne in t]  # création et construction du tableau par compréhension\n",
    "fichier.close()\n",
    "\n",
    "pokemons  # pour voir les données importées"
   ]
  },
  {
   "cell_type": "markdown",
   "metadata": {},
   "source": [
    "On peut représenter ces données graphiquement dans un repère orthonormé, avec les valeurs d'attaque en abscisses et les points de vie en ordonnées. Les Pokémons de type \"Eau\" sont représentés pas les triangles bleus, et ceux de type \"Psy\" par les points rouges.\n",
    "\n",
    "![graphique](data/pokemons.png)\n",
    "\n",
    ">C'est ce que vous allez faire par la suite !"
   ]
  },
  {
   "cell_type": "markdown",
   "metadata": {},
   "source": [
    "## Problème : peut-on prédire le type d'un nouveau Pokémon inconnu ?\n",
    "\n",
    "On considère maintenant que l'on possède des données sur un nouveau Pokémon inconnu et on aimerait prédire s'il s'agit d'un Pokémon de type \"Eau\" ou de type \"Psy\".\n",
    "\n",
    "![graphique](data/methodeKPPV.png)\n",
    "\n",
    "Ce problème, qui demande à prédire à quelle catégorie, ou *classe*, appartient ce nouvel élément donné, est appelé *problème de classification*. L'algorithme des k plus proches voisins permet de trouver les k voisins les plus proches de ce nouvel élément dans le but de lui associer une *classe* plausible (Psy ou Eau, dans cet exemple). Par exemple, si k = 5 va chercher les 5 voisins les plus proches."
   ]
  },
  {
   "cell_type": "markdown",
   "metadata": {},
   "source": [
    "# Algorithme des kppv\n",
    "\n",
    "## Énoncé et spécification\n",
    "\n",
    "À partir d'un jeu de données `donnees` (par exemple, les données sur nos 34 Pokémons) et d'une donnée cible `cible` (le nouveau Pokemon à classifier), l'algorithme de $k$ plus proches voisins doit déterminer les $k$ données les plus proches de la cible.\n",
    "\n",
    "Plus précisément, la spécification de l'algorithme des kppv est la suivante :\n",
    "\n",
    "- **Entrées** : \n",
    "    - une table `donnees` de taille n contenant les données et leurs classes\n",
    "    - une donnée cible : `cible`\n",
    "    - un nombre `k`\n",
    "    - une règle permettant de calculer la *distance* entre deux données\n",
    "- **Sortie** : une table `k_plus_proches_voisins`\n",
    "- **Rôle** : trouver les `k` données les plus proches de `cible` parmi celles de la table `donnees` (\"plus proches\" au sens de la distance définie au départ) \n",
    "- **Précondition** : $n \\geq 1$ et $k <= n$.\n",
    "- **Postcondition** : `k_plus_proches_voisins` contient les k plus proches voisins de `cible` parmi les données de la table `donnees`\n",
    "\n",
    "## Algorithme\n",
    "\n",
    "L'algorithme *naif* des kppv s'exprime de manière simple :\n",
    "\n",
    "1. Créer une table `distances_voisins` contenant les éléments de la table `donnees` et leurs distances avec la donnée `cible`.  \n",
    "2. Trier les données de la table `distances_voisins` selon la distance croissante avec la donnée `cible`\n",
    "3. Renvoyer les `k` premiers éléments de cette table triée (`k_plus_proches_voisins`)"
   ]
  },
  {
   "cell_type": "markdown",
   "metadata": {},
   "source": [
    "# Implémentation de l'algorithme\n",
    "\n",
    "L'algorithme des plus proches voisins repose presque entièrement sur la *distance* entre deux données. Il faut donc commencer par définir une distance entre deux données.\n",
    "\n",
    "## Étape 0 : Choix et implémentation de la distance\n",
    "\n",
    "Dans la suite, on va choisir la distance \"naturelle\", c'est-à-dire celle \"à vol d'oiseau\". On parle de *distance euclidienne*.\n",
    "\n",
    "Dans un repère orthonormé, si $A$ et $B$ ont pour coordonnées respectives $(x_A, y_A)$ et $(x_B, y_B)$ alors la distance (euclidienne) entre ces deux points est donnée par la formule :\n",
    "\n",
    "$$\\text{distance}(A, B) = \\sqrt{(x_B-x_A)^2 + (y_B-y_A)^2}.$$ \n",
    "\n",
    ">**Important**: Sachez cependant qu'il existe d'autres distances possibles et que le choix de la distance n'est pas anodin car ce choix peut aboutir à trouver des voisins les plus proches différents et donc conduire à des prédictions différentes (voir le résumé de cours !)."
   ]
  },
  {
   "cell_type": "markdown",
   "metadata": {},
   "source": [
    "Dans notre cas, chaque Pokémon possède une abscisse égale à sa valeur d'attaque et une ordonnée égale à ses points de vie. Ainsi, la formule de la distance entre deux pokémons `d1` et `d2` se traduit ainsi :\n",
    "\n",
    "$$\\text{distance}(\\text{d1}, \\text{d2}) = \\sqrt{(\\text{valeur d'attaque de d2}-\\text{valeur d'attaque de d1})^2 + (\\text{points de vie de d2}-\\text{points de vie de d1})^2}.$$ \n",
    "\n",
    "✍️ **Question 1** : Calculez à la main la distance entre les deux Pokémons suivants.\n",
    "\n",
    "```python\n",
    "p1 = {'Nom': 'Aligatueur', 'Type': 'Eau', 'Points de vie': '85', 'Attaque': '105'}\n",
    "p2 = {'Nom': 'Bargantua', 'Type': 'Eau', 'Points de vie': '70', 'Attaque': '92'}\n",
    "```"
   ]
  },
  {
   "cell_type": "markdown",
   "metadata": {},
   "source": [
    "💻 **Question 2** : Écrivez les instructions permettant d'accéder :\n",
    "- à la valeur d'attaque de `p1`\n",
    "- au points de vie de `p2`"
   ]
  },
  {
   "cell_type": "code",
   "execution_count": null,
   "metadata": {},
   "outputs": [],
   "source": [
    "p1 = {'Nom': 'Aligatueur', 'Type': 'Eau', 'Points de vie': '85', 'Attaque': '105'}\n",
    "p2 = {'Nom': 'inconnu', 'Type': 'inconnu', 'Points de vie': '92', 'Attaque': '127'}"
   ]
  },
  {
   "cell_type": "code",
   "execution_count": null,
   "metadata": {},
   "outputs": [],
   "source": [
    "# à vous de jouer !\n"
   ]
  },
  {
   "cell_type": "code",
   "execution_count": null,
   "metadata": {},
   "outputs": [],
   "source": [
    "# à vous de jouer !\n"
   ]
  },
  {
   "cell_type": "markdown",
   "metadata": {},
   "source": [
    "💻 **Question 3** : Complétez la fonction `distance_euclidienne(d1, d2)` suivante qui renvoie la distance euclidienne entre deux Pokémons `d1` et `d2`. \n",
    "\n",
    ">⚠️ Il faut bien veiller à convertir les valeurs d'attaque et les points de vie en des nombres pour faire les calculs !*"
   ]
  },
  {
   "cell_type": "code",
   "execution_count": null,
   "metadata": {},
   "outputs": [],
   "source": [
    "# à vous de jouer !\n",
    "from math import sqrt  # pour utiliser la racine carrée\n",
    "\n",
    "def distance_euclidienne(d1, d2):\n",
    "    x1 = ...  # abscisse de la donnée 1\n",
    "    y1 = ...  # ordonnée de la donnée 1\n",
    "    x2 = ...  # abscisse de la donnée 2\n",
    "    y2 = ...  # ordonnée de la donnée 2\n",
    "    return sqrt(...)  # formule donnant la distance euclidienne"
   ]
  },
  {
   "cell_type": "markdown",
   "metadata": {},
   "source": [
    "💻 **Question 4** : Appelez cette fonction pour vérifier votre réponse à la question 1."
   ]
  },
  {
   "cell_type": "code",
   "execution_count": null,
   "metadata": {},
   "outputs": [],
   "source": [
    "# à vous de jouer !\n"
   ]
  },
  {
   "cell_type": "markdown",
   "metadata": {},
   "source": [
    "## Étape 1 : Création de la table avec les distances\n",
    "\n",
    "Maintenant que notre distance est définie, on peut passer à l'implémentation de l'algorithme. On va donc commencer par créer la table `distances_voisins` contenant les distances entre toutes nos données et la donnée `cible`.\n",
    "\n",
    "On choisit de reprendre les dictionnaires de la table `pokemons` en leur ajoutant une clé correspondant à la distance avec la cible. Par exemple, le premier élément de `distances_voisins` sera un dictionnaire de la forme\n",
    "\n",
    "```python\n",
    "{'Nom': 'Aligatueur', 'Type': 'Eau', 'Points de vie': '85', 'Attaque': '105', 'distance': dist}\n",
    "```\n",
    "\n",
    "dans lequel `dist` est la distance à calculer entre le Pokémon  `'Aligatueur'` et la cible.\n",
    "\n",
    "💻 **Question 5** : Écrivez une fonction `table_avec_distances(donnees, cible)` qui renvoie la table `distances_voisins` contenant les éléments de la table `donnees` auxquels on a ajouté la clé `distance` dont la valeur est leur distance avec la donnée `cible`.\n",
    "\n",
    "*Exemple*: Si `cible = {'Nom': 'inconnu', 'Type': 'inconnu', 'Points de vie': '92', 'Attaque': '127'}` alors l'appel `table_avec_distances(pokemons, cible)` renvoie le tableau dont le début est le suivant :\n",
    "\n",
    "```python\n",
    "[{'Nom': 'Aligatueur',\n",
    "  'Type': 'Eau',\n",
    "  'Points de vie': '85',\n",
    "  'Attaque': '105',\n",
    "  'distance': 23.08679276123039},\n",
    " {'Nom': 'Bargantua',\n",
    "  'Type': 'Eau',\n",
    "  'Points de vie': '70',\n",
    "  'Attaque': '92',\n",
    "  'distance': 41.340053217188775},\n",
    " ...\n",
    "]\n",
    "```\n"
   ]
  },
  {
   "cell_type": "code",
   "execution_count": null,
   "metadata": {},
   "outputs": [],
   "source": [
    "def table_avec_distances(donnees, cible):\n",
    "    # à vous de jouer !\n",
    "    \n",
    "\n",
    "\n",
    "\n",
    "# ESSAI\n",
    "cible = {'Nom': 'inconnu', 'Type': 'inconnu', 'Points de vie': '92', 'Attaque': '127'}\n",
    "distances_voisins = table_avec_distances(pokemons, cible)\n",
    "distances_voisins"
   ]
  },
  {
   "cell_type": "markdown",
   "metadata": {},
   "source": [
    "## Étape 2 : Tri de la table selon la distance croissante\n",
    "\n",
    "On va maintenant trier notre table de la plus petite à la plus grande distance avec notre cible, soit du plus proche au plus éloigné des voisins. Pour cela, on va utiliser la fonction `sorted` dont on peut afficher l'aide pour rappel :"
   ]
  },
  {
   "cell_type": "code",
   "execution_count": null,
   "metadata": {},
   "outputs": [],
   "source": [
    "help(sorted)"
   ]
  },
  {
   "cell_type": "markdown",
   "metadata": {},
   "source": [
    "> Vous pouvez aussi revoir le TP sur les tris de table si nécessaire : [TP - Trier une table de données](https://notebook.basthon.fr/?from=https://raw.githubusercontent.com/germainbecker/NSI/master/Premiere/Theme3_traitement_donnees_tables/TriTable.ipynb&aux=https://raw.githubusercontent.com/germainbecker/NSI/master/Premiere/Theme3_traitement_donnees_tables/eleves.csv&aux=https://raw.githubusercontent.com/germainbecker/NSI/master/Premiere/Theme3_traitement_donnees_tables/prenoms2021.csv#Trier-des-donn%C3%A9es-en-fonction-d'une-cl%C3%A9)."
   ]
  },
  {
   "cell_type": "markdown",
   "metadata": {},
   "source": [
    "💻 **Question 6** : Créer une fonction `tri_distance(d)` qui servira de clé à notre tri."
   ]
  },
  {
   "cell_type": "code",
   "execution_count": null,
   "metadata": {},
   "outputs": [],
   "source": [
    "# à vous de jouer !\n"
   ]
  },
  {
   "cell_type": "markdown",
   "metadata": {},
   "source": [
    "💻 **Question 7** : Utilisez maintenant la fonction `sorted` pour créer une *nouvelle table* `distances_voisins_triee` contenant les données de `distances_voisins` triés par ordre croissant de distance."
   ]
  },
  {
   "cell_type": "code",
   "execution_count": null,
   "metadata": {},
   "outputs": [],
   "source": [
    "cible = {'Nom': 'inconnu', 'Type': 'inconnu', 'Points de vie': '92', 'Attaque': '127'}\n",
    "distances_voisins = table_avec_distances(pokemons, cible)\n",
    "\n",
    "# à vous de jouer !\n",
    "\n",
    "\n",
    "\n"
   ]
  },
  {
   "cell_type": "markdown",
   "metadata": {},
   "source": [
    "## Étape 3 : Détermination des k plus proches voisins\n",
    "\n",
    "Le plus dur est fait, il ne reste plus qu'à construire la table `k_plus_proches_voisins` contenant les k plus proches voisins. Comme la table `distances_voisins_triee` contient les voisins du plus proches au plus éloigné, il suffit de conserver les k premiers éléments de cette table !\n",
    "\n",
    "💻 **Question 8** : Écrivez une fonction `conserve_k_premiers(k, table)` qui renvoie une nouvelle table contenant les `k` premiers éléments de la table `table` (où `k` est un entier positif inférieur ou égale à `len(table)`)."
   ]
  },
  {
   "cell_type": "code",
   "execution_count": null,
   "metadata": {},
   "outputs": [],
   "source": [
    "# à vous de jouer !\n"
   ]
  },
  {
   "cell_type": "markdown",
   "metadata": {},
   "source": [
    "💻 **Question 9** : Vérifiez qu'en appelant cette fonction avec k = 3 et `table` = `distances_voisins_triee` vous obtenez bien les 3 premiers éléments de `distances_voisins_triee`."
   ]
  },
  {
   "cell_type": "code",
   "execution_count": null,
   "metadata": {},
   "outputs": [],
   "source": [
    "# à vous de jouer !\n"
   ]
  },
  {
   "cell_type": "markdown",
   "metadata": {},
   "source": [
    "## Bilan\n",
    "\n",
    "On peut maintenant regrouper tout ce qui vient d'être fait pour chaque étape pour écrire une fonction `kppv(donnees, cible, k)` qui renvoie les `k` plus proches voisins de `cible` dans `donnees`.\n",
    "\n",
    "💻 **Question 10** : Complétez la fonction `kppv(donnees, cible, k)` suivante qui renvoie les `k` plus proches voisins de `cible` dans `donnees`."
   ]
  },
  {
   "cell_type": "code",
   "execution_count": null,
   "metadata": {},
   "outputs": [],
   "source": [
    "# RECOPIE DES FONCTIONS UTILES :\n",
    "\n",
    "from math import sqrt\n",
    "# Calcul de la distance\n",
    "def distance_euclidienne(d1, d2):\n",
    "    # recopiez le code écrit à la question 3\n",
    "    pass\n",
    "\n",
    "# Fonction qui calcule et ajoute la distance entre la cible et chacune des données\n",
    "def table_avec_distances(donnees, cible):\n",
    "    # recopiez le code écrit à la question 5\n",
    "    pass\n",
    "\n",
    "# Clé du tri\n",
    "def tri_distance(d):\n",
    "    # recopiez le code écrit à la question 6\n",
    "    pass\n",
    "    \n",
    "\n",
    "    \n",
    "# À COMPLÉTER :\n",
    "\n",
    "def kppv(donnees, cible, k):    \n",
    "    # étape 1 : création de la table avec les distances\n",
    "    distances_voisins = ...\n",
    "    \n",
    "    # étape 2 : tri par distance croissante\n",
    "    distances_voisins_triee = ...\n",
    "    \n",
    "    # étape 3 : récupération de k plus proches voisins\n",
    "    k_plus_proches_voisins = ...\n",
    "    \n",
    "    return ...\n"
   ]
  },
  {
   "cell_type": "markdown",
   "metadata": {},
   "source": [
    "💻 **Question 11** : Appelez la fonction la fonction `kppv` pour connaître les 3 plus proches voisins de notre cible `{'Nom': 'inconnu', 'Type': 'inconnu', 'Points de vie': '92', 'Attaque': '127'}`. "
   ]
  },
  {
   "cell_type": "code",
   "execution_count": null,
   "metadata": {},
   "outputs": [],
   "source": [
    "cible = {'Nom': 'inconnu', 'Type': 'inconnu', 'Points de vie': '92', 'Attaque': '127'}\n",
    "# à vous de jouer !\n"
   ]
  },
  {
   "cell_type": "markdown",
   "metadata": {},
   "source": [
    "💻 **Question 12** : Même question pour les 5 plus proches voisins puis pour les 9 plus proches voisins."
   ]
  },
  {
   "cell_type": "code",
   "execution_count": null,
   "metadata": {},
   "outputs": [],
   "source": [
    "# à vous de jouer !\n"
   ]
  },
  {
   "cell_type": "markdown",
   "metadata": {},
   "source": [
    "# Et notre prédiction alors ?\n",
    "\n",
    "![image sorcière](data/witch.png)\n",
    "\n",
    "L'algorithmes des kppv en lui-même n'apporte pas la réponse à notre problème de classification puisqu'il ne fournit que les k plus proches voisins (et leurs classes) de notre donnée cible. Il reste donc une dernière étape pour prédire la classe de notre nouvel élément : pour cela, on choisit la *classe majoritaire* (la plus présente) dans les k plus proches voisins.\n",
    "\n",
    "> On est contents si k est impair car il ne peut pas y avoir d'ex-aequo !"
   ]
  },
  {
   "cell_type": "markdown",
   "metadata": {},
   "source": [
    "✍️ **Question 13** : Donnez la classe majoritaire parmi les plus proches voisins lorsque k = 3, 5 puis 9. Pour chaque valeur de k, quelle serait la prédiction pour notre Pokémon cible inconnu ?"
   ]
  },
  {
   "cell_type": "raw",
   "metadata": {},
   "source": [
    "Réponse : \n"
   ]
  },
  {
   "cell_type": "markdown",
   "metadata": {},
   "source": [
    ">**Moralité** : La valeur du paramètre `k` est importante car elle a une influence forte sur la prédiction. En pratique, elle doit être judicieusement choisie : 👉 voir dans le cours comment trouver expérimentalement une bonne valeur de k."
   ]
  },
  {
   "cell_type": "markdown",
   "metadata": {},
   "source": [
    "# Visualisation graphique\n",
    "\n",
    "On peut utiliser le module `matplotlib` pour représenter graphiquement nos Pokémons, et observer graphiquement les plus proches voisins selon la valeur de `k` choisies.\n",
    "\n",
    "Pour créer une nuage de points, il suffit d'utiliser la fonction `plot` qui prend en paramètres deux tableaux contenant respectivement la liste des abscisses et la liste des ordonnées des points à construire, ainsi qu'un paramètre permettant de définir le type de points et leur couleur :"
   ]
  },
  {
   "cell_type": "code",
   "execution_count": null,
   "metadata": {},
   "outputs": [],
   "source": [
    "import matplotlib.pyplot as plt\n",
    "\n",
    "liste_abscisses = [0, 2, 5, 9, 7]  # tableau avec les abscisses\n",
    "liste_ordonnees = [5, 7, 12, 3, 8]  # tableau avec les ordonnées\n",
    "\n",
    "plt.plot(liste_abscisses, liste_ordonnees,'ro')  # r pour red, o pour un cercle\n",
    "\n",
    "plt.xlim(-2, 12)  # pour définir la fenêtre en abscisse\n",
    "plt.ylim(0, 14)  # pour définir la fenêtre en ordonnée\n",
    "plt.gca().set_aspect('equal', adjustable='box')  # pour que le repère soit orthonormé (même unité sur chaque axe)\n",
    "\n",
    "plt.show()  # affichage du graphique"
   ]
  },
  {
   "cell_type": "markdown",
   "metadata": {},
   "source": [
    "Pour représenter nos Pokémons sous forme de nuages de points (valeur d'attaque en abscisse et points de vie en ordonnée), il suffit alors de créer un tableau contenant les abscisses (valeur d'attaque) et un tableau contenant les ordonnées (points de vie) puis d'utiliser la fonction `plot` pour construire les points.\n",
    "\n",
    "Pour bien visualiser les deux classes, on va créer un nuage de points pour chaque classe : les Pokémons de type \"Eau\" seront représentés par des points bleus et les Pokémons \"Psy\" par des points rouges. On crée aussi le point correspondant à notre Pokémon cible en cyan :"
   ]
  },
  {
   "cell_type": "code",
   "execution_count": null,
   "metadata": {},
   "outputs": [],
   "source": [
    "import matplotlib.pyplot as plt\n",
    "\n",
    "# construction des Pokémons de type 'Eau'\n",
    "valeur_attaque_eau = [int(p['Attaque']) for p in pokemons if p['Type'] == 'Eau']  # tableau des abscisses\n",
    "points_de_vie_eau = [int(p['Points de vie']) for p in pokemons if p['Type'] == 'Eau']  # tableau des orodonnées\n",
    "plt.plot(valeur_attaque_eau, points_de_vie_eau, 'bv')  # construction du graphique avec des triangles bleus\n",
    "\n",
    "# construction des Pokémons de type 'Psy'\n",
    "valeur_attaque_psy = [int(p['Attaque']) for p in pokemons if p['Type'] == 'Psy']\n",
    "points_de_vie_psy = [int(p['Points de vie']) for p in pokemons if p['Type'] == 'Psy']\n",
    "plt.plot(valeur_attaque_psy, points_de_vie_psy, 'ro')  # construction du graphique avec des cercles rouges\n",
    "\n",
    "# construction du Pokémon cible\n",
    "cible = {'Nom': 'inconnu', 'Type': 'inconnu', 'Points de vie': '92', 'Attaque': '127'}\n",
    "valeur_attaque_cible = int(cible['Attaque'])\n",
    "points_de_vie_cible = int(cible['Points de vie'])\n",
    "plt.plot(valeur_attaque_cible, points_de_vie_cible, 'cD')\n",
    "\n",
    "\n",
    "# Pour définir le titre, noms de axes et la légende\n",
    "plt.title(\"Pokémons\")\n",
    "plt.xlabel(\"Valeur d'attaque\")\n",
    "plt.ylabel(\"Points de vie\")\n",
    "plt.legend([\"Type Eau\", \"Type Psy\"], loc='upper center', bbox_to_anchor=(1.2, 0.8))\n",
    "\n",
    "plt.xlim(0, 200)\n",
    "plt.ylim(40, 120)\n",
    "plt.gca().set_aspect('equal', adjustable='box')\n",
    "\n",
    "plt.show()"
   ]
  },
  {
   "cell_type": "markdown",
   "metadata": {},
   "source": [
    "💻 **Question 14** : Complétez ci-dessous le programme précédent pour construire également le nuage de points correspondant aux k plus plus proches voisins déterminés par notre algorithme. Vérifiez ensuite graphiquement pour différentes valeurs de k que les plus proches voisins sont les bons."
   ]
  },
  {
   "cell_type": "code",
   "execution_count": null,
   "metadata": {},
   "outputs": [],
   "source": [
    "import matplotlib.pyplot as plt\n",
    "\n",
    "# construction des Pokémons de type 'Eau'\n",
    "valeur_attaque_eau = [int(p['Attaque']) for p in pokemons if p['Type'] == 'Eau']  # tableau des abscisses\n",
    "points_de_vie_eau = [int(p['Points de vie']) for p in pokemons if p['Type'] == 'Eau']  # tableau des orodonnées\n",
    "plt.plot(valeur_attaque_eau, points_de_vie_eau, 'bv')  # construction du graphique avec des triangles bleus\n",
    "\n",
    "# construction des Pokémons de type 'Psy'\n",
    "valeur_attaque_psy = [int(p['Attaque']) for p in pokemons if p['Type'] == 'Psy']\n",
    "points_de_vie_psy = [int(p['Points de vie']) for p in pokemons if p['Type'] == 'Psy']\n",
    "plt.plot(valeur_attaque_psy, points_de_vie_psy, 'ro')  # construction du graphique avec des cercles rouges\n",
    "\n",
    "# construction du Pokémon cible\n",
    "cible = {'Nom': 'inconnu', 'Type': 'inconnu', 'Points de vie': '92', 'Attaque': '127'}\n",
    "valeur_attaque_cible = int(cible['Attaque'])\n",
    "points_de_vie_cible = int(cible['Points de vie'])\n",
    "plt.plot(valeur_attaque_cible, points_de_vie_cible, 'cD')\n",
    "\n",
    "\n",
    "# construction des KPPV\n",
    "# À COMPLÉTER :\n",
    "\n",
    "\n",
    "\n",
    "\n",
    "\n",
    "# Pour définir le titre, noms de axes et la légende\n",
    "plt.title(\"Pokémons\")\n",
    "plt.xlabel(\"Valeur d'attaque\")\n",
    "plt.ylabel(\"Points de vie\")\n",
    "plt.legend([\"Type Eau\", \"Type Psy\"], loc='upper center', bbox_to_anchor=(1.2, 0.8))\n",
    "\n",
    "plt.xlim(0, 200)\n",
    "plt.ylim(40, 120)\n",
    "plt.gca().set_aspect('equal', adjustable='box')\n",
    "\n",
    "plt.show()"
   ]
  },
  {
   "cell_type": "markdown",
   "metadata": {},
   "source": [
    "# Et si on change de distance ?\n",
    "\n",
    "On a utilisé la distance euclidienne pour mesurer la distance entre nos données et la cible. C'est la distance \"naturelle\" mais il existe d'autres distances. Par exemple, la **distance de Manhattan** entre deux données $d_1(x_1, y_1)$ et $d_2(x_2, y_2)$ est définie ainsi $\\text{distance_manhattan}(d_1, d_2) = |x_2-x_1| + |y_2-y_1|$.\n",
    "\n",
    ">Article Wikipédia : [Distance de Manhattan](https://fr.wikipedia.org/wiki/Distance_de_Manhattan)\n",
    "\n",
    "On peut modifier notre programme simplement en définissant et en utilisant cette nouvelle distance :"
   ]
  },
  {
   "cell_type": "code",
   "execution_count": null,
   "metadata": {},
   "outputs": [],
   "source": [
    "# définition de la distance utilisée\n",
    "def distance_manhattan(d1, d2):\n",
    "    x1 = float(d1['Attaque'])\n",
    "    y1 = float(d1['Points de vie'])\n",
    "    x2 = float(d2['Attaque'])\n",
    "    y2 = float(d2['Points de vie'])\n",
    "    return abs(x2-x1) + abs(y2-y1)  # abs est la fonction valeur absolue\n",
    "\n",
    "def table_avec_distances(donnees, cible):\n",
    "    distances_voisins = [d for d in donnees]\n",
    "    for d in distances_voisins:\n",
    "        distance = distance_manhattan(d, cible)  # CHANGEMENT DE DISTANCE\n",
    "        d['distance'] = distance\n",
    "    return distances_voisins\n",
    "\n",
    "def tri_distance(d):\n",
    "    return d['distance']\n",
    "\n",
    "def kppv(donnees, cible, k):    \n",
    "    # étape 1 : création de la table avec les distances\n",
    "    distances_voisins = table_avec_distances(donnees, cible)    \n",
    "    # étape 2 : tri par distance croissante\n",
    "    distances_voisins_triee = sorted(distances_voisins, key=tri_distance)    \n",
    "    # étape 3 : récupération de k plus proches voisins\n",
    "    k_plus_proches_voisins = conserve_k_premiers(k, distances_voisins_triee)\n",
    "    \n",
    "    return k_plus_proches_voisins\n"
   ]
  },
  {
   "cell_type": "markdown",
   "metadata": {},
   "source": [
    "En déterminant les 3 plus proches voisins on obtient :"
   ]
  },
  {
   "cell_type": "code",
   "execution_count": null,
   "metadata": {},
   "outputs": [],
   "source": [
    "cible = {'Nom': 'inconnu', 'Type': 'inconnu', 'Points de vie': '92', 'Attaque': '127'}\n",
    "kppv(pokemons, cible, 3)"
   ]
  },
  {
   "cell_type": "markdown",
   "metadata": {},
   "source": [
    "Dans ce cas, pour k = 3, on prédirait que notre Pokémon inconnu est de type \"Eau\" (2 \"Eau\" contre 1 \"Psy\") et la prédiction serait l'inverse de celle utilisant la distance euclidienne !\n",
    "\n",
    ">**Moralité** : La distance utilisée a également toute son importance puisque son choix peut aboutir à des prédictions différentes. De plus, nous n'avons parlé ici que de distances *géométriques* s'appliquant à des données chiffrées. Toutes les données ne sont pas adaptées à ce type de distance : si on veut comparer la distance entre deux chaînes de caractères (dans le but de prédire la langue d'origine de certains mots par exemple) d'autres types de distances sont à considérer : *la distance de Hamming* ou la *distance d'édition* qui seront abordées en Terminale."
   ]
  },
  {
   "cell_type": "markdown",
   "metadata": {},
   "source": [
    "# EXERCICES \n",
    "\n",
    "## Exercice 1\n",
    "\n",
    "On donne des points dans un repère orthonormé. Chaque point possède une classe : Rouge ou Bleue. Dans cette exercice, on utilise la **distance euclidienne** (naturelle) pour l'algorithme des $k$ plus proches voisins.\n",
    "\n",
    "![figure](data/ex1.png)\n",
    "\n",
    "✍️ **Question 1** : On considère le point $M(1, 3)$. Appliquez l'algorithme des 3 plus proches voisins à ce point puis donnez une prédiction quant à sa classe.\n",
    "\n",
    "✍️ **Question 2** : Même question avec le point $N(4, 4)$.\n",
    "\n",
    "✍️ **Question 3** : Donnez une valeur de $k$ qui donnerait la prédiction \"Bleue\" pour le point $N$ après avoir appliqué l'algorithme des $k$ plus proches voisins.\n"
   ]
  },
  {
   "cell_type": "markdown",
   "metadata": {},
   "source": [
    "## Exercice 2\n",
    "\n",
    "On peut ainsi représenter l'ensemble des points de l'exercice 1 dans un tableau `donnees` comme ci-dessous :"
   ]
  },
  {
   "cell_type": "code",
   "execution_count": null,
   "metadata": {},
   "outputs": [],
   "source": [
    "A = {'nom': 'A', 'abs': 1, 'ord': 1, 'classe': 'Bleu'}\n",
    "B = {'nom': 'B', 'abs': 2, 'ord': 2, 'classe': 'Bleu'}\n",
    "C = {'nom': 'C', 'abs': 4, 'ord': 2, 'classe': 'Bleu'}\n",
    "D = {'nom': 'D', 'abs': 2, 'ord': 3, 'classe': 'Rouge'}\n",
    "E = {'nom': 'E', 'abs': 4, 'ord': 3, 'classe': 'Bleu'}\n",
    "F = {'nom': 'F', 'abs': 3, 'ord': 5, 'classe': 'Rouge'}\n",
    "G = {'nom': 'G', 'abs': 2, 'ord': 5, 'classe': 'Rouge'}\n",
    "H = {'nom': 'H', 'abs': 6, 'ord': 4, 'classe': 'Bleu'}\n",
    "I = {'nom': 'I', 'abs': 5, 'ord': 5, 'classe': 'Rouge'}\n",
    "\n",
    "donnees = [A, B, C, D, E, F, G, H, I]\n",
    "donnees"
   ]
  },
  {
   "cell_type": "markdown",
   "metadata": {},
   "source": [
    "💻 **Question** : Utilisez la fonction `kppv` définie dans le TP sur l'algorithme des k plus proches voisins (question 10) pour vérifier vos réponses aux questions de la partie A. *Vous utiliserez la distance euclidienne qu'il faudra bien sûr légèrement adapter au format de nos données*."
   ]
  },
  {
   "cell_type": "code",
   "execution_count": null,
   "metadata": {},
   "outputs": [],
   "source": [
    "# à vous de jouer !\n"
   ]
  },
  {
   "cell_type": "markdown",
   "metadata": {},
   "source": [
    "## Exercice 3 : Top 14\n",
    "\n",
    "Le fichier `top14.csv` contient des données sur tous les joueurs du top 14 de rugby. On peut représenter ces données de la façon suivante.\n",
    "\n",
    "![top14](data/top14_v2.png)\n",
    "\n",
    "💻 **Question** : Vous rencontrez une personne souhaitant jouer au rugby. Elle vous donne sa taille (180 cm) et son poids (100 kg). Vous allez utiliser l'algorithme des k plus proches voisins pour lui indiquer quel poste est le plus proche de ses caractéristiques physiques. *Essayez plusieurs valeurs de k et n'hésitez pas à représenter graphiquement les données comme sur l'image au-dessus.*\n"
   ]
  },
  {
   "cell_type": "code",
   "execution_count": null,
   "metadata": {},
   "outputs": [],
   "source": [
    "# à vous de jouer !\n"
   ]
  },
  {
   "cell_type": "markdown",
   "metadata": {},
   "source": [
    "**Références :**\n",
    "- Équipe pédagogique du DIU EIL, Université de Nantes (C. JERMANN).\n",
    "- Prepabac, spécialité NSI 1ère, C. ADOBET, G. CONNAN, G. ROZSAVOLGYI, L. SIGNAC (pour l'idée de l'activité).\n",
    "- Cours de G. LASSUS pour l'idée de l'exercice 3 sur les joueurs du Top 14 : [lien vers son Notebook sur Github](https://github.com/glassus/nsi/blob/master/Premiere/Theme05_Algorithmique/07_Algorithme_KNN.ipynb)"
   ]
  },
  {
   "cell_type": "markdown",
   "metadata": {},
   "source": [
    "---\n",
    "Germain BECKER & Sébastien POINT, Lycée Mounier, ANGERS ![Licence Creative Commons](https://i.creativecommons.org/l/by-nc-sa/4.0/88x31.png)"
   ]
  }
 ],
 "metadata": {
  "kernelspec": {
   "display_name": "Python 3",
   "language": "python",
   "name": "python3"
  },
  "language_info": {
   "codemirror_mode": {
    "name": "ipython",
    "version": 3
   },
   "file_extension": ".py",
   "mimetype": "text/x-python",
   "name": "python",
   "nbconvert_exporter": "python",
   "pygments_lexer": "ipython3",
   "version": "3.7.10"
  }
 },
 "nbformat": 4,
 "nbformat_minor": 2
}
