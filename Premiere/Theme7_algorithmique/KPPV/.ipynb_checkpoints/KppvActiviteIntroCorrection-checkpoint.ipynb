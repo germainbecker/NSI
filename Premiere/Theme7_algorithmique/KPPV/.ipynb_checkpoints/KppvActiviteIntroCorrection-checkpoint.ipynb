{
 "cells": [
  {
   "cell_type": "markdown",
   "metadata": {},
   "source": [
    "# Activité d'introduction - CORRECTION\n",
    "\n",
    "**Objectifs :**\n",
    "- introduire visuellement les problèmes de classification\n",
    "- revoir les notions sur le traitement de données en tables\n",
    "\n",
    "Nous allons travailler avec le fichier `pokemons.csv` contenant certaines caractéristiques de Pokémons. Chaque Pokémon du fichier est caractérisé par : son type, ses points de vie et la valeur de son attaque. Pour simplifier, nous ne considérons que deux types de Pokémon : Eau et Psy."
   ]
  },
  {
   "cell_type": "markdown",
   "metadata": {},
   "source": [
    "**Question 1** : Ouvrez le fichier `pokemons.csv` avec le bloc note pour visualiser son contenu. Quel est le caractère de séparation utilisé ?"
   ]
  },
  {
   "cell_type": "markdown",
   "metadata": {},
   "source": [
    "**Réponse** : c'est le point-virgule"
   ]
  },
  {
   "cell_type": "markdown",
   "metadata": {},
   "source": [
    "On peut mémoriser les données du fichier csv dans une table `pokemons` afin de pouvoir travailler sur les données."
   ]
  },
  {
   "cell_type": "code",
   "execution_count": 1,
   "metadata": {},
   "outputs": [],
   "source": [
    "import csv\n",
    "fichier = open('data/pokemons.csv', 'r', encoding = 'UTF-8')\n",
    "t = csv.DictReader(fichier, delimiter=';')\n",
    "pokemons = [dict(ligne) for ligne in t] # création et construction du tableau par compréhension\n",
    "fichier.close()"
   ]
  },
  {
   "cell_type": "markdown",
   "metadata": {},
   "source": [
    "On peut alors afficher le contenu de la table `pokemons`."
   ]
  },
  {
   "cell_type": "code",
   "execution_count": 2,
   "metadata": {},
   "outputs": [
    {
     "data": {
      "text/plain": [
       "[{'Nom': 'Aligatueur', 'Type': 'Eau', 'Points de vie': '85', 'Attaque': '105'},\n",
       " {'Nom': 'Bargantua', 'Type': 'Eau', 'Points de vie': '70', 'Attaque': '92'},\n",
       " {'Nom': 'Carabaffe', 'Type': 'Eau', 'Points de vie': '59', 'Attaque': '63'},\n",
       " {'Nom': 'Clamiral', 'Type': 'Eau', 'Points de vie': '95', 'Attaque': '100'},\n",
       " {'Nom': 'Crefadet', 'Type': 'Psy', 'Points de vie': '75', 'Attaque': '125'},\n",
       " {'Nom': 'Crocrodil', 'Type': 'Eau', 'Points de vie': '65', 'Attaque': '80'},\n",
       " {'Nom': 'Deoxys', 'Type': 'Psy', 'Points de vie': '50', 'Attaque': '70'},\n",
       " {'Nom': 'Deoxys', 'Type': 'Psy', 'Points de vie': '50', 'Attaque': '95'},\n",
       " {'Nom': 'Deoxys', 'Type': 'Psy', 'Points de vie': '50', 'Attaque': '150'},\n",
       " {'Nom': 'Deoxys', 'Type': 'Psy', 'Points de vie': '50', 'Attaque': '180'},\n",
       " {'Nom': 'Ecayon', 'Type': 'Eau', 'Points de vie': '49', 'Attaque': '49'},\n",
       " {'Nom': 'Eoko', 'Type': 'Psy', 'Points de vie': '75', 'Attaque': '50'},\n",
       " {'Nom': 'Gamblast', 'Type': 'Eau', 'Points de vie': '71', 'Attaque': '73'},\n",
       " {'Nom': 'Gobou', 'Type': 'Eau', 'Points de vie': '50', 'Attaque': '70'},\n",
       " {'Nom': 'Groret', 'Type': 'Psy', 'Points de vie': '80', 'Attaque': '45'},\n",
       " {'Nom': 'Mateloutre', 'Type': 'Eau', 'Points de vie': '75', 'Attaque': '75'},\n",
       " {'Nom': 'Mesmerella', 'Type': 'Psy', 'Points de vie': '60', 'Attaque': '45'},\n",
       " {'Nom': 'Mew', 'Type': 'Psy', 'Points de vie': '100', 'Attaque': '100'},\n",
       " {'Nom': 'Mewtwo', 'Type': 'Psy', 'Points de vie': '106', 'Attaque': '110'},\n",
       " {'Nom': 'Mewtwo', 'Type': 'Psy', 'Points de vie': '106', 'Attaque': '150'},\n",
       " {'Nom': 'Mewtwo', 'Type': 'Psy', 'Points de vie': '106', 'Attaque': '190'},\n",
       " {'Nom': 'Munna', 'Type': 'Psy', 'Points de vie': '76', 'Attaque': '25'},\n",
       " {'Nom': 'Nucleos', 'Type': 'Psy', 'Points de vie': '45', 'Attaque': '30'},\n",
       " {'Nom': 'Octillery', 'Type': 'Eau', 'Points de vie': '75', 'Attaque': '105'},\n",
       " {'Nom': 'Okeoke', 'Type': 'Psy', 'Points de vie': '95', 'Attaque': '23'},\n",
       " {'Nom': 'Phione', 'Type': 'Eau', 'Points de vie': '80', 'Attaque': '80'},\n",
       " {'Nom': 'Poissoroy', 'Type': 'Eau', 'Points de vie': '80', 'Attaque': '92'},\n",
       " {'Nom': 'Prinplouf', 'Type': 'Eau', 'Points de vie': '64', 'Attaque': '66'},\n",
       " {'Nom': 'Rosabyss', 'Type': 'Eau', 'Points de vie': '55', 'Attaque': '84'},\n",
       " {'Nom': 'Siderella', 'Type': 'Psy', 'Points de vie': '70', 'Attaque': '55'},\n",
       " {'Nom': 'Spoink', 'Type': 'Psy', 'Points de vie': '60', 'Attaque': '25'},\n",
       " {'Nom': 'Symbios', 'Type': 'Psy', 'Points de vie': '110', 'Attaque': '65'},\n",
       " {'Nom': 'Tarpaud', 'Type': 'Eau', 'Points de vie': '90', 'Attaque': '75'},\n",
       " {'Nom': 'Tiplouf', 'Type': 'Eau', 'Points de vie': '53', 'Attaque': '51'}]"
      ]
     },
     "execution_count": 2,
     "metadata": {},
     "output_type": "execute_result"
    }
   ],
   "source": [
    "pokemons"
   ]
  },
  {
   "cell_type": "markdown",
   "metadata": {},
   "source": [
    "**Question 2** : Quel est le type des éléments du tableau `pokemons` ?"
   ]
  },
  {
   "cell_type": "markdown",
   "metadata": {},
   "source": [
    "**Réponse** : ce sont des dictionnaires (présence des caractères { et })"
   ]
  },
  {
   "cell_type": "markdown",
   "metadata": {},
   "source": [
    "Prenons le premier Pokemon de la table (n'oubliez pas d'exécuter la cellule ci-dessous pour que la variable `pokemon1`soit créée)."
   ]
  },
  {
   "cell_type": "code",
   "execution_count": 3,
   "metadata": {},
   "outputs": [],
   "source": [
    "pokemon1 = {'Nom': 'Aligatueur', 'Type': 'Eau', 'Points de vie': '85', 'Attaque': '105'}"
   ]
  },
  {
   "cell_type": "markdown",
   "metadata": {},
   "source": [
    "**Question 3** : Ecrivez les instructions permettant d'accéder à son type, puis à son nombre de points de vie et enfin à sa valeur d'attaque."
   ]
  },
  {
   "cell_type": "code",
   "execution_count": 4,
   "metadata": {},
   "outputs": [
    {
     "data": {
      "text/plain": [
       "'Eau'"
      ]
     },
     "execution_count": 4,
     "metadata": {},
     "output_type": "execute_result"
    }
   ],
   "source": [
    "# type\n",
    "pokemon1['Type']"
   ]
  },
  {
   "cell_type": "code",
   "execution_count": 5,
   "metadata": {},
   "outputs": [
    {
     "data": {
      "text/plain": [
       "'85'"
      ]
     },
     "execution_count": 5,
     "metadata": {},
     "output_type": "execute_result"
    }
   ],
   "source": [
    "# pts de vie\n",
    "pokemon1['Points de vie']"
   ]
  },
  {
   "cell_type": "code",
   "execution_count": 6,
   "metadata": {},
   "outputs": [
    {
     "data": {
      "text/plain": [
       "'105'"
      ]
     },
     "execution_count": 6,
     "metadata": {},
     "output_type": "execute_result"
    }
   ],
   "source": [
    "# attaque\n",
    "pokemon1['Attaque']"
   ]
  },
  {
   "cell_type": "markdown",
   "metadata": {},
   "source": [
    "**Question 4** : Quel est le nom du pokémon n°27 de la table `pokemons` ?"
   ]
  },
  {
   "cell_type": "code",
   "execution_count": 7,
   "metadata": {},
   "outputs": [
    {
     "data": {
      "text/plain": [
       "'Prinplouf'"
      ]
     },
     "execution_count": 7,
     "metadata": {},
     "output_type": "execute_result"
    }
   ],
   "source": [
    "pokemons[27]['Nom']"
   ]
  },
  {
   "cell_type": "markdown",
   "metadata": {},
   "source": [
    "## Récupérer des données simples\n",
    "\n",
    "Imaginons que nous souhaitions connaître la valeur d'attaque du Pokémon `'Groret'`. La méthode la plus naturelle est de parcourir toute la table jusqu'à trouver ce Pokémon et d'afficher sa valeur d'attaque."
   ]
  },
  {
   "cell_type": "code",
   "execution_count": 8,
   "metadata": {},
   "outputs": [
    {
     "name": "stdout",
     "output_type": "stream",
     "text": [
      "45\n"
     ]
    }
   ],
   "source": [
    "for p in pokemons:\n",
    "    if p['Nom'] == 'Groret':\n",
    "        print(p['Attaque'])"
   ]
  },
  {
   "cell_type": "markdown",
   "metadata": {},
   "source": [
    "**Question 5** : Ecrivez une fonction `type_de(nom, pokemons)` qui renvoie le type du pokemon appelé `nom_pokemon` (chaîne de caractères) de la table `pokemons`. Quelques assertions devant être vérifiées par votre fonction sont données ci-dessous."
   ]
  },
  {
   "cell_type": "code",
   "execution_count": 11,
   "metadata": {},
   "outputs": [],
   "source": [
    "def type_de(nom_pokemon, pokemons):\n",
    "    for p in pokemons:  # on parcourt chaque pokemon p de la table\n",
    "        if p['Nom'] == nom_pokemon:  # si on trouve un nom correspondant à celui cherché\n",
    "            return p['Type']  # on renvoie son type        "
   ]
  },
  {
   "cell_type": "code",
   "execution_count": 12,
   "metadata": {},
   "outputs": [],
   "source": [
    "assert type_de('Symbios', pokemons) == 'Psy'\n",
    "assert type_de('Clamiral', pokemons) == 'Eau'"
   ]
  },
  {
   "cell_type": "markdown",
   "metadata": {},
   "source": [
    "## Sélection de lignes\n",
    "\n",
    "Il est très rapide de sélectionner les lignes d'une table qui nous intéressent pour créer une nouvelle table. \n",
    "\n",
    "A partir de la table de départ, on peut facilement créer une nouvelle table contenant tous les Pokémons dont la valeur d'attaque vaut 80. Voici comment faire avec une construction par compréhension."
   ]
  },
  {
   "cell_type": "code",
   "execution_count": 13,
   "metadata": {},
   "outputs": [],
   "source": [
    "pokemon_attaque_80 = [p for p in pokemons if int(p['Attaque']) == 80]"
   ]
  },
  {
   "cell_type": "code",
   "execution_count": 14,
   "metadata": {},
   "outputs": [
    {
     "data": {
      "text/plain": [
       "[{'Nom': 'Crocrodil', 'Type': 'Eau', 'Points de vie': '65', 'Attaque': '80'},\n",
       " {'Nom': 'Phione', 'Type': 'Eau', 'Points de vie': '80', 'Attaque': '80'}]"
      ]
     },
     "execution_count": 14,
     "metadata": {},
     "output_type": "execute_result"
    }
   ],
   "source": [
    "pokemon_attaque_80"
   ]
  },
  {
   "cell_type": "markdown",
   "metadata": {},
   "source": [
    "> Vous noterez qu'il était impératif de convertir la chaîne de caractères renvoyée par `p['Attaque']` en un entier pour faire la comparaison avec 80."
   ]
  },
  {
   "cell_type": "markdown",
   "metadata": {},
   "source": [
    "**Question 6** : Créez une table `resistants` contenant les Pokemons dont les points de vie sont supérieurs ou égaux à 100."
   ]
  },
  {
   "cell_type": "code",
   "execution_count": 16,
   "metadata": {},
   "outputs": [
    {
     "data": {
      "text/plain": [
       "[{'Nom': 'Mew', 'Type': 'Psy', 'Points de vie': '100', 'Attaque': '100'},\n",
       " {'Nom': 'Mewtwo', 'Type': 'Psy', 'Points de vie': '106', 'Attaque': '110'},\n",
       " {'Nom': 'Mewtwo', 'Type': 'Psy', 'Points de vie': '106', 'Attaque': '150'},\n",
       " {'Nom': 'Mewtwo', 'Type': 'Psy', 'Points de vie': '106', 'Attaque': '190'},\n",
       " {'Nom': 'Symbios', 'Type': 'Psy', 'Points de vie': '110', 'Attaque': '65'}]"
      ]
     },
     "execution_count": 16,
     "metadata": {},
     "output_type": "execute_result"
    }
   ],
   "source": [
    "resistants = [p for p in pokemons if int(p['Points de vie'])>= 100]\n",
    "resistants"
   ]
  },
  {
   "cell_type": "markdown",
   "metadata": {},
   "source": [
    "**Question 7** : Créez une table `pokemons_eau` et une table `pokemons_psy` contenant respectivement tous les Pokémons de type `'Eau'`."
   ]
  },
  {
   "cell_type": "code",
   "execution_count": 17,
   "metadata": {},
   "outputs": [],
   "source": [
    "pokemons_eau = [p for p in pokemons if p['Type'] == 'Eau']"
   ]
  },
  {
   "cell_type": "code",
   "execution_count": 18,
   "metadata": {},
   "outputs": [],
   "source": [
    "pokemons_psy = [p for p in pokemons if p['Type'] == 'Psy']"
   ]
  },
  {
   "cell_type": "markdown",
   "metadata": {},
   "source": [
    "Si les deux tests suivants ne sont pas validés, vous devez reprendre la question 7."
   ]
  },
  {
   "cell_type": "code",
   "execution_count": 19,
   "metadata": {},
   "outputs": [],
   "source": [
    "assert len(pokemons_eau) == 16\n",
    "assert len(pokemons_psy) == 18"
   ]
  },
  {
   "cell_type": "markdown",
   "metadata": {},
   "source": [
    "**Question 8** : Que signifient ces deux assertions ?"
   ]
  },
  {
   "cell_type": "markdown",
   "metadata": {},
   "source": [
    "**Réponse** : on teste si nos tables contiennent bien respectivement 16 Pokémons de type `'Eau'` et 18 de type `'Psy'`. "
   ]
  },
  {
   "cell_type": "markdown",
   "metadata": {},
   "source": [
    "## Classification des Pokemons\n",
    "\n",
    "Nous allons utiliser la bibliothèque `matplotlib` pour représenter graphiquement nos données sur les Pokémons.\n",
    "\n",
    "### Travail préliminaire\n",
    "\n",
    "Le code suivant permet de représenter un nuage de points dont les coordonnées sont stockées dans deux tableaux."
   ]
  },
  {
   "cell_type": "code",
   "execution_count": 21,
   "metadata": {},
   "outputs": [
    {
     "data": {
      "image/png": "[encoded data removed]",
      "text/plain": [
       "<Figure size 432x288 with 1 Axes>"
      ]
     },
     "metadata": {
      "needs_background": "light"
     },
     "output_type": "display_data"
    }
   ],
   "source": [
    "%matplotlib inline\n",
    "import matplotlib.pyplot as plt\n",
    "X = [0, 2, 5, 9, 7]  # tableau avec les abscisses\n",
    "Y = [5, 7, 12, 3, 8] # tableau avec les ordonnées\n",
    "plt.plot(X,Y,'ro') # r pour red, o pour un cercle. voir https://matplotlib.org/api/markers_api.html\n",
    "plt.show()"
   ]
  },
  {
   "cell_type": "markdown",
   "metadata": {},
   "source": [
    "**Question 9** : Rendez-vous à l'adresse [https://matplotlib.org/api/markers_api.html](https://matplotlib.org/api/markers_api.html). Modifiez le code précédent pour remplacer les cercles rouges par des carrés bleus."
   ]
  },
  {
   "cell_type": "markdown",
   "metadata": {},
   "source": [
    "**Réponse** : Sur cette page on voit que la lettre `'s'` correspond aux carrés (*square* en anglais). De plus, bleu s'écrit *blue* en anglais donc la lettre `b` correspond à la couleur bleu. On peut vérifier."
   ]
  },
  {
   "cell_type": "code",
   "execution_count": 20,
   "metadata": {},
   "outputs": [
    {
     "data": {
      "image/png": "[encoded data removed]",
      "text/plain": [
       "<Figure size 432x288 with 1 Axes>"
      ]
     },
     "metadata": {
      "needs_background": "light"
     },
     "output_type": "display_data"
    }
   ],
   "source": [
    "%matplotlib inline\n",
    "import matplotlib.pyplot as plt\n",
    "X = [0, 2, 5, 9, 7]  # tableau avec les abscisses\n",
    "Y = [5, 7, 12, 3, 8] # tableau avec les ordonnées\n",
    "plt.plot(X,Y,'bs') # r pour red, o pour un cercle. voir https://matplotlib.org/api/markers_api.html\n",
    "plt.show()"
   ]
  },
  {
   "cell_type": "markdown",
   "metadata": {},
   "source": [
    "On peut représenter dans un repère les différents Pokémons en fonction de leurs points de vie (en asbcisse) et de leus valeurs d'attaque (en ordonnée)."
   ]
  },
  {
   "cell_type": "code",
   "execution_count": 22,
   "metadata": {},
   "outputs": [
    {
     "data": {
      "image/png": "[encoded data removed]",
      "text/plain": [
       "<Figure size 432x288 with 1 Axes>"
      ]
     },
     "metadata": {
      "needs_background": "light"
     },
     "output_type": "display_data"
    }
   ],
   "source": [
    "points_de_vie = [int(p['Points de vie']) for p in pokemons] # construction du tableau des points de vie\n",
    "valeur_attaque = [int(p['Attaque']) for p in pokemons] # construction du tableau des valeurs d'attaque\n",
    "plt.plot(points_de_vie, valeur_attaque, 'ro') # construction du graphique\n",
    "plt.show() # affichage du graphique"
   ]
  },
  {
   "cell_type": "markdown",
   "metadata": {},
   "source": [
    "### Classification selon le type\n",
    "\n",
    "**Question 10** : Faites apparaître sur le *même* graphique, les Pokémons de type `'Eau'` en bleu et les Pokémons de type `'Psy'` en rouge. On mettra, comme précédemment, leurs points de vie en abscisses et leurs valeurs d'attaques en ordonnées."
   ]
  },
  {
   "cell_type": "code",
   "execution_count": 24,
   "metadata": {},
   "outputs": [
    {
     "data": {
      "image/png": "[encoded data removed]",
      "text/plain": [
       "<Figure size 432x288 with 1 Axes>"
      ]
     },
     "metadata": {
      "needs_background": "light"
     },
     "output_type": "display_data"
    }
   ],
   "source": [
    "%matplotlib inline\n",
    "import matplotlib.pyplot as plt\n",
    "\n",
    "# construction des Pokémons de type 'Eau'\n",
    "points_de_vie_eau = [int(p['Points de vie']) for p in pokemons if p['Type'] == 'Eau']  # tableau des abscisses (= points de vie)\n",
    "valeur_attaque_eau = [int(p['Attaque']) for p in pokemons if p['Type'] == 'Eau']  # tableau des ordonnées (= valeurs d'attaque)\n",
    "plt.plot(points_de_vie_eau, valeur_attaque_eau, 'bv')  # construction du graphique avec des triangles bleus\n",
    "\n",
    "# construction des Pokémons de type 'Psy'\n",
    "points_de_vie_psy = [int(p['Points de vie']) for p in pokemons if p['Type'] == 'Psy']\n",
    "valeur_attaque_psy = [int(p['Attaque']) for p in pokemons if p['Type'] == 'Psy']\n",
    "plt.plot(points_de_vie_psy, valeur_attaque_psy, 'ro')  # construction du graphique avec des cercles rouges\n",
    "\n",
    "plt.show()  # affichage du graphique"
   ]
  },
  {
   "cell_type": "markdown",
   "metadata": {},
   "source": [
    "La répartition des points laisse apparaître assez clairement deux classes.\n",
    "\n",
    "**Question 11**: \n",
    "- Un nouveau Pokémon a les caractéristiques suivantes : (points de vie, attaque)= (65, 25). Si vous deviez prédire son type, quel serait-il ?\n",
    "- Même question avec un Pokémon de caractéristiques (points de vie, attaque)= (75, 80).\n",
    "- Même question avec un Pokémon de caractéristiques (points de vie, attaque) = (95,125)."
   ]
  },
  {
   "cell_type": "markdown",
   "metadata": {},
   "source": [
    "**Réponses** :\n",
    "- Psy, car il se trouve dans une zone avec des cercles rouges tout autour\n",
    "- Eau, car il se trouve dans une zone avec des triangles bleus tout autour\n",
    "- C'est plus délicat car le point tombe sur une zone \"frontière\" des deux classes de points (rouges et bleus). On pourrait regarder la classe (rouge ou bleue) de ses plus proches voisins pour faire un choix ('Psy' ou 'Eau'). Le choix pourrait se faire en choisissant la classe majoritaire de ses voisins."
   ]
  },
  {
   "cell_type": "markdown",
   "metadata": {},
   "source": [
    "**Références :**\n",
    "- Documents ressources du DIU EIL, Université de Nantes, C. JERMANN.\n",
    "- Prepabac, spécialité NSI 1ère, C. ADOBET, G. CONNAN, G. ROZSAVOLGYI, L. SIGNAC (pour l'idée de l'activité)."
   ]
  },
  {
   "cell_type": "markdown",
   "metadata": {},
   "source": [
    "---\n",
    "Germain BECKER, Lycée Mounier, ANGERS ![Licence Creative Commons](https://i.creativecommons.org/l/by-nc-sa/4.0/88x31.png)"
   ]
  }
 ],
 "metadata": {
  "kernelspec": {
   "display_name": "Python 3",
   "language": "python",
   "name": "python3"
  },
  "language_info": {
   "codemirror_mode": {
    "name": "ipython",
    "version": 3
   },
   "file_extension": ".py",
   "mimetype": "text/x-python",
   "name": "python",
   "nbconvert_exporter": "python",
   "pygments_lexer": "ipython3",
   "version": "3.7.3"
  }
 },
 "nbformat": 4,
 "nbformat_minor": 2
}
