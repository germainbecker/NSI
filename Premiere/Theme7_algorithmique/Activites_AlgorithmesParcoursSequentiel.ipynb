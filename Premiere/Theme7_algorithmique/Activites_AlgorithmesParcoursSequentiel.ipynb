{
 "cells": [
  {
   "cell_type": "markdown",
   "metadata": {},
   "source": [
    "<h1 style=\"font-size: 30px; text-align: center;\">Algorithmes de parcours séquentiel d'un tableau - EXERCICES</h1>"
   ]
  },
  {
   "cell_type": "markdown",
   "metadata": {},
   "source": [
    "# Exercice 1\n",
    "\n",
    "On considère le tableau de notes suivant."
   ]
  },
  {
   "cell_type": "code",
   "execution_count": null,
   "metadata": {},
   "outputs": [],
   "source": [
    "notes = [14.5, 12, 9, 18, 7.5, 13, 18.5, 6]"
   ]
  },
  {
   "cell_type": "markdown",
   "metadata": {},
   "source": [
    "**Question 1** : Ecrivez un programme qui parcoure le tableau avec une boucle `for` et qui affiche tous les éléments du tableau."
   ]
  },
  {
   "cell_type": "code",
   "execution_count": null,
   "metadata": {},
   "outputs": [],
   "source": [
    "# à compléter\n"
   ]
  },
  {
   "cell_type": "markdown",
   "metadata": {},
   "source": [
    "**Question 2** : L'algorithme suivant a pour but de parcourir tous les éléments du tableau et d'afficher uniquement les notes supérieures ou égales à 10.\n",
    "\n",
    "```\n",
    "Pour chaque note dans le tableau notes faire\n",
    "    Si note >= 10 alors\n",
    "        Afficher note\n",
    "```\n",
    "\n",
    "Ecrivez le programme Python correspondant."
   ]
  },
  {
   "cell_type": "code",
   "execution_count": null,
   "metadata": {},
   "outputs": [],
   "source": [
    "# à compléter :\n"
   ]
  },
  {
   "cell_type": "markdown",
   "metadata": {},
   "source": [
    "On considère désormais le tableau suivant :"
   ]
  },
  {
   "cell_type": "code",
   "execution_count": null,
   "metadata": {},
   "outputs": [],
   "source": [
    "notes_eleves = [['Marie', 14.5], ['Léa', 12], ['Maxime', 9], \n",
    "                ['Chris', 18], ['Anne', 7.5], ['Adrien', 13], \n",
    "                ['Justine', 18.5], ['Greg', 6]]"
   ]
  },
  {
   "cell_type": "markdown",
   "metadata": {},
   "source": [
    "**Question 3** : Ecrivez un programme qui parcoure les éléments du tableau `notes_eleves` avec une boucle `for` et qui affiche tous les prénoms des élèves du tableau."
   ]
  },
  {
   "cell_type": "code",
   "execution_count": null,
   "metadata": {},
   "outputs": [],
   "source": [
    "# à compléter :\n"
   ]
  },
  {
   "cell_type": "markdown",
   "metadata": {},
   "source": [
    "**Question 4** : Ecrivez un programme qui parcoure tous les éléments du tableau `notes_eleves` avec une boucle `for` et qui affiche les prénoms des élèves qui ont eu la moyenne."
   ]
  },
  {
   "cell_type": "code",
   "execution_count": null,
   "metadata": {},
   "outputs": [],
   "source": [
    "# à compléter :\n"
   ]
  },
  {
   "cell_type": "markdown",
   "metadata": {},
   "source": [
    "# Exercice 2\n",
    "\n",
    "On considère le tableau suivant qui mémorise des prénoms et numéros de téléphone."
   ]
  },
  {
   "cell_type": "code",
   "execution_count": null,
   "metadata": {},
   "outputs": [],
   "source": [
    "repertoire = [[\"Paul\", 5234],\n",
    "             [\"Emile\", 5345],\n",
    "             [\"Victor\", 5186],\n",
    "             [\"Rose\", 5678],\n",
    "             [\"Hélène\", 5432]]"
   ]
  },
  {
   "cell_type": "markdown",
   "metadata": {},
   "source": [
    "**Question 1** : Quelle instruction permet d'accéder au numéro de téléphone de Rose ?"
   ]
  },
  {
   "cell_type": "code",
   "execution_count": null,
   "metadata": {},
   "outputs": [],
   "source": []
  },
  {
   "cell_type": "markdown",
   "metadata": {},
   "source": [
    "**Question 2** : Ecrivez un programme qui parcoure tous les éléments du tableau `repertoire` avec une boucle `for` mais qui n'affiche que le numéro de Rose."
   ]
  },
  {
   "cell_type": "code",
   "execution_count": null,
   "metadata": {},
   "outputs": [],
   "source": []
  },
  {
   "cell_type": "markdown",
   "metadata": {},
   "source": [
    "**Question 3** : Ecrivez une fonction `numero_de(prenom, repertoire)` qui renvoie le numéro de téléphone de `prenom` mémorisé dans le tableau `repertoire` ou `None` si le prénom n'est pas dans le répertoire."
   ]
  },
  {
   "cell_type": "code",
   "execution_count": null,
   "metadata": {},
   "outputs": [],
   "source": [
    "# à compléter :\n"
   ]
  },
  {
   "cell_type": "markdown",
   "metadata": {},
   "source": [
    "# Exercice 3 - Nombre d'occurrences\n",
    "\n",
    "Voici plusieurs ensembles contenant des éléments.\n",
    "\n",
    "<img class=\"centre image-responsive\" src=\"data/def_occurrence.png\" alt=\"Nombre d'occurrences\">\n",
    "\n",
    "**Question 1** : Proposez une définition du nombre d’occurrence d’un élément."
   ]
  },
  {
   "cell_type": "markdown",
   "metadata": {},
   "source": [
    "*Réponse* : "
   ]
  },
  {
   "cell_type": "markdown",
   "metadata": {},
   "source": [
    "**Question 2** : Ecrivez une fonction `nb_occurrences(v, T)` qui renvoie le nombre d'occurrences de la valeur `v`dans le tableau `T`. *Aide : il suffit d'adapter la fonction `appartient` vue dans le cours*.\n",
    "\n",
    "*Exemples* :\n",
    "\n",
    "```\n",
    ">>> tab = [1, 2, 1, 3, 1, 3]\n",
    ">>> nb_occurrences(1, tab)\n",
    "3\n",
    ">>> nb_occurrences(2, tab)\n",
    "0\n",
    ">>> nb_occurrences(4, tab)\n",
    "0\n",
    "```\n",
    "    "
   ]
  },
  {
   "cell_type": "code",
   "execution_count": null,
   "metadata": {},
   "outputs": [],
   "source": [
    "def nb_occurrences(v, T):\n",
    "    # à compléter\n",
    "    "
   ]
  },
  {
   "cell_type": "markdown",
   "metadata": {},
   "source": [
    "# Exercice 4 - Recherche du minimum\n",
    "\n",
    "Ecrivez une fonction `minimum(T)` qui renvoie la valeur minimale du tableau `T` d'entiers supposé non vide. *Aide : il suffit d'adapter la fonction `maximum(T)` vue dans le cours.*"
   ]
  },
  {
   "cell_type": "code",
   "execution_count": null,
   "metadata": {},
   "outputs": [],
   "source": [
    "# à compléter\n"
   ]
  },
  {
   "cell_type": "markdown",
   "metadata": {},
   "source": [
    "# Exercice 5 - Recherche de l'indice de valeur maximale / minimale\n",
    "\n",
    "**Question 1** : Ecrivez une fonction `indice_max(T)` qui renvoie une position (ou l'indice, ou l'index) de la valeur maximale du tableau `T` d'entiers supposé non vide. *Aide : il faut parcourir le tableau par indice car on a besoin de connaître l'indice de chaque élément, et donc de l'élément maximal*."
   ]
  },
  {
   "cell_type": "code",
   "execution_count": null,
   "metadata": {},
   "outputs": [],
   "source": [
    "# à compléter\n"
   ]
  },
  {
   "cell_type": "markdown",
   "metadata": {},
   "source": [
    "**Question 2** : Modifiez cette fonction en une fonction `indice_et_valeur_max(T)` qui renvoie une position **et** la valeur maximale du tableau `T` supposé non vide."
   ]
  },
  {
   "cell_type": "code",
   "execution_count": null,
   "metadata": {},
   "outputs": [],
   "source": [
    "# à compléter\n"
   ]
  },
  {
   "cell_type": "markdown",
   "metadata": {},
   "source": [
    "**Question 3** : Ecrivez une fonction `indice_et_valeur_min(T)` qui renvoie une position **et** la valeur minimale du tableau `T` supposé non vide."
   ]
  },
  {
   "cell_type": "code",
   "execution_count": null,
   "metadata": {},
   "outputs": [],
   "source": [
    "# à compléter\n"
   ]
  },
  {
   "cell_type": "markdown",
   "metadata": {},
   "source": [
    "# Exercice 6 - Recherche de doublons\n",
    "\n",
    "On souhaite savoir si un tableau `T` d'éléments quelconques contient des doublons. Autrement dit, on souhaite savoir s'il existe deux indices `i` et `j` distincts tels que `T[i]` et `T[j]` sont égaux. \n",
    "\n",
    "Ecrivez une fonction `doublon(T)` qui renvoie `True` s'il existe (au moins) un doublon dans `T` et `False` dans le cas contraire."
   ]
  },
  {
   "cell_type": "code",
   "execution_count": null,
   "metadata": {},
   "outputs": [],
   "source": [
    "# à compléter\n"
   ]
  },
  {
   "cell_type": "markdown",
   "metadata": {},
   "source": [
    "# Exercice 7 - Renverser un tableau\n",
    "\n",
    "Ecrivez une fonction `miroir(tab)` qui reçoit un tableau `tab` en argument et le modifie pour échanger le premier élément avec le dernier, le deuxième avec l'avant-dernier, etc. Dit autrement, on remplace le tableau par son image miroir. On pourra se servir de la fonction `echange` définie dans chapitre sur les tableaux (Thème 2, Chapitre 2) que l'on rappelle ci-dessous. "
   ]
  },
  {
   "cell_type": "code",
   "execution_count": null,
   "metadata": {},
   "outputs": [],
   "source": [
    "def echange(tab, i, j):\n",
    "    \"\"\"Echange les éléments en position i et j du tableau tab.\n",
    "    tab est supposé non vide et les indices i et j sont compris entre 0 et len(tab)-1.\"\"\"\n",
    "    temp = tab[i]\n",
    "    tab[i] = tab[j]\n",
    "    tab[j] = temp\n",
    "\n",
    "# à compléter\n"
   ]
  },
  {
   "cell_type": "markdown",
   "metadata": {},
   "source": [
    "# Exercice 8 - Compter les occurrences de chaque valeur\n",
    "\n",
    "La bibliothèque `random` contient des fonctions permettant de générer des nombres aléatoires. En particulier la fonction `randint(a, b)` renvoie aléatoirement un entier compris entre les entiers a et b (inclus). Pour l'utiliser il faut l'importer avec la commande :\n",
    "\n",
    "```python\n",
    "from random import randint\n",
    "```\n",
    "\n",
    "Le programme suivant tire au hasard 20 entiers `n` compris entre 0 et 10, puis les affiche."
   ]
  },
  {
   "cell_type": "code",
   "execution_count": null,
   "metadata": {},
   "outputs": [],
   "source": [
    "from random import randint\n",
    "\n",
    "for i in range(20):\n",
    "    n = randint(0, 10)\n",
    "    print(n)"
   ]
  },
  {
   "cell_type": "markdown",
   "metadata": {},
   "source": [
    "**Question 1** : Construisez un tableau `t` de taille 1000 contenant des entiers choisis aléatoirement entre 0 et 10. Affichez ensuite le tableau construit."
   ]
  },
  {
   "cell_type": "code",
   "execution_count": null,
   "metadata": {},
   "outputs": [],
   "source": [
    "# à compléter\n"
   ]
  },
  {
   "cell_type": "markdown",
   "metadata": {},
   "source": [
    "**Question 2** : Ecrivez un programme qui affiche un tableau `hist` de taille 11 dans lequel chaque élément est égal au nombre d'occurrences des valeurs du tableau `t` de la question précédente :  `hist[0]` contient le nombre de 0 du tableau `t`; `hist[1]` contient le nombre de 1; ...; `hist[10]` contient le nombre de 10.\n",
    "\n",
    "*Idée de l'algorithme* :\n",
    "\n",
    "1. On parcourt tous les éléments du tableau `t`\n",
    "2. Si l'élément est le nombre n on augmente `hist[n]` de 1."
   ]
  },
  {
   "cell_type": "code",
   "execution_count": null,
   "metadata": {},
   "outputs": [],
   "source": [
    "# à compléter\n"
   ]
  },
  {
   "cell_type": "markdown",
   "metadata": {},
   "source": [
    "---\n",
    "**Ressources :**\n",
    "\n",
    "- Documents ressources du DIU EIL, Université de Nantes.\n",
    "- Spécialité NSI 1re, T. BALABONSKI, S. CONCHON, J.-C. FILLIATRE, K. NGUYEN, éditions ELLIPSES, pour l'idée des exercices 5, 6 et 7.\n",
    "\n",
    "---\n",
    "Germain BECKER & Sébastien POINT, Lycée Mounier, ANGERS ![Licence Creative Commons](https://i.creativecommons.org/l/by-nc-sa/4.0/88x31.png)"
   ]
  }
 ],
 "metadata": {
  "kernelspec": {
   "display_name": "Python 3",
   "language": "python",
   "name": "python3"
  },
  "language_info": {
   "codemirror_mode": {
    "name": "ipython",
    "version": 3
   },
   "file_extension": ".py",
   "mimetype": "text/x-python",
   "name": "python",
   "nbconvert_exporter": "python",
   "pygments_lexer": "ipython3",
   "version": "3.7.10"
  }
 },
 "nbformat": 4,
 "nbformat_minor": 2
}
