{
 "cells": [
  {
   "cell_type": "markdown",
   "metadata": {},
   "source": [
    "<h1 style=\"font-size: 30px; text-align: center;\">Algorithmes de parcours séquentiel d'un tableau - EXERCICES</h1>"
   ]
  },
  {
   "cell_type": "markdown",
   "metadata": {},
   "source": [
    "> L'idée est d'utiliser et adapter les algorithmes de parcours séquentiel vus dans l'activité d'introduction, à des situations légèrement différentes ou des situations concrètes."
   ]
  },
  {
   "cell_type": "markdown",
   "metadata": {},
   "source": [
    "# Exercice 1 - Adapter l'algorithme de recherche d'un élément\n",
    "\n",
    "On a vu que l'algorithme de recherche d'un élément pouvait être implémenté par la fonction suivante :\n",
    "\n",
    "```python\n",
    "def appartient(v, T):\n",
    "    trouvee = False\n",
    "    for i in range(len(T)):\n",
    "        if T[i] == v:\n",
    "            trouvee = True\n",
    "    return trouvee\n",
    "```"
   ]
  },
  {
   "cell_type": "markdown",
   "metadata": {},
   "source": [
    "## Parcours par valeur\n",
    "\n",
    "**Q1** : La fonction précédente parcoure le tableau `T` *par indice*. Proposez une fonction `appartient_v2` qui effectue la recherche mais en parcourant *par valeur* le tableau `T`. *N'hésitez pas à tester cette nouvelle fonction.*"
   ]
  },
  {
   "cell_type": "code",
   "execution_count": 1,
   "metadata": {},
   "outputs": [],
   "source": [
    "# à vous de jouer !\n"
   ]
  },
  {
   "cell_type": "markdown",
   "metadata": {},
   "source": [
    "## Optimisation\n",
    "\n",
    "**Q2** : Expliquez pourquoi ces deux fonctions exécutent des instructions \"inutiles\" dans certains cas. On pourra s'appuyer sur le cas où le tableau `T = [2, 1, 0, 1, 5]` et la valeur `v = 2`."
   ]
  },
  {
   "cell_type": "raw",
   "metadata": {},
   "source": [
    "Réponse : "
   ]
  },
  {
   "cell_type": "markdown",
   "metadata": {},
   "source": [
    "> En ce sens, les deux fonctions écrites précédemment ne sont pas *optimales*. On va chercher à les optimiser pour qu'elles n'exécutent plus d'instructions inutilement, c'est l'objet de la question suivante !"
   ]
  },
  {
   "cell_type": "markdown",
   "metadata": {},
   "source": [
    "**Q3** : Pour optimiser notre fonction, il est intéressant de renvoyer la valeur `True` dès que l'on sait que `v` appartient à `T`. Proposez une version *optimisée* `appartient_v3` de cette fonction afin qu'aucune instruction inutile ne soit exécutée.\n",
    "\n",
    "> <span style=\"font-size:1.7em;\">🆘</span> On rappelle que le premier mot clé `return` rencontré lors de l'exécution d'une fonction provoque l'arrêt de son exécution (et le renvoi de la ou les valeurs écrites après `return`). La variable `trouvee` n'est pas forcément utile."
   ]
  },
  {
   "cell_type": "code",
   "execution_count": 4,
   "metadata": {},
   "outputs": [],
   "source": [
    "# à vous de jouer !\n",
    "\n",
    "def appartient_v3(v, T):\n",
    "    # à compléter\n",
    "    "
   ]
  },
  {
   "cell_type": "markdown",
   "metadata": {},
   "source": [
    "# Exercice 2 - Utiliser un algorithme de recherche\n",
    "\n",
    "## Chercher une personne dans une liste\n",
    "\n",
    "**Q1** : Écrivez une fonction `est_presente(prenom, liste_personnes)` qui renvoie `True` si la chaîne de caractères `prenom` est dans le tableau `liste_personnes`, et `False` sinon.\n",
    "\n",
    "*Exemples* :\n",
    "\n",
    "```python\n",
    ">>> est_presente('Marie', ['Lucas', 'Élodie', 'Marie', 'Jade'])\n",
    "True\n",
    ">>> est_presente('Oscar', ['Lucas', 'Élodie', 'Marie', 'Jade'])\n",
    "False\n",
    "```\n"
   ]
  },
  {
   "cell_type": "code",
   "execution_count": 2,
   "metadata": {},
   "outputs": [],
   "source": [
    "# à vous de jouer !\n"
   ]
  },
  {
   "cell_type": "markdown",
   "metadata": {},
   "source": [
    "## Chercher une personne dans un annuaire\n",
    "\n",
    "**Q2** : Écrivez une fonction `est_presente(personne, annuaire)` qui renvoie `True` si la chaîne `personne` est bien le prénom d'une personne présente dans `annuaire`, qui est un tableau de tuples de la forme (prenom, numéro), et qui renvoie `False` sinon.\n",
    "\n",
    "*Exemple* :\n",
    "\n",
    "```python\n",
    ">>> annuaire = [('Lucas', '0100'), ('Élodie', '0200'), ('Marie', '0300'), ('Jade', '0400')]\n",
    ">>> est_presente('Marie', annuaire)\n",
    "True\n",
    ">>> est_presente('Oscar', annuaire)\n",
    "False\n",
    "```\n",
    "\n",
    "> <span style=\"font-size:1.7em;\">🆘</span> Il suffit d'adapter légèrement ce qui a été fait dans la question précédente"
   ]
  },
  {
   "cell_type": "code",
   "execution_count": 3,
   "metadata": {},
   "outputs": [],
   "source": [
    "# à vous de jouer !\n"
   ]
  },
  {
   "cell_type": "markdown",
   "metadata": {},
   "source": [
    "**Q3** : Modifier la fonction précédente pour créer une fonction `numero_de(personne, annuaire)` qui renvoie le numéro de l'individu ayant pour prénom `personne` dans `annuaire`, et qui renvoie `None` si l'individu n'est pas dans l'annuaire.\n",
    "\n",
    "*Exemples* :\n",
    "\n",
    "```python\n",
    ">>> annuaire = [('Lucas', '0100'), ('Élodie', '0200'), ('Marie', '0300'), ('Jade', '0400')]\n",
    ">>> numero_de('Marie', annuaire)\n",
    "'0300'\n",
    ">>> numero_de('Lucas', annuaire)\n",
    "'0100'\n",
    ">>> numero_de('Oscar', annuaire)\n",
    "None\n",
    "```\n",
    "\n",
    "> <span style=\"font-size:1.7em;\">🆘</span> Il suffit de modifier la valeur renvoyée par rapport à la question précédente"
   ]
  },
  {
   "cell_type": "code",
   "execution_count": 4,
   "metadata": {},
   "outputs": [],
   "source": [
    "# à vous de jouer !\n"
   ]
  },
  {
   "cell_type": "markdown",
   "metadata": {},
   "source": [
    "## Chercher un mot\n",
    "\n",
    "**Q4** : Écrivez une fonction `premier_mot_plus_de_5_lettres(liste_mots)` qui renvoie le premier mot de plus de 5 lettres présent dans le tableau `liste_mots`, et qui renvoie `None` s'il n'y en a aucun.\n",
    "\n",
    "*Exemples* :\n",
    "\n",
    "```python\n",
    ">>> premier_mot_plus_de_5_lettres(['de', 'nsi', 'algorithme', 'mais'])\n",
    "'algorithme'\n",
    ">>> premier_mot_plus_de_5_lettres(['de', 'nsi', 'algo', 'mais'])\n",
    "None\n",
    "```"
   ]
  },
  {
   "cell_type": "code",
   "execution_count": 5,
   "metadata": {},
   "outputs": [],
   "source": [
    "# à vous de jouer !\n"
   ]
  },
  {
   "cell_type": "markdown",
   "metadata": {},
   "source": [
    "# Exercice 3 - Nombre d'occurrences d'un élément\n",
    "\n",
    "Voici plusieurs ensembles contenant des éléments.\n",
    "\n",
    "<img class=\"centre image-responsive\" src=\"data:image/png;base64,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\" alt=\"Nombre d'occurrences\">"
   ]
  },
  {
   "cell_type": "markdown",
   "metadata": {},
   "source": [
    "**Q1** : Proposez une définition du nombre d’occurrence d’un élément."
   ]
  },
  {
   "cell_type": "raw",
   "metadata": {},
   "source": [
    "Réponse : "
   ]
  },
  {
   "cell_type": "markdown",
   "metadata": {},
   "source": [
    "**Q2** : Écrivez une fonction `nb_occurrences(v, T)` qui renvoie le nombre d'occurrences de la valeur `v`dans le tableau `T`. *Aide : il suffit d'adapter la fonction `appartient` vue dans le cours en ajoutant \"un compteur\"*.\n",
    "\n",
    "*Exemples* :\n",
    "\n",
    "```python\n",
    ">>> tab = [1, 2, 1, 3, 1, 3]\n",
    ">>> nb_occurrences(1, tab)\n",
    "3\n",
    ">>> nb_occurrences(2, tab)\n",
    "0\n",
    ">>> nb_occurrences(4, tab)\n",
    "0\n",
    "```\n",
    "    "
   ]
  },
  {
   "cell_type": "code",
   "execution_count": 6,
   "metadata": {},
   "outputs": [],
   "source": [
    "# à vous de jouer !\n"
   ]
  },
  {
   "cell_type": "markdown",
   "metadata": {},
   "source": [
    "# Exercice 4 - Adapter l'algorithme de recherche du maximum\n",
    "\n",
    "On a vu que l'algorithme de recherche du maximum pouvait être implémenté par la fonction suivante :\n",
    "\n",
    "```python\n",
    "def maximum(T):\n",
    "    maxi = T[0]\n",
    "    for i in range(1, len(T)):\n",
    "        if T[i] > maxi:\n",
    "            maxi = T[i]\n",
    "    return maxi\n",
    "```"
   ]
  },
  {
   "cell_type": "markdown",
   "metadata": {},
   "source": [
    "## Parcours par valeur\n",
    "\n",
    "**Q1** : La fonction précédente parcoure le tableau `T` *par indice*. Proposez une fonction `maximum_v2` qui effectue la recherche du maximum mais en parcourant *par valeur* le tableau `T`. *N'hésitez pas à tester cette nouvelle fonction.*"
   ]
  },
  {
   "cell_type": "code",
   "execution_count": 7,
   "metadata": {},
   "outputs": [],
   "source": [
    "# à vous de jouer !\n"
   ]
  },
  {
   "cell_type": "markdown",
   "metadata": {},
   "source": [
    "**Q2** : Quelle valeur du tableau est parcourue inutilement ? (on considèrera que ce n'est pas un problème majeur)."
   ]
  },
  {
   "cell_type": "raw",
   "metadata": {},
   "source": [
    "Réponse : "
   ]
  },
  {
   "cell_type": "markdown",
   "metadata": {},
   "source": [
    "## Recherche du minimum\n",
    "\n",
    "**Q3** : Adaptez la fonction de recherche du maximum pour écrire une fonction `minimum(T)` qui renvoie la valeur minimale du tableau non vide `T` composé d'entiers. *N'hésitez pas à tester cette nouvelle fonction.*"
   ]
  },
  {
   "cell_type": "code",
   "execution_count": 8,
   "metadata": {},
   "outputs": [],
   "source": [
    "# à vous de jouer !\n"
   ]
  },
  {
   "cell_type": "markdown",
   "metadata": {},
   "source": [
    "## Recherche d'une position de valeur maximale\n",
    "\n",
    "**Q3** : Complétez la fonction `indice_max(T)` suivante pour qu'elle renvoie la position (ou l'indice, ou l'index) de la première occurrence de la valeur maximale du tableau `T` d'entiers supposé non vide.\n",
    "\n",
    "*Exemples* :\n",
    "\n",
    "```python\n",
    ">>> indice_max([1, 2, 1, 3, 4, 6, 7, 1, 2])\n",
    "6\n",
    ">>> indice_max([4, 4, 4])\n",
    "0\n",
    ">>> indice_max([-3, -8, -2])\n",
    "2\n",
    "```\n",
    "\n",
    "> **Remarque** : on a besoin d'un parcours par indice pour renvoyer l'indice demandé !"
   ]
  },
  {
   "cell_type": "code",
   "execution_count": 27,
   "metadata": {},
   "outputs": [],
   "source": [
    "# à compléter !\n",
    "\n",
    "def indice_max(T):\n",
    "    ind_max = ...\n",
    "    maxi = T[0]\n",
    "    for i in range(1, len(T)):  # parcours par indice obligatoire\n",
    "        if T[i] > maxi:\n",
    "            ind_max = ...\n",
    "            maxi = T[i]\n",
    "    return ...\n"
   ]
  },
  {
   "cell_type": "markdown",
   "metadata": {},
   "source": [
    "**Q4** : Écrivez une fonction `indice_et_valeur_max(T)` qui renvoie la position de la première occurrence de la valeur maximale **et** la valeur maximale du tableau `T` supposé non vide.\n",
    "\n",
    "*Exemples* :\n",
    "\n",
    "```python\n",
    ">>> indice_et_valeur_max([1, 2, 1, 3, 4, 6, 7, 1, 2])\n",
    "(6, 7)\n",
    ">>> indice_et_valeur_max([4, 4, 4])\n",
    "(0, 4)\n",
    ">>> indice_et_valeur_max([-3, -8, -2])\n",
    "(2, -2)\n",
    "```\n",
    "\n",
    "> <span style=\"font-size:1.7em;\">🆘</span> Une toute petite modification de la fonction `indice_max` est nécessaire ..."
   ]
  },
  {
   "cell_type": "code",
   "execution_count": 9,
   "metadata": {},
   "outputs": [],
   "source": [
    "# à vous de jouer !\n"
   ]
  },
  {
   "cell_type": "markdown",
   "metadata": {},
   "source": [
    "# Exercice 5 - Utiliser un algorithme de recherche d'extremum\n"
   ]
  },
  {
   "cell_type": "markdown",
   "metadata": {},
   "source": [
    "## Trouver le nombre le plus proche de 0\n",
    "\n",
    "On rappelle que la distance entre un nombre $x$ et le nombre $0$ est la valeur absolue de $x$, notée $|x|$. En Python, c'est la fonction `abs()` qui renvoie la valeur absolue d'un nombre : "
   ]
  },
  {
   "cell_type": "code",
   "execution_count": 40,
   "metadata": {},
   "outputs": [
    {
     "data": {
      "text/plain": [
       "4"
      ]
     },
     "execution_count": 40,
     "metadata": {},
     "output_type": "execute_result"
    }
   ],
   "source": [
    "abs(4)"
   ]
  },
  {
   "cell_type": "code",
   "execution_count": 41,
   "metadata": {},
   "outputs": [
    {
     "data": {
      "text/plain": [
       "2"
      ]
     },
     "execution_count": 41,
     "metadata": {},
     "output_type": "execute_result"
    }
   ],
   "source": [
    "abs(-2)"
   ]
  },
  {
   "cell_type": "code",
   "execution_count": 42,
   "metadata": {},
   "outputs": [
    {
     "data": {
      "text/plain": [
       "0.4"
      ]
     },
     "execution_count": 42,
     "metadata": {},
     "output_type": "execute_result"
    }
   ],
   "source": [
    "abs(0.4)"
   ]
  },
  {
   "cell_type": "markdown",
   "metadata": {},
   "source": [
    "**Q1** : Écrivez une fonction `plus_proche_de_zero(T)` qui renvoie le nombre le plus proche de $0$ qui apparaît dans le tableau de nombres `T` supposé non vide.\n",
    "\n",
    "*Exemples* :\n",
    "\n",
    "```python\n",
    ">>> plus_proche_de_zero([4, -2, 0.4])\n",
    "0.4\n",
    ">>> plus_proche_de_zero([0.1, 0.01, 0.2, -0.001])\n",
    "-0.001\n",
    "```\n",
    "\n",
    "> <span style=\"font-size:1.7em;\">🆘</span> Il faut bien penser à comparer les distances par rapport à $0$, donc les valeurs absolues..."
   ]
  },
  {
   "cell_type": "code",
   "execution_count": 10,
   "metadata": {},
   "outputs": [],
   "source": [
    "# à vous de jouer !\n"
   ]
  },
  {
   "cell_type": "markdown",
   "metadata": {},
   "source": [
    "## Trouver l'élève le plus vieux\n",
    "\n",
    "**Q2** : Écrivez une fonction `plus_vieux(liste_personnes)` qui renvoie le prénom de la personne la plus âgée présente dans `liste_personnes` qui est un tableau non vide de tuples de la forme (prenom, age).\n",
    "\n",
    "*Exemples* :\n",
    "\n",
    "```python\n",
    ">>> plus_vieux([('Lucas', 17), ('Élodie', 15), ('Marie', 18), ('Jade', 16)])\n",
    "'Marie'\n",
    "```"
   ]
  },
  {
   "cell_type": "code",
   "execution_count": 11,
   "metadata": {},
   "outputs": [],
   "source": [
    "# à vous de jouer !\n"
   ]
  },
  {
   "cell_type": "markdown",
   "metadata": {},
   "source": [
    "# Exercice 6 - Algorithmes de cumul\n",
    "\n",
    "## Calculer une somme\n",
    "\n",
    "On a vu que l'algorithme de calcul d'une moyenne pouvait être implémenté par la fonction suivante :\n",
    "\n",
    "```python\n",
    "def moyenne(T):\n",
    "    s = 0\n",
    "    for e in T:\n",
    "        s = s + e\n",
    "    return s / len(T)\n",
    "```"
   ]
  },
  {
   "cell_type": "markdown",
   "metadata": {},
   "source": [
    "**Q1** : Adaptez cette fonction pour écrire une fonction `somme(T)` qui renvoie la somme des nombres du tableau `T`\n",
    "\n",
    "*Exemples* :\n",
    "\n",
    "```python\n",
    ">>> somme([1, 2, 3])\n",
    "6\n",
    ">>> somme([-2, 2, 1])\n",
    "1\n",
    ">>> somme([])\n",
    "0\n",
    "```"
   ]
  },
  {
   "cell_type": "code",
   "execution_count": 12,
   "metadata": {},
   "outputs": [],
   "source": [
    "# à vous de jouer !\n"
   ]
  },
  {
   "cell_type": "markdown",
   "metadata": {},
   "source": [
    "## Calculer le nombre de notes supérieures à 10\n",
    "\n",
    "**Q2** : Écrivez une fonction `nb_notes_superieures_a_dix(liste_notes)` qui renvoie le nombre de notes supérieures ou égales à 10 dans le tableau `liste_notes` supposé non vide.\n",
    "\n",
    "*Exemples* :\n",
    "\n",
    "```python\n",
    ">>> nb_notes_superieures_a_dix([12, 10, 14, 8, 13])\n",
    "4\n",
    ">>> nb_notes_superieures_a_dix([7, 9])\n",
    "0\n",
    "```"
   ]
  },
  {
   "cell_type": "code",
   "execution_count": 13,
   "metadata": {},
   "outputs": [],
   "source": [
    "# à vous de jouer !\n"
   ]
  },
  {
   "cell_type": "markdown",
   "metadata": {},
   "source": [
    "## Calculer la moyenne des élèves\n",
    "\n",
    "**Q3** : Écrivez une fonction `moyenne_devoir(liste_note_par_eleve)` qui renvoie la moyenne des notes à un devoir des élèves du tableau `liste_note_par_eleve`, qui est non vide et composé de tableaux de la forme `[prenom, note]`.\n",
    "\n",
    "*Exemples* :\n",
    "\n",
    "```python\n",
    ">>> moyenne_devoir([['Lucas', 17.5], ['Élodie', 12], ['Marie', 18], ['Jade', 20]])\n",
    "16.875\n",
    "```"
   ]
  },
  {
   "cell_type": "code",
   "execution_count": 14,
   "metadata": {},
   "outputs": [],
   "source": [
    "# à vous de jouer !\n"
   ]
  },
  {
   "cell_type": "markdown",
   "metadata": {},
   "source": [
    "# Exercice 7 (BONUS) - Recherche de doublons\n",
    "\n",
    "On souhaite savoir si un tableau `T` d'éléments quelconques contient des doublons. Autrement dit, on souhaite savoir s'il existe deux indices `i` et `j` distincts tels que `T[i]` et `T[j]` sont égaux. \n",
    "\n",
    "Ecrivez une fonction `doublon(T)` qui renvoie `True` s'il existe (au moins) un doublon dans `T` et `False` dans le cas contraire."
   ]
  },
  {
   "cell_type": "code",
   "execution_count": 15,
   "metadata": {},
   "outputs": [],
   "source": [
    "# à vous de jouer !\n"
   ]
  },
  {
   "cell_type": "markdown",
   "metadata": {},
   "source": [
    "# Exercice 8 (BONUS) - Renverser un tableau\n",
    "\n",
    "Ecrivez une fonction `miroir(tab)` qui reçoit un tableau `tab` en argument et le modifie pour échanger le premier élément avec le dernier, le deuxième avec l'avant-dernier, etc. Dit autrement, on remplace le tableau par son image miroir. On pourra se servir de la fonction `echange` définie dans chapitre sur les tableaux (Thème 2, Chapitre 2) que l'on rappelle ci-dessous. "
   ]
  },
  {
   "cell_type": "code",
   "execution_count": 16,
   "metadata": {},
   "outputs": [],
   "source": [
    "def echange(tab, i, j):\n",
    "    \"\"\"Echange les éléments en position i et j du tableau tab.\n",
    "    tab est supposé non vide et les indices i et j sont compris entre 0 et len(tab)-1.\"\"\"\n",
    "    temp = tab[i]\n",
    "    tab[i] = tab[j]\n",
    "    tab[j] = temp\n",
    "\n",
    "# à vous de jouer !\n"
   ]
  },
  {
   "cell_type": "markdown",
   "metadata": {},
   "source": [
    "---\n",
    "**Références :**\n",
    "\n",
    "- Documents ressources du DIU EIL, Université de Nantes.\n",
    "- Livre *Prépabac 1ère NSI*, C. ADOBET, G. CONNAN, G. ROZSAVOLGYI, L. SIGNAC, éditions HATIER, pour l'idée des exercices 2 et 5.\n",
    "- Livre *Spécialité NSI 1re*, T. BALABONSKI, S. CONCHON, J.-C. FILLIATRE, K. NGUYEN, éditions ELLIPSES, pour l'idée des exercices 7 et 8.\n"
   ]
  },
  {
   "cell_type": "markdown",
   "metadata": {},
   "source": [
    "---\n",
    "Germain BECKER & Sébastien POINT, Lycée Mounier, ANGERS ![Licence Creative Commons](https://i.creativecommons.org/l/by-nc-sa/4.0/88x31.png)"
   ]
  }
 ],
 "metadata": {
  "kernelspec": {
   "display_name": "Python 3",
   "language": "python",
   "name": "python3"
  },
  "language_info": {
   "codemirror_mode": {
    "name": "ipython",
    "version": 3
   },
   "file_extension": ".py",
   "mimetype": "text/x-python",
   "name": "python",
   "nbconvert_exporter": "python",
   "pygments_lexer": "ipython3",
   "version": "3.7.10"
  }
 },
 "nbformat": 4,
 "nbformat_minor": 2
}
