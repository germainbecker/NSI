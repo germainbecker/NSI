{
 "cells": [
  {
   "cell_type": "markdown",
   "id": "5ae1e1da",
   "metadata": {},
   "source": [
    "<h1 style=\"font-size: 30px; text-align: center\">Modèle d'architecture d'une machine - EXERCICES</h1>\n",
    "\n",
    "---"
   ]
  },
  {
   "cell_type": "markdown",
   "id": "96a4df99",
   "metadata": {},
   "source": [
    "# Exercice 1 : Comprendre l'exécution d'un programme\n",
    "\n",
    "Vous trouverez ci-dessous une capture d'écran du simulateur RISC développé par Peter Higginson : [https://peterhigginson.co.uk/RISC/](https://peterhigginson.co.uk/RISC/)\n",
    "\n",
    "![capture d'écran simulateur RISC](data/risc.png)"
   ]
  },
  {
   "cell_type": "markdown",
   "id": "9a4f2632",
   "metadata": {},
   "source": [
    "**Q1** : Identifiez, en les entourant, les 4 parties de l'architecture de von Neumann sur ce simulateur. Entourez également le CPU et localisez les registres <span style=\"font-weight:bold;font-family:consolas;font-size:1.1em;\">PC</span> et <span style=\"font-weight:bold;font-family:consolas;font-size:1.1em;\">IR</span>.\n",
    "\n",
    "**Q2** : Traduisez par des phrases chacune des instructions du programme en langage d'assemblage suivant (aidez-vous du tableau donné dans le cours) :\n",
    "\n",
    "```\n",
    "MOV R0,#34\n",
    "STR R0,33\n",
    "HLT\n",
    "```\n",
    "\n",
    "Ouvrez le simulateur à l'adresse [https://peterhigginson.co.uk/RISC/](https://peterhigginson.co.uk/RISC/) et sélectionnez \"binary\" dans le menu déroulant \"OPTIONS\" afin d'obtenir une visualisation de la mémoire en binaire (comme c'est le cas en réalité). Vous devez obtenir un écran similaire à la capture donnée au-dessus.\n",
    "\n",
    "**Q3** : Recopiez dans la partie de gauche \"Assembly Language\" le programme ci-dessus et validez en cliquant sur le bouton \"Submit\". Le programme a été traduit en langage machine et est stocké dans la mémoire à partir de l'adresse 0. Repérez et recopiez sur votre feuille les mots binaires de ce programme en langage machine.\n",
    "\n",
    "**Q4** : Exécutez le programme pas à pas en cliquant sur le bouton STEP à chaque étape (vous pouvez diminuer ou augmenter la vitesse de l'animation) en prenant soin d'observer et comprendre ce qu'il se passe. Pour chaque instruction, rédigez de manière détaillés ce qu'il se passe en faisant le lien avec le cours."
   ]
  },
  {
   "cell_type": "markdown",
   "id": "a8ba76e6",
   "metadata": {},
   "source": [
    "# Exercice 2 : Comprendre l'exécution d'un programme (suite)\n",
    "\n",
    "**Q1** : Traduire par des phrases chacune des instructions machine du programme suivant :\n",
    "\n",
    "```\n",
    "MOV R0,#34\n",
    "MOV R1,#5\n",
    "SUB R0,#30\n",
    "ADD R0,R0,R1\n",
    "STR R0,12\n",
    "HLT\n",
    "```\n",
    "\n",
    "**Q2** : Quels sont les états des registres à la fin du programme et quelle est la valeur stockée dans la case mémoire 12 ?\n",
    "\n",
    "**Q3** : Recopiez le programme dans le simulateur, lancez l'exécution et observez ce qu'il se passe à chaque étape en faisant le lien avec le cours."
   ]
  },
  {
   "cell_type": "markdown",
   "id": "d6695c5f",
   "metadata": {},
   "source": [
    "# Exercice 3 : Cas des instructions conditionnelles\n",
    "\n",
    "## Instructions de comparaisons et de saut\n",
    "\n",
    "Il existe d'autres instructions que celles que l'on a vues (pour information, la liste complète est disponible à l'adresse [http://www.peterhigginson.co.uk/RISC/instruction_set.pdf](http://www.peterhigginson.co.uk/RISC/instruction_set.pdf)).\n",
    "\n",
    "En voici quelques unes importantes concernant les _comparaisons_ et _sauts_ (ruptures de séquence) qui permettent de faire des tests (instructions conditionnelles)."
   ]
  },
  {
   "cell_type": "markdown",
   "id": "d2b4d01e",
   "metadata": {},
   "source": [
    "<table class=\"tg\" style=\"border-collapse:collapse;border-spacing:0;margin:auto;font-size:1em;\">\n",
    "    <thead>\n",
    "        <tr>\n",
    "            <td style=\"font-weight:bold; text-align:left;border-color:black;border-style:solid;border-width:1px;\n",
    "  overflow:hidden;padding:5px 5px;word-break:normal;background-color:white;\">Instruction en assembleur</td>\n",
    "            <td style=\"font-weight:bold; text-align:left;border-color:black;border-style:solid;border-width:1px;\n",
    "  overflow:hidden;padding:5px 5px;word-break:normal;background-color:white;\">Signification</td>\n",
    "        </tr>\n",
    "    </thead>\n",
    "    <tbody>\n",
    "        <tr>\n",
    "            <td style=\"text-align:left;border-color:black;border-style:solid;border-width:1px;\n",
    "  overflow:hidden;padding:5px 5px;word-break:normal;background:white;\"><span style=\"font-family:consolas; font-size:1.1em;\">BRA 42</span></td>\n",
    "            <td style=\"text-align:left;border-color:black;border-style:solid;border-width:1px;\n",
    "  overflow:hidden;padding:5px 5px;word-break:normal;background:white;\">Il s'agit d'un saut inconditionnel (<span style=\"font-family:consolas; font-size:1.1em;\">BRA</span> pour <em>branch</em> que l'on peut traduire par \"bifurcation\") : indique que la prochaine instruction à exécuter se situe en mémoire à l'adresse <span style=\"font-family:consolas; font-size:1.1em;\">45</span>.</td>\n",
    "        </tr>\n",
    "        <tr>\n",
    "            <td style=\"text-align:left;border-color:black;border-style:solid;border-width:1px;\n",
    "  overflow:hidden;padding:5px 5px;word-break:normal;background:white;\"><span style=\"font-family:consolas; font-size:1.1em;\">CMP R0,#23</span></td>\n",
    "            <td style=\"text-align:left;border-color:black;border-style:solid;border-width:1px;\n",
    "  overflow:hidden;padding:5px 5px;word-break:normal;background:white;\">Compare (<span style=\"font-family:consolas; font-size:1.1em;\">CMP</span> pour <em>compare</em>) la valeur stockée dans le registre <span style=\"font-family:consolas; font-size:1.1em;\">R0</span> et le nombre 23. Cette instruction <span style=\"font-family:consolas; font-size:1.1em;\">CMP</span> doit précéder une instruction de saut conditionnel <span style=\"font-family:consolas; font-size:1.1em;\">BEQ</span>, <span style=\"font-family:consolas; font-size:1.1em;\">BNE</span>, <span style=\"font-family:consolas; font-size:1.1em;\">BGT</span>, <span style=\"font-family:consolas; font-size:1.1em;\">BLT</span> (voir ci-dessous).</td>\n",
    "        </tr>\n",
    "        <tr>\n",
    "            <td style=\"text-align:left;border-color:black;border-style:solid;border-width:1px;\n",
    "  overflow:hidden;padding:5px 5px;word-break:normal;background:white;\"><span style=\"font-family:consolas; font-size:1.1em;\">CMP R0,R1</span></td>\n",
    "            <td style=\"text-align:left;border-color:black;border-style:solid;border-width:1px;\n",
    "  overflow:hidden;padding:5px 5px;word-break:normal;background:white;\">Compare la valeur stockée dans le registre <span style=\"font-family:consolas; font-size:1.1em;\">R0</span> et et la valeur stockée dans le registre <span style=\"font-family:consolas; font-size:1.1em;\">R0</span>.</td>\n",
    "        </tr>\n",
    "        <tr>\n",
    "            <td style=\"text-align:left;border-color:black;border-style:solid;border-width:1px;\n",
    "  overflow:hidden;padding:5px 5px;word-break:normal;background:white;\">\n",
    "                <span style=\"font-family:consolas; font-size:1.1em;\">CMP R0,#23</span>\n",
    "                <br>\n",
    "                <span style=\"font-family:consolas; font-size:1.1em;\">BEQ 78</span>\n",
    "            </td>\n",
    "            <td style=\"text-align:left;border-color:black;border-style:solid;border-width:1px;\n",
    "  overflow:hidden;padding:5px 5px;word-break:normal;background:white;\">La prochaine instruction à exécuter se situe à l'adresse mémoire 78 si la valeur stockée dans le registre <span style=\"font-family:consolas; font-size:1.1em;\">R0</span> est égale <span style=\"font-family:consolas; font-size:1.1em;\">23</span>.\n",
    "                <br>\n",
    "                <span style=\"font-family:consolas; font-size:1.1em;\">BEQ</span> signifie <em>Branch if EQual</em> (birfurcation si les deux opérandes sont égales).</td>\n",
    "        </tr>\n",
    "        <tr>\n",
    "            <td style=\"text-align:left;border-color:black;border-style:solid;border-width:1px;\n",
    "  overflow:hidden;padding:5px 5px;word-break:normal;background:white;\">\n",
    "                <span style=\"font-family:consolas; font-size:1.1em;\">CMP R0,#23</span>\n",
    "                <br>\n",
    "                <span style=\"font-family:consolas; font-size:1.1em;\">BNE 78</span>\n",
    "            </td>\n",
    "            <td style=\"text-align:left;border-color:black;border-style:solid;border-width:1px;\n",
    "  overflow:hidden;padding:5px 5px;word-break:normal;background:white;\">La prochaine instruction à exécuter se situe à l'adresse mémoire 78 si la valeur stockée dans le registre <span style=\"font-family:consolas; font-size:1.1em;\">R0</span> n'est pas égale <span style=\"font-family:consolas; font-size:1.1em;\">23</span>.\n",
    "                <br>\n",
    "                <span style=\"font-family:consolas; font-size:1.1em;\">BNE</span> signifie <em>Branch if Not Equal</em> (birfurcation si les deux opérandes ne sont pas égales).</td>\n",
    "        </tr>\n",
    "        <tr>\n",
    "            <td style=\"text-align:left;border-color:black;border-style:solid;border-width:1px;\n",
    "  overflow:hidden;padding:5px 5px;word-break:normal;background:white;\">\n",
    "                <span style=\"font-family:consolas; font-size:1.1em;\">CMP R0,#23</span>\n",
    "                <br>\n",
    "                <span style=\"font-family:consolas; font-size:1.1em;\">BGT 78</span>\n",
    "            </td>\n",
    "            <td style=\"text-align:left;border-color:black;border-style:solid;border-width:1px;\n",
    "  overflow:hidden;padding:5px 5px;word-break:normal;background:white;\">La prochaine instruction à exécuter se situe à l'adresse mémoire 78 si la valeur stockée dans le registre <span style=\"font-family:consolas; font-size:1.1em;\">R0</span> est supérieure ou égale <span style=\"font-family:consolas; font-size:1.1em;\">23</span>.\n",
    "                <br>\n",
    "                <span style=\"font-family:consolas; font-size:1.1em;\">BGT</span> signifie <em>Branch if Greater Than</em> (birfurcation si la première opérande est strictement supérieure à la deuxième.</td>\n",
    "        </tr>\n",
    "        <tr>\n",
    "            <td style=\"text-align:left;border-color:black;border-style:solid;border-width:1px;\n",
    "  overflow:hidden;padding:5px 5px;word-break:normal;background:white;\">\n",
    "                <span style=\"font-family:consolas; font-size:1.1em;\">CMP R0,#23</span>\n",
    "                <br>\n",
    "                <span style=\"font-family:consolas; font-size:1.1em;\">BLT 78</span>\n",
    "            </td>\n",
    "            <td style=\"text-align:left;border-color:black;border-style:solid;border-width:1px;\n",
    "  overflow:hidden;padding:5px 5px;word-break:normal;background:white;\">La prochaine instruction à exécuter se situe à l'adresse mémoire 78 si la valeur stockée dans le registre <span style=\"font-family:consolas; font-size:1.1em;\">R0</span> est inférieure ou égale <span style=\"font-family:consolas; font-size:1.1em;\">23</span>.\n",
    "                <br>\n",
    "                <span style=\"font-family:consolas; font-size:1.1em;\">BLT</span> signifie <em>Branch if Less Than</em> (birfurcation si la première opérande est strictement inférieure à la deuxième.</td>\n",
    "        </tr>\n",
    "    </tbody>\n",
    "</table>"
   ]
  },
  {
   "cell_type": "markdown",
   "id": "dfca00c9",
   "metadata": {},
   "source": [
    "**Q1** : En vous aidant du tableau ci-dessus, traduisez chacune des instructions suivantes.\n",
    "\n",
    "<table class=\"tg\" style=\"border-collapse:collapse;border-spacing:0;margin: auto;font-size:0.9em;\">\n",
    "    <tbody>\n",
    "        <tr>\n",
    "            <td style=\"text-align:left;border-color:black;border-style:solid;border-width:1px;\n",
    "  overflow:hidden;padding:5px 5px;word-break:normal;background:white;\">\n",
    "            <span style=\"font-family:consolas; font-size:1.1em;\">CMP R2,#100</span>\n",
    "            <br>\n",
    "            <span style=\"font-family:consolas; font-size:1.1em;\">BNE 36</span>\n",
    "            </td>\n",
    "            <td style=\"text-align:left;border-color:black;border-style:solid;border-width:1px;\n",
    "  overflow:hidden;padding:5px 5px;word-break:normal;background:white;\">\n",
    "            <span style=\"font-family:consolas; font-size:1.1em;\">CMP R1,R2</span>\n",
    "            <br>\n",
    "            <span style=\"font-family:consolas; font-size:1.1em;\">BGT 36</span>\n",
    "            </td>\n",
    "        </tr>\n",
    "    </tbody>\n",
    "</table>"
   ]
  },
  {
   "cell_type": "markdown",
   "id": "3656be3e",
   "metadata": {},
   "source": [
    "**Q2** : Donnez l'instruction en assembleur correspondant à la phrase suivante : _Si la valeur située dans le registre <span style=\"font-family:consolas; font-size:1.1em;\">R3</span> est inférieure ou égale à la valeur 5, l'instruction suivante est située à l'adresse mémoire 40_."
   ]
  },
  {
   "cell_type": "markdown",
   "id": "2978c170",
   "metadata": {},
   "source": [
    "## Utilisation d'étiquettes\n",
    "\n",
    "En réalité, on va plutôt utiliser des _étiquettes_ (ou _label_ en anglais) avec les opérations <span style=\"font-family:consolas; font-size:1.1em;\">BRA</span>,<span style=\"font-family:consolas; font-size:1.1em;\">BRA</span>, <span style=\"font-family:consolas; font-size:1.1em;\">BEQ</span>, <span style=\"font-family:consolas; font-size:1.1em;\">BNE</span>, <span style=\"font-family:consolas; font-size:1.1em;\">BGT</span>, <span style=\"font-family:consolas; font-size:1.1em;\">BLT</span>, <span style=\"font-family:consolas; font-size:1.1em;\">BRA</span> : on remplace l'adresse mémoire qui suit ces opérations par le nom de l'étiquette. On peut alors définir nous même les instructions de chaque étiquette et donc de chaque partie du programme correspondant à un saut.\n",
    "\n",
    ">C'est l'assembleur qui se charge lui-même de convertir une étiquette en adresse mémoire.\n",
    "\n",
    "Par exemple, voici un programme en assembleur dans lequel on utilise une étiquette appelée <span style=\"font-family:consolas; font-size:1.1em;\">Sinon</span>. On a traduit chaque ligne :\n",
    "\n",
    "```\n",
    "        MOV R0,#5     // stocke le nombre 5 dans R0\n",
    "        MOV R2,#6     // stocke le nombre 6 dans R0\n",
    "        CMP R0,R2     // Compare R0 et R2\n",
    "        BNE Sinon     // Si R0 != R2, saute à l'étiquette Sinon \n",
    "        ADD R0,R0,R2  // R0 <- R0 + R2\n",
    "        STR R0,42     // stocke la valeur de R0 en mémoire à l'adresse 42\n",
    "        HLT           // arrête l'exécution du programme\n",
    "Sinon   SUB R0,R0,R2  // R0 <- R0 - R2\n",
    "        STR R0,42     // stocke la valeur de R0 en mémoire à l'adresse 42\n",
    "        HLT           // arrête l'exécution du programme\n",
    "```"
   ]
  },
  {
   "cell_type": "markdown",
   "id": "a6c662b1",
   "metadata": {},
   "source": [
    "**Q3** : Proposez un programme Python pouvant correspondre à ce programme en langage d'assemblage. On nommera `a` et `b` les variables correspondant aux registres R0 et R2. (_Indication_ : il y a une instruction conditionnelle à bien formaliser)."
   ]
  },
  {
   "cell_type": "markdown",
   "id": "ad99f6b9",
   "metadata": {},
   "source": [
    "**Q4** : Traduisez en langage d'assemblage le programme Python suivant\n",
    "\n",
    "```python\n",
    "a = 3\n",
    "b = 2\n",
    "if a <= 5:\n",
    "    b = a + b\n",
    "else:\n",
    "    a = a + 3\n",
    "```"
   ]
  },
  {
   "cell_type": "markdown",
   "id": "a55678dc",
   "metadata": {},
   "source": [
    "# Exercice 4 : Décodage du code machine\n",
    "\n",
    "Le [jeu d'instructions](http://www.peterhigginson.co.uk/RISC/instruction_set.pdf) du simulateur RISC donne le code binaire de toutes les opérations. On a regroupé dans le tableau ci-dessous certaines d'entre elles."
   ]
  },
  {
   "cell_type": "markdown",
   "id": "9fbd7085",
   "metadata": {},
   "source": [
    "| Code d'opération | En langage assembleur | Description |\n",
    "| --- | --- | --- |\n",
    "| 0000 0 | HLT | Arrêt de l'exécution du programme |\n",
    "| 0001 0 | ADD Rd,#nb | Ajoute le nombre nb à la valeur du registre Rd et stocke le résultat dans Rd |\n",
    "| 0001 1 | SUB Rd,#nb | Soustrait le nombre nb à la valeur du registre Rd et stocke le résultat dans Rd |\n",
    "| 0010 0 | CMP Rb,#nb | Compare le nombre nb à la valeur du registre Rb |\n",
    "| 0010 1 | MOV Rd,#nb | Stocke le nombre nb dans le registre Rd |\n",
    "| 0110 000 | ADD Rd,Rs,Rb | Ajoute la valeur de Rb à celle de Rs et stocke le résultat dans Rd |\n",
    "| 0110 001 | SUB Rd,Rs,Rb | Soustrait la valeur de Rb à celle de Rs et stocke le résultat dans Rd |\n",
    "| 100... | BRA/B&lt;cond&gt; | Instructions de saut --> voir tableau suivant\n",
    "| 1110 | STR Rd,adr | Stocke la valeur du registre Rd à l'adresse mémoire adr |\n",
    "| 1111 | LDR Rd,adr | Charge dans le registre Rd la valeur située à l'adresse mémoire adr |\n",
    "| 0111 0110 10 | CMP Rd,Rs | Compare la valeur de Rs à celle de Rd |\n",
    "\n",
    "Les instructions de saut ont un code de la forme <span style=\"font-family:consolas; font-size:1.1em;\">100x xxxa aaaa aaaa</span> où xxxx correspond au type de comparaison (sur 4 bits) et aaaaaaaaa correspond à l'adresse mémoire (de l'étiquette en général) sur 9 bits. Voici un tableau récapitulatif :"
   ]
  },
  {
   "cell_type": "markdown",
   "id": "6dac8251",
   "metadata": {},
   "source": [
    "| Code d'opération | En langage assembleur |\n",
    "| --- | --- |\n",
    "| 1000 000 | BRA |\n",
    "| 1000 001 | BEQ |\n",
    "| 1000 010 | BNE |\n",
    "| 1001 100 | BGT |\n",
    "| 1001 101 | BLT |"
   ]
  },
  {
   "cell_type": "markdown",
   "id": "dc446d62",
   "metadata": {},
   "source": [
    "Tous ces codes d'opérations traduisent les opérations HTL, ADD, SUB, CMP, etc. Elles sont à compléter par les valeurs binaires des opérandes. \n",
    "\n",
    "Dans le cas du simulateur RISC :\n",
    "* il y a 8 régistres, de R0 à R7, chacun étant codé sur 3 bits : 000 pour R0, 001 pour R1, 010 pour R2, ..., 111 pour R7.\n",
    "* les adresses mémoires sont codées par leur numéro en binaire\n",
    "* chaque adresse mémoire (donc chaque instruction) est codée sur 16 bits\n",
    "\n",
    "**Q1** : Identifiez dans chaque instruction machine, le code d'opération et la valeur des opérandes du langage assembleur.\n",
    "\n",
    "| Instruction machine | En langage assembleur |\n",
    "| --- | --- |\n",
    "| 0010101000001011| MOV R2,#8 |\n",
    "| 0110001011000001 | ADD R5,R4,R1  |\n",
    "| 1000010000110100 | BNE 50 |\n",
    "\n"
   ]
  },
  {
   "cell_type": "markdown",
   "id": "d11277f0",
   "metadata": {},
   "source": [
    "**Q2** : Traduisez en langage machine les instructions correspondant à l'instruction : <span style=\"font-family:consolas; font-size:1.1em;\">CMP R3,#13</span>. \n",
    "\n",
    "Même question avec : <span style=\"font-family:consolas; font-size:1.1em;\">BLT 20</span>."
   ]
  },
  {
   "cell_type": "markdown",
   "id": "a341c860",
   "metadata": {},
   "source": [
    "**Q3** : Retrouvez les instructions en assembleur correspondant au code machine suivant en jouant le rôle de l'unité de contrôle (UC) lors de la phase de _décodage_.\n",
    "\n",
    "```\n",
    "0010100000000101\n",
    "1111001000001100\n",
    "0110000001001000\n",
    "1110001000001101\n",
    "0000000000000000\n",
    "```"
   ]
  },
  {
   "cell_type": "markdown",
   "id": "783cced0",
   "metadata": {},
   "source": [
    "# Exercice 5 (Bonus)\n",
    "\n",
    "Écrivez en assembleur les instructions correspondant à l'algorithme suivant :\n",
    "\n",
    "```\n",
    "s ← 0\n",
    "Lire x\n",
    "Tant que x >= 0 faire\n",
    "    s ← s + x\n",
    "    Lire x\n",
    "fin Tant que\n",
    "Afficher s\n",
    "```\n",
    "\n",
    "On supposera que les variables `s` et `x` sont stockées respectivement dans les registres R0 et R1.\n",
    "\n",
    "Vous utiliserez à bon escient la documentation du simulateur RISC : [http://www.peterhigginson.co.uk/RISC/instruction_set.pdf](http://www.peterhigginson.co.uk/RISC/instruction_set.pdf). \n",
    "\n",
    "Par exemple, l'instruction <span style=\"font-family:consolas; font-size:1.1em;\">Lire x</span> s'écrit <span style=\"font-family:consolas; font-size:1.1em;\">INP R1,2</span>."
   ]
  },
  {
   "cell_type": "markdown",
   "id": "04eca7ac",
   "metadata": {},
   "source": [
    "---\n",
    "\n",
    "**Références :**\n",
    "\n",
    "- Equipe pédagogique DIU EIL, Université de Nantes.\n",
    "- [Jeu d'instructions](http://www.peterhigginson.co.uk/RISC/instruction_set.pdf) du simulateur RISC de Peter Higgison \n",
    "- Cours de David Roche sur le [Modèle d'architecture de von Neumann](https://pixees.fr/informatiquelycee/prem/c8c.html)\n",
    "\n",
    "---\n",
    "Germain BECKER, Lycée Mounier, ANGERS \n",
    "\n",
    "![Licence Creative Commons](https://i.creativecommons.org/l/by-nc-sa/4.0/88x31.png)"
   ]
  },
  {
   "cell_type": "code",
   "execution_count": null,
   "id": "736405b0",
   "metadata": {},
   "outputs": [],
   "source": []
  }
 ],
 "metadata": {
  "kernelspec": {
   "display_name": "Python 3",
   "language": "python",
   "name": "python3"
  },
  "language_info": {
   "codemirror_mode": {
    "name": "ipython",
    "version": 3
   },
   "file_extension": ".py",
   "mimetype": "text/x-python",
   "name": "python",
   "nbconvert_exporter": "python",
   "pygments_lexer": "ipython3",
   "version": "3.7.10"
  }
 },
 "nbformat": 4,
 "nbformat_minor": 5
}
