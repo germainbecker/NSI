{
 "cells": [
  {
   "cell_type": "markdown",
   "metadata": {},
   "source": [
    "<h1 style=\"font-size: 30px; text-align: center\">TP - Trier une table de données</h1>\n",
    "\n",
    "---"
   ]
  },
  {
   "cell_type": "markdown",
   "metadata": {},
   "source": [
    "# Introduction\n",
    "\n",
    "En Python, avec l'opérateur `<` (ou `>`, `==`, `<=`, `>=`), il est possible de comparer des nombres"
   ]
  },
  {
   "cell_type": "code",
   "execution_count": null,
   "metadata": {},
   "outputs": [],
   "source": [
    "5 < 10"
   ]
  },
  {
   "cell_type": "code",
   "execution_count": null,
   "metadata": {},
   "outputs": [],
   "source": [
    "3 < 1"
   ]
  },
  {
   "cell_type": "markdown",
   "metadata": {},
   "source": [
    "ou des chaînes de caractères (c'est l'ordre alphabétique qui est alors utilisé)"
   ]
  },
  {
   "cell_type": "code",
   "execution_count": null,
   "metadata": {},
   "outputs": [],
   "source": [
    "'Arthur' < 'Bérénice'"
   ]
  },
  {
   "cell_type": "code",
   "execution_count": null,
   "metadata": {},
   "outputs": [],
   "source": [
    "'Gaëlle' < 'Boris'"
   ]
  },
  {
   "cell_type": "markdown",
   "metadata": {},
   "source": [
    "Le fait de pouvoir comparer ce type d'éléments permet de les trier. On va s'intéresser dans ce TP à trier les données d'une table de données."
   ]
  },
  {
   "cell_type": "markdown",
   "metadata": {},
   "source": [
    "Lorsque des données sont regroupées dans une table, il peut être intéressant de pouvoir la trier. Par exemple, on peut vouloir afficher la liste de tous les élèves par ordre alphabétique ou bien encore trier les élèves selon leur date de naissance, selon la note obtenue à un contrôle...\n",
    "\n",
    "Reprenons notre exemple avec les élèves de la classe :\n",
    "\n",
    "Voici un exemple de table avec des informations sur des élèves :\n",
    "\n",
    "| **prénom** | **jour** | **mois** | **année** | **sexe** | **groupe** | **projet** |\n",
    "| --- | --- | --- | --- | --- | --- | --- |\n",
    "| Loona | 29 | 11 | 2005 | F | 1 | être heureuse |\n",
    "| Quentin | 28 | 5 | 2005 | G | 2 | manger une glace |\n",
    "| Sania | 30 | 7 | 2005 | F | 1 | gagner au loto |\n",
    "| Yanis | 14 | 4 | 2005 | G | 1 | devenir quelqu’un de célèbre |\n",
    "| ... | \n",
    "\n",
    "On rappelle que les données de ce fichier CSV peuvent être mémorisées dans un tableau de dictionnaires appelé `eleves` comme suit :"
   ]
  },
  {
   "cell_type": "code",
   "execution_count": null,
   "metadata": {},
   "outputs": [],
   "source": [
    "import csv\n",
    "fichier = open('eleves.csv', 'r', encoding = 'UTF-8')\n",
    "t = csv.DictReader(fichier, delimiter=',')  # le caractère de séparation est la virgule\n",
    "eleves = [dict(ligne) for ligne in t]  # création et construction du tableau par compréhension\n",
    "fichier.close()\n",
    "eleves  # pour voir le contenu du tableau 'eleves'"
   ]
  },
  {
   "cell_type": "markdown",
   "metadata": {},
   "source": [
    "# Utilisation des algorithmes de tri par sélection ou par insertion\n",
    "\n",
    "Les algorithmes de tri par sélection ou de tri par insertion que nous avons écrits permettent de trier des tableaux d'entiers. On rappelle par exemple l'algorithme de tri par insertion ci-dessous : "
   ]
  },
  {
   "cell_type": "code",
   "execution_count": null,
   "metadata": {},
   "outputs": [],
   "source": [
    "def tri_insertion(T):\n",
    "    for i in range(1,len(T)):\n",
    "        x = T[i]\n",
    "        j = i\n",
    "        while j > 0 and x < T[j-1]:\n",
    "            T[j] = T[j-1]\n",
    "            j = j - 1\n",
    "        T[j] = x"
   ]
  },
  {
   "cell_type": "markdown",
   "metadata": {},
   "source": [
    "Si on essaie de trier notre tableau `eleves` avec cette fonction, comme les éléments du tableau `eleves` sont des dictionnaires, il va y avoir un problème car à la ligne 5 puisque `x` et `T[j-1]` sont des dictionnaires et alors la comparaison `x < T[j-1]` n'aura pas de sens (que veut dire \"un dictionnaire est inférieur à un autre dictionnaire\" ? cela n'a aucun sens !). On peut essayer :"
   ]
  },
  {
   "cell_type": "code",
   "execution_count": null,
   "metadata": {},
   "outputs": [],
   "source": [
    "tri_insertion(eleves)"
   ]
  },
  {
   "cell_type": "markdown",
   "metadata": {},
   "source": [
    "On ne peut donc pas comparer directement deux dictionnaires, il faut définir selon quel critère on veut faire le tri. \n",
    "\n",
    "Par exemple, si on souhaite trier les élèves par ordre alphabétique, il faudrait adapter notre algorithme pour comparer les prénoms des élèves. On écrirait alors :"
   ]
  },
  {
   "cell_type": "code",
   "execution_count": null,
   "metadata": {},
   "outputs": [],
   "source": [
    "def tri_insertion_alphabetique(T):\n",
    "    for i in range(1,len(T)):\n",
    "        x = T[i]\n",
    "        j = i\n",
    "        while j > 0 and x['prénom'] < T[j-1]['prénom']:  # MODIFICATION DE LA COMPARAISON\n",
    "            T[j] = T[j-1]\n",
    "            j = j - 1\n",
    "        T[j] = x"
   ]
  },
  {
   "cell_type": "markdown",
   "metadata": {},
   "source": [
    "On peut vérifier que cela permet bien de trier la table par ordre alphabétique des prénoms :"
   ]
  },
  {
   "cell_type": "code",
   "execution_count": null,
   "metadata": {},
   "outputs": [],
   "source": [
    "tri_insertion_alphabetique(eleves)\n",
    "eleves  # pour voir si le tableau a bien été trié"
   ]
  },
  {
   "cell_type": "markdown",
   "metadata": {},
   "source": [
    "Cette façon de faire possède le désavantage de devoir modifier l'algorithme de tri, et de le réécrire à chaque fois que l'on veut trier selon un autre ordre (critère). De plus, on a vu que ces algorithmes de tri par insertion ou par sélection ne sont pas efficaces dès lors que le nombre d'éléments à trier est trop grand. \n",
    "\n",
    "C'est pour cela, que nous allons uniquement utiliser les fonctions de tri offertes par Python, qui sont efficaces et ne nécessitent pas d'adapter l'algorithme."
   ]
  },
  {
   "cell_type": "markdown",
   "metadata": {},
   "source": [
    "# Fonctions de tri offertes par Python (rappels et compléments)\n",
    "\n",
    "Python offre deux fonctions permettant d'effectuer des opérations de tri.\n",
    "\n",
    "## La fonction `sorted` \n",
    "\n",
    "Celle-ci prend en argument un tableau et **renvoie un *nouveau* tableau**, trié, contenant les mêmes éléments."
   ]
  },
  {
   "cell_type": "code",
   "execution_count": null,
   "metadata": {},
   "outputs": [],
   "source": [
    "t = [12, 5, 3, 6, 8, 10]\n",
    "sorted(t)  # renvoie un NOUVEAU tableau"
   ]
  },
  {
   "cell_type": "markdown",
   "metadata": {},
   "source": [
    "On peut voir que le tableau `t` de départ n'a pas été modifié :"
   ]
  },
  {
   "cell_type": "code",
   "execution_count": null,
   "metadata": {},
   "outputs": [],
   "source": [
    "t"
   ]
  },
  {
   "cell_type": "markdown",
   "metadata": {},
   "source": [
    "Cette fonction permet aussi de trier des chaînes de caractères, en utilisant l'odre alphabétique."
   ]
  },
  {
   "cell_type": "code",
   "execution_count": null,
   "metadata": {},
   "outputs": [],
   "source": [
    "sorted([\"poire\", \"pomme\", \"cerise\", 'kiwi'])"
   ]
  },
  {
   "cell_type": "markdown",
   "metadata": {},
   "source": [
    "## La fonction `sort` \n",
    "Celle-ci s'applique à un tableau, **ne renvoie rien, mais *modifie* le tableau d'origine**."
   ]
  },
  {
   "cell_type": "code",
   "execution_count": null,
   "metadata": {},
   "outputs": [],
   "source": [
    "t = [12, 5, 3, 6, 8, 10]\n",
    "t.sort()  # ne renvoie rien"
   ]
  },
  {
   "cell_type": "markdown",
   "metadata": {},
   "source": [
    "On peut voir que le tableau `t` de départ a été modifié :"
   ]
  },
  {
   "cell_type": "code",
   "execution_count": null,
   "metadata": {},
   "outputs": [],
   "source": [
    "t"
   ]
  },
  {
   "cell_type": "markdown",
   "metadata": {},
   "source": [
    "On peut aussi trier directement un tableau de chaînes de caractères avec `sort`."
   ]
  },
  {
   "cell_type": "code",
   "execution_count": null,
   "metadata": {
    "scrolled": true
   },
   "outputs": [],
   "source": [
    "fruits = [\"poire\", \"pomme\", \"cerise\", 'kiwi']\n",
    "fruits.sort()\n",
    "fruits"
   ]
  },
  {
   "cell_type": "markdown",
   "metadata": {},
   "source": [
    "✍️ **Question 1** : Que vaut le tableau `t` après l'exécution des instructions suivantes ? *(Vérifiez ensuite en écrivant et en exécutant ces instructions dans une nouvelle cellule)*.\n",
    "\n",
    "```python\n",
    "t = [4, 5, 1, 3, 7]\n",
    "t.sort()\n",
    "t[0] = 2\n",
    "```"
   ]
  },
  {
   "cell_type": "code",
   "execution_count": null,
   "metadata": {},
   "outputs": [],
   "source": [
    "# pour vérifier\n"
   ]
  },
  {
   "cell_type": "markdown",
   "metadata": {},
   "source": [
    "✍️ **Question 2** : Que valent les tableaux `t` et `t1` après l'exécution des instructions suivantes ? *(Vérifiez ensuite en écrivant et en exécutant ces instructions dans une nouvelle cellule)*.\n",
    "\n",
    "```python\n",
    "t = ['Adèle', 'Zoé', 'Hugo', 'Clément']\n",
    "t1 = sorted(t)\n",
    "t1[0] = 'Arnaud'\n",
    "```"
   ]
  },
  {
   "cell_type": "code",
   "execution_count": null,
   "metadata": {},
   "outputs": [],
   "source": [
    "# pour vérifier\n"
   ]
  },
  {
   "cell_type": "markdown",
   "metadata": {},
   "source": [
    "✍️ **Question 3**: Quel est le contenu du tableau `tab` à l'issue des instructions suivantes ? *(Vérifiez ensuite en écrivant et en exécutant ces instructions dans une nouvelle cellule)*.\n",
    "\n",
    "```python\n",
    "tab = ['2', '1', '3', '12', '10', '5']\n",
    "tab.sort()\n",
    "```"
   ]
  },
  {
   "cell_type": "code",
   "execution_count": null,
   "metadata": {},
   "outputs": [],
   "source": [
    "# pour vérifier\n"
   ]
  },
  {
   "cell_type": "markdown",
   "metadata": {},
   "source": [
    "## Ordre lexicographique\n",
    "\n",
    "Il est possible de trier des données selon plusieurs critères. Ainsi, lorsque l'on trie selon un premier critère puis, à valeurs égales, selon un second critère, on appelle cela un *ordre lexicographique*."
   ]
  },
  {
   "cell_type": "code",
   "execution_count": null,
   "metadata": {},
   "outputs": [],
   "source": [
    "(2, 3) < (2, 8)  # les deux premiers éléments sont égaux donc le tri se fait sur les seconds éléments"
   ]
  },
  {
   "cell_type": "code",
   "execution_count": null,
   "metadata": {},
   "outputs": [],
   "source": [
    "(2, 3) < (2, 1)  # les deux premiers éléments sont égaux donc le tri se fait sur les seconds éléments"
   ]
  },
  {
   "cell_type": "code",
   "execution_count": null,
   "metadata": {},
   "outputs": [],
   "source": [
    "(1, 5) < (2, 3)  # les deux premiers éléments ne sont pas égaux donc le tri se fait directement sur les premiers éléments"
   ]
  },
  {
   "cell_type": "markdown",
   "metadata": {},
   "source": [
    "Les fonctions `sorted` et `sort` utilisent cet ordre lexicographique pour trier un tableau."
   ]
  },
  {
   "cell_type": "code",
   "execution_count": null,
   "metadata": {
    "scrolled": true
   },
   "outputs": [],
   "source": [
    "sorted([(2, 3), (1, 5), (2, 8), (2, 1)])"
   ]
  },
  {
   "cell_type": "markdown",
   "metadata": {},
   "source": [
    "✍️ **Question 4 :** Que renvoie l'expression suivante ? *(Vérifiez ensuite en écrivant et en exécutant cette instruction dans une nouvelle cellule)*.\n",
    "\n",
    "```Python\n",
    "sorted([(1, 3), (1, 2), (2, 4), (2, 1)]) \n",
    "```"
   ]
  },
  {
   "cell_type": "code",
   "execution_count": null,
   "metadata": {},
   "outputs": [],
   "source": [
    "# pour vérifier\n"
   ]
  },
  {
   "cell_type": "markdown",
   "metadata": {},
   "source": [
    "✍️ **Question 5 :** Que renvoie l'expression suivante ? *(Vérifiez ensuite en écrivant et en exécutant cette instruction dans une nouvelle cellule)*.\n",
    "\n",
    "```Python\n",
    "sorted([(1, \"poires\"), (3, \"abricot\"), (1, \"bananes\"), (2, \"kiwi\")]) \n",
    "```"
   ]
  },
  {
   "cell_type": "code",
   "execution_count": null,
   "metadata": {},
   "outputs": [],
   "source": [
    "# pour vérifier\n"
   ]
  },
  {
   "cell_type": "markdown",
   "metadata": {},
   "source": [
    "# Trier des données en fonction d'une clé\n",
    "\n",
    "On va pouvoir trier une table de données avec ces deux fonctions `sorted` et `sort`. Revenons à notre tableau d'élèves."
   ]
  },
  {
   "cell_type": "code",
   "execution_count": null,
   "metadata": {},
   "outputs": [],
   "source": [
    "import csv\n",
    "fichier = open('eleves.csv', 'r', encoding = 'UTF-8')\n",
    "t = csv.DictReader(fichier, delimiter=',')\n",
    "eleves = [dict(ligne) for ligne in t]  # création et construction du tableau par compréhension\n",
    "fichier.close()\n",
    "eleves  # pour voir le contenu du tableau 'eleves'"
   ]
  },
  {
   "cell_type": "markdown",
   "metadata": {},
   "source": [
    "Les deux fonctions `sorted` et `sort` sont incapables de comparer deux dictionnaires. En particulier, on ne peut pas appliquer directement ces fonctions à notre tableau `eleves` :"
   ]
  },
  {
   "cell_type": "code",
   "execution_count": null,
   "metadata": {},
   "outputs": [],
   "source": [
    "sorted(eleves)"
   ]
  },
  {
   "cell_type": "markdown",
   "metadata": {},
   "source": [
    "## Trier selon un critère unique\n",
    "\n",
    "Pour pouvoir utiliser ces fonctions, il va falloir leur donner en paramètre ce que l'on appelle une **clé** (*key* en anglais). Cette clé est en fait une fonction qui prend en paramètre un dictionnaire représentant un éleve et qui renvoie la valeur que l'on souhaite comparer. Attention, les valeurs renvoyées doivent nécessairement être des éléments que Python sait comparer (nombres, chaînes de caractères, tuples).\n",
    "\n",
    "Si on veut comparer les prénoms des élèves (pour faire un tri par ordre alphabétique des prénoms), on peut définir la fonction suivante."
   ]
  },
  {
   "cell_type": "code",
   "execution_count": null,
   "metadata": {},
   "outputs": [],
   "source": [
    "def prenom(eleve):\n",
    "    \"\"\"eleve est un dictionnaire possédant une clé \"prénom\".\"\"\"\n",
    "    return eleve[\"prénom\"]"
   ]
  },
  {
   "cell_type": "markdown",
   "metadata": {},
   "source": [
    "Ensuite, on peut appeler la fonction `sorted` sur le tableau `eleves` en précisant qu'il faut utiliser la fonction `prenom` à chaque fois que deux éléments du tableau doivent être comparés. On l'indique en passant le paramètre `key=prenom` à la fonction `sorted`."
   ]
  },
  {
   "cell_type": "code",
   "execution_count": null,
   "metadata": {},
   "outputs": [],
   "source": [
    "eleves_ordre_alphabetique = sorted(eleves, key=prenom)\n",
    "eleves_ordre_alphabetique"
   ]
  },
  {
   "cell_type": "markdown",
   "metadata": {},
   "source": [
    "Si on veut trier plutôt dans l'ordre inverse, c'est-à-dire du plus grand au plus petit, il faut passer un autre paramètre à la fonction `sorted`, à savoir `reverse=True`."
   ]
  },
  {
   "cell_type": "code",
   "execution_count": null,
   "metadata": {},
   "outputs": [],
   "source": [
    "eleves_ordre_alphabetique_inverse = sorted(eleves, key=prenom, reverse=True)\n",
    "eleves_ordre_alphabetique_inverse"
   ]
  },
  {
   "cell_type": "markdown",
   "metadata": {},
   "source": [
    "💻 **Question 6 :** Créer un nouveau tableau `eleves_age_croissant` qui contient les élèves de la table `eleves` suivant l'année de naissance des élèves (par ordre chronologique). *Indication :* ici la clé de tri change, il ne faut pas oublier de commencer par définir la nouvelle fonction de tri pour l'utiliser dans la fonction `sorted`."
   ]
  },
  {
   "cell_type": "code",
   "execution_count": null,
   "metadata": {},
   "outputs": [],
   "source": [
    "# à vous de jouer !\n"
   ]
  },
  {
   "cell_type": "markdown",
   "metadata": {},
   "source": [
    "## Trier selon plusieurs critères\n",
    "\n",
    "Imaginons que l'on souhaite trier les élèves selon leur année de naissance, puis, si deux élèves sont nés la même année, les trier par ordre alphabétique.\n",
    "\n",
    "On peut alors utiliser le fait que la fonction `sorted` réalise l'ordre lexicographique. Il suffit de définir la fonction de tri suivante."
   ]
  },
  {
   "cell_type": "code",
   "execution_count": null,
   "metadata": {},
   "outputs": [],
   "source": [
    "def annee_puis_prenom(eleve):\n",
    "    return int(eleve[\"année\"]), eleve[\"prénom\"] # ne pas oublier de convertir l'année en entier"
   ]
  },
  {
   "cell_type": "markdown",
   "metadata": {},
   "source": [
    "Cette fonction renvoie pour chaque élève `eleve`, la paire (année, prénom). En utilisant cette clé, la fonction `sorted` va utiliser cette fonction pour comparer deux élèves, en respectant l'ordre lexicographique (d'abord l'année, puis en cas d'égalité le prénom)."
   ]
  },
  {
   "cell_type": "code",
   "execution_count": null,
   "metadata": {},
   "outputs": [],
   "source": [
    "table_a_afficher = sorted(eleves, key=annee_puis_prenom)\n",
    "table_a_afficher"
   ]
  },
  {
   "cell_type": "markdown",
   "metadata": {},
   "source": [
    "💻 **Question 7 :** Créer un tableau `eleves_tries_par_date_naissance` qui contient les élèves de la table `eleves` triés date de naissance (année/mois/jour) du plus vieux au plus jeune."
   ]
  },
  {
   "cell_type": "code",
   "execution_count": null,
   "metadata": {
    "scrolled": true
   },
   "outputs": [],
   "source": [
    "# à vous de jouer !\n"
   ]
  },
  {
   "cell_type": "markdown",
   "metadata": {},
   "source": [
    "# Application : les prénoms à Angers en 2021 (BONUS)\n",
    "\n",
    "Pour illustrer les fonctions de tris, nous allons maintenant travailler sur des données réelles et plus nombreuses : les prénoms donnés à Angers en 2021. Le fichier CSV appelé `prenoms2021.csv` contenant ces données est situé dans le même répertoire que ce Notebook.\n",
    "\n",
    "> Pour information, ce fichier a été récupéré (et renommé) sur le site d'[Open Data](https://data.angers.fr/pages/home/) de la ville d'Angers ou directement en suivant ce lien plus direct : [https://data.angers.fr/explore/dataset/prenoms-des-enfants-nes-a-angers/export/?refine.annee=2021](https://data.angers.fr/explore/dataset/prenoms-des-enfants-nes-a-angers/export/?refine.annee=2021).\n",
    "\n",
    "Voici le contenu du début de ce fichier :\n",
    "\n",
    "| **COLL_NOM** | **COLL_INSEE** | **ENFANT_SEXE** | **ENFANT_PRENOM** | **NOMBRE_OCCURRENCES** | **ANNEE** |\n",
    "| --- | --- | --- | --- | --- | --- |\n",
    "| ANGERS | 49007 | F | Louise | 37 | 2021 | \n",
    "| ANGERS | 49007 | F | Rose | 31 | 2021 | \n",
    "| ANGERS | 49007 | F | Anna | 24 | 2021 | \n",
    "| ... | ... | ... | ... | ... | ... | \n",
    "\n",
    "> ⚠️ La documentation de ce jeu de données indique que seuls les prénoms donnés au moins 4 fois apparaissent.\n",
    "> ⚠️ Comme beaucoup de données françaises, le **caractère de séparation est le point-virgule** (;) et non la virgule. Il faudra juste l'indiquer pour importer correctement les données dans le tableau `prenoms2021` comme ci-dessus.\n"
   ]
  },
  {
   "cell_type": "code",
   "execution_count": null,
   "metadata": {},
   "outputs": [],
   "source": [
    "import csv\n",
    "fichier2021 = open('prenoms2021.csv', 'r', encoding = 'utf8')\n",
    "t = csv.DictReader(fichier2021, delimiter=';') # ATTENTION : le point-virgule est le caractère de séparation\n",
    "prenoms2021 = [dict(ligne) for ligne in t]\n",
    "fichier2021.close()\n",
    "prenoms2021"
   ]
  },
  {
   "cell_type": "markdown",
   "metadata": {},
   "source": [
    "💻 **Question 8** : Créer un nouveau tableau contenant les éléments de la table `prenoms2021` triés par ordre alphabétique."
   ]
  },
  {
   "cell_type": "code",
   "execution_count": null,
   "metadata": {},
   "outputs": [],
   "source": [
    "# à vous de jouer !\n"
   ]
  },
  {
   "cell_type": "markdown",
   "metadata": {},
   "source": [
    "💻 **Question 9** : Créer un nouveau tableau contenant les éléments de la table `prenoms2021` triés du plus fréquent au moins fréquent."
   ]
  },
  {
   "cell_type": "code",
   "execution_count": null,
   "metadata": {},
   "outputs": [],
   "source": [
    "# à vous de jouer !\n"
   ]
  },
  {
   "cell_type": "markdown",
   "metadata": {},
   "source": [
    "💻 **Question 10** : Créer un nouveau tableau contenant les éléments de la table `prenoms2021` triés selon l'ordre (longueur du prénom, nombre_occurrences). C'est-à-dire qu'à longueur du prénom égale, on trie selon le nombre d'occurrences croissante."
   ]
  },
  {
   "cell_type": "code",
   "execution_count": null,
   "metadata": {},
   "outputs": [],
   "source": [
    "# à vous de jouer !\n"
   ]
  },
  {
   "cell_type": "markdown",
   "metadata": {},
   "source": [
    "💻 **Question 11** : Créez une nouvelle table `filles2021` qui contient uniquement les lignes de la table `prenoms2021` correspondant aux filles (cf. Chapitre 1 si besoin pour revoir comment on sélectionne certaines lignes : [cliquez ici](http://info-mounier.fr/premiere_nsi/traitement_donnees/recherche_dans_une_table.php#S%C3%A9lection-de-lignes))."
   ]
  },
  {
   "cell_type": "code",
   "execution_count": null,
   "metadata": {},
   "outputs": [],
   "source": [
    "# à vous de jouer !\n"
   ]
  },
  {
   "cell_type": "markdown",
   "metadata": {},
   "source": [
    "💻 **Question 12** : Créez de même une table `garcons2021` contenant les lignes correspondant uniquement aux garçons."
   ]
  },
  {
   "cell_type": "code",
   "execution_count": null,
   "metadata": {},
   "outputs": [],
   "source": [
    "# à vous de jouer !\n"
   ]
  },
  {
   "cell_type": "markdown",
   "metadata": {},
   "source": [
    "💻 **Question 13** : Triez les tables `filles2021` et `garçons2021` par nombre d'occurrences décroissant."
   ]
  },
  {
   "cell_type": "code",
   "execution_count": null,
   "metadata": {},
   "outputs": [],
   "source": [
    "# à vous de jouer !\n"
   ]
  },
  {
   "cell_type": "markdown",
   "metadata": {},
   "source": [
    "💻 **Question 14** : À partir de ces deux tables désormais triées (par nombre d'occurrences décroissant), construisez deux tables `top10filles` et `top10garcons` qui contiennent respectivement uniquement les 10 prénoms féminins et masculins les plus donnés en 2021 à Angers."
   ]
  },
  {
   "cell_type": "code",
   "execution_count": null,
   "metadata": {},
   "outputs": [],
   "source": [
    "# à vous de jouer\n"
   ]
  },
  {
   "cell_type": "markdown",
   "metadata": {},
   "source": [
    "💻 **Question 15** : À partir des deux tables `top10filles` et `top10garcons`, construisez deux nouvelles tables contenant uniquement les prénoms et nombres d'occurrences des ces deux \"Top 10\" (on ne veut plus les clés `'COLL_NOM'`, `'COLL_INSEE'`, `'ENFANT_SEXE'` et `'ANNEE'`). (cf. Chapitre 1 si besoin: [cliquez ici](http://info-mounier.fr/premiere_nsi/traitement_donnees/recherche_dans_une_table.php#Projection-sur-une-ou-plusieurs-colonnes))."
   ]
  },
  {
   "cell_type": "code",
   "execution_count": null,
   "metadata": {},
   "outputs": [],
   "source": [
    "# à vous de jouer !\n"
   ]
  },
  {
   "cell_type": "markdown",
   "metadata": {},
   "source": [
    "💻 **Question 16** : Le code ci-dessous utilise la fonction `bar` de la bibliothèque `matplotlib` pour créer un histogramme. Après avoir analysé et compris ce code, écrivez le programme permettant de créer un histogramme avec le top 10 des prénoms féminins, puis un histogramme avec le top 10 des prénoms masculins.\n",
    "\n",
    ">Pour les plus curieux, voici un lien vers les [ressources officielles de matplotlib](https://matplotlib.org/stable/index.html) et un autre vers une [documentation en français](http://python-simple.com/python-matplotlib/matplotlib-intro.php)."
   ]
  },
  {
   "cell_type": "code",
   "execution_count": null,
   "metadata": {},
   "outputs": [],
   "source": [
    "# à analyser (ne pas hésiter à modifier/ajouter des choses pour comprendre)\n",
    "# MET UN PEU DE TEMPS A LA PREMIERE EXECUTION SUR BASTHON (c'est le temps que la bibliothèque se charge)\n",
    "\n",
    "import matplotlib.pyplot as plt\n",
    "fruits = ['kiwis', 'poires', 'clémentines', 'abricots']\n",
    "occurrences = [12, 10, 5, 21]\n",
    "plt.bar(fruits, occurrences, width = 0.9, color = 'blue')\n",
    "plt.show()"
   ]
  },
  {
   "cell_type": "code",
   "execution_count": null,
   "metadata": {},
   "outputs": [],
   "source": [
    "# à vous de jouer !\n"
   ]
  },
  {
   "cell_type": "markdown",
   "metadata": {},
   "source": [
    "**Sources :**\n",
    "- Documents ressources du DIU EIL, Université de Nantes\n",
    "- Numérique et Sciences Informatiques, 1re, T. BALABONSKI, S. CONCHON, J.-C. FILLIATRE, K. NGUYEN, éditions ELLIPSES : [Site du livre](https://www.nsi-premiere.fr/)\n",
    "- Ressource Eduscol : [Manipulation de tables](https://bit.ly/2BL2lbA)"
   ]
  },
  {
   "cell_type": "markdown",
   "metadata": {},
   "source": [
    "---\n",
    "Germain BECKER & Sébastien POINT, Lycée Mounier, ANGERS ![Licence Creative Commons](https://i.creativecommons.org/l/by-nc-sa/4.0/88x31.png)"
   ]
  }
 ],
 "metadata": {
  "kernelspec": {
   "display_name": "Python 3",
   "language": "python",
   "name": "python3"
  },
  "language_info": {
   "codemirror_mode": {
    "name": "ipython",
    "version": 3
   },
   "file_extension": ".py",
   "mimetype": "text/x-python",
   "name": "python",
   "nbconvert_exporter": "python",
   "pygments_lexer": "ipython3",
   "version": "3.7.10"
  }
 },
 "nbformat": 4,
 "nbformat_minor": 2
}
