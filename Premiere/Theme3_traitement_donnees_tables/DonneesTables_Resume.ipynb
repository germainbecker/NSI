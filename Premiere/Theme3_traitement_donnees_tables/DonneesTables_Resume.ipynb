{
 "cells": [
  {
   "cell_type": "markdown",
   "metadata": {},
   "source": [
    "<h1 style=\"font-size:2.5em; text-align:center;\">Importer une table et rechercher dans une table [RÉSUMÉ]</h1>\n",
    "\n",
    "---"
   ]
  },
  {
   "cell_type": "markdown",
   "metadata": {},
   "source": [
    "# Introduction \n",
    "\n",
    "Organiser des données sous forme de tableaux est très répandu et très ancien car on retrouve des tables de données dans les livres de comptes de l'Egypte ancienne.\n",
    "\n",
    "On peut organiser des données dans un tableau pour présenter des informations croisées, faire ses comptes, etc. Le bulletin d'un élève est une table qui indique pour chaque matière, la moyenne de l'élève, la moyenne de la classe, l'appréciation du professeur. La liste de présence des élèves est également représentée sous forme d'une table indiquant pour chaque élève s'il est présent ou absent ce jour.\n",
    " \n",
    "En informatique, les tables de données sont rapidement devenues le principal moyen de stocker des données. L'analyse de ces données est utilisée dans de nombreux domaines : calcul scientifique, intelligence artificielle, programmation Web, bio-informatique, informatique financière, etc. De nombreuses données en tables sont disponibles sur les sites de données ouvertes."
   ]
  },
  {
   "cell_type": "markdown",
   "metadata": {},
   "source": [
    "**Exemple**\n",
    "\n",
    "Voici un exemple de table avec des informations sur des élèves :\n",
    "\n",
    "| **prénom** | **jour** | **mois** | **année** | **sexe** | **classe** | **projet** |\n",
    "| --- | --- | --- | --- | --- | --- | --- |\n",
    "| Naïma | 7 | 9 | 2007 | F | 1G4 | apprendre à piloter une Formule 1 |\n",
    "| Jade | 5 | 7 | 2007 | F | 1G2 | ouvrir un restaurant |\n",
    "| Mathilda | 9 | 7 | 2007 | F | 1G4 | gagner au loto |\n",
    "| Louenn | 8 | 7 | 2007 | G | 1G3 | devenir quelqu’un de célèbre |\n",
    "| Enola | 13 | 2 | 2007 | F | 1G3 | avoir une bonne note au prochain devoir |\n",
    "| Samuel | 2 | 8 | 2007 | G | 1G4 | manger des frites tous les jours à la cantine |\n",
    "| Lucien | 2 | 8 | 2007 | G | 1G4 | marcher sur la lune |\n",
    "| Matias | 9 | 8 | 2007 | G | 1G3 | dormir plus longtemps le matin |\n",
    "| Nathan | 3 | 9 | 2007 | G | 1G2 | aider les autres |\n",
    "| Théliau | 7 | 3 | 2007 | G | 1G2 | apprendre à piloter une Formule 1 |\n",
    "\n",
    "Pour exploiter ces données avec un ordinateur il est nécessaire de les mémoriser dans un fichier."
   ]
  },
  {
   "cell_type": "markdown",
   "metadata": {},
   "source": [
    "# Enregistrer les données dans un fichier\n",
    "\n",
    "Il existe différents formats permettant de mémoriser les informations d'une table dans un fichier. Un des plus utilisés est le format **CSV** (pour **comma-separated values**, soit \"données séparées par des virgules\") qui est un fichier texte dans lequel :\n",
    "\n",
    "- chaque ligne correspond à une ligne de la table ;\n",
    "- chaque ligne est séparée en champs par une virgule (\",\") ;\n",
    "- toutes les lignes du fichier ont le même nombre de champs ;\n",
    "- on peut utiliser les guillemets droits (\") pour délimiter le contenu des champs.\n",
    "\n",
    "<blockquote class=\"information\">\n",
    "    <p><strong>Remarques</strong> :</p>\n",
    "    <ul>\n",
    "        <li>En France, le caractère de séparation des champs est généralement le point-virgule (\";\") car la virgule est utilisée pour écrire des nombres décimaux. Il faut donc <strong>être vigilant sur le caractère de séparation utilisé</strong>.</li>\n",
    "        <li>Le format CSV est apparu en 1972, soit bien avant l'avènement des ordinateurs personnels.</li>\n",
    "    </ul>\n",
    "</blockquote>"
   ]
  },
  {
   "cell_type": "markdown",
   "metadata": {},
   "source": [
    "### Un simple fichier texte ...\n",
    "\n",
    "Ainsi, la table précédente peut être mémorisée dans un fichier CSV appelé `eleves.csv` dont voici le contenu :\n",
    "\n",
    "```\n",
    "prénom,jour,mois,année,sexe,classe,projet\n",
    "Naïma,7,9,2007,F,1G4,apprendre à piloter une Formule 1\n",
    "Jade,5,7,2007,F,1G2,ouvrir un restaurant\n",
    "Mathilda,9,7,2007,F,1G4,gagner au loto\n",
    "Louenn,8,7,2007,G,1G3,devenir quelqu’un de célèbre\n",
    "Enola,13,2,2007,F,1G3,avoir une bonne note au prochain devoir\n",
    "Samuel,26,4,2007,G,1G4,manger des frites tous les jours à la cantine\n",
    "Lucien,2,8,2007,G,1G4,marcher sur la lune\n",
    "Matias,9,8,2007,G,1G3,dormir plus longtemps le matin\n",
    "Nathan,3,9,2007,G,1G2,aider les autres\n",
    "Théliau,7,3,2007,G,1G2,devenir président\n",
    "```"
   ]
  },
  {
   "cell_type": "markdown",
   "metadata": {},
   "source": [
    "Un fichier CSV est un simple fichier texte dont on peut visualiser le contenu facilement avec un éditeur de texte :\n",
    "\n",
    "<img class=\"centre image-responsive\" src=\"data/texte.png\" alt=\"fichier texte\">\n",
    "\n",
    "<p style=\"text-align: center; color: #333;\"><strong>Fichier CSV ouvert avec un éditeur de texte.</strong></p>"
   ]
  },
  {
   "cell_type": "markdown",
   "metadata": {},
   "source": [
    "### ... qui peut s'ouvrir avec un tableur !\n",
    "\n",
    "Bien qu'étant un simple fichier texte, un fichier CSV peut être importé et exporté par un tableur qui permet d'en visualiser le contenu sous la forme d'un tableau."
   ]
  },
  {
   "cell_type": "markdown",
   "metadata": {},
   "source": [
    "<img class=\"centre image-responsive\" src=\"data/tableur.png\" alt=\"fichier texte\">\n",
    "\n",
    "<p style=\"text-align: center; color: #333;\"><strong>Fichier CSV ouvert avec un tableur.</strong></p>"
   ]
  },
  {
   "cell_type": "markdown",
   "metadata": {},
   "source": [
    ">Pour exploiter et manipuler des tables de données mémorisées dans un fichier CSV, il faut commencer par *charger les données*. On pourra ensuite utiliser toute la puissance d'un langage de programmation pour les exploiter. "
   ]
  },
  {
   "cell_type": "markdown",
   "metadata": {},
   "source": [
    "# Charger les données dans Python\n",
    "\n",
    "Pour importer les données d'un fichier CSV dans Python il faut commencer par **ouvrir le fichier** avec Python. On utilise pour cela la fonction prédéfinie `open`."
   ]
  },
  {
   "cell_type": "code",
   "execution_count": 1,
   "metadata": {},
   "outputs": [],
   "source": [
    "# on ouvre le fichier eleves.csv dans un objet appelé 'fichier'\n",
    "fichier = open('eleves.csv', 'r', encoding = 'UTF-8')"
   ]
  },
  {
   "cell_type": "markdown",
   "metadata": {},
   "source": [
    ">On a utilisé le paramètre `'r'` pour indiquer une ouverture en mode *lecture* (*read* en anglais).\n",
    "\n",
    "Il faut ensuite **lire le fichier** pour charger son contenu dans Python. On pourrait pour cela utiliser la méthode `read` qui renvoie le contenu du fichier sous la forme d'une unique chaîne de caractères."
   ]
  },
  {
   "cell_type": "code",
   "execution_count": 2,
   "metadata": {},
   "outputs": [
    {
     "name": "stdout",
     "output_type": "stream",
     "text": [
      "prénom,jour,mois,année,sexe,classe,projet\n",
      "Naïma,7,9,2007,F,1G4,apprendre à piloter une Formule 1\n",
      "Jade,5,7,2007,F,1G2,ouvrir un restaurant\n",
      "Mathilda,9,7,2007,F,1G4,gagner au loto\n",
      "Louenn,8,7,2007,G,1G3,devenir quelqu’un de célèbre\n",
      "Enola,13,2,2007,F,1G3,avoir une bonne note au prochain devoir\n",
      "Samuel,26,4,2007,G,1G4,manger des frites tous les jours à la cantine\n",
      "Lucien,2,8,2007,G,1G4,marcher sur la lune\n",
      "Matias,9,8,2007,G,1G3,dormir plus longtemps le matin\n",
      "Nathan,3,9,2007,G,1G2,aider les autres\n",
      "Théliau,7,3,2007,G,1G2,devenir président\n",
      "Ali,21,11,2007,G,1G2,devenir un joueur professionnel de billard\n",
      "Anastasia,24,9,2006,F,1G4,créer un jeu vidéo\n",
      "Yohann,22,7,2007,G,1G2,gérer sa propre entreprise\n",
      "Bastien,9,3,2007,G,1G2,jouer dans le prochain James Bond\n",
      "Noe,30,12,2007,G,1G3,monter le tapis rouge à Cannes\n",
      "Lilian,27,12,2007,G,1G2,devenir champion du monde de bras de fer\n",
      "Simon,6,12,2007,G,1G1,aller à Poudlard\n",
      "Eliott,12,11,2007,G,1G4,avoir son émission de TV\n",
      "Amaël,16,9,2007,G,1G1,devenir une rockstar\n",
      "\n"
     ]
    }
   ],
   "source": [
    "texte = fichier.read() # on lit le contenu sous la forme d'une unique chaine de caractères\n",
    "print(texte) # on affiche la chaine de caractères 'texte'\n",
    "# on ferme le flux de lecture\n",
    "fichier.close()"
   ]
  },
  {
   "cell_type": "markdown",
   "metadata": {},
   "source": [
    "Cependant, ce n'est pas ainsi que l'on va procéder car exploiter cette grande chaîne de caractères n'est pas pratique. En effet, il sera beaucoup simple et efficace de manipuler des *types construits* comme les tableaux et surtout les dictionnaires.\n",
    "\n",
    "Ainsi, on va plutôt lire le contenu du fichier pour construire un **tableau** dans lequel chaque élément correspond à une ligne de la table. Il est possible de représenter chaque ligne de la table (donc chaque élève) par un *tableau* ou par un *dictionnaire*.\n",
    "\n",
    "Le chargement dans un **tableau de dictionnaires** est préférable car il est alors facile d'accéder aux données par leurs clés. On ne présente que cette façon de procéder dans ce résumé de cours (voir le TD pour le chargement dans un tableau de tableaux).\n",
    "\n",
    "> Pour cela, la biliothèque standard de Python contient un module `csv` qui contient des fonctions très pratiques pour lire et écrire des fichiers CSV. La mémorisation dans un tableau devenant alors très rapide. Voici comment on procède."
   ]
  },
  {
   "cell_type": "markdown",
   "metadata": {},
   "source": [
    "## Chargement dans un tableau de dictionnaires\n",
    "\n",
    "La méthode `DictReader` du module `csv` permet de lire la table ligne à ligne et renvoie successivement pour chaque ligne un *dictionnaire* des champs de cette ligne. La première ligne du fichier a servi à obtenir les clés utilisées pour chaque enregistrement.\n",
    "\n",
    "On peut alors construire par compréhension le tableau `eleves` qui mémorise toutes les données de la table, chaque élément de ce tableau étant un **dictionnaire** correspondant à une ligne de la table de données."
   ]
  },
  {
   "cell_type": "code",
   "execution_count": 3,
   "metadata": {
    "scrolled": false
   },
   "outputs": [
    {
     "data": {
      "text/plain": [
       "[{'prénom': 'Naïma',\n",
       "  'jour': '7',\n",
       "  'mois': '9',\n",
       "  'année': '2007',\n",
       "  'sexe': 'F',\n",
       "  'classe': '1G4',\n",
       "  'projet': 'apprendre à piloter une Formule 1'},\n",
       " {'prénom': 'Jade',\n",
       "  'jour': '5',\n",
       "  'mois': '7',\n",
       "  'année': '2007',\n",
       "  'sexe': 'F',\n",
       "  'classe': '1G2',\n",
       "  'projet': 'ouvrir un restaurant'},\n",
       " {'prénom': 'Mathilda',\n",
       "  'jour': '9',\n",
       "  'mois': '7',\n",
       "  'année': '2007',\n",
       "  'sexe': 'F',\n",
       "  'classe': '1G4',\n",
       "  'projet': 'gagner au loto'},\n",
       " {'prénom': 'Louenn',\n",
       "  'jour': '8',\n",
       "  'mois': '7',\n",
       "  'année': '2007',\n",
       "  'sexe': 'G',\n",
       "  'classe': '1G3',\n",
       "  'projet': 'devenir quelqu’un de célèbre'},\n",
       " {'prénom': 'Enola',\n",
       "  'jour': '13',\n",
       "  'mois': '2',\n",
       "  'année': '2007',\n",
       "  'sexe': 'F',\n",
       "  'classe': '1G3',\n",
       "  'projet': 'avoir une bonne note au prochain devoir'},\n",
       " {'prénom': 'Samuel',\n",
       "  'jour': '26',\n",
       "  'mois': '4',\n",
       "  'année': '2007',\n",
       "  'sexe': 'G',\n",
       "  'classe': '1G4',\n",
       "  'projet': 'manger des frites tous les jours à la cantine'},\n",
       " {'prénom': 'Lucien',\n",
       "  'jour': '2',\n",
       "  'mois': '8',\n",
       "  'année': '2007',\n",
       "  'sexe': 'G',\n",
       "  'classe': '1G4',\n",
       "  'projet': 'marcher sur la lune'},\n",
       " {'prénom': 'Matias',\n",
       "  'jour': '9',\n",
       "  'mois': '8',\n",
       "  'année': '2007',\n",
       "  'sexe': 'G',\n",
       "  'classe': '1G3',\n",
       "  'projet': 'dormir plus longtemps le matin'},\n",
       " {'prénom': 'Nathan',\n",
       "  'jour': '3',\n",
       "  'mois': '9',\n",
       "  'année': '2007',\n",
       "  'sexe': 'G',\n",
       "  'classe': '1G2',\n",
       "  'projet': 'aider les autres'},\n",
       " {'prénom': 'Théliau',\n",
       "  'jour': '7',\n",
       "  'mois': '3',\n",
       "  'année': '2007',\n",
       "  'sexe': 'G',\n",
       "  'classe': '1G2',\n",
       "  'projet': 'devenir président'},\n",
       " {'prénom': 'Ali',\n",
       "  'jour': '21',\n",
       "  'mois': '11',\n",
       "  'année': '2007',\n",
       "  'sexe': 'G',\n",
       "  'classe': '1G2',\n",
       "  'projet': 'devenir un joueur professionnel de billard'},\n",
       " {'prénom': 'Anastasia',\n",
       "  'jour': '24',\n",
       "  'mois': '9',\n",
       "  'année': '2006',\n",
       "  'sexe': 'F',\n",
       "  'classe': '1G4',\n",
       "  'projet': 'créer un jeu vidéo'},\n",
       " {'prénom': 'Yohann',\n",
       "  'jour': '22',\n",
       "  'mois': '7',\n",
       "  'année': '2007',\n",
       "  'sexe': 'G',\n",
       "  'classe': '1G2',\n",
       "  'projet': 'gérer sa propre entreprise'},\n",
       " {'prénom': 'Bastien',\n",
       "  'jour': '9',\n",
       "  'mois': '3',\n",
       "  'année': '2007',\n",
       "  'sexe': 'G',\n",
       "  'classe': '1G2',\n",
       "  'projet': 'jouer dans le prochain James Bond'},\n",
       " {'prénom': 'Noe',\n",
       "  'jour': '30',\n",
       "  'mois': '12',\n",
       "  'année': '2007',\n",
       "  'sexe': 'G',\n",
       "  'classe': '1G3',\n",
       "  'projet': 'monter le tapis rouge à Cannes'},\n",
       " {'prénom': 'Lilian',\n",
       "  'jour': '27',\n",
       "  'mois': '12',\n",
       "  'année': '2007',\n",
       "  'sexe': 'G',\n",
       "  'classe': '1G2',\n",
       "  'projet': 'devenir champion du monde de bras de fer'},\n",
       " {'prénom': 'Simon',\n",
       "  'jour': '6',\n",
       "  'mois': '12',\n",
       "  'année': '2007',\n",
       "  'sexe': 'G',\n",
       "  'classe': '1G1',\n",
       "  'projet': 'aller à Poudlard'},\n",
       " {'prénom': 'Eliott',\n",
       "  'jour': '12',\n",
       "  'mois': '11',\n",
       "  'année': '2007',\n",
       "  'sexe': 'G',\n",
       "  'classe': '1G4',\n",
       "  'projet': 'avoir son émission de TV'},\n",
       " {'prénom': 'Amaël',\n",
       "  'jour': '16',\n",
       "  'mois': '9',\n",
       "  'année': '2007',\n",
       "  'sexe': 'G',\n",
       "  'classe': '1G1',\n",
       "  'projet': 'devenir une rockstar'}]"
      ]
     },
     "execution_count": 3,
     "metadata": {},
     "output_type": "execute_result"
    }
   ],
   "source": [
    "import csv # pour utiliser le module csv\n",
    "\n",
    "# Ouverture du fichier\n",
    "fichier = open('eleves.csv', 'r', encoding = 'UTF-8')\n",
    "\n",
    "# Lecture de son contenu avec la méthode DictReader qui renvoie une valeur spéciale représentant le fichier CSV\n",
    "table = csv.DictReader(fichier, delimiter=',')  # on précise le caractère de séparation, ici la virgule\n",
    "\n",
    "# Construction par compréhension du tableau représentant la table\n",
    "eleves = [dict(ligne) for ligne in table]  # chaque élément est un dictionnaire\n",
    "\n",
    "# Fermeture du flux de lecture\n",
    "fichier.close()\n",
    "\n",
    "eleves # pour voir le contenu du tableau 'eleves'"
   ]
  },
  {
   "cell_type": "markdown",
   "metadata": {},
   "source": [
    "Chaque ligne est représentée par un dictionnaire. Ici, les informations sur le troisième élève sont mémorisées dans le dictionnaire "
   ]
  },
  {
   "cell_type": "code",
   "execution_count": 4,
   "metadata": {},
   "outputs": [
    {
     "data": {
      "text/plain": [
       "{'prénom': 'Mathilda',\n",
       " 'jour': '9',\n",
       " 'mois': '7',\n",
       " 'année': '2007',\n",
       " 'sexe': 'F',\n",
       " 'classe': '1G4',\n",
       " 'projet': 'gagner au loto'}"
      ]
     },
     "execution_count": 4,
     "metadata": {},
     "output_type": "execute_result"
    }
   ],
   "source": [
    "eleves[2]"
   ]
  },
  {
   "cell_type": "markdown",
   "metadata": {},
   "source": [
    "On peut facilement accéder à n'importe quelle donnée grâce à sa clé. Par exemple, comme la clé correspondant au sexe est `'sexe'`, on peut accéder au sexe du troisième élève avec l'instruction"
   ]
  },
  {
   "cell_type": "code",
   "execution_count": 5,
   "metadata": {},
   "outputs": [
    {
     "data": {
      "text/plain": [
       "'F'"
      ]
     },
     "execution_count": 5,
     "metadata": {},
     "output_type": "execute_result"
    }
   ],
   "source": [
    "eleves[2]['sexe']"
   ]
  },
  {
   "cell_type": "markdown",
   "metadata": {},
   "source": [
    "On peut aussi accéder au projet de Yohann avec l'instruction"
   ]
  },
  {
   "cell_type": "code",
   "execution_count": 6,
   "metadata": {},
   "outputs": [
    {
     "data": {
      "text/plain": [
       "'gérer sa propre entreprise'"
      ]
     },
     "execution_count": 6,
     "metadata": {},
     "output_type": "execute_result"
    }
   ],
   "source": [
    "eleves[12]['projet']"
   ]
  },
  {
   "cell_type": "markdown",
   "metadata": {},
   "source": [
    ">Même en mémorisant chaque ligne de la table dans un dictionnaire, tout n'est pas encore parfait. En effet, pour trouver le projet de Sara, il faut savoir que la ligne la concernant a pour index 8 dans le tableau. Je vous laisse imaginer ce que cela peut donner pour trouver un index dans des fichiers de plusieurs dizaines de milliers de lignes...\n",
    ">\n",
    ">Heureusement, il est possible de chercher plus efficacement des données dans une table, c'est ce qui est expliqué ci-après."
   ]
  },
  {
   "cell_type": "markdown",
   "metadata": {},
   "source": [
    "# Rechercher un élément dans une table\n",
    "\n",
    "Une fois les données chargées dans une table, il est possible de travailler sur ces données en utilisant les opérations de manipulation sur les tableaux et les dictionnaires. En particulier, on va pouvoir effectuer une recherche en *parcourant le tableau* ligne par ligne, c'est-à-dire dictionnaire par dictionnaire.\n",
    "\n",
    "## Présence d'un élément\n",
    "\n",
    "On cherche ici à détecter la présence d'un élément dans une table (un élève dans notre cas). Nous allons utiliser des techniques de recherche dans un tableau comme celles dans le chapitre \"Algorithmes de parcours séquentiel d'un tableau\" (Thème 7, Chapitre 1). \n",
    "\n",
    "Pour rappel, voici la fonction `appartient` qui renvoie `True` ou `False` selon la présence ou l'absence d'un élément `v` dans un tableau `T`.\n",
    "\n",
    "```python\n",
    "def appartient(v, T):\n",
    "    \"\"\"Renvoie True si v appartient au tableau T, False sinon.\"\"\"\n",
    "    for e in T:\n",
    "        if e == v:\n",
    "            return True\n",
    "    return False\n",
    "```\n",
    "On va légèrement adapter cette fonction pour chercher un élève désigné par son prénom dans notre table."
   ]
  },
  {
   "cell_type": "code",
   "execution_count": 7,
   "metadata": {},
   "outputs": [],
   "source": [
    "def appartient(p, eleves):\n",
    "    '''\n",
    "    Renvoie True si le prénom p est dans le tableau eleves, et False sinon.\n",
    "    p est un chaîne de caractères et eleves est un tableau de dictionnaires.\n",
    "    '''\n",
    "    for eleve in eleves:\n",
    "        if eleve['prénom'] == p:\n",
    "            return True\n",
    "    return False"
   ]
  },
  {
   "cell_type": "markdown",
   "metadata": {},
   "source": [
    "**Explications :** on passe en revue tous les éléments du tableau (chaque dictionnaire `eleve`) et on teste si l'un d'entre eux possède un attribut `'prénom'` égal à `p`, autrement dit si un des élèves a le prénom `p`."
   ]
  },
  {
   "cell_type": "markdown",
   "metadata": {},
   "source": [
    "On peut alors appeler cette fonction pour tester la présence d'un élève :"
   ]
  },
  {
   "cell_type": "code",
   "execution_count": 8,
   "metadata": {},
   "outputs": [
    {
     "data": {
      "text/plain": [
       "True"
      ]
     },
     "execution_count": 8,
     "metadata": {},
     "output_type": "execute_result"
    }
   ],
   "source": [
    "appartient('Jade', eleves)"
   ]
  },
  {
   "cell_type": "code",
   "execution_count": 9,
   "metadata": {},
   "outputs": [
    {
     "data": {
      "text/plain": [
       "False"
      ]
     },
     "execution_count": 9,
     "metadata": {},
     "output_type": "execute_result"
    }
   ],
   "source": [
    "appartient('Marie', eleves)"
   ]
  },
  {
   "cell_type": "markdown",
   "metadata": {},
   "source": [
    "## Récupérer une donnée simple selon un critère\n",
    "\n",
    "On peut adapter la fonction précédente pour qu'elle renvoie le projet de l'élève dont le prénom est entré en paramètre."
   ]
  },
  {
   "cell_type": "code",
   "execution_count": 10,
   "metadata": {},
   "outputs": [],
   "source": [
    "def projet_de(p, eleves):\n",
    "    \"\"\"\n",
    "    Renvoie le projet de l'élève prénommé p dans le tableau eleves, \n",
    "    et None si aucun prénom ne correspond.\n",
    "    p est un chaîne de caractères et eleves est un tableau de dictionnaires.\n",
    "    \"\"\"\n",
    "    for eleve in eleves:\n",
    "        if eleve['prénom'] == p:   # si un élève a le prénom p\n",
    "            return eleve['projet'] # on renvoie le projet de cet élève\n",
    "    return None"
   ]
  },
  {
   "cell_type": "code",
   "execution_count": 11,
   "metadata": {},
   "outputs": [
    {
     "data": {
      "text/plain": [
       "'avoir une bonne note au prochain devoir'"
      ]
     },
     "execution_count": 11,
     "metadata": {},
     "output_type": "execute_result"
    }
   ],
   "source": [
    "projet_de('Enola', eleves)"
   ]
  },
  {
   "cell_type": "markdown",
   "metadata": {},
   "source": [
    "> Vous remarquerez qu'avec cette façon de faire, il n'est plus nécessaire de connaître la position de Sara (son indice) dans la table, son prénom suffit désormais."
   ]
  },
  {
   "cell_type": "markdown",
   "metadata": {},
   "source": [
    "## Récupérer une donnée simple selon plusieurs critères\n",
    "\n",
    "Il est possible de préciser la recherche en combinant les conditions sur plusieurs attributs. On peut par exemple, rechercher le prénom d'un élève né l'année `a` **et** le mois `m`."
   ]
  },
  {
   "cell_type": "code",
   "execution_count": 12,
   "metadata": {},
   "outputs": [],
   "source": [
    "def nom_eleve(a, m, eleves):\n",
    "    \"\"\"\n",
    "    Renvoie le prénom d'un élève né l'année a et le mois m dans le \n",
    "    tableau eleves.\n",
    "    a et m sont des entiers et eleves est un tableau de dictionnaire.\n",
    "    \"\"\"    \n",
    "    for eleve in eleves:\n",
    "        if int(eleve['année']) == a and int(eleve['mois']) == m:  # CONVERSION de l'année et du mois en des entiers (int)\n",
    "            return eleve['prénom'] \n",
    "    return None"
   ]
  },
  {
   "cell_type": "code",
   "execution_count": 13,
   "metadata": {},
   "outputs": [
    {
     "data": {
      "text/plain": [
       "'Noe'"
      ]
     },
     "execution_count": 13,
     "metadata": {},
     "output_type": "execute_result"
    }
   ],
   "source": [
    "nom_eleve(2007, 12, eleves)"
   ]
  },
  {
   "cell_type": "markdown",
   "metadata": {},
   "source": [
    "**Remarques importantes :** \n",
    "- On a pris soin de convertir les valeurs des attributs `'année'` et `'mois'` en type `int` pour comparer des variables de même type. \n",
    "- Dans notre table, il y avait trois élèves nés en décembre 2007 (Noé, Lilian et Simon) mais seul celui dont la ligne apparaît en premier a été renvoyé."
   ]
  },
  {
   "cell_type": "markdown",
   "metadata": {},
   "source": [
    ">Les fonctions proposées parcourent la table ligne par ligne jusqu'à trouver la donnée correspondant aux critères de recherche, et la renvoie. Cependant, plusieurs lignes de la table (ici plusieurs élèves) peuvent correspondre à la recherche effectuée et on aimerait pouvoir rechercher dans *toutes* ces lignes (par exemple, renvoyer les prénoms de *tous* les élèves nés une certaine année et pas seulement le premier rencontré). Nous allons voir comment procéder dans le paragraphe suivant."
   ]
  },
  {
   "cell_type": "markdown",
   "metadata": {},
   "source": [
    "# Sélection de lignes\n",
    "\n",
    "Toutes les opérations précédentes permettent de produire des résultats simples : afficher le projet d'un élève, ou son sexe, ou son prénom...\n",
    "\n",
    "Or, dans le domaine du traitement de données, il est très souvent nécessaire d'extraire différentes données d'une table pour en construire une nouvelle. Par exemple, extraire tous les élèves qui sont nés un mois donné afin de leur souhaiter un bon anniversaire.\n",
    "\n",
    "Pour cela, il suffit de **sélectionner les lignes** vérifiant une certaine condition pour produire une nouvelle table. Cette condition peut combiner plusieurs critères. Pour créer cette nouvelle table, on peut avantageusement la construire par compréhension.\n",
    "\n",
    "**Syntaxe** \n",
    "\n",
    "On utilise la syntaxe classique d'une construction par compréhension mais en ajoutant une condition avec un `if` :\n",
    "```python\n",
    "selection = [ligne for ligne in table if criteres]\n",
    "``` \n",
    "Ainsi, on crée un nouveau tableau `selection` qui contient uniquement les lignes du tableau `table` de départ qui vérifient la condition `criteres`, et pas les autres.\n",
    "\n",
    "Par exemple, on peut créer un nouveau tableau `nes_en_septembre` qui contient tous les (dictionnaires des) élèves de la table `eleves` qui sont nés en septembre."
   ]
  },
  {
   "cell_type": "code",
   "execution_count": 14,
   "metadata": {},
   "outputs": [
    {
     "data": {
      "text/plain": [
       "[{'prénom': 'Naïma',\n",
       "  'jour': '7',\n",
       "  'mois': '9',\n",
       "  'année': '2007',\n",
       "  'sexe': 'F',\n",
       "  'classe': '1G4',\n",
       "  'projet': 'apprendre à piloter une Formule 1'},\n",
       " {'prénom': 'Nathan',\n",
       "  'jour': '3',\n",
       "  'mois': '9',\n",
       "  'année': '2007',\n",
       "  'sexe': 'G',\n",
       "  'classe': '1G2',\n",
       "  'projet': 'aider les autres'},\n",
       " {'prénom': 'Anastasia',\n",
       "  'jour': '24',\n",
       "  'mois': '9',\n",
       "  'année': '2006',\n",
       "  'sexe': 'F',\n",
       "  'classe': '1G4',\n",
       "  'projet': 'créer un jeu vidéo'},\n",
       " {'prénom': 'Amaël',\n",
       "  'jour': '16',\n",
       "  'mois': '9',\n",
       "  'année': '2007',\n",
       "  'sexe': 'G',\n",
       "  'classe': '1G1',\n",
       "  'projet': 'devenir une rockstar'}]"
      ]
     },
     "execution_count": 14,
     "metadata": {},
     "output_type": "execute_result"
    }
   ],
   "source": [
    "nes_en_septembre = [eleve for eleve in eleves if int(eleve['mois']) == 9] \n",
    "nes_en_septembre  # pour voir le tableau"
   ]
  },
  {
   "cell_type": "markdown",
   "metadata": {},
   "source": [
    "Ce tableau `nes_en_septembre` représente la nouvelle table de données suivante.\n",
    "\n",
    "| **prénom** | **jour** | **mois** | **année** | **sexe** | **classe** | **projet** |\n",
    "| --- | --- | --- | --- | --- | --- | --- |\n",
    "| Naïma | 7 | 9 | 2007 | F | 1G4 | apprendre à piloter une Formule 1 |\n",
    "| Nathan | 3 | 9 | 2007 | G | 1G2 | aider les autres |\n",
    "| Anastasia | 24 | 9 | 2006 | F | 1G4 | créer un jeu vidéo |\n",
    "| Amaël | 16 | 9 | 2007 | G | 1G1 | devenir une rockstar |\n"
   ]
  },
  {
   "cell_type": "markdown",
   "metadata": {},
   "source": [
    ">On a sélectionné les lignes *complètes* correspondant à certains critères. Cela signifie que toutes les colonnes ont été ajoutées à la table créée. On peut aussi très facilement construire un nouveau tableau ne contenant que certaines colonnes de la table de départ, ce que nous allons voir maintenant."
   ]
  },
  {
   "cell_type": "markdown",
   "metadata": {},
   "source": [
    "# Sélectionner des lignes et des colonnes\n",
    "\n",
    "## Projection sur une ou plusieurs colonnes\n",
    "\n",
    "Si on ne souhaite sélectionner que certaines colonnes de la table de départ, on dit que l'on fait une **projection sur ces colonnes**.\n",
    "\n",
    "On peut construire un nouveau tableau en faisant une projection sur une seule colonne, par exemple les prénoms."
   ]
  },
  {
   "cell_type": "code",
   "execution_count": 15,
   "metadata": {},
   "outputs": [
    {
     "data": {
      "text/plain": [
       "['Naïma',\n",
       " 'Jade',\n",
       " 'Mathilda',\n",
       " 'Louenn',\n",
       " 'Enola',\n",
       " 'Samuel',\n",
       " 'Lucien',\n",
       " 'Matias',\n",
       " 'Nathan',\n",
       " 'Théliau',\n",
       " 'Ali',\n",
       " 'Anastasia',\n",
       " 'Yohann',\n",
       " 'Bastien',\n",
       " 'Noe',\n",
       " 'Lilian',\n",
       " 'Simon',\n",
       " 'Eliott',\n",
       " 'Amaël']"
      ]
     },
     "execution_count": 15,
     "metadata": {},
     "output_type": "execute_result"
    }
   ],
   "source": [
    "t0 = [eleve['prénom'] for eleve in eleves]\n",
    "t0  # pour voir le tableau"
   ]
  },
  {
   "cell_type": "markdown",
   "metadata": {},
   "source": [
    "On peut aussi projeter sur plusieurs colonnes, en reconstruisant des dictionnaires ne contenant que les attributs souhaités, par exemple les prénoms et les projets :"
   ]
  },
  {
   "cell_type": "code",
   "execution_count": 16,
   "metadata": {},
   "outputs": [
    {
     "data": {
      "text/plain": [
       "[{'prénom': 'Naïma', 'projet': 'apprendre à piloter une Formule 1'},\n",
       " {'prénom': 'Jade', 'projet': 'ouvrir un restaurant'},\n",
       " {'prénom': 'Mathilda', 'projet': 'gagner au loto'},\n",
       " {'prénom': 'Louenn', 'projet': 'devenir quelqu’un de célèbre'},\n",
       " {'prénom': 'Enola', 'projet': 'avoir une bonne note au prochain devoir'},\n",
       " {'prénom': 'Samuel',\n",
       "  'projet': 'manger des frites tous les jours à la cantine'},\n",
       " {'prénom': 'Lucien', 'projet': 'marcher sur la lune'},\n",
       " {'prénom': 'Matias', 'projet': 'dormir plus longtemps le matin'},\n",
       " {'prénom': 'Nathan', 'projet': 'aider les autres'},\n",
       " {'prénom': 'Théliau', 'projet': 'devenir président'},\n",
       " {'prénom': 'Ali', 'projet': 'devenir un joueur professionnel de billard'},\n",
       " {'prénom': 'Anastasia', 'projet': 'créer un jeu vidéo'},\n",
       " {'prénom': 'Yohann', 'projet': 'gérer sa propre entreprise'},\n",
       " {'prénom': 'Bastien', 'projet': 'jouer dans le prochain James Bond'},\n",
       " {'prénom': 'Noe', 'projet': 'monter le tapis rouge à Cannes'},\n",
       " {'prénom': 'Lilian', 'projet': 'devenir champion du monde de bras de fer'},\n",
       " {'prénom': 'Simon', 'projet': 'aller à Poudlard'},\n",
       " {'prénom': 'Eliott', 'projet': 'avoir son émission de TV'},\n",
       " {'prénom': 'Amaël', 'projet': 'devenir une rockstar'}]"
      ]
     },
     "execution_count": 16,
     "metadata": {},
     "output_type": "execute_result"
    }
   ],
   "source": [
    "t1 = [{'prénom': eleve['prénom'], 'projet': eleve['projet']} for eleve in eleves]\n",
    "t1  # pour voir le tableau"
   ]
  },
  {
   "cell_type": "markdown",
   "metadata": {},
   "source": [
    "## Combiner les sélections sur les lignes et les colonnes\n",
    "\n",
    "Il est bien sûr possible de combiner une sélection sur les colonnes avec une sélection sur les lignes. Ainsi, l'instruction"
   ]
  },
  {
   "cell_type": "code",
   "execution_count": 17,
   "metadata": {},
   "outputs": [
    {
     "data": {
      "text/plain": [
       "['Louenn',\n",
       " 'Samuel',\n",
       " 'Lucien',\n",
       " 'Matias',\n",
       " 'Nathan',\n",
       " 'Théliau',\n",
       " 'Ali',\n",
       " 'Yohann',\n",
       " 'Bastien',\n",
       " 'Noe',\n",
       " 'Lilian',\n",
       " 'Simon',\n",
       " 'Eliott',\n",
       " 'Amaël']"
      ]
     },
     "execution_count": 17,
     "metadata": {},
     "output_type": "execute_result"
    }
   ],
   "source": [
    "t2 = [eleve['prénom'] for eleve in eleves if eleve['sexe'] == 'G']\n",
    "t2  # pour voir le tableau"
   ]
  },
  {
   "cell_type": "markdown",
   "metadata": {},
   "source": [
    "permet de créer un tableau contenant les prénoms des garçons. On a donc sélectionné la première colonne contenant les prénoms des élèves (avec `eleve['prénom']`) mais seulement pour les lignes correspondant à des garçons (avec le critère `if eleve['sexe'] == 'G')`."
   ]
  },
  {
   "cell_type": "markdown",
   "metadata": {},
   "source": [
    "On peut bien sûr aussi sélectionner plusieurs colonnes tout en sélectionnant certaines lignes. Par exemple, on peut sélectionner les attributs `'prénom'` et `'projet'` mais uniquement des filles."
   ]
  },
  {
   "cell_type": "code",
   "execution_count": 18,
   "metadata": {},
   "outputs": [
    {
     "data": {
      "text/plain": [
       "[{'prénom': 'Naïma', 'projet': 'apprendre à piloter une Formule 1'},\n",
       " {'prénom': 'Jade', 'projet': 'ouvrir un restaurant'},\n",
       " {'prénom': 'Mathilda', 'projet': 'gagner au loto'},\n",
       " {'prénom': 'Enola', 'projet': 'avoir une bonne note au prochain devoir'},\n",
       " {'prénom': 'Anastasia', 'projet': 'créer un jeu vidéo'}]"
      ]
     },
     "execution_count": 18,
     "metadata": {},
     "output_type": "execute_result"
    }
   ],
   "source": [
    "t3 = [{'prénom': eleve['prénom'], 'projet': eleve['projet']} for eleve in eleves if eleve['sexe'] == 'F']\n",
    "t3  # pour voir le tableau"
   ]
  },
  {
   "cell_type": "markdown",
   "metadata": {},
   "source": [
    "# Bilan\n",
    "\n",
    "- Les tables de données peuvent peuvent être mémorisées dans des fichiers et notamment dans des fichiers au format CSV.\n",
    "- Pour traiter ces données (avec Python, ou avec un autre langage) il est nécessaire de *lire le fichier* et de *charger les données*. On a vu que le module `csv` permettait facilement de mémoriser les données d'une table dans un tableau de dictionnaires.\n",
    "- On peut ensuite utiliser toutes les fonctionnalités du langage de programmation pour le traitement des données. En particulier, on peut y *rechercher des informations*, *sélectionner les colonnes* en fonction des attributs qui nous intéressent mais aussi *sélectionner des lignes* en fonction de certains *critères*.\n",
    "- Ces traitements permettent de créer de nouvelles tables que l'on peut aussi *écrire* dans un fichier CSV pour garder une trace pérenne des informations calculées (fait en activité).\n",
    "- Nous verrons au cours d'un TP l'intérêt de faire un *prétraitement* adapté des données pour répondre aux problématiques suivantes :\n",
    "    - les données chargées dans un tableau le sont sous forme de chaînes de caractères, mêmes les nombres. Il peut donc être intéressant de les convertir une fois pour toutes au départ et éviter les conversions de type dans tous les traitements.\n",
    "    - pour les données ouvertes obtenues sur des sites spécialisés, il convient d'être vigilant en cas de données manquantes ou de données particulières. On s'assurera donc que les données sont *cohérentes* avant de commencer à les traiter.\n",
    "\n",
    "- Tout ce qui est fait sur le traitement des données en classe de Première est un avant-goût des bases de données qui seront étudiées en classe de Terminale."
   ]
  },
  {
   "cell_type": "markdown",
   "metadata": {},
   "source": [
    "**Sources :**\n",
    "- Equipe pédagogique, DIU EIL, Univertité de Nantes.\n",
    "- Livre *Numérique et Sciences Informatiques, 1re*, T. BALABONSKI, S. CONCHON, J.-C. FILLIATRE, K. NGUYEN, éditions ELLIPSES pour l'idée du plan de ce cours. Voici le [site du livre](https://www.nsi-premiere.fr/).\n",
    "- Ressource Eduscol : [Manipulation de tables](https://bit.ly/2BL2lbA)"
   ]
  },
  {
   "cell_type": "markdown",
   "metadata": {},
   "source": [
    "---\n",
    "Germain BECKER & Sébastien POINT, Lycée Mounier, ANGERS ![Licence Creative Commons](https://i.creativecommons.org/l/by-nc-sa/4.0/88x31.png)"
   ]
  }
 ],
 "metadata": {
  "kernelspec": {
   "display_name": "Python 3",
   "language": "python",
   "name": "python3"
  },
  "language_info": {
   "codemirror_mode": {
    "name": "ipython",
    "version": 3
   },
   "file_extension": ".py",
   "mimetype": "text/x-python",
   "name": "python",
   "nbconvert_exporter": "python",
   "pygments_lexer": "ipython3",
   "version": "3.7.10"
  }
 },
 "nbformat": 4,
 "nbformat_minor": 1
}
