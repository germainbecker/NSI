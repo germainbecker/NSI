{
 "cells": [
  {
   "cell_type": "markdown",
   "metadata": {},
   "source": [
    "<h1 style=\"font-size:2.5em; text-align:center;\">Importer une table et rechercher dans une table [RÉSUMÉ]</h1>\n",
    "\n",
    "---"
   ]
  },
  {
   "cell_type": "markdown",
   "metadata": {},
   "source": [
    "# Introduction \n",
    "\n",
    "Organiser des données sous forme de tableaux est très répandu et très ancien car on retrouve des tables de données dans les livres de comptes de l'Egypte ancienne.\n",
    "\n",
    "On peut organiser des données dans un tableau pour présenter des informations croisées, faire ses comptes, etc. Le bulletin d'un élève est une table qui indique pour chaque matière, la moyenne de l'élève, la moyenne de la classe, l'appréciation du professeur. La liste de présence des élèves est également représentée sous forme d'une table indiquant pour chaque élève s'il est présent ou absent ce jour.\n",
    " \n",
    "En informatique, les tables de données sont rapidement devenues le principal moyen de stocker des données. L'analyse de ces données est utilisée dans de nombreux domaines : calcul scientifique, intelligence artificielle, programmation Web, bio-informatique, informatique financière, etc. De nombreuses données en tables sont disponibles sur les sites de données ouvertes."
   ]
  },
  {
   "cell_type": "markdown",
   "metadata": {},
   "source": [
    "**Exemple**\n",
    "\n",
    "Voici un exemple de table avec des informations sur des élèves :\n",
    "\n",
    "| **prénom** | **jour** | **mois** | **année** | **sexe** | **classe** | **projet** |\n",
    "| --- | --- | --- | --- | --- | --- | --- |\n",
    "| Sylvain | 19 |2 | 2007 | G | 1G1 | manger des frites tous les jours à la cantine |\n",
    "| Romain | 22 | 9 | 2006 | G | 1G4 | être heureux |\n",
    "| Kenzo | 23 | 9 | 2006 | G | 1G3 | gagner au loto |\n",
    "| Marin | 28 | 2 | 2006 | G | 1G1 | devenir quelqu’un de célèbre |\n",
    "| Alexis | 27 | 7 | 2006 | G | 1G4 | avoir une bonne note au prochain devoir |\n",
    "| Dario | 24 | 5 | 2006 | G | 1G3 | devenir astronaute |\n",
    "| Adrien | 14 | 11 | 2006 | G | 1G3 | marcher sur la lune |\n",
    "| Yanis | 2 | 6 | 2006 | G | 1G3 | dormir plus longtemps le matin |\n",
    "| Sara | 14 | 1 | 2006 | F | 1G3 | aider les autres |\n",
    "| Augustin | 24 | 10 | 2006 | G | 1G3 | apprendre à piloter une Formule 1 |\n",
    "\n",
    "Pour exploiter ces données avec un ordinateur il est nécessaire de les mémoriser dans un fichier."
   ]
  },
  {
   "cell_type": "markdown",
   "metadata": {},
   "source": [
    "# Enregistrer les données dans un fichier\n",
    "\n",
    "Il existe différents formats permettant de mémoriser les informations d'une table dans un fichier. Un des plus utilisés est le format **CSV** (pour **comma-separated values**, soit \"données séparées par des virgules\") qui est un fichier texte dans lequel :\n",
    "\n",
    "- chaque ligne correspond à une ligne de la table ;\n",
    "- chaque ligne est séparée en champs par une virgule (\",\") ;\n",
    "- toutes les lignes du fichier ont le même nombre de champs ;\n",
    "- on peut utiliser les guillemets droits (\") pour délimiter le contenu des champs.\n",
    "\n",
    "<blockquote class=\"information\">\n",
    "    <p><strong>Remarques</strong> :</p>\n",
    "    <ul>\n",
    "        <li>En France, le caractère de séparation des champs est généralement le point-virgule (\";\") car la virgule est utilisée pour écrire des nombres décimaux. Il faut donc <strong>être vigilant sur le caractère de séparation utilisé</strong>.</li>\n",
    "        <li>Le format CSV est apparu en 1972, soit bien avant l'avènement des ordinateurs personnels.</li>\n",
    "    </ul>\n",
    "</blockquote>"
   ]
  },
  {
   "cell_type": "markdown",
   "metadata": {},
   "source": [
    "### Un simple fichier texte ...\n",
    "\n",
    "Ainsi, la table précédente peut être mémorisée dans un fichier CSV appelé `eleves.csv` dont voici le contenu :\n",
    "\n",
    "```\n",
    "prénom,jour,mois,année,sexe,classe,projet\n",
    "Sylvain,19,2,2007,G,1G1,manger des frites tous les jours à la cantine\n",
    "Romain,22,9,2006,G,1G4,être heureux\n",
    "Kenzo,23,9,2006,G,1G3,gagner au loto\n",
    "Marin,28,2,2006,G,1G1,devenir quelqu’un de célèbre\n",
    "Alexis,27,7,2006,G,1G4,avoir une bonne note au prochain devoir\n",
    "Dario,24,5,2006,G,1G3,devenir astronaute\n",
    "Adrien,14,11,2006,G,1G3,marcher sur la lune\n",
    "Yanis,2,6,2006,G,1G3,dormir plus longtemps le matin\n",
    "Sara,14,1,2006,F,1G3,aider les autres\n",
    "Augustin,24,10,2006,G,1G3,apprendre à piloter une Formule 1\n",
    "```"
   ]
  },
  {
   "cell_type": "markdown",
   "metadata": {},
   "source": [
    "Un fichier CSV est un simple fichier texte dont on peut visualiser le contenu facilement avec un éditeur de texte :\n",
    "\n",
    "<img class=\"centre image-responsive\" src=\"data/texte.png\" alt=\"fichier texte\">\n",
    "\n",
    "<p style=\"text-align: center; color: #333;\">Fichier CSV ouvert avec un éditeur de texte.</p>"
   ]
  },
  {
   "cell_type": "markdown",
   "metadata": {},
   "source": [
    "### ... qui peut s'ouvrir avec un tableur !\n",
    "\n",
    "Bien qu'étant un simple fichier texte, un fichier CSV peut être importé et exporté par un tableur qui permet d'en visualiser le contenu sous la forme d'un tableau."
   ]
  },
  {
   "cell_type": "markdown",
   "metadata": {},
   "source": [
    "<img class=\"centre image-responsive\" src=\"data/tableur.png\" alt=\"fichier texte\">\n",
    "\n",
    "<p style=\"text-align: center; color: #333;\">Fichier CSV ouvert avec un tableur.</p>"
   ]
  },
  {
   "cell_type": "markdown",
   "metadata": {},
   "source": [
    ">Pour exploiter et manipuler des tables de données mémorisées dans un fichier CSV, il faut commencer par *charger les données*. On pourra ensuite utiliser toute la puissance d'un langage de programmation pour les exploiter. "
   ]
  },
  {
   "cell_type": "markdown",
   "metadata": {},
   "source": [
    "# Charger les données dans Python\n",
    "\n",
    "Pour importer les données d'un fichier CSV dans Python il faut commencer par **ouvrir le fichier** avec Python. On utilise pour cela la fonction prédéfinie `open`."
   ]
  },
  {
   "cell_type": "code",
   "execution_count": 1,
   "metadata": {},
   "outputs": [],
   "source": [
    "# on ouvre le fichier eleves.csv dans un objet appelé 'fichier'\n",
    "fichier = open('eleves.csv', 'r', encoding = 'UTF-8')"
   ]
  },
  {
   "cell_type": "markdown",
   "metadata": {},
   "source": [
    ">On a utilisé le paramètre `'r'` pour indiquer une ouverture en mode *lecture* (*read* en anglais).\n",
    "\n",
    "Il faut ensuite **lire le fichier** pour charger son contenu dans Python. On pourrait pour cela utiliser la méthode `read` qui renvoie le contenu du fichier sous la forme d'une unique chaîne de caractères."
   ]
  },
  {
   "cell_type": "code",
   "execution_count": 2,
   "metadata": {},
   "outputs": [
    {
     "name": "stdout",
     "output_type": "stream",
     "text": [
      "prénom,jour,mois,année,sexe,classe,projet\n",
      "Sylvain,19,2,2007,G,1G1,manger des frites tous les jours à la cantine\n",
      "Romain,22,9,2006,G,1G4,être heureux\n",
      "Kenzo,23,9,2006,G,1G3,gagner au loto\n",
      "Marin,28,2,2006,G,1G1,devenir quelqu’un de célèbre\n",
      "Alexis,27,7,2006,G,1G4,avoir une bonne note au prochain devoir\n",
      "Dario,24,5,2006,G,1G3,devenir astronaute\n",
      "Adrien,14,11,2006,G,1G3,marcher sur la lune\n",
      "Yanis,2,6,2006,G,1G3,dormir plus longtemps le matin\n",
      "Sara,14,1,2006,F,1G3,aider les autres\n",
      "Augustin,24,10,2006,G,1G3,apprendre à piloter une Formule 1\n",
      "Lenny,24,10,2006,G,1G4,devenir président\n",
      "Alan,2,8,2006,G,1G2,créer un jeu vidéo\n",
      "Clement,18,2,2005,G,1G1,gérer sa propre entreprise\n",
      "Nizar,21,12,2006,G,1G1,jouer dans le prochain James Bond\n",
      "Gaellys,6,8,2006,F,1G1,monter le tapis rouge à Cannes\n",
      "Ianis,29,9,2006,G,1G3,devenir champion du monde de bras de fer\n",
      "Martin,7,1,2006,G,1G1,devenir youtuber\n",
      "Timothée,6,10,2006,G,1G1,avoir son émission de TV\n",
      "Mathis,6,12,2006,G,1G1,écrire un livre\n",
      "Bastien,5,1,2007,G,1G3,inventer la machine à voyager dans le temps\n",
      "Yann,4,11,2005,G,1G2,devenir une rockstar\n",
      "Maël,26,2,2005,G,1G2,devenir un joueur professionel de billard\n",
      "Enzo,8,11,2006,G,1G3,ouvrir un restaurant\n",
      "Alexandre,27,5,2006,G,1G3,aller à Poudlard\n",
      "\n"
     ]
    }
   ],
   "source": [
    "texte = fichier.read() # on lit le contenu sous la forme d'une unique chaine de caractères\n",
    "print(texte) # on affiche la chaine de caractères 'texte'\n",
    "# on ferme le flux de lecture\n",
    "fichier.close()"
   ]
  },
  {
   "cell_type": "markdown",
   "metadata": {},
   "source": [
    "Cependant, ce n'est pas ainsi que l'on va procéder car exploiter cette grande chaîne de caractères n'est pas pratique. En effet, il sera beaucoup simple et efficace de manipuler des *types construits* comme les tableaux et surtout les dictionnaires.\n",
    "\n",
    "Ainsi, on va plutôt lire le contenu du fichier pour construire un **tableau** dans lequel chaque élément correspond à une ligne de la table. Il est possible de représenter chaque ligne de la table (donc chaque élève) par un *tableau* ou par un *dictionnaire*.\n",
    "\n",
    "Le chargement dans un **tableau de dictionnaires** est préférable car il est alors facile d'accéder aux données par leurs clés. On ne présente que cette façon de procéder dans ce résumé de cours (voir le TD pour le chargement dans un tableau de tableaux).\n",
    "\n",
    "> Pour cela, la biliothèque standard de Python contient un module `csv` qui contient des fonctions très pratiques pour lire et écrire des fichiers CSV. La mémorisation dans un tableau devenant alors très rapide. Voici comment on procède."
   ]
  },
  {
   "cell_type": "markdown",
   "metadata": {},
   "source": [
    "## Chargement dans un tableau de dictionnaires\n",
    "\n",
    "La méthode `DictReader` du module `csv` permet de lire la table ligne à ligne et renvoie successivement pour chaque ligne un *dictionnaire* des champs de cette ligne. La première ligne du fichier a servi à obtenir les clés utilisées pour chaque enregistrement.\n",
    "\n",
    "On peut alors construire par compréhension le tableau `eleves` qui mémorise toutes les données de la table, chaque élément de ce tableau étant un **dictionnaire** correspondant à une ligne de la table de données."
   ]
  },
  {
   "cell_type": "code",
   "execution_count": 3,
   "metadata": {
    "scrolled": false
   },
   "outputs": [
    {
     "data": {
      "text/plain": [
       "[{'prénom': 'Sylvain',\n",
       "  'jour': '19',\n",
       "  'mois': '2',\n",
       "  'année': '2007',\n",
       "  'sexe': 'G',\n",
       "  'classe': '1G1',\n",
       "  'projet': 'manger des frites tous les jours à la cantine'},\n",
       " {'prénom': 'Romain',\n",
       "  'jour': '22',\n",
       "  'mois': '9',\n",
       "  'année': '2006',\n",
       "  'sexe': 'G',\n",
       "  'classe': '1G4',\n",
       "  'projet': 'être heureux'},\n",
       " {'prénom': 'Kenzo',\n",
       "  'jour': '23',\n",
       "  'mois': '9',\n",
       "  'année': '2006',\n",
       "  'sexe': 'G',\n",
       "  'classe': '1G3',\n",
       "  'projet': 'gagner au loto'},\n",
       " {'prénom': 'Marin',\n",
       "  'jour': '28',\n",
       "  'mois': '2',\n",
       "  'année': '2006',\n",
       "  'sexe': 'G',\n",
       "  'classe': '1G1',\n",
       "  'projet': 'devenir quelqu’un de célèbre'},\n",
       " {'prénom': 'Alexis',\n",
       "  'jour': '27',\n",
       "  'mois': '7',\n",
       "  'année': '2006',\n",
       "  'sexe': 'G',\n",
       "  'classe': '1G4',\n",
       "  'projet': 'avoir une bonne note au prochain devoir'},\n",
       " {'prénom': 'Dario',\n",
       "  'jour': '24',\n",
       "  'mois': '5',\n",
       "  'année': '2006',\n",
       "  'sexe': 'G',\n",
       "  'classe': '1G3',\n",
       "  'projet': 'devenir astronaute'},\n",
       " {'prénom': 'Adrien',\n",
       "  'jour': '14',\n",
       "  'mois': '11',\n",
       "  'année': '2006',\n",
       "  'sexe': 'G',\n",
       "  'classe': '1G3',\n",
       "  'projet': 'marcher sur la lune'},\n",
       " {'prénom': 'Yanis',\n",
       "  'jour': '2',\n",
       "  'mois': '6',\n",
       "  'année': '2006',\n",
       "  'sexe': 'G',\n",
       "  'classe': '1G3',\n",
       "  'projet': 'dormir plus longtemps le matin'},\n",
       " {'prénom': 'Sara',\n",
       "  'jour': '14',\n",
       "  'mois': '1',\n",
       "  'année': '2006',\n",
       "  'sexe': 'F',\n",
       "  'classe': '1G3',\n",
       "  'projet': 'aider les autres'},\n",
       " {'prénom': 'Augustin',\n",
       "  'jour': '24',\n",
       "  'mois': '10',\n",
       "  'année': '2006',\n",
       "  'sexe': 'G',\n",
       "  'classe': '1G3',\n",
       "  'projet': 'apprendre à piloter une Formule 1'},\n",
       " {'prénom': 'Lenny',\n",
       "  'jour': '24',\n",
       "  'mois': '10',\n",
       "  'année': '2006',\n",
       "  'sexe': 'G',\n",
       "  'classe': '1G4',\n",
       "  'projet': 'devenir président'},\n",
       " {'prénom': 'Alan',\n",
       "  'jour': '2',\n",
       "  'mois': '8',\n",
       "  'année': '2006',\n",
       "  'sexe': 'G',\n",
       "  'classe': '1G2',\n",
       "  'projet': 'créer un jeu vidéo'},\n",
       " {'prénom': 'Clement',\n",
       "  'jour': '18',\n",
       "  'mois': '2',\n",
       "  'année': '2005',\n",
       "  'sexe': 'G',\n",
       "  'classe': '1G1',\n",
       "  'projet': 'gérer sa propre entreprise'},\n",
       " {'prénom': 'Nizar',\n",
       "  'jour': '21',\n",
       "  'mois': '12',\n",
       "  'année': '2006',\n",
       "  'sexe': 'G',\n",
       "  'classe': '1G1',\n",
       "  'projet': 'jouer dans le prochain James Bond'},\n",
       " {'prénom': 'Gaellys',\n",
       "  'jour': '6',\n",
       "  'mois': '8',\n",
       "  'année': '2006',\n",
       "  'sexe': 'F',\n",
       "  'classe': '1G1',\n",
       "  'projet': 'monter le tapis rouge à Cannes'},\n",
       " {'prénom': 'Ianis',\n",
       "  'jour': '29',\n",
       "  'mois': '9',\n",
       "  'année': '2006',\n",
       "  'sexe': 'G',\n",
       "  'classe': '1G3',\n",
       "  'projet': 'devenir champion du monde de bras de fer'},\n",
       " {'prénom': 'Martin',\n",
       "  'jour': '7',\n",
       "  'mois': '1',\n",
       "  'année': '2006',\n",
       "  'sexe': 'G',\n",
       "  'classe': '1G1',\n",
       "  'projet': 'devenir youtuber'},\n",
       " {'prénom': 'Timothée',\n",
       "  'jour': '6',\n",
       "  'mois': '10',\n",
       "  'année': '2006',\n",
       "  'sexe': 'G',\n",
       "  'classe': '1G1',\n",
       "  'projet': 'avoir son émission de TV'},\n",
       " {'prénom': 'Mathis',\n",
       "  'jour': '6',\n",
       "  'mois': '12',\n",
       "  'année': '2006',\n",
       "  'sexe': 'G',\n",
       "  'classe': '1G1',\n",
       "  'projet': 'écrire un livre'},\n",
       " {'prénom': 'Bastien',\n",
       "  'jour': '5',\n",
       "  'mois': '1',\n",
       "  'année': '2007',\n",
       "  'sexe': 'G',\n",
       "  'classe': '1G3',\n",
       "  'projet': 'inventer la machine à voyager dans le temps'},\n",
       " {'prénom': 'Yann',\n",
       "  'jour': '4',\n",
       "  'mois': '11',\n",
       "  'année': '2005',\n",
       "  'sexe': 'G',\n",
       "  'classe': '1G2',\n",
       "  'projet': 'devenir une rockstar'},\n",
       " {'prénom': 'Maël',\n",
       "  'jour': '26',\n",
       "  'mois': '2',\n",
       "  'année': '2005',\n",
       "  'sexe': 'G',\n",
       "  'classe': '1G2',\n",
       "  'projet': 'devenir un joueur professionel de billard'},\n",
       " {'prénom': 'Enzo',\n",
       "  'jour': '8',\n",
       "  'mois': '11',\n",
       "  'année': '2006',\n",
       "  'sexe': 'G',\n",
       "  'classe': '1G3',\n",
       "  'projet': 'ouvrir un restaurant'},\n",
       " {'prénom': 'Alexandre',\n",
       "  'jour': '27',\n",
       "  'mois': '5',\n",
       "  'année': '2006',\n",
       "  'sexe': 'G',\n",
       "  'classe': '1G3',\n",
       "  'projet': 'aller à Poudlard'}]"
      ]
     },
     "execution_count": 3,
     "metadata": {},
     "output_type": "execute_result"
    }
   ],
   "source": [
    "import csv # pour utiliser le module csv\n",
    "\n",
    "# Ouverture du fichier\n",
    "fichier = open('eleves.csv', 'r', encoding = 'UTF-8')\n",
    "\n",
    "# Lecture de son contenu avec la méthode DictReader qui renvoie une valeur spéciale représentant le fichier CSV\n",
    "table = csv.DictReader(fichier, delimiter=',')  # on précise le caractère de séparation, ici la virgule\n",
    "\n",
    "# Construction par compréhension du tableau représentant la table\n",
    "eleves = [dict(ligne) for ligne in table]  # chaque élément est un dictionnaire\n",
    "\n",
    "# Fermeture du flux de lecture\n",
    "fichier.close()\n",
    "\n",
    "eleves # pour voir le contenu du tableau 'eleves'"
   ]
  },
  {
   "cell_type": "markdown",
   "metadata": {},
   "source": [
    "Chaque ligne est représentée par un dictionnaire. Ici, les informations sur le troisième élève sont mémorisées dans le dictionnaire "
   ]
  },
  {
   "cell_type": "code",
   "execution_count": 4,
   "metadata": {},
   "outputs": [
    {
     "data": {
      "text/plain": [
       "{'prénom': 'Kenzo',\n",
       " 'jour': '23',\n",
       " 'mois': '9',\n",
       " 'année': '2006',\n",
       " 'sexe': 'G',\n",
       " 'classe': '1G3',\n",
       " 'projet': 'gagner au loto'}"
      ]
     },
     "execution_count": 4,
     "metadata": {},
     "output_type": "execute_result"
    }
   ],
   "source": [
    "eleves[2]"
   ]
  },
  {
   "cell_type": "markdown",
   "metadata": {},
   "source": [
    "On peut facilement accéder à n'importe quelle donnée grâce à sa clé. Par exemple, comme la clé correspondant au sexe est `'sexe'`, on peut accéder au sexe du troisième élève avec l'instruction"
   ]
  },
  {
   "cell_type": "code",
   "execution_count": 5,
   "metadata": {},
   "outputs": [
    {
     "data": {
      "text/plain": [
       "'G'"
      ]
     },
     "execution_count": 5,
     "metadata": {},
     "output_type": "execute_result"
    }
   ],
   "source": [
    "eleves[2]['sexe']"
   ]
  },
  {
   "cell_type": "markdown",
   "metadata": {},
   "source": [
    "On peut aussi accéder au projet de Sara avec l'instruction"
   ]
  },
  {
   "cell_type": "code",
   "execution_count": 6,
   "metadata": {},
   "outputs": [
    {
     "data": {
      "text/plain": [
       "'aider les autres'"
      ]
     },
     "execution_count": 6,
     "metadata": {},
     "output_type": "execute_result"
    }
   ],
   "source": [
    "eleves[8]['projet']"
   ]
  },
  {
   "cell_type": "markdown",
   "metadata": {},
   "source": [
    ">Même en mémorisant chaque ligne de la table dans un dictionnaire, tout n'est pas encore parfait. En effet, pour trouver le projet de Sara, il faut savoir que la ligne la concernant a pour index 8 dans le tableau. Je vous laisse imaginer ce que cela peut donner pour trouver un index dans des fichiers de plusieurs dizaines de milliers de lignes...\n",
    ">\n",
    ">Heureusement, il est possible de chercher plus efficacement des données dans une table, c'est ce qui est expliqué ci-après."
   ]
  },
  {
   "cell_type": "markdown",
   "metadata": {},
   "source": [
    "# Rechercher un élément dans une table\n",
    "\n",
    "Une fois les données chargées dans une table, il est possible de travailler sur ces données en utilisant les opérations de manipulation sur les tableaux et les dictionnaires. En particulier, on va pouvoir effectuer une recherche en *parcourant le tableau* ligne par ligne, c'est-à-dire dictionnaire par dictionnaire.\n",
    "\n",
    "## Présence d'un élément\n",
    "\n",
    "On cherche ici à détecter la présence d'un élément dans une table (un élève dans notre cas). Nous allons utiliser des techniques de recherche dans un tableau comme celles dans le chapitre \"Algorithmes de parcours séquentiel d'un tableau\" (Thème 7, Chapitre 1). \n",
    "\n",
    "Pour rappel, voici la fonction `appartient` qui renvoie `True` ou `False` selon la présence ou l'absence d'un élément `v` dans un tableau `T`.\n",
    "\n",
    "```python\n",
    "def appartient(v, T):\n",
    "    \"\"\"Renvoie True si v appartient au tableau T, False sinon.\"\"\"\n",
    "    for e in T:\n",
    "        if e == v:\n",
    "            return True\n",
    "    return False\n",
    "```\n",
    "On va légèrement adapter cette fonction pour chercher un élève désigné par son prénom dans notre table."
   ]
  },
  {
   "cell_type": "code",
   "execution_count": 7,
   "metadata": {},
   "outputs": [],
   "source": [
    "def appartient(p, eleves):\n",
    "    '''\n",
    "    Renvoie True si le prénom p est dans le tableau eleves, et False sinon.\n",
    "    p est un chaîne de caractères et eleves est un tableau de dictionnaires.\n",
    "    '''\n",
    "    for eleve in eleves:\n",
    "        if eleve['prénom'] == p:\n",
    "            return True\n",
    "    return False"
   ]
  },
  {
   "cell_type": "markdown",
   "metadata": {},
   "source": [
    "**Explications :** on passe en revue tous les éléments du tableau (chaque dictionnaire `eleve`) et on teste si l'un d'entre eux possède un attribut `'prénom'` égal à `p`, autrement dit si un des élèves a le prénom `p`."
   ]
  },
  {
   "cell_type": "markdown",
   "metadata": {},
   "source": [
    "On peut alors appeler cette fonction pour tester la présence d'un élève :"
   ]
  },
  {
   "cell_type": "code",
   "execution_count": 8,
   "metadata": {},
   "outputs": [
    {
     "data": {
      "text/plain": [
       "True"
      ]
     },
     "execution_count": 8,
     "metadata": {},
     "output_type": "execute_result"
    }
   ],
   "source": [
    "appartient('Gaellys', eleves)"
   ]
  },
  {
   "cell_type": "code",
   "execution_count": 9,
   "metadata": {},
   "outputs": [
    {
     "data": {
      "text/plain": [
       "False"
      ]
     },
     "execution_count": 9,
     "metadata": {},
     "output_type": "execute_result"
    }
   ],
   "source": [
    "appartient('Marie', eleves)"
   ]
  },
  {
   "cell_type": "markdown",
   "metadata": {},
   "source": [
    "## Récupérer une donnée simple selon un critère\n",
    "\n",
    "On peut adapter la fonction précédente pour qu'elle renvoie le projet de l'élève dont le prénom est entré en paramètre."
   ]
  },
  {
   "cell_type": "code",
   "execution_count": 10,
   "metadata": {},
   "outputs": [],
   "source": [
    "def projet_de(p, eleves):\n",
    "    \"\"\"\n",
    "    Renvoie le projet de l'élève prénommé p dans le tableau eleves, \n",
    "    et None si aucun prénom ne correspond.\n",
    "    p est un chaîne de caractères et eleves est un tableau de dictionnaires.\n",
    "    \"\"\"\n",
    "    for eleve in eleves:\n",
    "        if eleve['prénom'] == p:   # si un élève a le prénom p\n",
    "            return eleve['projet'] # on renvoie le projet de cet élève\n",
    "    return None"
   ]
  },
  {
   "cell_type": "code",
   "execution_count": 11,
   "metadata": {},
   "outputs": [
    {
     "data": {
      "text/plain": [
       "'aider les autres'"
      ]
     },
     "execution_count": 11,
     "metadata": {},
     "output_type": "execute_result"
    }
   ],
   "source": [
    "projet_de('Sara', eleves)"
   ]
  },
  {
   "cell_type": "markdown",
   "metadata": {},
   "source": [
    "> Vous remarquerez qu'avec cette façon de faire, il n'est plus nécessaire de connaître la position de Sara (son indice) dans la table, son prénom suffit désormais."
   ]
  },
  {
   "cell_type": "markdown",
   "metadata": {},
   "source": [
    "## Récupérer une donnée simple selon plusieurs critères\n",
    "\n",
    "Il est possible de préciser la recherche en combinant les conditions sur plusieurs attributs. On peut par exemple, rechercher le prénom d'un élève né l'année `a` **et** le mois `m`."
   ]
  },
  {
   "cell_type": "code",
   "execution_count": 12,
   "metadata": {},
   "outputs": [],
   "source": [
    "def nom_eleve(a, m, eleves):\n",
    "    \"\"\"\n",
    "    Renvoie le prénom d'un élève né l'année a et le mois m dans le \n",
    "    tableau eleves.\n",
    "    a et m sont des entiers et eleves est un tableau de dictionnaire.\n",
    "    \"\"\"    \n",
    "    for eleve in eleves:\n",
    "        if int(eleve['année']) == a and int(eleve['mois']) == m:  # CONVERSION de l'année et du mois en des entiers (int)\n",
    "            return eleve['prénom'] \n",
    "    return None"
   ]
  },
  {
   "cell_type": "code",
   "execution_count": 13,
   "metadata": {},
   "outputs": [
    {
     "data": {
      "text/plain": [
       "'Augustin'"
      ]
     },
     "execution_count": 13,
     "metadata": {},
     "output_type": "execute_result"
    }
   ],
   "source": [
    "nom_eleve(2006, 10, eleves)"
   ]
  },
  {
   "cell_type": "markdown",
   "metadata": {},
   "source": [
    "**Remarques importantes :** \n",
    "- On a pris soin de convertir les valeurs des attributs `'année'` et `'mois'` en type `int` pour comparer des variables de même type. \n",
    "- Dans notre table il y avait trois élèves nés en octobre 2006 mais seul celui dont la ligne apparaît en premier a été renvoyé."
   ]
  },
  {
   "cell_type": "markdown",
   "metadata": {},
   "source": [
    ">Les fonctions proposées parcourent la table ligne par ligne jusqu'à trouver la donnée correspondant aux critères de recherche, et la renvoie. Cependant, plusieurs lignes de la table (ici plusieurs élèves) peuvent correspondre à la recherche effectuée et on aimerait pouvoir rechercher dans *toutes* ces lignes (par exemple, renvoyer les prénoms de *tous* les élèves nés une certaine année et pas seulement le premier rencontré). Nous allons voir comment procéder dans le paragraphe suivant."
   ]
  },
  {
   "cell_type": "markdown",
   "metadata": {},
   "source": [
    "# Sélection de lignes\n",
    "\n",
    "Toutes les opérations précédentes permettent de produire des résultats simples : afficher le projet d'un élève, ou son sexe, ou son prénom...\n",
    "\n",
    "Or, dans le domaine du traitement de données, il est très souvent nécessaire d'extraire différentes données d'une table pour en construire une nouvelle. Par exemple, extraire tous les élèves qui sont nés un mois donné afin de leur souhaiter un bon anniversaire.\n",
    "\n",
    "Pour cela, il suffit de **sélectionner les lignes** vérifiant une certaine condition pour produire une nouvelle table. Cette condition peut combiner plusieurs critères. Pour créer cette nouvelle table, on peut avantageusement la construire par compréhension.\n",
    "\n",
    "**Syntaxe** \n",
    "\n",
    "On utilise la syntaxe classique d'une construction par compréhension mais en ajoutant une condition avec un `if` :\n",
    "```python\n",
    "selection = [ligne for ligne in table if criteres]\n",
    "``` \n",
    "Ainsi, on crée un nouveau tableau `selection` qui contient uniquement les lignes du tableau `table` de départ qui vérifient la condition `criteres`, et pas les autres.\n",
    "\n",
    "Par exemple, on peut créer un nouveau tableau `nes_en_aout` qui contient tous les (dictionnaires des) élèves de la table `eleves` qui sont nés en janvier."
   ]
  },
  {
   "cell_type": "code",
   "execution_count": 14,
   "metadata": {},
   "outputs": [
    {
     "data": {
      "text/plain": [
       "[{'prénom': 'Sara',\n",
       "  'jour': '14',\n",
       "  'mois': '1',\n",
       "  'année': '2006',\n",
       "  'sexe': 'F',\n",
       "  'classe': '1G3',\n",
       "  'projet': 'aider les autres'},\n",
       " {'prénom': 'Martin',\n",
       "  'jour': '7',\n",
       "  'mois': '1',\n",
       "  'année': '2006',\n",
       "  'sexe': 'G',\n",
       "  'classe': '1G1',\n",
       "  'projet': 'devenir youtuber'},\n",
       " {'prénom': 'Bastien',\n",
       "  'jour': '5',\n",
       "  'mois': '1',\n",
       "  'année': '2007',\n",
       "  'sexe': 'G',\n",
       "  'classe': '1G3',\n",
       "  'projet': 'inventer la machine à voyager dans le temps'}]"
      ]
     },
     "execution_count": 14,
     "metadata": {},
     "output_type": "execute_result"
    }
   ],
   "source": [
    "nes_en_janvier = [eleve for eleve in eleves if int(eleve['mois']) == 1] \n",
    "nes_en_janvier  # pour voir le tableau"
   ]
  },
  {
   "cell_type": "markdown",
   "metadata": {},
   "source": [
    "Ce tableau `nes_en_janvier` représente la nouvelle table de données suivante.\n",
    "\n",
    "| **prénom** | **jour** | **mois** | **année** | **sexe** | **classe** | **projet** |\n",
    "| --- | --- | --- | --- | --- | --- | --- |\n",
    "| Sara | 14 | 1 | 2006 | F | 1G3 | aider les autres |\n",
    "| Martin | 7 | 1 | 2006 | G | 1G1 | devenir youtuber |\n",
    "| Bastien | 5 | 1 | 2007 | G | 1G3 | inventer la machine à voyager dans le temps |\n"
   ]
  },
  {
   "cell_type": "markdown",
   "metadata": {},
   "source": [
    ">On a sélectionné les lignes *complètes* correspondant à certains critères. Cela signifie que toutes les colonnes ont été ajoutées à la table créée. On peut aussi très facilement construire un nouveau tableau ne contenant que certaines colonnes de la table de départ, ce que nous allons voir maintenant."
   ]
  },
  {
   "cell_type": "markdown",
   "metadata": {},
   "source": [
    "# Sélectionner des lignes et des colonnes\n",
    "\n",
    "## Projection sur une ou plusieurs colonnes\n",
    "\n",
    "Si on ne souhaite sélectionner que certaines colonnes de la table de départ, on dit que l'on fait une **projection sur ces colonnes**.\n",
    "\n",
    "On peut construire un nouveau tableau en faisant une projection sur une seule colonne, par exemple les prénoms."
   ]
  },
  {
   "cell_type": "code",
   "execution_count": 15,
   "metadata": {},
   "outputs": [
    {
     "data": {
      "text/plain": [
       "['Sylvain',\n",
       " 'Romain',\n",
       " 'Kenzo',\n",
       " 'Marin',\n",
       " 'Alexis',\n",
       " 'Dario',\n",
       " 'Adrien',\n",
       " 'Yanis',\n",
       " 'Sara',\n",
       " 'Augustin',\n",
       " 'Lenny',\n",
       " 'Alan',\n",
       " 'Clement',\n",
       " 'Nizar',\n",
       " 'Gaellys',\n",
       " 'Ianis',\n",
       " 'Martin',\n",
       " 'Timothée',\n",
       " 'Mathis',\n",
       " 'Bastien',\n",
       " 'Yann',\n",
       " 'Maël',\n",
       " 'Enzo',\n",
       " 'Alexandre']"
      ]
     },
     "execution_count": 15,
     "metadata": {},
     "output_type": "execute_result"
    }
   ],
   "source": [
    "t0 = [eleve['prénom'] for eleve in eleves]\n",
    "t0  # pour voir le tableau"
   ]
  },
  {
   "cell_type": "markdown",
   "metadata": {},
   "source": [
    "On peut aussi projeter sur plusieurs colonnes, en reconstruisant des dictionnaires ne contenant que les attributs souhaités, par exemple les prénoms et les projets :"
   ]
  },
  {
   "cell_type": "code",
   "execution_count": 16,
   "metadata": {},
   "outputs": [
    {
     "data": {
      "text/plain": [
       "[{'prénom': 'Sylvain',\n",
       "  'projet': 'manger des frites tous les jours à la cantine'},\n",
       " {'prénom': 'Romain', 'projet': 'être heureux'},\n",
       " {'prénom': 'Kenzo', 'projet': 'gagner au loto'},\n",
       " {'prénom': 'Marin', 'projet': 'devenir quelqu’un de célèbre'},\n",
       " {'prénom': 'Alexis', 'projet': 'avoir une bonne note au prochain devoir'},\n",
       " {'prénom': 'Dario', 'projet': 'devenir astronaute'},\n",
       " {'prénom': 'Adrien', 'projet': 'marcher sur la lune'},\n",
       " {'prénom': 'Yanis', 'projet': 'dormir plus longtemps le matin'},\n",
       " {'prénom': 'Sara', 'projet': 'aider les autres'},\n",
       " {'prénom': 'Augustin', 'projet': 'apprendre à piloter une Formule 1'},\n",
       " {'prénom': 'Lenny', 'projet': 'devenir président'},\n",
       " {'prénom': 'Alan', 'projet': 'créer un jeu vidéo'},\n",
       " {'prénom': 'Clement', 'projet': 'gérer sa propre entreprise'},\n",
       " {'prénom': 'Nizar', 'projet': 'jouer dans le prochain James Bond'},\n",
       " {'prénom': 'Gaellys', 'projet': 'monter le tapis rouge à Cannes'},\n",
       " {'prénom': 'Ianis', 'projet': 'devenir champion du monde de bras de fer'},\n",
       " {'prénom': 'Martin', 'projet': 'devenir youtuber'},\n",
       " {'prénom': 'Timothée', 'projet': 'avoir son émission de TV'},\n",
       " {'prénom': 'Mathis', 'projet': 'écrire un livre'},\n",
       " {'prénom': 'Bastien',\n",
       "  'projet': 'inventer la machine à voyager dans le temps'},\n",
       " {'prénom': 'Yann', 'projet': 'devenir une rockstar'},\n",
       " {'prénom': 'Maël', 'projet': 'devenir un joueur professionel de billard'},\n",
       " {'prénom': 'Enzo', 'projet': 'ouvrir un restaurant'},\n",
       " {'prénom': 'Alexandre', 'projet': 'aller à Poudlard'}]"
      ]
     },
     "execution_count": 16,
     "metadata": {},
     "output_type": "execute_result"
    }
   ],
   "source": [
    "t1 = [{'prénom': eleve['prénom'], 'projet': eleve['projet']} for eleve in eleves]\n",
    "t1  # pour voir le tableau"
   ]
  },
  {
   "cell_type": "markdown",
   "metadata": {},
   "source": [
    "## Combiner les sélections sur les lignes et les colonnes\n",
    "\n",
    "Il est bien sûr possible de combiner une sélection sur les colonnes avec une sélection sur les lignes. Ainsi, l'instruction"
   ]
  },
  {
   "cell_type": "code",
   "execution_count": 17,
   "metadata": {},
   "outputs": [
    {
     "data": {
      "text/plain": [
       "['Sylvain',\n",
       " 'Romain',\n",
       " 'Kenzo',\n",
       " 'Marin',\n",
       " 'Alexis',\n",
       " 'Dario',\n",
       " 'Adrien',\n",
       " 'Yanis',\n",
       " 'Augustin',\n",
       " 'Lenny',\n",
       " 'Alan',\n",
       " 'Clement',\n",
       " 'Nizar',\n",
       " 'Ianis',\n",
       " 'Martin',\n",
       " 'Timothée',\n",
       " 'Mathis',\n",
       " 'Bastien',\n",
       " 'Yann',\n",
       " 'Maël',\n",
       " 'Enzo',\n",
       " 'Alexandre']"
      ]
     },
     "execution_count": 17,
     "metadata": {},
     "output_type": "execute_result"
    }
   ],
   "source": [
    "t2 = [eleve['prénom'] for eleve in eleves if eleve['sexe'] == 'G']\n",
    "t2  # pour voir le tableau"
   ]
  },
  {
   "cell_type": "markdown",
   "metadata": {},
   "source": [
    "permet de créer un tableau contenant les prénoms des garçons. On a donc sélectionné la première colonne contenant les prénoms des élèves (avec `eleve['prénom']`) mais seulement pour les lignes correspondant à des garçons (avec le critère `if eleve['sexe'] == 'G')`."
   ]
  },
  {
   "cell_type": "markdown",
   "metadata": {},
   "source": [
    "On peut bien sûr aussi sélectionner plusieurs colonnes tout en sélectionnant certaines lignes. Par exemple, on peut sélectionner les attributs `'prénom'` et `'projet'` mais uniquement des filles."
   ]
  },
  {
   "cell_type": "code",
   "execution_count": 18,
   "metadata": {},
   "outputs": [
    {
     "data": {
      "text/plain": [
       "[{'prénom': 'Sara', 'projet': 'aider les autres'},\n",
       " {'prénom': 'Gaellys', 'projet': 'monter le tapis rouge à Cannes'}]"
      ]
     },
     "execution_count": 18,
     "metadata": {},
     "output_type": "execute_result"
    }
   ],
   "source": [
    "t3 = [{'prénom': eleve['prénom'], 'projet': eleve['projet']} for eleve in eleves if eleve['sexe'] == 'F']\n",
    "t3  # pour voir le tableau"
   ]
  },
  {
   "cell_type": "markdown",
   "metadata": {},
   "source": [
    "# Bilan\n",
    "\n",
    "- Les tables de données peuvent peuvent être mémorisées dans des fichiers et notamment dans des fichiers au format CSV.\n",
    "- Pour traiter ces données (avec Python, ou avec un autre langage) il est nécessaire de *lire le fichier* et de *charger les données*. On a vu que le module `csv` permettait facilement de mémoriser les données d'une table dans un tableau de dictionnaires.\n",
    "- On peut ensuite utiliser toutes les fonctionnalités du langage de programmation pour le traitement des données. En particulier, on peut y *rechercher des informations*, *sélectionner les colonnes* en fonction des attributs qui nous intéressent mais aussi *sélectionner des lignes* en fonction de certains *critères*.\n",
    "- Ces traitements permettent de créer de nouvelles tables que l'on peut aussi *écrire* dans un fichier CSV pour garder une trace pérenne des informations calculées (fait en activité).\n",
    "- Nous verrons au cours d'un TP l'intérêt de faire un *prétraitement* adapté des données pour répondre aux problématiques suivantes :\n",
    "    - les données chargées dans un tableau le sont sous forme de chaînes de caractères, mêmes les nombres. Il peut donc être intéressant de les convertir une fois pour toutes au départ et éviter les conversions de type dans tous les traitements.\n",
    "    - pour les données ouvertes obtenues sur des sites spécialisés, il convient d'être vigilant en cas de données manquantes ou de données particulières. On s'assurera donc que les données sont *cohérentes* avant de commencer à les traiter.\n",
    "\n",
    "- Tout ce qui est fait sur le traitement des données en classe de Première est un avant-goût des bases de données qui seront étudiées en classe de Terminale."
   ]
  },
  {
   "cell_type": "markdown",
   "metadata": {},
   "source": [
    "**Sources :**\n",
    "- Equipe pédagogique, DIU EIL, Univertité de Nantes.\n",
    "- Livre *Numérique et Sciences Informatiques, 1re*, T. BALABONSKI, S. CONCHON, J.-C. FILLIATRE, K. NGUYEN, éditions ELLIPSES pour l'idée du plan de ce cours. Voici le [site du livre](https://www.nsi-premiere.fr/).\n",
    "- Ressource Eduscol : [Manipulation de tables](https://bit.ly/2BL2lbA)"
   ]
  },
  {
   "cell_type": "markdown",
   "metadata": {},
   "source": [
    "---\n",
    "Germain BECKER & Sébastien POINT, Lycée Mounier, ANGERS ![Licence Creative Commons](https://i.creativecommons.org/l/by-nc-sa/4.0/88x31.png)"
   ]
  }
 ],
 "metadata": {
  "kernelspec": {
   "display_name": "Python 3",
   "language": "python",
   "name": "python3"
  },
  "language_info": {
   "codemirror_mode": {
    "name": "ipython",
    "version": 3
   },
   "file_extension": ".py",
   "mimetype": "text/x-python",
   "name": "python",
   "nbconvert_exporter": "python",
   "pygments_lexer": "ipython3",
   "version": "3.7.10"
  }
 },
 "nbformat": 4,
 "nbformat_minor": 1
}
