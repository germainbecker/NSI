{
 "cells": [
  {
   "cell_type": "markdown",
   "metadata": {},
   "source": [
    "<h1 style=\"font-size: 30px; text-align: center\">TP - Trier une table de données</h1>\n",
    "\n",
    "---"
   ]
  },
  {
   "cell_type": "markdown",
   "metadata": {},
   "source": [
    "# Introduction\n",
    "\n",
    "En Python, avec l'opérateur `<` (ou `>`, `==`, `<=`, `>=`), il est possible de comparer des nombres"
   ]
  },
  {
   "cell_type": "code",
   "execution_count": null,
   "metadata": {},
   "outputs": [],
   "source": [
    "5 < 10"
   ]
  },
  {
   "cell_type": "code",
   "execution_count": null,
   "metadata": {},
   "outputs": [],
   "source": [
    "3 < 1"
   ]
  },
  {
   "cell_type": "markdown",
   "metadata": {},
   "source": [
    "ou des chaînes de caractères (c'est l'ordre alphabétique qui est alors utilisé)"
   ]
  },
  {
   "cell_type": "code",
   "execution_count": null,
   "metadata": {},
   "outputs": [],
   "source": [
    "'Arthur' < 'Bérénice'"
   ]
  },
  {
   "cell_type": "code",
   "execution_count": null,
   "metadata": {},
   "outputs": [],
   "source": [
    "'Gaëlle' < 'Boris'"
   ]
  },
  {
   "cell_type": "markdown",
   "metadata": {},
   "source": [
    "Le fait de pouvoir comparer ce type d'éléments permet de les trier. On va s'intéresser dans ce TP à trier les données d'une table de données."
   ]
  },
  {
   "cell_type": "markdown",
   "metadata": {},
   "source": [
    "Lorsque des données sont regroupées dans une table, il peut être intéressant de pouvoir la trier. Par exemple, on peut vouloir afficher la liste de tous les élèves par ordre alphabétique ou bien encore trier les élèves selon leur date de naissance, selon la note obtenue à un contrôle...\n",
    "\n",
    "Reprenons notre exemple avec les élèves de la classe :\n",
    "\n",
    "| **prénom** | **jour** | **mois** | **année** | **sexe** | **projet** |\n",
    "| --- | --- | --- | --- | --- | --- |\n",
    "| Fathi | 3 | 2 | 2003 | G | être heureux |\n",
    "| Evan | 19 | 8 | 2004 | G | manger une glace |\n",
    "| Aline |29 | 10 | 2004 |F | gagner au loto |\n",
    "| Baptiste | 6 | 12 | 2002 | G | devenir quelqu’un de célèbre|\n",
    "| Corentin | 8 | 4 | 2004 | G | avoir une bonne note au prochain devoir |\n",
    "| Estelle | 29 | 3 | 2004 | F | devenir astronaute |\n",
    "| Elisa | 7 | 1 | 2004 | F | marcher sur la lune |\n",
    "| Yanis | 17 | 11 | 2004 | G | dormir plus longtemps le matin |\n",
    "| Leonie | 28 | 10 | 2004 | F | aider les autres |\n",
    "| Lilian | 26 | 10 | 2004 | G | apprendre à piloter une Formule 1 |\n",
    "| ... | \n",
    "\n",
    "On rappelle que les données de ce fichier CSV peuvent être mémorisées dans un tableau de dictionnaires appelé `eleves` comme suit :"
   ]
  },
  {
   "cell_type": "code",
   "execution_count": null,
   "metadata": {},
   "outputs": [],
   "source": [
    "import csv\n",
    "fichier = open('eleves.csv', 'r', encoding = 'UTF-8')\n",
    "t = csv.DictReader(fichier, delimiter=',')\n",
    "eleves = [dict(ligne) for ligne in t] # création et construction du tableau par compréhension\n",
    "fichier.close()\n",
    "eleves # pour voir le contenu du tableau 'eleves'"
   ]
  },
  {
   "cell_type": "markdown",
   "metadata": {},
   "source": [
    "# Utilisation des algorithmes de tri par sélection ou par insertion\n",
    "\n",
    "Les algorithmes de tri par sélection ou de tri par insertion que nous avons écrits permettent de trier des tableaux d'entiers. On pourrait l'adapter pour trier un tableau de dictionnaires : il suffirait de remplacer l'opérateur de comparaison des entiers (< ou >) par une autre fonction, comparant deux élèves.\n",
    "\n",
    "Par exemple, si on souhaite trier les élèves par ordre alphabétique, on peut définir une fonction de comparaison comme"
   ]
  },
  {
   "cell_type": "code",
   "execution_count": null,
   "metadata": {},
   "outputs": [],
   "source": [
    "def compare_prenom(e1, e2):\n",
    "    \"\"\"Compare les prénoms des deux élèves représentés par les dictionnaires e1 et e2.\n",
    "    Renvoie True si les prénoms de e1 et e2 sont dans l'ordre alphabétique, et False sinon\"\"\"\n",
    "    return e1[\"prénom\"] < e2[\"prénom\"]"
   ]
  },
  {
   "cell_type": "code",
   "execution_count": null,
   "metadata": {},
   "outputs": [],
   "source": [
    "compare_prenom(eleves[0],eleves[1]) # Fathi et Evan ne sont pas ordonnés par ordre alphabétique"
   ]
  },
  {
   "cell_type": "code",
   "execution_count": null,
   "metadata": {},
   "outputs": [],
   "source": [
    "compare_prenom(eleves[0], eleves[20]) # Fathi et Teddy sont ordonnés par ordre alphabétique"
   ]
  },
  {
   "cell_type": "markdown",
   "metadata": {},
   "source": [
    "On peut alors utiliser cette fonction de comparaison en adaptant l'algorithme de tri par insertion (il en serait de même pour un tri par sélection).\n",
    "\n",
    "Pour rappel, voici l'algorithme de tri par insertion d'un tableau d'entiers :\n",
    "\n",
    "```python\n",
    "def tri_insertion(T):\n",
    "    for i in range(1,len(T)):\n",
    "        x = T[i]\n",
    "        j = i\n",
    "        while j > 0 and x < T[j-1]:\n",
    "            T[j] = T[j-1]\n",
    "            j = j - 1\n",
    "        T[j] = x        \n",
    "```\n",
    "\n",
    "Et voici comment l'adapter pour trier notre tableau de dictionnaires d'élèves :"
   ]
  },
  {
   "cell_type": "code",
   "execution_count": null,
   "metadata": {},
   "outputs": [],
   "source": [
    "def tri_par_insertion(T):\n",
    "    for i in range(1,len(T)):\n",
    "        x = T[i]\n",
    "        j = i\n",
    "        while j > 0 and compare_prenom(x, T[j-1]):  # modification nécessaire\n",
    "            T[j] = T[j-1]\n",
    "            j = j - 1\n",
    "        T[j] = x"
   ]
  },
  {
   "cell_type": "markdown",
   "metadata": {},
   "source": [
    "On peut vérifier que cela permet bien de trier la table par ordre alphabétique des prénoms :"
   ]
  },
  {
   "cell_type": "code",
   "execution_count": null,
   "metadata": {},
   "outputs": [],
   "source": [
    "tri_par_insertion(eleves)\n",
    "eleves"
   ]
  },
  {
   "cell_type": "markdown",
   "metadata": {},
   "source": [
    "Cette façon de faire possède le désavantage de devoir modifier l'algorithme de tri, et de le réécrire à chaque fois que l'on veut trier selon un autre ordre (critère). De plus, on a vu que ces algorithmes de tri par insertion ou par sélection ne sont pas efficaces dès lors que le nombre d'éléments à trier est trop grand. \n",
    "\n",
    "C'est pour cela, que nous allons uniquement utiliser les fonctions de tri offertes par Python, qui sont efficaces et ne nécessitent pas d'adapter l'algorithme."
   ]
  },
  {
   "cell_type": "markdown",
   "metadata": {},
   "source": [
    "# Fonctions de tri offertes par Python (rappels et compléments)\n",
    "\n",
    "Python offre deux fonctions permettant d'effectuer des opérations de tri.\n",
    "\n",
    "## La fonction `sorted` \n",
    "\n",
    "Celle-ci prend en argument un tableau et renvoie un *nouveau tableau*, trié, contenant les mêmes éléments."
   ]
  },
  {
   "cell_type": "code",
   "execution_count": null,
   "metadata": {},
   "outputs": [],
   "source": [
    "t = [12, 5, 3, 6, 8, 10]\n",
    "sorted(t)"
   ]
  },
  {
   "cell_type": "code",
   "execution_count": null,
   "metadata": {},
   "outputs": [],
   "source": [
    "t"
   ]
  },
  {
   "cell_type": "markdown",
   "metadata": {},
   "source": [
    "On voit que `t` n'a pas été modifié."
   ]
  },
  {
   "cell_type": "markdown",
   "metadata": {},
   "source": [
    "Cette fonction permet aussi de trier des chaînes de caractères, en utilisant l'odre alphabétique."
   ]
  },
  {
   "cell_type": "code",
   "execution_count": null,
   "metadata": {},
   "outputs": [],
   "source": [
    "sorted([\"poire\", \"pomme\", \"cerise\", 'kiwi'])"
   ]
  },
  {
   "cell_type": "markdown",
   "metadata": {},
   "source": [
    "## La fonction `sort` \n",
    "Celle-ci s'applique à un tableau, ne renvoie rien, mais *modifie* le tableau d'origine."
   ]
  },
  {
   "cell_type": "code",
   "execution_count": null,
   "metadata": {},
   "outputs": [],
   "source": [
    "t.sort()\n",
    "t"
   ]
  },
  {
   "cell_type": "markdown",
   "metadata": {},
   "source": [
    "On voit que `t` a été modifié."
   ]
  },
  {
   "cell_type": "markdown",
   "metadata": {},
   "source": [
    "On peut aussi trier directement un tableau de chaînes de caractères avec `sort`."
   ]
  },
  {
   "cell_type": "code",
   "execution_count": null,
   "metadata": {
    "scrolled": true
   },
   "outputs": [],
   "source": [
    "fruits = [\"poire\", \"pomme\", \"cerise\", 'kiwi']\n",
    "fruits.sort()\n",
    "fruits"
   ]
  },
  {
   "cell_type": "markdown",
   "metadata": {},
   "source": [
    "**Question 1** : Que vaut le tableau `t` après l'exécution des instructions suivantes ? *(Vérifiez ensuite en écrivant et en exécutant ces instructions dans une nouvelle cellule)*.\n",
    "\n",
    "```python\n",
    "t = [4, 5, 1, 3, 7]\n",
    "t.sort()\n",
    "t[0] = 2\n",
    "```"
   ]
  },
  {
   "cell_type": "markdown",
   "metadata": {},
   "source": [
    "Réponse :"
   ]
  },
  {
   "cell_type": "markdown",
   "metadata": {},
   "source": [
    "**Question 2** : Que valent les tableaux `t` et `t1` après l'exécution des instructions suivantes ? *(Vérifiez ensuite en écrivant et en exécutant ces instructions dans une nouvelle cellule)*.\n",
    "\n",
    "```python\n",
    "t = ['Adèle', 'Zoé', 'Hugo', 'Clément']\n",
    "t1 = sorted(t)\n",
    "t1[0] = 'Arnaud'\n",
    "```"
   ]
  },
  {
   "cell_type": "markdown",
   "metadata": {},
   "source": [
    "Réponse :"
   ]
  },
  {
   "cell_type": "markdown",
   "metadata": {},
   "source": [
    "**Question 3**: Quel est le contenu du tableau `tab` à l'issue des instructions suivantes ? *(Vérifiez ensuite en écrivant et en exécutant ces instructions dans une nouvelle cellule)*.\n",
    "\n",
    "```python\n",
    "tab = ['2', '1', '3', '12', '10', '5']\n",
    "tab.sort()\n",
    "```"
   ]
  },
  {
   "cell_type": "markdown",
   "metadata": {},
   "source": [
    "Réponse : "
   ]
  },
  {
   "cell_type": "markdown",
   "metadata": {},
   "source": [
    "## Ordre lexicographique\n",
    "\n",
    "Il est possible de trier des données selon plusieurs critères. Ainsi, lorsque l'on trie selon un premier critère puis, à valeurs égales, selon un second critère, on appelle cela un *ordre lexicographique*."
   ]
  },
  {
   "cell_type": "code",
   "execution_count": null,
   "metadata": {},
   "outputs": [],
   "source": [
    "(2, 3) < (2, 8) # les deux premiers éléments sont égaux donc le tri se fait sur les seconds éléments"
   ]
  },
  {
   "cell_type": "code",
   "execution_count": null,
   "metadata": {},
   "outputs": [],
   "source": [
    "(2, 3) < (2, 1) # les deux premiers éléments sont égaux donc le tri se fait sur les seconds éléments"
   ]
  },
  {
   "cell_type": "code",
   "execution_count": null,
   "metadata": {},
   "outputs": [],
   "source": [
    "(1, 5) < (2, 3) # les deux premiers éléments ne sont pas égaux donc le tri se fait directement sur les premiers éléments"
   ]
  },
  {
   "cell_type": "markdown",
   "metadata": {},
   "source": [
    "Les fonctions `sorted` et `sort` utilisent cet ordre lexicographique pour trier un tableau."
   ]
  },
  {
   "cell_type": "code",
   "execution_count": null,
   "metadata": {
    "scrolled": true
   },
   "outputs": [],
   "source": [
    "sorted([(2, 3), (1, 5), (2, 8), (2, 1)])"
   ]
  },
  {
   "cell_type": "markdown",
   "metadata": {},
   "source": [
    "**Question 4 :** Que renvoie l'expression suivante ? *(Vérifiez ensuite en écrivant et en exécutant cette instruction dans une nouvelle cellule)*.\n",
    "\n",
    "```Python\n",
    "sorted([(1, 3), (1, 2), (2, 4), (2, 1)]) \n",
    "```"
   ]
  },
  {
   "cell_type": "markdown",
   "metadata": {},
   "source": [
    "Réponse : "
   ]
  },
  {
   "cell_type": "markdown",
   "metadata": {},
   "source": [
    "**Question 5 :** Que renvoie l'expression suivante ? *(Vérifiez ensuite en écrivant et en exécutant cette instruction dans une nouvelle cellule)*.\n",
    "\n",
    "```Python\n",
    "sorted([(1, \"poires\"), (3, \"abricot\"), (1, \"bananes\"), (2, \"kiwi\")]) \n",
    "```"
   ]
  },
  {
   "cell_type": "markdown",
   "metadata": {},
   "source": [
    "Réponse :"
   ]
  },
  {
   "cell_type": "markdown",
   "metadata": {},
   "source": [
    "# Trier des données en fonction d'une clé\n",
    "\n",
    "On va pouvoir trier une table de données avec ces deux fonctions `sorted` et `sort`. Revenons à notre tableau d'élèves."
   ]
  },
  {
   "cell_type": "code",
   "execution_count": null,
   "metadata": {},
   "outputs": [],
   "source": [
    "import csv\n",
    "fichier = open('eleves.csv', 'r', encoding = 'UTF-8')\n",
    "t = csv.DictReader(fichier, delimiter=',')\n",
    "eleves = [dict(ligne) for ligne in t] # création et construction du tableau par compréhension\n",
    "fichier.close()\n",
    "eleves # pour voir le contenu du tableau 'eleves'"
   ]
  },
  {
   "cell_type": "markdown",
   "metadata": {},
   "source": [
    "Les deux fonctions `sorted` et `sort` sont incapables de comparer deux dictionnaires. En particulier, on ne peut pas appliquer directement ces fonctions à notre tableau `eleves` :"
   ]
  },
  {
   "cell_type": "code",
   "execution_count": null,
   "metadata": {},
   "outputs": [],
   "source": [
    "sorted(eleves)"
   ]
  },
  {
   "cell_type": "markdown",
   "metadata": {},
   "source": [
    "## Trier selon un critère unique\n",
    "\n",
    "Pour pouvoir utiliser ces fonctions, il va falloir leur donner en paramètre ce que l'on appelle une *clé*. Cette clé est en fait une fonction qui prend en paramètre un dictionnaire représentant un éleve et qui renvoie la valeur que l'on souhaite comparer. Cela doit nécessairement être des éléments que Python sait comparer (nombres, chaînes de caractères, tuples).\n",
    "\n",
    "Si on veut comparer les prénoms des élèves (pour faire un tri par ordre alphabétique des prénoms), on peut définir la fonction suivante."
   ]
  },
  {
   "cell_type": "code",
   "execution_count": null,
   "metadata": {},
   "outputs": [],
   "source": [
    "def prenom(eleve):\n",
    "    \"\"\"eleve est un dictionnaire possédant une clé \"prénom\".\"\"\"\n",
    "    return eleve[\"prénom\"]"
   ]
  },
  {
   "cell_type": "markdown",
   "metadata": {},
   "source": [
    "Ensuite, on peut appeler la fonction `sorted` sur le tableau `eleves` en précisant qu'il faut utiliser la fonction `prenom` à chaque fois que deux éléments du tableau doivent être comparés. On l'indique en passant `key=prenom` à la fonction `sorted`."
   ]
  },
  {
   "cell_type": "code",
   "execution_count": null,
   "metadata": {},
   "outputs": [],
   "source": [
    "tri_eleves = sorted(eleves, key=prenom)\n",
    "tri_eleves"
   ]
  },
  {
   "cell_type": "markdown",
   "metadata": {},
   "source": [
    "Si on veut trier plutôt dans l'ordre inverse, c'est-à-dire du plus grand au plus petit, il faut passer une autre option à la fonction `sorted`, à savoir `reverse=True`."
   ]
  },
  {
   "cell_type": "code",
   "execution_count": null,
   "metadata": {},
   "outputs": [],
   "source": [
    "tri_eleves = sorted(eleves, key=prenom, reverse=True)\n",
    "tri_eleves"
   ]
  },
  {
   "cell_type": "markdown",
   "metadata": {},
   "source": [
    "**Question 6 :** Triez la table `eleves` suivant l'année de naissance des élèves. *Indication :* n'oubliez pas de commencer par définir la fonction qui servira de clé de tri à la fonction `sorted`."
   ]
  },
  {
   "cell_type": "code",
   "execution_count": null,
   "metadata": {},
   "outputs": [],
   "source": [
    "# à vous de jouer !\n"
   ]
  },
  {
   "cell_type": "markdown",
   "metadata": {},
   "source": [
    "## Trier selon plusieurs critères\n",
    "\n",
    "Imaginons que l'on souhaite trier les élèves selon leur année de naissance, puis, si deux élèves sont nés la même année, les trier par ordre alphabétique.\n",
    "\n",
    "On peut alors utiliser le fait que la fonction `sorted` réalise l'ordre lexicographique. Il suffit de définir la fonction de tri suivante."
   ]
  },
  {
   "cell_type": "code",
   "execution_count": null,
   "metadata": {},
   "outputs": [],
   "source": [
    "def annee_puis_prenom(eleve):\n",
    "    return int(eleve[\"année\"]), eleve[\"prénom\"] # ne pas oublier de convertir l'année en entier"
   ]
  },
  {
   "cell_type": "markdown",
   "metadata": {},
   "source": [
    "Cette fonction renvoie pour chaque élève `eleve`, la paire (année, prénom). En utilisant cette clé, la fonction `sorted` va utiliser cette fonction pour comparer deux élèves, en respectant l'ordre lexicographique (d'abord l'année, puis en cas d'égalité le prénom)."
   ]
  },
  {
   "cell_type": "code",
   "execution_count": null,
   "metadata": {},
   "outputs": [],
   "source": [
    "table_a_afficher = sorted(eleves, key=annee_puis_prenom)\n",
    "table_a_afficher"
   ]
  },
  {
   "cell_type": "markdown",
   "metadata": {},
   "source": [
    "**Question 7 :** Triez les élèves de la table `eleves` par date de naissance (année/mois/jour) du plus vieux au plus jeune."
   ]
  },
  {
   "cell_type": "code",
   "execution_count": null,
   "metadata": {
    "scrolled": true
   },
   "outputs": [],
   "source": [
    "# à vous de jouer !\n"
   ]
  },
  {
   "cell_type": "markdown",
   "metadata": {},
   "source": [
    "# Application : les prénoms à Angers en 2020\n",
    "\n",
    "Pour illustrer les fonctions de tris, nous allons maintenant travailler sur des données réelles et plus nombreuses : les prénoms donnés à Angers en 2020. Il est possible de récupérer ce genre de données sur le site d'[Open Data](https://data.angers.fr/pages/home/) de la ville d'Angers ou directement [ici](https://data.angers.fr/explore/dataset/prenoms-des-enfants-nes-a-angers/export/?refine.annee=2020).\n",
    "\n",
    "Le fichier CSV appelé `prenoms2020.csv` contenant ces données est situé dans le même répertoire que ce Notebook. Voici le contenu du début de ce fichier :\n",
    "\n",
    "| **COLL_NOM** | **COLL_INSEE** | **ENFANT_SEXE** | **ENFANT_PRENOM** | **NOMBRE_OCCURRENCES** | **ANNEE** |\n",
    "| --- | --- | --- | --- | --- | --- |\n",
    "| ANGERS | 49007 | F | Emma | 26 | 2020 | \n",
    "| ANGERS | 49007 | F | Rose | 21 | 2020 | \n",
    "| ANGERS | 49007 | F | Albane | 13 | 2020 | \n",
    "| ... | ... | ... | ... | ... | ... | \n",
    "\n",
    "La documentation de ce jeu de données indique que seuls les prénoms donnés au moins 4 fois apparaissent. \n",
    "\n",
    "**Attention** : comme beaucoup de données françaises, le caractère de séparation est le point-virgule (;) et non la virgule. Il faudra juste l'indiquer pour importer correctement les données dans le tableau `prenoms2020` comme ci-dessus.\n"
   ]
  },
  {
   "cell_type": "code",
   "execution_count": null,
   "metadata": {},
   "outputs": [],
   "source": [
    "import csv\n",
    "fichier2020 = open('prenoms2020.csv', 'r', encoding = 'utf8')\n",
    "t = csv.DictReader(fichier2020, delimiter=';') # ATTENTION : le point-virgule est le caractère de séparation\n",
    "prenoms2020 = [dict(ligne) for ligne in t]\n",
    "fichier2020.close()\n",
    "prenoms2020"
   ]
  },
  {
   "cell_type": "markdown",
   "metadata": {},
   "source": [
    "**Question 8** : Triez les prénoms de la table `prenoms2020` par ordre alphabétique."
   ]
  },
  {
   "cell_type": "code",
   "execution_count": null,
   "metadata": {},
   "outputs": [],
   "source": [
    "# à vous de jouer !\n"
   ]
  },
  {
   "cell_type": "markdown",
   "metadata": {},
   "source": [
    "**Question 9** : Triez les prénoms de la table `prenoms2020` du plus fréquent au moins fréquent."
   ]
  },
  {
   "cell_type": "code",
   "execution_count": null,
   "metadata": {},
   "outputs": [],
   "source": [
    "# à vous de jouer !\n"
   ]
  },
  {
   "cell_type": "markdown",
   "metadata": {},
   "source": [
    "**Question 10** : Triez par ordre alphabétique puis triez le tableau obtenu par nombre d'occurrences décroissant. Que permettent ces 2 tris successifs ?"
   ]
  },
  {
   "cell_type": "code",
   "execution_count": null,
   "metadata": {},
   "outputs": [],
   "source": [
    "# à vous de jouer !\n"
   ]
  },
  {
   "cell_type": "markdown",
   "metadata": {},
   "source": [
    "**Question 11** : Créez une nouvelle table `filles2020` qui contient uniquement les lignes de la table `prenoms2020` correspondant aux filles (cf. Chapitre 1 si besoin pour revoir comment on sélectionne certaines lignes : [clique ici](http://info-mounier.fr/premiere_nsi/traitement_donnees/recherche_dans_une_table.php#S%C3%A9lection-de-lignes))."
   ]
  },
  {
   "cell_type": "code",
   "execution_count": null,
   "metadata": {},
   "outputs": [],
   "source": [
    "# à vous de jouer !\n"
   ]
  },
  {
   "cell_type": "markdown",
   "metadata": {},
   "source": [
    "**Question 12** : Créez de même une table `garcons2020` contenant les lignes correspondant uniquement aux garçons."
   ]
  },
  {
   "cell_type": "code",
   "execution_count": null,
   "metadata": {},
   "outputs": [],
   "source": [
    "# à vous de jouer !\n"
   ]
  },
  {
   "cell_type": "markdown",
   "metadata": {},
   "source": [
    "**Question 13** : Triez les tables `filles2020` et `garçons2020` par nombre d'occurrences décroissant."
   ]
  },
  {
   "cell_type": "code",
   "execution_count": null,
   "metadata": {},
   "outputs": [],
   "source": [
    "# à vous de jouer !\n"
   ]
  },
  {
   "cell_type": "markdown",
   "metadata": {},
   "source": [
    "**Question 14** : À partir de ces deux tables désormais triées (par nombre d'occurrences décroissant), construisez deux tables `top10filles` et `top10garcons` qui contiennent respectivement uniquement les 10 prénoms féminins et masculins les plus donnés en 2020 à Angers."
   ]
  },
  {
   "cell_type": "code",
   "execution_count": null,
   "metadata": {},
   "outputs": [],
   "source": [
    "# à vous de jouer\n"
   ]
  },
  {
   "cell_type": "markdown",
   "metadata": {},
   "source": [
    "**Question 15** : À partir des deux tables `top10filles` et `top10garcons`, construisez deux nouvelles tables contenant uniquement les prénoms et nombres d'occurrences des ces deux \"Top 10\" (on ne veut plus les clés `'COLL_NOM'`, `'COLL_INSEE'`, `'ENFANT_SEXE'` et `'ANNEE'`). (cf. Chapitre 1 si besoin: [clique ici](http://info-mounier.fr/premiere_nsi/traitement_donnees/recherche_dans_une_table.php#Projection-sur-une-ou-plusieurs-colonnes))."
   ]
  },
  {
   "cell_type": "code",
   "execution_count": null,
   "metadata": {},
   "outputs": [],
   "source": [
    "# à vous de jouer !\n"
   ]
  },
  {
   "cell_type": "markdown",
   "metadata": {},
   "source": [
    "**Question 16** : Le code ci-dessous utilise la fonction `bar` de la bibliothèque `matplotlib` pour créer un histogramme. Après avoir analysé et compris ce code, écrivez le programme permettant de créer un histogramme avec le top 10 des prénoms féminins, puis un histogramme avec le top 10 des prénoms masculins.\n",
    "\n",
    ">Pour les plus curieux, voici un lien vers les [ressources officielles de matplotlib](https://matplotlib.org/stable/index.html) et un autre vers une [documentation en français](http://python-simple.com/python-matplotlib/matplotlib-intro.php)."
   ]
  },
  {
   "cell_type": "code",
   "execution_count": null,
   "metadata": {},
   "outputs": [],
   "source": [
    "# à analyser (ne pas hésiter à modifier/ajouter des choses pour comprendre)\n",
    "\n",
    "import matplotlib.pyplot as plt\n",
    "fruits = ['kiwis', 'poires', 'clémentines', 'abricots']\n",
    "occurrences = [12, 10, 5, 21]\n",
    "plt.bar(fruits, occurrences, width = 0.9, color = 'blue')\n",
    "plt.show()"
   ]
  },
  {
   "cell_type": "code",
   "execution_count": null,
   "metadata": {},
   "outputs": [],
   "source": [
    "# à vous de jouer !\n"
   ]
  },
  {
   "cell_type": "markdown",
   "metadata": {},
   "source": [
    "**Sources :**\n",
    "- Documents ressources du DIU EIL, Université de Nantes\n",
    "- Numérique et Sciences Informatiques, 1re, T. BALABONSKI, S. CONCHON, J.-C. FILLIATRE, K. NGUYEN, éditions ELLIPSES : [Site du livre](https://www.nsi-premiere.fr/)\n",
    "- Ressource Eduscol : [Manipulation de tables](https://bit.ly/2BL2lbA)"
   ]
  },
  {
   "cell_type": "markdown",
   "metadata": {},
   "source": [
    "---\n",
    "Germain BECKER & Sébastien POINT, Lycée Mounier, ANGERS ![Licence Creative Commons](https://i.creativecommons.org/l/by-nc-sa/4.0/88x31.png)"
   ]
  }
 ],
 "metadata": {
  "kernelspec": {
   "display_name": "Python 3",
   "language": "python",
   "name": "python3"
  },
  "language_info": {
   "codemirror_mode": {
    "name": "ipython",
    "version": 3
   },
   "file_extension": ".py",
   "mimetype": "text/x-python",
   "name": "python",
   "nbconvert_exporter": "python",
   "pygments_lexer": "ipython3",
   "version": "3.7.3"
  }
 },
 "nbformat": 4,
 "nbformat_minor": 2
}
