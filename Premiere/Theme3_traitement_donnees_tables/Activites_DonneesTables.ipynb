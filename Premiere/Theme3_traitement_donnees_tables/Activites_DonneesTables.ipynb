{
 "cells": [
  {
   "cell_type": "markdown",
   "metadata": {},
   "source": [
    "<h1 style=\"font-size: 30px; text-align: center\">Importer une table et rechercher dans une table - EXERCICES</h1>\n",
    "\n",
    "---"
   ]
  },
  {
   "cell_type": "markdown",
   "metadata": {},
   "source": [
    "# Exercice 1 : Fichier CSV et chargement des données\n",
    "\n",
    "**Question 1** : Utilisez un éditeur de texte pour écrire un fichier au format CSV décrivant le tableau de femmes scientifiques suivant. Enregistrez ce fichier dans le dossier de `data` situé dans le répertoire courant de ce notebook. \n",
    "\n",
    "| **nom** | **prénom** | **date_naissance** |\n",
    "| --- | --- | --- |\n",
    "| Johnson | Katherine | 26/08/1918 |\n",
    "| Lovelace | Ada | 10/12/1815 |\n",
    "| Hamilton | Margaret | 17/08/1936 |\n",
    "\n",
    "**Question 2** : Ecrivez un programme qui lit ce fichier CSV et en extrait la table sous forme d'un tableau de dictionnaires. *Affichez le tableau pour vérifier*."
   ]
  },
  {
   "cell_type": "markdown",
   "metadata": {},
   "source": [
    "# Exercice 2 : Places de parkings disponibles en temps réel\n",
    "\n",
    "## Récupérer un jeu de données ouvertes\n",
    "\n",
    "**Question 1** : Rendez-vous à l'adresse [https://data.angers.fr/pages/home/](https://data.angers.fr/pages/home/) puis cherchez le jeu de données intitulé \"Disponibilité dans les Parking à Angers\". En naviguant sur les différents onglets, répondez aux questions suivantes :\n",
    "1. A quoi correspond ce jeu de données ?\n",
    "2. Quelle est la fréquence de mise à jour des données ?\n",
    "3. Le tableau de données contient combien d'attributs ? Quels sont leurs noms ?\n",
    "4. Quel est le caractère de séparation du fichier CSV mémorisant les données ?\n",
    "\n",
    "Téléchargez le jeu de données complet au format CSV puis déplacez-le dans le répertoire de ce notebook. Ouvrez-le avec un éditeur de texte et avec un tableur pour en visualiser le contenu. En particulier, observez le caractère de séparation utilisé."
   ]
  },
  {
   "cell_type": "markdown",
   "metadata": {},
   "source": [
    "## Chargement des données\n",
    "\n",
    "**Question 2** : Ecrivez un programme qui lit ce fichier CSV et en extrait la table sous forme d'un tableau de dictionnaires appelé `parkings`. *Affichez le tableau pour vérifier*."
   ]
  },
  {
   "cell_type": "code",
   "execution_count": null,
   "metadata": {},
   "outputs": [],
   "source": [
    "# à vous de jouer !\n"
   ]
  },
  {
   "cell_type": "markdown",
   "metadata": {},
   "source": [
    "## Rechercher des données simples\n",
    "\n",
    "**Question 3** : On souhaite écrire une fonction `nombre_places_dispo(nom, parkings)` qui renvoie le nombre de places disponibles dans le parking `nom` de la table `parkings`. La valeur renvoyée doit être un entier (type `int`). La fonction renvoie `None` si le nom du parking n'existe pas.\n",
    "\n",
    "1. Ecrivez un bon jeu de tests pour cette fonction.\n",
    "2. Programmez ensuite la fonction et vérifiez qu'elle passe tous les tests avec succès."
   ]
  },
  {
   "cell_type": "code",
   "execution_count": null,
   "metadata": {},
   "outputs": [],
   "source": [
    "# à vous de jouer !\n"
   ]
  },
  {
   "cell_type": "markdown",
   "metadata": {},
   "source": [
    "## Sélectionner des lignes et des colonnes\n",
    "\n",
    "**Question 4** : A partir de la table `parkings`, construisez une table `t0` qui contient les parkings avec plus de 200 places disponibles."
   ]
  },
  {
   "cell_type": "code",
   "execution_count": null,
   "metadata": {},
   "outputs": [],
   "source": [
    "# à vous de jouer !\n"
   ]
  },
  {
   "cell_type": "markdown",
   "metadata": {},
   "source": [
    "**Question 5** : A partir de la table `parkings`, construisez une table `t1` qui contient les parkings avec moins de 100 places disponibles."
   ]
  },
  {
   "cell_type": "code",
   "execution_count": null,
   "metadata": {},
   "outputs": [],
   "source": [
    "# à vous de jouer !\n"
   ]
  },
  {
   "cell_type": "markdown",
   "metadata": {},
   "source": [
    "**Question 6** : A partir de la table `parkings`, construisez une table `t2` qui contient uniquement les noms des parkings avec moins de 100 places disponibles."
   ]
  },
  {
   "cell_type": "code",
   "execution_count": null,
   "metadata": {},
   "outputs": [],
   "source": [
    "# à vous de jouer !\n"
   ]
  },
  {
   "cell_type": "markdown",
   "metadata": {},
   "source": [
    "# Automatisation du programme\n",
    "\n",
    "Il est possible de télécharger directement avec Python le fichier CSV. Cela permet d'avoir toujours les données en temps réels pour travailler. Pour cela, on peut utiliser le module `requests`.\n",
    "\n",
    "**Question 7** : Commencez par supprimer le fichier `parking-angers.csv` téléchargé auparavant. Analysez ensuite attentivement le code suivant permettant de récupérer le contenu du fichier CSV directement via son URL et de l'écrire dans un fichier CSV sur notre disque dur."
   ]
  },
  {
   "cell_type": "code",
   "execution_count": null,
   "metadata": {},
   "outputs": [],
   "source": [
    "import requests\n",
    "\n",
    "# url du fichier CSV (s'obtient en faisant clic droit sur le lien puis \"Copier l'adresse du lien\" )\n",
    "url = \"https://data.angers.fr/explore/dataset/parking-angers/download/?format=csv&timezone=Europe/Berlin&lang=fr&use_labels_for_header=true&csv_separator=%3B\"\n",
    "\n",
    "# on utilise la méthode get de la bibliothèque requests qui récupère le contenu du fichier désigné par l'url\n",
    "response = requests.get(url)\n",
    "\n",
    "# on peut afficher le code et le statut de la requête : si 200 OK = tout s'est bien passé\n",
    "print(\"statut de la requête =>\", response.status_code, response.reason)\n",
    "\n",
    "# le contenu récupéré l'est sous forme d'une unique chaîne de caractères, que l'on peut afficher\n",
    "print(\"\\ncontenu sous forme d'une chaîne de caractères =>\", response.text)\n",
    "\n",
    "# on ouvre et on écrit dans un fichier 'parking-angers.csv' la chaîne de caractères récupérée \n",
    "f = open('parking-angers.csv', 'wb')\n",
    "f.write(response.content) # la méthode write écrit le contenu dans le fichier et renvoie le nombre de caractères écrits\n",
    "f.close()"
   ]
  },
  {
   "cell_type": "markdown",
   "metadata": {},
   "source": [
    "**Question 8** : Vérifiez dans le répertoire du notebook que le fichier a bien été créé. Enfin, écrivez un programme qui :\n",
    "- lit ce fichier CSV et en extrait la table sous forme d'un tableau de dictionnaires appelé `parkings_tps_reel`\n",
    "- qui affiche cette table\n",
    "- qui crée une nouvelle table avec les parkings pour lesquels il y a plus de 100 places disponibles.\n",
    "- qui affiche cette nouvelle table"
   ]
  },
  {
   "cell_type": "code",
   "execution_count": null,
   "metadata": {},
   "outputs": [],
   "source": [
    "# à vous de jouer !\n"
   ]
  },
  {
   "cell_type": "markdown",
   "metadata": {},
   "source": [
    "# Exercice 3 : Retour sur la table d'élèves\n",
    "\n",
    "On travaille ici avec la table de données mémorisée dans le fichier `eleves.csv`.\n",
    "\n",
    "On rappelle que les instructions suivantes permettent de charger les données dans un tableau de dictionnaires appelé `eleves`."
   ]
  },
  {
   "cell_type": "code",
   "execution_count": null,
   "metadata": {},
   "outputs": [],
   "source": [
    "import csv\n",
    "fichier = open('data/eleves.csv', 'r', encoding = 'UTF-8')\n",
    "table = csv.DictReader(fichier, delimiter=',')\n",
    "eleves = [dict(ligne) for ligne in table]\n",
    "fichier.close()\n",
    "eleves # pour voir le contenu"
   ]
  },
  {
   "cell_type": "markdown",
   "metadata": {},
   "source": [
    "## Algorithmes de parcours séquentiel\n",
    "\n",
    "**Question 1** : Ecrivez une fonction `nb_filles(eleves)` qui renvoie le nombre de filles de la table `eleves`."
   ]
  },
  {
   "cell_type": "code",
   "execution_count": null,
   "metadata": {},
   "outputs": [],
   "source": [
    "# à vous de jouer !\n"
   ]
  },
  {
   "cell_type": "markdown",
   "metadata": {},
   "source": [
    "**Question 2** : Ecrivez une fonction `prop(a, eleves)` qui renvoie la proportion d'élèves de la table `eleves` nés l'année `a`. On considérera que `a` est un entier."
   ]
  },
  {
   "cell_type": "code",
   "execution_count": null,
   "metadata": {},
   "outputs": [],
   "source": [
    "# à vous de jouer !\n"
   ]
  },
  {
   "cell_type": "markdown",
   "metadata": {},
   "source": [
    "## Ecriture dans un fichier CSV\n",
    "\n",
    "Grâce au module `csv` de Python, il est également très facile d'*écrire* dans un fichier CSV. Imaginons qu'à partir du fichier `eleves.csv` initial, on souhaite créer un nouveau fichier CSV contenant uniquement les prénoms des élèves nés en 2004 ainsi que leurs projets.\n",
    "\n",
    "**Question 3** : On peut commencer par sélectionner les lignes et colonnes souhaitées et les stocker dans un nouveau tableau `prenoms_projets_2004`. Construisez ce nouveau tableau."
   ]
  },
  {
   "cell_type": "code",
   "execution_count": null,
   "metadata": {},
   "outputs": [],
   "source": [
    "# à vous de jouer !\n"
   ]
  },
  {
   "cell_type": "markdown",
   "metadata": {},
   "source": [
    "**Question 4** : On peut ensuite écrire le contenu de ce nouveau tableau dans un fichier CSV. Analysez bien le code suivant qui fait ce travail."
   ]
  },
  {
   "cell_type": "code",
   "execution_count": null,
   "metadata": {},
   "outputs": [],
   "source": [
    "# ouverture d'un fichier en écriture (\"w\" pour write)\n",
    "sortie = open(\"prenoms_projets_2004.csv\", \"w\", newline = '', encoding = \"utf-8\") # le paramètre newline est mis à '' pour éviter un saut de ligne entre chacune des lignes du fichier\n",
    "\n",
    "# la méthode DictWriter renvoie un objet permettant d'écrire des dictionnaires dans le fichier de sortie\n",
    "w = csv.DictWriter(sortie, ['prénom', 'projet']) # on précise aussi le nom des attributs\n",
    "\n",
    "# écriture du fichier\n",
    "w.writeheader() # la méthode writeheader écrit la ligne d'entête (la première avec les attributs)\n",
    "w.writerows(prenoms_projets_2004) # la méthode writerows écrit les lignes de notre table dans le fichier csv\n",
    "\n",
    "# on ferme le flux d'écriture pour éviter les conflits avec d'autres applications\n",
    "sortie.close()"
   ]
  },
  {
   "cell_type": "markdown",
   "metadata": {},
   "source": [
    "1. Qu'est ce qui indique que l'on a ouvert le fichier afin d'y écrire dedans ?\n",
    "2. Quelle méthode de la bibliothèque csv est utilisée pour écrire des dictionnaires dans le fichier de sortie ?\n",
    "3. Qu'est-ce que la ligne d'en-tête du fichier csv ?\n",
    "4. Pourquoi doit-on penser à fermer le flux d'écriture ?"
   ]
  },
  {
   "cell_type": "markdown",
   "metadata": {},
   "source": [
    "*Réponses* :"
   ]
  },
  {
   "cell_type": "markdown",
   "metadata": {},
   "source": [
    "**Question 5**: Vous devez constater qu'un fichier CSV nommé `prenoms_projets_2004.csv` a été créé dans le repertoire du notebook. Ouvrez celui-ci avec un éditeur de texte puis avec un tableur en prenant soin de vérifier que le caractère de séparation du tableur est bien la virgule."
   ]
  },
  {
   "cell_type": "markdown",
   "metadata": {},
   "source": [
    "# Exercice 4\n",
    "\n",
    "Commencez par télécharger au format CSV, le jeu de données disponible [ici](https://data.maine-et-loire.fr/explore/dataset/234400034_004-005_population_en_rpdl%40paysdelaloire/information/?disjunctive.departement_libelle&disjunctive.commune_active_libelle). Ce jeu de données contient des informations sur la population des communes de la région Pays de la Loire.\n",
    "\n",
    "**Repérez bien le caractère de séparation utilisé !**\n",
    "\n",
    "## Partie A : Chargement de la table\n",
    "\n",
    "**Question 1** : Ouvrez le fichier avec un tableur pour en visualiser le contenu. Quels sont les intitulés des attributs correspondants au nom du département, au nom de la commune ainsi qu'au nombre d'habitants de la commune."
   ]
  },
  {
   "cell_type": "markdown",
   "metadata": {},
   "source": [
    "*Réponse* : "
   ]
  },
  {
   "cell_type": "markdown",
   "metadata": {},
   "source": [
    "**Question 2** : Chargez les données de la table dans un tableau de dictionnaires appelé `communes`. \n",
    "\n",
    "**Attention** : *la table contenant plusieurs milliers de lignes, l'affichage du tableau `communes` avec la fonction `print` peut faire planter Jupyter. L'évaluation de `communes` est en revanche possible. Appelez le professeur s'il y a un problème*."
   ]
  },
  {
   "cell_type": "code",
   "execution_count": null,
   "metadata": {},
   "outputs": [],
   "source": [
    "# à vous de jouer !\n"
   ]
  },
  {
   "cell_type": "markdown",
   "metadata": {},
   "source": [
    "## Partie B : Sélection de certaines lignes et de certaines colonnes\n",
    "\n",
    "**Question 3** : On souhaite travailler uniquement sur les données de l'année 2015. Complétez le programme Python ci-dessous pour construire une nouvelle table contenant uniquement les données de 2015."
   ]
  },
  {
   "cell_type": "code",
   "execution_count": null,
   "metadata": {},
   "outputs": [],
   "source": [
    "# à vous de jouer !\n",
    "communes_2015 = [commune for commune in communes if  ..................]"
   ]
  },
  {
   "cell_type": "markdown",
   "metadata": {},
   "source": [
    "**Question 4** : On souhaite travailler uniquement avec les colonnes concernant le nom du département, le nom de la commune ainsi que le nombre d'habitants de la commune (pour les données de l'année 2015). Construisez une table `table_communes` qui ne conserve que ces trois colonnes de la table `communes_2015`."
   ]
  },
  {
   "cell_type": "code",
   "execution_count": null,
   "metadata": {},
   "outputs": [],
   "source": [
    "# à vous de jouer !\n"
   ]
  },
  {
   "cell_type": "markdown",
   "metadata": {},
   "source": [
    "**Question 5** : Le nom des attributs est long à écrire. Recopiez et modifiez le script précédent pour que les attributs de la table `table_communes` soient plus simplement : `'dep'`, `'nom'` et `'population'`."
   ]
  },
  {
   "cell_type": "code",
   "execution_count": null,
   "metadata": {},
   "outputs": [],
   "source": [
    "# à vous de jouer !\n"
   ]
  },
  {
   "cell_type": "markdown",
   "metadata": {},
   "source": [
    "Vous avez du constater que le nombre d'habitants de chaque commune est pour le moment mémorisé par une chaine de caractère qui représente un flottant. On peut convertir cette chaîne en un flottant avec la fonction `float`. On peut alors convertir ce flottant en un entier avec la fonction `int`."
   ]
  },
  {
   "cell_type": "code",
   "execution_count": null,
   "metadata": {},
   "outputs": [],
   "source": [
    "chaine = '3407.0'\n",
    "flottant = float(chaine) # la variable flottant est un flottant (type float) égal à 3407.0\n",
    "print(flottant)\n",
    "entier = int(flottant) # la variable entier est un entier (type int) égal à 3407\n",
    "print(entier)"
   ]
  },
  {
   "cell_type": "markdown",
   "metadata": {},
   "source": [
    "On peut convertir directement la chaîne en combinant les deux fonctions."
   ]
  },
  {
   "cell_type": "code",
   "execution_count": null,
   "metadata": {},
   "outputs": [],
   "source": [
    "chaine = '3407.0'\n",
    "e = int(float(chaine))\n",
    "e"
   ]
  },
  {
   "cell_type": "markdown",
   "metadata": {},
   "source": [
    "**Question 6** : Recopiez et modifiez le script de la question précédente pour que les chaînes de caractères associées à la clé `'population'` soient directement converties en des entiers."
   ]
  },
  {
   "cell_type": "code",
   "execution_count": null,
   "metadata": {},
   "outputs": [],
   "source": [
    "# à vous de jouer !\n"
   ]
  },
  {
   "cell_type": "markdown",
   "metadata": {},
   "source": [
    "Si vous êtes arrivés jusque là, bravo ! Vous allez maintenant pouvoir travailler sur cette table appelée `table_communes`."
   ]
  },
  {
   "cell_type": "markdown",
   "metadata": {},
   "source": [
    "**Question 7** : Utilisez cette table `table_communes` pour construire une nouvelle table `grosses_communes`contenant toutes les communes de la région ayant plus de 50 000 habitants (en 2015)."
   ]
  },
  {
   "cell_type": "code",
   "execution_count": null,
   "metadata": {},
   "outputs": [],
   "source": [
    "# à vous de jouer !\n"
   ]
  },
  {
   "cell_type": "markdown",
   "metadata": {},
   "source": [
    "**Question 8** : Utilisez la table `table_communes` pour construire une nouvelle table `communes_moyennes` contenant toutes les communes de la région ayant entre 10 000 et 50 000 habitants."
   ]
  },
  {
   "cell_type": "code",
   "execution_count": null,
   "metadata": {},
   "outputs": [],
   "source": [
    "# à vous de jouer !\n"
   ]
  },
  {
   "cell_type": "markdown",
   "metadata": {},
   "source": [
    "**Question 9** : Utilisez la table `table_communes` pour construire une nouvelle table `petites_communes_ML` contenant toutes les communes de Maine-et-Loire ayant entre 2000 et 5000 habitants."
   ]
  },
  {
   "cell_type": "code",
   "execution_count": null,
   "metadata": {},
   "outputs": [],
   "source": [
    "# à vous de jouer !\n"
   ]
  },
  {
   "cell_type": "markdown",
   "metadata": {},
   "source": [
    "## Partie C : Rechercher et calculer dans la table\n",
    "\n",
    "**Question 10** : Quel est le rôle de la fonction suivante ? *Répondez juste en analysant son code, mais sans l'appeler*."
   ]
  },
  {
   "cell_type": "code",
   "execution_count": null,
   "metadata": {},
   "outputs": [],
   "source": [
    "def fonction_mystere(nom, table_communes):\n",
    "    ''' nom est une chaîne de caractères et table_communes est un tableau de dictionnaires '''\n",
    "    for c in table_communes:\n",
    "        if c['nom'] == nom:\n",
    "            return c['population']\n",
    "    return None"
   ]
  },
  {
   "cell_type": "markdown",
   "metadata": {},
   "source": [
    "*Réponse* :"
   ]
  },
  {
   "cell_type": "markdown",
   "metadata": {},
   "source": [
    "**Question 11** : En vous inspirant de la question précédente, écrivez une fonction `departement_de(nom, table_communes)` qui renvoie le département d'une commune appelée `nom` de `tables_communes`."
   ]
  },
  {
   "cell_type": "code",
   "execution_count": null,
   "metadata": {},
   "outputs": [],
   "source": [
    "# à vous de jouer !\n"
   ]
  },
  {
   "cell_type": "markdown",
   "metadata": {},
   "source": [
    "**Question 12** : Ecrivez une fonction `nb_communes_ML` qui prend en paramètre la table `table_communes` et qui renvoie le nombre de communes du département du Maine-et-Loire "
   ]
  },
  {
   "cell_type": "code",
   "execution_count": null,
   "metadata": {},
   "outputs": [],
   "source": [
    "# à vous de jouer !\n"
   ]
  },
  {
   "cell_type": "markdown",
   "metadata": {},
   "source": [
    "## Partie D : Ecriture dans un fichier CSV\n",
    "\n",
    "**Question 13** : Ecrivez dans un fichier CSV une table contenant toutes les communes du Maine-et-Loire ayant plus de 5000 habitants. Ouvrez ensuite ce fichier avec un tableur pour en vérifier le contenu."
   ]
  },
  {
   "cell_type": "code",
   "execution_count": null,
   "metadata": {},
   "outputs": [],
   "source": [
    "# à vous de jouer !\n"
   ]
  },
  {
   "cell_type": "markdown",
   "metadata": {},
   "source": [
    "---\n",
    "**Références**\n",
    "- Numérique et Sciences Informatiques, 1re, T. BALABONSKI, S. CONCHON, J.-C. FILLIATRE, K. NGUYEN, éditions ELLIPSES : [Site du livre](https://www.nsi-premiere.fr/) pour l'idée de l'exercice 1.\n",
    "\n",
    "---\n",
    "Germain BECKER & Sébastien POINT, Lycée Mounier, ANGERS ![Licence Creative Commons](https://i.creativecommons.org/l/by-nc-sa/4.0/88x31.png)"
   ]
  }
 ],
 "metadata": {
  "kernelspec": {
   "display_name": "Python 3",
   "language": "python",
   "name": "python3"
  },
  "language_info": {
   "codemirror_mode": {
    "name": "ipython",
    "version": 3
   },
   "file_extension": ".py",
   "mimetype": "text/x-python",
   "name": "python",
   "nbconvert_exporter": "python",
   "pygments_lexer": "ipython3",
   "version": "3.7.3"
  }
 },
 "nbformat": 4,
 "nbformat_minor": 2
}
