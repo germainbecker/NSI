{
 "cells": [
  {
   "cell_type": "markdown",
   "metadata": {},
   "source": [
    "Tableaux : Activités\n",
    "===\n",
    "\n",
    "# Exercices d'application directe\n",
    "\n",
    "## Exercice 1\n",
    "\n",
    "1. Quelle instruction permet d'afficher les nombres 5 et 20 de `tab1` ?"
   ]
  },
  {
   "cell_type": "code",
   "execution_count": null,
   "metadata": {},
   "outputs": [],
   "source": [
    "tab1 = [1,5,10,20] # un tableau d'entiers\n",
    "# à compléter\n"
   ]
  },
  {
   "cell_type": "markdown",
   "metadata": {},
   "source": [
    "2. Quelle instruction permet d'afficher le numéro de téléphone de `tab3` ?"
   ]
  },
  {
   "cell_type": "code",
   "execution_count": null,
   "metadata": {},
   "outputs": [],
   "source": [
    "tab3 = [\"Richard\", \"Baptiste\", \"0611111111\"] # un tableau de chaînes de caractères\n",
    "# à compléter\n"
   ]
  },
  {
   "cell_type": "markdown",
   "metadata": {},
   "source": [
    "3. Quelle instruction permet d'afficher les premier et troisième booléens de `tab4` ?"
   ]
  },
  {
   "cell_type": "code",
   "execution_count": null,
   "metadata": {},
   "outputs": [],
   "source": [
    "tab4 = [True, (10 < 12), (\"alpha\" >= \"beta\")] # un tableau de booléens\n",
    "# à compléter\n"
   ]
  },
  {
   "cell_type": "markdown",
   "metadata": {},
   "source": [
    "4. Quelle instruction permet de créer un tableau de taille 100 composé uniquement de 1 ?"
   ]
  },
  {
   "cell_type": "code",
   "execution_count": null,
   "metadata": {},
   "outputs": [],
   "source": [
    "# à compléter\n"
   ]
  },
  {
   "cell_type": "markdown",
   "metadata": {},
   "source": [
    "## Exercice 2\n",
    "\n",
    "On a mémorisé dans un tableau `contact` des informations sur une personne. Le nouveau numéro de téléphone de Baptiste est : 06 22 22 22 22. Quelle instruction permet de modifier le numéro de téléphone de Baptiste dans le tableau suivant ?"
   ]
  },
  {
   "cell_type": "code",
   "execution_count": null,
   "metadata": {},
   "outputs": [],
   "source": [
    "contact = [\"Richard\", \"Baptiste\", \"0611111111\"]\n",
    "# à compléter\n"
   ]
  },
  {
   "cell_type": "markdown",
   "metadata": {},
   "source": [
    "**Remarque :** il était impossible de faire cela avec un tuple !"
   ]
  },
  {
   "cell_type": "markdown",
   "metadata": {},
   "source": [
    "## Exercice 3\n",
    "\n",
    "On considère la variable `repertoire` suivante."
   ]
  },
  {
   "cell_type": "code",
   "execution_count": null,
   "metadata": {},
   "outputs": [],
   "source": [
    "repertoire = [('Michel', '0210101010'), ('Marjorie', '0211111111'), ('Perrine', '0212121212')]"
   ]
  },
  {
   "cell_type": "markdown",
   "metadata": {},
   "source": [
    "1. Quel est le type de la variable `repertoire`?\n",
    "2. Quel est le type de la variable `repertoire[0]`?\n",
    "3. Qu'affiche l'instruction `repertoire[1][1]` ?\n",
    "4. Quelle instruction permet d'accéder au numéro de téléphone de Michel ?\n",
    "5. Quel est le type de la variable `repertoire[2][0]`?"
   ]
  },
  {
   "cell_type": "markdown",
   "metadata": {},
   "source": [
    "*Réponses* :\n",
    "\n"
   ]
  },
  {
   "cell_type": "markdown",
   "metadata": {},
   "source": [
    "## Exercice 4 (Vrai / Faux)\n",
    "\n",
    "Si on définit la variable ``couleur`` par :\n",
    "\n",
    "```python\n",
    "couleur = [\"bleu\", \"vert\", \"rouge\", \"marron\"]\n",
    "```\n",
    "\n",
    "alors :\n",
    "\n",
    "1. L'index de ``couleur`` est 5 ?\n",
    "2. L'index de ``\"marron\"`` est 3 ?\n",
    "3. L'index de ``\"vert\"`` est 2 ?"
   ]
  },
  {
   "cell_type": "markdown",
   "metadata": {},
   "source": [
    "*Réponses* :\n",
    "\n"
   ]
  },
  {
   "cell_type": "markdown",
   "metadata": {},
   "source": [
    "## Exercice 5\n",
    "\n",
    "Complétez la fonction suivante pour qu'elle échange les valeurs d'index `i` et `j` du tableau `tab`."
   ]
  },
  {
   "cell_type": "code",
   "execution_count": null,
   "metadata": {},
   "outputs": [],
   "source": [
    "def echange(tab,i,j):\n",
    "    # à compléter\n",
    "    \n",
    "    \n",
    "    return tab\n",
    "\n",
    "# Tests\n",
    "T = [3, 8, 12, 9, 56, 14, 22, 7, 13, 41]\n",
    "echange(T, 2, 4)\n",
    "T"
   ]
  },
  {
   "cell_type": "markdown",
   "metadata": {},
   "source": [
    "## Exercice 6\n",
    "\n",
    "Répondez aux questions suivantes **puis** exécutez la cellule pour vérifier.\n",
    "\n",
    "1. Quel est le tableau construit par les instructions suivantes ?"
   ]
  },
  {
   "cell_type": "code",
   "execution_count": null,
   "metadata": {},
   "outputs": [],
   "source": [
    "t1 = [0]*10\n",
    "for i in range(10):\n",
    "    t1[i] = i\n",
    "t1"
   ]
  },
  {
   "cell_type": "markdown",
   "metadata": {},
   "source": [
    "2. Quel est le tableau construit par les instructions suivantes ?"
   ]
  },
  {
   "cell_type": "code",
   "execution_count": null,
   "metadata": {},
   "outputs": [],
   "source": [
    "t2 = [i+1 for i in range(8)]\n",
    "t2"
   ]
  },
  {
   "cell_type": "markdown",
   "metadata": {},
   "source": [
    "3. Quel est le tableau construit par les instructions suivantes ?"
   ]
  },
  {
   "cell_type": "code",
   "execution_count": null,
   "metadata": {},
   "outputs": [],
   "source": [
    "t3 = [i*i for i in range(5, 10)]\n",
    "t3"
   ]
  },
  {
   "cell_type": "markdown",
   "metadata": {},
   "source": [
    "4. Quel est le tableau construit par les instructions suivantes ?"
   ]
  },
  {
   "cell_type": "code",
   "execution_count": null,
   "metadata": {},
   "outputs": [],
   "source": [
    "t4 = [0]*50\n",
    "for i in range(len(t4)):\n",
    "    t4[i] = i % 2\n",
    "t4"
   ]
  },
  {
   "cell_type": "markdown",
   "metadata": {},
   "source": [
    "## Exercice 7\n",
    "\n",
    "On rappelle que l'on peut construire un tableau en utilisant une boucle `for` (en ayant au préalable créé un tableau de la bonne taille avec une valeur arbitraire) ou en le définissant par compréhension.\n",
    "\n",
    "Utilisez les deux méthodes pour construire les tableaux demandés.\n",
    "\n",
    "1. Un tableau qui contient tous les entiers compris entre 0 et 1000.\n",
    "2. Un tableau qui contient tous les entiers compris entre 5 et 15.\n",
    "3. Un tableau qui contient tous les nombres pairs compris entre 0 et 50.\n",
    "4. Un tableau qui contient les carrés de tous les entiers compris entre 1 et 100 (c'est-à-dire 1, 4, 9, 16, etc.)"
   ]
  },
  {
   "cell_type": "code",
   "execution_count": null,
   "metadata": {},
   "outputs": [],
   "source": [
    "# Question 1\n"
   ]
  },
  {
   "cell_type": "code",
   "execution_count": null,
   "metadata": {},
   "outputs": [],
   "source": [
    "# Question 2\n"
   ]
  },
  {
   "cell_type": "code",
   "execution_count": null,
   "metadata": {},
   "outputs": [],
   "source": [
    "# Question 3\n"
   ]
  },
  {
   "cell_type": "code",
   "execution_count": null,
   "metadata": {},
   "outputs": [],
   "source": [
    "# Question 4\n"
   ]
  },
  {
   "cell_type": "markdown",
   "metadata": {},
   "source": [
    "## Exercice 8\n",
    "\n",
    "On considère le tableau `t` suivant."
   ]
  },
  {
   "cell_type": "code",
   "execution_count": null,
   "metadata": {},
   "outputs": [],
   "source": [
    "t = [0, 2, 4, 6, 8, 10]"
   ]
  },
  {
   "cell_type": "markdown",
   "metadata": {},
   "source": [
    "1. Ecrivez un programme qui parcourt *par indice* le tableau et affiche tous ses éléments."
   ]
  },
  {
   "cell_type": "code",
   "execution_count": null,
   "metadata": {},
   "outputs": [],
   "source": []
  },
  {
   "cell_type": "markdown",
   "metadata": {},
   "source": [
    "2. Ecrivez un programme qui parcourt *par valeur* le tableau et affiche ses éléments."
   ]
  },
  {
   "cell_type": "code",
   "execution_count": null,
   "metadata": {},
   "outputs": [],
   "source": []
  },
  {
   "cell_type": "markdown",
   "metadata": {},
   "source": [
    "## Exercice 9\n",
    "\n",
    "On considère le tableau défini par compréhension suivant."
   ]
  },
  {
   "cell_type": "code",
   "execution_count": null,
   "metadata": {},
   "outputs": [],
   "source": [
    "T = [i for i in range(15)]"
   ]
  },
  {
   "cell_type": "markdown",
   "metadata": {},
   "source": [
    "1. Que contient le tableau `T` ?\n",
    "2. Ecrivez un programme qui parcourt le tableau `T` et qui affiche uniquement les multiples de 2 qu'il contient."
   ]
  },
  {
   "cell_type": "code",
   "execution_count": null,
   "metadata": {},
   "outputs": [],
   "source": []
  },
  {
   "cell_type": "markdown",
   "metadata": {},
   "source": [
    "## Exercice 10\n",
    "\n",
    "Écrivez un programme qui parcourt le tableau `notes` suivant et qui compte le nombre de notes supérieures ou égales à la moyenne."
   ]
  },
  {
   "cell_type": "code",
   "execution_count": null,
   "metadata": {},
   "outputs": [],
   "source": [
    "notes = [15, 13.5, 9.5, 12, 11, 18, 7, 10, 13]\n",
    "# à compléter\n"
   ]
  },
  {
   "cell_type": "markdown",
   "metadata": {},
   "source": [
    "## Exercice 11\n",
    "\n",
    "Voici les premières notes de l'année obtenues par un élève en NSI :\n",
    "\n",
    "| **Note** | **coefficient** |\n",
    "| ----------- | ------------ |\n",
    "| 15 | 1 |\n",
    "| 13 | 2 |\n",
    "| 8 | 1 |\n",
    "| 18 | 1 |\n",
    "\n",
    "\n",
    "1. Ces notes et coefficients sont d'abord stockées dans deux tableaux comme ci-dessous. Quelle instruction permet d'accéder la troisième note ? Quelle instruction permet d'accéder au coefficient de la deuxième note ?"
   ]
  },
  {
   "cell_type": "code",
   "execution_count": null,
   "metadata": {},
   "outputs": [],
   "source": [
    "notes = [15, 13, 8, 18]\n",
    "coeff = [1, 2, 1, 1]\n",
    "# à compléter\n"
   ]
  },
  {
   "cell_type": "markdown",
   "metadata": {},
   "source": [
    "2. Ces notes et coefficient sont maintenant stockées dans un tableau de tableaux. Quelle instruction permet d'accéder à la troisième paire note-coefficient ? Quelle instruction permet d'accéder la troisième note ? Quelle instruction permet d'accéder au coefficient de la deuxième note ?"
   ]
  },
  {
   "cell_type": "code",
   "execution_count": null,
   "metadata": {},
   "outputs": [],
   "source": [
    "notes_coeff = [[15, 1], [13, 2], [8, 1], [18, 1]]\n",
    "# à compléter\n"
   ]
  },
  {
   "cell_type": "markdown",
   "metadata": {},
   "source": [
    "## Exercice 12\n",
    "\n",
    "Répondez aux questions suivantes **puis** exécutez la cellule pour vérifier.\n",
    "\n",
    "1. Quel est le tableau construit par compréhension de la façon suivante ?"
   ]
  },
  {
   "cell_type": "code",
   "execution_count": null,
   "metadata": {},
   "outputs": [],
   "source": [
    "tab = [[j**2 for j in range(5)] for i in range(3)]\n",
    "tab"
   ]
  },
  {
   "cell_type": "markdown",
   "metadata": {},
   "source": [
    "2. Quel est le tableau construit par compréhension de la façon suivante ?"
   ]
  },
  {
   "cell_type": "code",
   "execution_count": null,
   "metadata": {},
   "outputs": [],
   "source": [
    "tab = [[2*i + j for j in range(2)] for i in range(4)]\n",
    "tab"
   ]
  },
  {
   "cell_type": "markdown",
   "metadata": {},
   "source": [
    "## Exercice 13\n",
    "\n",
    "On a mémorise dans le tableau `grille` l'état d'un jeu de morpion. Voici le contenu du jeu après deux tours."
   ]
  },
  {
   "cell_type": "code",
   "execution_count": null,
   "metadata": {},
   "outputs": [],
   "source": [
    "grille = [['X', '.', 'O'],\n",
    "           ['.', '.', 'O'],\n",
    "           ['.', '.', 'X']]"
   ]
  },
  {
   "cell_type": "markdown",
   "metadata": {},
   "source": [
    "1. C'est au joueur &laquo; O &raquo; de jouer et il compte mettre un `'O'` au centre de la grille. Quelle instruction faut-il écrire ? Vérifiez."
   ]
  },
  {
   "cell_type": "code",
   "execution_count": null,
   "metadata": {},
   "outputs": [],
   "source": [
    "# à compléter\n"
   ]
  },
  {
   "cell_type": "markdown",
   "metadata": {},
   "source": [
    "2. Vous avez du constater qu'en affichant le tableau, celui ne s'affiche pas comme on souhaiterait (comme la grille du jeu). Pour pallier à ce souci, il suffit de parcourir le tableau ligne par ligne et afficher cette ligne. Ecrivez le programme correspondant."
   ]
  },
  {
   "cell_type": "code",
   "execution_count": null,
   "metadata": {},
   "outputs": [],
   "source": [
    "# à compléter\n"
   ]
  },
  {
   "cell_type": "markdown",
   "metadata": {},
   "source": [
    "Parcours tableaux à plusieurs dimensions puis exercice plus \"compliqués\" et/ou concrets."
   ]
  },
  {
   "cell_type": "markdown",
   "metadata": {},
   "source": [
    "## Exercice 14\n",
    "\n",
    "Complétez le programme ci-dessous afin d'afficher tous les éléments, un à un, du tableau donné."
   ]
  },
  {
   "cell_type": "code",
   "execution_count": null,
   "metadata": {},
   "outputs": [],
   "source": [
    "repertoire = [['Michel', '0210101010'], ['Marjorie', '0211111111'], ['Perrine', '0212121212']]\n",
    "# à compléter\n"
   ]
  },
  {
   "cell_type": "markdown",
   "metadata": {},
   "source": [
    "# Exercices plus approfondis\n",
    "\n"
   ]
  },
  {
   "cell_type": "markdown",
   "metadata": {},
   "source": [
    "## Exercice 15\n",
    "\n",
    "Ecrivez une fonction `ajout(v, T)` qui crée un nouveau tableau contenant d'abord tous les éléménts du tableau `T` puis `v`, l'élément `v`."
   ]
  },
  {
   "cell_type": "code",
   "execution_count": null,
   "metadata": {},
   "outputs": [],
   "source": [
    "# à compléter\n"
   ]
  },
  {
   "cell_type": "markdown",
   "metadata": {},
   "source": [
    "## Exercice 16\n",
    "\n",
    "Ecrivez une fonction `concatenation(t1, t2)` qui crée un nouveau tableau contenant, dans l'ordre, tous les éléments du tableau `t1` puis tous les éléments du tableau `t2`."
   ]
  },
  {
   "cell_type": "code",
   "execution_count": null,
   "metadata": {},
   "outputs": [],
   "source": [
    "# à compléter\n"
   ]
  },
  {
   "cell_type": "markdown",
   "metadata": {},
   "source": [
    "## Exercice 17\n",
    "\n",
    "Ecrivez une fonction `somme(t)` qui renvoie la somme des éléments du tableau d'entiers `t`."
   ]
  },
  {
   "cell_type": "code",
   "execution_count": null,
   "metadata": {},
   "outputs": [],
   "source": [
    "# à compléter\n"
   ]
  },
  {
   "cell_type": "markdown",
   "metadata": {},
   "source": [
    "## Exercice 18\n",
    "\n",
    "Une image est constituée de pixels, chaque pixel étant défini par un tuple (R,V,B) (nuances de rouge, vert et bleu). Il est possible de stocker la série de pixels d'une image dans un tableau (= liste Python) grâce aux instructions suivantes :"
   ]
  },
  {
   "cell_type": "code",
   "execution_count": null,
   "metadata": {},
   "outputs": [],
   "source": [
    "from PIL import Image # on importe le module Image de la bibliothèque PIL\n",
    "img = Image.open(\"data/perroquet.jpg\")  # on ouvre l'image perroquet.jpg placée dans le répertoire data\n",
    "pixels = list(img.getdata())      # on récupère les données de l'image que l'on converti en une liste python et que l'on stocke dans le tableau 'pixels'\n",
    "display(img)  # pour afficher l'image\n",
    "\n",
    "print(pixels) # pour afficher le tableau 'pixels' contenant tous les pixels de l'image\n",
    "print(\"le 4ème pixel est : \", pixels[3]) # pour afficher le 4ème pixel du tableau\n",
    "print(\"la composante Rouge du 4ème pixel est : \", pixels[3][0]) # pour afficher les composantes R, V et B du 4ème pixel\n",
    "print(\"la composante Verte du 4ème pixel est : \", pixels[3][1])\n",
    "print(\"la composante Bleue du 4ème pixel est : \", pixels[3][2])\n",
    "img.close() # on ferme le flux"
   ]
  },
  {
   "cell_type": "markdown",
   "metadata": {},
   "source": [
    "On peut alors appliquer des transformations sur ces pixels en manipulant ce tableau.\n",
    "Par exemple, on peut appliquer un filtre rouge à notre image en conservant uniquement la nuance de rouge de chaque pixel et en remplaçant les composantes verte et bleue par 0."
   ]
  },
  {
   "cell_type": "code",
   "execution_count": null,
   "metadata": {},
   "outputs": [],
   "source": [
    "from PIL import Image # on importe le module Image de la bibliothèque PIL\n",
    "img = Image.open(\"data/perroquet.jpg\")\n",
    "pixels = list(img.getdata()) \n",
    "display(img)\n",
    "\n",
    "# TRANSFORMATION DE L'IMAGE\n",
    "new_pixels = [0]*len(pixels) # on crée un tableau de la même taille que 'pixels'\n",
    "for i in range(len(pixels)):\n",
    "    new_pixels[i] = (pixels[i][0],0,0) # chaque élément de 'new_pixels' est l'élément (R,0,0) de 'pixels'\n",
    "img.putdata(new_pixels) # on copie cette nouvelle liste de pixels dans les données de 'img'\n",
    "\n",
    "# RESULTAT\n",
    "display(img) # on affiche l'image 'img' ainsi transformée\n",
    "print(new_pixels) # on affiche les valeurs des nouveaux pixels pour comprendre la transformation\n",
    "img.close() # on ferme le flux"
   ]
  },
  {
   "cell_type": "markdown",
   "metadata": {},
   "source": [
    "1. Remplacez les lignes 7 à 9 du programme précédent afin que le tableau `new_pixels` soit créé par compréhension."
   ]
  },
  {
   "cell_type": "code",
   "execution_count": null,
   "metadata": {},
   "outputs": [],
   "source": [
    "from PIL import Image # on importe le module Image de la bibliothèque PIL\n",
    "img = Image.open(\"data/perroquet.jpg\")\n",
    "pixels = list(img.getdata()) \n",
    "display(img)\n",
    "\n",
    "# TRANSFORMATION DE L'IMAGE\n",
    "# ---------------\n",
    "# à compléter\n",
    "# ---------------\n",
    "\n",
    "img.putdata(new_pixels) # on copie cette nouvelle liste de pixels dans les données de 'img'\n",
    "\n",
    "# RESULTAT\n",
    "display(img) # on affiche l'image 'img' ainsi transformée\n",
    "print(new_pixels) # on affiche les valeurs des nouveaux pixels pour vérifier\n",
    "img.close() # on ferme le flux"
   ]
  },
  {
   "cell_type": "markdown",
   "metadata": {},
   "source": [
    "2. En vous inspirant de ce qui vient d'être fait, écrivez un programme permettant d'appliquer un filtre vert à l'image \"perroquet.jpg\"."
   ]
  },
  {
   "cell_type": "code",
   "execution_count": null,
   "metadata": {},
   "outputs": [],
   "source": [
    "# à compléter\n"
   ]
  },
  {
   "cell_type": "markdown",
   "metadata": {},
   "source": [
    "---\n",
    "\n",
    "**Ressources :**\n",
    "\n",
    "- Documents ressources du DIU EIL, Université de Nantes.\n",
    "- Spécialité NSI 1re, T. BALABONSKI, S. CONCHON, J.-C. FILLIATRE, K. NGUYEN, éditions ELLIPSES, pour les exercices 14 et 15.\n",
    "\n",
    "---\n",
    "Germain BECKER & Sébastien POINT, Lycée Mounier, ANGERS ![Licence Creative Commons](https://i.creativecommons.org/l/by-nc-sa/4.0/88x31.png)"
   ]
  }
 ],
 "metadata": {
  "kernelspec": {
   "display_name": "Python 3",
   "language": "python",
   "name": "python3"
  },
  "language_info": {
   "codemirror_mode": {
    "name": "ipython",
    "version": 3
   },
   "file_extension": ".py",
   "mimetype": "text/x-python",
   "name": "python",
   "nbconvert_exporter": "python",
   "pygments_lexer": "ipython3",
   "version": "3.7.10"
  }
 },
 "nbformat": 4,
 "nbformat_minor": 2
}
