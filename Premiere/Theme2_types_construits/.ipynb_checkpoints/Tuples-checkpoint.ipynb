{
 "cells": [
  {
   "cell_type": "markdown",
   "metadata": {},
   "source": [
    "# Définition"
   ]
  },
  {
   "cell_type": "markdown",
   "metadata": {},
   "source": [
    "<div class=\"important\">\n",
    "\n",
    "Les **tuples** sont des séquences qui permettent de regrouper plusieurs informations sous un seul nom et ainsi de faire abstraction de la représentation.\n",
    "\n",
    "</div>"
   ]
  },
  {
   "cell_type": "markdown",
   "metadata": {},
   "source": [
    "Les termes *tuple* ou *p-uplet* sont utilisés indifféremment pour désigner cette généralisation du *couple*, *triplet*, *quadruplet* ...\n",
    "\n",
    "# Création d'un tuple\n",
    "\n",
    "Pour définir un tuple, on utilise des parenthèses comme ci-dessous."
   ]
  },
  {
   "cell_type": "code",
   "execution_count": 1,
   "metadata": {},
   "outputs": [
    {
     "name": "stdout",
     "output_type": "stream",
     "text": [
      "<class 'tuple'>\n"
     ]
    }
   ],
   "source": [
    "coord = (2, -3)\n",
    "print(type(coord))"
   ]
  },
  {
   "cell_type": "markdown",
   "metadata": {},
   "source": [
    "# Accéder aux éléments d'un tuple\n",
    "\n",
    "On peut facilement accéder aux différents élements d'un tuple en utilisant des crochets et l'index de l'élément (n'oubliez pas que le premier élément est celui d'index 0)."
   ]
  },
  {
   "cell_type": "code",
   "execution_count": 2,
   "metadata": {},
   "outputs": [
    {
     "name": "stdout",
     "output_type": "stream",
     "text": [
      "2\n",
      "-3\n"
     ]
    }
   ],
   "source": [
    "coord = (2, -3)\n",
    "print(coord[0])\n",
    "print(coord[1])"
   ]
  },
  {
   "cell_type": "code",
   "execution_count": 2,
   "metadata": {},
   "outputs": [
    {
     "name": "stdout",
     "output_type": "stream",
     "text": [
      "Le créateur de Python est né le  31/01/1956\n"
     ]
    }
   ],
   "source": [
    "personne = ('Guido', 'van Rossum', '31/01/1956')\n",
    "print(\"Le créateur de Python est né le \", personne[2])"
   ]
  },
  {
   "cell_type": "markdown",
   "metadata": {},
   "source": [
    "**Remarques importantes** :\n",
    "\n",
    "* Les tuples ne sont pas **mutables**, c'est-à-dire qu'on ne peut pas les modifier.\n",
    "* Les tuples sont de taille **statique** : on peut pas ajouter une composante à un tuple existant.\n",
    "* Malgré la notation indicée, il ne faut pas les confondre avec les tableaux que nous allons étudier maintenant."
   ]
  },
  {
   "cell_type": "markdown",
   "metadata": {},
   "source": [
    "**Ressources :**\n",
    "\n",
    "- Documents ressources du DIU EIL, Université de Nantes, Christophe DECLERCQ.\n",
    "\n",
    "---\n",
    "Germain BECKER & Sébastien POINT, Lycée Mounier, ANGERS ![Licence Creative Commons](https://i.creativecommons.org/l/by-nc-sa/4.0/88x31.png)"
   ]
  }
 ],
 "metadata": {
  "kernelspec": {
   "display_name": "Python 3",
   "language": "python",
   "name": "python3"
  },
  "language_info": {
   "codemirror_mode": {
    "name": "ipython",
    "version": 3
   },
   "file_extension": ".py",
   "mimetype": "text/x-python",
   "name": "python",
   "nbconvert_exporter": "python",
   "pygments_lexer": "ipython3",
   "version": "3.7.3"
  }
 },
 "nbformat": 4,
 "nbformat_minor": 2
}
