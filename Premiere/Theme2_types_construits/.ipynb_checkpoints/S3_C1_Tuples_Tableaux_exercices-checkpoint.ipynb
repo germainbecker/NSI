{
 "cells": [
  {
   "cell_type": "markdown",
   "metadata": {},
   "source": [
    "# <center>EXERCICES : tuples et tableaux</center> \n",
    "***"
   ]
  },
  {
   "cell_type": "markdown",
   "metadata": {},
   "source": [
    "# Exercices de bases\n",
    "\n",
    "## Exercice 1 :\n",
    "On considère la variable ``repertoire`` suivante."
   ]
  },
  {
   "cell_type": "code",
   "execution_count": 2,
   "metadata": {},
   "outputs": [],
   "source": [
    "repertoire = [('Michel', '0210101010'), ('Marjorie', '0211111111'), ('Perrine', '0212121212')]"
   ]
  },
  {
   "cell_type": "markdown",
   "metadata": {},
   "source": [
    "1. Quel est le type de la variable ``repertoire``?\n",
    "2. Quel est le type de la variable ``repertoire[0]``?\n",
    "3. Qu'affiche l'instruction ``repertoire[1][1]`` ?\n",
    "4. Quelle instruction permet d'accéder au numéro de téléphone de Michel ?\n",
    "5. Quel est le type de la variable ``repertoire[2][1]``?"
   ]
  },
  {
   "cell_type": "markdown",
   "metadata": {},
   "source": [
    "## Exercice 2 : Vrai / Faux\n",
    "Si on définit la variable ``couleur`` par :"
   ]
  },
  {
   "cell_type": "code",
   "execution_count": 3,
   "metadata": {},
   "outputs": [],
   "source": [
    "couleur = [\"bleu\", \"vert\", \"rouge\", \"marron\"]"
   ]
  },
  {
   "cell_type": "markdown",
   "metadata": {},
   "source": [
    "alors:\n",
    "1. L'index de ``couleur`` est 5 ?\n",
    "2. L'index de ``\"marron\"`` est 3 ?\n",
    "3. L'index de ``\"vert\"`` est 2 ?"
   ]
  },
  {
   "cell_type": "markdown",
   "metadata": {},
   "source": [
    "## Exercice 3 :\n",
    "1. Quel est le tableau construit par les instructions suivantes ?"
   ]
  },
  {
   "cell_type": "code",
   "execution_count": 5,
   "metadata": {},
   "outputs": [],
   "source": [
    "t1 = [0]*10\n",
    "for i in range(10):\n",
    "    t1[i] = i"
   ]
  },
  {
   "cell_type": "markdown",
   "metadata": {},
   "source": [
    "2. Quel est le tableau construit par les instructions suivantes ?"
   ]
  },
  {
   "cell_type": "code",
   "execution_count": 6,
   "metadata": {},
   "outputs": [],
   "source": [
    "t2 = [i+1 for i in range(8)]"
   ]
  },
  {
   "cell_type": "markdown",
   "metadata": {},
   "source": [
    "3. Quel est le tableau construit par les instructions suivantes ?"
   ]
  },
  {
   "cell_type": "code",
   "execution_count": 7,
   "metadata": {},
   "outputs": [],
   "source": [
    "t3 = [i*i for i in range(5, 10)]"
   ]
  },
  {
   "cell_type": "markdown",
   "metadata": {},
   "source": [
    "4. Quel est le tableau construit par les instructions suivantes ?"
   ]
  },
  {
   "cell_type": "code",
   "execution_count": 11,
   "metadata": {},
   "outputs": [],
   "source": [
    "t4 = [0]*50\n",
    "for i in range(len(t4)):\n",
    "    t4[i] = i % 2"
   ]
  },
  {
   "cell_type": "markdown",
   "metadata": {},
   "source": [
    "## Exercice 4 :"
   ]
  },
  {
   "cell_type": "markdown",
   "metadata": {},
   "source": [
    "1. Quel est le tableau construit par compréhension de la façon suivante ?"
   ]
  },
  {
   "cell_type": "code",
   "execution_count": 14,
   "metadata": {},
   "outputs": [],
   "source": [
    "tab = [[j**2 for j in range(5)] for i in range(3)]"
   ]
  },
  {
   "cell_type": "markdown",
   "metadata": {},
   "source": [
    "2. Quel est le tableau construit par compréhension de la façon suivante ?"
   ]
  },
  {
   "cell_type": "code",
   "execution_count": 16,
   "metadata": {},
   "outputs": [],
   "source": [
    "tab = [[2*i + j for j in range(2)] for i in range(4)]"
   ]
  },
  {
   "cell_type": "markdown",
   "metadata": {},
   "source": [
    "## Exercice 5 :"
   ]
  },
  {
   "cell_type": "markdown",
   "metadata": {},
   "source": [
    "Compléter le programme ci-dessous afin d'afficher tous les éléments, un à un, du tableau donné."
   ]
  },
  {
   "cell_type": "code",
   "execution_count": 18,
   "metadata": {},
   "outputs": [],
   "source": [
    "repertoire = [['Michel', '0210101010'], ['Marjorie', '0211111111'], ['Perrine', '0212121212']]\n",
    "# ---------------\n",
    "# à compléter\n",
    "# ---------------"
   ]
  },
  {
   "cell_type": "markdown",
   "metadata": {},
   "source": [
    "## Exercice 6 :\n",
    "Ecrire un programme qui crée un tableau à deux dimensions de taille 30 $\\times$ 30 contenant des entiers tirés au hasard entre 1 et 9999, puis l'affiche."
   ]
  },
  {
   "cell_type": "code",
   "execution_count": null,
   "metadata": {},
   "outputs": [],
   "source": []
  },
  {
   "cell_type": "markdown",
   "metadata": {},
   "source": [
    "## Exercice 7 :\n",
    "Ecrire une fonction ``ajout(x, T)`` qui crée un nouveau tableau contenant d'abord tous les éléménts du tableau ``T`` puis ``x``."
   ]
  },
  {
   "cell_type": "code",
   "execution_count": null,
   "metadata": {},
   "outputs": [],
   "source": []
  },
  {
   "cell_type": "markdown",
   "metadata": {},
   "source": [
    "## Exercice 8 :\n",
    "Ecrire une fonction ``concatenation(t1, t2)`` qui crée un nouveau tableau contenant, dans l'ordre, tous les éléments du tableau ``t1`` puis tous les éléments du tableau ``t2``."
   ]
  },
  {
   "cell_type": "code",
   "execution_count": null,
   "metadata": {},
   "outputs": [],
   "source": []
  },
  {
   "cell_type": "markdown",
   "metadata": {},
   "source": [
    "# Parcours séquentiel d'un tableau"
   ]
  },
  {
   "cell_type": "markdown",
   "metadata": {},
   "source": [
    "Les exercices qui suivent sont à faire après avoir traité le chapitre 2 de la séquence 3 sur le parcours séquentiel d'un tableau."
   ]
  },
  {
   "cell_type": "markdown",
   "metadata": {},
   "source": [
    "## Exercice 9 : Nombre d'occurences (IMPORTANT)\n",
    "Ecrire une fonction ``occurrences(x, T)`` qui renvoie le nombre d'occurences de la valeur ``x`` dans le tableau ``T``."
   ]
  },
  {
   "cell_type": "code",
   "execution_count": null,
   "metadata": {},
   "outputs": [],
   "source": []
  },
  {
   "cell_type": "markdown",
   "metadata": {},
   "source": [
    "## Exercice 10 : Recherche de doublons (IMPORTANT)\n",
    "On souhaite savoir si un tableau `T` d'éléments quelconques contient des doublons. Autrement dit, on souhaite savoir s'il existe deux indices `i` et `j` distincts tels que `T[i]` et `T[j]` sont égaux. \n",
    "\n",
    "Ecrire une fonction `doublon(T)` qui renvoie `True` s'il existe (au moins) un doublon dans `T` et `False` dans le cas contraire."
   ]
  },
  {
   "cell_type": "code",
   "execution_count": null,
   "metadata": {},
   "outputs": [],
   "source": []
  },
  {
   "cell_type": "markdown",
   "metadata": {},
   "source": [
    "## Exercice 11 :\n",
    "Ecrire un programme qui tire au hasard mille entiers entre 1 et 10 et affiche ensuite le nombre de fois que chaque nombre a été tiré. Relancer le programme plusieurs fois."
   ]
  },
  {
   "cell_type": "code",
   "execution_count": null,
   "metadata": {},
   "outputs": [],
   "source": []
  },
  {
   "cell_type": "markdown",
   "metadata": {},
   "source": [
    "## Exercice 12 :\n",
    "Ecrire une fonction ``miroir(tab)`` qui reçoit un tableau en argument et le modifie pour échanger le premier élément avec le dernier, le deuxième avec l'avant-dernier, etc. Dit autrement, on remplace le tableau par son image miroir. On pourra se servir de la fonction ``echange`` définie dans le notebook de cours."
   ]
  },
  {
   "cell_type": "code",
   "execution_count": null,
   "metadata": {},
   "outputs": [],
   "source": []
  },
  {
   "cell_type": "markdown",
   "metadata": {},
   "source": [
    "## Exercice 13 :\n",
    "Ecrire une fonction ``hamming(tab1, tab2)`` qui prend en paramètres deux tableaux de même taille et qui renvoie le nombre d'indices auxquels les deux tableaux diffèrent."
   ]
  },
  {
   "cell_type": "code",
   "execution_count": null,
   "metadata": {},
   "outputs": [],
   "source": []
  },
  {
   "cell_type": "markdown",
   "metadata": {},
   "source": [
    "**Ressources :**\n",
    "\n",
    "- Documents ressources du DIU EIL Nantes\n",
    "- Spécialité NSI 1re, T. BALABONSKI, S. CONCHON, J.-C. FILLIATRE, K. NGUYEN, éditions ELLIPSES\n",
    "- Numérique et Sciences Informatiques, Stéphane PASQUET, Interro des lycées, NATHAN"
   ]
  },
  {
   "cell_type": "markdown",
   "metadata": {},
   "source": [
    "---\n",
    "Germain BECKER & Sébastien POINT, Lycée Mounier, ANGERS ![Licence Creative Commons](https://i.creativecommons.org/l/by-nc-sa/4.0/88x31.png)"
   ]
  }
 ],
 "metadata": {
  "kernelspec": {
   "display_name": "Python 3",
   "language": "python",
   "name": "python3"
  },
  "language_info": {
   "codemirror_mode": {
    "name": "ipython",
    "version": 3
   },
   "file_extension": ".py",
   "mimetype": "text/x-python",
   "name": "python",
   "nbconvert_exporter": "python",
   "pygments_lexer": "ipython3",
   "version": "3.7.3"
  }
 },
 "nbformat": 4,
 "nbformat_minor": 2
}
