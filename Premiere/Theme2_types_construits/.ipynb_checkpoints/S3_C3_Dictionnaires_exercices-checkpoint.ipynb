{
 "cells": [
  {
   "cell_type": "markdown",
   "metadata": {},
   "source": [
    "# <center>EXERCICES : Dictionnaires</center> \n",
    "***"
   ]
  },
  {
   "cell_type": "markdown",
   "metadata": {},
   "source": [
    "# Exercice 1 :\n",
    "On considère le dictionnaire suivant qui contient différents fruits ainsi que leurs quantités."
   ]
  },
  {
   "cell_type": "code",
   "execution_count": 5,
   "metadata": {},
   "outputs": [],
   "source": [
    "fruits = {\"pommes\": 8, \"melons\": 3, \"poires\": 6}"
   ]
  },
  {
   "cell_type": "markdown",
   "metadata": {},
   "source": [
    "1. Quelle instruction permet d'afficher le nombre de melons ?"
   ]
  },
  {
   "cell_type": "code",
   "execution_count": 2,
   "metadata": {},
   "outputs": [
    {
     "data": {
      "text/plain": [
       "3"
      ]
     },
     "execution_count": 2,
     "metadata": {},
     "output_type": "execute_result"
    }
   ],
   "source": [
    "fruits[\"melons\"]"
   ]
  },
  {
   "cell_type": "markdown",
   "metadata": {},
   "source": [
    "2. On a acheté 16 clémentines et utilisé 4 pommes pour faire une tarte. Quelles instructions permettent de mettre à jour le dictionnaire ?"
   ]
  },
  {
   "cell_type": "code",
   "execution_count": 17,
   "metadata": {},
   "outputs": [
    {
     "data": {
      "text/plain": [
       "{'pommes': 4, 'melons': 3, 'poires': 6, 'clémentines': 16}"
      ]
     },
     "execution_count": 17,
     "metadata": {},
     "output_type": "execute_result"
    }
   ],
   "source": [
    "fruits[\"clémentines\"] = 16\n",
    "fruits[\"pommes\"] = 4\n",
    "fruits"
   ]
  },
  {
   "cell_type": "markdown",
   "metadata": {},
   "source": [
    "# Exercice 2 :\n",
    "1. Qu'affiche le programme suivant ?"
   ]
  },
  {
   "cell_type": "code",
   "execution_count": 18,
   "metadata": {},
   "outputs": [
    {
     "name": "stdout",
     "output_type": "stream",
     "text": [
      "pommes\n",
      "melons\n",
      "poires\n",
      "clémentines\n"
     ]
    }
   ],
   "source": [
    "fruits = {'pommes': 4, 'melons': 3, 'poires': 6, 'clémentines': 16}\n",
    "for c in fruits.keys():\n",
    "    print(c)"
   ]
  },
  {
   "cell_type": "markdown",
   "metadata": {},
   "source": [
    "2. Qu'affiche le programme suivant ?"
   ]
  },
  {
   "cell_type": "code",
   "execution_count": 19,
   "metadata": {},
   "outputs": [
    {
     "name": "stdout",
     "output_type": "stream",
     "text": [
      "pommes -> 4\n",
      "melons -> 3\n",
      "poires -> 6\n",
      "clémentines -> 16\n"
     ]
    }
   ],
   "source": [
    "fruits = {'pommes': 4, 'melons': 3, 'poires': 6, 'clémentines': 16}\n",
    "for cle, valeur in fruits.items():\n",
    "    print(cle, \"->\", valeur)"
   ]
  },
  {
   "cell_type": "markdown",
   "metadata": {},
   "source": [
    "3. Qu'affiche le programme suivant ?"
   ]
  },
  {
   "cell_type": "code",
   "execution_count": 20,
   "metadata": {},
   "outputs": [
    {
     "name": "stdout",
     "output_type": "stream",
     "text": [
      "4\n",
      "3\n",
      "6\n",
      "16\n"
     ]
    }
   ],
   "source": [
    "fruits = {'pommes': 4, 'melons': 3, 'poires': 6, 'clémentines': 16}\n",
    "for v in fruits.values():\n",
    "    print(v)"
   ]
  },
  {
   "cell_type": "markdown",
   "metadata": {},
   "source": [
    "# Exercice 3\n",
    "On considère qu'il faut ajouter un fruit sur la liste des courses s'il en reste 4 ou moins.<br>\n",
    "1. Ecrivez un programme qui affiche la liste des courses en considérant le dictionnaire suivant."
   ]
  },
  {
   "cell_type": "code",
   "execution_count": 21,
   "metadata": {},
   "outputs": [
    {
     "name": "stdout",
     "output_type": "stream",
     "text": [
      "pommes\n",
      "melons\n"
     ]
    }
   ],
   "source": [
    "fruits = {'pommes': 4, 'melons': 3, 'poires': 6, 'clémentines': 16}\n",
    "for fruit, quantite in fruits.items():\n",
    "    if quantite <= 4:\n",
    "        print(fruit)"
   ]
  },
  {
   "cell_type": "markdown",
   "metadata": {},
   "source": [
    "2. Ecrivez une fonction `liste_courses(fruits)` qui prend en paramètre un dictionnaire `fruits` et qui renvoie un tableau avec les fruits de la liste de courses. "
   ]
  },
  {
   "cell_type": "code",
   "execution_count": 37,
   "metadata": {},
   "outputs": [
    {
     "data": {
      "text/plain": [
       "['pommes', 'melons']"
      ]
     },
     "execution_count": 37,
     "metadata": {},
     "output_type": "execute_result"
    }
   ],
   "source": [
    "def liste_courses(fruits):\n",
    "    tab_courses = []\n",
    "    for fruit, quantite in fruits.items():\n",
    "        if quantite <= 4:\n",
    "            tab_courses.append(fruit)\n",
    "    return(tab_courses)\n",
    "\n",
    "fruits = {'pommes': 4, 'melons': 3, 'poires': 6, 'clémentines': 16}\n",
    "liste_courses(fruits)\n",
    "\n",
    "# OU PAR COMPREHENSION\n",
    "\n",
    "def liste_courses(fruits):\n",
    "    tab_courses = [f for f in fruits.keys() if fruits[f] <=4]\n",
    "    return(tab_courses)\n",
    "\n",
    "fruits = {'pommes': 4, 'melons': 3, 'poires': 6, 'clémentines': 16}\n",
    "liste_courses(fruits)"
   ]
  },
  {
   "cell_type": "markdown",
   "metadata": {},
   "source": [
    "# Exercice 4 : dictionnaire dont les valeurs sont des tuples, des dictionnaires"
   ]
  },
  {
   "cell_type": "code",
   "execution_count": null,
   "metadata": {},
   "outputs": [],
   "source": []
  },
  {
   "cell_type": "code",
   "execution_count": null,
   "metadata": {},
   "outputs": [],
   "source": []
  },
  {
   "cell_type": "markdown",
   "metadata": {},
   "source": [
    "# Exercice 5 :\n",
    "Le Scrabble est un jeu de société où l'on doit former des mots avec tirage aléatoire de lettres, chaque lettre valant un certain nombre de points. Le dictionnaire `scrabble` contient cette association entre une lettre et son nombre de points."
   ]
  },
  {
   "cell_type": "code",
   "execution_count": 23,
   "metadata": {},
   "outputs": [],
   "source": [
    "scrabble = {'A': 1, 'B': 3, 'C': 3, 'D': 2, 'E': 1, 'F': 4, 'G': 2, 'H': 4, 'I': 1, 'J': 8, 'K': 10, 'L': 1, 'M': 2, 'N': 1, 'O': 1, 'P': 3, 'Q': 8, 'R': 1, 'S': 1, 'T': 1, 'U': 1, 'V': 4, 'W': 10, 'X': 10, 'Y': 10, 'Z': 10}"
   ]
  },
  {
   "cell_type": "markdown",
   "metadata": {},
   "source": [
    "Ecrivez une fonction `points(mot)` qui renvoie le nombre de points au scrabble de `mot`, qui est une chaîne de caractères majuscules.\n",
    "\n",
    "*Par exemple, le mot \"ARBRE\" doit rapporter 7 points, le mot \"XYLOPHONE\" doit rapporter 32 points."
   ]
  },
  {
   "cell_type": "code",
   "execution_count": 29,
   "metadata": {},
   "outputs": [
    {
     "data": {
      "text/plain": [
       "32"
      ]
     },
     "execution_count": 29,
     "metadata": {},
     "output_type": "execute_result"
    }
   ],
   "source": [
    "def points(mot):\n",
    "    somme = 0\n",
    "    for lettre in mot:\n",
    "        somme = somme + scrabble[lettre]\n",
    "    return(somme)\n",
    "\n",
    "# TEST\n",
    "points(\"XYLOPHONE\")"
   ]
  },
  {
   "cell_type": "markdown",
   "metadata": {},
   "source": [
    "# Exercice 6\n",
    "On considère la variable `personnages` suivante qui réunit quelques informations sur des personnalités (les âges sont fictifs, vous l'aurez compris)."
   ]
  },
  {
   "cell_type": "code",
   "execution_count": 41,
   "metadata": {},
   "outputs": [],
   "source": [
    "personnages = [{'nom': 'Einstein', 'prénom': 'Albert', 'âge': '35', 'genre': 'm'},\n",
    "           {'nom': 'Hamilton', 'prénom': 'Margaret', 'âge': '23', 'genre': 'f'},\n",
    "           {'nom': 'Nelson', 'prénom': 'Ted', 'âge': '64', 'genre': 'm'},\n",
    "           {'nom': 'Curie', 'prénom': 'Marie', 'âge': '41', 'genre': 'f'}]"
   ]
  },
  {
   "cell_type": "markdown",
   "metadata": {},
   "source": [
    "1. Quel est le type de la variable `personnages`? Quel est le type des éléments de `personnages` ?"
   ]
  },
  {
   "cell_type": "markdown",
   "metadata": {},
   "source": [
    "Réponse : `personnages` est un tableau de dictionnaires"
   ]
  },
  {
   "cell_type": "markdown",
   "metadata": {},
   "source": [
    "2. Quelle instruction permet d'afficher le dictionnaire de Ted Nelson ?"
   ]
  },
  {
   "cell_type": "code",
   "execution_count": 42,
   "metadata": {},
   "outputs": [
    {
     "data": {
      "text/plain": [
       "{'nom': 'Nelson', 'prénom': 'Ted', 'âge': '64', 'genre': 'm'}"
      ]
     },
     "execution_count": 42,
     "metadata": {},
     "output_type": "execute_result"
    }
   ],
   "source": [
    "personnages[2]"
   ]
  },
  {
   "cell_type": "markdown",
   "metadata": {},
   "source": [
    "3. Quelle instruction permet d'afficher l'âge de Ted Nelson ?"
   ]
  },
  {
   "cell_type": "code",
   "execution_count": 43,
   "metadata": {},
   "outputs": [
    {
     "data": {
      "text/plain": [
       "'64'"
      ]
     },
     "execution_count": 43,
     "metadata": {},
     "output_type": "execute_result"
    }
   ],
   "source": [
    "personnages[2]['âge']"
   ]
  },
  {
   "cell_type": "markdown",
   "metadata": {},
   "source": [
    "4. Dans le programme suivant, quel est le type de la variable `p` à chaque tout de boucle ? Quel est le rôle de ce programme ?\n",
    "```\n",
    "for p in personnages:\n",
    "    if int(p['âge']) <= 40:\n",
    "        print(p['nom'], p['prénom'])\n",
    "```"
   ]
  },
  {
   "cell_type": "markdown",
   "metadata": {},
   "source": [
    "5. Proposez un programme qui affiche uniquement les noms et prénoms des femmes du tableau `personnages`."
   ]
  },
  {
   "cell_type": "code",
   "execution_count": 45,
   "metadata": {},
   "outputs": [
    {
     "name": "stdout",
     "output_type": "stream",
     "text": [
      "Hamilton Margaret\n",
      "Curie Marie\n"
     ]
    }
   ],
   "source": [
    "for p in personnages:\n",
    "    if p['genre'] == 'f':\n",
    "        print(p['nom'], p['prénom'])"
   ]
  },
  {
   "cell_type": "markdown",
   "metadata": {},
   "source": [
    "6. Ecrivez une fonction `age_moyen(personnages)` qui renvoie l'âge moyen des personnalités du tableau `personnages` entré en paramètre. *On doit trouver 40,75 ans*."
   ]
  },
  {
   "cell_type": "code",
   "execution_count": 47,
   "metadata": {},
   "outputs": [
    {
     "data": {
      "text/plain": [
       "40.75"
      ]
     },
     "execution_count": 47,
     "metadata": {},
     "output_type": "execute_result"
    }
   ],
   "source": [
    "def age_moyen(personnages):\n",
    "    s = 0 # s est la somme des âges\n",
    "    for p in personnages:\n",
    "        s = s + int(p['âge'])\n",
    "    m = s / len(personnages)\n",
    "    return(m)\n",
    "\n",
    "# TEST\n",
    "age_moyen(personnages)     "
   ]
  },
  {
   "cell_type": "markdown",
   "metadata": {},
   "source": [
    "# Exercice 7 : comptage occurences + application Jules Verne"
   ]
  },
  {
   "cell_type": "code",
   "execution_count": null,
   "metadata": {},
   "outputs": [],
   "source": []
  },
  {
   "cell_type": "code",
   "execution_count": null,
   "metadata": {},
   "outputs": [],
   "source": []
  },
  {
   "cell_type": "code",
   "execution_count": null,
   "metadata": {},
   "outputs": [],
   "source": []
  }
 ],
 "metadata": {
  "kernelspec": {
   "display_name": "Python 3",
   "language": "python",
   "name": "python3"
  },
  "language_info": {
   "codemirror_mode": {
    "name": "ipython",
    "version": 3
   },
   "file_extension": ".py",
   "mimetype": "text/x-python",
   "name": "python",
   "nbconvert_exporter": "python",
   "pygments_lexer": "ipython3",
   "version": "3.7.3"
  }
 },
 "nbformat": 4,
 "nbformat_minor": 2
}
