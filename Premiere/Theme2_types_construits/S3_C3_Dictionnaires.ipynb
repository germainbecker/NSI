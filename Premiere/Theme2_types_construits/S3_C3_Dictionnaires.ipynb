{
 "cells": [
  {
   "cell_type": "markdown",
   "metadata": {},
   "source": [
    "# <center>Chapitre 3 : Les dictionnaires</center> \n",
    "***"
   ]
  },
  {
   "cell_type": "markdown",
   "metadata": {},
   "source": [
    "# Introduction\n",
    "Prenons l'exemple d'un répertoire téléhonique. Nous pouvons la modéliser simplement comme tableau (ou liste) de tuples (nom,numéro)."
   ]
  },
  {
   "cell_type": "code",
   "execution_count": null,
   "metadata": {},
   "outputs": [],
   "source": [
    "liste_tel = [(\"Paul\", 5234),\n",
    "             (\"Emile\", 5345),\n",
    "             (\"Victor\", 5186),\n",
    "             (\"Rose\", 5678),\n",
    "             (\"Hélène\", 5432)\n",
    "            ]"
   ]
  },
  {
   "cell_type": "markdown",
   "metadata": {},
   "source": [
    "Si nous voulons appeler *Rose*, nous avons deux possibilités avec une telle liste:\n",
    "* soit nous savons que les informations la concernant sont dans le quatrième élément de la liste (ce qui ne semble pas très pratique et réaliste)\n",
    "* soit nous cherchons dans la liste en partant du premier élément de la liste jusqu'à ce que nous trouvions *Rose* (ce qui revient à feuilleter son répertoire)"
   ]
  },
  {
   "cell_type": "markdown",
   "metadata": {},
   "source": [
    "Comme l'accès, la modification ou l'ajout d'une information devraient être possible sans devoir feuilleter tout le répertoire, il semble plus pratique d'associer à un *nom* un *numéro*, autrement dit d'associer à une **clé** une **information**.\n",
    "\n",
    "C'est ce que nous allons faire avec un dictionnaire."
   ]
  },
  {
   "cell_type": "markdown",
   "metadata": {},
   "source": [
    "# Les dictionnaires en Python\n",
    "\n",
    "Un dictionnaire est un ensemble **non ordonné** de paires (**clé**, **valeur**) avec un accès très rapide à la valeur à partir de la clé.\n",
    "\n",
    "Une **clé** peut être de type alphabétique, numérique, ou même de type construit sous certaines conditions. Les **valeurs** pourront être de tout type sans exclusion.\n",
    "\n",
    "Le dictionnaire est un objet **mutable**, autrement dit, on peut le modifier."
   ]
  },
  {
   "cell_type": "markdown",
   "metadata": {},
   "source": [
    "# I. Comment créer un dictionnaire ?\n",
    "\n",
    "Plusieurs méthodes permettent de créer un dictionnaire."
   ]
  },
  {
   "cell_type": "markdown",
   "metadata": {},
   "source": [
    "**Méthode 1 :** création d'un dictionnaire vide puis ajout de paires clé-valeur dans le dictionnaire.\n",
    "\n",
    "Création d'un dictionnaire vide :"
   ]
  },
  {
   "cell_type": "code",
   "execution_count": null,
   "metadata": {},
   "outputs": [],
   "source": [
    "d1 = {}     # Création d'un dictionnaire vide.\n",
    "            # Autre notation : d1 = dict()\n",
    "type(d1)    # <type 'dict'>"
   ]
  },
  {
   "cell_type": "markdown",
   "metadata": {},
   "source": [
    "Ajout de paires clé-valeur dans le dictionnaire :"
   ]
  },
  {
   "cell_type": "code",
   "execution_count": null,
   "metadata": {},
   "outputs": [],
   "source": [
    "d1[\"Paul\"]=5234\n",
    "d1[\"Emile\"]=5345\n",
    "d1[\"Victor\"]=5186\n",
    "print(d1)"
   ]
  },
  {
   "cell_type": "markdown",
   "metadata": {},
   "source": [
    "**Méthode 2** : création d'un dictionnaire noté en extension."
   ]
  },
  {
   "cell_type": "code",
   "execution_count": null,
   "metadata": {},
   "outputs": [],
   "source": [
    "d2 = {'Paul': 5234, 'Emile': 5345, \"Victor\" : 5186}\n",
    "print(d2)"
   ]
  },
  {
   "cell_type": "markdown",
   "metadata": {},
   "source": [
    "**Méthode 3** : création d'un dictionnaire créé à partir d'un tableau de couples."
   ]
  },
  {
   "cell_type": "code",
   "execution_count": null,
   "metadata": {},
   "outputs": [],
   "source": [
    "tab = [(\"Paul\",5234),(\"Emile\",5345),(\"Victor\",5186)]\n",
    "print(tab)\n",
    "dic = dict(tab)\n",
    "print(dic)"
   ]
  },
  {
   "cell_type": "markdown",
   "metadata": {},
   "source": [
    "**Méthode 4** : création d'un dictionnaire en compréhension."
   ]
  },
  {
   "cell_type": "code",
   "execution_count": null,
   "metadata": {},
   "outputs": [],
   "source": [
    "carre = {k: k ** 2 for k in range(1, 11)}\n",
    "print(\"carrés parfaits de 1 à 100 =>\", carre)"
   ]
  },
  {
   "cell_type": "markdown",
   "metadata": {},
   "source": [
    "# II. Opérations sur les dictionnaires"
   ]
  },
  {
   "cell_type": "markdown",
   "metadata": {},
   "source": [
    "## A. Obtenir la valeur d'un élément d'un dictionnaire"
   ]
  },
  {
   "cell_type": "code",
   "execution_count": null,
   "metadata": {},
   "outputs": [],
   "source": [
    "numero = d1[\"Victor\"]\n",
    "print(\"Le numéro de téléphone de Victor est le :\", numero)"
   ]
  },
  {
   "cell_type": "markdown",
   "metadata": {},
   "source": [
    "Si la clé n'existe pas dans le dictionnaire, une exception de type **KeyError** sera levée."
   ]
  },
  {
   "cell_type": "code",
   "execution_count": null,
   "metadata": {},
   "outputs": [],
   "source": [
    "d1[\"Rose\"]"
   ]
  },
  {
   "cell_type": "markdown",
   "metadata": {},
   "source": [
    "**Variante :** La methode `get()`permet de récupérer une valeur dans un dictionnaire et si la clé est introuvable, vous pouvez donner une valeur à retourner par défaut :"
   ]
  },
  {
   "cell_type": "code",
   "execution_count": null,
   "metadata": {},
   "outputs": [],
   "source": [
    "d1.get(\"Paul\")"
   ]
  },
  {
   "cell_type": "code",
   "execution_count": null,
   "metadata": {},
   "outputs": [],
   "source": [
    "d1.get(\"Rose\") # la clé \"Rose\" n'existe pas donc aucune valeur n'est retournée"
   ]
  },
  {
   "cell_type": "code",
   "execution_count": null,
   "metadata": {},
   "outputs": [],
   "source": [
    "d1.get(\"Paul\",\"Cette personne ne figure pas dans votre répertoire.\")"
   ]
  },
  {
   "cell_type": "code",
   "execution_count": null,
   "metadata": {},
   "outputs": [],
   "source": [
    "d1.get(\"Rose\",\"Cette personne ne figure pas dans votre répertoire.\")"
   ]
  },
  {
   "cell_type": "markdown",
   "metadata": {},
   "source": [
    "## B. Modifier la valeur d'un élément d'un dictionnaire\n",
    "Un dictionnaire est un objet **mutable**. On peut modifier la valeur associée à une clé : "
   ]
  },
  {
   "cell_type": "code",
   "execution_count": null,
   "metadata": {},
   "outputs": [],
   "source": [
    "d1[\"Emile\"] = 5151\n",
    "d1"
   ]
  },
  {
   "cell_type": "markdown",
   "metadata": {},
   "source": [
    "## C. Supprimer un élément d'un dictionnaire\n",
    "La fonction `del()` permet de supprimer une paire clé-valeur :"
   ]
  },
  {
   "cell_type": "code",
   "execution_count": null,
   "metadata": {},
   "outputs": [],
   "source": [
    "del d1[\"Emile\"]\n",
    "d1"
   ]
  },
  {
   "cell_type": "markdown",
   "metadata": {},
   "source": [
    "## D. Supprimer tous les éléments d'un dictionnaire\n",
    "La méthode `clear()` permet d'effacer un dictionnaire."
   ]
  },
  {
   "cell_type": "code",
   "execution_count": null,
   "metadata": {},
   "outputs": [],
   "source": [
    "d2.clear()\n",
    "d2"
   ]
  },
  {
   "cell_type": "markdown",
   "metadata": {},
   "source": [
    "## E. Déterminer la taille d'un dictionnaire\n",
    "Un dictionnaire est une collection. La fonction `len()` renvoie le nombre d'éléments :"
   ]
  },
  {
   "cell_type": "code",
   "execution_count": null,
   "metadata": {},
   "outputs": [],
   "source": [
    "len(d3)"
   ]
  },
  {
   "cell_type": "markdown",
   "metadata": {},
   "source": [
    "## Activité 1 : création d'un répertoire téléphonique\n",
    "Vous disposez d'un tableau de contacts prénom-numéro_de_téléphone nommée `liste_tel`.\n",
    "\n",
    "Activez ce tableau :"
   ]
  },
  {
   "cell_type": "code",
   "execution_count": null,
   "metadata": {},
   "outputs": [],
   "source": [
    "liste_tel = [(\"Paul\", 5234),\n",
    "             (\"Emile\", 5345),\n",
    "             (\"Victor\", 5186),\n",
    "             (\"Rose\", 5678),\n",
    "             (\"Hélène\", 5432)\n",
    "            ]"
   ]
  },
  {
   "cell_type": "markdown",
   "metadata": {},
   "source": [
    "1. Créez un répertoire téléphonique nommé **rep_tel** sous la forme d'un dictionnaire à partir du tableau de tuples `liste_tel` et affichez ce dictionnaire :"
   ]
  },
  {
   "cell_type": "code",
   "execution_count": null,
   "metadata": {},
   "outputs": [],
   "source": []
  },
  {
   "cell_type": "markdown",
   "metadata": {},
   "source": [
    "2. Ajoutez le contact suivant à votre répertoire téléphonique : *(Gaëlle : 4526)* et affichez le numéro de téléphone de *Paul* :"
   ]
  },
  {
   "cell_type": "code",
   "execution_count": null,
   "metadata": {},
   "outputs": [],
   "source": []
  },
  {
   "cell_type": "code",
   "execution_count": null,
   "metadata": {},
   "outputs": [],
   "source": []
  },
  {
   "cell_type": "markdown",
   "metadata": {},
   "source": [
    "3. Quelle instruction permet de connaître le nombre d'éléments présents dans votre répertoire téléphonique :"
   ]
  },
  {
   "cell_type": "code",
   "execution_count": null,
   "metadata": {},
   "outputs": [],
   "source": []
  },
  {
   "cell_type": "markdown",
   "metadata": {},
   "source": [
    "4. Enlevez Victor de vos contacts et affichez l'ensemble de votre répertoire :"
   ]
  },
  {
   "cell_type": "code",
   "execution_count": null,
   "metadata": {},
   "outputs": [],
   "source": []
  },
  {
   "cell_type": "markdown",
   "metadata": {},
   "source": [
    "# III. Itérer sur les éléments d'un dictionnaire\n",
    "\n",
    "Lorsque l'on parcoure un dictionnaire avec une boucle `for` on parcoure en réalité les clés du dictionnaire."
   ]
  },
  {
   "cell_type": "code",
   "execution_count": null,
   "metadata": {},
   "outputs": [],
   "source": [
    "rep_tel = {\"Paul\" : 5234,\n",
    "           \"Emile\" : 5345,\n",
    "           \"Victor\" : 5186,\n",
    "           \"Rose\" : 5678,\n",
    "           \"Hélène\" : 5432,\n",
    "           \"Gaëlle\" : 4526}\n",
    "\n",
    "for x in rep_tel:\n",
    "    print(x)"
   ]
  },
  {
   "cell_type": "markdown",
   "metadata": {},
   "source": [
    "On peut alors afficher tout le contenu de notre dictionnaire avec une boucle."
   ]
  },
  {
   "cell_type": "code",
   "execution_count": null,
   "metadata": {},
   "outputs": [],
   "source": [
    "for x in rep_tel:\n",
    "    print(\"la clé\", x, \"est associée à la valeur\", rep_tel[x])"
   ]
  },
  {
   "cell_type": "markdown",
   "metadata": {},
   "source": [
    "Pour ne pas avoir à se souvenir que ce sont les clés qui sont parcourues, il existe trois méthodes permettant de parcourir un dictionnaire **en précisant de manière explicite quels sont les éléments parcourus**.\n",
    "\n",
    "* La méthode `keys()` permet de parcourir l'ensemble des **clés**;\n",
    "* La méthode `values()` permet de parcourir l'ensemble des **valeurs**;\n",
    "* La méthode `items()` permet de parcourir l'ensemble des **paires (clé, valeur)**;\n",
    "\n",
    "Voici comment itérer itérer sur un dictionnaire grâce à ces méthodes."
   ]
  },
  {
   "cell_type": "markdown",
   "metadata": {},
   "source": [
    "## A. La méthode `keys()`\n",
    "\n",
    "On peut utiliser la méthode `keys()` pour récupérer les clés d'un dictionnaire. Cette méthode renvoie la séquence des **clés** utilisées dans le dictionnaire."
   ]
  },
  {
   "cell_type": "code",
   "execution_count": null,
   "metadata": {
    "scrolled": true
   },
   "outputs": [],
   "source": [
    "rep_tel.keys()"
   ]
  },
  {
   "cell_type": "markdown",
   "metadata": {},
   "source": [
    "Si on veut récupérer un tableau contenant les clés du dictionnaire on utilise la fonction `list()`."
   ]
  },
  {
   "cell_type": "code",
   "execution_count": null,
   "metadata": {},
   "outputs": [],
   "source": [
    "list(rep_tel.keys())"
   ]
  },
  {
   "cell_type": "markdown",
   "metadata": {},
   "source": [
    "**Exemple :** On parcourt donc ainsi les clés du dictionnaire :"
   ]
  },
  {
   "cell_type": "code",
   "execution_count": null,
   "metadata": {},
   "outputs": [],
   "source": [
    "rep_tel = {\"Paul\" : 5234, \"Emile\" : 5345, \"Victor\" : 5186, \"Rose\" : 5678, \"Hélène\" : 5432, \"Gaëlle\" : 4526}\n",
    "for cle in rep_tel.keys():  # ou for e in list(rep_tel.keys()):\n",
    "    print(cle)"
   ]
  },
  {
   "cell_type": "markdown",
   "metadata": {},
   "source": [
    "## B. La méthode `values()`\n",
    "\n",
    "On peut utiliser la méthode `values()` pour récupérer les valeurs d'un dictionnaire. Cette méthode renvoie la séquence des **valeurs** utlisées dans le dictionnaire."
   ]
  },
  {
   "cell_type": "code",
   "execution_count": null,
   "metadata": {},
   "outputs": [],
   "source": [
    "rep_tel.values()"
   ]
  },
  {
   "cell_type": "markdown",
   "metadata": {},
   "source": [
    "Si on veut récupérer un tableau contenant les valeurs du dictionnaire on utilise la fonction `list()`."
   ]
  },
  {
   "cell_type": "code",
   "execution_count": null,
   "metadata": {},
   "outputs": [],
   "source": [
    "list(rep_tel.values())"
   ]
  },
  {
   "cell_type": "markdown",
   "metadata": {},
   "source": [
    "**Exemple :** On parcourt donc ainsi les valeurs du dictionnaire :"
   ]
  },
  {
   "cell_type": "code",
   "execution_count": null,
   "metadata": {},
   "outputs": [],
   "source": [
    "rep_tel = {\"Paul\" : 5234, \"Emile\" : 5345, \"Victor\" : 5186, \"Rose\" : 5678, \"Hélène\" : 5432, \"Gaëlle\" : 4526}\n",
    "for valeur in rep_tel.values():  # ou for e in list(rep_tel.values()):\n",
    "    print(valeur)"
   ]
  },
  {
   "cell_type": "markdown",
   "metadata": {},
   "source": [
    "## C. La méthode `items()`\n",
    "\n",
    "La méthode `items()` extrait du dictionnaire la séquence des **paires (clé, valeur)**."
   ]
  },
  {
   "cell_type": "code",
   "execution_count": null,
   "metadata": {
    "scrolled": true
   },
   "outputs": [],
   "source": [
    "rep_tel.items()"
   ]
  },
  {
   "cell_type": "markdown",
   "metadata": {},
   "source": [
    "Si on veut récupérer un tableau contenant les paires (clé, valeur) du dictionnaire on utilise la fonction `list()`."
   ]
  },
  {
   "cell_type": "code",
   "execution_count": null,
   "metadata": {},
   "outputs": [],
   "source": [
    "list(rep_tel.items())"
   ]
  },
  {
   "cell_type": "markdown",
   "metadata": {},
   "source": [
    "**Exemple :** On parcourt donc ainsi les couples (clé, valeur) du dictionnaire :"
   ]
  },
  {
   "cell_type": "code",
   "execution_count": null,
   "metadata": {},
   "outputs": [],
   "source": [
    "rep_tel = {\"Paul\" : 5234, \"Emile\" : 5345, \"Victor\" : 5186, \"Rose\" : 5678, \"Hélène\" : 5432, \"Gaëlle\" : 4526}\n",
    "for cle, valeur in rep_tel.items():\n",
    "    print(\"Le numéro de\", cle, \"est :\", num)"
   ]
  },
  {
   "cell_type": "markdown",
   "metadata": {},
   "source": [
    "# IV. Tests d'appartenance\n",
    "On peut aussi interroger l'**appartenance** d'une valeur ou d'une clé grace à l'expression `in`."
   ]
  },
  {
   "cell_type": "code",
   "execution_count": null,
   "metadata": {},
   "outputs": [],
   "source": [
    "\"Rose\" in rep_tel.keys()"
   ]
  },
  {
   "cell_type": "code",
   "execution_count": null,
   "metadata": {},
   "outputs": [],
   "source": [
    "5180 not in rep_tel.values()"
   ]
  },
  {
   "cell_type": "markdown",
   "metadata": {},
   "source": [
    "**Variantes :** has_key(),..."
   ]
  },
  {
   "cell_type": "markdown",
   "metadata": {},
   "source": [
    "## Activité 2 : Comme dans les smartphones\n",
    "\n",
    "L'objectif de cette activité est de programmer deux des fonctionnalités importantes des smartphones actuels :\n",
    "\n",
    "* Ajouter un contact au répertoire ;\n",
    "* Rechercher un contact dans le répertoire.\n",
    "\n",
    "On suppose pour simplifier que le repertoire téléphonique est mémorisé dans le smartphone sous la forme d'un dictionnaire et que chaque élément du dictionnaire est une paire (prénom, numéro) où prénom est la clé et numéro la valeur associée.\n",
    "\n",
    "### Première partie : Ajouter un contact\n",
    "\n",
    "On considère que le répertoire téléphonique est mémorisé dans le dictionnaire `repertoire`. Quelques contacts sont déjà enregistrés dans ce répertoire."
   ]
  },
  {
   "cell_type": "code",
   "execution_count": null,
   "metadata": {},
   "outputs": [],
   "source": [
    "repertoire = {'David': 1010, 'Mélanie': 1111, 'Alain': 121212}"
   ]
  },
  {
   "cell_type": "markdown",
   "metadata": {},
   "source": [
    "1. Complétez la fonction `ajout_contact(repertoire)` qui demande à l'utilisateur de saisir les données (prénom et numéro de téléphone) d'un contact et qui ajoute ce contact à `repertoire`."
   ]
  },
  {
   "cell_type": "code",
   "execution_count": null,
   "metadata": {},
   "outputs": [],
   "source": [
    "def ajout_contact(repertoire):\n",
    "    # A COMPLETER\n",
    "\n",
    "# TEST\n",
    "repertoire = {'David': 1010, 'Mélanie': 1111, 'Alain': 121212}\n",
    "ajout_contact(repertoire)  # on appelle la fonction ajout_contact\n",
    "repertoire # on affiche le répertoire pour vérifier l'ajout du contact"
   ]
  },
  {
   "cell_type": "markdown",
   "metadata": {},
   "source": [
    "2. On utilise désormais cette fonction `ajout_contact` dans la fonction suivante qui a pour objectif d'ajouter des contacts au répertoire autant de fois que l'on souhaite. Plus précisément, une fois qu'un contact a été saisi on demande à l'utilisateur s'il souhaite ajouter un autre contact. Compléter la fonction `remplissage` en conséquence."
   ]
  },
  {
   "cell_type": "code",
   "execution_count": null,
   "metadata": {},
   "outputs": [],
   "source": [
    "def remplissage(repertoire):\n",
    "    encore = True\n",
    "    while encore == True:\n",
    "        # --------------\n",
    "        # à compléter\n",
    "        # --------------\n",
    "        \n",
    "# TEST\n",
    "#repertoire = {'David': 1010, 'Mélanie': 1111, 'Alain': 121212}\n",
    "remplissage(repertoire)  # on appelle la fonction remplissage pour compléter le répertoire\n",
    "repertoire # on affiche ensuite le dictionnaire (une fois tous les contacts saisis)"
   ]
  },
  {
   "cell_type": "markdown",
   "metadata": {},
   "source": [
    "### Deuxième partie : Rechercher un contact\n",
    "On souhaite maintenant écrire une fonction `numero_de(prenom, repertoire)` qui renvoie le numéro de `prenom` si `prenom` est bien dans `repertoire` et qui renvoie un message sinon. \n",
    "\n",
    "3. Si `prenom` est présent dans `repertoire`, quelle instruction permet d'afficher le numéro associé à `prenom` ?"
   ]
  },
  {
   "cell_type": "code",
   "execution_count": null,
   "metadata": {},
   "outputs": [],
   "source": [
    "prenom = str(input(\"Entrer un prénom : \"))\n",
    "# à compléter"
   ]
  },
  {
   "cell_type": "markdown",
   "metadata": {},
   "source": [
    "4. Complétez la fonction `numero_de(prenom, repertoire)` qui renvoie le numéro de téléphone associé dans l'affirmative et un message d'erreur sinon."
   ]
  },
  {
   "cell_type": "code",
   "execution_count": null,
   "metadata": {},
   "outputs": [],
   "source": [
    "def numero_de(prenom, repertoire):\n",
    "    '''prenom est une chaine de caractères et repertoire est un dictionnaire'''\n",
    "    # à compléter\n",
    "\n",
    "# TEST\n",
    "prenom = str(input(\"Entrer le prénom du contact cherché : \"))\n",
    "numero_de(prenom, repertoire)"
   ]
  },
  {
   "cell_type": "markdown",
   "metadata": {},
   "source": [
    "**Références**\n",
    "\n",
    "- Ce document est fortement inspiré d'un document de Laurent CHAUDET et Xavier CHAUVIN\n",
    "- Equipe pédagotique DIU EIL Nantes : Les types construits - les dictionnaires et les ensembles.\n",
    "- Apprendre à programmer avec Python 3, livre de Gérard Swinnen (en téléchargement libre) http://inforef.be/swi/python.htm\n",
    "- Apprenez à programmer en Python, Vincent LE GOFF, OpenClassrooms, 2ème édition. Cours disponible sur [Open Classrooms](https://openclassrooms.com/fr/courses/235344-apprenez-a-programmer-en-python) et ancienne version du livre disponible en [pdf](http://user.oc-static.com/pdf/223267-apprenez-a-programmer-en-python.pdf)\n",
    "- Numérique et Sciences Informatiques, 1re, T. BALABONSKI, S. CONCHON, J.-C. FILLIATRE, K. NGUYEN, éditions ELLIPSES : [Site du livre](https://www.nsi-premiere.fr/)"
   ]
  },
  {
   "cell_type": "markdown",
   "metadata": {},
   "source": [
    "---\n",
    "Germain BECKER & Sébastien POINT, Lycée Mounier, ANGERS ![Licence Creative Commons](https://i.creativecommons.org/l/by-nc-sa/4.0/88x31.png)"
   ]
  }
 ],
 "metadata": {
  "celltoolbar": "Format de la Cellule Texte Brut",
  "kernelspec": {
   "display_name": "Python 3",
   "language": "python",
   "name": "python3"
  },
  "language_info": {
   "codemirror_mode": {
    "name": "ipython",
    "version": 3
   },
   "file_extension": ".py",
   "mimetype": "text/x-python",
   "name": "python",
   "nbconvert_exporter": "python",
   "pygments_lexer": "ipython3",
   "version": "3.7.3"
  }
 },
 "nbformat": 4,
 "nbformat_minor": 2
}
