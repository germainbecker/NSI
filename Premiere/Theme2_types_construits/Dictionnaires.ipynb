{
 "cells": [
  {
   "cell_type": "markdown",
   "metadata": {},
   "source": [
    "# Introduction\n",
    "\n",
    "Prenons l'exemple d'un répertoire téléhonique. Nous pouvons la modéliser simplement comme un tableau (ou liste) de tableaux `[nom,numéro]`"
   ]
  },
  {
   "cell_type": "code",
   "execution_count": 27,
   "metadata": {},
   "outputs": [],
   "source": [
    "liste_tel = [[\"Paul\", 5234],\n",
    "             [\"Emile\", 5345],\n",
    "             [\"Victor\", 5186],\n",
    "             [\"Rose\", 5678],\n",
    "             [\"Hélène\", 5432]]"
   ]
  },
  {
   "cell_type": "markdown",
   "metadata": {},
   "source": [
    "Si nous voulons appeler *Rose*, nous avons deux possibilités avec un tel tableau :\n",
    "* soit il faut savoir que les informations la concernant sont dans le quatrième élément de la liste (ce qui ne semble pas très pratique et réaliste)"
   ]
  },
  {
   "cell_type": "code",
   "execution_count": 14,
   "metadata": {},
   "outputs": [
    {
     "name": "stdout",
     "output_type": "stream",
     "text": [
      "5678\n"
     ]
    }
   ],
   "source": [
    "print(liste_tel[3][1]) # il faut savoir que l'index de Rose est 3"
   ]
  },
  {
   "cell_type": "markdown",
   "metadata": {},
   "source": [
    "* soit nous cherchons dans le tableau en partant du premier élément de la liste jusqu'à ce que nous trouvions *Rose* (ce qui revient à feuilleter son répertoire) : cela nécessite d'utiliser une boucle pour parcourir le tableau."
   ]
  },
  {
   "cell_type": "code",
   "execution_count": 13,
   "metadata": {},
   "outputs": [
    {
     "name": "stdout",
     "output_type": "stream",
     "text": [
      "5678\n"
     ]
    }
   ],
   "source": [
    "for element in liste_tel:\n",
    "    if element[0] == 'Rose':\n",
    "        print(element[1])"
   ]
  },
  {
   "cell_type": "markdown",
   "metadata": {},
   "source": [
    "Vous conviendrez que ce n'est pas pratique pour accéder à son numéro de téléphone. De même, la modification ou l'ajout d'un information nécessiterait de devoir feuilleter tout le répertoire. Il semblerait plus pratique d'associer un nom à un numéro, autrement dit d'associer à une **information** à une **clé**.\n",
    "\n",
    "C'est ce que les dictionnaires permettent !"
   ]
  },
  {
   "cell_type": "markdown",
   "metadata": {},
   "source": [
    "# Les dictionnaires en Python"
   ]
  },
  {
   "cell_type": "markdown",
   "metadata": {},
   "source": [
    "<div class=\"important\">\n",
    "    Un dictionnaire est un ensemble <strong>non ordonné</strong> de paires (clé, valeur) avec un accès très rapide à la valeur à partir de la clé.\n",
    "</div>"
   ]
  },
  {
   "cell_type": "markdown",
   "metadata": {},
   "source": [
    "On peut ajouter des couples, si la clé figure déjà dans le dictionnaire alors le couple est remplacé par le nouveau. Une **clé** peut être de type alphabétique, numérique, ou même de type construit sous certaines conditions. Les **valeurs** pourront être de tout type sans exclusion. En Python, le dictionnaire est un objet **mutable**, autrement dit, on peut le modifier."
   ]
  },
  {
   "cell_type": "markdown",
   "metadata": {},
   "source": [
    "## Création d'un dictionnaire\n",
    "\n",
    "Plusieurs méthodes permettent de créer soit un dictionnaire vide, soit de le noter en extension, soit par compréhension."
   ]
  },
  {
   "cell_type": "code",
   "execution_count": 31,
   "metadata": {},
   "outputs": [
    {
     "name": "stdout",
     "output_type": "stream",
     "text": [
      "<class 'dict'>\n"
     ]
    }
   ],
   "source": [
    "d1 = {}     # Création d'un dictionnaire vide\n",
    "d2 = dict() # Création d'un dictionnaire vide (autre méthode)\n",
    "d3 = {'poires': 5, 'bananes': 7, 'abricots' : 12} # création d'un dictionnaire par extension\n",
    "d4 = {k: k**2 for k in range(1, 10)} # création d'un dictionnaire par compréhension\n",
    "\n",
    "print(type(d1))"
   ]
  },
  {
   "cell_type": "code",
   "execution_count": 32,
   "metadata": {},
   "outputs": [
    {
     "name": "stdout",
     "output_type": "stream",
     "text": [
      "d1 => {}\n",
      "d2 => {}\n",
      "d3 => {'poires': 5, 'bananes': 7, 'abricots': 12}\n",
      "d4 => {1: 1, 2: 4, 3: 9, 4: 16, 5: 25, 6: 36, 7: 49, 8: 64, 9: 81}\n"
     ]
    }
   ],
   "source": [
    "print(\"d1 =>\", d1)\n",
    "print(\"d2 =>\", d2)\n",
    "print(\"d3 =>\", d3)\n",
    "print(\"d4 =>\", d4)"
   ]
  },
  {
   "cell_type": "markdown",
   "metadata": {},
   "source": [
    "Il est même possible de créer un dictionnaire à partir d'une liste de couples."
   ]
  },
  {
   "cell_type": "code",
   "execution_count": 33,
   "metadata": {},
   "outputs": [
    {
     "name": "stdout",
     "output_type": "stream",
     "text": [
      "d5 => {'cle1': 'valeur1', 'cle2': 'valeur2'}\n",
      "d6 => {'Paul': 5234, 'Emile': 5345, 'Victor': 5186, 'Rose': 5678, 'Hélène': 5432}\n"
     ]
    }
   ],
   "source": [
    "liste = [('cle1','valeur1'),('cle2','valeur2')]\n",
    "d5 = dict(liste)\n",
    "liste_tel = [[\"Paul\", 5234], [\"Emile\", 5345], [\"Victor\", 5186], [\"Rose\", 5678], [\"Hélène\", 5432]]\n",
    "d6 = dict(liste_tel)\n",
    "\n",
    "print(\"d5 =>\", d5)\n",
    "print(\"d6 =>\", d6)"
   ]
  },
  {
   "cell_type": "markdown",
   "metadata": {},
   "source": [
    "> **Important** : Vous aurez noté que les dictionnaires Python se représentent entre accolades `{}`. Les différentes paires sont séparées par des virgules et sont de la forme `clé: valeur`."
   ]
  },
  {
   "cell_type": "markdown",
   "metadata": {},
   "source": [
    "---\n",
    "### Activité 1 \n",
    "\n",
    "Créez un dictionnaire appelé `notes` qui contient les paires (matières, moyenne) de vos trois spécialités. Affichez ensuite ce dictionnaire."
   ]
  },
  {
   "cell_type": "code",
   "execution_count": null,
   "metadata": {},
   "outputs": [],
   "source": [
    "# à vous de jouer !\n"
   ]
  },
  {
   "cell_type": "markdown",
   "metadata": {},
   "source": [
    "---\n",
    "## Accès, modification, ajout, suppression\n",
    "\n",
    "L'**accès** à une valeur d'un dictionnaire se fait par sa clé."
   ]
  },
  {
   "cell_type": "code",
   "execution_count": 39,
   "metadata": {},
   "outputs": [
    {
     "data": {
      "text/plain": [
       "12"
      ]
     },
     "execution_count": 39,
     "metadata": {},
     "output_type": "execute_result"
    }
   ],
   "source": [
    "d3 = {'poires': 5, 'bananes': 7, 'abricots' : 12}\n",
    "d3['abricots']"
   ]
  },
  {
   "cell_type": "markdown",
   "metadata": {},
   "source": [
    "Le dictionnaire étant un objet *mutable* on peut **modifier** la valeur associée à une clé ou **ajouter** une nouvelle association et afficher le dictionnaire modifié."
   ]
  },
  {
   "cell_type": "code",
   "execution_count": 49,
   "metadata": {},
   "outputs": [
    {
     "name": "stdout",
     "output_type": "stream",
     "text": [
      "{'Paul': 5234, 'Emile': 5345, 'Victor': 5186, 'Rose': 4921, 'Hélène': 5432, 'Louane': 4118}\n"
     ]
    }
   ],
   "source": [
    "d = {'Paul': 5234, 'Emile': 5345, 'Victor': 5186, 'Rose': 5678, 'Hélène': 5432}\n",
    "d['Rose'] = 4921    # clé existante donc modification de la valeur\n",
    "d['Louane'] = 4118  # nouvelle clé donc ajout d'une nouvelle association\n",
    "print(d)"
   ]
  },
  {
   "cell_type": "markdown",
   "metadata": {},
   "source": [
    "Pour **supprimer** une association d'un dictionnaire on peut utilise le mot clé `del`."
   ]
  },
  {
   "cell_type": "code",
   "execution_count": 50,
   "metadata": {},
   "outputs": [
    {
     "name": "stdout",
     "output_type": "stream",
     "text": [
      "{'Paul': 5234, 'Emile': 5345, 'Victor': 5186, 'Rose': 4921, 'Hélène': 5432, 'Louane': 4118}\n",
      "{'Emile': 5345, 'Victor': 5186, 'Rose': 4921, 'Hélène': 5432, 'Louane': 4118}\n"
     ]
    }
   ],
   "source": [
    "print(d)\n",
    "del d['Paul']\n",
    "print(d)"
   ]
  },
  {
   "cell_type": "markdown",
   "metadata": {},
   "source": [
    "## Taille d'un dictionnaire\n",
    "\n",
    "La fonction `len` renvoie la taille d'un dictionnaire."
   ]
  },
  {
   "cell_type": "code",
   "execution_count": 45,
   "metadata": {},
   "outputs": [
    {
     "data": {
      "text/plain": [
       "3"
      ]
     },
     "execution_count": 45,
     "metadata": {},
     "output_type": "execute_result"
    }
   ],
   "source": [
    "d3 = {'poires': 5, 'bananes': 7, 'abricots' : 12}\n",
    "len(d3)"
   ]
  },
  {
   "cell_type": "markdown",
   "metadata": {},
   "source": [
    "---\n",
    "### Activité 2\n",
    "\n",
    "On reprend le dictionnaire `notes` de l'activité 1.\n",
    "\n",
    "1. Affichez la moyenne de NSI."
   ]
  },
  {
   "cell_type": "code",
   "execution_count": null,
   "metadata": {},
   "outputs": [],
   "source": []
  },
  {
   "cell_type": "markdown",
   "metadata": {},
   "source": [
    "2. Modifiez votre moyenne de NSI qui a gagné 2 points. Affichez le dictionnaire."
   ]
  },
  {
   "cell_type": "code",
   "execution_count": null,
   "metadata": {},
   "outputs": [],
   "source": []
  },
  {
   "cell_type": "markdown",
   "metadata": {},
   "source": [
    "3. Ajoutez la matière `Anglais` avec sa moyenne. Affichez le dictionnaire."
   ]
  },
  {
   "cell_type": "code",
   "execution_count": null,
   "metadata": {},
   "outputs": [],
   "source": []
  },
  {
   "cell_type": "markdown",
   "metadata": {},
   "source": [
    "4. Affichez la taille du dictionnaire."
   ]
  },
  {
   "cell_type": "code",
   "execution_count": null,
   "metadata": {},
   "outputs": [],
   "source": []
  },
  {
   "cell_type": "markdown",
   "metadata": {},
   "source": [
    "5. Supprimez une des trois spécialités et affichez le dictionnaire."
   ]
  },
  {
   "cell_type": "code",
   "execution_count": null,
   "metadata": {},
   "outputs": [],
   "source": []
  },
  {
   "cell_type": "markdown",
   "metadata": {},
   "source": [
    "---\n",
    "\n",
    "# Les itérateurs pour les dictionnaires\n",
    "\n",
    "Il est possible de parcourir un dictionnaire de trois manières :\n",
    "\n",
    "- parcourir l'ensemble des **clés** avec la méthode `keys()` ;\n",
    "- parcourir l'ensemble des **valeurs** avec la méthode `values()` ;\n",
    "- parcourir l'ensemble des **paires clés-valeurs** avec la méthode `items()`.\n",
    "\n",
    "On peut itérer sur un dictionnaire grâce à l'une de ces méthodes."
   ]
  },
  {
   "cell_type": "code",
   "execution_count": 51,
   "metadata": {},
   "outputs": [
    {
     "name": "stdout",
     "output_type": "stream",
     "text": [
      "Paul\n",
      "Emile\n",
      "Victor\n",
      "Rose\n",
      "Hélène\n"
     ]
    }
   ],
   "source": [
    "d = {'Paul': 5234, 'Emile': 5345, 'Victor': 5186, 'Rose': 5678, 'Hélène': 5432}\n",
    "for prenom in d.keys():\n",
    "    print(prenom)"
   ]
  },
  {
   "cell_type": "code",
   "execution_count": 52,
   "metadata": {},
   "outputs": [
    {
     "name": "stdout",
     "output_type": "stream",
     "text": [
      "5234\n",
      "5345\n",
      "5186\n",
      "5678\n",
      "5432\n"
     ]
    }
   ],
   "source": [
    "for num in d.values():\n",
    "    print(num)"
   ]
  },
  {
   "cell_type": "code",
   "execution_count": 53,
   "metadata": {},
   "outputs": [
    {
     "name": "stdout",
     "output_type": "stream",
     "text": [
      "Paul -> 5234\n",
      "Emile -> 5345\n",
      "Victor -> 5186\n",
      "Rose -> 5678\n",
      "Hélène -> 5432\n"
     ]
    }
   ],
   "source": [
    "for prenom, num in d.items():\n",
    "    print(prenom, '->', num)"
   ]
  },
  {
   "cell_type": "markdown",
   "metadata": {},
   "source": [
    "On peut aussi interroger l'appartenance d'une valeur ou d'une clé grâce au mot clé `in`."
   ]
  },
  {
   "cell_type": "code",
   "execution_count": 56,
   "metadata": {},
   "outputs": [
    {
     "data": {
      "text/plain": [
       "False"
      ]
     },
     "execution_count": 56,
     "metadata": {},
     "output_type": "execute_result"
    }
   ],
   "source": [
    "'John' in d.keys()"
   ]
  },
  {
   "cell_type": "code",
   "execution_count": 59,
   "metadata": {},
   "outputs": [
    {
     "data": {
      "text/plain": [
       "False"
      ]
     },
     "execution_count": 59,
     "metadata": {},
     "output_type": "execute_result"
    }
   ],
   "source": [
    "'Paul' not in d.keys()"
   ]
  },
  {
   "cell_type": "code",
   "execution_count": 57,
   "metadata": {},
   "outputs": [
    {
     "data": {
      "text/plain": [
       "True"
      ]
     },
     "execution_count": 57,
     "metadata": {},
     "output_type": "execute_result"
    }
   ],
   "source": [
    "5186 in d.values()"
   ]
  },
  {
   "cell_type": "markdown",
   "metadata": {},
   "source": [
    "---\n",
    "### Activité 3\n",
    "\n",
    "On considère le dictionnaire `fruits` suivant."
   ]
  },
  {
   "cell_type": "code",
   "execution_count": 54,
   "metadata": {},
   "outputs": [],
   "source": [
    "fruits = {'poires': 5, 'pommes': 11, 'bananes': 7, 'abricots' : 12}"
   ]
  },
  {
   "cell_type": "markdown",
   "metadata": {},
   "source": [
    "1. Affichez tous les fruits du dictionnaire."
   ]
  },
  {
   "cell_type": "code",
   "execution_count": null,
   "metadata": {},
   "outputs": [],
   "source": []
  },
  {
   "cell_type": "markdown",
   "metadata": {},
   "source": [
    "2. Affichez toutes les quantités du dictionnaire. "
   ]
  },
  {
   "cell_type": "code",
   "execution_count": null,
   "metadata": {},
   "outputs": [],
   "source": []
  },
  {
   "cell_type": "markdown",
   "metadata": {},
   "source": [
    "3. Ecrivez un programme permettant d'obtenir l'affichage suivant.\n",
    "\n",
    "```\n",
    "Il reste 5 poires\n",
    "Il reste 11 pommes\n",
    "Il reste 7 bananes\n",
    "Il reste 12 abricots\n",
    "```"
   ]
  },
  {
   "cell_type": "code",
   "execution_count": null,
   "metadata": {},
   "outputs": [],
   "source": []
  },
  {
   "cell_type": "markdown",
   "metadata": {},
   "source": [
    "---\n",
    "\n",
    "**Références**\n",
    "\n",
    "- Ressources pédagogiques du DIU EIL, Université de Nantes, C. DECLERQ."
   ]
  },
  {
   "cell_type": "markdown",
   "metadata": {},
   "source": [
    "---\n",
    "Germain BECKER & Sébastien POINT, Lycée Mounier, ANGERS ![Licence Creative Commons](https://i.creativecommons.org/l/by-nc-sa/4.0/88x31.png)"
   ]
  }
 ],
 "metadata": {
  "celltoolbar": "Format de la Cellule Texte Brut",
  "kernelspec": {
   "display_name": "Python 3",
   "language": "python",
   "name": "python3"
  },
  "language_info": {
   "codemirror_mode": {
    "name": "ipython",
    "version": 3
   },
   "file_extension": ".py",
   "mimetype": "text/x-python",
   "name": "python",
   "nbconvert_exporter": "python",
   "pygments_lexer": "ipython3",
   "version": "3.7.3"
  }
 },
 "nbformat": 4,
 "nbformat_minor": 2
}
