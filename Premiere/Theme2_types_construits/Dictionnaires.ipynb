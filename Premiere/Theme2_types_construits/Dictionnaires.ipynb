{
 "cells": [
  {
   "cell_type": "markdown",
   "metadata": {},
   "source": [
    "# Introduction\n",
    "\n",
    "Prenons l'exemple d'un répertoire téléhonique. Nous pouvons la modéliser simplement comme un tableau (ou liste) contenant des tableaux de la forme `[nom, numéro]` :"
   ]
  },
  {
   "cell_type": "code",
   "execution_count": 1,
   "metadata": {},
   "outputs": [],
   "source": [
    "liste_tel = [[\"Paul\", 5234],\n",
    "             [\"Emile\", 5345],\n",
    "             [\"Victor\", 5186],\n",
    "             [\"Rose\", 5678],\n",
    "             [\"Hélène\", 5432]]"
   ]
  },
  {
   "cell_type": "markdown",
   "metadata": {},
   "source": [
    "Si nous voulons appeler Rose, nous avons deux possibilités avec un tel tableau :\n",
    "* soit il faut savoir que les informations la concernant sont dans le quatrième élément de la liste (ce qui ne semble pas très pratique et réaliste)"
   ]
  },
  {
   "cell_type": "code",
   "execution_count": 2,
   "metadata": {},
   "outputs": [
    {
     "name": "stdout",
     "output_type": "stream",
     "text": [
      "5678\n"
     ]
    }
   ],
   "source": [
    "print(liste_tel[3][1])  # il faut savoir que l'index de Rose est 3"
   ]
  },
  {
   "cell_type": "markdown",
   "metadata": {},
   "source": [
    "* soit nous cherchons dans le tableau en partant du premier élément de la liste jusqu'à ce que nous trouvions *Rose* (ce qui revient à feuilleter son répertoire) : cela nécessite d'utiliser une boucle pour parcourir le tableau."
   ]
  },
  {
   "cell_type": "code",
   "execution_count": 3,
   "metadata": {},
   "outputs": [
    {
     "name": "stdout",
     "output_type": "stream",
     "text": [
      "5678\n"
     ]
    }
   ],
   "source": [
    "for element in liste_tel:\n",
    "    if element[0] == 'Rose':\n",
    "        print(element[1])"
   ]
  },
  {
   "cell_type": "markdown",
   "metadata": {},
   "source": [
    "Vous conviendrez que ce n'est pas pratique pour accéder à son numéro de téléphone. De même, la modification ou l'ajout d'une information nécessiterait de devoir feuilleter tout le répertoire. Il semblerait plus pratique d'associer un nom à un numéro, c'est ce que les dictionnaires vont permettre !"
   ]
  },
  {
   "cell_type": "markdown",
   "metadata": {},
   "source": [
    "# Les dictionnaires en Python"
   ]
  },
  {
   "cell_type": "markdown",
   "metadata": {},
   "source": [
    "<div class=\"important\">\n",
    "\n",
    "Un **dictionnaire** est un ensemble **non ordonné** de paires (clé, valeur). On peut accéder à une valeur à partir de sa clé, et cet accès est très rapide.\n",
    "\n",
    "</div>"
   ]
  },
  {
   "cell_type": "markdown",
   "metadata": {},
   "source": [
    "## Création d'un dictionnaire\n",
    "\n",
    "Le répertoire téléphonique précédent peut se mémoriser dans le dictionnaire `repertoire` suivant :"
   ]
  },
  {
   "cell_type": "code",
   "execution_count": 4,
   "metadata": {},
   "outputs": [],
   "source": [
    "repertoire = {'Paul': 5234, 'Emile': 5345, 'Victor': 5186, 'Rose': 5678, 'Hélène': 5432}"
   ]
  },
  {
   "cell_type": "markdown",
   "metadata": {},
   "source": [
    "**Analyse** : \n",
    "- Vous aurez noté que les dictionnaires Python se représentent entre accolades `{}`.\n",
    "- Les différentes paires sont séparées par des virgules et sont de la forme `clé: valeur`. Dans cet exemple :\n",
    "    - la valeur `5234` est associée à la clé `'Paul'`\n",
    "    - la valeur `5345` est associée à la clé `'Emile'`\n",
    "    - etc.\n",
    "    \n",
    "Dans ce cas, on dit qu'on a créé le dictionnaire *par extension*."
   ]
  },
  {
   "cell_type": "markdown",
   "metadata": {},
   "source": [
    "<blockquote class=\"information\" markdown=\"1\">\n",
    "\n",
    "On dit qu'un dictionnaire n'est pas ordonné car l'ordre des paires (clé, valeur) n'a aucune importance. Ainsi, les deux dictionnaires `d1` et `d2` suivants sont considérés comme égaux.\n",
    "\n",
    "```python\n",
    ">>> d1 = {'a': 2, 'b': 5}\n",
    ">>> d2 = {'b': 5, 'a': 2}\n",
    ">>> d1 == d2\n",
    "True\n",
    "```\n",
    "\n",
    "</blockquote>"
   ]
  },
  {
   "cell_type": "markdown",
   "metadata": {},
   "source": [
    "<div class=\"a-faire titre\" markdown=\"1\">\n",
    "\n",
    "### ✏️ Exercice 1\n",
    "\n",
    "Créez un dictionnaire appelé `notes` qui contient les paires (matières, moyenne) de vos trois spécialités. Affichez ensuite ce dictionnaire.\n",
    "\n",
    "</div>"
   ]
  },
  {
   "cell_type": "code",
   "execution_count": null,
   "metadata": {},
   "outputs": [],
   "source": [
    "# à vous de jouer !\n"
   ]
  },
  {
   "cell_type": "markdown",
   "metadata": {},
   "source": [
    "**Remarques importantes** :\n",
    "- Une **clé** peut être de type alphabétique, numérique, ou même de type construit sous certaines conditions. \n",
    "- Les **valeurs** pourront être de tout type sans exclusion.\n",
    "\n",
    "Par exemple, le dictionnaire suivant est tout à fait correct (essayez de repérer les clés et les valeurs associées, ainsi que leurs types respectifs) :\n",
    "\n",
    "```python\n",
    "{1: 'deux', 'trois': [4, 5, 6], 'sept': {8: 9, 10: 'onze'}, 12: 13}\n",
    "```\n",
    "\n",
    "- En Python, le dictionnaire est un objet **mutable**, autrement dit, on peut le modifier (comme nous allons le voir dans le paragraphe suivant)"
   ]
  },
  {
   "cell_type": "markdown",
   "metadata": {},
   "source": [
    "## Accès, modification, ajout, suppression\n",
    "\n",
    "L'**accès** à une valeur d'un dictionnaire se fait par sa clé :"
   ]
  },
  {
   "cell_type": "code",
   "execution_count": 5,
   "metadata": {},
   "outputs": [
    {
     "data": {
      "text/plain": [
       "5678"
      ]
     },
     "execution_count": 5,
     "metadata": {},
     "output_type": "execute_result"
    }
   ],
   "source": [
    "repertoire = {'Paul': 5234, 'Emile': 5345, 'Victor': 5186, 'Rose': 5678, 'Hélène': 5432}\n",
    "repertoire['Rose']"
   ]
  },
  {
   "cell_type": "code",
   "execution_count": 6,
   "metadata": {},
   "outputs": [
    {
     "data": {
      "text/plain": [
       "12"
      ]
     },
     "execution_count": 6,
     "metadata": {},
     "output_type": "execute_result"
    }
   ],
   "source": [
    "fruits = {'poires': 5, 'bananes': 7, 'abricots' : 12}\n",
    "fruits['abricots']"
   ]
  },
  {
   "cell_type": "markdown",
   "metadata": {},
   "source": [
    "**Analyse** : Pour accéder à une valeur d'un dictionnaire, on utilise les crochets et on y indique à l'intérieur la clé correspondante."
   ]
  },
  {
   "cell_type": "markdown",
   "metadata": {},
   "source": [
    "> Vous noterez que c'est beaucoup plus pratique que ce qu'on a vu en introduction."
   ]
  },
  {
   "cell_type": "markdown",
   "metadata": {},
   "source": [
    "Le dictionnaire étant un objet *mutable* on peut **modifier** la valeur associée à une clé ou **ajouter** une nouvelle association et afficher le dictionnaire modifié."
   ]
  },
  {
   "cell_type": "code",
   "execution_count": 7,
   "metadata": {},
   "outputs": [
    {
     "data": {
      "text/plain": [
       "{'Paul': 5234, 'Emile': 5345, 'Victor': 5186, 'Rose': 4921, 'Hélène': 5432}"
      ]
     },
     "execution_count": 7,
     "metadata": {},
     "output_type": "execute_result"
    }
   ],
   "source": [
    "repertoire = {'Paul': 5234, 'Emile': 5345, 'Victor': 5186, 'Rose': 5678, 'Hélène': 5432}\n",
    "repertoire['Rose'] = 4921  # clé existante donc modification de la valeur\n",
    "repertoire"
   ]
  },
  {
   "cell_type": "code",
   "execution_count": 8,
   "metadata": {},
   "outputs": [
    {
     "data": {
      "text/plain": [
       "{'Paul': 5234,\n",
       " 'Emile': 5345,\n",
       " 'Victor': 5186,\n",
       " 'Rose': 4921,\n",
       " 'Hélène': 5432,\n",
       " 'Louane': 4118}"
      ]
     },
     "execution_count": 8,
     "metadata": {},
     "output_type": "execute_result"
    }
   ],
   "source": [
    "repertoire['Louane'] = 4118  # nouvelle clé donc ajout d'une nouvelle association\n",
    "repertoire"
   ]
  },
  {
   "cell_type": "markdown",
   "metadata": {},
   "source": [
    "Si on essaie d'accéder à une clé qui n'existe pas, une erreur de type `KeyError` (*erreur de clé*) est levée :"
   ]
  },
  {
   "cell_type": "code",
   "execution_count": 9,
   "metadata": {},
   "outputs": [
    {
     "ename": "KeyError",
     "evalue": "'Kylian'",
     "output_type": "error",
     "traceback": [
      "\u001b[1;31m---------------------------------------------------------------------------\u001b[0m",
      "\u001b[1;31mKeyError\u001b[0m                                  Traceback (most recent call last)",
      "\u001b[1;32m<ipython-input-9-49c3217eb119>\u001b[0m in \u001b[0;36m<module>\u001b[1;34m\u001b[0m\n\u001b[1;32m----> 1\u001b[1;33m \u001b[0mrepertoire\u001b[0m\u001b[1;33m[\u001b[0m\u001b[1;34m'Kylian'\u001b[0m\u001b[1;33m]\u001b[0m\u001b[1;33m\u001b[0m\u001b[1;33m\u001b[0m\u001b[0m\n\u001b[0m",
      "\u001b[1;31mKeyError\u001b[0m: 'Kylian'"
     ]
    }
   ],
   "source": [
    "repertoire['Kylian']"
   ]
  },
  {
   "cell_type": "markdown",
   "metadata": {},
   "source": [
    "Pour **supprimer** une association d'un dictionnaire on peut utilise le mot clé `del`."
   ]
  },
  {
   "cell_type": "code",
   "execution_count": 10,
   "metadata": {
    "scrolled": true
   },
   "outputs": [
    {
     "name": "stdout",
     "output_type": "stream",
     "text": [
      "{'Paul': 5234, 'Emile': 5345, 'Victor': 5186, 'Rose': 4921, 'Hélène': 5432, 'Louane': 4118}\n",
      "{'Emile': 5345, 'Victor': 5186, 'Rose': 4921, 'Hélène': 5432, 'Louane': 4118}\n"
     ]
    }
   ],
   "source": [
    "print(repertoire)\n",
    "del repertoire['Paul']\n",
    "print(repertoire)"
   ]
  },
  {
   "cell_type": "markdown",
   "metadata": {},
   "source": [
    "## Taille d'un dictionnaire\n",
    "\n",
    "La fonction `len` renvoie la taille d'un dictionnaire."
   ]
  },
  {
   "cell_type": "code",
   "execution_count": 11,
   "metadata": {},
   "outputs": [
    {
     "data": {
      "text/plain": [
       "5"
      ]
     },
     "execution_count": 11,
     "metadata": {},
     "output_type": "execute_result"
    }
   ],
   "source": [
    "repertoire = {'Paul': 5234, 'Emile': 5345, 'Victor': 5186, 'Rose': 5678, 'Hélène': 5432}\n",
    "len(repertoire)"
   ]
  },
  {
   "cell_type": "code",
   "execution_count": 12,
   "metadata": {},
   "outputs": [
    {
     "data": {
      "text/plain": [
       "3"
      ]
     },
     "execution_count": 12,
     "metadata": {},
     "output_type": "execute_result"
    }
   ],
   "source": [
    "fruits = {'poires': 5, 'bananes': 7, 'abricots' : 12}\n",
    "len(fruits)"
   ]
  },
  {
   "cell_type": "markdown",
   "metadata": {},
   "source": [
    "<div class=\"a-faire titre\" markdown=\"1\">\n",
    "\n",
    "### ✏️ Exercice 2\n",
    "\n",
    "On reprend le dictionnaire `notes` de l'exercice 1.\n",
    "\n",
    "1. Affichez la moyenne de NSI.\n",
    "2. Modifiez votre moyenne de NSI, qui a gagné 2 points. Affichez le dictionnaire.\n",
    "3. Ajoutez la matière Anglais avec sa moyenne. Affichez le dictionnaire.\n",
    "4. Affichez la taille du dictionnaire.\n",
    "5. Supprimez une des trois spécialités et affichez le dictionnaire.\n",
    "\n",
    "</div>\n"
   ]
  },
  {
   "cell_type": "code",
   "execution_count": null,
   "metadata": {},
   "outputs": [],
   "source": [
    "# question 1\n"
   ]
  },
  {
   "cell_type": "code",
   "execution_count": null,
   "metadata": {},
   "outputs": [],
   "source": [
    "# question 2\n"
   ]
  },
  {
   "cell_type": "code",
   "execution_count": null,
   "metadata": {},
   "outputs": [],
   "source": [
    "# question 3\n"
   ]
  },
  {
   "cell_type": "code",
   "execution_count": null,
   "metadata": {},
   "outputs": [],
   "source": [
    "# question 4\n"
   ]
  },
  {
   "cell_type": "code",
   "execution_count": null,
   "metadata": {},
   "outputs": [],
   "source": [
    "# question 5\n"
   ]
  },
  {
   "cell_type": "markdown",
   "metadata": {},
   "source": [
    "## Autres manières de créer un dictionnaire\n",
    "\n",
    "Pour créer un dictionnaire vide on peut procéder ainsi :"
   ]
  },
  {
   "cell_type": "code",
   "execution_count": 13,
   "metadata": {},
   "outputs": [
    {
     "data": {
      "text/plain": [
       "{}"
      ]
     },
     "execution_count": 13,
     "metadata": {},
     "output_type": "execute_result"
    }
   ],
   "source": [
    "d1 = {}  # création d'un dictionnaire vide\n",
    "d1"
   ]
  },
  {
   "cell_type": "code",
   "execution_count": 14,
   "metadata": {},
   "outputs": [
    {
     "data": {
      "text/plain": [
       "{}"
      ]
     },
     "execution_count": 14,
     "metadata": {},
     "output_type": "execute_result"
    }
   ],
   "source": [
    "d2 = dict()  # création d'un dictionnaire vide (autre méthode)\n",
    "d2"
   ]
  },
  {
   "cell_type": "markdown",
   "metadata": {},
   "source": [
    "On peut aussi créer un dictionnaire par compréhension :"
   ]
  },
  {
   "cell_type": "code",
   "execution_count": 15,
   "metadata": {},
   "outputs": [
    {
     "data": {
      "text/plain": [
       "{1: 1, 2: 4, 3: 9, 4: 16, 5: 25, 6: 36, 7: 49, 8: 64, 9: 81}"
      ]
     },
     "execution_count": 15,
     "metadata": {},
     "output_type": "execute_result"
    }
   ],
   "source": [
    "d3 = {k: k**2 for k in range(1, 10)}  # création d'un dictionnaire par compréhension\n",
    "d3"
   ]
  },
  {
   "cell_type": "markdown",
   "metadata": {},
   "source": [
    "**Analyse** : on a ici créé un dictionnaire dont les clés sont égales à `k` et leurs valeurs associées égales à `k**2`, pour `k` allant de 1 à 9. "
   ]
  },
  {
   "cell_type": "markdown",
   "metadata": {},
   "source": [
    "Il est même possible de créer un dictionnaire à partir d'une liste de couples."
   ]
  },
  {
   "cell_type": "code",
   "execution_count": 16,
   "metadata": {},
   "outputs": [
    {
     "data": {
      "text/plain": [
       "{'cle1': 'valeur1', 'cle2': 'valeur2'}"
      ]
     },
     "execution_count": 16,
     "metadata": {},
     "output_type": "execute_result"
    }
   ],
   "source": [
    "liste = [('cle1', 'valeur1'),('cle2', 'valeur2')]\n",
    "d4 = dict(liste)\n",
    "d4"
   ]
  },
  {
   "cell_type": "code",
   "execution_count": 17,
   "metadata": {},
   "outputs": [
    {
     "data": {
      "text/plain": [
       "{'Paul': 5234, 'Emile': 5345, 'Victor': 5186, 'Rose': 5678, 'Hélène': 5432}"
      ]
     },
     "execution_count": 17,
     "metadata": {},
     "output_type": "execute_result"
    }
   ],
   "source": [
    "liste_tel = [[\"Paul\", 5234], [\"Emile\", 5345], [\"Victor\", 5186], [\"Rose\", 5678], [\"Hélène\", 5432]]\n",
    "d5 = dict(liste_tel)\n",
    "d5"
   ]
  },
  {
   "cell_type": "markdown",
   "metadata": {},
   "source": [
    "# Les itérateurs pour les dictionnaires"
   ]
  },
  {
   "cell_type": "markdown",
   "metadata": {},
   "source": [
    "<div class=\"important\" markdown=\"1\">\n",
    "\n",
    "Il est possible de parcourir un dictionnaire de trois manières :\n",
    "\n",
    "- parcourir l'ensemble des **clés** avec la méthode `keys()` ;\n",
    "- parcourir l'ensemble des **valeurs** avec la méthode `values()` ;\n",
    "- parcourir l'ensemble des **paires clés-valeurs** avec la méthode `items()`.\n",
    "\n",
    "On peut itérer sur un dictionnaire grâce à l'une de ces méthodes.\n",
    "\n",
    "</div>"
   ]
  },
  {
   "cell_type": "code",
   "execution_count": 18,
   "metadata": {},
   "outputs": [
    {
     "name": "stdout",
     "output_type": "stream",
     "text": [
      "Paul\n",
      "Emile\n",
      "Victor\n",
      "Rose\n",
      "Hélène\n"
     ]
    }
   ],
   "source": [
    "repertoire = {'Paul': 5234, 'Emile': 5345, 'Victor': 5186, 'Rose': 5678, 'Hélène': 5432}\n",
    "for prenom in repertoire.keys():\n",
    "    print(prenom)"
   ]
  },
  {
   "cell_type": "code",
   "execution_count": 19,
   "metadata": {},
   "outputs": [
    {
     "name": "stdout",
     "output_type": "stream",
     "text": [
      "5234\n",
      "5345\n",
      "5186\n",
      "5678\n",
      "5432\n"
     ]
    }
   ],
   "source": [
    "for num in repertoire.values():\n",
    "    print(num)"
   ]
  },
  {
   "cell_type": "code",
   "execution_count": 20,
   "metadata": {},
   "outputs": [
    {
     "name": "stdout",
     "output_type": "stream",
     "text": [
      "Paul -> 5234\n",
      "Emile -> 5345\n",
      "Victor -> 5186\n",
      "Rose -> 5678\n",
      "Hélène -> 5432\n"
     ]
    }
   ],
   "source": [
    "for prenom, num in repertoire.items():\n",
    "    print(prenom, '->', num)"
   ]
  },
  {
   "cell_type": "markdown",
   "metadata": {},
   "source": [
    "On peut aussi interroger l'appartenance d'une valeur ou d'une clé grâce au mot clé `in`."
   ]
  },
  {
   "cell_type": "code",
   "execution_count": 21,
   "metadata": {},
   "outputs": [
    {
     "data": {
      "text/plain": [
       "False"
      ]
     },
     "execution_count": 21,
     "metadata": {},
     "output_type": "execute_result"
    }
   ],
   "source": [
    "'John' in repertoire.keys()"
   ]
  },
  {
   "cell_type": "code",
   "execution_count": 22,
   "metadata": {},
   "outputs": [
    {
     "data": {
      "text/plain": [
       "False"
      ]
     },
     "execution_count": 22,
     "metadata": {},
     "output_type": "execute_result"
    }
   ],
   "source": [
    "'Rose' not in repertoire.keys()"
   ]
  },
  {
   "cell_type": "code",
   "execution_count": 23,
   "metadata": {},
   "outputs": [
    {
     "data": {
      "text/plain": [
       "True"
      ]
     },
     "execution_count": 23,
     "metadata": {},
     "output_type": "execute_result"
    }
   ],
   "source": [
    "5186 in repertoire.values()"
   ]
  },
  {
   "cell_type": "markdown",
   "metadata": {},
   "source": [
    "<div class=\"a-faire titre\" markdown=\"1\">\n",
    "\n",
    "### ✏️ Exercice 3\n",
    "\n",
    "On considère le dictionnaire `fruits` suivant.\n",
    "\n",
    "```python\n",
    "fruits = {'poires': 5, 'pommes': 11, 'bananes': 7, 'abricots' : 12}\n",
    "```\n",
    "\n",
    "1. Affichez tous les fruits du dictionnaire.\n",
    "2. Affichez toutes les quantités du dictionnaire.\n",
    "3. Ecrivez un programme permettant d'obtenir l'affichage suivant.\n",
    "\n",
    "```\n",
    "Il reste 5 poires\n",
    "Il reste 11 pommes\n",
    "Il reste 7 bananes\n",
    "Il reste 12 abricots\n",
    "```\n",
    "\n",
    "</div>"
   ]
  },
  {
   "cell_type": "code",
   "execution_count": null,
   "metadata": {},
   "outputs": [],
   "source": [
    "fruits = {'poires': 5, 'pommes': 11, 'bananes': 7, 'abricots' : 12}"
   ]
  },
  {
   "cell_type": "code",
   "execution_count": null,
   "metadata": {},
   "outputs": [],
   "source": [
    "# question 1\n"
   ]
  },
  {
   "cell_type": "code",
   "execution_count": null,
   "metadata": {},
   "outputs": [],
   "source": [
    "# question 2\n"
   ]
  },
  {
   "cell_type": "code",
   "execution_count": null,
   "metadata": {},
   "outputs": [],
   "source": [
    "# question 3\n"
   ]
  },
  {
   "cell_type": "markdown",
   "metadata": {},
   "source": [
    "---\n",
    "\n",
    "**Références**\n",
    "\n",
    "- Ressources pédagogiques du DIU EIL, Université de Nantes, C. DECLERQ."
   ]
  },
  {
   "cell_type": "markdown",
   "metadata": {},
   "source": [
    "---\n",
    "Germain BECKER & Sébastien POINT, Lycée Mounier, ANGERS ![Licence Creative Commons](https://i.creativecommons.org/l/by-nc-sa/4.0/88x31.png)"
   ]
  }
 ],
 "metadata": {
  "celltoolbar": "Format de la Cellule Texte Brut",
  "kernelspec": {
   "display_name": "Python 3",
   "language": "python",
   "name": "python3"
  },
  "language_info": {
   "codemirror_mode": {
    "name": "ipython",
    "version": 3
   },
   "file_extension": ".py",
   "mimetype": "text/x-python",
   "name": "python",
   "nbconvert_exporter": "python",
   "pygments_lexer": "ipython3",
   "version": "3.7.10"
  }
 },
 "nbformat": 4,
 "nbformat_minor": 2
}
