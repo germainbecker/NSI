{
 "cells": [
  {
   "cell_type": "markdown",
   "metadata": {},
   "source": [
    "# Définition\n",
    "\n",
    "Les **tableaux** sont des séquences (comme les tuples, comme les chaînes de caractères) qui permettent de contenir d'autres objets de n'importe quel type (et même de types différents) : des tableaux de nombres entiers, des tableaux de flottants, des tableaux de chaînes de caractères. Dit plus simplement, un tableau permet de stocker plusieurs variables dans une seule variable et d'y accéder ensuite facilement.\n",
    "\n",
    ">Dans le langage Python, les tableaux sont implémentés par le type prédéfini `list`. Ainsi, on trouvera souvent dans la littérature le mot *liste* plutôt que le mot *tableau* alors qu'en réalité, ce sont deux types différents (les listes sont étudiées en classe de Terminale). Dans la suite du cours, on utilisera uniquement le terme *tableau* qui est celui qui apparaît dans le programme et on ne présentera que les notions usuelles des tableaux telles qu'on les trouve dans les autres langages.\n",
    "\n",
    "**Vidéo de cours** :\n",
    "\n",
    "Voici une vidéo très bien faite sur les tableaux : [Lumni : cours sur les listes](http://www.lumni.fr/video/notion-de-listes-en-informatique-et-application-aux-images-numeriques) (*pensez à remplacer le mot \"liste\" par le mot \"tableau\"*). Regardez cette vidéo en guise d'introduction à la notion de tableau.\n",
    "\n",
    "Le cours qui suit reprend les éléments présentés dans la vidéo avec quelques compléments sur le parcours de tableau par valeur et sur \n",
    "\n",
    "\n",
    "# Tableaux indexés\n",
    "\n",
    "## Créer un tableau\n",
    "\n",
    "Les tableaux se déclarent entre crochets et les valeurs sont séparées par des virgules."
   ]
  },
  {
   "cell_type": "code",
   "execution_count": 12,
   "metadata": {},
   "outputs": [
    {
     "name": "stdout",
     "output_type": "stream",
     "text": [
      "[1, 5, 10, 20] [25.0, 17.2, 14.8, 108.7, 137.4] ['Richard', 'Baptiste', '0611111111'] [True, True, False]\n"
     ]
    }
   ],
   "source": [
    "tab1 = [1, 5, 10, 20] # un tableau d'entiers\n",
    "tab2 = [25.0, 17.2, 14.8, 108.7, 137.4] # un tableau de flottants\n",
    "tab3 = [\"Richard\", \"Baptiste\", \"0611111111\"] # un tableau de chaînes de caractères\n",
    "tab4 = [True, (10 < 12), (\"alpha\" >= \"beta\")] # un tableau de booléens\n",
    "print(tab1, tab2, tab3, tab4)"
   ]
  },
  {
   "cell_type": "markdown",
   "metadata": {},
   "source": [
    "### Créer un tableau vide\n",
    "\n",
    "Il suffit de ne rien écrire entre les crochets."
   ]
  },
  {
   "cell_type": "code",
   "execution_count": 9,
   "metadata": {},
   "outputs": [],
   "source": [
    "tab5 = []"
   ]
  },
  {
   "cell_type": "markdown",
   "metadata": {},
   "source": [
    "### Créer un tableau de taille donnée\n",
    "\n",
    "On peut créer un tableau de taille donnée, en l'initialisant par exemple avec des zéros. Pour créer un tableau de taille 15 (initialisé avec des zéros) on écrit simplement :"
   ]
  },
  {
   "cell_type": "code",
   "execution_count": 10,
   "metadata": {},
   "outputs": [
    {
     "data": {
      "text/plain": [
       "[0, 0, 0, 0, 0, 0, 0, 0, 0, 0, 0, 0, 0, 0, 0]"
      ]
     },
     "execution_count": 10,
     "metadata": {},
     "output_type": "execute_result"
    }
   ],
   "source": [
    "tab6 = [0]*15\n",
    "tab6 "
   ]
  },
  {
   "cell_type": "markdown",
   "metadata": {},
   "source": [
    "## Accéder aux éléments d'un tableau\n",
    "\n",
    "Les éléments d'un tableau sont **indicés**, chaque élément a sa place. On accède à un élément d'un tableau en utilisant les crochets et l'indice (ou l'index) de l'élément souhaité : `tab[i]` renvoie l'élément d'indice `i` du tableau `tab`."
   ]
  },
  {
   "cell_type": "code",
   "execution_count": 15,
   "metadata": {},
   "outputs": [
    {
     "name": "stdout",
     "output_type": "stream",
     "text": [
      "10 1\n",
      "Baptiste 0611111111\n"
     ]
    }
   ],
   "source": [
    "tab1 = [1, 5, 10, 20]\n",
    "tab3 = [\"Richard\", \"Baptiste\", \"0611111111\"]\n",
    "print(tab1[2], tab1[0])\n",
    "print(tab3[1], tab3[2])"
   ]
  },
  {
   "cell_type": "markdown",
   "metadata": {},
   "source": [
    ">**Remarque importante** : il ne faut pas oublier que le premier élément est celui d'indice (ou index) 0 !\n",
    "\n",
    "Si on cherche à accéder à un élément qui n'existe pas (car l'indice est trop grand), on obtient le message d'erreur `IndexError: list index out of range`."
   ]
  },
  {
   "cell_type": "code",
   "execution_count": 17,
   "metadata": {},
   "outputs": [
    {
     "ename": "IndexError",
     "evalue": "list index out of range",
     "output_type": "error",
     "traceback": [
      "\u001b[1;31m---------------------------------------------------------------------------\u001b[0m",
      "\u001b[1;31mIndexError\u001b[0m                                Traceback (most recent call last)",
      "\u001b[1;32m<ipython-input-17-0edc566a8abc>\u001b[0m in \u001b[0;36m<module>\u001b[1;34m\u001b[0m\n\u001b[0;32m      1\u001b[0m \u001b[0mtab1\u001b[0m \u001b[1;33m=\u001b[0m \u001b[1;33m[\u001b[0m\u001b[1;36m1\u001b[0m\u001b[1;33m,\u001b[0m \u001b[1;36m5\u001b[0m\u001b[1;33m,\u001b[0m \u001b[1;36m10\u001b[0m\u001b[1;33m,\u001b[0m \u001b[1;36m20\u001b[0m\u001b[1;33m]\u001b[0m\u001b[1;33m\u001b[0m\u001b[1;33m\u001b[0m\u001b[0m\n\u001b[1;32m----> 2\u001b[1;33m \u001b[0mtab1\u001b[0m\u001b[1;33m[\u001b[0m\u001b[1;36m5\u001b[0m\u001b[1;33m]\u001b[0m\u001b[1;33m\u001b[0m\u001b[1;33m\u001b[0m\u001b[0m\n\u001b[0m",
      "\u001b[1;31mIndexError\u001b[0m: list index out of range"
     ]
    }
   ],
   "source": [
    "tab1 = [1, 5, 10, 20]\n",
    "tab1[5]"
   ]
  },
  {
   "cell_type": "markdown",
   "metadata": {},
   "source": [
    "## Modifier les éléments d'un tableau\n",
    "\n",
    "Les tableaux sont des types dits **mutables** : cela signifie que l'on peut remplacer un élément d'un tableau par un autre (ce qui n'était pas le cas pour les tuples ou les chaînes de caractères).\n",
    "\n",
    "**Exemple**"
   ]
  },
  {
   "cell_type": "code",
   "execution_count": 18,
   "metadata": {},
   "outputs": [
    {
     "data": {
      "text/plain": [
       "[1, 2, 10, 4, 5, 6, 7]"
      ]
     },
     "execution_count": 18,
     "metadata": {},
     "output_type": "execute_result"
    }
   ],
   "source": [
    "t = [1, 2, 3, 4, 5, 6, 7]\n",
    "t[2] = 10 # l'élément d'index 2 vaut maintenant 10\n",
    "t"
   ]
  },
  {
   "cell_type": "markdown",
   "metadata": {},
   "source": [
    "## Taille d'un tableau\n",
    "\n",
    "La taille (ou longueur) d'un tableau, c'est-à-dire le nombre d'éléments qu'il contient, est renvoyée par la fonction `len`."
   ]
  },
  {
   "cell_type": "code",
   "execution_count": 19,
   "metadata": {},
   "outputs": [
    {
     "data": {
      "text/plain": [
       "4"
      ]
     },
     "execution_count": 19,
     "metadata": {},
     "output_type": "execute_result"
    }
   ],
   "source": [
    "tab = [0, 2, 3, 10]\n",
    "len(tab)"
   ]
  },
  {
   "cell_type": "code",
   "execution_count": 21,
   "metadata": {},
   "outputs": [
    {
     "data": {
      "text/plain": [
       "6"
      ]
     },
     "execution_count": 21,
     "metadata": {},
     "output_type": "execute_result"
    }
   ],
   "source": [
    "T = [\"Albert\", \"Grégory\", \"Justine\", \"Anaïs\", \"Myriam\", \"Pascal\"]\n",
    "len(T)"
   ]
  },
  {
   "cell_type": "markdown",
   "metadata": {},
   "source": [
    "La taille d'un tableau permettra de parcourir les différents élements du tableau avec une boucle `for` ou `while` (voir plus loin) et c'est en fonction d'elle que l'on définira le coût d'un algorithme traitant un tableau."
   ]
  },
  {
   "cell_type": "markdown",
   "metadata": {},
   "source": [
    "# Construire un tableau\n",
    "\n",
    "Supposons que l'on veuille construire un tableau de taille 100 contenant l'entier $2\\times i$ dans sa case d'index $i$. On peut bien sûr le construire de la manière suivante"
   ]
  },
  {
   "cell_type": "code",
   "execution_count": 22,
   "metadata": {},
   "outputs": [],
   "source": [
    "t = [0, 2, 4, 6, 8, 10, 12, ...] # incomplet (trop long)"
   ]
  },
  {
   "cell_type": "markdown",
   "metadata": {},
   "source": [
    "mais c'est extrêment fastidieux car il faudrait écrire les 100 valeurs. Il existe deux solutions pour construire ce tableau de manière plus rapide.\n",
    "\n",
    "## Construire un tableau avec une boucle ``for``\n",
    "\n",
    "La première façon est de créer au préalable un tableau de taille 100 avec une valeur arbitraire (souvent 0) puis de le remplir ensuite avec une boucle `for` :"
   ]
  },
  {
   "cell_type": "code",
   "execution_count": 24,
   "metadata": {},
   "outputs": [
    {
     "name": "stdout",
     "output_type": "stream",
     "text": [
      "[0, 2, 4, 6, 8, 10, 12, 14, 16, 18, 20, 22, 24, 26, 28, 30, 32, 34, 36, 38, 40, 42, 44, 46, 48, 50, 52, 54, 56, 58, 60, 62, 64, 66, 68, 70, 72, 74, 76, 78, 80, 82, 84, 86, 88, 90, 92, 94, 96, 98, 100, 102, 104, 106, 108, 110, 112, 114, 116, 118, 120, 122, 124, 126, 128, 130, 132, 134, 136, 138, 140, 142, 144, 146, 148, 150, 152, 154, 156, 158, 160, 162, 164, 166, 168, 170, 172, 174, 176, 178, 180, 182, 184, 186, 188, 190, 192, 194, 196, 198]\n"
     ]
    }
   ],
   "source": [
    "t = [0]*100 # création d'un tableau de taille 100 avec que des zéros\n",
    "for i in range(100): # construction du tableau\n",
    "    t[i] = 2*i\n",
    "print(t) # affichage du tableau"
   ]
  },
  {
   "cell_type": "markdown",
   "metadata": {},
   "source": [
    "Comme c'est une construction qui revient souvent, Python propose une syntaxe plus compacte encore : une construction par compréhension."
   ]
  },
  {
   "cell_type": "markdown",
   "metadata": {},
   "source": [
    "## Construire un tableau *par compréhension*\n",
    "\n",
    "Pour construire le tableau précédent par compréhension, l'instruction suivante suffit :"
   ]
  },
  {
   "cell_type": "code",
   "execution_count": 25,
   "metadata": {},
   "outputs": [
    {
     "name": "stdout",
     "output_type": "stream",
     "text": [
      "[0, 2, 4, 6, 8, 10, 12, 14, 16, 18, 20, 22, 24, 26, 28, 30, 32, 34, 36, 38, 40, 42, 44, 46, 48, 50, 52, 54, 56, 58, 60, 62, 64, 66, 68, 70, 72, 74, 76, 78, 80, 82, 84, 86, 88, 90, 92, 94, 96, 98, 100, 102, 104, 106, 108, 110, 112, 114, 116, 118, 120, 122, 124, 126, 128, 130, 132, 134, 136, 138, 140, 142, 144, 146, 148, 150, 152, 154, 156, 158, 160, 162, 164, 166, 168, 170, 172, 174, 176, 178, 180, 182, 184, 186, 188, 190, 192, 194, 196, 198]\n"
     ]
    }
   ],
   "source": [
    "t = [2*i for i in range(100)] # création et construction du tableau\n",
    "print(t) # affichage du tableau"
   ]
  },
  {
   "cell_type": "markdown",
   "metadata": {},
   "source": [
    "# Parcourir un tableau\n",
    "\n",
    "Lorsque l'on veut répéter une opération pour chaque élément d'un tableau `t`, il est possible de parcourir le tableau avec une boucle `for`. Cette boucle peut itérer sur les indices des éléments ou directement sur les valeurs des éléments.\n",
    "\n",
    "## Parcours par indice\n",
    "\n",
    "La boucle suivante énumère les indices `i` du tableau `t`, les éléments correspondants étant récupérés via l'expression ``t[i]``."
   ]
  },
  {
   "cell_type": "code",
   "execution_count": 47,
   "metadata": {},
   "outputs": [
    {
     "name": "stdout",
     "output_type": "stream",
     "text": [
      "15\n",
      "13\n",
      "8\n",
      "18\n",
      "10\n"
     ]
    }
   ],
   "source": [
    "t = [15, 13, 8, 18, 10]\n",
    "for i in range(len(t)): # on utilise la fonction len\n",
    "    print(t[i])"
   ]
  },
  {
   "cell_type": "markdown",
   "metadata": {},
   "source": [
    "Ici, comme `len(t)` renvoie la valeur 5, alors `range(len(t))` crée la séquence d'entiers 0, 1, 2, 3, 4. La variable `i` prend successivement les valeurs 0, 1, 2, 3 et 4, autrement dit les valeurs des différents indices du tableau.\n",
    "\n",
    "On peut le visualiser facilement avec [Python Tutor](http://www.pythontutor.com/visualize.html#code=t%20%3D%20%5B15,%2013,%208,%2018,%2010%5D%0Afor%20i%20in%20range%28len%28t%29%29%3A%20%23%20on%20utilise%20la%20fonction%20len%0A%20%20%20%20print%28t%5Bi%5D%29&cumulative=true&curInstr=0&heapPrimitives=false&mode=display&origin=opt-frontend.js&py=3&rawInputLstJSON=%5B%5D&textReferences=false)."
   ]
  },
  {
   "cell_type": "markdown",
   "metadata": {},
   "source": [
    "<iframe width=\"800\" height=\"500\" frameborder=\"0\" src=\"http://pythontutor.com/iframe-embed.html#code=t%20%3D%20%5B15,%2013,%208,%2018,%2010%5D%0Afor%20i%20in%20range%28len%28t%29%29%3A%20%23%20on%20utilise%20la%20fonction%20len%0A%20%20%20%20print%28t%5Bi%5D%29&codeDivHeight=400&codeDivWidth=350&cumulative=true&curInstr=0&heapPrimitives=false&origin=opt-frontend.js&py=3&rawInputLstJSON=%5B%5D&textReferences=false\"> </iframe>"
   ]
  },
  {
   "cell_type": "markdown",
   "metadata": {},
   "source": [
    "## Parcours par valeur\n",
    "\n",
    "La boucle suivante énumère quant à elle, les différents éléments `e` du tableau : elle effectue un tour de boucle pour chaque élément de `t` et l'élément inspecté à un tour donné est associé à la variable `e`. "
   ]
  },
  {
   "cell_type": "code",
   "execution_count": 48,
   "metadata": {},
   "outputs": [
    {
     "name": "stdout",
     "output_type": "stream",
     "text": [
      "15\n",
      "13\n",
      "8\n",
      "18\n",
      "10\n"
     ]
    }
   ],
   "source": [
    "t = [15, 13, 8, 18, 10]\n",
    "for e in t:\n",
    "    print(e)"
   ]
  },
  {
   "cell_type": "markdown",
   "metadata": {},
   "source": [
    "On peut aussi le visualiser facilement avec [Python Tutor](http://www.pythontutor.com/visualize.html#code=t%20%3D%20%5B15,%2013,%208,%2018,%2010%5D%0Afor%20e%20in%20t%3A%0A%20%20%20%20print%28e%29&cumulative=true&curInstr=0&heapPrimitives=false&mode=display&origin=opt-frontend.js&py=3&rawInputLstJSON=%5B%5D&textReferences=false)."
   ]
  },
  {
   "cell_type": "markdown",
   "metadata": {},
   "source": [
    "<iframe width=\"800\" height=\"500\" frameborder=\"0\" src=\"http://pythontutor.com/iframe-embed.html#code=t%20%3D%20%5B15,%2013,%208,%2018,%2010%5D%0Afor%20e%20in%20t%3A%0A%20%20%20%20print%28e%29&codeDivHeight=400&codeDivWidth=350&cumulative=true&curInstr=0&heapPrimitives=false&origin=opt-frontend.js&py=3&rawInputLstJSON=%5B%5D&textReferences=false\"> </iframe>"
   ]
  },
  {
   "cell_type": "markdown",
   "metadata": {},
   "source": [
    "**Remarques** :\n",
    "\n",
    "- On utilisera l'une ou l'autre de ces boucles selon le besoin. Si on a besoin de connaître l'indice auquel on se trouve à chaque tour de boucle il faudra opter pour le parcours par indice.\n",
    "- Il est possible de ne parcourir qu'une partie du tableau. Pour cela il faut utiliser le parcours par indice en indiquant dans la fonction `range` les indices souhaités. Par exemple, pour parcourir seulement les éléments compris entre l'index 1 et l'index 3, on écrit :"
   ]
  },
  {
   "cell_type": "code",
   "execution_count": 51,
   "metadata": {},
   "outputs": [
    {
     "name": "stdout",
     "output_type": "stream",
     "text": [
      "13\n",
      "8\n",
      "18\n"
     ]
    }
   ],
   "source": [
    "t = [15, 13, 8, 18, 10]\n",
    "for i in range(1, 4):\n",
    "    print(t[i])"
   ]
  },
  {
   "cell_type": "markdown",
   "metadata": {},
   "source": [
    "# Tableaux de tableaux\n",
    "\n",
    "Un tableau peut aussi contenir des ... tableaux. Chaque élément du tableau est alors lui-même un tableau, c'est pourquoi on parle d'un tableau de tableaux.\n",
    "\n",
    "**Exemple** : Le tableau `t` qui suit est un tableau dont les éléments sont eux-mêmes des tableaux. C'est un tableau de 4 tableaux."
   ]
  },
  {
   "cell_type": "code",
   "execution_count": 55,
   "metadata": {},
   "outputs": [],
   "source": [
    "t = [[0, 5, -1], [1, 2, 4], [8, -5, 3], [4, 0, 6]]"
   ]
  },
  {
   "cell_type": "markdown",
   "metadata": {},
   "source": [
    "Pour mieux visualiser cette variable comme un tableau au sens classique, on peut aussi la définir ainsi :"
   ]
  },
  {
   "cell_type": "code",
   "execution_count": 27,
   "metadata": {},
   "outputs": [],
   "source": [
    "t = [[0, 5, -1],\n",
    "     [1, 2, 4],\n",
    "     [8, -5, 3],\n",
    "     [4, 0, 6]]"
   ]
  },
  {
   "cell_type": "markdown",
   "metadata": {},
   "source": [
    "Avec Python Tutor, on peut bien visualiser le tableau `t` :\n",
    "\n",
    "<img class=\"centre image-responsive\" src=\"data/tableau_de_tableaux.png\">"
   ]
  },
  {
   "cell_type": "markdown",
   "metadata": {},
   "source": [
    "## Accéder aux éléments d'un tableau de tableaux\n",
    "\n",
    "On peut alors accéder à chaque élément du tableau grâce à son index entre crochets mais aussi à chaque élément de chaque sous-tableau comme le montre les exemples ci-dessous."
   ]
  },
  {
   "cell_type": "code",
   "execution_count": 32,
   "metadata": {},
   "outputs": [
    {
     "name": "stdout",
     "output_type": "stream",
     "text": [
      "[0, 5, -1]\n",
      "[1, 2, 4]\n"
     ]
    }
   ],
   "source": [
    "print(t[0])\n",
    "print(t[1])"
   ]
  },
  {
   "cell_type": "markdown",
   "metadata": {},
   "source": [
    "Pour accéder au troisième élément du deuxième sous-tableau (le nombre 4), il faut accéder au deuxième sous-tableau avec l'instruction `t[1]` (qui est un tableau) puis à son troisième élément avec la notation habituelle entre crochets `[2]` :"
   ]
  },
  {
   "cell_type": "code",
   "execution_count": 34,
   "metadata": {},
   "outputs": [
    {
     "data": {
      "text/plain": [
       "4"
      ]
     },
     "execution_count": 34,
     "metadata": {},
     "output_type": "execute_result"
    }
   ],
   "source": [
    "t[1][2]  # élément d'indice 2 de l'élément d'indice 1"
   ]
  },
  {
   "cell_type": "markdown",
   "metadata": {},
   "source": [
    "## Construction d'un tableau de tableaux\n",
    "\n",
    "Pour construire un tableau de tableaux, il est très avantageux de le construire par compréhension."
   ]
  },
  {
   "cell_type": "code",
   "execution_count": 42,
   "metadata": {},
   "outputs": [
    {
     "data": {
      "text/plain": [
       "[[1, 2, 3], [1, 2, 3], [1, 2, 3], [1, 2, 3]]"
      ]
     },
     "execution_count": 42,
     "metadata": {},
     "output_type": "execute_result"
    }
   ],
   "source": [
    "t1 = [[1, 2, 3] for i in range(4)]\n",
    "t1"
   ]
  },
  {
   "cell_type": "code",
   "execution_count": 39,
   "metadata": {},
   "outputs": [
    {
     "data": {
      "text/plain": [
       "[[0, 0, 0], [0, 1, 2], [0, 2, 4], [0, 3, 6], [0, 4, 8]]"
      ]
     },
     "execution_count": 39,
     "metadata": {},
     "output_type": "execute_result"
    }
   ],
   "source": [
    "t2 = [[i*j for j in range(3)] for i in range(5)]\n",
    "t2"
   ]
  },
  {
   "cell_type": "markdown",
   "metadata": {},
   "source": [
    "## Parcourir un tableau de tableaux\n",
    "\n",
    "Il faut utiliser une double boucle `for` et on a le choix : un parcours par indice ou un parcours par valeur.\n",
    "\n",
    "### Par indice"
   ]
  },
  {
   "cell_type": "code",
   "execution_count": 52,
   "metadata": {},
   "outputs": [
    {
     "name": "stdout",
     "output_type": "stream",
     "text": [
      "0\n",
      "5\n",
      "-1\n",
      "1\n",
      "2\n",
      "4\n",
      "8\n",
      "-5\n",
      "3\n",
      "4\n",
      "0\n",
      "6\n"
     ]
    }
   ],
   "source": [
    "t = [[0, 5, -1], [1, 2, 4], [8, -5, 3], [4, 0, 6]]\n",
    "nb_lignes = len(t)\n",
    "nb_colonnes = len(t[0])\n",
    "for i in range(nb_lignes):\n",
    "    for j in range(nb_colonnes):\n",
    "        print(t[i][j])        "
   ]
  },
  {
   "cell_type": "markdown",
   "metadata": {},
   "source": [
    "Voici une visualisation avec [Python Tutor](http://www.pythontutor.com/visualize.html#code=t%20%3D%20%5B%5B0,%205,%20-1%5D,%20%5B1,%202,%204%5D,%20%5B8,%20-5,%203%5D,%20%5B4,%200,%206%5D%5D%0Anb_lignes%20%3D%20len%28t%29%0Anb_colonnes%20%3D%20len%28t%5B0%5D%29%0Afor%20i%20in%20range%28nb_lignes%29%3A%0A%20%20%20%20for%20j%20in%20range%28nb_colonnes%29%3A%0A%20%20%20%20%20%20%20%20print%28t%5Bi%5D%5Bj%5D%29&cumulative=true&curInstr=0&heapPrimitives=false&mode=display&origin=opt-frontend.js&py=3&rawInputLstJSON=%5B%5D&textReferences=false)."
   ]
  },
  {
   "cell_type": "markdown",
   "metadata": {},
   "source": [
    "<iframe width=\"800\" height=\"500\" frameborder=\"0\" src=\"http://pythontutor.com/iframe-embed.html#code=t%20%3D%20%5B%5B0,%205,%20-1%5D,%20%5B1,%202,%204%5D,%20%5B8,%20-5,%203%5D,%20%5B4,%200,%206%5D%5D%0Anb_lignes%20%3D%20len%28t%29%0Anb_colonnes%20%3D%20len%28t%5B0%5D%29%0Afor%20i%20in%20range%28nb_lignes%29%3A%0A%20%20%20%20for%20j%20in%20range%28nb_colonnes%29%3A%0A%20%20%20%20%20%20%20%20print%28t%5Bi%5D%5Bj%5D%29&codeDivHeight=400&codeDivWidth=350&cumulative=true&curInstr=0&heapPrimitives=false&origin=opt-frontend.js&py=3&rawInputLstJSON=%5B%5D&textReferences=false\"> </iframe>"
   ]
  },
  {
   "cell_type": "markdown",
   "metadata": {},
   "source": [
    "### Par valeur"
   ]
  },
  {
   "cell_type": "code",
   "execution_count": 54,
   "metadata": {},
   "outputs": [
    {
     "name": "stdout",
     "output_type": "stream",
     "text": [
      "0\n",
      "5\n",
      "-1\n",
      "1\n",
      "2\n",
      "4\n",
      "8\n",
      "-5\n",
      "3\n",
      "4\n",
      "0\n",
      "6\n"
     ]
    }
   ],
   "source": [
    "t = [[0, 5, -1], [1, 2, 4], [8, -5, 3], [4, 0, 6]]\n",
    "for ligne in t:       # pour chaque ligne de t\n",
    "    for e in ligne:   # pour chaque élément e d'une ligne\n",
    "        print(e)"
   ]
  },
  {
   "cell_type": "markdown",
   "metadata": {},
   "source": [
    "Voici une visualisation avec [Python Tutor](http://www.pythontutor.com/visualize.html#code=t%20%3D%20%5B%5B0,%205,%20-1%5D,%20%5B1,%202,%204%5D,%20%5B8,%20-5,%203%5D,%20%5B4,%200,%206%5D%5D%0Afor%20ligne%20in%20t%3A%20%20%20%20%20%20%20%23%20pour%20chaque%20ligne%20de%20t%0A%20%20%20%20for%20e%20in%20ligne%3A%20%20%20%23%20pour%20chaque%20%C3%A9l%C3%A9ment%20e%20d'une%20ligne%0A%20%20%20%20%20%20%20%20print%28e%29&cumulative=true&curInstr=0&heapPrimitives=false&mode=display&origin=opt-frontend.js&py=3&rawInputLstJSON=%5B%5D&textReferences=false)."
   ]
  },
  {
   "cell_type": "markdown",
   "metadata": {},
   "source": [
    "<iframe width=\"800\" height=\"500\" frameborder=\"0\" src=\"http://pythontutor.com/iframe-embed.html#code=t%20%3D%20%5B%5B0,%205,%20-1%5D,%20%5B1,%202,%204%5D,%20%5B8,%20-5,%203%5D,%20%5B4,%200,%206%5D%5D%0Afor%20ligne%20in%20t%3A%20%20%20%20%20%20%20%23%20pour%20chaque%20ligne%20de%20t%0A%20%20%20%20for%20e%20in%20ligne%3A%20%20%20%23%20pour%20chaque%20%C3%A9l%C3%A9ment%20e%20d'une%20ligne%0A%20%20%20%20%20%20%20%20print%28e%29&codeDivHeight=400&codeDivWidth=350&cumulative=true&curInstr=0&heapPrimitives=false&origin=opt-frontend.js&py=3&rawInputLstJSON=%5B%5D&textReferences=false\"> </iframe>"
   ]
  },
  {
   "cell_type": "markdown",
   "metadata": {},
   "source": [
    "# Les tableaux en mémoire\n",
    "\n",
    "On peut visualiser un tableau comme une suite de cases mémoires contiguës. Cependant, lorsque l'on écrit\n",
    "\n",
    "```python\n",
    "t = [1, 2, 3]\n",
    "```\n",
    "\n",
    "cela n'affecte pas 3 cases mémoires à la variable `t` mais l'*adresse mémoire* du tableau `t`. Cela a beaucoup d'importance en Python, il faut se méfier car il y a des différences avec l'utilisation des types de base.\n",
    "\n",
    "Par exemple avec des entiers, si on écrit"
   ]
  },
  {
   "cell_type": "code",
   "execution_count": 3,
   "metadata": {},
   "outputs": [
    {
     "name": "stdout",
     "output_type": "stream",
     "text": [
      "2 5\n"
     ]
    }
   ],
   "source": [
    "a = 5\n",
    "b = a\n",
    "a = 2\n",
    "print(a, b)"
   ]
  },
  {
   "cell_type": "markdown",
   "metadata": {},
   "source": [
    "l'instruction `b = a` va créer une autre case mémoire (que celle de `a`) pour la variable `b` dont la valeur vaut celle de `a` c'est-à-dire 5. Ainsi, lorsque l'on modifie la valeur de `a` à la ligne suivante, celle de `b` n'est pas modifiée puisqu'il s'agit d'une case mémoire différente.\n",
    "\n",
    "On peut voir cela avec [Python Tutor](http://www.pythontutor.com/visualize.html#code=a%20%3D%205%0Ab%20%3D%20a%0Aa%20%3D%202%0Aprint%28a,%20b%29&cumulative=true&curInstr=0&heapPrimitives=false&mode=display&origin=opt-frontend.js&py=3&rawInputLstJSON=%5B%5D&textReferences=false)."
   ]
  },
  {
   "cell_type": "markdown",
   "metadata": {},
   "source": [
    "<iframe width=\"800\" height=\"500\" frameborder=\"0\" src=\"http://pythontutor.com/iframe-embed.html#code=a%20%3D%205%0Ab%20%3D%20a%0Aa%20%3D%202%0Aprint%28a,%20b%29&codeDivHeight=400&codeDivWidth=350&cumulative=true&curInstr=0&heapPrimitives=false&origin=opt-frontend.js&py=3&rawInputLstJSON=%5B%5D&textReferences=false\"> </iframe>"
   ]
  },
  {
   "cell_type": "markdown",
   "metadata": {},
   "source": [
    "Si on effectue le même genre d'opérations avec des tableaux, on a un comportement différent."
   ]
  },
  {
   "cell_type": "code",
   "execution_count": 2,
   "metadata": {},
   "outputs": [
    {
     "name": "stdout",
     "output_type": "stream",
     "text": [
      "[5, 2, 3] [5, 2, 3]\n"
     ]
    }
   ],
   "source": [
    "t = [1, 2, 3]\n",
    "u = t\n",
    "t[0] = 5\n",
    "print(t, u)"
   ]
  },
  {
   "cell_type": "markdown",
   "metadata": {},
   "source": [
    "L'instruction `u = t` va créer un nouveau tableau `u` qui vaut `t` c'est-à-dire l'adresse mémoire du tableau `t`. Autrement dit, les deux tableaux partagent la même adresse mémoire. Autrement dit, les deux variables `t` et `u` désignent le *même tableau*. Ainsi, une modification sur le tableau `t` (ligne 3)  sera visible sur le tableau `u` et réciproquement.\n",
    "\n",
    "On peut voir cela avec [Python Tutor](http://www.pythontutor.com/visualize.html#code=t%20%3D%20%5B1,%202,%203%5D%0Au%20%3D%20t%0At%5B0%5D%20%3D%205%0Aprint%28t,%20u%29&cumulative=true&curInstr=0&heapPrimitives=false&mode=display&origin=opt-frontend.js&py=3&rawInputLstJSON=%5B%5D&textReferences=false) qui matérialise par une flèche les adresses mémoire."
   ]
  },
  {
   "cell_type": "markdown",
   "metadata": {},
   "source": [
    "<iframe width=\"800\" height=\"500\" frameborder=\"0\" src=\"http://pythontutor.com/iframe-embed.html#code=t%20%3D%20%5B1,%202,%203%5D%0Au%20%3D%20t%0At%5B0%5D%20%3D%205%0Aprint%28t,%20u%29&codeDivHeight=400&codeDivWidth=350&cumulative=true&curInstr=0&heapPrimitives=false&origin=opt-frontend.js&py=3&rawInputLstJSON=%5B%5D&textReferences=false\"> </iframe>"
   ]
  },
  {
   "cell_type": "markdown",
   "metadata": {},
   "source": [
    "En particulier, lorsque l'on passe un tableau en paramètre d'une fonction, celui-ci peut être modifiée par la fonction, ce qui n'est pas le cas pour des variables de base. Cela sera particulièrement intéressant lorsque l'on triera les valeurs d'un tableau (plus tard dans l'année) mais peut aussi être la source d'erreurs pas évidente à détecter."
   ]
  },
  {
   "cell_type": "markdown",
   "metadata": {},
   "source": [
    "**Ressources :**\n",
    "\n",
    "- Documents ressources du DIU EIL, Université de Nantes, Christophe DECLERCQ.\n",
    "- Spécialité NSI 1re, T. BALABONSKI, S. CONCHON, J.-C. FILLIATRE, K. NGUYEN, éditions ELLIPSES\n",
    "\n",
    "---\n",
    "Germain BECKER & Sébastien POINT, Lycée Mounier, ANGERS ![Licence Creative Commons](https://i.creativecommons.org/l/by-nc-sa/4.0/88x31.png)"
   ]
  }
 ],
 "metadata": {
  "kernelspec": {
   "display_name": "Python 3",
   "language": "python",
   "name": "python3"
  },
  "language_info": {
   "codemirror_mode": {
    "name": "ipython",
    "version": 3
   },
   "file_extension": ".py",
   "mimetype": "text/x-python",
   "name": "python",
   "nbconvert_exporter": "python",
   "pygments_lexer": "ipython3",
   "version": "3.7.3"
  }
 },
 "nbformat": 4,
 "nbformat_minor": 2
}
