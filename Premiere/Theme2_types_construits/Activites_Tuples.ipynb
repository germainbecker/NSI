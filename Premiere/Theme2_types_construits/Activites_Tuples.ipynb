{
 "cells": [
  {
   "cell_type": "markdown",
   "metadata": {},
   "source": [
    "Tuples - Exercices\n",
    "==="
   ]
  },
  {
   "cell_type": "markdown",
   "metadata": {},
   "source": [
    "# Exercice 1\n",
    "\n",
    "On considère le tuple `ingredients` suivant\n",
    "\n",
    "```python\n",
    "ingredients = ('farine', 'oeufs', 'lait', 'sucre')\n",
    "```\n",
    "\n",
    "**Q1** : Que valent les instructions `ingredients[1]` et `ingredients[4]` ?\n",
    "\n",
    "**Q2** : Quelle instruction renvoie le nombre d'ingredients présents dans ce tuple ?"
   ]
  },
  {
   "cell_type": "code",
   "execution_count": null,
   "metadata": {},
   "outputs": [],
   "source": [
    "# vous pouvez vérifier vos réponses ici\n"
   ]
  },
  {
   "cell_type": "markdown",
   "metadata": {},
   "source": [
    "# Exercice 2\n",
    "\n",
    "Vous avez vu en classe de seconde la propriété suivante :\n",
    "\n",
    ">Soient $A(x_A, y_A)$ et $B(x_B, y_B)$ deux points dans un repère orthogonal. Le milieu $I$ du segment $[AB]$ a pour coordonnées : \n",
    ">\n",
    "> $x_I = \\dfrac{x_A + x_B}{2}$ et $y_I = \\dfrac{y_A + y_B}{2}$."
   ]
  },
  {
   "cell_type": "markdown",
   "metadata": {},
   "source": [
    "Un point peut être représenté par un _tuple_ de deux valeurs, la première est l'abscisse et la seconde l'ordonnée du point.\n",
    "\n",
    "**Q1** : On considère dans un repère les points $A(2; 3)$ et $B(4; -1)$. Quelles instructions permettent d'accéder à l'abscisse `xA` du point $A$ et à l'ordonnée `yB` du point $B$ ?"
   ]
  },
  {
   "cell_type": "code",
   "execution_count": null,
   "metadata": {},
   "outputs": [],
   "source": [
    "A = (2, 3)\n",
    "B = (4, -1)\n",
    "# à compléter\n",
    "xA = ...\n",
    "yB = ..."
   ]
  },
  {
   "cell_type": "markdown",
   "metadata": {},
   "source": [
    "**Q2** : On note $I$ le milieu du segment $[AB]$. Complétez les instructions suivantes pour stocker respectivement dans les variables `xI` et `yI` l'abscisse et l'ordonnée de $I$ (il s'agit de retranscrire les formules données plus haut)."
   ]
  },
  {
   "cell_type": "code",
   "execution_count": null,
   "metadata": {},
   "outputs": [],
   "source": [
    "A = (2, 3)\n",
    "B = (4, -1)\n",
    "# à compléter\n",
    "xI = ...\n",
    "yI = ..."
   ]
  },
  {
   "cell_type": "markdown",
   "metadata": {},
   "source": [
    "**Q3** : Écrivez une fonction `milieu(A, B)` qui prend en paramètres deux tuples `A` et `B` de 2 valeurs, et qui renvoie un tuple correspond aux coordonnées du milieu du segment $[AB]$.\n",
    "\n",
    "*Exemple* :\n",
    "\n",
    "```python\n",
    ">>> A = (2, 3)\n",
    ">>> B = (4, -1)\n",
    ">>> milieu(A, B)\n",
    "(3, 1)\n",
    "```"
   ]
  },
  {
   "cell_type": "code",
   "execution_count": null,
   "metadata": {},
   "outputs": [],
   "source": [
    "# à vous de jouer"
   ]
  },
  {
   "cell_type": "markdown",
   "metadata": {},
   "source": [
    "# Exercice 3 (Bonus)\n",
    "\n",
    "On rappelle que dans un repère orthonormé, la distance entre deux points $A(x_A, y_A)$ et $B(x_B, y_B)$ est égale à :\n",
    "\n",
    "$$AB = \\sqrt{(x_B-x_A)^2 + (y_B-y_A)^2}$$\n",
    "\n",
    "Écrivez une fonction Python `distance(A, B)` qui renvoie la distance entre les deux tuples `A` et `B` (représentant deux points d'un repère orthonormé)."
   ]
  },
  {
   "cell_type": "code",
   "execution_count": null,
   "metadata": {},
   "outputs": [],
   "source": [
    "from math import sqrt  # pour utiliser la fonction sqrt qui correspond à la fonction racine carrée\n",
    "# à vous de jouer\n"
   ]
  },
  {
   "cell_type": "markdown",
   "metadata": {},
   "source": [
    "---\n",
    "Germain BECKER & Sébastien POINT, Lycée Mounier, ANGERS ![Licence Creative Commons](https://i.creativecommons.org/l/by-nc-sa/4.0/88x31.png)"
   ]
  }
 ],
 "metadata": {
  "kernelspec": {
   "display_name": "Python 3",
   "language": "python",
   "name": "python3"
  },
  "language_info": {
   "codemirror_mode": {
    "name": "ipython",
    "version": 3
   },
   "file_extension": ".py",
   "mimetype": "text/x-python",
   "name": "python",
   "nbconvert_exporter": "python",
   "pygments_lexer": "ipython3",
   "version": "3.7.10"
  }
 },
 "nbformat": 4,
 "nbformat_minor": 2
}
