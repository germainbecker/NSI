{
 "cells": [
  {
   "cell_type": "markdown",
   "metadata": {},
   "source": [
    "<h1 style=\"font-size: 30px\">Projet n°1 : JEU DU MORPION</h1>\n",
    "\n",
    "---\n",
    "\n",
    "<img src=\"data/tic-tac-toe.jpg\" alt=\"illustration\" width=\"300\">\n",
    "\n",
    "\n",
    "# Principe de l'algorithme\n",
    "\n",
    "La plupart des jeux de \"plateau\" à deux joueurs suivent le même principe :\n",
    "\n",
    "- Un joueur joue\n",
    "- S'il a gagné, le jeu s'arrête\n",
    "- Si ce n'est pas le cas, on reprend au premier point avec l'autre joueur\n",
    "\n",
    "Ce processus se répète jusqu'à ce qu'un des joueurs remporte la partie, ou que la partie s'achève sur une égalité. \n",
    "\n",
    "Comme on répète tour à tour le même schéma avec chaque joueur, il est intéressant de programmer ce principe par une boucle. Et comme on ne sait pas à l'avance en combien de tours la partie se termine, on utilise une boucle Tant que.\n",
    "\n",
    "Dans le cas d'un jeu numérique, il faut également afficher l'état du plateau de jeu à chaque tour. Cet état peut être mémorisé dans un tableau à deux dimensions (un tableau de tableaux).\n",
    "\n",
    "Dans le cas du jeu du Morpion, on peut mémoriser l'état initial du plateau du jeu dans le tableau suivant."
   ]
  },
  {
   "cell_type": "code",
   "execution_count": null,
   "metadata": {},
   "outputs": [],
   "source": [
    "jeu = [['.', '.', '.'],\n",
    "       ['.', '.', '.'],\n",
    "       ['.', '.', '.']]"
   ]
  },
  {
   "cell_type": "markdown",
   "metadata": {},
   "source": [
    "# Analyse plus fine et décomposition du problème\n",
    "\n",
    "Dans un projet, la première phase consiste toujours à **décomposer le problème en différentes tâches simples**. \n",
    "\n",
    "Pour cela, il est nécessaire de réfléchir de manière plus fine au problème en détaillant davantage le principe de l'algorithme. C'est cette analyse qui va permettre d'identifier les différentes **tâches** attendues dans notre algorithme/programme.\n",
    "\n",
    "## Principe de l'algorithme\n",
    "\n",
    "Voici le principe de notre algorithme :\n",
    "\n",
    "```\n",
    "On affiche le plateau\n",
    "On définit qui joue en premier\n",
    "Tant que la partie n'est pas gagnée :\n",
    "    Le joueur joue\n",
    "    On affiche le plateau après son coup\n",
    "    On vérifie s'il a gagné\n",
    "        Si oui, la partie est gagnée et le jeu s'arrête ; \n",
    "        Sinon, c'est au tour de l'autre joueur. \n",
    "```\n",
    "\n",
    "## Décomposition en tâches\n",
    "\n",
    "On peut désormais identifier les tâches principales à accomplir pour programmer notre jeu. Chacune de ces tâches sera programmée par une fonction. Voici les fonctions principales nécessaires :\n",
    "\n",
    "- `afficher_plateau()` : fonction qui affiche l'état du plateau de jeu à l'écran (dans la console pour nous ici) ;\n",
    "- `jouer()` : fonction qui demande à l'utilisateur la case qu'il veut jouer et qui actualise le tableau `jeu` ;\n",
    "- `verifier_victoire()` : fonction qui vérifie si la partie est gagnée ;\n",
    "- `changer_joueur()` : fonction qui change le joueur.\n",
    "\n",
    "On utilisera les trois variables suivantes :\n",
    "\n",
    "- `jeu` est le tableau mémorisant l'état du plateau de jeu (voir plus haut) ;\n",
    "- `joueur` est une chaîne de caractères prenant les valeurs `'X'` ou `'O'` et qui désigne le joueur qui doit jouer ;\n",
    "- `gagne` est un booléen qui vaut FAUX si la partie n'est pas remportée et VRAI si un des joueurs a gagné. C'est ce booléen qui permettra de mettre fin au jeu dès lors qu'il vaut VRAI.\n"
   ]
  },
  {
   "cell_type": "markdown",
   "metadata": {},
   "source": [
    "## Entrées et sorties des différentes fonctions\n",
    "\n",
    "Les fonctions principales étant identifiées, il faut maintenant réfléchir aux entrées et aux sorties de chacune d'elle : c'est-à-dire aux paramètres de la fonction (de quoi a-t-elle besoin pour travailler ?) et aux valeurs renvoyées par la fonction (que doit-elle renvoyer ?)"
   ]
  },
  {
   "cell_type": "markdown",
   "metadata": {},
   "source": [
    "### La fonction `afficher_plateau`\n",
    "\n",
    "La fonction `afficher_plateau` a besoin de connaître le contenu du tableau `jeu` pour afficher le plateau de jeu à l'écran. Et c'est tout ! Ce sera donc son seul paramètre et cette fonction ne renvoie rien (elle affiche quelque chose uniquement).\n",
    "\n",
    "```python\n",
    "def afficher_plateau(jeu):\n",
    "    \"\"\"Affiche le contenu du tableau jeu.\"\"\"\n",
    "    # sera à compléter !\n",
    "```"
   ]
  },
  {
   "cell_type": "markdown",
   "metadata": {},
   "source": [
    "*Exemple* : \n",
    "\n",
    "```python\n",
    ">>> jeu = [['X', 'O', '.'], ['.', '.', '.'], ['.', '.', 'X']]\n",
    ">>> afficher_plateau(jeu)\n",
    "['X', 'O', '.']\n",
    "['.', '.', '.']\n",
    "['.', '.', 'X']\n",
    "```\n",
    "\n",
    "*Exemple (amélioration possible de l'affichage)* : \n",
    "\n",
    "```python\n",
    ">>> jeu = [['X', 'O', '.'], ['.', '.', '.'], ['.', '.', 'X']]\n",
    ">>> afficher_plateau(jeu)\n",
    "X | O |  \n",
    "--+---+--\n",
    "  |   |  \n",
    "--+---+--\n",
    "  |   | X\n",
    "```"
   ]
  },
  {
   "cell_type": "markdown",
   "metadata": {},
   "source": [
    "<details>\n",
    "    <summary style=\"display: list-item;color: rgb(96 131 228);\"><span style=\"cursor:pointer;\">Voir l'aide n°1/2</span></summary>\n",
    "\n",
    "Cherchez dans le notebook d'exercices sur les tableaux (Thème 2, Chapitre 2).\n",
    "\n",
    "</details>"
   ]
  },
  {
   "cell_type": "markdown",
   "metadata": {},
   "source": [
    "<details>\n",
    "    <summary style=\"display: list-item;color: rgb(96 131 228);\"><span style=\"cursor:pointer;\">Voir l'aide n°2/2</span></summary>\n",
    "\n",
    "Voici le début d’une fonction envisageable\n",
    "\n",
    "```python\n",
    "def afficher_plateau(jeu):\n",
    "    print(jeu[0][0], \"|\", jeu[0][1], \"|\", jeu[0][2])\n",
    "    print(\"--+---+--\")\n",
    "    # à compléter\n",
    "```\n",
    "</details>"
   ]
  },
  {
   "cell_type": "markdown",
   "metadata": {},
   "source": [
    "### La fonction `jouer`\n",
    "\n",
    "La fonction `jouer` a pour rôle de demander à l'utilisateur dans quelle ligne et quelle colonne il veut jouer, puis elle doit actualiser et donc modifier l'état du tableau `jeu` en conséquence. Cette fonction a donc a besoin de ce tableau en paramètre. De plus, cette fonction a besoin de connaître le contenu de la variable `joueur` (de type `str`) pour écrire soit `'X'` soit `'O'` dans le tableau `jeu`. Elle possède donc deux paramètres (`jeu` et `joueur`) et ne renvoie rien.\n",
    "\n",
    "```python\n",
    "def jouer(jeu, joueur):\n",
    "    \"\"\"Demande à l'utilisateur la case à jouer et met à jour le tableau jeu.\"\"\"\n",
    "    # sera à compléter !\n",
    "```"
   ]
  },
  {
   "cell_type": "markdown",
   "metadata": {},
   "source": [
    "*Exemple* :\n",
    "\n",
    "```python\n",
    ">>> jeu = [['X', 'O', '.'], ['.', '.', '.'], ['.', '.', 'X']] \n",
    ">>> jouer(jeu, 'O')  # on suppose que le joueur choisit de jouer dans la case centrale\n",
    "Quelle colonne veux-tu jouer ? (0, 1 ou 2) : 1\n",
    "Quelle ligne veux-tu jouer ? (0, 1 ou 2) : 1\n",
    ">>> jeu\n",
    "[['X', 'O', '.'], ['.', 'O', '.'], ['.', '.', 'X']]\n",
    "```"
   ]
  },
  {
   "cell_type": "markdown",
   "metadata": {},
   "source": [
    "<details>\n",
    "    <summary style=\"display: list-item;color: rgb(96 131 228);\"><span style=\"cursor:pointer;\">Voir l'aide n°1/2</span></summary>\n",
    "\n",
    "Pour demander à l'utilisateur de choisir une case à cocher, on peut lui demander de saisir un numéro de colonne et un numéro de ligne. Par exemple, pour lui demander un numéro de colonne, on peut utiliser l'instruction suivante (cette instruction est la première ligne de la fonction attendue).\n",
    "\n",
    "```python\n",
    "choix_colonne = int(input(\"Quelle colonne veux-tu jouer ? (0, 1 ou 2) : \"))\n",
    "```\n",
    "</details>"
   ]
  },
  {
   "cell_type": "markdown",
   "metadata": {},
   "source": [
    "<details>\n",
    "    <summary style=\"display: list-item;color: rgb(96 131 228);\"><span style=\"cursor:pointer;\">Voir l'aide n°2/2</span></summary>\n",
    "\n",
    "Voici une fonction incomplète (et pas forcément satisfaisante).\n",
    "\n",
    "```python\n",
    "def jouer(joueur, jeu):\n",
    "    choix_colonne = int(input(\"Quelle colonne veux-tu jouer ? (0, 1 ou 2) : \"))\n",
    "    ... \n",
    "    if joueur == 'X': \n",
    "        jeu[...][...] = 'X'\n",
    "    else:\n",
    "        ...\n",
    "```\n",
    "</details>"
   ]
  },
  {
   "cell_type": "markdown",
   "metadata": {},
   "source": [
    "### La fonction `verifier_victoire`\n",
    "\n",
    "La fonction `verifier_victoire` a besoin de connaître l'état du plateau donc le tableau `jeu` pour déterminer si la partie est gagnée. Et c'est tout, ce sera son seul paramètre. Cette fonction doit indiquer si la partie est gagnée ou non, elle renverra donc un booléen (VRAI si la partie est gagnée et FAUX sinon).\n",
    "\n",
    "```python\n",
    "def verifier_victoire(jeu):\n",
    "    \"\"\"Renvoie True si la partie est gagnée et False sinon.\"\"\"\n",
    "    # sera à compléter !\n",
    "```"
   ]
  },
  {
   "cell_type": "markdown",
   "metadata": {},
   "source": [
    "*Exemples* :\n",
    "\n",
    "```python\n",
    ">>> jeu = [['X', 'X', 'X'], ['O', '.', '.'], ['O', '.', '.']]\n",
    ">>> verifier_victoire(jeu)\n",
    "True\n",
    ">>> jeu = [['O', '.', '.'], ['.', 'X', '.'], ['X', '.', '.']]\n",
    ">>> verifier_victoire(jeu)\n",
    "False\n",
    "```"
   ]
  },
  {
   "cell_type": "markdown",
   "metadata": {},
   "source": [
    "<details>\n",
    "    <summary style=\"display: list-item;color: rgb(96 131 228);\"><span style=\"cursor:pointer;\">Voir l'aide n°1/3</span></summary>\n",
    "\n",
    "La vérification de victoire peut se faire en trois étapes :\n",
    "- vérifier s'il y a victoire horizontale ;\n",
    "- vérifier s'il y a victoire verticale ;\n",
    "- vérifier s'il y a victoire diagonale.\n",
    "\n",
    "</details>"
   ]
  },
  {
   "cell_type": "markdown",
   "metadata": {},
   "source": [
    "<details>\n",
    "    <summary style=\"display: list-item;color: rgb(96 131 228);\"><span style=\"cursor:pointer;\">Voir l'aide n°2/3</span></summary>\n",
    "\n",
    "On peut écrire une fonction `verifier_victoire_horizontale(jeu)` qui renvoie `True` s'il y a victoire horizontale et `False` sinon. \n",
    "    \n",
    "Voici une ébauche de cette fonction. Celle-ci est incomplète et pas forcément satisfaisante en l'état (à vous de trouver pourquoi et de l'améliorer).\n",
    "\n",
    "```python\n",
    "def verifier_victoire_horizontale(jeu):\n",
    "    if (jeu[0][0] == jeu[0][1] == jeu[0][2]) or ... or ... : \n",
    "        return ...\n",
    "    else: \n",
    "        return ...\n",
    "```\n",
    "</details>"
   ]
  },
  {
   "cell_type": "markdown",
   "metadata": {},
   "source": [
    "<details>\n",
    "    <summary style=\"display: list-item;color: rgb(96 131 228);\"><span style=\"cursor:pointer;\">Voir l'aide n°3/3</span></summary>\n",
    "\n",
    "Il faut procéder de même en écrivant deux autres fonctions pour tester les victoires verticales et diagonales. Ensuite, on peut écrire la fonction `verifier_victoire(jeu)` en utilisant les trois fonctions de vérifications (horizontale, verticale, diagonale).\n",
    "\n",
    "```python\n",
    "def verifier_victoire(jeu): \n",
    "    return ...\n",
    "```\n",
    "</details>"
   ]
  },
  {
   "cell_type": "markdown",
   "metadata": {},
   "source": [
    "### La fonction `changer_joueur`\n",
    "\n",
    "La fonction `changer_joueur` a besoin de connaître qui vient de jouer pour passer à l'autre joueur. Et c'est tout, donc elle n'a besoin que du paramètre `joueur`. Cette fonction doit aussi modifier le contenu de la variable `joueur` donc elle doit renvoyer une valeur : la chaîne de caractères `'X'` ou la chaîne de caractères `'O'`.\n",
    "\n",
    "```python\n",
    "def changer_joueur(joueur):\n",
    "    \"\"\"Renvoie la chaîne 'X' si joueur vaut 'O' et la chaîne 'O' si joueur vaut 'X'.\"\"\"\n",
    "    # sera à compléter !\n",
    "```"
   ]
  },
  {
   "cell_type": "markdown",
   "metadata": {},
   "source": [
    "<details>\n",
    "    <summary style=\"display: list-item;color: rgb(96 131 228);\"><span style=\"cursor:pointer;\">Voir l'aide n°1/1</span></summary>\n",
    "\n",
    "Relisez bien la spécification de cette fonction. Il y a deux cas à distinguer...\n",
    "</details>"
   ]
  },
  {
   "cell_type": "markdown",
   "metadata": {},
   "source": [
    "## Ecriture de l'algorithme\n",
    "\n",
    "L'algorithme final du jeu peut alors s'écrire de la façon suivante, dans lequel on utilise les variables `jeu`, `joueur`, `gagne`, ainsi que les fonctions `afficher_plateau()`, `jouer()`, `verifier_victoire()`, `changer_joueur()` définies précédemment.\n",
    "\n",
    "```\n",
    "afficher_plateau(jeu)\n",
    "joueur ← 'X'                           # le joueur 'X' commence (arbitraire)\n",
    "gagne ← FAUX                           # il n'y a pas de gagnant au départ\n",
    "Tant que non gagne faire               # tant qu'il n'y a pas de gagnant\n",
    "    Afficher \"Au tour de\", joueur\n",
    "    jouer(jeu, joueur)                 # Le joueur propose sa case et maj du plateau\n",
    "    afficher_plateau(jeu)\n",
    "    si verifier_victoire(jeu)           # Si verifie_victoire(jeu) renvoie VRAI\n",
    "    alors\n",
    "        gagne ← VRAI                   # le booleen gagne prend la valeur VRAI (ce qui stoppera la boucle while)\n",
    "        Afficher \"Le joueur\", joueur, \"a gagné !\"\n",
    "    sinon\n",
    "        joueur ← changer_joueur(joueur) # sinon on passe au joueur suivant\n",
    "```"
   ]
  },
  {
   "cell_type": "markdown",
   "metadata": {},
   "source": [
    "# A vous de jouer !\n",
    "\n",
    "## Démarche attendue\n",
    "\n",
    "La démarche de projet est toujours sensiblement la même, quel que soit le projet :\n",
    "\n",
    "**Étape 1** : Répartition des tâches principales = qui fait quoi ?\n",
    "   \n",
    "   Répartissez-vous les différentes fonctions `afficher_plateau()`, `jouer()`, `verifier_victoire()`, `changer_joueur()` \n",
    "\n",
    "\n",
    "**Étape 2** : Travail **individuel** pour implémenter (= programmer) la (ou les) fonction(s) qui vous est (sont) attribuée(s). Voici les étapes à suivre pour implémenter une fonction :\n",
    "    - Commencez par bien comprendre ce qu'elle doit faire, en donnant différents exemples d'appels et ce qu'ils doivent produire/renvoyer\n",
    "    - Programmez la fonction (1ère tentative)\n",
    "    - Testez la fonction en faisant des appels qui couvrent les différents cas de figure\n",
    "        - si les tests sont concluants, passer à la suite\n",
    "        - sinon, analysez les erreurs/problèmes et revenez au deuxième point pour procéder aux corrections\n",
    "\n",
    "\n",
    "\n",
    "> <span style=\"font-size:25px\">⚙️</span> Cette phase de tests/corrections est tout à fait normale et importante ! Il faudra la présenter dans le compte-rendu (quel(s) étai(en)t le(s) problème(s) ? quelle(s) solution(s) avez-vous trouvée(s) ? ...) --> donc il faut garder une trace de tout cela !\n",
    "\n",
    "> <span style=\"font-size:25px\">🆘</span> Demandez si besoin de l'aide à votre professeur sur l'écriture des fonctions, mais seulement après avoir réfléchi suffisamment de temps et testez plusieurs choses.\n",
    "\n",
    "**Étape 3** : Écriture du programme principal : traduire l'algorithme du jeu dans le langage précédent\n",
    "\n",
    "- le premier à avoir terminé l'étape 2, peut se charger de cela, aidé par les autres si nécessaire lorsqu'ils ont terminé leurs tâches\n",
    "- le programme principal peut tout à fait être écrit sans que les fonctions principales ne soient programmées ! (évidemment, le programme ne fonctionnera pas dans ce cas, mais on peut déjà l'écrire)\n",
    "\n",
    "\n",
    "**Étape 4** : Tests du programme principal\n",
    "\n",
    "- faire des essais de parties pour vérifier si cela fonctionne\n",
    "- identifier les problèmes restants (il y en a car l'algorithme proposé n'est pas tout à fait satisfaisant, volontairement !) :\n",
    "    - en se plaçant dans des cas particuliers\n",
    "    - en essayant de faire planter le programme \n",
    "\n",
    "\n",
    "**Étape 5** : Correction et amélioration du programme principal (et éventuellement des fonctions principales) pour qu'il n'y ait plus de problèmes.\n",
    "\n"
   ]
  },
  {
   "cell_type": "markdown",
   "metadata": {},
   "source": [
    "---\n",
    "\n",
    "Germain BECKER & Sébastien POINT, Lycée Mounier, ANGERS ![Licence Creative Commons](https://i.creativecommons.org/l/by-nc-sa/4.0/88x31.png)"
   ]
  }
 ],
 "metadata": {
  "kernelspec": {
   "display_name": "Python 3",
   "language": "python",
   "name": "python3"
  },
  "language_info": {
   "codemirror_mode": {
    "name": "ipython",
    "version": 3
   },
   "file_extension": ".py",
   "mimetype": "text/x-python",
   "name": "python",
   "nbconvert_exporter": "python",
   "pygments_lexer": "ipython3",
   "version": "3.7.10"
  }
 },
 "nbformat": 4,
 "nbformat_minor": 2
}
