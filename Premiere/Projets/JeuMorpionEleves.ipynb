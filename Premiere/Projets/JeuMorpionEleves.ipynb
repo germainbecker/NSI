{
 "cells": [
  {
   "cell_type": "markdown",
   "metadata": {},
   "source": [
    "<h1 style=\"font-size: 30px\">Projet n°1 : JEU DU MORPION</h1>\n",
    "\n",
    "---\n",
    "\n",
    "<img src=\"data/tic-tac-toe.jpg\" alt=\"illustration\" width=\"300\">\n",
    "\n",
    "\n",
    "# Principe de l'algorithme\n",
    "\n",
    "La plupart des jeux de \"plateau\" à deux joueurs suivent le même principe :\n",
    "\n",
    "- Un joueur joue\n",
    "- S'il a gagné, le jeu s'arrête\n",
    "- Si ce n'est pas le cas, on reprend au premier point avec l'autre joueur\n",
    "\n",
    "Ce processus se répète jusqu'à ce qu'un des joueurs remporte la partie, ou que la partie s'achève sur une égalité. \n",
    "\n",
    "Comme on répète tour à tour le même schéma avec chaque joueur, il est intéressant de programmer ce principe par une boucle. Et comme on ne sait pas à l'avance en combien de tours la partie se termine, on utilise une boucle Tant que.\n",
    "\n",
    "Dans le cas d'un jeu numérique, il faut également afficher l'état du plateau de jeu à chaque tour. Cet état peut être mémorisé dans un tableau à deux dimensions (un tableau de tableaux).\n",
    "\n",
    "Dans le cas du jeu du Morpion, on peut mémoriser l'état initial du plateau du jeu dans le tableau suivant."
   ]
  },
  {
   "cell_type": "code",
   "execution_count": null,
   "metadata": {},
   "outputs": [],
   "source": [
    "jeu = [['.', '.', '.'],\n",
    "       ['.', '.', '.'],\n",
    "       ['.', '.', '.']]"
   ]
  },
  {
   "cell_type": "markdown",
   "metadata": {},
   "source": [
    "# Analyse plus fine et décomposition du problème\n",
    "\n",
    "Dans un projet, la première phase consiste toujours à **décomposer le problème en différentes tâches simples**. \n",
    "\n",
    "Pour cela, il est nécessaire de réfléchir de manière plus fine au problème en détaillant davantage le principe de l'algorithme. C'est cette analyse qui va permettre d'identifier les différentes **tâches** attendues dans notre algorithme/programme.\n",
    "\n",
    "## Principe de l'algorithme\n",
    "\n",
    "Voici le principe de notre algorithme :\n",
    "\n",
    "```\n",
    "On affiche le plateau\n",
    "On définit qui joue en premier\n",
    "Tant que la partie n'est pas gagnée :\n",
    "    Le joueur joue\n",
    "    On affiche le plateau après son coup\n",
    "    On vérifie s'il a gagné\n",
    "        Si oui, la partie est gagnée et le jeu s'arrête ; \n",
    "        Sinon, c'est au tour de l'autre joueur. \n",
    "```\n",
    "\n",
    "## Décomposition en tâches\n",
    "\n",
    "On peut désormais identifier les tâches principales à accomplir pour programmer notre jeu. Chacune de ces tâches sera programmée par une fonction. Voici les fonctions principales nécessaires :\n",
    "\n",
    "- `afficher_plateau()` : fonction qui affiche l'état du plateau de jeu à l'écran (dans la console pour nous ici) ;\n",
    "- `jouer()` : fonction qui demande à l'utilisateur la case qu'il veut jouer et qui actualise le tableau `jeu` ;\n",
    "- `verifier_victoire()` : fonction qui vérifie si la partie est gagnée ;\n",
    "- `changer_joueur()` : fonction qui change le joueur.\n",
    "\n",
    "On utilisera les trois variables suivantes :\n",
    "\n",
    "- `jeu` est le tableau mémorisant l'état du plateau de jeu (voir plus haut) ;\n",
    "- `joueur` est une chaîne de caractères prenant les valeurs `'X'` ou `'O'` et qui désigne le joueur qui doit jouer ;\n",
    "- `gagne` est un booléen qui vaut FAUX si la partie n'est pas remportée et VRAI si un des joueurs a gagné. C'est ce booléen qui permettra de mettre fin au jeu dès lors qu'il vaut VRAI.\n"
   ]
  },
  {
   "cell_type": "markdown",
   "metadata": {},
   "source": [
    "## Entrées et sorties des différentes fonctions\n",
    "\n",
    "Les fonctions principales étant identifiées, il faut maintenant réfléchir aux entrées et aux sorties de chacune d'elle : c'est-à-dire aux paramètres de la fonction (de quoi a-t-elle besoin pour travailler ?) et aux valeurs renvoyées par la fonction (que doit-elle renvoyer ?)"
   ]
  },
  {
   "cell_type": "markdown",
   "metadata": {},
   "source": [
    "- la fonction `afficher_plateau` a besoin de connaître le contenu de la variable `jeu` pour afficher le plateau de jeu à l'écran. Et c'est tout ! Ce sera donc son seul paramètre et cette fonction ne renvoie rien (elle affiche quelque chose uniquement).\n",
    "\n",
    "```python\n",
    "def afficher_plateau(jeu: list) -> None:\n",
    "    \"\"\"Affiche le contenu du tableau jeu.\"\"\"\n",
    "    # sera à compléter !\n",
    "```"
   ]
  },
  {
   "cell_type": "markdown",
   "metadata": {},
   "source": [
    "- la fonction `jouer` doit actualiser et donc modifier l'état du tableau `jeu` donc a besoin de ce tableau en paramètre. De plus, cette fonction a besoin de connaître le contenu de la variable `joueur` pour écrire soit `'X'` soit `'O'` dans le tableau `jeu`. Elle possède donc deux paramètres (`jeu` et `joueur`) et ne renvoie rien.\n",
    "\n",
    "```python\n",
    "def jouer(jeu: list, joueur: str) -> None:\n",
    "    \"\"\"Demande à l'utilisateur la case à jouer et met à jour le tableau jeu.\"\"\"\n",
    "    # sera à compléter !\n",
    "```"
   ]
  },
  {
   "cell_type": "markdown",
   "metadata": {},
   "source": [
    "- la fonction `verifier_victoire` a besoin de connaître l'état du plateau donc la variable `jeu` pour déterminer si la partie est gagnée. Et c'est tout, ce sera son seul paramètre. Cette fonction doit indiquer si la partie est gagnée ou non, elle renverra donc un booléen (VRAI si la partie est gagnée et FAUX sinon).\n",
    "\n",
    "```python\n",
    "def verifier_victoire(jeu: list) -> bool:\n",
    "    \"\"\"Renvoie True si la partie est gagnée et False sinon.\"\"\"\n",
    "    # sera à compléter !\n",
    "```"
   ]
  },
  {
   "cell_type": "markdown",
   "metadata": {},
   "source": [
    "- la fonction `changer_joueur` a besoin de connaître qui vient de jouer pour passer à l'autre joueur. Et c'est tout, donc elle n'a besoin que du paramètre `joueur`. Cette fonction doit aussi modifier le contenu de la variable `joueur` donc elle doit renvoyer une valeur : la chaîne de caractères `'X'` ou la chaîne de caractères `'O'`.\n",
    "\n",
    "```python\n",
    "def changer_joueur(joueur: str) -> str:\n",
    "    \"\"\"Renvoie la chaîne 'X' si joueur vaut 'O' et la chaîne 'O' si joueur vaut 'X'.\"\"\"\n",
    "    # sera à compléter !\n",
    "```"
   ]
  },
  {
   "cell_type": "markdown",
   "metadata": {},
   "source": [
    "## Ecriture de l'algorithme\n",
    "\n",
    "L'algorithme final du jeu peut alors s'écrire de la façon suivante, dans lequel on utilise les variables `jeu`, `joueur`, `gagne`, ainsi que les fonctions `afficher_plateau()`, `jouer()`, `verifier_victoire()`, `changer_joueur()` définies précédemment.\n",
    "\n",
    "```\n",
    "afficher_plateau(jeu)\n",
    "joueur ← 'X'                           # le joueur 'X' commence (arbitraire)\n",
    "gagne ← FAUX                           # il n'y a pas de gagnant au départ\n",
    "Tant que non gagne faire               # tant qu'il n'y a pas de gagnant\n",
    "    Afficher \"Au tour de\", joueur\n",
    "    jouer(jeu, joueur)                 # Le joueur propose sa case et maj du plateau\n",
    "    afficher_plateau(jeu)\n",
    "    si verifier_victoire(jeu)           # Si verifie_victoire(jeu) renvoie VRAI\n",
    "    alors\n",
    "        gagne ← VRAI                   # le booleen gagne prend la valeur VRAI (ce qui stoppera la boucle while)\n",
    "        Afficher \"Le joueur\", joueur, \"a gagné !\"\n",
    "    sinon\n",
    "        joueur ← changer_joueur(joueur) # sinon on passe au joueur suivant\n",
    "```"
   ]
  },
  {
   "cell_type": "markdown",
   "metadata": {},
   "source": [
    "# A vous de jouer !\n",
    "\n",
    "## Démarche attendue\n",
    "\n",
    "La démarche de projet est toujours sensiblement la même, quel que soit le projet :\n",
    "\n",
    "1. Répartition des tâches principales = qui fait quoi ?\n",
    "   \n",
    "   Répartissez-vous les différentes fonctions `afficher_plateau()`, `jouer()`, `verifier_victoire()`, `changer_joueur()` \n",
    "\n",
    "\n",
    "2. Travail **individuel** pour implémenter (= programmer) la (ou les) fonction(s) qui vous est (sont) attribuée(s). Voici les étapes à suivre pour implémenter une fonction :\n",
    "    - Commencez par bien comprendre ce qu'elle doit faire, en donnant différents exemples d'appels et ce qu'ils doivent produire/renvoyer\n",
    "    - Programmez la fonction (1ère tentative)\n",
    "    - Testez la fonction en faisant des appels qui couvrent les différents cas de figure\n",
    "        - si les tests sont concluants, passer à la suite\n",
    "        - sinon, analysez les erreurs/problèmes et revenez au deuxième point pour procéder aux corrections\n",
    "\n",
    "> <span style=\"font-size:25px\">⌨️</span>Vous utiliserez l'IDE **Spyder**.\n",
    "\n",
    "> <span style=\"font-size:25px\">⚙️</span> Cette phase de tests/corrections est tout à fait normale et importante ! Il faudra la présenter dans le compte-rendu (quel(s) étai(en)t le(s) problème(s) ? quelle(s) solution(s) avez-vous trouvée(s) ? ...) --> donc il faut garder une trace de tout cela !\n",
    "\n",
    "> <span style=\"font-size:25px\">🆘</span> Demandez si besoin de l'aide à votre professeur sur l'écriture des fonctions, mais seulement après avoir réfléchi suffisamment de temps et testez plusieurs choses.\n",
    "\n",
    "3. Écriture du programme principal : traduire l'algorithme du jeu dans le langage précédent\n",
    "\n",
    "    - le premier à avoir terminé l'étape 2, peut se charger de cela, aidé par les autres si nécessaire lorsqu'ils ont terminé leurs tâches\n",
    "    - le programme principal peut tout à fait être écrit sans que les fonctions principales ne soient programmées ! (évidemment, le programme ne fonctionnera pas dans ce cas, mais on peut déjà l'écrire)\n",
    "\n",
    "\n",
    "4. Tests du programme principal\n",
    "\n",
    "    - faire des essais de parties pour vérifier si cela fonctionne\n",
    "    - identifier les problèmes restants (il y en a car l'algorithme proposé n'est pas tout à fait satisfaisant, volontairement !) :\n",
    "        - en se plaçant dans des cas particuliers\n",
    "        - en essayant de faire planter le programme \n",
    "\n",
    "\n",
    "5. Correction et amélioration du programme principal (et éventuellement des fonctions principales) pour qu'il n'y ait plus de problèmes.\n",
    "\n"
   ]
  },
  {
   "cell_type": "markdown",
   "metadata": {},
   "source": [
    "## Compte-rendu attendu\n",
    "\n",
    "**Une présentation orale par groupe est attendue, celle-ci doit s'appuyer sur un diaporama.**\n",
    "\n",
    "- le diaporama doit présenter *toute* la démarche (les 5 points évoqués plus haut)\n",
    "- la présentation doit durer entre 8 et 10 minutes, le temps de parole doit être partagé de manière équitable\n",
    "- chaque élève présentera ce qu'il a fait personnellement : \n",
    "    - il doit avoir une connaissance très précise de son travail personnel mais aussi une connaissance globale du travail des autres\n",
    "    - on attend une présentation des exemples, des tests/essais, des erreurs et des corrections, il faudra donc intéger des portions de code (des captures d'écran par exemple) pour illustrer tout cela\n",
    "    \n",
    "**Un fichier Python (format .py) est à rendre, avec le code final du jeu**."
   ]
  },
  {
   "cell_type": "markdown",
   "metadata": {},
   "source": [
    "---\n",
    "\n",
    "Germain BECKER & Sébastien POINT, Lycée Mounier, ANGERS ![Licence Creative Commons](https://i.creativecommons.org/l/by-nc-sa/4.0/88x31.png)"
   ]
  }
 ],
 "metadata": {
  "kernelspec": {
   "display_name": "Python 3",
   "language": "python",
   "name": "python3"
  },
  "language_info": {
   "codemirror_mode": {
    "name": "ipython",
    "version": 3
   },
   "file_extension": ".py",
   "mimetype": "text/x-python",
   "name": "python",
   "nbconvert_exporter": "python",
   "pygments_lexer": "ipython3",
   "version": "3.7.10"
  }
 },
 "nbformat": 4,
 "nbformat_minor": 2
}
