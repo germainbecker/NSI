{
 "cells": [
  {
   "cell_type": "markdown",
   "metadata": {},
   "source": [
    "<h1 style=\"font-size: 30px\">Mini projet n°1 : JEU DU MORPION</h1>\n",
    "\n",
    "---\n",
    "\n",
    "# Principe de l'algorithme\n",
    "\n",
    "La plupart des jeux de \"plateau\" à deux joueurs suivent le même principe :\n",
    "\n",
    "- Un joueur joue\n",
    "- S'il a gagné, le jeu s'arrête\n",
    "- Si ce n'est pas le cas, on reprend au premier point avec l'autre joueur\n",
    "\n",
    "Ce processus se répète jusqu'à ce qu'un des joueurs remporte la partie, ou que la partie s'achève sur une égalité. \n",
    "\n",
    "Comme on répète tour à tour le même schéma avec chaque joueur, il est intéressant de programmer ce principe par une boucle. Et comme on ne sait pas à l'avance en combien de tours la partie se termine, on utilise une boucle Tant que.\n",
    "\n",
    "Dans le cas d'un jeu numérique, il faut également afficher l'état du plateau de jeu à chaque tour. Cet état peut être mémorisé dans un tableau à deux dimensions (un tableau de tableaux).\n",
    "\n",
    "Dans le cas du jeu du Morpion, on peut mémoriser l'état initial du plateau du jeu dans le tableau suivant."
   ]
  },
  {
   "cell_type": "code",
   "execution_count": 2,
   "metadata": {},
   "outputs": [],
   "source": [
    "jeu = [['.', '.', '.'],\n",
    "       ['.', '.', '.'],\n",
    "       ['.', '.', '.']]"
   ]
  },
  {
   "cell_type": "markdown",
   "metadata": {},
   "source": [
    "# Analyse plus fine et décomposition du problème\n",
    "\n",
    "Dans un projet, la première phase consiste toujours à **décomposer le problème en différentes tâches simples**. \n",
    "\n",
    "Pour cela, il est nécessaire de réfléchir de manière plus fine au problème en détaillant davantage le principe de l'algorithme. C'est cette analyse qui va permettre d'identifier les différentes **tâches** attendues dans notre algorithme/programme.\n",
    "\n",
    "## Principe de l'algorithme\n",
    "\n",
    "Voici le principe de notre algorithme :\n",
    "\n",
    "```\n",
    "On affiche le plateau\n",
    "On définit qui joue en premier\n",
    "Tant que la partie n'est pas gagnée :\n",
    "    Le joueur joue\n",
    "    On affiche le plateau après son coup\n",
    "    On vérifie s'il a gagné\n",
    "        Si oui, la partie est gagnée et le jeu s'arrête ; \n",
    "        Sinon, c'est au tour de l'autre joueur. \n",
    "```\n",
    "\n",
    "## Décomposition en tâches\n",
    "\n",
    "On peut désormais identifier les tâches principales à accomplir pour programmer notre jeu. Chacune de ces tâches sera programmée par une fonction. Voici les fonctions principales nécessaires :\n",
    "\n",
    "- `affiche_plateau` : fonction qui affiche l'état du plateau de jeu à l'écran (dans la console pour nous ici) ;\n",
    "- `jouer` : fonction qui demande à l'utilisateur la case qu'il veut jouer et qui actualise le tableau `jeu` ;\n",
    "- `verifie_victoire` : fonction qui vérifie si la partie est gagnée ;\n",
    "- `change_joueur` : fonction qui change le joueur.\n",
    "\n",
    "On utilisera les trois variables suivantes :\n",
    "\n",
    "- `jeu` est le tableau mémorisant l'état du plateau de jeu (voir plus haut) ;\n",
    "- `joueur` est une chaîne de caractères prenant les valeurs `'X'` ou `'O'` et qui désigne le nom du joueur qui doit jouer ;\n",
    "- `gagne` est un booléen qui vaut FAUX si la partie n'est pas remportée et VRAI si un des joueurs a gagné. C'est ce booléen qui permettra de mettre fin au jeu dès lors qu'il vaut VRAI.\n",
    "\n",
    "\n",
    "## Entrées et sorties des différentes fonctions\n",
    "\n",
    "Les fonctions principales étant identifiées, il faut maintenant réfléchir aux entrées et aux sorties de chacune d'elle : de quoi a-t-elle besoin pour travailler ? que doit-elle renvoyer ?\n",
    "\n",
    "- `affiche_plateau` a besoin de connaître le contenu de la variable `jeu` pour afficher le plateau correspondant à l'écran. Et c'est tout ! Ce sera donc son seul argument et cette fonction ne renvoie rien (elle affiche quelque chose uniquement)."
   ]
  },
  {
   "cell_type": "code",
   "execution_count": 14,
   "metadata": {},
   "outputs": [],
   "source": [
    "def affiche_plateau(jeu : list) -> None:\n",
    "    \"\"\"Affiche le contenu du tableau jeu.\"\"\"\n",
    "    pass"
   ]
  },
  {
   "cell_type": "markdown",
   "metadata": {},
   "source": [
    "- `jouer` doit actualiser et donc modifier l'état du tableau `jeu` donc a besoin de ce tableau en argument. De plus, cette fonction a besoin de connaître le contenu de la variable `joueur` pour écrire soit `'X'` soit `'O'` dans le tableau `jeu`. Elle possède donc deux arguments et ne renvoie rien."
   ]
  },
  {
   "cell_type": "code",
   "execution_count": 9,
   "metadata": {},
   "outputs": [],
   "source": [
    "def jouer(jeu: list, joueur: str) -> None:\n",
    "    \"\"\"Demande à l'utilisateur la case à jouer et met à jour le tableau jeu.\"\"\"\n",
    "    pass"
   ]
  },
  {
   "cell_type": "markdown",
   "metadata": {},
   "source": [
    "- `verifie_victoire` a besoin de connaître l'état du plateau donc la variable `jeu` pour déterminer si la patie est gagnée. Et c'est tout, ce sera son seul argument. Cette fonction doit indiquer si la partie est gagnée ou non, elle renverra donc un booléen (VRAI si la partie est gagnée et FAUX sinon)."
   ]
  },
  {
   "cell_type": "code",
   "execution_count": 15,
   "metadata": {},
   "outputs": [],
   "source": [
    "def verifie_victoire(jeu: list) -> bool:\n",
    "    \"\"\"Renvoie True si la partie est gagnée et False sinon.\"\"\"\n",
    "    pass"
   ]
  },
  {
   "cell_type": "markdown",
   "metadata": {},
   "source": [
    "- `change_joueur` a besoin de connaître qui vient de jouer pour passer à l'autre. Et c'est tout, donc elle n'a besoin que de la variable `joueur`. Cette fonction doit aussi modifier le contenu de la variable `joueur` donc elle doit renvoyer une valeur : la chaîne de caractères `'X'` ou la chaîne de caractères `'O'`."
   ]
  },
  {
   "cell_type": "code",
   "execution_count": 16,
   "metadata": {},
   "outputs": [],
   "source": [
    "def change_joueur(joueur: str) -> str:\n",
    "    \"\"\"Renvoie la chaîne 'X' si joueur vaut 'O' et la chaîne 'O' si joueur vaut 'X'.\"\"\"\n",
    "    pass"
   ]
  },
  {
   "cell_type": "markdown",
   "metadata": {},
   "source": [
    "## Ecriture de l'algorithme\n",
    "\n",
    "L'algorithme final du jeu peut alors s'écrire de la façon suivante :\n",
    "\n",
    "```\n",
    "affiche_plateau(jeu)\n",
    "joueur ← 'X'                           # le joueur 'X' commence (arbitraire)\n",
    "gagne ← FAUX                           # il n'y a pas de gagnant au départ\n",
    "Tant que non gagne faire               # tant qu'il n'y a pas de gagnant\n",
    "    Afficher \"Au tour de\", joueur\n",
    "    jouer(jeu, joueur)                 # Le joueur propose sa case et maj du plateau\n",
    "    affiche_plateau(jeu)\n",
    "    si verifie_victoire(jeu)           # Si verifie_victoire(jeu) renvoie VRAI\n",
    "    alors\n",
    "        gagne ← VRAI                   # le booleen gagne prend la valeur VRAI (ce qui stoppera la boucle while)\n",
    "        Afficher \"Le joueur\", joueur, \"a gagné !\"\n",
    "    sinon\n",
    "        joueur ← change_joueur(joueur) # sinon on passe au joueur suivant\n",
    "```"
   ]
  },
  {
   "cell_type": "markdown",
   "metadata": {},
   "source": [
    "# A vous de jouer !\n",
    "\n",
    "**Vous rédigerez un compte rendu <u>individuel</u> avec les réponses aux questions suivantes et aussi l'ensemble des démarches menées au cours de votre projet**.\n",
    "\n",
    "**Question 1** : Compléter l'algorithme précédent.\n",
    "\n",
    "**Question 2** : Répartissez-vous l'écriture des différentes fonctions `affiche_plateau(jeu)`, `jouer(jeu, joueur)`, `verifie_victoire(jeu)` et `change_joueur(joueur)`. Donnez votre répartition des tâches.\n",
    "\n",
    "**Question 3** :\n",
    "\n",
    "1. Programmez ensuite les fonctions qui vous incombent. *Demandez si besoin de l'aide à votre professeur sur l'écriture des fonctions.*\n",
    "2. Testez les fonctions qui vous incombent en effectuant différents appels.\n",
    "3. Détaillez les différentes améliorations apportées à vos fonctions (quel(s) étai(en)t le(s) problème(s) ? quelle(s) solution(s) avez-vous trouvée(s) ? ...)\n",
    "\n",
    "**Question 4** : Regroupez toutes les fonctions dans le même programme puis écrivez le **programme principal** correspondant à l'algorithme ci-dessus.\n",
    "\n",
    "**Question 5** : En réalité, l'algorithme présenté n'est pas tout à fait satisfaisant. Par des essais, identifiez et listez les problèmes rencontrés et les améliorations nécessaires pour que le jeu soit optimal.\n",
    "\n",
    "**Question 6** : Procédez enfin aux améliorations identifiées à la question précédente."
   ]
  },
  {
   "cell_type": "markdown",
   "metadata": {},
   "source": [
    "---\n",
    "\n",
    "Germain BECKER & Sébastien POINT, Lycée Mounier, ANGERS ![Licence Creative Commons](https://i.creativecommons.org/l/by-nc-sa/4.0/88x31.png)"
   ]
  }
 ],
 "metadata": {
  "kernelspec": {
   "display_name": "Python 3",
   "language": "python",
   "name": "python3"
  },
  "language_info": {
   "codemirror_mode": {
    "name": "ipython",
    "version": 3
   },
   "file_extension": ".py",
   "mimetype": "text/x-python",
   "name": "python",
   "nbconvert_exporter": "python",
   "pygments_lexer": "ipython3",
   "version": "3.7.3"
  }
 },
 "nbformat": 4,
 "nbformat_minor": 2
}
