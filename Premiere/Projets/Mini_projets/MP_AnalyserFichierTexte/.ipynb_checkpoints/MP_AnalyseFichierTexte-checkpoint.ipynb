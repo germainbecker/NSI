{
 "cells": [
  {
   "cell_type": "markdown",
   "id": "11dd0af8",
   "metadata": {},
   "source": [
    "<h1 style=\"font-size: 30px; text-align: center\">Mini-projet : Analyser un fichier texte (2 heures)</h1>\n",
    "\n",
    "---\n",
    "\n",
    "<img src=\"txt-file.svg\" alt=\"un cambrioleur\" width=\"100\">\n",
    "\n",
    "Ce mini-projet est guidé. À vous de suivre les instructions :)"
   ]
  },
  {
   "cell_type": "markdown",
   "id": "9dddbc6b",
   "metadata": {},
   "source": [
    "# Ouverture et lecture d'un fichier avec Python\n",
    "\n",
    "Pour les exemples, on va utiliser le fichier `exemple.txt` qui est placé dans le même répertoire que ce notebook.\n",
    "\n",
    "**Q1** : Ouvrez le fichier `exemple.txt` avec un éditeur de texte pour en observer le contenu.\n",
    "\n",
    "Pour ouvrir ce fichier avec Python on utilise la fonction `open()` comme ci-dessous :"
   ]
  },
  {
   "cell_type": "code",
   "execution_count": null,
   "id": "07673c33",
   "metadata": {},
   "outputs": [],
   "source": [
    "f = open('exemple.txt', 'r', encoding='utf8')"
   ]
  },
  {
   "cell_type": "markdown",
   "id": "25e56e1f",
   "metadata": {},
   "source": [
    "**Analyse** : On a passé 3 arguments à cette fonction :\n",
    "* le nom du fichier `'exemple.txt'` ;\n",
    "* le mode d'ouverture : `'r'` (première lettre de _read_ en anglais, c'est-à-dire \"lecture\") qui indique que l'on ouvre le fichier juste pour lire son contenu (et pas écrire dedans par exemple) ;\n",
    "* l'encodage utilisé : `encoding='utf8'`. Nous renviendrons là-dessus plus tard dans l'année, ce n'est pas important pour le moment.\n",
    "\n",
    "Cette fonction `open()` renvoie un \"objet fichier\" que l'on va pouvoir manipuler avec Python. On peut notamment lire _tout_ le contenu du fichier et stocker cela dans une variable appelée ici `contenu` :"
   ]
  },
  {
   "cell_type": "code",
   "execution_count": null,
   "id": "4ab76934",
   "metadata": {},
   "outputs": [],
   "source": [
    "f = open('exemple.txt', 'r', encoding='utf8')  # ouverture\n",
    "contenu = f.read()  # lecture\n",
    "f.close()  # fermeture du flux de lecture\n",
    "\n",
    "contenu # pour voir la valeur de la variable contenu"
   ]
  },
  {
   "cell_type": "markdown",
   "id": "f17365fb",
   "metadata": {},
   "source": [
    "**Q2** : En observant la sortie ci-dessus, indiquez le type de la variable `contenu` en justifiant. Quelle instruction Python permet de vérifier votre réponse ? Faites-le."
   ]
  },
  {
   "cell_type": "markdown",
   "id": "0de22d14",
   "metadata": {},
   "source": [
    "*Réponse* : (à compléter)"
   ]
  },
  {
   "cell_type": "code",
   "execution_count": null,
   "id": "005ffd55",
   "metadata": {},
   "outputs": [],
   "source": [
    "# à vous de jouer !\n"
   ]
  },
  {
   "cell_type": "markdown",
   "id": "a6331745",
   "metadata": {},
   "source": [
    "**Q3** : Par quoi ont été convertis les caractères invisibles de fin de ligne du fichier texte ?"
   ]
  },
  {
   "cell_type": "markdown",
   "id": "4386033a",
   "metadata": {},
   "source": [
    "*Réponse* : (à compléter)"
   ]
  },
  {
   "cell_type": "markdown",
   "id": "d04eeb6d",
   "metadata": {},
   "source": [
    "Notez que la fonction `print()` permet d'afficher le contenu comme un éditeur de texte :"
   ]
  },
  {
   "cell_type": "code",
   "execution_count": null,
   "id": "a0617a12",
   "metadata": {},
   "outputs": [],
   "source": [
    "print(contenu)"
   ]
  },
  {
   "cell_type": "markdown",
   "id": "07165de9",
   "metadata": {},
   "source": [
    "# On passe aux choses sérieuses\n",
    "\n",
    "<img src=\"cambrioleur.svg\" alt=\"un cambrioleur\" width=\"100\">\n",
    "\n",
    "Dans la suite, on va travailler avec le fichier `lupin.txt`, également placé dans le même répertoire que ce notebook. Ce fichier contient l'intégralité du livre _Arsène Lupin, gentleman-cambrioleur_ écrit par Maurice Leblanc.\n",
    "\n",
    ">Ce fichier est version légèrement modifiée (suppression des informations sur le projet Gutenberg, de la préface, de la table des matières, etc.) du fichier original qui peut être trouvé parmis les très nombreux livres électroniques du [Projet Gutenberg](https://www.gutenberg.org/ebooks/32854)."
   ]
  },
  {
   "cell_type": "markdown",
   "id": "da5bd5f8",
   "metadata": {},
   "source": [
    "**Q4** : Adaptez ce qui a été vu précédemment pour stocker dans une variable appelée `contenu_lupin` l'ensemble du texte de l'oeuvre."
   ]
  },
  {
   "cell_type": "code",
   "execution_count": null,
   "id": "815de694",
   "metadata": {},
   "outputs": [],
   "source": [
    "# à vous de jouer !\n"
   ]
  },
  {
   "cell_type": "markdown",
   "id": "579f07f2",
   "metadata": {},
   "source": [
    "**Q5** : Quelle instruction permet de connaître le nombre total de caractères du fichier `lupin.txt` ? "
   ]
  },
  {
   "cell_type": "code",
   "execution_count": null,
   "id": "286f7972",
   "metadata": {},
   "outputs": [],
   "source": [
    "# à vous de jouer !\n"
   ]
  },
  {
   "cell_type": "markdown",
   "id": "9251832d",
   "metadata": {},
   "source": [
    "**Q6 (défi 1)** : En utilisant ce que vous avez appris sur les chaînes de caractères et leur parcours, écrivez un programme qui permet de compter le nombre d'apparition de la lettre `z` dans l'oeuvre de Maurice Leblanc."
   ]
  },
  {
   "cell_type": "code",
   "execution_count": null,
   "id": "494a5a49",
   "metadata": {},
   "outputs": [],
   "source": [
    "# à vous de jouer !\n"
   ]
  },
  {
   "cell_type": "markdown",
   "id": "28bce5a7",
   "metadata": {},
   "source": [
    "**Q7 (défi 2)** : Écrivez maintenant une fonction appelée `compte_caractere(c, fichier)` qui renvoie le nombre d'apparition du caractère `c` dans `fichier` qui  est une chaîne de caractères correspondant au nom d'un fichier texte (dont l'encodage est utf8).\n",
    "\n",
    "*Exemple* : l'appel `compte_caractere('s', 'exemple.txt')` doit renvoyer la valeur 4. On doit avoir :\n",
    "\n",
    "```python\n",
    ">>> compte_caractere('s', 'exemple.txt')\n",
    "4\n",
    "```"
   ]
  },
  {
   "cell_type": "code",
   "execution_count": null,
   "id": "0badcc03",
   "metadata": {},
   "outputs": [],
   "source": [
    "# à vous de jouer !\n"
   ]
  },
  {
   "cell_type": "markdown",
   "id": "aa948531",
   "metadata": {},
   "source": [
    "# Et si on utilisait les méthodes prédéfinies sur les chaînes ?\n",
    "\n",
    "Les objets de type `str` en Python, c'est-à-dire les chaînes de caractères, disposent de plusieurs méthodes permettant de les manipuler.\n",
    "\n",
    "Voici trois liens expliquant cela :\n",
    "\n",
    "* [Documentation officielle de Python](https://docs.python.org/fr/3/library/stdtypes.html#string-methods)\n",
    "* [Sur python-simple.com](http://www.python-simple.com/python-langage/chaines-de-caracteres-string.php)\n",
    "* [Sur apcpedagogie.com](https://apcpedagogie.com/les-methodes-des-chaines-de-caracteres-en-python/)"
   ]
  },
  {
   "cell_type": "markdown",
   "id": "decf609e",
   "metadata": {},
   "source": [
    "**Q8 (défi 3)** : Trouvez dans ces ressources la méthode prédéfinie équivalente à la fonction du défi précédent. Utilisez ensuite cette méthode pour retrouver la réponse du défi 1."
   ]
  },
  {
   "cell_type": "code",
   "execution_count": null,
   "id": "97135a56",
   "metadata": {},
   "outputs": [],
   "source": [
    "# à vous de jouer !\n"
   ]
  },
  {
   "cell_type": "markdown",
   "id": "33211c51",
   "metadata": {},
   "source": [
    "**Q9 (défi 4)** : Toujours en utilisant, les méthodes prédéfinies sur les chaînes, écrivez une fonction `compte_lettre(lettre, fichier)` qui renvoie le nombre d'apparition de la lettre `lettre` (qu'elle soit en majuscule ou en minuscule) dans `fichier` qui  est une chaîne de caractères correspondant au nom d'un fichier texte (dont l'encodage est utf8). \n",
    "\n",
    "Utilisez ensuite cette fonction pour connaître le nombre d'apparition de la lettre m (que ce soit `'M'` ou `'m'`) dans l'oeuvre de Maurice Leblanc.\n",
    "\n",
    ">**Important** : on parle ici de _lettre_, cela veut dire (par exemple) que les caractères `'V'` et `'v'` représentent la même lettre.\n",
    "\n",
    "*Exemples* : On doit avoir \n",
    "\n",
    "```python\n",
    ">>> compte_lettre('V', 'exemple.txt')\n",
    "3\n",
    ">>> compte_lettre('v', 'exemple.txt')\n",
    "3\n",
    ">>> compte_lettre('p', 'exemple.txt')\n",
    "4\n",
    ">>> compte_lettre('P', 'exemple.txt')\n",
    "4\n",
    "```"
   ]
  },
  {
   "cell_type": "code",
   "execution_count": null,
   "id": "099b4c4a",
   "metadata": {},
   "outputs": [],
   "source": [
    "# à vous de jouer !\n"
   ]
  },
  {
   "cell_type": "markdown",
   "id": "5896b29a",
   "metadata": {},
   "source": [
    "---\n",
    "Germain BECKER, Lycée Mounier, ANGERS ![Licence Creative Commons](https://i.creativecommons.org/l/by-nc-sa/4.0/88x31.png)"
   ]
  }
 ],
 "metadata": {
  "kernelspec": {
   "display_name": "Python 3",
   "language": "python",
   "name": "python3"
  },
  "language_info": {
   "codemirror_mode": {
    "name": "ipython",
    "version": 3
   },
   "file_extension": ".py",
   "mimetype": "text/x-python",
   "name": "python",
   "nbconvert_exporter": "python",
   "pygments_lexer": "ipython3",
   "version": "3.7.10"
  }
 },
 "nbformat": 4,
 "nbformat_minor": 5
}
