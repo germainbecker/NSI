{
 "cells": [
  {
   "cell_type": "markdown",
   "metadata": {},
   "source": [
    "# Introduction sur les *notebooks*\n",
    "\n",
    "<img class=\"centre image-responsive\" src=\"data/jupyter_logo.svg\" alt=\"logo Jupyter\" width=\"200\">\n",
    "\n",
    "Nous utiliserons beaucoup cette année les **notebooks** de l'application web *Jupyter*. Il s'agit d'interfaces de programmation interactives permettant de mélanger du texte (écrit dans le format markdown) et du code en Python (entre autres). Ces notebooks sont très utilisés en science des données (*data science*) car ils facilitent le partage et la reproductibilité des résultats. Il sont très pratiques pour l'apprentissage du langage Python.\n",
    "\n",
    "On peut écrire en Python exactement comme avec n'importe quel éditeur et le code peut directement être exécuté dans le notebook. Pour cela, il suffit de se positionner sur la cellule de votre code et de cliquer sur le bouton `>| Exécuter` de la barre d'outils ou de manière plus efficace directement au clavier avec le raccourci `Maj + Entrée`.\n",
    "\n",
    "**Petit point sur l'affichage de valeurs**\n",
    "\n",
    "Dans un *notebook*, tout comme dans une console, si on veut connaître la valeur d'une variable, il n'est pas nécessaire d'utiliser la fonction `print`. Il suffit pour cela de taper en dernière ligne le nom de la variable que l'on veut afficher."
   ]
  },
  {
   "cell_type": "code",
   "execution_count": 1,
   "metadata": {},
   "outputs": [
    {
     "data": {
      "text/plain": [
       "28.0"
      ]
     },
     "execution_count": 1,
     "metadata": {},
     "output_type": "execute_result"
    }
   ],
   "source": [
    "prix = 35\n",
    "prix_remise = prix * 0.8 # remise de 20 %\n",
    "prix # ne sera pas affiché\n",
    "prix_remise # sera renvoyée car en dernière ligne"
   ]
  },
  {
   "cell_type": "markdown",
   "metadata": {},
   "source": [
    "On peut afficher les valeurs des deux variables `prix` et `prix_remise` en les séparant par une virgule en dernière ligne."
   ]
  },
  {
   "cell_type": "code",
   "execution_count": 2,
   "metadata": {},
   "outputs": [
    {
     "data": {
      "text/plain": [
       "(35, 28.0)"
      ]
     },
     "execution_count": 2,
     "metadata": {},
     "output_type": "execute_result"
    }
   ],
   "source": [
    "prix = 35\n",
    "prix_remise = prix * 0.8\n",
    "prix, prix_remise # ici un couple est renvoyé"
   ]
  },
  {
   "cell_type": "markdown",
   "metadata": {},
   "source": [
    "On peut aussi utiliser la fonction `print` :"
   ]
  },
  {
   "cell_type": "code",
   "execution_count": 3,
   "metadata": {},
   "outputs": [
    {
     "name": "stdout",
     "output_type": "stream",
     "text": [
      "35 28.0\n"
     ]
    }
   ],
   "source": [
    "prix = 35\n",
    "prix_remise = prix * 0.8 # remise de 20 %\n",
    "print(prix, prix_remise)"
   ]
  },
  {
   "cell_type": "markdown",
   "metadata": {},
   "source": [
    "En revanche, si vous souhaitez afficher des valeurs, à plusieurs endroits d'un programme, il faudra nécessairement utiliser la fonction `print`."
   ]
  },
  {
   "cell_type": "code",
   "execution_count": 4,
   "metadata": {},
   "outputs": [
    {
     "name": "stdout",
     "output_type": "stream",
     "text": [
      "5\n",
      "10\n",
      "0\n"
     ]
    }
   ],
   "source": [
    "a = 5\n",
    "print(a)\n",
    "a = 2 * a\n",
    "print(a)\n",
    "a = a - 10\n",
    "print(a)"
   ]
  },
  {
   "cell_type": "markdown",
   "metadata": {},
   "source": [
    "# Variables et affectations en Python\n",
    "\n",
    "Dans le langage Python, le symbole `=` correspondant à l'affectation (écrite $\\leftarrow$ en pseudo-code). \n",
    "\n",
    "Pour affecter la valeur 2 à une variable `a` on écrit simplement :\n",
    "\n",
    "```python\n",
    "a = 2\n",
    "```\n",
    "\n",
    "# Instructions conditionnelles : `if elif` et `else`\n",
    "\n",
    "En Python, les instructions conditionnelles se codent en utilisant les instructions `if`, `elif`, `else`.\n",
    "\n",
    "```python\n",
    "if condition1:\n",
    "    bloc_instructions_1\n",
    "elif condition2:\n",
    "    bloc_instructions_2\n",
    "else:\n",
    "    bloc_instructions_3\n",
    "```\n",
    "\n",
    "**Remarques :**\n",
    "- ne pas oublier les deux points à la fin des lignes avec `if`, `elif` et `else` qui permettent d'ouvrir le bloc d'instructions à effectuer dans chaque cas ;\n",
    "- les instructions à effectuer sont indentées d'une tabulation par rapport aux `if`, `elif` et `else` : c'est la syntaxe Python, elle doit absolument être respectée ;\n",
    "- les mot-clés `elif` et `else` ne sont pas obligatoires ;\n",
    "- au contraire du pseudo-code, on n'écrit pas en Python de 'fin si' car celui-ci est matérialisé la fin des indentations.\n",
    "\n",
    "Dans le programme suivant, le dernier message s'affiche à chaque fois, en revanche les deux messages précédents ne s'affichent que si on entre dans le bloc `if`, autrement dit si la condition `a >= 10` est vraie."
   ]
  },
  {
   "cell_type": "code",
   "execution_count": 5,
   "metadata": {},
   "outputs": [
    {
     "name": "stdout",
     "output_type": "stream",
     "text": [
      "Vous avez la moyenne\n",
      "Message dans le bloc d'instructions du if\n",
      "Message en dehors du bloc d'instruction du if\n"
     ]
    }
   ],
   "source": [
    "a = 15\n",
    "if a >= 10: # condition vraie\n",
    "    print(\"Vous avez la moyenne\")\n",
    "    print(\"Message dans le bloc d'instructions du if\")\n",
    "print(\"Message en dehors du bloc d'instruction du if\") # en dehors du bloc d'instructions du if"
   ]
  },
  {
   "cell_type": "code",
   "execution_count": 6,
   "metadata": {
    "scrolled": true
   },
   "outputs": [
    {
     "name": "stdout",
     "output_type": "stream",
     "text": [
      "Message en dehors du bloc d'instruction du if\n"
     ]
    }
   ],
   "source": [
    "a = 8\n",
    "if a >= 10: # condition fausse\n",
    "    print(\"Vous avez la moyenne\")\n",
    "    print(\"Message dans le bloc d'instructions du if\")\n",
    "print(\"Message en dehors du bloc d'instruction du if\") # en dehors du bloc d'instructions du if"
   ]
  },
  {
   "cell_type": "markdown",
   "metadata": {},
   "source": [
    "# Boucles bornées : boucles `for`\n",
    "\n",
    "En Python, les boucles 'Pour' se codent en utilisant l'instruction `for` :\n",
    "\n",
    "```python\n",
    "for element in sequence:\n",
    "    instruction1\n",
    "    instruction2\n",
    "    ...\n",
    "    instructionN    \n",
    "```\n",
    "\n",
    "**Remarques :**\n",
    "- `element` est une variable créée par le `for`, ce n'est pas à vous de l'instancier. Elle prend successicement chacune des valeurs figurant dans la `sequence` parcourue ;\n",
    "- ne pas oublier les deux points à la fin de la ligne avec `for` qui permettent d'ouvrir le bloc d'instructions à exécuter (à répéter) ;\n",
    "- les instructions à effectuer sont indentées d'une tabulation par rapport au `for` ;\n",
    "- au contraire du pseudo-code, on n'écrit pas en Python de 'fin pour' car celui-ci est matérialisé la fin des indentations."
   ]
  },
  {
   "cell_type": "markdown",
   "metadata": {},
   "source": [
    "## La fonction `range` pour créer des séquences de nombres\n",
    "\n",
    "La fonction `range` permet de créer des séquences de nombres. Vous allez comprendre quels nombres sur les exemples qui suivent :\n",
    "\n",
    "- `range(5)` : permet de créer la séquence de nombres entiers de 0 inclus à 5 **exclu** : c'est-à-dire les nombres 0, 1, 2, 3, 4.\n",
    "- `range(2,8)` : permet de créer la séquence de nombres entiers de 2 inclus à 8 **exclu** : c'est-à-dire les nombres 2, 3, 4, 5, 6, 7.\n",
    "- `range(2,8,3)` : permet de créer la séquence de nombres entiers de 2 inclus à 8 **exclu**, **par pas de 3** : c'est-à-dire les nombres 2, 5.\n",
    "\n",
    "Ainsi, pour répéter un bloc d'instructions 36 fois, il suffit d'écrire :\n",
    "\n",
    "```python\n",
    "for i in range(36):\n",
    "    bloc_instructions\n",
    "```\n",
    "\n",
    "En effet, la variable `i` créée par la boucle va prendre successivement les valeurs : 0, 1, 2, 3, ..., 35. Elle prend donc 36 valeurs et le bloc `bloc_instructions` sera donc répété 36 fois.\n",
    "\n",
    "On aurait aussi pu écrire cela :\n",
    "\n",
    "```python\n",
    "for i in range(0, 36):\n",
    "    bloc_instructions\n",
    "```\n",
    " ou encore :\n",
    " \n",
    " ```python\n",
    "for i in range(1,37):\n",
    "    bloc_instructions\n",
    "```\n",
    "\n",
    "ou encore :\n",
    "\n",
    "```python\n",
    "for valeur in range(36):\n",
    "    bloc_instructions\n",
    "```\n",
    "\n",
    "car dans chaque cas, la variable créée (`i` ou `valeur`) parcoure 36 valeurs différentes."
   ]
  },
  {
   "cell_type": "markdown",
   "metadata": {},
   "source": [
    "## Parcourir des chaînes de caractères\n",
    "\n",
    "Nous venons de voir que la fonction `range` permettait de créer des séquences de nombres que l'on pouvait parcourir avec l'instruction `for`.\n",
    "\n",
    "### Par ses caractères\n",
    "\n",
    "Il se trouve que les chaînes de caractères sont également des séquences ... de caractères. On peut donc aussi les parcourir très simplement avec une boucle `for`."
   ]
  },
  {
   "cell_type": "code",
   "execution_count": 7,
   "metadata": {},
   "outputs": [
    {
     "name": "stdout",
     "output_type": "stream",
     "text": [
      "B\n",
      "o\n",
      "n\n",
      "j\n",
      "o\n",
      "u\n",
      "r\n",
      " \n",
      "l\n",
      "e\n",
      "s\n",
      " \n",
      "é\n",
      "l\n",
      "è\n",
      "v\n",
      "e\n",
      "s\n",
      " \n",
      "!\n"
     ]
    }
   ],
   "source": [
    "chaine = \"Bonjour les élèves !\"\n",
    "for caractere in chaine :\n",
    "    print(caractere)"
   ]
  },
  {
   "cell_type": "markdown",
   "metadata": {},
   "source": [
    "La variable `caractere` créée par le `for` prend successivement les valeurs de la séquence \"Bonjour les élèves !\", c'est-à-dire qu'elle prend la valeur 'B' puis la valeur 'o', puis la valeur 'n', etc. La boucle s'arrête lorsque toute la séquence a été parcourue.\n",
    "\n",
    "### Par l'indice de ses caractères\n",
    "\n",
    "On peut aussi utiliser la fonction `range` pour parcourir les caractères par leurs indices."
   ]
  },
  {
   "cell_type": "code",
   "execution_count": 8,
   "metadata": {},
   "outputs": [
    {
     "name": "stdout",
     "output_type": "stream",
     "text": [
      "B\n",
      "o\n",
      "n\n",
      "j\n",
      "o\n",
      "u\n",
      "r\n",
      " \n",
      "l\n",
      "e\n",
      "s\n",
      " \n",
      "é\n",
      "l\n",
      "è\n",
      "v\n",
      "e\n",
      "s\n",
      " \n",
      "!\n"
     ]
    }
   ],
   "source": [
    "chaine = \"Bonjour les élèves !\"\n",
    "for indice in range(len(chaine)) :\n",
    "    print(chaine[indice])"
   ]
  },
  {
   "cell_type": "markdown",
   "metadata": {},
   "source": [
    "L'instruction `len(chaine)` revoie la longueur de la chaîne de caractères, soit 20 dans notre exemple. Donc `range(len(chaine))` est évaluée à `range(20)` qui crée la séquence d'entiers 0, 1, 2, ..., 19 qui vont être affectés successivement à la variable `indice`. On affiche ensuite, à chaque tour de boucle, le caractère en position `indice` dans `chaine` c'est-à-dire `chaine[0]`, puis `chaine[1]`, ... et enfin `chaine[19]`."
   ]
  },
  {
   "cell_type": "markdown",
   "metadata": {},
   "source": [
    "# Boucles non bornées : boucles `while`\n",
    "\n",
    "En Python, les boucles 'Tant que' se codent en utilisant l'instruction `while` :\n",
    "\n",
    "```python\n",
    "while condition:\n",
    "    instruction1\n",
    "    instruction2\n",
    "    ...\n",
    "    instructionN\n",
    "```\n",
    "\n",
    "**Remarques :**\n",
    "- `condition` est une variable booléenne qui est soit vraie (`True`) soit fausse (`False`) ;\n",
    "- Tant que `condition` vaut `True` les instructions du bloc sont répétées ;\n",
    "- On passe à la suite du programme dès que `condition` vaut `False`. Cela signifie que si `condition` reste vraie tout le temps, la boucle `while` boucle à l'infini, ce qui pourra causer des problèmes plus ou moins importants ;\n",
    "- ne pas oublier les deux points à la fin de la ligne avec `while` qui permettent d'ouvrir le bloc d'instructions à exécuter (à répéter) ;\n",
    "- les instructions à effectuer sont indentées d'une tabulation par rapport au `while` ;\n",
    "- au contraire du pseudo-code, on n'écrit pas en Python de 'fin tant que' car celui-ci est matérialisé la fin des indentations.\n",
    "\n",
    "**Exemple** :"
   ]
  },
  {
   "cell_type": "code",
   "execution_count": 9,
   "metadata": {},
   "outputs": [
    {
     "name": "stdout",
     "output_type": "stream",
     "text": [
      "5\n",
      "7\n",
      "9\n",
      "11\n",
      "13\n",
      "15\n"
     ]
    }
   ],
   "source": [
    "a = 3\n",
    "while a < 14:\n",
    "    a = a + 2\n",
    "    print(a) # pour voir l'évolution de la variable a"
   ]
  },
  {
   "cell_type": "markdown",
   "metadata": {},
   "source": [
    "# Les fonctions\n",
    "\n",
    "En Python, on définit une fonction à l'aide du mot-clé `def` :\n",
    "\n",
    "```python\n",
    "def nom_de_la_fonction(parametre1, parametre2, ..., parametreN):\n",
    "    instruction1\n",
    "    instruction2\n",
    "    ...\n",
    "    return valeur1, valeur2, ..., valeurP\n",
    "```\n",
    "\n",
    "- le mot-clé `def` est suivi du nom de la fonction ;\n",
    "- les *arguments* (ou *paramètres*) de la fonction sont ensuite écrits entre parenthèses et séparés par des virgules ;\n",
    "- il existe des fonctions sans paramètre, les parenthèses sont néanmoins obligatoires et restent vides ;\n",
    "- le mot-clé `return` permet de renvoyer une ou plusieurs valeurs (à séparer par des virgules) ;\n",
    "- au premier `return` rencontré l'exécution de la fonction est stoppée : si on veut renvoyer plusieurs valeurs on ne peut pas utiliser plusieurs `return` ; il faut séparer les valeurs à renvoyer par des virgules ;\n",
    "- comme d'habitude ne pas oublier les deux points à la fin de la ligne avec `def` qui permettent d'ouvrir le bloc d'instructions à exécuter (à répéter).\n",
    "\n",
    "**Exemple** :"
   ]
  },
  {
   "cell_type": "code",
   "execution_count": 10,
   "metadata": {},
   "outputs": [],
   "source": [
    "def est_dans_chaine(chaine, lettre):\n",
    "    reponse = False\n",
    "    pos = None\n",
    "    for indice in range(len(chaine)):\n",
    "        if chaine[indice] == lettre:\n",
    "            reponse = True\n",
    "            pos = indice      \n",
    "    return reponse, pos"
   ]
  },
  {
   "cell_type": "markdown",
   "metadata": {},
   "source": [
    "On peut ensuite appeler une fonction par son nom en lui passant les arguments souhaités."
   ]
  },
  {
   "cell_type": "code",
   "execution_count": 11,
   "metadata": {},
   "outputs": [
    {
     "data": {
      "text/plain": [
       "(True, 3)"
      ]
     },
     "execution_count": 11,
     "metadata": {},
     "output_type": "execute_result"
    }
   ],
   "source": [
    "est_dans_chaine('Bonjour', 'j')"
   ]
  },
  {
   "cell_type": "code",
   "execution_count": 12,
   "metadata": {},
   "outputs": [
    {
     "data": {
      "text/plain": [
       "(False, None)"
      ]
     },
     "execution_count": 12,
     "metadata": {},
     "output_type": "execute_result"
    }
   ],
   "source": [
    "est_dans_chaine('Bonjour', 'a')"
   ]
  },
  {
   "cell_type": "markdown",
   "metadata": {},
   "source": [
    "# Les entrées en Python\n",
    "\n",
    "Pour que l'utilisateur puisse saisir des valeurs au clavier, on utilise la fonction `input`. Elle déclenche l’ouverture d’une boîte de dialogue dans laquelle on peut saisir la valeur souhaitée."
   ]
  },
  {
   "cell_type": "code",
   "execution_count": 13,
   "metadata": {},
   "outputs": [
    {
     "name": "stdout",
     "output_type": "stream",
     "text": [
      "Veuillez saisir votre nom : Guido van Rossum\n",
      "Veuillez saisir votre âge : 64\n",
      "Guido van Rossum 64\n",
      "<class 'str'>\n"
     ]
    }
   ],
   "source": [
    "nom_utilisateur = input(\"Veuillez saisir votre nom : \")\n",
    "age_utilisateur = input(\"Veuillez saisir votre âge : \")\n",
    "print(nom_utilisateur, age_utilisateur)\n",
    "print(type(age_utilisateur)) # OBSERVEZ BIEN LE TYPE"
   ]
  },
  {
   "cell_type": "markdown",
   "metadata": {},
   "source": [
    "<blockquote class=\"attention\">\n",
    "<p><strong>ATTENTION :</strong> Par défaut, en Python, les variables saisies au clavier et récupérées par la fonction <code>input</code> sont des chaînes de caractères.</p>\n",
    "</blockquote>\n",
    "\n",
    "Cela peut créer des erreurs :"
   ]
  },
  {
   "cell_type": "code",
   "execution_count": 14,
   "metadata": {
    "scrolled": true
   },
   "outputs": [
    {
     "name": "stdout",
     "output_type": "stream",
     "text": [
      "Veuillez saisir votre âge : 16\n"
     ]
    },
    {
     "ename": "TypeError",
     "evalue": "can only concatenate str (not \"int\") to str",
     "output_type": "error",
     "traceback": [
      "\u001b[1;31m---------------------------------------------------------------------------\u001b[0m",
      "\u001b[1;31mTypeError\u001b[0m                                 Traceback (most recent call last)",
      "\u001b[1;32m<ipython-input-14-8ae97b43fbf4>\u001b[0m in \u001b[0;36m<module>\u001b[1;34m\u001b[0m\n\u001b[0;32m      1\u001b[0m \u001b[0mage_utilisateur\u001b[0m \u001b[1;33m=\u001b[0m \u001b[0minput\u001b[0m\u001b[1;33m(\u001b[0m\u001b[1;34m\"Veuillez saisir votre âge : \"\u001b[0m\u001b[1;33m)\u001b[0m\u001b[1;33m\u001b[0m\u001b[1;33m\u001b[0m\u001b[0m\n\u001b[1;32m----> 2\u001b[1;33m \u001b[0mage_utilisateur\u001b[0m \u001b[1;33m=\u001b[0m \u001b[0mage_utilisateur\u001b[0m \u001b[1;33m+\u001b[0m \u001b[1;36m2\u001b[0m\u001b[1;33m\u001b[0m\u001b[1;33m\u001b[0m\u001b[0m\n\u001b[0m",
      "\u001b[1;31mTypeError\u001b[0m: can only concatenate str (not \"int\") to str"
     ]
    }
   ],
   "source": [
    "age_utilisateur = input(\"Veuillez saisir votre âge : \")\n",
    "age_utilisateur = age_utilisateur + 2"
   ]
  },
  {
   "cell_type": "markdown",
   "metadata": {},
   "source": [
    "L'erreur se situe ligne 2 comme l'indique la flèche verte. Le message d'erreur ``` TypeError: can only concatenate str (not \"int\") to str ``` indique que Python ne peut concaténer une chaîne de caractères qu'avec une autre chaîne de caractères (mais pas avec un entier). \n",
    "\n",
    "En effet, la variable `age_utilisateur` étant de type `str`, le symbole `+` qui suit est le symbole de concaténation, qui ne peut pas s'appliquer à l'entier 2 qui suit car celui-ci est de type `int`."
   ]
  },
  {
   "cell_type": "markdown",
   "metadata": {},
   "source": [
    "**RÈGLE D'USAGE IMPORTANTE :** pour éviter ces problèmes, il suffit de préciser le type de variable que l'utilisateur doit saisir avant la fonction `input` comme indiqué ci-dessous :\n",
    "\n",
    "- pour saisir un entier : ```nom_variable = int(input(\"message à afficher\"))```\n",
    "- pour saisir un flottant : ```nom_variable = float(input(\"message à afficher\"))```\n",
    "- pour saisir un booléen : ```nom_variable = bool(input(\"message à afficher\"))```\n",
    "- pour saisir un entier long : ```nom_variable = long(input(\"message à afficher\"))```\n"
   ]
  },
  {
   "cell_type": "markdown",
   "metadata": {},
   "source": [
    "Ainsi, pour régler le problème précédent, il suffit d'écrire :"
   ]
  },
  {
   "cell_type": "code",
   "execution_count": 15,
   "metadata": {},
   "outputs": [
    {
     "name": "stdout",
     "output_type": "stream",
     "text": [
      "Veuillez saisir votre âge :16\n",
      "Dans deux ans, vous aurez : 18 ans\n"
     ]
    }
   ],
   "source": [
    "age_utilisateur = int(input(\"Veuillez saisir votre âge :\"))\n",
    "print(\"Dans deux ans, vous aurez :\", age_utilisateur + 2, \"ans\")"
   ]
  },
  {
   "cell_type": "markdown",
   "metadata": {},
   "source": [
    "<blockquote class=\"information\">\n",
    "    <p>Nous n'utiliserons les instructions d'entrée en Python que dans les cas où cela s'avère nécessaire. Dans les autres cas, on privilégiera les appels de fonctions en modifiant leurs arguments.</p>\n",
    "</blockquote>"
   ]
  },
  {
   "cell_type": "markdown",
   "metadata": {},
   "source": [
    "***\n",
    "Germain BECKER & Sébastien POINT, Lycée Mounier, ANGERS ![Licence Creative Commons](https://i.creativecommons.org/l/by-nc-sa/4.0/88x31.png)"
   ]
  }
 ],
 "metadata": {
  "kernelspec": {
   "display_name": "Python 3",
   "language": "python",
   "name": "python3"
  },
  "language_info": {
   "codemirror_mode": {
    "name": "ipython",
    "version": 3
   },
   "file_extension": ".py",
   "mimetype": "text/x-python",
   "name": "python",
   "nbconvert_exporter": "python",
   "pygments_lexer": "ipython3",
   "version": "3.7.3"
  }
 },
 "nbformat": 4,
 "nbformat_minor": 2
}
