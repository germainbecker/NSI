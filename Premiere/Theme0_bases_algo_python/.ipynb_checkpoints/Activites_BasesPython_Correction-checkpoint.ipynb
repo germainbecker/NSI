{
 "cells": [
  {
   "cell_type": "markdown",
   "metadata": {},
   "source": [
    "<h1 style=\"font-size: 30px; text-align: center\">Les bases de Python - EXERCICES</h1>\n",
    "\n",
    "---"
   ]
  },
  {
   "cell_type": "markdown",
   "metadata": {},
   "source": [
    "**Objectif**\n",
    "\n",
    "L'objectif final est que sachiez écrire les structures de bases (affectations, instructions conditionnelles, boucles `for`, boucle `while`, fonctions) dans le langage Python.\n",
    "\n",
    "Pour cela, une grande partie des exerciec ci-dessous consistent à écrire dans le langage Python, des algorithmes écrits en langage naturel dans la partie 1 sur _Les bases de l'algorithmique_.\n",
    "\n",
    "> N'hésitez surtout pas à revoir le notebook de cours sur les bases de Python, faites des allers-retours entre le cours et les exercices !\n"
   ]
  },
  {
   "cell_type": "markdown",
   "metadata": {},
   "source": [
    "# Variables et affectations en Python\n",
    "---\n",
    "\n",
    "## Exercice 1\n",
    "\n",
    "Écrivez le programme Python correspondant à l'algorithme de l'exercice 1 sur les bases de l'algorithmique dont on rappelle l'énoncé ci-dessous. _Vous vérifiez également vos réponses en affichant ce qu'il faut avec Python_.\n",
    "\n",
    ">Que valent `N` et `P` après l’exécution de cet algorithme ?\n",
    ">```\n",
    " N ← 2\n",
    " P ← 3\n",
    " N ← P + 1\n",
    " P ← N\n",
    " ```"
   ]
  },
  {
   "cell_type": "code",
   "execution_count": null,
   "metadata": {},
   "outputs": [],
   "source": [
    "# écrivez le programme Python correspondant\n"
   ]
  },
  {
   "cell_type": "markdown",
   "metadata": {},
   "source": [
    "<details>\n",
    "    <summary style=\"display: list-item;color: rgb(96 131 228);\"><span style=\"cursor:pointer;\">Voir la correction</span></summary>\n",
    "    <div style=\"border-left:2px solid rgb(96 131 228)\">\n",
    "    <pre><code class=\"cm-s-ipython language-python\"><span class=\"cm-variable\">N</span> <span class=\"cm-operator\">=</span> <span class=\"cm-number\">2</span>\n",
    "<span class=\"cm-variable\">P</span> <span class=\"cm-operator\">=</span> <span class=\"cm-number\">3</span>\n",
    "<span class=\"cm-variable\">N</span> <span class=\"cm-operator\">=</span> <span class=\"cm-variable\">P</span> <span class=\"cm-operator\">+</span> <span class=\"cm-number\">1</span>\n",
    "<span class=\"cm-variable\">P</span> <span class=\"cm-operator\">=</span> <span class=\"cm-variable\">N</span>\n",
    "<span class=\"cm-builtin\">print</span>(<span class=\"cm-variable\">N</span>, <span class=\"cm-variable\">P</span>)  <span class=\"cm-comment\"># pour vérifier la réponse</span></code></pre>\n",
    "    </div>\n",
    "</details>"
   ]
  },
  {
   "cell_type": "markdown",
   "metadata": {},
   "source": [
    "## Exercice 2\n",
    "\n",
    "Écrivez le programme Python correspondant à l'algorithme de l'exercice 2 sur les bases de l'algorithmique dont on rappelle l'énoncé ci-dessous. _Vous vérifiez également vos réponses en affichant ce qu'il faut avec Python_.\n",
    "\n",
    ">Que vaut `B` après l’exécution de cet algorithme ?\n",
    ">```\n",
    "A ← 8\n",
    "B ← (A ≥ 10)\n",
    "```"
   ]
  },
  {
   "cell_type": "code",
   "execution_count": null,
   "metadata": {},
   "outputs": [],
   "source": [
    "# écrivez le programme Python correspondant\n"
   ]
  },
  {
   "cell_type": "markdown",
   "metadata": {},
   "source": [
    "<details>\n",
    "    <summary style=\"display: list-item;color: rgb(96 131 228);\"><span style=\"cursor:pointer;\">Voir la correction</span></summary>\n",
    "    <div style=\"border-left:2px solid rgb(96 131 228)\">\n",
    "    <pre><code class=\"cm-s-ipython language-python\"><span class=\"cm-variable\">A</span> <span class=\"cm-operator\">=</span> <span class=\"cm-number\">8</span>\n",
    "<span class=\"cm-variable\">B</span> <span class=\"cm-operator\">=</span> (<span class=\"cm-variable\">A</span> <span class=\"cm-operator\">&gt;=</span> <span class=\"cm-number\">10</span>)\n",
    "<span class=\"cm-builtin\">print</span>(<span class=\"cm-variable\">B</span>)  <span class=\"cm-comment\"># pour voir la valeur de B</span></code></pre>\n",
    "    </div>\n",
    "</details>"
   ]
  },
  {
   "cell_type": "markdown",
   "metadata": {},
   "source": [
    "## Exercice 3\n",
    "\n",
    "Écrivez le programme Python correspondant à l'algorithme de l'exercice 3 sur les bases de l'algorithmique dont on rappelle l'énoncé ci-dessous. _Vous vérifiez également vos réponses avec Python_.\n",
    "\n",
    ">Supposons que `N` vaut 2 ; que vaut `P` après l’exécution de cet algorithme ?\n",
    ">```\n",
    "P ← N mod 5\n",
    "P ← N div P\n",
    "```"
   ]
  },
  {
   "cell_type": "code",
   "execution_count": null,
   "metadata": {},
   "outputs": [],
   "source": [
    "# écrivez le programme Python correspondant\n"
   ]
  },
  {
   "cell_type": "markdown",
   "metadata": {},
   "source": [
    "<details>\n",
    "    <summary style=\"display: list-item;color: rgb(96 131 228);\"><span style=\"cursor:pointer;\">Voir la correction</span></summary>\n",
    "    <div style=\"border-left: 2px solid rgb(96 131 228)\">\n",
    "    <pre><code class=\"cm-s-ipython language-python\"><span class=\"cm-variable\">N</span> <span class=\"cm-operator\">=</span> <span class=\"cm-number\">2</span>  <span class=\"cm-comment\"># initialisation de N</span>\n",
    "<span class=\"cm-variable\">P</span> <span class=\"cm-operator\">=</span> <span class=\"cm-variable\">N</span> <span class=\"cm-operator\">%</span> <span class=\"cm-number\">5</span>\n",
    "<span class=\"cm-variable\">P</span> <span class=\"cm-operator\">=</span> <span class=\"cm-variable\">N</span> <span class=\"cm-operator\">/</span><span class=\"cm-operator\">/</span> <span class=\"cm-variable\">P</span>\n",
    "<span class=\"cm-builtin\">print</span>(<span class=\"cm-variable\">P</span>)  <span class=\"cm-comment\"># pour voir la valeur de P</span></code></pre>\n",
    "    </div>\n",
    "</details>"
   ]
  },
  {
   "cell_type": "markdown",
   "metadata": {},
   "source": [
    "# Instructions conditionnelles : `if`, `elif` et `else`\n",
    "---\n",
    "\n",
    "## Exercice 4\n",
    "\n",
    "Écrivez le programme Python correspondant à l'algorithme de l'exercice 5 sur les bases de l'algorithmique dont on rappelle l'énoncé ci-dessous. _Vous vérifiez également vos réponses avec Python_.\n",
    "\n",
    ">Supposons que `A` vaut 1 au début ; que vaut-il après l’exécution de cet algorithme ?\n",
    ">```\n",
    "si A ≥ 0\n",
    "   alors A ← A - 1\n",
    "   sinon A ← A + 1\n",
    "fin si\n",
    "```"
   ]
  },
  {
   "cell_type": "code",
   "execution_count": null,
   "metadata": {},
   "outputs": [],
   "source": [
    "# écrivez le programme Python correspondant\n"
   ]
  },
  {
   "cell_type": "markdown",
   "metadata": {},
   "source": [
    "<details>\n",
    "    <summary style=\"display: list-item;color: rgb(96 131 228)\"><span style=\"cursor:pointer;\">Voir la correction</span></summary>\n",
    "    <div style=\"border-left:2px solid rgb(96 131 228)\">\n",
    "    <pre><code class=\"cm-s-ipython language-python\"><span class=\"cm-variable\">A</span> <span class=\"cm-operator\">=</span> <span class=\"cm-number\">1</span>  <span class=\"cm-comment\"># valeur intiale de A</span>\n",
    "<span class=\"cm-keyword\">if</span> <span class=\"cm-variable\">A</span> <span class=\"cm-operator\">&gt;=</span> <span class=\"cm-number\">0</span>:\n",
    "    <span class=\"cm-variable\">A</span> <span class=\"cm-operator\">=</span> <span class=\"cm-variable\">A</span> <span class=\"cm-operator\">-</span> <span class=\"cm-number\">1</span>\n",
    "<span class=\"cm-keyword\">else</span>:\n",
    "    <span class=\"cm-variable\">A</span> <span class=\"cm-operator\">=</span> <span class=\"cm-variable\">A</span> <span class=\"cm-operator\">+</span> <span class=\"cm-number\">1</span>\n",
    "<span class=\"cm-builtin\">print</span>(<span class=\"cm-variable\">A</span>)  <span class=\"cm-comment\"># pour voir la valeur finale de A</span></code></pre>\n",
    "    </div>\n",
    "</details>"
   ]
  },
  {
   "cell_type": "markdown",
   "metadata": {},
   "source": [
    "## Exercice 5\n",
    "\n",
    "Écrivez le programme Python correspondant à l'algorithme de l'exercice 6 sur les bases de l'algorithmique dont on rappelle l'énoncé ci-dessous. _Vous vérifiez également vos réponses avec Python_.\n",
    "\n",
    ">L'algorithme ci-dessous est-il équivalent (au sens ou une même valeur de `A` initiale induit une même valeur de `A` après leur exécution) à celui présenté dans l'exercice 5 ?\n",
    ">```\n",
    "si A ≥ 0\n",
    "   alors A ← A - 1\n",
    "fin si\n",
    "si A < 0\n",
    "   alors A ← A + 1\n",
    "finsi\n",
    "```"
   ]
  },
  {
   "cell_type": "code",
   "execution_count": null,
   "metadata": {},
   "outputs": [],
   "source": [
    "# écrivez le programme Python correspondant\n"
   ]
  },
  {
   "cell_type": "markdown",
   "metadata": {},
   "source": [
    "# Boucles bornées : boucles `for`\n",
    "---\n",
    "\n",
    "## Exercice 6\n",
    "\n",
    "Écrivez le programme Python correspondant à l'algorithme de l'exercice 9 sur les bases de l'algorithmique dont on rappelle l'énoncé ci-dessous. _Vous vérifiez également vos réponses avec Python_.\n",
    "\n",
    ">Supposons que `A` vaut initialement 10 ; combien vaut-il après l'exécution de cet algorithme ?\n",
    ">```\n",
    "pour i de 2 à 5 faire\n",
    "    A ← A + i\n",
    "fin pour\n",
    "```"
   ]
  },
  {
   "cell_type": "code",
   "execution_count": null,
   "metadata": {},
   "outputs": [],
   "source": [
    "# écrivez le programme Python correspondant\n"
   ]
  },
  {
   "cell_type": "markdown",
   "metadata": {},
   "source": [
    "<details>\n",
    "    <summary style=\"display: list-item;color: rgb(96 131 228)\"><span style=\"cursor:pointer;\">Voir la correction</span></summary>\n",
    "    <div style=\"border-left:2px solid rgb(96 131 228)\">\n",
    "    <pre><code class=\"cm-s-ipython language-python\"><span class=\"cm-variable\">A</span> <span class=\"cm-operator\">=</span> <span class=\"cm-number\">10</span>\n",
    "<span class=\"cm-keyword\">for</span> <span class=\"cm-variable\">i</span> <span class=\"cm-keyword\">in</span> <span class=\"cm-builtin\">range</span>(<span class=\"cm-number\">2</span>, <span class=\"cm-number\">6</span>):  <span class=\"cm-comment\"># Attention : 6 !</span>\n",
    "    <span class=\"cm-variable\">A</span> <span class=\"cm-operator\">=</span> <span class=\"cm-variable\">A</span> <span class=\"cm-operator\">+</span> <span class=\"cm-variable\">i</span>\n",
    "<span class=\"cm-builtin\">print</span>(<span class=\"cm-variable\">A</span>)  <span class=\"cm-comment\"># pour voir la valeur finale de A</span></code></pre>\n",
    "    </div>\n",
    "</details>"
   ]
  },
  {
   "cell_type": "markdown",
   "metadata": {},
   "source": [
    "## Exercice 7\n",
    "\n",
    "Écrivez le programme Python correspondant à l'algorithme de l'exercice 10 sur les bases de l'algorithmique dont on rappelle l'énoncé ci-dessous. _Vous vérifiez également vos réponses avec Python_.\n",
    "\n",
    ">Supposons que `V` vaut 0 initialement ; combien vaut-il après l'exécution de cet algorithme ?\n",
    ">```\n",
    "pour I de 1 à 4 par pas de 1 faire\n",
    "   si I est pair\n",
    "      alors V ← V + I*I\n",
    "   fin si\n",
    "fin pour\n",
    "```"
   ]
  },
  {
   "cell_type": "code",
   "execution_count": null,
   "metadata": {},
   "outputs": [],
   "source": [
    "# écrivez le programme Python correspondant\n"
   ]
  },
  {
   "cell_type": "markdown",
   "metadata": {},
   "source": [
    "<details>\n",
    "    <summary style=\"display: list-item;color: rgb(96 131 228)\"><span style=\"cursor:pointer;\">Voir la correction</span></summary>\n",
    "    <div style=\"border-left:2px solid rgb(96 131 228)\">\n",
    "    <pre><code class=\"cm-s-ipython language-python\"><span class=\"cm-variable\">V</span> <span class=\"cm-operator\">=</span> <span class=\"cm-number\">0</span>\n",
    "<span class=\"cm-keyword\">for</span> <span class=\"cm-variable\">I</span> <span class=\"cm-keyword\">in</span> <span class=\"cm-builtin\">range</span>(<span class=\"cm-number\">1</span>, <span class=\"cm-number\">5</span>):\n",
    "    <span class=\"cm-keyword\">if</span> <span class=\"cm-variable\">I</span><span class=\"cm-operator\">%</span><span class=\"cm-number\">2</span> <span class=\"cm-operator\">==</span> <span class=\"cm-number\">0</span>:  <span class=\"cm-comment\"># si i est divisible par 2</span>\n",
    "        <span class=\"cm-variable\">V</span> <span class=\"cm-operator\">=</span> <span class=\"cm-variable\">V</span> <span class=\"cm-operator\">+</span> <span class=\"cm-variable\">I</span><span class=\"cm-operator\">*</span><span class=\"cm-variable\">I</span>\n",
    "<span class=\"cm-builtin\">print</span>(<span class=\"cm-variable\">V</span>)  <span class=\"cm-comment\"># pour voir la valeur finale de V</span></code></pre>\n",
    "    </div>\n",
    "</details>"
   ]
  },
  {
   "cell_type": "markdown",
   "metadata": {},
   "source": [
    "## Exercice 8\n",
    "\n",
    "Écrivez le programme Python correspondant à l'algorithme de l'exercice 12 sur les bases de l'algorithmique dont on rappelle l'énoncé ci-dessous. _Vous vérifiez également vos réponses avec Python_.\n",
    "\n",
    ">Supposons que `A` vaut 1 initialement ; combien vaut-il après l'exécution\n",
    "de cet algorithme ?\n",
    ">```\n",
    "pour i de 0 à 3 faire\n",
    "    pour j de 0 à 2 faire\n",
    "        A ← A + i*j\n",
    "    fin pour\n",
    "fin pour\n",
    "```"
   ]
  },
  {
   "cell_type": "code",
   "execution_count": null,
   "metadata": {},
   "outputs": [],
   "source": [
    "# écrivez le programme Python correspondant\n"
   ]
  },
  {
   "cell_type": "markdown",
   "metadata": {},
   "source": [
    "<details>\n",
    "    <summary style=\"display: list-item;color: rgb(96 131 228)\"><span style=\"cursor:pointer;\">Voir la correction</span></summary>\n",
    "    <div style=\"border-left:2px solid rgb(96 131 228)\">\n",
    "    <pre><code class=\"cm-s-ipython language-python\"><span class=\"cm-variable\">A</span> <span class=\"cm-operator\">=</span> <span class=\"cm-number\">1</span>  <span class=\"cm-comment\"># initialisation de A</span>\n",
    "<span class=\"cm-keyword\">for</span> <span class=\"cm-variable\">i</span> <span class=\"cm-keyword\">in</span> <span class=\"cm-builtin\">range</span>(<span class=\"cm-number\">4</span>):  <span class=\"cm-comment\"># ou range(0, 4)</span>\n",
    "    <span class=\"cm-keyword\">for</span> <span class=\"cm-variable\">j</span> <span class=\"cm-keyword\">in</span> <span class=\"cm-builtin\">range</span>(<span class=\"cm-number\">3</span>):\n",
    "        <span class=\"cm-variable\">A</span> <span class=\"cm-operator\">=</span> <span class=\"cm-variable\">A</span> <span class=\"cm-operator\">+</span> <span class=\"cm-variable\">i</span><span class=\"cm-operator\">*</span><span class=\"cm-variable\">j</span>\n",
    "<span class=\"cm-builtin\">print</span>(<span class=\"cm-variable\">A</span>)  <span class=\"cm-comment\"># pour voir la valeur finale de A</span></code></pre>\n",
    "    </div>\n",
    "</details>"
   ]
  },
  {
   "cell_type": "markdown",
   "metadata": {},
   "source": [
    "## Exercice 9\n",
    "\n",
    "**Q1** : Quelles sont les valeurs affichées dans la console  lors de l'exécution de chacun des programmes ci-dessous ? _Attention, il faut répondre sans exécuter le code !_\n",
    "* Programme 1 :\n",
    "```python\n",
    "for i in range(10):\n",
    "    print(i)\n",
    "```\n",
    "* Programme 2 :\n",
    "```python\n",
    "for k in range(2, 10):\n",
    "    print(k)\n",
    " ```\n",
    "* Programme 3 :\n",
    "```python\n",
    "for ind in range(2, 10, 3):\n",
    "    print(ind)\n",
    "```\n",
    "\n",
    "**Q2** : Vérifiez en réécrivant et en exécutant chacun de ces programmes.   \n",
    "    "
   ]
  },
  {
   "cell_type": "markdown",
   "metadata": {},
   "source": [
    "<details>\n",
    "    <summary style=\"display: list-item;color: rgb(96 131 228)\"><span style=\"cursor:pointer;\">Voir la correction</span></summary>\n",
    "    <div style=\"border-left:2px solid rgb(96 131 228)\">\n",
    "    <div class=\"text_cell_render rendered_html\" tabindex=\"-1\"><ul>\n",
    "<li>Programme 1 : 0, 1, 2, ..., 9</li>\n",
    "<li>Programme 2 : 2, 3, 4, ..., 9</li>\n",
    "<li>Programme 3 : 2, 5, 8</li>\n",
    "</ul>\n",
    "</div>\n",
    "    </div>\n",
    "</details>"
   ]
  },
  {
   "cell_type": "markdown",
   "metadata": {},
   "source": [
    "## Exercice 10\n",
    "\n",
    "On considère le programme Python suivant :\n",
    "\n",
    "```python\n",
    "chaine = 'peace and love'\n",
    "compteur = 0\n",
    "for caractere in chaine:\n",
    "\tif caractere == 'e':\n",
    "\t\tcompteur = compteur + 1\n",
    "```\n",
    "\n",
    "**Q1** : Quelle est le rôle de ce code. Quelle est la valeur finale de la variable `compteur` ?"
   ]
  },
  {
   "cell_type": "markdown",
   "metadata": {},
   "source": [
    "_Réponse (à compléter)_ : "
   ]
  },
  {
   "cell_type": "markdown",
   "metadata": {},
   "source": [
    "**Q2** : Recopiez ce code et vérifiez la réponse à la question précédente."
   ]
  },
  {
   "cell_type": "code",
   "execution_count": 1,
   "metadata": {},
   "outputs": [],
   "source": [
    "# à vous de jouer !\n"
   ]
  },
  {
   "cell_type": "markdown",
   "metadata": {},
   "source": [
    "**Q3** : Modifiez le code pour compter le nombre de `'a'`."
   ]
  },
  {
   "cell_type": "code",
   "execution_count": null,
   "metadata": {},
   "outputs": [],
   "source": [
    "# à vous de jouer !\n"
   ]
  },
  {
   "cell_type": "markdown",
   "metadata": {},
   "source": [
    "<details>\n",
    "    <summary style=\"display: list-item;color: rgb(96 131 228)\"><span style=\"cursor:pointer;\">Voir la correction</span></summary>\n",
    "    <div style=\"border-left:2px solid rgb(96 131 228)\">\n",
    "    <div class=\"text_cell_render rendered_html\" tabindex=\"-1\"><p><strong>Q1</strong> : Il compte le nombre d'apparition du caractère <code>'e'</code> dans <code>chaine</code>. La variable finale de <code>compteur</code> est donc 3.</p>\n",
    "<p><strong>Q2</strong> : Il n'y qu'à recopier</p>\n",
    "<p><strong>Q3</strong> : Il suffit de remplacer <code>'e'</code> par <code>'a'</code> dans l'instruction conditionnelle à la ligne 4</p>\n",
    "</div>\n",
    "    </div>\n",
    "</details>"
   ]
  },
  {
   "cell_type": "markdown",
   "metadata": {},
   "source": [
    "# Boucles non bornées : boucles `while`\n",
    "---\n",
    "\n",
    "## Exercice 11\n",
    "\n",
    "Écrivez le programme Python correspondant à l'algorithme de l'exercice 13 sur les bases de l'algorithmique dont on rappelle l'énoncé ci-dessous. _Vous vérifiez également vos réponses avec Python_.\n",
    "\n",
    ">Supposons que `D` vaut 7 initialement ; que vaut-il après l'exécution de cet algorithme ?\n",
    ">```\n",
    "tant que D > 3 faire\n",
    "   D ← D - 3\n",
    "fin tant que\n",
    "```"
   ]
  },
  {
   "cell_type": "code",
   "execution_count": null,
   "metadata": {},
   "outputs": [],
   "source": [
    "# écrivez le programme Python correspondant\n"
   ]
  },
  {
   "cell_type": "markdown",
   "metadata": {},
   "source": [
    "<details>\n",
    "    <summary style=\"display: list-item;color: rgb(96 131 228)\"><span style=\"cursor:pointer;\">Voir la correction</span></summary>\n",
    "    <div style=\"border-left:2px solid rgb(96 131 228)\">\n",
    "    <pre><code class=\"cm-s-ipython language-python\"><span class=\"cm-variable\">D</span> <span class=\"cm-operator\">=</span> <span class=\"cm-number\">7</span>  <span class=\"cm-comment\"># valeur initiale de D</span>\n",
    "<span class=\"cm-keyword\">while</span> <span class=\"cm-variable\">D</span> <span class=\"cm-operator\">&gt;</span> <span class=\"cm-number\">3</span>:\n",
    "    <span class=\"cm-variable\">D</span> <span class=\"cm-operator\">=</span> <span class=\"cm-variable\">D</span> <span class=\"cm-operator\">-</span> <span class=\"cm-number\">3</span>\n",
    "<span class=\"cm-builtin\">print</span>(<span class=\"cm-variable\">D</span>)  <span class=\"cm-comment\"># pour voir la valeur finale de D</span></code></pre>\n",
    "    </div>\n",
    "</details>\n"
   ]
  },
  {
   "cell_type": "markdown",
   "metadata": {},
   "source": [
    "## Exercice 12\n",
    "\n",
    "Reprenez le programme Python de l'exercice précédent et ajoutez-y une variable qui compte le nombre d'itérations dans la boucle `while`. Cela pour permettra de vérifier la question 2 de l'exercice 14 sur les bases de l'algorithmique dont on rappelle l'énoncé ci-dessous. _Vous vérifiez également vos réponses avec Python_.\n",
    "\n",
    ">On considère l'algorithme précédent.\n",
    ">1. Supposons que `D` vaut 2 après l'exécution de cet algorithme. Quelles valeurs parmi celles proposées ci-dessous pouvait-il avoir initialement ? -2 ; 2 ; 6 ; 14 ; 25.\n",
    ">2. Supposons que `D` vaut 25 initialement ; combien d'itérations (c'est-à-dire de passages dans la répétitive) ont lieu avant que l'exécution de cet algorithme ne se termine ?"
   ]
  },
  {
   "cell_type": "code",
   "execution_count": null,
   "metadata": {},
   "outputs": [],
   "source": [
    "# ajoutez une variable qui compte le nombre d'itérations dans la répétitive tant que\n"
   ]
  },
  {
   "cell_type": "markdown",
   "metadata": {},
   "source": [
    "<details>\n",
    "    <summary style=\"display: list-item;color: rgb(96 131 228)\"><span style=\"cursor:pointer;\">Voir la correction</span></summary>\n",
    "    <div style=\"border-left:2px solid rgb(96 131 228)\">\n",
    "    <div class=\"text_cell_render rendered_html\" tabindex=\"-1\"><p>On ajoute la variable <code>iter</code> qui vaut 0 au départ et que l'on augmente de 1 à chaque tour de boucle. On remplace aussi la valeur intiale de <code>D</code> par 25.</p>\n",
    "<pre><code class=\"cm-s-ipython language-python\"><span class=\"cm-variable\">D</span> <span class=\"cm-operator\">=</span> <span class=\"cm-number\">25</span>  <span class=\"cm-comment\"># valeur initiale de D</span>\n",
    "<span class=\"cm-builtin\">iter</span> <span class=\"cm-operator\">=</span> <span class=\"cm-number\">0</span>\n",
    "<span class=\"cm-keyword\">while</span> <span class=\"cm-variable\">D</span> <span class=\"cm-operator\">&gt;</span> <span class=\"cm-number\">3</span>:\n",
    "    <span class=\"cm-builtin\">iter</span> <span class=\"cm-operator\">=</span> <span class=\"cm-builtin\">iter</span> <span class=\"cm-operator\">+</span> <span class=\"cm-number\">1</span>\n",
    "    <span class=\"cm-variable\">D</span> <span class=\"cm-operator\">=</span> <span class=\"cm-variable\">D</span> <span class=\"cm-operator\">-</span> <span class=\"cm-number\">3</span>\n",
    "<span class=\"cm-builtin\">print</span>(<span class=\"cm-builtin\">iter</span>, <span class=\"cm-variable\">D</span>)  <span class=\"cm-comment\"># pour voir le nombre total d'itérations</span></code></pre>\n",
    "</div>\n",
    "    </div>\n",
    "</details>"
   ]
  },
  {
   "cell_type": "markdown",
   "metadata": {},
   "source": [
    "## Exercice 13\n",
    "\n",
    "Écrivez le programme Python correspondant à l'algorithme de l'exercice 15 sur les bases de l'algorithmique dont on rappelle l'énoncé ci-dessous. _Vous vérifiez également vos réponses avec Python_.\n",
    "\n",
    ">Proposez un algorithme qui utilise une boucle Tant que qui a pour but d'afficher le quotient de la division entière d'un entier naturel A par un entier naturel B."
   ]
  },
  {
   "cell_type": "code",
   "execution_count": null,
   "metadata": {},
   "outputs": [],
   "source": [
    "# écrivez le programme Python correspondant\n"
   ]
  },
  {
   "cell_type": "markdown",
   "metadata": {},
   "source": [
    "<details>\n",
    "    <summary style=\"display: list-item;color: rgb(96 131 228)\"><span style=\"cursor:pointer;\">Voir la correction</span></summary>\n",
    "    <div style=\"border-left:2px solid rgb(96 131 228)\">\n",
    "    <div class=\"text_cell_render rendered_html\" tabindex=\"-1\"><p>L'idée est la suivante : avec une boucle Tant que, on retranche B à A jusqu'à obtenir un nombre &lt; B. Le nombre de fois que l'on a pu faire cela est le quotient cherché, c'est donc le nombre de passages dans la boucle Tant que. On utilise une variable <code>q</code> qui compte le nombre de passages comme dans l'exercice précédent.</p>\n",
    "<pre><code class=\"cm-s-ipython language-python\"><span class=\"cm-comment\"># valeurs pour tester</span>\n",
    "<span class=\"cm-variable\">A</span> <span class=\"cm-operator\">=</span> <span class=\"cm-number\">25</span>\n",
    "<span class=\"cm-variable\">B</span> <span class=\"cm-operator\">=</span> <span class=\"cm-number\">3</span>\n",
    "<span class=\"cm-comment\"># algorithme</span>\n",
    "<span class=\"cm-variable\">q</span> <span class=\"cm-operator\">=</span> <span class=\"cm-number\">0</span>\n",
    "<span class=\"cm-keyword\">while</span> <span class=\"cm-variable\">A</span> <span class=\"cm-operator\">&gt;=</span> <span class=\"cm-variable\">B</span>:\n",
    "    <span class=\"cm-variable\">q</span> <span class=\"cm-operator\">=</span> <span class=\"cm-variable\">q</span> <span class=\"cm-operator\">+</span> <span class=\"cm-number\">1</span>\n",
    "    <span class=\"cm-variable\">A</span> <span class=\"cm-operator\">=</span> <span class=\"cm-variable\">A</span> <span class=\"cm-operator\">-</span> <span class=\"cm-variable\">B</span>\n",
    "<span class=\"cm-comment\"># pour voir le quotient</span>\n",
    "<span class=\"cm-builtin\">print</span>(<span class=\"cm-variable\">q</span>)</code></pre>\n",
    "</div>\n",
    "    </div>\n",
    "</details>"
   ]
  },
  {
   "cell_type": "markdown",
   "metadata": {},
   "source": [
    "# Les fonctions\n",
    "---\n",
    "\n",
    "## Exercice 14\n",
    "\n",
    "Écrivez le programme Python correspondant à l'algorithme de l'exercice 16 sur les bases de l'algorithmique dont on rappelle l'énoncé ci-dessous. _Vous vérifiez également vos réponses avec Python_.\n",
    "\n",
    ">Proposez le pseudo-code d'une fonction `minimum` qui renvoie le minimum des deux nombres donnés en paramètres."
   ]
  },
  {
   "cell_type": "code",
   "execution_count": null,
   "metadata": {},
   "outputs": [],
   "source": [
    "# écrivez la fonction en Python\n"
   ]
  },
  {
   "cell_type": "markdown",
   "metadata": {},
   "source": [
    "<details>\n",
    "    <summary style=\"display: list-item;color: rgb(96 131 228)\"><span style=\"cursor:pointer;\">Voir la correction</span></summary>\n",
    "    <div style=\"border-left:2px solid rgb(96 131 228)\">\n",
    "    <div class=\"text_cell_render rendered_html\" tabindex=\"-1\"><pre><code class=\"cm-s-ipython language-python\"><span class=\"cm-keyword\">def</span> <span class=\"cm-def\">minimum</span>(<span class=\"cm-variable\">a</span>, <span class=\"cm-variable\">b</span>):\n",
    "    <span class=\"cm-keyword\">if</span> <span class=\"cm-variable\">a</span> <span class=\"cm-operator\">&lt;</span> <span class=\"cm-variable\">b</span>:\n",
    "        <span class=\"cm-variable\">m</span> <span class=\"cm-operator\">=</span> <span class=\"cm-variable\">a</span>\n",
    "    <span class=\"cm-keyword\">else</span>:\n",
    "        <span class=\"cm-variable\">m</span> <span class=\"cm-operator\">=</span> <span class=\"cm-variable\">b</span>\n",
    "    <span class=\"cm-keyword\">return</span> <span class=\"cm-variable\">m</span></code></pre>\n",
    "<p>ou</p>\n",
    "<pre><code class=\"cm-s-ipython language-python\"><span class=\"cm-keyword\">def</span> <span class=\"cm-def\">minimum</span>(<span class=\"cm-variable\">a</span>, <span class=\"cm-variable\">b</span>):\n",
    "    <span class=\"cm-keyword\">if</span> <span class=\"cm-variable\">a</span> <span class=\"cm-operator\">&lt;</span> <span class=\"cm-variable\">b</span>:\n",
    "        <span class=\"cm-keyword\">return</span> <span class=\"cm-variable\">a</span>\n",
    "    <span class=\"cm-keyword\">else</span>:\n",
    "        <span class=\"cm-keyword\">return</span> <span class=\"cm-variable\">b</span></code></pre>\n",
    "</div>\n",
    "    </div>\n",
    "</details>"
   ]
  },
  {
   "cell_type": "markdown",
   "metadata": {},
   "source": [
    "## Exercice 15\n",
    "\n",
    "Écrivez le programme Python correspondant à l'algorithme de l'exercice 17 sur les bases de l'algorithmique dont on rappelle l'énoncé ci-dessous. _Vous vérifiez également vos réponses avec Python_.\n",
    "\n",
    ">Proposez le pseudo-code d'une fonction `minimum4` qui renvoie le minimum des 4 nombres donnés en paramètres. **Contrainte** : vous devez faire appel à la fonction `minimum` !"
   ]
  },
  {
   "cell_type": "code",
   "execution_count": null,
   "metadata": {},
   "outputs": [],
   "source": [
    "# écrivez la fonction en Python\n"
   ]
  },
  {
   "cell_type": "markdown",
   "metadata": {},
   "source": [
    "<details>\n",
    "    <summary style=\"display: list-item;color: rgb(96 131 228)\"><span style=\"cursor:pointer;\">Voir la correction</span></summary>\n",
    "    <div style=\"border-left:2px solid rgb(96 131 228)\">\n",
    "    <div class=\"text_cell_render rendered_html\" tabindex=\"-1\"><pre><code class=\"cm-s-ipython language-python\"><span class=\"cm-keyword\">def</span> <span class=\"cm-def\">minimum4</span>(<span class=\"cm-variable\">a</span>, <span class=\"cm-variable\">b</span>, <span class=\"cm-variable\">c</span>, <span class=\"cm-variable\">d</span>):\n",
    "    <span class=\"cm-variable\">m1</span> <span class=\"cm-operator\">=</span> <span class=\"cm-variable\">minimum</span>(<span class=\"cm-variable\">a</span>, <span class=\"cm-variable\">b</span>)\n",
    "    <span class=\"cm-variable\">m2</span> <span class=\"cm-operator\">=</span> <span class=\"cm-variable\">minimum</span>(<span class=\"cm-variable\">c</span>, <span class=\"cm-variable\">d</span>)\n",
    "    <span class=\"cm-variable\">m</span> <span class=\"cm-operator\">=</span> <span class=\"cm-variable\">minimum</span>(<span class=\"cm-variable\">m1</span>, <span class=\"cm-variable\">m2</span>)\n",
    "    <span class=\"cm-keyword\">return</span> <span class=\"cm-variable\">m</span></code></pre>\n",
    "<p>ou</p>\n",
    "<pre><code class=\"cm-s-ipython language-python\"><span class=\"cm-keyword\">def</span> <span class=\"cm-def\">minimum4</span>(<span class=\"cm-variable\">a</span>, <span class=\"cm-variable\">b</span>, <span class=\"cm-variable\">c</span>, <span class=\"cm-variable\">d</span>):\n",
    "    <span class=\"cm-variable\">m</span> <span class=\"cm-operator\">=</span> <span class=\"cm-variable\">minimum</span>(<span class=\"cm-variable\">minimum</span>(<span class=\"cm-variable\">a</span>, <span class=\"cm-variable\">b</span>), <span class=\"cm-variable\">minimum</span>(<span class=\"cm-variable\">c</span>, <span class=\"cm-variable\">d</span>))\n",
    "    <span class=\"cm-keyword\">return</span> <span class=\"cm-variable\">m</span></code></pre>\n",
    "<p>ou</p>\n",
    "<pre><code class=\"cm-s-ipython language-python\"><span class=\"cm-keyword\">def</span> <span class=\"cm-def\">minimum4</span>(<span class=\"cm-variable\">a</span>, <span class=\"cm-variable\">b</span>, <span class=\"cm-variable\">c</span>, <span class=\"cm-variable\">d</span>):\n",
    "    <span class=\"cm-keyword\">return</span> <span class=\"cm-variable\">minimum</span>(<span class=\"cm-variable\">minimum</span>(<span class=\"cm-variable\">a</span>, <span class=\"cm-variable\">b</span>), <span class=\"cm-variable\">minimum</span>(<span class=\"cm-variable\">c</span>, <span class=\"cm-variable\">d</span>))</code></pre>\n",
    "</div>\n",
    "    </div>\n",
    "</details>"
   ]
  },
  {
   "cell_type": "markdown",
   "metadata": {},
   "source": [
    "## Exercice 16\n",
    "\n",
    "Adaptez le code de l'exercice 10 pour écrire une fonction `compte_caractere(c, chaine)` qui renvoie le nombre de fois où apparaît le caractère `c` dans la chaîne de caractères `chaine` (on parle du nombre d'occurrences de `c`). \n",
    "\n",
    "_Exemple_ : l'appel `compte_caractere('e', 'peace and love')` doit renvoyer la valeur 3, ce que l'on écrit :\n",
    "\n",
    "```python\n",
    ">>> compte_caractere('e', 'peace and love')\n",
    "3\n",
    "```"
   ]
  },
  {
   "cell_type": "code",
   "execution_count": null,
   "metadata": {},
   "outputs": [],
   "source": [
    "# à vous de jouer !\n"
   ]
  },
  {
   "cell_type": "markdown",
   "metadata": {},
   "source": [
    "<details>\n",
    "    <summary style=\"display: list-item;color: rgb(96 131 228)\"><span style=\"cursor:pointer;\">Voir la correction</span></summary>\n",
    "    <div style=\"border-left:2px solid rgb(96 131 228)\">\n",
    "    <pre><code class=\"cm-s-ipython language-python\"><span class=\"cm-keyword\">def</span> <span class=\"cm-def\">compte_caractere</span>(<span class=\"cm-variable\">c</span>, <span class=\"cm-variable\">chaine</span>):\n",
    "    <span class=\"cm-variable\">compteur</span> <span class=\"cm-operator\">=</span> <span class=\"cm-number\">0</span>\n",
    "    <span class=\"cm-keyword\">for</span> <span class=\"cm-variable\">caractere</span> <span class=\"cm-keyword\">in</span> <span class=\"cm-variable\">chaine</span>:\n",
    "        <span class=\"cm-keyword\">if</span> <span class=\"cm-variable\">caractere</span> <span class=\"cm-operator\">==</span> <span class=\"cm-variable\">c</span>:\n",
    "            <span class=\"cm-variable\">compteur</span> <span class=\"cm-operator\">=</span> <span class=\"cm-variable\">compteur</span> <span class=\"cm-operator\">+</span> <span class=\"cm-number\">1</span>\n",
    "    <span class=\"cm-keyword\">return</span> <span class=\"cm-variable\">compteur</span></code></pre>\n",
    "    </div>\n",
    "</details>"
   ]
  },
  {
   "cell_type": "markdown",
   "metadata": {},
   "source": [
    "***\n",
    "Germain BECKER & Sébastien POINT, Lycée Mounier, ANGERS ![Licence Creative Commons](https://i.creativecommons.org/l/by-nc-sa/4.0/88x31.png)"
   ]
  }
 ],
 "metadata": {
  "celltoolbar": "Aucun(e)",
  "kernelspec": {
   "display_name": "Python 3",
   "language": "python",
   "name": "python3"
  },
  "language_info": {
   "codemirror_mode": {
    "name": "ipython",
    "version": 3
   },
   "file_extension": ".py",
   "mimetype": "text/x-python",
   "name": "python",
   "nbconvert_exporter": "python",
   "pygments_lexer": "ipython3",
   "version": "3.7.10"
  }
 },
 "nbformat": 4,
 "nbformat_minor": 2
}
