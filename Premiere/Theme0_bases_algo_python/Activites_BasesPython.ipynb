{
 "cells": [
  {
   "cell_type": "markdown",
   "metadata": {},
   "source": [
    "<h1 style=\"font-size: 30px; text-align: center\">Les bases de Python - EXERCICES</h1>\n",
    "\n",
    "---"
   ]
  },
  {
   "cell_type": "markdown",
   "metadata": {},
   "source": [
    "**Objectif**\n",
    "\n",
    "L'objectif final est que sachiez écrire les structures de bases (affectations, instructions conditionnelles, boucles `for`, boucle `while`, fonctions) dans le langage Python.\n",
    "\n",
    "Pour cela, une grande partie des exerciec ci-dessous consistent à écrire dans le langage Python, des algorithmes écrits en langage naturel dans la partie 1 sur _Les bases de l'algorithmique_.\n",
    "\n",
    "> N'hésitez surtout pas à revoir le notebook de cours sur les bases de Python, faites des allers-retours entre le cours et les exercices !\n"
   ]
  },
  {
   "cell_type": "markdown",
   "metadata": {},
   "source": [
    "# Variables et affectations en Python\n",
    "---\n",
    "\n",
    "## Exercice 1\n",
    "\n",
    "Écrivez le programme Python correspondant à l'algorithme de l'exercice 1 sur les bases de l'algorithmique dont on rappelle l'énoncé ci-dessous. _Vous vérifiez également vos réponses en affichant ce qu'il faut avec Python_.\n",
    "\n",
    ">Que valent `N` et `P` après l’exécution de cet algorithme ?\n",
    ">```\n",
    " N ← 2\n",
    " P ← 3\n",
    " N ← P + 1\n",
    " P ← N\n",
    " ```"
   ]
  },
  {
   "cell_type": "code",
   "execution_count": null,
   "metadata": {},
   "outputs": [],
   "source": [
    "# écrivez le programme Python correspondant\n"
   ]
  },
  {
   "cell_type": "markdown",
   "metadata": {},
   "source": [
    "## Exercice 2\n",
    "\n",
    "Écrivez le programme Python correspondant à l'algorithme de l'exercice 2 sur les bases de l'algorithmique dont on rappelle l'énoncé ci-dessous. _Vous vérifiez également vos réponses en affichant ce qu'il faut avec Python_.\n",
    "\n",
    ">Que vaut `B` après l’exécution de cet algorithme ?\n",
    ">```\n",
    "A ← 8\n",
    "B ← (A ≥ 10)\n",
    "```"
   ]
  },
  {
   "cell_type": "code",
   "execution_count": null,
   "metadata": {},
   "outputs": [],
   "source": [
    "# écrivez le programme Python correspondant\n"
   ]
  },
  {
   "cell_type": "markdown",
   "metadata": {},
   "source": [
    "## Exercice 3\n",
    "\n",
    "Écrivez le programme Python correspondant à l'algorithme de l'exercice 3 sur les bases de l'algorithmique dont on rappelle l'énoncé ci-dessous. _Vous vérifiez également vos réponses avec Python_.\n",
    "\n",
    ">Supposons que `N` vaut 2 ; que vaut `P` après l’exécution de cet algorithme ?\n",
    ">```\n",
    "P ← N mod 5\n",
    "P ← N div P\n",
    "```"
   ]
  },
  {
   "cell_type": "code",
   "execution_count": null,
   "metadata": {},
   "outputs": [],
   "source": [
    "# écrivez le programme Python correspondant\n"
   ]
  },
  {
   "cell_type": "markdown",
   "metadata": {},
   "source": [
    "# Instructions conditionnelles : `if`, `elif` et `else`\n",
    "---\n",
    "\n",
    "## Exercice 4\n",
    "\n",
    "Écrivez le programme Python correspondant à l'algorithme de l'exercice 5 sur les bases de l'algorithmique dont on rappelle l'énoncé ci-dessous. _Vous vérifiez également vos réponses avec Python_.\n",
    "\n",
    ">Supposons que `A` vaut 1 au début ; que vaut-il après l’exécution de cet algorithme ?\n",
    ">```\n",
    "si A ≥ 0\n",
    "   alors A ← A - 1\n",
    "   sinon A ← A + 1\n",
    "fin si\n",
    "```"
   ]
  },
  {
   "cell_type": "code",
   "execution_count": null,
   "metadata": {},
   "outputs": [],
   "source": [
    "# écrivez le programme Python correspondant\n"
   ]
  },
  {
   "cell_type": "markdown",
   "metadata": {},
   "source": [
    "## Exercice 5\n",
    "\n",
    "Écrivez le programme Python correspondant à l'algorithme de l'exercice 6 sur les bases de l'algorithmique dont on rappelle l'énoncé ci-dessous. _Vous vérifiez également vos réponses avec Python_.\n",
    "\n",
    ">L'algorithme ci-dessous est-il équivalent (au sens ou une même valeur de `A` initiale induit une même valeur de `A` après leur exécution) à celui présenté dans l'exercice 5 ?\n",
    ">```\n",
    "si A ≥ 0\n",
    "   alors A ← A - 1\n",
    "fin si\n",
    "si A < 0\n",
    "   alors A ← A + 1\n",
    "finsi\n",
    "```"
   ]
  },
  {
   "cell_type": "code",
   "execution_count": null,
   "metadata": {},
   "outputs": [],
   "source": [
    "# écrivez le programme Python correspondant\n"
   ]
  },
  {
   "cell_type": "markdown",
   "metadata": {},
   "source": [
    "# Boucles bornées : boucles `for`\n",
    "---\n",
    "\n",
    "## Exercice 6\n",
    "\n",
    "Écrivez le programme Python correspondant à l'algorithme de l'exercice 9 sur les bases de l'algorithmique dont on rappelle l'énoncé ci-dessous. _Vous vérifiez également vos réponses avec Python_.\n",
    "\n",
    ">Supposons que `A` vaut initialement 10 ; combien vaut-il après l'exécution de cet algorithme ?\n",
    ">```\n",
    "pour i de 2 à 5 faire\n",
    "    A ← A + i\n",
    "fin pour\n",
    "```"
   ]
  },
  {
   "cell_type": "code",
   "execution_count": null,
   "metadata": {},
   "outputs": [],
   "source": [
    "# écrivez le programme Python correspondant\n"
   ]
  },
  {
   "cell_type": "markdown",
   "metadata": {},
   "source": [
    "## Exercice 7\n",
    "\n",
    "Écrivez le programme Python correspondant à l'algorithme de l'exercice 10 sur les bases de l'algorithmique dont on rappelle l'énoncé ci-dessous. _Vous vérifiez également vos réponses avec Python_.\n",
    "\n",
    ">Supposons que `V` vaut 0 initialement ; combien vaut-il après l'exécution de cet algorithme ?\n",
    ">```\n",
    "pour I de 1 à 4 par pas de 1 faire\n",
    "   si I est pair\n",
    "      alors V ← V + I*I\n",
    "   fin si\n",
    "fin pour\n",
    "```"
   ]
  },
  {
   "cell_type": "code",
   "execution_count": null,
   "metadata": {},
   "outputs": [],
   "source": [
    "# écrivez le programme Python correspondant\n"
   ]
  },
  {
   "cell_type": "markdown",
   "metadata": {},
   "source": [
    "## Exercice 8\n",
    "\n",
    "Écrivez le programme Python correspondant à l'algorithme de l'exercice 12 sur les bases de l'algorithmique dont on rappelle l'énoncé ci-dessous. _Vous vérifiez également vos réponses avec Python_.\n",
    "\n",
    ">Supposons que `A` vaut 1 initialement ; combien vaut-il après l'exécution\n",
    "de cet algorithme ?\n",
    ">```\n",
    "pour i de 0 à 3 faire\n",
    "    pour j de 0 à 2 faire\n",
    "        A ← A + i*j\n",
    "    fin pour\n",
    "fin pour\n",
    "```"
   ]
  },
  {
   "cell_type": "code",
   "execution_count": null,
   "metadata": {},
   "outputs": [],
   "source": [
    "# écrivez le programme Python correspondant\n"
   ]
  },
  {
   "cell_type": "markdown",
   "metadata": {},
   "source": [
    "## Exercice 9\n",
    "\n",
    "**Q1** : Quelles sont les valeurs affichées dans la console  lors de l'exécution de chacun des programmes ci-dessous ? _Attention, il faut répondre sans exécuter le code !_\n",
    "* Programme 1 :\n",
    "```python\n",
    "for i in range(10):\n",
    "    print(i)\n",
    "```\n",
    "* Programme 2 :\n",
    "```python\n",
    "for k in range(2, 10):\n",
    "    print(k)\n",
    " ```\n",
    "* Programme 3 :\n",
    "```python\n",
    "for ind in range(2, 10, 3):\n",
    "    print(ind)\n",
    "```\n",
    "\n",
    "**Q2** : Vérifiez en réécrivant et en exécutant chacun de ces programmes.   \n",
    "    "
   ]
  },
  {
   "cell_type": "markdown",
   "metadata": {},
   "source": [
    "## Exercice 10\n",
    "\n",
    "On considère le programme Python suivant :\n",
    "\n",
    "```python\n",
    "chaine = 'peace and love'\n",
    "compteur = 0\n",
    "for caractere in chaine:\n",
    "\tif caractere == 'e':\n",
    "\t\tcompteur = compteur + 1\n",
    "```\n",
    "\n",
    "**Q1** : Quelle est le rôle de ce code. Quelle est la valeur finale de la variable `compteur` ?"
   ]
  },
  {
   "cell_type": "markdown",
   "metadata": {},
   "source": [
    "_Réponse (à compléter)_ : "
   ]
  },
  {
   "cell_type": "markdown",
   "metadata": {},
   "source": [
    "**Q2** : Recopiez ce code et vérifiez la réponse à la question précédente."
   ]
  },
  {
   "cell_type": "code",
   "execution_count": 1,
   "metadata": {},
   "outputs": [],
   "source": [
    "# à vous de jouer !\n"
   ]
  },
  {
   "cell_type": "markdown",
   "metadata": {},
   "source": [
    "**Q3** : Modifiez le code pour compter le nombre de `'a'`."
   ]
  },
  {
   "cell_type": "code",
   "execution_count": null,
   "metadata": {},
   "outputs": [],
   "source": [
    "# à vous de jouer !\n"
   ]
  },
  {
   "cell_type": "markdown",
   "metadata": {},
   "source": [
    "## Exercice 11\n",
    "\n",
    "Écrivez le programme Python correspondant à l'algorithme de l'exercice 13 sur les bases de l'algorithmique dont on rappelle l'énoncé ci-dessous. _Vous vérifiez également vos réponses avec Python_.\n",
    "\n",
    ">Supposons que `D` vaut 7 initialement ; que vaut-il après l'exécution de cet algorithme ?\n",
    ">```\n",
    "tant que D > 3 faire\n",
    "   D ← D - 3\n",
    "fin tant que\n",
    "```"
   ]
  },
  {
   "cell_type": "code",
   "execution_count": null,
   "metadata": {},
   "outputs": [],
   "source": [
    "# écrivez le programme Python correspondant\n"
   ]
  },
  {
   "cell_type": "markdown",
   "metadata": {},
   "source": [
    "## Exercice 12\n",
    "\n",
    "Reprenez le programme Python de l'exercice précédent et ajoutez-y une variable qui compte le nombre d'itérations dans la boucle `while`. Cela pour permettra de vérifier la question 2 de l'exercice 14 sur les bases de l'algorithmique dont on rappelle l'énoncé ci-dessous. _Vous vérifiez également vos réponses avec Python_.\n",
    "\n",
    ">On considère l'algorithme précédent.\n",
    ">1. Supposons que `D` vaut 2 après l'exécution de cet algorithme. Quelles valeurs parmi celles proposées ci-dessous pouvait-il avoir initialement ? -2 ; 2 ; 6 ; 14 ; 25.\n",
    ">2. Supposons que `D` vaut 25 initialement ; combien d'itérations (c'est-à-dire de passages dans la répétitive) ont lieu avant que l'exécution de cet algorithme ne se termine ?"
   ]
  },
  {
   "cell_type": "code",
   "execution_count": null,
   "metadata": {},
   "outputs": [],
   "source": [
    "# ajoutez une variable qui compte le nombre d'itérations dans la répétitive tant que\n"
   ]
  },
  {
   "cell_type": "markdown",
   "metadata": {},
   "source": [
    "## Exercice 13\n",
    "\n",
    "Écrivez le programme Python correspondant à l'algorithme de l'exercice 15 sur les bases de l'algorithmique dont on rappelle l'énoncé ci-dessous. _Vous vérifiez également vos réponses avec Python_.\n",
    "\n",
    ">Proposez un algorithme qui utilise une boucle Tant que qui a pour but d'afficher le quotient de la division entière d'un entier naturel A par un entier naturel B."
   ]
  },
  {
   "cell_type": "code",
   "execution_count": null,
   "metadata": {},
   "outputs": [],
   "source": [
    "# écrivez le programme Python correspondant\n"
   ]
  },
  {
   "cell_type": "markdown",
   "metadata": {},
   "source": [
    "## Exercice 14\n",
    "\n",
    "Écrivez le programme Python correspondant à l'algorithme de l'exercice 16 sur les bases de l'algorithmique dont on rappelle l'énoncé ci-dessous. _Vous vérifiez également vos réponses avec Python_.\n",
    "\n",
    ">Proposez le pseudo-code d'une fonction `minimum` qui renvoie le minimum des deux nombres donnés en paramètres."
   ]
  },
  {
   "cell_type": "code",
   "execution_count": null,
   "metadata": {},
   "outputs": [],
   "source": [
    "# écrivez la fonction en Python\n"
   ]
  },
  {
   "cell_type": "markdown",
   "metadata": {},
   "source": [
    "## Exercice 15\n",
    "\n",
    "Écrivez le programme Python correspondant à l'algorithme de l'exercice 17 sur les bases de l'algorithmique dont on rappelle l'énoncé ci-dessous. _Vous vérifiez également vos réponses avec Python_.\n",
    "\n",
    ">Proposez le pseudo-code d'une fonction `minimum4` qui renvoie le minimum des 4 nombres donnés en paramètres. **Contrainte** : vous devez faire appel à la fonction `minimum` !"
   ]
  },
  {
   "cell_type": "code",
   "execution_count": null,
   "metadata": {},
   "outputs": [],
   "source": [
    "# écrivez la fonction en Python\n"
   ]
  },
  {
   "cell_type": "markdown",
   "metadata": {},
   "source": [
    "## Exercice 16\n",
    "\n",
    "Adaptez le code de l'exercice 10 pour écrire une fonction `compte_caractere(c, chaine)` qui renvoie le nombre de fois où apparaît le caractère `c` dans la chaîne de caractères `chaine` (on parle du nombre d'occurrences de `c`). \n",
    "\n",
    "_Exemple_ : l'appel `compte_caractere('e', 'peace and love')` doit renvoyer la valeur 3, ce que l'on écrit :\n",
    "\n",
    "```python\n",
    ">>> compte_caractere('e', 'peace and love')\n",
    "3\n",
    "```"
   ]
  },
  {
   "cell_type": "code",
   "execution_count": null,
   "metadata": {},
   "outputs": [],
   "source": [
    "# à vous de jouer !\n"
   ]
  },
  {
   "cell_type": "markdown",
   "metadata": {},
   "source": [
    "***\n",
    "Germain BECKER & Sébastien POINT, Lycée Mounier, ANGERS ![Licence Creative Commons](https://i.creativecommons.org/l/by-nc-sa/4.0/88x31.png)"
   ]
  }
 ],
 "metadata": {
  "celltoolbar": "Aucun(e)",
  "kernelspec": {
   "display_name": "Python 3",
   "language": "python",
   "name": "python3"
  },
  "language_info": {
   "codemirror_mode": {
    "name": "ipython",
    "version": 3
   },
   "file_extension": ".py",
   "mimetype": "text/x-python",
   "name": "python",
   "nbconvert_exporter": "python",
   "pygments_lexer": "ipython3",
   "version": "3.7.10"
  }
 },
 "nbformat": 4,
 "nbformat_minor": 2
}
