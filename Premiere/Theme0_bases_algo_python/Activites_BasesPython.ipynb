{
 "cells": [
  {
   "cell_type": "markdown",
   "metadata": {},
   "source": [
    "# Consignes\n",
    "\n",
    "L'objectif est d'écrire dans le langage Python les différents algorithmes écrits en langage naturel dans les exercices sur [les bases de l'algorithmique](http://info-mounier.fr/premiere_nsi/bases/bases_algorithmique.php).\n",
    "\n",
    "On reprend les numéros des exercices et on a récrit leurs énoncés ci-dessous. Vous pourrez vérifier les différentes réponses à vos questions en affichant les valeurs des variables.\n",
    "\n",
    "<blockquote class=\"information\">\n",
    "<p>Aidez-vous si besoin des rappels sur <a href=\"http://info-mounier.fr/premiere_nsi/bases/bases_python.php\" target=\"_blank\">les bases du langage Python</a>.</p>\n",
    "</blockquote>"
   ]
  },
  {
   "cell_type": "markdown",
   "metadata": {},
   "source": [
    "# Exercice 1\n",
    "\n",
    "Que valent `N` et `P` après l’exécution de cet algorithme ?\n",
    "```\n",
    "N ← 2\n",
    "P ← 3\n",
    "N ← P + 1\n",
    "P ← N\n",
    "```"
   ]
  },
  {
   "cell_type": "code",
   "execution_count": null,
   "metadata": {},
   "outputs": [],
   "source": [
    "# écrivez le programme Python correspondant\n"
   ]
  },
  {
   "cell_type": "markdown",
   "metadata": {},
   "source": [
    "# Exercice 2\n",
    "\n",
    "Que vaut `B` après l’exécution de cet algorithme ?\n",
    "```\n",
    "A ← 8\n",
    "B ← (A ≥ 10)\n",
    "```"
   ]
  },
  {
   "cell_type": "code",
   "execution_count": null,
   "metadata": {},
   "outputs": [],
   "source": [
    "# écrivez le programme Python correspondant\n"
   ]
  },
  {
   "cell_type": "markdown",
   "metadata": {},
   "source": [
    "# Exercice 3\n",
    "\n",
    "Supposons que `N` vaut 2 ; que vaut `P` après l’exécution de cet algorithme ?\n",
    "```\n",
    "P ← N mod 5\n",
    "P ← N div P\n",
    "```"
   ]
  },
  {
   "cell_type": "code",
   "execution_count": null,
   "metadata": {},
   "outputs": [],
   "source": [
    "# écrivez le programme Python correspondant\n"
   ]
  },
  {
   "cell_type": "markdown",
   "metadata": {},
   "source": [
    "# Exercice 5\n",
    "\n",
    "Supposons que `A` vaut 1 au début ; que vaut-il après l’exécution de cet algorithme ?\n",
    "\n",
    "```\n",
    "si A ≥ 0\n",
    "   alors A ← A - 1\n",
    "   sinon A ← A + 1\n",
    "fin si\n",
    "```"
   ]
  },
  {
   "cell_type": "code",
   "execution_count": null,
   "metadata": {},
   "outputs": [],
   "source": [
    "# écrivez le programme Python correspondant\n"
   ]
  },
  {
   "cell_type": "markdown",
   "metadata": {},
   "source": [
    "# Exercice 6\n",
    "\n",
    "L'algorithme ci-dessous (au sens ou une même valeur de `A` initiale induit une même valeur de `A` après leur exécution) à celui présenté dans l'exercice 5 ?\n",
    "\n",
    "```\n",
    "si A ≥ 0\n",
    "   alors A ← A - 1\n",
    "fin si\n",
    "si A < 0\n",
    "   alors A ← A + 1\n",
    "finsi\n",
    "```"
   ]
  },
  {
   "cell_type": "code",
   "execution_count": null,
   "metadata": {},
   "outputs": [],
   "source": [
    "# écrivez le programme Python correspondant\n"
   ]
  },
  {
   "cell_type": "markdown",
   "metadata": {},
   "source": [
    "# Exercice 9\n",
    "\n",
    "Supposons que `A` vaut initialement 10 ; combien vaut-il après l'exécution de cet algorithme ?\n",
    "\n",
    "```\n",
    "pour i de 2 à 5 faire\n",
    "    A ← A + i\n",
    "fin pour\n",
    "```"
   ]
  },
  {
   "cell_type": "code",
   "execution_count": null,
   "metadata": {},
   "outputs": [],
   "source": [
    "# écrivez le programme Python correspondant\n"
   ]
  },
  {
   "cell_type": "markdown",
   "metadata": {},
   "source": [
    "## Exercice 10\n",
    "\n",
    "Supposons que `V` vaut 0 initialement ; combien vaut-il après l'exécution de cet algorithme ?\n",
    "\n",
    "```\n",
    "pour I de 1 à 4 par pas de 1 faire\n",
    "   si I est pair\n",
    "      alors V ← V + I*I\n",
    "   fin si\n",
    "fin pour\n",
    "```"
   ]
  },
  {
   "cell_type": "code",
   "execution_count": null,
   "metadata": {},
   "outputs": [],
   "source": [
    "# écrivez le programme Python correspondant\n"
   ]
  },
  {
   "cell_type": "markdown",
   "metadata": {},
   "source": [
    "## Exercice 12\n",
    "\n",
    "Supposons que `A` vaut 1 initialement ; combien vaut-il après l'exécution\n",
    "de cet algorithme ?\n",
    "\n",
    "```\n",
    "pour i de 0 à 3 faire\n",
    "    pour j de 0 à 2 faire\n",
    "        A ← A + i*j\n",
    "    fin pour\n",
    "fin pour\n",
    "```"
   ]
  },
  {
   "cell_type": "code",
   "execution_count": null,
   "metadata": {},
   "outputs": [],
   "source": [
    "# écrivez le programme Python correspondant\n"
   ]
  },
  {
   "cell_type": "markdown",
   "metadata": {},
   "source": [
    "## Exercice 13\n",
    "\n",
    "Supposons que `D` vaut 7 initialement ; que vaut-il après l'exécution de cet algorithme ?\n",
    "\n",
    "```\n",
    "tant que D > 3 faire\n",
    "   D ← D - 3\n",
    "fin tant que\n",
    "```"
   ]
  },
  {
   "cell_type": "code",
   "execution_count": null,
   "metadata": {},
   "outputs": [],
   "source": [
    "# écrivez le programme Python correspondant\n"
   ]
  },
  {
   "cell_type": "markdown",
   "metadata": {},
   "source": [
    "## Exercice 14\n",
    "\n",
    "On considère l'algorithme précédent.\n",
    "\n",
    "1. Supposons que `D` vaut 2 après l'exécution de cet algorithme. Quelles valeurs parmi celles proposées ci-dessous pouvait-il avoir initialement ? -2 ; 2 ; 6 ; 14 ; 25.\n",
    "2. Supposons que `D` vaut 25 initialement ; combien d'itérations (c'est-à-dire de passages dans la répétitive) ont lieu avant que l'exécution de cet algorithme ne se termine ?"
   ]
  },
  {
   "cell_type": "code",
   "execution_count": null,
   "metadata": {},
   "outputs": [],
   "source": [
    "# ajoutez une variable qui compte le nombre d'itérations dans la répétitive tant que\n"
   ]
  },
  {
   "cell_type": "markdown",
   "metadata": {},
   "source": [
    "## Exercice 15\n",
    "\n",
    "Proposez un algorithme qui utilise une boucle Tant que qui a pour but d'afficher le quotient de la division entière d'un entier naturel A par un entier naturel B."
   ]
  },
  {
   "cell_type": "code",
   "execution_count": null,
   "metadata": {},
   "outputs": [],
   "source": [
    "# écrivez le programme Python correspondant\n"
   ]
  },
  {
   "cell_type": "markdown",
   "metadata": {},
   "source": [
    "## Exercice 16\n",
    "\n",
    "Proposez le pseudo-code d'une fonction `minimum` qui renvoie le minimum des deux nombres donnés en paramètres."
   ]
  },
  {
   "cell_type": "code",
   "execution_count": null,
   "metadata": {},
   "outputs": [],
   "source": [
    "# écrivez la fonction en Python\n"
   ]
  },
  {
   "cell_type": "markdown",
   "metadata": {},
   "source": [
    "## Exercice 17\n",
    "\n",
    "Proposez le pseudo-code d'une fonction `minimum4` qui renvoie le minimum des 4 nombres donnés en paramètres. **Contrainte** : vous devez faire appel à la fonction `minimum` !"
   ]
  },
  {
   "cell_type": "code",
   "execution_count": null,
   "metadata": {},
   "outputs": [],
   "source": [
    "# écrivez la fonction en Python\n"
   ]
  },
  {
   "cell_type": "markdown",
   "metadata": {},
   "source": [
    "## Exercice 18\n",
    "\n",
    "Les élèves d'une classe ont eu 4 notes. Le professeur, très généreux, décide de retirer la note la plus basse avant de calculer la moyenne de chaque élève.\n",
    "\n",
    "Proposez le pseudo code d'une fonction `nouvelle_moyenne` qui prend les 4 notes en paramètres et qui renvoie la moyenne calculée après avoir retiré la moins bonne."
   ]
  },
  {
   "cell_type": "code",
   "execution_count": null,
   "metadata": {},
   "outputs": [],
   "source": [
    "# écrivez la fonction en Python\n"
   ]
  },
  {
   "cell_type": "markdown",
   "metadata": {},
   "source": [
    "***\n",
    "Germain BECKER & Sébastien POINT, Lycée Mounier, ANGERS ![Licence Creative Commons](https://i.creativecommons.org/l/by-nc-sa/4.0/88x31.png)"
   ]
  }
 ],
 "metadata": {
  "kernelspec": {
   "display_name": "Python 3",
   "language": "python",
   "name": "python3"
  },
  "language_info": {
   "codemirror_mode": {
    "name": "ipython",
    "version": 3
   },
   "file_extension": ".py",
   "mimetype": "text/x-python",
   "name": "python",
   "nbconvert_exporter": "python",
   "pygments_lexer": "ipython3",
   "version": "3.7.3"
  }
 },
 "nbformat": 4,
 "nbformat_minor": 2
}
