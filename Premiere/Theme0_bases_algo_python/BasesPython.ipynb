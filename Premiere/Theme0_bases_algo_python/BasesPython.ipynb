{
 "cells": [
  {
   "cell_type": "markdown",
   "metadata": {},
   "source": [
    "<h1 style=\"font-size: 30px; text-align: center\">Les bases de Python</h1>\n",
    "\n",
    "---\n",
    "\n",
    "Ce document recense les informations essentielles (donc à connaître absolument) pour démarrer en Python.\n",
    "\n",
    "Votre objectif est de suivre ce notebook et de faire les exercices du notebook d'exercices qui sont indiqués au fur et à mesure afin de mettre en pratique."
   ]
  },
  {
   "cell_type": "markdown",
   "metadata": {},
   "source": [
    "# Variables et affectations en Python\n",
    "\n",
    "Dans le langage Python, le symbole `=` correspondant à l'affectation (écrite $\\leftarrow$ en pseudo-code). \n",
    "\n",
    "Pour affecter la valeur 2 à une variable `a` on écrit simplement `a = 2`.\n",
    "\n",
    "Ainsi, l'algorithme\n",
    "\n",
    "```\n",
    "a ← 3\n",
    "b ← 2 * a\n",
    "```\n",
    "\n",
    "s'écrit en Python de la façon suivante :\n",
    "\n",
    "```python\n",
    "a = 3\n",
    "b = 2 * a\n",
    "```"
   ]
  },
  {
   "cell_type": "markdown",
   "metadata": {},
   "source": [
    "<blockquote style=\"background-color: rgb(227,249,255); border-left: 5px solid rgb(81 142 226);\">\n",
    "    <span style=\"font-size:20px\">✏️</span> Faire les exercices 1, 2, 3.\n",
    "</blockquote>"
   ]
  },
  {
   "cell_type": "markdown",
   "metadata": {},
   "source": [
    "# Instructions conditionnelles : `if`, `elif` et `else`\n",
    "\n",
    "En Python, les instructions conditionnelles se codent en utilisant les instructions `if`, `elif` (= contraction de _else if_), `else` qui sont les traductions respectives de _si_, _sinon si_ et _sinon_.\n",
    "\n",
    "```python\n",
    "if condition1:\n",
    "    bloc_instructions_1\n",
    "elif condition2:\n",
    "    bloc_instructions_2\n",
    "else:\n",
    "    bloc_instructions_3\n",
    "```\n",
    "\n",
    "**Remarques :**\n",
    "- ne pas oublier les deux points à la fin des lignes avec `if`, `elif` et `else` qui permettent d'ouvrir le bloc d'instructions à effectuer dans chaque cas ;\n",
    "- les instructions à effectuer sont indentées d'une tabulation par rapport aux `if`, `elif` et `else` : c'est la syntaxe Python, elle doit absolument être respectée ;\n",
    "- les instructions `elif` et `else` sont optionnelles, c'est-à-dire que l’on peut avoir seulement un `if` comme ceci\n",
    "    \n",
    "    ```python\n",
    "    if condition:\n",
    "        bloc_instructions\n",
    "    \n",
    "    ```\n",
    "    \n",
    "    ou un `if` suivi d’un `else` comme cela\n",
    "    \n",
    "    ```python\n",
    "    if condition:\n",
    "        bloc_instructions_1\n",
    "    else:\n",
    "        bloc_instructions_2\n",
    "    \n",
    "    ```\n",
    "- au contraire du pseudo-code, on n'écrit pas en Python de `fin si` car celui-ci est matérialisé par la fin des indentations."
   ]
  },
  {
   "cell_type": "markdown",
   "metadata": {},
   "source": [
    "**Exemple 1 (rôle des indentations)** : Dans le programme suivant, le dernier message s'affiche à chaque fois, en revanche les deux messages précédents ne s'affichent que si on entre dans le bloc `if`, autrement dit si la condition `a >= 10` est vraie."
   ]
  },
  {
   "cell_type": "code",
   "execution_count": 5,
   "metadata": {},
   "outputs": [
    {
     "name": "stdout",
     "output_type": "stream",
     "text": [
      "Vous avez la moyenne\n",
      "Message dans le bloc d'instructions du if\n",
      "Message en dehors du bloc d'instruction du if\n"
     ]
    }
   ],
   "source": [
    "a = 15\n",
    "if a >= 10: # condition vraie\n",
    "    print(\"Vous avez la moyenne\")\n",
    "    print(\"Message dans le bloc d'instructions du if\")\n",
    "print(\"Message en dehors du bloc d'instruction du if\") # en dehors du bloc d'instructions du if"
   ]
  },
  {
   "cell_type": "code",
   "execution_count": 6,
   "metadata": {
    "scrolled": true
   },
   "outputs": [
    {
     "name": "stdout",
     "output_type": "stream",
     "text": [
      "Message en dehors du bloc d'instruction du if\n"
     ]
    }
   ],
   "source": [
    "a = 8\n",
    "if a >= 10: # condition fausse\n",
    "    print(\"Vous avez la moyenne\")\n",
    "    print(\"Message dans le bloc d'instructions du if\")\n",
    "print(\"Message en dehors du bloc d'instruction du if\") # en dehors du bloc d'instructions du if"
   ]
  },
  {
   "cell_type": "markdown",
   "metadata": {},
   "source": [
    "**Exemple 2** : L'algorithme\n",
    "\n",
    "```\n",
    "si scoreA > scoreB alors\n",
    "\tvainqueur ← \"équipe A\"\n",
    "sinon si scoreA < scoreB alors\n",
    "\tvainqueur ← \"équipe B\"\n",
    "sinon\n",
    "\tvainqueur ← \"Match nul\"\n",
    "```\n",
    "\n",
    "se traduit en Python de la manière suivante :\n",
    "\n",
    "```python\n",
    "if scoreA > scoreB:\n",
    "    vainqueur = \"équipe A\"\n",
    "elif scoreA < scoreB:\n",
    "    vainqueur = \"équipe B\"\n",
    "else:\n",
    "    vainqueur = \"Match nul\"\n",
    "```"
   ]
  },
  {
   "cell_type": "markdown",
   "metadata": {},
   "source": [
    "<blockquote style=\"background-color: rgb(227,249,255); border-left: 5px solid rgb(81 142 226);\">\n",
    "    <span style=\"font-size:20px\">✏️</span> Faire les exercices 4, 5\n",
    "</blockquote>"
   ]
  },
  {
   "cell_type": "markdown",
   "metadata": {},
   "source": [
    "# Boucles bornées : boucles `for`\n",
    "\n",
    "En Python, les boucles Pour se codent en utilisant l'instruction `for` :\n",
    "\n",
    "```python\n",
    "for element in sequence:\n",
    "    bloc_instructions    \n",
    "```\n",
    "\n",
    "**Remarques :**\n",
    "- `element` est une variable créée par le `for`, ce n'est pas à vous de l'instancier. Elle prend successicement chacune des valeurs figurant dans la `sequence` parcourue ;\n",
    "- ne pas oublier les deux points à la fin de la ligne avec `for` qui permettent d'ouvrir le bloc d'instructions à exécuter (à répéter) ;\n",
    "- les instructions à effectuer sont indentées d'une tabulation par rapport au `for` ;\n",
    "- au contraire du pseudo-code, on n'écrit pas en Python de `fin pour` car celui-ci est matérialisé la fin des indentations."
   ]
  },
  {
   "cell_type": "markdown",
   "metadata": {},
   "source": [
    "## La fonction `range()` pour créer des séquences de nombres\n",
    "\n",
    "La fonction `range()` permet de créer des séquences de nombres entiers :\n",
    "\n",
    "* `range(n)` crée une séquence des `n` entiers, de 0 inclus à `n` **exclu**, c'est-à-dire : 0, 1, 2, ..., n-1 (⚠️ le premier est 0, donc le n-ième est n-1).\n",
    "* `range(n, m)` crée la séquence d'entiers de `n` inclus à `m` **exclu**, c'est-à-dire : n, n+1, ..., m-1.\n",
    "* `range(n, m, p)` crée la séquence de nombres de `n` inclus à `m` **exclu** avec un pas égal à `p`, c'est-à-dire : n, n+p, n+2p, ... ."
   ]
  },
  {
   "cell_type": "markdown",
   "metadata": {},
   "source": [
    "**Exemples** :\n",
    "\n",
    "- `range(5)` : crée la séquence de nombres de 0 inclus à 5 **exclu** : c'est-à-dire les nombres 0, 1, 2, 3, 4.\n",
    "- `range(2, 8)` : crée la séquence de nombres de 2 inclus à 8 **exclu** : c'est-à-dire les nombres 2, 3, 4, 5, 6, 7.\n",
    "- `range(2, 11, 3)` : créee la séquence de nombres de 2 inclus à 11 **exclu**, **par pas de 3** : c'est-à-dire les nombres 2, 5, 8.\n",
    "\n",
    "On peut visualiser cette séquence en affichant leurs valeurs successives : "
   ]
  },
  {
   "cell_type": "code",
   "execution_count": 18,
   "metadata": {},
   "outputs": [
    {
     "name": "stdout",
     "output_type": "stream",
     "text": [
      "0\n",
      "1\n",
      "2\n",
      "3\n",
      "4\n"
     ]
    }
   ],
   "source": [
    "for element in range(5):\n",
    "    print(element)"
   ]
  },
  {
   "cell_type": "markdown",
   "metadata": {},
   "source": [
    " ou en utilisant la fonction `list()` :"
   ]
  },
  {
   "cell_type": "code",
   "execution_count": 19,
   "metadata": {},
   "outputs": [
    {
     "data": {
      "text/plain": [
       "[0, 1, 2, 3, 4]"
      ]
     },
     "execution_count": 19,
     "metadata": {},
     "output_type": "execute_result"
    }
   ],
   "source": [
    "list(range(5))"
   ]
  },
  {
   "cell_type": "markdown",
   "metadata": {},
   "source": [
    ">N'hésitez pas à modifier les deux cellulles précédentes pour voir d'autres séquences."
   ]
  },
  {
   "cell_type": "markdown",
   "metadata": {},
   "source": [
    "Ainsi, pour répéter un bloc d'instructions 36 fois, il suffit d'écrire :\n",
    "\n",
    "```python\n",
    "for i in range(36):\n",
    "    bloc_instructions\n",
    "```\n",
    "\n",
    "En effet, la variable `i` créée par la boucle va prendre successivement les valeurs : 0, 1, 2, 3, ..., 35. Elle prend donc 36 valeurs et le bloc `bloc_instructions` sera donc répété 36 fois.\n",
    "\n",
    "On aurait aussi pu écrire cela :\n",
    "\n",
    "```python\n",
    "for i in range(0, 36):\n",
    "    bloc_instructions\n",
    "```\n",
    " ou encore :\n",
    " \n",
    " ```python\n",
    "for i in range(1,37):\n",
    "    bloc_instructions\n",
    "```\n",
    "\n",
    "ou encore :\n",
    "\n",
    "```python\n",
    "for valeur in range(36):\n",
    "    bloc_instructions\n",
    "```\n",
    "\n",
    "car dans chaque cas, la variable créée (`i` ou `valeur`) parcoure 36 valeurs différentes."
   ]
  },
  {
   "cell_type": "markdown",
   "metadata": {},
   "source": [
    "<blockquote style=\"background-color: rgb(227,249,255); border-left: 5px solid rgb(81 142 226);\">\n",
    "    <span style=\"font-size:20px\">✏️</span> Faire les exercices\n",
    "</blockquote>"
   ]
  },
  {
   "cell_type": "markdown",
   "metadata": {},
   "source": [
    "## Parcourir des chaînes de caractères\n",
    "\n",
    "La boucle `for` permet de parcourir tous les éléments d'une _séquence_. En utilisant `range()` on a vu que l'on peut parcourir une séquence de nombres. \n",
    "\n",
    "Il se trouve que les chaînes de caractères sont également des _séquences_ ... de caractères. On peut donc aussi les parcourir très simplement avec une boucle `for`, de deux manières différentes.\n",
    "\n",
    "### Par ses caractères\n",
    "\n",
    "On peut parcourir une chaîne directement par ses caractères :"
   ]
  },
  {
   "cell_type": "code",
   "execution_count": 30,
   "metadata": {},
   "outputs": [
    {
     "name": "stdout",
     "output_type": "stream",
     "text": [
      "B\n",
      "o\n",
      "n\n",
      "j\n",
      "o\n",
      "u\n",
      "r\n",
      " \n",
      "l\n",
      "e\n",
      "s\n",
      " \n",
      "é\n",
      "l\n",
      "è\n",
      "v\n",
      "e\n",
      "s\n",
      " \n",
      "!\n"
     ]
    }
   ],
   "source": [
    "chaine = \"Bonjour les élèves !\"\n",
    "for caractere in chaine :\n",
    "    print(caractere)"
   ]
  },
  {
   "cell_type": "markdown",
   "metadata": {},
   "source": [
    "La variable `caractere` créée par le `for` prend successivement les valeurs de la séquence `\"Bonjour les élèves !\"`, c'est-à-dire qu'elle prend la valeur `'B'` puis la valeur `'o'`, puis la valeur `'n'`, etc. La boucle s'arrête lorsque toute la séquence a été parcourue.\n",
    "\n",
    "### Par l'indice de ses caractères\n",
    "\n",
    "On peut aussi utiliser la fonction `range()` pour parcourir les caractères par leurs indices."
   ]
  },
  {
   "cell_type": "code",
   "execution_count": 8,
   "metadata": {},
   "outputs": [
    {
     "name": "stdout",
     "output_type": "stream",
     "text": [
      "B\n",
      "o\n",
      "n\n",
      "j\n",
      "o\n",
      "u\n",
      "r\n",
      " \n",
      "l\n",
      "e\n",
      "s\n",
      " \n",
      "é\n",
      "l\n",
      "è\n",
      "v\n",
      "e\n",
      "s\n",
      " \n",
      "!\n"
     ]
    }
   ],
   "source": [
    "chaine = \"Bonjour les élèves !\"\n",
    "for indice in range(len(chaine)) :\n",
    "    print(chaine[indice])"
   ]
  },
  {
   "cell_type": "markdown",
   "metadata": {},
   "source": [
    "L'instruction `len(chaine)` renvoie la longueur de la chaîne de caractères, soit 20 dans notre exemple. Donc `range(len(chaine))` est évaluée à `range(20)` qui crée la séquence d'entiers 0, 1, 2, ..., 19 qui vont être affectés successivement à la variable `indice`. On affiche ensuite, à chaque tour de boucle, le caractère en position `indice` dans `chaine` c'est-à-dire `chaine[0]`, puis `chaine[1]`, ... et enfin `chaine[19]`."
   ]
  },
  {
   "cell_type": "markdown",
   "metadata": {},
   "source": [
    "<blockquote style=\"background-color: rgb(227,249,255); border-left: 5px solid rgb(81 142 226);\">\n",
    "    <span style=\"font-size:20px\">✏️</span> Faire les exercices\n",
    "</blockquote>"
   ]
  },
  {
   "cell_type": "markdown",
   "metadata": {},
   "source": [
    "# Boucles non bornées : boucles `while`\n",
    "\n",
    "En Python, les boucles \"Tant que\" se codent en utilisant l'instruction `while` :\n",
    "\n",
    "```python\n",
    "while condition:\n",
    "    bloc_instructions\n",
    "```\n",
    "\n",
    "**Remarques :**\n",
    "- `condition` est une variable booléenne qui est soit vraie (`True`) soit fausse (`False`) ;\n",
    "- Tant que `condition` vaut `True` les instructions du bloc sont répétées ;\n",
    "- On passe à la suite du programme dès que `condition` vaut `False`. Cela signifie que si `condition` reste vraie tout le temps, la boucle `while` boucle à l'infini, ce qui pourra causer des problèmes plus ou moins importants ;\n",
    "- ne pas oublier les deux points à la fin de la ligne avec `while` qui permettent d'ouvrir le bloc d'instructions à exécuter (à répéter) ;\n",
    "- les instructions à effectuer sont indentées d'une tabulation par rapport au `while` ;\n",
    "- au contraire du pseudo-code, on n'écrit pas en Python de `fin tant que` car celui-ci est matérialisé la fin des indentations.\n",
    "\n",
    "**Exemple** :"
   ]
  },
  {
   "cell_type": "code",
   "execution_count": 9,
   "metadata": {},
   "outputs": [
    {
     "name": "stdout",
     "output_type": "stream",
     "text": [
      "5\n",
      "7\n",
      "9\n",
      "11\n",
      "13\n",
      "15\n"
     ]
    }
   ],
   "source": [
    "a = 3\n",
    "while a < 14:\n",
    "    a = a + 2\n",
    "    print(a) # pour voir l'évolution de la variable a"
   ]
  },
  {
   "cell_type": "markdown",
   "metadata": {},
   "source": [
    "<blockquote style=\"background-color: rgb(227,249,255); border-left: 5px solid rgb(81 142 226);\">\n",
    "    <span style=\"font-size:20px\">✏️</span> Faire les exercices\n",
    "</blockquote>"
   ]
  },
  {
   "cell_type": "markdown",
   "metadata": {},
   "source": [
    "# Les fonctions\n",
    "\n",
    "## Définition et syntaxe en Python\n",
    "\n",
    "Dans un langage de programmation, on utilise ce qu'on appelle des **fonctions**. Une fonction est un ensemble d'instructions qui peut recevoir des **arguments** et qui peut renvoyer un résultat qui est souvent le contenu d'une ou plusieurs variables.\n",
    "\n",
    "En Python, on définit une fonction en utilisant l'instruction `def` (de l'anglais *define*, qui veut dire \"définir\") :\n",
    "\n",
    "```python\n",
    "def nom_de_la_fonction(parametre1, parametre2, ..., parametreN):\n",
    "    corps_de_la_fonction\n",
    "```\n",
    "\n",
    "- l'instruction `def` est suivie du **nom** de la fonction ;\n",
    "- les **paramètres** de la fonction sont ensuite écrits entre parenthèses et séparés par des virgules ;\n",
    "- il existe des fonctions sans paramètre, les parenthèses sont néanmoins obligatoires et restent vides ;\n",
    "- il ne faut pas oublier les **deux points** après les parenthèses de la première ligne ;\n",
    "- le corps de la fonction est un bloc d'instructions qui contient toutes les lignes qui doivent être exécutées lorsque la fonction est appelée. Le corps de la fonction doit nécessairement être **indenté**, c'est-à-dire qu'il doit être décalé d'une tabulation par rapport à l'instruction `def`.\n",
    "\n",
    "Très souvent, le corps de la fonction se terminera par l'instruction `return` suivie de la ou des valeurs que la fonction doit renvoyer. Si la fonction doit renvoyer plusieurs valeurs, celles-ci sont à séparer par des virgules.\n",
    "\n",
    "Ainsi, le schéma général d'une fonction `Python` est :\n",
    "\n",
    "```python\n",
    "def nom_de_la_fonction(parametre1, parametre2, ..., parametreN):\n",
    "    instructions                            # sur plusieurs lignes éventuellement\n",
    "    return valeur1, valeur2, valeur3, etc.  # souvent une fonction ne renvoie qu'une valeur\n",
    "```\n",
    "\n",
    "**Exemple** : Voici une fonction\n",
    "\n",
    "```python\n",
    "def addition(a, b):\n",
    "    s = a + b\n",
    "    return s\n",
    "```\n",
    "\n",
    "que l'on peut aussi écrire plus simplement :\n",
    "\n",
    "```python\n",
    "def addition(a, b):\n",
    "    return a + b\n",
    "```\n",
    "\n",
    "<blockquote class=\"question\"><span style=\"font-size:1.5em\">❔</span> Identifiez dans ces deux fonctions écrites différemment : leur nom, leur(s) paramètre(s), leur corps, leur(s) valeur(s) renvoyée(s).</blockquote>\n",
    "\n",
    "**Remarque** : il existe des fonctions qui ne renvoient aucune valeur, l'instruction `return` n'est donc pas utilisée dans le corps de ces fonctions."
   ]
  },
  {
   "cell_type": "markdown",
   "metadata": {},
   "source": [
    "## Appel à une fonction\n",
    "\n",
    "<span style=\"font-size:1.5em\">⚠️</span> Lorsque l'on exécute le code qui définit une fonction, aucune valeur n'est renvoyée ! Cela a seulement pour objectif d'enregistrer la fonction en mémoire."
   ]
  },
  {
   "cell_type": "code",
   "execution_count": 1,
   "metadata": {},
   "outputs": [],
   "source": [
    "# à exécuter : il ne se passera rien (visuellement)\n",
    "\n",
    "def addition(a, b):\n",
    "    return a + b"
   ]
  },
  {
   "cell_type": "markdown",
   "metadata": {},
   "source": [
    "Pour utiliser une fonction il faut l'**appeler**. On appelle une fonction par son nom en donnant des arguments (des valeurs) à ses paramètres. Dans ce cas, la fonction va renvoyer la ou les valeurs attendues."
   ]
  },
  {
   "cell_type": "code",
   "execution_count": 2,
   "metadata": {},
   "outputs": [
    {
     "data": {
      "text/plain": [
       "7"
      ]
     },
     "execution_count": 2,
     "metadata": {},
     "output_type": "execute_result"
    }
   ],
   "source": [
    "# appel à la fonction : qui renvoie alors ce qu'il faut !\n",
    "\n",
    "addition(2, 5)"
   ]
  },
  {
   "cell_type": "markdown",
   "metadata": {},
   "source": [
    "**Remarque** : au premier `return` rencontré l'exécution de la fonction est stoppée : si on veut renvoyer plusieurs valeurs on ne peut pas utiliser plusieurs `return` ; il faut séparer les valeurs à renvoyer par des virgules ;\n",
    "\n",
    "Par exemple, si on veut une fonction qui renvoie la somme **et** le produit de deux nombres, on ne peut pas écrire\n",
    "\n",
    "```python\n",
    "def somme_et_produit(a, b):\n",
    "    return a + b  # fonction stoppée après cette ligne (premier return rencontré)\n",
    "    return a * b  # ne sera pas exécuté !\n",
    "```\n",
    "mais il faudrait écrire cela :\n",
    "```python\n",
    "def somme_et_produit(a, b):\n",
    "    return a + b, a * b  # les deux valeurs seront bien renvoyées\n",
    "```\n",
    "\n",
    "On peut facilement vérifier :"
   ]
  },
  {
   "cell_type": "code",
   "execution_count": 35,
   "metadata": {},
   "outputs": [],
   "source": [
    "def somme_et_produit(a, b):\n",
    "    return a + b  # fonction stoppée après cette ligne (premier return rencontré)\n",
    "    return a * b  # ne sera pas exécuté !"
   ]
  },
  {
   "cell_type": "code",
   "execution_count": 36,
   "metadata": {},
   "outputs": [
    {
     "data": {
      "text/plain": [
       "7"
      ]
     },
     "execution_count": 36,
     "metadata": {},
     "output_type": "execute_result"
    }
   ],
   "source": [
    "somme_et_produit(2, 5)"
   ]
  },
  {
   "cell_type": "code",
   "execution_count": 37,
   "metadata": {},
   "outputs": [],
   "source": [
    "def somme_et_produit(a, b):\n",
    "    return a + b, a * b  # les deux valeurs seront bien renvoyées"
   ]
  },
  {
   "cell_type": "code",
   "execution_count": 38,
   "metadata": {
    "scrolled": true
   },
   "outputs": [
    {
     "data": {
      "text/plain": [
       "(7, 10)"
      ]
     },
     "execution_count": 38,
     "metadata": {},
     "output_type": "execute_result"
    }
   ],
   "source": [
    "somme_et_produit(2, 5)"
   ]
  },
  {
   "cell_type": "markdown",
   "metadata": {},
   "source": [
    "<blockquote style=\"background-color: rgb(227,249,255); border-left: 5px solid rgb(81 142 226);\">\n",
    "    <span style=\"font-size:20px\">✏️</span> Faire les exercices\n",
    "</blockquote>"
   ]
  },
  {
   "cell_type": "markdown",
   "metadata": {},
   "source": [
    "# Les entrées en Python\n",
    "\n",
    "Pour que l'utilisateur puisse saisir des valeurs au clavier, on utilise la fonction `input`. Elle déclenche l’ouverture d’une boîte de dialogue dans laquelle on peut saisir la valeur souhaitée."
   ]
  },
  {
   "cell_type": "code",
   "execution_count": 40,
   "metadata": {},
   "outputs": [
    {
     "name": "stdout",
     "output_type": "stream",
     "text": [
      "Veuillez saisir votre nom : Germain\n",
      "Veuillez saisir votre âge : 20\n",
      "Vous vous appelez Germain et vous avez 20 ans.\n",
      "<class 'str'>\n"
     ]
    }
   ],
   "source": [
    "nom_utilisateur = input(\"Veuillez saisir votre nom : \")\n",
    "age_utilisateur = input(\"Veuillez saisir votre âge : \")\n",
    "print(f\"Vous vous appelez {nom_utilisateur} et vous avez {age_utilisateur} ans.\")\n",
    "print(type(age_utilisateur)) # OBSERVEZ BIEN LE TYPE !!"
   ]
  },
  {
   "cell_type": "markdown",
   "metadata": {},
   "source": [
    "<blockquote class=\"attention\">\n",
    "<p><strong>ATTENTION :</strong> Par défaut, en Python, les variables saisies au clavier et récupérées par la fonction <code>input</code> sont des chaînes de caractères.</p>\n",
    "</blockquote>\n",
    "\n",
    "Cela peut créer des erreurs :"
   ]
  },
  {
   "cell_type": "code",
   "execution_count": 14,
   "metadata": {
    "scrolled": true
   },
   "outputs": [
    {
     "name": "stdout",
     "output_type": "stream",
     "text": [
      "Veuillez saisir votre âge : 16\n"
     ]
    },
    {
     "ename": "TypeError",
     "evalue": "can only concatenate str (not \"int\") to str",
     "output_type": "error",
     "traceback": [
      "\u001b[1;31m---------------------------------------------------------------------------\u001b[0m",
      "\u001b[1;31mTypeError\u001b[0m                                 Traceback (most recent call last)",
      "\u001b[1;32m<ipython-input-14-8ae97b43fbf4>\u001b[0m in \u001b[0;36m<module>\u001b[1;34m\u001b[0m\n\u001b[0;32m      1\u001b[0m \u001b[0mage_utilisateur\u001b[0m \u001b[1;33m=\u001b[0m \u001b[0minput\u001b[0m\u001b[1;33m(\u001b[0m\u001b[1;34m\"Veuillez saisir votre âge : \"\u001b[0m\u001b[1;33m)\u001b[0m\u001b[1;33m\u001b[0m\u001b[1;33m\u001b[0m\u001b[0m\n\u001b[1;32m----> 2\u001b[1;33m \u001b[0mage_utilisateur\u001b[0m \u001b[1;33m=\u001b[0m \u001b[0mage_utilisateur\u001b[0m \u001b[1;33m+\u001b[0m \u001b[1;36m2\u001b[0m\u001b[1;33m\u001b[0m\u001b[1;33m\u001b[0m\u001b[0m\n\u001b[0m",
      "\u001b[1;31mTypeError\u001b[0m: can only concatenate str (not \"int\") to str"
     ]
    }
   ],
   "source": [
    "age_utilisateur = input(\"Veuillez saisir votre âge : \")\n",
    "age_utilisateur = age_utilisateur + 2"
   ]
  },
  {
   "cell_type": "markdown",
   "metadata": {},
   "source": [
    "L'erreur se situe ligne 2 comme l'indique la flèche verte. Le message d'erreur ``` TypeError: can only concatenate str (not \"int\") to str ``` indique que Python ne peut concaténer une chaîne de caractères qu'avec une autre chaîne de caractères (mais pas avec un entier). \n",
    "\n",
    "En effet, la variable `age_utilisateur` étant de type `str`, le symbole `+` qui suit est le symbole de concaténation, qui ne peut pas s'appliquer à l'entier 2 situé après car celui-ci est de type `int`."
   ]
  },
  {
   "cell_type": "markdown",
   "metadata": {},
   "source": [
    "**RÈGLE D'USAGE IMPORTANTE :** pour éviter ces problèmes, il suffit de préciser le type de variable que l'utilisateur doit saisir avant la fonction `input` comme indiqué ci-dessous :\n",
    "\n",
    "- pour saisir un entier : ```nom_variable = int(input(\"message à afficher\"))```\n",
    "- pour saisir un flottant : ```nom_variable = float(input(\"message à afficher\"))```\n",
    "- pour saisir un booléen : ```nom_variable = bool(input(\"message à afficher\"))```\n",
    "- pour saisir un entier long : ```nom_variable = long(input(\"message à afficher\"))```\n"
   ]
  },
  {
   "cell_type": "markdown",
   "metadata": {},
   "source": [
    "Ainsi, pour régler le problème précédent, il suffit d'écrire :"
   ]
  },
  {
   "cell_type": "code",
   "execution_count": 41,
   "metadata": {},
   "outputs": [
    {
     "name": "stdout",
     "output_type": "stream",
     "text": [
      "Veuillez saisir votre âge :15\n",
      "Dans deux ans, vous aurez 17 ans\n"
     ]
    }
   ],
   "source": [
    "age_utilisateur = int(input(\"Veuillez saisir votre âge :\"))\n",
    "print(f\"Dans deux ans, vous aurez {age_utilisateur + 2} ans\")"
   ]
  },
  {
   "cell_type": "markdown",
   "metadata": {},
   "source": [
    "<blockquote class=\"information\">\n",
    "    <p>Nous n'utiliserons les instructions d'entrée en Python que dans les cas où cela s'avère nécessaire, par exemple si une interaction est nécessaire avec l'utilisateur. Dans les autres cas, on privilégiera les appels de fonctions en modifiant leurs arguments.</p>\n",
    "</blockquote>"
   ]
  },
  {
   "cell_type": "markdown",
   "metadata": {},
   "source": [
    "***\n",
    "Germain BECKER & Sébastien POINT, Lycée Mounier, ANGERS ![Licence Creative Commons](https://i.creativecommons.org/l/by-nc-sa/4.0/88x31.png)"
   ]
  }
 ],
 "metadata": {
  "kernelspec": {
   "display_name": "Python 3",
   "language": "python",
   "name": "python3"
  },
  "language_info": {
   "codemirror_mode": {
    "name": "ipython",
    "version": 3
   },
   "file_extension": ".py",
   "mimetype": "text/x-python",
   "name": "python",
   "nbconvert_exporter": "python",
   "pygments_lexer": "ipython3",
   "version": "3.7.10"
  }
 },
 "nbformat": 4,
 "nbformat_minor": 2
}
