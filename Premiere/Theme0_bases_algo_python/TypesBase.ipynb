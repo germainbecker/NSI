{
 "cells": [
  {
   "cell_type": "markdown",
   "metadata": {},
   "source": [
    "**Un petit point sur les _notebooks_ avant de démarrer !**\n",
    "\n",
    "<img class=\"centre image-responsive\" src=\"jupyter_logo.svg\" alt=\"logo Jupyter\" width=\"100\">\n",
    "\n",
    "Nous utiliserons beaucoup cette année les **notebooks** de l'application web *Jupyter*. Il s'agit d'interfaces de programmation interactives permettant de mélanger du texte (écrit dans le format markdown) et du code en Python (entre autres). Ces notebooks sont très utilisés en science des données (*data science*) car ils facilitent le partage et la reproductibilité des résultats. Il sont très pratiques pour l'apprentissage du langage Python.\n",
    "\n",
    "On peut écrire en Python exactement comme avec n'importe quel éditeur et le code peut directement être exécuté dans le notebook. Pour cela, il suffit de se positionner sur la cellule de votre code et de cliquer sur le bouton `▶ Exécuter` de la barre d'outils ou de manière plus efficace directement au clavier avec le raccourci `Maj + Entrée`.\n",
    "\n",
    "**Petit point sur l'affichage de valeurs**\n",
    "\n",
    "Dans un *notebook*, tout comme dans une console, si on veut connaître la valeur d'une variable, il n'est pas nécessaire d'utiliser la fonction `print`. Il suffit pour cela de taper en dernière ligne le nom de la variable que l'on veut évaluer."
   ]
  },
  {
   "cell_type": "code",
   "execution_count": 1,
   "metadata": {},
   "outputs": [
    {
     "data": {
      "text/plain": [
       "28.0"
      ]
     },
     "execution_count": 1,
     "metadata": {},
     "output_type": "execute_result"
    }
   ],
   "source": [
    "prix = 35\n",
    "prix_remise = prix * 0.8 # remise de 20 %\n",
    "prix # ne sera pas affiché\n",
    "prix_remise # sera évalué et renvoyé car en dernière ligne"
   ]
  },
  {
   "cell_type": "markdown",
   "metadata": {},
   "source": [
    "On peut afficher les valeurs des deux variables `prix` et `prix_remise` en les séparant par une virgule en dernière ligne."
   ]
  },
  {
   "cell_type": "code",
   "execution_count": 2,
   "metadata": {},
   "outputs": [
    {
     "data": {
      "text/plain": [
       "(35, 28.0)"
      ]
     },
     "execution_count": 2,
     "metadata": {},
     "output_type": "execute_result"
    }
   ],
   "source": [
    "prix = 35\n",
    "prix_remise = prix * 0.8\n",
    "prix, prix_remise # ici un couple est renvoyé"
   ]
  },
  {
   "cell_type": "markdown",
   "metadata": {},
   "source": [
    "On peut aussi utiliser la fonction `print` :"
   ]
  },
  {
   "cell_type": "code",
   "execution_count": 3,
   "metadata": {},
   "outputs": [
    {
     "name": "stdout",
     "output_type": "stream",
     "text": [
      "35 28.0\n"
     ]
    }
   ],
   "source": [
    "prix = 35\n",
    "prix_remise = prix * 0.8 # remise de 20 %\n",
    "print(prix, prix_remise)"
   ]
  },
  {
   "cell_type": "markdown",
   "metadata": {},
   "source": [
    "En revanche, si vous souhaitez afficher des valeurs, à plusieurs endroits d'un programme, il faudra nécessairement utiliser la fonction `print`."
   ]
  },
  {
   "cell_type": "code",
   "execution_count": 4,
   "metadata": {},
   "outputs": [
    {
     "name": "stdout",
     "output_type": "stream",
     "text": [
      "5\n",
      "10\n",
      "0\n"
     ]
    }
   ],
   "source": [
    "a = 5\n",
    "print(a)\n",
    "a = 2 * a\n",
    "print(a)\n",
    "a = a - 10\n",
    "print(a)"
   ]
  },
  {
   "cell_type": "markdown",
   "metadata": {},
   "source": [
    "---\n",
    "\n",
    "<h1 style=\"font-size: 30px; text-align: center\">Les types de base en Python</h1>\n",
    "\n",
    "\n",
    "# Introduction \n",
    "\n",
    "Dans un algorithme, des variables sont utilisées pour stocker des valeurs. Les variables de base sont celles permettant de stocker : \n",
    "- des nombres entiers ; \n",
    "- des nombres réels ;\n",
    "- des caractères ou des chaînes de caractères ; \n",
    "- des booléens.\n",
    "\n",
    "Ces variables sont bien sûr de nature différente. Dans un langage de programmation, comme Python, on parle du **type** d'une variable. Les types et valeurs de base en Python sont donc :\n",
    "\n",
    "- `int`: nombres entiers (de l'anglais *integer*, signifiant &laquo; entier &raquo; en anglais)\n",
    "- `float` : nombres flottants (de l'anglais *floating*, signifiant &laquo; flottant &raquo; en anglais)\n",
    "- `str` : caractères et chaînes de caractères (de l'anglais *string*, signifiant &laquo; chaine &raquo; en anglais)\n",
    "- `bool` : booléens (de l'anglais *boolean*, signifiant &laquo; booléan &raquo; en anglais)"
   ]
  },
  {
   "cell_type": "markdown",
   "metadata": {},
   "source": [
    "**Typage automatique en Python**\n",
    "\n",
    "Une des particularités du langage Python vient du fait que le *typage* des variables est automatique : cela signifie qu’il n’y a pas besoin de définir le type d'une variable, cela se fait automatiquement selon la façon dont on déclare la variable.\n",
    "\n",
    "C'est ce qui fait de Python (entre autre) un langage simple à apprendre. En revanche, cela a pour inconvénient de toujours avoir en tête la nature des variables manipulées, pour éviter par exemple d'additionner un nombre avec une chaîne de caractères.\n",
    "\n",
    "Pour connaître le type d'une variable Python, il suffit d'utiliser la fonction `type` qui renvoie le type de la variable passée en paramètre. Par exemple :"
   ]
  },
  {
   "cell_type": "code",
   "execution_count": 1,
   "metadata": {
    "scrolled": true
   },
   "outputs": [
    {
     "name": "stdout",
     "output_type": "stream",
     "text": [
      "<class 'int'>\n",
      "<class 'float'>\n",
      "<class 'str'>\n",
      "<class 'bool'>\n"
     ]
    }
   ],
   "source": [
    "A = 5\n",
    "print(type(A))\n",
    "N = 3.14\n",
    "print(type(N))\n",
    "t = \"bonjour\"\n",
    "print(type(t))\n",
    "b = (A > 4)\n",
    "print(type(b))"
   ]
  },
  {
   "cell_type": "markdown",
   "metadata": {},
   "source": [
    "# Le type `int`\n",
    "\n",
    "Les variables de type `int` représentent des entiers (naturels et relatifs). Les calculs mettant en jeu ce type de variables utilisent les opérateurs classiques, regroupés dans le tableau ci-dessous.\n",
    "\n",
    "| **Opération** | **Opérateur Python** |\n",
    "| --- | --- | \n",
    "| Addition  | + |\n",
    "| Soustraction | - |\n",
    "| Multiplication | * |\n",
    "| Division | / |\n",
    "| Puissance | ** |\n",
    "| Division entière | // |\n",
    "| Reste entier | % |\n",
    "\n",
    "> Vous devez absolument connaître ces opérateurs, notamment les trois derniers, vous l'aurez compris."
   ]
  },
  {
   "cell_type": "code",
   "execution_count": 2,
   "metadata": {
    "scrolled": true
   },
   "outputs": [
    {
     "name": "stdout",
     "output_type": "stream",
     "text": [
      "16\n",
      "<class 'int'>\n",
      "17\n",
      "14\n",
      "28\n",
      "5.6\n"
     ]
    }
   ],
   "source": [
    "age = 16\n",
    "print(age)\n",
    "print(type(age))\n",
    "\n",
    "age = age + 1\n",
    "print(age)\n",
    "\n",
    "age = age - 3\n",
    "print(age)\n",
    "\n",
    "age = age * 2\n",
    "print(age)\n",
    "\n",
    "age = age / 5\n",
    "print(age) # remarquez que la variable 'age' est désormais de type float"
   ]
  },
  {
   "cell_type": "code",
   "execution_count": 5,
   "metadata": {
    "scrolled": true
   },
   "outputs": [
    {
     "name": "stdout",
     "output_type": "stream",
     "text": [
      "4 10 24 1000\n"
     ]
    }
   ],
   "source": [
    "a = 4\n",
    "b = 10\n",
    "c = 2*b + a\n",
    "d = b ** 3 # puissance 3\n",
    "print(a, b, c, d) # on peut afficher plusieurs valeurs en les séparant par des virgules"
   ]
  },
  {
   "cell_type": "code",
   "execution_count": 4,
   "metadata": {
    "scrolled": true
   },
   "outputs": [
    {
     "name": "stdout",
     "output_type": "stream",
     "text": [
      "2\n",
      "4\n",
      "14 =  2 *5 + 4\n"
     ]
    }
   ],
   "source": [
    "q = 14 // 5 # division entière\n",
    "r = 14 % 5 # reste entier\n",
    "print(q)\n",
    "print(r)\n",
    "print(\"14 = \", q, \"*5 +\", r)"
   ]
  },
  {
   "cell_type": "markdown",
   "metadata": {},
   "source": [
    "# Le type `float`\n",
    "\n",
    "Les nombres à virgule flottante sont des nombres décimaux. On les appelle **nombres flottants** et, pour simplier, on va considérer pour le moment qu'ils correspondent aux nombres réels (vous verrez plus tard dans l'année que c'est plus compliqué que cela).\n",
    "\n",
    "<blockquote class=\"attention\">\n",
    "<p><strong>ATTENTION</strong> : la virgule est codée par un point <code>.</code>, c'est la notation anglaise des nombres décimaux.</p>\n",
    "</blockquote>\n",
    "\n",
    "Pour déclarer un nombre flottant, il suffit d'utiliser le `.` :"
   ]
  },
  {
   "cell_type": "code",
   "execution_count": 5,
   "metadata": {
    "scrolled": true
   },
   "outputs": [
    {
     "name": "stdout",
     "output_type": "stream",
     "text": [
      "17.0\n",
      "<class 'float'>\n",
      "4.666666666666667\n",
      "4.0\n"
     ]
    }
   ],
   "source": [
    "b = 17.0\n",
    "print(b)\n",
    "print(type(b))\n",
    "\n",
    "c = 14.0 / 3.0\n",
    "print(c)\n",
    "\n",
    "c = 14.0 // 3.0 # on peut aussi faire la division entière de deux flottants\n",
    "print(c)"
   ]
  },
  {
   "cell_type": "markdown",
   "metadata": {},
   "source": [
    "Le quotient, avec l'opérateur `/`, de deux nombres entiers (de type `int`) renvoie un nombre de type `float`."
   ]
  },
  {
   "cell_type": "code",
   "execution_count": 6,
   "metadata": {
    "scrolled": true
   },
   "outputs": [
    {
     "name": "stdout",
     "output_type": "stream",
     "text": [
      "4.666666666666667 <class 'float'>\n"
     ]
    }
   ],
   "source": [
    "c = 14 / 3\n",
    "print(c, type(c)) # de type float"
   ]
  },
  {
   "cell_type": "markdown",
   "metadata": {},
   "source": [
    "# Le type `str`\n",
    "\n",
    "Les chaînes de caractères sont énorméments utilisées en programmation. On dit *string* en anglais, d'où l'appelation `str`.\n",
    "\n",
    "C'est grâce à elles que l'on peut manipuler des mots, des phrases, des textes, des fichiers, etc.\n",
    "\n",
    "Pour déclarer une chaîne de caractères, il suffit d'utiliser les guillemets (simples ou doubles). "
   ]
  },
  {
   "cell_type": "code",
   "execution_count": 7,
   "metadata": {
    "scrolled": true
   },
   "outputs": [
    {
     "name": "stdout",
     "output_type": "stream",
     "text": [
      "Dupont\n",
      "<class 'str'>\n",
      "Pierre\n",
      "<class 'str'>\n",
      "Dupont Pierre\n"
     ]
    }
   ],
   "source": [
    "nom = \"Dupont\" # guillements doubles\n",
    "print(nom)\n",
    "print(type(nom))\n",
    "\n",
    "prenom = 'Pierre' # ou guillemets simples\n",
    "print(prenom)\n",
    "print(type(prenom))\n",
    "\n",
    "print(nom, prenom)"
   ]
  },
  {
   "cell_type": "markdown",
   "metadata": {},
   "source": [
    "**Remarque :** on peut aussi utiliser des triples guillemets si on souhaite écrire une chaîne de caractères sur plusieurs lignes."
   ]
  },
  {
   "cell_type": "code",
   "execution_count": 8,
   "metadata": {
    "scrolled": true
   },
   "outputs": [
    {
     "name": "stdout",
     "output_type": "stream",
     "text": [
      "on peut aussi utiliser des triples guillemets \n",
      "si on souhaite écrire une chaîne de caractères \n",
      "sur plusieurs lignes\n"
     ]
    }
   ],
   "source": [
    "chaine = '''on peut aussi utiliser des triples guillemets \n",
    "si on souhaite écrire une chaîne de caractères \n",
    "sur plusieurs lignes'''\n",
    "print(chaine) # vous remarquerez que l'affichage se fait aussi sur plusieurs lignes"
   ]
  },
  {
   "cell_type": "markdown",
   "metadata": {},
   "source": [
    "## Concaténation de chaînes\n",
    "\n",
    "La concaténation désigne la mise bout à bout de plusieurs chaînes de caractères. L'opérateur `+` permet de concaténer deux chaînes de caractères."
   ]
  },
  {
   "cell_type": "code",
   "execution_count": 9,
   "metadata": {
    "scrolled": true
   },
   "outputs": [
    {
     "name": "stdout",
     "output_type": "stream",
     "text": [
      "DupontPierre\n",
      "PierreDupont\n",
      "Pierre Dupont\n",
      "Pierre Dupont a 18 ans \n"
     ]
    },
    {
     "ename": "TypeError",
     "evalue": "can only concatenate str (not \"int\") to str",
     "output_type": "error",
     "traceback": [
      "\u001b[1;31m---------------------------------------------------------------------------\u001b[0m",
      "\u001b[1;31mTypeError\u001b[0m                                 Traceback (most recent call last)",
      "\u001b[1;32m<ipython-input-9-1a44efdf30c5>\u001b[0m in \u001b[0;36m<module>\u001b[1;34m\u001b[0m\n\u001b[0;32m     15\u001b[0m \u001b[1;33m\u001b[0m\u001b[0m\n\u001b[0;32m     16\u001b[0m \u001b[1;31m# on ne peut pas concaténer une chaine est un nombre de type int ou float, une erreur est renvoyée\u001b[0m\u001b[1;33m\u001b[0m\u001b[1;33m\u001b[0m\u001b[1;33m\u001b[0m\u001b[0m\n\u001b[1;32m---> 17\u001b[1;33m \u001b[0mchaine\u001b[0m \u001b[1;33m=\u001b[0m \u001b[0mchaine\u001b[0m \u001b[1;33m+\u001b[0m \u001b[1;36m15\u001b[0m\u001b[1;33m\u001b[0m\u001b[1;33m\u001b[0m\u001b[0m\n\u001b[0m",
      "\u001b[1;31mTypeError\u001b[0m: can only concatenate str (not \"int\") to str"
     ]
    }
   ],
   "source": [
    "nom = \"Dupont\"\n",
    "prenom = \"Pierre\"\n",
    "\n",
    "chaine  = nom + prenom\n",
    "print(chaine)\n",
    "\n",
    "chaine = prenom + nom\n",
    "print(chaine)\n",
    "\n",
    "chaine = prenom + \" \" + nom\n",
    "print(chaine)\n",
    "\n",
    "chaine = chaine + ' a 18 ans '\n",
    "print(chaine)\n",
    "\n",
    "# on ne peut pas concaténer une chaine est un nombre de type int ou float, une erreur est renvoyée\n",
    "chaine = chaine + 15 "
   ]
  },
  {
   "cell_type": "markdown",
   "metadata": {},
   "source": [
    "## Longueur d'une chaîne de caractères\n",
    "\n",
    "La fonction `len` permet de renvoyer le nombre caractères d'une chaîne de caractères donnée en argument."
   ]
  },
  {
   "cell_type": "code",
   "execution_count": 10,
   "metadata": {
    "scrolled": true
   },
   "outputs": [
    {
     "name": "stdout",
     "output_type": "stream",
     "text": [
      "6\n",
      "7\n"
     ]
    }
   ],
   "source": [
    "nom = \"Dupont\"\n",
    "print(len(nom))\n",
    "\n",
    "nom = \"Dupont \"\n",
    "print(len(nom)) # les espaces sont aussi comptabilisés !"
   ]
  },
  {
   "cell_type": "markdown",
   "metadata": {},
   "source": [
    "## Indexage des caractères\n",
    "\n",
    "Un texte ou une chaine de caractères est une suite de caractères dont chacun est numéroté. Voici un exemple :\n",
    "\n",
    "![Index_chaines_de_caracatères](https://upload.wikimedia.org/wikipedia/commons/a/a9/Apprendre_%C3%A0_programmer_avec_Python_31.png)\n",
    "\n",
    "- Les indices commencent à 0 !\n",
    "- Le premier caractère &laquo; J &raquo; est celui d'**indice** 0. On dit aussi que &laquo; J &raquo; est d'**index** 0.\n",
    "- Le caractère &laquo; i &raquo; est celui d'indice 3 (c'est le 4ème caractère)\n",
    "\n",
    "On peut facilement extraire le caractère souhaité en précisant sont index entre crochets `[]` :"
   ]
  },
  {
   "cell_type": "code",
   "execution_count": 11,
   "metadata": {
    "scrolled": true
   },
   "outputs": [
    {
     "name": "stdout",
     "output_type": "stream",
     "text": [
      "J\n",
      "i\n",
      "e\n"
     ]
    }
   ],
   "source": [
    "ch = \"Juliette\"\n",
    "print(ch[0]) \n",
    "print(ch[3])\n",
    "print(ch[7])"
   ]
  },
  {
   "cell_type": "code",
   "execution_count": 12,
   "metadata": {
    "scrolled": true
   },
   "outputs": [
    {
     "data": {
      "text/plain": [
       "'Je'"
      ]
     },
     "execution_count": 12,
     "metadata": {},
     "output_type": "execute_result"
    }
   ],
   "source": [
    "ch = \"Juliette\"\n",
    "a = ch[0]\n",
    "b = ch[7]\n",
    "mot = a + b\n",
    "mot"
   ]
  },
  {
   "cell_type": "markdown",
   "metadata": {},
   "source": [
    "## Extraire un groupe de caractères (slicing)\n",
    "\n",
    "On peut également extraire un groupe de caractères d'une chaîne, on parle de **slicing**.\n",
    "\n",
    "`chaine[debut:fin]` permet de récupérer les caractères d'indices compris entre `debut` et **`fin` - 1**."
   ]
  },
  {
   "cell_type": "code",
   "execution_count": 13,
   "metadata": {
    "scrolled": true
   },
   "outputs": [
    {
     "data": {
      "text/plain": [
       "'Dupo'"
      ]
     },
     "execution_count": 13,
     "metadata": {},
     "output_type": "execute_result"
    }
   ],
   "source": [
    "nom = \"Dupont\"\n",
    "nom[0:4] # extrait les 4 premiers caractères"
   ]
  },
  {
   "cell_type": "code",
   "execution_count": 14,
   "metadata": {
    "scrolled": true
   },
   "outputs": [
    {
     "data": {
      "text/plain": [
       "'pon'"
      ]
     },
     "execution_count": 14,
     "metadata": {},
     "output_type": "execute_result"
    }
   ],
   "source": [
    "nom = \"Dupont\"\n",
    "nom[2:5] # extrait les caractères d'index 2, 3 et 4"
   ]
  },
  {
   "cell_type": "markdown",
   "metadata": {},
   "source": [
    "On peut également récupérer un certain nombre de caractères en partant du début ou de la fin."
   ]
  },
  {
   "cell_type": "code",
   "execution_count": 15,
   "metadata": {
    "scrolled": true
   },
   "outputs": [
    {
     "data": {
      "text/plain": [
       "'Sté'"
      ]
     },
     "execution_count": 15,
     "metadata": {},
     "output_type": "execute_result"
    }
   ],
   "source": [
    "prenom = \"Stéphane\"\n",
    "prenom[:3] # extrait les 3 premiers caractères"
   ]
  },
  {
   "cell_type": "code",
   "execution_count": 16,
   "metadata": {
    "scrolled": true
   },
   "outputs": [
    {
     "data": {
      "text/plain": [
       "'hane'"
      ]
     },
     "execution_count": 16,
     "metadata": {},
     "output_type": "execute_result"
    }
   ],
   "source": [
    "prenom[4:] # extrait les 4 derniers caractères"
   ]
  },
  {
   "cell_type": "markdown",
   "metadata": {},
   "source": [
    "## Séquences d'échappement\n",
    "\n",
    "Les séquences d'échappement sont des séquences de caractères jouant un rôle particulier dans une chaîne de caractères.\n",
    "\n",
    "Il en existe beaucoup, nous n'en citerons ici que trois.\n",
    "\n",
    "- La séquence d'échappement `\\n` : nouvelle ligne"
   ]
  },
  {
   "cell_type": "code",
   "execution_count": 17,
   "metadata": {
    "scrolled": true
   },
   "outputs": [
    {
     "name": "stdout",
     "output_type": "stream",
     "text": [
      "Première ligne \n",
      "Deuxième ligne\n"
     ]
    }
   ],
   "source": [
    "chaine  = \"Première ligne \\nDeuxième ligne\"\n",
    "print(chaine)"
   ]
  },
  {
   "cell_type": "markdown",
   "metadata": {},
   "source": [
    "- La séquence d'échappement `\\'` : apostrophe"
   ]
  },
  {
   "cell_type": "code",
   "execution_count": 18,
   "metadata": {
    "scrolled": true
   },
   "outputs": [
    {
     "ename": "SyntaxError",
     "evalue": "invalid syntax (<ipython-input-18-098542273c32>, line 1)",
     "output_type": "error",
     "traceback": [
      "\u001b[1;36m  File \u001b[1;32m\"<ipython-input-18-098542273c32>\"\u001b[1;36m, line \u001b[1;32m1\u001b[0m\n\u001b[1;33m    chaine = 'Aujourd'hui'\u001b[0m\n\u001b[1;37m                        ^\u001b[0m\n\u001b[1;31mSyntaxError\u001b[0m\u001b[1;31m:\u001b[0m invalid syntax\n"
     ]
    }
   ],
   "source": [
    "chaine = 'Aujourd'hui'\n",
    "print(chaine)"
   ]
  },
  {
   "cell_type": "code",
   "execution_count": 19,
   "metadata": {
    "scrolled": true
   },
   "outputs": [
    {
     "name": "stdout",
     "output_type": "stream",
     "text": [
      "Aujourd'hui\n"
     ]
    }
   ],
   "source": [
    "chaine = 'Aujourd\\'hui' # permet d'écrire un apostrophe dans une chaine définie par des apostrophes\n",
    "print(chaine)"
   ]
  },
  {
   "cell_type": "markdown",
   "metadata": {},
   "source": [
    "- la séquence d'échappement `\\t` : tabulation horizontale"
   ]
  },
  {
   "cell_type": "code",
   "execution_count": 20,
   "metadata": {
    "scrolled": true
   },
   "outputs": [
    {
     "name": "stdout",
     "output_type": "stream",
     "text": [
      "Dupont Pierre \t 0612345678\n"
     ]
    }
   ],
   "source": [
    "chaine = \"Dupont Pierre \\t 0612345678\" # permet d'ajouter une tabulation horizontale\n",
    "print(chaine)"
   ]
  },
  {
   "cell_type": "markdown",
   "metadata": {},
   "source": [
    "# Le type `bool`\n",
    "\n",
    "Une variable booléenne ne peut prendre que deux valeurs distinctes. En Python, ces deux valeurs sont notées `True` et `False` (avec un T et un F majuscules).\n",
    "\n",
    "Ces booléens (*boolean* en anglais) sont destinés à représenter les valeurs de vérité de la logique et l'algèbre booléenne, ce que vous étudierez un peu plus tard dans l'année. \n",
    "\n",
    "Le type de données booléen est principalement associé à des états conditionnels."
   ]
  },
  {
   "cell_type": "code",
   "execution_count": 21,
   "metadata": {
    "scrolled": true
   },
   "outputs": [
    {
     "data": {
      "text/plain": [
       "bool"
      ]
     },
     "execution_count": 21,
     "metadata": {},
     "output_type": "execute_result"
    }
   ],
   "source": [
    "choix = True\n",
    "type(choix)"
   ]
  },
  {
   "cell_type": "markdown",
   "metadata": {},
   "source": [
    "## Les opérateurs de comparaison\n",
    "\n",
    "Voici les opérateurs de comparaisons classiques :\n",
    "\n",
    "| **Opérateur** | **Signification** |\n",
    "| --- | --- | \n",
    "| <  | strictement inférieur |\n",
    "| <= | inférieur ou égal |\n",
    "| > | strictement supérieur |\n",
    "| >= | supérieur ou égal |\n",
    "| == | égal |\n",
    "| != | différent |"
   ]
  },
  {
   "cell_type": "code",
   "execution_count": 22,
   "metadata": {
    "scrolled": true
   },
   "outputs": [
    {
     "name": "stdout",
     "output_type": "stream",
     "text": [
      "True\n",
      "False\n",
      "False\n",
      "False\n",
      "True\n"
     ]
    }
   ],
   "source": [
    "b = 10\n",
    "print(b > 8)\n",
    "print(b == 5) # double égal pour tester l'égalité de deux expressions\n",
    "print(b != 10)\n",
    "print(0 <= b < 10)\n",
    "print(5 <= b <= 10)"
   ]
  },
  {
   "cell_type": "markdown",
   "metadata": {},
   "source": [
    "## Les opérateurs logiques\n",
    "\n",
    "Ce sont les opérateurs permettant d'effectuer des opérations sur les booléens.\n",
    "Avec les opérateurs `not`, `or` et `and` on peut effectuer toutes les opérations logiques que l'on souhaite. Vous étudierez cela plus en détails bientôt.\n",
    "\n",
    "Voici quelques exemples en Python."
   ]
  },
  {
   "cell_type": "code",
   "execution_count": 23,
   "metadata": {
    "scrolled": true
   },
   "outputs": [
    {
     "name": "stdout",
     "output_type": "stream",
     "text": [
      "True\n",
      "False\n"
     ]
    }
   ],
   "source": [
    "b = 10\n",
    "a = (b == 10)\n",
    "print(a)\n",
    "print(not(a)) # renvoie la négation du booléen 'a'"
   ]
  },
  {
   "cell_type": "code",
   "execution_count": 24,
   "metadata": {
    "scrolled": true
   },
   "outputs": [
    {
     "data": {
      "text/plain": [
       "True"
      ]
     },
     "execution_count": 24,
     "metadata": {},
     "output_type": "execute_result"
    }
   ],
   "source": [
    "note = 13.0\n",
    "mention_ab = note >= 12.0 and note < 14.0 # renvoie Vrai uniquement si les deux conditions sont vraies\n",
    "mention_ab"
   ]
  },
  {
   "cell_type": "code",
   "execution_count": 25,
   "metadata": {
    "scrolled": true
   },
   "outputs": [
    {
     "data": {
      "text/plain": [
       "True"
      ]
     },
     "execution_count": 25,
     "metadata": {},
     "output_type": "execute_result"
    }
   ],
   "source": [
    "note = 13.0\n",
    "booleen = note > 10 or note > 15.0 # il suffit que l'une ou l'autre des conditions soit vraie pour renvoyer Vrai\n",
    "booleen"
   ]
  },
  {
   "cell_type": "markdown",
   "metadata": {},
   "source": [
    "---\n",
    "**Références :**\n",
    "\n",
    "- *Apprenenez à programmer en Python*, Vincent LE GOFF, OpenClassrooms\n",
    "- Documents ressources du DIU EIL, Université de Nantes, Christophe DECLERCQ.\n",
    "- Fabrice Sincère : http://fsincere.free.fr/isn/python/cours_python_ch1.php\n",
    "\n",
    "---\n",
    "Germain BECKER & Sébastien POINT, Lycée Mounier, ANGERS ![Licence Creative Commons](https://i.creativecommons.org/l/by-nc-sa/4.0/88x31.png)"
   ]
  }
 ],
 "metadata": {
  "kernelspec": {
   "display_name": "Python 3",
   "language": "python",
   "name": "python3"
  },
  "language_info": {
   "codemirror_mode": {
    "name": "ipython",
    "version": 3
   },
   "file_extension": ".py",
   "mimetype": "text/x-python",
   "name": "python",
   "nbconvert_exporter": "python",
   "pygments_lexer": "ipython3",
   "version": "3.7.10"
  }
 },
 "nbformat": 4,
 "nbformat_minor": 2
}
