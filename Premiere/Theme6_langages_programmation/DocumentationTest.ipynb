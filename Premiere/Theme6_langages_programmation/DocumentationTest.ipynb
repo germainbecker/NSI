{
 "cells": [
  {
   "cell_type": "markdown",
   "metadata": {},
   "source": [
    "<h1 style=\"font-size:2.5em; text-align:center\">Documenter et tester un programme</h1>\n",
    "\n",
    "---"
   ]
  },
  {
   "cell_type": "markdown",
   "metadata": {},
   "source": [
    "\n",
    "# Introduction\n",
    "\n",
    "<img class=\"centre image-responsive\" src=\"data/documentation_mise_au_point.png\">\n",
    "\n",
    "Lorsqu'on *utilise* une fonction, il n'est pas utile de connaître ni même de comprendre le code qui la définit mais on a absolument besoin de connaître son rôle, autrement dit de savoir ce que *fait* cette fonction. Cela signifie que le programmeur ne peut donc pas se contenter d'écrire uniquement le code de la fonction mais il doit s'assurer d'**expliquer ce que fait son programme** afin que d'autres puissent l'utiliser : pour cela, le programmeur doit créer une **documentation**.\n",
    "\n",
    "De plus, pour écrire sa fonction, le programmeur doit s'assurer que **son programme se comporte convenablement**, autrement dit que la fonction renvoie la (ou les) valeur(s) attendue(s), et ce quelles que soient les valeurs (admissibles) des paramètres. Pour cela, le programmeur doit écrire un ou plusieurs **jeux de tests** et s'assurer que les tests passent avec succès. C'est une étape importante voire cruciale s'il s'agit par exemple d'un programme intervenant dans le pilotage d'un avion.\n",
    "\n",
    "Vous aller découvrir dans ce chapitre les bonnes pratiques qui permettent au programmeur d'effectuer ces deux tâches."
   ]
  },
  {
   "cell_type": "markdown",
   "metadata": {},
   "source": [
    "# Que « fait » un programme ?\n",
    "\n",
    "Considérons la fonction Python suivante qui a été codée par l'un de vos camarades et que vous devez utiliser dans votre projet."
   ]
  },
  {
   "cell_type": "code",
   "execution_count": 1,
   "metadata": {},
   "outputs": [],
   "source": [
    "def f(x, n):\n",
    "    r = 1\n",
    "    for i in range(n):\n",
    "        r = r * x\n",
    "    return r"
   ]
  },
  {
   "cell_type": "markdown",
   "metadata": {},
   "source": [
    "En la recevant telle quelle, il n'est pas évident que vous sachiez à quoi elle sert. En l'analysant un peu il est possible de comprendre ce que fait cette fonction mais on n'en a pas toujours ni le temps ni l'envie (surtout si ce n'est pas notre travail !)\n",
    "\n",
    "> <span style=\"font-size:1.5em\">🤔</span> Alors, elle fait quoi selon vous ?\n",
    "\n",
    "Ainsi, le version ci-dessous aurait déjà été plus parlante :"
   ]
  },
  {
   "cell_type": "code",
   "execution_count": 2,
   "metadata": {},
   "outputs": [],
   "source": [
    "def puissance(x, n):\n",
    "    r = 1\n",
    "    for i in range(n):\n",
    "        r = r * x\n",
    "    return r"
   ]
  },
  {
   "cell_type": "markdown",
   "metadata": {},
   "source": [
    "Un nommage explicite est donc une première (bonne) étape mais elle n'est pas suffisante. En effet, on se doute désormais que cette fonction calcule une puissance mais c'est à peu près tout : \n",
    "\n",
    "- est-ce $x^n$ ? ou  $n^x$ ? ou autre chose ? ...\n",
    "- est-ce que cela marche pour n'importe quelles valeurs de `x` et de `n` ? ..."
   ]
  },
  {
   "cell_type": "markdown",
   "metadata": {},
   "source": [
    "# Documenter son programme\n",
    "\n",
    "La bonne pratique pour un codeur est de toujours expliquer son programme (ici sa fonction). Pour cela, une première méthode peut consister à commenter son code de la façon suivante."
   ]
  },
  {
   "cell_type": "code",
   "execution_count": 3,
   "metadata": {},
   "outputs": [],
   "source": [
    "# fonction qui renvoie la valeur de x^n\n",
    "def puissance(x, n):\n",
    "    r = 1\n",
    "    for i in range(n):\n",
    "        r = r * x\n",
    "    return r"
   ]
  },
  {
   "cell_type": "markdown",
   "metadata": {},
   "source": [
    "Cela donne l'information à celui qui a accès au code mais pas aux autres : si par exemple cette fonction appartient à une bibliothèque que l'on importe, nous n'avons pas directement accès au code de la fonction ni à ce commentaire et donc nous ne serions pas beaucoup plus avancé..."
   ]
  },
  {
   "cell_type": "markdown",
   "metadata": {},
   "source": [
    "## Écrire son propre texte d'aide dans la *chaîne de documentation*\n",
    "\n",
    "Il existe une meilleure façon d'expliquer son code. Pour cela, on associera une *documentation* à notre fonction sous la forme d'une chaîne de caractères écrites entre triples guillemets. "
   ]
  },
  {
   "cell_type": "code",
   "execution_count": 4,
   "metadata": {},
   "outputs": [],
   "source": [
    "def puissance(x, n):\n",
    "    \"\"\"\n",
    "    Renvoie la valeur de x^n.\n",
    "    \"\"\"\n",
    "    r = 1\n",
    "    for i in range(n):\n",
    "        r = r * x\n",
    "    return r"
   ]
  },
  {
   "cell_type": "markdown",
   "metadata": {},
   "source": [
    "On appelle cela la **chaîne de documentation** de la fonction (ou **docstring** en anglais). En procédant ainsi, le programmeur de la fonction permet à quiconque d'afficher cette chaîne de caractères en utilisant la fonction `help`."
   ]
  },
  {
   "cell_type": "code",
   "execution_count": 5,
   "metadata": {
    "scrolled": true
   },
   "outputs": [
    {
     "name": "stdout",
     "output_type": "stream",
     "text": [
      "Help on function puissance in module __main__:\n",
      "\n",
      "puissance(x, n)\n",
      "    Renvoie la valeur de x^n.\n",
      "\n"
     ]
    }
   ],
   "source": [
    "help(puissance)"
   ]
  },
  {
   "cell_type": "markdown",
   "metadata": {},
   "source": [
    "Vous pouvez essayer d'afficher la docstring de fonctions connues."
   ]
  },
  {
   "cell_type": "code",
   "execution_count": 6,
   "metadata": {},
   "outputs": [
    {
     "name": "stdout",
     "output_type": "stream",
     "text": [
      "Help on built-in function abs in module builtins:\n",
      "\n",
      "abs(x, /)\n",
      "    Return the absolute value of the argument.\n",
      "\n"
     ]
    }
   ],
   "source": [
    "help(abs)  # abs est la fonction valeur absolue"
   ]
  },
  {
   "cell_type": "code",
   "execution_count": 7,
   "metadata": {},
   "outputs": [
    {
     "name": "stdout",
     "output_type": "stream",
     "text": [
      "Help on built-in function len in module builtins:\n",
      "\n",
      "len(obj, /)\n",
      "    Return the number of items in a container.\n",
      "\n"
     ]
    }
   ],
   "source": [
    "help(len)"
   ]
  },
  {
   "cell_type": "markdown",
   "metadata": {},
   "source": [
    "Maintenant que l'on sait mieux ce que fait cette fonction on peut facilement l'utiliser pour calculer par exemple $2^3$, $\\left(\\dfrac{1}{2}\\right)^2$, $(-2)^5$ :"
   ]
  },
  {
   "cell_type": "code",
   "execution_count": 8,
   "metadata": {},
   "outputs": [
    {
     "data": {
      "text/plain": [
       "8"
      ]
     },
     "execution_count": 8,
     "metadata": {},
     "output_type": "execute_result"
    }
   ],
   "source": [
    "puissance(2, 3) # renvoie bien la valeur de 2^3"
   ]
  },
  {
   "cell_type": "code",
   "execution_count": 9,
   "metadata": {},
   "outputs": [
    {
     "data": {
      "text/plain": [
       "0.25"
      ]
     },
     "execution_count": 9,
     "metadata": {},
     "output_type": "execute_result"
    }
   ],
   "source": [
    "puissance(0.5, 2) # renvoie bien la valeur de (1/2)^2 = 1/4"
   ]
  },
  {
   "cell_type": "code",
   "execution_count": 10,
   "metadata": {},
   "outputs": [
    {
     "data": {
      "text/plain": [
       "-32"
      ]
     },
     "execution_count": 10,
     "metadata": {},
     "output_type": "execute_result"
    }
   ],
   "source": [
    "puissance(-2, 5) # renvoie bien la valeur de (-2)^5 = -32"
   ]
  },
  {
   "cell_type": "markdown",
   "metadata": {},
   "source": [
    "Cependant, en faisant d'autres tests on se rend vite compte que l'on ne peut pas calculer certaines puissances avec la fonction :"
   ]
  },
  {
   "cell_type": "code",
   "execution_count": 11,
   "metadata": {},
   "outputs": [
    {
     "data": {
      "text/plain": [
       "1"
      ]
     },
     "execution_count": 11,
     "metadata": {},
     "output_type": "execute_result"
    }
   ],
   "source": [
    "puissance(2, -3)  # ne renvoie pas la valeur de 2^(-3) = 1/8"
   ]
  },
  {
   "cell_type": "code",
   "execution_count": 12,
   "metadata": {},
   "outputs": [
    {
     "ename": "TypeError",
     "evalue": "'float' object cannot be interpreted as an integer",
     "output_type": "error",
     "traceback": [
      "\u001b[1;31m---------------------------------------------------------------------------\u001b[0m",
      "\u001b[1;31mTypeError\u001b[0m                                 Traceback (most recent call last)",
      "\u001b[1;32m<ipython-input-12-de97611f6342>\u001b[0m in \u001b[0;36m<module>\u001b[1;34m\u001b[0m\n\u001b[1;32m----> 1\u001b[1;33m \u001b[0mpuissance\u001b[0m\u001b[1;33m(\u001b[0m\u001b[1;36m4\u001b[0m\u001b[1;33m,\u001b[0m \u001b[1;36m1\u001b[0m\u001b[1;33m/\u001b[0m\u001b[1;36m2\u001b[0m\u001b[1;33m)\u001b[0m \u001b[1;31m# ne renvoie pas la valeur de 4^(1/2) = 2 mais lève une erreur\u001b[0m\u001b[1;33m\u001b[0m\u001b[1;33m\u001b[0m\u001b[0m\n\u001b[0m",
      "\u001b[1;32m<ipython-input-4-81cdac8eae66>\u001b[0m in \u001b[0;36mpuissance\u001b[1;34m(x, n)\u001b[0m\n\u001b[0;32m      4\u001b[0m     \"\"\"\n\u001b[0;32m      5\u001b[0m     \u001b[0mr\u001b[0m \u001b[1;33m=\u001b[0m \u001b[1;36m1\u001b[0m\u001b[1;33m\u001b[0m\u001b[1;33m\u001b[0m\u001b[0m\n\u001b[1;32m----> 6\u001b[1;33m     \u001b[1;32mfor\u001b[0m \u001b[0mi\u001b[0m \u001b[1;32min\u001b[0m \u001b[0mrange\u001b[0m\u001b[1;33m(\u001b[0m\u001b[0mn\u001b[0m\u001b[1;33m)\u001b[0m\u001b[1;33m:\u001b[0m\u001b[1;33m\u001b[0m\u001b[1;33m\u001b[0m\u001b[0m\n\u001b[0m\u001b[0;32m      7\u001b[0m         \u001b[0mr\u001b[0m \u001b[1;33m=\u001b[0m \u001b[0mr\u001b[0m \u001b[1;33m*\u001b[0m \u001b[0mx\u001b[0m\u001b[1;33m\u001b[0m\u001b[1;33m\u001b[0m\u001b[0m\n\u001b[0;32m      8\u001b[0m     \u001b[1;32mreturn\u001b[0m \u001b[0mr\u001b[0m\u001b[1;33m\u001b[0m\u001b[1;33m\u001b[0m\u001b[0m\n",
      "\u001b[1;31mTypeError\u001b[0m: 'float' object cannot be interpreted as an integer"
     ]
    }
   ],
   "source": [
    "puissance(4, 1/2) # ne renvoie pas la valeur de 4^(1/2) = 2 mais lève une erreur"
   ]
  },
  {
   "cell_type": "markdown",
   "metadata": {},
   "source": [
    "## Être précis dans sa documentation\n",
    "\n",
    "L'objectif d'une **chaîne de documentation** est d'être courte mais aussi *précise*. \n",
    "\n",
    "On voit sur les deux derniers appels que la fonction ne permet pas de calculer correctement une puissance si l'exposant est négatif ou si l'exposant n'est pas entier. La chaîne de documentation de la fonction n'était donc pas assez précise.\n",
    "\n",
    "De manière générale, la chaîne de documentation d'une fonction doit contenir sa **spécification**, c'est-à-dire :\n",
    "\n",
    "- son __rôle__\n",
    "- les paramètres ainsi que les valeurs acceptées de ces paramètres (= **précondition**)\n",
    "- la (les) valeur(s) qu'elle renvoie ainsi que d'éventuelles conditions sur ces valeurs (= **postcondition**)\n",
    "\n",
    "\n",
    "Ainsi, la version suivante de notre chaine de documentation est bien meilleure car elle indique quelles sont les conditions (sur les paramètres) d'utilisation de la fonction."
   ]
  },
  {
   "cell_type": "code",
   "execution_count": 13,
   "metadata": {},
   "outputs": [],
   "source": [
    "def puissance(x, n):\n",
    "    \"\"\"\n",
    "    Renvoie la valeur de x^n, où x est un flottant et n est un entier positif ou nul.\n",
    "    \"\"\"\n",
    "    r = 1\n",
    "    for i in range(n):\n",
    "        r = r * x\n",
    "    return r"
   ]
  },
  {
   "cell_type": "markdown",
   "metadata": {},
   "source": [
    "Ou encore, de manière plus \"professionnelle\", on peut écrire :"
   ]
  },
  {
   "cell_type": "code",
   "execution_count": 14,
   "metadata": {},
   "outputs": [],
   "source": [
    "def puissance(x, n):\n",
    "    \"\"\"\n",
    "    Renvoie la valeur de x^n.\n",
    "    \n",
    "    Paramètres\n",
    "    ----------    \n",
    "        x : float\n",
    "        n : int\n",
    "            n doit être positif ou nul\n",
    "    \"\"\"\n",
    "    r = 1\n",
    "    for i in range(n):\n",
    "        r = r * x\n",
    "    return r"
   ]
  },
  {
   "cell_type": "markdown",
   "metadata": {},
   "source": [
    "> <span style=\"font-size:1.5em\">✍️</span> **À FAIRE :** Exercices 1 et 2"
   ]
  },
  {
   "cell_type": "markdown",
   "metadata": {},
   "source": [
    "# Programmation défensive\n",
    "\n",
    "Si une fonction est bien documentée et qu'elle est correcte, on peut considérer que le travail du programmeur (de la fonction) a été fait correctement. Cependant, rien n'empêche d'utiliser cette fonction avec des paramètres d'entrée ne respectant pas les préconditions définies dans la docstring : mais l'erreur incombe alors à l'utilisateur qui, soit n'a pas lu correctement la documentation, soit a volontairement testé la fonction avec des valeurs non admises.\n",
    "\n",
    "Pour parer à cela, le programmeur a la possibilité d'utiliser la construction `assert` suivie d'une condition à tester.\n",
    "\n",
    "Si cette condition est vraie, alors il ne se passe rien et le programme poursuit son exécution :"
   ]
  },
  {
   "cell_type": "code",
   "execution_count": 15,
   "metadata": {},
   "outputs": [
    {
     "name": "stdout",
     "output_type": "stream",
     "text": [
      "-2\n"
     ]
    }
   ],
   "source": [
    "# Cas d'un test valide\n",
    "a = -2\n",
    "assert a < 0\n",
    "print(a)  # est exécuté car l'assertion précédente est vraie"
   ]
  },
  {
   "cell_type": "markdown",
   "metadata": {},
   "source": [
    "En revanche, si la condition est fausse, alors une erreur (de type `AssetionError`, soit *erreur d'assertion*) est détectée et stoppe l'exécution du reste du programme.\n",
    "\n",
    "Par exemple, le test invalide suivant produit l'affichage d'un message d'erreur et stoppe le programme (ici la dernière ligne n'est pas exécutée)"
   ]
  },
  {
   "cell_type": "code",
   "execution_count": 16,
   "metadata": {},
   "outputs": [
    {
     "ename": "AssertionError",
     "evalue": "",
     "output_type": "error",
     "traceback": [
      "\u001b[1;31m---------------------------------------------------------------------------\u001b[0m",
      "\u001b[1;31mAssertionError\u001b[0m                            Traceback (most recent call last)",
      "\u001b[1;32m<ipython-input-16-2b60d98e5060>\u001b[0m in \u001b[0;36m<module>\u001b[1;34m\u001b[0m\n\u001b[0;32m      1\u001b[0m \u001b[1;31m# Cas d'un test invalide\u001b[0m\u001b[1;33m\u001b[0m\u001b[1;33m\u001b[0m\u001b[1;33m\u001b[0m\u001b[0m\n\u001b[0;32m      2\u001b[0m \u001b[0ma\u001b[0m \u001b[1;33m=\u001b[0m \u001b[1;33m-\u001b[0m\u001b[1;36m2\u001b[0m\u001b[1;33m\u001b[0m\u001b[1;33m\u001b[0m\u001b[0m\n\u001b[1;32m----> 3\u001b[1;33m \u001b[1;32massert\u001b[0m \u001b[0ma\u001b[0m \u001b[1;33m>=\u001b[0m \u001b[1;36m0\u001b[0m\u001b[1;33m\u001b[0m\u001b[1;33m\u001b[0m\u001b[0m\n\u001b[0m\u001b[0;32m      4\u001b[0m \u001b[0mprint\u001b[0m\u001b[1;33m(\u001b[0m\u001b[0ma\u001b[0m\u001b[1;33m)\u001b[0m  \u001b[1;31m# n'est pas exécuté car l'assertion précédente est fausse\u001b[0m\u001b[1;33m\u001b[0m\u001b[1;33m\u001b[0m\u001b[0m\n",
      "\u001b[1;31mAssertionError\u001b[0m: "
     ]
    }
   ],
   "source": [
    "# Cas d'un test invalide\n",
    "a = -2\n",
    "assert a >= 0\n",
    "print(a)  # n'est pas exécuté car l'assertion précédente est fausse"
   ]
  },
  {
   "cell_type": "markdown",
   "metadata": {},
   "source": [
    "On peut faire suivre la condition à tester d'un message pour expliquer l'erreur "
   ]
  },
  {
   "cell_type": "code",
   "execution_count": 17,
   "metadata": {},
   "outputs": [
    {
     "ename": "AssertionError",
     "evalue": "le nombre a n'est pas positif",
     "output_type": "error",
     "traceback": [
      "\u001b[1;31m---------------------------------------------------------------------------\u001b[0m",
      "\u001b[1;31mAssertionError\u001b[0m                            Traceback (most recent call last)",
      "\u001b[1;32m<ipython-input-17-c989dabdadf5>\u001b[0m in \u001b[0;36m<module>\u001b[1;34m\u001b[0m\n\u001b[0;32m      1\u001b[0m \u001b[1;31m# ajout du message à afficher en cas d'erreur\u001b[0m\u001b[1;33m\u001b[0m\u001b[1;33m\u001b[0m\u001b[1;33m\u001b[0m\u001b[0m\n\u001b[0;32m      2\u001b[0m \u001b[0ma\u001b[0m \u001b[1;33m=\u001b[0m \u001b[1;33m-\u001b[0m\u001b[1;36m2\u001b[0m\u001b[1;33m\u001b[0m\u001b[1;33m\u001b[0m\u001b[0m\n\u001b[1;32m----> 3\u001b[1;33m \u001b[1;32massert\u001b[0m \u001b[0ma\u001b[0m \u001b[1;33m>=\u001b[0m \u001b[1;36m0\u001b[0m\u001b[1;33m,\u001b[0m \u001b[1;34m\"le nombre a n'est pas positif\"\u001b[0m\u001b[1;33m\u001b[0m\u001b[1;33m\u001b[0m\u001b[0m\n\u001b[0m",
      "\u001b[1;31mAssertionError\u001b[0m: le nombre a n'est pas positif"
     ]
    }
   ],
   "source": [
    "# ajout du message à afficher en cas d'erreur\n",
    "a = -2\n",
    "assert a >= 0, \"le nombre a n'est pas positif\""
   ]
  },
  {
   "cell_type": "markdown",
   "metadata": {},
   "source": [
    "On pourrait donc utiliser ce mécanisme d'assertion dans notre fonction `puissance(x, n)` de la façon suivante."
   ]
  },
  {
   "cell_type": "code",
   "execution_count": 18,
   "metadata": {},
   "outputs": [],
   "source": [
    "def puissance(x, n):\n",
    "    \"\"\"\n",
    "    Renvoie la valeur de x^n, où x est un flottant et n est un entier positif ou nul.\n",
    "    \"\"\"\n",
    "    assert type(n) == int and n >= 0, \"n n'est pas un entier positif ou nul\"\n",
    "    r = 1\n",
    "    for i in range(n):\n",
    "        r = r * x\n",
    "    return r"
   ]
  },
  {
   "cell_type": "markdown",
   "metadata": {},
   "source": [
    "Avant l'écriture du corps de la fonction, on a ajouté une assertion (ligne 5) qui va au préalable tester si le paramètre `n` est bien un entier et que c'est bien un entier positif. Si ce n'est pas le cas, la fonction est interrompue (à la ligne 5) et le message d'erreur sera affiché (sinon, le programme se poursuit)."
   ]
  },
  {
   "cell_type": "code",
   "execution_count": 19,
   "metadata": {},
   "outputs": [
    {
     "ename": "AssertionError",
     "evalue": "n n'est pas un entier positif ou nul",
     "output_type": "error",
     "traceback": [
      "\u001b[1;31m---------------------------------------------------------------------------\u001b[0m",
      "\u001b[1;31mAssertionError\u001b[0m                            Traceback (most recent call last)",
      "\u001b[1;32m<ipython-input-19-04dc12ea1cf6>\u001b[0m in \u001b[0;36m<module>\u001b[1;34m\u001b[0m\n\u001b[1;32m----> 1\u001b[1;33m \u001b[0mpuissance\u001b[0m\u001b[1;33m(\u001b[0m\u001b[1;36m2\u001b[0m\u001b[1;33m,\u001b[0m \u001b[1;33m-\u001b[0m\u001b[1;36m3\u001b[0m\u001b[1;33m)\u001b[0m  \u001b[1;31m# précondition non vérifiée\u001b[0m\u001b[1;33m\u001b[0m\u001b[1;33m\u001b[0m\u001b[0m\n\u001b[0m",
      "\u001b[1;32m<ipython-input-18-36877ddaacf4>\u001b[0m in \u001b[0;36mpuissance\u001b[1;34m(x, n)\u001b[0m\n\u001b[0;32m      3\u001b[0m     \u001b[0mRenvoie\u001b[0m \u001b[0mla\u001b[0m \u001b[0mvaleur\u001b[0m \u001b[0mde\u001b[0m \u001b[0mx\u001b[0m\u001b[1;33m^\u001b[0m\u001b[0mn\u001b[0m\u001b[1;33m,\u001b[0m \u001b[0moù\u001b[0m \u001b[0mx\u001b[0m \u001b[0mest\u001b[0m \u001b[0mun\u001b[0m \u001b[0mflottant\u001b[0m \u001b[0met\u001b[0m \u001b[0mn\u001b[0m \u001b[0mest\u001b[0m \u001b[0mun\u001b[0m \u001b[0mentier\u001b[0m \u001b[0mpositif\u001b[0m \u001b[0mou\u001b[0m \u001b[0mnul\u001b[0m\u001b[1;33m.\u001b[0m\u001b[1;33m\u001b[0m\u001b[1;33m\u001b[0m\u001b[0m\n\u001b[0;32m      4\u001b[0m     \"\"\"\n\u001b[1;32m----> 5\u001b[1;33m     \u001b[1;32massert\u001b[0m \u001b[0mtype\u001b[0m\u001b[1;33m(\u001b[0m\u001b[0mn\u001b[0m\u001b[1;33m)\u001b[0m \u001b[1;33m==\u001b[0m \u001b[0mint\u001b[0m \u001b[1;32mand\u001b[0m \u001b[0mn\u001b[0m \u001b[1;33m>=\u001b[0m \u001b[1;36m0\u001b[0m\u001b[1;33m,\u001b[0m \u001b[1;34m\"n n'est pas un entier positif ou nul\"\u001b[0m\u001b[1;33m\u001b[0m\u001b[1;33m\u001b[0m\u001b[0m\n\u001b[0m\u001b[0;32m      6\u001b[0m     \u001b[0mr\u001b[0m \u001b[1;33m=\u001b[0m \u001b[1;36m1\u001b[0m\u001b[1;33m\u001b[0m\u001b[1;33m\u001b[0m\u001b[0m\n\u001b[0;32m      7\u001b[0m     \u001b[1;32mfor\u001b[0m \u001b[0mi\u001b[0m \u001b[1;32min\u001b[0m \u001b[0mrange\u001b[0m\u001b[1;33m(\u001b[0m\u001b[0mn\u001b[0m\u001b[1;33m)\u001b[0m\u001b[1;33m:\u001b[0m\u001b[1;33m\u001b[0m\u001b[1;33m\u001b[0m\u001b[0m\n",
      "\u001b[1;31mAssertionError\u001b[0m: n n'est pas un entier positif ou nul"
     ]
    }
   ],
   "source": [
    "puissance(2, -3)  # précondition non vérifiée"
   ]
  },
  {
   "cell_type": "code",
   "execution_count": 20,
   "metadata": {},
   "outputs": [
    {
     "data": {
      "text/plain": [
       "8"
      ]
     },
     "execution_count": 20,
     "metadata": {},
     "output_type": "execute_result"
    }
   ],
   "source": [
    "puissance(2, 3)  # précondition vérifiée"
   ]
  },
  {
   "cell_type": "markdown",
   "metadata": {},
   "source": [
    "En écrivant cette assertion, le programmeur teste au préalable si les *préconditions sont valides* avant d'exécuter le reste du programme. On parle alors de *programmation défensive*."
   ]
  },
  {
   "cell_type": "markdown",
   "metadata": {},
   "source": [
    "> **Remarque :** il est possible de combiner plusieurs assertions. Par exemple, l'assertion précédente aurait pu être \"séparée\" en les deux assertions suivantes :\n",
    ">```python\n",
    ">assert type(n) == int, \"n n'est pas un entier\"\n",
    ">assert n >= 0, \"n n'est pas positif\"\n",
    ">```"
   ]
  },
  {
   "cell_type": "markdown",
   "metadata": {},
   "source": [
    "> <span style=\"font-size:1.5em\">✍️</span> **À FAIRE :** Exercices 3 et 4"
   ]
  },
  {
   "cell_type": "markdown",
   "metadata": {},
   "source": [
    "# Tester ses programmes pour (se) convaincre\n",
    "\n",
    "On peut tout à fait avoir bien spécifié et documenté sa fonction sans que celle-ci ne fonctionne comme prévu. En effet, il n'est pas rare de se tromper dans le code. Pour repérer les éventuelles erreurs, le programmeur peut utiliser sa fonction sur des cas concrets et vérifier que celle-ci renvoie la (ou les) bonne(s) valeur(s). On appelle cela le *test*."
   ]
  },
  {
   "cell_type": "markdown",
   "metadata": {},
   "source": [
    "## Utiliser des jeux de tests\n",
    "\n",
    "Plutôt que de faire les tests manuellement un par un, il est possible d'utiliser la construction `assert` directement dans le fichier contenant le programme."
   ]
  },
  {
   "cell_type": "code",
   "execution_count": 21,
   "metadata": {},
   "outputs": [],
   "source": [
    "def puissance(x, n):\n",
    "    \"\"\"\n",
    "    Renvoie la valeur de x^n, où x est un flottant et n est un entier positif ou nul.\n",
    "    \"\"\"\n",
    "    r = 1\n",
    "    for i in range(n):\n",
    "        r = r * x\n",
    "    return r\n",
    "\n",
    "# jeu de tests :\n",
    "assert puissance(2, 3) == 8\n",
    "assert puissance(0, 2) == 0\n",
    "assert puissance(5, 0) == 1\n",
    "assert puissance(-2, 5) == -32\n",
    "assert puissance(0.5, 2) == 0.25"
   ]
  },
  {
   "cell_type": "markdown",
   "metadata": {},
   "source": [
    "Si l'un de ces tests échoue, un message indique le premier échec et la fonction doit être corrigée. Une fois que la correction a été faite, il faut relancer *tous* les tests. En effet, en corrigeant la fonction il est possible d'introduire une autre erreur (et donc qu'un des tests qui passait avec succès, échoue avec la correction apportée)."
   ]
  },
  {
   "cell_type": "markdown",
   "metadata": {},
   "source": [
    "## Écrire ses tests avant le code de la fonction\n",
    "\n",
    "Une pratique courante consiste à **écrire des tests *avant* même d'écrire le code de la fonction**. \n",
    "\n",
    "En effet, si la spécification de la fonction est claire, on sait quel doit être le comportement de celle-ci. Par exemple, supposons que l'on veuille écrire une fonction `appartient(v, T)` dont la spécification, écrite dans sa docstring, est la suivante :\n",
    "\n",
    "```python\n",
    "def appartient(v, t):\n",
    "    \"\"\"\n",
    "    Renvoie True si l'entier v appartient à tableau d'entiers t, et False sinon.\n",
    "    \"\"\"\n",
    "    # CODE A ECRIRE\n",
    "```\n",
    "On connaît son comportement et on peut tout suite écrire les tests suivants."
   ]
  },
  {
   "cell_type": "code",
   "execution_count": null,
   "metadata": {
    "scrolled": true
   },
   "outputs": [],
   "source": [
    "def appartient(v, t):\n",
    "    \"\"\"\n",
    "    Renvoie True si l'entier v appartient à tableau d'entiers t, et False sinon.\n",
    "    \"\"\"\n",
    "    # CODE DE LA FONCTION À ÉCRIRE\n",
    "\n",
    "    \n",
    "# jeu de tests\n",
    "assert appartient(2, [2, 4, 7, 5]) == True\n",
    "assert appartient(2, [0, 4, 7, 5]) == False\n",
    "assert appartient(2, [2]) == True"
   ]
  },
  {
   "cell_type": "markdown",
   "metadata": {},
   "source": [
    "Ensuite, on peut écrire le code de la fonction et exécuter le programme. Si l'un des tests échoue on est certain d'avoir fait une erreur et il faut la corriger. Cependant, si tous nos tests *passent*, nous ne sommes pas sûr que notre fonction est bien écrite pour autant."
   ]
  },
  {
   "cell_type": "markdown",
   "metadata": {},
   "source": [
    "## L'importance de la qualité du jeu de tests\n",
    "\n",
    "Il est souvent impossible d'écrire de manière exhaustive tous les tests possibles car il y en a bien souvent une infinité. Pour se convaincre que notre fonction est bien écrite, l'enjeu consiste donc à trouver un ensemble de tests qui couvrent les différents comportements du programme.\n",
    "\n",
    "Par exemple, avec le code suivant pour la fonction `appartient` aucun des tests proposés n'échoue."
   ]
  },
  {
   "cell_type": "code",
   "execution_count": 22,
   "metadata": {},
   "outputs": [],
   "source": [
    "def appartient(v, t):\n",
    "    \"\"\"\n",
    "    Renvoie True si l'entier v appartient à tableau d'entiers t, et False sinon.\n",
    "    \"\"\"\n",
    "    for i in range(len(t)):\n",
    "        if t[i] == v:\n",
    "            return True\n",
    "        else:\n",
    "            return False\n",
    "\n",
    "\n",
    "# jeu de tests\n",
    "assert appartient(2, [2, 4, 7, 5]) == True\n",
    "assert appartient(2, [0, 4, 7, 5]) == False\n",
    "assert appartient(2, [2]) == True"
   ]
  },
  {
   "cell_type": "markdown",
   "metadata": {},
   "source": [
    "Tous les tests de notre jeu de tests passent avec succès, super notre fonction est correcte ! 😎💪\n",
    "\n",
    "... Et pourtant, avec l'appel suivant c'est le drame ... 😲😱"
   ]
  },
  {
   "cell_type": "code",
   "execution_count": 23,
   "metadata": {},
   "outputs": [
    {
     "data": {
      "text/plain": [
       "False"
      ]
     },
     "execution_count": 23,
     "metadata": {},
     "output_type": "execute_result"
    }
   ],
   "source": [
    "appartient(2, [0, 4, 2, 5])"
   ]
  },
  {
   "cell_type": "markdown",
   "metadata": {},
   "source": [
    "Cet appel met en évidence que **le code de notre fonction est incorrect** puisque 2 appartient bien au tableau `[0, 4, 2, 5]`.\n",
    "\n",
    "Pire, l'appel ci-dessous ne renvoie rien alors qu'il devrait renvoyer `False` 😲😱..."
   ]
  },
  {
   "cell_type": "code",
   "execution_count": 24,
   "metadata": {},
   "outputs": [],
   "source": [
    "appartient(2, [])"
   ]
  },
  {
   "cell_type": "markdown",
   "metadata": {},
   "source": [
    "Notre code est donc (au moins) doublement incorrect !! Et pourtant tous les tests de notre jeu de tests sont passés avec succès... Cela montre que notre jeu de tests n'était pas bon et que la qualité du jeu de tests est primordiale !\n",
    "\n",
    "<blockquote class=\"question\">\n",
    "    <p>Mais qu'est-ce qu'un <em>bon</em> jeu de tests ?</p>\n",
    "</blockquote>\n",
    "\n",
    "Il n'est pas simple de définir ce qu'est un ***bon* jeu de tests** mais de  manière générale, voici quelques règles que l'on peut appliquer :\n",
    "\n",
    "- si la spécification mentionne plusieurs cas, il faut s'assurer de tous les tester ;\n",
    "- si la fonction renvoie un booléen, il faut s'assurer de tester les deux résultats possibles ;\n",
    "- si la fonction s'applique à un tableau, il faut tester le cas où le tableau est vide ;\n",
    "- si la fonction doit parcourir un tableau en entier, il faut s'assurer que celui-ci est parcouru entièrement ;\n",
    "- si la fonction s'applique à un nombre, il faut s'assurer de tester des cas où le nombre est positif, où le nombre négatif et où le nombre vaut zéro ;\n",
    "- si la fonction s'applique à un nombre appartenant à un intervalle, il faut s'assurer de tester les cas où le nombre est égal aux bornes de l'intervalle.\n",
    "\n",
    "> Essayons d'améliorer notre jeu de tests pour la fonction `appartient` en suivant ces préconisations !"
   ]
  },
  {
   "cell_type": "markdown",
   "metadata": {},
   "source": [
    "## Améliorer le jeu de tests\n",
    "\n",
    "Notre jeu de tests est pour le moment le suivant :\n",
    "\n",
    "```python\n",
    "# jeu de tests\n",
    "assert appartient(2, [2, 4, 7, 5]) == True\n",
    "assert appartient(2, [0, 4, 7, 5]) == False\n",
    "assert appartient(2, [2]) == True\n",
    "```\n",
    "\n",
    "On a bien écrit un test pour lequel la fonction renvoie `True` et un autre pour lequel la fonction renvoie `False`. On a pensé à faire un test pour un tableau particuler : celui réduit à un seul élément (le troisième test). Par ailleurs, nos deux tests pour lesquels la fonction renvoie `True` sont particuliers car à chaque fois la valeur `v` cherchée se trouve en première position (d'indice 0) dans le tableau.\n",
    "\n",
    "Améliorons cela en partant des deux appels `appartient(2, [0, 4, 2, 5])` et `appartient(2, [])` effectués précédemment et qui ont montré que notre fonction était incorrecte. Si on a analyse ces deux exemples, on se rend compte que :\n",
    "\n",
    "- notre fonction ne renvoie pas la bonne valeur dans le cas d'un tableau vide. Il faudra donc intégrer un test pour le cas très particulier du tableau vide :\n",
    "\n",
    "```python\n",
    "assert appartient(2, []) == False\n",
    "```\n",
    "\n",
    "- notre fonction ne renvoie pas la bonne valeur dans le cas où la valeur cherchée se trouve en \"milieu\" de tableau. On va intégrer un tel test à notre jeu de tests :\n",
    "\n",
    "```python\n",
    "assert appartient(2, [0, 4, 2, 5]) == True\n",
    "```\n",
    "\n",
    "Tant qu'à faire, on peut ajouter un dernier test où la valeur `v` se trouve en dernière position du tableau, ce qui est aussi un cas particulier à considérer. Voici donc le jeu tests amélioré proposé (qui ne passera pas avec succès puisque nous n'avons toujours pas modifié le code de notre fonction `appartient`) :\n"
   ]
  },
  {
   "cell_type": "code",
   "execution_count": null,
   "metadata": {},
   "outputs": [],
   "source": [
    "def appartient(v, t):\n",
    "    \"\"\"\n",
    "    Renvoie True si l'entier v appartient à tableau d'entiers t, et False sinon.\n",
    "    \"\"\"\n",
    "    for i in range(len(t)):\n",
    "        if t[i] == v:\n",
    "            return True\n",
    "        else:\n",
    "            return False\n",
    "\n",
    "# un meilleur jeu de tests :\n",
    "assert appartient(2, [2, 4, 7, 5]) == True\n",
    "assert appartient(2, [0, 4, 7, 5]) == False\n",
    "assert appartient(2, [2]) == True\n",
    "assert appartient(2, [0, 4, 2, 5]) == True  # cas où v est au \"milieu du tableau\"\n",
    "assert appartient(2, [0, 4, 5, 2]) == True  # cas où v est en dernière position\n",
    "assert appartient(2, []) == False  # cas du tableau vide"
   ]
  },
  {
   "cell_type": "markdown",
   "metadata": {},
   "source": [
    "> On va terminer en corrigeant notre fonction pour tous les tests soient validés !"
   ]
  },
  {
   "cell_type": "markdown",
   "metadata": {},
   "source": [
    "## Corriger sa fonction\n",
    "\n",
    "Il n'est pas toujours évident de trouver pourquoi notre code ne fonctionne pas. Les tests qui échouent nous donne cependant de précieux éléments sur les erreurs dans le programme. En effet, **c'est souvent en partant d'un test qui échoue que l'on trouve les erreurs en suivant l'état des variables**. \n",
    "\n",
    "Ceci peut se faire mentalement ou sur papier mais il également possible d'utiliser des outils numériques.\n",
    "\n",
    "### Première possibilité : afficher les valeurs de certaines variables\n",
    "\n",
    "Pour un programmeur débutant, la première idée à mettre en oeuvre est souvent d'afficher les valeurs de certaines variables à des endroits stratégiques du programme. Par exemple, on peut afficher la valeur de la variable `i` à chaque tour de boucle, et afficher le message `\"ici\"` ou `\"là\"` selon que l'on passe dans le `if` ou dans le `else` :"
   ]
  },
  {
   "cell_type": "code",
   "execution_count": 25,
   "metadata": {},
   "outputs": [],
   "source": [
    "def appartient(v, t):\n",
    "    \"\"\"\n",
    "    Renvoie True si l'entier v appartient à tableau d'entiers t, et False sinon.\n",
    "    \"\"\"\n",
    "    for i in range(1, len(t)):\n",
    "        print(\"i =\", i)\n",
    "        if t[i] == v:\n",
    "            print(\"ici\")\n",
    "            return True\n",
    "        else:\n",
    "            print(\"là\")\n",
    "            return False"
   ]
  },
  {
   "cell_type": "markdown",
   "metadata": {},
   "source": [
    "On utilise le premier appel qui posait problème :"
   ]
  },
  {
   "cell_type": "code",
   "execution_count": 26,
   "metadata": {},
   "outputs": [
    {
     "name": "stdout",
     "output_type": "stream",
     "text": [
      "i = 1\n",
      "là\n"
     ]
    },
    {
     "data": {
      "text/plain": [
       "False"
      ]
     },
     "execution_count": 26,
     "metadata": {},
     "output_type": "execute_result"
    }
   ],
   "source": [
    "appartient(2, [0, 4, 2, 5])"
   ]
  },
  {
   "cell_type": "markdown",
   "metadata": {},
   "source": [
    "On se rend compte que la variable `i` ne prend que la valeur `0`, autrement dit que l'on ne fait qu'un seul tour de boucle : le premier (celui d'indice `0`). De plus, lors de ce premier tour de boucle, on voit que le message `\"là\"` est affiché, autrement dit que l'on passe dans le `else`. Or, si on arrive dans le `else` notre fonction renvoie `False`.\n",
    "\n",
    "Or, il ne faut pas renvoyer `False` mais poursuivre la recherche si la valeur `v` n'est pas en première position (ni à une autre position d'ailleurs). On peut alors corriger notre programme en retirant le `else` et en renvoyant `False` **après** la boucle `for` !"
   ]
  },
  {
   "cell_type": "code",
   "execution_count": 27,
   "metadata": {},
   "outputs": [],
   "source": [
    "def appartient(v, t):\n",
    "    \"\"\"\n",
    "    Renvoie True si l'entier v appartient à tableau d'entiers t, et False sinon.\n",
    "    \"\"\"\n",
    "    for i in range(len(t)):\n",
    "        print(\"i =\", i)\n",
    "        if t[i] == v:\n",
    "            print(\"ici\")\n",
    "            return True\n",
    "    print(\"là\")\n",
    "    return False"
   ]
  },
  {
   "cell_type": "code",
   "execution_count": 28,
   "metadata": {},
   "outputs": [
    {
     "name": "stdout",
     "output_type": "stream",
     "text": [
      "i = 0\n",
      "i = 1\n",
      "i = 2\n",
      "ici\n"
     ]
    },
    {
     "data": {
      "text/plain": [
       "True"
      ]
     },
     "execution_count": 28,
     "metadata": {},
     "output_type": "execute_result"
    }
   ],
   "source": [
    "appartient(2, [0, 4, 2, 5])"
   ]
  },
  {
   "cell_type": "markdown",
   "metadata": {},
   "source": [
    "On peut essayer à nouveau notre jeu de tests (en enlevant les affichages) :"
   ]
  },
  {
   "cell_type": "code",
   "execution_count": 29,
   "metadata": {},
   "outputs": [],
   "source": [
    "def appartient(v, t):\n",
    "    \"\"\"\n",
    "    Renvoie True si l'entier v appartient à tableau d'entiers t, et False sinon.\n",
    "    \"\"\"\n",
    "    for i in range(len(t)):\n",
    "        if t[i] == v:\n",
    "            return True\n",
    "    return False\n",
    "\n",
    "# un meilleur jeu de tests :\n",
    "assert appartient(2, [2, 4, 7, 5]) == True\n",
    "assert appartient(2, [0, 4, 7, 5]) == False\n",
    "assert appartient(2, [2]) == True\n",
    "assert appartient(2, [0, 4, 2, 5]) == True  # cas où v est au \"milieu du tableau\"\n",
    "assert appartient(2, [0, 4, 5, 2]) == True  # cas où v est en dernière position\n",
    "assert appartient(2, []) == False  # cas du tableau vide"
   ]
  },
  {
   "cell_type": "markdown",
   "metadata": {},
   "source": [
    "Super, tous les tests passent avec succès, et comme notre jeu de tests couvre tous les cas particuliers, on peut considérer que notre fonction est *a priori* correcte 👍."
   ]
  },
  {
   "cell_type": "markdown",
   "metadata": {},
   "source": [
    "### Deuxième possibilité : exécuter un programme ligne par ligne\n",
    "\n",
    "Il existe des outils efficaces permettant d'exécuter ligne par ligne un programme pour y déceler une erreur. L'un d'entre eux se nomme *Python tutor*. Il n'est alors plus nécessaire d'utiliser des `print` pour faire des affichages.\n",
    "\n",
    "Voici <a href=\"https://pythontutor.com/visualize.html#code=def%20appartient%28v,%20t%29%3A%0A%20%20%20%20%22%22%22%0A%20%20%20%20Renvoie%20True%20si%20v%20appartient%20%C3%A0%20t,%20et%20False%20sinon.%0A%20%20%20%20%22%22%22%0A%20%20%20%20for%20i%20in%20range%28len%28t%29%29%3A%0A%20%20%20%20%20%20%20%20print%28i%29%0A%20%20%20%20%20%20%20%20if%20t%5Bi%5D%20%3D%3D%20v%3A%0A%20%20%20%20%20%20%20%20%20%20%20%20return%20True%0A%20%20%20%20%20%20%20%20else%3A%0A%20%20%20%20%20%20%20%20%20%20%20%20return%20False%0A%0Aappartient%282,%20%5B0,%204,%202,%205%5D%29&cumulative=false&curInstr=0&heapPrimitives=nevernest&mode=display&origin=opt-frontend.js&py=3&rawInputLstJSON=%5B%5D&textReferences=false\" target=\"_blank\">un lien vers Python tutor</a> pour exécuter l'appel `appartient(2, [0, 4, 2, 5])` avec la version incorrecte de la fonction `appartient`. On peut alors suivre les exécutions ligne après ligne pour se rendre compte qu'il n'y a qu'un seul tour de boucle avec renvoi de la valeur `False` dès ce premier tour.\n"
   ]
  },
  {
   "cell_type": "markdown",
   "metadata": {},
   "source": [
    "### Troisième possibilité : utiliser des outils de débogage\n",
    "\n",
    "Enfin, les IDE les plus récents proposent généralement des *débogueurs* (ou *debugger*) qui permettent d'exécuter les programmes ligne par ligne et d'insérer des *points d'arrêts* pour stopper l'exécution du programme à certains endroits. On peut ainsi suivre les valeurs des variables pas à pas pour trouver la ou les erreurs."
   ]
  },
  {
   "cell_type": "markdown",
   "metadata": {},
   "source": [
    "> <span style=\"font-size:1.5em\">✍️</span> **À FAIRE :** Exercices 5, 6, 7 et 8"
   ]
  },
  {
   "cell_type": "markdown",
   "metadata": {},
   "source": [
    "## Intégration des tests à la chaîne de documentation\n",
    "\n",
    "Choisir et vérifier des tests pertinents est un travail précieux, dont il est important de garder une trace. De plus, des tests bien choisis peuvent constituer une explication très efficace de l'effet d'une fonction.\n",
    "\n",
    "Une pratique fréquente est d'inclure une série de tests directement dans la chaîne d'aide d'une fonction."
   ]
  },
  {
   "cell_type": "code",
   "execution_count": 30,
   "metadata": {},
   "outputs": [],
   "source": [
    "def puissance(x, n):\n",
    "    '''\n",
    "    Renvoie la valeur de x^n, où n est un entier positif ou nul\n",
    "    \n",
    "    >>> puissance(2, 3)\n",
    "    8\n",
    "    \n",
    "    >>> puissance(0, 2)\n",
    "    0\n",
    "    \n",
    "    >>> puissance(5, 0)\n",
    "    1\n",
    "    \n",
    "    >>> puissance(-2, 5)\n",
    "    -32\n",
    "    \n",
    "    >>> puissance(0.5, 2)\n",
    "    0.25\n",
    "    \n",
    "    etc.\n",
    "    \n",
    "    '''\n",
    "    r = 1\n",
    "    for i in range(n):\n",
    "        r = r * x\n",
    "    return r"
   ]
  },
  {
   "cell_type": "markdown",
   "metadata": {},
   "source": [
    "Par convention, les tests prennent la forme d'expressions Python précédées de la syntaxe `>>>`, qui représente l'invite de commande de l'interpréteur Python classique. Chaque expression est suivi de l'affichage (éventuellement vide) qui serait provoqué si elle était évaluée dans l'interpréteur."
   ]
  },
  {
   "cell_type": "markdown",
   "metadata": {},
   "source": [
    "## Extraction et vérification automatique de tests : le module *doctest*\n",
    "\n",
    "Un outil prédéfini, accessible par le biais du module `doctest`, permet d'extraire automatiquement et de vérifier chacun des tests présents dans les chaînes de documentation, dans toutes les fonctions d'un module par exemple (par défaut, les tests du module courant sont extraits et vérifiés)."
   ]
  },
  {
   "cell_type": "code",
   "execution_count": 31,
   "metadata": {},
   "outputs": [],
   "source": [
    "import doctest"
   ]
  },
  {
   "cell_type": "code",
   "execution_count": 32,
   "metadata": {},
   "outputs": [
    {
     "data": {
      "text/plain": [
       "TestResults(failed=0, attempted=5)"
      ]
     },
     "execution_count": 32,
     "metadata": {},
     "output_type": "execute_result"
    }
   ],
   "source": [
    "doctest.testmod()"
   ]
  },
  {
   "cell_type": "markdown",
   "metadata": {},
   "source": [
    "Ici, il n'y a qu'une fonction qui contient des tests inclus dans sa chaîne de documentation. On se rend compte que les 5 tests pour la fonction `puissance(x, n)` sont passés avec succès.\n",
    "\n",
    "Il est possible d'ajouter un paramètre optionnel à la fonction `testmod` afin d'obtenir plus d'informations sur les tests effectués, même en cas de succès."
   ]
  },
  {
   "cell_type": "code",
   "execution_count": 33,
   "metadata": {},
   "outputs": [
    {
     "name": "stdout",
     "output_type": "stream",
     "text": [
      "Trying:\n",
      "    puissance(2, 3)\n",
      "Expecting:\n",
      "    8\n",
      "ok\n",
      "Trying:\n",
      "    puissance(0, 2)\n",
      "Expecting:\n",
      "    0\n",
      "ok\n",
      "Trying:\n",
      "    puissance(5, 0)\n",
      "Expecting:\n",
      "    1\n",
      "ok\n",
      "Trying:\n",
      "    puissance(-2, 5)\n",
      "Expecting:\n",
      "    -32\n",
      "ok\n",
      "Trying:\n",
      "    puissance(0.5, 2)\n",
      "Expecting:\n",
      "    0.25\n",
      "ok\n",
      "3 items had no tests:\n",
      "    __main__\n",
      "    __main__.appartient\n",
      "    __main__.f\n",
      "1 items passed all tests:\n",
      "   5 tests in __main__.puissance\n",
      "5 tests in 4 items.\n",
      "5 passed and 0 failed.\n",
      "Test passed.\n"
     ]
    },
    {
     "data": {
      "text/plain": [
       "TestResults(failed=0, attempted=5)"
      ]
     },
     "execution_count": 33,
     "metadata": {},
     "output_type": "execute_result"
    }
   ],
   "source": [
    "doctest.testmod(verbose = True)"
   ]
  },
  {
   "cell_type": "markdown",
   "metadata": {},
   "source": [
    "> <span style=\"font-size:1.5em\">✍️</span> **À FAIRE :** Exercice 9."
   ]
  },
  {
   "cell_type": "markdown",
   "metadata": {},
   "source": [
    "# Conclusion\n",
    "Nous avons vu :\n",
    "- comment *documenter* une fonction en spécifiant son comportement de manière concise et précise dans sa docstring. Cette pratique permet aux autres utilisateurs de comprendre le rôle de la fonction et son domaine d'utilisation (préconditions sur les paramètres) ;\n",
    "- que la construction `assert` était un bon moyen d'effectuer une série de *tests* pour se convaincre que notre programme est correct et, éventuellement, de mettre en évidence des erreurs ;\n",
    "- qu'il est possible de rechercher les erreurs en *affichant les valeurs* de certaines variables à des endroits stratégiques ou, de manière plus professionnelle, utiliser des *debogueurs* ;\n",
    "- qu'il n'y a pas de méthode systématique pour s'assurer qu'on a pensé à tous les tests importants : il faut donc être particulièrement vigilant pour élaborer un _jeu de tests de qualité_ ;\n",
    "- en particulier, le succès d’un jeu de tests ne garantit pas qu'un programme est correct ;\n",
    "- qu'il existe une syntaxe permettant d'inclure les tests dans la chaîne de documentation et un outil (comme le module `doctest`) permettant de les extraire et de les vérifier automatiquement.\n",
    "\n",
    "**Pour aller plus loin**\n",
    "\n",
    "- Il existe bien d'autres outils de documentation (pydoc, Sphinx) et de test (pytest, unittest), pour des usages plus complexes.\n",
    "\n",
    "- Il est possible, de manière optionnelle, d'indiquer dans l'en-tête d'une fonction le type de certains paramètres et / ou du résultat. Cela peut être utile par exemple pour alléger la chaîne de documentation. Il existe aussi des outils externes qui permettent de vérifier que ces annotations de types sont vérifiées."
   ]
  },
  {
   "cell_type": "markdown",
   "metadata": {},
   "source": [
    "---\n",
    "\n",
    "**Références :**\n",
    "- Documents ressources du DIU EIL, Université de Nantes, C. DECLERCQ.\n",
    "- Numérique et Sciences Informatiques, 1re, T. BALABONSKI, S. CONCHON, J.-C. FILLIATRE, K. NGUYEN, éditions ELLIPSES : [Site du livre](https://www.nsi-premiere.fr/)\n",
    "- Ressource Eduscol : [Mise au point de programmes testés](https://cache.media.eduscol.education.fr/file/NSI/77/3/RA_Lycee_G_NSI_lang_tests_1170773.pdf)\n",
    "\n",
    "---\n",
    "Germain BECKER & Sébastien POINT, Lycée Mounier, ANGERS ![Licence Creative Commons](https://i.creativecommons.org/l/by-nc-sa/4.0/88x31.png)"
   ]
  }
 ],
 "metadata": {
  "kernelspec": {
   "display_name": "Python 3",
   "language": "python",
   "name": "python3"
  },
  "language_info": {
   "codemirror_mode": {
    "name": "ipython",
    "version": 3
   },
   "file_extension": ".py",
   "mimetype": "text/x-python",
   "name": "python",
   "nbconvert_exporter": "python",
   "pygments_lexer": "ipython3",
   "version": "3.7.10"
  }
 },
 "nbformat": 4,
 "nbformat_minor": 2
}
