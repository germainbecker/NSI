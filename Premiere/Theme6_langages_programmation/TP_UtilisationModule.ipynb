{
 "cells": [
  {
   "cell_type": "markdown",
   "metadata": {},
   "source": [
    "<h1 style=\"font-size: 30px; text-align:center\">Utilisation de modules (ou biblothèques)</h1>\n",
    "\n",
    "D’abord, qu’est-ce qu’un *module* ? Il s’agit d’une sorte de bibliothèque (un regroupement de fonctions prédéfinies) qui une fois importée permet d’accéder à de nouvelles fonctions. Il en existe beaucoup. On peut citer :\n",
    "- le module `turtle` qui permet de réaliser des dessins géométriques,\n",
    "- le module `random` qui permet de générer des variables aléatoire,\n",
    "- le module `numpy` qui permet de faire du calcul scientifique,\n",
    "- le module `matplotlib` qui permet de faire des graphiques en tout genre.\n",
    "\n",
    "Il y en a beaucoup d’autres, tant dans la nature (https://github.com/search?q=python+module) que dans la bibliothèque standard (http://docs.python.org/3/py-modindex.html), voire des modules que vous aurez codés vous-mêmes (il s’agit dans les cas simples d’un fichier Python contenant un ensemble de fonctions).\n",
    "\n",
    "Un module est donc un morceau de code écrit dans un fichier. Ce code contient généralement des implémentations de fonctions, de classes. L'intérêt des modules est la réutilisation par d'autres programmeurs.\n",
    "\n",
    "Importer un module permet de donner accès aux classes et fonctions définies dans ce module, et ainsi pouvoir les utiliser. Vous allez maintenant utiliser et tester son importation. Vous devez également être capable d'utiliser la documentation de celui-ci.\n",
    "\n",
    "\n",
    "#  Importation et utilisation d'un module\n",
    "\n",
    "On présente ici plusieurs manières d'importer un module. La façon d'importer un module aura une influence sur la façon dont on doit utiliser les fonctionnalités du module, autrement dit sur la façon d'écrire notre code Python par la suite.\n",
    "\n",
    "## La méthode `import` et accès à l'interface\n",
    "\n",
    "Commencez par importer le module math.py en écrivant :\n",
    "```python\n",
    "import math\n",
    "```"
   ]
  },
  {
   "cell_type": "code",
   "execution_count": null,
   "metadata": {},
   "outputs": [],
   "source": [
    "# faire ici votre premier import:\n"
   ]
  },
  {
   "cell_type": "markdown",
   "metadata": {},
   "source": [
    "Vous constatez que l'on n'écrit pas l'extension .py lors de l'import.\n",
    "Cette ligne n'a besoin d'apparaitre qu'une seule fois, en général au début du programme, pour chaque module dont on voudra utiliser des instructions. Elle permet d'acceder à toute les instructions du module.\n",
    "\n",
    "Après l'import  utilisez l'instruction \n",
    "```python\n",
    "help(math)\n",
    "```\n",
    "Vous devez constater qu'elle donne accès à l'interface (ou documentation) du module.\n",
    " \n",
    "**Question 1** :  Si vous tapez `help(math.sqrt)` vous accédez à l'interface de la fonction `sqrt` du module `math`.\n",
    "Combien d'argument nécessite la fonction `sqrt` ? Quel est le rôle de la fonction `sqrt`?"
   ]
  },
  {
   "cell_type": "code",
   "execution_count": null,
   "metadata": {},
   "outputs": [],
   "source": [
    "# faire votre premier help ici...\n"
   ]
  },
  {
   "cell_type": "markdown",
   "metadata": {},
   "source": [
    "Si vous voulez avoir accès à une documentation en français (ou presque) : https://docs.python.org/fr/3/library/math.html\n",
    "ou en anglais ;-) https://docs.python.org/3/library/math.html\n",
    "    \n",
    "On peut calculer la valeur de $\\sqrt{36}$ à l'aide de la fonction `sqrt` (tester les deux cellules)"
   ]
  },
  {
   "cell_type": "code",
   "execution_count": null,
   "metadata": {},
   "outputs": [],
   "source": [
    "# cellule 1 à tester\n",
    "import math\n",
    "math.sqrt(36)"
   ]
  },
  {
   "cell_type": "code",
   "execution_count": null,
   "metadata": {},
   "outputs": [],
   "source": [
    "# cellule 2 à tester\n",
    "import math\n",
    "sqrt(36)\n"
   ]
  },
  {
   "cell_type": "markdown",
   "metadata": {},
   "source": [
    "Pour obtenir le bon résultat (et pas un message d'erreur...) il est donc ici nécessaire de préfixer la fonction par le nom du module (ici `math`) pour que cela fonctionne. Par exemple :\n",
    "\n",
    "```python\n",
    "import math\n",
    "math.sqrt(81)\n",
    "``` \n",
    "\n",
    "Même si cette méthode semble 'lourde' à écrire elle présente l'avantage d'être explicite. (Moins de risque de confusions)\n",
    "\n",
    "\n",
    "**Question 2** : Maintenant que tout est évident pour vous, après avoir importé le module `math`, on peut par exemple utiliser `cos` et `pi`. Déterminez ce que représentent `cos` et `pi` (après avoir réinitialisé le noyau et effacer les sorties: kernel ==> Restart & clear Output) et calculer la valeur de $\\cos{(\\pi)}$.\n"
   ]
  },
  {
   "cell_type": "code",
   "execution_count": null,
   "metadata": {},
   "outputs": [],
   "source": [
    "# Question 2 : à faire vous même...\n"
   ]
  },
  {
   "cell_type": "markdown",
   "metadata": {},
   "source": [
    "## Importer un module en le renommant avec le mot clé `as`\n",
    "\n",
    "Même si le nom de notre module n'est pas très long, on peut vouloir utiliser un nom plus court pour le module importé. On utilisera le mot clé `as` pour utiliser un autre nom pour accéder au module.\n",
    "    \n",
    "Au lieu d'écrire\n",
    "\n",
    "```python\n",
    "import random\n",
    "random.randint(1,6)\n",
    "```\n",
    "\n",
    "on peut écrire\n",
    "\n",
    "```python\n",
    "import random as r\n",
    "r.randint(1,6)\n",
    "```\n",
    "\n",
    "La première ligne sert à renommer le module `random` par `r`. On peut alors préfixer les fonctions du module par `r` (et plus `random`.\n",
    " \n",
    "**Question 3** : (après avoir réinitialiser le noyau et effacer les sorties: kernel ==> Restart & clear Output) \n",
    "A vous de jouer, quelle est la spécification de `randint` et que génère l'exemple ci dessus?\n",
    "Que renvoie l'instruction `randint(1, 100)` ?"
   ]
  },
  {
   "cell_type": "code",
   "execution_count": 8,
   "metadata": {},
   "outputs": [],
   "source": [
    "# Question 3 : à faire vous même...\n"
   ]
  },
  {
   "cell_type": "markdown",
   "metadata": {},
   "source": [
    "## Quand on veut tout d'un coup ! : `from ... import *`\n",
    "    \n",
    "      \n",
    "Une autre méthode d'importation du module `math` est d'utiliser la syntaxe :  \n",
    "\n",
    "```python\n",
    "from math import * \n",
    "```\n",
    "\n",
    "Le caractère `*` signifiant que l'on importe tout le module. \n",
    "\n",
    "**Question 4** : Tester les cellules suivantes. Que remarque-vous ? "
   ]
  },
  {
   "cell_type": "code",
   "execution_count": 9,
   "metadata": {},
   "outputs": [
    {
     "name": "stdout",
     "output_type": "stream",
     "text": [
      "6.0\n"
     ]
    },
    {
     "data": {
      "text/plain": [
       "-1.0"
      ]
     },
     "execution_count": 9,
     "metadata": {},
     "output_type": "execute_result"
    }
   ],
   "source": [
    "from math import *\n",
    "print(math.sqrt(36))\n",
    "math.cos(pi)"
   ]
  },
  {
   "cell_type": "code",
   "execution_count": 10,
   "metadata": {},
   "outputs": [
    {
     "name": "stdout",
     "output_type": "stream",
     "text": [
      "6.0\n"
     ]
    },
    {
     "data": {
      "text/plain": [
       "-1.0"
      ]
     },
     "execution_count": 10,
     "metadata": {},
     "output_type": "execute_result"
    }
   ],
   "source": [
    "from math import *\n",
    "print(sqrt(36))\n",
    "cos(pi)"
   ]
  },
  {
   "cell_type": "markdown",
   "metadata": {},
   "source": [
    "L'avantage immédiat de cette méthode c'est que l'on n'est plus obligé de préfixer la fonction par le nom du module, mais elle présente néanmoins un inconvénient majeur : si on importe deux modules avec des fonctions qui ont le même nom, il y a conflit. Lors de l'appel de la fonction, l'interpréteur ne conservera que la fonction du dernier module importé...\n",
    "\n",
    ">**Attention** : Cette méthode (`from ... import *`) est à utiliser avec modération car elle rend plus difficile de déterminer l'origine d'une fonction, ce qui rend le débogage plus difficile. On préfèrera utiliser la dernière méthode présentée juste en-dessous.\n",
    "\n",
    "\n",
    "## Une autre méthode d'importation : `from ... import ...`\n",
    "\n",
    "En réalité on peut se passer du préfixage par le nom du module sans importer tout le module, à condition d'utiliser une autre méthode d'importation qui rend les classes et fonctions d'un module directement accessibles à l'interpréteur Python. Il faut écrire :\n",
    "\n",
    "```python\n",
    "from math import sqrt, cos, pi\n",
    "```\n",
    "\n",
    "**Question 5** : (après avoir réinitialiser le noyau et effacer les sorties: kernel ==> Restart & clear Output  )  \n",
    "Vérifiez que l'on peut alors écrire les instructions suivantes pour obtenir le même résultat que précédemment.\n",
    "```python\n",
    "from math import sqrt, cos, pi\n",
    "print(sqrt(36))\n",
    "cos(pi)\n",
    "```\n"
   ]
  },
  {
   "cell_type": "code",
   "execution_count": null,
   "metadata": {},
   "outputs": [],
   "source": [
    "# Question 5 : à faire vous même..."
   ]
  },
  {
   "cell_type": "markdown",
   "metadata": {},
   "source": [
    "**Question 6** : (après avoir réinitialiser le noyau et effacer les sorties: kernel ==> Restart & clear Output  )  \n",
    "un autre exemple à tester:\n",
    "```python\n",
    "from random import choice\n",
    "L = [7, 3, 8, 5, 6]\n",
    "choice(L)\n",
    "\n",
    "```\n",
    "Déterminez la spécification de la fonction `choice`."
   ]
  },
  {
   "cell_type": "code",
   "execution_count": null,
   "metadata": {},
   "outputs": [],
   "source": [
    "# Question 6 : à faire vous même..."
   ]
  },
  {
   "cell_type": "markdown",
   "metadata": {},
   "source": [
    "> Il faut se méfier lors des importations de fonctions d'un autre module car si on avait écrit nous-même une fonction `choice` dans notre notebook (ou si nous avions importé un autre module avec des fonctions de même nom), il y aurait alors deux fonctions (deux classes) portant le même nom, ce qui est problématique (l'interpréteur ne conservera que la dernière fonction appelée).\n",
    "\n",
    "**Bilan** : Cette  méthode a donc l'avantage de ne plus avoir à préfixer par le nom du module mais nécessite une vigilance particulière pour ne pas se retrouver avec des fonctions ou modules portant le même nom. \n",
    "\n",
    "## Et si on combine les méthodes... \n",
    "\n",
    "Il est possible de renommer une fonction importée d'un module \n",
    "exemple:\n",
    "```python\n",
    "from math import sqrt as s\n",
    "s(81)\n",
    "```\n",
    "**Question 7** : (après avoir réinitialiser le noyau et effacer les sorties: kernel ==> Restart & clear Output). Testez la méthode précédente, trouvez un avantage et un inconvénient à cette méthode...\n"
   ]
  },
  {
   "cell_type": "code",
   "execution_count": null,
   "metadata": {},
   "outputs": [],
   "source": [
    "# Question 7 : à faire vous même...\n"
   ]
  },
  {
   "cell_type": "markdown",
   "metadata": {},
   "source": [
    "# Et maintenant : vers l'au dela et l'infini !\n",
    "\n",
    "**Ou quelques petits exercices ...** \n",
    "   \n",
    "**Ex 1:** \n",
    "Maintenant que vous connaissez la fonction `choice` du module `random`, écrivez une fonction qui renvoie aléatoirement une lettre minuscule ('a' ou 'b' ou ...  'z'), attention vous devez optimiser l'import de la fonction pour le rendre le plus efficace possible, vous devez également documenter votre fonction (avec une chaîne de documentation).\n",
    "\n",
    "(après avoir réinitialiser le noyau et effacer les sorties: kernel ==> Restart & clear Output  ) \n"
   ]
  },
  {
   "cell_type": "code",
   "execution_count": null,
   "metadata": {},
   "outputs": [],
   "source": [
    "#Ex 1 : à faire ...  "
   ]
  },
  {
   "cell_type": "markdown",
   "metadata": {},
   "source": [
    "**Ex 2:**  Voici un autre exemple issu du module `random`\n",
    "```python\n",
    "from random import choices\n",
    "choices(['a','b','c','d','e','f','g','h','i','j','k','l','m','n','o','p','q','r','s','t','u','v','w','x','y','z'], k=5)\n",
    "```\n",
    "Recherchez la documentation de la fonction `choices` et expliquez son fonctionnement. En particulier que se passe-t-il si on remplace `k=5` par `k=50` ?"
   ]
  },
  {
   "cell_type": "code",
   "execution_count": null,
   "metadata": {},
   "outputs": [],
   "source": [
    "#Ex 2 : à faire ... "
   ]
  },
  {
   "cell_type": "markdown",
   "metadata": {},
   "source": [
    "**Ex 3:** \n",
    "Voici un petit programme:"
   ]
  },
  {
   "cell_type": "code",
   "execution_count": 12,
   "metadata": {},
   "outputs": [],
   "source": [
    "from tkinter import *\n",
    "fenetre = Tk()\n",
    "label = Label(fenetre, text=\"Hello World\")\n",
    "label.pack()\n",
    "fenetre.mainloop()"
   ]
  },
  {
   "cell_type": "markdown",
   "metadata": {},
   "source": [
    "Votre mission si vous l'acceptez... en fait non vous n'avez pas le choix...\n",
    "\n",
    "Après l'avoir testé, et avoir compris comment il fonctionne. Dans la cellule ci-dessous créer une fonction qui réalise la même chose, mais ou l'import est optimisé (l'import * c'est **mal** ;-) et ou votre fonction est documentée.\n",
    "En plus sous votre fonction faite un appel à la documentation de `pack` (qui fonctionne) ..."
   ]
  },
  {
   "cell_type": "code",
   "execution_count": null,
   "metadata": {},
   "outputs": [],
   "source": [
    "#Ex 3 : à faire ... "
   ]
  },
  {
   "cell_type": "markdown",
   "metadata": {},
   "source": [
    "**Ex 4:** Et maintemant un peut de **tortue**: encore un petit programme ci-dessous ..."
   ]
  },
  {
   "cell_type": "code",
   "execution_count": 13,
   "metadata": {},
   "outputs": [],
   "source": [
    "from turtle import *\n",
    "forward(60)\n",
    "left(120)\n",
    "forward(60)\n",
    "right(90)\n",
    "circle(60,300)\n",
    "right(90)\n",
    "forward(60)\n",
    "goto(0,0)"
   ]
  },
  {
   "cell_type": "markdown",
   "metadata": {},
   "source": [
    "*ici encore:* après l'avoir testé, et avoir compris comment il fonctionne. Dans la cellule ci-dessous créer une fonction qui réalise la même chose, mais ou l'import est optimisé et ou votre fonction est documentée."
   ]
  },
  {
   "cell_type": "code",
   "execution_count": null,
   "metadata": {},
   "outputs": [],
   "source": [
    "#Ex 4 : à faire ... "
   ]
  },
  {
   "cell_type": "markdown",
   "metadata": {},
   "source": [
    "**Ex 5 :** Toujours avec le module `turtle` créez deux fonctions documentées pour faire un carré et un triangle."
   ]
  },
  {
   "cell_type": "code",
   "execution_count": null,
   "metadata": {},
   "outputs": [],
   "source": [
    "#Ex 5 : à faire ..."
   ]
  },
  {
   "cell_type": "markdown",
   "metadata": {},
   "source": [
    "**Bonus:** Faire une tête de mickey avec `turtle`, ou au moins des formes de différentes tailles, avec un remplissage coloré et un déplacement de la tortue. Pour ce faire vous avez besoin de connaitre les méthodes et les fonctions du module `turtle` donc, ci cela n'est pas encore fait, voilà où vous pouvez regarder : [https://docs.python.org/fr/3/library/turtle.html](https://docs.python.org/fr/3/library/turtle.html)\n"
   ]
  },
  {
   "cell_type": "code",
   "execution_count": null,
   "metadata": {},
   "outputs": [],
   "source": [
    "# Bonus :"
   ]
  },
  {
   "cell_type": "markdown",
   "metadata": {},
   "source": [
    "---\n",
    "\n",
    "**Références :**\n",
    "- Documents ressources de l'équipe éducative du DIU EIL, Université de Nantes, Christophe DECLERCQ & Christophe JERMANN.\n",
    "- Page Web : [http://python.lycee.free.fr/modules_utiles.html](http://python.lycee.free.fr/modules_utiles.html)\n",
    "\n",
    "---\n",
    "Sébastien POINT, Germain BECKER, Lycée Mounier, ANGERS\n",
    "\n",
    "Ressource éducative libre distribuée sous [Licence Creative Commons Attribution - Pas d’Utilisation Commerciale - Partage dans les Mêmes Conditions 4.0 International](http://creativecommons.org/licenses/by-nc-sa/4.0/) \n",
    "\n",
    "![Licence Creative Commons](https://i.creativecommons.org/l/by-nc-sa/4.0/88x31.png)"
   ]
  },
  {
   "cell_type": "code",
   "execution_count": null,
   "metadata": {},
   "outputs": [],
   "source": []
  }
 ],
 "metadata": {
  "celltoolbar": "Format de la Cellule Texte Brut",
  "kernelspec": {
   "display_name": "Python 3",
   "language": "python",
   "name": "python3"
  },
  "language_info": {
   "codemirror_mode": {
    "name": "ipython",
    "version": 3
   },
   "file_extension": ".py",
   "mimetype": "text/x-python",
   "name": "python",
   "nbconvert_exporter": "python",
   "pygments_lexer": "ipython3",
   "version": "3.7.3"
  }
 },
 "nbformat": 4,
 "nbformat_minor": 4
}
