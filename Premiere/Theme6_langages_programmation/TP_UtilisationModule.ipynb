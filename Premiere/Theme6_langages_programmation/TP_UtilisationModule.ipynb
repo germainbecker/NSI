{
 "cells": [
  {
   "cell_type": "markdown",
   "metadata": {},
   "source": [
    "<h1 style=\"font-size: 30px; text-align:center\">Utilisation de modules (ou biblothèques)</h1>\n",
    "\n",
    "Un **module** est un fichier d'extension `.py` (comme n'importe quel script Python) dans lequel on écrit un ensemble de fonctions (et/ou de constantes). Autrement dit, c'est un morceau de code écrit dans un fichier Python.\n",
    "\n",
    "Une **bibliothèque** est un *ensemble de modules*, souvent regroupés autour d'un thème précis.\n",
    "\n",
    "L'intérêt principal des modules (et bibliothèques) est leur réutilisation par d'autres programmes et d'autres programmeurs. En effet, il est très simple d'*importer* un module (écrit par nous-même ou par quelqu'un d'autre) pour utiliser les fonctions (et classes, et constantes, etc.) définies dans le module.\n",
    "\n",
    "Il existe beaucoup de modules. On peut citer :\n",
    "\n",
    "- le module `turtle` qui permet de réaliser des dessins géométriques,\n",
    "- le module `random` qui permet de générer des variables aléatoires,\n",
    "- le module `math` qui permet d'utiliser des fonctions et constantes mathématiques de base,\n",
    "- le module `csv` qui permet de manipuler plus simplement des fichiers CSV (sera abordé un peu plus tard dans l'année),\n",
    "- le module `matplotlib` qui permet de faire des graphiques en tout genre,\n",
    "- le module `time` qui permet l'accès à l'heure de l'ordinateur et aux fonctions gérant le temps.\n",
    "\n",
    "Il y en a beaucoup d’autres, tant dans la nature (voir [https://pypi.org/](https://pypi.org/), ou encore [https://github.com/search?q=python+module](https://github.com/search?q=python+module)) que dans la bibliothèque standard (http://docs.python.org/3/py-modindex.html), voire des modules que vous aurez codés vous-mêmes.\n",
    "\n",
    "Généralement, un module s'accompagne d'une **documentation** qui détaille la façon de l'utiliser.\n",
    "\n",
    "\n",
    "#  Importation et utilisation d'un module\n",
    "\n",
    "On présente ici plusieurs manières d'importer un module. La façon d'importer un module aura une influence sur la façon dont on doit utiliser les fonctionnalités du module, autrement dit sur la façon d'écrire notre code Python par la suite.\n",
    "\n",
    "## Importer un module avec `import` et accéder à sa documentation\n",
    "\n",
    "Commencez par importer le module math.py en écrivant :\n",
    "```python\n",
    "import math\n",
    "```"
   ]
  },
  {
   "cell_type": "code",
   "execution_count": null,
   "metadata": {},
   "outputs": [],
   "source": [
    "# faire ici votre premier import:\n"
   ]
  },
  {
   "cell_type": "markdown",
   "metadata": {},
   "source": [
    "Vous constatez que l'on n'écrit pas l'extension `.py` lors de l'import.\n",
    "Cette ligne n'a besoin d'apparaitre qu'une seule fois, en général au début du programme, pour chaque module dont on voudra utiliser des instructions. Elle permet d'acceder à toutes les instructions du module.\n",
    "\n",
    "Après l'import, exécutez l'instruction \n",
    "```python\n",
    "help(math)\n",
    "```\n",
    "\n",
    "Vous devez constater qu'elle donne accès à l'interface (ou documentation) du module."
   ]
  },
  {
   "cell_type": "markdown",
   "metadata": {},
   "source": [
    "> **Documentation du module `math`** : Voici un lien vers la documentation en français : https://docs.python.org/fr/3/library/math.html ou en anglais : https://docs.python.org/3/library/math.html.\n",
    "    \n",
    "**Question 1** : Cherchez dans la documentation du module `math`, la fonction permettant de renvoyer la racine carrée d'un nombre. Quel est le nom de cette fonction ?"
   ]
  },
  {
   "cell_type": "raw",
   "metadata": {},
   "source": [
    "Réponse : "
   ]
  },
  {
   "cell_type": "markdown",
   "metadata": {},
   "source": [
    "On peut calculer la valeur de $\\sqrt{36}$ à l'aide de la fonction `sqrt` (tester les deux cellules)"
   ]
  },
  {
   "cell_type": "code",
   "execution_count": null,
   "metadata": {},
   "outputs": [],
   "source": [
    "# cellule 1 à tester\n",
    "import math\n",
    "sqrt(36)"
   ]
  },
  {
   "cell_type": "code",
   "execution_count": null,
   "metadata": {},
   "outputs": [],
   "source": [
    "# cellule 2 à tester\n",
    "import math\n",
    "math.sqrt(36)"
   ]
  },
  {
   "cell_type": "markdown",
   "metadata": {},
   "source": [
    "Pour obtenir le bon résultat (et pas un message d'erreur...) il est donc ici nécessaire de *préfixer* la fonction par le nom du module (ici `math`) pour que cela fonctionne. Par exemple :\n",
    "\n",
    "```python\n",
    "import math\n",
    "math.sqrt(81)\n",
    "``` \n",
    "\n",
    "Même si cette méthode semble \"lourde\" à écrire elle présente l'avantage d'être explicite, puisqu'elle indique de quel module la fonction est issue. C'est la méthode recommandée par les standards Python."
   ]
  },
  {
   "cell_type": "markdown",
   "metadata": {},
   "source": [
    "**Question 2** :  Si vous exécutez `help(math.sqrt)` vous accédez à l'interface de la fonction `sqrt` du module `math`.\n",
    "Combien de paramètres nécessite la fonction `sqrt` ?"
   ]
  },
  {
   "cell_type": "code",
   "execution_count": null,
   "metadata": {
    "scrolled": true
   },
   "outputs": [],
   "source": [
    "# faire l'appel à help ici :\n"
   ]
  },
  {
   "cell_type": "raw",
   "metadata": {},
   "source": [
    "Réponse : "
   ]
  },
  {
   "cell_type": "markdown",
   "metadata": {},
   "source": [
    "Si vous voulez accéder à la chaîne de documentation de la fonction `sqrt`, il suffit d'exécuter `math.sqrt.__doc__`."
   ]
  },
  {
   "cell_type": "code",
   "execution_count": null,
   "metadata": {},
   "outputs": [],
   "source": [
    "# accéder à la chaîne de documentation de sqrt :\n"
   ]
  },
  {
   "cell_type": "markdown",
   "metadata": {},
   "source": [
    "**Question 3** : (après avoir réinitialisé le noyau : Kernel ==> Restart) Maintenant que tout est évident pour vous, après avoir importé le module `math`, on peut par exemple utiliser `cos` et `pi`. Déterminez ce que représentent `cos` et `pi`  et calculer la valeur de $\\cos{(\\pi)}$."
   ]
  },
  {
   "cell_type": "raw",
   "metadata": {},
   "source": [
    "Réponse : "
   ]
  },
  {
   "cell_type": "code",
   "execution_count": null,
   "metadata": {},
   "outputs": [],
   "source": [
    "# Question 3 : à faire vous même...\n"
   ]
  },
  {
   "cell_type": "markdown",
   "metadata": {},
   "source": [
    "**Question 4** : (après avoir réinitialisé le noyau : Kernel ==> Restart) \n",
    "Cherchez dans la documentation du module `random` ([https://docs.python.org/fr/3/py-modindex.html](https://docs.python.org/fr/3/py-modindex.html)), ou utilisez les instructions Python vues précédemment pour déterminer le rôle de la fonction `randint`. Que renvoie l'instruction `randint(1, 100)` ?"
   ]
  },
  {
   "cell_type": "code",
   "execution_count": null,
   "metadata": {},
   "outputs": [],
   "source": [
    "# Question 4 : à faire vous même...\n"
   ]
  },
  {
   "cell_type": "raw",
   "metadata": {},
   "source": [
    "Réponse : "
   ]
  },
  {
   "cell_type": "markdown",
   "metadata": {},
   "source": [
    "## Quand on veut tout d'un coup : `from ... import *` (ce qu'il ne faut pas faire !)\n",
    "    \n",
    "      \n",
    "Une autre méthode d'importation du module `math` est d'utiliser la syntaxe :  \n",
    "\n",
    "```python\n",
    "from math import * \n",
    "```\n",
    "\n",
    "Le caractère `*` signifiant que l'on importe toutes les fonctions (et constantes) du module (ici `math`). \n",
    "\n",
    "**Question 5** : Testez les cellules suivantes. Que remarquez-vous ?"
   ]
  },
  {
   "cell_type": "code",
   "execution_count": null,
   "metadata": {},
   "outputs": [],
   "source": [
    "from math import *\n",
    "sqrt(36), cos(pi)"
   ]
  },
  {
   "cell_type": "code",
   "execution_count": null,
   "metadata": {},
   "outputs": [],
   "source": [
    "from math import *\n",
    "math.sqrt(36), math.cos(math.pi)"
   ]
  },
  {
   "cell_type": "markdown",
   "metadata": {},
   "source": [
    "L'avantage immédiat de cette méthode c'est que l'on n'est plus obligé de préfixer la fonction par le nom du module, mais elle présente néanmoins un inconvénient majeur : elle peut mener à un conflit si plusieurs fonctions portent le même nom. "
   ]
  },
  {
   "cell_type": "code",
   "execution_count": null,
   "metadata": {},
   "outputs": [],
   "source": [
    "# Exemple totalement idiot mais c'est pour illustrer le propos :\n",
    "\n",
    "from math import *  # on importe toutes les fonctions du module math, y compris la fonction sqrt\n",
    "\n",
    "def sqrt(x):  # on définit notre propre fonction sqrt (complètement fausse)\n",
    "    print('Salut !')\n",
    "\n",
    "sqrt(36)  # conflit entre les deux fonctions sqrt (celle du module math et la notre)"
   ]
  },
  {
   "cell_type": "markdown",
   "metadata": {},
   "source": [
    ">**Moralité** : Cette méthode (`from ... import *`) est déconseillée car elle rend plus difficile de déterminer l'origine d'une fonction, ce qui rend l'accès aux documentations et le débogage plus difficiles, et provoque potentiellement des conflits."
   ]
  },
  {
   "cell_type": "markdown",
   "metadata": {},
   "source": [
    "## Une autre méthode d'importation : `from ... import ...`\n",
    "\n",
    "L'instruction `from` est en réalité tolérée mais à condition de n'importer que quelques fonctions (ou constantes) clairement identifiées.\n",
    "\n",
    "Pour cela, il faut écrire :\n",
    "\n",
    "```python\n",
    "from math import sqrt, cos, pi\n",
    "```\n",
    "\n",
    "Cette méthode permet de ne pas avoir à préfixer le nom de la fonction (ou constante) par le nom du module."
   ]
  },
  {
   "cell_type": "markdown",
   "metadata": {},
   "source": [
    "**Question 6** : (après avoir réinitialisé le noyau : Kernel ==> Restart)  \n",
    "Vérifiez que l'on peut alors écrire les instructions suivantes pour obtenir le même résultat que précédemment.\n",
    "```python\n",
    "from math import sqrt, cos, pi  # on importe spécifiquement les fonctions sqrt et cos, et la constante pi\n",
    "sqrt(36), cos(pi)  # plus besoin de préfixer par le nom du module ces deux fonctions et la constante\n",
    "```"
   ]
  },
  {
   "cell_type": "code",
   "execution_count": null,
   "metadata": {},
   "outputs": [],
   "source": [
    "# Question 6 : à faire vous même...\n"
   ]
  },
  {
   "cell_type": "markdown",
   "metadata": {},
   "source": [
    "**Question 7** : (après avoir réinitialisé le noyau : Kernel ==> Restart)  Voici deux exemples à tester :\n",
    "\n",
    "```python\n",
    "from random import choice\n",
    "L = [7, 3, 8, 5, 6]\n",
    "choice(L)\n",
    "```\n",
    "\n",
    "```python\n",
    "from random import choice\n",
    "chaine = \"nsi\"\n",
    "choice(chaine)\n",
    "```\n",
    "\n",
    "Déterminez le rôle de la fonction `choice`."
   ]
  },
  {
   "cell_type": "code",
   "execution_count": null,
   "metadata": {},
   "outputs": [],
   "source": [
    "# Question 7 : à faire vous même...\n"
   ]
  },
  {
   "cell_type": "code",
   "execution_count": null,
   "metadata": {},
   "outputs": [],
   "source": [
    "# Question 7 : à faire vous même...\n"
   ]
  },
  {
   "cell_type": "raw",
   "metadata": {},
   "source": [
    "Réponse : la fonction choice ..."
   ]
  },
  {
   "cell_type": "markdown",
   "metadata": {},
   "source": [
    "Il faut se méfier lors des importations de fonctions d'un autre module car si on avait écrit nous-même une fonction `choice` dans notre programme (ou si nous avions importé un autre module avec une fonction portant le même nom), il y aurait alors deux fonctions portant le même nom, ce qui est problématique (l'interpréteur ne conservera que la dernière fonction appelée)."
   ]
  },
  {
   "cell_type": "code",
   "execution_count": null,
   "metadata": {},
   "outputs": [],
   "source": [
    "from random import choice\n",
    "\n",
    "def choice(a, b):\n",
    "    if a > b:\n",
    "        return a\n",
    "    else:\n",
    "        return b\n",
    "    \n",
    "L = [7, 3, 8, 5, 6]\n",
    "choice(L)  # c'est notre fonction choice qui est utilisée par l'interpréteur car elle est écrite en dernier"
   ]
  },
  {
   "cell_type": "markdown",
   "metadata": {},
   "source": [
    "> Essayez de déplacer la ligne `from random import choice` *après* la fonction `choice`. Vous constaterez alors que l'appel dernière ligne utilise bien la fonction `choice` du module `random` (celle appelée en dernier). "
   ]
  },
  {
   "cell_type": "markdown",
   "metadata": {},
   "source": [
    "**Moralité** : Cette  méthode a donc l'avantage de ne plus avoir à préfixer par le nom du module mais nécessite une vigilance particulière pour ne pas se retrouver avec des fonctions ou modules portant le même nom, occasionnant des conflits."
   ]
  },
  {
   "cell_type": "markdown",
   "metadata": {},
   "source": [
    "## Importer un module en le renommant avec le mot clé `as`\n",
    "\n",
    "Si on trouve que le nom d'un module est long, il est possible d'utiliser un nom plus court pour le module importé en utilisant le mot clé `as` permettant de définir un *alias* pour le nom du module :\n",
    "    \n",
    "Au lieu d'écrire\n",
    "\n",
    "```python\n",
    "import random\n",
    "random.randint(1,6)\n",
    "```\n",
    "\n",
    "on peut écrire\n",
    "\n",
    "```python\n",
    "import random as r\n",
    "r.randint(1,6)\n",
    "```\n",
    "\n",
    "La première ligne sert à renommer le module `random` par `r`. On peut alors préfixer les fonctions du module par `r` (et plus `random`).\n",
    " \n",
    "**Question 8** : Testez le programme précédent utilisant le renommage avec `as`."
   ]
  },
  {
   "cell_type": "code",
   "execution_count": null,
   "metadata": {},
   "outputs": [],
   "source": [
    "# Question 8 : à faire vous même...\n"
   ]
  },
  {
   "cell_type": "markdown",
   "metadata": {},
   "source": [
    "> À titre d'exemple, cliquez sur [ce lien](https://github.com/germainbecker/enquetes-snt/blob/main/enquetes_snt/enigmes/models.py) pour voir un fichier `.py` qui fait appel à différents modules issues de la bibliothèque standard mais aussi d'autres bibliothèques."
   ]
  },
  {
   "cell_type": "markdown",
   "metadata": {},
   "source": [
    "# Quelques exercices\n",
    "\n",
    "⚠️ **Les exercices sont à faire avec un éditeur de code (Spyder au lycée)**.\n",
    "\n",
    "## Exercice 1\n",
    "\n",
    "Écrivez un script Python appelé `exercices.py` dans lequel vous écrirez une fonction `choix_lettre` qui renvoie aléatoirement une lettre minuscule (`'a'` ou `'b'` ou ...  `'z'`). Pour cela, vous utiliserez à bon escient la fonction `choice` du module `random`. **Attention** : vous devez importer correctement cette fonction `choice` et on vous demande d'écrire une chaîne de documentation pour votre fonction `choix_lettre`.\n",
    "\n",
    "*Vous testerez votre fonction en l'appelant dans la console*."
   ]
  },
  {
   "cell_type": "markdown",
   "metadata": {},
   "source": [
    "## Exercice 2\n",
    "\n",
    "Voici un autre exemple issu du module `random`\n",
    "\n",
    "**Q1** : Cherchez dans la documentation du module `random`, la spécification de la fonction `choices` et expliquez son fonctionnement. En particulier que fait l'instruction suivante ? et que se passe-t-il si on remplace `k=5` par `k=50` dans celle-ci ?\n",
    "\n",
    "```python\n",
    "random.choices(['P', 'F'], k=3)\n",
    "```\n"
   ]
  },
  {
   "cell_type": "raw",
   "metadata": {},
   "source": [
    "Réponse : "
   ]
  },
  {
   "cell_type": "markdown",
   "metadata": {},
   "source": [
    "**Q2** : Écrivez à la suite du script `exercices.py` commencé dans l'exercice 1, une fonction `echantillon_lancer_piece(taille)` qui permet de générer un échantillon de `taille` lancers d'une pièce de monnaie bien équilibrée.\n",
    "\n",
    "> **Remarque** : le fichier `exercices.py` que vous venez d'écrire est un *module*. À ce titre, vous pouvez l'importer dans un autre programme et utiliser les fonctions `choix_lettre` et `echantillon_lancer_piece` dans cet autre programme."
   ]
  },
  {
   "cell_type": "markdown",
   "metadata": {},
   "source": [
    "## Exercice 3 : Importer et utiliser son propre module\n",
    "\n",
    "Placez-vous dans le même répertoire que le fichier `exercices.py` et créez un fichier `ex3.py` que vous ouvrirez avec Spyder.\n",
    "\n",
    "Dans ce nouveau fichier, importez convenablement le module `exercices.py` dans le but de pouvoir utiliser la fonction `echantillon_lancer_piece` par la suite. Utilisez cette fonction pour créer une fonction `frequences(n)` renvoyant la fréquence d'apparition de `'P'` et `'F'` dans un échantillon de taille `n` généré par la fonction `echantillon_lancer_piece`.\n",
    "\n",
    "Testez en appelant votre fonction, avec des valeurs de `n` de plus en plus grandes."
   ]
  },
  {
   "cell_type": "markdown",
   "metadata": {},
   "source": [
    "## Exercice 4 : Le module `turtle` \n",
    "\n",
    "Le module `turtle` permet de réaliser des dessins géométriques. Voici un programme (mal écrit volontairement) :\n",
    "\n",
    "```python\n",
    "from turtle import *\n",
    "\n",
    "reset()\n",
    "forward(60)\n",
    "left(120)\n",
    "forward(60)\n",
    "right(90)\n",
    "circle(60,300)\n",
    "right(90)\n",
    "forward(60)\n",
    "```"
   ]
  },
  {
   "cell_type": "markdown",
   "metadata": {},
   "source": [
    "**Q1** : Créez un nouveau script `tortue.py` et y recopiez le programme donné au-dessus. Testez-le et analysez son fonctionnement.\n",
    "\n",
    "**Q2** : La première ligne n'importe pas le module `turtle` de la manière recommandée (vous devez d'ailleurs voir des symboles \"Attention\" devant certaines lignes de votre code avec Spyder). Modifiez le code de manière à importer correctement ce module. Il faudra également procéder aux modifications nécessaires dans le reste du code.\n",
    "\n",
    "**Q3** : Créez deux fonctions documentées pour dessiner respectivement un carré et un triangle de côté `c`. "
   ]
  },
  {
   "cell_type": "markdown",
   "metadata": {},
   "source": [
    "## Exercice 5 : Le module `tkinter`\n",
    "\n",
    "Voici un petit programme:\n",
    "\n",
    "```python\n",
    "from tkinter import *\n",
    "fenetre = Tk()\n",
    "label = Label(fenetre, text=\"Hello World\")\n",
    "label.pack()\n",
    "fenetre.mainloop()\n",
    "```"
   ]
  },
  {
   "cell_type": "markdown",
   "metadata": {},
   "source": [
    "**Q1** : Créez un nouveau script `interface_graphique.py` et y recopiez le programme donné au-dessus. Testez-le et analysez son fonctionnement.\n",
    "\n",
    "**Q2** : La première ligne n'importe pas le module `tkinter` de la manière recommandée (vous devez d'ailleurs voir des symboles ⚠️ devant certaines lignes de votre code avec Spyder). Modifiez le code de manière à importer correctement ce module. Il faudra également procéder aux modifications nécessaires dans le reste du code.\n",
    "\n",
    "**Q3** : Cherchez de la documentation sur le module `tkinter` pour créer une fenêtre de 500 par 400 pixels avec un fond jaune."
   ]
  },
  {
   "cell_type": "markdown",
   "metadata": {},
   "source": [
    "## Bonus\n",
    "\n",
    "Faire une tête de mickey avec `turtle`, ou au moins des formes de différentes tailles, avec un remplissage coloré et un déplacement de la tortue. Pour ce faire vous avez besoin de connaitre les méthodes et les fonctions du module `turtle` donc, ci cela n'est pas encore fait, voilà où vous pouvez regarder : [https://docs.python.org/fr/3/library/turtle.html](https://docs.python.org/fr/3/library/turtle.html)\n"
   ]
  },
  {
   "cell_type": "markdown",
   "metadata": {},
   "source": [
    "---\n",
    "\n",
    "**Références :**\n",
    "- Documents ressources de l'équipe éducative du DIU EIL, Université de Nantes, Christophe DECLERCQ & Christophe JERMANN.\n",
    "- Cours de Python : *Introduction à la programmation Python pour la biologie* de Patrick Fuchs et Pierre Poulain : chapitres [8 - Modules](https://python.sdv.univ-paris-diderot.fr/08_modules/), [14 - Création de modules](https://python.sdv.univ-paris-diderot.fr/14_creation_modules/) et [15 - Bonnes pratiques en programmation Python](https://python.sdv.univ-paris-diderot.fr/15_bonnes_pratiques/)\n",
    "- Page Web : [http://python.lycee.free.fr/modules_utiles.html](http://python.lycee.free.fr/modules_utiles.html)\n",
    "\n",
    "---\n",
    "Sébastien POINT, Germain BECKER, Lycée Mounier, ANGERS\n",
    "\n",
    "Ressource éducative libre distribuée sous [Licence Creative Commons Attribution - Pas d’Utilisation Commerciale - Partage dans les Mêmes Conditions 4.0 International](http://creativecommons.org/licenses/by-nc-sa/4.0/) \n",
    "\n",
    "![Licence Creative Commons](https://i.creativecommons.org/l/by-nc-sa/4.0/88x31.png)"
   ]
  }
 ],
 "metadata": {
  "celltoolbar": "Format de la Cellule Texte Brut",
  "kernelspec": {
   "display_name": "Python 3",
   "language": "python",
   "name": "python3"
  },
  "language_info": {
   "codemirror_mode": {
    "name": "ipython",
    "version": 3
   },
   "file_extension": ".py",
   "mimetype": "text/x-python",
   "name": "python",
   "nbconvert_exporter": "python",
   "pygments_lexer": "ipython3",
   "version": "3.7.10"
  }
 },
 "nbformat": 4,
 "nbformat_minor": 4
}
