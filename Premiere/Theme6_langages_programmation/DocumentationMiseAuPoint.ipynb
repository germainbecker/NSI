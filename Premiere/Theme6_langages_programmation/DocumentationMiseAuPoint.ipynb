{
 "cells": [
  {
   "cell_type": "markdown",
   "metadata": {},
   "source": [
    "# Introduction\n",
    "\n",
    "<img class=\"centre image-responsive\" src=\"data/documentation_mise_au_point.png\">\n",
    "\n",
    "Lorsqu'on *utilise* une fonction, il n'est pas utile de connaître ni même de comprendre le code qui la définit mais on a absolument besoin de connaître son rôle, autrement dit de savoir ce que *fait* cette fonction. Cela signifie que le programmeur ne peut donc pas se contenter d'écrire uniquement le code de la fonction mais il doit s'assurer d'**expliquer ce que fait son programme** afin que d'autres puissent l'utiliser.\n",
    "\n",
    "De plus, pour écrire sa fonction, le programmeur doit s'assurer que **son programme se comporte convenablement**, autrement dit que la fonction renvoie la (ou les) valeur(s) attendue(s), et ce quelles que soient les valeurs (admissibles) des paramètres. C'est une étape importante voire cruciale s'il s'agit par exemple d'un programme intervenant dans le pilotage d'un avion.\n",
    "\n",
    "Vous aller découvrir dans ce chapitre les bonnes pratiques qui permettent au programmeur d'effectuer ces deux tâches."
   ]
  },
  {
   "cell_type": "markdown",
   "metadata": {},
   "source": [
    "# Que « fait » un programme ?\n",
    "\n",
    "Considérons la fonction Python suivante qui a été codée par l'un de vos camarades et que vous devez utiliser dans votre projet."
   ]
  },
  {
   "cell_type": "code",
   "execution_count": 1,
   "metadata": {},
   "outputs": [],
   "source": [
    "def f(x, n):\n",
    "    r = 1\n",
    "    for i in range(n):\n",
    "        r = r * x\n",
    "    return r"
   ]
  },
  {
   "cell_type": "markdown",
   "metadata": {},
   "source": [
    "En la recevant telle quelle, il n'est pas évident que vous sachiez à quoi elle sert. Après l'avoir analysée un petit peu ou après avoir effectué quelques tests (en appelant la fonction pour quelques valeurs des paramètres `x` et `n`) il est possible de comprendre ce que fait cette fonction.\n",
    "\n",
    ">Alors, elle fait quoi selon vous ? :-)\n",
    "\n",
    "Vous conviendrez qu'il aurait été nettement plus simple pour vous, que votre camarade codeur vous explique ce que fait sa fonction et comment l'utiliser, d'autant plus que vous n'avez pas forcément le temps d'essayer de la comprendre vous-même. \n",
    "\n",
    "Si le codeur avait nommé sa fonction `puissance(x, n)` à la place de `f(x, n)` cela aurait pu vous mettre plus rapidement sur la piste. Cependant, même avec ce nommage plus explicite, vous savez a priori que cette fonction a un rapport avec une \"puissance\", mais c'est tout (renvoie-t-elle $x^n$ ? ou  $n^x$ ? ou autre chose ?...) Pour savoir ce que fait et renvoie la fonction, vous êtes toujours obligé de lire et comprendre le code de la fonction. Un nommage explicite est donc une première (bonne) étape mais elle n'est pas suffisante."
   ]
  },
  {
   "cell_type": "markdown",
   "metadata": {},
   "source": [
    "# Documenter son programme\n",
    "\n",
    "La bonne pratique pour un codeur est de toujours expliquer son programme (ici sa fonction). Pour cela, une première méthode peut consister à commenter son code de la façon suivante."
   ]
  },
  {
   "cell_type": "code",
   "execution_count": 2,
   "metadata": {},
   "outputs": [],
   "source": [
    "# fonction qui renvoie la valeur de x^n\n",
    "def puissance(x, n):\n",
    "    r = 1\n",
    "    for i in range(n):\n",
    "        r = r * x\n",
    "    return r"
   ]
  },
  {
   "cell_type": "markdown",
   "metadata": {},
   "source": [
    "Cela donne l'information à celui qui a accès au code mais pas aux autres : si par exemple cette fonction appartient à une bibliothèque que l'on importe, nous n'avons pas directement accès au code de la fonction. "
   ]
  },
  {
   "cell_type": "markdown",
   "metadata": {},
   "source": [
    "## Ecrire son propre texte d'aide dans la *chaîne de documentation*\n",
    "\n",
    "Il existe une meilleure façon d'expliquer son code. Pour cela, on associera une *documentation* à notre fonction sous la forme d'une chaîne de caractères écrites entre triples guillemets. "
   ]
  },
  {
   "cell_type": "code",
   "execution_count": 3,
   "metadata": {},
   "outputs": [],
   "source": [
    "def puissance(x, n):\n",
    "    '''\n",
    "    Renvoie la valeur de x^n.\n",
    "    '''\n",
    "    r = 1\n",
    "    for i in range(n):\n",
    "        r = r * x\n",
    "    return r"
   ]
  },
  {
   "cell_type": "markdown",
   "metadata": {},
   "source": [
    "On appelle cela la **chaîne de documentation** de la fonction (ou *docstring* en anglais). En procédant ainsi, le programmeur de la fonction permet à quiconque d'afficher cette chaîne de caractères en utilisant la fonction `help`."
   ]
  },
  {
   "cell_type": "code",
   "execution_count": 4,
   "metadata": {
    "scrolled": true
   },
   "outputs": [
    {
     "name": "stdout",
     "output_type": "stream",
     "text": [
      "Help on function puissance in module __main__:\n",
      "\n",
      "puissance(x, n)\n",
      "    Renvoie la valeur de x^n.\n",
      "\n"
     ]
    }
   ],
   "source": [
    "help(puissance)"
   ]
  },
  {
   "cell_type": "markdown",
   "metadata": {},
   "source": [
    "Vous pouvez essayer d'afficher la docstring de fonctions connues."
   ]
  },
  {
   "cell_type": "code",
   "execution_count": 5,
   "metadata": {},
   "outputs": [
    {
     "name": "stdout",
     "output_type": "stream",
     "text": [
      "Help on built-in function abs in module builtins:\n",
      "\n",
      "abs(x, /)\n",
      "    Return the absolute value of the argument.\n",
      "\n"
     ]
    }
   ],
   "source": [
    "help(abs)  # abs est la fonction valeur absolue"
   ]
  },
  {
   "cell_type": "code",
   "execution_count": 6,
   "metadata": {},
   "outputs": [
    {
     "name": "stdout",
     "output_type": "stream",
     "text": [
      "Help on built-in function len in module builtins:\n",
      "\n",
      "len(obj, /)\n",
      "    Return the number of items in a container.\n",
      "\n"
     ]
    }
   ],
   "source": [
    "help(len)"
   ]
  },
  {
   "cell_type": "markdown",
   "metadata": {},
   "source": [
    "## Etre précis dans sa documentation\n",
    "\n",
    "L'objectif d'une *chaîne de documentation* est d'être courte mais aussi précise. Avec celle de la fonction `puissance(x, n)` donnée au-dessus, on est tenté de calculer certaines puissances pour vérifier son bon fonctionnement."
   ]
  },
  {
   "cell_type": "code",
   "execution_count": 7,
   "metadata": {},
   "outputs": [
    {
     "data": {
      "text/plain": [
       "8"
      ]
     },
     "execution_count": 7,
     "metadata": {},
     "output_type": "execute_result"
    }
   ],
   "source": [
    "puissance(2, 3) # renvoie bien la valeur de 2^3"
   ]
  },
  {
   "cell_type": "code",
   "execution_count": 8,
   "metadata": {},
   "outputs": [
    {
     "data": {
      "text/plain": [
       "0.25"
      ]
     },
     "execution_count": 8,
     "metadata": {},
     "output_type": "execute_result"
    }
   ],
   "source": [
    "puissance(0.5, 2) # renvoie bien la valeur de (1/2)^2 = 1/4"
   ]
  },
  {
   "cell_type": "code",
   "execution_count": 9,
   "metadata": {},
   "outputs": [
    {
     "data": {
      "text/plain": [
       "-32"
      ]
     },
     "execution_count": 9,
     "metadata": {},
     "output_type": "execute_result"
    }
   ],
   "source": [
    "puissance(-2, 5) # renvoie bien la valeur de (-2)^5 = -32"
   ]
  },
  {
   "cell_type": "markdown",
   "metadata": {},
   "source": [
    "Cependant, en faisant d'autres tests on se rend vite compte que l'on ne peut pas calculer certaines puissances avec la fonction."
   ]
  },
  {
   "cell_type": "code",
   "execution_count": 10,
   "metadata": {},
   "outputs": [
    {
     "data": {
      "text/plain": [
       "1"
      ]
     },
     "execution_count": 10,
     "metadata": {},
     "output_type": "execute_result"
    }
   ],
   "source": [
    "puissance(2, -3)  # ne renvoie pas la valeur de 2^(-3) = 1/8"
   ]
  },
  {
   "cell_type": "code",
   "execution_count": 11,
   "metadata": {},
   "outputs": [
    {
     "ename": "TypeError",
     "evalue": "'float' object cannot be interpreted as an integer",
     "output_type": "error",
     "traceback": [
      "\u001b[1;31m---------------------------------------------------------------------------\u001b[0m",
      "\u001b[1;31mTypeError\u001b[0m                                 Traceback (most recent call last)",
      "\u001b[1;32m<ipython-input-11-de97611f6342>\u001b[0m in \u001b[0;36m<module>\u001b[1;34m\u001b[0m\n\u001b[1;32m----> 1\u001b[1;33m \u001b[0mpuissance\u001b[0m\u001b[1;33m(\u001b[0m\u001b[1;36m4\u001b[0m\u001b[1;33m,\u001b[0m \u001b[1;36m1\u001b[0m\u001b[1;33m/\u001b[0m\u001b[1;36m2\u001b[0m\u001b[1;33m)\u001b[0m \u001b[1;31m# ne renvoie pas la valeur de 4^(1/2) = 2 mais lève une erreur\u001b[0m\u001b[1;33m\u001b[0m\u001b[1;33m\u001b[0m\u001b[0m\n\u001b[0m",
      "\u001b[1;32m<ipython-input-3-782fd4cbfdef>\u001b[0m in \u001b[0;36mpuissance\u001b[1;34m(x, n)\u001b[0m\n\u001b[0;32m      4\u001b[0m     '''\n\u001b[0;32m      5\u001b[0m     \u001b[0mr\u001b[0m \u001b[1;33m=\u001b[0m \u001b[1;36m1\u001b[0m\u001b[1;33m\u001b[0m\u001b[1;33m\u001b[0m\u001b[0m\n\u001b[1;32m----> 6\u001b[1;33m     \u001b[1;32mfor\u001b[0m \u001b[0mi\u001b[0m \u001b[1;32min\u001b[0m \u001b[0mrange\u001b[0m\u001b[1;33m(\u001b[0m\u001b[0mn\u001b[0m\u001b[1;33m)\u001b[0m\u001b[1;33m:\u001b[0m\u001b[1;33m\u001b[0m\u001b[1;33m\u001b[0m\u001b[0m\n\u001b[0m\u001b[0;32m      7\u001b[0m         \u001b[0mr\u001b[0m \u001b[1;33m=\u001b[0m \u001b[0mr\u001b[0m \u001b[1;33m*\u001b[0m \u001b[0mx\u001b[0m\u001b[1;33m\u001b[0m\u001b[1;33m\u001b[0m\u001b[0m\n\u001b[0;32m      8\u001b[0m     \u001b[1;32mreturn\u001b[0m \u001b[0mr\u001b[0m\u001b[1;33m\u001b[0m\u001b[1;33m\u001b[0m\u001b[0m\n",
      "\u001b[1;31mTypeError\u001b[0m: 'float' object cannot be interpreted as an integer"
     ]
    }
   ],
   "source": [
    "puissance(4, 1/2) # ne renvoie pas la valeur de 4^(1/2) = 2 mais lève une erreur"
   ]
  },
  {
   "cell_type": "markdown",
   "metadata": {},
   "source": [
    "On voit sur ces deux tests que la fonction ne permet pas de calculer correctement une puissance si l'exposant est négatif ou si l'exposant n'est pas entier. La chaîne de documentation de la fonction n'était donc pas assez précise.\n",
    "\n",
    "De manière générale, la chaîne de documentation d'une fonction doit contenir sa **spécification**, c'est-à-dire :\n",
    "\n",
    "- son __rôle__\n",
    "- la (les) valeur(s) qu'elle renvoie (= **postcondition**)\n",
    "- les valeurs acceptées des paramètres (= **précondition**)\n",
    "\n",
    "Ainsi, il aurait fallu remplacer\n",
    "\n",
    "```python\n",
    "'''\n",
    "Renvoie la valeur de x^n\n",
    "'''\n",
    "```\n",
    "par\n",
    "\n",
    "```python\n",
    "'''\n",
    "Renvoie la valeur de x^n, où n est un entier positif ou nul\n",
    "'''\n",
    "```\n",
    "pour savoir quelles sont les conditions (sur les paramètres) d'utilisation de la fonction."
   ]
  },
  {
   "cell_type": "markdown",
   "metadata": {},
   "source": [
    "> **À FAIRE :**\n",
    "Exercices 1 et 2"
   ]
  },
  {
   "cell_type": "markdown",
   "metadata": {},
   "source": [
    "# Programmation défensive\n",
    "\n",
    "Si une fonction est bien documentée et qu'elle est correcte, on peut considérer que le travail du programmeur (de la fonction) a été fait correctement. Cependant, rien n'empêche d'utiliser cette fonction avec des paramètres d'entrée ne respectant pas les préconditions définies dans la docstring : mais l'erreur incombe alors à l'utilisateur qui, soit n'a pas lu correctement la documentation, soit a volontairement testé la fonction avec des valeurs non admises.\n",
    "\n",
    "Pour parer à cela, le programmeur a la possibilité d'utiliser la construction `assert` composée d'une condition à tester et d'un message à afficher si la condition est fausse. \n",
    "\n",
    "Par exemple, le test invalide suivant produit l'affichage d'un message d'erreur."
   ]
  },
  {
   "cell_type": "code",
   "execution_count": 12,
   "metadata": {},
   "outputs": [
    {
     "ename": "AssertionError",
     "evalue": "le nombre n'est pas positif",
     "output_type": "error",
     "traceback": [
      "\u001b[1;31m---------------------------------------------------------------------------\u001b[0m",
      "\u001b[1;31mAssertionError\u001b[0m                            Traceback (most recent call last)",
      "\u001b[1;32m<ipython-input-12-df727cdc315f>\u001b[0m in \u001b[0;36m<module>\u001b[1;34m\u001b[0m\n\u001b[0;32m      1\u001b[0m \u001b[1;31m# Cas d'un test invalide\u001b[0m\u001b[1;33m\u001b[0m\u001b[1;33m\u001b[0m\u001b[1;33m\u001b[0m\u001b[0m\n\u001b[0;32m      2\u001b[0m \u001b[0ma\u001b[0m \u001b[1;33m=\u001b[0m \u001b[1;33m-\u001b[0m\u001b[1;36m2\u001b[0m\u001b[1;33m\u001b[0m\u001b[1;33m\u001b[0m\u001b[0m\n\u001b[1;32m----> 3\u001b[1;33m \u001b[1;32massert\u001b[0m \u001b[0ma\u001b[0m \u001b[1;33m>=\u001b[0m \u001b[1;36m0\u001b[0m\u001b[1;33m,\u001b[0m \u001b[1;34m\"le nombre n'est pas positif\"\u001b[0m\u001b[1;33m\u001b[0m\u001b[1;33m\u001b[0m\u001b[0m\n\u001b[0m",
      "\u001b[1;31mAssertionError\u001b[0m: le nombre n'est pas positif"
     ]
    }
   ],
   "source": [
    "# Cas d'un test invalide\n",
    "a = -2\n",
    "assert a >= 0, \"le nombre n'est pas positif\""
   ]
  },
  {
   "cell_type": "markdown",
   "metadata": {},
   "source": [
    "Tandis que le test qui suit ne produit aucun affichage puisque la condition testée est valide."
   ]
  },
  {
   "cell_type": "code",
   "execution_count": 13,
   "metadata": {},
   "outputs": [],
   "source": [
    "# Cas d'un test valide\n",
    "b = 3\n",
    "assert b >= 0, \"le nombre n'est pas positif\""
   ]
  },
  {
   "cell_type": "markdown",
   "metadata": {},
   "source": [
    "On pourrait donc utiliser ce mécanisme d'assertion dans notre fonction `puissance(x, n)` de la façon suivante."
   ]
  },
  {
   "cell_type": "code",
   "execution_count": 14,
   "metadata": {},
   "outputs": [],
   "source": [
    "def puissance(x, n):\n",
    "    '''\n",
    "    Renvoie la valeur de x^n, où n est un entier positif ou nul\n",
    "    '''\n",
    "    assert type(n) == int and n >= 0, \"n n'est pas un entier positif ou nul\"\n",
    "    r = 1\n",
    "    for i in range(n):\n",
    "        r = r * x\n",
    "    return r"
   ]
  },
  {
   "cell_type": "markdown",
   "metadata": {},
   "source": [
    "Avant l'écriture du corps de la fonction, on a ajouté une assertion (ligne 5) qui va au préalable tester si le paramètre `n` est bien un entier et que c'est bien un entier positif. Si ce n'est pas le cas, la fonction est interrompue (à la ligne 5) et le message d'erreur sera affiché."
   ]
  },
  {
   "cell_type": "code",
   "execution_count": 15,
   "metadata": {},
   "outputs": [
    {
     "ename": "AssertionError",
     "evalue": "n n'est pas un entier positif ou nul",
     "output_type": "error",
     "traceback": [
      "\u001b[1;31m---------------------------------------------------------------------------\u001b[0m",
      "\u001b[1;31mAssertionError\u001b[0m                            Traceback (most recent call last)",
      "\u001b[1;32m<ipython-input-15-7153c55a6eb4>\u001b[0m in \u001b[0;36m<module>\u001b[1;34m\u001b[0m\n\u001b[1;32m----> 1\u001b[1;33m \u001b[0mpuissance\u001b[0m\u001b[1;33m(\u001b[0m\u001b[1;36m2\u001b[0m\u001b[1;33m,\u001b[0m \u001b[1;33m-\u001b[0m\u001b[1;36m3\u001b[0m\u001b[1;33m)\u001b[0m\u001b[1;33m\u001b[0m\u001b[1;33m\u001b[0m\u001b[0m\n\u001b[0m",
      "\u001b[1;32m<ipython-input-14-600cf4b80289>\u001b[0m in \u001b[0;36mpuissance\u001b[1;34m(x, n)\u001b[0m\n\u001b[0;32m      3\u001b[0m     \u001b[0mRenvoie\u001b[0m \u001b[0mla\u001b[0m \u001b[0mvaleur\u001b[0m \u001b[0mde\u001b[0m \u001b[0mx\u001b[0m\u001b[1;33m^\u001b[0m\u001b[0mn\u001b[0m\u001b[1;33m,\u001b[0m \u001b[0moù\u001b[0m \u001b[0mn\u001b[0m \u001b[0mest\u001b[0m \u001b[0mun\u001b[0m \u001b[0mentier\u001b[0m \u001b[0mpositif\u001b[0m \u001b[0mou\u001b[0m \u001b[0mnul\u001b[0m\u001b[1;33m\u001b[0m\u001b[1;33m\u001b[0m\u001b[0m\n\u001b[0;32m      4\u001b[0m     '''\n\u001b[1;32m----> 5\u001b[1;33m     \u001b[1;32massert\u001b[0m \u001b[0mtype\u001b[0m\u001b[1;33m(\u001b[0m\u001b[0mn\u001b[0m\u001b[1;33m)\u001b[0m \u001b[1;33m==\u001b[0m \u001b[0mint\u001b[0m \u001b[1;32mand\u001b[0m \u001b[0mn\u001b[0m \u001b[1;33m>=\u001b[0m \u001b[1;36m0\u001b[0m\u001b[1;33m,\u001b[0m \u001b[1;34m\"n n'est pas un entier positif ou nul\"\u001b[0m\u001b[1;33m\u001b[0m\u001b[1;33m\u001b[0m\u001b[0m\n\u001b[0m\u001b[0;32m      6\u001b[0m     \u001b[0mr\u001b[0m \u001b[1;33m=\u001b[0m \u001b[1;36m1\u001b[0m\u001b[1;33m\u001b[0m\u001b[1;33m\u001b[0m\u001b[0m\n\u001b[0;32m      7\u001b[0m     \u001b[1;32mfor\u001b[0m \u001b[0mi\u001b[0m \u001b[1;32min\u001b[0m \u001b[0mrange\u001b[0m\u001b[1;33m(\u001b[0m\u001b[0mn\u001b[0m\u001b[1;33m)\u001b[0m\u001b[1;33m:\u001b[0m\u001b[1;33m\u001b[0m\u001b[1;33m\u001b[0m\u001b[0m\n",
      "\u001b[1;31mAssertionError\u001b[0m: n n'est pas un entier positif ou nul"
     ]
    }
   ],
   "source": [
    "puissance(2, -3)"
   ]
  },
  {
   "cell_type": "markdown",
   "metadata": {},
   "source": [
    "En écrivant cette assertion, le programmeur teste au préalable si les *préconditions sont valides* avant d'exécuter le reste du programme. On parle alors de *programmation défensive*."
   ]
  },
  {
   "cell_type": "markdown",
   "metadata": {},
   "source": [
    "> **Remarque :** il est possible de combiner plusieurs assertions. Par exemple, l'assertion précédente aurait pu être \"séparée\" en les deux assertions suivantes :\n",
    ">```python\n",
    ">assert type(n) == int, \"n n'est pas un entier\"\n",
    ">assert n >= 0, \"n n'est pas positif\"\n",
    ">```"
   ]
  },
  {
   "cell_type": "markdown",
   "metadata": {},
   "source": [
    "> **À FAIRE :** Exercices 3 et 4"
   ]
  },
  {
   "cell_type": "markdown",
   "metadata": {},
   "source": [
    "# Tester ses programmes pour (se) convaincre\n",
    "\n",
    "On peut tout à fait avoir bien spécifié et documenté sa fonction sans que celle-ci ne fonctionne comme prévu. En effet, il n'est pas rare de se tromper dans le code. Pour repérer les éventuelles erreurs, le programmeur peut utiliser sa fonction sur des cas concrets et vérifier que celle-ci renvoie la (ou les) bonne(s) valeur(s). On appelle cela le *test*."
   ]
  },
  {
   "cell_type": "markdown",
   "metadata": {},
   "source": [
    "## Inclusion de tests\n",
    "\n",
    "Plutôt que de faire les tests manuellement un par un, il est possible d'utiliser la construction `assert` directement dans le fichier contenant le programme."
   ]
  },
  {
   "cell_type": "code",
   "execution_count": 16,
   "metadata": {},
   "outputs": [],
   "source": [
    "def puissance(x, n):\n",
    "    '''\n",
    "    Renvoie la valeur de x^n, où n est un entier positif ou nul\n",
    "    '''\n",
    "    r = 1\n",
    "    for i in range(n):\n",
    "        r = r * x\n",
    "    return r\n",
    "\n",
    "assert puissance(2, 3) == 8\n",
    "assert puissance(0, 2) == 0\n",
    "assert puissance(5, 0) == 1\n",
    "assert puissance(-2, 5) == -32\n",
    "assert puissance(0.5, 2) == 0.25"
   ]
  },
  {
   "cell_type": "markdown",
   "metadata": {},
   "source": [
    "Si l'un de ces tests échoue, un message indique le premier échec et la fonction doit être corrigée. Une fois que la correction a été faite, il faut relancer *tous* les tests. En effet, en corrigeant la fonction il est possible d'introduire une autre erreur (et donc qu'un des tests qui passait avec succès, échoue avec la correction apportée)."
   ]
  },
  {
   "cell_type": "markdown",
   "metadata": {},
   "source": [
    "## Ecrire ses tests avant le code de la fonction\n",
    "\n",
    "Une pratique courante consiste à écrire des tests avant même d'écrire le code de la fonction. En effet, si la spécification de la fonction est claire, on sait quel doit être le comportement de celle-ci. Par exemple, supposons que l'on veuille écrire une fonction `indice_max_tab()` dont la spécification, écrite dans sa docstring, est la suivante :\n",
    "\n",
    "```python\n",
    "def indice_maxi_tab(T):\n",
    "    '''\n",
    "    Renvoie l'indice de la première occurence de la valeur \n",
    "    maximale du tableau T. T est supposé non vide.\n",
    "    '''\n",
    "    # CODE A ECRIRE\n",
    "```\n",
    "On connaît son comportement et on peut tout suite écrire les tests suivants."
   ]
  },
  {
   "cell_type": "code",
   "execution_count": null,
   "metadata": {
    "scrolled": true
   },
   "outputs": [],
   "source": [
    "def indice_maxi_tab(T):\n",
    "    '''\n",
    "    Renvoie l'indice de la première occurence de la valeur \n",
    "    maximale du tableau T. T est supposé non vide.\n",
    "    '''\n",
    "    # CODE A ECRIRE\n",
    "\n",
    "assert indice_maxi_tab([4, 3, 2, 1]) == 0\n",
    "assert indice_maxi_tab([4, 5, 3, 2]) == 1\n",
    "assert indice_maxi_tab([1, 2, 3, 6]) == 3\n",
    "assert indice_maxi_tab([3, 2, 5, 2]) == 2"
   ]
  },
  {
   "cell_type": "markdown",
   "metadata": {},
   "source": [
    "Ensuite, on peut écrire le code de la fonction et exécuter le programme. Si l'un des tests échoue on est certain d'avoir fait une erreur et il faut la corriger. Cependant, si tous nos tests *passent*, nous ne sommes pas sûr que notre fonction est bien écrite pour autant."
   ]
  },
  {
   "cell_type": "markdown",
   "metadata": {},
   "source": [
    "## Un bon jeu de test\n",
    "Il est souvent impossible d'écrire de manière exhaustive tous les tests possibles car il y en a bien souvent une infinité. Pour se convaincre que notre fonction est bien écrite, l'enjeu consiste donc à trouver un ensemble de tests qui couvrent les différents comportements du programme.\n",
    "\n",
    "Par exemple, avec le code suivant pour la fonction `indice_maxi_tab()` aucun des tests proposés n'échoue."
   ]
  },
  {
   "cell_type": "code",
   "execution_count": 18,
   "metadata": {},
   "outputs": [],
   "source": [
    "def indice_maxi_tab(T) :\n",
    "    '''\n",
    "    Renvoie l'indice de la première occurence de la valeur \n",
    "    maximale du tableau T. T est supposé non vide.\n",
    "    '''\n",
    "    valeur_max = T[0]\n",
    "    indice = 0\n",
    "    for i in range(len(T)) :\n",
    "         if T[i] > valeur_max :\n",
    "            indice = i\n",
    "    return indice\n",
    "\n",
    "assert indice_maxi_tab([4, 3, 2, 1]) == 0\n",
    "assert indice_maxi_tab([4, 5, 3, 2]) == 1\n",
    "assert indice_maxi_tab([1, 2, 3, 6]) == 3\n",
    "assert indice_maxi_tab([3, 2, 5, 2]) == 2\n",
    "assert indice_maxi_tab([1, 1, 1, 1]) == 0\n",
    "assert indice_maxi_tab([3, 5, 5, -1]) == 2"
   ]
  },
  {
   "cell_type": "markdown",
   "metadata": {},
   "source": [
    "On peut alors penser que notre fonction est correcte, d'autant plus que les tests choisis couvraient toutes les positions possibles du maximum. Cependant, voici un nouveau test qui échoue."
   ]
  },
  {
   "cell_type": "code",
   "execution_count": 19,
   "metadata": {},
   "outputs": [
    {
     "ename": "AssertionError",
     "evalue": "",
     "output_type": "error",
     "traceback": [
      "\u001b[1;31m---------------------------------------------------------------------------\u001b[0m",
      "\u001b[1;31mAssertionError\u001b[0m                            Traceback (most recent call last)",
      "\u001b[1;32m<ipython-input-19-7d7de65c0ad6>\u001b[0m in \u001b[0;36m<module>\u001b[1;34m\u001b[0m\n\u001b[1;32m----> 1\u001b[1;33m \u001b[1;32massert\u001b[0m \u001b[0mindice_maxi_tab\u001b[0m\u001b[1;33m(\u001b[0m\u001b[1;33m[\u001b[0m\u001b[1;36m1\u001b[0m\u001b[1;33m,\u001b[0m \u001b[1;36m5\u001b[0m\u001b[1;33m,\u001b[0m \u001b[1;36m4\u001b[0m\u001b[1;33m,\u001b[0m \u001b[1;36m3\u001b[0m\u001b[1;33m]\u001b[0m\u001b[1;33m)\u001b[0m \u001b[1;33m==\u001b[0m \u001b[1;36m1\u001b[0m\u001b[1;33m\u001b[0m\u001b[1;33m\u001b[0m\u001b[0m\n\u001b[0m",
      "\u001b[1;31mAssertionError\u001b[0m: "
     ]
    }
   ],
   "source": [
    "assert indice_maxi_tab([1, 5, 4, 3]) == 1"
   ]
  },
  {
   "cell_type": "markdown",
   "metadata": {},
   "source": [
    "Ce test met en évidence que notre fonction est incorrecte et montre bien que la qualité du jeu de tests est importante.\n",
    "\n",
    "Il n'est pas simple de définir ce qu'est un **bon \"jeu de tests\"** mais de  manière générale, voici quelques règles que l'on peut appliquer :\n",
    "\n",
    "- si la spécification mentionne plusieurs cas, il faut s'assurer de tous les tester ;\n",
    "- si la fonction renvoie un booléen, il faut s'assurer de tester les deux résultats possibles ;\n",
    "- si la fonction s'applique à un tableau, il faut tester le cas où le tableau est vide ;\n",
    "- si la fonction doit parcourir un tableau en entier, il faut s'assurer que celui-ci est parcouru entièrement ;\n",
    "- si la fonction s'applique à un nombre, il faut s'assurer de tester des cas où le nombre est positif, où le nombre négatif et où le nombre vaut zéro ;\n",
    "- si la fonction s'applique à un nombre appartenant à un intervalle, il faut s'assurer de tester les cas où le nombre est égal aux bornes de l'intervalle."
   ]
  },
  {
   "cell_type": "markdown",
   "metadata": {},
   "source": [
    "> **À FAIRE :** Exercices 5, 6 et 7"
   ]
  },
  {
   "cell_type": "markdown",
   "metadata": {},
   "source": [
    "## Corriger sa fonction : afficher les valeurs de certaines variables\n",
    "\n",
    "Il n'est pas toujours évident de trouver pourquoi notre code ne fonctionne pas. Les tests qui échouent nous donne cependant de précieux éléments sur les erreurs dans le programme. En effet, c'est souvent en partant d'un test qui échoue que l'on trouve les erreurs en suivant l'état des variables. Ceci peut se faire mentalement ou sur papier mais il également possible d'afficher la valeur de certaines variables à des endroits stratégiques du programme. Par exemple, on peut ajouter les instructions suivantes pour afficher l'état des variables à chaque tour de boucle de notre fonction `indice_maxi_tab()`."
   ]
  },
  {
   "cell_type": "code",
   "execution_count": 20,
   "metadata": {},
   "outputs": [],
   "source": [
    "def indice_maxi_tab(T) :\n",
    "    '''\n",
    "    Renvoie l'indice de la première occurence de la valeur \n",
    "    maximale du tableau T. T est supposé non vide.\n",
    "    '''\n",
    "    valeur_max = T[0]\n",
    "    indice = 0\n",
    "    for i in range(len(T)) :\n",
    "        print(\"tour de boucle :\", i)  # on affiche le numéro de chaque tour de boucle\n",
    "        if T[i] > valeur_max :\n",
    "            indice = i\n",
    "            print(\"indice maxi :\", indice)\n",
    "            print(\"valeur maxi :\", valeur_max)             # on affiche l'indice du maximum\n",
    "    return indice"
   ]
  },
  {
   "cell_type": "markdown",
   "metadata": {},
   "source": [
    "On sait que l'instruction `indice_maxi_tab([1, 5, 4, 3])` doit normalement renvoyer la valeur 1 mais que ce n'est pas le cas d'après le dernier test. On peut tester cet appel maintenant que l'on a ajouté l'affichage de certaines variables."
   ]
  },
  {
   "cell_type": "code",
   "execution_count": 21,
   "metadata": {},
   "outputs": [
    {
     "name": "stdout",
     "output_type": "stream",
     "text": [
      "tour de boucle : 0\n",
      "tour de boucle : 1\n",
      "indice maxi : 1\n",
      "valeur maxi : 1\n",
      "tour de boucle : 2\n",
      "indice maxi : 2\n",
      "valeur maxi : 1\n",
      "tour de boucle : 3\n",
      "indice maxi : 3\n",
      "valeur maxi : 1\n"
     ]
    },
    {
     "data": {
      "text/plain": [
       "3"
      ]
     },
     "execution_count": 21,
     "metadata": {},
     "output_type": "execute_result"
    }
   ],
   "source": [
    "indice_maxi_tab([1, 5, 4, 3])"
   ]
  },
  {
   "cell_type": "markdown",
   "metadata": {},
   "source": [
    "On se rend compte que la variable `indice` change de valeur aux 2ème, 3ème et 4ème tour de boucle. Autrement dit, les conditions `T[1] > valeur_max`, `T[2] > valeur_max` et `T[3] > valeur_max`. On comprend alors notre erreur en remarquant que la variable `valeur_max` n'est pas mise à jour et vaut `T[0]` (ici 1) tout au long du programme, ce qui explique que les 3 conditions précédentes sont vraies et que la valeur renvoyée par notre fonction est erronée.\n",
    "\n",
    "On peut alors corriger notre programme en ajoutant une ligne pour mettre à jour la valeur maximale."
   ]
  },
  {
   "cell_type": "code",
   "execution_count": 22,
   "metadata": {},
   "outputs": [],
   "source": [
    "def indice_maxi_tab(T) :\n",
    "    '''\n",
    "    Renvoie l'indice de la première occurence de la valeur \n",
    "    maximale du tableau T. T est supposé non vide.\n",
    "    '''\n",
    "    valeur_max = T[0]\n",
    "    indice = 0\n",
    "    for i in range(len(T)) :\n",
    "        if T[i] > valeur_max :\n",
    "            valeur_max = T[i]   # mise à jour de la valeur maximale\n",
    "            indice = i\n",
    "    return indice"
   ]
  },
  {
   "cell_type": "code",
   "execution_count": 23,
   "metadata": {},
   "outputs": [
    {
     "data": {
      "text/plain": [
       "1"
      ]
     },
     "execution_count": 23,
     "metadata": {},
     "output_type": "execute_result"
    }
   ],
   "source": [
    "indice_maxi_tab([1, 5, 4, 3])"
   ]
  },
  {
   "cell_type": "markdown",
   "metadata": {},
   "source": [
    "Après cette modification, il faudrait normalement encore vérifier que tous les autres tests *passent* avec succès."
   ]
  },
  {
   "cell_type": "markdown",
   "metadata": {},
   "source": [
    "## Intégration des tests à la chaîne de documentation\n",
    "\n",
    "Choisir et vérifier des tests pertinents est un travail précieux, dont il est important de garder une trace. De plus, des tests bien choisis peuvent constituer une explication très efficace de l'effet d'une fonction.\n",
    "\n",
    "Une pratique fréquente est d'inclure une série de tests directement dans la chaîne d'aide d'une fonction."
   ]
  },
  {
   "cell_type": "code",
   "execution_count": 24,
   "metadata": {},
   "outputs": [],
   "source": [
    "def puissance(x, n):\n",
    "    '''\n",
    "    Renvoie la valeur de x^n, où n est un entier positif ou nul\n",
    "    \n",
    "    >>> puissance(2, 3)\n",
    "    8\n",
    "    \n",
    "    >>> puissance(0, 2)\n",
    "    0\n",
    "    \n",
    "    >>> puissance(5, 0)\n",
    "    1\n",
    "    \n",
    "    >>> puissance(-2, 5)\n",
    "    -32\n",
    "    \n",
    "    >>> puissance(0.5, 2)\n",
    "    0.25\n",
    "    \n",
    "    etc.\n",
    "    \n",
    "    '''\n",
    "    r = 1\n",
    "    for i in range(n):\n",
    "        r = r * x\n",
    "    return r"
   ]
  },
  {
   "cell_type": "markdown",
   "metadata": {},
   "source": [
    "Par convention, les tests prennent la forme d'expressions Python précédées de la syntaxe `>>>`, qui représente l'invite de commande de l'interpréteur Python classique. Chaque expression est suivi de l'affichage (éventuellement vide) qui serait provoqué si elle était évaluée dans l'interpréteur."
   ]
  },
  {
   "cell_type": "markdown",
   "metadata": {},
   "source": [
    "## Extraction et vérification automatique de tests : le module *doctest*\n",
    "\n",
    "Un outil prédéfini, accessible par le biais du module `doctest`, permet d'extraire automatiquement et de vérifier chacun des tests présents dans les chaînes de documentation, dans toutes les fonctions d'un module par exemple (par défaut, les tests du module courant sont extraits et vérifiés)."
   ]
  },
  {
   "cell_type": "code",
   "execution_count": 25,
   "metadata": {},
   "outputs": [],
   "source": [
    "import doctest"
   ]
  },
  {
   "cell_type": "code",
   "execution_count": 26,
   "metadata": {},
   "outputs": [
    {
     "data": {
      "text/plain": [
       "TestResults(failed=0, attempted=5)"
      ]
     },
     "execution_count": 26,
     "metadata": {},
     "output_type": "execute_result"
    }
   ],
   "source": [
    "doctest.testmod()"
   ]
  },
  {
   "cell_type": "markdown",
   "metadata": {},
   "source": [
    "Ici, il n'y a qu'une fonction qui contient des tests inclus dans sa chaîne de documentation. On se rend compte que les 5 tests pour la fonction `puissance(x, n)` sont passés avec succès.\n",
    "\n",
    "Il est possible d'ajouter un paramètre optionnel à la fonction `testmod` afin d'obtenir plus d'informations sur les tests effectués, même en cas de succès."
   ]
  },
  {
   "cell_type": "code",
   "execution_count": 27,
   "metadata": {},
   "outputs": [
    {
     "name": "stdout",
     "output_type": "stream",
     "text": [
      "Trying:\n",
      "    puissance(2, 3)\n",
      "Expecting:\n",
      "    8\n",
      "ok\n",
      "Trying:\n",
      "    puissance(0, 2)\n",
      "Expecting:\n",
      "    0\n",
      "ok\n",
      "Trying:\n",
      "    puissance(5, 0)\n",
      "Expecting:\n",
      "    1\n",
      "ok\n",
      "Trying:\n",
      "    puissance(-2, 5)\n",
      "Expecting:\n",
      "    -32\n",
      "ok\n",
      "Trying:\n",
      "    puissance(0.5, 2)\n",
      "Expecting:\n",
      "    0.25\n",
      "ok\n",
      "3 items had no tests:\n",
      "    __main__\n",
      "    __main__.f\n",
      "    __main__.indice_maxi_tab\n",
      "1 items passed all tests:\n",
      "   5 tests in __main__.puissance\n",
      "5 tests in 4 items.\n",
      "5 passed and 0 failed.\n",
      "Test passed.\n"
     ]
    },
    {
     "data": {
      "text/plain": [
       "TestResults(failed=0, attempted=5)"
      ]
     },
     "execution_count": 27,
     "metadata": {},
     "output_type": "execute_result"
    }
   ],
   "source": [
    "doctest.testmod(verbose = True)"
   ]
  },
  {
   "cell_type": "markdown",
   "metadata": {},
   "source": [
    "> **À FAIRE :** Exercices 8, 9 et 10"
   ]
  },
  {
   "cell_type": "markdown",
   "metadata": {},
   "source": [
    "# Conclusion\n",
    "Nous avons vu :\n",
    "- comment *documenter* une fonction en spécifiant son comportement de manière concise et précise dans sa docstring. Cette pratique permet aux autres utilisateurs de comprendre le rôle de la fonction et son domaine d'utilisation (préconditions sur les paramètres) ;\n",
    "- que la construction `assert` était un bon moyen d'effectuer une série de *tests* pour se convaincre que notre programme est correct et, éventuellement, de mettre en évidence des erreurs ;\n",
    "- qu'il est possible de rechercher les erreurs en *affichant les valeurs* de certaines variables à des endroits stratégiques ;\n",
    "- qu'il n'y a pas de méthode systématique pour s'assurer qu'on a pensé à tous les tests importants : il faut donc être particulièrement vigilant pour élaborer un _jeu de tests de qualité_ ; \n",
    "- qu'il existe une syntaxe permettant d'inclure les tests dans la chaîne de documentation et un outil permettant de les extraire et de les vérifier automatiquement.\n",
    "\n",
    "#### Pour aller plus loin\n",
    "\n",
    "- Il existe bien d'autres outils de documentation (pydoc, Sphinx) et de test (pytest, unittest), pour des usages plus complexes.\n",
    "\n",
    "- Il est possible, de manière optionnelle, d'indiquer dans l'en-tête d'une fonction le type de certains paramètres et / ou du résultat. Cela peut être utile par exemple pour alléger la chaîne de documentation. Il existe aussi des outils externes qui permettent de vérifier que ces annotations de types sont vérifiées."
   ]
  },
  {
   "cell_type": "markdown",
   "metadata": {},
   "source": [
    "---\n",
    "\n",
    "**Références :**\n",
    "- Documents ressources du DIU EIL, Université de Nantes, C. DECLERCQ.\n",
    "- Numérique et Sciences Informatiques, 1re, T. BALABONSKI, S. CONCHON, J.-C. FILLIATRE, K. NGUYEN, éditions ELLIPSES : [Site du livre](https://www.nsi-premiere.fr/)\n",
    "- Ressource Eduscol : [Mise au point de programmes testés](https://cache.media.eduscol.education.fr/file/NSI/77/3/RA_Lycee_G_NSI_lang_tests_1170773.pdf)\n",
    "\n",
    "---\n",
    "Germain BECKER & Sébastien POINT, Lycée Mounier, ANGERS ![Licence Creative Commons](https://i.creativecommons.org/l/by-nc-sa/4.0/88x31.png)"
   ]
  }
 ],
 "metadata": {
  "kernelspec": {
   "display_name": "Python 3",
   "language": "python",
   "name": "python3"
  },
  "language_info": {
   "codemirror_mode": {
    "name": "ipython",
    "version": 3
   },
   "file_extension": ".py",
   "mimetype": "text/x-python",
   "name": "python",
   "nbconvert_exporter": "python",
   "pygments_lexer": "ipython3",
   "version": "3.7.10"
  }
 },
 "nbformat": 4,
 "nbformat_minor": 2
}
