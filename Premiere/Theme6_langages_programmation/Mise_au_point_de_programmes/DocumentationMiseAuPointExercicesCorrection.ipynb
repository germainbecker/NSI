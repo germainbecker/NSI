{
 "cells": [
  {
   "cell_type": "markdown",
   "metadata": {},
   "source": [
    "# Documentation et mise au point de programmes - EXERCICES\n",
    "\n",
    "## Documenter son programme\n",
    "\n",
    "### Exercice 1\n",
    "\n",
    "Donnez un meilleur nom et une chaîne de documentation à la fonction suivante."
   ]
  },
  {
   "cell_type": "code",
   "execution_count": 1,
   "metadata": {},
   "outputs": [],
   "source": [
    "def f(a, b):\n",
    "    return a + b"
   ]
  },
  {
   "cell_type": "markdown",
   "metadata": {},
   "source": [
    "**Correction**\n",
    "\n",
    "- Meilleur nom : `somme`\n",
    "- Chaîne de documentation possible :\n",
    "```python\n",
    "''' Renvoie la somme des deux nombres entrés en paramètres '''\n",
    "```"
   ]
  },
  {
   "cell_type": "markdown",
   "metadata": {},
   "source": [
    "### Exercice 2\n",
    "\n",
    "Donnez un meilleur nom et une chaîne de documentation à la fonction suivante, le paramètre `t` étant un tableau."
   ]
  },
  {
   "cell_type": "code",
   "execution_count": 2,
   "metadata": {},
   "outputs": [],
   "source": [
    "def f(t):\n",
    "    s = 0\n",
    "    for i in range(len(t)):\n",
    "        s = s + t[i]\n",
    "    return s / len(t)"
   ]
  },
  {
   "cell_type": "markdown",
   "metadata": {},
   "source": [
    "**Correction**\n",
    "\n",
    "En observant le code de la fonction, on se rend compte qu'à la fin de la boucle `for` la variable `s` contient la somme des éléments de `t`. La valeur renvoyée est donc la somme des éléments de `t` divisé par le nombre d'éléments de `t`.\n",
    "\n",
    "- Meilleur nom : moyenne\n",
    "- Chaîne de documentation possible :\n",
    "```python\n",
    "'''\n",
    "Renvoie la moyenne des éléments du tableau t.\n",
    "t étant un tableau de nombres non vide.\n",
    "'''\n",
    "```\n",
    "\n",
    "Vous noterez la nécessité d'indiquer que le tableau doit être non vide sinon `len(t)` vaut zéro et il y a une division par zéro. Il faut aussi que la variable `s` soit un nombre pour pouvoir faire le calcul `s / len(t)` donc on a précisé que `t` doit contenir des nombres.\n",
    "\n"
   ]
  },
  {
   "cell_type": "markdown",
   "metadata": {},
   "source": [
    "## Programmation défensive\n",
    "\n",
    "### Exercice 3\n",
    "\n",
    "On considère la fonction `indice_maxi_tab(T)` suivante. A l'aide de la construction `assert`, proposez un test vérifiant si la précondition sur le tableau T est validée (*on ne cherchera pas à écrire la fonction*)."
   ]
  },
  {
   "cell_type": "code",
   "execution_count": 3,
   "metadata": {},
   "outputs": [],
   "source": [
    "def indice_maxi_tab(T):\n",
    "    \"\"\"\n",
    "    Renvoie l'indice de la première occurence de la valeur \n",
    "    maximale du tableau T. T est supposé non vide.\n",
    "    \"\"\"\n",
    "    # TEST A ECRIRE ICI"
   ]
  },
  {
   "cell_type": "markdown",
   "metadata": {},
   "source": [
    "**Correction**\n",
    "\n",
    "Il faut vérifier que `T` est non vide donc on peut par exemple vérifier que la longueur de `T` n'est pas nulle avec le test suivant :\n",
    "\n",
    "```python\n",
    "assert len(T) != 0\n",
    "```"
   ]
  },
  {
   "cell_type": "markdown",
   "metadata": {},
   "source": [
    "### Exercice 4\n",
    "\n",
    "On considère la fonction `quotient(a, b)` suivante. A l'aide de la construction `assert`, proposez un test vérifiant si les préconditions sont validées."
   ]
  },
  {
   "cell_type": "code",
   "execution_count": 4,
   "metadata": {},
   "outputs": [],
   "source": [
    "def quotient(a, b):\n",
    "    '''\n",
    "    Renvoie la valeur du quotient de a par b, b étant non nul.\n",
    "    '''\n",
    "    # TEST A ECRIRE ICI"
   ]
  },
  {
   "cell_type": "markdown",
   "metadata": {},
   "source": [
    "**Correction**\n",
    "\n",
    "Il faut vérifier que `b` n'est pas nul. Le test suivant permet de le faire :\n",
    "\n",
    "```python\n",
    "assert b != 0\n",
    "```"
   ]
  },
  {
   "cell_type": "markdown",
   "metadata": {},
   "source": [
    "## Tester ses programmes\n",
    "\n",
    "### Exercice 5\n",
    "\n",
    "1. En utilisant `assert`, donnez un jeu de tests de qualité pour la fonction suivante.\n",
    "2. Faites ensuite passer vos tests à la fonction."
   ]
  },
  {
   "cell_type": "code",
   "execution_count": 1,
   "metadata": {},
   "outputs": [],
   "source": [
    "def multiplication(a, b):\n",
    "    '''\n",
    "    Renvoie le produit de a par b, \n",
    "    où a et b sont deux nombres quelconques.\n",
    "    '''\n",
    "    return a * b"
   ]
  },
  {
   "cell_type": "markdown",
   "metadata": {},
   "source": [
    "**Correction**\n",
    "\n",
    "On peut proposer le jeu de tests suivant en prenant soin de tester les cas particuliers."
   ]
  },
  {
   "cell_type": "code",
   "execution_count": 10,
   "metadata": {},
   "outputs": [],
   "source": [
    "assert multiplication(2, 4) == 8  # test classique\n",
    "assert multiplication(0, 3) == 0  # multiplication par zéro\n",
    "assert multiplication(5, -6) == -30 # produit de nombres de signes contraires\n",
    "assert multiplication(-5, -1) == 5  # produit de deux nombres négatifs"
   ]
  },
  {
   "cell_type": "markdown",
   "metadata": {},
   "source": [
    "Vous remarquerez que l'on n'a pas testé les multiplications de deux nombres réels car il faudait alors comparer deux nombres réels, ce qu'il faut absolument éviter à cause de leur représentation approximative. Par exemple, le test suivant n'est pas validé alors qu'il devrait l'être :"
   ]
  },
  {
   "cell_type": "code",
   "execution_count": 13,
   "metadata": {},
   "outputs": [
    {
     "ename": "AssertionError",
     "evalue": "",
     "output_type": "error",
     "traceback": [
      "\u001b[1;31m---------------------------------------------------------------------------\u001b[0m",
      "\u001b[1;31mAssertionError\u001b[0m                            Traceback (most recent call last)",
      "\u001b[1;32m<ipython-input-13-6925c4341a2c>\u001b[0m in \u001b[0;36m<module>\u001b[1;34m\u001b[0m\n\u001b[1;32m----> 1\u001b[1;33m \u001b[1;32massert\u001b[0m \u001b[0mmultiplication\u001b[0m\u001b[1;33m(\u001b[0m\u001b[1;36m0.1\u001b[0m\u001b[1;33m,\u001b[0m \u001b[1;36m0.2\u001b[0m\u001b[1;33m)\u001b[0m \u001b[1;33m==\u001b[0m \u001b[1;36m0.02\u001b[0m\u001b[1;33m\u001b[0m\u001b[1;33m\u001b[0m\u001b[0m\n\u001b[0m",
      "\u001b[1;31mAssertionError\u001b[0m: "
     ]
    }
   ],
   "source": [
    "assert multiplication(0.1, 0.2) == 0.02"
   ]
  },
  {
   "cell_type": "markdown",
   "metadata": {},
   "source": [
    "### Exercice 6\n",
    "\n",
    "1. En utilisant `assert`, donnez un jeu de tests de qualité pour la fonction suivante.\n",
    "2. Faites ensuite passer vos tests à la fonction."
   ]
  },
  {
   "cell_type": "code",
   "execution_count": 14,
   "metadata": {},
   "outputs": [],
   "source": [
    "def somme(t):\n",
    "    '''\n",
    "    Renvoie la somme des éléments du tableau t, \n",
    "    t étant un tableau de nombres\n",
    "    '''\n",
    "    s = 0\n",
    "    for i in range(len(t)):\n",
    "        s = s + t[i]\n",
    "    return s"
   ]
  },
  {
   "cell_type": "markdown",
   "metadata": {},
   "source": [
    "**Correction**\n",
    "\n",
    "Voici un jeu de tests possible qui couvrent différents cas de figure. Comme à l'exercice précedent les test portent uniquement sur des tableaux d'entiers pour ne pas avoir à comparer deux nombres réels."
   ]
  },
  {
   "cell_type": "code",
   "execution_count": 19,
   "metadata": {},
   "outputs": [],
   "source": [
    "assert somme([1, 2, 3, 4]) == 10  # test classique\n",
    "assert somme([2, -1, 3, 5, -4]) == 5  # avec des nombres négatifs\n",
    "assert somme([1, -1, 2, -2]) == 0  # avec une somme égale à 0\n",
    "assert somme([]) == 0  # NE PAS OUBLIER LE TABLEAU VIDE\n",
    "assert somme([3, 3, 3, 3]) == 12  # avec que des éléments égaux"
   ]
  },
  {
   "cell_type": "markdown",
   "metadata": {},
   "source": [
    "### Exercice 7\n",
    "\n",
    "On cherche à écrire une fonction `est_croissant(t)` qui renvoie `True` si le tableau `t` est trié dans l'ordre croissant et `False` sinon. En utilisant `assert` , donnez un jeu de tests de qualité pour cette fonction (*on ne cherchera pas à écrire le code de la fonction*)."
   ]
  },
  {
   "cell_type": "markdown",
   "metadata": {},
   "source": [
    "**Correction**\n",
    "\n",
    "Voici un jeu de tests qui prend soin de tester les deux cas possibles et le cas du tableau vide (qui est supposé trié par défaut)."
   ]
  },
  {
   "cell_type": "code",
   "execution_count": null,
   "metadata": {},
   "outputs": [],
   "source": [
    "assert est_croissant([2, 3, 7, 10]) == True  # cas d'un tableau croissant\n",
    "assert est_croissant([4, 1, 5, 6]) == False  # cas d'un tableau non croissant\n",
    "assert est_croissant([5, 4, 2]) == False  # cas d'un tableau décroissant\n",
    "assert est_croissant([]) == True  # cas du tableau vide"
   ]
  },
  {
   "cell_type": "markdown",
   "metadata": {},
   "source": [
    "### Exercice 8\n",
    "\n",
    "Un elève propose le code suivant pour la fonction `est_croissant(t)` de l'exercice précédent.\n",
    "\n",
    "1. Faites passer vos tests (de l'exercice prédédent) à cette fonction.\n",
    "2. Trouvez l'erreur en affichant l'état de certaines variables à des points stratégiques.\n",
    "3. Corrigez alors le code de la fonction et vérifiez que tous les tests sont valides."
   ]
  },
  {
   "cell_type": "code",
   "execution_count": 44,
   "metadata": {},
   "outputs": [],
   "source": [
    "def est_croissant(t):\n",
    "    for i in range(len(t)):\n",
    "        if t[i+1] < t[i]:\n",
    "            return False\n",
    "    return True"
   ]
  },
  {
   "cell_type": "markdown",
   "metadata": {},
   "source": [
    "**Correction**\n",
    "\n",
    "1. On fait passer nos tests et constatons effectivement un problème dans le codage de cette fonction."
   ]
  },
  {
   "cell_type": "code",
   "execution_count": 45,
   "metadata": {},
   "outputs": [
    {
     "ename": "IndexError",
     "evalue": "list index out of range",
     "output_type": "error",
     "traceback": [
      "\u001b[1;31m---------------------------------------------------------------------------\u001b[0m",
      "\u001b[1;31mIndexError\u001b[0m                                Traceback (most recent call last)",
      "\u001b[1;32m<ipython-input-45-f2daec54ef88>\u001b[0m in \u001b[0;36m<module>\u001b[1;34m\u001b[0m\n\u001b[1;32m----> 1\u001b[1;33m \u001b[1;32massert\u001b[0m \u001b[0mest_croissant\u001b[0m\u001b[1;33m(\u001b[0m\u001b[1;33m[\u001b[0m\u001b[1;36m2\u001b[0m\u001b[1;33m,\u001b[0m \u001b[1;36m3\u001b[0m\u001b[1;33m,\u001b[0m \u001b[1;36m7\u001b[0m\u001b[1;33m,\u001b[0m \u001b[1;36m10\u001b[0m\u001b[1;33m]\u001b[0m\u001b[1;33m)\u001b[0m \u001b[1;33m==\u001b[0m \u001b[1;32mTrue\u001b[0m  \u001b[1;31m# cas d'un tableau croissant\u001b[0m\u001b[1;33m\u001b[0m\u001b[1;33m\u001b[0m\u001b[0m\n\u001b[0m\u001b[0;32m      2\u001b[0m \u001b[1;32massert\u001b[0m \u001b[0mest_croissant\u001b[0m\u001b[1;33m(\u001b[0m\u001b[1;33m[\u001b[0m\u001b[1;36m4\u001b[0m\u001b[1;33m,\u001b[0m \u001b[1;36m1\u001b[0m\u001b[1;33m,\u001b[0m \u001b[1;36m5\u001b[0m\u001b[1;33m,\u001b[0m \u001b[1;36m6\u001b[0m\u001b[1;33m]\u001b[0m\u001b[1;33m)\u001b[0m \u001b[1;33m==\u001b[0m \u001b[1;32mFalse\u001b[0m  \u001b[1;31m# cas d'un tableau non croissant\u001b[0m\u001b[1;33m\u001b[0m\u001b[1;33m\u001b[0m\u001b[0m\n\u001b[0;32m      3\u001b[0m \u001b[1;32massert\u001b[0m \u001b[0mest_croissant\u001b[0m\u001b[1;33m(\u001b[0m\u001b[1;33m[\u001b[0m\u001b[1;36m5\u001b[0m\u001b[1;33m,\u001b[0m \u001b[1;36m4\u001b[0m\u001b[1;33m,\u001b[0m \u001b[1;36m2\u001b[0m\u001b[1;33m]\u001b[0m\u001b[1;33m)\u001b[0m \u001b[1;33m==\u001b[0m \u001b[1;32mFalse\u001b[0m  \u001b[1;31m# cas d'un tableau décroissant\u001b[0m\u001b[1;33m\u001b[0m\u001b[1;33m\u001b[0m\u001b[0m\n\u001b[0;32m      4\u001b[0m \u001b[1;32massert\u001b[0m \u001b[0mest_croissant\u001b[0m\u001b[1;33m(\u001b[0m\u001b[1;33m[\u001b[0m\u001b[1;36m1\u001b[0m\u001b[1;33m,\u001b[0m \u001b[1;36m1\u001b[0m\u001b[1;33m,\u001b[0m \u001b[1;36m1\u001b[0m\u001b[1;33m,\u001b[0m \u001b[1;36m1\u001b[0m\u001b[1;33m,\u001b[0m \u001b[1;36m1\u001b[0m\u001b[1;33m,\u001b[0m \u001b[1;36m1\u001b[0m\u001b[1;33m]\u001b[0m\u001b[1;33m)\u001b[0m \u001b[1;33m==\u001b[0m \u001b[1;32mTrue\u001b[0m \u001b[1;31m# cas d'un tableau constant (qui est croissant et décroissant à la fois)\u001b[0m\u001b[1;33m\u001b[0m\u001b[1;33m\u001b[0m\u001b[0m\n\u001b[0;32m      5\u001b[0m \u001b[1;32massert\u001b[0m \u001b[0mest_croissant\u001b[0m\u001b[1;33m(\u001b[0m\u001b[1;33m[\u001b[0m\u001b[1;33m]\u001b[0m\u001b[1;33m)\u001b[0m \u001b[1;33m==\u001b[0m \u001b[1;32mTrue\u001b[0m  \u001b[1;31m# cas du tableau vide\u001b[0m\u001b[1;33m\u001b[0m\u001b[1;33m\u001b[0m\u001b[0m\n",
      "\u001b[1;32m<ipython-input-44-26d9767ee8b1>\u001b[0m in \u001b[0;36mest_croissant\u001b[1;34m(t)\u001b[0m\n\u001b[0;32m      1\u001b[0m \u001b[1;32mdef\u001b[0m \u001b[0mest_croissant\u001b[0m\u001b[1;33m(\u001b[0m\u001b[0mt\u001b[0m\u001b[1;33m)\u001b[0m\u001b[1;33m:\u001b[0m\u001b[1;33m\u001b[0m\u001b[1;33m\u001b[0m\u001b[0m\n\u001b[0;32m      2\u001b[0m     \u001b[1;32mfor\u001b[0m \u001b[0mi\u001b[0m \u001b[1;32min\u001b[0m \u001b[0mrange\u001b[0m\u001b[1;33m(\u001b[0m\u001b[0mlen\u001b[0m\u001b[1;33m(\u001b[0m\u001b[0mt\u001b[0m\u001b[1;33m)\u001b[0m\u001b[1;33m)\u001b[0m\u001b[1;33m:\u001b[0m\u001b[1;33m\u001b[0m\u001b[1;33m\u001b[0m\u001b[0m\n\u001b[1;32m----> 3\u001b[1;33m         \u001b[1;32mif\u001b[0m \u001b[0mt\u001b[0m\u001b[1;33m[\u001b[0m\u001b[0mi\u001b[0m\u001b[1;33m+\u001b[0m\u001b[1;36m1\u001b[0m\u001b[1;33m]\u001b[0m \u001b[1;33m<\u001b[0m \u001b[0mt\u001b[0m\u001b[1;33m[\u001b[0m\u001b[0mi\u001b[0m\u001b[1;33m]\u001b[0m\u001b[1;33m:\u001b[0m\u001b[1;33m\u001b[0m\u001b[1;33m\u001b[0m\u001b[0m\n\u001b[0m\u001b[0;32m      4\u001b[0m             \u001b[1;32mreturn\u001b[0m \u001b[1;32mFalse\u001b[0m\u001b[1;33m\u001b[0m\u001b[1;33m\u001b[0m\u001b[0m\n\u001b[0;32m      5\u001b[0m     \u001b[1;32mreturn\u001b[0m \u001b[1;32mTrue\u001b[0m\u001b[1;33m\u001b[0m\u001b[1;33m\u001b[0m\u001b[0m\n",
      "\u001b[1;31mIndexError\u001b[0m: list index out of range"
     ]
    }
   ],
   "source": [
    "assert est_croissant([2, 3, 7, 10]) == True  # cas d'un tableau croissant\n",
    "assert est_croissant([4, 1, 5, 6]) == False  # cas d'un tableau non croissant\n",
    "assert est_croissant([5, 4, 2]) == False  # cas d'un tableau décroissant\n",
    "assert est_croissant([1, 1, 1, 1, 1, 1]) == True # cas d'un tableau constant (qui est croissant et décroissant à la fois)\n",
    "assert est_croissant([]) == True  # cas du tableau vide"
   ]
  },
  {
   "cell_type": "markdown",
   "metadata": {},
   "source": [
    "2. On constate que le premier test n'est pas validé et qu'un erreur est levée : \"list index out of range\". Cela signifie que l'exécution du code conduit à un accès à un élément en dehors du tableau à la ligne 3 de la fonction. Modifions le code de la fonction pour afficher la valeur de la variable `i` à chaque tour de boucle et suivre son état pour tenter de trouver l'erreur."
   ]
  },
  {
   "cell_type": "code",
   "execution_count": 47,
   "metadata": {},
   "outputs": [],
   "source": [
    "def est_croissant(t):\n",
    "    for i in range(len(t)):\n",
    "        print(i)  # AFFICHAGE DE LA VALEUR DE i\n",
    "        if t[i+1] < t[i]:\n",
    "            return False\n",
    "    return True"
   ]
  },
  {
   "cell_type": "markdown",
   "metadata": {},
   "source": [
    "Reprenons le premier tableau de notre jeu de test."
   ]
  },
  {
   "cell_type": "code",
   "execution_count": 48,
   "metadata": {},
   "outputs": [
    {
     "name": "stdout",
     "output_type": "stream",
     "text": [
      "0\n",
      "1\n",
      "2\n",
      "3\n"
     ]
    },
    {
     "ename": "IndexError",
     "evalue": "list index out of range",
     "output_type": "error",
     "traceback": [
      "\u001b[1;31m---------------------------------------------------------------------------\u001b[0m",
      "\u001b[1;31mIndexError\u001b[0m                                Traceback (most recent call last)",
      "\u001b[1;32m<ipython-input-48-884895aa3384>\u001b[0m in \u001b[0;36m<module>\u001b[1;34m\u001b[0m\n\u001b[1;32m----> 1\u001b[1;33m \u001b[0mest_croissant\u001b[0m\u001b[1;33m(\u001b[0m\u001b[1;33m[\u001b[0m\u001b[1;36m2\u001b[0m\u001b[1;33m,\u001b[0m \u001b[1;36m3\u001b[0m\u001b[1;33m,\u001b[0m \u001b[1;36m7\u001b[0m\u001b[1;33m,\u001b[0m \u001b[1;36m10\u001b[0m\u001b[1;33m]\u001b[0m\u001b[1;33m)\u001b[0m\u001b[1;33m\u001b[0m\u001b[1;33m\u001b[0m\u001b[0m\n\u001b[0m",
      "\u001b[1;32m<ipython-input-47-b3e7bc5a4d7b>\u001b[0m in \u001b[0;36mest_croissant\u001b[1;34m(t)\u001b[0m\n\u001b[0;32m      2\u001b[0m     \u001b[1;32mfor\u001b[0m \u001b[0mi\u001b[0m \u001b[1;32min\u001b[0m \u001b[0mrange\u001b[0m\u001b[1;33m(\u001b[0m\u001b[0mlen\u001b[0m\u001b[1;33m(\u001b[0m\u001b[0mt\u001b[0m\u001b[1;33m)\u001b[0m\u001b[1;33m)\u001b[0m\u001b[1;33m:\u001b[0m\u001b[1;33m\u001b[0m\u001b[1;33m\u001b[0m\u001b[0m\n\u001b[0;32m      3\u001b[0m         \u001b[0mprint\u001b[0m\u001b[1;33m(\u001b[0m\u001b[0mi\u001b[0m\u001b[1;33m)\u001b[0m  \u001b[1;31m# AFFICHAGE DE LA VALEUR DE i\u001b[0m\u001b[1;33m\u001b[0m\u001b[1;33m\u001b[0m\u001b[0m\n\u001b[1;32m----> 4\u001b[1;33m         \u001b[1;32mif\u001b[0m \u001b[0mt\u001b[0m\u001b[1;33m[\u001b[0m\u001b[0mi\u001b[0m\u001b[1;33m+\u001b[0m\u001b[1;36m1\u001b[0m\u001b[1;33m]\u001b[0m \u001b[1;33m<\u001b[0m \u001b[0mt\u001b[0m\u001b[1;33m[\u001b[0m\u001b[0mi\u001b[0m\u001b[1;33m]\u001b[0m\u001b[1;33m:\u001b[0m\u001b[1;33m\u001b[0m\u001b[1;33m\u001b[0m\u001b[0m\n\u001b[0m\u001b[0;32m      5\u001b[0m             \u001b[1;32mreturn\u001b[0m \u001b[1;32mFalse\u001b[0m\u001b[1;33m\u001b[0m\u001b[1;33m\u001b[0m\u001b[0m\n\u001b[0;32m      6\u001b[0m     \u001b[1;32mreturn\u001b[0m \u001b[1;32mTrue\u001b[0m\u001b[1;33m\u001b[0m\u001b[1;33m\u001b[0m\u001b[0m\n",
      "\u001b[1;31mIndexError\u001b[0m: list index out of range"
     ]
    }
   ],
   "source": [
    "est_croissant([2, 3, 7, 10])"
   ]
  },
  {
   "cell_type": "markdown",
   "metadata": {},
   "source": [
    "L'affichage indique qu'il y a 4 tours de boucles (puisque `i` vaut successivement). Le problème a lieu au 4ème tour de boucle, lorsque `i` vaut 3. En effet, la condition à tester est alors `t[4] < t[3]` mais `t[4]` n'existe pas, d'où le problème : le dernier élément de notre tableau est `t[3]` et donc la dernière condition devrait être `t[3] < t[2]`. Donc il y a au moins un tour de boucle en trop. En regardant la ligne 2 de la fonction on voit que `range(len(t))` est dans notre cas `range(4)` et va donner les valeurs 0, 1, 2, 3 à `i`. Il faut alors remplacer `len(t)` par `len(t-1)` pour éviter ce tour de boule en trop."
   ]
  },
  {
   "cell_type": "markdown",
   "metadata": {},
   "source": [
    "3. On effecue cette modification et on constate que tous nos tests sont désormais validés. On a pris soin de retirer la ligne `print(i)` qui ne nous servait qu'à trouver le problème."
   ]
  },
  {
   "cell_type": "code",
   "execution_count": 51,
   "metadata": {},
   "outputs": [],
   "source": [
    "def est_croissant(t):\n",
    "    for i in range(len(t)-1):\n",
    "        if t[i+1] < t[i]:\n",
    "            return False\n",
    "    return True"
   ]
  },
  {
   "cell_type": "code",
   "execution_count": 52,
   "metadata": {},
   "outputs": [],
   "source": [
    "assert est_croissant([2, 3, 7, 10]) == True  # cas d'un tableau croissant\n",
    "assert est_croissant([4, 1, 5, 6]) == False  # cas d'un tableau non croissant\n",
    "assert est_croissant([5, 4, 2]) == False  # cas d'un tableau décroissant\n",
    "assert est_croissant([1, 1, 1, 1, 1, 1]) == True # cas d'un tableau constant (qui est croissant et décroissant à la fois)\n",
    "assert est_croissant([]) == True  # cas du tableau vide"
   ]
  },
  {
   "cell_type": "markdown",
   "metadata": {},
   "source": [
    "### Exercice 9\n",
    "\n",
    "Un élève prétend que la fonction suivante teste l'appartenance de la valeur `v` au tableau `t`.\n",
    "\n",
    "1. Donnez des tests pour cette fonction, et en particulier des tests montrant plusieurs raisons pour laquelle cette fonction est incorrecte.\n",
    "2. Vous corrigerez ensuite cette fonction."
   ]
  },
  {
   "cell_type": "code",
   "execution_count": 9,
   "metadata": {},
   "outputs": [],
   "source": [
    "def appartient(v, t):\n",
    "    '''\n",
    "    Renvoie True sur v appartient à t, et False sinon.\n",
    "    '''\n",
    "    for i in range(len(t)):\n",
    "        if t[i] == v:\n",
    "            trouvee = True\n",
    "        else:\n",
    "            trouvee = False\n",
    "    return trouvee"
   ]
  },
  {
   "cell_type": "markdown",
   "metadata": {},
   "source": [
    "### Exercice 10\n",
    "\n",
    "On cherche à écrire une fonction `puissance(x, n)` dont la spécification est donnée dans la chaîne de documentation suivante.\n",
    "\n",
    "1. Intégrez un jeu de tests bien choisi directement dans la chaîne de documentation.\n",
    "2. Proposez ensuite un code pour cette fonction. Vous vérifiez que tous les tests sont valides et corrigerez la fonction si besoin."
   ]
  },
  {
   "cell_type": "code",
   "execution_count": 10,
   "metadata": {},
   "outputs": [],
   "source": [
    "def puissance(x, n):\n",
    "    '''\n",
    "    Renvoie la valeur de x^n, où n est un entier quelconque.\n",
    "    '''"
   ]
  },
  {
   "cell_type": "markdown",
   "metadata": {},
   "source": [
    "**Références :**\n",
    "- Documents ressources du DIU EIL Nantes, C. DECLERCQ.\n",
    "- Numérique et Sciences Informatiques, 1re, T. BALABONSKI, S. CONCHON, J.-C. FILLIATRE, K. NGUYEN, éditions ELLIPSES : [Site du livre](https://www.nsi-premiere.fr/)"
   ]
  },
  {
   "cell_type": "markdown",
   "metadata": {},
   "source": [
    "---\n",
    "Germain BECKER & Sébastien POINT, Lycée Mounier, ANGERS ![Licence Creative Commons](https://i.creativecommons.org/l/by-nc-sa/4.0/88x31.png)"
   ]
  }
 ],
 "metadata": {
  "kernelspec": {
   "display_name": "Python 3",
   "language": "python",
   "name": "python3"
  },
  "language_info": {
   "codemirror_mode": {
    "name": "ipython",
    "version": 3
   },
   "file_extension": ".py",
   "mimetype": "text/x-python",
   "name": "python",
   "nbconvert_exporter": "python",
   "pygments_lexer": "ipython3",
   "version": "3.7.3"
  }
 },
 "nbformat": 4,
 "nbformat_minor": 2
}
