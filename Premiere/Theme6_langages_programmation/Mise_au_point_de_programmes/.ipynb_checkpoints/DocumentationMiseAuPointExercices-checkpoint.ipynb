{
 "cells": [
  {
   "cell_type": "markdown",
   "metadata": {},
   "source": [
    "# Documentation et mise au point de programmes - EXERCICES\n",
    "\n",
    "## Documenter son programme\n",
    "\n",
    "### Exercice 1\n",
    "\n",
    "Donnez un meilleur nom et une chaîne de documentation à la fonction suivante."
   ]
  },
  {
   "cell_type": "code",
   "execution_count": 1,
   "metadata": {},
   "outputs": [],
   "source": [
    "def f(a, b):\n",
    "    return a + b"
   ]
  },
  {
   "cell_type": "markdown",
   "metadata": {},
   "source": [
    "### Exercice 2\n",
    "\n",
    "Donnez un meilleur nom et une chaîne de documentation à la fonction suivante, le paramètre `t` étant un tableau."
   ]
  },
  {
   "cell_type": "code",
   "execution_count": 2,
   "metadata": {},
   "outputs": [],
   "source": [
    "def f(t):\n",
    "    s = 0\n",
    "    for i in range(len(t)):\n",
    "        s = s + t[i]\n",
    "    return s / len(t)"
   ]
  },
  {
   "cell_type": "markdown",
   "metadata": {},
   "source": [
    "## Programmation défensive\n",
    "\n",
    "### Exercice 3\n",
    "\n",
    "On considère la fonction `indice_maxi_tab(T)` suivante. A l'aide de la construction `assert`, proposez un test vérifiant si la précondition sur le tableau T est validée (*on ne cherchera pas à écrire la fonction*)."
   ]
  },
  {
   "cell_type": "code",
   "execution_count": 3,
   "metadata": {},
   "outputs": [],
   "source": [
    "def indice_maxi_tab(T):\n",
    "    \"\"\"\n",
    "    Renvoie l'indice de la première occurence de la valeur \n",
    "    maximale du tableau T. T est supposé non vide.\n",
    "    \"\"\"\n",
    "    # TEST A ECRIRE ICI"
   ]
  },
  {
   "cell_type": "markdown",
   "metadata": {},
   "source": [
    "### Exercice 4\n",
    "\n",
    "On considère la fonction `quotient(a, b)` suivante. A l'aide de la construction `assert`, proposez un test vérifiant si les préconditions sont validées."
   ]
  },
  {
   "cell_type": "code",
   "execution_count": 4,
   "metadata": {},
   "outputs": [],
   "source": [
    "def quotient(a, b):\n",
    "    '''\n",
    "    Renvoie la valeur du quotient de a par b, b étant non nul.\n",
    "    '''\n",
    "    # TEST A ECRIRE ICI"
   ]
  },
  {
   "cell_type": "markdown",
   "metadata": {},
   "source": [
    "## Tester ses programmes\n",
    "\n",
    "### Exercice 5\n",
    "\n",
    "1. En utilisant `assert`, donnez un jeu de tests de qualité pour la fonction suivante.\n",
    "2. Faites ensuite passer vos tests à la fonction."
   ]
  },
  {
   "cell_type": "code",
   "execution_count": 5,
   "metadata": {},
   "outputs": [],
   "source": [
    "def multiplication(a, b):\n",
    "    '''\n",
    "    Renvoie le produit de a par b, \n",
    "    où a et b sont deux nombres quelconques.\n",
    "    '''\n",
    "    return a * b"
   ]
  },
  {
   "cell_type": "markdown",
   "metadata": {},
   "source": [
    "### Exercice 6\n",
    "\n",
    "1. En utilisant `assert`, donnez un jeu de tests de qualité pour la fonction suivante.\n",
    "2. Faites ensuite passer vos tests à la fonction."
   ]
  },
  {
   "cell_type": "code",
   "execution_count": 6,
   "metadata": {},
   "outputs": [],
   "source": [
    "def somme(t):\n",
    "    '''\n",
    "    Renvoie la somme des éléments du tableau t, \n",
    "    t étant un tableau de nombres\n",
    "    '''\n",
    "    s = 0\n",
    "    for i in range(len(t)):\n",
    "        s = s + t[i]\n",
    "    return s"
   ]
  },
  {
   "cell_type": "markdown",
   "metadata": {},
   "source": [
    "### Exercice 7\n",
    "\n",
    "On cherche à écrire une fonction `est_croissant(t)` qui renvoie `True` si le tableau `t` est trié dans l'ordre croissant et `False` sinon. En utilisant `assert` , donnez un jeu de tests de qualité pour cette fonction (*on ne cherchera pas à écrire le code de la fonction*)."
   ]
  },
  {
   "cell_type": "markdown",
   "metadata": {},
   "source": [
    "### Exercice 8\n",
    "\n",
    "Un elève propose le code suivant pour la fonction `est_croissant(t)` de l'exercice précédent.\n",
    "\n",
    "1. Faites passer vos tests (de l'exercice prédédent) à cette fonction.\n",
    "2. Trouvez l'erreur en affichant l'état de certaines variables à des points stratégiques.\n",
    "3. Corrigez alors le code de la fonction et vérifiez que tous les tests sont valides."
   ]
  },
  {
   "cell_type": "code",
   "execution_count": 7,
   "metadata": {},
   "outputs": [],
   "source": [
    "def est_croissant(t):\n",
    "    for i in range(len(t)):\n",
    "        if t[i+1] > t[i]:\n",
    "            return False\n",
    "    return True"
   ]
  },
  {
   "cell_type": "markdown",
   "metadata": {},
   "source": [
    "### Exercice 9\n",
    "\n",
    "Un élève prétend que la fonction suivante teste l'appartenance de la valeur `v` au tableau `t`.\n",
    "\n",
    "1. Donnez des tests pour cette fonction, et en particulier des tests montrant plusieurs raisons pour laquelle cette fonction est incorrecte.\n",
    "2. Vous corrigerez ensuite cette fonction."
   ]
  },
  {
   "cell_type": "code",
   "execution_count": 9,
   "metadata": {},
   "outputs": [],
   "source": [
    "def appartient(v, t):\n",
    "    '''\n",
    "    Renvoie True sur v appartient à t, et False sinon.\n",
    "    '''\n",
    "    for i in range(len(t)):\n",
    "        if t[i] == v:\n",
    "            trouvee = True\n",
    "        else:\n",
    "            trouvee = False\n",
    "    return trouvee"
   ]
  },
  {
   "cell_type": "markdown",
   "metadata": {},
   "source": [
    "### Exercice 10\n",
    "\n",
    "On cherche à écrire une fonction `puissance(x, n)` dont la spécification est donnée dans la chaîne de documentation suivante.\n",
    "\n",
    "1. Intégrez un jeu de tests bien choisi directement dans la chaîne de documentation.\n",
    "2. Proposez ensuite un code pour cette fonction. Vous vérifiez que tous les tests sont valides et corrigerez la fonction si besoin."
   ]
  },
  {
   "cell_type": "code",
   "execution_count": 10,
   "metadata": {},
   "outputs": [],
   "source": [
    "def puissance(x, n):\n",
    "    '''\n",
    "    Renvoie la valeur de x^n, où n est un entier quelconque.\n",
    "    '''"
   ]
  },
  {
   "cell_type": "markdown",
   "metadata": {},
   "source": [
    "**Références :**\n",
    "- Documents ressources du DIU EIL Nantes, C. DECLERCQ.\n",
    "- Numérique et Sciences Informatiques, 1re, T. BALABONSKI, S. CONCHON, J.-C. FILLIATRE, K. NGUYEN, éditions ELLIPSES : [Site du livre](https://www.nsi-premiere.fr/)"
   ]
  },
  {
   "cell_type": "markdown",
   "metadata": {},
   "source": [
    "---\n",
    "Germain BECKER & Sébastien POINT, Lycée Mounier, ANGERS ![Licence Creative Commons](https://i.creativecommons.org/l/by-nc-sa/4.0/88x31.png)"
   ]
  }
 ],
 "metadata": {
  "kernelspec": {
   "display_name": "Python 3",
   "language": "python",
   "name": "python3"
  },
  "language_info": {
   "codemirror_mode": {
    "name": "ipython",
    "version": 3
   },
   "file_extension": ".py",
   "mimetype": "text/x-python",
   "name": "python",
   "nbconvert_exporter": "python",
   "pygments_lexer": "ipython3",
   "version": "3.7.3"
  }
 },
 "nbformat": 4,
 "nbformat_minor": 2
}
